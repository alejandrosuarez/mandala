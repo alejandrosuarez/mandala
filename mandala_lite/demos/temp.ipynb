{
 "cells": [
  {
   "cell_type": "code",
   "execution_count": 3,
   "metadata": {},
   "outputs": [
    {
     "ename": "TypeError",
     "evalue": "'float' object cannot be interpreted as an integer",
     "output_type": "error",
     "traceback": [
      "\u001b[0;31m---------------------------------------------------------------------------\u001b[0m",
      "\u001b[0;31mTypeError\u001b[0m                                 Traceback (most recent call last)",
      "\u001b[1;32m/home/amakelov/workspace/current/code/projects/mandala_lite/mandala_lite/demos/temp.ipynb Cell 1\u001b[0m in \u001b[0;36m<cell line: 8>\u001b[0;34m()\u001b[0m\n\u001b[1;32m      <a href='vscode-notebook-cell:/home/amakelov/workspace/current/code/projects/mandala_lite/mandala_lite/demos/temp.ipynb#W3sZmlsZQ%3D%3D?line=4'>5</a>\u001b[0m \u001b[39m# Solve an equation using sympy\u001b[39;00m\n\u001b[1;32m      <a href='vscode-notebook-cell:/home/amakelov/workspace/current/code/projects/mandala_lite/mandala_lite/demos/temp.ipynb#W3sZmlsZQ%3D%3D?line=5'>6</a>\u001b[0m x \u001b[39m=\u001b[39m sympy\u001b[39m.\u001b[39mSymbol(\u001b[39m'\u001b[39m\u001b[39mx\u001b[39m\u001b[39m'\u001b[39m)\n\u001b[0;32m----> <a href='vscode-notebook-cell:/home/amakelov/workspace/current/code/projects/mandala_lite/mandala_lite/demos/temp.ipynb#W3sZmlsZQ%3D%3D?line=7'>8</a>\u001b[0m \u001b[39mfor\u001b[39;00m a \u001b[39min\u001b[39;00m tqdm\u001b[39m.\u001b[39mtqdm(\u001b[39mrange\u001b[39;49m(\u001b[39m-\u001b[39;49m\u001b[39m10\u001b[39;49m, \u001b[39m10\u001b[39;49m, \u001b[39m0.5\u001b[39;49m)):\n\u001b[1;32m      <a href='vscode-notebook-cell:/home/amakelov/workspace/current/code/projects/mandala_lite/mandala_lite/demos/temp.ipynb#W3sZmlsZQ%3D%3D?line=8'>9</a>\u001b[0m     lhs_sq \u001b[39m=\u001b[39m \u001b[39m2\u001b[39m\u001b[39m*\u001b[39mx\u001b[39m*\u001b[39m\u001b[39m*\u001b[39m\u001b[39m2\u001b[39m \u001b[39m-\u001b[39m \u001b[39m4\u001b[39m\u001b[39m*\u001b[39m(a\u001b[39m-\u001b[39m\u001b[39m2\u001b[39m)\u001b[39m*\u001b[39mx \u001b[39m+\u001b[39m \u001b[39m8\u001b[39m \u001b[39m+\u001b[39m \u001b[39m2\u001b[39m\u001b[39m*\u001b[39ma\n\u001b[1;32m     <a href='vscode-notebook-cell:/home/amakelov/workspace/current/code/projects/mandala_lite/mandala_lite/demos/temp.ipynb#W3sZmlsZQ%3D%3D?line=9'>10</a>\u001b[0m     rhs_sq \u001b[39m=\u001b[39m x\u001b[39m*\u001b[39m\u001b[39m*\u001b[39m\u001b[39m2\u001b[39m \u001b[39m-\u001b[39m \u001b[39m2\u001b[39m\u001b[39m*\u001b[39ma\u001b[39m*\u001b[39mx \u001b[39m+\u001b[39m a\n",
      "\u001b[0;31mTypeError\u001b[0m: 'float' object cannot be interpreted as an integer"
     ]
    }
   ],
   "source": [
    "import numpy as np\n",
    "import sympy\n",
    "import tqdm\n",
    "\n",
    "# Solve an equation using sympy\n",
    "x = sympy.Symbol(\"x\")\n",
    "\n",
    "for a in tqdm.tqdm(np.arange(-10, 10, 0.1)):\n",
    "    lhs_sq = 2 * x**2 - 4 * (a - 2) * x + 8 + 2 * a\n",
    "    rhs_sq = x**2 - 2 * a * x + a\n",
    "    lhs = sympy.sqrt(lhs_sq)\n",
    "    rhs = sympy.sqrt(rhs_sq)\n",
    "    solutions = sympy.solve(lhs - rhs, x)\n",
    "    success = True\n",
    "    if len(set(solutions)) != 1:\n",
    "        success = False\n",
    "    for s in solutions:\n",
    "        lhs_sq_val = lhs_sq.subs(x, s).evalf()\n",
    "        rhs_sq_val = rhs_sq.subs(x, s).evalf()\n",
    "        # check that these numbers are real\n",
    "        if not (lhs_sq_val.is_real and rhs_sq_val.is_real):\n",
    "            success = False\n",
    "            continue\n",
    "        if any([lhs_sq_val < 0, rhs_sq_val < 0]):\n",
    "            success = False\n",
    "    if success:\n",
    "        print(a, solutions)"
   ]
  },
  {
   "cell_type": "code",
   "execution_count": null,
   "metadata": {},
   "outputs": [],
   "source": []
  }
 ],
 "metadata": {
  "kernelspec": {
   "display_name": "Python 3.10.4",
   "language": "python",
   "name": "python3"
  },
  "language_info": {
   "codemirror_mode": {
    "name": "ipython",
    "version": 3
   },
   "file_extension": ".py",
   "mimetype": "text/x-python",
   "name": "python",
   "nbconvert_exporter": "python",
   "pygments_lexer": "ipython3",
   "version": "3.10.4"
  },
  "orig_nbformat": 4,
  "vscode": {
   "interpreter": {
    "hash": "e39bb3b1f45b78879464f3858f3ac405da62799496d9b7e0a39caf0b676c9a45"
   }
  }
 },
 "nbformat": 4,
 "nbformat_minor": 2
}
