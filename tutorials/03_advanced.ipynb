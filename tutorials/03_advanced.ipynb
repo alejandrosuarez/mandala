{
 "cells": [
  {
   "cell_type": "code",
   "execution_count": null,
   "metadata": {},
   "outputs": [],
   "source": [
    "try:\n",
    "    import google.colab\n",
    "    IN_COLAB = True\n",
    "except:\n",
    "    IN_COLAB = False\n",
    "\n",
    "if IN_COLAB:\n",
    "    # run this cell ONLY if you are running this in Google Colab\n",
    "    !pip install git+https://github.com/amakelov/mandala\n",
    "    !pip install scikit-learn"
   ]
  },
  {
   "cell_type": "code",
   "execution_count": null,
   "metadata": {},
   "outputs": [],
   "source": [
    "from mandala.imports import *\n",
    "from typing import List, Tuple\n",
    "from sklearn.tree import DecisionTreeClassifier\n",
    "from sklearn.metrics import accuracy_score\n",
    "from sklearn.datasets import make_classification, load_digits\n",
    "from pathlib import Path\n",
    "import numpy as np\n",
    "from numpy import ndarray\n",
    "Config.enable_ref_magics = True\n",
    "Config.warnings = False\n",
    "\n",
    "OUTPUT_ROOT = Path().absolute() / \"03_advanced.db\"\n",
    "OUTPUT_ROOT.unlink(missing_ok=True)\n",
    "\n",
    "# storage = Storage() # use this for an in-memory storage without dependency tracking\n",
    "# storage = Storage(db_path=OUTPUT_ROOT) # use this for a persistent storage without dependency tracking\n",
    "storage = Storage(db_path=OUTPUT_ROOT, deps_path='__main__')"
   ]
  },
  {
   "cell_type": "code",
   "execution_count": null,
   "metadata": {},
   "outputs": [],
   "source": [
    "@op\n",
    "def generate_data() -> Tuple[ndarray, ndarray]:\n",
    "    return load_digits(n_class=2, return_X_y=True)\n",
    "\n",
    "@op\n",
    "def train_and_eval_tree(X, y, seed,\n",
    "                        max_depth=1) -> Tuple[DecisionTreeClassifier, float]:\n",
    "    tree = DecisionTreeClassifier(random_state=seed, \n",
    "                                  max_depth=max_depth,\n",
    "                                  max_features=1).fit(X, y)\n",
    "    return tree, round(accuracy_score(y_true=y, y_pred=tree.predict(X)), 2)\n",
    "    \n",
    "@op\n",
    "def eval_forest(trees:List[DecisionTreeClassifier], X, y) -> float:\n",
    "    majority_vote = np.array([tree.predict(X) for tree in trees]).mean(axis=0) >= 0.5\n",
    "    return round(accuracy_score(y_true=y, y_pred=majority_vote), 2)\n"
   ]
  },
  {
   "cell_type": "code",
   "execution_count": null,
   "metadata": {},
   "outputs": [],
   "source": [
    "with storage.run(): # memoization context manager\n",
    "    X, y = generate_data()\n",
    "    trees = []\n",
    "    for seed in range(10): # can't grow trees without seeds\n",
    "        tree, acc = train_and_eval_tree(X, y, seed=seed)\n",
    "        trees.append(tree)\n",
    "    forest_acc = eval_forest(trees, X, y)\n",
    "    print(forest_acc)"
   ]
  },
  {
   "cell_type": "code",
   "execution_count": null,
   "metadata": {},
   "outputs": [],
   "source": [
    "with storage.run(): \n",
    "    X, y = generate_data()\n",
    "    for n_trees in (5, 10, 15):\n",
    "        trees = []\n",
    "        for seed in range(n_trees): \n",
    "            tree, acc = train_and_eval_tree(X, y, seed=seed)\n",
    "            trees.append(tree)\n",
    "        forest_acc = eval_forest(trees, X, y)\n",
    "        print(forest_acc)"
   ]
  },
  {
   "cell_type": "code",
   "execution_count": null,
   "metadata": {},
   "outputs": [],
   "source": [
    "with storage.run(): \n",
    "    X, y = generate_data()\n",
    "    for n_trees in (5, 10, 15):\n",
    "        trees = []\n",
    "        for seed in range(n_trees): \n",
    "            tree, acc = train_and_eval_tree(X, y, seed=seed)\n",
    "            if acc > 0.8:\n",
    "                trees.append(tree)\n",
    "        forest_acc = eval_forest(trees, X, y)\n",
    "        print(forest_acc)"
   ]
  },
  {
   "cell_type": "code",
   "execution_count": null,
   "metadata": {},
   "outputs": [],
   "source": [
    "@superop\n",
    "def train_forest(X, y, n_trees) -> List[DecisionTreeClassifier]:\n",
    "    trees = []\n",
    "    for i in range(n_trees):\n",
    "        tree, acc = train_and_eval_tree(X, y, seed=i) \n",
    "        if acc > 0.8:\n",
    "            trees.append(tree)\n",
    "    return trees"
   ]
  },
  {
   "cell_type": "code",
   "execution_count": null,
   "metadata": {},
   "outputs": [],
   "source": [
    "with storage.run(): \n",
    "    X, y = generate_data()\n",
    "    for n_trees in (5, 10, 15):\n",
    "        trees = train_forest(X, y, n_trees)\n",
    "        forest_acc = eval_forest(trees, X, y)\n",
    "        print(forest_acc)"
   ]
  },
  {
   "cell_type": "code",
   "execution_count": null,
   "metadata": {},
   "outputs": [],
   "source": [
    "with storage.run(): \n",
    "    X, y = generate_data()\n",
    "    for n_trees in (5, 10, 15, 20):\n",
    "        trees = train_forest(X, y, n_trees)\n",
    "        forest_acc = eval_forest(trees, X, y)\n",
    "        print(forest_acc)"
   ]
  },
  {
   "cell_type": "code",
   "execution_count": null,
   "metadata": {},
   "outputs": [],
   "source": [
    "with storage.run(): \n",
    "    X, y = generate_data()\n",
    "    for n_trees in (5, 10, ):\n",
    "        trees = train_forest(X, y, n_trees)\n",
    "        forest_acc = eval_forest(trees, X, y)"
   ]
  },
  {
   "cell_type": "code",
   "execution_count": null,
   "metadata": {},
   "outputs": [],
   "source": [
    "storage.similar(forest_acc, context=True)"
   ]
  },
  {
   "cell_type": "code",
   "execution_count": null,
   "metadata": {},
   "outputs": [],
   "source": [
    "with storage.run(): \n",
    "    X, y = generate_data()\n",
    "    for n_trees in (10, 15, 20,):\n",
    "        trees = train_forest(X, y, n_trees)\n",
    "        forest_acc = eval_forest(trees[:n_trees//2], X, y)"
   ]
  },
  {
   "cell_type": "code",
   "execution_count": null,
   "metadata": {},
   "outputs": [],
   "source": [
    "storage.draw_graph(forest_acc)"
   ]
  },
  {
   "cell_type": "code",
   "execution_count": null,
   "metadata": {},
   "outputs": [],
   "source": [
    "storage.draw_graph(forest_acc, project=True)"
   ]
  },
  {
   "cell_type": "code",
   "execution_count": null,
   "metadata": {},
   "outputs": [],
   "source": [
    "storage.print_graph(forest_acc, project=True)"
   ]
  },
  {
   "cell_type": "code",
   "execution_count": null,
   "metadata": {},
   "outputs": [],
   "source": [
    "with storage.query():\n",
    "    idx = Q() # index into list\n",
    "    X, y = generate_data()\n",
    "    n_trees = Q() # input to computation; can match anything\n",
    "    trees = train_forest(X=X, y=y, n_trees=n_trees)\n",
    "    a0 = trees[idx] # a0 will match any element of a match for trees at index matching idx1\n",
    "    a1 = ListQ(elts=[a0], idxs=[idx]) # a1 will match any list containing a match for a0 at index idx0\n",
    "    forest_acc = eval_forest(trees=a1, X=X, y=y)\n",
    "storage.df(n_trees, forest_acc)"
   ]
  },
  {
   "cell_type": "code",
   "execution_count": null,
   "metadata": {},
   "outputs": [],
   "source": [
    "@superop\n",
    "def train_forest(X, y, n_trees, threshold = 0.8) -> List[DecisionTreeClassifier]:\n",
    "    trees = []\n",
    "    for i in range(n_trees):\n",
    "        tree, acc = train_and_eval_tree(X, y, seed=i) \n",
    "        if acc > threshold:\n",
    "            trees.append(tree)\n",
    "    return trees"
   ]
  },
  {
   "cell_type": "code",
   "execution_count": null,
   "metadata": {},
   "outputs": [],
   "source": [
    "with storage.run(): \n",
    "    X, y = generate_data()\n",
    "    for n_trees in (5, 10, 15, 20):\n",
    "        trees = train_forest(X, y, n_trees)\n",
    "        forest_acc = eval_forest(trees, X, y)\n",
    "        print(forest_acc)"
   ]
  },
  {
   "cell_type": "code",
   "execution_count": null,
   "metadata": {},
   "outputs": [],
   "source": [
    "with storage.run(): \n",
    "    X, y = generate_data()\n",
    "    for n_trees in (5, 10, 15, 20):\n",
    "        trees = train_forest(X, y, n_trees, threshold=0.5)\n",
    "        forest_acc = eval_forest(trees, X, y)\n",
    "        print(forest_acc)"
   ]
  },
  {
   "cell_type": "code",
   "execution_count": null,
   "metadata": {},
   "outputs": [],
   "source": [
    "# notice we changed `max_features` to 2\n",
    "@op\n",
    "def train_and_eval_tree(X, y, seed,\n",
    "                        max_depth=1) -> Tuple[DecisionTreeClassifier, float]:\n",
    "    tree = DecisionTreeClassifier(random_state=seed, \n",
    "                                  max_depth=max_depth,\n",
    "                                  max_features=2).fit(X, y)\n",
    "    return tree, round(accuracy_score(y_true=y, y_pred=tree.predict(X)), 2)\n",
    "    "
   ]
  },
  {
   "cell_type": "code",
   "execution_count": null,
   "metadata": {},
   "outputs": [],
   "source": [
    "with storage.run(): \n",
    "    X, y = generate_data()\n",
    "    for n_trees in (10, 15, 20):\n",
    "        trees = train_forest(X, y, n_trees, threshold=0.5)\n",
    "        forest_acc = eval_forest(trees, X, y)\n",
    "        print(forest_acc)"
   ]
  },
  {
   "cell_type": "code",
   "execution_count": null,
   "metadata": {},
   "outputs": [],
   "source": [
    "# now we change it back to 1 - the old memoized calls are used!\n",
    "@op\n",
    "def train_and_eval_tree(X, y, seed,\n",
    "                        max_depth=1) -> Tuple[DecisionTreeClassifier, float]:\n",
    "    tree = DecisionTreeClassifier(random_state=seed, \n",
    "                                  max_depth=max_depth,\n",
    "                                  max_features=1).fit(X, y)\n",
    "    return tree, round(accuracy_score(y_true=y, y_pred=tree.predict(X)), 2)\n",
    "\n",
    "\n",
    "with storage.run(): \n",
    "    X, y = generate_data()\n",
    "    for n_trees in (10, 15, 20):\n",
    "        trees = train_forest(X, y, n_trees, threshold=0.5)\n",
    "        forest_acc = eval_forest(trees, X, y)\n",
    "        print(forest_acc)"
   ]
  },
  {
   "cell_type": "code",
   "execution_count": null,
   "metadata": {},
   "outputs": [],
   "source": [
    "# look at the versions of a single dependency\n",
    "storage.sources(train_and_eval_tree)"
   ]
  }
 ],
 "metadata": {
  "kernelspec": {
   "display_name": "Python 3.10.6",
   "language": "python",
   "name": "python3"
  },
  "language_info": {
   "codemirror_mode": {
    "name": "ipython",
    "version": 3
   },
   "file_extension": ".py",
   "mimetype": "text/x-python",
   "name": "python",
   "nbconvert_exporter": "python",
   "pygments_lexer": "ipython3",
   "version": "3.10.6"
  },
  "vscode": {
   "interpreter": {
    "hash": "e39bb3b1f45b78879464f3858f3ac405da62799496d9b7e0a39caf0b676c9a45"
   }
  }
 },
 "nbformat": 4,
 "nbformat_minor": 2
}
