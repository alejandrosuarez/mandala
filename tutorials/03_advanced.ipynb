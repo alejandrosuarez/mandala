{
 "cells": [
  {
   "cell_type": "code",
   "execution_count": null,
   "metadata": {},
   "outputs": [],
   "source": [
    "# if you are running this notebook on Google Colab, uncomment the following lines\n",
    "# !pip install git+https://github.com/amakelov/mandala\n",
    "# !pip install scikit-learn"
   ]
  },
  {
   "cell_type": "code",
   "execution_count": null,
   "metadata": {},
   "outputs": [],
   "source": [
    "from mandala.imports import *\n",
    "from typing import List, Tuple\n",
    "from sklearn.tree import DecisionTreeClassifier\n",
    "from sklearn.metrics import accuracy_score\n",
    "from sklearn.datasets import make_classification, load_digits\n",
    "from pathlib import Path\n",
    "import numpy as np\n",
    "from numpy import ndarray\n",
    "Config.enable_ref_magics = True\n",
    "Config.warnings = False\n",
    "\n",
    "OUTPUT_ROOT = Path().absolute() / \"03_advanced.db\"\n",
    "OUTPUT_ROOT.unlink(missing_ok=True)\n",
    "\n",
    "# storage = Storage()\n",
    "# storage = Storage(db_path=OUTPUT_ROOT)\n",
    "storage = Storage(db_path=OUTPUT_ROOT, deps_root=Path().absolute())"
   ]
  },
  {
   "cell_type": "code",
   "execution_count": null,
   "metadata": {},
   "outputs": [],
   "source": [
    "@op\n",
    "def generate_data() -> Tuple[ndarray, ndarray]:\n",
    "    return load_digits(n_class=2, return_X_y=True)\n",
    "\n",
    "@op\n",
    "def train_and_eval_tree(X, y, seed,\n",
    "                        max_depth=1) -> Tuple[DecisionTreeClassifier, float]:\n",
    "    tree = DecisionTreeClassifier(random_state=seed, \n",
    "                                  max_depth=max_depth,\n",
    "                                  max_features=1).fit(X, y)\n",
    "    return tree, round(accuracy_score(y_true=y, y_pred=tree.predict(X)), 2)\n",
    "    \n",
    "@op\n",
    "def eval_forest(trees:List[DecisionTreeClassifier], X, y) -> float:\n",
    "    majority_vote = np.array([tree.predict(X) for tree in trees]).mean(axis=0) >= 0.5\n",
    "    return round(accuracy_score(y_true=y, y_pred=majority_vote), 2)\n"
   ]
  },
  {
   "cell_type": "code",
   "execution_count": null,
   "metadata": {},
   "outputs": [],
   "source": [
    "with storage.run(): # memoization context manager\n",
    "    X, y = generate_data()\n",
    "    trees = []\n",
    "    for seed in range(10): # can't grow trees without seeds\n",
    "        tree, acc = train_and_eval_tree(X, y, seed=seed)\n",
    "        trees.append(tree)\n",
    "    forest_acc = eval_forest(trees, X, y)\n",
    "    print(forest_acc)\n"
   ]
  },
  {
   "cell_type": "code",
   "execution_count": null,
   "metadata": {},
   "outputs": [],
   "source": [
    "with storage.run(): \n",
    "    X, y = generate_data()\n",
    "    for n_trees in (5, 10, 15):\n",
    "        trees = []\n",
    "        for seed in range(n_trees): \n",
    "            tree, acc = train_and_eval_tree(X, y, seed=seed)\n",
    "            trees.append(tree)\n",
    "        forest_acc = eval_forest(trees, X, y)\n",
    "        print(forest_acc)"
   ]
  },
  {
   "cell_type": "code",
   "execution_count": null,
   "metadata": {},
   "outputs": [],
   "source": [
    "with storage.run(): \n",
    "    X, y = generate_data()\n",
    "    for n_trees in (5, 10, 15):\n",
    "        trees = []\n",
    "        for seed in range(n_trees): \n",
    "            tree, acc = train_and_eval_tree(X, y, seed=seed)\n",
    "            if acc > 0.8:\n",
    "                trees.append(tree)\n",
    "        forest_acc = eval_forest(trees, X, y)\n",
    "        print(forest_acc)"
   ]
  },
  {
   "cell_type": "code",
   "execution_count": null,
   "metadata": {},
   "outputs": [],
   "source": [
    "@superop\n",
    "def train_forest(X, y, n_trees) -> List[DecisionTreeClassifier]:\n",
    "    trees = []\n",
    "    for i in range(n_trees):\n",
    "        tree, acc = train_and_eval_tree(X, y, seed=i) \n",
    "        if acc > 0.8:\n",
    "            trees.append(tree)\n",
    "    return trees"
   ]
  },
  {
   "cell_type": "code",
   "execution_count": null,
   "metadata": {},
   "outputs": [],
   "source": [
    "with storage.run(): \n",
    "    X, y = generate_data()\n",
    "    for n_trees in (5, 10, 15):\n",
    "        trees = train_forest(X, y, n_trees)\n",
    "        forest_acc = eval_forest(trees, X, y)\n",
    "        print(forest_acc)"
   ]
  },
  {
   "cell_type": "code",
   "execution_count": null,
   "metadata": {},
   "outputs": [],
   "source": [
    "with storage.run(): \n",
    "    X, y = generate_data()\n",
    "    for n_trees in (5, 10, 15, 20):\n",
    "        trees = train_forest(X, y, n_trees)\n",
    "        forest_acc = eval_forest(trees, X, y)\n",
    "        print(forest_acc)"
   ]
  },
  {
   "cell_type": "code",
   "execution_count": null,
   "metadata": {},
   "outputs": [],
   "source": [
    "with storage.query() as q: # context manager for declarative queries\n",
    "    n_trees = Q() # a wildcard query variable\n",
    "    X, y = generate_data() # copy-paste computational code\n",
    "    trees = train_forest(X, y, n_trees)\n",
    "    forest_acc = eval_forest(trees, X, y)\n",
    "    df = q.get_table(n_trees.named('n_trees'),\n",
    "                     forest_acc.named('forest_acc'))\n",
    "df"
   ]
  },
  {
   "cell_type": "code",
   "execution_count": null,
   "metadata": {},
   "outputs": [],
   "source": [
    "with storage.run():\n",
    "    X, y = generate_data()\n",
    "    tree, acc = train_and_eval_tree(X, y, seed=2)\n",
    "    with storage.query() as q: # contexts can be nested\n",
    "        trees = Q([tree, ...]) # matches a list containing `tree`\n",
    "        forest_acc = eval_forest(trees, X, y)\n",
    "        df = q.get_table(trees.named('trees'), \n",
    "                         forest_acc.named('forest_acc'))\n",
    "df"
   ]
  },
  {
   "cell_type": "code",
   "execution_count": null,
   "metadata": {},
   "outputs": [],
   "source": [
    "@op\n",
    "def train_and_eval_tree(X, y, seed, max_features=1,\n",
    "                        max_depth=1) -> Tuple[DecisionTreeClassifier, float]:\n",
    "    tree = DecisionTreeClassifier(random_state=seed, \n",
    "                                  max_depth=max_depth,\n",
    "                                  max_features=max_features).fit(X, y)\n",
    "    return tree, round(accuracy_score(y_true=y, y_pred=tree.predict(X)), 2)\n",
    "    \n",
    "@superop\n",
    "def train_forest(X, y, n_trees, max_features=1) -> List[DecisionTreeClassifier]:\n",
    "    trees = []\n",
    "    for i in range(n_trees):\n",
    "        tree, acc = train_and_eval_tree(X, y, seed=i, max_features=max_features) \n",
    "        if acc > 0.8:\n",
    "            trees.append(tree)\n",
    "    return trees"
   ]
  },
  {
   "cell_type": "code",
   "execution_count": null,
   "metadata": {},
   "outputs": [],
   "source": [
    "with storage.run(): \n",
    "    X, y = generate_data()\n",
    "    for n_trees in (5, 10, 15, 20):\n",
    "        for max_features in (1, 2):\n",
    "            trees = train_forest(X, y, n_trees, max_features=max_features)\n",
    "            forest_acc = eval_forest(trees, X, y)\n",
    "            print(forest_acc)"
   ]
  },
  {
   "cell_type": "code",
   "execution_count": null,
   "metadata": {},
   "outputs": [],
   "source": [
    "with storage.query() as q:\n",
    "    n_trees = Q() \n",
    "    X, y = generate_data() \n",
    "    max_features = Q()\n",
    "    trees = train_forest(X, y, n_trees, max_features=max_features)\n",
    "    forest_acc = eval_forest(trees, X, y)\n",
    "    df = q.get_table(n_trees.named('n_trees'), max_features.named('max_features'),\n",
    "                     forest_acc.named('forest_acc'))\n",
    "df"
   ]
  },
  {
   "cell_type": "code",
   "execution_count": null,
   "metadata": {},
   "outputs": [],
   "source": [
    "@superop\n",
    "def train_forest(X, y, n_trees, max_features=1) -> List[DecisionTreeClassifier]:\n",
    "    trees = []\n",
    "    for i in range(n_trees):\n",
    "        tree, acc = train_and_eval_tree(X, y, seed=i, max_features=max_features) \n",
    "        if acc > 0.9:\n",
    "            trees.append(tree)\n",
    "    return trees"
   ]
  },
  {
   "cell_type": "code",
   "execution_count": null,
   "metadata": {},
   "outputs": [],
   "source": [
    "with storage.run(): \n",
    "    X, y = generate_data()\n",
    "    for n_trees in (5, 10, 15, 20):\n",
    "        for max_features in (1, 2):\n",
    "            trees = train_forest(X, y, n_trees, max_features=max_features)\n",
    "            forest_acc = eval_forest(trees, X, y)\n",
    "            print(forest_acc)"
   ]
  }
 ],
 "metadata": {
  "kernelspec": {
   "display_name": "Python 3.8.16",
   "language": "python",
   "name": "python3"
  },
  "language_info": {
   "codemirror_mode": {
    "name": "ipython",
    "version": 3
   },
   "file_extension": ".py",
   "mimetype": "text/x-python",
   "name": "python",
   "nbconvert_exporter": "python",
   "pygments_lexer": "ipython3",
   "version": "3.8.16"
  },
  "orig_nbformat": 4,
  "vscode": {
   "interpreter": {
    "hash": "e22ccad7e25d3f9dbbb833ff1cc1bfeb1ec9516a3f809bc90859ddb44947b529"
   }
  }
 },
 "nbformat": 4,
 "nbformat_minor": 2
}
