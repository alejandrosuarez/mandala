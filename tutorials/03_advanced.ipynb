{
 "cells": [
  {
   "cell_type": "code",
   "execution_count": 1,
   "metadata": {},
   "outputs": [
    {
     "name": "stderr",
     "output_type": "stream",
     "text": [
      "/home/amakelov/workspace/current/conda_envs/mandala_3.10/lib/python3.10/site-packages/tqdm/auto.py:22: TqdmWarning: IProgress not found. Please update jupyter and ipywidgets. See https://ipywidgets.readthedocs.io/en/stable/user_install.html\n",
      "  from .autonotebook import tqdm as notebook_tqdm\n"
     ]
    }
   ],
   "source": [
    "from mandala.imports import *\n",
    "from typing import List, Tuple\n",
    "from sklearn.tree import DecisionTreeClassifier\n",
    "from sklearn.metrics import accuracy_score\n",
    "from sklearn.datasets import make_classification, load_digits\n",
    "from pathlib import Path\n",
    "import numpy as np\n",
    "from numpy import ndarray\n",
    "Config.enable_ref_magics = True\n",
    "Config.warnings = False\n",
    "\n",
    "OUTPUT_ROOT = Path().absolute() / \"03_advanced.db\"\n",
    "OUTPUT_ROOT.unlink(missing_ok=True)\n",
    "\n",
    "# storage = Storage()\n",
    "# storage = Storage(db_path=OUTPUT_ROOT)\n",
    "storage = Storage(db_path=OUTPUT_ROOT, deps_root=Path().absolute())"
   ]
  },
  {
   "cell_type": "code",
   "execution_count": 2,
   "metadata": {},
   "outputs": [],
   "source": [
    "@op\n",
    "def generate_data() -> Tuple[ndarray, ndarray]:\n",
    "    return load_digits(n_class=2, return_X_y=True)\n",
    "\n",
    "@op\n",
    "def train_and_eval_tree(X, y, seed,\n",
    "                        max_depth=1) -> Tuple[DecisionTreeClassifier, float]:\n",
    "    tree = DecisionTreeClassifier(random_state=seed, \n",
    "                                  max_depth=max_depth,\n",
    "                                  max_features=1).fit(X, y)\n",
    "    return tree, round(accuracy_score(y_true=y, y_pred=tree.predict(X)), 2)\n",
    "    \n",
    "@op\n",
    "def eval_forest(trees:List[DecisionTreeClassifier], X, y) -> float:\n",
    "    majority_vote = np.array([tree.predict(X) for tree in trees]).mean(axis=0) >= 0.5\n",
    "    return round(accuracy_score(y_true=y, y_pred=majority_vote), 2)\n"
   ]
  },
  {
   "cell_type": "code",
   "execution_count": 3,
   "metadata": {},
   "outputs": [
    {
     "name": "stdout",
     "output_type": "stream",
     "text": [
      "ValueRef(0.98, uid=f26...)\n"
     ]
    }
   ],
   "source": [
    "with storage.run(): # memoization context manager\n",
    "    X, y = generate_data()\n",
    "    trees = []\n",
    "    for seed in range(10): # can't grow trees without seeds\n",
    "        tree, acc = train_and_eval_tree(X, y, seed=seed)\n",
    "        trees.append(tree)\n",
    "    forest_acc = eval_forest(trees, X, y)\n",
    "    print(forest_acc)\n"
   ]
  },
  {
   "cell_type": "code",
   "execution_count": 4,
   "metadata": {},
   "outputs": [
    {
     "name": "stdout",
     "output_type": "stream",
     "text": [
      "ValueRef(0.97, uid=ecd...)\n",
      "ValueRef(in_memory=False, uid=f26...)\n",
      "ValueRef(0.97, uid=ecd...)\n"
     ]
    }
   ],
   "source": [
    "with storage.run(): \n",
    "    X, y = generate_data()\n",
    "    for n_trees in (5, 10, 15):\n",
    "        trees = []\n",
    "        for seed in range(n_trees): \n",
    "            tree, acc = train_and_eval_tree(X, y, seed=seed)\n",
    "            trees.append(tree)\n",
    "        forest_acc = eval_forest(trees, X, y)\n",
    "        print(forest_acc)"
   ]
  },
  {
   "cell_type": "code",
   "execution_count": 5,
   "metadata": {},
   "outputs": [
    {
     "name": "stdout",
     "output_type": "stream",
     "text": [
      "ValueRef(0.94, uid=dbb...)\n",
      "ValueRef(0.99, uid=65e...)\n",
      "ValueRef(0.96, uid=f7d...)\n"
     ]
    }
   ],
   "source": [
    "with storage.run(): \n",
    "    X, y = generate_data()\n",
    "    for n_trees in (5, 10, 15):\n",
    "        trees = []\n",
    "        for seed in range(n_trees): \n",
    "            tree, acc = train_and_eval_tree(X, y, seed=seed)\n",
    "            if acc > 0.8:\n",
    "                trees.append(tree)\n",
    "        forest_acc = eval_forest(trees, X, y)\n",
    "        print(forest_acc)"
   ]
  },
  {
   "cell_type": "code",
   "execution_count": 6,
   "metadata": {},
   "outputs": [],
   "source": [
    "@superop\n",
    "def train_forest(X, y, n_trees) -> List[DecisionTreeClassifier]:\n",
    "    trees = []\n",
    "    for i in range(n_trees):\n",
    "        tree, acc = train_and_eval_tree(X, y, seed=i) \n",
    "        if acc > 0.8:\n",
    "            trees.append(tree)\n",
    "    return trees"
   ]
  },
  {
   "cell_type": "code",
   "execution_count": 7,
   "metadata": {},
   "outputs": [
    {
     "name": "stdout",
     "output_type": "stream",
     "text": [
      "ValueRef(in_memory=False, uid=dbb...)\n",
      "ValueRef(in_memory=False, uid=65e...)\n",
      "ValueRef(in_memory=False, uid=f7d...)\n"
     ]
    }
   ],
   "source": [
    "with storage.run(): \n",
    "    X, y = generate_data()\n",
    "    for n_trees in (5, 10, 15):\n",
    "        trees = train_forest(X, y, n_trees)\n",
    "        forest_acc = eval_forest(trees, X, y)\n",
    "        print(forest_acc)"
   ]
  },
  {
   "cell_type": "code",
   "execution_count": 8,
   "metadata": {},
   "outputs": [
    {
     "name": "stdout",
     "output_type": "stream",
     "text": [
      "ValueRef(in_memory=False, uid=dbb...)\n",
      "ValueRef(in_memory=False, uid=65e...)\n",
      "ValueRef(in_memory=False, uid=f7d...)\n",
      "ValueRef(0.97, uid=ecd...)\n"
     ]
    }
   ],
   "source": [
    "with storage.run(): \n",
    "    X, y = generate_data()\n",
    "    for n_trees in (5, 10, 15, 20):\n",
    "        trees = train_forest(X, y, n_trees)\n",
    "        forest_acc = eval_forest(trees, X, y)\n",
    "        print(forest_acc)"
   ]
  },
  {
   "cell_type": "code",
   "execution_count": 9,
   "metadata": {},
   "outputs": [
    {
     "data": {
      "text/html": [
       "<div>\n",
       "<style scoped>\n",
       "    .dataframe tbody tr th:only-of-type {\n",
       "        vertical-align: middle;\n",
       "    }\n",
       "\n",
       "    .dataframe tbody tr th {\n",
       "        vertical-align: top;\n",
       "    }\n",
       "\n",
       "    .dataframe thead th {\n",
       "        text-align: right;\n",
       "    }\n",
       "</style>\n",
       "<table border=\"1\" class=\"dataframe\">\n",
       "  <thead>\n",
       "    <tr style=\"text-align: right;\">\n",
       "      <th></th>\n",
       "      <th>n_trees</th>\n",
       "      <th>forest_acc</th>\n",
       "    </tr>\n",
       "  </thead>\n",
       "  <tbody>\n",
       "    <tr>\n",
       "      <th>0</th>\n",
       "      <td>10</td>\n",
       "      <td>0.99</td>\n",
       "    </tr>\n",
       "    <tr>\n",
       "      <th>1</th>\n",
       "      <td>5</td>\n",
       "      <td>0.94</td>\n",
       "    </tr>\n",
       "    <tr>\n",
       "      <th>2</th>\n",
       "      <td>15</td>\n",
       "      <td>0.96</td>\n",
       "    </tr>\n",
       "    <tr>\n",
       "      <th>3</th>\n",
       "      <td>20</td>\n",
       "      <td>0.97</td>\n",
       "    </tr>\n",
       "  </tbody>\n",
       "</table>\n",
       "</div>"
      ]
     },
     "execution_count": 9,
     "metadata": {},
     "output_type": "execute_result"
    }
   ],
   "source": [
    "with storage.query() as q: # context manager for declarative queries\n",
    "    n_trees = Q() # a wildcard query variable\n",
    "    X, y = generate_data() # copy-paste computational code\n",
    "    trees = train_forest(X, y, n_trees)\n",
    "    forest_acc = eval_forest(trees, X, y)\n",
    "    df = q.get_table(n_trees.named('n_trees'),\n",
    "                     forest_acc.named('forest_acc'))\n",
    "df"
   ]
  },
  {
   "cell_type": "code",
   "execution_count": 10,
   "metadata": {},
   "outputs": [
    {
     "data": {
      "text/html": [
       "<div>\n",
       "<style scoped>\n",
       "    .dataframe tbody tr th:only-of-type {\n",
       "        vertical-align: middle;\n",
       "    }\n",
       "\n",
       "    .dataframe tbody tr th {\n",
       "        vertical-align: top;\n",
       "    }\n",
       "\n",
       "    .dataframe thead th {\n",
       "        text-align: right;\n",
       "    }\n",
       "</style>\n",
       "<table border=\"1\" class=\"dataframe\">\n",
       "  <thead>\n",
       "    <tr style=\"text-align: right;\">\n",
       "      <th></th>\n",
       "      <th>trees</th>\n",
       "      <th>forest_acc</th>\n",
       "    </tr>\n",
       "  </thead>\n",
       "  <tbody>\n",
       "    <tr>\n",
       "      <th>0</th>\n",
       "      <td>[DecisionTreeClassifier(max_depth=1, max_featu...</td>\n",
       "      <td>0.98</td>\n",
       "    </tr>\n",
       "    <tr>\n",
       "      <th>1</th>\n",
       "      <td>[DecisionTreeClassifier(max_depth=1, max_featu...</td>\n",
       "      <td>0.97</td>\n",
       "    </tr>\n",
       "    <tr>\n",
       "      <th>2</th>\n",
       "      <td>[DecisionTreeClassifier(max_depth=1, max_featu...</td>\n",
       "      <td>0.97</td>\n",
       "    </tr>\n",
       "    <tr>\n",
       "      <th>3</th>\n",
       "      <td>[DecisionTreeClassifier(max_depth=1, max_featu...</td>\n",
       "      <td>0.99</td>\n",
       "    </tr>\n",
       "    <tr>\n",
       "      <th>4</th>\n",
       "      <td>[DecisionTreeClassifier(max_depth=1, max_featu...</td>\n",
       "      <td>0.94</td>\n",
       "    </tr>\n",
       "    <tr>\n",
       "      <th>5</th>\n",
       "      <td>[DecisionTreeClassifier(max_depth=1, max_featu...</td>\n",
       "      <td>0.96</td>\n",
       "    </tr>\n",
       "    <tr>\n",
       "      <th>6</th>\n",
       "      <td>[DecisionTreeClassifier(max_depth=1, max_featu...</td>\n",
       "      <td>0.97</td>\n",
       "    </tr>\n",
       "  </tbody>\n",
       "</table>\n",
       "</div>"
      ]
     },
     "execution_count": 10,
     "metadata": {},
     "output_type": "execute_result"
    }
   ],
   "source": [
    "with storage.run():\n",
    "    X, y = generate_data()\n",
    "    tree, acc = train_and_eval_tree(X, y, seed=2)\n",
    "    with storage.query() as q: # contexts can be nested\n",
    "        trees = Q([tree, ...]) # matches a list containing `tree`\n",
    "        forest_acc = eval_forest(trees, X, y)\n",
    "        df = q.get_table(trees.named('trees'), \n",
    "                         forest_acc.named('forest_acc'))\n",
    "df"
   ]
  },
  {
   "cell_type": "code",
   "execution_count": 11,
   "metadata": {},
   "outputs": [],
   "source": [
    "@op\n",
    "def train_and_eval_tree(X, y, seed, max_features=1,\n",
    "                        max_depth=1) -> Tuple[DecisionTreeClassifier, float]:\n",
    "    tree = DecisionTreeClassifier(random_state=seed, \n",
    "                                  max_depth=max_depth,\n",
    "                                  max_features=max_features).fit(X, y)\n",
    "    return tree, round(accuracy_score(y_true=y, y_pred=tree.predict(X)), 2)\n",
    "    \n",
    "@superop\n",
    "def train_forest(X, y, n_trees, max_features=1) -> List[DecisionTreeClassifier]:\n",
    "    trees = []\n",
    "    for i in range(n_trees):\n",
    "        tree, acc = train_and_eval_tree(X, y, seed=i, max_features=max_features) \n",
    "        if acc > 0.8:\n",
    "            trees.append(tree)\n",
    "    return trees"
   ]
  },
  {
   "cell_type": "code",
   "execution_count": 12,
   "metadata": {},
   "outputs": [
    {
     "name": "stdout",
     "output_type": "stream",
     "text": [
      "FOUND CHANGES IN MODULE __main__:\n",
      "  CHANGED dependency train_and_eval_tree for memoized functions [train_forest, train_and_eval_tree]\n",
      "     @op\n",
      "    \u001b[31m-def train_and_eval_tree(X, y, seed,\u001b[0m\n",
      "    \u001b[32m+def train_and_eval_tree(X, y, seed, max_features=1,\u001b[0m\n",
      "                             max_depth=1) -> Tuple[DecisionTreeClassifier, float]:\n",
      "         tree = DecisionTreeClassifier(random_state=seed, \n",
      "                                       max_depth=max_depth,\n",
      "    \u001b[31m-                                  max_features=1).fit(X, y)\u001b[0m\n",
      "    \u001b[32m+                                  max_features=max_features).fit(X, y)\u001b[0m\n",
      "         return tree, round(accuracy_score(y_true=y, y_pred=tree.predict(X)), 2)\n",
      "Choose an action to apply to all functions: [i]gnore, [n]ew version, [a]bort? \n",
      "Choice: ignore for memoized functions [train_forest, train_and_eval_tree]\n",
      "  CHANGED dependency train_forest for memoized functions [train_forest]\n",
      "     @superop\n",
      "    \u001b[31m-def train_forest(X, y, n_trees) -> List[DecisionTreeClassifier]:\u001b[0m\n",
      "    \u001b[32m+def train_forest(X, y, n_trees, max_features=1) -> List[DecisionTreeClassifier]:\u001b[0m\n",
      "         trees = []\n",
      "         for i in range(n_trees):\n",
      "    \u001b[31m-        tree, acc = train_and_eval_tree(X, y, seed=i) \u001b[0m\n",
      "    \u001b[32m+        tree, acc = train_and_eval_tree(X, y, seed=i, max_features=max_features) \u001b[0m\n",
      "             if acc > 0.8:\n",
      "                 trees.append(tree)\n",
      "Choose an action to apply to all functions: [i]gnore, [n]ew version, [a]bort? \n",
      "Choice: ignore for memoized functions [train_forest]\n",
      "ValueRef(in_memory=False, uid=dbb...)\n",
      "ValueRef(0.94, uid=dbb...)\n",
      "ValueRef(in_memory=False, uid=65e...)\n",
      "ValueRef(0.99, uid=65e...)\n",
      "ValueRef(in_memory=False, uid=f7d...)\n",
      "ValueRef(0.98, uid=f26...)\n",
      "ValueRef(in_memory=False, uid=ecd...)\n",
      "ValueRef(0.98, uid=f26...)\n"
     ]
    }
   ],
   "source": [
    "with storage.run(): \n",
    "    X, y = generate_data()\n",
    "    for n_trees in (5, 10, 15, 20):\n",
    "        for max_features in (1, 2):\n",
    "            trees = train_forest(X, y, n_trees, max_features=max_features)\n",
    "            forest_acc = eval_forest(trees, X, y)\n",
    "            print(forest_acc)"
   ]
  },
  {
   "cell_type": "code",
   "execution_count": 13,
   "metadata": {},
   "outputs": [
    {
     "data": {
      "text/html": [
       "<div>\n",
       "<style scoped>\n",
       "    .dataframe tbody tr th:only-of-type {\n",
       "        vertical-align: middle;\n",
       "    }\n",
       "\n",
       "    .dataframe tbody tr th {\n",
       "        vertical-align: top;\n",
       "    }\n",
       "\n",
       "    .dataframe thead th {\n",
       "        text-align: right;\n",
       "    }\n",
       "</style>\n",
       "<table border=\"1\" class=\"dataframe\">\n",
       "  <thead>\n",
       "    <tr style=\"text-align: right;\">\n",
       "      <th></th>\n",
       "      <th>n_trees</th>\n",
       "      <th>max_features</th>\n",
       "      <th>forest_acc</th>\n",
       "    </tr>\n",
       "  </thead>\n",
       "  <tbody>\n",
       "    <tr>\n",
       "      <th>0</th>\n",
       "      <td>10</td>\n",
       "      <td>1</td>\n",
       "      <td>0.99</td>\n",
       "    </tr>\n",
       "    <tr>\n",
       "      <th>1</th>\n",
       "      <td>5</td>\n",
       "      <td>1</td>\n",
       "      <td>0.94</td>\n",
       "    </tr>\n",
       "    <tr>\n",
       "      <th>2</th>\n",
       "      <td>15</td>\n",
       "      <td>1</td>\n",
       "      <td>0.96</td>\n",
       "    </tr>\n",
       "    <tr>\n",
       "      <th>3</th>\n",
       "      <td>20</td>\n",
       "      <td>1</td>\n",
       "      <td>0.97</td>\n",
       "    </tr>\n",
       "    <tr>\n",
       "      <th>4</th>\n",
       "      <td>10</td>\n",
       "      <td>2</td>\n",
       "      <td>0.99</td>\n",
       "    </tr>\n",
       "    <tr>\n",
       "      <th>5</th>\n",
       "      <td>15</td>\n",
       "      <td>2</td>\n",
       "      <td>0.98</td>\n",
       "    </tr>\n",
       "    <tr>\n",
       "      <th>6</th>\n",
       "      <td>20</td>\n",
       "      <td>2</td>\n",
       "      <td>0.98</td>\n",
       "    </tr>\n",
       "    <tr>\n",
       "      <th>7</th>\n",
       "      <td>5</td>\n",
       "      <td>2</td>\n",
       "      <td>0.94</td>\n",
       "    </tr>\n",
       "  </tbody>\n",
       "</table>\n",
       "</div>"
      ]
     },
     "execution_count": 13,
     "metadata": {},
     "output_type": "execute_result"
    }
   ],
   "source": [
    "with storage.query() as q:\n",
    "    n_trees = Q() \n",
    "    X, y = generate_data() \n",
    "    max_features = Q()\n",
    "    trees = train_forest(X, y, n_trees, max_features=max_features)\n",
    "    forest_acc = eval_forest(trees, X, y)\n",
    "    df = q.get_table(n_trees.named('n_trees'), max_features.named('max_features'),\n",
    "                     forest_acc.named('forest_acc'))\n",
    "df"
   ]
  },
  {
   "cell_type": "code",
   "execution_count": 14,
   "metadata": {},
   "outputs": [],
   "source": [
    "@superop\n",
    "def train_forest(X, y, n_trees, max_features=1) -> List[DecisionTreeClassifier]:\n",
    "    trees = []\n",
    "    for i in range(n_trees):\n",
    "        tree, acc = train_and_eval_tree(X, y, seed=i, max_features=max_features) \n",
    "        if acc > 0.9:\n",
    "            trees.append(tree)\n",
    "    return trees"
   ]
  },
  {
   "cell_type": "code",
   "execution_count": 15,
   "metadata": {},
   "outputs": [
    {
     "name": "stdout",
     "output_type": "stream",
     "text": [
      "FOUND CHANGES IN MODULE __main__:\n",
      "  CHANGED dependency train_forest for memoized functions [train_forest]\n",
      "         for i in range(n_trees):\n",
      "             tree, acc = train_and_eval_tree(X, y, seed=i, max_features=max_features) \n",
      "    \u001b[31m-        if acc > 0.8:\u001b[0m\n",
      "    \u001b[32m+        if acc > 0.9:\u001b[0m\n",
      "                 trees.append(tree)\n",
      "         return trees\n",
      "Choose an action to apply to all functions: [i]gnore, [n]ew version, [a]bort? \n",
      "Choice: new version for memoized functions [train_forest]\n",
      "  Created new version of train_forest\n",
      "ValueRef(in_memory=False, uid=dbb...)\n",
      "ValueRef(in_memory=False, uid=dbb...)\n",
      "ValueRef(in_memory=False, uid=65e...)\n",
      "ValueRef(0.99, uid=65e...)\n",
      "ValueRef(in_memory=False, uid=65e...)\n",
      "ValueRef(0.99, uid=65e...)\n",
      "ValueRef(in_memory=False, uid=65e...)\n",
      "ValueRef(0.98, uid=f26...)\n"
     ]
    }
   ],
   "source": [
    "with storage.run(): \n",
    "    X, y = generate_data()\n",
    "    for n_trees in (5, 10, 15, 20):\n",
    "        for max_features in (1, 2):\n",
    "            trees = train_forest(X, y, n_trees, max_features=max_features)\n",
    "            forest_acc = eval_forest(trees, X, y)\n",
    "            print(forest_acc)"
   ]
  }
 ],
 "metadata": {
  "kernelspec": {
   "display_name": "Python 3.10.8",
   "language": "python",
   "name": "python3"
  },
  "language_info": {
   "codemirror_mode": {
    "name": "ipython",
    "version": 3
   },
   "file_extension": ".py",
   "mimetype": "text/x-python",
   "name": "python",
   "nbconvert_exporter": "python",
   "pygments_lexer": "ipython3",
   "version": "3.10.8"
  },
  "orig_nbformat": 4,
  "vscode": {
   "interpreter": {
    "hash": "30c0510467e0bc33a523a84a8acb20ce0730b8eb0ee254a4b0039140f094f217"
   }
  }
 },
 "nbformat": 4,
 "nbformat_minor": 2
}
