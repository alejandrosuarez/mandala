{
 "cells": [
  {
   "cell_type": "markdown",
   "metadata": {},
   "source": [
    "# A quick intro to `mandala`\n",
    "`mandala` eliminates the developer effort typically required to persist, iterate\n",
    "on, query, version and reproduce results of computational projects, such as\n",
    "machine learning experiments. \n",
    "\n",
    "It works by automatically capturing inputs, outputs, and code (+dependencies) at\n",
    "calls of `@op`-decorated functions. A `ComputationFrame` data structure over\n",
    "this information enables easy queries and high-level operations over program\n",
    "traces."
   ]
  },
  {
   "cell_type": "code",
   "execution_count": 2,
   "metadata": {},
   "outputs": [
    {
     "name": "stdout",
     "output_type": "stream",
     "text": [
      "Collecting git+https://github.com/amakelov/mandala\n",
      "  Cloning https://github.com/amakelov/mandala to /tmp/pip-req-build-jknst3g5\n",
      "  Running command git clone --filter=blob:none --quiet https://github.com/amakelov/mandala /tmp/pip-req-build-jknst3g5\n",
      "  Resolved https://github.com/amakelov/mandala to commit f1bb953e9807b1f444097c4f8a84a70b2fc14f92\n",
      "  Preparing metadata (setup.py) ... \u001b[?25ldone\n",
      "\u001b[?25hRequirement already satisfied: numpy>=1.18 in /home/amakelov/workspace/current/conda_envs/mandala_3.10/lib/python3.10/site-packages (from mandala==0.2.0a0) (1.24.3)\n",
      "Requirement already satisfied: pandas>=1.0 in /home/amakelov/workspace/current/conda_envs/mandala_3.10/lib/python3.10/site-packages (from mandala==0.2.0a0) (1.5.3)\n",
      "Requirement already satisfied: joblib>=1.0 in /home/amakelov/workspace/current/conda_envs/mandala_3.10/lib/python3.10/site-packages (from mandala==0.2.0a0) (1.2.0)\n",
      "Requirement already satisfied: python-dateutil>=2.8.1 in /home/amakelov/workspace/current/conda_envs/mandala_3.10/lib/python3.10/site-packages (from pandas>=1.0->mandala==0.2.0a0) (2.8.2)\n",
      "Requirement already satisfied: pytz>=2020.1 in /home/amakelov/workspace/current/conda_envs/mandala_3.10/lib/python3.10/site-packages (from pandas>=1.0->mandala==0.2.0a0) (2022.7)\n",
      "Requirement already satisfied: six>=1.5 in /home/amakelov/workspace/current/conda_envs/mandala_3.10/lib/python3.10/site-packages (from python-dateutil>=2.8.1->pandas>=1.0->mandala==0.2.0a0) (1.16.0)\n",
      "Building wheels for collected packages: mandala\n",
      "  Building wheel for mandala (setup.py) ... \u001b[?25ldone\n",
      "\u001b[?25h  Created wheel for mandala: filename=mandala-0.2.0a0-py3-none-any.whl size=84937 sha256=b8c1ce22c24d673cdd85f7b1ce8fc833b6d65e1535a218407bffc4b156901b88\n",
      "  Stored in directory: /tmp/pip-ephem-wheel-cache-odzcl6hj/wheels/02/bd/90/ce89ab33ccd59e0ab3b94ecaeb7681639ca4126e096c289296\n",
      "Successfully built mandala\n",
      "Installing collected packages: mandala\n",
      "  Attempting uninstall: mandala\n",
      "    Found existing installation: mandala 0.1.0\n",
      "    Uninstalling mandala-0.1.0:\n",
      "      Successfully uninstalled mandala-0.1.0\n",
      "Successfully installed mandala-0.2.0a0\n"
     ]
    }
   ],
   "source": [
    "# Run this if in a Google Colab notebook\n",
    "!pip install git+https://github.com/amakelov/mandala"
   ]
  },
  {
   "cell_type": "markdown",
   "metadata": {},
   "source": [
    "## The `@op` decorator: automatic memoization and code tracking\n",
    "`@op` tracks the inputs, outputs, code and dependencies of calls to Python\n",
    "functions. The same call is never executed twice:"
   ]
  },
  {
   "cell_type": "code",
   "execution_count": 3,
   "metadata": {},
   "outputs": [
    {
     "name": "stdout",
     "output_type": "stream",
     "text": [
      "Hello from inc!\n",
      "Took 1 seconds\n"
     ]
    }
   ],
   "source": [
    "from mandala.imports import *\n",
    "import time\n",
    "\n",
    "storage = Storage( # stores all `@op` calls\n",
    "    # where to look for dependencies; use `None` to prevent versioning altogether\n",
    "    deps_path='__main__' \n",
    "    ) \n",
    "\n",
    "@op\n",
    "def inc(x):\n",
    "    print(\"Hello from inc!\")\n",
    "    time.sleep(1) # simulate a long operation\n",
    "    return x + 1\n",
    "\n",
    "with storage: # all `@op` calls inside this block will be stored in `storage`\n",
    "    start = time.time()\n",
    "    a = inc(1)\n",
    "    b = inc(1) # this will not be executed, but reused\n",
    "    end = time.time()\n",
    "    print(f'Took {round(end - start)} seconds')"
   ]
  },
  {
   "cell_type": "markdown",
   "metadata": {},
   "source": [
    "## `ComputationFrame`s: generalized dataframes for querying saved computations\n",
    "**`@op`s are designed to be composed with one another** like ordinary Python\n",
    "functions. This automatically keeps track of the relationships between all saved\n",
    "objects. \n",
    "\n",
    "The `ComputationFrame` data structure is a natural **high-level view** of these\n",
    "relationships that can be used to explore storage and extract computation traces\n",
    "in a format useful for analysis. It groups together saved `@op` calls into\n",
    "computational graphs: "
   ]
  },
  {
   "cell_type": "code",
   "execution_count": 4,
   "metadata": {},
   "outputs": [
    {
     "name": "stdout",
     "output_type": "stream",
     "text": [
      "Hello from inc!\n",
      "Hello from add!\n",
      "Hello from inc!\n",
      "Hello from add!\n",
      "Hello from inc!\n",
      "Hello from inc!\n",
      "Hello from add!\n",
      "Computation frame for `inc`:\n"
     ]
    },
    {
     "data": {
      "image/svg+xml": [
       "<?xml version=\"1.0\" encoding=\"UTF-8\" standalone=\"no\"?>\n",
       "<!DOCTYPE svg PUBLIC \"-//W3C//DTD SVG 1.1//EN\"\n",
       " \"http://www.w3.org/Graphics/SVG/1.1/DTD/svg11.dtd\">\n",
       "<!-- Generated by graphviz version 2.50.0 (0)\n",
       " -->\n",
       "<!-- Title: G Pages: 1 -->\n",
       "<svg width=\"421pt\" height=\"50pt\"\n",
       " viewBox=\"0.00 0.00 421.00 50.00\" xmlns=\"http://www.w3.org/2000/svg\" xmlns:xlink=\"http://www.w3.org/1999/xlink\">\n",
       "<g id=\"graph0\" class=\"graph\" transform=\"scale(1 1) rotate(0) translate(4 46)\">\n",
       "<title>G</title>\n",
       "<polygon fill=\"white\" stroke=\"transparent\" points=\"-4,4 -4,-46 417,-46 417,4 -4,4\"/>\n",
       "<!-- output_0 -->\n",
       "<g id=\"node1\" class=\"node\">\n",
       "<title>output_0</title>\n",
       "<path fill=\"none\" stroke=\"#268bd2\" d=\"M401,-38C401,-38 332,-38 332,-38 326,-38 320,-32 320,-26 320,-26 320,-14 320,-14 320,-8 326,-2 332,-2 332,-2 401,-2 401,-2 407,-2 413,-8 413,-14 413,-14 413,-26 413,-26 413,-32 407,-38 401,-38\"/>\n",
       "<text text-anchor=\"start\" x=\"339\" y=\"-22.4\" font-family=\"RobotoMono\" font-weight=\"bold\" font-size=\"12.00\" fill=\"#002b36\">output_0</text>\n",
       "<text text-anchor=\"start\" x=\"328\" y=\"-12\" font-family=\"RobotoMono\" font-size=\"10.00\" fill=\"#268bd2\">5 values (5 sinks)</text>\n",
       "</g>\n",
       "<!-- x -->\n",
       "<g id=\"node2\" class=\"node\">\n",
       "<title>x</title>\n",
       "<path fill=\"none\" stroke=\"#268bd2\" d=\"M94,-38C94,-38 12,-38 12,-38 6,-38 0,-32 0,-26 0,-26 0,-14 0,-14 0,-8 6,-2 12,-2 12,-2 94,-2 94,-2 100,-2 106,-8 106,-14 106,-14 106,-26 106,-26 106,-32 100,-38 94,-38\"/>\n",
       "<text text-anchor=\"start\" x=\"49.5\" y=\"-22.4\" font-family=\"RobotoMono\" font-weight=\"bold\" font-size=\"12.00\" fill=\"#002b36\">x</text>\n",
       "<text text-anchor=\"start\" x=\"8\" y=\"-12\" font-family=\"RobotoMono\" font-size=\"10.00\" fill=\"#268bd2\">5 values (5 sources)</text>\n",
       "</g>\n",
       "<!-- inc -->\n",
       "<g id=\"node3\" class=\"node\">\n",
       "<title>inc</title>\n",
       "<path fill=\"none\" stroke=\"#dc322f\" d=\"M228,-40C228,-40 198,-40 198,-40 192,-40 186,-34 186,-28 186,-28 186,-12 186,-12 186,-6 192,0 198,0 198,0 228,0 228,0 234,0 240,-6 240,-12 240,-12 240,-28 240,-28 240,-34 234,-40 228,-40\"/>\n",
       "<text text-anchor=\"start\" x=\"203.5\" y=\"-27.4\" font-family=\"RobotoMono\" font-weight=\"bold\" font-size=\"12.00\" fill=\"#002b36\">inc</text>\n",
       "<text text-anchor=\"start\" x=\"194.5\" y=\"-17\" font-family=\"RobotoMono\" font-size=\"10.00\" fill=\"#002b36\">@op:inc</text>\n",
       "<text text-anchor=\"start\" x=\"199\" y=\"-7\" font-family=\"RobotoMono\" font-size=\"10.00\" fill=\"#dc322f\">5 calls</text>\n",
       "</g>\n",
       "<!-- x&#45;&gt;inc -->\n",
       "<g id=\"edge2\" class=\"edge\">\n",
       "<title>x&#45;&gt;inc</title>\n",
       "<path fill=\"none\" stroke=\"#002b36\" d=\"M106.17,-20C128.83,-20 154.83,-20 175.39,-20\"/>\n",
       "<polygon fill=\"#002b36\" stroke=\"#002b36\" points=\"175.59,-23.5 185.59,-20 175.59,-16.5 175.59,-23.5\"/>\n",
       "<text text-anchor=\"middle\" x=\"146\" y=\"-34\" font-family=\"RobotoMono\" font-size=\"10.00\" fill=\"#002b36\">x</text>\n",
       "<text text-anchor=\"middle\" x=\"146\" y=\"-23\" font-family=\"RobotoMono\" font-size=\"10.00\" fill=\"#002b36\">(5 values)</text>\n",
       "</g>\n",
       "<!-- inc&#45;&gt;output_0 -->\n",
       "<g id=\"edge1\" class=\"edge\">\n",
       "<title>inc&#45;&gt;output_0</title>\n",
       "<path fill=\"none\" stroke=\"#002b36\" d=\"M240.04,-20C259.22,-20 286,-20 309.89,-20\"/>\n",
       "<polygon fill=\"#002b36\" stroke=\"#002b36\" points=\"309.93,-23.5 319.93,-20 309.93,-16.5 309.93,-23.5\"/>\n",
       "<text text-anchor=\"middle\" x=\"280\" y=\"-34\" font-family=\"RobotoMono\" font-size=\"10.00\" fill=\"#002b36\">output_0</text>\n",
       "<text text-anchor=\"middle\" x=\"280\" y=\"-23\" font-family=\"RobotoMono\" font-size=\"10.00\" fill=\"#002b36\">(5 values)</text>\n",
       "</g>\n",
       "</g>\n",
       "</svg>\n"
      ],
      "text/plain": [
       "<graphviz.sources.Source at 0x7754b31155a0>"
      ]
     },
     "metadata": {},
     "output_type": "display_data"
    },
    {
     "name": "stdout",
     "output_type": "stream",
     "text": [
      "Expanded computation frame for `inc`:\n"
     ]
    },
    {
     "data": {
      "image/svg+xml": [
       "<?xml version=\"1.0\" encoding=\"UTF-8\" standalone=\"no\"?>\n",
       "<!DOCTYPE svg PUBLIC \"-//W3C//DTD SVG 1.1//EN\"\n",
       " \"http://www.w3.org/Graphics/SVG/1.1/DTD/svg11.dtd\">\n",
       "<!-- Generated by graphviz version 2.50.0 (0)\n",
       " -->\n",
       "<!-- Title: G Pages: 1 -->\n",
       "<svg width=\"732pt\" height=\"93pt\"\n",
       " viewBox=\"0.00 0.00 732.00 93.00\" xmlns=\"http://www.w3.org/2000/svg\" xmlns:xlink=\"http://www.w3.org/1999/xlink\">\n",
       "<g id=\"graph0\" class=\"graph\" transform=\"scale(1 1) rotate(0) translate(4 89)\">\n",
       "<title>G</title>\n",
       "<polygon fill=\"white\" stroke=\"transparent\" points=\"-4,4 -4,-89 728,-89 728,4 -4,4\"/>\n",
       "<!-- output_0 -->\n",
       "<g id=\"node1\" class=\"node\">\n",
       "<title>output_0</title>\n",
       "<path fill=\"none\" stroke=\"#268bd2\" d=\"M401,-40C401,-40 332,-40 332,-40 326,-40 320,-34 320,-28 320,-28 320,-16 320,-16 320,-10 326,-4 332,-4 332,-4 401,-4 401,-4 407,-4 413,-10 413,-16 413,-16 413,-28 413,-28 413,-34 407,-40 401,-40\"/>\n",
       "<text text-anchor=\"start\" x=\"339\" y=\"-24.4\" font-family=\"RobotoMono\" font-weight=\"bold\" font-size=\"12.00\" fill=\"#002b36\">output_0</text>\n",
       "<text text-anchor=\"start\" x=\"328\" y=\"-14\" font-family=\"RobotoMono\" font-size=\"10.00\" fill=\"#268bd2\">5 values (2 sinks)</text>\n",
       "</g>\n",
       "<!-- add -->\n",
       "<g id=\"node4\" class=\"node\">\n",
       "<title>add</title>\n",
       "<path fill=\"none\" stroke=\"#dc322f\" d=\"M539,-65C539,-65 505,-65 505,-65 499,-65 493,-59 493,-53 493,-53 493,-37 493,-37 493,-31 499,-25 505,-25 505,-25 539,-25 539,-25 545,-25 551,-31 551,-37 551,-37 551,-53 551,-53 551,-59 545,-65 539,-65\"/>\n",
       "<text text-anchor=\"start\" x=\"510.5\" y=\"-52.4\" font-family=\"RobotoMono\" font-weight=\"bold\" font-size=\"12.00\" fill=\"#002b36\">add</text>\n",
       "<text text-anchor=\"start\" x=\"501\" y=\"-42\" font-family=\"RobotoMono\" font-size=\"10.00\" fill=\"#002b36\">@op:add</text>\n",
       "<text text-anchor=\"start\" x=\"508\" y=\"-32\" font-family=\"RobotoMono\" font-size=\"10.00\" fill=\"#dc322f\">3 calls</text>\n",
       "</g>\n",
       "<!-- output_0&#45;&gt;add -->\n",
       "<g id=\"edge4\" class=\"edge\">\n",
       "<title>output_0&#45;&gt;add</title>\n",
       "<path fill=\"none\" stroke=\"#002b36\" d=\"M413.26,-24.41C432.44,-25.89 454.91,-28.26 475,-32 477.66,-32.5 480.39,-33.08 483.13,-33.71\"/>\n",
       "<polygon fill=\"#002b36\" stroke=\"#002b36\" points=\"482.42,-37.14 492.97,-36.2 484.14,-30.36 482.42,-37.14\"/>\n",
       "<text text-anchor=\"middle\" x=\"453\" y=\"-46\" font-family=\"RobotoMono\" font-size=\"10.00\" fill=\"#002b36\">y</text>\n",
       "<text text-anchor=\"middle\" x=\"453\" y=\"-35\" font-family=\"RobotoMono\" font-size=\"10.00\" fill=\"#002b36\">(3 values)</text>\n",
       "</g>\n",
       "<!-- output_0_0 -->\n",
       "<g id=\"node2\" class=\"node\">\n",
       "<title>output_0_0</title>\n",
       "<path fill=\"none\" stroke=\"#268bd2\" d=\"M712,-63C712,-63 643,-63 643,-63 637,-63 631,-57 631,-51 631,-51 631,-39 631,-39 631,-33 637,-27 643,-27 643,-27 712,-27 712,-27 718,-27 724,-33 724,-39 724,-39 724,-51 724,-51 724,-57 718,-63 712,-63\"/>\n",
       "<text text-anchor=\"start\" x=\"644\" y=\"-47.4\" font-family=\"RobotoMono\" font-weight=\"bold\" font-size=\"12.00\" fill=\"#002b36\">output_0_0</text>\n",
       "<text text-anchor=\"start\" x=\"639\" y=\"-37\" font-family=\"RobotoMono\" font-size=\"10.00\" fill=\"#268bd2\">3 values (3 sinks)</text>\n",
       "</g>\n",
       "<!-- x -->\n",
       "<g id=\"node3\" class=\"node\">\n",
       "<title>x</title>\n",
       "<path fill=\"none\" stroke=\"#268bd2\" d=\"M94,-62C94,-62 12,-62 12,-62 6,-62 0,-56 0,-50 0,-50 0,-38 0,-38 0,-32 6,-26 12,-26 12,-26 94,-26 94,-26 100,-26 106,-32 106,-38 106,-38 106,-50 106,-50 106,-56 100,-62 94,-62\"/>\n",
       "<text text-anchor=\"start\" x=\"49.5\" y=\"-46.4\" font-family=\"RobotoMono\" font-weight=\"bold\" font-size=\"12.00\" fill=\"#002b36\">x</text>\n",
       "<text text-anchor=\"start\" x=\"8\" y=\"-36\" font-family=\"RobotoMono\" font-size=\"10.00\" fill=\"#268bd2\">5 values (5 sources)</text>\n",
       "</g>\n",
       "<!-- x&#45;&gt;add -->\n",
       "<g id=\"edge2\" class=\"edge\">\n",
       "<title>x&#45;&gt;add</title>\n",
       "<path fill=\"none\" stroke=\"#002b36\" d=\"M106.28,-52.29C112.24,-53 118.24,-53.59 124,-54 279.61,-65.06 319.73,-69.05 475,-54 477.55,-53.75 480.17,-53.43 482.8,-53.05\"/>\n",
       "<polygon fill=\"#002b36\" stroke=\"#002b36\" points=\"483.61,-56.47 492.91,-51.39 482.47,-49.56 483.61,-56.47\"/>\n",
       "<text text-anchor=\"middle\" x=\"280\" y=\"-77\" font-family=\"RobotoMono\" font-size=\"10.00\" fill=\"#002b36\">x</text>\n",
       "<text text-anchor=\"middle\" x=\"280\" y=\"-66\" font-family=\"RobotoMono\" font-size=\"10.00\" fill=\"#002b36\">(3 values)</text>\n",
       "</g>\n",
       "<!-- inc -->\n",
       "<g id=\"node5\" class=\"node\">\n",
       "<title>inc</title>\n",
       "<path fill=\"none\" stroke=\"#dc322f\" d=\"M228,-40C228,-40 198,-40 198,-40 192,-40 186,-34 186,-28 186,-28 186,-12 186,-12 186,-6 192,0 198,0 198,0 228,0 228,0 234,0 240,-6 240,-12 240,-12 240,-28 240,-28 240,-34 234,-40 228,-40\"/>\n",
       "<text text-anchor=\"start\" x=\"203.5\" y=\"-27.4\" font-family=\"RobotoMono\" font-weight=\"bold\" font-size=\"12.00\" fill=\"#002b36\">inc</text>\n",
       "<text text-anchor=\"start\" x=\"194.5\" y=\"-17\" font-family=\"RobotoMono\" font-size=\"10.00\" fill=\"#002b36\">@op:inc</text>\n",
       "<text text-anchor=\"start\" x=\"199\" y=\"-7\" font-family=\"RobotoMono\" font-size=\"10.00\" fill=\"#dc322f\">5 calls</text>\n",
       "</g>\n",
       "<!-- x&#45;&gt;inc -->\n",
       "<g id=\"edge3\" class=\"edge\">\n",
       "<title>x&#45;&gt;inc</title>\n",
       "<path fill=\"none\" stroke=\"#002b36\" d=\"M106.34,-34.83C112.29,-33.84 118.27,-32.88 124,-32 141,-29.38 159.9,-26.77 175.81,-24.65\"/>\n",
       "<polygon fill=\"#002b36\" stroke=\"#002b36\" points=\"176.33,-28.11 185.78,-23.34 175.41,-21.17 176.33,-28.11\"/>\n",
       "<text text-anchor=\"middle\" x=\"146\" y=\"-46\" font-family=\"RobotoMono\" font-size=\"10.00\" fill=\"#002b36\">x</text>\n",
       "<text text-anchor=\"middle\" x=\"146\" y=\"-35\" font-family=\"RobotoMono\" font-size=\"10.00\" fill=\"#002b36\">(5 values)</text>\n",
       "</g>\n",
       "<!-- add&#45;&gt;output_0_0 -->\n",
       "<g id=\"edge5\" class=\"edge\">\n",
       "<title>add&#45;&gt;output_0_0</title>\n",
       "<path fill=\"none\" stroke=\"#002b36\" d=\"M551.15,-45C570.53,-45 596.93,-45 620.5,-45\"/>\n",
       "<polygon fill=\"#002b36\" stroke=\"#002b36\" points=\"620.75,-48.5 630.75,-45 620.75,-41.5 620.75,-48.5\"/>\n",
       "<text text-anchor=\"middle\" x=\"591\" y=\"-59\" font-family=\"RobotoMono\" font-size=\"10.00\" fill=\"#002b36\">output_0</text>\n",
       "<text text-anchor=\"middle\" x=\"591\" y=\"-48\" font-family=\"RobotoMono\" font-size=\"10.00\" fill=\"#002b36\">(3 values)</text>\n",
       "</g>\n",
       "<!-- inc&#45;&gt;output_0 -->\n",
       "<g id=\"edge1\" class=\"edge\">\n",
       "<title>inc&#45;&gt;output_0</title>\n",
       "<path fill=\"none\" stroke=\"#002b36\" d=\"M240.04,-20.34C259.22,-20.6 286,-20.95 309.89,-21.27\"/>\n",
       "<polygon fill=\"#002b36\" stroke=\"#002b36\" points=\"309.88,-24.77 319.93,-21.4 309.97,-17.77 309.88,-24.77\"/>\n",
       "<text text-anchor=\"middle\" x=\"280\" y=\"-35\" font-family=\"RobotoMono\" font-size=\"10.00\" fill=\"#002b36\">output_0</text>\n",
       "<text text-anchor=\"middle\" x=\"280\" y=\"-24\" font-family=\"RobotoMono\" font-size=\"10.00\" fill=\"#002b36\">(5 values)</text>\n",
       "</g>\n",
       "</g>\n",
       "</svg>\n"
      ],
      "text/plain": [
       "<graphviz.sources.Source at 0x7754c125b340>"
      ]
     },
     "metadata": {},
     "output_type": "display_data"
    }
   ],
   "source": [
    "@op # define a new @op to compose with `inc`\n",
    "def add(x, y):\n",
    "    print(\"Hello from add!\")\n",
    "    return x + y\n",
    "\n",
    "with storage:\n",
    "    for i in range(5):\n",
    "        j = inc(i)\n",
    "        if i % 2 == 0:\n",
    "            k = add(i, j)\n",
    "\n",
    "# get & visualize the computation frame for all calls to `inc`\n",
    "cf = storage.cf(inc) \n",
    "print('Computation frame for `inc`:')\n",
    "cf.draw(verbose=True, orientation='LR') # visualize the computation frame\n",
    "\n",
    "# expand the computation frame to include all calls connected to the calls of\n",
    "# `inc` through shared inputs/outputs\n",
    "cf.expand_all(inplace=True) \n",
    "print('Expanded computation frame for `inc`:')\n",
    "cf.draw(verbose=True, orientation='LR', path='test.jpg') # visualize the computation frame"
   ]
  },
  {
   "cell_type": "markdown",
   "metadata": {},
   "source": [
    "## Computation frames generalize dataframes to operate over computation traces\n",
    "- **columns are replaced by a computational graph**: functions whose input/output\n",
    "edges connect to variables.\n",
    "- **rows are replaced by computation traces**: variable values and function\n",
    "calls that (possibly partially) follow this graph\n",
    "\n",
    "**A dataframe can be extracted from any computation frame** for easier later\n",
    "analysis:\n",
    "- the columns are the nodes in the graph (functions and variables)\n",
    "- each row is a computation trace, possibly padded with `NaN`s where no\n",
    "value/call is present:"
   ]
  },
  {
   "cell_type": "code",
   "execution_count": 5,
   "metadata": {},
   "outputs": [
    {
     "name": "stdout",
     "output_type": "stream",
     "text": [
      "Extracting tuples from the computation graph:\n",
      "    output_0@output_0 = inc(x=x)\n",
      "    output_0_0@output_0 = add(y=output_0, x=x)\n"
     ]
    },
    {
     "data": {
      "text/html": [
       "<div>\n",
       "<style scoped>\n",
       "    .dataframe tbody tr th:only-of-type {\n",
       "        vertical-align: middle;\n",
       "    }\n",
       "\n",
       "    .dataframe tbody tr th {\n",
       "        vertical-align: top;\n",
       "    }\n",
       "\n",
       "    .dataframe thead th {\n",
       "        text-align: right;\n",
       "    }\n",
       "</style>\n",
       "<table border=\"1\" class=\"dataframe\">\n",
       "  <thead>\n",
       "    <tr style=\"text-align: right;\">\n",
       "      <th></th>\n",
       "      <th>x</th>\n",
       "      <th>inc</th>\n",
       "      <th>output_0</th>\n",
       "      <th>add</th>\n",
       "      <th>output_0_0</th>\n",
       "    </tr>\n",
       "  </thead>\n",
       "  <tbody>\n",
       "    <tr>\n",
       "      <th>0</th>\n",
       "      <td>1</td>\n",
       "      <td>Call(inc, cid='9d3...', hid='66c...')</td>\n",
       "      <td>2</td>\n",
       "      <td>None</td>\n",
       "      <td>NaN</td>\n",
       "    </tr>\n",
       "    <tr>\n",
       "      <th>1</th>\n",
       "      <td>0</td>\n",
       "      <td>Call(inc, cid='355...', hid='52f...')</td>\n",
       "      <td>1</td>\n",
       "      <td>Call(add, cid='16b...', hid='38e...')</td>\n",
       "      <td>1.0</td>\n",
       "    </tr>\n",
       "    <tr>\n",
       "      <th>2</th>\n",
       "      <td>2</td>\n",
       "      <td>Call(inc, cid='c38...', hid='ec7...')</td>\n",
       "      <td>3</td>\n",
       "      <td>Call(add, cid='bbb...', hid='d3f...')</td>\n",
       "      <td>5.0</td>\n",
       "    </tr>\n",
       "    <tr>\n",
       "      <th>3</th>\n",
       "      <td>3</td>\n",
       "      <td>Call(inc, cid='56b...', hid='f62...')</td>\n",
       "      <td>4</td>\n",
       "      <td>None</td>\n",
       "      <td>NaN</td>\n",
       "    </tr>\n",
       "    <tr>\n",
       "      <th>4</th>\n",
       "      <td>4</td>\n",
       "      <td>Call(inc, cid='16b...', hid='f05...')</td>\n",
       "      <td>5</td>\n",
       "      <td>Call(add, cid='2ee...', hid='5f0...')</td>\n",
       "      <td>9.0</td>\n",
       "    </tr>\n",
       "  </tbody>\n",
       "</table>\n",
       "</div>"
      ],
      "text/plain": [
       "   x                                    inc  output_0  \\\n",
       "0  1  Call(inc, cid='9d3...', hid='66c...')         2   \n",
       "1  0  Call(inc, cid='355...', hid='52f...')         1   \n",
       "2  2  Call(inc, cid='c38...', hid='ec7...')         3   \n",
       "3  3  Call(inc, cid='56b...', hid='f62...')         4   \n",
       "4  4  Call(inc, cid='16b...', hid='f05...')         5   \n",
       "\n",
       "                                     add  output_0_0  \n",
       "0                                   None         NaN  \n",
       "1  Call(add, cid='16b...', hid='38e...')         1.0  \n",
       "2  Call(add, cid='bbb...', hid='d3f...')         5.0  \n",
       "3                                   None         NaN  \n",
       "4  Call(add, cid='2ee...', hid='5f0...')         9.0  "
      ]
     },
     "execution_count": 5,
     "metadata": {},
     "output_type": "execute_result"
    }
   ],
   "source": [
    "cf.df()"
   ]
  },
  {
   "cell_type": "markdown",
   "metadata": {},
   "source": [
    "## Automatic per-call versioning w/ dependency tracking\n",
    "Changing memoized functions may invalidate their past calls - but not all\n",
    "changes invalidate all calls, and some \"non-semantic\" changes invalidate no\n",
    "calls at all. \n",
    "\n",
    "To help with that, `mandala` can automatically track marked (with `@track`)\n",
    "dependencies of each call to an `@op`, and watch for changes in their code:"
   ]
  },
  {
   "cell_type": "code",
   "execution_count": 6,
   "metadata": {},
   "outputs": [
    {
     "name": "stdout",
     "output_type": "stream",
     "text": [
      "CHANGE DETECTED in add from module __main__\n",
      "Dependent components:\n",
      "  Version of \"add\" from module \"__main__\" (content: 7cd06a0178abc60d137bb47bceafa5f9, semantic: 455b6b8789fb67940e41dbbb135292f7)\n"
     ]
    },
    {
     "data": {
      "text/html": [
       "<pre style=\"white-space:pre;overflow-x:auto;line-height:normal;font-family:Menlo,'DejaVu Sans Mono',consolas,'Courier New',monospace\">╭───────────────────────────────────────────────────── Diff ──────────────────────────────────────────────────────╮\n",
       "│ <span style=\"color: #74878c; text-decoration-color: #74878c; background-color: #fdf6e3; font-weight: bold\">  </span><span style=\"color: #cfd1c6; text-decoration-color: #cfd1c6; background-color: #fdf6e3\">1 </span><span style=\"color: #657b83; text-decoration-color: #657b83; background-color: #fdf6e3\"> def add(x, y):</span><span style=\"background-color: #fdf6e3\">                                                                                            </span> │\n",
       "│ <span style=\"color: #74878c; text-decoration-color: #74878c; background-color: #fdf6e3; font-weight: bold\">  </span><span style=\"color: #cfd1c6; text-decoration-color: #cfd1c6; background-color: #fdf6e3\">2 </span><span style=\"color: #657b83; text-decoration-color: #657b83; background-color: #fdf6e3\">     print(\"Hello from add!\")</span><span style=\"background-color: #fdf6e3\">                                                                              </span> │\n",
       "│ <span style=\"color: #74878c; text-decoration-color: #74878c; background-color: #fdf6e3; font-weight: bold\">  </span><span style=\"color: #cfd1c6; text-decoration-color: #cfd1c6; background-color: #fdf6e3\">3 </span><span style=\"color: #dc322f; text-decoration-color: #dc322f; background-color: #fdf6e3\">-    return x + y</span><span style=\"background-color: #fdf6e3\">                                                                                          </span> │\n",
       "│ <span style=\"color: #74878c; text-decoration-color: #74878c; background-color: #fdf6e3; font-weight: bold\">  </span><span style=\"color: #cfd1c6; text-decoration-color: #cfd1c6; background-color: #fdf6e3\">4 </span><span style=\"color: #859900; text-decoration-color: #859900; background-color: #fdf6e3\">+    return x + square(y)</span><span style=\"background-color: #fdf6e3\">                                                                                  </span> │\n",
       "╰─────────────────────────────────────────────────────────────────────────────────────────────────────────────────╯\n",
       "</pre>\n"
      ],
      "text/plain": [
       "╭───────────────────────────────────────────────────── Diff ──────────────────────────────────────────────────────╮\n",
       "│ \u001b[1;38;2;116;135;140;48;2;253;246;227m  \u001b[0m\u001b[38;2;207;209;198;48;2;253;246;227m1 \u001b[0m\u001b[38;2;101;123;131;48;2;253;246;227m \u001b[0m\u001b[38;2;101;123;131;48;2;253;246;227mdef add(x, y):\u001b[0m\u001b[48;2;253;246;227m                                                                                            \u001b[0m │\n",
       "│ \u001b[1;38;2;116;135;140;48;2;253;246;227m  \u001b[0m\u001b[38;2;207;209;198;48;2;253;246;227m2 \u001b[0m\u001b[38;2;101;123;131;48;2;253;246;227m \u001b[0m\u001b[38;2;101;123;131;48;2;253;246;227m    print(\"Hello from add!\")\u001b[0m\u001b[48;2;253;246;227m                                                                              \u001b[0m │\n",
       "│ \u001b[1;38;2;116;135;140;48;2;253;246;227m  \u001b[0m\u001b[38;2;207;209;198;48;2;253;246;227m3 \u001b[0m\u001b[38;2;220;50;47;48;2;253;246;227m-    return x + y\u001b[0m\u001b[48;2;253;246;227m                                                                                          \u001b[0m │\n",
       "│ \u001b[1;38;2;116;135;140;48;2;253;246;227m  \u001b[0m\u001b[38;2;207;209;198;48;2;253;246;227m4 \u001b[0m\u001b[38;2;133;153;0;48;2;253;246;227m+    return x + square(y)\u001b[0m\u001b[48;2;253;246;227m                                                                                  \u001b[0m │\n",
       "╰─────────────────────────────────────────────────────────────────────────────────────────────────────────────────╯\n"
      ]
     },
     "metadata": {},
     "output_type": "display_data"
    },
    {
     "name": "stdout",
     "output_type": "stream",
     "text": [
      "Does this change require recomputation of dependent calls?\n",
      "WARNING: if the change created new dependencies and you choose 'no', you should add them by hand or risk missing changes in them.\n",
      "Answer: [y]es/[n]o/[a]bort \n",
      "You answered: \"y\"\n",
      "Hello from add!\n",
      "Hello from add!\n",
      "Hello from add!\n"
     ]
    }
   ],
   "source": [
    "@op # define a new @op to compose with `inc`\n",
    "def add(x, y):\n",
    "    print(\"Hello from add!\")\n",
    "    return x + square(y)\n",
    "\n",
    "@track # dependency tracking decorator\n",
    "def square(num):\n",
    "    return num**2\n",
    "\n",
    "# same computations as before, change to `add` will be detected\n",
    "with storage:\n",
    "    for i in range(5):\n",
    "        j = inc(i)\n",
    "        if i % 2 == 0:\n",
    "            k = add(i, j)"
   ]
  },
  {
   "cell_type": "markdown",
   "metadata": {},
   "source": [
    "Now we've created a new, semantically distinct version of `add`. The versions\n",
    "and their dependencies can be inspected with the `.versions` method:"
   ]
  },
  {
   "cell_type": "code",
   "execution_count": 7,
   "metadata": {},
   "outputs": [
    {
     "data": {
      "text/html": [
       "<pre style=\"white-space:pre;overflow-x:auto;line-height:normal;font-family:Menlo,'DejaVu Sans Mono',consolas,'Courier New',monospace\">╭─────────────────────────────────────────────────────────────────────────────────────────────────────────────────╮\n",
       "│ <span style=\"color: #93a1a1; text-decoration-color: #93a1a1; background-color: #fdf6e3; font-style: italic\">### Dependencies for version of function add from module __main__</span><span style=\"background-color: #fdf6e3\">                                              </span> │\n",
       "│ <span style=\"color: #93a1a1; text-decoration-color: #93a1a1; background-color: #fdf6e3; font-style: italic\">### content_version_id=7cd06a0178abc60d137bb47bceafa5f9</span><span style=\"background-color: #fdf6e3\">                                                        </span> │\n",
       "│ <span style=\"color: #93a1a1; text-decoration-color: #93a1a1; background-color: #fdf6e3; font-style: italic\">### semantic_version_id=455b6b8789fb67940e41dbbb135292f7</span><span style=\"background-color: #fdf6e3\">                                                       </span> │\n",
       "│ <span style=\"background-color: #fdf6e3\">                                                                                                               </span> │\n",
       "│ <span style=\"color: #93a1a1; text-decoration-color: #93a1a1; background-color: #fdf6e3; font-style: italic\">################################################################################</span><span style=\"background-color: #fdf6e3\">                               </span> │\n",
       "│ <span style=\"color: #93a1a1; text-decoration-color: #93a1a1; background-color: #fdf6e3; font-style: italic\">### IN MODULE \"__main__\"</span><span style=\"background-color: #fdf6e3\">                                                                                       </span> │\n",
       "│ <span style=\"color: #93a1a1; text-decoration-color: #93a1a1; background-color: #fdf6e3; font-style: italic\">################################################################################</span><span style=\"background-color: #fdf6e3\">                               </span> │\n",
       "│ <span style=\"background-color: #fdf6e3\">                                                                                                               </span> │\n",
       "│ <span style=\"color: #268bd2; text-decoration-color: #268bd2; background-color: #fdf6e3\">@op</span><span style=\"color: #657b83; text-decoration-color: #657b83; background-color: #fdf6e3\"> </span><span style=\"color: #93a1a1; text-decoration-color: #93a1a1; background-color: #fdf6e3; font-style: italic\"># define a new @op to compose with `inc`</span><span style=\"background-color: #fdf6e3\">                                                                   </span> │\n",
       "│ <span style=\"color: #859900; text-decoration-color: #859900; background-color: #fdf6e3\">def</span><span style=\"color: #657b83; text-decoration-color: #657b83; background-color: #fdf6e3\"> </span><span style=\"color: #268bd2; text-decoration-color: #268bd2; background-color: #fdf6e3\">add</span><span style=\"color: #657b83; text-decoration-color: #657b83; background-color: #fdf6e3\">(x, y):</span><span style=\"background-color: #fdf6e3\">                                                                                                 </span> │\n",
       "│ <span style=\"color: #657b83; text-decoration-color: #657b83; background-color: #fdf6e3\">    </span><span style=\"color: #268bd2; text-decoration-color: #268bd2; background-color: #fdf6e3\">print</span><span style=\"color: #657b83; text-decoration-color: #657b83; background-color: #fdf6e3\">(</span><span style=\"color: #2aa198; text-decoration-color: #2aa198; background-color: #fdf6e3\">\"Hello from add!\"</span><span style=\"color: #657b83; text-decoration-color: #657b83; background-color: #fdf6e3\">)</span><span style=\"background-color: #fdf6e3\">                                                                                   </span> │\n",
       "│ <span style=\"color: #657b83; text-decoration-color: #657b83; background-color: #fdf6e3\">    </span><span style=\"color: #859900; text-decoration-color: #859900; background-color: #fdf6e3\">return</span><span style=\"color: #657b83; text-decoration-color: #657b83; background-color: #fdf6e3\"> x </span><span style=\"color: #93a1a1; text-decoration-color: #93a1a1; background-color: #fdf6e3\">+</span><span style=\"color: #657b83; text-decoration-color: #657b83; background-color: #fdf6e3\"> y</span><span style=\"background-color: #fdf6e3\">                                                                                               </span> │\n",
       "│ <span style=\"background-color: #fdf6e3\">                                                                                                               </span> │\n",
       "╰─────────────────────────────────────────────────────────────────────────────────────────────────────────────────╯\n",
       "╭─────────────────────────────────────────────────────────────────────────────────────────────────────────────────╮\n",
       "│ <span style=\"color: #93a1a1; text-decoration-color: #93a1a1; background-color: #fdf6e3; font-style: italic\">### Dependencies for version of function add from module __main__</span><span style=\"background-color: #fdf6e3\">                                              </span> │\n",
       "│ <span style=\"color: #93a1a1; text-decoration-color: #93a1a1; background-color: #fdf6e3; font-style: italic\">### content_version_id=6001cb6bf4c98e8a1b1a2f9170c7dd14</span><span style=\"background-color: #fdf6e3\">                                                        </span> │\n",
       "│ <span style=\"color: #93a1a1; text-decoration-color: #93a1a1; background-color: #fdf6e3; font-style: italic\">### semantic_version_id=d1bae9c7d7f59e37d04dcb80adc06138</span><span style=\"background-color: #fdf6e3\">                                                       </span> │\n",
       "│ <span style=\"background-color: #fdf6e3\">                                                                                                               </span> │\n",
       "│ <span style=\"color: #93a1a1; text-decoration-color: #93a1a1; background-color: #fdf6e3; font-style: italic\">################################################################################</span><span style=\"background-color: #fdf6e3\">                               </span> │\n",
       "│ <span style=\"color: #93a1a1; text-decoration-color: #93a1a1; background-color: #fdf6e3; font-style: italic\">### IN MODULE \"__main__\"</span><span style=\"background-color: #fdf6e3\">                                                                                       </span> │\n",
       "│ <span style=\"color: #93a1a1; text-decoration-color: #93a1a1; background-color: #fdf6e3; font-style: italic\">################################################################################</span><span style=\"background-color: #fdf6e3\">                               </span> │\n",
       "│ <span style=\"background-color: #fdf6e3\">                                                                                                               </span> │\n",
       "│ <span style=\"color: #268bd2; text-decoration-color: #268bd2; background-color: #fdf6e3\">@op</span><span style=\"color: #657b83; text-decoration-color: #657b83; background-color: #fdf6e3\"> </span><span style=\"color: #93a1a1; text-decoration-color: #93a1a1; background-color: #fdf6e3; font-style: italic\"># define a new @op to compose with `inc`</span><span style=\"background-color: #fdf6e3\">                                                                   </span> │\n",
       "│ <span style=\"color: #859900; text-decoration-color: #859900; background-color: #fdf6e3\">def</span><span style=\"color: #657b83; text-decoration-color: #657b83; background-color: #fdf6e3\"> </span><span style=\"color: #268bd2; text-decoration-color: #268bd2; background-color: #fdf6e3\">add</span><span style=\"color: #657b83; text-decoration-color: #657b83; background-color: #fdf6e3\">(x, y):</span><span style=\"background-color: #fdf6e3\">                                                                                                 </span> │\n",
       "│ <span style=\"color: #657b83; text-decoration-color: #657b83; background-color: #fdf6e3\">    </span><span style=\"color: #268bd2; text-decoration-color: #268bd2; background-color: #fdf6e3\">print</span><span style=\"color: #657b83; text-decoration-color: #657b83; background-color: #fdf6e3\">(</span><span style=\"color: #2aa198; text-decoration-color: #2aa198; background-color: #fdf6e3\">\"Hello from add!\"</span><span style=\"color: #657b83; text-decoration-color: #657b83; background-color: #fdf6e3\">)</span><span style=\"background-color: #fdf6e3\">                                                                                   </span> │\n",
       "│ <span style=\"color: #657b83; text-decoration-color: #657b83; background-color: #fdf6e3\">    </span><span style=\"color: #859900; text-decoration-color: #859900; background-color: #fdf6e3\">return</span><span style=\"color: #657b83; text-decoration-color: #657b83; background-color: #fdf6e3\"> x </span><span style=\"color: #93a1a1; text-decoration-color: #93a1a1; background-color: #fdf6e3\">+</span><span style=\"color: #657b83; text-decoration-color: #657b83; background-color: #fdf6e3\"> square(y)</span><span style=\"background-color: #fdf6e3\">                                                                                       </span> │\n",
       "│ <span style=\"background-color: #fdf6e3\">                                                                                                               </span> │\n",
       "│ <span style=\"color: #268bd2; text-decoration-color: #268bd2; background-color: #fdf6e3\">@track</span><span style=\"color: #657b83; text-decoration-color: #657b83; background-color: #fdf6e3\"> </span><span style=\"color: #93a1a1; text-decoration-color: #93a1a1; background-color: #fdf6e3; font-style: italic\"># dependency tracking decorator</span><span style=\"background-color: #fdf6e3\">                                                                         </span> │\n",
       "│ <span style=\"color: #859900; text-decoration-color: #859900; background-color: #fdf6e3\">def</span><span style=\"color: #657b83; text-decoration-color: #657b83; background-color: #fdf6e3\"> </span><span style=\"color: #268bd2; text-decoration-color: #268bd2; background-color: #fdf6e3\">square</span><span style=\"color: #657b83; text-decoration-color: #657b83; background-color: #fdf6e3\">(num):</span><span style=\"background-color: #fdf6e3\">                                                                                               </span> │\n",
       "│ <span style=\"color: #657b83; text-decoration-color: #657b83; background-color: #fdf6e3\">    </span><span style=\"color: #859900; text-decoration-color: #859900; background-color: #fdf6e3\">return</span><span style=\"color: #657b83; text-decoration-color: #657b83; background-color: #fdf6e3\"> num</span><span style=\"color: #93a1a1; text-decoration-color: #93a1a1; background-color: #fdf6e3\">**</span><span style=\"color: #2aa198; text-decoration-color: #2aa198; background-color: #fdf6e3\">2</span><span style=\"background-color: #fdf6e3\">                                                                                              </span> │\n",
       "│ <span style=\"background-color: #fdf6e3\">                                                                                                               </span> │\n",
       "╰─────────────────────────────────────────────────────────────────────────────────────────────────────────────────╯\n",
       "</pre>\n"
      ],
      "text/plain": [
       "╭─────────────────────────────────────────────────────────────────────────────────────────────────────────────────╮\n",
       "│ \u001b[3;38;2;147;161;161;48;2;253;246;227m### Dependencies for version of function add from module __main__\u001b[0m\u001b[48;2;253;246;227m                                              \u001b[0m │\n",
       "│ \u001b[3;38;2;147;161;161;48;2;253;246;227m### content_version_id=7cd06a0178abc60d137bb47bceafa5f9\u001b[0m\u001b[48;2;253;246;227m                                                        \u001b[0m │\n",
       "│ \u001b[3;38;2;147;161;161;48;2;253;246;227m### semantic_version_id=455b6b8789fb67940e41dbbb135292f7\u001b[0m\u001b[48;2;253;246;227m                                                       \u001b[0m │\n",
       "│ \u001b[48;2;253;246;227m                                                                                                               \u001b[0m │\n",
       "│ \u001b[3;38;2;147;161;161;48;2;253;246;227m################################################################################\u001b[0m\u001b[48;2;253;246;227m                               \u001b[0m │\n",
       "│ \u001b[3;38;2;147;161;161;48;2;253;246;227m### IN MODULE \"__main__\"\u001b[0m\u001b[48;2;253;246;227m                                                                                       \u001b[0m │\n",
       "│ \u001b[3;38;2;147;161;161;48;2;253;246;227m################################################################################\u001b[0m\u001b[48;2;253;246;227m                               \u001b[0m │\n",
       "│ \u001b[48;2;253;246;227m                                                                                                               \u001b[0m │\n",
       "│ \u001b[38;2;38;139;210;48;2;253;246;227m@op\u001b[0m\u001b[38;2;101;123;131;48;2;253;246;227m \u001b[0m\u001b[3;38;2;147;161;161;48;2;253;246;227m# define a new @op to compose with `inc`\u001b[0m\u001b[48;2;253;246;227m                                                                   \u001b[0m │\n",
       "│ \u001b[38;2;133;153;0;48;2;253;246;227mdef\u001b[0m\u001b[38;2;101;123;131;48;2;253;246;227m \u001b[0m\u001b[38;2;38;139;210;48;2;253;246;227madd\u001b[0m\u001b[38;2;101;123;131;48;2;253;246;227m(\u001b[0m\u001b[38;2;101;123;131;48;2;253;246;227mx\u001b[0m\u001b[38;2;101;123;131;48;2;253;246;227m,\u001b[0m\u001b[38;2;101;123;131;48;2;253;246;227m \u001b[0m\u001b[38;2;101;123;131;48;2;253;246;227my\u001b[0m\u001b[38;2;101;123;131;48;2;253;246;227m)\u001b[0m\u001b[38;2;101;123;131;48;2;253;246;227m:\u001b[0m\u001b[48;2;253;246;227m                                                                                                 \u001b[0m │\n",
       "│ \u001b[38;2;101;123;131;48;2;253;246;227m    \u001b[0m\u001b[38;2;38;139;210;48;2;253;246;227mprint\u001b[0m\u001b[38;2;101;123;131;48;2;253;246;227m(\u001b[0m\u001b[38;2;42;161;152;48;2;253;246;227m\"\u001b[0m\u001b[38;2;42;161;152;48;2;253;246;227mHello from add!\u001b[0m\u001b[38;2;42;161;152;48;2;253;246;227m\"\u001b[0m\u001b[38;2;101;123;131;48;2;253;246;227m)\u001b[0m\u001b[48;2;253;246;227m                                                                                   \u001b[0m │\n",
       "│ \u001b[38;2;101;123;131;48;2;253;246;227m    \u001b[0m\u001b[38;2;133;153;0;48;2;253;246;227mreturn\u001b[0m\u001b[38;2;101;123;131;48;2;253;246;227m \u001b[0m\u001b[38;2;101;123;131;48;2;253;246;227mx\u001b[0m\u001b[38;2;101;123;131;48;2;253;246;227m \u001b[0m\u001b[38;2;147;161;161;48;2;253;246;227m+\u001b[0m\u001b[38;2;101;123;131;48;2;253;246;227m \u001b[0m\u001b[38;2;101;123;131;48;2;253;246;227my\u001b[0m\u001b[48;2;253;246;227m                                                                                               \u001b[0m │\n",
       "│ \u001b[48;2;253;246;227m                                                                                                               \u001b[0m │\n",
       "╰─────────────────────────────────────────────────────────────────────────────────────────────────────────────────╯\n",
       "╭─────────────────────────────────────────────────────────────────────────────────────────────────────────────────╮\n",
       "│ \u001b[3;38;2;147;161;161;48;2;253;246;227m### Dependencies for version of function add from module __main__\u001b[0m\u001b[48;2;253;246;227m                                              \u001b[0m │\n",
       "│ \u001b[3;38;2;147;161;161;48;2;253;246;227m### content_version_id=6001cb6bf4c98e8a1b1a2f9170c7dd14\u001b[0m\u001b[48;2;253;246;227m                                                        \u001b[0m │\n",
       "│ \u001b[3;38;2;147;161;161;48;2;253;246;227m### semantic_version_id=d1bae9c7d7f59e37d04dcb80adc06138\u001b[0m\u001b[48;2;253;246;227m                                                       \u001b[0m │\n",
       "│ \u001b[48;2;253;246;227m                                                                                                               \u001b[0m │\n",
       "│ \u001b[3;38;2;147;161;161;48;2;253;246;227m################################################################################\u001b[0m\u001b[48;2;253;246;227m                               \u001b[0m │\n",
       "│ \u001b[3;38;2;147;161;161;48;2;253;246;227m### IN MODULE \"__main__\"\u001b[0m\u001b[48;2;253;246;227m                                                                                       \u001b[0m │\n",
       "│ \u001b[3;38;2;147;161;161;48;2;253;246;227m################################################################################\u001b[0m\u001b[48;2;253;246;227m                               \u001b[0m │\n",
       "│ \u001b[48;2;253;246;227m                                                                                                               \u001b[0m │\n",
       "│ \u001b[38;2;38;139;210;48;2;253;246;227m@op\u001b[0m\u001b[38;2;101;123;131;48;2;253;246;227m \u001b[0m\u001b[3;38;2;147;161;161;48;2;253;246;227m# define a new @op to compose with `inc`\u001b[0m\u001b[48;2;253;246;227m                                                                   \u001b[0m │\n",
       "│ \u001b[38;2;133;153;0;48;2;253;246;227mdef\u001b[0m\u001b[38;2;101;123;131;48;2;253;246;227m \u001b[0m\u001b[38;2;38;139;210;48;2;253;246;227madd\u001b[0m\u001b[38;2;101;123;131;48;2;253;246;227m(\u001b[0m\u001b[38;2;101;123;131;48;2;253;246;227mx\u001b[0m\u001b[38;2;101;123;131;48;2;253;246;227m,\u001b[0m\u001b[38;2;101;123;131;48;2;253;246;227m \u001b[0m\u001b[38;2;101;123;131;48;2;253;246;227my\u001b[0m\u001b[38;2;101;123;131;48;2;253;246;227m)\u001b[0m\u001b[38;2;101;123;131;48;2;253;246;227m:\u001b[0m\u001b[48;2;253;246;227m                                                                                                 \u001b[0m │\n",
       "│ \u001b[38;2;101;123;131;48;2;253;246;227m    \u001b[0m\u001b[38;2;38;139;210;48;2;253;246;227mprint\u001b[0m\u001b[38;2;101;123;131;48;2;253;246;227m(\u001b[0m\u001b[38;2;42;161;152;48;2;253;246;227m\"\u001b[0m\u001b[38;2;42;161;152;48;2;253;246;227mHello from add!\u001b[0m\u001b[38;2;42;161;152;48;2;253;246;227m\"\u001b[0m\u001b[38;2;101;123;131;48;2;253;246;227m)\u001b[0m\u001b[48;2;253;246;227m                                                                                   \u001b[0m │\n",
       "│ \u001b[38;2;101;123;131;48;2;253;246;227m    \u001b[0m\u001b[38;2;133;153;0;48;2;253;246;227mreturn\u001b[0m\u001b[38;2;101;123;131;48;2;253;246;227m \u001b[0m\u001b[38;2;101;123;131;48;2;253;246;227mx\u001b[0m\u001b[38;2;101;123;131;48;2;253;246;227m \u001b[0m\u001b[38;2;147;161;161;48;2;253;246;227m+\u001b[0m\u001b[38;2;101;123;131;48;2;253;246;227m \u001b[0m\u001b[38;2;101;123;131;48;2;253;246;227msquare\u001b[0m\u001b[38;2;101;123;131;48;2;253;246;227m(\u001b[0m\u001b[38;2;101;123;131;48;2;253;246;227my\u001b[0m\u001b[38;2;101;123;131;48;2;253;246;227m)\u001b[0m\u001b[48;2;253;246;227m                                                                                       \u001b[0m │\n",
       "│ \u001b[48;2;253;246;227m                                                                                                               \u001b[0m │\n",
       "│ \u001b[38;2;38;139;210;48;2;253;246;227m@track\u001b[0m\u001b[38;2;101;123;131;48;2;253;246;227m \u001b[0m\u001b[3;38;2;147;161;161;48;2;253;246;227m# dependency tracking decorator\u001b[0m\u001b[48;2;253;246;227m                                                                         \u001b[0m │\n",
       "│ \u001b[38;2;133;153;0;48;2;253;246;227mdef\u001b[0m\u001b[38;2;101;123;131;48;2;253;246;227m \u001b[0m\u001b[38;2;38;139;210;48;2;253;246;227msquare\u001b[0m\u001b[38;2;101;123;131;48;2;253;246;227m(\u001b[0m\u001b[38;2;101;123;131;48;2;253;246;227mnum\u001b[0m\u001b[38;2;101;123;131;48;2;253;246;227m)\u001b[0m\u001b[38;2;101;123;131;48;2;253;246;227m:\u001b[0m\u001b[48;2;253;246;227m                                                                                               \u001b[0m │\n",
       "│ \u001b[38;2;101;123;131;48;2;253;246;227m    \u001b[0m\u001b[38;2;133;153;0;48;2;253;246;227mreturn\u001b[0m\u001b[38;2;101;123;131;48;2;253;246;227m \u001b[0m\u001b[38;2;101;123;131;48;2;253;246;227mnum\u001b[0m\u001b[38;2;147;161;161;48;2;253;246;227m*\u001b[0m\u001b[38;2;147;161;161;48;2;253;246;227m*\u001b[0m\u001b[38;2;42;161;152;48;2;253;246;227m2\u001b[0m\u001b[48;2;253;246;227m                                                                                              \u001b[0m │\n",
       "│ \u001b[48;2;253;246;227m                                                                                                               \u001b[0m │\n",
       "╰─────────────────────────────────────────────────────────────────────────────────────────────────────────────────╯\n"
      ]
     },
     "metadata": {},
     "output_type": "display_data"
    }
   ],
   "source": [
    "storage.versions(add)"
   ]
  },
  {
   "cell_type": "markdown",
   "metadata": {},
   "source": [
    "# Conclusion\n",
    "This was a very brief tour through the three main tools `mandala` offers:\n",
    "memoization, computation frames, and versioning. Later tutorials will explore\n",
    "these concepts in more complex situations, as well as in more realistic\n",
    "settings such as small machine learning projects."
   ]
  }
 ],
 "metadata": {
  "language_info": {
   "name": "python"
  }
 },
 "nbformat": 4,
 "nbformat_minor": 2
}
