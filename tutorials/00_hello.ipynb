{
 "cells": [
  {
   "cell_type": "markdown",
   "metadata": {},
   "source": [
    "# Hello world\n",
    "In this notebook, you'll run a minimal interesting example of `mandala`. It's a\n",
    "great way to quickly get a feel for the library and play with it yourself!\n",
    "\n",
    "If you want a more in-depth introduction with a real ML project, check out the\n",
    "[the next tutorial](01_logistic.ipynb).\n",
    "\n",
    "## Create the storage and computational primitives\n",
    "A `Storage` instance is where the results of all computations you run in a\n",
    "project are stored. Importantly, **the only way to put data into a `Storage` is\n",
    "to call a function**: you decorate your functions with the `@op` decorator, and\n",
    "then any time you call them, the inputs and outputs for this call are stored in\n",
    "the `Storage`.\n",
    "\n",
    "Go ahead and create a storage and two `@op`-decorated functions:"
   ]
  },
  {
   "cell_type": "code",
   "execution_count": null,
   "metadata": {},
   "outputs": [],
   "source": [
    "from mandala.imports import *\n",
    "\n",
    "# create a storage for results\n",
    "storage = Storage()\n",
    "\n",
    "@op # memoization decorator\n",
    "def inc(x) -> int:\n",
    "    print('Hi from inc!')\n",
    "    return x + 1 \n",
    "\n",
    "@op\n",
    "def add(x: int, y: int) -> int:\n",
    "    print('Hi from add!')\n",
    "    return x + y"
   ]
  },
  {
   "cell_type": "markdown",
   "metadata": {},
   "source": [
    "### A note on function inputs/outputs\n",
    "Currently, **`mandala` only supports functions with a fixed number of inputs and\n",
    "outputs**. To help make this explicit for outputs, you must specify\n",
    "the number of outputs in the return type annotation. For example, `def f() ->\n",
    "int` means that `f` returns a single integer, and `def f() -> Tuple[int, int]` means\n",
    "that `f` returns two integers. Functions that return nothing can leave the\n",
    "return type annotation empty."
   ]
  },
  {
   "cell_type": "markdown",
   "metadata": {},
   "source": [
    "## Your first `mandala`-tracked computation\n",
    "The main way you use `mandala` is through \"workflows\", i.e. compositions of\n",
    "`@op`-decorated functions. Running a workflow for the first time inside a\n",
    "`storage.run()` block will execute the workflow and store the results in the \n",
    "`storage`:"
   ]
  },
  {
   "cell_type": "code",
   "execution_count": null,
   "metadata": {},
   "outputs": [],
   "source": [
    "with storage.run():\n",
    "    x = inc(20)\n",
    "    y = add(21, x)\n",
    "    print(y)"
   ]
  },
  {
   "cell_type": "markdown",
   "metadata": {},
   "source": [
    "Running this workflow a **second** time will not re-execute it, but instead\n",
    "retrieve the results from the `storage` at each function call along the way:"
   ]
  },
  {
   "cell_type": "code",
   "execution_count": null,
   "metadata": {},
   "outputs": [],
   "source": [
    "with storage.run():\n",
    "    x = inc(20)\n",
    "    y = add(21, x)\n",
    "    print(y)"
   ]
  },
  {
   "cell_type": "markdown",
   "metadata": {},
   "source": [
    "Adding more logic to the workflow will not re-execute the parts that have\n",
    "already been executed:"
   ]
  },
  {
   "cell_type": "code",
   "execution_count": null,
   "metadata": {},
   "outputs": [],
   "source": [
    "with storage.run():\n",
    "    for a in [10, 20, 30]:\n",
    "        x = inc(a)\n",
    "        y = add(21, x)"
   ]
  },
  {
   "cell_type": "markdown",
   "metadata": {},
   "source": [
    "The workflow just executed can also be used as a jumping-off point for issuing\n",
    "queries. For example, `storage.similar(...)` can be used to query for a table of\n",
    "values that were computed in an analogous way to given variables:"
   ]
  },
  {
   "cell_type": "code",
   "execution_count": null,
   "metadata": {},
   "outputs": [],
   "source": [
    "storage.similar(y, context=True) # use `context=True` to also get the values of dependencies"
   ]
  },
  {
   "cell_type": "markdown",
   "metadata": {},
   "source": [
    "The `storage.similar` method prints out the query extracted from the\n",
    "computation. For more control (or if you dislike how implicit the interface\n",
    "above is), you can directly copy-paste this code into a `storage.query()` block:"
   ]
  },
  {
   "cell_type": "code",
   "execution_count": null,
   "metadata": {},
   "outputs": [],
   "source": [
    "with storage.query():\n",
    "    a = Q() # input to computation; can match anything\n",
    "    a0 = Q() # input to computation; can match anything\n",
    "    x = inc(x=a)\n",
    "    y = add(x=a0, y=x)\n",
    "storage.df(a, a0, x, y)"
   ]
  },
  {
   "cell_type": "markdown",
   "metadata": {},
   "source": [
    "Those are the main patterns you need to know to start playing around with\n",
    "`mandala`! We invite you to go back and modify the code above by creating new\n",
    "computational primitives and workflows, and see how `mandala` handles it.\n",
    "\n",
    "TODO: talk about versioning!"
   ]
  }
 ],
 "metadata": {
  "kernelspec": {
   "display_name": "Python 3.10.8",
   "language": "python",
   "name": "python3"
  },
  "language_info": {
   "codemirror_mode": {
    "name": "ipython",
    "version": 3
   },
   "file_extension": ".py",
   "mimetype": "text/x-python",
   "name": "python",
   "nbconvert_exporter": "python",
   "pygments_lexer": "ipython3",
   "version": "3.10.8"
  },
  "orig_nbformat": 4,
  "vscode": {
   "interpreter": {
    "hash": "30c0510467e0bc33a523a84a8acb20ce0730b8eb0ee254a4b0039140f094f217"
   }
  }
 },
 "nbformat": 4,
 "nbformat_minor": 2
}
