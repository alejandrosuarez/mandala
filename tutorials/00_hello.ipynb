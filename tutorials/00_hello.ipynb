{
 "cells": [
  {
   "cell_type": "markdown",
   "metadata": {},
   "source": [
    "# Hello world\n",
    "In this notebook, you'll run a minimal interesting example of `mandala`. It's a\n",
    "great way to quickly get a feel for the library and play with it yourself!\n",
    "\n",
    "If you want a more in-depth introduction with a real ML project, check out the\n",
    "[the next tutorial](01_logistic.ipynb).\n",
    "\n",
    "## Create the storage and computational primitives\n",
    "A `Storage` instance is where the results of all computations you run in a\n",
    "project are stored. Importantly, **the only way to put data into a `Storage` is\n",
    "to call a function**: you decorate your functions with the `@op` decorator, and\n",
    "then any time you call them, the inputs and outputs for this call are stored in\n",
    "the `Storage`.\n",
    "\n",
    "Go ahead and create a storage and two `@op`-decorated functions:"
   ]
  },
  {
   "cell_type": "code",
   "execution_count": 19,
   "metadata": {},
   "outputs": [],
   "source": [
    "from mandala.imports import *\n",
    "\n",
    "# create a storage for results\n",
    "storage = Storage()\n",
    "\n",
    "@op # memoization decorator\n",
    "def inc(x) -> int:\n",
    "    print('Hi from inc!')\n",
    "    return x + 1 \n",
    "\n",
    "@op\n",
    "def add(x: int, y: int) -> int:\n",
    "    print('Hi from add!')\n",
    "    return x + y"
   ]
  },
  {
   "cell_type": "markdown",
   "metadata": {},
   "source": [
    "### A note on function inputs/outputs\n",
    "Currently, **`mandala` only supports functions with a fixed number of inputs and\n",
    "outputs**. To help make this explicit for outputs, you must specify\n",
    "the number of outputs in the return type annotation. For example, `def f() ->\n",
    "int` means that `f` returns a single integer, and `def f() -> Tuple[int, int]` means\n",
    "that `f` returns two integers. Functions that return nothing can leave the\n",
    "return type annotation empty."
   ]
  },
  {
   "cell_type": "markdown",
   "metadata": {},
   "source": [
    "## Your first `mandala`-tracked computation\n",
    "The main way you use `mandala` is through \"workflows\", i.e. compositions of\n",
    "`@op`-decorated functions. Running a workflow for the first time inside a\n",
    "`storage.run()` block will execute the workflow and store the results in the \n",
    "`storage`:"
   ]
  },
  {
   "cell_type": "code",
   "execution_count": 20,
   "metadata": {},
   "outputs": [
    {
     "name": "stdout",
     "output_type": "stream",
     "text": [
      "Hi from inc!\n",
      "Hi from add!\n",
      "ValueRef(42, uid=098eb3a17aa1bb3222230cd64bd9114661f91895947f1b601bc4ff58019775203cc7ce32ce3f3cff1a1e67ea3bdc753032fc0c19311945dcdcb6b9d72f34989a)\n"
     ]
    }
   ],
   "source": [
    "with storage.run():\n",
    "    x = inc(20)\n",
    "    y = add(21, x)\n",
    "    print(y)"
   ]
  },
  {
   "cell_type": "markdown",
   "metadata": {},
   "source": [
    "Running this workflow a **second** time will not re-execute it, but instead\n",
    "retrieve the results from the `storage` at each function call along the way:"
   ]
  },
  {
   "cell_type": "code",
   "execution_count": 13,
   "metadata": {},
   "outputs": [
    {
     "name": "stdout",
     "output_type": "stream",
     "text": [
      "ValueRef(42, uid=098eb3a17aa1bb3222230cd64bd9114661f91895947f1b601bc4ff58019775203cc7ce32ce3f3cff1a1e67ea3bdc753032fc0c19311945dcdcb6b9d72f34989a)\n"
     ]
    }
   ],
   "source": [
    "with storage.run():\n",
    "    x = inc(20)\n",
    "    y = add(21, x)\n",
    "    print(y)"
   ]
  },
  {
   "cell_type": "markdown",
   "metadata": {},
   "source": [
    "Adding more logic to the workflow will not re-execute the parts that have\n",
    "already been executed:"
   ]
  },
  {
   "cell_type": "code",
   "execution_count": 16,
   "metadata": {},
   "outputs": [],
   "source": [
    "with storage.run():\n",
    "    for a in [10, 20, 30]:\n",
    "        x = inc(a)\n",
    "        y = add(21, x)"
   ]
  },
  {
   "cell_type": "markdown",
   "metadata": {},
   "source": [
    "Finally, code inside the `storage.query()` block can pattern-match to\n",
    "computational dependencies to retrieve the results of the workflow in a table:"
   ]
  },
  {
   "cell_type": "code",
   "execution_count": 18,
   "metadata": {},
   "outputs": [
    {
     "data": {
      "text/html": [
       "<div>\n",
       "<style scoped>\n",
       "    .dataframe tbody tr th:only-of-type {\n",
       "        vertical-align: middle;\n",
       "    }\n",
       "\n",
       "    .dataframe tbody tr th {\n",
       "        vertical-align: top;\n",
       "    }\n",
       "\n",
       "    .dataframe thead th {\n",
       "        text-align: right;\n",
       "    }\n",
       "</style>\n",
       "<table border=\"1\" class=\"dataframe\">\n",
       "  <thead>\n",
       "    <tr style=\"text-align: right;\">\n",
       "      <th></th>\n",
       "      <th>a</th>\n",
       "      <th>x</th>\n",
       "      <th>y</th>\n",
       "    </tr>\n",
       "  </thead>\n",
       "  <tbody>\n",
       "    <tr>\n",
       "      <th>0</th>\n",
       "      <td>20</td>\n",
       "      <td>21</td>\n",
       "      <td>42</td>\n",
       "    </tr>\n",
       "    <tr>\n",
       "      <th>1</th>\n",
       "      <td>10</td>\n",
       "      <td>11</td>\n",
       "      <td>32</td>\n",
       "    </tr>\n",
       "    <tr>\n",
       "      <th>2</th>\n",
       "      <td>30</td>\n",
       "      <td>31</td>\n",
       "      <td>52</td>\n",
       "    </tr>\n",
       "  </tbody>\n",
       "</table>\n",
       "</div>"
      ],
      "text/plain": [
       "    a   x   y\n",
       "0  20  21  42\n",
       "1  10  11  32\n",
       "2  30  31  52"
      ]
     },
     "execution_count": 18,
     "metadata": {},
     "output_type": "execute_result"
    }
   ],
   "source": [
    "with storage.query() as q:\n",
    "    a = Q() # a placeholder for a value\n",
    "    x = inc(a) # same code as above\n",
    "    y = add(21, x) # same code as above\n",
    "    df = q.get_table(a.named('a'), x.named('x'), y.named('y'))\n",
    "df"
   ]
  },
  {
   "cell_type": "markdown",
   "metadata": {},
   "source": [
    "Those are the main patterns you need to know to start playing around with\n",
    "`mandala`! We invite you to go back and modify the code above by creating new\n",
    "computational primitives and workflows, and see how `mandala` handles it."
   ]
  }
 ],
 "metadata": {
  "kernelspec": {
   "display_name": "Python 3.10.6",
   "language": "python",
   "name": "python3"
  },
  "language_info": {
   "codemirror_mode": {
    "name": "ipython",
    "version": 3
   },
   "file_extension": ".py",
   "mimetype": "text/x-python",
   "name": "python",
   "nbconvert_exporter": "python",
   "pygments_lexer": "ipython3",
   "version": "3.10.6"
  },
  "orig_nbformat": 4,
  "vscode": {
   "interpreter": {
    "hash": "e39bb3b1f45b78879464f3858f3ac405da62799496d9b7e0a39caf0b676c9a45"
   }
  }
 },
 "nbformat": 4,
 "nbformat_minor": 2
}
