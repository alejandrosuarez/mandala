{
 "cells": [
  {
   "cell_type": "markdown",
   "metadata": {},
   "source": [
    "# Changing `@op`s and managing versions\n",
    "It should be easy to change your code and have the storage respond in a correct\n",
    "way (e.g., recompute a call **only** when the logic behind it has changed).\n",
    "`mandala` provides the following mechanisms to do that:\n",
    "\n",
    "- **automatic per-call dependency tracking**: every `@op` call records the\n",
    "functions it called along the way. This allows the `storage` to automatically\n",
    "know, given some inputs, whether a past call for these inputs can be reused \n",
    "given the current state of the code. This is a very fine-grained notion of\n",
    "reuse.\n",
    "- **marking changes as breaking vs non-breaking**: when a change to an `@op` or\n",
    "its dependencies is detected, you can choose to mark it as breaking the calls that depend on it\n",
    "or not. However, **breaking changes are generally more fool-proof**; see [caveats of non-breaking changes](#caveats-of-marking-changes-as-non-breaking).\n",
    "- **content-based versioning**: the current state of the codebase uniquely\n",
    "determines the version each `@op` is in. There are no arbitrary names attached\n",
    "to versions. The versions for each `@op` can be inspected in a `git`-like data\n",
    "structure."
   ]
  },
  {
   "cell_type": "markdown",
   "metadata": {},
   "source": [
    "## Enabling and configuring versioning\n",
    "Passing a value to the `deps_path` parameter of the `Storage` class enables\n",
    "dependency tracking and versioning. This means that any time a memoized function\n",
    "*actually executes* (instead of reusing a past call's results), it keeps track\n",
    "of the functions and global variables it accesses along the way. \n",
    "\n",
    "Usually, the functions we want to track are limited to user-defined ones (you\n",
    "typically don't want to track changes in installed libraries!):\n",
    "\n",
    "- Setting `deps_path` to `\"__main__\"` will only look for dependencies `f`\n",
    "defined in the current interactive session or process (as determined by\n",
    "`f.__module__`).\n",
    "- Setting it to a folder will only look for dependencies defined in this folder."
   ]
  },
  {
   "cell_type": "code",
   "execution_count": 1,
   "metadata": {
    "execution": {
     "iopub.execute_input": "2024-07-02T23:37:32.003071Z",
     "iopub.status.busy": "2024-07-02T23:37:32.002508Z",
     "iopub.status.idle": "2024-07-02T23:37:34.082928Z",
     "shell.execute_reply": "2024-07-02T23:37:34.082372Z"
    }
   },
   "outputs": [],
   "source": [
    "from mandala.imports import Storage, op, track\n",
    "\n",
    "storage = Storage(deps_path='__main__')"
   ]
  },
  {
   "cell_type": "markdown",
   "metadata": {},
   "source": [
    "## The `@track` decorator\n",
    "The most efficient and reliable implementation of dependency tracking currently\n",
    "requires you to explicitly put `@track` on non-memoized functions and classes\n",
    "you want to track. This limitation may be lifted in the future, but at the cost\n",
    "of more magic (i.e., automatically applying the decorator to functions in the\n",
    "current local scope that originate in given paths).\n",
    "\n",
    "The alternative (experimental) decorator implementation is based on\n",
    "`sys.settrace`. Limitations are described in this [blog\n",
    "post](https://amakelov.github.io/blog/deps/#syssettrace))"
   ]
  },
  {
   "cell_type": "markdown",
   "metadata": {},
   "source": [
    "## Examining the captured versions\n",
    "Let's run a small ML pipeline, where we optionally apply scaling to the data,\n",
    "introducing a non-`@op` dependency for some of the calls:"
   ]
  },
  {
   "cell_type": "code",
   "execution_count": 2,
   "metadata": {
    "execution": {
     "iopub.execute_input": "2024-07-02T23:37:34.086211Z",
     "iopub.status.busy": "2024-07-02T23:37:34.085833Z",
     "iopub.status.idle": "2024-07-02T23:37:35.163955Z",
     "shell.execute_reply": "2024-07-02T23:37:35.163223Z"
    }
   },
   "outputs": [],
   "source": [
    "from sklearn.datasets import load_digits\n",
    "from sklearn.linear_model import LogisticRegression\n",
    "from sklearn.preprocessing import StandardScaler\n",
    "\n",
    "N_CLASS = 10\n",
    "\n",
    "@track # to track a non-memoized function as a dependency\n",
    "def scale_data(X):\n",
    "    return StandardScaler(with_mean=True, with_std=False).fit_transform(X)\n",
    "\n",
    "@op\n",
    "def load_data():\n",
    "    X, y = load_digits(n_class=N_CLASS, return_X_y=True)\n",
    "    return X, y\n",
    "\n",
    "@op\n",
    "def train_model(X, y, scale=False):\n",
    "    if scale:\n",
    "        X = scale_data(X)\n",
    "    return LogisticRegression(max_iter=1000, solver='liblinear').fit(X, y)\n",
    "\n",
    "@op\n",
    "def eval_model(model, X, y, scale=False):\n",
    "    if scale:\n",
    "        X = scale_data(X)\n",
    "    return model.score(X, y)\n",
    "\n",
    "with storage:\n",
    "    X, y = load_data()\n",
    "    for scale in [False, True]:\n",
    "        model = train_model(X, y, scale=scale)\n",
    "        acc = eval_model(model, X, y, scale=scale)"
   ]
  },
  {
   "cell_type": "markdown",
   "metadata": {},
   "source": [
    "Now `train_model` and `eval_model` will each have two versions - one that\n",
    "depends on `scale_data` and one that doesn't. You can confirm this by calling\n",
    "e.g. `storage.versions(train_model)`:"
   ]
  },
  {
   "cell_type": "code",
   "execution_count": 3,
   "metadata": {
    "execution": {
     "iopub.execute_input": "2024-07-02T23:37:35.167116Z",
     "iopub.status.busy": "2024-07-02T23:37:35.166713Z",
     "iopub.status.idle": "2024-07-02T23:37:35.241357Z",
     "shell.execute_reply": "2024-07-02T23:37:35.240816Z"
    }
   },
   "outputs": [
    {
     "data": {
      "text/html": [
       "<pre style=\"white-space:pre;overflow-x:auto;line-height:normal;font-family:Menlo,'DejaVu Sans Mono',consolas,'Courier New',monospace\">╭─────────────────────────────────────────────────────────────────────────────────────────────────────────────────╮\n",
       "│ <span style=\"color: #93a1a1; text-decoration-color: #93a1a1; background-color: #fdf6e3; font-style: italic\">### Dependencies for version of function train_model from module __main__</span><span style=\"background-color: #fdf6e3\">                                      </span> │\n",
       "│ <span style=\"color: #93a1a1; text-decoration-color: #93a1a1; background-color: #fdf6e3; font-style: italic\">### content_version_id=db93a1e9c60fb37868575845a7afe47d</span><span style=\"background-color: #fdf6e3\">                                                        </span> │\n",
       "│ <span style=\"color: #93a1a1; text-decoration-color: #93a1a1; background-color: #fdf6e3; font-style: italic\">### semantic_version_id=2acaa8919ddd4b5d8846f1f2d15bc971</span><span style=\"background-color: #fdf6e3\">                                                       </span> │\n",
       "│ <span style=\"background-color: #fdf6e3\">                                                                                                               </span> │\n",
       "│ <span style=\"color: #93a1a1; text-decoration-color: #93a1a1; background-color: #fdf6e3; font-style: italic\">################################################################################</span><span style=\"background-color: #fdf6e3\">                               </span> │\n",
       "│ <span style=\"color: #93a1a1; text-decoration-color: #93a1a1; background-color: #fdf6e3; font-style: italic\">### IN MODULE \"__main__\"</span><span style=\"background-color: #fdf6e3\">                                                                                       </span> │\n",
       "│ <span style=\"color: #93a1a1; text-decoration-color: #93a1a1; background-color: #fdf6e3; font-style: italic\">################################################################################</span><span style=\"background-color: #fdf6e3\">                               </span> │\n",
       "│ <span style=\"background-color: #fdf6e3\">                                                                                                               </span> │\n",
       "│ <span style=\"color: #268bd2; text-decoration-color: #268bd2; background-color: #fdf6e3\">@op</span><span style=\"background-color: #fdf6e3\">                                                                                                            </span> │\n",
       "│ <span style=\"color: #859900; text-decoration-color: #859900; background-color: #fdf6e3\">def</span><span style=\"color: #657b83; text-decoration-color: #657b83; background-color: #fdf6e3\"> </span><span style=\"color: #268bd2; text-decoration-color: #268bd2; background-color: #fdf6e3\">train_model</span><span style=\"color: #657b83; text-decoration-color: #657b83; background-color: #fdf6e3\">(X, y, scale</span><span style=\"color: #93a1a1; text-decoration-color: #93a1a1; background-color: #fdf6e3\">=</span><span style=\"color: #2aa198; text-decoration-color: #2aa198; background-color: #fdf6e3\">False</span><span style=\"color: #657b83; text-decoration-color: #657b83; background-color: #fdf6e3\">):</span><span style=\"background-color: #fdf6e3\">                                                                            </span> │\n",
       "│ <span style=\"color: #657b83; text-decoration-color: #657b83; background-color: #fdf6e3\">    </span><span style=\"color: #859900; text-decoration-color: #859900; background-color: #fdf6e3\">if</span><span style=\"color: #657b83; text-decoration-color: #657b83; background-color: #fdf6e3\"> scale:</span><span style=\"background-color: #fdf6e3\">                                                                                                  </span> │\n",
       "│ <span style=\"color: #657b83; text-decoration-color: #657b83; background-color: #fdf6e3\">        X </span><span style=\"color: #93a1a1; text-decoration-color: #93a1a1; background-color: #fdf6e3\">=</span><span style=\"color: #657b83; text-decoration-color: #657b83; background-color: #fdf6e3\"> scale_data(X)</span><span style=\"background-color: #fdf6e3\">                                                                                      </span> │\n",
       "│ <span style=\"color: #657b83; text-decoration-color: #657b83; background-color: #fdf6e3\">    </span><span style=\"color: #859900; text-decoration-color: #859900; background-color: #fdf6e3\">return</span><span style=\"color: #657b83; text-decoration-color: #657b83; background-color: #fdf6e3\"> LogisticRegression(max_iter</span><span style=\"color: #93a1a1; text-decoration-color: #93a1a1; background-color: #fdf6e3\">=</span><span style=\"color: #2aa198; text-decoration-color: #2aa198; background-color: #fdf6e3\">1000</span><span style=\"color: #657b83; text-decoration-color: #657b83; background-color: #fdf6e3\">, solver</span><span style=\"color: #93a1a1; text-decoration-color: #93a1a1; background-color: #fdf6e3\">=</span><span style=\"color: #2aa198; text-decoration-color: #2aa198; background-color: #fdf6e3\">'liblinear'</span><span style=\"color: #657b83; text-decoration-color: #657b83; background-color: #fdf6e3\">)</span><span style=\"color: #93a1a1; text-decoration-color: #93a1a1; background-color: #fdf6e3\">.</span><span style=\"color: #657b83; text-decoration-color: #657b83; background-color: #fdf6e3\">fit(X, y)</span><span style=\"background-color: #fdf6e3\">                                     </span> │\n",
       "│ <span style=\"background-color: #fdf6e3\">                                                                                                               </span> │\n",
       "╰─────────────────────────────────────────────────────────────────────────────────────────────────────────────────╯\n",
       "╭─────────────────────────────────────────────────────────────────────────────────────────────────────────────────╮\n",
       "│ <span style=\"color: #93a1a1; text-decoration-color: #93a1a1; background-color: #fdf6e3; font-style: italic\">### Dependencies for version of function train_model from module __main__</span><span style=\"background-color: #fdf6e3\">                                      </span> │\n",
       "│ <span style=\"color: #93a1a1; text-decoration-color: #93a1a1; background-color: #fdf6e3; font-style: italic\">### content_version_id=2717c55fbbbb60442535a8dea0c81f67</span><span style=\"background-color: #fdf6e3\">                                                        </span> │\n",
       "│ <span style=\"color: #93a1a1; text-decoration-color: #93a1a1; background-color: #fdf6e3; font-style: italic\">### semantic_version_id=4674057d19bbf217687dd9dabe01df36</span><span style=\"background-color: #fdf6e3\">                                                       </span> │\n",
       "│ <span style=\"background-color: #fdf6e3\">                                                                                                               </span> │\n",
       "│ <span style=\"color: #93a1a1; text-decoration-color: #93a1a1; background-color: #fdf6e3; font-style: italic\">################################################################################</span><span style=\"background-color: #fdf6e3\">                               </span> │\n",
       "│ <span style=\"color: #93a1a1; text-decoration-color: #93a1a1; background-color: #fdf6e3; font-style: italic\">### IN MODULE \"__main__\"</span><span style=\"background-color: #fdf6e3\">                                                                                       </span> │\n",
       "│ <span style=\"color: #93a1a1; text-decoration-color: #93a1a1; background-color: #fdf6e3; font-style: italic\">################################################################################</span><span style=\"background-color: #fdf6e3\">                               </span> │\n",
       "│ <span style=\"background-color: #fdf6e3\">                                                                                                               </span> │\n",
       "│ <span style=\"color: #268bd2; text-decoration-color: #268bd2; background-color: #fdf6e3\">@track</span><span style=\"color: #657b83; text-decoration-color: #657b83; background-color: #fdf6e3\"> </span><span style=\"color: #93a1a1; text-decoration-color: #93a1a1; background-color: #fdf6e3; font-style: italic\"># to track a non-memoized function as a dependency</span><span style=\"background-color: #fdf6e3\">                                                      </span> │\n",
       "│ <span style=\"color: #859900; text-decoration-color: #859900; background-color: #fdf6e3\">def</span><span style=\"color: #657b83; text-decoration-color: #657b83; background-color: #fdf6e3\"> </span><span style=\"color: #268bd2; text-decoration-color: #268bd2; background-color: #fdf6e3\">scale_data</span><span style=\"color: #657b83; text-decoration-color: #657b83; background-color: #fdf6e3\">(X):</span><span style=\"background-color: #fdf6e3\">                                                                                             </span> │\n",
       "│ <span style=\"color: #657b83; text-decoration-color: #657b83; background-color: #fdf6e3\">    </span><span style=\"color: #859900; text-decoration-color: #859900; background-color: #fdf6e3\">return</span><span style=\"color: #657b83; text-decoration-color: #657b83; background-color: #fdf6e3\"> StandardScaler(with_mean</span><span style=\"color: #93a1a1; text-decoration-color: #93a1a1; background-color: #fdf6e3\">=</span><span style=\"color: #2aa198; text-decoration-color: #2aa198; background-color: #fdf6e3\">True</span><span style=\"color: #657b83; text-decoration-color: #657b83; background-color: #fdf6e3\">, with_std</span><span style=\"color: #93a1a1; text-decoration-color: #93a1a1; background-color: #fdf6e3\">=</span><span style=\"color: #2aa198; text-decoration-color: #2aa198; background-color: #fdf6e3\">False</span><span style=\"color: #657b83; text-decoration-color: #657b83; background-color: #fdf6e3\">)</span><span style=\"color: #93a1a1; text-decoration-color: #93a1a1; background-color: #fdf6e3\">.</span><span style=\"color: #657b83; text-decoration-color: #657b83; background-color: #fdf6e3\">fit_transform(X)</span><span style=\"background-color: #fdf6e3\">                                     </span> │\n",
       "│ <span style=\"background-color: #fdf6e3\">                                                                                                               </span> │\n",
       "│ <span style=\"color: #268bd2; text-decoration-color: #268bd2; background-color: #fdf6e3\">@op</span><span style=\"background-color: #fdf6e3\">                                                                                                            </span> │\n",
       "│ <span style=\"color: #859900; text-decoration-color: #859900; background-color: #fdf6e3\">def</span><span style=\"color: #657b83; text-decoration-color: #657b83; background-color: #fdf6e3\"> </span><span style=\"color: #268bd2; text-decoration-color: #268bd2; background-color: #fdf6e3\">train_model</span><span style=\"color: #657b83; text-decoration-color: #657b83; background-color: #fdf6e3\">(X, y, scale</span><span style=\"color: #93a1a1; text-decoration-color: #93a1a1; background-color: #fdf6e3\">=</span><span style=\"color: #2aa198; text-decoration-color: #2aa198; background-color: #fdf6e3\">False</span><span style=\"color: #657b83; text-decoration-color: #657b83; background-color: #fdf6e3\">):</span><span style=\"background-color: #fdf6e3\">                                                                            </span> │\n",
       "│ <span style=\"color: #657b83; text-decoration-color: #657b83; background-color: #fdf6e3\">    </span><span style=\"color: #859900; text-decoration-color: #859900; background-color: #fdf6e3\">if</span><span style=\"color: #657b83; text-decoration-color: #657b83; background-color: #fdf6e3\"> scale:</span><span style=\"background-color: #fdf6e3\">                                                                                                  </span> │\n",
       "│ <span style=\"color: #657b83; text-decoration-color: #657b83; background-color: #fdf6e3\">        X </span><span style=\"color: #93a1a1; text-decoration-color: #93a1a1; background-color: #fdf6e3\">=</span><span style=\"color: #657b83; text-decoration-color: #657b83; background-color: #fdf6e3\"> scale_data(X)</span><span style=\"background-color: #fdf6e3\">                                                                                      </span> │\n",
       "│ <span style=\"color: #657b83; text-decoration-color: #657b83; background-color: #fdf6e3\">    </span><span style=\"color: #859900; text-decoration-color: #859900; background-color: #fdf6e3\">return</span><span style=\"color: #657b83; text-decoration-color: #657b83; background-color: #fdf6e3\"> LogisticRegression(max_iter</span><span style=\"color: #93a1a1; text-decoration-color: #93a1a1; background-color: #fdf6e3\">=</span><span style=\"color: #2aa198; text-decoration-color: #2aa198; background-color: #fdf6e3\">1000</span><span style=\"color: #657b83; text-decoration-color: #657b83; background-color: #fdf6e3\">, solver</span><span style=\"color: #93a1a1; text-decoration-color: #93a1a1; background-color: #fdf6e3\">=</span><span style=\"color: #2aa198; text-decoration-color: #2aa198; background-color: #fdf6e3\">'liblinear'</span><span style=\"color: #657b83; text-decoration-color: #657b83; background-color: #fdf6e3\">)</span><span style=\"color: #93a1a1; text-decoration-color: #93a1a1; background-color: #fdf6e3\">.</span><span style=\"color: #657b83; text-decoration-color: #657b83; background-color: #fdf6e3\">fit(X, y)</span><span style=\"background-color: #fdf6e3\">                                     </span> │\n",
       "│ <span style=\"background-color: #fdf6e3\">                                                                                                               </span> │\n",
       "╰─────────────────────────────────────────────────────────────────────────────────────────────────────────────────╯\n",
       "</pre>\n"
      ],
      "text/plain": [
       "╭─────────────────────────────────────────────────────────────────────────────────────────────────────────────────╮\n",
       "│ \u001b[3;38;2;147;161;161;48;2;253;246;227m### Dependencies for version of function train_model from module __main__\u001b[0m\u001b[48;2;253;246;227m                                      \u001b[0m │\n",
       "│ \u001b[3;38;2;147;161;161;48;2;253;246;227m### content_version_id=db93a1e9c60fb37868575845a7afe47d\u001b[0m\u001b[48;2;253;246;227m                                                        \u001b[0m │\n",
       "│ \u001b[3;38;2;147;161;161;48;2;253;246;227m### semantic_version_id=2acaa8919ddd4b5d8846f1f2d15bc971\u001b[0m\u001b[48;2;253;246;227m                                                       \u001b[0m │\n",
       "│ \u001b[48;2;253;246;227m                                                                                                               \u001b[0m │\n",
       "│ \u001b[3;38;2;147;161;161;48;2;253;246;227m################################################################################\u001b[0m\u001b[48;2;253;246;227m                               \u001b[0m │\n",
       "│ \u001b[3;38;2;147;161;161;48;2;253;246;227m### IN MODULE \"__main__\"\u001b[0m\u001b[48;2;253;246;227m                                                                                       \u001b[0m │\n",
       "│ \u001b[3;38;2;147;161;161;48;2;253;246;227m################################################################################\u001b[0m\u001b[48;2;253;246;227m                               \u001b[0m │\n",
       "│ \u001b[48;2;253;246;227m                                                                                                               \u001b[0m │\n",
       "│ \u001b[38;2;38;139;210;48;2;253;246;227m@op\u001b[0m\u001b[48;2;253;246;227m                                                                                                            \u001b[0m │\n",
       "│ \u001b[38;2;133;153;0;48;2;253;246;227mdef\u001b[0m\u001b[38;2;101;123;131;48;2;253;246;227m \u001b[0m\u001b[38;2;38;139;210;48;2;253;246;227mtrain_model\u001b[0m\u001b[38;2;101;123;131;48;2;253;246;227m(\u001b[0m\u001b[38;2;101;123;131;48;2;253;246;227mX\u001b[0m\u001b[38;2;101;123;131;48;2;253;246;227m,\u001b[0m\u001b[38;2;101;123;131;48;2;253;246;227m \u001b[0m\u001b[38;2;101;123;131;48;2;253;246;227my\u001b[0m\u001b[38;2;101;123;131;48;2;253;246;227m,\u001b[0m\u001b[38;2;101;123;131;48;2;253;246;227m \u001b[0m\u001b[38;2;101;123;131;48;2;253;246;227mscale\u001b[0m\u001b[38;2;147;161;161;48;2;253;246;227m=\u001b[0m\u001b[38;2;42;161;152;48;2;253;246;227mFalse\u001b[0m\u001b[38;2;101;123;131;48;2;253;246;227m)\u001b[0m\u001b[38;2;101;123;131;48;2;253;246;227m:\u001b[0m\u001b[48;2;253;246;227m                                                                            \u001b[0m │\n",
       "│ \u001b[38;2;101;123;131;48;2;253;246;227m    \u001b[0m\u001b[38;2;133;153;0;48;2;253;246;227mif\u001b[0m\u001b[38;2;101;123;131;48;2;253;246;227m \u001b[0m\u001b[38;2;101;123;131;48;2;253;246;227mscale\u001b[0m\u001b[38;2;101;123;131;48;2;253;246;227m:\u001b[0m\u001b[48;2;253;246;227m                                                                                                  \u001b[0m │\n",
       "│ \u001b[38;2;101;123;131;48;2;253;246;227m        \u001b[0m\u001b[38;2;101;123;131;48;2;253;246;227mX\u001b[0m\u001b[38;2;101;123;131;48;2;253;246;227m \u001b[0m\u001b[38;2;147;161;161;48;2;253;246;227m=\u001b[0m\u001b[38;2;101;123;131;48;2;253;246;227m \u001b[0m\u001b[38;2;101;123;131;48;2;253;246;227mscale_data\u001b[0m\u001b[38;2;101;123;131;48;2;253;246;227m(\u001b[0m\u001b[38;2;101;123;131;48;2;253;246;227mX\u001b[0m\u001b[38;2;101;123;131;48;2;253;246;227m)\u001b[0m\u001b[48;2;253;246;227m                                                                                      \u001b[0m │\n",
       "│ \u001b[38;2;101;123;131;48;2;253;246;227m    \u001b[0m\u001b[38;2;133;153;0;48;2;253;246;227mreturn\u001b[0m\u001b[38;2;101;123;131;48;2;253;246;227m \u001b[0m\u001b[38;2;101;123;131;48;2;253;246;227mLogisticRegression\u001b[0m\u001b[38;2;101;123;131;48;2;253;246;227m(\u001b[0m\u001b[38;2;101;123;131;48;2;253;246;227mmax_iter\u001b[0m\u001b[38;2;147;161;161;48;2;253;246;227m=\u001b[0m\u001b[38;2;42;161;152;48;2;253;246;227m1000\u001b[0m\u001b[38;2;101;123;131;48;2;253;246;227m,\u001b[0m\u001b[38;2;101;123;131;48;2;253;246;227m \u001b[0m\u001b[38;2;101;123;131;48;2;253;246;227msolver\u001b[0m\u001b[38;2;147;161;161;48;2;253;246;227m=\u001b[0m\u001b[38;2;42;161;152;48;2;253;246;227m'\u001b[0m\u001b[38;2;42;161;152;48;2;253;246;227mliblinear\u001b[0m\u001b[38;2;42;161;152;48;2;253;246;227m'\u001b[0m\u001b[38;2;101;123;131;48;2;253;246;227m)\u001b[0m\u001b[38;2;147;161;161;48;2;253;246;227m.\u001b[0m\u001b[38;2;101;123;131;48;2;253;246;227mfit\u001b[0m\u001b[38;2;101;123;131;48;2;253;246;227m(\u001b[0m\u001b[38;2;101;123;131;48;2;253;246;227mX\u001b[0m\u001b[38;2;101;123;131;48;2;253;246;227m,\u001b[0m\u001b[38;2;101;123;131;48;2;253;246;227m \u001b[0m\u001b[38;2;101;123;131;48;2;253;246;227my\u001b[0m\u001b[38;2;101;123;131;48;2;253;246;227m)\u001b[0m\u001b[48;2;253;246;227m                                     \u001b[0m │\n",
       "│ \u001b[48;2;253;246;227m                                                                                                               \u001b[0m │\n",
       "╰─────────────────────────────────────────────────────────────────────────────────────────────────────────────────╯\n",
       "╭─────────────────────────────────────────────────────────────────────────────────────────────────────────────────╮\n",
       "│ \u001b[3;38;2;147;161;161;48;2;253;246;227m### Dependencies for version of function train_model from module __main__\u001b[0m\u001b[48;2;253;246;227m                                      \u001b[0m │\n",
       "│ \u001b[3;38;2;147;161;161;48;2;253;246;227m### content_version_id=2717c55fbbbb60442535a8dea0c81f67\u001b[0m\u001b[48;2;253;246;227m                                                        \u001b[0m │\n",
       "│ \u001b[3;38;2;147;161;161;48;2;253;246;227m### semantic_version_id=4674057d19bbf217687dd9dabe01df36\u001b[0m\u001b[48;2;253;246;227m                                                       \u001b[0m │\n",
       "│ \u001b[48;2;253;246;227m                                                                                                               \u001b[0m │\n",
       "│ \u001b[3;38;2;147;161;161;48;2;253;246;227m################################################################################\u001b[0m\u001b[48;2;253;246;227m                               \u001b[0m │\n",
       "│ \u001b[3;38;2;147;161;161;48;2;253;246;227m### IN MODULE \"__main__\"\u001b[0m\u001b[48;2;253;246;227m                                                                                       \u001b[0m │\n",
       "│ \u001b[3;38;2;147;161;161;48;2;253;246;227m################################################################################\u001b[0m\u001b[48;2;253;246;227m                               \u001b[0m │\n",
       "│ \u001b[48;2;253;246;227m                                                                                                               \u001b[0m │\n",
       "│ \u001b[38;2;38;139;210;48;2;253;246;227m@track\u001b[0m\u001b[38;2;101;123;131;48;2;253;246;227m \u001b[0m\u001b[3;38;2;147;161;161;48;2;253;246;227m# to track a non-memoized function as a dependency\u001b[0m\u001b[48;2;253;246;227m                                                      \u001b[0m │\n",
       "│ \u001b[38;2;133;153;0;48;2;253;246;227mdef\u001b[0m\u001b[38;2;101;123;131;48;2;253;246;227m \u001b[0m\u001b[38;2;38;139;210;48;2;253;246;227mscale_data\u001b[0m\u001b[38;2;101;123;131;48;2;253;246;227m(\u001b[0m\u001b[38;2;101;123;131;48;2;253;246;227mX\u001b[0m\u001b[38;2;101;123;131;48;2;253;246;227m)\u001b[0m\u001b[38;2;101;123;131;48;2;253;246;227m:\u001b[0m\u001b[48;2;253;246;227m                                                                                             \u001b[0m │\n",
       "│ \u001b[38;2;101;123;131;48;2;253;246;227m    \u001b[0m\u001b[38;2;133;153;0;48;2;253;246;227mreturn\u001b[0m\u001b[38;2;101;123;131;48;2;253;246;227m \u001b[0m\u001b[38;2;101;123;131;48;2;253;246;227mStandardScaler\u001b[0m\u001b[38;2;101;123;131;48;2;253;246;227m(\u001b[0m\u001b[38;2;101;123;131;48;2;253;246;227mwith_mean\u001b[0m\u001b[38;2;147;161;161;48;2;253;246;227m=\u001b[0m\u001b[38;2;42;161;152;48;2;253;246;227mTrue\u001b[0m\u001b[38;2;101;123;131;48;2;253;246;227m,\u001b[0m\u001b[38;2;101;123;131;48;2;253;246;227m \u001b[0m\u001b[38;2;101;123;131;48;2;253;246;227mwith_std\u001b[0m\u001b[38;2;147;161;161;48;2;253;246;227m=\u001b[0m\u001b[38;2;42;161;152;48;2;253;246;227mFalse\u001b[0m\u001b[38;2;101;123;131;48;2;253;246;227m)\u001b[0m\u001b[38;2;147;161;161;48;2;253;246;227m.\u001b[0m\u001b[38;2;101;123;131;48;2;253;246;227mfit_transform\u001b[0m\u001b[38;2;101;123;131;48;2;253;246;227m(\u001b[0m\u001b[38;2;101;123;131;48;2;253;246;227mX\u001b[0m\u001b[38;2;101;123;131;48;2;253;246;227m)\u001b[0m\u001b[48;2;253;246;227m                                     \u001b[0m │\n",
       "│ \u001b[48;2;253;246;227m                                                                                                               \u001b[0m │\n",
       "│ \u001b[38;2;38;139;210;48;2;253;246;227m@op\u001b[0m\u001b[48;2;253;246;227m                                                                                                            \u001b[0m │\n",
       "│ \u001b[38;2;133;153;0;48;2;253;246;227mdef\u001b[0m\u001b[38;2;101;123;131;48;2;253;246;227m \u001b[0m\u001b[38;2;38;139;210;48;2;253;246;227mtrain_model\u001b[0m\u001b[38;2;101;123;131;48;2;253;246;227m(\u001b[0m\u001b[38;2;101;123;131;48;2;253;246;227mX\u001b[0m\u001b[38;2;101;123;131;48;2;253;246;227m,\u001b[0m\u001b[38;2;101;123;131;48;2;253;246;227m \u001b[0m\u001b[38;2;101;123;131;48;2;253;246;227my\u001b[0m\u001b[38;2;101;123;131;48;2;253;246;227m,\u001b[0m\u001b[38;2;101;123;131;48;2;253;246;227m \u001b[0m\u001b[38;2;101;123;131;48;2;253;246;227mscale\u001b[0m\u001b[38;2;147;161;161;48;2;253;246;227m=\u001b[0m\u001b[38;2;42;161;152;48;2;253;246;227mFalse\u001b[0m\u001b[38;2;101;123;131;48;2;253;246;227m)\u001b[0m\u001b[38;2;101;123;131;48;2;253;246;227m:\u001b[0m\u001b[48;2;253;246;227m                                                                            \u001b[0m │\n",
       "│ \u001b[38;2;101;123;131;48;2;253;246;227m    \u001b[0m\u001b[38;2;133;153;0;48;2;253;246;227mif\u001b[0m\u001b[38;2;101;123;131;48;2;253;246;227m \u001b[0m\u001b[38;2;101;123;131;48;2;253;246;227mscale\u001b[0m\u001b[38;2;101;123;131;48;2;253;246;227m:\u001b[0m\u001b[48;2;253;246;227m                                                                                                  \u001b[0m │\n",
       "│ \u001b[38;2;101;123;131;48;2;253;246;227m        \u001b[0m\u001b[38;2;101;123;131;48;2;253;246;227mX\u001b[0m\u001b[38;2;101;123;131;48;2;253;246;227m \u001b[0m\u001b[38;2;147;161;161;48;2;253;246;227m=\u001b[0m\u001b[38;2;101;123;131;48;2;253;246;227m \u001b[0m\u001b[38;2;101;123;131;48;2;253;246;227mscale_data\u001b[0m\u001b[38;2;101;123;131;48;2;253;246;227m(\u001b[0m\u001b[38;2;101;123;131;48;2;253;246;227mX\u001b[0m\u001b[38;2;101;123;131;48;2;253;246;227m)\u001b[0m\u001b[48;2;253;246;227m                                                                                      \u001b[0m │\n",
       "│ \u001b[38;2;101;123;131;48;2;253;246;227m    \u001b[0m\u001b[38;2;133;153;0;48;2;253;246;227mreturn\u001b[0m\u001b[38;2;101;123;131;48;2;253;246;227m \u001b[0m\u001b[38;2;101;123;131;48;2;253;246;227mLogisticRegression\u001b[0m\u001b[38;2;101;123;131;48;2;253;246;227m(\u001b[0m\u001b[38;2;101;123;131;48;2;253;246;227mmax_iter\u001b[0m\u001b[38;2;147;161;161;48;2;253;246;227m=\u001b[0m\u001b[38;2;42;161;152;48;2;253;246;227m1000\u001b[0m\u001b[38;2;101;123;131;48;2;253;246;227m,\u001b[0m\u001b[38;2;101;123;131;48;2;253;246;227m \u001b[0m\u001b[38;2;101;123;131;48;2;253;246;227msolver\u001b[0m\u001b[38;2;147;161;161;48;2;253;246;227m=\u001b[0m\u001b[38;2;42;161;152;48;2;253;246;227m'\u001b[0m\u001b[38;2;42;161;152;48;2;253;246;227mliblinear\u001b[0m\u001b[38;2;42;161;152;48;2;253;246;227m'\u001b[0m\u001b[38;2;101;123;131;48;2;253;246;227m)\u001b[0m\u001b[38;2;147;161;161;48;2;253;246;227m.\u001b[0m\u001b[38;2;101;123;131;48;2;253;246;227mfit\u001b[0m\u001b[38;2;101;123;131;48;2;253;246;227m(\u001b[0m\u001b[38;2;101;123;131;48;2;253;246;227mX\u001b[0m\u001b[38;2;101;123;131;48;2;253;246;227m,\u001b[0m\u001b[38;2;101;123;131;48;2;253;246;227m \u001b[0m\u001b[38;2;101;123;131;48;2;253;246;227my\u001b[0m\u001b[38;2;101;123;131;48;2;253;246;227m)\u001b[0m\u001b[48;2;253;246;227m                                     \u001b[0m │\n",
       "│ \u001b[48;2;253;246;227m                                                                                                               \u001b[0m │\n",
       "╰─────────────────────────────────────────────────────────────────────────────────────────────────────────────────╯\n"
      ]
     },
     "metadata": {},
     "output_type": "display_data"
    }
   ],
   "source": [
    "storage.versions(train_model)"
   ]
  },
  {
   "cell_type": "markdown",
   "metadata": {},
   "source": [
    "## Making changes and sorting them into breaking and non-breaking\n",
    "Now suppose we make some changes and re-run:\n",
    "\n",
    "- we change the value of the global variable `N_CLASS`;\n",
    "- we change the code of `scale_data` in a semantically meaningful (i.e.,\n",
    "breaking) way\n",
    "- we change the code of `eval_model` in a \"cosmetic\" way that can be considered\n",
    "non-breaking.\n",
    "\n",
    "When entering the `storage` block, the storage will detect the changes in\n",
    "the tracked components, and for each change will present you with the functions\n",
    "affected:\n",
    "\n",
    "- `N_CLASS` is a dependency for `load_data`;\n",
    "- `scale_data` is a dependency for the calls to `train_model` and `eval_model`\n",
    "  which had `scale=True`;\n",
    "- `eval_model` is a dependency for itself."
   ]
  },
  {
   "cell_type": "code",
   "execution_count": 4,
   "metadata": {
    "execution": {
     "iopub.execute_input": "2024-07-02T23:37:35.287994Z",
     "iopub.status.busy": "2024-07-02T23:37:35.287434Z",
     "iopub.status.idle": "2024-07-02T23:37:35.315147Z",
     "shell.execute_reply": "2024-07-02T23:37:35.314507Z"
    }
   },
   "outputs": [],
   "source": [
    "### simulate user input non-interactively\n",
    "from unittest.mock import patch\n",
    "\n",
    "def mock_input(prompts):\n",
    "    it = iter(prompts)\n",
    "    def mock_input_func(*args):\n",
    "        return next(it)\n",
    "    return mock_input_func"
   ]
  },
  {
   "cell_type": "code",
   "execution_count": 5,
   "metadata": {
    "execution": {
     "iopub.execute_input": "2024-07-02T23:37:35.318043Z",
     "iopub.status.busy": "2024-07-02T23:37:35.317548Z",
     "iopub.status.idle": "2024-07-02T23:37:35.518390Z",
     "shell.execute_reply": "2024-07-02T23:37:35.517687Z"
    }
   },
   "outputs": [
    {
     "name": "stdout",
     "output_type": "stream",
     "text": [
      "CHANGE DETECTED in N_CLASS from module __main__\n",
      "Dependent components:\n",
      "  Version of \"load_data\" from module \"__main__\" (content: 426c4c8c56d7c0d6374095c7d4a4974f, semantic: 7d0732b9bfb31e5e2211e0122651a624)\n"
     ]
    },
    {
     "data": {
      "text/html": [
       "<pre style=\"white-space:pre;overflow-x:auto;line-height:normal;font-family:Menlo,'DejaVu Sans Mono',consolas,'Courier New',monospace\">╭───────────────────────────────────────────────────── Diff ──────────────────────────────────────────────────────╮\n",
       "│ <span style=\"color: #74878c; text-decoration-color: #74878c; background-color: #fdf6e3; font-weight: bold\">  </span><span style=\"color: #cfd1c6; text-decoration-color: #cfd1c6; background-color: #fdf6e3\">1 </span><span style=\"color: #dc322f; text-decoration-color: #dc322f; background-color: #fdf6e3\">-10</span><span style=\"background-color: #fdf6e3\">                                                                                                        </span> │\n",
       "│ <span style=\"color: #74878c; text-decoration-color: #74878c; background-color: #fdf6e3; font-weight: bold\">  </span><span style=\"color: #cfd1c6; text-decoration-color: #cfd1c6; background-color: #fdf6e3\">2 </span><span style=\"color: #859900; text-decoration-color: #859900; background-color: #fdf6e3\">+5</span><span style=\"background-color: #fdf6e3\">                                                                                                         </span> │\n",
       "╰─────────────────────────────────────────────────────────────────────────────────────────────────────────────────╯\n",
       "</pre>\n"
      ],
      "text/plain": [
       "╭───────────────────────────────────────────────────── Diff ──────────────────────────────────────────────────────╮\n",
       "│ \u001b[1;38;2;116;135;140;48;2;253;246;227m  \u001b[0m\u001b[38;2;207;209;198;48;2;253;246;227m1 \u001b[0m\u001b[38;2;220;50;47;48;2;253;246;227m-10\u001b[0m\u001b[48;2;253;246;227m                                                                                                        \u001b[0m │\n",
       "│ \u001b[1;38;2;116;135;140;48;2;253;246;227m  \u001b[0m\u001b[38;2;207;209;198;48;2;253;246;227m2 \u001b[0m\u001b[38;2;133;153;0;48;2;253;246;227m+5\u001b[0m\u001b[48;2;253;246;227m                                                                                                         \u001b[0m │\n",
       "╰─────────────────────────────────────────────────────────────────────────────────────────────────────────────────╯\n"
      ]
     },
     "metadata": {},
     "output_type": "display_data"
    },
    {
     "name": "stdout",
     "output_type": "stream",
     "text": [
      "Does this change require recomputation of dependent calls?\n",
      "WARNING: if the change created new dependencies and you choose 'no', you should add them by hand or risk missing changes in them.\n",
      "Answer: [y]es/[n]o/[a]bort \n",
      "You answered: \"y\"\n",
      "CHANGE DETECTED in eval_model from module __main__\n",
      "Dependent components:\n",
      "  Version of \"eval_model\" from module \"__main__\" (content: 955b2a683de8dacf624047c0e020140a, semantic: c847d6dc3f23c176e6c8bf9e7006576a)\n",
      "  Version of \"eval_model\" from module \"__main__\" (content: 5bdcd6ffc4888990d8922aa85795198d, semantic: 4e1d702e9797ebba156831294de46425)\n"
     ]
    },
    {
     "data": {
      "text/html": [
       "<pre style=\"white-space:pre;overflow-x:auto;line-height:normal;font-family:Menlo,'DejaVu Sans Mono',consolas,'Courier New',monospace\">╭───────────────────────────────────────────────────── Diff ──────────────────────────────────────────────────────╮\n",
       "│ <span style=\"color: #74878c; text-decoration-color: #74878c; background-color: #fdf6e3; font-weight: bold\">  </span><span style=\"color: #cfd1c6; text-decoration-color: #cfd1c6; background-color: #fdf6e3\">1 </span><span style=\"color: #657b83; text-decoration-color: #657b83; background-color: #fdf6e3\">     if scale:</span><span style=\"background-color: #fdf6e3\">                                                                                             </span> │\n",
       "│ <span style=\"color: #74878c; text-decoration-color: #74878c; background-color: #fdf6e3; font-weight: bold\">  </span><span style=\"color: #cfd1c6; text-decoration-color: #cfd1c6; background-color: #fdf6e3\">2 </span><span style=\"color: #657b83; text-decoration-color: #657b83; background-color: #fdf6e3\">         X = scale_data(X)</span><span style=\"background-color: #fdf6e3\">                                                                                 </span> │\n",
       "│ <span style=\"color: #74878c; text-decoration-color: #74878c; background-color: #fdf6e3; font-weight: bold\">  </span><span style=\"color: #cfd1c6; text-decoration-color: #cfd1c6; background-color: #fdf6e3\">3 </span><span style=\"color: #dc322f; text-decoration-color: #dc322f; background-color: #fdf6e3\">-    return model.score(X, y)</span><span style=\"background-color: #fdf6e3\">                                                                              </span> │\n",
       "│ <span style=\"color: #74878c; text-decoration-color: #74878c; background-color: #fdf6e3; font-weight: bold\">  </span><span style=\"color: #cfd1c6; text-decoration-color: #cfd1c6; background-color: #fdf6e3\">4 </span><span style=\"color: #859900; text-decoration-color: #859900; background-color: #fdf6e3\">+    return round(model.score(X, y), 2)</span><span style=\"background-color: #fdf6e3\">                                                                    </span> │\n",
       "╰─────────────────────────────────────────────────────────────────────────────────────────────────────────────────╯\n",
       "</pre>\n"
      ],
      "text/plain": [
       "╭───────────────────────────────────────────────────── Diff ──────────────────────────────────────────────────────╮\n",
       "│ \u001b[1;38;2;116;135;140;48;2;253;246;227m  \u001b[0m\u001b[38;2;207;209;198;48;2;253;246;227m1 \u001b[0m\u001b[38;2;101;123;131;48;2;253;246;227m \u001b[0m\u001b[38;2;101;123;131;48;2;253;246;227m    if scale:\u001b[0m\u001b[48;2;253;246;227m                                                                                             \u001b[0m │\n",
       "│ \u001b[1;38;2;116;135;140;48;2;253;246;227m  \u001b[0m\u001b[38;2;207;209;198;48;2;253;246;227m2 \u001b[0m\u001b[38;2;101;123;131;48;2;253;246;227m \u001b[0m\u001b[38;2;101;123;131;48;2;253;246;227m        X = scale_data(X)\u001b[0m\u001b[48;2;253;246;227m                                                                                 \u001b[0m │\n",
       "│ \u001b[1;38;2;116;135;140;48;2;253;246;227m  \u001b[0m\u001b[38;2;207;209;198;48;2;253;246;227m3 \u001b[0m\u001b[38;2;220;50;47;48;2;253;246;227m-    return model.score(X, y)\u001b[0m\u001b[48;2;253;246;227m                                                                              \u001b[0m │\n",
       "│ \u001b[1;38;2;116;135;140;48;2;253;246;227m  \u001b[0m\u001b[38;2;207;209;198;48;2;253;246;227m4 \u001b[0m\u001b[38;2;133;153;0;48;2;253;246;227m+    return round(model.score(X, y), 2)\u001b[0m\u001b[48;2;253;246;227m                                                                    \u001b[0m │\n",
       "╰─────────────────────────────────────────────────────────────────────────────────────────────────────────────────╯\n"
      ]
     },
     "metadata": {},
     "output_type": "display_data"
    },
    {
     "name": "stdout",
     "output_type": "stream",
     "text": [
      "Does this change require recomputation of dependent calls?\n",
      "WARNING: if the change created new dependencies and you choose 'no', you should add them by hand or risk missing changes in them.\n",
      "Answer: [y]es/[n]o/[a]bort \n",
      "You answered: \"n\"\n",
      "CHANGE DETECTED in scale_data from module __main__\n",
      "Dependent components:\n",
      "  Version of \"train_model\" from module \"__main__\" (content: 2717c55fbbbb60442535a8dea0c81f67, semantic: 4674057d19bbf217687dd9dabe01df36)\n",
      "  Version of \"eval_model\" from module \"__main__\" (content: 5bdcd6ffc4888990d8922aa85795198d, semantic: 4e1d702e9797ebba156831294de46425)\n"
     ]
    },
    {
     "data": {
      "text/html": [
       "<pre style=\"white-space:pre;overflow-x:auto;line-height:normal;font-family:Menlo,'DejaVu Sans Mono',consolas,'Courier New',monospace\">╭───────────────────────────────────────────────────── Diff ──────────────────────────────────────────────────────╮\n",
       "│ <span style=\"color: #74878c; text-decoration-color: #74878c; background-color: #fdf6e3; font-weight: bold\">  </span><span style=\"color: #cfd1c6; text-decoration-color: #cfd1c6; background-color: #fdf6e3\">1 </span><span style=\"color: #dc322f; text-decoration-color: #dc322f; background-color: #fdf6e3\">-@track # to track a non-memoized function as a dependency</span><span style=\"background-color: #fdf6e3\">                                                 </span> │\n",
       "│ <span style=\"color: #74878c; text-decoration-color: #74878c; background-color: #fdf6e3; font-weight: bold\">  </span><span style=\"color: #cfd1c6; text-decoration-color: #cfd1c6; background-color: #fdf6e3\">2 </span><span style=\"color: #859900; text-decoration-color: #859900; background-color: #fdf6e3\">+@track</span><span style=\"background-color: #fdf6e3\">                                                                                                    </span> │\n",
       "│ <span style=\"color: #74878c; text-decoration-color: #74878c; background-color: #fdf6e3; font-weight: bold\">  </span><span style=\"color: #cfd1c6; text-decoration-color: #cfd1c6; background-color: #fdf6e3\">3 </span><span style=\"color: #657b83; text-decoration-color: #657b83; background-color: #fdf6e3\"> def scale_data(X):</span><span style=\"background-color: #fdf6e3\">                                                                                        </span> │\n",
       "│ <span style=\"color: #74878c; text-decoration-color: #74878c; background-color: #fdf6e3; font-weight: bold\">  </span><span style=\"color: #cfd1c6; text-decoration-color: #cfd1c6; background-color: #fdf6e3\">4 </span><span style=\"color: #dc322f; text-decoration-color: #dc322f; background-color: #fdf6e3\">-    return StandardScaler(with_mean=True, with_std=False).fit_transform(X)</span><span style=\"background-color: #fdf6e3\">                                </span> │\n",
       "│ <span style=\"color: #74878c; text-decoration-color: #74878c; background-color: #fdf6e3; font-weight: bold\">  </span><span style=\"color: #cfd1c6; text-decoration-color: #cfd1c6; background-color: #fdf6e3\">5 </span><span style=\"color: #859900; text-decoration-color: #859900; background-color: #fdf6e3\">+    return StandardScaler(with_mean=True, with_std=True).fit_transform(X)</span><span style=\"background-color: #fdf6e3\">                                 </span> │\n",
       "╰─────────────────────────────────────────────────────────────────────────────────────────────────────────────────╯\n",
       "</pre>\n"
      ],
      "text/plain": [
       "╭───────────────────────────────────────────────────── Diff ──────────────────────────────────────────────────────╮\n",
       "│ \u001b[1;38;2;116;135;140;48;2;253;246;227m  \u001b[0m\u001b[38;2;207;209;198;48;2;253;246;227m1 \u001b[0m\u001b[38;2;220;50;47;48;2;253;246;227m-@track # to track a non-memoized function as a dependency\u001b[0m\u001b[48;2;253;246;227m                                                 \u001b[0m │\n",
       "│ \u001b[1;38;2;116;135;140;48;2;253;246;227m  \u001b[0m\u001b[38;2;207;209;198;48;2;253;246;227m2 \u001b[0m\u001b[38;2;133;153;0;48;2;253;246;227m+@track\u001b[0m\u001b[48;2;253;246;227m                                                                                                    \u001b[0m │\n",
       "│ \u001b[1;38;2;116;135;140;48;2;253;246;227m  \u001b[0m\u001b[38;2;207;209;198;48;2;253;246;227m3 \u001b[0m\u001b[38;2;101;123;131;48;2;253;246;227m \u001b[0m\u001b[38;2;101;123;131;48;2;253;246;227mdef scale_data(X):\u001b[0m\u001b[48;2;253;246;227m                                                                                        \u001b[0m │\n",
       "│ \u001b[1;38;2;116;135;140;48;2;253;246;227m  \u001b[0m\u001b[38;2;207;209;198;48;2;253;246;227m4 \u001b[0m\u001b[38;2;220;50;47;48;2;253;246;227m-    return StandardScaler(with_mean=True, with_std=False).fit_transform(X)\u001b[0m\u001b[48;2;253;246;227m                                \u001b[0m │\n",
       "│ \u001b[1;38;2;116;135;140;48;2;253;246;227m  \u001b[0m\u001b[38;2;207;209;198;48;2;253;246;227m5 \u001b[0m\u001b[38;2;133;153;0;48;2;253;246;227m+    return StandardScaler(with_mean=True, with_std=True).fit_transform(X)\u001b[0m\u001b[48;2;253;246;227m                                 \u001b[0m │\n",
       "╰─────────────────────────────────────────────────────────────────────────────────────────────────────────────────╯\n"
      ]
     },
     "metadata": {},
     "output_type": "display_data"
    },
    {
     "name": "stdout",
     "output_type": "stream",
     "text": [
      "Does this change require recomputation of dependent calls?\n",
      "WARNING: if the change created new dependencies and you choose 'no', you should add them by hand or risk missing changes in them.\n",
      "Answer: [y]es/[n]o/[a]bort \n",
      "You answered: \"y\"\n"
     ]
    }
   ],
   "source": [
    "N_CLASS = 5\n",
    "\n",
    "@track\n",
    "def scale_data(X):\n",
    "    return StandardScaler(with_mean=True, with_std=True).fit_transform(X)\n",
    "\n",
    "@op\n",
    "def eval_model(model, X, y, scale=False):\n",
    "    if scale:\n",
    "        X = scale_data(X)\n",
    "    return round(model.score(X, y), 2)\n",
    "\n",
    "answers = ['y', 'n', 'y']\n",
    "\n",
    "with patch('builtins.input', mock_input(answers)):\n",
    "    with storage:\n",
    "        X, y = load_data()\n",
    "        for scale in [False, True]:\n",
    "            model = train_model(X, y, scale=scale)\n",
    "            acc = eval_model(model, X, y, scale=scale)"
   ]
  },
  {
   "cell_type": "markdown",
   "metadata": {},
   "source": [
    "When a change is detected, the UI:\n",
    "\n",
    "- shows the diffs in each function,\n",
    "- gives you a list of which `@op`s' versions are affected by each change\n",
    "- lets you choose if the change is breaking or non-breaking\n",
    "\n",
    "We can check what happened by constructing a computation frame:"
   ]
  },
  {
   "cell_type": "code",
   "execution_count": 6,
   "metadata": {
    "execution": {
     "iopub.execute_input": "2024-07-02T23:37:35.521514Z",
     "iopub.status.busy": "2024-07-02T23:37:35.521159Z",
     "iopub.status.idle": "2024-07-02T23:37:35.907219Z",
     "shell.execute_reply": "2024-07-02T23:37:35.906644Z"
    }
   },
   "outputs": [
    {
     "data": {
      "image/svg+xml": [
       "<?xml version=\"1.0\" encoding=\"UTF-8\" standalone=\"no\"?>\n",
       "<!DOCTYPE svg PUBLIC \"-//W3C//DTD SVG 1.1//EN\"\n",
       " \"http://www.w3.org/Graphics/SVG/1.1/DTD/svg11.dtd\">\n",
       "<!-- Generated by graphviz version 2.50.0 (0)\n",
       " -->\n",
       "<!-- Title: G Pages: 1 -->\n",
       "<svg width=\"356pt\" height=\"526pt\"\n",
       " viewBox=\"0.00 0.00 356.00 526.00\" xmlns=\"http://www.w3.org/2000/svg\" xmlns:xlink=\"http://www.w3.org/1999/xlink\">\n",
       "<g id=\"graph0\" class=\"graph\" transform=\"scale(1 1) rotate(0) translate(4 522)\">\n",
       "<title>G</title>\n",
       "<polygon fill=\"white\" stroke=\"transparent\" points=\"-4,4 -4,-522 352,-522 352,4 -4,4\"/>\n",
       "<!-- output_0 -->\n",
       "<g id=\"node1\" class=\"node\">\n",
       "<title>output_0</title>\n",
       "<path fill=\"none\" stroke=\"#268bd2\" d=\"M181.5,-36C181.5,-36 112.5,-36 112.5,-36 106.5,-36 100.5,-30 100.5,-24 100.5,-24 100.5,-12 100.5,-12 100.5,-6 106.5,0 112.5,0 112.5,0 181.5,0 181.5,0 187.5,0 193.5,-6 193.5,-12 193.5,-12 193.5,-24 193.5,-24 193.5,-30 187.5,-36 181.5,-36\"/>\n",
       "<text text-anchor=\"start\" x=\"119.5\" y=\"-20.4\" font-family=\"RobotoMono\" font-weight=\"bold\" font-size=\"12.00\" fill=\"#002b36\">output_0</text>\n",
       "<text text-anchor=\"start\" x=\"108.5\" y=\"-10\" font-family=\"RobotoMono\" font-size=\"10.00\" fill=\"#268bd2\">4 values (4 sinks)</text>\n",
       "</g>\n",
       "<!-- model -->\n",
       "<g id=\"node2\" class=\"node\">\n",
       "<title>model</title>\n",
       "<path fill=\"none\" stroke=\"#268bd2\" d=\"M207,-228C207,-228 177,-228 177,-228 171,-228 165,-222 165,-216 165,-216 165,-204 165,-204 165,-198 171,-192 177,-192 177,-192 207,-192 207,-192 213,-192 219,-198 219,-204 219,-204 219,-216 219,-216 219,-222 213,-228 207,-228\"/>\n",
       "<text text-anchor=\"start\" x=\"173\" y=\"-212.4\" font-family=\"RobotoMono\" font-weight=\"bold\" font-size=\"12.00\" fill=\"#002b36\">model</text>\n",
       "<text text-anchor=\"start\" x=\"173\" y=\"-202\" font-family=\"RobotoMono\" font-size=\"10.00\" fill=\"#268bd2\">4 values</text>\n",
       "</g>\n",
       "<!-- eval_model -->\n",
       "<g id=\"node7\" class=\"node\">\n",
       "<title>eval_model</title>\n",
       "<path fill=\"none\" stroke=\"#dc322f\" d=\"M209,-134C209,-134 85,-134 85,-134 79,-134 73,-128 73,-122 73,-122 73,-106 73,-106 73,-100 79,-94 85,-94 85,-94 209,-94 209,-94 215,-94 221,-100 221,-106 221,-106 221,-122 221,-122 221,-128 215,-134 209,-134\"/>\n",
       "<text text-anchor=\"start\" x=\"113\" y=\"-121.4\" font-family=\"RobotoMono\" font-weight=\"bold\" font-size=\"12.00\" fill=\"#002b36\">eval_model</text>\n",
       "<text text-anchor=\"start\" x=\"81\" y=\"-111\" font-family=\"RobotoMono\" font-size=\"10.00\" fill=\"#002b36\">@op:eval_model (3 versions)</text>\n",
       "<text text-anchor=\"start\" x=\"133\" y=\"-101\" font-family=\"RobotoMono\" font-size=\"10.00\" fill=\"#dc322f\">4 calls</text>\n",
       "</g>\n",
       "<!-- model&#45;&gt;eval_model -->\n",
       "<g id=\"edge4\" class=\"edge\">\n",
       "<title>model&#45;&gt;eval_model</title>\n",
       "<path fill=\"none\" stroke=\"#002b36\" d=\"M183.75,-191.76C177.27,-178.24 168.13,-159.14 160.58,-143.38\"/>\n",
       "<polygon fill=\"#002b36\" stroke=\"#002b36\" points=\"163.61,-141.58 156.13,-134.07 157.29,-144.6 163.61,-141.58\"/>\n",
       "<text text-anchor=\"middle\" x=\"197\" y=\"-166\" font-family=\"RobotoMono\" font-size=\"10.00\" fill=\"#002b36\">model</text>\n",
       "<text text-anchor=\"middle\" x=\"197\" y=\"-155\" font-family=\"RobotoMono\" font-size=\"10.00\" fill=\"#002b36\">(4 values)</text>\n",
       "</g>\n",
       "<!-- scale -->\n",
       "<g id=\"node3\" class=\"node\">\n",
       "<title>scale</title>\n",
       "<path fill=\"none\" stroke=\"#268bd2\" d=\"M94,-420C94,-420 12,-420 12,-420 6,-420 0,-414 0,-408 0,-408 0,-396 0,-396 0,-390 6,-384 12,-384 12,-384 94,-384 94,-384 100,-384 106,-390 106,-396 106,-396 106,-408 106,-408 106,-414 100,-420 94,-420\"/>\n",
       "<text text-anchor=\"start\" x=\"37.5\" y=\"-404.4\" font-family=\"RobotoMono\" font-weight=\"bold\" font-size=\"12.00\" fill=\"#002b36\">scale</text>\n",
       "<text text-anchor=\"start\" x=\"8\" y=\"-394\" font-family=\"RobotoMono\" font-size=\"10.00\" fill=\"#268bd2\">2 values (2 sources)</text>\n",
       "</g>\n",
       "<!-- train_model -->\n",
       "<g id=\"node6\" class=\"node\">\n",
       "<title>train_model</title>\n",
       "<path fill=\"none\" stroke=\"#dc322f\" d=\"M288.5,-326C288.5,-326 161.5,-326 161.5,-326 155.5,-326 149.5,-320 149.5,-314 149.5,-314 149.5,-298 149.5,-298 149.5,-292 155.5,-286 161.5,-286 161.5,-286 288.5,-286 288.5,-286 294.5,-286 300.5,-292 300.5,-298 300.5,-298 300.5,-314 300.5,-314 300.5,-320 294.5,-326 288.5,-326\"/>\n",
       "<text text-anchor=\"start\" x=\"188.5\" y=\"-313.4\" font-family=\"RobotoMono\" font-weight=\"bold\" font-size=\"12.00\" fill=\"#002b36\">train_model</text>\n",
       "<text text-anchor=\"start\" x=\"157.5\" y=\"-303\" font-family=\"RobotoMono\" font-size=\"10.00\" fill=\"#002b36\">@op:train_model (3 versions)</text>\n",
       "<text text-anchor=\"start\" x=\"211\" y=\"-293\" font-family=\"RobotoMono\" font-size=\"10.00\" fill=\"#dc322f\">4 calls</text>\n",
       "</g>\n",
       "<!-- scale&#45;&gt;train_model -->\n",
       "<g id=\"edge5\" class=\"edge\">\n",
       "<title>scale&#45;&gt;train_model</title>\n",
       "<path fill=\"none\" stroke=\"#002b36\" d=\"M71.38,-383.76C85.27,-371.42 105.26,-355.09 125,-344 134.33,-338.76 144.54,-334 154.77,-329.77\"/>\n",
       "<polygon fill=\"#002b36\" stroke=\"#002b36\" points=\"156.14,-332.99 164.13,-326.03 153.55,-326.48 156.14,-332.99\"/>\n",
       "<text text-anchor=\"middle\" x=\"147\" y=\"-358\" font-family=\"RobotoMono\" font-size=\"10.00\" fill=\"#002b36\">scale</text>\n",
       "<text text-anchor=\"middle\" x=\"147\" y=\"-347\" font-family=\"RobotoMono\" font-size=\"10.00\" fill=\"#002b36\">(2 values)</text>\n",
       "</g>\n",
       "<!-- scale&#45;&gt;eval_model -->\n",
       "<g id=\"edge6\" class=\"edge\">\n",
       "<title>scale&#45;&gt;eval_model</title>\n",
       "<path fill=\"none\" stroke=\"#002b36\" d=\"M55.52,-383.94C60.05,-355.04 70.66,-294.86 87,-246 99.29,-209.24 118.69,-168.98 132.09,-142.93\"/>\n",
       "<polygon fill=\"#002b36\" stroke=\"#002b36\" points=\"135.22,-144.49 136.72,-134.01 129.01,-141.26 135.22,-144.49\"/>\n",
       "<text text-anchor=\"middle\" x=\"109\" y=\"-260\" font-family=\"RobotoMono\" font-size=\"10.00\" fill=\"#002b36\">scale</text>\n",
       "<text text-anchor=\"middle\" x=\"109\" y=\"-249\" font-family=\"RobotoMono\" font-size=\"10.00\" fill=\"#002b36\">(2 values)</text>\n",
       "</g>\n",
       "<!-- X -->\n",
       "<g id=\"node4\" class=\"node\">\n",
       "<title>X</title>\n",
       "<path fill=\"none\" stroke=\"#268bd2\" d=\"M179,-420C179,-420 149,-420 149,-420 143,-420 137,-414 137,-408 137,-408 137,-396 137,-396 137,-390 143,-384 149,-384 149,-384 179,-384 179,-384 185,-384 191,-390 191,-396 191,-396 191,-408 191,-408 191,-414 185,-420 179,-420\"/>\n",
       "<text text-anchor=\"start\" x=\"159.5\" y=\"-404.4\" font-family=\"RobotoMono\" font-weight=\"bold\" font-size=\"12.00\" fill=\"#002b36\">X</text>\n",
       "<text text-anchor=\"start\" x=\"145\" y=\"-394\" font-family=\"RobotoMono\" font-size=\"10.00\" fill=\"#268bd2\">2 values</text>\n",
       "</g>\n",
       "<!-- X&#45;&gt;train_model -->\n",
       "<g id=\"edge2\" class=\"edge\">\n",
       "<title>X&#45;&gt;train_model</title>\n",
       "<path fill=\"none\" stroke=\"#002b36\" d=\"M166.81,-383.97C169.37,-372.04 174,-356.13 182,-344 184.51,-340.2 187.51,-336.56 190.75,-333.16\"/>\n",
       "<polygon fill=\"#002b36\" stroke=\"#002b36\" points=\"193.33,-335.54 198.12,-326.09 188.48,-330.48 193.33,-335.54\"/>\n",
       "<text text-anchor=\"middle\" x=\"204\" y=\"-358\" font-family=\"RobotoMono\" font-size=\"10.00\" fill=\"#002b36\">X</text>\n",
       "<text text-anchor=\"middle\" x=\"204\" y=\"-347\" font-family=\"RobotoMono\" font-size=\"10.00\" fill=\"#002b36\">(2 values)</text>\n",
       "</g>\n",
       "<!-- X&#45;&gt;eval_model -->\n",
       "<g id=\"edge3\" class=\"edge\">\n",
       "<title>X&#45;&gt;eval_model</title>\n",
       "<path fill=\"none\" stroke=\"#002b36\" d=\"M156.81,-383.79C150.96,-368.83 143.18,-346.4 140,-326 129.96,-261.68 137.22,-185.03 142.61,-144.13\"/>\n",
       "<polygon fill=\"#002b36\" stroke=\"#002b36\" points=\"146.1,-144.44 144,-134.06 139.17,-143.49 146.1,-144.44\"/>\n",
       "<text text-anchor=\"middle\" x=\"158\" y=\"-260\" font-family=\"RobotoMono\" font-size=\"10.00\" fill=\"#002b36\">X</text>\n",
       "<text text-anchor=\"middle\" x=\"158\" y=\"-249\" font-family=\"RobotoMono\" font-size=\"10.00\" fill=\"#002b36\">(2 values)</text>\n",
       "</g>\n",
       "<!-- y -->\n",
       "<g id=\"node5\" class=\"node\">\n",
       "<title>y</title>\n",
       "<path fill=\"none\" stroke=\"#268bd2\" d=\"M251,-420C251,-420 221,-420 221,-420 215,-420 209,-414 209,-408 209,-408 209,-396 209,-396 209,-390 215,-384 221,-384 221,-384 251,-384 251,-384 257,-384 263,-390 263,-396 263,-396 263,-408 263,-408 263,-414 257,-420 251,-420\"/>\n",
       "<text text-anchor=\"start\" x=\"232.5\" y=\"-404.4\" font-family=\"RobotoMono\" font-weight=\"bold\" font-size=\"12.00\" fill=\"#002b36\">y</text>\n",
       "<text text-anchor=\"start\" x=\"217\" y=\"-394\" font-family=\"RobotoMono\" font-size=\"10.00\" fill=\"#268bd2\">2 values</text>\n",
       "</g>\n",
       "<!-- y&#45;&gt;train_model -->\n",
       "<g id=\"edge7\" class=\"edge\">\n",
       "<title>y&#45;&gt;train_model</title>\n",
       "<path fill=\"none\" stroke=\"#002b36\" d=\"M233.98,-383.76C232.43,-370.5 230.25,-351.86 228.43,-336.27\"/>\n",
       "<polygon fill=\"#002b36\" stroke=\"#002b36\" points=\"231.87,-335.6 227.23,-326.07 224.92,-336.41 231.87,-335.6\"/>\n",
       "<text text-anchor=\"middle\" x=\"254\" y=\"-358\" font-family=\"RobotoMono\" font-size=\"10.00\" fill=\"#002b36\">y</text>\n",
       "<text text-anchor=\"middle\" x=\"254\" y=\"-347\" font-family=\"RobotoMono\" font-size=\"10.00\" fill=\"#002b36\">(2 values)</text>\n",
       "</g>\n",
       "<!-- y&#45;&gt;eval_model -->\n",
       "<g id=\"edge8\" class=\"edge\">\n",
       "<title>y&#45;&gt;eval_model</title>\n",
       "<path fill=\"none\" stroke=\"#002b36\" d=\"M259.79,-383.88C266.62,-378.5 273.88,-372.3 280,-366 306.47,-338.77 320.78,-322.41 310,-286 289.84,-217.92 276.2,-199.03 223,-152 217.56,-147.19 211.38,-142.85 204.95,-138.99\"/>\n",
       "<polygon fill=\"#002b36\" stroke=\"#002b36\" points=\"206.51,-135.86 196.08,-134.02 203.09,-141.96 206.51,-135.86\"/>\n",
       "<text text-anchor=\"middle\" x=\"326\" y=\"-260\" font-family=\"RobotoMono\" font-size=\"10.00\" fill=\"#002b36\">y</text>\n",
       "<text text-anchor=\"middle\" x=\"326\" y=\"-249\" font-family=\"RobotoMono\" font-size=\"10.00\" fill=\"#002b36\">(2 values)</text>\n",
       "</g>\n",
       "<!-- train_model&#45;&gt;model -->\n",
       "<g id=\"edge11\" class=\"edge\">\n",
       "<title>train_model&#45;&gt;model</title>\n",
       "<path fill=\"none\" stroke=\"#002b36\" d=\"M218.32,-285.98C213.44,-272.07 206.75,-253.03 201.34,-237.61\"/>\n",
       "<polygon fill=\"#002b36\" stroke=\"#002b36\" points=\"204.62,-236.37 198,-228.1 198.01,-238.69 204.62,-236.37\"/>\n",
       "<text text-anchor=\"middle\" x=\"234\" y=\"-260\" font-family=\"RobotoMono\" font-size=\"10.00\" fill=\"#002b36\">output_0</text>\n",
       "<text text-anchor=\"middle\" x=\"234\" y=\"-249\" font-family=\"RobotoMono\" font-size=\"10.00\" fill=\"#002b36\">(4 values)</text>\n",
       "</g>\n",
       "<!-- eval_model&#45;&gt;output_0 -->\n",
       "<g id=\"edge1\" class=\"edge\">\n",
       "<title>eval_model&#45;&gt;output_0</title>\n",
       "<path fill=\"none\" stroke=\"#002b36\" d=\"M147,-93.98C147,-80.34 147,-61.75 147,-46.5\"/>\n",
       "<polygon fill=\"#002b36\" stroke=\"#002b36\" points=\"150.5,-46.1 147,-36.1 143.5,-46.1 150.5,-46.1\"/>\n",
       "<text text-anchor=\"middle\" x=\"169\" y=\"-68\" font-family=\"RobotoMono\" font-size=\"10.00\" fill=\"#002b36\">output_0</text>\n",
       "<text text-anchor=\"middle\" x=\"169\" y=\"-57\" font-family=\"RobotoMono\" font-size=\"10.00\" fill=\"#002b36\">(4 values)</text>\n",
       "</g>\n",
       "<!-- load_data -->\n",
       "<g id=\"node8\" class=\"node\">\n",
       "<title>load_data</title>\n",
       "<path fill=\"none\" stroke=\"#dc322f\" d=\"M257,-518C257,-518 141,-518 141,-518 135,-518 129,-512 129,-506 129,-506 129,-490 129,-490 129,-484 135,-478 141,-478 141,-478 257,-478 257,-478 263,-478 269,-484 269,-490 269,-490 269,-506 269,-506 269,-512 263,-518 257,-518\"/>\n",
       "<text text-anchor=\"start\" x=\"169\" y=\"-505.4\" font-family=\"RobotoMono\" font-weight=\"bold\" font-size=\"12.00\" fill=\"#002b36\">load_data</text>\n",
       "<text text-anchor=\"start\" x=\"137\" y=\"-495\" font-family=\"RobotoMono\" font-size=\"10.00\" fill=\"#002b36\">@op:load_data (2 versions)</text>\n",
       "<text text-anchor=\"start\" x=\"185\" y=\"-485\" font-family=\"RobotoMono\" font-size=\"10.00\" fill=\"#dc322f\">2 calls</text>\n",
       "</g>\n",
       "<!-- load_data&#45;&gt;X -->\n",
       "<g id=\"edge9\" class=\"edge\">\n",
       "<title>load_data&#45;&gt;X</title>\n",
       "<path fill=\"none\" stroke=\"#002b36\" d=\"M179.07,-477.79C174.68,-472.46 170.57,-466.37 168,-460 164.28,-450.78 162.86,-440.03 162.51,-430.38\"/>\n",
       "<polygon fill=\"#002b36\" stroke=\"#002b36\" points=\"166.01,-430.07 162.5,-420.08 159.01,-430.08 166.01,-430.07\"/>\n",
       "<text text-anchor=\"middle\" x=\"190\" y=\"-452\" font-family=\"RobotoMono\" font-size=\"10.00\" fill=\"#002b36\">output_0</text>\n",
       "<text text-anchor=\"middle\" x=\"190\" y=\"-441\" font-family=\"RobotoMono\" font-size=\"10.00\" fill=\"#002b36\">(2 values)</text>\n",
       "</g>\n",
       "<!-- load_data&#45;&gt;y -->\n",
       "<g id=\"edge10\" class=\"edge\">\n",
       "<title>load_data&#45;&gt;y</title>\n",
       "<path fill=\"none\" stroke=\"#002b36\" d=\"M206.49,-477.98C211.96,-464.07 219.46,-445.03 225.52,-429.61\"/>\n",
       "<polygon fill=\"#002b36\" stroke=\"#002b36\" points=\"228.86,-430.68 229.27,-420.1 222.35,-428.12 228.86,-430.68\"/>\n",
       "<text text-anchor=\"middle\" x=\"244\" y=\"-452\" font-family=\"RobotoMono\" font-size=\"10.00\" fill=\"#002b36\">output_1</text>\n",
       "<text text-anchor=\"middle\" x=\"244\" y=\"-441\" font-family=\"RobotoMono\" font-size=\"10.00\" fill=\"#002b36\">(2 values)</text>\n",
       "</g>\n",
       "</g>\n",
       "</svg>\n"
      ],
      "text/plain": [
       "<graphviz.sources.Source at 0x7e637db387c0>"
      ]
     },
     "metadata": {},
     "output_type": "display_data"
    }
   ],
   "source": [
    "cf = storage.cf(eval_model).expand_all()\n",
    "cf.draw(verbose=True)"
   ]
  },
  {
   "cell_type": "markdown",
   "metadata": {},
   "source": [
    "We see that `load_data` has two versions in use, whereas `train_model` and\n",
    "`eval_model` both have three. Which ones? Again, call `versions` to find out.\n",
    "For example, with `eval_model`, we have 4 different content versions, that \n",
    "overall span 3 semantically different versions:"
   ]
  },
  {
   "cell_type": "code",
   "execution_count": 7,
   "metadata": {
    "execution": {
     "iopub.execute_input": "2024-07-02T23:37:35.909611Z",
     "iopub.status.busy": "2024-07-02T23:37:35.909424Z",
     "iopub.status.idle": "2024-07-02T23:37:35.943032Z",
     "shell.execute_reply": "2024-07-02T23:37:35.942402Z"
    }
   },
   "outputs": [
    {
     "data": {
      "text/html": [
       "<pre style=\"white-space:pre;overflow-x:auto;line-height:normal;font-family:Menlo,'DejaVu Sans Mono',consolas,'Courier New',monospace\">╭─────────────────────────────────────────────────────────────────────────────────────────────────────────────────╮\n",
       "│ <span style=\"color: #93a1a1; text-decoration-color: #93a1a1; background-color: #fdf6e3; font-style: italic\">### Dependencies for version of function eval_model from module __main__</span><span style=\"background-color: #fdf6e3\">                                       </span> │\n",
       "│ <span style=\"color: #93a1a1; text-decoration-color: #93a1a1; background-color: #fdf6e3; font-style: italic\">### content_version_id=955b2a683de8dacf624047c0e020140a</span><span style=\"background-color: #fdf6e3\">                                                        </span> │\n",
       "│ <span style=\"color: #93a1a1; text-decoration-color: #93a1a1; background-color: #fdf6e3; font-style: italic\">### semantic_version_id=c847d6dc3f23c176e6c8bf9e7006576a</span><span style=\"background-color: #fdf6e3\">                                                       </span> │\n",
       "│ <span style=\"background-color: #fdf6e3\">                                                                                                               </span> │\n",
       "│ <span style=\"color: #93a1a1; text-decoration-color: #93a1a1; background-color: #fdf6e3; font-style: italic\">################################################################################</span><span style=\"background-color: #fdf6e3\">                               </span> │\n",
       "│ <span style=\"color: #93a1a1; text-decoration-color: #93a1a1; background-color: #fdf6e3; font-style: italic\">### IN MODULE \"__main__\"</span><span style=\"background-color: #fdf6e3\">                                                                                       </span> │\n",
       "│ <span style=\"color: #93a1a1; text-decoration-color: #93a1a1; background-color: #fdf6e3; font-style: italic\">################################################################################</span><span style=\"background-color: #fdf6e3\">                               </span> │\n",
       "│ <span style=\"background-color: #fdf6e3\">                                                                                                               </span> │\n",
       "│ <span style=\"color: #268bd2; text-decoration-color: #268bd2; background-color: #fdf6e3\">@op</span><span style=\"background-color: #fdf6e3\">                                                                                                            </span> │\n",
       "│ <span style=\"color: #859900; text-decoration-color: #859900; background-color: #fdf6e3\">def</span><span style=\"color: #657b83; text-decoration-color: #657b83; background-color: #fdf6e3\"> </span><span style=\"color: #268bd2; text-decoration-color: #268bd2; background-color: #fdf6e3\">eval_model</span><span style=\"color: #657b83; text-decoration-color: #657b83; background-color: #fdf6e3\">(model, X, y, scale</span><span style=\"color: #93a1a1; text-decoration-color: #93a1a1; background-color: #fdf6e3\">=</span><span style=\"color: #2aa198; text-decoration-color: #2aa198; background-color: #fdf6e3\">False</span><span style=\"color: #657b83; text-decoration-color: #657b83; background-color: #fdf6e3\">):</span><span style=\"background-color: #fdf6e3\">                                                                      </span> │\n",
       "│ <span style=\"color: #657b83; text-decoration-color: #657b83; background-color: #fdf6e3\">    </span><span style=\"color: #859900; text-decoration-color: #859900; background-color: #fdf6e3\">if</span><span style=\"color: #657b83; text-decoration-color: #657b83; background-color: #fdf6e3\"> scale:</span><span style=\"background-color: #fdf6e3\">                                                                                                  </span> │\n",
       "│ <span style=\"color: #657b83; text-decoration-color: #657b83; background-color: #fdf6e3\">        X </span><span style=\"color: #93a1a1; text-decoration-color: #93a1a1; background-color: #fdf6e3\">=</span><span style=\"color: #657b83; text-decoration-color: #657b83; background-color: #fdf6e3\"> scale_data(X)</span><span style=\"background-color: #fdf6e3\">                                                                                      </span> │\n",
       "│ <span style=\"color: #657b83; text-decoration-color: #657b83; background-color: #fdf6e3\">    </span><span style=\"color: #859900; text-decoration-color: #859900; background-color: #fdf6e3\">return</span><span style=\"color: #657b83; text-decoration-color: #657b83; background-color: #fdf6e3\"> model</span><span style=\"color: #93a1a1; text-decoration-color: #93a1a1; background-color: #fdf6e3\">.</span><span style=\"color: #657b83; text-decoration-color: #657b83; background-color: #fdf6e3\">score(X, y)</span><span style=\"background-color: #fdf6e3\">                                                                                   </span> │\n",
       "│ <span style=\"background-color: #fdf6e3\">                                                                                                               </span> │\n",
       "╰─────────────────────────────────────────────────────────────────────────────────────────────────────────────────╯\n",
       "╭─────────────────────────────────────────────────────────────────────────────────────────────────────────────────╮\n",
       "│ <span style=\"color: #93a1a1; text-decoration-color: #93a1a1; background-color: #fdf6e3; font-style: italic\">### Dependencies for version of function eval_model from module __main__</span><span style=\"background-color: #fdf6e3\">                                       </span> │\n",
       "│ <span style=\"color: #93a1a1; text-decoration-color: #93a1a1; background-color: #fdf6e3; font-style: italic\">### content_version_id=5bdcd6ffc4888990d8922aa85795198d</span><span style=\"background-color: #fdf6e3\">                                                        </span> │\n",
       "│ <span style=\"color: #93a1a1; text-decoration-color: #93a1a1; background-color: #fdf6e3; font-style: italic\">### semantic_version_id=4e1d702e9797ebba156831294de46425</span><span style=\"background-color: #fdf6e3\">                                                       </span> │\n",
       "│ <span style=\"background-color: #fdf6e3\">                                                                                                               </span> │\n",
       "│ <span style=\"color: #93a1a1; text-decoration-color: #93a1a1; background-color: #fdf6e3; font-style: italic\">################################################################################</span><span style=\"background-color: #fdf6e3\">                               </span> │\n",
       "│ <span style=\"color: #93a1a1; text-decoration-color: #93a1a1; background-color: #fdf6e3; font-style: italic\">### IN MODULE \"__main__\"</span><span style=\"background-color: #fdf6e3\">                                                                                       </span> │\n",
       "│ <span style=\"color: #93a1a1; text-decoration-color: #93a1a1; background-color: #fdf6e3; font-style: italic\">################################################################################</span><span style=\"background-color: #fdf6e3\">                               </span> │\n",
       "│ <span style=\"background-color: #fdf6e3\">                                                                                                               </span> │\n",
       "│ <span style=\"color: #268bd2; text-decoration-color: #268bd2; background-color: #fdf6e3\">@op</span><span style=\"background-color: #fdf6e3\">                                                                                                            </span> │\n",
       "│ <span style=\"color: #859900; text-decoration-color: #859900; background-color: #fdf6e3\">def</span><span style=\"color: #657b83; text-decoration-color: #657b83; background-color: #fdf6e3\"> </span><span style=\"color: #268bd2; text-decoration-color: #268bd2; background-color: #fdf6e3\">eval_model</span><span style=\"color: #657b83; text-decoration-color: #657b83; background-color: #fdf6e3\">(model, X, y, scale</span><span style=\"color: #93a1a1; text-decoration-color: #93a1a1; background-color: #fdf6e3\">=</span><span style=\"color: #2aa198; text-decoration-color: #2aa198; background-color: #fdf6e3\">False</span><span style=\"color: #657b83; text-decoration-color: #657b83; background-color: #fdf6e3\">):</span><span style=\"background-color: #fdf6e3\">                                                                      </span> │\n",
       "│ <span style=\"color: #657b83; text-decoration-color: #657b83; background-color: #fdf6e3\">    </span><span style=\"color: #859900; text-decoration-color: #859900; background-color: #fdf6e3\">if</span><span style=\"color: #657b83; text-decoration-color: #657b83; background-color: #fdf6e3\"> scale:</span><span style=\"background-color: #fdf6e3\">                                                                                                  </span> │\n",
       "│ <span style=\"color: #657b83; text-decoration-color: #657b83; background-color: #fdf6e3\">        X </span><span style=\"color: #93a1a1; text-decoration-color: #93a1a1; background-color: #fdf6e3\">=</span><span style=\"color: #657b83; text-decoration-color: #657b83; background-color: #fdf6e3\"> scale_data(X)</span><span style=\"background-color: #fdf6e3\">                                                                                      </span> │\n",
       "│ <span style=\"color: #657b83; text-decoration-color: #657b83; background-color: #fdf6e3\">    </span><span style=\"color: #859900; text-decoration-color: #859900; background-color: #fdf6e3\">return</span><span style=\"color: #657b83; text-decoration-color: #657b83; background-color: #fdf6e3\"> model</span><span style=\"color: #93a1a1; text-decoration-color: #93a1a1; background-color: #fdf6e3\">.</span><span style=\"color: #657b83; text-decoration-color: #657b83; background-color: #fdf6e3\">score(X, y)</span><span style=\"background-color: #fdf6e3\">                                                                                   </span> │\n",
       "│ <span style=\"background-color: #fdf6e3\">                                                                                                               </span> │\n",
       "│ <span style=\"color: #268bd2; text-decoration-color: #268bd2; background-color: #fdf6e3\">@track</span><span style=\"color: #657b83; text-decoration-color: #657b83; background-color: #fdf6e3\"> </span><span style=\"color: #93a1a1; text-decoration-color: #93a1a1; background-color: #fdf6e3; font-style: italic\"># to track a non-memoized function as a dependency</span><span style=\"background-color: #fdf6e3\">                                                      </span> │\n",
       "│ <span style=\"color: #859900; text-decoration-color: #859900; background-color: #fdf6e3\">def</span><span style=\"color: #657b83; text-decoration-color: #657b83; background-color: #fdf6e3\"> </span><span style=\"color: #268bd2; text-decoration-color: #268bd2; background-color: #fdf6e3\">scale_data</span><span style=\"color: #657b83; text-decoration-color: #657b83; background-color: #fdf6e3\">(X):</span><span style=\"background-color: #fdf6e3\">                                                                                             </span> │\n",
       "│ <span style=\"color: #657b83; text-decoration-color: #657b83; background-color: #fdf6e3\">    </span><span style=\"color: #859900; text-decoration-color: #859900; background-color: #fdf6e3\">return</span><span style=\"color: #657b83; text-decoration-color: #657b83; background-color: #fdf6e3\"> StandardScaler(with_mean</span><span style=\"color: #93a1a1; text-decoration-color: #93a1a1; background-color: #fdf6e3\">=</span><span style=\"color: #2aa198; text-decoration-color: #2aa198; background-color: #fdf6e3\">True</span><span style=\"color: #657b83; text-decoration-color: #657b83; background-color: #fdf6e3\">, with_std</span><span style=\"color: #93a1a1; text-decoration-color: #93a1a1; background-color: #fdf6e3\">=</span><span style=\"color: #2aa198; text-decoration-color: #2aa198; background-color: #fdf6e3\">False</span><span style=\"color: #657b83; text-decoration-color: #657b83; background-color: #fdf6e3\">)</span><span style=\"color: #93a1a1; text-decoration-color: #93a1a1; background-color: #fdf6e3\">.</span><span style=\"color: #657b83; text-decoration-color: #657b83; background-color: #fdf6e3\">fit_transform(X)</span><span style=\"background-color: #fdf6e3\">                                     </span> │\n",
       "│ <span style=\"background-color: #fdf6e3\">                                                                                                               </span> │\n",
       "╰─────────────────────────────────────────────────────────────────────────────────────────────────────────────────╯\n",
       "╭─────────────────────────────────────────────────────────────────────────────────────────────────────────────────╮\n",
       "│ <span style=\"color: #93a1a1; text-decoration-color: #93a1a1; background-color: #fdf6e3; font-style: italic\">### Dependencies for version of function eval_model from module __main__</span><span style=\"background-color: #fdf6e3\">                                       </span> │\n",
       "│ <span style=\"color: #93a1a1; text-decoration-color: #93a1a1; background-color: #fdf6e3; font-style: italic\">### content_version_id=b50e3e2529b811e226d2bb39a572a5e4</span><span style=\"background-color: #fdf6e3\">                                                        </span> │\n",
       "│ <span style=\"color: #93a1a1; text-decoration-color: #93a1a1; background-color: #fdf6e3; font-style: italic\">### semantic_version_id=c847d6dc3f23c176e6c8bf9e7006576a</span><span style=\"background-color: #fdf6e3\">                                                       </span> │\n",
       "│ <span style=\"background-color: #fdf6e3\">                                                                                                               </span> │\n",
       "│ <span style=\"color: #93a1a1; text-decoration-color: #93a1a1; background-color: #fdf6e3; font-style: italic\">################################################################################</span><span style=\"background-color: #fdf6e3\">                               </span> │\n",
       "│ <span style=\"color: #93a1a1; text-decoration-color: #93a1a1; background-color: #fdf6e3; font-style: italic\">### IN MODULE \"__main__\"</span><span style=\"background-color: #fdf6e3\">                                                                                       </span> │\n",
       "│ <span style=\"color: #93a1a1; text-decoration-color: #93a1a1; background-color: #fdf6e3; font-style: italic\">################################################################################</span><span style=\"background-color: #fdf6e3\">                               </span> │\n",
       "│ <span style=\"background-color: #fdf6e3\">                                                                                                               </span> │\n",
       "│ <span style=\"color: #268bd2; text-decoration-color: #268bd2; background-color: #fdf6e3\">@op</span><span style=\"background-color: #fdf6e3\">                                                                                                            </span> │\n",
       "│ <span style=\"color: #859900; text-decoration-color: #859900; background-color: #fdf6e3\">def</span><span style=\"color: #657b83; text-decoration-color: #657b83; background-color: #fdf6e3\"> </span><span style=\"color: #268bd2; text-decoration-color: #268bd2; background-color: #fdf6e3\">eval_model</span><span style=\"color: #657b83; text-decoration-color: #657b83; background-color: #fdf6e3\">(model, X, y, scale</span><span style=\"color: #93a1a1; text-decoration-color: #93a1a1; background-color: #fdf6e3\">=</span><span style=\"color: #2aa198; text-decoration-color: #2aa198; background-color: #fdf6e3\">False</span><span style=\"color: #657b83; text-decoration-color: #657b83; background-color: #fdf6e3\">):</span><span style=\"background-color: #fdf6e3\">                                                                      </span> │\n",
       "│ <span style=\"color: #657b83; text-decoration-color: #657b83; background-color: #fdf6e3\">    </span><span style=\"color: #859900; text-decoration-color: #859900; background-color: #fdf6e3\">if</span><span style=\"color: #657b83; text-decoration-color: #657b83; background-color: #fdf6e3\"> scale:</span><span style=\"background-color: #fdf6e3\">                                                                                                  </span> │\n",
       "│ <span style=\"color: #657b83; text-decoration-color: #657b83; background-color: #fdf6e3\">        X </span><span style=\"color: #93a1a1; text-decoration-color: #93a1a1; background-color: #fdf6e3\">=</span><span style=\"color: #657b83; text-decoration-color: #657b83; background-color: #fdf6e3\"> scale_data(X)</span><span style=\"background-color: #fdf6e3\">                                                                                      </span> │\n",
       "│ <span style=\"color: #657b83; text-decoration-color: #657b83; background-color: #fdf6e3\">    </span><span style=\"color: #859900; text-decoration-color: #859900; background-color: #fdf6e3\">return</span><span style=\"color: #657b83; text-decoration-color: #657b83; background-color: #fdf6e3\"> model</span><span style=\"color: #93a1a1; text-decoration-color: #93a1a1; background-color: #fdf6e3\">.</span><span style=\"color: #657b83; text-decoration-color: #657b83; background-color: #fdf6e3\">score(X, y)</span><span style=\"background-color: #fdf6e3\">                                                                                   </span> │\n",
       "│ <span style=\"background-color: #fdf6e3\">                                                                                                               </span> │\n",
       "╰─────────────────────────────────────────────────────────────────────────────────────────────────────────────────╯\n",
       "╭─────────────────────────────────────────────────────────────────────────────────────────────────────────────────╮\n",
       "│ <span style=\"color: #93a1a1; text-decoration-color: #93a1a1; background-color: #fdf6e3; font-style: italic\">### Dependencies for version of function eval_model from module __main__</span><span style=\"background-color: #fdf6e3\">                                       </span> │\n",
       "│ <span style=\"color: #93a1a1; text-decoration-color: #93a1a1; background-color: #fdf6e3; font-style: italic\">### content_version_id=136129b20d9a3a3795e88ba8cf89b115</span><span style=\"background-color: #fdf6e3\">                                                        </span> │\n",
       "│ <span style=\"color: #93a1a1; text-decoration-color: #93a1a1; background-color: #fdf6e3; font-style: italic\">### semantic_version_id=f2573de2a6c25b390fc86d665ea85687</span><span style=\"background-color: #fdf6e3\">                                                       </span> │\n",
       "│ <span style=\"background-color: #fdf6e3\">                                                                                                               </span> │\n",
       "│ <span style=\"color: #93a1a1; text-decoration-color: #93a1a1; background-color: #fdf6e3; font-style: italic\">################################################################################</span><span style=\"background-color: #fdf6e3\">                               </span> │\n",
       "│ <span style=\"color: #93a1a1; text-decoration-color: #93a1a1; background-color: #fdf6e3; font-style: italic\">### IN MODULE \"__main__\"</span><span style=\"background-color: #fdf6e3\">                                                                                       </span> │\n",
       "│ <span style=\"color: #93a1a1; text-decoration-color: #93a1a1; background-color: #fdf6e3; font-style: italic\">################################################################################</span><span style=\"background-color: #fdf6e3\">                               </span> │\n",
       "│ <span style=\"background-color: #fdf6e3\">                                                                                                               </span> │\n",
       "│ <span style=\"color: #268bd2; text-decoration-color: #268bd2; background-color: #fdf6e3\">@op</span><span style=\"background-color: #fdf6e3\">                                                                                                            </span> │\n",
       "│ <span style=\"color: #859900; text-decoration-color: #859900; background-color: #fdf6e3\">def</span><span style=\"color: #657b83; text-decoration-color: #657b83; background-color: #fdf6e3\"> </span><span style=\"color: #268bd2; text-decoration-color: #268bd2; background-color: #fdf6e3\">eval_model</span><span style=\"color: #657b83; text-decoration-color: #657b83; background-color: #fdf6e3\">(model, X, y, scale</span><span style=\"color: #93a1a1; text-decoration-color: #93a1a1; background-color: #fdf6e3\">=</span><span style=\"color: #2aa198; text-decoration-color: #2aa198; background-color: #fdf6e3\">False</span><span style=\"color: #657b83; text-decoration-color: #657b83; background-color: #fdf6e3\">):</span><span style=\"background-color: #fdf6e3\">                                                                      </span> │\n",
       "│ <span style=\"color: #657b83; text-decoration-color: #657b83; background-color: #fdf6e3\">    </span><span style=\"color: #859900; text-decoration-color: #859900; background-color: #fdf6e3\">if</span><span style=\"color: #657b83; text-decoration-color: #657b83; background-color: #fdf6e3\"> scale:</span><span style=\"background-color: #fdf6e3\">                                                                                                  </span> │\n",
       "│ <span style=\"color: #657b83; text-decoration-color: #657b83; background-color: #fdf6e3\">        X </span><span style=\"color: #93a1a1; text-decoration-color: #93a1a1; background-color: #fdf6e3\">=</span><span style=\"color: #657b83; text-decoration-color: #657b83; background-color: #fdf6e3\"> scale_data(X)</span><span style=\"background-color: #fdf6e3\">                                                                                      </span> │\n",
       "│ <span style=\"color: #657b83; text-decoration-color: #657b83; background-color: #fdf6e3\">    </span><span style=\"color: #859900; text-decoration-color: #859900; background-color: #fdf6e3\">return</span><span style=\"color: #657b83; text-decoration-color: #657b83; background-color: #fdf6e3\"> model</span><span style=\"color: #93a1a1; text-decoration-color: #93a1a1; background-color: #fdf6e3\">.</span><span style=\"color: #657b83; text-decoration-color: #657b83; background-color: #fdf6e3\">score(X, y)</span><span style=\"background-color: #fdf6e3\">                                                                                   </span> │\n",
       "│ <span style=\"background-color: #fdf6e3\">                                                                                                               </span> │\n",
       "│ <span style=\"color: #268bd2; text-decoration-color: #268bd2; background-color: #fdf6e3\">@track</span><span style=\"background-color: #fdf6e3\">                                                                                                         </span> │\n",
       "│ <span style=\"color: #859900; text-decoration-color: #859900; background-color: #fdf6e3\">def</span><span style=\"color: #657b83; text-decoration-color: #657b83; background-color: #fdf6e3\"> </span><span style=\"color: #268bd2; text-decoration-color: #268bd2; background-color: #fdf6e3\">scale_data</span><span style=\"color: #657b83; text-decoration-color: #657b83; background-color: #fdf6e3\">(X):</span><span style=\"background-color: #fdf6e3\">                                                                                             </span> │\n",
       "│ <span style=\"color: #657b83; text-decoration-color: #657b83; background-color: #fdf6e3\">    </span><span style=\"color: #859900; text-decoration-color: #859900; background-color: #fdf6e3\">return</span><span style=\"color: #657b83; text-decoration-color: #657b83; background-color: #fdf6e3\"> StandardScaler(with_mean</span><span style=\"color: #93a1a1; text-decoration-color: #93a1a1; background-color: #fdf6e3\">=</span><span style=\"color: #2aa198; text-decoration-color: #2aa198; background-color: #fdf6e3\">True</span><span style=\"color: #657b83; text-decoration-color: #657b83; background-color: #fdf6e3\">, with_std</span><span style=\"color: #93a1a1; text-decoration-color: #93a1a1; background-color: #fdf6e3\">=</span><span style=\"color: #2aa198; text-decoration-color: #2aa198; background-color: #fdf6e3\">True</span><span style=\"color: #657b83; text-decoration-color: #657b83; background-color: #fdf6e3\">)</span><span style=\"color: #93a1a1; text-decoration-color: #93a1a1; background-color: #fdf6e3\">.</span><span style=\"color: #657b83; text-decoration-color: #657b83; background-color: #fdf6e3\">fit_transform(X)</span><span style=\"background-color: #fdf6e3\">                                      </span> │\n",
       "│ <span style=\"background-color: #fdf6e3\">                                                                                                               </span> │\n",
       "╰─────────────────────────────────────────────────────────────────────────────────────────────────────────────────╯\n",
       "</pre>\n"
      ],
      "text/plain": [
       "╭─────────────────────────────────────────────────────────────────────────────────────────────────────────────────╮\n",
       "│ \u001b[3;38;2;147;161;161;48;2;253;246;227m### Dependencies for version of function eval_model from module __main__\u001b[0m\u001b[48;2;253;246;227m                                       \u001b[0m │\n",
       "│ \u001b[3;38;2;147;161;161;48;2;253;246;227m### content_version_id=955b2a683de8dacf624047c0e020140a\u001b[0m\u001b[48;2;253;246;227m                                                        \u001b[0m │\n",
       "│ \u001b[3;38;2;147;161;161;48;2;253;246;227m### semantic_version_id=c847d6dc3f23c176e6c8bf9e7006576a\u001b[0m\u001b[48;2;253;246;227m                                                       \u001b[0m │\n",
       "│ \u001b[48;2;253;246;227m                                                                                                               \u001b[0m │\n",
       "│ \u001b[3;38;2;147;161;161;48;2;253;246;227m################################################################################\u001b[0m\u001b[48;2;253;246;227m                               \u001b[0m │\n",
       "│ \u001b[3;38;2;147;161;161;48;2;253;246;227m### IN MODULE \"__main__\"\u001b[0m\u001b[48;2;253;246;227m                                                                                       \u001b[0m │\n",
       "│ \u001b[3;38;2;147;161;161;48;2;253;246;227m################################################################################\u001b[0m\u001b[48;2;253;246;227m                               \u001b[0m │\n",
       "│ \u001b[48;2;253;246;227m                                                                                                               \u001b[0m │\n",
       "│ \u001b[38;2;38;139;210;48;2;253;246;227m@op\u001b[0m\u001b[48;2;253;246;227m                                                                                                            \u001b[0m │\n",
       "│ \u001b[38;2;133;153;0;48;2;253;246;227mdef\u001b[0m\u001b[38;2;101;123;131;48;2;253;246;227m \u001b[0m\u001b[38;2;38;139;210;48;2;253;246;227meval_model\u001b[0m\u001b[38;2;101;123;131;48;2;253;246;227m(\u001b[0m\u001b[38;2;101;123;131;48;2;253;246;227mmodel\u001b[0m\u001b[38;2;101;123;131;48;2;253;246;227m,\u001b[0m\u001b[38;2;101;123;131;48;2;253;246;227m \u001b[0m\u001b[38;2;101;123;131;48;2;253;246;227mX\u001b[0m\u001b[38;2;101;123;131;48;2;253;246;227m,\u001b[0m\u001b[38;2;101;123;131;48;2;253;246;227m \u001b[0m\u001b[38;2;101;123;131;48;2;253;246;227my\u001b[0m\u001b[38;2;101;123;131;48;2;253;246;227m,\u001b[0m\u001b[38;2;101;123;131;48;2;253;246;227m \u001b[0m\u001b[38;2;101;123;131;48;2;253;246;227mscale\u001b[0m\u001b[38;2;147;161;161;48;2;253;246;227m=\u001b[0m\u001b[38;2;42;161;152;48;2;253;246;227mFalse\u001b[0m\u001b[38;2;101;123;131;48;2;253;246;227m)\u001b[0m\u001b[38;2;101;123;131;48;2;253;246;227m:\u001b[0m\u001b[48;2;253;246;227m                                                                      \u001b[0m │\n",
       "│ \u001b[38;2;101;123;131;48;2;253;246;227m    \u001b[0m\u001b[38;2;133;153;0;48;2;253;246;227mif\u001b[0m\u001b[38;2;101;123;131;48;2;253;246;227m \u001b[0m\u001b[38;2;101;123;131;48;2;253;246;227mscale\u001b[0m\u001b[38;2;101;123;131;48;2;253;246;227m:\u001b[0m\u001b[48;2;253;246;227m                                                                                                  \u001b[0m │\n",
       "│ \u001b[38;2;101;123;131;48;2;253;246;227m        \u001b[0m\u001b[38;2;101;123;131;48;2;253;246;227mX\u001b[0m\u001b[38;2;101;123;131;48;2;253;246;227m \u001b[0m\u001b[38;2;147;161;161;48;2;253;246;227m=\u001b[0m\u001b[38;2;101;123;131;48;2;253;246;227m \u001b[0m\u001b[38;2;101;123;131;48;2;253;246;227mscale_data\u001b[0m\u001b[38;2;101;123;131;48;2;253;246;227m(\u001b[0m\u001b[38;2;101;123;131;48;2;253;246;227mX\u001b[0m\u001b[38;2;101;123;131;48;2;253;246;227m)\u001b[0m\u001b[48;2;253;246;227m                                                                                      \u001b[0m │\n",
       "│ \u001b[38;2;101;123;131;48;2;253;246;227m    \u001b[0m\u001b[38;2;133;153;0;48;2;253;246;227mreturn\u001b[0m\u001b[38;2;101;123;131;48;2;253;246;227m \u001b[0m\u001b[38;2;101;123;131;48;2;253;246;227mmodel\u001b[0m\u001b[38;2;147;161;161;48;2;253;246;227m.\u001b[0m\u001b[38;2;101;123;131;48;2;253;246;227mscore\u001b[0m\u001b[38;2;101;123;131;48;2;253;246;227m(\u001b[0m\u001b[38;2;101;123;131;48;2;253;246;227mX\u001b[0m\u001b[38;2;101;123;131;48;2;253;246;227m,\u001b[0m\u001b[38;2;101;123;131;48;2;253;246;227m \u001b[0m\u001b[38;2;101;123;131;48;2;253;246;227my\u001b[0m\u001b[38;2;101;123;131;48;2;253;246;227m)\u001b[0m\u001b[48;2;253;246;227m                                                                                   \u001b[0m │\n",
       "│ \u001b[48;2;253;246;227m                                                                                                               \u001b[0m │\n",
       "╰─────────────────────────────────────────────────────────────────────────────────────────────────────────────────╯\n",
       "╭─────────────────────────────────────────────────────────────────────────────────────────────────────────────────╮\n",
       "│ \u001b[3;38;2;147;161;161;48;2;253;246;227m### Dependencies for version of function eval_model from module __main__\u001b[0m\u001b[48;2;253;246;227m                                       \u001b[0m │\n",
       "│ \u001b[3;38;2;147;161;161;48;2;253;246;227m### content_version_id=5bdcd6ffc4888990d8922aa85795198d\u001b[0m\u001b[48;2;253;246;227m                                                        \u001b[0m │\n",
       "│ \u001b[3;38;2;147;161;161;48;2;253;246;227m### semantic_version_id=4e1d702e9797ebba156831294de46425\u001b[0m\u001b[48;2;253;246;227m                                                       \u001b[0m │\n",
       "│ \u001b[48;2;253;246;227m                                                                                                               \u001b[0m │\n",
       "│ \u001b[3;38;2;147;161;161;48;2;253;246;227m################################################################################\u001b[0m\u001b[48;2;253;246;227m                               \u001b[0m │\n",
       "│ \u001b[3;38;2;147;161;161;48;2;253;246;227m### IN MODULE \"__main__\"\u001b[0m\u001b[48;2;253;246;227m                                                                                       \u001b[0m │\n",
       "│ \u001b[3;38;2;147;161;161;48;2;253;246;227m################################################################################\u001b[0m\u001b[48;2;253;246;227m                               \u001b[0m │\n",
       "│ \u001b[48;2;253;246;227m                                                                                                               \u001b[0m │\n",
       "│ \u001b[38;2;38;139;210;48;2;253;246;227m@op\u001b[0m\u001b[48;2;253;246;227m                                                                                                            \u001b[0m │\n",
       "│ \u001b[38;2;133;153;0;48;2;253;246;227mdef\u001b[0m\u001b[38;2;101;123;131;48;2;253;246;227m \u001b[0m\u001b[38;2;38;139;210;48;2;253;246;227meval_model\u001b[0m\u001b[38;2;101;123;131;48;2;253;246;227m(\u001b[0m\u001b[38;2;101;123;131;48;2;253;246;227mmodel\u001b[0m\u001b[38;2;101;123;131;48;2;253;246;227m,\u001b[0m\u001b[38;2;101;123;131;48;2;253;246;227m \u001b[0m\u001b[38;2;101;123;131;48;2;253;246;227mX\u001b[0m\u001b[38;2;101;123;131;48;2;253;246;227m,\u001b[0m\u001b[38;2;101;123;131;48;2;253;246;227m \u001b[0m\u001b[38;2;101;123;131;48;2;253;246;227my\u001b[0m\u001b[38;2;101;123;131;48;2;253;246;227m,\u001b[0m\u001b[38;2;101;123;131;48;2;253;246;227m \u001b[0m\u001b[38;2;101;123;131;48;2;253;246;227mscale\u001b[0m\u001b[38;2;147;161;161;48;2;253;246;227m=\u001b[0m\u001b[38;2;42;161;152;48;2;253;246;227mFalse\u001b[0m\u001b[38;2;101;123;131;48;2;253;246;227m)\u001b[0m\u001b[38;2;101;123;131;48;2;253;246;227m:\u001b[0m\u001b[48;2;253;246;227m                                                                      \u001b[0m │\n",
       "│ \u001b[38;2;101;123;131;48;2;253;246;227m    \u001b[0m\u001b[38;2;133;153;0;48;2;253;246;227mif\u001b[0m\u001b[38;2;101;123;131;48;2;253;246;227m \u001b[0m\u001b[38;2;101;123;131;48;2;253;246;227mscale\u001b[0m\u001b[38;2;101;123;131;48;2;253;246;227m:\u001b[0m\u001b[48;2;253;246;227m                                                                                                  \u001b[0m │\n",
       "│ \u001b[38;2;101;123;131;48;2;253;246;227m        \u001b[0m\u001b[38;2;101;123;131;48;2;253;246;227mX\u001b[0m\u001b[38;2;101;123;131;48;2;253;246;227m \u001b[0m\u001b[38;2;147;161;161;48;2;253;246;227m=\u001b[0m\u001b[38;2;101;123;131;48;2;253;246;227m \u001b[0m\u001b[38;2;101;123;131;48;2;253;246;227mscale_data\u001b[0m\u001b[38;2;101;123;131;48;2;253;246;227m(\u001b[0m\u001b[38;2;101;123;131;48;2;253;246;227mX\u001b[0m\u001b[38;2;101;123;131;48;2;253;246;227m)\u001b[0m\u001b[48;2;253;246;227m                                                                                      \u001b[0m │\n",
       "│ \u001b[38;2;101;123;131;48;2;253;246;227m    \u001b[0m\u001b[38;2;133;153;0;48;2;253;246;227mreturn\u001b[0m\u001b[38;2;101;123;131;48;2;253;246;227m \u001b[0m\u001b[38;2;101;123;131;48;2;253;246;227mmodel\u001b[0m\u001b[38;2;147;161;161;48;2;253;246;227m.\u001b[0m\u001b[38;2;101;123;131;48;2;253;246;227mscore\u001b[0m\u001b[38;2;101;123;131;48;2;253;246;227m(\u001b[0m\u001b[38;2;101;123;131;48;2;253;246;227mX\u001b[0m\u001b[38;2;101;123;131;48;2;253;246;227m,\u001b[0m\u001b[38;2;101;123;131;48;2;253;246;227m \u001b[0m\u001b[38;2;101;123;131;48;2;253;246;227my\u001b[0m\u001b[38;2;101;123;131;48;2;253;246;227m)\u001b[0m\u001b[48;2;253;246;227m                                                                                   \u001b[0m │\n",
       "│ \u001b[48;2;253;246;227m                                                                                                               \u001b[0m │\n",
       "│ \u001b[38;2;38;139;210;48;2;253;246;227m@track\u001b[0m\u001b[38;2;101;123;131;48;2;253;246;227m \u001b[0m\u001b[3;38;2;147;161;161;48;2;253;246;227m# to track a non-memoized function as a dependency\u001b[0m\u001b[48;2;253;246;227m                                                      \u001b[0m │\n",
       "│ \u001b[38;2;133;153;0;48;2;253;246;227mdef\u001b[0m\u001b[38;2;101;123;131;48;2;253;246;227m \u001b[0m\u001b[38;2;38;139;210;48;2;253;246;227mscale_data\u001b[0m\u001b[38;2;101;123;131;48;2;253;246;227m(\u001b[0m\u001b[38;2;101;123;131;48;2;253;246;227mX\u001b[0m\u001b[38;2;101;123;131;48;2;253;246;227m)\u001b[0m\u001b[38;2;101;123;131;48;2;253;246;227m:\u001b[0m\u001b[48;2;253;246;227m                                                                                             \u001b[0m │\n",
       "│ \u001b[38;2;101;123;131;48;2;253;246;227m    \u001b[0m\u001b[38;2;133;153;0;48;2;253;246;227mreturn\u001b[0m\u001b[38;2;101;123;131;48;2;253;246;227m \u001b[0m\u001b[38;2;101;123;131;48;2;253;246;227mStandardScaler\u001b[0m\u001b[38;2;101;123;131;48;2;253;246;227m(\u001b[0m\u001b[38;2;101;123;131;48;2;253;246;227mwith_mean\u001b[0m\u001b[38;2;147;161;161;48;2;253;246;227m=\u001b[0m\u001b[38;2;42;161;152;48;2;253;246;227mTrue\u001b[0m\u001b[38;2;101;123;131;48;2;253;246;227m,\u001b[0m\u001b[38;2;101;123;131;48;2;253;246;227m \u001b[0m\u001b[38;2;101;123;131;48;2;253;246;227mwith_std\u001b[0m\u001b[38;2;147;161;161;48;2;253;246;227m=\u001b[0m\u001b[38;2;42;161;152;48;2;253;246;227mFalse\u001b[0m\u001b[38;2;101;123;131;48;2;253;246;227m)\u001b[0m\u001b[38;2;147;161;161;48;2;253;246;227m.\u001b[0m\u001b[38;2;101;123;131;48;2;253;246;227mfit_transform\u001b[0m\u001b[38;2;101;123;131;48;2;253;246;227m(\u001b[0m\u001b[38;2;101;123;131;48;2;253;246;227mX\u001b[0m\u001b[38;2;101;123;131;48;2;253;246;227m)\u001b[0m\u001b[48;2;253;246;227m                                     \u001b[0m │\n",
       "│ \u001b[48;2;253;246;227m                                                                                                               \u001b[0m │\n",
       "╰─────────────────────────────────────────────────────────────────────────────────────────────────────────────────╯\n",
       "╭─────────────────────────────────────────────────────────────────────────────────────────────────────────────────╮\n",
       "│ \u001b[3;38;2;147;161;161;48;2;253;246;227m### Dependencies for version of function eval_model from module __main__\u001b[0m\u001b[48;2;253;246;227m                                       \u001b[0m │\n",
       "│ \u001b[3;38;2;147;161;161;48;2;253;246;227m### content_version_id=b50e3e2529b811e226d2bb39a572a5e4\u001b[0m\u001b[48;2;253;246;227m                                                        \u001b[0m │\n",
       "│ \u001b[3;38;2;147;161;161;48;2;253;246;227m### semantic_version_id=c847d6dc3f23c176e6c8bf9e7006576a\u001b[0m\u001b[48;2;253;246;227m                                                       \u001b[0m │\n",
       "│ \u001b[48;2;253;246;227m                                                                                                               \u001b[0m │\n",
       "│ \u001b[3;38;2;147;161;161;48;2;253;246;227m################################################################################\u001b[0m\u001b[48;2;253;246;227m                               \u001b[0m │\n",
       "│ \u001b[3;38;2;147;161;161;48;2;253;246;227m### IN MODULE \"__main__\"\u001b[0m\u001b[48;2;253;246;227m                                                                                       \u001b[0m │\n",
       "│ \u001b[3;38;2;147;161;161;48;2;253;246;227m################################################################################\u001b[0m\u001b[48;2;253;246;227m                               \u001b[0m │\n",
       "│ \u001b[48;2;253;246;227m                                                                                                               \u001b[0m │\n",
       "│ \u001b[38;2;38;139;210;48;2;253;246;227m@op\u001b[0m\u001b[48;2;253;246;227m                                                                                                            \u001b[0m │\n",
       "│ \u001b[38;2;133;153;0;48;2;253;246;227mdef\u001b[0m\u001b[38;2;101;123;131;48;2;253;246;227m \u001b[0m\u001b[38;2;38;139;210;48;2;253;246;227meval_model\u001b[0m\u001b[38;2;101;123;131;48;2;253;246;227m(\u001b[0m\u001b[38;2;101;123;131;48;2;253;246;227mmodel\u001b[0m\u001b[38;2;101;123;131;48;2;253;246;227m,\u001b[0m\u001b[38;2;101;123;131;48;2;253;246;227m \u001b[0m\u001b[38;2;101;123;131;48;2;253;246;227mX\u001b[0m\u001b[38;2;101;123;131;48;2;253;246;227m,\u001b[0m\u001b[38;2;101;123;131;48;2;253;246;227m \u001b[0m\u001b[38;2;101;123;131;48;2;253;246;227my\u001b[0m\u001b[38;2;101;123;131;48;2;253;246;227m,\u001b[0m\u001b[38;2;101;123;131;48;2;253;246;227m \u001b[0m\u001b[38;2;101;123;131;48;2;253;246;227mscale\u001b[0m\u001b[38;2;147;161;161;48;2;253;246;227m=\u001b[0m\u001b[38;2;42;161;152;48;2;253;246;227mFalse\u001b[0m\u001b[38;2;101;123;131;48;2;253;246;227m)\u001b[0m\u001b[38;2;101;123;131;48;2;253;246;227m:\u001b[0m\u001b[48;2;253;246;227m                                                                      \u001b[0m │\n",
       "│ \u001b[38;2;101;123;131;48;2;253;246;227m    \u001b[0m\u001b[38;2;133;153;0;48;2;253;246;227mif\u001b[0m\u001b[38;2;101;123;131;48;2;253;246;227m \u001b[0m\u001b[38;2;101;123;131;48;2;253;246;227mscale\u001b[0m\u001b[38;2;101;123;131;48;2;253;246;227m:\u001b[0m\u001b[48;2;253;246;227m                                                                                                  \u001b[0m │\n",
       "│ \u001b[38;2;101;123;131;48;2;253;246;227m        \u001b[0m\u001b[38;2;101;123;131;48;2;253;246;227mX\u001b[0m\u001b[38;2;101;123;131;48;2;253;246;227m \u001b[0m\u001b[38;2;147;161;161;48;2;253;246;227m=\u001b[0m\u001b[38;2;101;123;131;48;2;253;246;227m \u001b[0m\u001b[38;2;101;123;131;48;2;253;246;227mscale_data\u001b[0m\u001b[38;2;101;123;131;48;2;253;246;227m(\u001b[0m\u001b[38;2;101;123;131;48;2;253;246;227mX\u001b[0m\u001b[38;2;101;123;131;48;2;253;246;227m)\u001b[0m\u001b[48;2;253;246;227m                                                                                      \u001b[0m │\n",
       "│ \u001b[38;2;101;123;131;48;2;253;246;227m    \u001b[0m\u001b[38;2;133;153;0;48;2;253;246;227mreturn\u001b[0m\u001b[38;2;101;123;131;48;2;253;246;227m \u001b[0m\u001b[38;2;101;123;131;48;2;253;246;227mmodel\u001b[0m\u001b[38;2;147;161;161;48;2;253;246;227m.\u001b[0m\u001b[38;2;101;123;131;48;2;253;246;227mscore\u001b[0m\u001b[38;2;101;123;131;48;2;253;246;227m(\u001b[0m\u001b[38;2;101;123;131;48;2;253;246;227mX\u001b[0m\u001b[38;2;101;123;131;48;2;253;246;227m,\u001b[0m\u001b[38;2;101;123;131;48;2;253;246;227m \u001b[0m\u001b[38;2;101;123;131;48;2;253;246;227my\u001b[0m\u001b[38;2;101;123;131;48;2;253;246;227m)\u001b[0m\u001b[48;2;253;246;227m                                                                                   \u001b[0m │\n",
       "│ \u001b[48;2;253;246;227m                                                                                                               \u001b[0m │\n",
       "╰─────────────────────────────────────────────────────────────────────────────────────────────────────────────────╯\n",
       "╭─────────────────────────────────────────────────────────────────────────────────────────────────────────────────╮\n",
       "│ \u001b[3;38;2;147;161;161;48;2;253;246;227m### Dependencies for version of function eval_model from module __main__\u001b[0m\u001b[48;2;253;246;227m                                       \u001b[0m │\n",
       "│ \u001b[3;38;2;147;161;161;48;2;253;246;227m### content_version_id=136129b20d9a3a3795e88ba8cf89b115\u001b[0m\u001b[48;2;253;246;227m                                                        \u001b[0m │\n",
       "│ \u001b[3;38;2;147;161;161;48;2;253;246;227m### semantic_version_id=f2573de2a6c25b390fc86d665ea85687\u001b[0m\u001b[48;2;253;246;227m                                                       \u001b[0m │\n",
       "│ \u001b[48;2;253;246;227m                                                                                                               \u001b[0m │\n",
       "│ \u001b[3;38;2;147;161;161;48;2;253;246;227m################################################################################\u001b[0m\u001b[48;2;253;246;227m                               \u001b[0m │\n",
       "│ \u001b[3;38;2;147;161;161;48;2;253;246;227m### IN MODULE \"__main__\"\u001b[0m\u001b[48;2;253;246;227m                                                                                       \u001b[0m │\n",
       "│ \u001b[3;38;2;147;161;161;48;2;253;246;227m################################################################################\u001b[0m\u001b[48;2;253;246;227m                               \u001b[0m │\n",
       "│ \u001b[48;2;253;246;227m                                                                                                               \u001b[0m │\n",
       "│ \u001b[38;2;38;139;210;48;2;253;246;227m@op\u001b[0m\u001b[48;2;253;246;227m                                                                                                            \u001b[0m │\n",
       "│ \u001b[38;2;133;153;0;48;2;253;246;227mdef\u001b[0m\u001b[38;2;101;123;131;48;2;253;246;227m \u001b[0m\u001b[38;2;38;139;210;48;2;253;246;227meval_model\u001b[0m\u001b[38;2;101;123;131;48;2;253;246;227m(\u001b[0m\u001b[38;2;101;123;131;48;2;253;246;227mmodel\u001b[0m\u001b[38;2;101;123;131;48;2;253;246;227m,\u001b[0m\u001b[38;2;101;123;131;48;2;253;246;227m \u001b[0m\u001b[38;2;101;123;131;48;2;253;246;227mX\u001b[0m\u001b[38;2;101;123;131;48;2;253;246;227m,\u001b[0m\u001b[38;2;101;123;131;48;2;253;246;227m \u001b[0m\u001b[38;2;101;123;131;48;2;253;246;227my\u001b[0m\u001b[38;2;101;123;131;48;2;253;246;227m,\u001b[0m\u001b[38;2;101;123;131;48;2;253;246;227m \u001b[0m\u001b[38;2;101;123;131;48;2;253;246;227mscale\u001b[0m\u001b[38;2;147;161;161;48;2;253;246;227m=\u001b[0m\u001b[38;2;42;161;152;48;2;253;246;227mFalse\u001b[0m\u001b[38;2;101;123;131;48;2;253;246;227m)\u001b[0m\u001b[38;2;101;123;131;48;2;253;246;227m:\u001b[0m\u001b[48;2;253;246;227m                                                                      \u001b[0m │\n",
       "│ \u001b[38;2;101;123;131;48;2;253;246;227m    \u001b[0m\u001b[38;2;133;153;0;48;2;253;246;227mif\u001b[0m\u001b[38;2;101;123;131;48;2;253;246;227m \u001b[0m\u001b[38;2;101;123;131;48;2;253;246;227mscale\u001b[0m\u001b[38;2;101;123;131;48;2;253;246;227m:\u001b[0m\u001b[48;2;253;246;227m                                                                                                  \u001b[0m │\n",
       "│ \u001b[38;2;101;123;131;48;2;253;246;227m        \u001b[0m\u001b[38;2;101;123;131;48;2;253;246;227mX\u001b[0m\u001b[38;2;101;123;131;48;2;253;246;227m \u001b[0m\u001b[38;2;147;161;161;48;2;253;246;227m=\u001b[0m\u001b[38;2;101;123;131;48;2;253;246;227m \u001b[0m\u001b[38;2;101;123;131;48;2;253;246;227mscale_data\u001b[0m\u001b[38;2;101;123;131;48;2;253;246;227m(\u001b[0m\u001b[38;2;101;123;131;48;2;253;246;227mX\u001b[0m\u001b[38;2;101;123;131;48;2;253;246;227m)\u001b[0m\u001b[48;2;253;246;227m                                                                                      \u001b[0m │\n",
       "│ \u001b[38;2;101;123;131;48;2;253;246;227m    \u001b[0m\u001b[38;2;133;153;0;48;2;253;246;227mreturn\u001b[0m\u001b[38;2;101;123;131;48;2;253;246;227m \u001b[0m\u001b[38;2;101;123;131;48;2;253;246;227mmodel\u001b[0m\u001b[38;2;147;161;161;48;2;253;246;227m.\u001b[0m\u001b[38;2;101;123;131;48;2;253;246;227mscore\u001b[0m\u001b[38;2;101;123;131;48;2;253;246;227m(\u001b[0m\u001b[38;2;101;123;131;48;2;253;246;227mX\u001b[0m\u001b[38;2;101;123;131;48;2;253;246;227m,\u001b[0m\u001b[38;2;101;123;131;48;2;253;246;227m \u001b[0m\u001b[38;2;101;123;131;48;2;253;246;227my\u001b[0m\u001b[38;2;101;123;131;48;2;253;246;227m)\u001b[0m\u001b[48;2;253;246;227m                                                                                   \u001b[0m │\n",
       "│ \u001b[48;2;253;246;227m                                                                                                               \u001b[0m │\n",
       "│ \u001b[38;2;38;139;210;48;2;253;246;227m@track\u001b[0m\u001b[48;2;253;246;227m                                                                                                         \u001b[0m │\n",
       "│ \u001b[38;2;133;153;0;48;2;253;246;227mdef\u001b[0m\u001b[38;2;101;123;131;48;2;253;246;227m \u001b[0m\u001b[38;2;38;139;210;48;2;253;246;227mscale_data\u001b[0m\u001b[38;2;101;123;131;48;2;253;246;227m(\u001b[0m\u001b[38;2;101;123;131;48;2;253;246;227mX\u001b[0m\u001b[38;2;101;123;131;48;2;253;246;227m)\u001b[0m\u001b[38;2;101;123;131;48;2;253;246;227m:\u001b[0m\u001b[48;2;253;246;227m                                                                                             \u001b[0m │\n",
       "│ \u001b[38;2;101;123;131;48;2;253;246;227m    \u001b[0m\u001b[38;2;133;153;0;48;2;253;246;227mreturn\u001b[0m\u001b[38;2;101;123;131;48;2;253;246;227m \u001b[0m\u001b[38;2;101;123;131;48;2;253;246;227mStandardScaler\u001b[0m\u001b[38;2;101;123;131;48;2;253;246;227m(\u001b[0m\u001b[38;2;101;123;131;48;2;253;246;227mwith_mean\u001b[0m\u001b[38;2;147;161;161;48;2;253;246;227m=\u001b[0m\u001b[38;2;42;161;152;48;2;253;246;227mTrue\u001b[0m\u001b[38;2;101;123;131;48;2;253;246;227m,\u001b[0m\u001b[38;2;101;123;131;48;2;253;246;227m \u001b[0m\u001b[38;2;101;123;131;48;2;253;246;227mwith_std\u001b[0m\u001b[38;2;147;161;161;48;2;253;246;227m=\u001b[0m\u001b[38;2;42;161;152;48;2;253;246;227mTrue\u001b[0m\u001b[38;2;101;123;131;48;2;253;246;227m)\u001b[0m\u001b[38;2;147;161;161;48;2;253;246;227m.\u001b[0m\u001b[38;2;101;123;131;48;2;253;246;227mfit_transform\u001b[0m\u001b[38;2;101;123;131;48;2;253;246;227m(\u001b[0m\u001b[38;2;101;123;131;48;2;253;246;227mX\u001b[0m\u001b[38;2;101;123;131;48;2;253;246;227m)\u001b[0m\u001b[48;2;253;246;227m                                      \u001b[0m │\n",
       "│ \u001b[48;2;253;246;227m                                                                                                               \u001b[0m │\n",
       "╰─────────────────────────────────────────────────────────────────────────────────────────────────────────────────╯\n"
      ]
     },
     "metadata": {},
     "output_type": "display_data"
    }
   ],
   "source": [
    "storage.versions(eval_model)"
   ]
  },
  {
   "cell_type": "markdown",
   "metadata": {},
   "source": [
    "## Additional notes\n",
    "\n",
    "### So what really is a version of an `@op`?\n",
    "A **version** for an `@op` is a collection of\n",
    "\n",
    "- (hashes of) the source code of functions and methods\n",
    "- (hashes of) values of global variables\n",
    "\n",
    "at the time when a call to this `@op` was executed. Even if you don't change\n",
    "anything in the code, a single function can have multiple versions if it invokes\n",
    "different dependencies for different calls. \n",
    "\n",
    "### Going back in time\n",
    "Since the versioning system is content-based, simply restoring an old state of\n",
    "the code makes the storage automatically recognize which \"world\" it's in, and\n",
    "which calls are memoized in this world.\n",
    "\n",
    "### Caveats of marking changes as non-breaking\n",
    "The main motivation for allowing non-breaking changes is to maintain the storage\n",
    "when doing routine code improvements (refactoring, comments, logging).\n",
    "\n",
    "**However**, non-semantic changes should be applied with care. Apart from being\n",
    "prone to errors (you wrongly conclude that a change has no effect on semantics\n",
    "when it does), they can also introduce **invisible dependencies**: suppose you\n",
    "factor a function out of some dependency and mark the change non-semantic. Then\n",
    "the newly extracted function may in reality be a dependency of the existing\n",
    "calls, but this goes unnoticed by the system. Consequently, changes in this \n",
    "dependency may go unnoticed by the versioning algorithm."
   ]
  }
 ],
 "metadata": {
  "language_info": {
   "codemirror_mode": {
    "name": "ipython",
    "version": 3
   },
   "file_extension": ".py",
   "mimetype": "text/x-python",
   "name": "python",
   "nbconvert_exporter": "python",
   "pygments_lexer": "ipython3",
   "version": "3.10.8"
  }
 },
 "nbformat": 4,
 "nbformat_minor": 2
}
