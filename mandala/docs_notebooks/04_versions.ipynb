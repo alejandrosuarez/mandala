{
 "cells": [
  {
   "cell_type": "markdown",
   "metadata": {},
   "source": [
    "# Changing `@op`s and managing versions\n",
    "It should be easy to change your code and have the storage respond in a correct\n",
    "way (e.g., recompute a call **only** when the logic behind it has changed).\n",
    "`mandala` provides the following mechanisms to do that:\n",
    "\n",
    "- **automatic per-call dependency tracking**: every `@op` call records the\n",
    "functions it called along the way. This allows the `storage` to automatically\n",
    "know, given some inputs, whether a past call for these inputs can be reused \n",
    "given the current state of the code. This is a very fine-grained notion of\n",
    "reuse.\n",
    "- **marking changes as breaking vs non-breaking**: when a change to an `@op` or\n",
    "its dependencies is detected, you can choose to mark it as breaking the calls that depend on it\n",
    "or not. However, **breaking changes are generally more fool-proof**; see [caveats of non-breaking changes](#caveats-of-marking-changes-as-non-breaking).\n",
    "- **content-based versioning**: the current state of the codebase uniquely\n",
    "determines the version each `@op` is in. There are no arbitrary names attached\n",
    "to versions. The versions for each `@op` can be inspected in a `git`-like data\n",
    "structure."
   ]
  },
  {
   "cell_type": "markdown",
   "metadata": {},
   "source": [
    "## Enabling and configuring versioning\n",
    "Passing a value to the `deps_path` parameter of the `Storage` class enables\n",
    "dependency tracking and versioning. This means that any time a memoized function\n",
    "*actually executes* (instead of reusing a past call's results), it keeps track\n",
    "of the functions and global variables it accesses along the way. \n",
    "\n",
    "Usually, the functions we want to track are limited to user-defined ones (you\n",
    "typically don't want to track changes in installed libraries!):\n",
    "\n",
    "- Setting `deps_path` to `\"__main__\"` will only look for dependencies `f`\n",
    "defined in the current interactive session or process (as determined by\n",
    "`f.__module__`).\n",
    "- Setting it to a folder will only look for dependencies defined in this folder."
   ]
  },
  {
   "cell_type": "code",
   "execution_count": 1,
   "metadata": {
    "execution": {
     "iopub.execute_input": "2024-07-03T11:40:59.462089Z",
     "iopub.status.busy": "2024-07-03T11:40:59.461792Z",
     "iopub.status.idle": "2024-07-03T11:41:01.304913Z",
     "shell.execute_reply": "2024-07-03T11:41:01.304264Z"
    }
   },
   "outputs": [],
   "source": [
    "from mandala.imports import Storage, op, track\n",
    "\n",
    "storage = Storage(deps_path='__main__')"
   ]
  },
  {
   "cell_type": "markdown",
   "metadata": {},
   "source": [
    "## The `@track` decorator\n",
    "The most efficient and reliable implementation of dependency tracking currently\n",
    "requires you to explicitly put `@track` on non-memoized functions and classes\n",
    "you want to track. This limitation may be lifted in the future, but at the cost\n",
    "of more magic (i.e., automatically applying the decorator to functions in the\n",
    "current local scope that originate in given paths).\n",
    "\n",
    "The alternative (experimental) decorator implementation is based on\n",
    "`sys.settrace`. Limitations are described in this [blog\n",
    "post](https://amakelov.github.io/blog/deps/#syssettrace))"
   ]
  },
  {
   "cell_type": "markdown",
   "metadata": {},
   "source": [
    "## Examining the captured versions\n",
    "Let's run a small ML pipeline, where we optionally apply scaling to the data,\n",
    "introducing a non-`@op` dependency for some of the calls:"
   ]
  },
  {
   "cell_type": "code",
   "execution_count": 2,
   "metadata": {
    "execution": {
     "iopub.execute_input": "2024-07-03T11:41:01.307879Z",
     "iopub.status.busy": "2024-07-03T11:41:01.307535Z",
     "iopub.status.idle": "2024-07-03T11:41:02.860672Z",
     "shell.execute_reply": "2024-07-03T11:41:02.859870Z"
    }
   },
   "outputs": [],
   "source": [
    "from sklearn.datasets import load_digits\n",
    "from sklearn.linear_model import LogisticRegression\n",
    "from sklearn.preprocessing import StandardScaler\n",
    "\n",
    "N_CLASS = 10\n",
    "\n",
    "@track # to track a non-memoized function as a dependency\n",
    "def scale_data(X):\n",
    "    return StandardScaler(with_mean=True, with_std=False).fit_transform(X)\n",
    "\n",
    "@op\n",
    "def load_data():\n",
    "    X, y = load_digits(n_class=N_CLASS, return_X_y=True)\n",
    "    return X, y\n",
    "\n",
    "@op\n",
    "def train_model(X, y, scale=False):\n",
    "    if scale:\n",
    "        X = scale_data(X)\n",
    "    return LogisticRegression(max_iter=1000, solver='liblinear').fit(X, y)\n",
    "\n",
    "@op\n",
    "def eval_model(model, X, y, scale=False):\n",
    "    if scale:\n",
    "        X = scale_data(X)\n",
    "    return model.score(X, y)\n",
    "\n",
    "with storage:\n",
    "    X, y = load_data()\n",
    "    for scale in [False, True]:\n",
    "        model = train_model(X, y, scale=scale)\n",
    "        acc = eval_model(model, X, y, scale=scale)"
   ]
  },
  {
   "cell_type": "markdown",
   "metadata": {},
   "source": [
    "Now `train_model` and `eval_model` will each have two versions - one that\n",
    "depends on `scale_data` and one that doesn't. You can confirm this by calling\n",
    "e.g. `storage.versions(train_model)`:"
   ]
  },
  {
   "cell_type": "code",
   "execution_count": 3,
   "metadata": {
    "execution": {
     "iopub.execute_input": "2024-07-03T11:41:02.864457Z",
     "iopub.status.busy": "2024-07-03T11:41:02.864167Z",
     "iopub.status.idle": "2024-07-03T11:41:02.974395Z",
     "shell.execute_reply": "2024-07-03T11:41:02.972895Z"
    }
   },
   "outputs": [
    {
     "data": {
      "text/html": [
       "<pre style=\"white-space:pre;overflow-x:auto;line-height:normal;font-family:Menlo,'DejaVu Sans Mono',consolas,'Courier New',monospace\">╭─────────────────────────────────────────────────────────────────────────────────────────────────────────────────╮\n",
       "│ <span style=\"color: #93a1a1; text-decoration-color: #93a1a1; background-color: #fdf6e3; font-style: italic\">### Dependencies for version of function train_model from module __main__</span><span style=\"background-color: #fdf6e3\">                                      </span> │\n",
       "│ <span style=\"color: #93a1a1; text-decoration-color: #93a1a1; background-color: #fdf6e3; font-style: italic\">### content_version_id=db93a1e9c60fb37868575845a7afe47d</span><span style=\"background-color: #fdf6e3\">                                                        </span> │\n",
       "│ <span style=\"color: #93a1a1; text-decoration-color: #93a1a1; background-color: #fdf6e3; font-style: italic\">### semantic_version_id=2acaa8919ddd4b5d8846f1f2d15bc971</span><span style=\"background-color: #fdf6e3\">                                                       </span> │\n",
       "│ <span style=\"background-color: #fdf6e3\">                                                                                                               </span> │\n",
       "│ <span style=\"color: #93a1a1; text-decoration-color: #93a1a1; background-color: #fdf6e3; font-style: italic\">################################################################################</span><span style=\"background-color: #fdf6e3\">                               </span> │\n",
       "│ <span style=\"color: #93a1a1; text-decoration-color: #93a1a1; background-color: #fdf6e3; font-style: italic\">### IN MODULE \"__main__\"</span><span style=\"background-color: #fdf6e3\">                                                                                       </span> │\n",
       "│ <span style=\"color: #93a1a1; text-decoration-color: #93a1a1; background-color: #fdf6e3; font-style: italic\">################################################################################</span><span style=\"background-color: #fdf6e3\">                               </span> │\n",
       "│ <span style=\"background-color: #fdf6e3\">                                                                                                               </span> │\n",
       "│ <span style=\"color: #268bd2; text-decoration-color: #268bd2; background-color: #fdf6e3\">@op</span><span style=\"background-color: #fdf6e3\">                                                                                                            </span> │\n",
       "│ <span style=\"color: #859900; text-decoration-color: #859900; background-color: #fdf6e3\">def</span><span style=\"color: #657b83; text-decoration-color: #657b83; background-color: #fdf6e3\"> </span><span style=\"color: #268bd2; text-decoration-color: #268bd2; background-color: #fdf6e3\">train_model</span><span style=\"color: #657b83; text-decoration-color: #657b83; background-color: #fdf6e3\">(X, y, scale</span><span style=\"color: #93a1a1; text-decoration-color: #93a1a1; background-color: #fdf6e3\">=</span><span style=\"color: #2aa198; text-decoration-color: #2aa198; background-color: #fdf6e3\">False</span><span style=\"color: #657b83; text-decoration-color: #657b83; background-color: #fdf6e3\">):</span><span style=\"background-color: #fdf6e3\">                                                                            </span> │\n",
       "│ <span style=\"color: #657b83; text-decoration-color: #657b83; background-color: #fdf6e3\">    </span><span style=\"color: #859900; text-decoration-color: #859900; background-color: #fdf6e3\">if</span><span style=\"color: #657b83; text-decoration-color: #657b83; background-color: #fdf6e3\"> scale:</span><span style=\"background-color: #fdf6e3\">                                                                                                  </span> │\n",
       "│ <span style=\"color: #657b83; text-decoration-color: #657b83; background-color: #fdf6e3\">        X </span><span style=\"color: #93a1a1; text-decoration-color: #93a1a1; background-color: #fdf6e3\">=</span><span style=\"color: #657b83; text-decoration-color: #657b83; background-color: #fdf6e3\"> scale_data(X)</span><span style=\"background-color: #fdf6e3\">                                                                                      </span> │\n",
       "│ <span style=\"color: #657b83; text-decoration-color: #657b83; background-color: #fdf6e3\">    </span><span style=\"color: #859900; text-decoration-color: #859900; background-color: #fdf6e3\">return</span><span style=\"color: #657b83; text-decoration-color: #657b83; background-color: #fdf6e3\"> LogisticRegression(max_iter</span><span style=\"color: #93a1a1; text-decoration-color: #93a1a1; background-color: #fdf6e3\">=</span><span style=\"color: #2aa198; text-decoration-color: #2aa198; background-color: #fdf6e3\">1000</span><span style=\"color: #657b83; text-decoration-color: #657b83; background-color: #fdf6e3\">, solver</span><span style=\"color: #93a1a1; text-decoration-color: #93a1a1; background-color: #fdf6e3\">=</span><span style=\"color: #2aa198; text-decoration-color: #2aa198; background-color: #fdf6e3\">'liblinear'</span><span style=\"color: #657b83; text-decoration-color: #657b83; background-color: #fdf6e3\">)</span><span style=\"color: #93a1a1; text-decoration-color: #93a1a1; background-color: #fdf6e3\">.</span><span style=\"color: #657b83; text-decoration-color: #657b83; background-color: #fdf6e3\">fit(X, y)</span><span style=\"background-color: #fdf6e3\">                                     </span> │\n",
       "│ <span style=\"background-color: #fdf6e3\">                                                                                                               </span> │\n",
       "╰─────────────────────────────────────────────────────────────────────────────────────────────────────────────────╯\n",
       "╭─────────────────────────────────────────────────────────────────────────────────────────────────────────────────╮\n",
       "│ <span style=\"color: #93a1a1; text-decoration-color: #93a1a1; background-color: #fdf6e3; font-style: italic\">### Dependencies for version of function train_model from module __main__</span><span style=\"background-color: #fdf6e3\">                                      </span> │\n",
       "│ <span style=\"color: #93a1a1; text-decoration-color: #93a1a1; background-color: #fdf6e3; font-style: italic\">### content_version_id=2717c55fbbbb60442535a8dea0c81f67</span><span style=\"background-color: #fdf6e3\">                                                        </span> │\n",
       "│ <span style=\"color: #93a1a1; text-decoration-color: #93a1a1; background-color: #fdf6e3; font-style: italic\">### semantic_version_id=4674057d19bbf217687dd9dabe01df36</span><span style=\"background-color: #fdf6e3\">                                                       </span> │\n",
       "│ <span style=\"background-color: #fdf6e3\">                                                                                                               </span> │\n",
       "│ <span style=\"color: #93a1a1; text-decoration-color: #93a1a1; background-color: #fdf6e3; font-style: italic\">################################################################################</span><span style=\"background-color: #fdf6e3\">                               </span> │\n",
       "│ <span style=\"color: #93a1a1; text-decoration-color: #93a1a1; background-color: #fdf6e3; font-style: italic\">### IN MODULE \"__main__\"</span><span style=\"background-color: #fdf6e3\">                                                                                       </span> │\n",
       "│ <span style=\"color: #93a1a1; text-decoration-color: #93a1a1; background-color: #fdf6e3; font-style: italic\">################################################################################</span><span style=\"background-color: #fdf6e3\">                               </span> │\n",
       "│ <span style=\"background-color: #fdf6e3\">                                                                                                               </span> │\n",
       "│ <span style=\"color: #268bd2; text-decoration-color: #268bd2; background-color: #fdf6e3\">@track</span><span style=\"color: #657b83; text-decoration-color: #657b83; background-color: #fdf6e3\"> </span><span style=\"color: #93a1a1; text-decoration-color: #93a1a1; background-color: #fdf6e3; font-style: italic\"># to track a non-memoized function as a dependency</span><span style=\"background-color: #fdf6e3\">                                                      </span> │\n",
       "│ <span style=\"color: #859900; text-decoration-color: #859900; background-color: #fdf6e3\">def</span><span style=\"color: #657b83; text-decoration-color: #657b83; background-color: #fdf6e3\"> </span><span style=\"color: #268bd2; text-decoration-color: #268bd2; background-color: #fdf6e3\">scale_data</span><span style=\"color: #657b83; text-decoration-color: #657b83; background-color: #fdf6e3\">(X):</span><span style=\"background-color: #fdf6e3\">                                                                                             </span> │\n",
       "│ <span style=\"color: #657b83; text-decoration-color: #657b83; background-color: #fdf6e3\">    </span><span style=\"color: #859900; text-decoration-color: #859900; background-color: #fdf6e3\">return</span><span style=\"color: #657b83; text-decoration-color: #657b83; background-color: #fdf6e3\"> StandardScaler(with_mean</span><span style=\"color: #93a1a1; text-decoration-color: #93a1a1; background-color: #fdf6e3\">=</span><span style=\"color: #2aa198; text-decoration-color: #2aa198; background-color: #fdf6e3\">True</span><span style=\"color: #657b83; text-decoration-color: #657b83; background-color: #fdf6e3\">, with_std</span><span style=\"color: #93a1a1; text-decoration-color: #93a1a1; background-color: #fdf6e3\">=</span><span style=\"color: #2aa198; text-decoration-color: #2aa198; background-color: #fdf6e3\">False</span><span style=\"color: #657b83; text-decoration-color: #657b83; background-color: #fdf6e3\">)</span><span style=\"color: #93a1a1; text-decoration-color: #93a1a1; background-color: #fdf6e3\">.</span><span style=\"color: #657b83; text-decoration-color: #657b83; background-color: #fdf6e3\">fit_transform(X)</span><span style=\"background-color: #fdf6e3\">                                     </span> │\n",
       "│ <span style=\"background-color: #fdf6e3\">                                                                                                               </span> │\n",
       "│ <span style=\"color: #268bd2; text-decoration-color: #268bd2; background-color: #fdf6e3\">@op</span><span style=\"background-color: #fdf6e3\">                                                                                                            </span> │\n",
       "│ <span style=\"color: #859900; text-decoration-color: #859900; background-color: #fdf6e3\">def</span><span style=\"color: #657b83; text-decoration-color: #657b83; background-color: #fdf6e3\"> </span><span style=\"color: #268bd2; text-decoration-color: #268bd2; background-color: #fdf6e3\">train_model</span><span style=\"color: #657b83; text-decoration-color: #657b83; background-color: #fdf6e3\">(X, y, scale</span><span style=\"color: #93a1a1; text-decoration-color: #93a1a1; background-color: #fdf6e3\">=</span><span style=\"color: #2aa198; text-decoration-color: #2aa198; background-color: #fdf6e3\">False</span><span style=\"color: #657b83; text-decoration-color: #657b83; background-color: #fdf6e3\">):</span><span style=\"background-color: #fdf6e3\">                                                                            </span> │\n",
       "│ <span style=\"color: #657b83; text-decoration-color: #657b83; background-color: #fdf6e3\">    </span><span style=\"color: #859900; text-decoration-color: #859900; background-color: #fdf6e3\">if</span><span style=\"color: #657b83; text-decoration-color: #657b83; background-color: #fdf6e3\"> scale:</span><span style=\"background-color: #fdf6e3\">                                                                                                  </span> │\n",
       "│ <span style=\"color: #657b83; text-decoration-color: #657b83; background-color: #fdf6e3\">        X </span><span style=\"color: #93a1a1; text-decoration-color: #93a1a1; background-color: #fdf6e3\">=</span><span style=\"color: #657b83; text-decoration-color: #657b83; background-color: #fdf6e3\"> scale_data(X)</span><span style=\"background-color: #fdf6e3\">                                                                                      </span> │\n",
       "│ <span style=\"color: #657b83; text-decoration-color: #657b83; background-color: #fdf6e3\">    </span><span style=\"color: #859900; text-decoration-color: #859900; background-color: #fdf6e3\">return</span><span style=\"color: #657b83; text-decoration-color: #657b83; background-color: #fdf6e3\"> LogisticRegression(max_iter</span><span style=\"color: #93a1a1; text-decoration-color: #93a1a1; background-color: #fdf6e3\">=</span><span style=\"color: #2aa198; text-decoration-color: #2aa198; background-color: #fdf6e3\">1000</span><span style=\"color: #657b83; text-decoration-color: #657b83; background-color: #fdf6e3\">, solver</span><span style=\"color: #93a1a1; text-decoration-color: #93a1a1; background-color: #fdf6e3\">=</span><span style=\"color: #2aa198; text-decoration-color: #2aa198; background-color: #fdf6e3\">'liblinear'</span><span style=\"color: #657b83; text-decoration-color: #657b83; background-color: #fdf6e3\">)</span><span style=\"color: #93a1a1; text-decoration-color: #93a1a1; background-color: #fdf6e3\">.</span><span style=\"color: #657b83; text-decoration-color: #657b83; background-color: #fdf6e3\">fit(X, y)</span><span style=\"background-color: #fdf6e3\">                                     </span> │\n",
       "│ <span style=\"background-color: #fdf6e3\">                                                                                                               </span> │\n",
       "╰─────────────────────────────────────────────────────────────────────────────────────────────────────────────────╯\n",
       "</pre>\n"
      ],
      "text/plain": [
       "╭─────────────────────────────────────────────────────────────────────────────────────────────────────────────────╮\n",
       "│ \u001b[3;38;2;147;161;161;48;2;253;246;227m### Dependencies for version of function train_model from module __main__\u001b[0m\u001b[48;2;253;246;227m                                      \u001b[0m │\n",
       "│ \u001b[3;38;2;147;161;161;48;2;253;246;227m### content_version_id=db93a1e9c60fb37868575845a7afe47d\u001b[0m\u001b[48;2;253;246;227m                                                        \u001b[0m │\n",
       "│ \u001b[3;38;2;147;161;161;48;2;253;246;227m### semantic_version_id=2acaa8919ddd4b5d8846f1f2d15bc971\u001b[0m\u001b[48;2;253;246;227m                                                       \u001b[0m │\n",
       "│ \u001b[48;2;253;246;227m                                                                                                               \u001b[0m │\n",
       "│ \u001b[3;38;2;147;161;161;48;2;253;246;227m################################################################################\u001b[0m\u001b[48;2;253;246;227m                               \u001b[0m │\n",
       "│ \u001b[3;38;2;147;161;161;48;2;253;246;227m### IN MODULE \"__main__\"\u001b[0m\u001b[48;2;253;246;227m                                                                                       \u001b[0m │\n",
       "│ \u001b[3;38;2;147;161;161;48;2;253;246;227m################################################################################\u001b[0m\u001b[48;2;253;246;227m                               \u001b[0m │\n",
       "│ \u001b[48;2;253;246;227m                                                                                                               \u001b[0m │\n",
       "│ \u001b[38;2;38;139;210;48;2;253;246;227m@op\u001b[0m\u001b[48;2;253;246;227m                                                                                                            \u001b[0m │\n",
       "│ \u001b[38;2;133;153;0;48;2;253;246;227mdef\u001b[0m\u001b[38;2;101;123;131;48;2;253;246;227m \u001b[0m\u001b[38;2;38;139;210;48;2;253;246;227mtrain_model\u001b[0m\u001b[38;2;101;123;131;48;2;253;246;227m(\u001b[0m\u001b[38;2;101;123;131;48;2;253;246;227mX\u001b[0m\u001b[38;2;101;123;131;48;2;253;246;227m,\u001b[0m\u001b[38;2;101;123;131;48;2;253;246;227m \u001b[0m\u001b[38;2;101;123;131;48;2;253;246;227my\u001b[0m\u001b[38;2;101;123;131;48;2;253;246;227m,\u001b[0m\u001b[38;2;101;123;131;48;2;253;246;227m \u001b[0m\u001b[38;2;101;123;131;48;2;253;246;227mscale\u001b[0m\u001b[38;2;147;161;161;48;2;253;246;227m=\u001b[0m\u001b[38;2;42;161;152;48;2;253;246;227mFalse\u001b[0m\u001b[38;2;101;123;131;48;2;253;246;227m)\u001b[0m\u001b[38;2;101;123;131;48;2;253;246;227m:\u001b[0m\u001b[48;2;253;246;227m                                                                            \u001b[0m │\n",
       "│ \u001b[38;2;101;123;131;48;2;253;246;227m    \u001b[0m\u001b[38;2;133;153;0;48;2;253;246;227mif\u001b[0m\u001b[38;2;101;123;131;48;2;253;246;227m \u001b[0m\u001b[38;2;101;123;131;48;2;253;246;227mscale\u001b[0m\u001b[38;2;101;123;131;48;2;253;246;227m:\u001b[0m\u001b[48;2;253;246;227m                                                                                                  \u001b[0m │\n",
       "│ \u001b[38;2;101;123;131;48;2;253;246;227m        \u001b[0m\u001b[38;2;101;123;131;48;2;253;246;227mX\u001b[0m\u001b[38;2;101;123;131;48;2;253;246;227m \u001b[0m\u001b[38;2;147;161;161;48;2;253;246;227m=\u001b[0m\u001b[38;2;101;123;131;48;2;253;246;227m \u001b[0m\u001b[38;2;101;123;131;48;2;253;246;227mscale_data\u001b[0m\u001b[38;2;101;123;131;48;2;253;246;227m(\u001b[0m\u001b[38;2;101;123;131;48;2;253;246;227mX\u001b[0m\u001b[38;2;101;123;131;48;2;253;246;227m)\u001b[0m\u001b[48;2;253;246;227m                                                                                      \u001b[0m │\n",
       "│ \u001b[38;2;101;123;131;48;2;253;246;227m    \u001b[0m\u001b[38;2;133;153;0;48;2;253;246;227mreturn\u001b[0m\u001b[38;2;101;123;131;48;2;253;246;227m \u001b[0m\u001b[38;2;101;123;131;48;2;253;246;227mLogisticRegression\u001b[0m\u001b[38;2;101;123;131;48;2;253;246;227m(\u001b[0m\u001b[38;2;101;123;131;48;2;253;246;227mmax_iter\u001b[0m\u001b[38;2;147;161;161;48;2;253;246;227m=\u001b[0m\u001b[38;2;42;161;152;48;2;253;246;227m1000\u001b[0m\u001b[38;2;101;123;131;48;2;253;246;227m,\u001b[0m\u001b[38;2;101;123;131;48;2;253;246;227m \u001b[0m\u001b[38;2;101;123;131;48;2;253;246;227msolver\u001b[0m\u001b[38;2;147;161;161;48;2;253;246;227m=\u001b[0m\u001b[38;2;42;161;152;48;2;253;246;227m'\u001b[0m\u001b[38;2;42;161;152;48;2;253;246;227mliblinear\u001b[0m\u001b[38;2;42;161;152;48;2;253;246;227m'\u001b[0m\u001b[38;2;101;123;131;48;2;253;246;227m)\u001b[0m\u001b[38;2;147;161;161;48;2;253;246;227m.\u001b[0m\u001b[38;2;101;123;131;48;2;253;246;227mfit\u001b[0m\u001b[38;2;101;123;131;48;2;253;246;227m(\u001b[0m\u001b[38;2;101;123;131;48;2;253;246;227mX\u001b[0m\u001b[38;2;101;123;131;48;2;253;246;227m,\u001b[0m\u001b[38;2;101;123;131;48;2;253;246;227m \u001b[0m\u001b[38;2;101;123;131;48;2;253;246;227my\u001b[0m\u001b[38;2;101;123;131;48;2;253;246;227m)\u001b[0m\u001b[48;2;253;246;227m                                     \u001b[0m │\n",
       "│ \u001b[48;2;253;246;227m                                                                                                               \u001b[0m │\n",
       "╰─────────────────────────────────────────────────────────────────────────────────────────────────────────────────╯\n",
       "╭─────────────────────────────────────────────────────────────────────────────────────────────────────────────────╮\n",
       "│ \u001b[3;38;2;147;161;161;48;2;253;246;227m### Dependencies for version of function train_model from module __main__\u001b[0m\u001b[48;2;253;246;227m                                      \u001b[0m │\n",
       "│ \u001b[3;38;2;147;161;161;48;2;253;246;227m### content_version_id=2717c55fbbbb60442535a8dea0c81f67\u001b[0m\u001b[48;2;253;246;227m                                                        \u001b[0m │\n",
       "│ \u001b[3;38;2;147;161;161;48;2;253;246;227m### semantic_version_id=4674057d19bbf217687dd9dabe01df36\u001b[0m\u001b[48;2;253;246;227m                                                       \u001b[0m │\n",
       "│ \u001b[48;2;253;246;227m                                                                                                               \u001b[0m │\n",
       "│ \u001b[3;38;2;147;161;161;48;2;253;246;227m################################################################################\u001b[0m\u001b[48;2;253;246;227m                               \u001b[0m │\n",
       "│ \u001b[3;38;2;147;161;161;48;2;253;246;227m### IN MODULE \"__main__\"\u001b[0m\u001b[48;2;253;246;227m                                                                                       \u001b[0m │\n",
       "│ \u001b[3;38;2;147;161;161;48;2;253;246;227m################################################################################\u001b[0m\u001b[48;2;253;246;227m                               \u001b[0m │\n",
       "│ \u001b[48;2;253;246;227m                                                                                                               \u001b[0m │\n",
       "│ \u001b[38;2;38;139;210;48;2;253;246;227m@track\u001b[0m\u001b[38;2;101;123;131;48;2;253;246;227m \u001b[0m\u001b[3;38;2;147;161;161;48;2;253;246;227m# to track a non-memoized function as a dependency\u001b[0m\u001b[48;2;253;246;227m                                                      \u001b[0m │\n",
       "│ \u001b[38;2;133;153;0;48;2;253;246;227mdef\u001b[0m\u001b[38;2;101;123;131;48;2;253;246;227m \u001b[0m\u001b[38;2;38;139;210;48;2;253;246;227mscale_data\u001b[0m\u001b[38;2;101;123;131;48;2;253;246;227m(\u001b[0m\u001b[38;2;101;123;131;48;2;253;246;227mX\u001b[0m\u001b[38;2;101;123;131;48;2;253;246;227m)\u001b[0m\u001b[38;2;101;123;131;48;2;253;246;227m:\u001b[0m\u001b[48;2;253;246;227m                                                                                             \u001b[0m │\n",
       "│ \u001b[38;2;101;123;131;48;2;253;246;227m    \u001b[0m\u001b[38;2;133;153;0;48;2;253;246;227mreturn\u001b[0m\u001b[38;2;101;123;131;48;2;253;246;227m \u001b[0m\u001b[38;2;101;123;131;48;2;253;246;227mStandardScaler\u001b[0m\u001b[38;2;101;123;131;48;2;253;246;227m(\u001b[0m\u001b[38;2;101;123;131;48;2;253;246;227mwith_mean\u001b[0m\u001b[38;2;147;161;161;48;2;253;246;227m=\u001b[0m\u001b[38;2;42;161;152;48;2;253;246;227mTrue\u001b[0m\u001b[38;2;101;123;131;48;2;253;246;227m,\u001b[0m\u001b[38;2;101;123;131;48;2;253;246;227m \u001b[0m\u001b[38;2;101;123;131;48;2;253;246;227mwith_std\u001b[0m\u001b[38;2;147;161;161;48;2;253;246;227m=\u001b[0m\u001b[38;2;42;161;152;48;2;253;246;227mFalse\u001b[0m\u001b[38;2;101;123;131;48;2;253;246;227m)\u001b[0m\u001b[38;2;147;161;161;48;2;253;246;227m.\u001b[0m\u001b[38;2;101;123;131;48;2;253;246;227mfit_transform\u001b[0m\u001b[38;2;101;123;131;48;2;253;246;227m(\u001b[0m\u001b[38;2;101;123;131;48;2;253;246;227mX\u001b[0m\u001b[38;2;101;123;131;48;2;253;246;227m)\u001b[0m\u001b[48;2;253;246;227m                                     \u001b[0m │\n",
       "│ \u001b[48;2;253;246;227m                                                                                                               \u001b[0m │\n",
       "│ \u001b[38;2;38;139;210;48;2;253;246;227m@op\u001b[0m\u001b[48;2;253;246;227m                                                                                                            \u001b[0m │\n",
       "│ \u001b[38;2;133;153;0;48;2;253;246;227mdef\u001b[0m\u001b[38;2;101;123;131;48;2;253;246;227m \u001b[0m\u001b[38;2;38;139;210;48;2;253;246;227mtrain_model\u001b[0m\u001b[38;2;101;123;131;48;2;253;246;227m(\u001b[0m\u001b[38;2;101;123;131;48;2;253;246;227mX\u001b[0m\u001b[38;2;101;123;131;48;2;253;246;227m,\u001b[0m\u001b[38;2;101;123;131;48;2;253;246;227m \u001b[0m\u001b[38;2;101;123;131;48;2;253;246;227my\u001b[0m\u001b[38;2;101;123;131;48;2;253;246;227m,\u001b[0m\u001b[38;2;101;123;131;48;2;253;246;227m \u001b[0m\u001b[38;2;101;123;131;48;2;253;246;227mscale\u001b[0m\u001b[38;2;147;161;161;48;2;253;246;227m=\u001b[0m\u001b[38;2;42;161;152;48;2;253;246;227mFalse\u001b[0m\u001b[38;2;101;123;131;48;2;253;246;227m)\u001b[0m\u001b[38;2;101;123;131;48;2;253;246;227m:\u001b[0m\u001b[48;2;253;246;227m                                                                            \u001b[0m │\n",
       "│ \u001b[38;2;101;123;131;48;2;253;246;227m    \u001b[0m\u001b[38;2;133;153;0;48;2;253;246;227mif\u001b[0m\u001b[38;2;101;123;131;48;2;253;246;227m \u001b[0m\u001b[38;2;101;123;131;48;2;253;246;227mscale\u001b[0m\u001b[38;2;101;123;131;48;2;253;246;227m:\u001b[0m\u001b[48;2;253;246;227m                                                                                                  \u001b[0m │\n",
       "│ \u001b[38;2;101;123;131;48;2;253;246;227m        \u001b[0m\u001b[38;2;101;123;131;48;2;253;246;227mX\u001b[0m\u001b[38;2;101;123;131;48;2;253;246;227m \u001b[0m\u001b[38;2;147;161;161;48;2;253;246;227m=\u001b[0m\u001b[38;2;101;123;131;48;2;253;246;227m \u001b[0m\u001b[38;2;101;123;131;48;2;253;246;227mscale_data\u001b[0m\u001b[38;2;101;123;131;48;2;253;246;227m(\u001b[0m\u001b[38;2;101;123;131;48;2;253;246;227mX\u001b[0m\u001b[38;2;101;123;131;48;2;253;246;227m)\u001b[0m\u001b[48;2;253;246;227m                                                                                      \u001b[0m │\n",
       "│ \u001b[38;2;101;123;131;48;2;253;246;227m    \u001b[0m\u001b[38;2;133;153;0;48;2;253;246;227mreturn\u001b[0m\u001b[38;2;101;123;131;48;2;253;246;227m \u001b[0m\u001b[38;2;101;123;131;48;2;253;246;227mLogisticRegression\u001b[0m\u001b[38;2;101;123;131;48;2;253;246;227m(\u001b[0m\u001b[38;2;101;123;131;48;2;253;246;227mmax_iter\u001b[0m\u001b[38;2;147;161;161;48;2;253;246;227m=\u001b[0m\u001b[38;2;42;161;152;48;2;253;246;227m1000\u001b[0m\u001b[38;2;101;123;131;48;2;253;246;227m,\u001b[0m\u001b[38;2;101;123;131;48;2;253;246;227m \u001b[0m\u001b[38;2;101;123;131;48;2;253;246;227msolver\u001b[0m\u001b[38;2;147;161;161;48;2;253;246;227m=\u001b[0m\u001b[38;2;42;161;152;48;2;253;246;227m'\u001b[0m\u001b[38;2;42;161;152;48;2;253;246;227mliblinear\u001b[0m\u001b[38;2;42;161;152;48;2;253;246;227m'\u001b[0m\u001b[38;2;101;123;131;48;2;253;246;227m)\u001b[0m\u001b[38;2;147;161;161;48;2;253;246;227m.\u001b[0m\u001b[38;2;101;123;131;48;2;253;246;227mfit\u001b[0m\u001b[38;2;101;123;131;48;2;253;246;227m(\u001b[0m\u001b[38;2;101;123;131;48;2;253;246;227mX\u001b[0m\u001b[38;2;101;123;131;48;2;253;246;227m,\u001b[0m\u001b[38;2;101;123;131;48;2;253;246;227m \u001b[0m\u001b[38;2;101;123;131;48;2;253;246;227my\u001b[0m\u001b[38;2;101;123;131;48;2;253;246;227m)\u001b[0m\u001b[48;2;253;246;227m                                     \u001b[0m │\n",
       "│ \u001b[48;2;253;246;227m                                                                                                               \u001b[0m │\n",
       "╰─────────────────────────────────────────────────────────────────────────────────────────────────────────────────╯\n"
      ]
     },
     "metadata": {},
     "output_type": "display_data"
    }
   ],
   "source": [
    "storage.versions(train_model)"
   ]
  },
  {
   "cell_type": "markdown",
   "metadata": {},
   "source": [
    "## Making changes and sorting them into breaking and non-breaking\n",
    "Now suppose we make some changes and re-run:\n",
    "\n",
    "- we change the value of the global variable `N_CLASS`;\n",
    "- we change the code of `scale_data` in a semantically meaningful (i.e.,\n",
    "breaking) way\n",
    "- we change the code of `eval_model` in a \"cosmetic\" way that can be considered\n",
    "non-breaking.\n",
    "\n",
    "When entering the `storage` block, the storage will detect the changes in\n",
    "the tracked components, and for each change will present you with the functions\n",
    "affected:\n",
    "\n",
    "- `N_CLASS` is a dependency for `load_data`;\n",
    "- `scale_data` is a dependency for the calls to `train_model` and `eval_model`\n",
    "  which had `scale=True`;\n",
    "- `eval_model` is a dependency for itself."
   ]
  },
  {
   "cell_type": "code",
   "execution_count": 4,
   "metadata": {
    "execution": {
     "iopub.execute_input": "2024-07-03T11:41:03.027699Z",
     "iopub.status.busy": "2024-07-03T11:41:03.026870Z",
     "iopub.status.idle": "2024-07-03T11:41:03.061357Z",
     "shell.execute_reply": "2024-07-03T11:41:03.060311Z"
    }
   },
   "outputs": [],
   "source": [
    "### simulate user input non-interactively\n",
    "from unittest.mock import patch\n",
    "\n",
    "def mock_input(prompts):\n",
    "    it = iter(prompts)\n",
    "    def mock_input_func(*args):\n",
    "        return next(it)\n",
    "    return mock_input_func"
   ]
  },
  {
   "cell_type": "code",
   "execution_count": 5,
   "metadata": {
    "execution": {
     "iopub.execute_input": "2024-07-03T11:41:03.064009Z",
     "iopub.status.busy": "2024-07-03T11:41:03.063754Z",
     "iopub.status.idle": "2024-07-03T11:41:03.328741Z",
     "shell.execute_reply": "2024-07-03T11:41:03.327961Z"
    }
   },
   "outputs": [
    {
     "name": "stdout",
     "output_type": "stream",
     "text": [
      "CHANGE DETECTED in N_CLASS from module __main__\n",
      "Dependent components:\n",
      "  Version of \"load_data\" from module \"__main__\" (content: 426c4c8c56d7c0d6374095c7d4a4974f, semantic: 7d0732b9bfb31e5e2211e0122651a624)\n"
     ]
    },
    {
     "data": {
      "text/html": [
       "<pre style=\"white-space:pre;overflow-x:auto;line-height:normal;font-family:Menlo,'DejaVu Sans Mono',consolas,'Courier New',monospace\">╭───────────────────────────────────────────────────── Diff ──────────────────────────────────────────────────────╮\n",
       "│ <span style=\"color: #74878c; text-decoration-color: #74878c; background-color: #fdf6e3; font-weight: bold\">  </span><span style=\"color: #cfd1c6; text-decoration-color: #cfd1c6; background-color: #fdf6e3\">1 </span><span style=\"color: #dc322f; text-decoration-color: #dc322f; background-color: #fdf6e3\">-10</span><span style=\"background-color: #fdf6e3\">                                                                                                        </span> │\n",
       "│ <span style=\"color: #74878c; text-decoration-color: #74878c; background-color: #fdf6e3; font-weight: bold\">  </span><span style=\"color: #cfd1c6; text-decoration-color: #cfd1c6; background-color: #fdf6e3\">2 </span><span style=\"color: #859900; text-decoration-color: #859900; background-color: #fdf6e3\">+5</span><span style=\"background-color: #fdf6e3\">                                                                                                         </span> │\n",
       "╰─────────────────────────────────────────────────────────────────────────────────────────────────────────────────╯\n",
       "</pre>\n"
      ],
      "text/plain": [
       "╭───────────────────────────────────────────────────── Diff ──────────────────────────────────────────────────────╮\n",
       "│ \u001b[1;38;2;116;135;140;48;2;253;246;227m  \u001b[0m\u001b[38;2;207;209;198;48;2;253;246;227m1 \u001b[0m\u001b[38;2;220;50;47;48;2;253;246;227m-10\u001b[0m\u001b[48;2;253;246;227m                                                                                                        \u001b[0m │\n",
       "│ \u001b[1;38;2;116;135;140;48;2;253;246;227m  \u001b[0m\u001b[38;2;207;209;198;48;2;253;246;227m2 \u001b[0m\u001b[38;2;133;153;0;48;2;253;246;227m+5\u001b[0m\u001b[48;2;253;246;227m                                                                                                         \u001b[0m │\n",
       "╰─────────────────────────────────────────────────────────────────────────────────────────────────────────────────╯\n"
      ]
     },
     "metadata": {},
     "output_type": "display_data"
    },
    {
     "name": "stdout",
     "output_type": "stream",
     "text": [
      "Does this change require recomputation of dependent calls?\n",
      "WARNING: if the change created new dependencies and you choose 'no', you should add them by hand or risk missing changes in them.\n",
      "Answer: [y]es/[n]o/[a]bort \n",
      "You answered: \"y\"\n",
      "CHANGE DETECTED in eval_model from module __main__\n",
      "Dependent components:\n",
      "  Version of \"eval_model\" from module \"__main__\" (content: 955b2a683de8dacf624047c0e020140a, semantic: c847d6dc3f23c176e6c8bf9e7006576a)\n",
      "  Version of \"eval_model\" from module \"__main__\" (content: 5bdcd6ffc4888990d8922aa85795198d, semantic: 4e1d702e9797ebba156831294de46425)\n"
     ]
    },
    {
     "data": {
      "text/html": [
       "<pre style=\"white-space:pre;overflow-x:auto;line-height:normal;font-family:Menlo,'DejaVu Sans Mono',consolas,'Courier New',monospace\">╭───────────────────────────────────────────────────── Diff ──────────────────────────────────────────────────────╮\n",
       "│ <span style=\"color: #74878c; text-decoration-color: #74878c; background-color: #fdf6e3; font-weight: bold\">  </span><span style=\"color: #cfd1c6; text-decoration-color: #cfd1c6; background-color: #fdf6e3\">1 </span><span style=\"color: #657b83; text-decoration-color: #657b83; background-color: #fdf6e3\">     if scale:</span><span style=\"background-color: #fdf6e3\">                                                                                             </span> │\n",
       "│ <span style=\"color: #74878c; text-decoration-color: #74878c; background-color: #fdf6e3; font-weight: bold\">  </span><span style=\"color: #cfd1c6; text-decoration-color: #cfd1c6; background-color: #fdf6e3\">2 </span><span style=\"color: #657b83; text-decoration-color: #657b83; background-color: #fdf6e3\">         X = scale_data(X)</span><span style=\"background-color: #fdf6e3\">                                                                                 </span> │\n",
       "│ <span style=\"color: #74878c; text-decoration-color: #74878c; background-color: #fdf6e3; font-weight: bold\">  </span><span style=\"color: #cfd1c6; text-decoration-color: #cfd1c6; background-color: #fdf6e3\">3 </span><span style=\"color: #dc322f; text-decoration-color: #dc322f; background-color: #fdf6e3\">-    return model.score(X, y)</span><span style=\"background-color: #fdf6e3\">                                                                              </span> │\n",
       "│ <span style=\"color: #74878c; text-decoration-color: #74878c; background-color: #fdf6e3; font-weight: bold\">  </span><span style=\"color: #cfd1c6; text-decoration-color: #cfd1c6; background-color: #fdf6e3\">4 </span><span style=\"color: #859900; text-decoration-color: #859900; background-color: #fdf6e3\">+    return round(model.score(X, y), 2)</span><span style=\"background-color: #fdf6e3\">                                                                    </span> │\n",
       "╰─────────────────────────────────────────────────────────────────────────────────────────────────────────────────╯\n",
       "</pre>\n"
      ],
      "text/plain": [
       "╭───────────────────────────────────────────────────── Diff ──────────────────────────────────────────────────────╮\n",
       "│ \u001b[1;38;2;116;135;140;48;2;253;246;227m  \u001b[0m\u001b[38;2;207;209;198;48;2;253;246;227m1 \u001b[0m\u001b[38;2;101;123;131;48;2;253;246;227m \u001b[0m\u001b[38;2;101;123;131;48;2;253;246;227m    if scale:\u001b[0m\u001b[48;2;253;246;227m                                                                                             \u001b[0m │\n",
       "│ \u001b[1;38;2;116;135;140;48;2;253;246;227m  \u001b[0m\u001b[38;2;207;209;198;48;2;253;246;227m2 \u001b[0m\u001b[38;2;101;123;131;48;2;253;246;227m \u001b[0m\u001b[38;2;101;123;131;48;2;253;246;227m        X = scale_data(X)\u001b[0m\u001b[48;2;253;246;227m                                                                                 \u001b[0m │\n",
       "│ \u001b[1;38;2;116;135;140;48;2;253;246;227m  \u001b[0m\u001b[38;2;207;209;198;48;2;253;246;227m3 \u001b[0m\u001b[38;2;220;50;47;48;2;253;246;227m-    return model.score(X, y)\u001b[0m\u001b[48;2;253;246;227m                                                                              \u001b[0m │\n",
       "│ \u001b[1;38;2;116;135;140;48;2;253;246;227m  \u001b[0m\u001b[38;2;207;209;198;48;2;253;246;227m4 \u001b[0m\u001b[38;2;133;153;0;48;2;253;246;227m+    return round(model.score(X, y), 2)\u001b[0m\u001b[48;2;253;246;227m                                                                    \u001b[0m │\n",
       "╰─────────────────────────────────────────────────────────────────────────────────────────────────────────────────╯\n"
      ]
     },
     "metadata": {},
     "output_type": "display_data"
    },
    {
     "name": "stdout",
     "output_type": "stream",
     "text": [
      "Does this change require recomputation of dependent calls?\n",
      "WARNING: if the change created new dependencies and you choose 'no', you should add them by hand or risk missing changes in them.\n",
      "Answer: [y]es/[n]o/[a]bort \n",
      "You answered: \"n\"\n",
      "CHANGE DETECTED in scale_data from module __main__\n",
      "Dependent components:\n",
      "  Version of \"train_model\" from module \"__main__\" (content: 2717c55fbbbb60442535a8dea0c81f67, semantic: 4674057d19bbf217687dd9dabe01df36)\n",
      "  Version of \"eval_model\" from module \"__main__\" (content: 5bdcd6ffc4888990d8922aa85795198d, semantic: 4e1d702e9797ebba156831294de46425)\n"
     ]
    },
    {
     "data": {
      "text/html": [
       "<pre style=\"white-space:pre;overflow-x:auto;line-height:normal;font-family:Menlo,'DejaVu Sans Mono',consolas,'Courier New',monospace\">╭───────────────────────────────────────────────────── Diff ──────────────────────────────────────────────────────╮\n",
       "│ <span style=\"color: #74878c; text-decoration-color: #74878c; background-color: #fdf6e3; font-weight: bold\">  </span><span style=\"color: #cfd1c6; text-decoration-color: #cfd1c6; background-color: #fdf6e3\">1 </span><span style=\"color: #dc322f; text-decoration-color: #dc322f; background-color: #fdf6e3\">-@track # to track a non-memoized function as a dependency</span><span style=\"background-color: #fdf6e3\">                                                 </span> │\n",
       "│ <span style=\"color: #74878c; text-decoration-color: #74878c; background-color: #fdf6e3; font-weight: bold\">  </span><span style=\"color: #cfd1c6; text-decoration-color: #cfd1c6; background-color: #fdf6e3\">2 </span><span style=\"color: #859900; text-decoration-color: #859900; background-color: #fdf6e3\">+@track</span><span style=\"background-color: #fdf6e3\">                                                                                                    </span> │\n",
       "│ <span style=\"color: #74878c; text-decoration-color: #74878c; background-color: #fdf6e3; font-weight: bold\">  </span><span style=\"color: #cfd1c6; text-decoration-color: #cfd1c6; background-color: #fdf6e3\">3 </span><span style=\"color: #657b83; text-decoration-color: #657b83; background-color: #fdf6e3\"> def scale_data(X):</span><span style=\"background-color: #fdf6e3\">                                                                                        </span> │\n",
       "│ <span style=\"color: #74878c; text-decoration-color: #74878c; background-color: #fdf6e3; font-weight: bold\">  </span><span style=\"color: #cfd1c6; text-decoration-color: #cfd1c6; background-color: #fdf6e3\">4 </span><span style=\"color: #dc322f; text-decoration-color: #dc322f; background-color: #fdf6e3\">-    return StandardScaler(with_mean=True, with_std=False).fit_transform(X)</span><span style=\"background-color: #fdf6e3\">                                </span> │\n",
       "│ <span style=\"color: #74878c; text-decoration-color: #74878c; background-color: #fdf6e3; font-weight: bold\">  </span><span style=\"color: #cfd1c6; text-decoration-color: #cfd1c6; background-color: #fdf6e3\">5 </span><span style=\"color: #859900; text-decoration-color: #859900; background-color: #fdf6e3\">+    return StandardScaler(with_mean=True, with_std=True).fit_transform(X)</span><span style=\"background-color: #fdf6e3\">                                 </span> │\n",
       "╰─────────────────────────────────────────────────────────────────────────────────────────────────────────────────╯\n",
       "</pre>\n"
      ],
      "text/plain": [
       "╭───────────────────────────────────────────────────── Diff ──────────────────────────────────────────────────────╮\n",
       "│ \u001b[1;38;2;116;135;140;48;2;253;246;227m  \u001b[0m\u001b[38;2;207;209;198;48;2;253;246;227m1 \u001b[0m\u001b[38;2;220;50;47;48;2;253;246;227m-@track # to track a non-memoized function as a dependency\u001b[0m\u001b[48;2;253;246;227m                                                 \u001b[0m │\n",
       "│ \u001b[1;38;2;116;135;140;48;2;253;246;227m  \u001b[0m\u001b[38;2;207;209;198;48;2;253;246;227m2 \u001b[0m\u001b[38;2;133;153;0;48;2;253;246;227m+@track\u001b[0m\u001b[48;2;253;246;227m                                                                                                    \u001b[0m │\n",
       "│ \u001b[1;38;2;116;135;140;48;2;253;246;227m  \u001b[0m\u001b[38;2;207;209;198;48;2;253;246;227m3 \u001b[0m\u001b[38;2;101;123;131;48;2;253;246;227m \u001b[0m\u001b[38;2;101;123;131;48;2;253;246;227mdef scale_data(X):\u001b[0m\u001b[48;2;253;246;227m                                                                                        \u001b[0m │\n",
       "│ \u001b[1;38;2;116;135;140;48;2;253;246;227m  \u001b[0m\u001b[38;2;207;209;198;48;2;253;246;227m4 \u001b[0m\u001b[38;2;220;50;47;48;2;253;246;227m-    return StandardScaler(with_mean=True, with_std=False).fit_transform(X)\u001b[0m\u001b[48;2;253;246;227m                                \u001b[0m │\n",
       "│ \u001b[1;38;2;116;135;140;48;2;253;246;227m  \u001b[0m\u001b[38;2;207;209;198;48;2;253;246;227m5 \u001b[0m\u001b[38;2;133;153;0;48;2;253;246;227m+    return StandardScaler(with_mean=True, with_std=True).fit_transform(X)\u001b[0m\u001b[48;2;253;246;227m                                 \u001b[0m │\n",
       "╰─────────────────────────────────────────────────────────────────────────────────────────────────────────────────╯\n"
      ]
     },
     "metadata": {},
     "output_type": "display_data"
    },
    {
     "name": "stdout",
     "output_type": "stream",
     "text": [
      "Does this change require recomputation of dependent calls?\n",
      "WARNING: if the change created new dependencies and you choose 'no', you should add them by hand or risk missing changes in them.\n",
      "Answer: [y]es/[n]o/[a]bort \n",
      "You answered: \"y\"\n"
     ]
    }
   ],
   "source": [
    "N_CLASS = 5\n",
    "\n",
    "@track\n",
    "def scale_data(X):\n",
    "    return StandardScaler(with_mean=True, with_std=True).fit_transform(X)\n",
    "\n",
    "@op\n",
    "def eval_model(model, X, y, scale=False):\n",
    "    if scale:\n",
    "        X = scale_data(X)\n",
    "    return round(model.score(X, y), 2)\n",
    "\n",
    "answers = ['y', 'n', 'y']\n",
    "\n",
    "with patch('builtins.input', mock_input(answers)):\n",
    "    with storage:\n",
    "        X, y = load_data()\n",
    "        for scale in [False, True]:\n",
    "            model = train_model(X, y, scale=scale)\n",
    "            acc = eval_model(model, X, y, scale=scale)"
   ]
  },
  {
   "cell_type": "markdown",
   "metadata": {},
   "source": [
    "When a change is detected, the UI:\n",
    "\n",
    "- shows the diffs in each function,\n",
    "- gives you a list of which `@op`s' versions are affected by each change\n",
    "- lets you choose if the change is breaking or non-breaking\n",
    "\n",
    "We can check what happened by constructing a computation frame:"
   ]
  },
  {
   "cell_type": "code",
   "execution_count": 6,
   "metadata": {
    "execution": {
     "iopub.execute_input": "2024-07-03T11:41:03.334024Z",
     "iopub.status.busy": "2024-07-03T11:41:03.333024Z",
     "iopub.status.idle": "2024-07-03T11:41:03.807335Z",
     "shell.execute_reply": "2024-07-03T11:41:03.806762Z"
    }
   },
   "outputs": [
    {
     "data": {
      "image/svg+xml": [
       "<?xml version=\"1.0\" encoding=\"UTF-8\" standalone=\"no\"?>\n",
       "<!DOCTYPE svg PUBLIC \"-//W3C//DTD SVG 1.1//EN\"\n",
       " \"http://www.w3.org/Graphics/SVG/1.1/DTD/svg11.dtd\">\n",
       "<!-- Generated by graphviz version 2.50.0 (0)\n",
       " -->\n",
       "<!-- Title: G Pages: 1 -->\n",
       "<svg width=\"285pt\" height=\"526pt\"\n",
       " viewBox=\"0.00 0.00 285.31 526.00\" xmlns=\"http://www.w3.org/2000/svg\" xmlns:xlink=\"http://www.w3.org/1999/xlink\">\n",
       "<g id=\"graph0\" class=\"graph\" transform=\"scale(1 1) rotate(0) translate(4 522)\">\n",
       "<title>G</title>\n",
       "<polygon fill=\"white\" stroke=\"transparent\" points=\"-4,4 -4,-522 281.31,-522 281.31,4 -4,4\"/>\n",
       "<!-- y -->\n",
       "<g id=\"node1\" class=\"node\">\n",
       "<title>y</title>\n",
       "<path fill=\"none\" stroke=\"#268bd2\" d=\"M48.31,-420C48.31,-420 18.31,-420 18.31,-420 12.31,-420 6.31,-414 6.31,-408 6.31,-408 6.31,-396 6.31,-396 6.31,-390 12.31,-384 18.31,-384 18.31,-384 48.31,-384 48.31,-384 54.31,-384 60.31,-390 60.31,-396 60.31,-396 60.31,-408 60.31,-408 60.31,-414 54.31,-420 48.31,-420\"/>\n",
       "<text text-anchor=\"start\" x=\"29.81\" y=\"-404.4\" font-family=\"RobotoMono\" font-weight=\"bold\" font-size=\"12.00\" fill=\"#002b36\">y</text>\n",
       "<text text-anchor=\"start\" x=\"14.31\" y=\"-394\" font-family=\"RobotoMono\" font-size=\"10.00\" fill=\"#268bd2\">2 values</text>\n",
       "</g>\n",
       "<!-- eval_model -->\n",
       "<g id=\"node6\" class=\"node\">\n",
       "<title>eval_model</title>\n",
       "<path fill=\"none\" stroke=\"#dc322f\" d=\"M241.31,-134C241.31,-134 117.31,-134 117.31,-134 111.31,-134 105.31,-128 105.31,-122 105.31,-122 105.31,-106 105.31,-106 105.31,-100 111.31,-94 117.31,-94 117.31,-94 241.31,-94 241.31,-94 247.31,-94 253.31,-100 253.31,-106 253.31,-106 253.31,-122 253.31,-122 253.31,-128 247.31,-134 241.31,-134\"/>\n",
       "<text text-anchor=\"start\" x=\"145.31\" y=\"-121.4\" font-family=\"RobotoMono\" font-weight=\"bold\" font-size=\"12.00\" fill=\"#002b36\">eval_model</text>\n",
       "<text text-anchor=\"start\" x=\"113.31\" y=\"-111\" font-family=\"RobotoMono\" font-size=\"10.00\" fill=\"#002b36\">@op:eval_model (3 versions)</text>\n",
       "<text text-anchor=\"start\" x=\"165.31\" y=\"-101\" font-family=\"RobotoMono\" font-size=\"10.00\" fill=\"#dc322f\">4 calls</text>\n",
       "</g>\n",
       "<!-- y&#45;&gt;eval_model -->\n",
       "<g id=\"edge5\" class=\"edge\">\n",
       "<title>y&#45;&gt;eval_model</title>\n",
       "<path fill=\"none\" stroke=\"#002b36\" d=\"M22.7,-383.9C9.99,-361.14 -8.13,-319.82 4.31,-286 28.51,-220.22 94.22,-168.2 137.87,-139.53\"/>\n",
       "<polygon fill=\"#002b36\" stroke=\"#002b36\" points=\"139.77,-142.46 146.29,-134.1 135.98,-136.58 139.77,-142.46\"/>\n",
       "<text text-anchor=\"middle\" x=\"46.31\" y=\"-260\" font-family=\"RobotoMono\" font-size=\"10.00\" fill=\"#002b36\">y</text>\n",
       "<text text-anchor=\"middle\" x=\"46.31\" y=\"-249\" font-family=\"RobotoMono\" font-size=\"10.00\" fill=\"#002b36\">(2 values)</text>\n",
       "</g>\n",
       "<!-- train_model -->\n",
       "<g id=\"node7\" class=\"node\">\n",
       "<title>train_model</title>\n",
       "<path fill=\"none\" stroke=\"#dc322f\" d=\"M152.81,-326C152.81,-326 25.81,-326 25.81,-326 19.81,-326 13.81,-320 13.81,-314 13.81,-314 13.81,-298 13.81,-298 13.81,-292 19.81,-286 25.81,-286 25.81,-286 152.81,-286 152.81,-286 158.81,-286 164.81,-292 164.81,-298 164.81,-298 164.81,-314 164.81,-314 164.81,-320 158.81,-326 152.81,-326\"/>\n",
       "<text text-anchor=\"start\" x=\"52.81\" y=\"-313.4\" font-family=\"RobotoMono\" font-weight=\"bold\" font-size=\"12.00\" fill=\"#002b36\">train_model</text>\n",
       "<text text-anchor=\"start\" x=\"21.81\" y=\"-303\" font-family=\"RobotoMono\" font-size=\"10.00\" fill=\"#002b36\">@op:train_model (3 versions)</text>\n",
       "<text text-anchor=\"start\" x=\"75.31\" y=\"-293\" font-family=\"RobotoMono\" font-size=\"10.00\" fill=\"#dc322f\">4 calls</text>\n",
       "</g>\n",
       "<!-- y&#45;&gt;train_model -->\n",
       "<g id=\"edge6\" class=\"edge\">\n",
       "<title>y&#45;&gt;train_model</title>\n",
       "<path fill=\"none\" stroke=\"#002b36\" d=\"M39.34,-383.91C43.8,-372.24 50.45,-356.67 58.31,-344 60.39,-340.65 62.75,-337.28 65.22,-334.02\"/>\n",
       "<polygon fill=\"#002b36\" stroke=\"#002b36\" points=\"67.98,-336.17 71.48,-326.18 62.51,-331.81 67.98,-336.17\"/>\n",
       "<text text-anchor=\"middle\" x=\"80.31\" y=\"-358\" font-family=\"RobotoMono\" font-size=\"10.00\" fill=\"#002b36\">y</text>\n",
       "<text text-anchor=\"middle\" x=\"80.31\" y=\"-347\" font-family=\"RobotoMono\" font-size=\"10.00\" fill=\"#002b36\">(2 values)</text>\n",
       "</g>\n",
       "<!-- X -->\n",
       "<g id=\"node2\" class=\"node\">\n",
       "<title>X</title>\n",
       "<path fill=\"none\" stroke=\"#268bd2\" d=\"M244.31,-420C244.31,-420 214.31,-420 214.31,-420 208.31,-420 202.31,-414 202.31,-408 202.31,-408 202.31,-396 202.31,-396 202.31,-390 208.31,-384 214.31,-384 214.31,-384 244.31,-384 244.31,-384 250.31,-384 256.31,-390 256.31,-396 256.31,-396 256.31,-408 256.31,-408 256.31,-414 250.31,-420 244.31,-420\"/>\n",
       "<text text-anchor=\"start\" x=\"224.81\" y=\"-404.4\" font-family=\"RobotoMono\" font-weight=\"bold\" font-size=\"12.00\" fill=\"#002b36\">X</text>\n",
       "<text text-anchor=\"start\" x=\"210.31\" y=\"-394\" font-family=\"RobotoMono\" font-size=\"10.00\" fill=\"#268bd2\">2 values</text>\n",
       "</g>\n",
       "<!-- X&#45;&gt;eval_model -->\n",
       "<g id=\"edge7\" class=\"edge\">\n",
       "<title>X&#45;&gt;eval_model</title>\n",
       "<path fill=\"none\" stroke=\"#002b36\" d=\"M234.67,-383.72C236.16,-378.12 237.57,-371.85 238.31,-366 239.54,-356.3 238.76,-353.77 238.31,-344 236.31,-300.31 238.83,-288.69 229.31,-246 219.65,-202.64 211.69,-193.3 195.31,-152 194.22,-149.26 193.06,-146.41 191.87,-143.57\"/>\n",
       "<polygon fill=\"#002b36\" stroke=\"#002b36\" points=\"194.98,-141.94 187.84,-134.11 188.54,-144.68 194.98,-141.94\"/>\n",
       "<text text-anchor=\"middle\" x=\"255.31\" y=\"-260\" font-family=\"RobotoMono\" font-size=\"10.00\" fill=\"#002b36\">X</text>\n",
       "<text text-anchor=\"middle\" x=\"255.31\" y=\"-249\" font-family=\"RobotoMono\" font-size=\"10.00\" fill=\"#002b36\">(2 values)</text>\n",
       "</g>\n",
       "<!-- X&#45;&gt;train_model -->\n",
       "<g id=\"edge8\" class=\"edge\">\n",
       "<title>X&#45;&gt;train_model</title>\n",
       "<path fill=\"none\" stroke=\"#002b36\" d=\"M211.47,-383.79C198.48,-371.78 180.11,-355.84 162.31,-344 155.34,-339.36 147.71,-334.9 140.09,-330.77\"/>\n",
       "<polygon fill=\"#002b36\" stroke=\"#002b36\" points=\"141.68,-327.65 131.2,-326.1 138.42,-333.85 141.68,-327.65\"/>\n",
       "<text text-anchor=\"middle\" x=\"212.31\" y=\"-358\" font-family=\"RobotoMono\" font-size=\"10.00\" fill=\"#002b36\">X</text>\n",
       "<text text-anchor=\"middle\" x=\"212.31\" y=\"-347\" font-family=\"RobotoMono\" font-size=\"10.00\" fill=\"#002b36\">(2 values)</text>\n",
       "</g>\n",
       "<!-- output_0 -->\n",
       "<g id=\"node3\" class=\"node\">\n",
       "<title>output_0</title>\n",
       "<path fill=\"none\" stroke=\"#268bd2\" d=\"M213.81,-36C213.81,-36 144.81,-36 144.81,-36 138.81,-36 132.81,-30 132.81,-24 132.81,-24 132.81,-12 132.81,-12 132.81,-6 138.81,0 144.81,0 144.81,0 213.81,0 213.81,0 219.81,0 225.81,-6 225.81,-12 225.81,-12 225.81,-24 225.81,-24 225.81,-30 219.81,-36 213.81,-36\"/>\n",
       "<text text-anchor=\"start\" x=\"151.81\" y=\"-20.4\" font-family=\"RobotoMono\" font-weight=\"bold\" font-size=\"12.00\" fill=\"#002b36\">output_0</text>\n",
       "<text text-anchor=\"start\" x=\"140.81\" y=\"-10\" font-family=\"RobotoMono\" font-size=\"10.00\" fill=\"#268bd2\">4 values (4 sinks)</text>\n",
       "</g>\n",
       "<!-- scale -->\n",
       "<g id=\"node4\" class=\"node\">\n",
       "<title>scale</title>\n",
       "<path fill=\"none\" stroke=\"#268bd2\" d=\"M172.31,-420C172.31,-420 90.31,-420 90.31,-420 84.31,-420 78.31,-414 78.31,-408 78.31,-408 78.31,-396 78.31,-396 78.31,-390 84.31,-384 90.31,-384 90.31,-384 172.31,-384 172.31,-384 178.31,-384 184.31,-390 184.31,-396 184.31,-396 184.31,-408 184.31,-408 184.31,-414 178.31,-420 172.31,-420\"/>\n",
       "<text text-anchor=\"start\" x=\"115.81\" y=\"-404.4\" font-family=\"RobotoMono\" font-weight=\"bold\" font-size=\"12.00\" fill=\"#002b36\">scale</text>\n",
       "<text text-anchor=\"start\" x=\"86.31\" y=\"-394\" font-family=\"RobotoMono\" font-size=\"10.00\" fill=\"#268bd2\">2 values (2 sources)</text>\n",
       "</g>\n",
       "<!-- scale&#45;&gt;eval_model -->\n",
       "<g id=\"edge3\" class=\"edge\">\n",
       "<title>scale&#45;&gt;eval_model</title>\n",
       "<path fill=\"none\" stroke=\"#002b36\" d=\"M149.03,-383.99C153.87,-378.6 158.76,-372.38 162.31,-366 171.34,-349.78 171.31,-344.32 174.31,-326 184.82,-261.77 183.15,-185.09 181.15,-144.16\"/>\n",
       "<polygon fill=\"#002b36\" stroke=\"#002b36\" points=\"184.64,-143.88 180.61,-134.08 177.65,-144.25 184.64,-143.88\"/>\n",
       "<text text-anchor=\"middle\" x=\"203.31\" y=\"-260\" font-family=\"RobotoMono\" font-size=\"10.00\" fill=\"#002b36\">scale</text>\n",
       "<text text-anchor=\"middle\" x=\"203.31\" y=\"-249\" font-family=\"RobotoMono\" font-size=\"10.00\" fill=\"#002b36\">(2 values)</text>\n",
       "</g>\n",
       "<!-- scale&#45;&gt;train_model -->\n",
       "<g id=\"edge4\" class=\"edge\">\n",
       "<title>scale&#45;&gt;train_model</title>\n",
       "<path fill=\"none\" stroke=\"#002b36\" d=\"M123.61,-383.76C117.57,-370.24 109.03,-351.14 101.99,-335.38\"/>\n",
       "<polygon fill=\"#002b36\" stroke=\"#002b36\" points=\"105.11,-333.77 97.83,-326.07 98.72,-336.63 105.11,-333.77\"/>\n",
       "<text text-anchor=\"middle\" x=\"136.31\" y=\"-358\" font-family=\"RobotoMono\" font-size=\"10.00\" fill=\"#002b36\">scale</text>\n",
       "<text text-anchor=\"middle\" x=\"136.31\" y=\"-347\" font-family=\"RobotoMono\" font-size=\"10.00\" fill=\"#002b36\">(2 values)</text>\n",
       "</g>\n",
       "<!-- model -->\n",
       "<g id=\"node5\" class=\"node\">\n",
       "<title>model</title>\n",
       "<path fill=\"none\" stroke=\"#268bd2\" d=\"M135.31,-228C135.31,-228 105.31,-228 105.31,-228 99.31,-228 93.31,-222 93.31,-216 93.31,-216 93.31,-204 93.31,-204 93.31,-198 99.31,-192 105.31,-192 105.31,-192 135.31,-192 135.31,-192 141.31,-192 147.31,-198 147.31,-204 147.31,-204 147.31,-216 147.31,-216 147.31,-222 141.31,-228 135.31,-228\"/>\n",
       "<text text-anchor=\"start\" x=\"101.31\" y=\"-212.4\" font-family=\"RobotoMono\" font-weight=\"bold\" font-size=\"12.00\" fill=\"#002b36\">model</text>\n",
       "<text text-anchor=\"start\" x=\"101.31\" y=\"-202\" font-family=\"RobotoMono\" font-size=\"10.00\" fill=\"#268bd2\">4 values</text>\n",
       "</g>\n",
       "<!-- model&#45;&gt;eval_model -->\n",
       "<g id=\"edge2\" class=\"edge\">\n",
       "<title>model&#45;&gt;eval_model</title>\n",
       "<path fill=\"none\" stroke=\"#002b36\" d=\"M122.04,-191.95C123.88,-180.02 127.65,-164.1 135.31,-152 137.72,-148.2 140.64,-144.59 143.83,-141.22\"/>\n",
       "<polygon fill=\"#002b36\" stroke=\"#002b36\" points=\"146.31,-143.69 151.12,-134.25 141.47,-138.63 146.31,-143.69\"/>\n",
       "<text text-anchor=\"middle\" x=\"157.31\" y=\"-166\" font-family=\"RobotoMono\" font-size=\"10.00\" fill=\"#002b36\">model</text>\n",
       "<text text-anchor=\"middle\" x=\"157.31\" y=\"-155\" font-family=\"RobotoMono\" font-size=\"10.00\" fill=\"#002b36\">(4 values)</text>\n",
       "</g>\n",
       "<!-- eval_model&#45;&gt;output_0 -->\n",
       "<g id=\"edge1\" class=\"edge\">\n",
       "<title>eval_model&#45;&gt;output_0</title>\n",
       "<path fill=\"none\" stroke=\"#002b36\" d=\"M179.31,-93.98C179.31,-80.34 179.31,-61.75 179.31,-46.5\"/>\n",
       "<polygon fill=\"#002b36\" stroke=\"#002b36\" points=\"182.81,-46.1 179.31,-36.1 175.81,-46.1 182.81,-46.1\"/>\n",
       "<text text-anchor=\"middle\" x=\"201.31\" y=\"-68\" font-family=\"RobotoMono\" font-size=\"10.00\" fill=\"#002b36\">output_0</text>\n",
       "<text text-anchor=\"middle\" x=\"201.31\" y=\"-57\" font-family=\"RobotoMono\" font-size=\"10.00\" fill=\"#002b36\">(4 values)</text>\n",
       "</g>\n",
       "<!-- train_model&#45;&gt;model -->\n",
       "<g id=\"edge11\" class=\"edge\">\n",
       "<title>train_model&#45;&gt;model</title>\n",
       "<path fill=\"none\" stroke=\"#002b36\" d=\"M95.58,-285.98C100.17,-272.07 106.45,-253.03 111.53,-237.61\"/>\n",
       "<polygon fill=\"#002b36\" stroke=\"#002b36\" points=\"114.86,-238.69 114.67,-228.1 108.22,-236.5 114.86,-238.69\"/>\n",
       "<text text-anchor=\"middle\" x=\"130.31\" y=\"-260\" font-family=\"RobotoMono\" font-size=\"10.00\" fill=\"#002b36\">output_0</text>\n",
       "<text text-anchor=\"middle\" x=\"130.31\" y=\"-249\" font-family=\"RobotoMono\" font-size=\"10.00\" fill=\"#002b36\">(4 values)</text>\n",
       "</g>\n",
       "<!-- load_data -->\n",
       "<g id=\"node8\" class=\"node\">\n",
       "<title>load_data</title>\n",
       "<path fill=\"none\" stroke=\"#dc322f\" d=\"M188.31,-518C188.31,-518 72.31,-518 72.31,-518 66.31,-518 60.31,-512 60.31,-506 60.31,-506 60.31,-490 60.31,-490 60.31,-484 66.31,-478 72.31,-478 72.31,-478 188.31,-478 188.31,-478 194.31,-478 200.31,-484 200.31,-490 200.31,-490 200.31,-506 200.31,-506 200.31,-512 194.31,-518 188.31,-518\"/>\n",
       "<text text-anchor=\"start\" x=\"100.31\" y=\"-505.4\" font-family=\"RobotoMono\" font-weight=\"bold\" font-size=\"12.00\" fill=\"#002b36\">load_data</text>\n",
       "<text text-anchor=\"start\" x=\"68.31\" y=\"-495\" font-family=\"RobotoMono\" font-size=\"10.00\" fill=\"#002b36\">@op:load_data (2 versions)</text>\n",
       "<text text-anchor=\"start\" x=\"116.31\" y=\"-485\" font-family=\"RobotoMono\" font-size=\"10.00\" fill=\"#dc322f\">2 calls</text>\n",
       "</g>\n",
       "<!-- load_data&#45;&gt;y -->\n",
       "<g id=\"edge10\" class=\"edge\">\n",
       "<title>load_data&#45;&gt;y</title>\n",
       "<path fill=\"none\" stroke=\"#002b36\" d=\"M110.68,-477.98C95.65,-463.41 74.8,-443.2 58.53,-427.44\"/>\n",
       "<polygon fill=\"#002b36\" stroke=\"#002b36\" points=\"60.57,-424.54 50.95,-420.1 55.7,-429.57 60.57,-424.54\"/>\n",
       "<text text-anchor=\"middle\" x=\"113.31\" y=\"-452\" font-family=\"RobotoMono\" font-size=\"10.00\" fill=\"#002b36\">output_1</text>\n",
       "<text text-anchor=\"middle\" x=\"113.31\" y=\"-441\" font-family=\"RobotoMono\" font-size=\"10.00\" fill=\"#002b36\">(2 values)</text>\n",
       "</g>\n",
       "<!-- load_data&#45;&gt;X -->\n",
       "<g id=\"edge9\" class=\"edge\">\n",
       "<title>load_data&#45;&gt;X</title>\n",
       "<path fill=\"none\" stroke=\"#002b36\" d=\"M150.35,-477.98C165.83,-463.28 187.36,-442.83 204.03,-427.01\"/>\n",
       "<polygon fill=\"#002b36\" stroke=\"#002b36\" points=\"206.46,-429.52 211.3,-420.1 201.64,-424.45 206.46,-429.52\"/>\n",
       "<text text-anchor=\"middle\" x=\"213.31\" y=\"-452\" font-family=\"RobotoMono\" font-size=\"10.00\" fill=\"#002b36\">output_0</text>\n",
       "<text text-anchor=\"middle\" x=\"213.31\" y=\"-441\" font-family=\"RobotoMono\" font-size=\"10.00\" fill=\"#002b36\">(2 values)</text>\n",
       "</g>\n",
       "</g>\n",
       "</svg>\n"
      ],
      "text/plain": [
       "<graphviz.sources.Source at 0x76d8ec931420>"
      ]
     },
     "metadata": {},
     "output_type": "display_data"
    }
   ],
   "source": [
    "cf = storage.cf(eval_model).expand_all()\n",
    "cf.draw(verbose=True)"
   ]
  },
  {
   "cell_type": "markdown",
   "metadata": {},
   "source": [
    "We see that `load_data` has two versions in use, whereas `train_model` and\n",
    "`eval_model` both have three. Which ones? Again, call `versions` to find out.\n",
    "For example, with `eval_model`, we have 4 different content versions, that \n",
    "overall span 3 semantically different versions:"
   ]
  },
  {
   "cell_type": "code",
   "execution_count": 7,
   "metadata": {
    "execution": {
     "iopub.execute_input": "2024-07-03T11:41:03.811274Z",
     "iopub.status.busy": "2024-07-03T11:41:03.810330Z",
     "iopub.status.idle": "2024-07-03T11:41:03.849426Z",
     "shell.execute_reply": "2024-07-03T11:41:03.848838Z"
    }
   },
   "outputs": [
    {
     "data": {
      "text/html": [
       "<pre style=\"white-space:pre;overflow-x:auto;line-height:normal;font-family:Menlo,'DejaVu Sans Mono',consolas,'Courier New',monospace\">╭─────────────────────────────────────────────────────────────────────────────────────────────────────────────────╮\n",
       "│ <span style=\"color: #93a1a1; text-decoration-color: #93a1a1; background-color: #fdf6e3; font-style: italic\">### Dependencies for version of function eval_model from module __main__</span><span style=\"background-color: #fdf6e3\">                                       </span> │\n",
       "│ <span style=\"color: #93a1a1; text-decoration-color: #93a1a1; background-color: #fdf6e3; font-style: italic\">### content_version_id=955b2a683de8dacf624047c0e020140a</span><span style=\"background-color: #fdf6e3\">                                                        </span> │\n",
       "│ <span style=\"color: #93a1a1; text-decoration-color: #93a1a1; background-color: #fdf6e3; font-style: italic\">### semantic_version_id=c847d6dc3f23c176e6c8bf9e7006576a</span><span style=\"background-color: #fdf6e3\">                                                       </span> │\n",
       "│ <span style=\"background-color: #fdf6e3\">                                                                                                               </span> │\n",
       "│ <span style=\"color: #93a1a1; text-decoration-color: #93a1a1; background-color: #fdf6e3; font-style: italic\">################################################################################</span><span style=\"background-color: #fdf6e3\">                               </span> │\n",
       "│ <span style=\"color: #93a1a1; text-decoration-color: #93a1a1; background-color: #fdf6e3; font-style: italic\">### IN MODULE \"__main__\"</span><span style=\"background-color: #fdf6e3\">                                                                                       </span> │\n",
       "│ <span style=\"color: #93a1a1; text-decoration-color: #93a1a1; background-color: #fdf6e3; font-style: italic\">################################################################################</span><span style=\"background-color: #fdf6e3\">                               </span> │\n",
       "│ <span style=\"background-color: #fdf6e3\">                                                                                                               </span> │\n",
       "│ <span style=\"color: #268bd2; text-decoration-color: #268bd2; background-color: #fdf6e3\">@op</span><span style=\"background-color: #fdf6e3\">                                                                                                            </span> │\n",
       "│ <span style=\"color: #859900; text-decoration-color: #859900; background-color: #fdf6e3\">def</span><span style=\"color: #657b83; text-decoration-color: #657b83; background-color: #fdf6e3\"> </span><span style=\"color: #268bd2; text-decoration-color: #268bd2; background-color: #fdf6e3\">eval_model</span><span style=\"color: #657b83; text-decoration-color: #657b83; background-color: #fdf6e3\">(model, X, y, scale</span><span style=\"color: #93a1a1; text-decoration-color: #93a1a1; background-color: #fdf6e3\">=</span><span style=\"color: #2aa198; text-decoration-color: #2aa198; background-color: #fdf6e3\">False</span><span style=\"color: #657b83; text-decoration-color: #657b83; background-color: #fdf6e3\">):</span><span style=\"background-color: #fdf6e3\">                                                                      </span> │\n",
       "│ <span style=\"color: #657b83; text-decoration-color: #657b83; background-color: #fdf6e3\">    </span><span style=\"color: #859900; text-decoration-color: #859900; background-color: #fdf6e3\">if</span><span style=\"color: #657b83; text-decoration-color: #657b83; background-color: #fdf6e3\"> scale:</span><span style=\"background-color: #fdf6e3\">                                                                                                  </span> │\n",
       "│ <span style=\"color: #657b83; text-decoration-color: #657b83; background-color: #fdf6e3\">        X </span><span style=\"color: #93a1a1; text-decoration-color: #93a1a1; background-color: #fdf6e3\">=</span><span style=\"color: #657b83; text-decoration-color: #657b83; background-color: #fdf6e3\"> scale_data(X)</span><span style=\"background-color: #fdf6e3\">                                                                                      </span> │\n",
       "│ <span style=\"color: #657b83; text-decoration-color: #657b83; background-color: #fdf6e3\">    </span><span style=\"color: #859900; text-decoration-color: #859900; background-color: #fdf6e3\">return</span><span style=\"color: #657b83; text-decoration-color: #657b83; background-color: #fdf6e3\"> model</span><span style=\"color: #93a1a1; text-decoration-color: #93a1a1; background-color: #fdf6e3\">.</span><span style=\"color: #657b83; text-decoration-color: #657b83; background-color: #fdf6e3\">score(X, y)</span><span style=\"background-color: #fdf6e3\">                                                                                   </span> │\n",
       "│ <span style=\"background-color: #fdf6e3\">                                                                                                               </span> │\n",
       "╰─────────────────────────────────────────────────────────────────────────────────────────────────────────────────╯\n",
       "╭─────────────────────────────────────────────────────────────────────────────────────────────────────────────────╮\n",
       "│ <span style=\"color: #93a1a1; text-decoration-color: #93a1a1; background-color: #fdf6e3; font-style: italic\">### Dependencies for version of function eval_model from module __main__</span><span style=\"background-color: #fdf6e3\">                                       </span> │\n",
       "│ <span style=\"color: #93a1a1; text-decoration-color: #93a1a1; background-color: #fdf6e3; font-style: italic\">### content_version_id=5bdcd6ffc4888990d8922aa85795198d</span><span style=\"background-color: #fdf6e3\">                                                        </span> │\n",
       "│ <span style=\"color: #93a1a1; text-decoration-color: #93a1a1; background-color: #fdf6e3; font-style: italic\">### semantic_version_id=4e1d702e9797ebba156831294de46425</span><span style=\"background-color: #fdf6e3\">                                                       </span> │\n",
       "│ <span style=\"background-color: #fdf6e3\">                                                                                                               </span> │\n",
       "│ <span style=\"color: #93a1a1; text-decoration-color: #93a1a1; background-color: #fdf6e3; font-style: italic\">################################################################################</span><span style=\"background-color: #fdf6e3\">                               </span> │\n",
       "│ <span style=\"color: #93a1a1; text-decoration-color: #93a1a1; background-color: #fdf6e3; font-style: italic\">### IN MODULE \"__main__\"</span><span style=\"background-color: #fdf6e3\">                                                                                       </span> │\n",
       "│ <span style=\"color: #93a1a1; text-decoration-color: #93a1a1; background-color: #fdf6e3; font-style: italic\">################################################################################</span><span style=\"background-color: #fdf6e3\">                               </span> │\n",
       "│ <span style=\"background-color: #fdf6e3\">                                                                                                               </span> │\n",
       "│ <span style=\"color: #268bd2; text-decoration-color: #268bd2; background-color: #fdf6e3\">@op</span><span style=\"background-color: #fdf6e3\">                                                                                                            </span> │\n",
       "│ <span style=\"color: #859900; text-decoration-color: #859900; background-color: #fdf6e3\">def</span><span style=\"color: #657b83; text-decoration-color: #657b83; background-color: #fdf6e3\"> </span><span style=\"color: #268bd2; text-decoration-color: #268bd2; background-color: #fdf6e3\">eval_model</span><span style=\"color: #657b83; text-decoration-color: #657b83; background-color: #fdf6e3\">(model, X, y, scale</span><span style=\"color: #93a1a1; text-decoration-color: #93a1a1; background-color: #fdf6e3\">=</span><span style=\"color: #2aa198; text-decoration-color: #2aa198; background-color: #fdf6e3\">False</span><span style=\"color: #657b83; text-decoration-color: #657b83; background-color: #fdf6e3\">):</span><span style=\"background-color: #fdf6e3\">                                                                      </span> │\n",
       "│ <span style=\"color: #657b83; text-decoration-color: #657b83; background-color: #fdf6e3\">    </span><span style=\"color: #859900; text-decoration-color: #859900; background-color: #fdf6e3\">if</span><span style=\"color: #657b83; text-decoration-color: #657b83; background-color: #fdf6e3\"> scale:</span><span style=\"background-color: #fdf6e3\">                                                                                                  </span> │\n",
       "│ <span style=\"color: #657b83; text-decoration-color: #657b83; background-color: #fdf6e3\">        X </span><span style=\"color: #93a1a1; text-decoration-color: #93a1a1; background-color: #fdf6e3\">=</span><span style=\"color: #657b83; text-decoration-color: #657b83; background-color: #fdf6e3\"> scale_data(X)</span><span style=\"background-color: #fdf6e3\">                                                                                      </span> │\n",
       "│ <span style=\"color: #657b83; text-decoration-color: #657b83; background-color: #fdf6e3\">    </span><span style=\"color: #859900; text-decoration-color: #859900; background-color: #fdf6e3\">return</span><span style=\"color: #657b83; text-decoration-color: #657b83; background-color: #fdf6e3\"> model</span><span style=\"color: #93a1a1; text-decoration-color: #93a1a1; background-color: #fdf6e3\">.</span><span style=\"color: #657b83; text-decoration-color: #657b83; background-color: #fdf6e3\">score(X, y)</span><span style=\"background-color: #fdf6e3\">                                                                                   </span> │\n",
       "│ <span style=\"background-color: #fdf6e3\">                                                                                                               </span> │\n",
       "│ <span style=\"color: #268bd2; text-decoration-color: #268bd2; background-color: #fdf6e3\">@track</span><span style=\"color: #657b83; text-decoration-color: #657b83; background-color: #fdf6e3\"> </span><span style=\"color: #93a1a1; text-decoration-color: #93a1a1; background-color: #fdf6e3; font-style: italic\"># to track a non-memoized function as a dependency</span><span style=\"background-color: #fdf6e3\">                                                      </span> │\n",
       "│ <span style=\"color: #859900; text-decoration-color: #859900; background-color: #fdf6e3\">def</span><span style=\"color: #657b83; text-decoration-color: #657b83; background-color: #fdf6e3\"> </span><span style=\"color: #268bd2; text-decoration-color: #268bd2; background-color: #fdf6e3\">scale_data</span><span style=\"color: #657b83; text-decoration-color: #657b83; background-color: #fdf6e3\">(X):</span><span style=\"background-color: #fdf6e3\">                                                                                             </span> │\n",
       "│ <span style=\"color: #657b83; text-decoration-color: #657b83; background-color: #fdf6e3\">    </span><span style=\"color: #859900; text-decoration-color: #859900; background-color: #fdf6e3\">return</span><span style=\"color: #657b83; text-decoration-color: #657b83; background-color: #fdf6e3\"> StandardScaler(with_mean</span><span style=\"color: #93a1a1; text-decoration-color: #93a1a1; background-color: #fdf6e3\">=</span><span style=\"color: #2aa198; text-decoration-color: #2aa198; background-color: #fdf6e3\">True</span><span style=\"color: #657b83; text-decoration-color: #657b83; background-color: #fdf6e3\">, with_std</span><span style=\"color: #93a1a1; text-decoration-color: #93a1a1; background-color: #fdf6e3\">=</span><span style=\"color: #2aa198; text-decoration-color: #2aa198; background-color: #fdf6e3\">False</span><span style=\"color: #657b83; text-decoration-color: #657b83; background-color: #fdf6e3\">)</span><span style=\"color: #93a1a1; text-decoration-color: #93a1a1; background-color: #fdf6e3\">.</span><span style=\"color: #657b83; text-decoration-color: #657b83; background-color: #fdf6e3\">fit_transform(X)</span><span style=\"background-color: #fdf6e3\">                                     </span> │\n",
       "│ <span style=\"background-color: #fdf6e3\">                                                                                                               </span> │\n",
       "╰─────────────────────────────────────────────────────────────────────────────────────────────────────────────────╯\n",
       "╭─────────────────────────────────────────────────────────────────────────────────────────────────────────────────╮\n",
       "│ <span style=\"color: #93a1a1; text-decoration-color: #93a1a1; background-color: #fdf6e3; font-style: italic\">### Dependencies for version of function eval_model from module __main__</span><span style=\"background-color: #fdf6e3\">                                       </span> │\n",
       "│ <span style=\"color: #93a1a1; text-decoration-color: #93a1a1; background-color: #fdf6e3; font-style: italic\">### content_version_id=b50e3e2529b811e226d2bb39a572a5e4</span><span style=\"background-color: #fdf6e3\">                                                        </span> │\n",
       "│ <span style=\"color: #93a1a1; text-decoration-color: #93a1a1; background-color: #fdf6e3; font-style: italic\">### semantic_version_id=c847d6dc3f23c176e6c8bf9e7006576a</span><span style=\"background-color: #fdf6e3\">                                                       </span> │\n",
       "│ <span style=\"background-color: #fdf6e3\">                                                                                                               </span> │\n",
       "│ <span style=\"color: #93a1a1; text-decoration-color: #93a1a1; background-color: #fdf6e3; font-style: italic\">################################################################################</span><span style=\"background-color: #fdf6e3\">                               </span> │\n",
       "│ <span style=\"color: #93a1a1; text-decoration-color: #93a1a1; background-color: #fdf6e3; font-style: italic\">### IN MODULE \"__main__\"</span><span style=\"background-color: #fdf6e3\">                                                                                       </span> │\n",
       "│ <span style=\"color: #93a1a1; text-decoration-color: #93a1a1; background-color: #fdf6e3; font-style: italic\">################################################################################</span><span style=\"background-color: #fdf6e3\">                               </span> │\n",
       "│ <span style=\"background-color: #fdf6e3\">                                                                                                               </span> │\n",
       "│ <span style=\"color: #268bd2; text-decoration-color: #268bd2; background-color: #fdf6e3\">@op</span><span style=\"background-color: #fdf6e3\">                                                                                                            </span> │\n",
       "│ <span style=\"color: #859900; text-decoration-color: #859900; background-color: #fdf6e3\">def</span><span style=\"color: #657b83; text-decoration-color: #657b83; background-color: #fdf6e3\"> </span><span style=\"color: #268bd2; text-decoration-color: #268bd2; background-color: #fdf6e3\">eval_model</span><span style=\"color: #657b83; text-decoration-color: #657b83; background-color: #fdf6e3\">(model, X, y, scale</span><span style=\"color: #93a1a1; text-decoration-color: #93a1a1; background-color: #fdf6e3\">=</span><span style=\"color: #2aa198; text-decoration-color: #2aa198; background-color: #fdf6e3\">False</span><span style=\"color: #657b83; text-decoration-color: #657b83; background-color: #fdf6e3\">):</span><span style=\"background-color: #fdf6e3\">                                                                      </span> │\n",
       "│ <span style=\"color: #657b83; text-decoration-color: #657b83; background-color: #fdf6e3\">    </span><span style=\"color: #859900; text-decoration-color: #859900; background-color: #fdf6e3\">if</span><span style=\"color: #657b83; text-decoration-color: #657b83; background-color: #fdf6e3\"> scale:</span><span style=\"background-color: #fdf6e3\">                                                                                                  </span> │\n",
       "│ <span style=\"color: #657b83; text-decoration-color: #657b83; background-color: #fdf6e3\">        X </span><span style=\"color: #93a1a1; text-decoration-color: #93a1a1; background-color: #fdf6e3\">=</span><span style=\"color: #657b83; text-decoration-color: #657b83; background-color: #fdf6e3\"> scale_data(X)</span><span style=\"background-color: #fdf6e3\">                                                                                      </span> │\n",
       "│ <span style=\"color: #657b83; text-decoration-color: #657b83; background-color: #fdf6e3\">    </span><span style=\"color: #859900; text-decoration-color: #859900; background-color: #fdf6e3\">return</span><span style=\"color: #657b83; text-decoration-color: #657b83; background-color: #fdf6e3\"> model</span><span style=\"color: #93a1a1; text-decoration-color: #93a1a1; background-color: #fdf6e3\">.</span><span style=\"color: #657b83; text-decoration-color: #657b83; background-color: #fdf6e3\">score(X, y)</span><span style=\"background-color: #fdf6e3\">                                                                                   </span> │\n",
       "│ <span style=\"background-color: #fdf6e3\">                                                                                                               </span> │\n",
       "╰─────────────────────────────────────────────────────────────────────────────────────────────────────────────────╯\n",
       "╭─────────────────────────────────────────────────────────────────────────────────────────────────────────────────╮\n",
       "│ <span style=\"color: #93a1a1; text-decoration-color: #93a1a1; background-color: #fdf6e3; font-style: italic\">### Dependencies for version of function eval_model from module __main__</span><span style=\"background-color: #fdf6e3\">                                       </span> │\n",
       "│ <span style=\"color: #93a1a1; text-decoration-color: #93a1a1; background-color: #fdf6e3; font-style: italic\">### content_version_id=136129b20d9a3a3795e88ba8cf89b115</span><span style=\"background-color: #fdf6e3\">                                                        </span> │\n",
       "│ <span style=\"color: #93a1a1; text-decoration-color: #93a1a1; background-color: #fdf6e3; font-style: italic\">### semantic_version_id=f2573de2a6c25b390fc86d665ea85687</span><span style=\"background-color: #fdf6e3\">                                                       </span> │\n",
       "│ <span style=\"background-color: #fdf6e3\">                                                                                                               </span> │\n",
       "│ <span style=\"color: #93a1a1; text-decoration-color: #93a1a1; background-color: #fdf6e3; font-style: italic\">################################################################################</span><span style=\"background-color: #fdf6e3\">                               </span> │\n",
       "│ <span style=\"color: #93a1a1; text-decoration-color: #93a1a1; background-color: #fdf6e3; font-style: italic\">### IN MODULE \"__main__\"</span><span style=\"background-color: #fdf6e3\">                                                                                       </span> │\n",
       "│ <span style=\"color: #93a1a1; text-decoration-color: #93a1a1; background-color: #fdf6e3; font-style: italic\">################################################################################</span><span style=\"background-color: #fdf6e3\">                               </span> │\n",
       "│ <span style=\"background-color: #fdf6e3\">                                                                                                               </span> │\n",
       "│ <span style=\"color: #268bd2; text-decoration-color: #268bd2; background-color: #fdf6e3\">@op</span><span style=\"background-color: #fdf6e3\">                                                                                                            </span> │\n",
       "│ <span style=\"color: #859900; text-decoration-color: #859900; background-color: #fdf6e3\">def</span><span style=\"color: #657b83; text-decoration-color: #657b83; background-color: #fdf6e3\"> </span><span style=\"color: #268bd2; text-decoration-color: #268bd2; background-color: #fdf6e3\">eval_model</span><span style=\"color: #657b83; text-decoration-color: #657b83; background-color: #fdf6e3\">(model, X, y, scale</span><span style=\"color: #93a1a1; text-decoration-color: #93a1a1; background-color: #fdf6e3\">=</span><span style=\"color: #2aa198; text-decoration-color: #2aa198; background-color: #fdf6e3\">False</span><span style=\"color: #657b83; text-decoration-color: #657b83; background-color: #fdf6e3\">):</span><span style=\"background-color: #fdf6e3\">                                                                      </span> │\n",
       "│ <span style=\"color: #657b83; text-decoration-color: #657b83; background-color: #fdf6e3\">    </span><span style=\"color: #859900; text-decoration-color: #859900; background-color: #fdf6e3\">if</span><span style=\"color: #657b83; text-decoration-color: #657b83; background-color: #fdf6e3\"> scale:</span><span style=\"background-color: #fdf6e3\">                                                                                                  </span> │\n",
       "│ <span style=\"color: #657b83; text-decoration-color: #657b83; background-color: #fdf6e3\">        X </span><span style=\"color: #93a1a1; text-decoration-color: #93a1a1; background-color: #fdf6e3\">=</span><span style=\"color: #657b83; text-decoration-color: #657b83; background-color: #fdf6e3\"> scale_data(X)</span><span style=\"background-color: #fdf6e3\">                                                                                      </span> │\n",
       "│ <span style=\"color: #657b83; text-decoration-color: #657b83; background-color: #fdf6e3\">    </span><span style=\"color: #859900; text-decoration-color: #859900; background-color: #fdf6e3\">return</span><span style=\"color: #657b83; text-decoration-color: #657b83; background-color: #fdf6e3\"> model</span><span style=\"color: #93a1a1; text-decoration-color: #93a1a1; background-color: #fdf6e3\">.</span><span style=\"color: #657b83; text-decoration-color: #657b83; background-color: #fdf6e3\">score(X, y)</span><span style=\"background-color: #fdf6e3\">                                                                                   </span> │\n",
       "│ <span style=\"background-color: #fdf6e3\">                                                                                                               </span> │\n",
       "│ <span style=\"color: #268bd2; text-decoration-color: #268bd2; background-color: #fdf6e3\">@track</span><span style=\"background-color: #fdf6e3\">                                                                                                         </span> │\n",
       "│ <span style=\"color: #859900; text-decoration-color: #859900; background-color: #fdf6e3\">def</span><span style=\"color: #657b83; text-decoration-color: #657b83; background-color: #fdf6e3\"> </span><span style=\"color: #268bd2; text-decoration-color: #268bd2; background-color: #fdf6e3\">scale_data</span><span style=\"color: #657b83; text-decoration-color: #657b83; background-color: #fdf6e3\">(X):</span><span style=\"background-color: #fdf6e3\">                                                                                             </span> │\n",
       "│ <span style=\"color: #657b83; text-decoration-color: #657b83; background-color: #fdf6e3\">    </span><span style=\"color: #859900; text-decoration-color: #859900; background-color: #fdf6e3\">return</span><span style=\"color: #657b83; text-decoration-color: #657b83; background-color: #fdf6e3\"> StandardScaler(with_mean</span><span style=\"color: #93a1a1; text-decoration-color: #93a1a1; background-color: #fdf6e3\">=</span><span style=\"color: #2aa198; text-decoration-color: #2aa198; background-color: #fdf6e3\">True</span><span style=\"color: #657b83; text-decoration-color: #657b83; background-color: #fdf6e3\">, with_std</span><span style=\"color: #93a1a1; text-decoration-color: #93a1a1; background-color: #fdf6e3\">=</span><span style=\"color: #2aa198; text-decoration-color: #2aa198; background-color: #fdf6e3\">True</span><span style=\"color: #657b83; text-decoration-color: #657b83; background-color: #fdf6e3\">)</span><span style=\"color: #93a1a1; text-decoration-color: #93a1a1; background-color: #fdf6e3\">.</span><span style=\"color: #657b83; text-decoration-color: #657b83; background-color: #fdf6e3\">fit_transform(X)</span><span style=\"background-color: #fdf6e3\">                                      </span> │\n",
       "│ <span style=\"background-color: #fdf6e3\">                                                                                                               </span> │\n",
       "╰─────────────────────────────────────────────────────────────────────────────────────────────────────────────────╯\n",
       "</pre>\n"
      ],
      "text/plain": [
       "╭─────────────────────────────────────────────────────────────────────────────────────────────────────────────────╮\n",
       "│ \u001b[3;38;2;147;161;161;48;2;253;246;227m### Dependencies for version of function eval_model from module __main__\u001b[0m\u001b[48;2;253;246;227m                                       \u001b[0m │\n",
       "│ \u001b[3;38;2;147;161;161;48;2;253;246;227m### content_version_id=955b2a683de8dacf624047c0e020140a\u001b[0m\u001b[48;2;253;246;227m                                                        \u001b[0m │\n",
       "│ \u001b[3;38;2;147;161;161;48;2;253;246;227m### semantic_version_id=c847d6dc3f23c176e6c8bf9e7006576a\u001b[0m\u001b[48;2;253;246;227m                                                       \u001b[0m │\n",
       "│ \u001b[48;2;253;246;227m                                                                                                               \u001b[0m │\n",
       "│ \u001b[3;38;2;147;161;161;48;2;253;246;227m################################################################################\u001b[0m\u001b[48;2;253;246;227m                               \u001b[0m │\n",
       "│ \u001b[3;38;2;147;161;161;48;2;253;246;227m### IN MODULE \"__main__\"\u001b[0m\u001b[48;2;253;246;227m                                                                                       \u001b[0m │\n",
       "│ \u001b[3;38;2;147;161;161;48;2;253;246;227m################################################################################\u001b[0m\u001b[48;2;253;246;227m                               \u001b[0m │\n",
       "│ \u001b[48;2;253;246;227m                                                                                                               \u001b[0m │\n",
       "│ \u001b[38;2;38;139;210;48;2;253;246;227m@op\u001b[0m\u001b[48;2;253;246;227m                                                                                                            \u001b[0m │\n",
       "│ \u001b[38;2;133;153;0;48;2;253;246;227mdef\u001b[0m\u001b[38;2;101;123;131;48;2;253;246;227m \u001b[0m\u001b[38;2;38;139;210;48;2;253;246;227meval_model\u001b[0m\u001b[38;2;101;123;131;48;2;253;246;227m(\u001b[0m\u001b[38;2;101;123;131;48;2;253;246;227mmodel\u001b[0m\u001b[38;2;101;123;131;48;2;253;246;227m,\u001b[0m\u001b[38;2;101;123;131;48;2;253;246;227m \u001b[0m\u001b[38;2;101;123;131;48;2;253;246;227mX\u001b[0m\u001b[38;2;101;123;131;48;2;253;246;227m,\u001b[0m\u001b[38;2;101;123;131;48;2;253;246;227m \u001b[0m\u001b[38;2;101;123;131;48;2;253;246;227my\u001b[0m\u001b[38;2;101;123;131;48;2;253;246;227m,\u001b[0m\u001b[38;2;101;123;131;48;2;253;246;227m \u001b[0m\u001b[38;2;101;123;131;48;2;253;246;227mscale\u001b[0m\u001b[38;2;147;161;161;48;2;253;246;227m=\u001b[0m\u001b[38;2;42;161;152;48;2;253;246;227mFalse\u001b[0m\u001b[38;2;101;123;131;48;2;253;246;227m)\u001b[0m\u001b[38;2;101;123;131;48;2;253;246;227m:\u001b[0m\u001b[48;2;253;246;227m                                                                      \u001b[0m │\n",
       "│ \u001b[38;2;101;123;131;48;2;253;246;227m    \u001b[0m\u001b[38;2;133;153;0;48;2;253;246;227mif\u001b[0m\u001b[38;2;101;123;131;48;2;253;246;227m \u001b[0m\u001b[38;2;101;123;131;48;2;253;246;227mscale\u001b[0m\u001b[38;2;101;123;131;48;2;253;246;227m:\u001b[0m\u001b[48;2;253;246;227m                                                                                                  \u001b[0m │\n",
       "│ \u001b[38;2;101;123;131;48;2;253;246;227m        \u001b[0m\u001b[38;2;101;123;131;48;2;253;246;227mX\u001b[0m\u001b[38;2;101;123;131;48;2;253;246;227m \u001b[0m\u001b[38;2;147;161;161;48;2;253;246;227m=\u001b[0m\u001b[38;2;101;123;131;48;2;253;246;227m \u001b[0m\u001b[38;2;101;123;131;48;2;253;246;227mscale_data\u001b[0m\u001b[38;2;101;123;131;48;2;253;246;227m(\u001b[0m\u001b[38;2;101;123;131;48;2;253;246;227mX\u001b[0m\u001b[38;2;101;123;131;48;2;253;246;227m)\u001b[0m\u001b[48;2;253;246;227m                                                                                      \u001b[0m │\n",
       "│ \u001b[38;2;101;123;131;48;2;253;246;227m    \u001b[0m\u001b[38;2;133;153;0;48;2;253;246;227mreturn\u001b[0m\u001b[38;2;101;123;131;48;2;253;246;227m \u001b[0m\u001b[38;2;101;123;131;48;2;253;246;227mmodel\u001b[0m\u001b[38;2;147;161;161;48;2;253;246;227m.\u001b[0m\u001b[38;2;101;123;131;48;2;253;246;227mscore\u001b[0m\u001b[38;2;101;123;131;48;2;253;246;227m(\u001b[0m\u001b[38;2;101;123;131;48;2;253;246;227mX\u001b[0m\u001b[38;2;101;123;131;48;2;253;246;227m,\u001b[0m\u001b[38;2;101;123;131;48;2;253;246;227m \u001b[0m\u001b[38;2;101;123;131;48;2;253;246;227my\u001b[0m\u001b[38;2;101;123;131;48;2;253;246;227m)\u001b[0m\u001b[48;2;253;246;227m                                                                                   \u001b[0m │\n",
       "│ \u001b[48;2;253;246;227m                                                                                                               \u001b[0m │\n",
       "╰─────────────────────────────────────────────────────────────────────────────────────────────────────────────────╯\n",
       "╭─────────────────────────────────────────────────────────────────────────────────────────────────────────────────╮\n",
       "│ \u001b[3;38;2;147;161;161;48;2;253;246;227m### Dependencies for version of function eval_model from module __main__\u001b[0m\u001b[48;2;253;246;227m                                       \u001b[0m │\n",
       "│ \u001b[3;38;2;147;161;161;48;2;253;246;227m### content_version_id=5bdcd6ffc4888990d8922aa85795198d\u001b[0m\u001b[48;2;253;246;227m                                                        \u001b[0m │\n",
       "│ \u001b[3;38;2;147;161;161;48;2;253;246;227m### semantic_version_id=4e1d702e9797ebba156831294de46425\u001b[0m\u001b[48;2;253;246;227m                                                       \u001b[0m │\n",
       "│ \u001b[48;2;253;246;227m                                                                                                               \u001b[0m │\n",
       "│ \u001b[3;38;2;147;161;161;48;2;253;246;227m################################################################################\u001b[0m\u001b[48;2;253;246;227m                               \u001b[0m │\n",
       "│ \u001b[3;38;2;147;161;161;48;2;253;246;227m### IN MODULE \"__main__\"\u001b[0m\u001b[48;2;253;246;227m                                                                                       \u001b[0m │\n",
       "│ \u001b[3;38;2;147;161;161;48;2;253;246;227m################################################################################\u001b[0m\u001b[48;2;253;246;227m                               \u001b[0m │\n",
       "│ \u001b[48;2;253;246;227m                                                                                                               \u001b[0m │\n",
       "│ \u001b[38;2;38;139;210;48;2;253;246;227m@op\u001b[0m\u001b[48;2;253;246;227m                                                                                                            \u001b[0m │\n",
       "│ \u001b[38;2;133;153;0;48;2;253;246;227mdef\u001b[0m\u001b[38;2;101;123;131;48;2;253;246;227m \u001b[0m\u001b[38;2;38;139;210;48;2;253;246;227meval_model\u001b[0m\u001b[38;2;101;123;131;48;2;253;246;227m(\u001b[0m\u001b[38;2;101;123;131;48;2;253;246;227mmodel\u001b[0m\u001b[38;2;101;123;131;48;2;253;246;227m,\u001b[0m\u001b[38;2;101;123;131;48;2;253;246;227m \u001b[0m\u001b[38;2;101;123;131;48;2;253;246;227mX\u001b[0m\u001b[38;2;101;123;131;48;2;253;246;227m,\u001b[0m\u001b[38;2;101;123;131;48;2;253;246;227m \u001b[0m\u001b[38;2;101;123;131;48;2;253;246;227my\u001b[0m\u001b[38;2;101;123;131;48;2;253;246;227m,\u001b[0m\u001b[38;2;101;123;131;48;2;253;246;227m \u001b[0m\u001b[38;2;101;123;131;48;2;253;246;227mscale\u001b[0m\u001b[38;2;147;161;161;48;2;253;246;227m=\u001b[0m\u001b[38;2;42;161;152;48;2;253;246;227mFalse\u001b[0m\u001b[38;2;101;123;131;48;2;253;246;227m)\u001b[0m\u001b[38;2;101;123;131;48;2;253;246;227m:\u001b[0m\u001b[48;2;253;246;227m                                                                      \u001b[0m │\n",
       "│ \u001b[38;2;101;123;131;48;2;253;246;227m    \u001b[0m\u001b[38;2;133;153;0;48;2;253;246;227mif\u001b[0m\u001b[38;2;101;123;131;48;2;253;246;227m \u001b[0m\u001b[38;2;101;123;131;48;2;253;246;227mscale\u001b[0m\u001b[38;2;101;123;131;48;2;253;246;227m:\u001b[0m\u001b[48;2;253;246;227m                                                                                                  \u001b[0m │\n",
       "│ \u001b[38;2;101;123;131;48;2;253;246;227m        \u001b[0m\u001b[38;2;101;123;131;48;2;253;246;227mX\u001b[0m\u001b[38;2;101;123;131;48;2;253;246;227m \u001b[0m\u001b[38;2;147;161;161;48;2;253;246;227m=\u001b[0m\u001b[38;2;101;123;131;48;2;253;246;227m \u001b[0m\u001b[38;2;101;123;131;48;2;253;246;227mscale_data\u001b[0m\u001b[38;2;101;123;131;48;2;253;246;227m(\u001b[0m\u001b[38;2;101;123;131;48;2;253;246;227mX\u001b[0m\u001b[38;2;101;123;131;48;2;253;246;227m)\u001b[0m\u001b[48;2;253;246;227m                                                                                      \u001b[0m │\n",
       "│ \u001b[38;2;101;123;131;48;2;253;246;227m    \u001b[0m\u001b[38;2;133;153;0;48;2;253;246;227mreturn\u001b[0m\u001b[38;2;101;123;131;48;2;253;246;227m \u001b[0m\u001b[38;2;101;123;131;48;2;253;246;227mmodel\u001b[0m\u001b[38;2;147;161;161;48;2;253;246;227m.\u001b[0m\u001b[38;2;101;123;131;48;2;253;246;227mscore\u001b[0m\u001b[38;2;101;123;131;48;2;253;246;227m(\u001b[0m\u001b[38;2;101;123;131;48;2;253;246;227mX\u001b[0m\u001b[38;2;101;123;131;48;2;253;246;227m,\u001b[0m\u001b[38;2;101;123;131;48;2;253;246;227m \u001b[0m\u001b[38;2;101;123;131;48;2;253;246;227my\u001b[0m\u001b[38;2;101;123;131;48;2;253;246;227m)\u001b[0m\u001b[48;2;253;246;227m                                                                                   \u001b[0m │\n",
       "│ \u001b[48;2;253;246;227m                                                                                                               \u001b[0m │\n",
       "│ \u001b[38;2;38;139;210;48;2;253;246;227m@track\u001b[0m\u001b[38;2;101;123;131;48;2;253;246;227m \u001b[0m\u001b[3;38;2;147;161;161;48;2;253;246;227m# to track a non-memoized function as a dependency\u001b[0m\u001b[48;2;253;246;227m                                                      \u001b[0m │\n",
       "│ \u001b[38;2;133;153;0;48;2;253;246;227mdef\u001b[0m\u001b[38;2;101;123;131;48;2;253;246;227m \u001b[0m\u001b[38;2;38;139;210;48;2;253;246;227mscale_data\u001b[0m\u001b[38;2;101;123;131;48;2;253;246;227m(\u001b[0m\u001b[38;2;101;123;131;48;2;253;246;227mX\u001b[0m\u001b[38;2;101;123;131;48;2;253;246;227m)\u001b[0m\u001b[38;2;101;123;131;48;2;253;246;227m:\u001b[0m\u001b[48;2;253;246;227m                                                                                             \u001b[0m │\n",
       "│ \u001b[38;2;101;123;131;48;2;253;246;227m    \u001b[0m\u001b[38;2;133;153;0;48;2;253;246;227mreturn\u001b[0m\u001b[38;2;101;123;131;48;2;253;246;227m \u001b[0m\u001b[38;2;101;123;131;48;2;253;246;227mStandardScaler\u001b[0m\u001b[38;2;101;123;131;48;2;253;246;227m(\u001b[0m\u001b[38;2;101;123;131;48;2;253;246;227mwith_mean\u001b[0m\u001b[38;2;147;161;161;48;2;253;246;227m=\u001b[0m\u001b[38;2;42;161;152;48;2;253;246;227mTrue\u001b[0m\u001b[38;2;101;123;131;48;2;253;246;227m,\u001b[0m\u001b[38;2;101;123;131;48;2;253;246;227m \u001b[0m\u001b[38;2;101;123;131;48;2;253;246;227mwith_std\u001b[0m\u001b[38;2;147;161;161;48;2;253;246;227m=\u001b[0m\u001b[38;2;42;161;152;48;2;253;246;227mFalse\u001b[0m\u001b[38;2;101;123;131;48;2;253;246;227m)\u001b[0m\u001b[38;2;147;161;161;48;2;253;246;227m.\u001b[0m\u001b[38;2;101;123;131;48;2;253;246;227mfit_transform\u001b[0m\u001b[38;2;101;123;131;48;2;253;246;227m(\u001b[0m\u001b[38;2;101;123;131;48;2;253;246;227mX\u001b[0m\u001b[38;2;101;123;131;48;2;253;246;227m)\u001b[0m\u001b[48;2;253;246;227m                                     \u001b[0m │\n",
       "│ \u001b[48;2;253;246;227m                                                                                                               \u001b[0m │\n",
       "╰─────────────────────────────────────────────────────────────────────────────────────────────────────────────────╯\n",
       "╭─────────────────────────────────────────────────────────────────────────────────────────────────────────────────╮\n",
       "│ \u001b[3;38;2;147;161;161;48;2;253;246;227m### Dependencies for version of function eval_model from module __main__\u001b[0m\u001b[48;2;253;246;227m                                       \u001b[0m │\n",
       "│ \u001b[3;38;2;147;161;161;48;2;253;246;227m### content_version_id=b50e3e2529b811e226d2bb39a572a5e4\u001b[0m\u001b[48;2;253;246;227m                                                        \u001b[0m │\n",
       "│ \u001b[3;38;2;147;161;161;48;2;253;246;227m### semantic_version_id=c847d6dc3f23c176e6c8bf9e7006576a\u001b[0m\u001b[48;2;253;246;227m                                                       \u001b[0m │\n",
       "│ \u001b[48;2;253;246;227m                                                                                                               \u001b[0m │\n",
       "│ \u001b[3;38;2;147;161;161;48;2;253;246;227m################################################################################\u001b[0m\u001b[48;2;253;246;227m                               \u001b[0m │\n",
       "│ \u001b[3;38;2;147;161;161;48;2;253;246;227m### IN MODULE \"__main__\"\u001b[0m\u001b[48;2;253;246;227m                                                                                       \u001b[0m │\n",
       "│ \u001b[3;38;2;147;161;161;48;2;253;246;227m################################################################################\u001b[0m\u001b[48;2;253;246;227m                               \u001b[0m │\n",
       "│ \u001b[48;2;253;246;227m                                                                                                               \u001b[0m │\n",
       "│ \u001b[38;2;38;139;210;48;2;253;246;227m@op\u001b[0m\u001b[48;2;253;246;227m                                                                                                            \u001b[0m │\n",
       "│ \u001b[38;2;133;153;0;48;2;253;246;227mdef\u001b[0m\u001b[38;2;101;123;131;48;2;253;246;227m \u001b[0m\u001b[38;2;38;139;210;48;2;253;246;227meval_model\u001b[0m\u001b[38;2;101;123;131;48;2;253;246;227m(\u001b[0m\u001b[38;2;101;123;131;48;2;253;246;227mmodel\u001b[0m\u001b[38;2;101;123;131;48;2;253;246;227m,\u001b[0m\u001b[38;2;101;123;131;48;2;253;246;227m \u001b[0m\u001b[38;2;101;123;131;48;2;253;246;227mX\u001b[0m\u001b[38;2;101;123;131;48;2;253;246;227m,\u001b[0m\u001b[38;2;101;123;131;48;2;253;246;227m \u001b[0m\u001b[38;2;101;123;131;48;2;253;246;227my\u001b[0m\u001b[38;2;101;123;131;48;2;253;246;227m,\u001b[0m\u001b[38;2;101;123;131;48;2;253;246;227m \u001b[0m\u001b[38;2;101;123;131;48;2;253;246;227mscale\u001b[0m\u001b[38;2;147;161;161;48;2;253;246;227m=\u001b[0m\u001b[38;2;42;161;152;48;2;253;246;227mFalse\u001b[0m\u001b[38;2;101;123;131;48;2;253;246;227m)\u001b[0m\u001b[38;2;101;123;131;48;2;253;246;227m:\u001b[0m\u001b[48;2;253;246;227m                                                                      \u001b[0m │\n",
       "│ \u001b[38;2;101;123;131;48;2;253;246;227m    \u001b[0m\u001b[38;2;133;153;0;48;2;253;246;227mif\u001b[0m\u001b[38;2;101;123;131;48;2;253;246;227m \u001b[0m\u001b[38;2;101;123;131;48;2;253;246;227mscale\u001b[0m\u001b[38;2;101;123;131;48;2;253;246;227m:\u001b[0m\u001b[48;2;253;246;227m                                                                                                  \u001b[0m │\n",
       "│ \u001b[38;2;101;123;131;48;2;253;246;227m        \u001b[0m\u001b[38;2;101;123;131;48;2;253;246;227mX\u001b[0m\u001b[38;2;101;123;131;48;2;253;246;227m \u001b[0m\u001b[38;2;147;161;161;48;2;253;246;227m=\u001b[0m\u001b[38;2;101;123;131;48;2;253;246;227m \u001b[0m\u001b[38;2;101;123;131;48;2;253;246;227mscale_data\u001b[0m\u001b[38;2;101;123;131;48;2;253;246;227m(\u001b[0m\u001b[38;2;101;123;131;48;2;253;246;227mX\u001b[0m\u001b[38;2;101;123;131;48;2;253;246;227m)\u001b[0m\u001b[48;2;253;246;227m                                                                                      \u001b[0m │\n",
       "│ \u001b[38;2;101;123;131;48;2;253;246;227m    \u001b[0m\u001b[38;2;133;153;0;48;2;253;246;227mreturn\u001b[0m\u001b[38;2;101;123;131;48;2;253;246;227m \u001b[0m\u001b[38;2;101;123;131;48;2;253;246;227mmodel\u001b[0m\u001b[38;2;147;161;161;48;2;253;246;227m.\u001b[0m\u001b[38;2;101;123;131;48;2;253;246;227mscore\u001b[0m\u001b[38;2;101;123;131;48;2;253;246;227m(\u001b[0m\u001b[38;2;101;123;131;48;2;253;246;227mX\u001b[0m\u001b[38;2;101;123;131;48;2;253;246;227m,\u001b[0m\u001b[38;2;101;123;131;48;2;253;246;227m \u001b[0m\u001b[38;2;101;123;131;48;2;253;246;227my\u001b[0m\u001b[38;2;101;123;131;48;2;253;246;227m)\u001b[0m\u001b[48;2;253;246;227m                                                                                   \u001b[0m │\n",
       "│ \u001b[48;2;253;246;227m                                                                                                               \u001b[0m │\n",
       "╰─────────────────────────────────────────────────────────────────────────────────────────────────────────────────╯\n",
       "╭─────────────────────────────────────────────────────────────────────────────────────────────────────────────────╮\n",
       "│ \u001b[3;38;2;147;161;161;48;2;253;246;227m### Dependencies for version of function eval_model from module __main__\u001b[0m\u001b[48;2;253;246;227m                                       \u001b[0m │\n",
       "│ \u001b[3;38;2;147;161;161;48;2;253;246;227m### content_version_id=136129b20d9a3a3795e88ba8cf89b115\u001b[0m\u001b[48;2;253;246;227m                                                        \u001b[0m │\n",
       "│ \u001b[3;38;2;147;161;161;48;2;253;246;227m### semantic_version_id=f2573de2a6c25b390fc86d665ea85687\u001b[0m\u001b[48;2;253;246;227m                                                       \u001b[0m │\n",
       "│ \u001b[48;2;253;246;227m                                                                                                               \u001b[0m │\n",
       "│ \u001b[3;38;2;147;161;161;48;2;253;246;227m################################################################################\u001b[0m\u001b[48;2;253;246;227m                               \u001b[0m │\n",
       "│ \u001b[3;38;2;147;161;161;48;2;253;246;227m### IN MODULE \"__main__\"\u001b[0m\u001b[48;2;253;246;227m                                                                                       \u001b[0m │\n",
       "│ \u001b[3;38;2;147;161;161;48;2;253;246;227m################################################################################\u001b[0m\u001b[48;2;253;246;227m                               \u001b[0m │\n",
       "│ \u001b[48;2;253;246;227m                                                                                                               \u001b[0m │\n",
       "│ \u001b[38;2;38;139;210;48;2;253;246;227m@op\u001b[0m\u001b[48;2;253;246;227m                                                                                                            \u001b[0m │\n",
       "│ \u001b[38;2;133;153;0;48;2;253;246;227mdef\u001b[0m\u001b[38;2;101;123;131;48;2;253;246;227m \u001b[0m\u001b[38;2;38;139;210;48;2;253;246;227meval_model\u001b[0m\u001b[38;2;101;123;131;48;2;253;246;227m(\u001b[0m\u001b[38;2;101;123;131;48;2;253;246;227mmodel\u001b[0m\u001b[38;2;101;123;131;48;2;253;246;227m,\u001b[0m\u001b[38;2;101;123;131;48;2;253;246;227m \u001b[0m\u001b[38;2;101;123;131;48;2;253;246;227mX\u001b[0m\u001b[38;2;101;123;131;48;2;253;246;227m,\u001b[0m\u001b[38;2;101;123;131;48;2;253;246;227m \u001b[0m\u001b[38;2;101;123;131;48;2;253;246;227my\u001b[0m\u001b[38;2;101;123;131;48;2;253;246;227m,\u001b[0m\u001b[38;2;101;123;131;48;2;253;246;227m \u001b[0m\u001b[38;2;101;123;131;48;2;253;246;227mscale\u001b[0m\u001b[38;2;147;161;161;48;2;253;246;227m=\u001b[0m\u001b[38;2;42;161;152;48;2;253;246;227mFalse\u001b[0m\u001b[38;2;101;123;131;48;2;253;246;227m)\u001b[0m\u001b[38;2;101;123;131;48;2;253;246;227m:\u001b[0m\u001b[48;2;253;246;227m                                                                      \u001b[0m │\n",
       "│ \u001b[38;2;101;123;131;48;2;253;246;227m    \u001b[0m\u001b[38;2;133;153;0;48;2;253;246;227mif\u001b[0m\u001b[38;2;101;123;131;48;2;253;246;227m \u001b[0m\u001b[38;2;101;123;131;48;2;253;246;227mscale\u001b[0m\u001b[38;2;101;123;131;48;2;253;246;227m:\u001b[0m\u001b[48;2;253;246;227m                                                                                                  \u001b[0m │\n",
       "│ \u001b[38;2;101;123;131;48;2;253;246;227m        \u001b[0m\u001b[38;2;101;123;131;48;2;253;246;227mX\u001b[0m\u001b[38;2;101;123;131;48;2;253;246;227m \u001b[0m\u001b[38;2;147;161;161;48;2;253;246;227m=\u001b[0m\u001b[38;2;101;123;131;48;2;253;246;227m \u001b[0m\u001b[38;2;101;123;131;48;2;253;246;227mscale_data\u001b[0m\u001b[38;2;101;123;131;48;2;253;246;227m(\u001b[0m\u001b[38;2;101;123;131;48;2;253;246;227mX\u001b[0m\u001b[38;2;101;123;131;48;2;253;246;227m)\u001b[0m\u001b[48;2;253;246;227m                                                                                      \u001b[0m │\n",
       "│ \u001b[38;2;101;123;131;48;2;253;246;227m    \u001b[0m\u001b[38;2;133;153;0;48;2;253;246;227mreturn\u001b[0m\u001b[38;2;101;123;131;48;2;253;246;227m \u001b[0m\u001b[38;2;101;123;131;48;2;253;246;227mmodel\u001b[0m\u001b[38;2;147;161;161;48;2;253;246;227m.\u001b[0m\u001b[38;2;101;123;131;48;2;253;246;227mscore\u001b[0m\u001b[38;2;101;123;131;48;2;253;246;227m(\u001b[0m\u001b[38;2;101;123;131;48;2;253;246;227mX\u001b[0m\u001b[38;2;101;123;131;48;2;253;246;227m,\u001b[0m\u001b[38;2;101;123;131;48;2;253;246;227m \u001b[0m\u001b[38;2;101;123;131;48;2;253;246;227my\u001b[0m\u001b[38;2;101;123;131;48;2;253;246;227m)\u001b[0m\u001b[48;2;253;246;227m                                                                                   \u001b[0m │\n",
       "│ \u001b[48;2;253;246;227m                                                                                                               \u001b[0m │\n",
       "│ \u001b[38;2;38;139;210;48;2;253;246;227m@track\u001b[0m\u001b[48;2;253;246;227m                                                                                                         \u001b[0m │\n",
       "│ \u001b[38;2;133;153;0;48;2;253;246;227mdef\u001b[0m\u001b[38;2;101;123;131;48;2;253;246;227m \u001b[0m\u001b[38;2;38;139;210;48;2;253;246;227mscale_data\u001b[0m\u001b[38;2;101;123;131;48;2;253;246;227m(\u001b[0m\u001b[38;2;101;123;131;48;2;253;246;227mX\u001b[0m\u001b[38;2;101;123;131;48;2;253;246;227m)\u001b[0m\u001b[38;2;101;123;131;48;2;253;246;227m:\u001b[0m\u001b[48;2;253;246;227m                                                                                             \u001b[0m │\n",
       "│ \u001b[38;2;101;123;131;48;2;253;246;227m    \u001b[0m\u001b[38;2;133;153;0;48;2;253;246;227mreturn\u001b[0m\u001b[38;2;101;123;131;48;2;253;246;227m \u001b[0m\u001b[38;2;101;123;131;48;2;253;246;227mStandardScaler\u001b[0m\u001b[38;2;101;123;131;48;2;253;246;227m(\u001b[0m\u001b[38;2;101;123;131;48;2;253;246;227mwith_mean\u001b[0m\u001b[38;2;147;161;161;48;2;253;246;227m=\u001b[0m\u001b[38;2;42;161;152;48;2;253;246;227mTrue\u001b[0m\u001b[38;2;101;123;131;48;2;253;246;227m,\u001b[0m\u001b[38;2;101;123;131;48;2;253;246;227m \u001b[0m\u001b[38;2;101;123;131;48;2;253;246;227mwith_std\u001b[0m\u001b[38;2;147;161;161;48;2;253;246;227m=\u001b[0m\u001b[38;2;42;161;152;48;2;253;246;227mTrue\u001b[0m\u001b[38;2;101;123;131;48;2;253;246;227m)\u001b[0m\u001b[38;2;147;161;161;48;2;253;246;227m.\u001b[0m\u001b[38;2;101;123;131;48;2;253;246;227mfit_transform\u001b[0m\u001b[38;2;101;123;131;48;2;253;246;227m(\u001b[0m\u001b[38;2;101;123;131;48;2;253;246;227mX\u001b[0m\u001b[38;2;101;123;131;48;2;253;246;227m)\u001b[0m\u001b[48;2;253;246;227m                                      \u001b[0m │\n",
       "│ \u001b[48;2;253;246;227m                                                                                                               \u001b[0m │\n",
       "╰─────────────────────────────────────────────────────────────────────────────────────────────────────────────────╯\n"
      ]
     },
     "metadata": {},
     "output_type": "display_data"
    }
   ],
   "source": [
    "storage.versions(eval_model)"
   ]
  },
  {
   "cell_type": "markdown",
   "metadata": {},
   "source": [
    "## Additional notes\n",
    "\n",
    "### So what really is a version of an `@op`?\n",
    "A **version** for an `@op` is a collection of\n",
    "\n",
    "- (hashes of) the source code of functions and methods\n",
    "- (hashes of) values of global variables\n",
    "\n",
    "at the time when a call to this `@op` was executed. Even if you don't change\n",
    "anything in the code, a single function can have multiple versions if it invokes\n",
    "different dependencies for different calls. \n",
    "\n",
    "### Going back in time\n",
    "Since the versioning system is content-based, simply restoring an old state of\n",
    "the code makes the storage automatically recognize which \"world\" it's in, and\n",
    "which calls are memoized in this world.\n",
    "\n",
    "### Caveats of marking changes as non-breaking\n",
    "The main motivation for allowing non-breaking changes is to maintain the storage\n",
    "when doing routine code improvements (refactoring, comments, logging).\n",
    "\n",
    "**However**, non-semantic changes should be applied with care. Apart from being\n",
    "prone to errors (you wrongly conclude that a change has no effect on semantics\n",
    "when it does), they can also introduce **invisible dependencies**: suppose you\n",
    "factor a function out of some dependency and mark the change non-semantic. Then\n",
    "the newly extracted function may in reality be a dependency of the existing\n",
    "calls, but this goes unnoticed by the system. Consequently, changes in this \n",
    "dependency may go unnoticed by the versioning algorithm."
   ]
  }
 ],
 "metadata": {
  "language_info": {
   "codemirror_mode": {
    "name": "ipython",
    "version": 3
   },
   "file_extension": ".py",
   "mimetype": "text/x-python",
   "name": "python",
   "nbconvert_exporter": "python",
   "pygments_lexer": "ipython3",
   "version": "3.10.8"
  }
 },
 "nbformat": 4,
 "nbformat_minor": 2
}
