{
 "cells": [
  {
   "cell_type": "markdown",
   "metadata": {},
   "source": [
    "# Query the Storage with `ComputationFrame`s\n",
    "## Why `ComputationFrame`s?\n",
    "The `ComputationFrame` data structure **formalizes the natural/intuitive way you\n",
    "think of the \"web\" of saved `@op` calls**. It gives you a \"grammar\" in which\n",
    "operations over persisted computation graphs that are easy to think of are also\n",
    "easy to implement.\n",
    "\n",
    "In computational projects, all queries boil down to how some variables depend on\n",
    "other variables: e.g., in ML you often care about what input parameters lead to\n",
    "final results with certain metrics. The `mandala` storage can automatically\n",
    "answer such questions when all operations along the way were `@op`s, because it\n",
    "represents the \"web\" of saved `@op` calls, linked by how the outputs of one\n",
    "`@op` are used as inputs to other `@op`s.\n",
    "\n",
    "The `ComputationFrame` (CF) is the data structure used to explore and query this\n",
    "web of calls. It's a high-level view of a collection of `@op` calls, so that\n",
    "calls that serve the same role are grouped together. **The groups of calls form a\n",
    "computational graph of variables and functions, which enables effective &\n",
    "natural high-level operations over storage**. \n",
    "\n",
    "This section covers basic tools to get up to speed with CFs. For more advanced\n",
    "usage, see [Advanced `ComputationFrame` tools](06_advanced_cf.md) "
   ]
  },
  {
   "cell_type": "markdown",
   "metadata": {},
   "source": [
    "## Typical workflow\n",
    "Using CFs typically goes through the following stages:\n",
    "\n",
    "- **[creation](#creating-computationframes)**: initialize a CF in various ways,\n",
    "e.g. from some `Ref`s, from all calls to an `@op`, .... This CF will have a\n",
    "limited view of storage because it will involve few (0 or 1) `@op`s\n",
    "- **[expansion](#exploring-storage-by-expanding-computationframes)**: add more\n",
    "context to the CF by adding new function nodes containing the calls that\n",
    "produced/used some variable(s). The goal of this stage is to incorporate in the\n",
    "CF all variables whose relationships you're interested in.\n",
    "- **combination & restriction**: merge multiple CFs, restrict to subgraphs or \n",
    "specific values of the variables along some predicates. This lets you focus on\n",
    "the computations you want before making expensive calls to the storage.\n",
    "- **[conversion to a `pandas.DataFrame`](#extracting-dataframes-from-computationframes)**: finally,\n",
    "extract a table representing the relationships between the variables in the CF\n",
    "for downstream analysis.\n",
    "\n",
    "### Toy ML pipeline\n",
    "In this section, we'll work with the following toy experiment on a small ML\n",
    "pipeline:"
   ]
  },
  {
   "cell_type": "code",
   "execution_count": 1,
   "metadata": {
    "execution": {
     "iopub.execute_input": "2024-07-03T11:41:15.310794Z",
     "iopub.status.busy": "2024-07-03T11:41:15.310443Z",
     "iopub.status.idle": "2024-07-03T11:41:17.635582Z",
     "shell.execute_reply": "2024-07-03T11:41:17.634945Z"
    }
   },
   "outputs": [],
   "source": [
    "### define ops to train & eval a random forest model on digits dataset\n",
    "import numpy as np\n",
    "from sklearn.datasets import load_digits\n",
    "from sklearn.model_selection import train_test_split\n",
    "from sklearn.ensemble import RandomForestClassifier\n",
    "\n",
    "from mandala.imports import *\n",
    "try:\n",
    "    import rich\n",
    "    from rich import print as pprint\n",
    "except ImportError:\n",
    "    print(\"rich not installed, using default print\")\n",
    "    pprint = print\n",
    "\n",
    "storage = Storage()\n",
    "\n",
    "np.random.seed(0)\n",
    "\n",
    "@op \n",
    "def generate_dataset(random_seed=42):\n",
    "    X, y = load_digits(return_X_y=True)\n",
    "    X_train, X_test, y_train, y_test = train_test_split(\n",
    "        X, y, test_size=0.2, random_state=random_seed)\n",
    "    return X_train, X_test, y_train, y_test\n",
    "\n",
    "@op\n",
    "def train_model(X_train, y_train, n_estimators):\n",
    "    model = RandomForestClassifier(n_estimators=n_estimators, max_depth=2)\n",
    "    model.fit(X_train, y_train)\n",
    "    return model, round(model.score(X_train, y_train), 2)\n",
    "\n",
    "@op\n",
    "def eval_model(model, X_test, y_test):\n",
    "    return round(model.score(X_test, y_test), 2)"
   ]
  },
  {
   "cell_type": "code",
   "execution_count": 2,
   "metadata": {
    "execution": {
     "iopub.execute_input": "2024-07-03T11:41:17.639775Z",
     "iopub.status.busy": "2024-07-03T11:41:17.638619Z",
     "iopub.status.idle": "2024-07-03T11:41:18.180220Z",
     "shell.execute_reply": "2024-07-03T11:41:18.179434Z"
    }
   },
   "outputs": [],
   "source": [
    "with storage: \n",
    "    X_train, X_test, y_train, y_test = generate_dataset()\n",
    "    for n_estimators in [10, 20, 40, 80]:\n",
    "        model, train_acc = train_model(X_train, y_train, n_estimators=n_estimators)\n",
    "        if storage.unwrap(train_acc) > 0.8: # conditional execution\n",
    "            test_acc = eval_model(model, X_test, y_test)"
   ]
  },
  {
   "cell_type": "markdown",
   "metadata": {},
   "source": [
    "## Creating `ComputationFrame`s\n",
    "There are several ways to create a CF, all dispatched through the `storage.cf()`\n",
    "method.\n",
    "\n",
    "### From a single `Ref`\n",
    "The simplest example of a CF is to create one from a `Ref`:"
   ]
  },
  {
   "cell_type": "code",
   "execution_count": 3,
   "metadata": {
    "execution": {
     "iopub.execute_input": "2024-07-03T11:41:18.184527Z",
     "iopub.status.busy": "2024-07-03T11:41:18.184258Z",
     "iopub.status.idle": "2024-07-03T11:41:18.293802Z",
     "shell.execute_reply": "2024-07-03T11:41:18.293172Z"
    }
   },
   "outputs": [
    {
     "data": {
      "text/html": [
       "<pre style=\"white-space:pre;overflow-x:auto;line-height:normal;font-family:Menlo,'DejaVu Sans Mono',consolas,'Courier New',monospace\">ComputationFrame with:\n",
       "    <span style=\"color: #008080; text-decoration-color: #008080; font-weight: bold\">1</span> <span style=\"color: #800080; text-decoration-color: #800080; font-weight: bold\">variable</span><span style=\"font-weight: bold\">(</span>s<span style=\"font-weight: bold\">)</span> <span style=\"font-weight: bold\">(</span><span style=\"color: #008080; text-decoration-color: #008080; font-weight: bold\">1</span> unique refs<span style=\"font-weight: bold\">)</span>\n",
       "    <span style=\"color: #008080; text-decoration-color: #008080; font-weight: bold\">0</span> <span style=\"color: #800080; text-decoration-color: #800080; font-weight: bold\">operation</span><span style=\"font-weight: bold\">(</span>s<span style=\"font-weight: bold\">)</span> <span style=\"font-weight: bold\">(</span><span style=\"color: #008080; text-decoration-color: #008080; font-weight: bold\">0</span> unique calls<span style=\"font-weight: bold\">)</span>\n",
       "Computational graph:\n",
       "    v\n",
       "</pre>\n"
      ],
      "text/plain": [
       "ComputationFrame with:\n",
       "    \u001b[1;36m1\u001b[0m \u001b[1;35mvariable\u001b[0m\u001b[1m(\u001b[0ms\u001b[1m)\u001b[0m \u001b[1m(\u001b[0m\u001b[1;36m1\u001b[0m unique refs\u001b[1m)\u001b[0m\n",
       "    \u001b[1;36m0\u001b[0m \u001b[1;35moperation\u001b[0m\u001b[1m(\u001b[0ms\u001b[1m)\u001b[0m \u001b[1m(\u001b[0m\u001b[1;36m0\u001b[0m unique calls\u001b[1m)\u001b[0m\n",
       "Computational graph:\n",
       "    v\n"
      ]
     },
     "metadata": {},
     "output_type": "display_data"
    },
    {
     "data": {
      "image/svg+xml": [
       "<?xml version=\"1.0\" encoding=\"UTF-8\" standalone=\"no\"?>\n",
       "<!DOCTYPE svg PUBLIC \"-//W3C//DTD SVG 1.1//EN\"\n",
       " \"http://www.w3.org/Graphics/SVG/1.1/DTD/svg11.dtd\">\n",
       "<!-- Generated by graphviz version 2.50.0 (0)\n",
       " -->\n",
       "<!-- Title: G Pages: 1 -->\n",
       "<svg width=\"148pt\" height=\"44pt\"\n",
       " viewBox=\"0.00 0.00 148.00 44.00\" xmlns=\"http://www.w3.org/2000/svg\" xmlns:xlink=\"http://www.w3.org/1999/xlink\">\n",
       "<g id=\"graph0\" class=\"graph\" transform=\"scale(1 1) rotate(0) translate(4 40)\">\n",
       "<title>G</title>\n",
       "<polygon fill=\"white\" stroke=\"transparent\" points=\"-4,4 -4,-40 144,-40 144,4 -4,4\"/>\n",
       "<!-- v -->\n",
       "<g id=\"node1\" class=\"node\">\n",
       "<title>v</title>\n",
       "<path fill=\"none\" stroke=\"#268bd2\" d=\"M128,-36C128,-36 12,-36 12,-36 6,-36 0,-30 0,-24 0,-24 0,-12 0,-12 0,-6 6,0 12,0 12,0 128,0 128,0 134,0 140,-6 140,-12 140,-12 140,-24 140,-24 140,-30 134,-36 128,-36\"/>\n",
       "<text text-anchor=\"start\" x=\"66.5\" y=\"-20.4\" font-family=\"RobotoMono\" font-weight=\"bold\" font-size=\"12.00\" fill=\"#002b36\">v</text>\n",
       "<text text-anchor=\"start\" x=\"8\" y=\"-10\" font-family=\"RobotoMono\" font-size=\"10.00\" fill=\"#268bd2\">1 values (1 sources/1 sinks)</text>\n",
       "</g>\n",
       "</g>\n",
       "</svg>\n"
      ],
      "text/plain": [
       "<graphviz.sources.Source at 0x71aed140dea0>"
      ]
     },
     "metadata": {},
     "output_type": "display_data"
    }
   ],
   "source": [
    "cf = storage.cf(test_acc)\n",
    "pprint(cf) # text description of the CF \n",
    "cf.draw(verbose=True) # pictorial representation of the CF"
   ]
  },
  {
   "cell_type": "markdown",
   "metadata": {},
   "source": [
    "As the description says, this is a CF with 1 variable (called `v`) and 0\n",
    "operations. The variable contains 1 `Ref`, i.e. 1 value. We can examine the refs\n",
    "in the variables and the calls in the operations:"
   ]
  },
  {
   "cell_type": "code",
   "execution_count": 4,
   "metadata": {
    "execution": {
     "iopub.execute_input": "2024-07-03T11:41:18.296256Z",
     "iopub.status.busy": "2024-07-03T11:41:18.296069Z",
     "iopub.status.idle": "2024-07-03T11:41:18.324476Z",
     "shell.execute_reply": "2024-07-03T11:41:18.323980Z"
    }
   },
   "outputs": [
    {
     "data": {
      "text/html": [
       "<pre style=\"white-space:pre;overflow-x:auto;line-height:normal;font-family:Menlo,'DejaVu Sans Mono',consolas,'Courier New',monospace\">Refs by variable:\n",
       "<span style=\"font-weight: bold\">{</span><span style=\"color: #008000; text-decoration-color: #008000\">'v'</span>: <span style=\"font-weight: bold\">{</span><span style=\"color: #800080; text-decoration-color: #800080; font-weight: bold\">AtomRef</span><span style=\"font-weight: bold\">(</span><span style=\"color: #008080; text-decoration-color: #008080; font-weight: bold\">0.82</span>, <span style=\"color: #808000; text-decoration-color: #808000\">hid</span>=<span style=\"color: #008000; text-decoration-color: #008000\">'11a...'</span>, <span style=\"color: #808000; text-decoration-color: #808000\">cid</span>=<span style=\"color: #008000; text-decoration-color: #008000\">'238...'</span><span style=\"font-weight: bold\">)}}</span>\n",
       "</pre>\n"
      ],
      "text/plain": [
       "Refs by variable:\n",
       "\u001b[1m{\u001b[0m\u001b[32m'v'\u001b[0m: \u001b[1m{\u001b[0m\u001b[1;35mAtomRef\u001b[0m\u001b[1m(\u001b[0m\u001b[1;36m0.82\u001b[0m, \u001b[33mhid\u001b[0m=\u001b[32m'11a...'\u001b[0m, \u001b[33mcid\u001b[0m=\u001b[32m'238...'\u001b[0m\u001b[1m)\u001b[0m\u001b[1m}\u001b[0m\u001b[1m}\u001b[0m\n"
      ]
     },
     "metadata": {},
     "output_type": "display_data"
    },
    {
     "data": {
      "text/html": [
       "<pre style=\"white-space:pre;overflow-x:auto;line-height:normal;font-family:Menlo,'DejaVu Sans Mono',consolas,'Courier New',monospace\">Calls by operation:\n",
       "<span style=\"font-weight: bold\">{}</span>\n",
       "</pre>\n"
      ],
      "text/plain": [
       "Calls by operation:\n",
       "\u001b[1m{\u001b[0m\u001b[1m}\u001b[0m\n"
      ]
     },
     "metadata": {},
     "output_type": "display_data"
    }
   ],
   "source": [
    "pprint(f'Refs by variable:\\n{cf.refs_by_var()}')\n",
    "pprint(f'Calls by operation:\\n{cf.calls_by_func()}')"
   ]
  },
  {
   "cell_type": "markdown",
   "metadata": {},
   "source": [
    "To make this more interesting, we can call `expand_back()` (explained in more\n",
    "detail later) on the CF to add the full computational history of all values in\n",
    "all variables:"
   ]
  },
  {
   "cell_type": "code",
   "execution_count": 5,
   "metadata": {
    "execution": {
     "iopub.execute_input": "2024-07-03T11:41:18.327308Z",
     "iopub.status.busy": "2024-07-03T11:41:18.327087Z",
     "iopub.status.idle": "2024-07-03T11:41:18.763729Z",
     "shell.execute_reply": "2024-07-03T11:41:18.762799Z"
    }
   },
   "outputs": [
    {
     "data": {
      "text/html": [
       "<pre style=\"white-space:pre;overflow-x:auto;line-height:normal;font-family:Menlo,'DejaVu Sans Mono',consolas,'Courier New',monospace\">ComputationFrame with:\n",
       "    <span style=\"color: #008080; text-decoration-color: #008080; font-weight: bold\">8</span> <span style=\"color: #800080; text-decoration-color: #800080; font-weight: bold\">variable</span><span style=\"font-weight: bold\">(</span>s<span style=\"font-weight: bold\">)</span> <span style=\"font-weight: bold\">(</span><span style=\"color: #008080; text-decoration-color: #008080; font-weight: bold\">8</span> unique refs<span style=\"font-weight: bold\">)</span>\n",
       "    <span style=\"color: #008080; text-decoration-color: #008080; font-weight: bold\">3</span> <span style=\"color: #800080; text-decoration-color: #800080; font-weight: bold\">operation</span><span style=\"font-weight: bold\">(</span>s<span style=\"font-weight: bold\">)</span> <span style=\"font-weight: bold\">(</span><span style=\"color: #008080; text-decoration-color: #008080; font-weight: bold\">3</span> unique calls<span style=\"font-weight: bold\">)</span>\n",
       "Computational graph:\n",
       "    X_train@output_0, X_test@output_1, y_train@output_2, y_test@output_3 = \n",
       "<span style=\"color: #800080; text-decoration-color: #800080; font-weight: bold\">generate_dataset</span><span style=\"font-weight: bold\">(</span><span style=\"color: #808000; text-decoration-color: #808000\">random_seed</span>=<span style=\"color: #800080; text-decoration-color: #800080\">random_seed</span><span style=\"font-weight: bold\">)</span>\n",
       "    model@output_0 = <span style=\"color: #800080; text-decoration-color: #800080; font-weight: bold\">train_model</span><span style=\"font-weight: bold\">(</span><span style=\"color: #808000; text-decoration-color: #808000\">y_train</span>=<span style=\"color: #800080; text-decoration-color: #800080\">y_train</span>, <span style=\"color: #808000; text-decoration-color: #808000\">n_estimators</span>=<span style=\"color: #800080; text-decoration-color: #800080\">n_estimators</span>, <span style=\"color: #808000; text-decoration-color: #808000\">X_train</span>=<span style=\"color: #800080; text-decoration-color: #800080\">X_train</span><span style=\"font-weight: bold\">)</span>\n",
       "    v@output_0 = <span style=\"color: #800080; text-decoration-color: #800080; font-weight: bold\">eval_model</span><span style=\"font-weight: bold\">(</span><span style=\"color: #808000; text-decoration-color: #808000\">X_test</span>=<span style=\"color: #800080; text-decoration-color: #800080\">X_test</span>, <span style=\"color: #808000; text-decoration-color: #808000\">y_test</span>=<span style=\"color: #800080; text-decoration-color: #800080\">y_test</span>, <span style=\"color: #808000; text-decoration-color: #808000\">model</span>=<span style=\"color: #800080; text-decoration-color: #800080\">model</span><span style=\"font-weight: bold\">)</span>\n",
       "</pre>\n"
      ],
      "text/plain": [
       "ComputationFrame with:\n",
       "    \u001b[1;36m8\u001b[0m \u001b[1;35mvariable\u001b[0m\u001b[1m(\u001b[0ms\u001b[1m)\u001b[0m \u001b[1m(\u001b[0m\u001b[1;36m8\u001b[0m unique refs\u001b[1m)\u001b[0m\n",
       "    \u001b[1;36m3\u001b[0m \u001b[1;35moperation\u001b[0m\u001b[1m(\u001b[0ms\u001b[1m)\u001b[0m \u001b[1m(\u001b[0m\u001b[1;36m3\u001b[0m unique calls\u001b[1m)\u001b[0m\n",
       "Computational graph:\n",
       "    X_train@output_0, X_test@output_1, y_train@output_2, y_test@output_3 = \n",
       "\u001b[1;35mgenerate_dataset\u001b[0m\u001b[1m(\u001b[0m\u001b[33mrandom_seed\u001b[0m=\u001b[35mrandom_seed\u001b[0m\u001b[1m)\u001b[0m\n",
       "    model@output_0 = \u001b[1;35mtrain_model\u001b[0m\u001b[1m(\u001b[0m\u001b[33my_train\u001b[0m=\u001b[35my_train\u001b[0m, \u001b[33mn_estimators\u001b[0m=\u001b[35mn_estimators\u001b[0m, \u001b[33mX_train\u001b[0m=\u001b[35mX_train\u001b[0m\u001b[1m)\u001b[0m\n",
       "    v@output_0 = \u001b[1;35meval_model\u001b[0m\u001b[1m(\u001b[0m\u001b[33mX_test\u001b[0m=\u001b[35mX_test\u001b[0m, \u001b[33my_test\u001b[0m=\u001b[35my_test\u001b[0m, \u001b[33mmodel\u001b[0m=\u001b[35mmodel\u001b[0m\u001b[1m)\u001b[0m\n"
      ]
     },
     "metadata": {},
     "output_type": "display_data"
    },
    {
     "data": {
      "image/svg+xml": [
       "<?xml version=\"1.0\" encoding=\"UTF-8\" standalone=\"no\"?>\n",
       "<!DOCTYPE svg PUBLIC \"-//W3C//DTD SVG 1.1//EN\"\n",
       " \"http://www.w3.org/Graphics/SVG/1.1/DTD/svg11.dtd\">\n",
       "<!-- Generated by graphviz version 2.50.0 (0)\n",
       " -->\n",
       "<!-- Title: G Pages: 1 -->\n",
       "<svg width=\"396pt\" height=\"648pt\"\n",
       " viewBox=\"0.00 0.00 396.00 648.00\" xmlns=\"http://www.w3.org/2000/svg\" xmlns:xlink=\"http://www.w3.org/1999/xlink\">\n",
       "<g id=\"graph0\" class=\"graph\" transform=\"scale(1 1) rotate(0) translate(4 644)\">\n",
       "<title>G</title>\n",
       "<polygon fill=\"white\" stroke=\"transparent\" points=\"-4,4 -4,-644 392,-644 392,4 -4,4\"/>\n",
       "<!-- v -->\n",
       "<g id=\"node1\" class=\"node\">\n",
       "<title>v</title>\n",
       "<path fill=\"none\" stroke=\"#268bd2\" d=\"M307.5,-36C307.5,-36 238.5,-36 238.5,-36 232.5,-36 226.5,-30 226.5,-24 226.5,-24 226.5,-12 226.5,-12 226.5,-6 232.5,0 238.5,0 238.5,0 307.5,0 307.5,0 313.5,0 319.5,-6 319.5,-12 319.5,-12 319.5,-24 319.5,-24 319.5,-30 313.5,-36 307.5,-36\"/>\n",
       "<text text-anchor=\"start\" x=\"269.5\" y=\"-20.4\" font-family=\"RobotoMono\" font-weight=\"bold\" font-size=\"12.00\" fill=\"#002b36\">v</text>\n",
       "<text text-anchor=\"start\" x=\"234.5\" y=\"-10\" font-family=\"RobotoMono\" font-size=\"10.00\" fill=\"#268bd2\">1 values (1 sinks)</text>\n",
       "</g>\n",
       "<!-- random_seed -->\n",
       "<g id=\"node2\" class=\"node\">\n",
       "<title>random_seed</title>\n",
       "<path fill=\"none\" stroke=\"#268bd2\" d=\"M285,-640C285,-640 203,-640 203,-640 197,-640 191,-634 191,-628 191,-628 191,-616 191,-616 191,-610 197,-604 203,-604 203,-604 285,-604 285,-604 291,-604 297,-610 297,-616 297,-616 297,-628 297,-628 297,-634 291,-640 285,-640\"/>\n",
       "<text text-anchor=\"start\" x=\"203.5\" y=\"-624.4\" font-family=\"RobotoMono\" font-weight=\"bold\" font-size=\"12.00\" fill=\"#002b36\">random_seed</text>\n",
       "<text text-anchor=\"start\" x=\"199\" y=\"-614\" font-family=\"RobotoMono\" font-size=\"10.00\" fill=\"#268bd2\">1 values (1 sources)</text>\n",
       "</g>\n",
       "<!-- generate_dataset -->\n",
       "<g id=\"node9\" class=\"node\">\n",
       "<title>generate_dataset</title>\n",
       "<path fill=\"none\" stroke=\"#dc322f\" d=\"M293,-546C293,-546 195,-546 195,-546 189,-546 183,-540 183,-534 183,-534 183,-518 183,-518 183,-512 189,-506 195,-506 195,-506 293,-506 293,-506 299,-506 305,-512 305,-518 305,-518 305,-534 305,-534 305,-540 299,-546 293,-546\"/>\n",
       "<text text-anchor=\"start\" x=\"191\" y=\"-533.4\" font-family=\"RobotoMono\" font-weight=\"bold\" font-size=\"12.00\" fill=\"#002b36\">generate_dataset</text>\n",
       "<text text-anchor=\"start\" x=\"191\" y=\"-523\" font-family=\"RobotoMono\" font-size=\"10.00\" fill=\"#002b36\">@op:generate_dataset</text>\n",
       "<text text-anchor=\"start\" x=\"230\" y=\"-513\" font-family=\"RobotoMono\" font-size=\"10.00\" fill=\"#dc322f\">1 calls</text>\n",
       "</g>\n",
       "<!-- random_seed&#45;&gt;generate_dataset -->\n",
       "<g id=\"edge9\" class=\"edge\">\n",
       "<title>random_seed&#45;&gt;generate_dataset</title>\n",
       "<path fill=\"none\" stroke=\"#002b36\" d=\"M244,-603.76C244,-590.5 244,-571.86 244,-556.27\"/>\n",
       "<polygon fill=\"#002b36\" stroke=\"#002b36\" points=\"247.5,-556.07 244,-546.07 240.5,-556.07 247.5,-556.07\"/>\n",
       "<text text-anchor=\"middle\" x=\"276\" y=\"-578\" font-family=\"RobotoMono\" font-size=\"10.00\" fill=\"#002b36\">random_seed</text>\n",
       "<text text-anchor=\"middle\" x=\"276\" y=\"-567\" font-family=\"RobotoMono\" font-size=\"10.00\" fill=\"#002b36\">(1 values)</text>\n",
       "</g>\n",
       "<!-- X_train -->\n",
       "<g id=\"node3\" class=\"node\">\n",
       "<title>X_train</title>\n",
       "<path fill=\"none\" stroke=\"#268bd2\" d=\"M48,-448C48,-448 12,-448 12,-448 6,-448 0,-442 0,-436 0,-436 0,-424 0,-424 0,-418 6,-412 12,-412 12,-412 48,-412 48,-412 54,-412 60,-418 60,-424 60,-424 60,-436 60,-436 60,-442 54,-448 48,-448\"/>\n",
       "<text text-anchor=\"start\" x=\"8\" y=\"-432.4\" font-family=\"RobotoMono\" font-weight=\"bold\" font-size=\"12.00\" fill=\"#002b36\">X_train</text>\n",
       "<text text-anchor=\"start\" x=\"11\" y=\"-422\" font-family=\"RobotoMono\" font-size=\"10.00\" fill=\"#268bd2\">1 values</text>\n",
       "</g>\n",
       "<!-- train_model -->\n",
       "<g id=\"node10\" class=\"node\">\n",
       "<title>train_model</title>\n",
       "<path fill=\"none\" stroke=\"#dc322f\" d=\"M195.5,-340C195.5,-340 124.5,-340 124.5,-340 118.5,-340 112.5,-334 112.5,-328 112.5,-328 112.5,-312 112.5,-312 112.5,-306 118.5,-300 124.5,-300 124.5,-300 195.5,-300 195.5,-300 201.5,-300 207.5,-306 207.5,-312 207.5,-312 207.5,-328 207.5,-328 207.5,-334 201.5,-340 195.5,-340\"/>\n",
       "<text text-anchor=\"start\" x=\"123.5\" y=\"-327.4\" font-family=\"RobotoMono\" font-weight=\"bold\" font-size=\"12.00\" fill=\"#002b36\">train_model</text>\n",
       "<text text-anchor=\"start\" x=\"120.5\" y=\"-317\" font-family=\"RobotoMono\" font-size=\"10.00\" fill=\"#002b36\">@op:train_model</text>\n",
       "<text text-anchor=\"start\" x=\"146\" y=\"-307\" font-family=\"RobotoMono\" font-size=\"10.00\" fill=\"#dc322f\">1 calls</text>\n",
       "</g>\n",
       "<!-- X_train&#45;&gt;train_model -->\n",
       "<g id=\"edge13\" class=\"edge\">\n",
       "<title>X_train&#45;&gt;train_model</title>\n",
       "<path fill=\"none\" stroke=\"#002b36\" d=\"M34.79,-411.91C40.05,-396 49.95,-372.6 66,-358 76.44,-348.5 89.6,-341.32 102.75,-335.93\"/>\n",
       "<polygon fill=\"#002b36\" stroke=\"#002b36\" points=\"104.16,-339.14 112.28,-332.32 101.68,-332.59 104.16,-339.14\"/>\n",
       "<text text-anchor=\"middle\" x=\"88\" y=\"-379\" font-family=\"RobotoMono\" font-size=\"10.00\" fill=\"#002b36\">X_train</text>\n",
       "<text text-anchor=\"middle\" x=\"88\" y=\"-368\" font-family=\"RobotoMono\" font-size=\"10.00\" fill=\"#002b36\">(1 values)</text>\n",
       "</g>\n",
       "<!-- y_train -->\n",
       "<g id=\"node4\" class=\"node\">\n",
       "<title>y_train</title>\n",
       "<path fill=\"none\" stroke=\"#268bd2\" d=\"M125.5,-448C125.5,-448 90.5,-448 90.5,-448 84.5,-448 78.5,-442 78.5,-436 78.5,-436 78.5,-424 78.5,-424 78.5,-418 84.5,-412 90.5,-412 90.5,-412 125.5,-412 125.5,-412 131.5,-412 137.5,-418 137.5,-424 137.5,-424 137.5,-436 137.5,-436 137.5,-442 131.5,-448 125.5,-448\"/>\n",
       "<text text-anchor=\"start\" x=\"86.5\" y=\"-432.4\" font-family=\"RobotoMono\" font-weight=\"bold\" font-size=\"12.00\" fill=\"#002b36\">y_train</text>\n",
       "<text text-anchor=\"start\" x=\"89\" y=\"-422\" font-family=\"RobotoMono\" font-size=\"10.00\" fill=\"#268bd2\">1 values</text>\n",
       "</g>\n",
       "<!-- y_train&#45;&gt;train_model -->\n",
       "<g id=\"edge11\" class=\"edge\">\n",
       "<title>y_train&#45;&gt;train_model</title>\n",
       "<path fill=\"none\" stroke=\"#002b36\" d=\"M110.65,-411.85C113.45,-396.96 118.77,-375.14 128,-358 129.8,-354.66 131.94,-351.36 134.25,-348.19\"/>\n",
       "<polygon fill=\"#002b36\" stroke=\"#002b36\" points=\"137.16,-350.16 140.65,-340.16 131.69,-345.8 137.16,-350.16\"/>\n",
       "<text text-anchor=\"middle\" x=\"150\" y=\"-379\" font-family=\"RobotoMono\" font-size=\"10.00\" fill=\"#002b36\">y_train</text>\n",
       "<text text-anchor=\"middle\" x=\"150\" y=\"-368\" font-family=\"RobotoMono\" font-size=\"10.00\" fill=\"#002b36\">(1 values)</text>\n",
       "</g>\n",
       "<!-- model -->\n",
       "<g id=\"node5\" class=\"node\">\n",
       "<title>model</title>\n",
       "<path fill=\"none\" stroke=\"#268bd2\" d=\"M223,-228C223,-228 193,-228 193,-228 187,-228 181,-222 181,-216 181,-216 181,-204 181,-204 181,-198 187,-192 193,-192 193,-192 223,-192 223,-192 229,-192 235,-198 235,-204 235,-204 235,-216 235,-216 235,-222 229,-228 223,-228\"/>\n",
       "<text text-anchor=\"start\" x=\"189\" y=\"-212.4\" font-family=\"RobotoMono\" font-weight=\"bold\" font-size=\"12.00\" fill=\"#002b36\">model</text>\n",
       "<text text-anchor=\"start\" x=\"189\" y=\"-202\" font-family=\"RobotoMono\" font-size=\"10.00\" fill=\"#268bd2\">1 values</text>\n",
       "</g>\n",
       "<!-- eval_model -->\n",
       "<g id=\"node11\" class=\"node\">\n",
       "<title>eval_model</title>\n",
       "<path fill=\"none\" stroke=\"#dc322f\" d=\"M307,-134C307,-134 239,-134 239,-134 233,-134 227,-128 227,-122 227,-122 227,-106 227,-106 227,-100 233,-94 239,-94 239,-94 307,-94 307,-94 313,-94 319,-100 319,-106 319,-106 319,-122 319,-122 319,-128 313,-134 307,-134\"/>\n",
       "<text text-anchor=\"start\" x=\"239\" y=\"-121.4\" font-family=\"RobotoMono\" font-weight=\"bold\" font-size=\"12.00\" fill=\"#002b36\">eval_model</text>\n",
       "<text text-anchor=\"start\" x=\"235\" y=\"-111\" font-family=\"RobotoMono\" font-size=\"10.00\" fill=\"#002b36\">@op:eval_model</text>\n",
       "<text text-anchor=\"start\" x=\"259\" y=\"-101\" font-family=\"RobotoMono\" font-size=\"10.00\" fill=\"#dc322f\">1 calls</text>\n",
       "</g>\n",
       "<!-- model&#45;&gt;eval_model -->\n",
       "<g id=\"edge4\" class=\"edge\">\n",
       "<title>model&#45;&gt;eval_model</title>\n",
       "<path fill=\"none\" stroke=\"#002b36\" d=\"M206.42,-191.77C206.16,-179.75 207.56,-163.81 215,-152 217.65,-147.8 220.96,-143.99 224.66,-140.55\"/>\n",
       "<polygon fill=\"#002b36\" stroke=\"#002b36\" points=\"227.15,-143.04 232.7,-134.01 222.73,-137.61 227.15,-143.04\"/>\n",
       "<text text-anchor=\"middle\" x=\"237\" y=\"-166\" font-family=\"RobotoMono\" font-size=\"10.00\" fill=\"#002b36\">model</text>\n",
       "<text text-anchor=\"middle\" x=\"237\" y=\"-155\" font-family=\"RobotoMono\" font-size=\"10.00\" fill=\"#002b36\">(1 values)</text>\n",
       "</g>\n",
       "<!-- n_estimators -->\n",
       "<g id=\"node6\" class=\"node\">\n",
       "<title>n_estimators</title>\n",
       "<path fill=\"none\" stroke=\"#268bd2\" d=\"M250,-448C250,-448 168,-448 168,-448 162,-448 156,-442 156,-436 156,-436 156,-424 156,-424 156,-418 162,-412 168,-412 168,-412 250,-412 250,-412 256,-412 262,-418 262,-424 262,-424 262,-436 262,-436 262,-442 256,-448 250,-448\"/>\n",
       "<text text-anchor=\"start\" x=\"169.5\" y=\"-432.4\" font-family=\"RobotoMono\" font-weight=\"bold\" font-size=\"12.00\" fill=\"#002b36\">n_estimators</text>\n",
       "<text text-anchor=\"start\" x=\"164\" y=\"-422\" font-family=\"RobotoMono\" font-size=\"10.00\" fill=\"#268bd2\">1 values (1 sources)</text>\n",
       "</g>\n",
       "<!-- n_estimators&#45;&gt;train_model -->\n",
       "<g id=\"edge12\" class=\"edge\">\n",
       "<title>n_estimators&#45;&gt;train_model</title>\n",
       "<path fill=\"none\" stroke=\"#002b36\" d=\"M201.17,-411.92C198.57,-406.22 195.65,-399.84 193,-394 186.33,-379.33 178.94,-362.98 172.84,-349.48\"/>\n",
       "<polygon fill=\"#002b36\" stroke=\"#002b36\" points=\"175.97,-347.9 168.66,-340.22 169.59,-350.78 175.97,-347.9\"/>\n",
       "<text text-anchor=\"middle\" x=\"223.5\" y=\"-379\" font-family=\"RobotoMono\" font-size=\"10.00\" fill=\"#002b36\">n_estimators</text>\n",
       "<text text-anchor=\"middle\" x=\"223.5\" y=\"-368\" font-family=\"RobotoMono\" font-size=\"10.00\" fill=\"#002b36\">(1 values)</text>\n",
       "</g>\n",
       "<!-- X_test -->\n",
       "<g id=\"node7\" class=\"node\">\n",
       "<title>X_test</title>\n",
       "<path fill=\"none\" stroke=\"#268bd2\" d=\"M305,-394C305,-394 275,-394 275,-394 269,-394 263,-388 263,-382 263,-382 263,-370 263,-370 263,-364 269,-358 275,-358 275,-358 305,-358 305,-358 311,-358 317,-364 317,-370 317,-370 317,-382 317,-382 317,-388 311,-394 305,-394\"/>\n",
       "<text text-anchor=\"start\" x=\"271.5\" y=\"-378.4\" font-family=\"RobotoMono\" font-weight=\"bold\" font-size=\"12.00\" fill=\"#002b36\">X_test</text>\n",
       "<text text-anchor=\"start\" x=\"271\" y=\"-368\" font-family=\"RobotoMono\" font-size=\"10.00\" fill=\"#268bd2\">1 values</text>\n",
       "</g>\n",
       "<!-- X_test&#45;&gt;eval_model -->\n",
       "<g id=\"edge2\" class=\"edge\">\n",
       "<title>X_test&#45;&gt;eval_model</title>\n",
       "<path fill=\"none\" stroke=\"#002b36\" d=\"M284.88,-357.71C279.69,-339.19 271.99,-308.81 269,-282 263.64,-233.89 266.97,-177.51 269.94,-144.11\"/>\n",
       "<polygon fill=\"#002b36\" stroke=\"#002b36\" points=\"273.42,-144.39 270.88,-134.11 266.46,-143.74 273.42,-144.39\"/>\n",
       "<text text-anchor=\"middle\" x=\"291\" y=\"-267\" font-family=\"RobotoMono\" font-size=\"10.00\" fill=\"#002b36\">X_test</text>\n",
       "<text text-anchor=\"middle\" x=\"291\" y=\"-256\" font-family=\"RobotoMono\" font-size=\"10.00\" fill=\"#002b36\">(1 values)</text>\n",
       "</g>\n",
       "<!-- y_test -->\n",
       "<g id=\"node8\" class=\"node\">\n",
       "<title>y_test</title>\n",
       "<path fill=\"none\" stroke=\"#268bd2\" d=\"M364,-282C364,-282 334,-282 334,-282 328,-282 322,-276 322,-270 322,-270 322,-258 322,-258 322,-252 328,-246 334,-246 334,-246 364,-246 364,-246 370,-246 376,-252 376,-258 376,-258 376,-270 376,-270 376,-276 370,-282 364,-282\"/>\n",
       "<text text-anchor=\"start\" x=\"331\" y=\"-266.4\" font-family=\"RobotoMono\" font-weight=\"bold\" font-size=\"12.00\" fill=\"#002b36\">y_test</text>\n",
       "<text text-anchor=\"start\" x=\"330\" y=\"-256\" font-family=\"RobotoMono\" font-size=\"10.00\" fill=\"#268bd2\">1 values</text>\n",
       "</g>\n",
       "<!-- y_test&#45;&gt;eval_model -->\n",
       "<g id=\"edge3\" class=\"edge\">\n",
       "<title>y_test&#45;&gt;eval_model</title>\n",
       "<path fill=\"none\" stroke=\"#002b36\" d=\"M340.13,-245.73C327.2,-220.55 303.02,-173.46 287.48,-143.2\"/>\n",
       "<polygon fill=\"#002b36\" stroke=\"#002b36\" points=\"290.45,-141.32 282.77,-134.02 284.22,-144.52 290.45,-141.32\"/>\n",
       "<text text-anchor=\"middle\" x=\"351\" y=\"-213\" font-family=\"RobotoMono\" font-size=\"10.00\" fill=\"#002b36\">y_test</text>\n",
       "<text text-anchor=\"middle\" x=\"351\" y=\"-202\" font-family=\"RobotoMono\" font-size=\"10.00\" fill=\"#002b36\">(1 values)</text>\n",
       "</g>\n",
       "<!-- generate_dataset&#45;&gt;X_train -->\n",
       "<g id=\"edge7\" class=\"edge\">\n",
       "<title>generate_dataset&#45;&gt;X_train</title>\n",
       "<path fill=\"none\" stroke=\"#002b36\" d=\"M182.84,-512.64C159.7,-506.77 133.53,-498.67 111,-488 92.29,-479.14 73.27,-466.01 58.36,-454.58\"/>\n",
       "<polygon fill=\"#002b36\" stroke=\"#002b36\" points=\"60.12,-451.52 50.1,-448.1 55.8,-457.02 60.12,-451.52\"/>\n",
       "<text text-anchor=\"middle\" x=\"133\" y=\"-480\" font-family=\"RobotoMono\" font-size=\"10.00\" fill=\"#002b36\">output_0</text>\n",
       "<text text-anchor=\"middle\" x=\"133\" y=\"-469\" font-family=\"RobotoMono\" font-size=\"10.00\" fill=\"#002b36\">(1 values)</text>\n",
       "</g>\n",
       "<!-- generate_dataset&#45;&gt;y_train -->\n",
       "<g id=\"edge8\" class=\"edge\">\n",
       "<title>generate_dataset&#45;&gt;y_train</title>\n",
       "<path fill=\"none\" stroke=\"#002b36\" d=\"M216.48,-505.98C194.73,-490.95 164.3,-469.91 141.2,-453.95\"/>\n",
       "<polygon fill=\"#002b36\" stroke=\"#002b36\" points=\"142.95,-450.9 132.74,-448.1 138.97,-456.66 142.95,-450.9\"/>\n",
       "<text text-anchor=\"middle\" x=\"210\" y=\"-480\" font-family=\"RobotoMono\" font-size=\"10.00\" fill=\"#002b36\">output_2</text>\n",
       "<text text-anchor=\"middle\" x=\"210\" y=\"-469\" font-family=\"RobotoMono\" font-size=\"10.00\" fill=\"#002b36\">(1 values)</text>\n",
       "</g>\n",
       "<!-- generate_dataset&#45;&gt;X_test -->\n",
       "<g id=\"edge5\" class=\"edge\">\n",
       "<title>generate_dataset&#45;&gt;X_test</title>\n",
       "<path fill=\"none\" stroke=\"#002b36\" d=\"M251.18,-505.83C256.87,-490.33 264.86,-467.9 271,-448 275.45,-433.57 279.85,-417.31 283.29,-403.99\"/>\n",
       "<polygon fill=\"#002b36\" stroke=\"#002b36\" points=\"286.75,-404.59 285.83,-394.03 279.97,-402.86 286.75,-404.59\"/>\n",
       "<text text-anchor=\"middle\" x=\"287\" y=\"-480\" font-family=\"RobotoMono\" font-size=\"10.00\" fill=\"#002b36\">output_1</text>\n",
       "<text text-anchor=\"middle\" x=\"287\" y=\"-469\" font-family=\"RobotoMono\" font-size=\"10.00\" fill=\"#002b36\">(1 values)</text>\n",
       "</g>\n",
       "<!-- generate_dataset&#45;&gt;y_test -->\n",
       "<g id=\"edge6\" class=\"edge\">\n",
       "<title>generate_dataset&#45;&gt;y_test</title>\n",
       "<path fill=\"none\" stroke=\"#002b36\" d=\"M293.35,-505.96C300.9,-501.12 307.87,-495.19 313,-488 355.38,-428.56 355.16,-337.65 351.89,-292.47\"/>\n",
       "<polygon fill=\"#002b36\" stroke=\"#002b36\" points=\"355.35,-291.94 351.04,-282.27 348.38,-292.52 355.35,-291.94\"/>\n",
       "<text text-anchor=\"middle\" x=\"366\" y=\"-433\" font-family=\"RobotoMono\" font-size=\"10.00\" fill=\"#002b36\">output_3</text>\n",
       "<text text-anchor=\"middle\" x=\"366\" y=\"-422\" font-family=\"RobotoMono\" font-size=\"10.00\" fill=\"#002b36\">(1 values)</text>\n",
       "</g>\n",
       "<!-- train_model&#45;&gt;model -->\n",
       "<g id=\"edge10\" class=\"edge\">\n",
       "<title>train_model&#45;&gt;model</title>\n",
       "<path fill=\"none\" stroke=\"#002b36\" d=\"M168.47,-299.94C176.21,-282.53 187.72,-256.64 196.32,-237.27\"/>\n",
       "<polygon fill=\"#002b36\" stroke=\"#002b36\" points=\"199.54,-238.65 200.4,-228.09 193.14,-235.81 199.54,-238.65\"/>\n",
       "<text text-anchor=\"middle\" x=\"213\" y=\"-267\" font-family=\"RobotoMono\" font-size=\"10.00\" fill=\"#002b36\">output_0</text>\n",
       "<text text-anchor=\"middle\" x=\"213\" y=\"-256\" font-family=\"RobotoMono\" font-size=\"10.00\" fill=\"#002b36\">(1 values)</text>\n",
       "</g>\n",
       "<!-- eval_model&#45;&gt;v -->\n",
       "<g id=\"edge1\" class=\"edge\">\n",
       "<title>eval_model&#45;&gt;v</title>\n",
       "<path fill=\"none\" stroke=\"#002b36\" d=\"M273,-93.98C273,-80.34 273,-61.75 273,-46.5\"/>\n",
       "<polygon fill=\"#002b36\" stroke=\"#002b36\" points=\"276.5,-46.1 273,-36.1 269.5,-46.1 276.5,-46.1\"/>\n",
       "<text text-anchor=\"middle\" x=\"295\" y=\"-68\" font-family=\"RobotoMono\" font-size=\"10.00\" fill=\"#002b36\">output_0</text>\n",
       "<text text-anchor=\"middle\" x=\"295\" y=\"-57\" font-family=\"RobotoMono\" font-size=\"10.00\" fill=\"#002b36\">(1 values)</text>\n",
       "</g>\n",
       "</g>\n",
       "</svg>\n"
      ],
      "text/plain": [
       "<graphviz.sources.Source at 0x71afb24932e0>"
      ]
     },
     "metadata": {},
     "output_type": "display_data"
    }
   ],
   "source": [
    "cf.expand_back(inplace=True, recursive=True)\n",
    "pprint(cf)\n",
    "cf.draw(verbose=True)"
   ]
  },
  {
   "cell_type": "markdown",
   "metadata": {},
   "source": [
    "The variables added to the CF during expansion are given informative names based\n",
    "on input names of functions called on these variables. The result of expansion\n",
    "tells us the precise way `test_acc` was computed. We can get the values of each\n",
    "variable and the calls of each function:"
   ]
  },
  {
   "cell_type": "code",
   "execution_count": 6,
   "metadata": {
    "execution": {
     "iopub.execute_input": "2024-07-03T11:41:18.767073Z",
     "iopub.status.busy": "2024-07-03T11:41:18.766814Z",
     "iopub.status.idle": "2024-07-03T11:41:18.833871Z",
     "shell.execute_reply": "2024-07-03T11:41:18.833237Z"
    }
   },
   "outputs": [
    {
     "data": {
      "text/html": [
       "<pre style=\"white-space:pre;overflow-x:auto;line-height:normal;font-family:Menlo,'DejaVu Sans Mono',consolas,'Courier New',monospace\"><span style=\"font-weight: bold\">{</span>\n",
       "    <span style=\"color: #008000; text-decoration-color: #008000\">'v'</span>: <span style=\"font-weight: bold\">{</span><span style=\"color: #008080; text-decoration-color: #008080; font-weight: bold\">0.82</span><span style=\"font-weight: bold\">}</span>,\n",
       "    <span style=\"color: #008000; text-decoration-color: #008000\">'model'</span>: <span style=\"font-weight: bold\">{</span><span style=\"color: #800080; text-decoration-color: #800080; font-weight: bold\">RandomForestClassifier</span><span style=\"font-weight: bold\">(</span><span style=\"color: #808000; text-decoration-color: #808000\">max_depth</span>=<span style=\"color: #008080; text-decoration-color: #008080; font-weight: bold\">2</span>, <span style=\"color: #808000; text-decoration-color: #808000\">n_estimators</span>=<span style=\"color: #008080; text-decoration-color: #008080; font-weight: bold\">80</span><span style=\"font-weight: bold\">)}</span>,\n",
       "    <span style=\"color: #008000; text-decoration-color: #008000\">'random_seed'</span>: <span style=\"font-weight: bold\">{</span><span style=\"color: #008080; text-decoration-color: #008080; font-weight: bold\">42</span><span style=\"font-weight: bold\">}</span>,\n",
       "    <span style=\"color: #008000; text-decoration-color: #008000\">'n_estimators'</span>: <span style=\"font-weight: bold\">{</span><span style=\"color: #008080; text-decoration-color: #008080; font-weight: bold\">80</span><span style=\"font-weight: bold\">}</span>\n",
       "<span style=\"font-weight: bold\">}</span>\n",
       "</pre>\n"
      ],
      "text/plain": [
       "\u001b[1m{\u001b[0m\n",
       "    \u001b[32m'v'\u001b[0m: \u001b[1m{\u001b[0m\u001b[1;36m0.82\u001b[0m\u001b[1m}\u001b[0m,\n",
       "    \u001b[32m'model'\u001b[0m: \u001b[1m{\u001b[0m\u001b[1;35mRandomForestClassifier\u001b[0m\u001b[1m(\u001b[0m\u001b[33mmax_depth\u001b[0m=\u001b[1;36m2\u001b[0m, \u001b[33mn_estimators\u001b[0m=\u001b[1;36m80\u001b[0m\u001b[1m)\u001b[0m\u001b[1m}\u001b[0m,\n",
       "    \u001b[32m'random_seed'\u001b[0m: \u001b[1m{\u001b[0m\u001b[1;36m42\u001b[0m\u001b[1m}\u001b[0m,\n",
       "    \u001b[32m'n_estimators'\u001b[0m: \u001b[1m{\u001b[0m\u001b[1;36m80\u001b[0m\u001b[1m}\u001b[0m\n",
       "\u001b[1m}\u001b[0m\n"
      ]
     },
     "metadata": {},
     "output_type": "display_data"
    },
    {
     "data": {
      "text/html": [
       "<pre style=\"white-space:pre;overflow-x:auto;line-height:normal;font-family:Menlo,'DejaVu Sans Mono',consolas,'Courier New',monospace\"><span style=\"font-weight: bold\">{</span>\n",
       "    <span style=\"color: #008000; text-decoration-color: #008000\">'eval_model'</span>: <span style=\"font-weight: bold\">{</span><span style=\"color: #800080; text-decoration-color: #800080; font-weight: bold\">Call</span><span style=\"font-weight: bold\">(</span>eval_model, <span style=\"color: #808000; text-decoration-color: #808000\">cid</span>=<span style=\"color: #008000; text-decoration-color: #008000\">'137...'</span>, <span style=\"color: #808000; text-decoration-color: #808000\">hid</span>=<span style=\"color: #008000; text-decoration-color: #008000\">'d32...'</span><span style=\"font-weight: bold\">)}</span>,\n",
       "    <span style=\"color: #008000; text-decoration-color: #008000\">'generate_dataset'</span>: <span style=\"font-weight: bold\">{</span><span style=\"color: #800080; text-decoration-color: #800080; font-weight: bold\">Call</span><span style=\"font-weight: bold\">(</span>generate_dataset, <span style=\"color: #808000; text-decoration-color: #808000\">cid</span>=<span style=\"color: #008000; text-decoration-color: #008000\">'19a...'</span>, <span style=\"color: #808000; text-decoration-color: #808000\">hid</span>=<span style=\"color: #008000; text-decoration-color: #008000\">'c3f...'</span><span style=\"font-weight: bold\">)}</span>,\n",
       "    <span style=\"color: #008000; text-decoration-color: #008000\">'train_model'</span>: <span style=\"font-weight: bold\">{</span><span style=\"color: #800080; text-decoration-color: #800080; font-weight: bold\">Call</span><span style=\"font-weight: bold\">(</span>train_model, <span style=\"color: #808000; text-decoration-color: #808000\">cid</span>=<span style=\"color: #008000; text-decoration-color: #008000\">'3be...'</span>, <span style=\"color: #808000; text-decoration-color: #808000\">hid</span>=<span style=\"color: #008000; text-decoration-color: #008000\">'e60...'</span><span style=\"font-weight: bold\">)}</span>\n",
       "<span style=\"font-weight: bold\">}</span>\n",
       "</pre>\n"
      ],
      "text/plain": [
       "\u001b[1m{\u001b[0m\n",
       "    \u001b[32m'eval_model'\u001b[0m: \u001b[1m{\u001b[0m\u001b[1;35mCall\u001b[0m\u001b[1m(\u001b[0meval_model, \u001b[33mcid\u001b[0m=\u001b[32m'137...'\u001b[0m, \u001b[33mhid\u001b[0m=\u001b[32m'd32...'\u001b[0m\u001b[1m)\u001b[0m\u001b[1m}\u001b[0m,\n",
       "    \u001b[32m'generate_dataset'\u001b[0m: \u001b[1m{\u001b[0m\u001b[1;35mCall\u001b[0m\u001b[1m(\u001b[0mgenerate_dataset, \u001b[33mcid\u001b[0m=\u001b[32m'19a...'\u001b[0m, \u001b[33mhid\u001b[0m=\u001b[32m'c3f...'\u001b[0m\u001b[1m)\u001b[0m\u001b[1m}\u001b[0m,\n",
       "    \u001b[32m'train_model'\u001b[0m: \u001b[1m{\u001b[0m\u001b[1;35mCall\u001b[0m\u001b[1m(\u001b[0mtrain_model, \u001b[33mcid\u001b[0m=\u001b[32m'3be...'\u001b[0m, \u001b[33mhid\u001b[0m=\u001b[32m'e60...'\u001b[0m\u001b[1m)\u001b[0m\u001b[1m}\u001b[0m\n",
       "\u001b[1m}\u001b[0m\n"
      ]
     },
     "metadata": {},
     "output_type": "display_data"
    }
   ],
   "source": [
    "pprint({vname: storage.unwrap(refs) \n",
    " for vname, refs in cf.refs_by_var().items()\n",
    " if vname not in ['X_train', 'X_test', 'y_train', 'y_test'] # to save space\n",
    " })\n",
    "\n",
    "pprint(cf.calls_by_func())"
   ]
  },
  {
   "cell_type": "markdown",
   "metadata": {},
   "source": [
    "### From all calls to an `@op`\n",
    "Another way to create a CF is to initialize is with all calls to a given `@op`:"
   ]
  },
  {
   "cell_type": "code",
   "execution_count": 7,
   "metadata": {
    "execution": {
     "iopub.execute_input": "2024-07-03T11:41:18.836863Z",
     "iopub.status.busy": "2024-07-03T11:41:18.836618Z",
     "iopub.status.idle": "2024-07-03T11:41:18.959841Z",
     "shell.execute_reply": "2024-07-03T11:41:18.959118Z"
    }
   },
   "outputs": [
    {
     "data": {
      "text/html": [
       "<pre style=\"white-space:pre;overflow-x:auto;line-height:normal;font-family:Menlo,'DejaVu Sans Mono',consolas,'Courier New',monospace\">ComputationFrame with:\n",
       "    <span style=\"color: #008080; text-decoration-color: #008080; font-weight: bold\">5</span> <span style=\"color: #800080; text-decoration-color: #800080; font-weight: bold\">variable</span><span style=\"font-weight: bold\">(</span>s<span style=\"font-weight: bold\">)</span> <span style=\"font-weight: bold\">(</span><span style=\"color: #008080; text-decoration-color: #008080; font-weight: bold\">14</span> unique refs<span style=\"font-weight: bold\">)</span>\n",
       "    <span style=\"color: #008080; text-decoration-color: #008080; font-weight: bold\">1</span> <span style=\"color: #800080; text-decoration-color: #800080; font-weight: bold\">operation</span><span style=\"font-weight: bold\">(</span>s<span style=\"font-weight: bold\">)</span> <span style=\"font-weight: bold\">(</span><span style=\"color: #008080; text-decoration-color: #008080; font-weight: bold\">4</span> unique calls<span style=\"font-weight: bold\">)</span>\n",
       "Computational graph:\n",
       "    output_0@output_0, output_1@output_1 = <span style=\"color: #800080; text-decoration-color: #800080; font-weight: bold\">train_model</span><span style=\"font-weight: bold\">(</span><span style=\"color: #808000; text-decoration-color: #808000\">y_train</span>=<span style=\"color: #800080; text-decoration-color: #800080\">y_train</span>, <span style=\"color: #808000; text-decoration-color: #808000\">n_estimators</span>=<span style=\"color: #800080; text-decoration-color: #800080\">n_estimators</span>, <span style=\"color: #808000; text-decoration-color: #808000\">X_train</span>=<span style=\"color: #800080; text-decoration-color: #800080\">X_train</span><span style=\"font-weight: bold\">)</span>\n",
       "</pre>\n"
      ],
      "text/plain": [
       "ComputationFrame with:\n",
       "    \u001b[1;36m5\u001b[0m \u001b[1;35mvariable\u001b[0m\u001b[1m(\u001b[0ms\u001b[1m)\u001b[0m \u001b[1m(\u001b[0m\u001b[1;36m14\u001b[0m unique refs\u001b[1m)\u001b[0m\n",
       "    \u001b[1;36m1\u001b[0m \u001b[1;35moperation\u001b[0m\u001b[1m(\u001b[0ms\u001b[1m)\u001b[0m \u001b[1m(\u001b[0m\u001b[1;36m4\u001b[0m unique calls\u001b[1m)\u001b[0m\n",
       "Computational graph:\n",
       "    output_0@output_0, output_1@output_1 = \u001b[1;35mtrain_model\u001b[0m\u001b[1m(\u001b[0m\u001b[33my_train\u001b[0m=\u001b[35my_train\u001b[0m, \u001b[33mn_estimators\u001b[0m=\u001b[35mn_estimators\u001b[0m, \u001b[33mX_train\u001b[0m=\u001b[35mX_train\u001b[0m\u001b[1m)\u001b[0m\n"
      ]
     },
     "metadata": {},
     "output_type": "display_data"
    },
    {
     "data": {
      "image/svg+xml": [
       "<?xml version=\"1.0\" encoding=\"UTF-8\" standalone=\"no\"?>\n",
       "<!DOCTYPE svg PUBLIC \"-//W3C//DTD SVG 1.1//EN\"\n",
       " \"http://www.w3.org/Graphics/SVG/1.1/DTD/svg11.dtd\">\n",
       "<!-- Generated by graphviz version 2.50.0 (0)\n",
       " -->\n",
       "<!-- Title: G Pages: 1 -->\n",
       "<svg width=\"362pt\" height=\"236pt\"\n",
       " viewBox=\"0.00 0.00 362.00 236.00\" xmlns=\"http://www.w3.org/2000/svg\" xmlns:xlink=\"http://www.w3.org/1999/xlink\">\n",
       "<g id=\"graph0\" class=\"graph\" transform=\"scale(1 1) rotate(0) translate(4 232)\">\n",
       "<title>G</title>\n",
       "<polygon fill=\"white\" stroke=\"transparent\" points=\"-4,4 -4,-232 358,-232 358,4 -4,4\"/>\n",
       "<!-- X_train -->\n",
       "<g id=\"node1\" class=\"node\">\n",
       "<title>X_train</title>\n",
       "<path fill=\"none\" stroke=\"#268bd2\" d=\"M94,-228C94,-228 12,-228 12,-228 6,-228 0,-222 0,-216 0,-216 0,-204 0,-204 0,-198 6,-192 12,-192 12,-192 94,-192 94,-192 100,-192 106,-198 106,-204 106,-204 106,-216 106,-216 106,-222 100,-228 94,-228\"/>\n",
       "<text text-anchor=\"start\" x=\"31\" y=\"-212.4\" font-family=\"RobotoMono\" font-weight=\"bold\" font-size=\"12.00\" fill=\"#002b36\">X_train</text>\n",
       "<text text-anchor=\"start\" x=\"8\" y=\"-202\" font-family=\"RobotoMono\" font-size=\"10.00\" fill=\"#268bd2\">1 values (1 sources)</text>\n",
       "</g>\n",
       "<!-- train_model -->\n",
       "<g id=\"node6\" class=\"node\">\n",
       "<title>train_model</title>\n",
       "<path fill=\"none\" stroke=\"#dc322f\" d=\"M212.5,-134C212.5,-134 141.5,-134 141.5,-134 135.5,-134 129.5,-128 129.5,-122 129.5,-122 129.5,-106 129.5,-106 129.5,-100 135.5,-94 141.5,-94 141.5,-94 212.5,-94 212.5,-94 218.5,-94 224.5,-100 224.5,-106 224.5,-106 224.5,-122 224.5,-122 224.5,-128 218.5,-134 212.5,-134\"/>\n",
       "<text text-anchor=\"start\" x=\"140.5\" y=\"-121.4\" font-family=\"RobotoMono\" font-weight=\"bold\" font-size=\"12.00\" fill=\"#002b36\">train_model</text>\n",
       "<text text-anchor=\"start\" x=\"137.5\" y=\"-111\" font-family=\"RobotoMono\" font-size=\"10.00\" fill=\"#002b36\">@op:train_model</text>\n",
       "<text text-anchor=\"start\" x=\"163\" y=\"-101\" font-family=\"RobotoMono\" font-size=\"10.00\" fill=\"#dc322f\">4 calls</text>\n",
       "</g>\n",
       "<!-- X_train&#45;&gt;train_model -->\n",
       "<g id=\"edge5\" class=\"edge\">\n",
       "<title>X_train&#45;&gt;train_model</title>\n",
       "<path fill=\"none\" stroke=\"#002b36\" d=\"M75.46,-191.98C94.43,-177.59 121.89,-156.78 143.47,-140.42\"/>\n",
       "<polygon fill=\"#002b36\" stroke=\"#002b36\" points=\"145.87,-142.99 151.72,-134.16 141.64,-137.41 145.87,-142.99\"/>\n",
       "<text text-anchor=\"middle\" x=\"149\" y=\"-166\" font-family=\"RobotoMono\" font-size=\"10.00\" fill=\"#002b36\">X_train</text>\n",
       "<text text-anchor=\"middle\" x=\"149\" y=\"-155\" font-family=\"RobotoMono\" font-size=\"10.00\" fill=\"#002b36\">(1 values)</text>\n",
       "</g>\n",
       "<!-- output_0 -->\n",
       "<g id=\"node2\" class=\"node\">\n",
       "<title>output_0</title>\n",
       "<path fill=\"none\" stroke=\"#268bd2\" d=\"M156.5,-36C156.5,-36 87.5,-36 87.5,-36 81.5,-36 75.5,-30 75.5,-24 75.5,-24 75.5,-12 75.5,-12 75.5,-6 81.5,0 87.5,0 87.5,0 156.5,0 156.5,0 162.5,0 168.5,-6 168.5,-12 168.5,-12 168.5,-24 168.5,-24 168.5,-30 162.5,-36 156.5,-36\"/>\n",
       "<text text-anchor=\"start\" x=\"94.5\" y=\"-20.4\" font-family=\"RobotoMono\" font-weight=\"bold\" font-size=\"12.00\" fill=\"#002b36\">output_0</text>\n",
       "<text text-anchor=\"start\" x=\"83.5\" y=\"-10\" font-family=\"RobotoMono\" font-size=\"10.00\" fill=\"#268bd2\">4 values (4 sinks)</text>\n",
       "</g>\n",
       "<!-- y_train -->\n",
       "<g id=\"node3\" class=\"node\">\n",
       "<title>y_train</title>\n",
       "<path fill=\"none\" stroke=\"#268bd2\" d=\"M218,-228C218,-228 136,-228 136,-228 130,-228 124,-222 124,-216 124,-216 124,-204 124,-204 124,-198 130,-192 136,-192 136,-192 218,-192 218,-192 224,-192 230,-198 230,-204 230,-204 230,-216 230,-216 230,-222 224,-228 218,-228\"/>\n",
       "<text text-anchor=\"start\" x=\"155.5\" y=\"-212.4\" font-family=\"RobotoMono\" font-weight=\"bold\" font-size=\"12.00\" fill=\"#002b36\">y_train</text>\n",
       "<text text-anchor=\"start\" x=\"132\" y=\"-202\" font-family=\"RobotoMono\" font-size=\"10.00\" fill=\"#268bd2\">1 values (1 sources)</text>\n",
       "</g>\n",
       "<!-- y_train&#45;&gt;train_model -->\n",
       "<g id=\"edge3\" class=\"edge\">\n",
       "<title>y_train&#45;&gt;train_model</title>\n",
       "<path fill=\"none\" stroke=\"#002b36\" d=\"M177,-191.76C177,-178.5 177,-159.86 177,-144.27\"/>\n",
       "<polygon fill=\"#002b36\" stroke=\"#002b36\" points=\"180.5,-144.07 177,-134.07 173.5,-144.07 180.5,-144.07\"/>\n",
       "<text text-anchor=\"middle\" x=\"199\" y=\"-166\" font-family=\"RobotoMono\" font-size=\"10.00\" fill=\"#002b36\">y_train</text>\n",
       "<text text-anchor=\"middle\" x=\"199\" y=\"-155\" font-family=\"RobotoMono\" font-size=\"10.00\" fill=\"#002b36\">(1 values)</text>\n",
       "</g>\n",
       "<!-- n_estimators -->\n",
       "<g id=\"node4\" class=\"node\">\n",
       "<title>n_estimators</title>\n",
       "<path fill=\"none\" stroke=\"#268bd2\" d=\"M342,-228C342,-228 260,-228 260,-228 254,-228 248,-222 248,-216 248,-216 248,-204 248,-204 248,-198 254,-192 260,-192 260,-192 342,-192 342,-192 348,-192 354,-198 354,-204 354,-204 354,-216 354,-216 354,-222 348,-228 342,-228\"/>\n",
       "<text text-anchor=\"start\" x=\"261.5\" y=\"-212.4\" font-family=\"RobotoMono\" font-weight=\"bold\" font-size=\"12.00\" fill=\"#002b36\">n_estimators</text>\n",
       "<text text-anchor=\"start\" x=\"256\" y=\"-202\" font-family=\"RobotoMono\" font-size=\"10.00\" fill=\"#268bd2\">4 values (4 sources)</text>\n",
       "</g>\n",
       "<!-- n_estimators&#45;&gt;train_model -->\n",
       "<g id=\"edge4\" class=\"edge\">\n",
       "<title>n_estimators&#45;&gt;train_model</title>\n",
       "<path fill=\"none\" stroke=\"#002b36\" d=\"M278.54,-191.98C259.57,-177.59 232.11,-156.78 210.53,-140.42\"/>\n",
       "<polygon fill=\"#002b36\" stroke=\"#002b36\" points=\"212.36,-137.41 202.28,-134.16 208.13,-142.99 212.36,-137.41\"/>\n",
       "<text text-anchor=\"middle\" x=\"283.5\" y=\"-166\" font-family=\"RobotoMono\" font-size=\"10.00\" fill=\"#002b36\">n_estimators</text>\n",
       "<text text-anchor=\"middle\" x=\"283.5\" y=\"-155\" font-family=\"RobotoMono\" font-size=\"10.00\" fill=\"#002b36\">(4 values)</text>\n",
       "</g>\n",
       "<!-- output_1 -->\n",
       "<g id=\"node5\" class=\"node\">\n",
       "<title>output_1</title>\n",
       "<path fill=\"none\" stroke=\"#268bd2\" d=\"M267.5,-36C267.5,-36 198.5,-36 198.5,-36 192.5,-36 186.5,-30 186.5,-24 186.5,-24 186.5,-12 186.5,-12 186.5,-6 192.5,0 198.5,0 198.5,0 267.5,0 267.5,0 273.5,0 279.5,-6 279.5,-12 279.5,-12 279.5,-24 279.5,-24 279.5,-30 273.5,-36 267.5,-36\"/>\n",
       "<text text-anchor=\"start\" x=\"205.5\" y=\"-20.4\" font-family=\"RobotoMono\" font-weight=\"bold\" font-size=\"12.00\" fill=\"#002b36\">output_1</text>\n",
       "<text text-anchor=\"start\" x=\"194.5\" y=\"-10\" font-family=\"RobotoMono\" font-size=\"10.00\" fill=\"#268bd2\">4 values (4 sinks)</text>\n",
       "</g>\n",
       "<!-- train_model&#45;&gt;output_0 -->\n",
       "<g id=\"edge2\" class=\"edge\">\n",
       "<title>train_model&#45;&gt;output_0</title>\n",
       "<path fill=\"none\" stroke=\"#002b36\" d=\"M165.87,-93.98C157.58,-79.81 146.17,-60.3 137.06,-44.74\"/>\n",
       "<polygon fill=\"#002b36\" stroke=\"#002b36\" points=\"140.08,-42.96 132,-36.1 134.03,-46.5 140.08,-42.96\"/>\n",
       "<text text-anchor=\"middle\" x=\"177\" y=\"-68\" font-family=\"RobotoMono\" font-size=\"10.00\" fill=\"#002b36\">output_0</text>\n",
       "<text text-anchor=\"middle\" x=\"177\" y=\"-57\" font-family=\"RobotoMono\" font-size=\"10.00\" fill=\"#002b36\">(4 values)</text>\n",
       "</g>\n",
       "<!-- train_model&#45;&gt;output_1 -->\n",
       "<g id=\"edge1\" class=\"edge\">\n",
       "<title>train_model&#45;&gt;output_1</title>\n",
       "<path fill=\"none\" stroke=\"#002b36\" d=\"M191.24,-93.73C195.2,-88.11 199.4,-81.9 203,-76 208.95,-66.27 214.92,-55.24 219.95,-45.5\"/>\n",
       "<polygon fill=\"#002b36\" stroke=\"#002b36\" points=\"223.22,-46.78 224.63,-36.28 216.98,-43.61 223.22,-46.78\"/>\n",
       "<text text-anchor=\"middle\" x=\"237\" y=\"-68\" font-family=\"RobotoMono\" font-size=\"10.00\" fill=\"#002b36\">output_1</text>\n",
       "<text text-anchor=\"middle\" x=\"237\" y=\"-57\" font-family=\"RobotoMono\" font-size=\"10.00\" fill=\"#002b36\">(4 values)</text>\n",
       "</g>\n",
       "</g>\n",
       "</svg>\n"
      ],
      "text/plain": [
       "<graphviz.sources.Source at 0x71afb245b310>"
      ]
     },
     "metadata": {},
     "output_type": "display_data"
    }
   ],
   "source": [
    "cf = storage.cf(train_model)\n",
    "pprint(cf)\n",
    "cf.draw(verbose=True)"
   ]
  },
  {
   "cell_type": "markdown",
   "metadata": {},
   "source": [
    "You can extract a dataframe from any CF (explained more later); in particular,\n",
    "the dataframe for the CF of a single `@op` will be the memoization table for\n",
    "this `@op`:"
   ]
  },
  {
   "cell_type": "code",
   "execution_count": 8,
   "metadata": {
    "execution": {
     "iopub.execute_input": "2024-07-03T11:41:18.962895Z",
     "iopub.status.busy": "2024-07-03T11:41:18.962153Z",
     "iopub.status.idle": "2024-07-03T11:41:19.002893Z",
     "shell.execute_reply": "2024-07-03T11:41:19.002287Z"
    }
   },
   "outputs": [
    {
     "name": "stdout",
     "output_type": "stream",
     "text": [
      "Extracting tuples from the computation graph:\n",
      "    output_0@output_0, output_1@output_1 = train_model(n_estimators=n_estimators, y_train=y_train, X_train=X_train)\n",
      "|    | y_train                                              | X_train                                              | n_estimators                                         | train_model                                   | output_0                                             | output_1                                             |\n",
      "|---:|:-----------------------------------------------------|:-----------------------------------------------------|:-----------------------------------------------------|:----------------------------------------------|:-----------------------------------------------------|:-----------------------------------------------------|\n",
      "|  0 | AtomRef(hid='faf...', cid='83f...', in_memory=False) | AtomRef(hid='efa...', cid='a6d...', in_memory=False) | AtomRef(hid='120...', cid='9bc...', in_memory=False) | Call(train_model, cid='3be...', hid='e60...') | AtomRef(hid='522...', cid='d5a...', in_memory=False) | AtomRef(hid='646...', cid='acb...', in_memory=False) |\n",
      "|  1 | AtomRef(hid='faf...', cid='83f...', in_memory=False) | AtomRef(hid='efa...', cid='a6d...', in_memory=False) | AtomRef(hid='9fd...', cid='4ac...', in_memory=False) | Call(train_model, cid='5af...', hid='514...') | AtomRef(hid='331...', cid='e64...', in_memory=False) | AtomRef(hid='784...', cid='238...', in_memory=False) |\n",
      "|  2 | AtomRef(hid='faf...', cid='83f...', in_memory=False) | AtomRef(hid='efa...', cid='a6d...', in_memory=False) | AtomRef(hid='235...', cid='c04...', in_memory=False) | Call(train_model, cid='204...', hid='c55...') | AtomRef(hid='208...', cid='c75...', in_memory=False) | AtomRef(hid='5b7...', cid='f0a...', in_memory=False) |\n",
      "|  3 | AtomRef(hid='faf...', cid='83f...', in_memory=False) | AtomRef(hid='efa...', cid='a6d...', in_memory=False) | AtomRef(hid='98c...', cid='29d...', in_memory=False) | Call(train_model, cid='c4f...', hid='5f7...') | AtomRef(hid='b25...', cid='462...', in_memory=False) | AtomRef(hid='760...', cid='46b...', in_memory=False) |\n"
     ]
    }
   ],
   "source": [
    "print(cf.df(values='refs').to_markdown())"
   ]
  },
  {
   "cell_type": "markdown",
   "metadata": {},
   "source": [
    "## "
   ]
  },
  {
   "cell_type": "markdown",
   "metadata": {},
   "source": [
    "### From groups of `Ref`s to use as variables\n",
    "You can also manually initialize variables of the CF by passing a dict where\n",
    "values are `Ref` iterables:"
   ]
  },
  {
   "cell_type": "code",
   "execution_count": 9,
   "metadata": {
    "execution": {
     "iopub.execute_input": "2024-07-03T11:41:19.005588Z",
     "iopub.status.busy": "2024-07-03T11:41:19.005347Z",
     "iopub.status.idle": "2024-07-03T11:41:19.066427Z",
     "shell.execute_reply": "2024-07-03T11:41:19.065736Z"
    }
   },
   "outputs": [],
   "source": [
    "with storage: \n",
    "    models, test_accs = [], []\n",
    "    X_train, X_test, y_train, y_test = generate_dataset()\n",
    "    for n_estimators in [10, 20, 40, 80]:\n",
    "        model, train_acc = train_model(X_train, y_train, n_estimators=n_estimators)\n",
    "        models.append(model)\n",
    "        if storage.unwrap(train_acc) > 0.8: # conditional execution\n",
    "            test_acc = eval_model(model, X_test, y_test)\n",
    "            test_accs.append(test_acc)"
   ]
  },
  {
   "cell_type": "code",
   "execution_count": 10,
   "metadata": {
    "execution": {
     "iopub.execute_input": "2024-07-03T11:41:19.069999Z",
     "iopub.status.busy": "2024-07-03T11:41:19.069167Z",
     "iopub.status.idle": "2024-07-03T11:41:19.164711Z",
     "shell.execute_reply": "2024-07-03T11:41:19.162945Z"
    }
   },
   "outputs": [
    {
     "data": {
      "text/html": [
       "<pre style=\"white-space:pre;overflow-x:auto;line-height:normal;font-family:Menlo,'DejaVu Sans Mono',consolas,'Courier New',monospace\">ComputationFrame with:\n",
       "    <span style=\"color: #008080; text-decoration-color: #008080; font-weight: bold\">2</span> <span style=\"color: #800080; text-decoration-color: #800080; font-weight: bold\">variable</span><span style=\"font-weight: bold\">(</span>s<span style=\"font-weight: bold\">)</span> <span style=\"font-weight: bold\">(</span><span style=\"color: #008080; text-decoration-color: #008080; font-weight: bold\">6</span> unique refs<span style=\"font-weight: bold\">)</span>\n",
       "    <span style=\"color: #008080; text-decoration-color: #008080; font-weight: bold\">0</span> <span style=\"color: #800080; text-decoration-color: #800080; font-weight: bold\">operation</span><span style=\"font-weight: bold\">(</span>s<span style=\"font-weight: bold\">)</span> <span style=\"font-weight: bold\">(</span><span style=\"color: #008080; text-decoration-color: #008080; font-weight: bold\">0</span> unique calls<span style=\"font-weight: bold\">)</span>\n",
       "Computational graph:\n",
       "    model, test_acc\n",
       "</pre>\n"
      ],
      "text/plain": [
       "ComputationFrame with:\n",
       "    \u001b[1;36m2\u001b[0m \u001b[1;35mvariable\u001b[0m\u001b[1m(\u001b[0ms\u001b[1m)\u001b[0m \u001b[1m(\u001b[0m\u001b[1;36m6\u001b[0m unique refs\u001b[1m)\u001b[0m\n",
       "    \u001b[1;36m0\u001b[0m \u001b[1;35moperation\u001b[0m\u001b[1m(\u001b[0ms\u001b[1m)\u001b[0m \u001b[1m(\u001b[0m\u001b[1;36m0\u001b[0m unique calls\u001b[1m)\u001b[0m\n",
       "Computational graph:\n",
       "    model, test_acc\n"
      ]
     },
     "metadata": {},
     "output_type": "display_data"
    },
    {
     "data": {
      "image/svg+xml": [
       "<?xml version=\"1.0\" encoding=\"UTF-8\" standalone=\"no\"?>\n",
       "<!DOCTYPE svg PUBLIC \"-//W3C//DTD SVG 1.1//EN\"\n",
       " \"http://www.w3.org/Graphics/SVG/1.1/DTD/svg11.dtd\">\n",
       "<!-- Generated by graphviz version 2.50.0 (0)\n",
       " -->\n",
       "<!-- Title: G Pages: 1 -->\n",
       "<svg width=\"306pt\" height=\"44pt\"\n",
       " viewBox=\"0.00 0.00 306.00 44.00\" xmlns=\"http://www.w3.org/2000/svg\" xmlns:xlink=\"http://www.w3.org/1999/xlink\">\n",
       "<g id=\"graph0\" class=\"graph\" transform=\"scale(1 1) rotate(0) translate(4 40)\">\n",
       "<title>G</title>\n",
       "<polygon fill=\"white\" stroke=\"transparent\" points=\"-4,4 -4,-40 302,-40 302,4 -4,4\"/>\n",
       "<!-- test_acc -->\n",
       "<g id=\"node1\" class=\"node\">\n",
       "<title>test_acc</title>\n",
       "<path fill=\"none\" stroke=\"#268bd2\" d=\"M128,-36C128,-36 12,-36 12,-36 6,-36 0,-30 0,-24 0,-24 0,-12 0,-12 0,-6 6,0 12,0 12,0 128,0 128,0 134,0 140,-6 140,-12 140,-12 140,-24 140,-24 140,-30 134,-36 128,-36\"/>\n",
       "<text text-anchor=\"start\" x=\"45.5\" y=\"-20.4\" font-family=\"RobotoMono\" font-weight=\"bold\" font-size=\"12.00\" fill=\"#002b36\">test_acc</text>\n",
       "<text text-anchor=\"start\" x=\"8\" y=\"-10\" font-family=\"RobotoMono\" font-size=\"10.00\" fill=\"#268bd2\">2 values (2 sources/2 sinks)</text>\n",
       "</g>\n",
       "<!-- model -->\n",
       "<g id=\"node2\" class=\"node\">\n",
       "<title>model</title>\n",
       "<path fill=\"none\" stroke=\"#268bd2\" d=\"M286,-36C286,-36 170,-36 170,-36 164,-36 158,-30 158,-24 158,-24 158,-12 158,-12 158,-6 164,0 170,0 170,0 286,0 286,0 292,0 298,-6 298,-12 298,-12 298,-24 298,-24 298,-30 292,-36 286,-36\"/>\n",
       "<text text-anchor=\"start\" x=\"209\" y=\"-20.4\" font-family=\"RobotoMono\" font-weight=\"bold\" font-size=\"12.00\" fill=\"#002b36\">model</text>\n",
       "<text text-anchor=\"start\" x=\"166\" y=\"-10\" font-family=\"RobotoMono\" font-size=\"10.00\" fill=\"#268bd2\">4 values (4 sources/4 sinks)</text>\n",
       "</g>\n",
       "</g>\n",
       "</svg>\n"
      ],
      "text/plain": [
       "<graphviz.sources.Source at 0x71aed143a560>"
      ]
     },
     "metadata": {},
     "output_type": "display_data"
    }
   ],
   "source": [
    "cf = storage.cf({'model': models, 'test_acc': test_accs})\n",
    "pprint(cf)\n",
    "cf.draw(verbose=True)"
   ]
  },
  {
   "cell_type": "markdown",
   "metadata": {},
   "source": [
    "Again, this is not interesting unless you `expand` back and/or forward. We can \n",
    "illustrate by expanding only the `model` variable forward:"
   ]
  },
  {
   "cell_type": "code",
   "execution_count": 11,
   "metadata": {
    "execution": {
     "iopub.execute_input": "2024-07-03T11:41:19.171116Z",
     "iopub.status.busy": "2024-07-03T11:41:19.170593Z",
     "iopub.status.idle": "2024-07-03T11:41:19.298979Z",
     "shell.execute_reply": "2024-07-03T11:41:19.298300Z"
    }
   },
   "outputs": [
    {
     "data": {
      "image/svg+xml": [
       "<?xml version=\"1.0\" encoding=\"UTF-8\" standalone=\"no\"?>\n",
       "<!DOCTYPE svg PUBLIC \"-//W3C//DTD SVG 1.1//EN\"\n",
       " \"http://www.w3.org/Graphics/SVG/1.1/DTD/svg11.dtd\">\n",
       "<!-- Generated by graphviz version 2.50.0 (0)\n",
       " -->\n",
       "<!-- Title: G Pages: 1 -->\n",
       "<svg width=\"148pt\" height=\"236pt\"\n",
       " viewBox=\"0.00 0.00 148.00 236.00\" xmlns=\"http://www.w3.org/2000/svg\" xmlns:xlink=\"http://www.w3.org/1999/xlink\">\n",
       "<g id=\"graph0\" class=\"graph\" transform=\"scale(1 1) rotate(0) translate(4 232)\">\n",
       "<title>G</title>\n",
       "<polygon fill=\"white\" stroke=\"transparent\" points=\"-4,4 -4,-232 144,-232 144,4 -4,4\"/>\n",
       "<!-- test_acc -->\n",
       "<g id=\"node1\" class=\"node\">\n",
       "<title>test_acc</title>\n",
       "<path fill=\"none\" stroke=\"#268bd2\" d=\"M104.5,-36C104.5,-36 35.5,-36 35.5,-36 29.5,-36 23.5,-30 23.5,-24 23.5,-24 23.5,-12 23.5,-12 23.5,-6 29.5,0 35.5,0 35.5,0 104.5,0 104.5,0 110.5,0 116.5,-6 116.5,-12 116.5,-12 116.5,-24 116.5,-24 116.5,-30 110.5,-36 104.5,-36\"/>\n",
       "<text text-anchor=\"start\" x=\"45.5\" y=\"-20.4\" font-family=\"RobotoMono\" font-weight=\"bold\" font-size=\"12.00\" fill=\"#002b36\">test_acc</text>\n",
       "<text text-anchor=\"start\" x=\"31.5\" y=\"-10\" font-family=\"RobotoMono\" font-size=\"10.00\" fill=\"#268bd2\">2 values (2 sinks)</text>\n",
       "</g>\n",
       "<!-- model -->\n",
       "<g id=\"node2\" class=\"node\">\n",
       "<title>model</title>\n",
       "<path fill=\"none\" stroke=\"#268bd2\" d=\"M128,-228C128,-228 12,-228 12,-228 6,-228 0,-222 0,-216 0,-216 0,-204 0,-204 0,-198 6,-192 12,-192 12,-192 128,-192 128,-192 134,-192 140,-198 140,-204 140,-204 140,-216 140,-216 140,-222 134,-228 128,-228\"/>\n",
       "<text text-anchor=\"start\" x=\"51\" y=\"-212.4\" font-family=\"RobotoMono\" font-weight=\"bold\" font-size=\"12.00\" fill=\"#002b36\">model</text>\n",
       "<text text-anchor=\"start\" x=\"8\" y=\"-202\" font-family=\"RobotoMono\" font-size=\"10.00\" fill=\"#268bd2\">4 values (4 sources/2 sinks)</text>\n",
       "</g>\n",
       "<!-- eval_model -->\n",
       "<g id=\"node3\" class=\"node\">\n",
       "<title>eval_model</title>\n",
       "<path fill=\"none\" stroke=\"#dc322f\" d=\"M104,-134C104,-134 36,-134 36,-134 30,-134 24,-128 24,-122 24,-122 24,-106 24,-106 24,-100 30,-94 36,-94 36,-94 104,-94 104,-94 110,-94 116,-100 116,-106 116,-106 116,-122 116,-122 116,-128 110,-134 104,-134\"/>\n",
       "<text text-anchor=\"start\" x=\"36\" y=\"-121.4\" font-family=\"RobotoMono\" font-weight=\"bold\" font-size=\"12.00\" fill=\"#002b36\">eval_model</text>\n",
       "<text text-anchor=\"start\" x=\"32\" y=\"-111\" font-family=\"RobotoMono\" font-size=\"10.00\" fill=\"#002b36\">@op:eval_model</text>\n",
       "<text text-anchor=\"start\" x=\"56\" y=\"-101\" font-family=\"RobotoMono\" font-size=\"10.00\" fill=\"#dc322f\">2 calls</text>\n",
       "</g>\n",
       "<!-- model&#45;&gt;eval_model -->\n",
       "<g id=\"edge1\" class=\"edge\">\n",
       "<title>model&#45;&gt;eval_model</title>\n",
       "<path fill=\"none\" stroke=\"#002b36\" d=\"M70,-191.76C70,-178.5 70,-159.86 70,-144.27\"/>\n",
       "<polygon fill=\"#002b36\" stroke=\"#002b36\" points=\"73.5,-144.07 70,-134.07 66.5,-144.07 73.5,-144.07\"/>\n",
       "<text text-anchor=\"middle\" x=\"92\" y=\"-166\" font-family=\"RobotoMono\" font-size=\"10.00\" fill=\"#002b36\">model</text>\n",
       "<text text-anchor=\"middle\" x=\"92\" y=\"-155\" font-family=\"RobotoMono\" font-size=\"10.00\" fill=\"#002b36\">(2 values)</text>\n",
       "</g>\n",
       "<!-- eval_model&#45;&gt;test_acc -->\n",
       "<g id=\"edge2\" class=\"edge\">\n",
       "<title>eval_model&#45;&gt;test_acc</title>\n",
       "<path fill=\"none\" stroke=\"#002b36\" d=\"M70,-93.98C70,-80.34 70,-61.75 70,-46.5\"/>\n",
       "<polygon fill=\"#002b36\" stroke=\"#002b36\" points=\"73.5,-46.1 70,-36.1 66.5,-46.1 73.5,-46.1\"/>\n",
       "<text text-anchor=\"middle\" x=\"92\" y=\"-68\" font-family=\"RobotoMono\" font-size=\"10.00\" fill=\"#002b36\">output_0</text>\n",
       "<text text-anchor=\"middle\" x=\"92\" y=\"-57\" font-family=\"RobotoMono\" font-size=\"10.00\" fill=\"#002b36\">(2 values)</text>\n",
       "</g>\n",
       "</g>\n",
       "</svg>\n"
      ],
      "text/plain": [
       "<graphviz.sources.Source at 0x71aed1439e10>"
      ]
     },
     "metadata": {},
     "output_type": "display_data"
    }
   ],
   "source": [
    "cf.expand_forward(varnames=['model'], inplace=True)\n",
    "cf.draw(verbose=True)"
   ]
  },
  {
   "cell_type": "markdown",
   "metadata": {},
   "source": [
    "The expansion algorithm figures out that the calls to `eval_model` we add\n",
    "should connect to the `test_acc` variable."
   ]
  },
  {
   "cell_type": "markdown",
   "metadata": {},
   "source": [
    "### From any collection of calls\n",
    "TODO"
   ]
  },
  {
   "cell_type": "markdown",
   "metadata": {},
   "source": [
    "## Exploring storage by expanding `ComputationFrame`s \n",
    "Once a CF is created, you can add computational context to it by calling one of\n",
    "a few methods:"
   ]
  },
  {
   "cell_type": "code",
   "execution_count": 12,
   "metadata": {
    "execution": {
     "iopub.execute_input": "2024-07-03T11:41:19.301871Z",
     "iopub.status.busy": "2024-07-03T11:41:19.301618Z",
     "iopub.status.idle": "2024-07-03T11:41:19.342340Z",
     "shell.execute_reply": "2024-07-03T11:41:19.341306Z"
    }
   },
   "outputs": [
    {
     "data": {
      "text/html": [
       "<pre style=\"white-space:pre;overflow-x:auto;line-height:normal;font-family:Menlo,'DejaVu Sans Mono',consolas,'Courier New',monospace\">Docstring for `expand_back`:\n",
       "</pre>\n"
      ],
      "text/plain": [
       "Docstring for `expand_back`:\n"
      ]
     },
     "metadata": {},
     "output_type": "display_data"
    },
    {
     "data": {
      "text/html": [
       "<pre style=\"white-space:pre;overflow-x:auto;line-height:normal;font-family:Menlo,'DejaVu Sans Mono',consolas,'Courier New',monospace\">\n",
       "        Join to the CF the calls that created all refs in the given variables\n",
       "        that currently do not have a connected creator call in the CF.\n",
       "\n",
       "        If such refs are found, this will result to the addition of \n",
       "        - new function nodes for the calls that created these refs;\n",
       "        - new variable nodes for the *inputs* of these calls.\n",
       "\n",
       "        The number of these nodes and how they connect to the CF will depend on\n",
       "        the structure of the calls that created the refs. \n",
       "\n",
       "        Arguments:\n",
       "        - `varnames`: the names of the variables to expand; if <span style=\"color: #800080; text-decoration-color: #800080; font-style: italic\">None</span>, expand all\n",
       "        the `Ref`s that don't have a creator call in any function node of the CF\n",
       "        that is connected to the `Ref`'s variable node as an output.\n",
       "        - `recursive`: if <span style=\"color: #00ff00; text-decoration-color: #00ff00; font-style: italic\">True</span>, keep expanding until a fixed point is reached\n",
       "        \n",
       "</pre>\n"
      ],
      "text/plain": [
       "\n",
       "        Join to the CF the calls that created all refs in the given variables\n",
       "        that currently do not have a connected creator call in the CF.\n",
       "\n",
       "        If such refs are found, this will result to the addition of \n",
       "        - new function nodes for the calls that created these refs;\n",
       "        - new variable nodes for the *inputs* of these calls.\n",
       "\n",
       "        The number of these nodes and how they connect to the CF will depend on\n",
       "        the structure of the calls that created the refs. \n",
       "\n",
       "        Arguments:\n",
       "        - `varnames`: the names of the variables to expand; if \u001b[3;35mNone\u001b[0m, expand all\n",
       "        the `Ref`s that don't have a creator call in any function node of the CF\n",
       "        that is connected to the `Ref`'s variable node as an output.\n",
       "        - `recursive`: if \u001b[3;92mTrue\u001b[0m, keep expanding until a fixed point is reached\n",
       "        \n"
      ]
     },
     "metadata": {},
     "output_type": "display_data"
    },
    {
     "data": {
      "text/html": [
       "<pre style=\"white-space:pre;overflow-x:auto;line-height:normal;font-family:Menlo,'DejaVu Sans Mono',consolas,'Courier New',monospace\">Docstring for `expand_forward`:\n",
       "</pre>\n"
      ],
      "text/plain": [
       "Docstring for `expand_forward`:\n"
      ]
     },
     "metadata": {},
     "output_type": "display_data"
    },
    {
     "data": {
      "text/html": [
       "<pre style=\"white-space:pre;overflow-x:auto;line-height:normal;font-family:Menlo,'DejaVu Sans Mono',consolas,'Courier New',monospace\">\n",
       "        Join the calls that consume the given variables; see `expand_back` <span style=\"font-weight: bold\">(</span>the \n",
       "        dual operation<span style=\"font-weight: bold\">)</span> for more details.\n",
       "        \n",
       "</pre>\n"
      ],
      "text/plain": [
       "\n",
       "        Join the calls that consume the given variables; see `expand_back` \u001b[1m(\u001b[0mthe \n",
       "        dual operation\u001b[1m)\u001b[0m for more details.\n",
       "        \n"
      ]
     },
     "metadata": {},
     "output_type": "display_data"
    },
    {
     "data": {
      "text/html": [
       "<pre style=\"white-space:pre;overflow-x:auto;line-height:normal;font-family:Menlo,'DejaVu Sans Mono',consolas,'Courier New',monospace\">Docstring for `expand_all`:\n",
       "</pre>\n"
      ],
      "text/plain": [
       "Docstring for `expand_all`:\n"
      ]
     },
     "metadata": {},
     "output_type": "display_data"
    },
    {
     "data": {
      "text/html": [
       "<pre style=\"white-space:pre;overflow-x:auto;line-height:normal;font-family:Menlo,'DejaVu Sans Mono',consolas,'Courier New',monospace\">\n",
       "        Expand the computation frame by repeatedly applying `expand_back` and\n",
       "        `expand_forward` until a fixed point is reached.\n",
       "        \n",
       "</pre>\n"
      ],
      "text/plain": [
       "\n",
       "        Expand the computation frame by repeatedly applying `expand_back` and\n",
       "        `expand_forward` until a fixed point is reached.\n",
       "        \n"
      ]
     },
     "metadata": {},
     "output_type": "display_data"
    }
   ],
   "source": [
    "pprint('Docstring for `expand_back`:')\n",
    "pprint(cf.expand_back.__doc__)\n",
    "pprint('Docstring for `expand_forward`:')\n",
    "pprint(cf.expand_forward.__doc__)\n",
    "pprint('Docstring for `expand_all`:')\n",
    "pprint(cf.expand_all.__doc__)"
   ]
  },
  {
   "cell_type": "markdown",
   "metadata": {},
   "source": [
    "### Selective expansion with `expand_back`, `expand_forward`\n",
    "You can be very precise about which calls to add to the CF. For example, you can\n",
    "expand variables one by one. **When this results in convergent histories, the CF\n",
    "will detect this and reuse the calls**:  "
   ]
  },
  {
   "cell_type": "code",
   "execution_count": 13,
   "metadata": {
    "execution": {
     "iopub.execute_input": "2024-07-03T11:41:19.346755Z",
     "iopub.status.busy": "2024-07-03T11:41:19.346485Z",
     "iopub.status.idle": "2024-07-03T11:41:19.465178Z",
     "shell.execute_reply": "2024-07-03T11:41:19.464362Z"
    }
   },
   "outputs": [
    {
     "data": {
      "image/svg+xml": [
       "<?xml version=\"1.0\" encoding=\"UTF-8\" standalone=\"no\"?>\n",
       "<!DOCTYPE svg PUBLIC \"-//W3C//DTD SVG 1.1//EN\"\n",
       " \"http://www.w3.org/Graphics/SVG/1.1/DTD/svg11.dtd\">\n",
       "<!-- Generated by graphviz version 2.50.0 (0)\n",
       " -->\n",
       "<!-- Title: G Pages: 1 -->\n",
       "<svg width=\"362pt\" height=\"236pt\"\n",
       " viewBox=\"0.00 0.00 362.00 236.00\" xmlns=\"http://www.w3.org/2000/svg\" xmlns:xlink=\"http://www.w3.org/1999/xlink\">\n",
       "<g id=\"graph0\" class=\"graph\" transform=\"scale(1 1) rotate(0) translate(4 232)\">\n",
       "<title>G</title>\n",
       "<polygon fill=\"white\" stroke=\"transparent\" points=\"-4,4 -4,-232 358,-232 358,4 -4,4\"/>\n",
       "<!-- X_test -->\n",
       "<g id=\"node1\" class=\"node\">\n",
       "<title>X_test</title>\n",
       "<path fill=\"none\" stroke=\"#268bd2\" d=\"M94,-228C94,-228 12,-228 12,-228 6,-228 0,-222 0,-216 0,-216 0,-204 0,-204 0,-198 6,-192 12,-192 12,-192 94,-192 94,-192 100,-192 106,-198 106,-204 106,-204 106,-216 106,-216 106,-222 100,-228 94,-228\"/>\n",
       "<text text-anchor=\"start\" x=\"34.5\" y=\"-212.4\" font-family=\"RobotoMono\" font-weight=\"bold\" font-size=\"12.00\" fill=\"#002b36\">X_test</text>\n",
       "<text text-anchor=\"start\" x=\"8\" y=\"-202\" font-family=\"RobotoMono\" font-size=\"10.00\" fill=\"#268bd2\">1 values (1 sources)</text>\n",
       "</g>\n",
       "<!-- eval_model -->\n",
       "<g id=\"node5\" class=\"node\">\n",
       "<title>eval_model</title>\n",
       "<path fill=\"none\" stroke=\"#dc322f\" d=\"M211,-134C211,-134 143,-134 143,-134 137,-134 131,-128 131,-122 131,-122 131,-106 131,-106 131,-100 137,-94 143,-94 143,-94 211,-94 211,-94 217,-94 223,-100 223,-106 223,-106 223,-122 223,-122 223,-128 217,-134 211,-134\"/>\n",
       "<text text-anchor=\"start\" x=\"143\" y=\"-121.4\" font-family=\"RobotoMono\" font-weight=\"bold\" font-size=\"12.00\" fill=\"#002b36\">eval_model</text>\n",
       "<text text-anchor=\"start\" x=\"139\" y=\"-111\" font-family=\"RobotoMono\" font-size=\"10.00\" fill=\"#002b36\">@op:eval_model</text>\n",
       "<text text-anchor=\"start\" x=\"163\" y=\"-101\" font-family=\"RobotoMono\" font-size=\"10.00\" fill=\"#dc322f\">1 calls</text>\n",
       "</g>\n",
       "<!-- X_test&#45;&gt;eval_model -->\n",
       "<g id=\"edge2\" class=\"edge\">\n",
       "<title>X_test&#45;&gt;eval_model</title>\n",
       "<path fill=\"none\" stroke=\"#002b36\" d=\"M75.46,-191.98C94.43,-177.59 121.89,-156.78 143.47,-140.42\"/>\n",
       "<polygon fill=\"#002b36\" stroke=\"#002b36\" points=\"145.87,-142.99 151.72,-134.16 141.64,-137.41 145.87,-142.99\"/>\n",
       "<text text-anchor=\"middle\" x=\"149\" y=\"-166\" font-family=\"RobotoMono\" font-size=\"10.00\" fill=\"#002b36\">X_test</text>\n",
       "<text text-anchor=\"middle\" x=\"149\" y=\"-155\" font-family=\"RobotoMono\" font-size=\"10.00\" fill=\"#002b36\">(1 values)</text>\n",
       "</g>\n",
       "<!-- v -->\n",
       "<g id=\"node2\" class=\"node\">\n",
       "<title>v</title>\n",
       "<path fill=\"none\" stroke=\"#268bd2\" d=\"M211.5,-36C211.5,-36 142.5,-36 142.5,-36 136.5,-36 130.5,-30 130.5,-24 130.5,-24 130.5,-12 130.5,-12 130.5,-6 136.5,0 142.5,0 142.5,0 211.5,0 211.5,0 217.5,0 223.5,-6 223.5,-12 223.5,-12 223.5,-24 223.5,-24 223.5,-30 217.5,-36 211.5,-36\"/>\n",
       "<text text-anchor=\"start\" x=\"173.5\" y=\"-20.4\" font-family=\"RobotoMono\" font-weight=\"bold\" font-size=\"12.00\" fill=\"#002b36\">v</text>\n",
       "<text text-anchor=\"start\" x=\"138.5\" y=\"-10\" font-family=\"RobotoMono\" font-size=\"10.00\" fill=\"#268bd2\">1 values (1 sinks)</text>\n",
       "</g>\n",
       "<!-- y_test -->\n",
       "<g id=\"node3\" class=\"node\">\n",
       "<title>y_test</title>\n",
       "<path fill=\"none\" stroke=\"#268bd2\" d=\"M218,-228C218,-228 136,-228 136,-228 130,-228 124,-222 124,-216 124,-216 124,-204 124,-204 124,-198 130,-192 136,-192 136,-192 218,-192 218,-192 224,-192 230,-198 230,-204 230,-204 230,-216 230,-216 230,-222 224,-228 218,-228\"/>\n",
       "<text text-anchor=\"start\" x=\"159\" y=\"-212.4\" font-family=\"RobotoMono\" font-weight=\"bold\" font-size=\"12.00\" fill=\"#002b36\">y_test</text>\n",
       "<text text-anchor=\"start\" x=\"132\" y=\"-202\" font-family=\"RobotoMono\" font-size=\"10.00\" fill=\"#268bd2\">1 values (1 sources)</text>\n",
       "</g>\n",
       "<!-- y_test&#45;&gt;eval_model -->\n",
       "<g id=\"edge3\" class=\"edge\">\n",
       "<title>y_test&#45;&gt;eval_model</title>\n",
       "<path fill=\"none\" stroke=\"#002b36\" d=\"M177,-191.76C177,-178.5 177,-159.86 177,-144.27\"/>\n",
       "<polygon fill=\"#002b36\" stroke=\"#002b36\" points=\"180.5,-144.07 177,-134.07 173.5,-144.07 180.5,-144.07\"/>\n",
       "<text text-anchor=\"middle\" x=\"199\" y=\"-166\" font-family=\"RobotoMono\" font-size=\"10.00\" fill=\"#002b36\">y_test</text>\n",
       "<text text-anchor=\"middle\" x=\"199\" y=\"-155\" font-family=\"RobotoMono\" font-size=\"10.00\" fill=\"#002b36\">(1 values)</text>\n",
       "</g>\n",
       "<!-- model -->\n",
       "<g id=\"node4\" class=\"node\">\n",
       "<title>model</title>\n",
       "<path fill=\"none\" stroke=\"#268bd2\" d=\"M342,-228C342,-228 260,-228 260,-228 254,-228 248,-222 248,-216 248,-216 248,-204 248,-204 248,-198 254,-192 260,-192 260,-192 342,-192 342,-192 348,-192 354,-198 354,-204 354,-204 354,-216 354,-216 354,-222 348,-228 342,-228\"/>\n",
       "<text text-anchor=\"start\" x=\"282\" y=\"-212.4\" font-family=\"RobotoMono\" font-weight=\"bold\" font-size=\"12.00\" fill=\"#002b36\">model</text>\n",
       "<text text-anchor=\"start\" x=\"256\" y=\"-202\" font-family=\"RobotoMono\" font-size=\"10.00\" fill=\"#268bd2\">1 values (1 sources)</text>\n",
       "</g>\n",
       "<!-- model&#45;&gt;eval_model -->\n",
       "<g id=\"edge4\" class=\"edge\">\n",
       "<title>model&#45;&gt;eval_model</title>\n",
       "<path fill=\"none\" stroke=\"#002b36\" d=\"M278.54,-191.98C259.57,-177.59 232.11,-156.78 210.53,-140.42\"/>\n",
       "<polygon fill=\"#002b36\" stroke=\"#002b36\" points=\"212.36,-137.41 202.28,-134.16 208.13,-142.99 212.36,-137.41\"/>\n",
       "<text text-anchor=\"middle\" x=\"275\" y=\"-166\" font-family=\"RobotoMono\" font-size=\"10.00\" fill=\"#002b36\">model</text>\n",
       "<text text-anchor=\"middle\" x=\"275\" y=\"-155\" font-family=\"RobotoMono\" font-size=\"10.00\" fill=\"#002b36\">(1 values)</text>\n",
       "</g>\n",
       "<!-- eval_model&#45;&gt;v -->\n",
       "<g id=\"edge1\" class=\"edge\">\n",
       "<title>eval_model&#45;&gt;v</title>\n",
       "<path fill=\"none\" stroke=\"#002b36\" d=\"M177,-93.98C177,-80.34 177,-61.75 177,-46.5\"/>\n",
       "<polygon fill=\"#002b36\" stroke=\"#002b36\" points=\"180.5,-46.1 177,-36.1 173.5,-46.1 180.5,-46.1\"/>\n",
       "<text text-anchor=\"middle\" x=\"199\" y=\"-68\" font-family=\"RobotoMono\" font-size=\"10.00\" fill=\"#002b36\">output_0</text>\n",
       "<text text-anchor=\"middle\" x=\"199\" y=\"-57\" font-family=\"RobotoMono\" font-size=\"10.00\" fill=\"#002b36\">(1 values)</text>\n",
       "</g>\n",
       "</g>\n",
       "</svg>\n"
      ],
      "text/plain": [
       "<graphviz.sources.Source at 0x71afb2493280>"
      ]
     },
     "metadata": {},
     "output_type": "display_data"
    }
   ],
   "source": [
    "cf = storage.cf(test_acc)\n",
    "cf = cf.expand_back('v')\n",
    "cf.draw(verbose=True)"
   ]
  },
  {
   "cell_type": "code",
   "execution_count": 14,
   "metadata": {
    "execution": {
     "iopub.execute_input": "2024-07-03T11:41:19.467562Z",
     "iopub.status.busy": "2024-07-03T11:41:19.467332Z",
     "iopub.status.idle": "2024-07-03T11:41:19.586506Z",
     "shell.execute_reply": "2024-07-03T11:41:19.586015Z"
    }
   },
   "outputs": [
    {
     "data": {
      "image/svg+xml": [
       "<?xml version=\"1.0\" encoding=\"UTF-8\" standalone=\"no\"?>\n",
       "<!DOCTYPE svg PUBLIC \"-//W3C//DTD SVG 1.1//EN\"\n",
       " \"http://www.w3.org/Graphics/SVG/1.1/DTD/svg11.dtd\">\n",
       "<!-- Generated by graphviz version 2.50.0 (0)\n",
       " -->\n",
       "<!-- Title: G Pages: 1 -->\n",
       "<svg width=\"310pt\" height=\"428pt\"\n",
       " viewBox=\"0.00 0.00 310.00 428.00\" xmlns=\"http://www.w3.org/2000/svg\" xmlns:xlink=\"http://www.w3.org/1999/xlink\">\n",
       "<g id=\"graph0\" class=\"graph\" transform=\"scale(1 1) rotate(0) translate(4 424)\">\n",
       "<title>G</title>\n",
       "<polygon fill=\"white\" stroke=\"transparent\" points=\"-4,4 -4,-424 306,-424 306,4 -4,4\"/>\n",
       "<!-- v -->\n",
       "<g id=\"node1\" class=\"node\">\n",
       "<title>v</title>\n",
       "<path fill=\"none\" stroke=\"#268bd2\" d=\"M185.5,-36C185.5,-36 116.5,-36 116.5,-36 110.5,-36 104.5,-30 104.5,-24 104.5,-24 104.5,-12 104.5,-12 104.5,-6 110.5,0 116.5,0 116.5,0 185.5,0 185.5,0 191.5,0 197.5,-6 197.5,-12 197.5,-12 197.5,-24 197.5,-24 197.5,-30 191.5,-36 185.5,-36\"/>\n",
       "<text text-anchor=\"start\" x=\"147.5\" y=\"-20.4\" font-family=\"RobotoMono\" font-weight=\"bold\" font-size=\"12.00\" fill=\"#002b36\">v</text>\n",
       "<text text-anchor=\"start\" x=\"112.5\" y=\"-10\" font-family=\"RobotoMono\" font-size=\"10.00\" fill=\"#268bd2\">1 values (1 sinks)</text>\n",
       "</g>\n",
       "<!-- random_seed -->\n",
       "<g id=\"node2\" class=\"node\">\n",
       "<title>random_seed</title>\n",
       "<path fill=\"none\" stroke=\"#268bd2\" d=\"M192,-420C192,-420 110,-420 110,-420 104,-420 98,-414 98,-408 98,-408 98,-396 98,-396 98,-390 104,-384 110,-384 110,-384 192,-384 192,-384 198,-384 204,-390 204,-396 204,-396 204,-408 204,-408 204,-414 198,-420 192,-420\"/>\n",
       "<text text-anchor=\"start\" x=\"110.5\" y=\"-404.4\" font-family=\"RobotoMono\" font-weight=\"bold\" font-size=\"12.00\" fill=\"#002b36\">random_seed</text>\n",
       "<text text-anchor=\"start\" x=\"106\" y=\"-394\" font-family=\"RobotoMono\" font-size=\"10.00\" fill=\"#268bd2\">1 values (1 sources)</text>\n",
       "</g>\n",
       "<!-- generate_dataset -->\n",
       "<g id=\"node6\" class=\"node\">\n",
       "<title>generate_dataset</title>\n",
       "<path fill=\"none\" stroke=\"#dc322f\" d=\"M200,-326C200,-326 102,-326 102,-326 96,-326 90,-320 90,-314 90,-314 90,-298 90,-298 90,-292 96,-286 102,-286 102,-286 200,-286 200,-286 206,-286 212,-292 212,-298 212,-298 212,-314 212,-314 212,-320 206,-326 200,-326\"/>\n",
       "<text text-anchor=\"start\" x=\"98\" y=\"-313.4\" font-family=\"RobotoMono\" font-weight=\"bold\" font-size=\"12.00\" fill=\"#002b36\">generate_dataset</text>\n",
       "<text text-anchor=\"start\" x=\"98\" y=\"-303\" font-family=\"RobotoMono\" font-size=\"10.00\" fill=\"#002b36\">@op:generate_dataset</text>\n",
       "<text text-anchor=\"start\" x=\"137\" y=\"-293\" font-family=\"RobotoMono\" font-size=\"10.00\" fill=\"#dc322f\">1 calls</text>\n",
       "</g>\n",
       "<!-- random_seed&#45;&gt;generate_dataset -->\n",
       "<g id=\"edge6\" class=\"edge\">\n",
       "<title>random_seed&#45;&gt;generate_dataset</title>\n",
       "<path fill=\"none\" stroke=\"#002b36\" d=\"M151,-383.76C151,-370.5 151,-351.86 151,-336.27\"/>\n",
       "<polygon fill=\"#002b36\" stroke=\"#002b36\" points=\"154.5,-336.07 151,-326.07 147.5,-336.07 154.5,-336.07\"/>\n",
       "<text text-anchor=\"middle\" x=\"183\" y=\"-358\" font-family=\"RobotoMono\" font-size=\"10.00\" fill=\"#002b36\">random_seed</text>\n",
       "<text text-anchor=\"middle\" x=\"183\" y=\"-347\" font-family=\"RobotoMono\" font-size=\"10.00\" fill=\"#002b36\">(1 values)</text>\n",
       "</g>\n",
       "<!-- model -->\n",
       "<g id=\"node3\" class=\"node\">\n",
       "<title>model</title>\n",
       "<path fill=\"none\" stroke=\"#268bd2\" d=\"M94,-228C94,-228 12,-228 12,-228 6,-228 0,-222 0,-216 0,-216 0,-204 0,-204 0,-198 6,-192 12,-192 12,-192 94,-192 94,-192 100,-192 106,-198 106,-204 106,-204 106,-216 106,-216 106,-222 100,-228 94,-228\"/>\n",
       "<text text-anchor=\"start\" x=\"34\" y=\"-212.4\" font-family=\"RobotoMono\" font-weight=\"bold\" font-size=\"12.00\" fill=\"#002b36\">model</text>\n",
       "<text text-anchor=\"start\" x=\"8\" y=\"-202\" font-family=\"RobotoMono\" font-size=\"10.00\" fill=\"#268bd2\">1 values (1 sources)</text>\n",
       "</g>\n",
       "<!-- eval_model -->\n",
       "<g id=\"node7\" class=\"node\">\n",
       "<title>eval_model</title>\n",
       "<path fill=\"none\" stroke=\"#dc322f\" d=\"M185,-134C185,-134 117,-134 117,-134 111,-134 105,-128 105,-122 105,-122 105,-106 105,-106 105,-100 111,-94 117,-94 117,-94 185,-94 185,-94 191,-94 197,-100 197,-106 197,-106 197,-122 197,-122 197,-128 191,-134 185,-134\"/>\n",
       "<text text-anchor=\"start\" x=\"117\" y=\"-121.4\" font-family=\"RobotoMono\" font-weight=\"bold\" font-size=\"12.00\" fill=\"#002b36\">eval_model</text>\n",
       "<text text-anchor=\"start\" x=\"113\" y=\"-111\" font-family=\"RobotoMono\" font-size=\"10.00\" fill=\"#002b36\">@op:eval_model</text>\n",
       "<text text-anchor=\"start\" x=\"137\" y=\"-101\" font-family=\"RobotoMono\" font-size=\"10.00\" fill=\"#dc322f\">1 calls</text>\n",
       "</g>\n",
       "<!-- model&#45;&gt;eval_model -->\n",
       "<g id=\"edge4\" class=\"edge\">\n",
       "<title>model&#45;&gt;eval_model</title>\n",
       "<path fill=\"none\" stroke=\"#002b36\" d=\"M66.63,-191.76C76.26,-180.02 89.75,-164.43 103,-152 107.12,-148.13 111.63,-144.25 116.18,-140.54\"/>\n",
       "<polygon fill=\"#002b36\" stroke=\"#002b36\" points=\"118.67,-143.04 124.34,-134.09 114.33,-137.55 118.67,-143.04\"/>\n",
       "<text text-anchor=\"middle\" x=\"125\" y=\"-166\" font-family=\"RobotoMono\" font-size=\"10.00\" fill=\"#002b36\">model</text>\n",
       "<text text-anchor=\"middle\" x=\"125\" y=\"-155\" font-family=\"RobotoMono\" font-size=\"10.00\" fill=\"#002b36\">(1 values)</text>\n",
       "</g>\n",
       "<!-- X_test -->\n",
       "<g id=\"node4\" class=\"node\">\n",
       "<title>X_test</title>\n",
       "<path fill=\"none\" stroke=\"#268bd2\" d=\"M166,-228C166,-228 136,-228 136,-228 130,-228 124,-222 124,-216 124,-216 124,-204 124,-204 124,-198 130,-192 136,-192 136,-192 166,-192 166,-192 172,-192 178,-198 178,-204 178,-204 178,-216 178,-216 178,-222 172,-228 166,-228\"/>\n",
       "<text text-anchor=\"start\" x=\"132.5\" y=\"-212.4\" font-family=\"RobotoMono\" font-weight=\"bold\" font-size=\"12.00\" fill=\"#002b36\">X_test</text>\n",
       "<text text-anchor=\"start\" x=\"132\" y=\"-202\" font-family=\"RobotoMono\" font-size=\"10.00\" fill=\"#268bd2\">1 values</text>\n",
       "</g>\n",
       "<!-- X_test&#45;&gt;eval_model -->\n",
       "<g id=\"edge2\" class=\"edge\">\n",
       "<title>X_test&#45;&gt;eval_model</title>\n",
       "<path fill=\"none\" stroke=\"#002b36\" d=\"M151,-191.76C151,-178.5 151,-159.86 151,-144.27\"/>\n",
       "<polygon fill=\"#002b36\" stroke=\"#002b36\" points=\"154.5,-144.07 151,-134.07 147.5,-144.07 154.5,-144.07\"/>\n",
       "<text text-anchor=\"middle\" x=\"173\" y=\"-166\" font-family=\"RobotoMono\" font-size=\"10.00\" fill=\"#002b36\">X_test</text>\n",
       "<text text-anchor=\"middle\" x=\"173\" y=\"-155\" font-family=\"RobotoMono\" font-size=\"10.00\" fill=\"#002b36\">(1 values)</text>\n",
       "</g>\n",
       "<!-- y_test -->\n",
       "<g id=\"node5\" class=\"node\">\n",
       "<title>y_test</title>\n",
       "<path fill=\"none\" stroke=\"#268bd2\" d=\"M290,-228C290,-228 208,-228 208,-228 202,-228 196,-222 196,-216 196,-216 196,-204 196,-204 196,-198 202,-192 208,-192 208,-192 290,-192 290,-192 296,-192 302,-198 302,-204 302,-204 302,-216 302,-216 302,-222 296,-228 290,-228\"/>\n",
       "<text text-anchor=\"start\" x=\"231\" y=\"-212.4\" font-family=\"RobotoMono\" font-weight=\"bold\" font-size=\"12.00\" fill=\"#002b36\">y_test</text>\n",
       "<text text-anchor=\"start\" x=\"204\" y=\"-202\" font-family=\"RobotoMono\" font-size=\"10.00\" fill=\"#268bd2\">1 values (1 sources)</text>\n",
       "</g>\n",
       "<!-- y_test&#45;&gt;eval_model -->\n",
       "<g id=\"edge3\" class=\"edge\">\n",
       "<title>y_test&#45;&gt;eval_model</title>\n",
       "<path fill=\"none\" stroke=\"#002b36\" d=\"M235.37,-191.76C225.74,-180.02 212.25,-164.43 199,-152 194.88,-148.13 190.37,-144.25 185.82,-140.54\"/>\n",
       "<polygon fill=\"#002b36\" stroke=\"#002b36\" points=\"187.67,-137.55 177.66,-134.09 183.33,-143.04 187.67,-137.55\"/>\n",
       "<text text-anchor=\"middle\" x=\"241\" y=\"-166\" font-family=\"RobotoMono\" font-size=\"10.00\" fill=\"#002b36\">y_test</text>\n",
       "<text text-anchor=\"middle\" x=\"241\" y=\"-155\" font-family=\"RobotoMono\" font-size=\"10.00\" fill=\"#002b36\">(1 values)</text>\n",
       "</g>\n",
       "<!-- generate_dataset&#45;&gt;X_test -->\n",
       "<g id=\"edge5\" class=\"edge\">\n",
       "<title>generate_dataset&#45;&gt;X_test</title>\n",
       "<path fill=\"none\" stroke=\"#002b36\" d=\"M151,-285.98C151,-272.34 151,-253.75 151,-238.5\"/>\n",
       "<polygon fill=\"#002b36\" stroke=\"#002b36\" points=\"154.5,-238.1 151,-228.1 147.5,-238.1 154.5,-238.1\"/>\n",
       "<text text-anchor=\"middle\" x=\"173\" y=\"-260\" font-family=\"RobotoMono\" font-size=\"10.00\" fill=\"#002b36\">output_1</text>\n",
       "<text text-anchor=\"middle\" x=\"173\" y=\"-249\" font-family=\"RobotoMono\" font-size=\"10.00\" fill=\"#002b36\">(1 values)</text>\n",
       "</g>\n",
       "<!-- eval_model&#45;&gt;v -->\n",
       "<g id=\"edge1\" class=\"edge\">\n",
       "<title>eval_model&#45;&gt;v</title>\n",
       "<path fill=\"none\" stroke=\"#002b36\" d=\"M151,-93.98C151,-80.34 151,-61.75 151,-46.5\"/>\n",
       "<polygon fill=\"#002b36\" stroke=\"#002b36\" points=\"154.5,-46.1 151,-36.1 147.5,-46.1 154.5,-46.1\"/>\n",
       "<text text-anchor=\"middle\" x=\"173\" y=\"-68\" font-family=\"RobotoMono\" font-size=\"10.00\" fill=\"#002b36\">output_0</text>\n",
       "<text text-anchor=\"middle\" x=\"173\" y=\"-57\" font-family=\"RobotoMono\" font-size=\"10.00\" fill=\"#002b36\">(1 values)</text>\n",
       "</g>\n",
       "</g>\n",
       "</svg>\n"
      ],
      "text/plain": [
       "<graphviz.sources.Source at 0x71afb24911b0>"
      ]
     },
     "metadata": {},
     "output_type": "display_data"
    }
   ],
   "source": [
    "cf = cf.expand_back('X_test')\n",
    "cf.draw(verbose=True)"
   ]
  },
  {
   "cell_type": "code",
   "execution_count": 15,
   "metadata": {
    "execution": {
     "iopub.execute_input": "2024-07-03T11:41:19.588709Z",
     "iopub.status.busy": "2024-07-03T11:41:19.588523Z",
     "iopub.status.idle": "2024-07-03T11:41:19.703859Z",
     "shell.execute_reply": "2024-07-03T11:41:19.703305Z"
    }
   },
   "outputs": [
    {
     "data": {
      "image/svg+xml": [
       "<?xml version=\"1.0\" encoding=\"UTF-8\" standalone=\"no\"?>\n",
       "<!DOCTYPE svg PUBLIC \"-//W3C//DTD SVG 1.1//EN\"\n",
       " \"http://www.w3.org/Graphics/SVG/1.1/DTD/svg11.dtd\">\n",
       "<!-- Generated by graphviz version 2.50.0 (0)\n",
       " -->\n",
       "<!-- Title: G Pages: 1 -->\n",
       "<svg width=\"531pt\" height=\"428pt\"\n",
       " viewBox=\"0.00 0.00 531.00 428.00\" xmlns=\"http://www.w3.org/2000/svg\" xmlns:xlink=\"http://www.w3.org/1999/xlink\">\n",
       "<g id=\"graph0\" class=\"graph\" transform=\"scale(1 1) rotate(0) translate(4 424)\">\n",
       "<title>G</title>\n",
       "<polygon fill=\"white\" stroke=\"transparent\" points=\"-4,4 -4,-424 527,-424 527,4 -4,4\"/>\n",
       "<!-- v -->\n",
       "<g id=\"node1\" class=\"node\">\n",
       "<title>v</title>\n",
       "<path fill=\"none\" stroke=\"#268bd2\" d=\"M406.5,-36C406.5,-36 337.5,-36 337.5,-36 331.5,-36 325.5,-30 325.5,-24 325.5,-24 325.5,-12 325.5,-12 325.5,-6 331.5,0 337.5,0 337.5,0 406.5,0 406.5,0 412.5,0 418.5,-6 418.5,-12 418.5,-12 418.5,-24 418.5,-24 418.5,-30 412.5,-36 406.5,-36\"/>\n",
       "<text text-anchor=\"start\" x=\"368.5\" y=\"-20.4\" font-family=\"RobotoMono\" font-weight=\"bold\" font-size=\"12.00\" fill=\"#002b36\">v</text>\n",
       "<text text-anchor=\"start\" x=\"333.5\" y=\"-10\" font-family=\"RobotoMono\" font-size=\"10.00\" fill=\"#268bd2\">1 values (1 sinks)</text>\n",
       "</g>\n",
       "<!-- random_seed -->\n",
       "<g id=\"node2\" class=\"node\">\n",
       "<title>random_seed</title>\n",
       "<path fill=\"none\" stroke=\"#268bd2\" d=\"M466,-420C466,-420 384,-420 384,-420 378,-420 372,-414 372,-408 372,-408 372,-396 372,-396 372,-390 378,-384 384,-384 384,-384 466,-384 466,-384 472,-384 478,-390 478,-396 478,-396 478,-408 478,-408 478,-414 472,-420 466,-420\"/>\n",
       "<text text-anchor=\"start\" x=\"384.5\" y=\"-404.4\" font-family=\"RobotoMono\" font-weight=\"bold\" font-size=\"12.00\" fill=\"#002b36\">random_seed</text>\n",
       "<text text-anchor=\"start\" x=\"380\" y=\"-394\" font-family=\"RobotoMono\" font-size=\"10.00\" fill=\"#268bd2\">1 values (1 sources)</text>\n",
       "</g>\n",
       "<!-- generate_dataset -->\n",
       "<g id=\"node9\" class=\"node\">\n",
       "<title>generate_dataset</title>\n",
       "<path fill=\"none\" stroke=\"#dc322f\" d=\"M443,-326C443,-326 345,-326 345,-326 339,-326 333,-320 333,-314 333,-314 333,-298 333,-298 333,-292 339,-286 345,-286 345,-286 443,-286 443,-286 449,-286 455,-292 455,-298 455,-298 455,-314 455,-314 455,-320 449,-326 443,-326\"/>\n",
       "<text text-anchor=\"start\" x=\"341\" y=\"-313.4\" font-family=\"RobotoMono\" font-weight=\"bold\" font-size=\"12.00\" fill=\"#002b36\">generate_dataset</text>\n",
       "<text text-anchor=\"start\" x=\"341\" y=\"-303\" font-family=\"RobotoMono\" font-size=\"10.00\" fill=\"#002b36\">@op:generate_dataset</text>\n",
       "<text text-anchor=\"start\" x=\"380\" y=\"-293\" font-family=\"RobotoMono\" font-size=\"10.00\" fill=\"#dc322f\">1 calls</text>\n",
       "</g>\n",
       "<!-- random_seed&#45;&gt;generate_dataset -->\n",
       "<g id=\"edge6\" class=\"edge\">\n",
       "<title>random_seed&#45;&gt;generate_dataset</title>\n",
       "<path fill=\"none\" stroke=\"#002b36\" d=\"M419.31,-383.76C414.9,-370.37 408.68,-351.5 403.51,-335.82\"/>\n",
       "<polygon fill=\"#002b36\" stroke=\"#002b36\" points=\"406.75,-334.47 400.29,-326.07 400.1,-336.66 406.75,-334.47\"/>\n",
       "<text text-anchor=\"middle\" x=\"445\" y=\"-358\" font-family=\"RobotoMono\" font-size=\"10.00\" fill=\"#002b36\">random_seed</text>\n",
       "<text text-anchor=\"middle\" x=\"445\" y=\"-347\" font-family=\"RobotoMono\" font-size=\"10.00\" fill=\"#002b36\">(1 values)</text>\n",
       "</g>\n",
       "<!-- X_train -->\n",
       "<g id=\"node3\" class=\"node\">\n",
       "<title>X_train</title>\n",
       "<path fill=\"none\" stroke=\"#268bd2\" d=\"M94,-420C94,-420 12,-420 12,-420 6,-420 0,-414 0,-408 0,-408 0,-396 0,-396 0,-390 6,-384 12,-384 12,-384 94,-384 94,-384 100,-384 106,-390 106,-396 106,-396 106,-408 106,-408 106,-414 100,-420 94,-420\"/>\n",
       "<text text-anchor=\"start\" x=\"31\" y=\"-404.4\" font-family=\"RobotoMono\" font-weight=\"bold\" font-size=\"12.00\" fill=\"#002b36\">X_train</text>\n",
       "<text text-anchor=\"start\" x=\"8\" y=\"-394\" font-family=\"RobotoMono\" font-size=\"10.00\" fill=\"#268bd2\">1 values (1 sources)</text>\n",
       "</g>\n",
       "<!-- train_model -->\n",
       "<g id=\"node10\" class=\"node\">\n",
       "<title>train_model</title>\n",
       "<path fill=\"none\" stroke=\"#dc322f\" d=\"M272.5,-326C272.5,-326 201.5,-326 201.5,-326 195.5,-326 189.5,-320 189.5,-314 189.5,-314 189.5,-298 189.5,-298 189.5,-292 195.5,-286 201.5,-286 201.5,-286 272.5,-286 272.5,-286 278.5,-286 284.5,-292 284.5,-298 284.5,-298 284.5,-314 284.5,-314 284.5,-320 278.5,-326 272.5,-326\"/>\n",
       "<text text-anchor=\"start\" x=\"200.5\" y=\"-313.4\" font-family=\"RobotoMono\" font-weight=\"bold\" font-size=\"12.00\" fill=\"#002b36\">train_model</text>\n",
       "<text text-anchor=\"start\" x=\"197.5\" y=\"-303\" font-family=\"RobotoMono\" font-size=\"10.00\" fill=\"#002b36\">@op:train_model</text>\n",
       "<text text-anchor=\"start\" x=\"223\" y=\"-293\" font-family=\"RobotoMono\" font-size=\"10.00\" fill=\"#dc322f\">1 calls</text>\n",
       "</g>\n",
       "<!-- X_train&#45;&gt;train_model -->\n",
       "<g id=\"edge10\" class=\"edge\">\n",
       "<title>X_train&#45;&gt;train_model</title>\n",
       "<path fill=\"none\" stroke=\"#002b36\" d=\"M80.71,-383.93C100.31,-372.14 127.38,-356.4 152,-344 161.37,-339.28 171.48,-334.57 181.34,-330.16\"/>\n",
       "<polygon fill=\"#002b36\" stroke=\"#002b36\" points=\"182.95,-333.28 190.69,-326.04 180.13,-326.87 182.95,-333.28\"/>\n",
       "<text text-anchor=\"middle\" x=\"174\" y=\"-358\" font-family=\"RobotoMono\" font-size=\"10.00\" fill=\"#002b36\">X_train</text>\n",
       "<text text-anchor=\"middle\" x=\"174\" y=\"-347\" font-family=\"RobotoMono\" font-size=\"10.00\" fill=\"#002b36\">(1 values)</text>\n",
       "</g>\n",
       "<!-- y_train -->\n",
       "<g id=\"node4\" class=\"node\">\n",
       "<title>y_train</title>\n",
       "<path fill=\"none\" stroke=\"#268bd2\" d=\"M218,-420C218,-420 136,-420 136,-420 130,-420 124,-414 124,-408 124,-408 124,-396 124,-396 124,-390 130,-384 136,-384 136,-384 218,-384 218,-384 224,-384 230,-390 230,-396 230,-396 230,-408 230,-408 230,-414 224,-420 218,-420\"/>\n",
       "<text text-anchor=\"start\" x=\"155.5\" y=\"-404.4\" font-family=\"RobotoMono\" font-weight=\"bold\" font-size=\"12.00\" fill=\"#002b36\">y_train</text>\n",
       "<text text-anchor=\"start\" x=\"132\" y=\"-394\" font-family=\"RobotoMono\" font-size=\"10.00\" fill=\"#268bd2\">1 values (1 sources)</text>\n",
       "</g>\n",
       "<!-- y_train&#45;&gt;train_model -->\n",
       "<g id=\"edge8\" class=\"edge\">\n",
       "<title>y_train&#45;&gt;train_model</title>\n",
       "<path fill=\"none\" stroke=\"#002b36\" d=\"M188,-383.76C196.72,-370.11 209.06,-350.78 219.17,-334.93\"/>\n",
       "<polygon fill=\"#002b36\" stroke=\"#002b36\" points=\"222.4,-336.38 224.83,-326.07 216.5,-332.62 222.4,-336.38\"/>\n",
       "<text text-anchor=\"middle\" x=\"235\" y=\"-358\" font-family=\"RobotoMono\" font-size=\"10.00\" fill=\"#002b36\">y_train</text>\n",
       "<text text-anchor=\"middle\" x=\"235\" y=\"-347\" font-family=\"RobotoMono\" font-size=\"10.00\" fill=\"#002b36\">(1 values)</text>\n",
       "</g>\n",
       "<!-- model -->\n",
       "<g id=\"node5\" class=\"node\">\n",
       "<title>model</title>\n",
       "<path fill=\"none\" stroke=\"#268bd2\" d=\"M293,-228C293,-228 263,-228 263,-228 257,-228 251,-222 251,-216 251,-216 251,-204 251,-204 251,-198 257,-192 263,-192 263,-192 293,-192 293,-192 299,-192 305,-198 305,-204 305,-204 305,-216 305,-216 305,-222 299,-228 293,-228\"/>\n",
       "<text text-anchor=\"start\" x=\"259\" y=\"-212.4\" font-family=\"RobotoMono\" font-weight=\"bold\" font-size=\"12.00\" fill=\"#002b36\">model</text>\n",
       "<text text-anchor=\"start\" x=\"259\" y=\"-202\" font-family=\"RobotoMono\" font-size=\"10.00\" fill=\"#268bd2\">1 values</text>\n",
       "</g>\n",
       "<!-- eval_model -->\n",
       "<g id=\"node11\" class=\"node\">\n",
       "<title>eval_model</title>\n",
       "<path fill=\"none\" stroke=\"#dc322f\" d=\"M406,-134C406,-134 338,-134 338,-134 332,-134 326,-128 326,-122 326,-122 326,-106 326,-106 326,-100 332,-94 338,-94 338,-94 406,-94 406,-94 412,-94 418,-100 418,-106 418,-106 418,-122 418,-122 418,-128 412,-134 406,-134\"/>\n",
       "<text text-anchor=\"start\" x=\"338\" y=\"-121.4\" font-family=\"RobotoMono\" font-weight=\"bold\" font-size=\"12.00\" fill=\"#002b36\">eval_model</text>\n",
       "<text text-anchor=\"start\" x=\"334\" y=\"-111\" font-family=\"RobotoMono\" font-size=\"10.00\" fill=\"#002b36\">@op:eval_model</text>\n",
       "<text text-anchor=\"start\" x=\"358\" y=\"-101\" font-family=\"RobotoMono\" font-size=\"10.00\" fill=\"#dc322f\">1 calls</text>\n",
       "</g>\n",
       "<!-- model&#45;&gt;eval_model -->\n",
       "<g id=\"edge4\" class=\"edge\">\n",
       "<title>model&#45;&gt;eval_model</title>\n",
       "<path fill=\"none\" stroke=\"#002b36\" d=\"M290.12,-191.91C298.89,-180.1 311.36,-164.36 324,-152 328,-148.09 332.4,-144.21 336.87,-140.52\"/>\n",
       "<polygon fill=\"#002b36\" stroke=\"#002b36\" points=\"339.28,-143.07 344.92,-134.1 334.92,-137.6 339.28,-143.07\"/>\n",
       "<text text-anchor=\"middle\" x=\"346\" y=\"-166\" font-family=\"RobotoMono\" font-size=\"10.00\" fill=\"#002b36\">model</text>\n",
       "<text text-anchor=\"middle\" x=\"346\" y=\"-155\" font-family=\"RobotoMono\" font-size=\"10.00\" fill=\"#002b36\">(1 values)</text>\n",
       "</g>\n",
       "<!-- n_estimators -->\n",
       "<g id=\"node6\" class=\"node\">\n",
       "<title>n_estimators</title>\n",
       "<path fill=\"none\" stroke=\"#268bd2\" d=\"M342,-420C342,-420 260,-420 260,-420 254,-420 248,-414 248,-408 248,-408 248,-396 248,-396 248,-390 254,-384 260,-384 260,-384 342,-384 342,-384 348,-384 354,-390 354,-396 354,-396 354,-408 354,-408 354,-414 348,-420 342,-420\"/>\n",
       "<text text-anchor=\"start\" x=\"261.5\" y=\"-404.4\" font-family=\"RobotoMono\" font-weight=\"bold\" font-size=\"12.00\" fill=\"#002b36\">n_estimators</text>\n",
       "<text text-anchor=\"start\" x=\"256\" y=\"-394\" font-family=\"RobotoMono\" font-size=\"10.00\" fill=\"#268bd2\">1 values (1 sources)</text>\n",
       "</g>\n",
       "<!-- n_estimators&#45;&gt;train_model -->\n",
       "<g id=\"edge9\" class=\"edge\">\n",
       "<title>n_estimators&#45;&gt;train_model</title>\n",
       "<path fill=\"none\" stroke=\"#002b36\" d=\"M289.26,-383.76C279.88,-369.99 266.56,-350.42 255.72,-334.49\"/>\n",
       "<polygon fill=\"#002b36\" stroke=\"#002b36\" points=\"258.51,-332.37 249.99,-326.07 252.72,-336.31 258.51,-332.37\"/>\n",
       "<text text-anchor=\"middle\" x=\"307.5\" y=\"-358\" font-family=\"RobotoMono\" font-size=\"10.00\" fill=\"#002b36\">n_estimators</text>\n",
       "<text text-anchor=\"middle\" x=\"307.5\" y=\"-347\" font-family=\"RobotoMono\" font-size=\"10.00\" fill=\"#002b36\">(1 values)</text>\n",
       "</g>\n",
       "<!-- X_test -->\n",
       "<g id=\"node7\" class=\"node\">\n",
       "<title>X_test</title>\n",
       "<path fill=\"none\" stroke=\"#268bd2\" d=\"M387,-228C387,-228 357,-228 357,-228 351,-228 345,-222 345,-216 345,-216 345,-204 345,-204 345,-198 351,-192 357,-192 357,-192 387,-192 387,-192 393,-192 399,-198 399,-204 399,-204 399,-216 399,-216 399,-222 393,-228 387,-228\"/>\n",
       "<text text-anchor=\"start\" x=\"353.5\" y=\"-212.4\" font-family=\"RobotoMono\" font-weight=\"bold\" font-size=\"12.00\" fill=\"#002b36\">X_test</text>\n",
       "<text text-anchor=\"start\" x=\"353\" y=\"-202\" font-family=\"RobotoMono\" font-size=\"10.00\" fill=\"#268bd2\">1 values</text>\n",
       "</g>\n",
       "<!-- X_test&#45;&gt;eval_model -->\n",
       "<g id=\"edge2\" class=\"edge\">\n",
       "<title>X_test&#45;&gt;eval_model</title>\n",
       "<path fill=\"none\" stroke=\"#002b36\" d=\"M372,-191.76C372,-178.5 372,-159.86 372,-144.27\"/>\n",
       "<polygon fill=\"#002b36\" stroke=\"#002b36\" points=\"375.5,-144.07 372,-134.07 368.5,-144.07 375.5,-144.07\"/>\n",
       "<text text-anchor=\"middle\" x=\"394\" y=\"-166\" font-family=\"RobotoMono\" font-size=\"10.00\" fill=\"#002b36\">X_test</text>\n",
       "<text text-anchor=\"middle\" x=\"394\" y=\"-155\" font-family=\"RobotoMono\" font-size=\"10.00\" fill=\"#002b36\">(1 values)</text>\n",
       "</g>\n",
       "<!-- y_test -->\n",
       "<g id=\"node8\" class=\"node\">\n",
       "<title>y_test</title>\n",
       "<path fill=\"none\" stroke=\"#268bd2\" d=\"M511,-228C511,-228 429,-228 429,-228 423,-228 417,-222 417,-216 417,-216 417,-204 417,-204 417,-198 423,-192 429,-192 429,-192 511,-192 511,-192 517,-192 523,-198 523,-204 523,-204 523,-216 523,-216 523,-222 517,-228 511,-228\"/>\n",
       "<text text-anchor=\"start\" x=\"452\" y=\"-212.4\" font-family=\"RobotoMono\" font-weight=\"bold\" font-size=\"12.00\" fill=\"#002b36\">y_test</text>\n",
       "<text text-anchor=\"start\" x=\"425\" y=\"-202\" font-family=\"RobotoMono\" font-size=\"10.00\" fill=\"#268bd2\">1 values (1 sources)</text>\n",
       "</g>\n",
       "<!-- y_test&#45;&gt;eval_model -->\n",
       "<g id=\"edge3\" class=\"edge\">\n",
       "<title>y_test&#45;&gt;eval_model</title>\n",
       "<path fill=\"none\" stroke=\"#002b36\" d=\"M456.37,-191.76C446.74,-180.02 433.25,-164.43 420,-152 415.88,-148.13 411.37,-144.25 406.82,-140.54\"/>\n",
       "<polygon fill=\"#002b36\" stroke=\"#002b36\" points=\"408.67,-137.55 398.66,-134.09 404.33,-143.04 408.67,-137.55\"/>\n",
       "<text text-anchor=\"middle\" x=\"462\" y=\"-166\" font-family=\"RobotoMono\" font-size=\"10.00\" fill=\"#002b36\">y_test</text>\n",
       "<text text-anchor=\"middle\" x=\"462\" y=\"-155\" font-family=\"RobotoMono\" font-size=\"10.00\" fill=\"#002b36\">(1 values)</text>\n",
       "</g>\n",
       "<!-- generate_dataset&#45;&gt;X_test -->\n",
       "<g id=\"edge5\" class=\"edge\">\n",
       "<title>generate_dataset&#45;&gt;X_test</title>\n",
       "<path fill=\"none\" stroke=\"#002b36\" d=\"M389.55,-285.98C386.32,-272.2 381.92,-253.39 378.33,-238.05\"/>\n",
       "<polygon fill=\"#002b36\" stroke=\"#002b36\" points=\"381.69,-237.04 376,-228.1 374.87,-238.63 381.69,-237.04\"/>\n",
       "<text text-anchor=\"middle\" x=\"406\" y=\"-260\" font-family=\"RobotoMono\" font-size=\"10.00\" fill=\"#002b36\">output_1</text>\n",
       "<text text-anchor=\"middle\" x=\"406\" y=\"-249\" font-family=\"RobotoMono\" font-size=\"10.00\" fill=\"#002b36\">(1 values)</text>\n",
       "</g>\n",
       "<!-- train_model&#45;&gt;model -->\n",
       "<g id=\"edge7\" class=\"edge\">\n",
       "<title>train_model&#45;&gt;model</title>\n",
       "<path fill=\"none\" stroke=\"#002b36\" d=\"M245.3,-285.98C251.36,-272.07 259.67,-253.03 266.39,-237.61\"/>\n",
       "<polygon fill=\"#002b36\" stroke=\"#002b36\" points=\"269.75,-238.66 270.54,-228.1 263.34,-235.86 269.75,-238.66\"/>\n",
       "<text text-anchor=\"middle\" x=\"285\" y=\"-260\" font-family=\"RobotoMono\" font-size=\"10.00\" fill=\"#002b36\">output_0</text>\n",
       "<text text-anchor=\"middle\" x=\"285\" y=\"-249\" font-family=\"RobotoMono\" font-size=\"10.00\" fill=\"#002b36\">(1 values)</text>\n",
       "</g>\n",
       "<!-- eval_model&#45;&gt;v -->\n",
       "<g id=\"edge1\" class=\"edge\">\n",
       "<title>eval_model&#45;&gt;v</title>\n",
       "<path fill=\"none\" stroke=\"#002b36\" d=\"M372,-93.98C372,-80.34 372,-61.75 372,-46.5\"/>\n",
       "<polygon fill=\"#002b36\" stroke=\"#002b36\" points=\"375.5,-46.1 372,-36.1 368.5,-46.1 375.5,-46.1\"/>\n",
       "<text text-anchor=\"middle\" x=\"394\" y=\"-68\" font-family=\"RobotoMono\" font-size=\"10.00\" fill=\"#002b36\">output_0</text>\n",
       "<text text-anchor=\"middle\" x=\"394\" y=\"-57\" font-family=\"RobotoMono\" font-size=\"10.00\" fill=\"#002b36\">(1 values)</text>\n",
       "</g>\n",
       "</g>\n",
       "</svg>\n"
      ],
      "text/plain": [
       "<graphviz.sources.Source at 0x71aed15d5120>"
      ]
     },
     "metadata": {},
     "output_type": "display_data"
    }
   ],
   "source": [
    "cf = cf.expand_back('model')\n",
    "cf.draw(verbose=True)"
   ]
  },
  {
   "cell_type": "code",
   "execution_count": 16,
   "metadata": {
    "execution": {
     "iopub.execute_input": "2024-07-03T11:41:19.706112Z",
     "iopub.status.busy": "2024-07-03T11:41:19.705916Z",
     "iopub.status.idle": "2024-07-03T11:41:19.803664Z",
     "shell.execute_reply": "2024-07-03T11:41:19.803082Z"
    }
   },
   "outputs": [
    {
     "data": {
      "image/svg+xml": [
       "<?xml version=\"1.0\" encoding=\"UTF-8\" standalone=\"no\"?>\n",
       "<!DOCTYPE svg PUBLIC \"-//W3C//DTD SVG 1.1//EN\"\n",
       " \"http://www.w3.org/Graphics/SVG/1.1/DTD/svg11.dtd\">\n",
       "<!-- Generated by graphviz version 2.50.0 (0)\n",
       " -->\n",
       "<!-- Title: G Pages: 1 -->\n",
       "<svg width=\"372pt\" height=\"634pt\"\n",
       " viewBox=\"0.00 0.00 372.00 634.00\" xmlns=\"http://www.w3.org/2000/svg\" xmlns:xlink=\"http://www.w3.org/1999/xlink\">\n",
       "<g id=\"graph0\" class=\"graph\" transform=\"scale(1 1) rotate(0) translate(4 630)\">\n",
       "<title>G</title>\n",
       "<polygon fill=\"white\" stroke=\"transparent\" points=\"-4,4 -4,-630 368,-630 368,4 -4,4\"/>\n",
       "<!-- v -->\n",
       "<g id=\"node1\" class=\"node\">\n",
       "<title>v</title>\n",
       "<path fill=\"none\" stroke=\"#268bd2\" d=\"M198.5,-36C198.5,-36 129.5,-36 129.5,-36 123.5,-36 117.5,-30 117.5,-24 117.5,-24 117.5,-12 117.5,-12 117.5,-6 123.5,0 129.5,0 129.5,0 198.5,0 198.5,0 204.5,0 210.5,-6 210.5,-12 210.5,-12 210.5,-24 210.5,-24 210.5,-30 204.5,-36 198.5,-36\"/>\n",
       "<text text-anchor=\"start\" x=\"160.5\" y=\"-20.4\" font-family=\"RobotoMono\" font-weight=\"bold\" font-size=\"12.00\" fill=\"#002b36\">v</text>\n",
       "<text text-anchor=\"start\" x=\"125.5\" y=\"-10\" font-family=\"RobotoMono\" font-size=\"10.00\" fill=\"#268bd2\">1 values (1 sinks)</text>\n",
       "</g>\n",
       "<!-- random_seed -->\n",
       "<g id=\"node2\" class=\"node\">\n",
       "<title>random_seed</title>\n",
       "<path fill=\"none\" stroke=\"#268bd2\" d=\"M102,-626C102,-626 20,-626 20,-626 14,-626 8,-620 8,-614 8,-614 8,-602 8,-602 8,-596 14,-590 20,-590 20,-590 102,-590 102,-590 108,-590 114,-596 114,-602 114,-602 114,-614 114,-614 114,-620 108,-626 102,-626\"/>\n",
       "<text text-anchor=\"start\" x=\"20.5\" y=\"-610.4\" font-family=\"RobotoMono\" font-weight=\"bold\" font-size=\"12.00\" fill=\"#002b36\">random_seed</text>\n",
       "<text text-anchor=\"start\" x=\"16\" y=\"-600\" font-family=\"RobotoMono\" font-size=\"10.00\" fill=\"#268bd2\">1 values (1 sources)</text>\n",
       "</g>\n",
       "<!-- generate_dataset -->\n",
       "<g id=\"node9\" class=\"node\">\n",
       "<title>generate_dataset</title>\n",
       "<path fill=\"none\" stroke=\"#dc322f\" d=\"M110,-532C110,-532 12,-532 12,-532 6,-532 0,-526 0,-520 0,-520 0,-504 0,-504 0,-498 6,-492 12,-492 12,-492 110,-492 110,-492 116,-492 122,-498 122,-504 122,-504 122,-520 122,-520 122,-526 116,-532 110,-532\"/>\n",
       "<text text-anchor=\"start\" x=\"8\" y=\"-519.4\" font-family=\"RobotoMono\" font-weight=\"bold\" font-size=\"12.00\" fill=\"#002b36\">generate_dataset</text>\n",
       "<text text-anchor=\"start\" x=\"8\" y=\"-509\" font-family=\"RobotoMono\" font-size=\"10.00\" fill=\"#002b36\">@op:generate_dataset</text>\n",
       "<text text-anchor=\"start\" x=\"47\" y=\"-499\" font-family=\"RobotoMono\" font-size=\"10.00\" fill=\"#dc322f\">1 calls</text>\n",
       "</g>\n",
       "<!-- random_seed&#45;&gt;generate_dataset -->\n",
       "<g id=\"edge7\" class=\"edge\">\n",
       "<title>random_seed&#45;&gt;generate_dataset</title>\n",
       "<path fill=\"none\" stroke=\"#002b36\" d=\"M61,-589.76C61,-576.5 61,-557.86 61,-542.27\"/>\n",
       "<polygon fill=\"#002b36\" stroke=\"#002b36\" points=\"64.5,-542.07 61,-532.07 57.5,-542.07 64.5,-542.07\"/>\n",
       "<text text-anchor=\"middle\" x=\"93\" y=\"-564\" font-family=\"RobotoMono\" font-size=\"10.00\" fill=\"#002b36\">random_seed</text>\n",
       "<text text-anchor=\"middle\" x=\"93\" y=\"-553\" font-family=\"RobotoMono\" font-size=\"10.00\" fill=\"#002b36\">(1 values)</text>\n",
       "</g>\n",
       "<!-- X_train -->\n",
       "<g id=\"node3\" class=\"node\">\n",
       "<title>X_train</title>\n",
       "<path fill=\"none\" stroke=\"#268bd2\" d=\"M352,-434C352,-434 316,-434 316,-434 310,-434 304,-428 304,-422 304,-422 304,-410 304,-410 304,-404 310,-398 316,-398 316,-398 352,-398 352,-398 358,-398 364,-404 364,-410 364,-410 364,-422 364,-422 364,-428 358,-434 352,-434\"/>\n",
       "<text text-anchor=\"start\" x=\"312\" y=\"-418.4\" font-family=\"RobotoMono\" font-weight=\"bold\" font-size=\"12.00\" fill=\"#002b36\">X_train</text>\n",
       "<text text-anchor=\"start\" x=\"315\" y=\"-408\" font-family=\"RobotoMono\" font-size=\"10.00\" fill=\"#268bd2\">1 values</text>\n",
       "</g>\n",
       "<!-- train_model -->\n",
       "<g id=\"node10\" class=\"node\">\n",
       "<title>train_model</title>\n",
       "<path fill=\"none\" stroke=\"#dc322f\" d=\"M236.5,-326C236.5,-326 165.5,-326 165.5,-326 159.5,-326 153.5,-320 153.5,-314 153.5,-314 153.5,-298 153.5,-298 153.5,-292 159.5,-286 165.5,-286 165.5,-286 236.5,-286 236.5,-286 242.5,-286 248.5,-292 248.5,-298 248.5,-298 248.5,-314 248.5,-314 248.5,-320 242.5,-326 236.5,-326\"/>\n",
       "<text text-anchor=\"start\" x=\"164.5\" y=\"-313.4\" font-family=\"RobotoMono\" font-weight=\"bold\" font-size=\"12.00\" fill=\"#002b36\">train_model</text>\n",
       "<text text-anchor=\"start\" x=\"161.5\" y=\"-303\" font-family=\"RobotoMono\" font-size=\"10.00\" fill=\"#002b36\">@op:train_model</text>\n",
       "<text text-anchor=\"start\" x=\"187\" y=\"-293\" font-family=\"RobotoMono\" font-size=\"10.00\" fill=\"#dc322f\">1 calls</text>\n",
       "</g>\n",
       "<!-- X_train&#45;&gt;train_model -->\n",
       "<g id=\"edge11\" class=\"edge\">\n",
       "<title>X_train&#45;&gt;train_model</title>\n",
       "<path fill=\"none\" stroke=\"#002b36\" d=\"M325.92,-397.75C317.77,-381.96 303.85,-358.84 286,-344 277.66,-337.07 267.82,-331.22 257.85,-326.37\"/>\n",
       "<polygon fill=\"#002b36\" stroke=\"#002b36\" points=\"259.25,-323.16 248.7,-322.19 256.34,-329.53 259.25,-323.16\"/>\n",
       "<text text-anchor=\"middle\" x=\"337\" y=\"-365\" font-family=\"RobotoMono\" font-size=\"10.00\" fill=\"#002b36\">X_train</text>\n",
       "<text text-anchor=\"middle\" x=\"337\" y=\"-354\" font-family=\"RobotoMono\" font-size=\"10.00\" fill=\"#002b36\">(1 values)</text>\n",
       "</g>\n",
       "<!-- y_train -->\n",
       "<g id=\"node4\" class=\"node\">\n",
       "<title>y_train</title>\n",
       "<path fill=\"none\" stroke=\"#268bd2\" d=\"M150,-434C150,-434 68,-434 68,-434 62,-434 56,-428 56,-422 56,-422 56,-410 56,-410 56,-404 62,-398 68,-398 68,-398 150,-398 150,-398 156,-398 162,-404 162,-410 162,-410 162,-422 162,-422 162,-428 156,-434 150,-434\"/>\n",
       "<text text-anchor=\"start\" x=\"87.5\" y=\"-418.4\" font-family=\"RobotoMono\" font-weight=\"bold\" font-size=\"12.00\" fill=\"#002b36\">y_train</text>\n",
       "<text text-anchor=\"start\" x=\"64\" y=\"-408\" font-family=\"RobotoMono\" font-size=\"10.00\" fill=\"#268bd2\">1 values (1 sources)</text>\n",
       "</g>\n",
       "<!-- y_train&#45;&gt;train_model -->\n",
       "<g id=\"edge9\" class=\"edge\">\n",
       "<title>y_train&#45;&gt;train_model</title>\n",
       "<path fill=\"none\" stroke=\"#002b36\" d=\"M121.31,-397.88C132.1,-383.19 148.44,-361.67 164,-344 167.06,-340.53 170.36,-336.98 173.69,-333.52\"/>\n",
       "<polygon fill=\"#002b36\" stroke=\"#002b36\" points=\"176.43,-335.73 180.94,-326.14 171.43,-330.82 176.43,-335.73\"/>\n",
       "<text text-anchor=\"middle\" x=\"186\" y=\"-365\" font-family=\"RobotoMono\" font-size=\"10.00\" fill=\"#002b36\">y_train</text>\n",
       "<text text-anchor=\"middle\" x=\"186\" y=\"-354\" font-family=\"RobotoMono\" font-size=\"10.00\" fill=\"#002b36\">(1 values)</text>\n",
       "</g>\n",
       "<!-- model -->\n",
       "<g id=\"node5\" class=\"node\">\n",
       "<title>model</title>\n",
       "<path fill=\"none\" stroke=\"#268bd2\" d=\"M179,-228C179,-228 149,-228 149,-228 143,-228 137,-222 137,-216 137,-216 137,-204 137,-204 137,-198 143,-192 149,-192 149,-192 179,-192 179,-192 185,-192 191,-198 191,-204 191,-204 191,-216 191,-216 191,-222 185,-228 179,-228\"/>\n",
       "<text text-anchor=\"start\" x=\"145\" y=\"-212.4\" font-family=\"RobotoMono\" font-weight=\"bold\" font-size=\"12.00\" fill=\"#002b36\">model</text>\n",
       "<text text-anchor=\"start\" x=\"145\" y=\"-202\" font-family=\"RobotoMono\" font-size=\"10.00\" fill=\"#268bd2\">1 values</text>\n",
       "</g>\n",
       "<!-- eval_model -->\n",
       "<g id=\"node11\" class=\"node\">\n",
       "<title>eval_model</title>\n",
       "<path fill=\"none\" stroke=\"#dc322f\" d=\"M198,-134C198,-134 130,-134 130,-134 124,-134 118,-128 118,-122 118,-122 118,-106 118,-106 118,-100 124,-94 130,-94 130,-94 198,-94 198,-94 204,-94 210,-100 210,-106 210,-106 210,-122 210,-122 210,-128 204,-134 198,-134\"/>\n",
       "<text text-anchor=\"start\" x=\"130\" y=\"-121.4\" font-family=\"RobotoMono\" font-weight=\"bold\" font-size=\"12.00\" fill=\"#002b36\">eval_model</text>\n",
       "<text text-anchor=\"start\" x=\"126\" y=\"-111\" font-family=\"RobotoMono\" font-size=\"10.00\" fill=\"#002b36\">@op:eval_model</text>\n",
       "<text text-anchor=\"start\" x=\"150\" y=\"-101\" font-family=\"RobotoMono\" font-size=\"10.00\" fill=\"#dc322f\">1 calls</text>\n",
       "</g>\n",
       "<!-- model&#45;&gt;eval_model -->\n",
       "<g id=\"edge4\" class=\"edge\">\n",
       "<title>model&#45;&gt;eval_model</title>\n",
       "<path fill=\"none\" stroke=\"#002b36\" d=\"M164,-191.76C164,-178.5 164,-159.86 164,-144.27\"/>\n",
       "<polygon fill=\"#002b36\" stroke=\"#002b36\" points=\"167.5,-144.07 164,-134.07 160.5,-144.07 167.5,-144.07\"/>\n",
       "<text text-anchor=\"middle\" x=\"186\" y=\"-166\" font-family=\"RobotoMono\" font-size=\"10.00\" fill=\"#002b36\">model</text>\n",
       "<text text-anchor=\"middle\" x=\"186\" y=\"-155\" font-family=\"RobotoMono\" font-size=\"10.00\" fill=\"#002b36\">(1 values)</text>\n",
       "</g>\n",
       "<!-- n_estimators -->\n",
       "<g id=\"node6\" class=\"node\">\n",
       "<title>n_estimators</title>\n",
       "<path fill=\"none\" stroke=\"#268bd2\" d=\"M274,-434C274,-434 192,-434 192,-434 186,-434 180,-428 180,-422 180,-422 180,-410 180,-410 180,-404 186,-398 192,-398 192,-398 274,-398 274,-398 280,-398 286,-404 286,-410 286,-410 286,-422 286,-422 286,-428 280,-434 274,-434\"/>\n",
       "<text text-anchor=\"start\" x=\"193.5\" y=\"-418.4\" font-family=\"RobotoMono\" font-weight=\"bold\" font-size=\"12.00\" fill=\"#002b36\">n_estimators</text>\n",
       "<text text-anchor=\"start\" x=\"188\" y=\"-408\" font-family=\"RobotoMono\" font-size=\"10.00\" fill=\"#268bd2\">1 values (1 sources)</text>\n",
       "</g>\n",
       "<!-- n_estimators&#45;&gt;train_model -->\n",
       "<g id=\"edge10\" class=\"edge\">\n",
       "<title>n_estimators&#45;&gt;train_model</title>\n",
       "<path fill=\"none\" stroke=\"#002b36\" d=\"M227.86,-397.65C222.92,-380.99 215.38,-355.53 209.54,-335.83\"/>\n",
       "<polygon fill=\"#002b36\" stroke=\"#002b36\" points=\"212.86,-334.72 206.67,-326.13 206.15,-336.71 212.86,-334.72\"/>\n",
       "<text text-anchor=\"middle\" x=\"251.5\" y=\"-365\" font-family=\"RobotoMono\" font-size=\"10.00\" fill=\"#002b36\">n_estimators</text>\n",
       "<text text-anchor=\"middle\" x=\"251.5\" y=\"-354\" font-family=\"RobotoMono\" font-size=\"10.00\" fill=\"#002b36\">(1 values)</text>\n",
       "</g>\n",
       "<!-- X_test -->\n",
       "<g id=\"node7\" class=\"node\">\n",
       "<title>X_test</title>\n",
       "<path fill=\"none\" stroke=\"#268bd2\" d=\"M59,-380C59,-380 29,-380 29,-380 23,-380 17,-374 17,-368 17,-368 17,-356 17,-356 17,-350 23,-344 29,-344 29,-344 59,-344 59,-344 65,-344 71,-350 71,-356 71,-356 71,-368 71,-368 71,-374 65,-380 59,-380\"/>\n",
       "<text text-anchor=\"start\" x=\"25.5\" y=\"-364.4\" font-family=\"RobotoMono\" font-weight=\"bold\" font-size=\"12.00\" fill=\"#002b36\">X_test</text>\n",
       "<text text-anchor=\"start\" x=\"25\" y=\"-354\" font-family=\"RobotoMono\" font-size=\"10.00\" fill=\"#268bd2\">1 values</text>\n",
       "</g>\n",
       "<!-- X_test&#45;&gt;eval_model -->\n",
       "<g id=\"edge2\" class=\"edge\">\n",
       "<title>X_test&#45;&gt;eval_model</title>\n",
       "<path fill=\"none\" stroke=\"#002b36\" d=\"M52.44,-343.7C72.84,-301.89 124.99,-194.98 150.09,-143.52\"/>\n",
       "<polygon fill=\"#002b36\" stroke=\"#002b36\" points=\"153.35,-144.82 154.59,-134.29 147.06,-141.75 153.35,-144.82\"/>\n",
       "<text text-anchor=\"middle\" x=\"122\" y=\"-260\" font-family=\"RobotoMono\" font-size=\"10.00\" fill=\"#002b36\">X_test</text>\n",
       "<text text-anchor=\"middle\" x=\"122\" y=\"-249\" font-family=\"RobotoMono\" font-size=\"10.00\" fill=\"#002b36\">(1 values)</text>\n",
       "</g>\n",
       "<!-- y_test -->\n",
       "<g id=\"node8\" class=\"node\">\n",
       "<title>y_test</title>\n",
       "<path fill=\"none\" stroke=\"#268bd2\" d=\"M303,-228C303,-228 221,-228 221,-228 215,-228 209,-222 209,-216 209,-216 209,-204 209,-204 209,-198 215,-192 221,-192 221,-192 303,-192 303,-192 309,-192 315,-198 315,-204 315,-204 315,-216 315,-216 315,-222 309,-228 303,-228\"/>\n",
       "<text text-anchor=\"start\" x=\"244\" y=\"-212.4\" font-family=\"RobotoMono\" font-weight=\"bold\" font-size=\"12.00\" fill=\"#002b36\">y_test</text>\n",
       "<text text-anchor=\"start\" x=\"217\" y=\"-202\" font-family=\"RobotoMono\" font-size=\"10.00\" fill=\"#268bd2\">1 values (1 sources)</text>\n",
       "</g>\n",
       "<!-- y_test&#45;&gt;eval_model -->\n",
       "<g id=\"edge3\" class=\"edge\">\n",
       "<title>y_test&#45;&gt;eval_model</title>\n",
       "<path fill=\"none\" stroke=\"#002b36\" d=\"M248.37,-191.76C238.74,-180.02 225.25,-164.43 212,-152 207.88,-148.13 203.37,-144.25 198.82,-140.54\"/>\n",
       "<polygon fill=\"#002b36\" stroke=\"#002b36\" points=\"200.67,-137.55 190.66,-134.09 196.33,-143.04 200.67,-137.55\"/>\n",
       "<text text-anchor=\"middle\" x=\"254\" y=\"-166\" font-family=\"RobotoMono\" font-size=\"10.00\" fill=\"#002b36\">y_test</text>\n",
       "<text text-anchor=\"middle\" x=\"254\" y=\"-155\" font-family=\"RobotoMono\" font-size=\"10.00\" fill=\"#002b36\">(1 values)</text>\n",
       "</g>\n",
       "<!-- generate_dataset&#45;&gt;X_train -->\n",
       "<g id=\"edge6\" class=\"edge\">\n",
       "<title>generate_dataset&#45;&gt;X_train</title>\n",
       "<path fill=\"none\" stroke=\"#002b36\" d=\"M122.15,-492.59C167.46,-478.56 230.79,-458.13 294.48,-434.04\"/>\n",
       "<polygon fill=\"#002b36\" stroke=\"#002b36\" points=\"295.78,-437.29 303.88,-430.46 293.29,-430.75 295.78,-437.29\"/>\n",
       "<text text-anchor=\"middle\" x=\"266\" y=\"-466\" font-family=\"RobotoMono\" font-size=\"10.00\" fill=\"#002b36\">output_0</text>\n",
       "<text text-anchor=\"middle\" x=\"266\" y=\"-455\" font-family=\"RobotoMono\" font-size=\"10.00\" fill=\"#002b36\">(1 values)</text>\n",
       "</g>\n",
       "<!-- generate_dataset&#45;&gt;X_test -->\n",
       "<g id=\"edge5\" class=\"edge\">\n",
       "<title>generate_dataset&#45;&gt;X_test</title>\n",
       "<path fill=\"none\" stroke=\"#002b36\" d=\"M56.75,-491.81C53.5,-476.29 49.21,-453.85 47,-434 45.41,-419.73 44.64,-403.75 44.28,-390.58\"/>\n",
       "<polygon fill=\"#002b36\" stroke=\"#002b36\" points=\"47.78,-390.19 44.07,-380.27 40.78,-390.34 47.78,-390.19\"/>\n",
       "<text text-anchor=\"middle\" x=\"76\" y=\"-466\" font-family=\"RobotoMono\" font-size=\"10.00\" fill=\"#002b36\">output_1</text>\n",
       "<text text-anchor=\"middle\" x=\"76\" y=\"-455\" font-family=\"RobotoMono\" font-size=\"10.00\" fill=\"#002b36\">(1 values)</text>\n",
       "</g>\n",
       "<!-- train_model&#45;&gt;model -->\n",
       "<g id=\"edge8\" class=\"edge\">\n",
       "<title>train_model&#45;&gt;model</title>\n",
       "<path fill=\"none\" stroke=\"#002b36\" d=\"M193.51,-285.98C188.04,-272.07 180.54,-253.03 174.48,-237.61\"/>\n",
       "<polygon fill=\"#002b36\" stroke=\"#002b36\" points=\"177.65,-236.12 170.73,-228.1 171.14,-238.68 177.65,-236.12\"/>\n",
       "<text text-anchor=\"middle\" x=\"207\" y=\"-260\" font-family=\"RobotoMono\" font-size=\"10.00\" fill=\"#002b36\">output_0</text>\n",
       "<text text-anchor=\"middle\" x=\"207\" y=\"-249\" font-family=\"RobotoMono\" font-size=\"10.00\" fill=\"#002b36\">(1 values)</text>\n",
       "</g>\n",
       "<!-- eval_model&#45;&gt;v -->\n",
       "<g id=\"edge1\" class=\"edge\">\n",
       "<title>eval_model&#45;&gt;v</title>\n",
       "<path fill=\"none\" stroke=\"#002b36\" d=\"M164,-93.98C164,-80.34 164,-61.75 164,-46.5\"/>\n",
       "<polygon fill=\"#002b36\" stroke=\"#002b36\" points=\"167.5,-46.1 164,-36.1 160.5,-46.1 167.5,-46.1\"/>\n",
       "<text text-anchor=\"middle\" x=\"186\" y=\"-68\" font-family=\"RobotoMono\" font-size=\"10.00\" fill=\"#002b36\">output_0</text>\n",
       "<text text-anchor=\"middle\" x=\"186\" y=\"-57\" font-family=\"RobotoMono\" font-size=\"10.00\" fill=\"#002b36\">(1 values)</text>\n",
       "</g>\n",
       "</g>\n",
       "</svg>\n"
      ],
      "text/plain": [
       "<graphviz.sources.Source at 0x71aed15d53c0>"
      ]
     },
     "metadata": {},
     "output_type": "display_data"
    }
   ],
   "source": [
    "cf = cf.expand_back('X_train')\n",
    "cf.draw(verbose=True)"
   ]
  },
  {
   "cell_type": "markdown",
   "metadata": {},
   "source": [
    "When we expand `X_train` at the end, the expansion algorithm detects that the\n",
    "`generate_dataset` node should be reused instead of creating a new node."
   ]
  },
  {
   "cell_type": "markdown",
   "metadata": {},
   "source": [
    "### Full expansion with `expand_all`\n",
    "The easiest way to add all the calls that can be reached from a CF by calling\n",
    "`expand_back` or `expand_forward` is using `expand_all`"
   ]
  },
  {
   "cell_type": "code",
   "execution_count": 17,
   "metadata": {
    "execution": {
     "iopub.execute_input": "2024-07-03T11:41:19.806285Z",
     "iopub.status.busy": "2024-07-03T11:41:19.806012Z",
     "iopub.status.idle": "2024-07-03T11:41:19.964865Z",
     "shell.execute_reply": "2024-07-03T11:41:19.964207Z"
    }
   },
   "outputs": [
    {
     "data": {
      "image/svg+xml": [
       "<?xml version=\"1.0\" encoding=\"UTF-8\" standalone=\"no\"?>\n",
       "<!DOCTYPE svg PUBLIC \"-//W3C//DTD SVG 1.1//EN\"\n",
       " \"http://www.w3.org/Graphics/SVG/1.1/DTD/svg11.dtd\">\n",
       "<!-- Generated by graphviz version 2.50.0 (0)\n",
       " -->\n",
       "<!-- Title: G Pages: 1 -->\n",
       "<svg width=\"270pt\" height=\"620pt\"\n",
       " viewBox=\"0.00 0.00 270.00 620.00\" xmlns=\"http://www.w3.org/2000/svg\" xmlns:xlink=\"http://www.w3.org/1999/xlink\">\n",
       "<g id=\"graph0\" class=\"graph\" transform=\"scale(1 1) rotate(0) translate(4 616)\">\n",
       "<title>G</title>\n",
       "<polygon fill=\"white\" stroke=\"transparent\" points=\"-4,4 -4,-616 266,-616 266,4 -4,4\"/>\n",
       "<!-- X_train -->\n",
       "<g id=\"node1\" class=\"node\">\n",
       "<title>X_train</title>\n",
       "<path fill=\"none\" stroke=\"#268bd2\" d=\"M48,-420C48,-420 12,-420 12,-420 6,-420 0,-414 0,-408 0,-408 0,-396 0,-396 0,-390 6,-384 12,-384 12,-384 48,-384 48,-384 54,-384 60,-390 60,-396 60,-396 60,-408 60,-408 60,-414 54,-420 48,-420\"/>\n",
       "<text text-anchor=\"start\" x=\"8\" y=\"-404.4\" font-family=\"RobotoMono\" font-weight=\"bold\" font-size=\"12.00\" fill=\"#002b36\">X_train</text>\n",
       "<text text-anchor=\"start\" x=\"11\" y=\"-394\" font-family=\"RobotoMono\" font-size=\"10.00\" fill=\"#268bd2\">1 values</text>\n",
       "</g>\n",
       "<!-- train_model -->\n",
       "<g id=\"node9\" class=\"node\">\n",
       "<title>train_model</title>\n",
       "<path fill=\"none\" stroke=\"#dc322f\" d=\"M143.5,-326C143.5,-326 72.5,-326 72.5,-326 66.5,-326 60.5,-320 60.5,-314 60.5,-314 60.5,-298 60.5,-298 60.5,-292 66.5,-286 72.5,-286 72.5,-286 143.5,-286 143.5,-286 149.5,-286 155.5,-292 155.5,-298 155.5,-298 155.5,-314 155.5,-314 155.5,-320 149.5,-326 143.5,-326\"/>\n",
       "<text text-anchor=\"start\" x=\"71.5\" y=\"-313.4\" font-family=\"RobotoMono\" font-weight=\"bold\" font-size=\"12.00\" fill=\"#002b36\">train_model</text>\n",
       "<text text-anchor=\"start\" x=\"68.5\" y=\"-303\" font-family=\"RobotoMono\" font-size=\"10.00\" fill=\"#002b36\">@op:train_model</text>\n",
       "<text text-anchor=\"start\" x=\"94\" y=\"-293\" font-family=\"RobotoMono\" font-size=\"10.00\" fill=\"#dc322f\">4 calls</text>\n",
       "</g>\n",
       "<!-- X_train&#45;&gt;train_model -->\n",
       "<g id=\"edge5\" class=\"edge\">\n",
       "<title>X_train&#45;&gt;train_model</title>\n",
       "<path fill=\"none\" stroke=\"#002b36\" d=\"M36.69,-383.88C41.9,-371.91 49.92,-355.98 60,-344 63.34,-340.03 67.18,-336.21 71.2,-332.63\"/>\n",
       "<polygon fill=\"#002b36\" stroke=\"#002b36\" points=\"73.62,-335.18 79.07,-326.09 69.14,-329.79 73.62,-335.18\"/>\n",
       "<text text-anchor=\"middle\" x=\"82\" y=\"-358\" font-family=\"RobotoMono\" font-size=\"10.00\" fill=\"#002b36\">X_train</text>\n",
       "<text text-anchor=\"middle\" x=\"82\" y=\"-347\" font-family=\"RobotoMono\" font-size=\"10.00\" fill=\"#002b36\">(1 values)</text>\n",
       "</g>\n",
       "<!-- random_seed -->\n",
       "<g id=\"node2\" class=\"node\">\n",
       "<title>random_seed</title>\n",
       "<path fill=\"none\" stroke=\"#268bd2\" d=\"M109,-612C109,-612 27,-612 27,-612 21,-612 15,-606 15,-600 15,-600 15,-588 15,-588 15,-582 21,-576 27,-576 27,-576 109,-576 109,-576 115,-576 121,-582 121,-588 121,-588 121,-600 121,-600 121,-606 115,-612 109,-612\"/>\n",
       "<text text-anchor=\"start\" x=\"27.5\" y=\"-596.4\" font-family=\"RobotoMono\" font-weight=\"bold\" font-size=\"12.00\" fill=\"#002b36\">random_seed</text>\n",
       "<text text-anchor=\"start\" x=\"23\" y=\"-586\" font-family=\"RobotoMono\" font-size=\"10.00\" fill=\"#268bd2\">1 values (1 sources)</text>\n",
       "</g>\n",
       "<!-- generate_dataset -->\n",
       "<g id=\"node8\" class=\"node\">\n",
       "<title>generate_dataset</title>\n",
       "<path fill=\"none\" stroke=\"#dc322f\" d=\"M117,-518C117,-518 19,-518 19,-518 13,-518 7,-512 7,-506 7,-506 7,-490 7,-490 7,-484 13,-478 19,-478 19,-478 117,-478 117,-478 123,-478 129,-484 129,-490 129,-490 129,-506 129,-506 129,-512 123,-518 117,-518\"/>\n",
       "<text text-anchor=\"start\" x=\"15\" y=\"-505.4\" font-family=\"RobotoMono\" font-weight=\"bold\" font-size=\"12.00\" fill=\"#002b36\">generate_dataset</text>\n",
       "<text text-anchor=\"start\" x=\"15\" y=\"-495\" font-family=\"RobotoMono\" font-size=\"10.00\" fill=\"#002b36\">@op:generate_dataset</text>\n",
       "<text text-anchor=\"start\" x=\"54\" y=\"-485\" font-family=\"RobotoMono\" font-size=\"10.00\" fill=\"#dc322f\">1 calls</text>\n",
       "</g>\n",
       "<!-- random_seed&#45;&gt;generate_dataset -->\n",
       "<g id=\"edge9\" class=\"edge\">\n",
       "<title>random_seed&#45;&gt;generate_dataset</title>\n",
       "<path fill=\"none\" stroke=\"#002b36\" d=\"M68,-575.76C68,-562.5 68,-543.86 68,-528.27\"/>\n",
       "<polygon fill=\"#002b36\" stroke=\"#002b36\" points=\"71.5,-528.07 68,-518.07 64.5,-528.07 71.5,-528.07\"/>\n",
       "<text text-anchor=\"middle\" x=\"100\" y=\"-550\" font-family=\"RobotoMono\" font-size=\"10.00\" fill=\"#002b36\">random_seed</text>\n",
       "<text text-anchor=\"middle\" x=\"100\" y=\"-539\" font-family=\"RobotoMono\" font-size=\"10.00\" fill=\"#002b36\">(1 values)</text>\n",
       "</g>\n",
       "<!-- output_0 -->\n",
       "<g id=\"node3\" class=\"node\">\n",
       "<title>output_0</title>\n",
       "<path fill=\"none\" stroke=\"#268bd2\" d=\"M87.5,-228C87.5,-228 18.5,-228 18.5,-228 12.5,-228 6.5,-222 6.5,-216 6.5,-216 6.5,-204 6.5,-204 6.5,-198 12.5,-192 18.5,-192 18.5,-192 87.5,-192 87.5,-192 93.5,-192 99.5,-198 99.5,-204 99.5,-204 99.5,-216 99.5,-216 99.5,-222 93.5,-228 87.5,-228\"/>\n",
       "<text text-anchor=\"start\" x=\"25.5\" y=\"-212.4\" font-family=\"RobotoMono\" font-weight=\"bold\" font-size=\"12.00\" fill=\"#002b36\">output_0</text>\n",
       "<text text-anchor=\"start\" x=\"14.5\" y=\"-202\" font-family=\"RobotoMono\" font-size=\"10.00\" fill=\"#268bd2\">4 values (2 sinks)</text>\n",
       "</g>\n",
       "<!-- eval_model -->\n",
       "<g id=\"node10\" class=\"node\">\n",
       "<title>eval_model</title>\n",
       "<path fill=\"none\" stroke=\"#dc322f\" d=\"M87,-134C87,-134 19,-134 19,-134 13,-134 7,-128 7,-122 7,-122 7,-106 7,-106 7,-100 13,-94 19,-94 19,-94 87,-94 87,-94 93,-94 99,-100 99,-106 99,-106 99,-122 99,-122 99,-128 93,-134 87,-134\"/>\n",
       "<text text-anchor=\"start\" x=\"19\" y=\"-121.4\" font-family=\"RobotoMono\" font-weight=\"bold\" font-size=\"12.00\" fill=\"#002b36\">eval_model</text>\n",
       "<text text-anchor=\"start\" x=\"15\" y=\"-111\" font-family=\"RobotoMono\" font-size=\"10.00\" fill=\"#002b36\">@op:eval_model</text>\n",
       "<text text-anchor=\"start\" x=\"39\" y=\"-101\" font-family=\"RobotoMono\" font-size=\"10.00\" fill=\"#dc322f\">2 calls</text>\n",
       "</g>\n",
       "<!-- output_0&#45;&gt;eval_model -->\n",
       "<g id=\"edge6\" class=\"edge\">\n",
       "<title>output_0&#45;&gt;eval_model</title>\n",
       "<path fill=\"none\" stroke=\"#002b36\" d=\"M53,-191.76C53,-178.5 53,-159.86 53,-144.27\"/>\n",
       "<polygon fill=\"#002b36\" stroke=\"#002b36\" points=\"56.5,-144.07 53,-134.07 49.5,-144.07 56.5,-144.07\"/>\n",
       "<text text-anchor=\"middle\" x=\"75\" y=\"-166\" font-family=\"RobotoMono\" font-size=\"10.00\" fill=\"#002b36\">model</text>\n",
       "<text text-anchor=\"middle\" x=\"75\" y=\"-155\" font-family=\"RobotoMono\" font-size=\"10.00\" fill=\"#002b36\">(2 values)</text>\n",
       "</g>\n",
       "<!-- y_train -->\n",
       "<g id=\"node4\" class=\"node\">\n",
       "<title>y_train</title>\n",
       "<path fill=\"none\" stroke=\"#268bd2\" d=\"M125.5,-420C125.5,-420 90.5,-420 90.5,-420 84.5,-420 78.5,-414 78.5,-408 78.5,-408 78.5,-396 78.5,-396 78.5,-390 84.5,-384 90.5,-384 90.5,-384 125.5,-384 125.5,-384 131.5,-384 137.5,-390 137.5,-396 137.5,-396 137.5,-408 137.5,-408 137.5,-414 131.5,-420 125.5,-420\"/>\n",
       "<text text-anchor=\"start\" x=\"86.5\" y=\"-404.4\" font-family=\"RobotoMono\" font-weight=\"bold\" font-size=\"12.00\" fill=\"#002b36\">y_train</text>\n",
       "<text text-anchor=\"start\" x=\"89\" y=\"-394\" font-family=\"RobotoMono\" font-size=\"10.00\" fill=\"#268bd2\">1 values</text>\n",
       "</g>\n",
       "<!-- y_train&#45;&gt;train_model -->\n",
       "<g id=\"edge3\" class=\"edge\">\n",
       "<title>y_train&#45;&gt;train_model</title>\n",
       "<path fill=\"none\" stroke=\"#002b36\" d=\"M108,-383.76C108,-370.5 108,-351.86 108,-336.27\"/>\n",
       "<polygon fill=\"#002b36\" stroke=\"#002b36\" points=\"111.5,-336.07 108,-326.07 104.5,-336.07 111.5,-336.07\"/>\n",
       "<text text-anchor=\"middle\" x=\"130\" y=\"-358\" font-family=\"RobotoMono\" font-size=\"10.00\" fill=\"#002b36\">y_train</text>\n",
       "<text text-anchor=\"middle\" x=\"130\" y=\"-347\" font-family=\"RobotoMono\" font-size=\"10.00\" fill=\"#002b36\">(1 values)</text>\n",
       "</g>\n",
       "<!-- n_estimators -->\n",
       "<g id=\"node5\" class=\"node\">\n",
       "<title>n_estimators</title>\n",
       "<path fill=\"none\" stroke=\"#268bd2\" d=\"M250,-420C250,-420 168,-420 168,-420 162,-420 156,-414 156,-408 156,-408 156,-396 156,-396 156,-390 162,-384 168,-384 168,-384 250,-384 250,-384 256,-384 262,-390 262,-396 262,-396 262,-408 262,-408 262,-414 256,-420 250,-420\"/>\n",
       "<text text-anchor=\"start\" x=\"169.5\" y=\"-404.4\" font-family=\"RobotoMono\" font-weight=\"bold\" font-size=\"12.00\" fill=\"#002b36\">n_estimators</text>\n",
       "<text text-anchor=\"start\" x=\"164\" y=\"-394\" font-family=\"RobotoMono\" font-size=\"10.00\" fill=\"#268bd2\">4 values (4 sources)</text>\n",
       "</g>\n",
       "<!-- n_estimators&#45;&gt;train_model -->\n",
       "<g id=\"edge4\" class=\"edge\">\n",
       "<title>n_estimators&#45;&gt;train_model</title>\n",
       "<path fill=\"none\" stroke=\"#002b36\" d=\"M194.38,-383.84C184.1,-372.15 169.78,-356.56 156,-344 151.67,-340.05 146.94,-336.06 142.21,-332.25\"/>\n",
       "<polygon fill=\"#002b36\" stroke=\"#002b36\" points=\"144.32,-329.45 134.29,-326.02 139.99,-334.96 144.32,-329.45\"/>\n",
       "<text text-anchor=\"middle\" x=\"207.5\" y=\"-358\" font-family=\"RobotoMono\" font-size=\"10.00\" fill=\"#002b36\">n_estimators</text>\n",
       "<text text-anchor=\"middle\" x=\"207.5\" y=\"-347\" font-family=\"RobotoMono\" font-size=\"10.00\" fill=\"#002b36\">(4 values)</text>\n",
       "</g>\n",
       "<!-- output_1 -->\n",
       "<g id=\"node6\" class=\"node\">\n",
       "<title>output_1</title>\n",
       "<path fill=\"none\" stroke=\"#268bd2\" d=\"M198.5,-228C198.5,-228 129.5,-228 129.5,-228 123.5,-228 117.5,-222 117.5,-216 117.5,-216 117.5,-204 117.5,-204 117.5,-198 123.5,-192 129.5,-192 129.5,-192 198.5,-192 198.5,-192 204.5,-192 210.5,-198 210.5,-204 210.5,-204 210.5,-216 210.5,-216 210.5,-222 204.5,-228 198.5,-228\"/>\n",
       "<text text-anchor=\"start\" x=\"136.5\" y=\"-212.4\" font-family=\"RobotoMono\" font-weight=\"bold\" font-size=\"12.00\" fill=\"#002b36\">output_1</text>\n",
       "<text text-anchor=\"start\" x=\"125.5\" y=\"-202\" font-family=\"RobotoMono\" font-size=\"10.00\" fill=\"#268bd2\">4 values (4 sinks)</text>\n",
       "</g>\n",
       "<!-- output_0_0 -->\n",
       "<g id=\"node7\" class=\"node\">\n",
       "<title>output_0_0</title>\n",
       "<path fill=\"none\" stroke=\"#268bd2\" d=\"M87.5,-36C87.5,-36 18.5,-36 18.5,-36 12.5,-36 6.5,-30 6.5,-24 6.5,-24 6.5,-12 6.5,-12 6.5,-6 12.5,0 18.5,0 18.5,0 87.5,0 87.5,0 93.5,0 99.5,-6 99.5,-12 99.5,-12 99.5,-24 99.5,-24 99.5,-30 93.5,-36 87.5,-36\"/>\n",
       "<text text-anchor=\"start\" x=\"19.5\" y=\"-20.4\" font-family=\"RobotoMono\" font-weight=\"bold\" font-size=\"12.00\" fill=\"#002b36\">output_0_0</text>\n",
       "<text text-anchor=\"start\" x=\"14.5\" y=\"-10\" font-family=\"RobotoMono\" font-size=\"10.00\" fill=\"#268bd2\">2 values (2 sinks)</text>\n",
       "</g>\n",
       "<!-- generate_dataset&#45;&gt;X_train -->\n",
       "<g id=\"edge7\" class=\"edge\">\n",
       "<title>generate_dataset&#45;&gt;X_train</title>\n",
       "<path fill=\"none\" stroke=\"#002b36\" d=\"M50.02,-477.85C45.8,-472.43 41.74,-466.29 39,-460 34.95,-450.69 32.69,-439.82 31.45,-430.08\"/>\n",
       "<polygon fill=\"#002b36\" stroke=\"#002b36\" points=\"34.93,-429.69 30.46,-420.09 27.96,-430.38 34.93,-429.69\"/>\n",
       "<text text-anchor=\"middle\" x=\"61\" y=\"-452\" font-family=\"RobotoMono\" font-size=\"10.00\" fill=\"#002b36\">output_0</text>\n",
       "<text text-anchor=\"middle\" x=\"61\" y=\"-441\" font-family=\"RobotoMono\" font-size=\"10.00\" fill=\"#002b36\">(1 values)</text>\n",
       "</g>\n",
       "<!-- generate_dataset&#45;&gt;y_train -->\n",
       "<g id=\"edge8\" class=\"edge\">\n",
       "<title>generate_dataset&#45;&gt;y_train</title>\n",
       "<path fill=\"none\" stroke=\"#002b36\" d=\"M76.09,-477.98C82.01,-464.07 90.12,-445.03 96.68,-429.61\"/>\n",
       "<polygon fill=\"#002b36\" stroke=\"#002b36\" points=\"100.03,-430.67 100.72,-420.1 93.59,-427.93 100.03,-430.67\"/>\n",
       "<text text-anchor=\"middle\" x=\"114\" y=\"-452\" font-family=\"RobotoMono\" font-size=\"10.00\" fill=\"#002b36\">output_2</text>\n",
       "<text text-anchor=\"middle\" x=\"114\" y=\"-441\" font-family=\"RobotoMono\" font-size=\"10.00\" fill=\"#002b36\">(1 values)</text>\n",
       "</g>\n",
       "<!-- train_model&#45;&gt;output_0 -->\n",
       "<g id=\"edge2\" class=\"edge\">\n",
       "<title>train_model&#45;&gt;output_0</title>\n",
       "<path fill=\"none\" stroke=\"#002b36\" d=\"M96.87,-285.98C88.58,-271.81 77.17,-252.3 68.06,-236.74\"/>\n",
       "<polygon fill=\"#002b36\" stroke=\"#002b36\" points=\"71.08,-234.96 63,-228.1 65.03,-238.5 71.08,-234.96\"/>\n",
       "<text text-anchor=\"middle\" x=\"107\" y=\"-260\" font-family=\"RobotoMono\" font-size=\"10.00\" fill=\"#002b36\">output_0</text>\n",
       "<text text-anchor=\"middle\" x=\"107\" y=\"-249\" font-family=\"RobotoMono\" font-size=\"10.00\" fill=\"#002b36\">(4 values)</text>\n",
       "</g>\n",
       "<!-- train_model&#45;&gt;output_1 -->\n",
       "<g id=\"edge1\" class=\"edge\">\n",
       "<title>train_model&#45;&gt;output_1</title>\n",
       "<path fill=\"none\" stroke=\"#002b36\" d=\"M121.59,-285.64C125.4,-280.02 129.46,-273.83 133,-268 139.03,-258.08 145.23,-246.91 150.48,-237.1\"/>\n",
       "<polygon fill=\"#002b36\" stroke=\"#002b36\" points=\"153.61,-238.68 155.2,-228.2 147.42,-235.4 153.61,-238.68\"/>\n",
       "<text text-anchor=\"middle\" x=\"167\" y=\"-260\" font-family=\"RobotoMono\" font-size=\"10.00\" fill=\"#002b36\">output_1</text>\n",
       "<text text-anchor=\"middle\" x=\"167\" y=\"-249\" font-family=\"RobotoMono\" font-size=\"10.00\" fill=\"#002b36\">(4 values)</text>\n",
       "</g>\n",
       "<!-- eval_model&#45;&gt;output_0_0 -->\n",
       "<g id=\"edge10\" class=\"edge\">\n",
       "<title>eval_model&#45;&gt;output_0_0</title>\n",
       "<path fill=\"none\" stroke=\"#002b36\" d=\"M53,-93.98C53,-80.34 53,-61.75 53,-46.5\"/>\n",
       "<polygon fill=\"#002b36\" stroke=\"#002b36\" points=\"56.5,-46.1 53,-36.1 49.5,-46.1 56.5,-46.1\"/>\n",
       "<text text-anchor=\"middle\" x=\"75\" y=\"-68\" font-family=\"RobotoMono\" font-size=\"10.00\" fill=\"#002b36\">output_0</text>\n",
       "<text text-anchor=\"middle\" x=\"75\" y=\"-57\" font-family=\"RobotoMono\" font-size=\"10.00\" fill=\"#002b36\">(2 values)</text>\n",
       "</g>\n",
       "</g>\n",
       "</svg>\n"
      ],
      "text/plain": [
       "<graphviz.sources.Source at 0x71aed143a980>"
      ]
     },
     "metadata": {},
     "output_type": "display_data"
    }
   ],
   "source": [
    "cf = storage.cf(train_model).expand_all()\n",
    "cf.draw(verbose=True)"
   ]
  },
  {
   "cell_type": "markdown",
   "metadata": {},
   "source": [
    "This adds all the calls in the storage, because they're all reachable from some\n",
    "call to `train_model` by following inputs/outputs."
   ]
  },
  {
   "cell_type": "markdown",
   "metadata": {},
   "source": [
    "## Extracting `DataFrame`s from `ComputationFrame`s\n",
    "\n",
    "### `ComputationFrame`s as generalized dataframes\n",
    "You can think of `ComputationFrame`s as a generalization the familiar\n",
    "`pandas.DataFrame` class:\n",
    "\n",
    "- **instead of columns, you have a computational graph**: functions whose\n",
    "input/output edges connect to variables.\n",
    "- **instead of rows, you have computation traces**: variable values and function\n",
    "calls that (possibly partially) follow this graph\n",
    "\n",
    "Conversely, **a dataframe can be extracted from any computation frame** for\n",
    "easier later analysis:\n",
    "\n",
    "- the columns are the nodes in the graph (functions and variables)\n",
    "- each row is a computation trace, possibly padded with `NaN`s where no\n",
    "value/call is present."
   ]
  },
  {
   "cell_type": "markdown",
   "metadata": {},
   "source": [
    "### The `.df()` method\n",
    "All ways to turn a CF into a DF are dispatched through a CF's `.df()` method. We\n",
    "can apply this to the full storage CF we computed last:"
   ]
  },
  {
   "cell_type": "code",
   "execution_count": 18,
   "metadata": {
    "execution": {
     "iopub.execute_input": "2024-07-03T11:41:19.967282Z",
     "iopub.status.busy": "2024-07-03T11:41:19.967086Z",
     "iopub.status.idle": "2024-07-03T11:41:20.111757Z",
     "shell.execute_reply": "2024-07-03T11:41:20.111076Z"
    }
   },
   "outputs": [
    {
     "name": "stdout",
     "output_type": "stream",
     "text": [
      "Extracting tuples from the computation graph:\n",
      "    X_train@output_0, y_train@output_2 = generate_dataset(random_seed=random_seed)\n",
      "    output_0@output_0, output_1@output_1 = train_model(n_estimators=n_estimators, y_train=y_train, X_train=X_train)\n",
      "    output_0_0@output_0 = eval_model(model=output_0)\n",
      "|    |   n_estimators |   random_seed | generate_dataset                                   | train_model                                   | output_0                                             | eval_model                                   |   output_0_0 |   output_1 |\n",
      "|---:|---------------:|--------------:|:---------------------------------------------------|:----------------------------------------------|:-----------------------------------------------------|:---------------------------------------------|-------------:|-----------:|\n",
      "|  0 |             40 |            42 | Call(generate_dataset, cid='19a...', hid='c3f...') | Call(train_model, cid='5af...', hid='514...') | RandomForestClassifier(max_depth=2, n_estimators=40) | Call(eval_model, cid='38f...', hid='5d3...') |         0.81 |       0.82 |\n",
      "|  1 |             80 |            42 | Call(generate_dataset, cid='19a...', hid='c3f...') | Call(train_model, cid='3be...', hid='e60...') | RandomForestClassifier(max_depth=2, n_estimators=80) | Call(eval_model, cid='137...', hid='d32...') |         0.82 |       0.83 |\n",
      "|  2 |             20 |            42 | Call(generate_dataset, cid='19a...', hid='c3f...') | Call(train_model, cid='204...', hid='c55...') |                                                      |                                              |       nan    |       0.8  |\n",
      "|  3 |             10 |            42 | Call(generate_dataset, cid='19a...', hid='c3f...') | Call(train_model, cid='c4f...', hid='5f7...') |                                                      |                                              |       nan    |       0.74 |\n",
      "|  4 |             20 |            42 | Call(generate_dataset, cid='19a...', hid='c3f...') | Call(train_model, cid='204...', hid='c55...') | RandomForestClassifier(max_depth=2, n_estimators=20) |                                              |       nan    |     nan    |\n",
      "|  5 |             10 |            42 | Call(generate_dataset, cid='19a...', hid='c3f...') | Call(train_model, cid='c4f...', hid='5f7...') | RandomForestClassifier(max_depth=2, n_estimators=10) |                                              |       nan    |     nan    |\n"
     ]
    }
   ],
   "source": [
    "cf = storage.cf(train_model).expand_all()\n",
    "print(cf.df().drop(columns=['X_train', 'y_train']).to_markdown())"
   ]
  },
  {
   "cell_type": "markdown",
   "metadata": {},
   "source": [
    "Importantly, we see that some computations only partially follow the full\n",
    "computation graph, because we didn't call `eval_model` on all the `train_model`\n",
    "outputs."
   ]
  },
  {
   "cell_type": "markdown",
   "metadata": {},
   "source": [
    "### What does `.df()` actually compute?\n",
    "The `.df` method does roughly speaking the following:\n",
    "\n",
    "- finds all the sink, i.e. \"final\", `Ref`s in the CF, i.e. the ones that are not\n",
    "used as inputs to any call in a connected function node.\n",
    "- for each variable's sink `Ref`s, it computes a table where \n",
    "    - columns are variables and functions that these `Ref`s depend on\n",
    "    - rows contain the set of `Ref`/`Call` dependencies from each such node\n",
    "- joins these tables over all the variables containing sink `Ref`s along their\n",
    "shared columns"
   ]
  },
  {
   "cell_type": "markdown",
   "metadata": {},
   "source": [
    "## Visualizing and summarizing `ComputationFrame`s\n",
    "CFs are complex data structures, and benefit from several kinds of high-level\n",
    "summaries."
   ]
  },
  {
   "cell_type": "markdown",
   "metadata": {},
   "source": [
    "### The `.draw()` method\n",
    "We've used the `.draw()` method a bunch of times so far. Let's revisit the most\n",
    "recent CF:"
   ]
  },
  {
   "cell_type": "code",
   "execution_count": 19,
   "metadata": {
    "execution": {
     "iopub.execute_input": "2024-07-03T11:41:20.114380Z",
     "iopub.status.busy": "2024-07-03T11:41:20.114160Z",
     "iopub.status.idle": "2024-07-03T11:41:20.206578Z",
     "shell.execute_reply": "2024-07-03T11:41:20.206002Z"
    }
   },
   "outputs": [
    {
     "data": {
      "image/svg+xml": [
       "<?xml version=\"1.0\" encoding=\"UTF-8\" standalone=\"no\"?>\n",
       "<!DOCTYPE svg PUBLIC \"-//W3C//DTD SVG 1.1//EN\"\n",
       " \"http://www.w3.org/Graphics/SVG/1.1/DTD/svg11.dtd\">\n",
       "<!-- Generated by graphviz version 2.50.0 (0)\n",
       " -->\n",
       "<!-- Title: G Pages: 1 -->\n",
       "<svg width=\"270pt\" height=\"620pt\"\n",
       " viewBox=\"0.00 0.00 270.00 620.00\" xmlns=\"http://www.w3.org/2000/svg\" xmlns:xlink=\"http://www.w3.org/1999/xlink\">\n",
       "<g id=\"graph0\" class=\"graph\" transform=\"scale(1 1) rotate(0) translate(4 616)\">\n",
       "<title>G</title>\n",
       "<polygon fill=\"white\" stroke=\"transparent\" points=\"-4,4 -4,-616 266,-616 266,4 -4,4\"/>\n",
       "<!-- X_train -->\n",
       "<g id=\"node1\" class=\"node\">\n",
       "<title>X_train</title>\n",
       "<path fill=\"none\" stroke=\"#268bd2\" d=\"M48,-420C48,-420 12,-420 12,-420 6,-420 0,-414 0,-408 0,-408 0,-396 0,-396 0,-390 6,-384 12,-384 12,-384 48,-384 48,-384 54,-384 60,-390 60,-396 60,-396 60,-408 60,-408 60,-414 54,-420 48,-420\"/>\n",
       "<text text-anchor=\"start\" x=\"8\" y=\"-404.4\" font-family=\"RobotoMono\" font-weight=\"bold\" font-size=\"12.00\" fill=\"#002b36\">X_train</text>\n",
       "<text text-anchor=\"start\" x=\"11\" y=\"-394\" font-family=\"RobotoMono\" font-size=\"10.00\" fill=\"#268bd2\">1 values</text>\n",
       "</g>\n",
       "<!-- train_model -->\n",
       "<g id=\"node9\" class=\"node\">\n",
       "<title>train_model</title>\n",
       "<path fill=\"none\" stroke=\"#dc322f\" d=\"M143.5,-326C143.5,-326 72.5,-326 72.5,-326 66.5,-326 60.5,-320 60.5,-314 60.5,-314 60.5,-298 60.5,-298 60.5,-292 66.5,-286 72.5,-286 72.5,-286 143.5,-286 143.5,-286 149.5,-286 155.5,-292 155.5,-298 155.5,-298 155.5,-314 155.5,-314 155.5,-320 149.5,-326 143.5,-326\"/>\n",
       "<text text-anchor=\"start\" x=\"71.5\" y=\"-313.4\" font-family=\"RobotoMono\" font-weight=\"bold\" font-size=\"12.00\" fill=\"#002b36\">train_model</text>\n",
       "<text text-anchor=\"start\" x=\"68.5\" y=\"-303\" font-family=\"RobotoMono\" font-size=\"10.00\" fill=\"#002b36\">@op:train_model</text>\n",
       "<text text-anchor=\"start\" x=\"94\" y=\"-293\" font-family=\"RobotoMono\" font-size=\"10.00\" fill=\"#dc322f\">4 calls</text>\n",
       "</g>\n",
       "<!-- X_train&#45;&gt;train_model -->\n",
       "<g id=\"edge5\" class=\"edge\">\n",
       "<title>X_train&#45;&gt;train_model</title>\n",
       "<path fill=\"none\" stroke=\"#002b36\" d=\"M36.69,-383.88C41.9,-371.91 49.92,-355.98 60,-344 63.34,-340.03 67.18,-336.21 71.2,-332.63\"/>\n",
       "<polygon fill=\"#002b36\" stroke=\"#002b36\" points=\"73.62,-335.18 79.07,-326.09 69.14,-329.79 73.62,-335.18\"/>\n",
       "<text text-anchor=\"middle\" x=\"82\" y=\"-358\" font-family=\"RobotoMono\" font-size=\"10.00\" fill=\"#002b36\">X_train</text>\n",
       "<text text-anchor=\"middle\" x=\"82\" y=\"-347\" font-family=\"RobotoMono\" font-size=\"10.00\" fill=\"#002b36\">(1 values)</text>\n",
       "</g>\n",
       "<!-- random_seed -->\n",
       "<g id=\"node2\" class=\"node\">\n",
       "<title>random_seed</title>\n",
       "<path fill=\"none\" stroke=\"#268bd2\" d=\"M109,-612C109,-612 27,-612 27,-612 21,-612 15,-606 15,-600 15,-600 15,-588 15,-588 15,-582 21,-576 27,-576 27,-576 109,-576 109,-576 115,-576 121,-582 121,-588 121,-588 121,-600 121,-600 121,-606 115,-612 109,-612\"/>\n",
       "<text text-anchor=\"start\" x=\"27.5\" y=\"-596.4\" font-family=\"RobotoMono\" font-weight=\"bold\" font-size=\"12.00\" fill=\"#002b36\">random_seed</text>\n",
       "<text text-anchor=\"start\" x=\"23\" y=\"-586\" font-family=\"RobotoMono\" font-size=\"10.00\" fill=\"#268bd2\">1 values (1 sources)</text>\n",
       "</g>\n",
       "<!-- generate_dataset -->\n",
       "<g id=\"node8\" class=\"node\">\n",
       "<title>generate_dataset</title>\n",
       "<path fill=\"none\" stroke=\"#dc322f\" d=\"M117,-518C117,-518 19,-518 19,-518 13,-518 7,-512 7,-506 7,-506 7,-490 7,-490 7,-484 13,-478 19,-478 19,-478 117,-478 117,-478 123,-478 129,-484 129,-490 129,-490 129,-506 129,-506 129,-512 123,-518 117,-518\"/>\n",
       "<text text-anchor=\"start\" x=\"15\" y=\"-505.4\" font-family=\"RobotoMono\" font-weight=\"bold\" font-size=\"12.00\" fill=\"#002b36\">generate_dataset</text>\n",
       "<text text-anchor=\"start\" x=\"15\" y=\"-495\" font-family=\"RobotoMono\" font-size=\"10.00\" fill=\"#002b36\">@op:generate_dataset</text>\n",
       "<text text-anchor=\"start\" x=\"54\" y=\"-485\" font-family=\"RobotoMono\" font-size=\"10.00\" fill=\"#dc322f\">1 calls</text>\n",
       "</g>\n",
       "<!-- random_seed&#45;&gt;generate_dataset -->\n",
       "<g id=\"edge9\" class=\"edge\">\n",
       "<title>random_seed&#45;&gt;generate_dataset</title>\n",
       "<path fill=\"none\" stroke=\"#002b36\" d=\"M68,-575.76C68,-562.5 68,-543.86 68,-528.27\"/>\n",
       "<polygon fill=\"#002b36\" stroke=\"#002b36\" points=\"71.5,-528.07 68,-518.07 64.5,-528.07 71.5,-528.07\"/>\n",
       "<text text-anchor=\"middle\" x=\"100\" y=\"-550\" font-family=\"RobotoMono\" font-size=\"10.00\" fill=\"#002b36\">random_seed</text>\n",
       "<text text-anchor=\"middle\" x=\"100\" y=\"-539\" font-family=\"RobotoMono\" font-size=\"10.00\" fill=\"#002b36\">(1 values)</text>\n",
       "</g>\n",
       "<!-- output_0 -->\n",
       "<g id=\"node3\" class=\"node\">\n",
       "<title>output_0</title>\n",
       "<path fill=\"none\" stroke=\"#268bd2\" d=\"M87.5,-228C87.5,-228 18.5,-228 18.5,-228 12.5,-228 6.5,-222 6.5,-216 6.5,-216 6.5,-204 6.5,-204 6.5,-198 12.5,-192 18.5,-192 18.5,-192 87.5,-192 87.5,-192 93.5,-192 99.5,-198 99.5,-204 99.5,-204 99.5,-216 99.5,-216 99.5,-222 93.5,-228 87.5,-228\"/>\n",
       "<text text-anchor=\"start\" x=\"25.5\" y=\"-212.4\" font-family=\"RobotoMono\" font-weight=\"bold\" font-size=\"12.00\" fill=\"#002b36\">output_0</text>\n",
       "<text text-anchor=\"start\" x=\"14.5\" y=\"-202\" font-family=\"RobotoMono\" font-size=\"10.00\" fill=\"#268bd2\">4 values (2 sinks)</text>\n",
       "</g>\n",
       "<!-- eval_model -->\n",
       "<g id=\"node10\" class=\"node\">\n",
       "<title>eval_model</title>\n",
       "<path fill=\"none\" stroke=\"#dc322f\" d=\"M87,-134C87,-134 19,-134 19,-134 13,-134 7,-128 7,-122 7,-122 7,-106 7,-106 7,-100 13,-94 19,-94 19,-94 87,-94 87,-94 93,-94 99,-100 99,-106 99,-106 99,-122 99,-122 99,-128 93,-134 87,-134\"/>\n",
       "<text text-anchor=\"start\" x=\"19\" y=\"-121.4\" font-family=\"RobotoMono\" font-weight=\"bold\" font-size=\"12.00\" fill=\"#002b36\">eval_model</text>\n",
       "<text text-anchor=\"start\" x=\"15\" y=\"-111\" font-family=\"RobotoMono\" font-size=\"10.00\" fill=\"#002b36\">@op:eval_model</text>\n",
       "<text text-anchor=\"start\" x=\"39\" y=\"-101\" font-family=\"RobotoMono\" font-size=\"10.00\" fill=\"#dc322f\">2 calls</text>\n",
       "</g>\n",
       "<!-- output_0&#45;&gt;eval_model -->\n",
       "<g id=\"edge6\" class=\"edge\">\n",
       "<title>output_0&#45;&gt;eval_model</title>\n",
       "<path fill=\"none\" stroke=\"#002b36\" d=\"M53,-191.76C53,-178.5 53,-159.86 53,-144.27\"/>\n",
       "<polygon fill=\"#002b36\" stroke=\"#002b36\" points=\"56.5,-144.07 53,-134.07 49.5,-144.07 56.5,-144.07\"/>\n",
       "<text text-anchor=\"middle\" x=\"75\" y=\"-166\" font-family=\"RobotoMono\" font-size=\"10.00\" fill=\"#002b36\">model</text>\n",
       "<text text-anchor=\"middle\" x=\"75\" y=\"-155\" font-family=\"RobotoMono\" font-size=\"10.00\" fill=\"#002b36\">(2 values)</text>\n",
       "</g>\n",
       "<!-- y_train -->\n",
       "<g id=\"node4\" class=\"node\">\n",
       "<title>y_train</title>\n",
       "<path fill=\"none\" stroke=\"#268bd2\" d=\"M125.5,-420C125.5,-420 90.5,-420 90.5,-420 84.5,-420 78.5,-414 78.5,-408 78.5,-408 78.5,-396 78.5,-396 78.5,-390 84.5,-384 90.5,-384 90.5,-384 125.5,-384 125.5,-384 131.5,-384 137.5,-390 137.5,-396 137.5,-396 137.5,-408 137.5,-408 137.5,-414 131.5,-420 125.5,-420\"/>\n",
       "<text text-anchor=\"start\" x=\"86.5\" y=\"-404.4\" font-family=\"RobotoMono\" font-weight=\"bold\" font-size=\"12.00\" fill=\"#002b36\">y_train</text>\n",
       "<text text-anchor=\"start\" x=\"89\" y=\"-394\" font-family=\"RobotoMono\" font-size=\"10.00\" fill=\"#268bd2\">1 values</text>\n",
       "</g>\n",
       "<!-- y_train&#45;&gt;train_model -->\n",
       "<g id=\"edge3\" class=\"edge\">\n",
       "<title>y_train&#45;&gt;train_model</title>\n",
       "<path fill=\"none\" stroke=\"#002b36\" d=\"M108,-383.76C108,-370.5 108,-351.86 108,-336.27\"/>\n",
       "<polygon fill=\"#002b36\" stroke=\"#002b36\" points=\"111.5,-336.07 108,-326.07 104.5,-336.07 111.5,-336.07\"/>\n",
       "<text text-anchor=\"middle\" x=\"130\" y=\"-358\" font-family=\"RobotoMono\" font-size=\"10.00\" fill=\"#002b36\">y_train</text>\n",
       "<text text-anchor=\"middle\" x=\"130\" y=\"-347\" font-family=\"RobotoMono\" font-size=\"10.00\" fill=\"#002b36\">(1 values)</text>\n",
       "</g>\n",
       "<!-- n_estimators -->\n",
       "<g id=\"node5\" class=\"node\">\n",
       "<title>n_estimators</title>\n",
       "<path fill=\"none\" stroke=\"#268bd2\" d=\"M250,-420C250,-420 168,-420 168,-420 162,-420 156,-414 156,-408 156,-408 156,-396 156,-396 156,-390 162,-384 168,-384 168,-384 250,-384 250,-384 256,-384 262,-390 262,-396 262,-396 262,-408 262,-408 262,-414 256,-420 250,-420\"/>\n",
       "<text text-anchor=\"start\" x=\"169.5\" y=\"-404.4\" font-family=\"RobotoMono\" font-weight=\"bold\" font-size=\"12.00\" fill=\"#002b36\">n_estimators</text>\n",
       "<text text-anchor=\"start\" x=\"164\" y=\"-394\" font-family=\"RobotoMono\" font-size=\"10.00\" fill=\"#268bd2\">4 values (4 sources)</text>\n",
       "</g>\n",
       "<!-- n_estimators&#45;&gt;train_model -->\n",
       "<g id=\"edge4\" class=\"edge\">\n",
       "<title>n_estimators&#45;&gt;train_model</title>\n",
       "<path fill=\"none\" stroke=\"#002b36\" d=\"M194.38,-383.84C184.1,-372.15 169.78,-356.56 156,-344 151.67,-340.05 146.94,-336.06 142.21,-332.25\"/>\n",
       "<polygon fill=\"#002b36\" stroke=\"#002b36\" points=\"144.32,-329.45 134.29,-326.02 139.99,-334.96 144.32,-329.45\"/>\n",
       "<text text-anchor=\"middle\" x=\"207.5\" y=\"-358\" font-family=\"RobotoMono\" font-size=\"10.00\" fill=\"#002b36\">n_estimators</text>\n",
       "<text text-anchor=\"middle\" x=\"207.5\" y=\"-347\" font-family=\"RobotoMono\" font-size=\"10.00\" fill=\"#002b36\">(4 values)</text>\n",
       "</g>\n",
       "<!-- output_1 -->\n",
       "<g id=\"node6\" class=\"node\">\n",
       "<title>output_1</title>\n",
       "<path fill=\"none\" stroke=\"#268bd2\" d=\"M198.5,-228C198.5,-228 129.5,-228 129.5,-228 123.5,-228 117.5,-222 117.5,-216 117.5,-216 117.5,-204 117.5,-204 117.5,-198 123.5,-192 129.5,-192 129.5,-192 198.5,-192 198.5,-192 204.5,-192 210.5,-198 210.5,-204 210.5,-204 210.5,-216 210.5,-216 210.5,-222 204.5,-228 198.5,-228\"/>\n",
       "<text text-anchor=\"start\" x=\"136.5\" y=\"-212.4\" font-family=\"RobotoMono\" font-weight=\"bold\" font-size=\"12.00\" fill=\"#002b36\">output_1</text>\n",
       "<text text-anchor=\"start\" x=\"125.5\" y=\"-202\" font-family=\"RobotoMono\" font-size=\"10.00\" fill=\"#268bd2\">4 values (4 sinks)</text>\n",
       "</g>\n",
       "<!-- output_0_0 -->\n",
       "<g id=\"node7\" class=\"node\">\n",
       "<title>output_0_0</title>\n",
       "<path fill=\"none\" stroke=\"#268bd2\" d=\"M87.5,-36C87.5,-36 18.5,-36 18.5,-36 12.5,-36 6.5,-30 6.5,-24 6.5,-24 6.5,-12 6.5,-12 6.5,-6 12.5,0 18.5,0 18.5,0 87.5,0 87.5,0 93.5,0 99.5,-6 99.5,-12 99.5,-12 99.5,-24 99.5,-24 99.5,-30 93.5,-36 87.5,-36\"/>\n",
       "<text text-anchor=\"start\" x=\"19.5\" y=\"-20.4\" font-family=\"RobotoMono\" font-weight=\"bold\" font-size=\"12.00\" fill=\"#002b36\">output_0_0</text>\n",
       "<text text-anchor=\"start\" x=\"14.5\" y=\"-10\" font-family=\"RobotoMono\" font-size=\"10.00\" fill=\"#268bd2\">2 values (2 sinks)</text>\n",
       "</g>\n",
       "<!-- generate_dataset&#45;&gt;X_train -->\n",
       "<g id=\"edge7\" class=\"edge\">\n",
       "<title>generate_dataset&#45;&gt;X_train</title>\n",
       "<path fill=\"none\" stroke=\"#002b36\" d=\"M50.02,-477.85C45.8,-472.43 41.74,-466.29 39,-460 34.95,-450.69 32.69,-439.82 31.45,-430.08\"/>\n",
       "<polygon fill=\"#002b36\" stroke=\"#002b36\" points=\"34.93,-429.69 30.46,-420.09 27.96,-430.38 34.93,-429.69\"/>\n",
       "<text text-anchor=\"middle\" x=\"61\" y=\"-452\" font-family=\"RobotoMono\" font-size=\"10.00\" fill=\"#002b36\">output_0</text>\n",
       "<text text-anchor=\"middle\" x=\"61\" y=\"-441\" font-family=\"RobotoMono\" font-size=\"10.00\" fill=\"#002b36\">(1 values)</text>\n",
       "</g>\n",
       "<!-- generate_dataset&#45;&gt;y_train -->\n",
       "<g id=\"edge8\" class=\"edge\">\n",
       "<title>generate_dataset&#45;&gt;y_train</title>\n",
       "<path fill=\"none\" stroke=\"#002b36\" d=\"M76.09,-477.98C82.01,-464.07 90.12,-445.03 96.68,-429.61\"/>\n",
       "<polygon fill=\"#002b36\" stroke=\"#002b36\" points=\"100.03,-430.67 100.72,-420.1 93.59,-427.93 100.03,-430.67\"/>\n",
       "<text text-anchor=\"middle\" x=\"114\" y=\"-452\" font-family=\"RobotoMono\" font-size=\"10.00\" fill=\"#002b36\">output_2</text>\n",
       "<text text-anchor=\"middle\" x=\"114\" y=\"-441\" font-family=\"RobotoMono\" font-size=\"10.00\" fill=\"#002b36\">(1 values)</text>\n",
       "</g>\n",
       "<!-- train_model&#45;&gt;output_0 -->\n",
       "<g id=\"edge2\" class=\"edge\">\n",
       "<title>train_model&#45;&gt;output_0</title>\n",
       "<path fill=\"none\" stroke=\"#002b36\" d=\"M96.87,-285.98C88.58,-271.81 77.17,-252.3 68.06,-236.74\"/>\n",
       "<polygon fill=\"#002b36\" stroke=\"#002b36\" points=\"71.08,-234.96 63,-228.1 65.03,-238.5 71.08,-234.96\"/>\n",
       "<text text-anchor=\"middle\" x=\"107\" y=\"-260\" font-family=\"RobotoMono\" font-size=\"10.00\" fill=\"#002b36\">output_0</text>\n",
       "<text text-anchor=\"middle\" x=\"107\" y=\"-249\" font-family=\"RobotoMono\" font-size=\"10.00\" fill=\"#002b36\">(4 values)</text>\n",
       "</g>\n",
       "<!-- train_model&#45;&gt;output_1 -->\n",
       "<g id=\"edge1\" class=\"edge\">\n",
       "<title>train_model&#45;&gt;output_1</title>\n",
       "<path fill=\"none\" stroke=\"#002b36\" d=\"M121.59,-285.64C125.4,-280.02 129.46,-273.83 133,-268 139.03,-258.08 145.23,-246.91 150.48,-237.1\"/>\n",
       "<polygon fill=\"#002b36\" stroke=\"#002b36\" points=\"153.61,-238.68 155.2,-228.2 147.42,-235.4 153.61,-238.68\"/>\n",
       "<text text-anchor=\"middle\" x=\"167\" y=\"-260\" font-family=\"RobotoMono\" font-size=\"10.00\" fill=\"#002b36\">output_1</text>\n",
       "<text text-anchor=\"middle\" x=\"167\" y=\"-249\" font-family=\"RobotoMono\" font-size=\"10.00\" fill=\"#002b36\">(4 values)</text>\n",
       "</g>\n",
       "<!-- eval_model&#45;&gt;output_0_0 -->\n",
       "<g id=\"edge10\" class=\"edge\">\n",
       "<title>eval_model&#45;&gt;output_0_0</title>\n",
       "<path fill=\"none\" stroke=\"#002b36\" d=\"M53,-93.98C53,-80.34 53,-61.75 53,-46.5\"/>\n",
       "<polygon fill=\"#002b36\" stroke=\"#002b36\" points=\"56.5,-46.1 53,-36.1 49.5,-46.1 56.5,-46.1\"/>\n",
       "<text text-anchor=\"middle\" x=\"75\" y=\"-68\" font-family=\"RobotoMono\" font-size=\"10.00\" fill=\"#002b36\">output_0</text>\n",
       "<text text-anchor=\"middle\" x=\"75\" y=\"-57\" font-family=\"RobotoMono\" font-size=\"10.00\" fill=\"#002b36\">(2 values)</text>\n",
       "</g>\n",
       "</g>\n",
       "</svg>\n"
      ],
      "text/plain": [
       "<graphviz.sources.Source at 0x71aed15d43a0>"
      ]
     },
     "metadata": {},
     "output_type": "display_data"
    }
   ],
   "source": [
    "cf.draw(verbose=True)"
   ]
  },
  {
   "cell_type": "markdown",
   "metadata": {},
   "source": [
    "The `.draw()` method shows the computational graph of a CF and how many\n",
    "calls/refs there are in each function/variable. When called with `verbose=True`,\n",
    "this method shows a summary of how the variable values and function calls\n",
    "connect across the CF:\n",
    "\n",
    "- **source (i.e. initial) `Ref`s** in each variable: the `Ref`s in this variable\n",
    "that aren't outputs of any call in a function node using the variable as output.\n",
    "- **sink (i.e. final) `Ref`s** in each variable: dual to source refs, these are\n",
    "the `Ref`s that are not inputs to calls in any function node using the variable\n",
    "as input.\n",
    "- **edge `Ref`s** for each edge: for edges that are inputs to functions, this is\n",
    "the number of refs from the input variable that are used in calls to the\n",
    "function. For edges that are outputs of functions, this is the number of refs in\n",
    "the output variable created by calls in the function node."
   ]
  },
  {
   "cell_type": "markdown",
   "metadata": {},
   "source": [
    "### Printing the computation graph of a `ComputationFrame`\n",
    "The computational graph of a CF is part of its `repr()`, but you can also print\n",
    "just the graph:"
   ]
  },
  {
   "cell_type": "code",
   "execution_count": 20,
   "metadata": {
    "execution": {
     "iopub.execute_input": "2024-07-03T11:41:20.210172Z",
     "iopub.status.busy": "2024-07-03T11:41:20.209943Z",
     "iopub.status.idle": "2024-07-03T11:41:20.234470Z",
     "shell.execute_reply": "2024-07-03T11:41:20.233894Z"
    }
   },
   "outputs": [
    {
     "name": "stdout",
     "output_type": "stream",
     "text": [
      "X_train@output_0, y_train@output_2 = generate_dataset(random_seed=random_seed)\n",
      "output_0@output_0, output_1@output_1 = train_model(y_train=y_train, n_estimators=n_estimators, X_train=X_train)\n",
      "output_0_0@output_0 = eval_model(model=output_0)\n"
     ]
    }
   ],
   "source": [
    "cf.print_graph()"
   ]
  },
  {
   "cell_type": "markdown",
   "metadata": {},
   "source": [
    "Note that outputs are appended with `@output_0`, .... This is to indicate the\n",
    "name each output is bound to, in case some outputs are missing from the graph\n",
    "(which is possible, because CFs can represent partial computations)."
   ]
  }
 ],
 "metadata": {
  "language_info": {
   "codemirror_mode": {
    "name": "ipython",
    "version": 3
   },
   "file_extension": ".py",
   "mimetype": "text/x-python",
   "name": "python",
   "nbconvert_exporter": "python",
   "pygments_lexer": "ipython3",
   "version": "3.10.8"
  }
 },
 "nbformat": 4,
 "nbformat_minor": 2
}
