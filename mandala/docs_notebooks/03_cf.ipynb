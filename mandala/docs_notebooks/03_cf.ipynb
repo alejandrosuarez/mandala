{
 "cells": [
  {
   "cell_type": "markdown",
   "metadata": {},
   "source": [
    "# Query the Storage with `ComputationFrame`s\n",
    "<a href=\"https://colab.research.google.com/github/amakelov/mandala/blob/master/mandala/docs_notebooks/03_cf.ipynb\"> \n",
    "  <img src=\"https://colab.research.google.com/assets/colab-badge.svg\" alt=\"Open In Colab\"/> </a>\n",
    "\n",
    "## Why `ComputationFrame`s?\n",
    "The `ComputationFrame` data structure **formalizes the natural/intuitive way you\n",
    "think of the \"web\" of saved `@op` calls**. It gives you a \"grammar\" in which\n",
    "operations over persisted computation graphs that are easy to think of are also\n",
    "easy to implement.\n",
    "\n",
    "In computational projects, all queries boil down to how some variables depend on\n",
    "other variables: e.g., in ML you often care about what input parameters lead to\n",
    "final results with certain metrics. The `mandala` storage can automatically\n",
    "answer such questions when all operations along the way were `@op`s, because it\n",
    "represents the \"web\" of saved `@op` calls, linked by how the outputs of one\n",
    "`@op` are used as inputs to other `@op`s.\n",
    "\n",
    "The `ComputationFrame` (CF) is the data structure used to explore and query this\n",
    "web of calls. It's a high-level view of a collection of `@op` calls, so that\n",
    "calls that serve the same role are grouped together. **The groups of calls form a\n",
    "computational graph of variables and functions, which enables effective &\n",
    "natural high-level operations over storage**. \n",
    "\n",
    "This section covers basic tools to get up to speed with CFs. For more advanced\n",
    "usage, see [Advanced `ComputationFrame` tools](06_advanced_cf.md) "
   ]
  },
  {
   "cell_type": "markdown",
   "metadata": {},
   "source": [
    "## Typical workflow\n",
    "Using CFs typically goes through the following stages:\n",
    "\n",
    "- **[creation](#creating-computationframes)**: initialize a CF in various ways,\n",
    "e.g. from some `Ref`s, from all calls to an `@op`, .... This CF will have a\n",
    "limited view of storage because it will involve few (0 or 1) `@op`s\n",
    "- **[expansion](#exploring-storage-by-expanding-computationframes)**: add more\n",
    "context to the CF by adding new function nodes containing the calls that\n",
    "produced/used some variable(s). The goal of this stage is to incorporate in the\n",
    "CF all variables whose relationships you're interested in.\n",
    "- **combination & restriction**: merge multiple CFs, restrict to subgraphs or \n",
    "specific values of the variables along some predicates. This lets you focus on\n",
    "the computations you want before making expensive calls to the storage.\n",
    "- **[conversion to a `pandas.DataFrame`](#extracting-dataframes-from-computationframes)**: finally,\n",
    "extract a table representing the relationships between the variables in the CF\n",
    "for downstream analysis.\n",
    "\n",
    "### Toy ML pipeline\n",
    "In this section, we'll work with the following toy experiment on a small ML\n",
    "pipeline:"
   ]
  },
  {
   "cell_type": "code",
   "execution_count": 1,
   "metadata": {
    "execution": {
     "iopub.execute_input": "2024-07-03T12:06:44.837090Z",
     "iopub.status.busy": "2024-07-03T12:06:44.836696Z",
     "iopub.status.idle": "2024-07-03T12:06:44.849280Z",
     "shell.execute_reply": "2024-07-03T12:06:44.848789Z"
    }
   },
   "outputs": [],
   "source": [
    "# for Google Colab\n",
    "try:\n",
    "    import google.colab\n",
    "    !pip install git+https://github.com/amakelov/mandala\n",
    "except:\n",
    "    pass"
   ]
  },
  {
   "cell_type": "code",
   "execution_count": 2,
   "metadata": {
    "execution": {
     "iopub.execute_input": "2024-07-03T12:06:44.852415Z",
     "iopub.status.busy": "2024-07-03T12:06:44.852105Z",
     "iopub.status.idle": "2024-07-03T12:06:47.003958Z",
     "shell.execute_reply": "2024-07-03T12:06:47.003261Z"
    }
   },
   "outputs": [],
   "source": [
    "### define ops to train & eval a random forest model on digits dataset\n",
    "import numpy as np\n",
    "from sklearn.datasets import load_digits\n",
    "from sklearn.model_selection import train_test_split\n",
    "from sklearn.ensemble import RandomForestClassifier\n",
    "\n",
    "from mandala.imports import *\n",
    "try:\n",
    "    import rich\n",
    "    from rich import print as pprint\n",
    "except ImportError:\n",
    "    print(\"rich not installed, using default print\")\n",
    "    pprint = print\n",
    "\n",
    "storage = Storage()\n",
    "\n",
    "np.random.seed(0)\n",
    "\n",
    "@op \n",
    "def generate_dataset(random_seed=42):\n",
    "    X, y = load_digits(return_X_y=True)\n",
    "    X_train, X_test, y_train, y_test = train_test_split(\n",
    "        X, y, test_size=0.2, random_state=random_seed)\n",
    "    return X_train, X_test, y_train, y_test\n",
    "\n",
    "@op\n",
    "def train_model(X_train, y_train, n_estimators):\n",
    "    model = RandomForestClassifier(n_estimators=n_estimators, max_depth=2)\n",
    "    model.fit(X_train, y_train)\n",
    "    return model, round(model.score(X_train, y_train), 2)\n",
    "\n",
    "@op\n",
    "def eval_model(model, X_test, y_test):\n",
    "    return round(model.score(X_test, y_test), 2)"
   ]
  },
  {
   "cell_type": "code",
   "execution_count": 3,
   "metadata": {
    "execution": {
     "iopub.execute_input": "2024-07-03T12:06:47.007683Z",
     "iopub.status.busy": "2024-07-03T12:06:47.007391Z",
     "iopub.status.idle": "2024-07-03T12:06:47.503160Z",
     "shell.execute_reply": "2024-07-03T12:06:47.502376Z"
    }
   },
   "outputs": [],
   "source": [
    "with storage: \n",
    "    X_train, X_test, y_train, y_test = generate_dataset()\n",
    "    for n_estimators in [10, 20, 40, 80]:\n",
    "        model, train_acc = train_model(X_train, y_train, n_estimators=n_estimators)\n",
    "        if storage.unwrap(train_acc) > 0.8: # conditional execution\n",
    "            test_acc = eval_model(model, X_test, y_test)"
   ]
  },
  {
   "cell_type": "markdown",
   "metadata": {},
   "source": [
    "## Creating `ComputationFrame`s\n",
    "There are several ways to create a CF, all dispatched through the `storage.cf()`\n",
    "method.\n",
    "\n",
    "### From a single `Ref`\n",
    "The simplest example of a CF is to create one from a `Ref`:"
   ]
  },
  {
   "cell_type": "code",
   "execution_count": 4,
   "metadata": {
    "execution": {
     "iopub.execute_input": "2024-07-03T12:06:47.506384Z",
     "iopub.status.busy": "2024-07-03T12:06:47.505927Z",
     "iopub.status.idle": "2024-07-03T12:06:47.598895Z",
     "shell.execute_reply": "2024-07-03T12:06:47.598249Z"
    }
   },
   "outputs": [
    {
     "data": {
      "text/html": [
       "<pre style=\"white-space:pre;overflow-x:auto;line-height:normal;font-family:Menlo,'DejaVu Sans Mono',consolas,'Courier New',monospace\">ComputationFrame with:\n",
       "    <span style=\"color: #008080; text-decoration-color: #008080; font-weight: bold\">1</span> <span style=\"color: #800080; text-decoration-color: #800080; font-weight: bold\">variable</span><span style=\"font-weight: bold\">(</span>s<span style=\"font-weight: bold\">)</span> <span style=\"font-weight: bold\">(</span><span style=\"color: #008080; text-decoration-color: #008080; font-weight: bold\">1</span> unique refs<span style=\"font-weight: bold\">)</span>\n",
       "    <span style=\"color: #008080; text-decoration-color: #008080; font-weight: bold\">0</span> <span style=\"color: #800080; text-decoration-color: #800080; font-weight: bold\">operation</span><span style=\"font-weight: bold\">(</span>s<span style=\"font-weight: bold\">)</span> <span style=\"font-weight: bold\">(</span><span style=\"color: #008080; text-decoration-color: #008080; font-weight: bold\">0</span> unique calls<span style=\"font-weight: bold\">)</span>\n",
       "Computational graph:\n",
       "    v\n",
       "</pre>\n"
      ],
      "text/plain": [
       "ComputationFrame with:\n",
       "    \u001b[1;36m1\u001b[0m \u001b[1;35mvariable\u001b[0m\u001b[1m(\u001b[0ms\u001b[1m)\u001b[0m \u001b[1m(\u001b[0m\u001b[1;36m1\u001b[0m unique refs\u001b[1m)\u001b[0m\n",
       "    \u001b[1;36m0\u001b[0m \u001b[1;35moperation\u001b[0m\u001b[1m(\u001b[0ms\u001b[1m)\u001b[0m \u001b[1m(\u001b[0m\u001b[1;36m0\u001b[0m unique calls\u001b[1m)\u001b[0m\n",
       "Computational graph:\n",
       "    v\n"
      ]
     },
     "metadata": {},
     "output_type": "display_data"
    },
    {
     "data": {
      "image/svg+xml": [
       "<?xml version=\"1.0\" encoding=\"UTF-8\" standalone=\"no\"?>\n",
       "<!DOCTYPE svg PUBLIC \"-//W3C//DTD SVG 1.1//EN\"\n",
       " \"http://www.w3.org/Graphics/SVG/1.1/DTD/svg11.dtd\">\n",
       "<!-- Generated by graphviz version 2.50.0 (0)\n",
       " -->\n",
       "<!-- Title: G Pages: 1 -->\n",
       "<svg width=\"148pt\" height=\"44pt\"\n",
       " viewBox=\"0.00 0.00 148.00 44.00\" xmlns=\"http://www.w3.org/2000/svg\" xmlns:xlink=\"http://www.w3.org/1999/xlink\">\n",
       "<g id=\"graph0\" class=\"graph\" transform=\"scale(1 1) rotate(0) translate(4 40)\">\n",
       "<title>G</title>\n",
       "<polygon fill=\"white\" stroke=\"transparent\" points=\"-4,4 -4,-40 144,-40 144,4 -4,4\"/>\n",
       "<!-- v -->\n",
       "<g id=\"node1\" class=\"node\">\n",
       "<title>v</title>\n",
       "<path fill=\"none\" stroke=\"#268bd2\" d=\"M128,-36C128,-36 12,-36 12,-36 6,-36 0,-30 0,-24 0,-24 0,-12 0,-12 0,-6 6,0 12,0 12,0 128,0 128,0 134,0 140,-6 140,-12 140,-12 140,-24 140,-24 140,-30 134,-36 128,-36\"/>\n",
       "<text text-anchor=\"start\" x=\"66.5\" y=\"-20.4\" font-family=\"RobotoMono\" font-weight=\"bold\" font-size=\"12.00\" fill=\"#002b36\">v</text>\n",
       "<text text-anchor=\"start\" x=\"8\" y=\"-10\" font-family=\"RobotoMono\" font-size=\"10.00\" fill=\"#268bd2\">1 values (1 sources/1 sinks)</text>\n",
       "</g>\n",
       "</g>\n",
       "</svg>\n"
      ],
      "text/plain": [
       "<graphviz.sources.Source at 0x71a64b1749a0>"
      ]
     },
     "metadata": {},
     "output_type": "display_data"
    }
   ],
   "source": [
    "cf = storage.cf(test_acc)\n",
    "pprint(cf) # text description of the CF \n",
    "cf.draw(verbose=True) # pictorial representation of the CF"
   ]
  },
  {
   "cell_type": "markdown",
   "metadata": {},
   "source": [
    "As the description says, this is a CF with 1 variable (called `v`) and 0\n",
    "operations. The variable contains 1 `Ref`, i.e. 1 value. We can examine the refs\n",
    "in the variables and the calls in the operations:"
   ]
  },
  {
   "cell_type": "code",
   "execution_count": 5,
   "metadata": {
    "execution": {
     "iopub.execute_input": "2024-07-03T12:06:47.601498Z",
     "iopub.status.busy": "2024-07-03T12:06:47.601222Z",
     "iopub.status.idle": "2024-07-03T12:06:47.633030Z",
     "shell.execute_reply": "2024-07-03T12:06:47.632322Z"
    }
   },
   "outputs": [
    {
     "data": {
      "text/html": [
       "<pre style=\"white-space:pre;overflow-x:auto;line-height:normal;font-family:Menlo,'DejaVu Sans Mono',consolas,'Courier New',monospace\">Refs by variable:\n",
       "<span style=\"font-weight: bold\">{</span><span style=\"color: #008000; text-decoration-color: #008000\">'v'</span>: <span style=\"font-weight: bold\">{</span><span style=\"color: #800080; text-decoration-color: #800080; font-weight: bold\">AtomRef</span><span style=\"font-weight: bold\">(</span><span style=\"color: #008080; text-decoration-color: #008080; font-weight: bold\">0.82</span>, <span style=\"color: #808000; text-decoration-color: #808000\">hid</span>=<span style=\"color: #008000; text-decoration-color: #008000\">'11a...'</span>, <span style=\"color: #808000; text-decoration-color: #808000\">cid</span>=<span style=\"color: #008000; text-decoration-color: #008000\">'238...'</span><span style=\"font-weight: bold\">)}}</span>\n",
       "</pre>\n"
      ],
      "text/plain": [
       "Refs by variable:\n",
       "\u001b[1m{\u001b[0m\u001b[32m'v'\u001b[0m: \u001b[1m{\u001b[0m\u001b[1;35mAtomRef\u001b[0m\u001b[1m(\u001b[0m\u001b[1;36m0.82\u001b[0m, \u001b[33mhid\u001b[0m=\u001b[32m'11a...'\u001b[0m, \u001b[33mcid\u001b[0m=\u001b[32m'238...'\u001b[0m\u001b[1m)\u001b[0m\u001b[1m}\u001b[0m\u001b[1m}\u001b[0m\n"
      ]
     },
     "metadata": {},
     "output_type": "display_data"
    },
    {
     "data": {
      "text/html": [
       "<pre style=\"white-space:pre;overflow-x:auto;line-height:normal;font-family:Menlo,'DejaVu Sans Mono',consolas,'Courier New',monospace\">Calls by operation:\n",
       "<span style=\"font-weight: bold\">{}</span>\n",
       "</pre>\n"
      ],
      "text/plain": [
       "Calls by operation:\n",
       "\u001b[1m{\u001b[0m\u001b[1m}\u001b[0m\n"
      ]
     },
     "metadata": {},
     "output_type": "display_data"
    }
   ],
   "source": [
    "pprint(f'Refs by variable:\\n{cf.refs_by_var()}')\n",
    "pprint(f'Calls by operation:\\n{cf.calls_by_func()}')"
   ]
  },
  {
   "cell_type": "markdown",
   "metadata": {},
   "source": [
    "To make this more interesting, we can call `expand_back()` (explained in more\n",
    "detail later) on the CF to add the full computational history of all values in\n",
    "all variables:"
   ]
  },
  {
   "cell_type": "code",
   "execution_count": 6,
   "metadata": {
    "execution": {
     "iopub.execute_input": "2024-07-03T12:06:47.635692Z",
     "iopub.status.busy": "2024-07-03T12:06:47.635415Z",
     "iopub.status.idle": "2024-07-03T12:06:48.033817Z",
     "shell.execute_reply": "2024-07-03T12:06:48.033070Z"
    }
   },
   "outputs": [
    {
     "data": {
      "text/html": [
       "<pre style=\"white-space:pre;overflow-x:auto;line-height:normal;font-family:Menlo,'DejaVu Sans Mono',consolas,'Courier New',monospace\">ComputationFrame with:\n",
       "    <span style=\"color: #008080; text-decoration-color: #008080; font-weight: bold\">8</span> <span style=\"color: #800080; text-decoration-color: #800080; font-weight: bold\">variable</span><span style=\"font-weight: bold\">(</span>s<span style=\"font-weight: bold\">)</span> <span style=\"font-weight: bold\">(</span><span style=\"color: #008080; text-decoration-color: #008080; font-weight: bold\">8</span> unique refs<span style=\"font-weight: bold\">)</span>\n",
       "    <span style=\"color: #008080; text-decoration-color: #008080; font-weight: bold\">3</span> <span style=\"color: #800080; text-decoration-color: #800080; font-weight: bold\">operation</span><span style=\"font-weight: bold\">(</span>s<span style=\"font-weight: bold\">)</span> <span style=\"font-weight: bold\">(</span><span style=\"color: #008080; text-decoration-color: #008080; font-weight: bold\">3</span> unique calls<span style=\"font-weight: bold\">)</span>\n",
       "Computational graph:\n",
       "    X_train@output_0, X_test@output_1, y_train@output_2, y_test@output_3 = \n",
       "<span style=\"color: #800080; text-decoration-color: #800080; font-weight: bold\">generate_dataset</span><span style=\"font-weight: bold\">(</span><span style=\"color: #808000; text-decoration-color: #808000\">random_seed</span>=<span style=\"color: #800080; text-decoration-color: #800080\">random_seed</span><span style=\"font-weight: bold\">)</span>\n",
       "    model@output_0 = <span style=\"color: #800080; text-decoration-color: #800080; font-weight: bold\">train_model</span><span style=\"font-weight: bold\">(</span><span style=\"color: #808000; text-decoration-color: #808000\">y_train</span>=<span style=\"color: #800080; text-decoration-color: #800080\">y_train</span>, <span style=\"color: #808000; text-decoration-color: #808000\">X_train</span>=<span style=\"color: #800080; text-decoration-color: #800080\">X_train</span>, <span style=\"color: #808000; text-decoration-color: #808000\">n_estimators</span>=<span style=\"color: #800080; text-decoration-color: #800080\">n_estimators</span><span style=\"font-weight: bold\">)</span>\n",
       "    v@output_0 = <span style=\"color: #800080; text-decoration-color: #800080; font-weight: bold\">eval_model</span><span style=\"font-weight: bold\">(</span><span style=\"color: #808000; text-decoration-color: #808000\">y_test</span>=<span style=\"color: #800080; text-decoration-color: #800080\">y_test</span>, <span style=\"color: #808000; text-decoration-color: #808000\">X_test</span>=<span style=\"color: #800080; text-decoration-color: #800080\">X_test</span>, <span style=\"color: #808000; text-decoration-color: #808000\">model</span>=<span style=\"color: #800080; text-decoration-color: #800080\">model</span><span style=\"font-weight: bold\">)</span>\n",
       "</pre>\n"
      ],
      "text/plain": [
       "ComputationFrame with:\n",
       "    \u001b[1;36m8\u001b[0m \u001b[1;35mvariable\u001b[0m\u001b[1m(\u001b[0ms\u001b[1m)\u001b[0m \u001b[1m(\u001b[0m\u001b[1;36m8\u001b[0m unique refs\u001b[1m)\u001b[0m\n",
       "    \u001b[1;36m3\u001b[0m \u001b[1;35moperation\u001b[0m\u001b[1m(\u001b[0ms\u001b[1m)\u001b[0m \u001b[1m(\u001b[0m\u001b[1;36m3\u001b[0m unique calls\u001b[1m)\u001b[0m\n",
       "Computational graph:\n",
       "    X_train@output_0, X_test@output_1, y_train@output_2, y_test@output_3 = \n",
       "\u001b[1;35mgenerate_dataset\u001b[0m\u001b[1m(\u001b[0m\u001b[33mrandom_seed\u001b[0m=\u001b[35mrandom_seed\u001b[0m\u001b[1m)\u001b[0m\n",
       "    model@output_0 = \u001b[1;35mtrain_model\u001b[0m\u001b[1m(\u001b[0m\u001b[33my_train\u001b[0m=\u001b[35my_train\u001b[0m, \u001b[33mX_train\u001b[0m=\u001b[35mX_train\u001b[0m, \u001b[33mn_estimators\u001b[0m=\u001b[35mn_estimators\u001b[0m\u001b[1m)\u001b[0m\n",
       "    v@output_0 = \u001b[1;35meval_model\u001b[0m\u001b[1m(\u001b[0m\u001b[33my_test\u001b[0m=\u001b[35my_test\u001b[0m, \u001b[33mX_test\u001b[0m=\u001b[35mX_test\u001b[0m, \u001b[33mmodel\u001b[0m=\u001b[35mmodel\u001b[0m\u001b[1m)\u001b[0m\n"
      ]
     },
     "metadata": {},
     "output_type": "display_data"
    },
    {
     "data": {
      "image/svg+xml": [
       "<?xml version=\"1.0\" encoding=\"UTF-8\" standalone=\"no\"?>\n",
       "<!DOCTYPE svg PUBLIC \"-//W3C//DTD SVG 1.1//EN\"\n",
       " \"http://www.w3.org/Graphics/SVG/1.1/DTD/svg11.dtd\">\n",
       "<!-- Generated by graphviz version 2.50.0 (0)\n",
       " -->\n",
       "<!-- Title: G Pages: 1 -->\n",
       "<svg width=\"396pt\" height=\"648pt\"\n",
       " viewBox=\"0.00 0.00 395.50 648.00\" xmlns=\"http://www.w3.org/2000/svg\" xmlns:xlink=\"http://www.w3.org/1999/xlink\">\n",
       "<g id=\"graph0\" class=\"graph\" transform=\"scale(1 1) rotate(0) translate(4 644)\">\n",
       "<title>G</title>\n",
       "<polygon fill=\"white\" stroke=\"transparent\" points=\"-4,4 -4,-644 391.5,-644 391.5,4 -4,4\"/>\n",
       "<!-- y_train -->\n",
       "<g id=\"node1\" class=\"node\">\n",
       "<title>y_train</title>\n",
       "<path fill=\"none\" stroke=\"#268bd2\" d=\"M47,-448C47,-448 12,-448 12,-448 6,-448 0,-442 0,-436 0,-436 0,-424 0,-424 0,-418 6,-412 12,-412 12,-412 47,-412 47,-412 53,-412 59,-418 59,-424 59,-424 59,-436 59,-436 59,-442 53,-448 47,-448\"/>\n",
       "<text text-anchor=\"start\" x=\"8\" y=\"-432.4\" font-family=\"RobotoMono\" font-weight=\"bold\" font-size=\"12.00\" fill=\"#002b36\">y_train</text>\n",
       "<text text-anchor=\"start\" x=\"10.5\" y=\"-422\" font-family=\"RobotoMono\" font-size=\"10.00\" fill=\"#268bd2\">1 values</text>\n",
       "</g>\n",
       "<!-- train_model -->\n",
       "<g id=\"node9\" class=\"node\">\n",
       "<title>train_model</title>\n",
       "<path fill=\"none\" stroke=\"#dc322f\" d=\"M195,-340C195,-340 124,-340 124,-340 118,-340 112,-334 112,-328 112,-328 112,-312 112,-312 112,-306 118,-300 124,-300 124,-300 195,-300 195,-300 201,-300 207,-306 207,-312 207,-312 207,-328 207,-328 207,-334 201,-340 195,-340\"/>\n",
       "<text text-anchor=\"start\" x=\"123\" y=\"-327.4\" font-family=\"RobotoMono\" font-weight=\"bold\" font-size=\"12.00\" fill=\"#002b36\">train_model</text>\n",
       "<text text-anchor=\"start\" x=\"120\" y=\"-317\" font-family=\"RobotoMono\" font-size=\"10.00\" fill=\"#002b36\">@op:train_model</text>\n",
       "<text text-anchor=\"start\" x=\"145.5\" y=\"-307\" font-family=\"RobotoMono\" font-size=\"10.00\" fill=\"#dc322f\">1 calls</text>\n",
       "</g>\n",
       "<!-- y_train&#45;&gt;train_model -->\n",
       "<g id=\"edge11\" class=\"edge\">\n",
       "<title>y_train&#45;&gt;train_model</title>\n",
       "<path fill=\"none\" stroke=\"#002b36\" d=\"M34.29,-411.91C39.55,-396 49.45,-372.6 65.5,-358 75.94,-348.5 89.1,-341.32 102.25,-335.93\"/>\n",
       "<polygon fill=\"#002b36\" stroke=\"#002b36\" points=\"103.66,-339.14 111.78,-332.32 101.18,-332.59 103.66,-339.14\"/>\n",
       "<text text-anchor=\"middle\" x=\"87.5\" y=\"-379\" font-family=\"RobotoMono\" font-size=\"10.00\" fill=\"#002b36\">y_train</text>\n",
       "<text text-anchor=\"middle\" x=\"87.5\" y=\"-368\" font-family=\"RobotoMono\" font-size=\"10.00\" fill=\"#002b36\">(1 values)</text>\n",
       "</g>\n",
       "<!-- X_train -->\n",
       "<g id=\"node2\" class=\"node\">\n",
       "<title>X_train</title>\n",
       "<path fill=\"none\" stroke=\"#268bd2\" d=\"M125.5,-448C125.5,-448 89.5,-448 89.5,-448 83.5,-448 77.5,-442 77.5,-436 77.5,-436 77.5,-424 77.5,-424 77.5,-418 83.5,-412 89.5,-412 89.5,-412 125.5,-412 125.5,-412 131.5,-412 137.5,-418 137.5,-424 137.5,-424 137.5,-436 137.5,-436 137.5,-442 131.5,-448 125.5,-448\"/>\n",
       "<text text-anchor=\"start\" x=\"85.5\" y=\"-432.4\" font-family=\"RobotoMono\" font-weight=\"bold\" font-size=\"12.00\" fill=\"#002b36\">X_train</text>\n",
       "<text text-anchor=\"start\" x=\"88.5\" y=\"-422\" font-family=\"RobotoMono\" font-size=\"10.00\" fill=\"#268bd2\">1 values</text>\n",
       "</g>\n",
       "<!-- X_train&#45;&gt;train_model -->\n",
       "<g id=\"edge12\" class=\"edge\">\n",
       "<title>X_train&#45;&gt;train_model</title>\n",
       "<path fill=\"none\" stroke=\"#002b36\" d=\"M110.15,-411.85C112.95,-396.96 118.27,-375.14 127.5,-358 129.3,-354.66 131.44,-351.36 133.75,-348.19\"/>\n",
       "<polygon fill=\"#002b36\" stroke=\"#002b36\" points=\"136.66,-350.16 140.15,-340.16 131.19,-345.8 136.66,-350.16\"/>\n",
       "<text text-anchor=\"middle\" x=\"149.5\" y=\"-379\" font-family=\"RobotoMono\" font-size=\"10.00\" fill=\"#002b36\">X_train</text>\n",
       "<text text-anchor=\"middle\" x=\"149.5\" y=\"-368\" font-family=\"RobotoMono\" font-size=\"10.00\" fill=\"#002b36\">(1 values)</text>\n",
       "</g>\n",
       "<!-- y_test -->\n",
       "<g id=\"node3\" class=\"node\">\n",
       "<title>y_test</title>\n",
       "<path fill=\"none\" stroke=\"#268bd2\" d=\"M304.5,-394C304.5,-394 274.5,-394 274.5,-394 268.5,-394 262.5,-388 262.5,-382 262.5,-382 262.5,-370 262.5,-370 262.5,-364 268.5,-358 274.5,-358 274.5,-358 304.5,-358 304.5,-358 310.5,-358 316.5,-364 316.5,-370 316.5,-370 316.5,-382 316.5,-382 316.5,-388 310.5,-394 304.5,-394\"/>\n",
       "<text text-anchor=\"start\" x=\"271.5\" y=\"-378.4\" font-family=\"RobotoMono\" font-weight=\"bold\" font-size=\"12.00\" fill=\"#002b36\">y_test</text>\n",
       "<text text-anchor=\"start\" x=\"270.5\" y=\"-368\" font-family=\"RobotoMono\" font-size=\"10.00\" fill=\"#268bd2\">1 values</text>\n",
       "</g>\n",
       "<!-- eval_model -->\n",
       "<g id=\"node11\" class=\"node\">\n",
       "<title>eval_model</title>\n",
       "<path fill=\"none\" stroke=\"#dc322f\" d=\"M306.5,-134C306.5,-134 238.5,-134 238.5,-134 232.5,-134 226.5,-128 226.5,-122 226.5,-122 226.5,-106 226.5,-106 226.5,-100 232.5,-94 238.5,-94 238.5,-94 306.5,-94 306.5,-94 312.5,-94 318.5,-100 318.5,-106 318.5,-106 318.5,-122 318.5,-122 318.5,-128 312.5,-134 306.5,-134\"/>\n",
       "<text text-anchor=\"start\" x=\"238.5\" y=\"-121.4\" font-family=\"RobotoMono\" font-weight=\"bold\" font-size=\"12.00\" fill=\"#002b36\">eval_model</text>\n",
       "<text text-anchor=\"start\" x=\"234.5\" y=\"-111\" font-family=\"RobotoMono\" font-size=\"10.00\" fill=\"#002b36\">@op:eval_model</text>\n",
       "<text text-anchor=\"start\" x=\"258.5\" y=\"-101\" font-family=\"RobotoMono\" font-size=\"10.00\" fill=\"#dc322f\">1 calls</text>\n",
       "</g>\n",
       "<!-- y_test&#45;&gt;eval_model -->\n",
       "<g id=\"edge2\" class=\"edge\">\n",
       "<title>y_test&#45;&gt;eval_model</title>\n",
       "<path fill=\"none\" stroke=\"#002b36\" d=\"M284.38,-357.71C279.19,-339.19 271.49,-308.81 268.5,-282 263.14,-233.89 266.47,-177.51 269.44,-144.11\"/>\n",
       "<polygon fill=\"#002b36\" stroke=\"#002b36\" points=\"272.92,-144.39 270.38,-134.11 265.96,-143.74 272.92,-144.39\"/>\n",
       "<text text-anchor=\"middle\" x=\"290.5\" y=\"-267\" font-family=\"RobotoMono\" font-size=\"10.00\" fill=\"#002b36\">y_test</text>\n",
       "<text text-anchor=\"middle\" x=\"290.5\" y=\"-256\" font-family=\"RobotoMono\" font-size=\"10.00\" fill=\"#002b36\">(1 values)</text>\n",
       "</g>\n",
       "<!-- X_test -->\n",
       "<g id=\"node4\" class=\"node\">\n",
       "<title>X_test</title>\n",
       "<path fill=\"none\" stroke=\"#268bd2\" d=\"M363.5,-282C363.5,-282 333.5,-282 333.5,-282 327.5,-282 321.5,-276 321.5,-270 321.5,-270 321.5,-258 321.5,-258 321.5,-252 327.5,-246 333.5,-246 333.5,-246 363.5,-246 363.5,-246 369.5,-246 375.5,-252 375.5,-258 375.5,-258 375.5,-270 375.5,-270 375.5,-276 369.5,-282 363.5,-282\"/>\n",
       "<text text-anchor=\"start\" x=\"330\" y=\"-266.4\" font-family=\"RobotoMono\" font-weight=\"bold\" font-size=\"12.00\" fill=\"#002b36\">X_test</text>\n",
       "<text text-anchor=\"start\" x=\"329.5\" y=\"-256\" font-family=\"RobotoMono\" font-size=\"10.00\" fill=\"#268bd2\">1 values</text>\n",
       "</g>\n",
       "<!-- X_test&#45;&gt;eval_model -->\n",
       "<g id=\"edge3\" class=\"edge\">\n",
       "<title>X_test&#45;&gt;eval_model</title>\n",
       "<path fill=\"none\" stroke=\"#002b36\" d=\"M339.63,-245.73C326.7,-220.55 302.52,-173.46 286.98,-143.2\"/>\n",
       "<polygon fill=\"#002b36\" stroke=\"#002b36\" points=\"289.95,-141.32 282.27,-134.02 283.72,-144.52 289.95,-141.32\"/>\n",
       "<text text-anchor=\"middle\" x=\"350.5\" y=\"-213\" font-family=\"RobotoMono\" font-size=\"10.00\" fill=\"#002b36\">X_test</text>\n",
       "<text text-anchor=\"middle\" x=\"350.5\" y=\"-202\" font-family=\"RobotoMono\" font-size=\"10.00\" fill=\"#002b36\">(1 values)</text>\n",
       "</g>\n",
       "<!-- random_seed -->\n",
       "<g id=\"node5\" class=\"node\">\n",
       "<title>random_seed</title>\n",
       "<path fill=\"none\" stroke=\"#268bd2\" d=\"M284.5,-640C284.5,-640 202.5,-640 202.5,-640 196.5,-640 190.5,-634 190.5,-628 190.5,-628 190.5,-616 190.5,-616 190.5,-610 196.5,-604 202.5,-604 202.5,-604 284.5,-604 284.5,-604 290.5,-604 296.5,-610 296.5,-616 296.5,-616 296.5,-628 296.5,-628 296.5,-634 290.5,-640 284.5,-640\"/>\n",
       "<text text-anchor=\"start\" x=\"203\" y=\"-624.4\" font-family=\"RobotoMono\" font-weight=\"bold\" font-size=\"12.00\" fill=\"#002b36\">random_seed</text>\n",
       "<text text-anchor=\"start\" x=\"198.5\" y=\"-614\" font-family=\"RobotoMono\" font-size=\"10.00\" fill=\"#268bd2\">1 values (1 sources)</text>\n",
       "</g>\n",
       "<!-- generate_dataset -->\n",
       "<g id=\"node10\" class=\"node\">\n",
       "<title>generate_dataset</title>\n",
       "<path fill=\"none\" stroke=\"#dc322f\" d=\"M292.5,-546C292.5,-546 194.5,-546 194.5,-546 188.5,-546 182.5,-540 182.5,-534 182.5,-534 182.5,-518 182.5,-518 182.5,-512 188.5,-506 194.5,-506 194.5,-506 292.5,-506 292.5,-506 298.5,-506 304.5,-512 304.5,-518 304.5,-518 304.5,-534 304.5,-534 304.5,-540 298.5,-546 292.5,-546\"/>\n",
       "<text text-anchor=\"start\" x=\"190.5\" y=\"-533.4\" font-family=\"RobotoMono\" font-weight=\"bold\" font-size=\"12.00\" fill=\"#002b36\">generate_dataset</text>\n",
       "<text text-anchor=\"start\" x=\"190.5\" y=\"-523\" font-family=\"RobotoMono\" font-size=\"10.00\" fill=\"#002b36\">@op:generate_dataset</text>\n",
       "<text text-anchor=\"start\" x=\"229.5\" y=\"-513\" font-family=\"RobotoMono\" font-size=\"10.00\" fill=\"#dc322f\">1 calls</text>\n",
       "</g>\n",
       "<!-- random_seed&#45;&gt;generate_dataset -->\n",
       "<g id=\"edge9\" class=\"edge\">\n",
       "<title>random_seed&#45;&gt;generate_dataset</title>\n",
       "<path fill=\"none\" stroke=\"#002b36\" d=\"M243.5,-603.76C243.5,-590.5 243.5,-571.86 243.5,-556.27\"/>\n",
       "<polygon fill=\"#002b36\" stroke=\"#002b36\" points=\"247,-556.07 243.5,-546.07 240,-556.07 247,-556.07\"/>\n",
       "<text text-anchor=\"middle\" x=\"275.5\" y=\"-578\" font-family=\"RobotoMono\" font-size=\"10.00\" fill=\"#002b36\">random_seed</text>\n",
       "<text text-anchor=\"middle\" x=\"275.5\" y=\"-567\" font-family=\"RobotoMono\" font-size=\"10.00\" fill=\"#002b36\">(1 values)</text>\n",
       "</g>\n",
       "<!-- n_estimators -->\n",
       "<g id=\"node6\" class=\"node\">\n",
       "<title>n_estimators</title>\n",
       "<path fill=\"none\" stroke=\"#268bd2\" d=\"M249.5,-448C249.5,-448 167.5,-448 167.5,-448 161.5,-448 155.5,-442 155.5,-436 155.5,-436 155.5,-424 155.5,-424 155.5,-418 161.5,-412 167.5,-412 167.5,-412 249.5,-412 249.5,-412 255.5,-412 261.5,-418 261.5,-424 261.5,-424 261.5,-436 261.5,-436 261.5,-442 255.5,-448 249.5,-448\"/>\n",
       "<text text-anchor=\"start\" x=\"169\" y=\"-432.4\" font-family=\"RobotoMono\" font-weight=\"bold\" font-size=\"12.00\" fill=\"#002b36\">n_estimators</text>\n",
       "<text text-anchor=\"start\" x=\"163.5\" y=\"-422\" font-family=\"RobotoMono\" font-size=\"10.00\" fill=\"#268bd2\">1 values (1 sources)</text>\n",
       "</g>\n",
       "<!-- n_estimators&#45;&gt;train_model -->\n",
       "<g id=\"edge13\" class=\"edge\">\n",
       "<title>n_estimators&#45;&gt;train_model</title>\n",
       "<path fill=\"none\" stroke=\"#002b36\" d=\"M200.67,-411.92C198.07,-406.22 195.15,-399.84 192.5,-394 185.83,-379.33 178.44,-362.98 172.34,-349.48\"/>\n",
       "<polygon fill=\"#002b36\" stroke=\"#002b36\" points=\"175.47,-347.9 168.16,-340.22 169.09,-350.78 175.47,-347.9\"/>\n",
       "<text text-anchor=\"middle\" x=\"223\" y=\"-379\" font-family=\"RobotoMono\" font-size=\"10.00\" fill=\"#002b36\">n_estimators</text>\n",
       "<text text-anchor=\"middle\" x=\"223\" y=\"-368\" font-family=\"RobotoMono\" font-size=\"10.00\" fill=\"#002b36\">(1 values)</text>\n",
       "</g>\n",
       "<!-- v -->\n",
       "<g id=\"node7\" class=\"node\">\n",
       "<title>v</title>\n",
       "<path fill=\"none\" stroke=\"#268bd2\" d=\"M307,-36C307,-36 238,-36 238,-36 232,-36 226,-30 226,-24 226,-24 226,-12 226,-12 226,-6 232,0 238,0 238,0 307,0 307,0 313,0 319,-6 319,-12 319,-12 319,-24 319,-24 319,-30 313,-36 307,-36\"/>\n",
       "<text text-anchor=\"start\" x=\"269\" y=\"-20.4\" font-family=\"RobotoMono\" font-weight=\"bold\" font-size=\"12.00\" fill=\"#002b36\">v</text>\n",
       "<text text-anchor=\"start\" x=\"234\" y=\"-10\" font-family=\"RobotoMono\" font-size=\"10.00\" fill=\"#268bd2\">1 values (1 sinks)</text>\n",
       "</g>\n",
       "<!-- model -->\n",
       "<g id=\"node8\" class=\"node\">\n",
       "<title>model</title>\n",
       "<path fill=\"none\" stroke=\"#268bd2\" d=\"M222.5,-228C222.5,-228 192.5,-228 192.5,-228 186.5,-228 180.5,-222 180.5,-216 180.5,-216 180.5,-204 180.5,-204 180.5,-198 186.5,-192 192.5,-192 192.5,-192 222.5,-192 222.5,-192 228.5,-192 234.5,-198 234.5,-204 234.5,-204 234.5,-216 234.5,-216 234.5,-222 228.5,-228 222.5,-228\"/>\n",
       "<text text-anchor=\"start\" x=\"188.5\" y=\"-212.4\" font-family=\"RobotoMono\" font-weight=\"bold\" font-size=\"12.00\" fill=\"#002b36\">model</text>\n",
       "<text text-anchor=\"start\" x=\"188.5\" y=\"-202\" font-family=\"RobotoMono\" font-size=\"10.00\" fill=\"#268bd2\">1 values</text>\n",
       "</g>\n",
       "<!-- model&#45;&gt;eval_model -->\n",
       "<g id=\"edge4\" class=\"edge\">\n",
       "<title>model&#45;&gt;eval_model</title>\n",
       "<path fill=\"none\" stroke=\"#002b36\" d=\"M205.92,-191.77C205.66,-179.75 207.06,-163.81 214.5,-152 217.15,-147.8 220.46,-143.99 224.16,-140.55\"/>\n",
       "<polygon fill=\"#002b36\" stroke=\"#002b36\" points=\"226.65,-143.04 232.2,-134.01 222.23,-137.61 226.65,-143.04\"/>\n",
       "<text text-anchor=\"middle\" x=\"236.5\" y=\"-166\" font-family=\"RobotoMono\" font-size=\"10.00\" fill=\"#002b36\">model</text>\n",
       "<text text-anchor=\"middle\" x=\"236.5\" y=\"-155\" font-family=\"RobotoMono\" font-size=\"10.00\" fill=\"#002b36\">(1 values)</text>\n",
       "</g>\n",
       "<!-- train_model&#45;&gt;model -->\n",
       "<g id=\"edge10\" class=\"edge\">\n",
       "<title>train_model&#45;&gt;model</title>\n",
       "<path fill=\"none\" stroke=\"#002b36\" d=\"M167.97,-299.94C175.71,-282.53 187.22,-256.64 195.82,-237.27\"/>\n",
       "<polygon fill=\"#002b36\" stroke=\"#002b36\" points=\"199.04,-238.65 199.9,-228.09 192.64,-235.81 199.04,-238.65\"/>\n",
       "<text text-anchor=\"middle\" x=\"212.5\" y=\"-267\" font-family=\"RobotoMono\" font-size=\"10.00\" fill=\"#002b36\">output_0</text>\n",
       "<text text-anchor=\"middle\" x=\"212.5\" y=\"-256\" font-family=\"RobotoMono\" font-size=\"10.00\" fill=\"#002b36\">(1 values)</text>\n",
       "</g>\n",
       "<!-- generate_dataset&#45;&gt;y_train -->\n",
       "<g id=\"edge8\" class=\"edge\">\n",
       "<title>generate_dataset&#45;&gt;y_train</title>\n",
       "<path fill=\"none\" stroke=\"#002b36\" d=\"M182.34,-512.64C159.2,-506.77 133.03,-498.67 110.5,-488 91.79,-479.14 72.77,-466.01 57.86,-454.58\"/>\n",
       "<polygon fill=\"#002b36\" stroke=\"#002b36\" points=\"59.62,-451.52 49.6,-448.1 55.3,-457.02 59.62,-451.52\"/>\n",
       "<text text-anchor=\"middle\" x=\"132.5\" y=\"-480\" font-family=\"RobotoMono\" font-size=\"10.00\" fill=\"#002b36\">output_2</text>\n",
       "<text text-anchor=\"middle\" x=\"132.5\" y=\"-469\" font-family=\"RobotoMono\" font-size=\"10.00\" fill=\"#002b36\">(1 values)</text>\n",
       "</g>\n",
       "<!-- generate_dataset&#45;&gt;X_train -->\n",
       "<g id=\"edge7\" class=\"edge\">\n",
       "<title>generate_dataset&#45;&gt;X_train</title>\n",
       "<path fill=\"none\" stroke=\"#002b36\" d=\"M215.98,-505.98C194.23,-490.95 163.8,-469.91 140.7,-453.95\"/>\n",
       "<polygon fill=\"#002b36\" stroke=\"#002b36\" points=\"142.45,-450.9 132.24,-448.1 138.47,-456.66 142.45,-450.9\"/>\n",
       "<text text-anchor=\"middle\" x=\"209.5\" y=\"-480\" font-family=\"RobotoMono\" font-size=\"10.00\" fill=\"#002b36\">output_0</text>\n",
       "<text text-anchor=\"middle\" x=\"209.5\" y=\"-469\" font-family=\"RobotoMono\" font-size=\"10.00\" fill=\"#002b36\">(1 values)</text>\n",
       "</g>\n",
       "<!-- generate_dataset&#45;&gt;y_test -->\n",
       "<g id=\"edge6\" class=\"edge\">\n",
       "<title>generate_dataset&#45;&gt;y_test</title>\n",
       "<path fill=\"none\" stroke=\"#002b36\" d=\"M250.68,-505.83C256.37,-490.33 264.36,-467.9 270.5,-448 274.95,-433.57 279.35,-417.31 282.79,-403.99\"/>\n",
       "<polygon fill=\"#002b36\" stroke=\"#002b36\" points=\"286.25,-404.59 285.33,-394.03 279.47,-402.86 286.25,-404.59\"/>\n",
       "<text text-anchor=\"middle\" x=\"286.5\" y=\"-480\" font-family=\"RobotoMono\" font-size=\"10.00\" fill=\"#002b36\">output_3</text>\n",
       "<text text-anchor=\"middle\" x=\"286.5\" y=\"-469\" font-family=\"RobotoMono\" font-size=\"10.00\" fill=\"#002b36\">(1 values)</text>\n",
       "</g>\n",
       "<!-- generate_dataset&#45;&gt;X_test -->\n",
       "<g id=\"edge5\" class=\"edge\">\n",
       "<title>generate_dataset&#45;&gt;X_test</title>\n",
       "<path fill=\"none\" stroke=\"#002b36\" d=\"M292.85,-505.96C300.4,-501.12 307.37,-495.19 312.5,-488 354.88,-428.56 354.66,-337.65 351.39,-292.47\"/>\n",
       "<polygon fill=\"#002b36\" stroke=\"#002b36\" points=\"354.85,-291.94 350.54,-282.27 347.88,-292.52 354.85,-291.94\"/>\n",
       "<text text-anchor=\"middle\" x=\"365.5\" y=\"-433\" font-family=\"RobotoMono\" font-size=\"10.00\" fill=\"#002b36\">output_1</text>\n",
       "<text text-anchor=\"middle\" x=\"365.5\" y=\"-422\" font-family=\"RobotoMono\" font-size=\"10.00\" fill=\"#002b36\">(1 values)</text>\n",
       "</g>\n",
       "<!-- eval_model&#45;&gt;v -->\n",
       "<g id=\"edge1\" class=\"edge\">\n",
       "<title>eval_model&#45;&gt;v</title>\n",
       "<path fill=\"none\" stroke=\"#002b36\" d=\"M272.5,-93.98C272.5,-80.34 272.5,-61.75 272.5,-46.5\"/>\n",
       "<polygon fill=\"#002b36\" stroke=\"#002b36\" points=\"276,-46.1 272.5,-36.1 269,-46.1 276,-46.1\"/>\n",
       "<text text-anchor=\"middle\" x=\"294.5\" y=\"-68\" font-family=\"RobotoMono\" font-size=\"10.00\" fill=\"#002b36\">output_0</text>\n",
       "<text text-anchor=\"middle\" x=\"294.5\" y=\"-57\" font-family=\"RobotoMono\" font-size=\"10.00\" fill=\"#002b36\">(1 values)</text>\n",
       "</g>\n",
       "</g>\n",
       "</svg>\n"
      ],
      "text/plain": [
       "<graphviz.sources.Source at 0x71a64b13b640>"
      ]
     },
     "metadata": {},
     "output_type": "display_data"
    }
   ],
   "source": [
    "cf.expand_back(inplace=True, recursive=True)\n",
    "pprint(cf)\n",
    "cf.draw(verbose=True)"
   ]
  },
  {
   "cell_type": "markdown",
   "metadata": {},
   "source": [
    "The variables added to the CF during expansion are given informative names based\n",
    "on input names of functions called on these variables. The result of expansion\n",
    "tells us the precise way `test_acc` was computed. We can get the values of each\n",
    "variable and the calls of each function:"
   ]
  },
  {
   "cell_type": "code",
   "execution_count": 7,
   "metadata": {
    "execution": {
     "iopub.execute_input": "2024-07-03T12:06:48.036734Z",
     "iopub.status.busy": "2024-07-03T12:06:48.036514Z",
     "iopub.status.idle": "2024-07-03T12:06:48.093679Z",
     "shell.execute_reply": "2024-07-03T12:06:48.093114Z"
    }
   },
   "outputs": [
    {
     "data": {
      "text/html": [
       "<pre style=\"white-space:pre;overflow-x:auto;line-height:normal;font-family:Menlo,'DejaVu Sans Mono',consolas,'Courier New',monospace\"><span style=\"font-weight: bold\">{</span>\n",
       "    <span style=\"color: #008000; text-decoration-color: #008000\">'v'</span>: <span style=\"font-weight: bold\">{</span><span style=\"color: #008080; text-decoration-color: #008080; font-weight: bold\">0.82</span><span style=\"font-weight: bold\">}</span>,\n",
       "    <span style=\"color: #008000; text-decoration-color: #008000\">'model'</span>: <span style=\"font-weight: bold\">{</span><span style=\"color: #800080; text-decoration-color: #800080; font-weight: bold\">RandomForestClassifier</span><span style=\"font-weight: bold\">(</span><span style=\"color: #808000; text-decoration-color: #808000\">max_depth</span>=<span style=\"color: #008080; text-decoration-color: #008080; font-weight: bold\">2</span>, <span style=\"color: #808000; text-decoration-color: #808000\">n_estimators</span>=<span style=\"color: #008080; text-decoration-color: #008080; font-weight: bold\">80</span><span style=\"font-weight: bold\">)}</span>,\n",
       "    <span style=\"color: #008000; text-decoration-color: #008000\">'random_seed'</span>: <span style=\"font-weight: bold\">{</span><span style=\"color: #008080; text-decoration-color: #008080; font-weight: bold\">42</span><span style=\"font-weight: bold\">}</span>,\n",
       "    <span style=\"color: #008000; text-decoration-color: #008000\">'n_estimators'</span>: <span style=\"font-weight: bold\">{</span><span style=\"color: #008080; text-decoration-color: #008080; font-weight: bold\">80</span><span style=\"font-weight: bold\">}</span>\n",
       "<span style=\"font-weight: bold\">}</span>\n",
       "</pre>\n"
      ],
      "text/plain": [
       "\u001b[1m{\u001b[0m\n",
       "    \u001b[32m'v'\u001b[0m: \u001b[1m{\u001b[0m\u001b[1;36m0.82\u001b[0m\u001b[1m}\u001b[0m,\n",
       "    \u001b[32m'model'\u001b[0m: \u001b[1m{\u001b[0m\u001b[1;35mRandomForestClassifier\u001b[0m\u001b[1m(\u001b[0m\u001b[33mmax_depth\u001b[0m=\u001b[1;36m2\u001b[0m, \u001b[33mn_estimators\u001b[0m=\u001b[1;36m80\u001b[0m\u001b[1m)\u001b[0m\u001b[1m}\u001b[0m,\n",
       "    \u001b[32m'random_seed'\u001b[0m: \u001b[1m{\u001b[0m\u001b[1;36m42\u001b[0m\u001b[1m}\u001b[0m,\n",
       "    \u001b[32m'n_estimators'\u001b[0m: \u001b[1m{\u001b[0m\u001b[1;36m80\u001b[0m\u001b[1m}\u001b[0m\n",
       "\u001b[1m}\u001b[0m\n"
      ]
     },
     "metadata": {},
     "output_type": "display_data"
    },
    {
     "data": {
      "text/html": [
       "<pre style=\"white-space:pre;overflow-x:auto;line-height:normal;font-family:Menlo,'DejaVu Sans Mono',consolas,'Courier New',monospace\"><span style=\"font-weight: bold\">{</span>\n",
       "    <span style=\"color: #008000; text-decoration-color: #008000\">'eval_model'</span>: <span style=\"font-weight: bold\">{</span><span style=\"color: #800080; text-decoration-color: #800080; font-weight: bold\">Call</span><span style=\"font-weight: bold\">(</span>eval_model, <span style=\"color: #808000; text-decoration-color: #808000\">cid</span>=<span style=\"color: #008000; text-decoration-color: #008000\">'137...'</span>, <span style=\"color: #808000; text-decoration-color: #808000\">hid</span>=<span style=\"color: #008000; text-decoration-color: #008000\">'d32...'</span><span style=\"font-weight: bold\">)}</span>,\n",
       "    <span style=\"color: #008000; text-decoration-color: #008000\">'generate_dataset'</span>: <span style=\"font-weight: bold\">{</span><span style=\"color: #800080; text-decoration-color: #800080; font-weight: bold\">Call</span><span style=\"font-weight: bold\">(</span>generate_dataset, <span style=\"color: #808000; text-decoration-color: #808000\">cid</span>=<span style=\"color: #008000; text-decoration-color: #008000\">'19a...'</span>, <span style=\"color: #808000; text-decoration-color: #808000\">hid</span>=<span style=\"color: #008000; text-decoration-color: #008000\">'c3f...'</span><span style=\"font-weight: bold\">)}</span>,\n",
       "    <span style=\"color: #008000; text-decoration-color: #008000\">'train_model'</span>: <span style=\"font-weight: bold\">{</span><span style=\"color: #800080; text-decoration-color: #800080; font-weight: bold\">Call</span><span style=\"font-weight: bold\">(</span>train_model, <span style=\"color: #808000; text-decoration-color: #808000\">cid</span>=<span style=\"color: #008000; text-decoration-color: #008000\">'3be...'</span>, <span style=\"color: #808000; text-decoration-color: #808000\">hid</span>=<span style=\"color: #008000; text-decoration-color: #008000\">'e60...'</span><span style=\"font-weight: bold\">)}</span>\n",
       "<span style=\"font-weight: bold\">}</span>\n",
       "</pre>\n"
      ],
      "text/plain": [
       "\u001b[1m{\u001b[0m\n",
       "    \u001b[32m'eval_model'\u001b[0m: \u001b[1m{\u001b[0m\u001b[1;35mCall\u001b[0m\u001b[1m(\u001b[0meval_model, \u001b[33mcid\u001b[0m=\u001b[32m'137...'\u001b[0m, \u001b[33mhid\u001b[0m=\u001b[32m'd32...'\u001b[0m\u001b[1m)\u001b[0m\u001b[1m}\u001b[0m,\n",
       "    \u001b[32m'generate_dataset'\u001b[0m: \u001b[1m{\u001b[0m\u001b[1;35mCall\u001b[0m\u001b[1m(\u001b[0mgenerate_dataset, \u001b[33mcid\u001b[0m=\u001b[32m'19a...'\u001b[0m, \u001b[33mhid\u001b[0m=\u001b[32m'c3f...'\u001b[0m\u001b[1m)\u001b[0m\u001b[1m}\u001b[0m,\n",
       "    \u001b[32m'train_model'\u001b[0m: \u001b[1m{\u001b[0m\u001b[1;35mCall\u001b[0m\u001b[1m(\u001b[0mtrain_model, \u001b[33mcid\u001b[0m=\u001b[32m'3be...'\u001b[0m, \u001b[33mhid\u001b[0m=\u001b[32m'e60...'\u001b[0m\u001b[1m)\u001b[0m\u001b[1m}\u001b[0m\n",
       "\u001b[1m}\u001b[0m\n"
      ]
     },
     "metadata": {},
     "output_type": "display_data"
    }
   ],
   "source": [
    "pprint({vname: storage.unwrap(refs) \n",
    " for vname, refs in cf.refs_by_var().items()\n",
    " if vname not in ['X_train', 'X_test', 'y_train', 'y_test'] # to save space\n",
    " })\n",
    "\n",
    "pprint(cf.calls_by_func())"
   ]
  },
  {
   "cell_type": "markdown",
   "metadata": {},
   "source": [
    "### From all calls to an `@op`\n",
    "Another way to create a CF is to initialize is with all calls to a given `@op`:"
   ]
  },
  {
   "cell_type": "code",
   "execution_count": 8,
   "metadata": {
    "execution": {
     "iopub.execute_input": "2024-07-03T12:06:48.096789Z",
     "iopub.status.busy": "2024-07-03T12:06:48.096435Z",
     "iopub.status.idle": "2024-07-03T12:06:48.213496Z",
     "shell.execute_reply": "2024-07-03T12:06:48.212607Z"
    }
   },
   "outputs": [
    {
     "data": {
      "text/html": [
       "<pre style=\"white-space:pre;overflow-x:auto;line-height:normal;font-family:Menlo,'DejaVu Sans Mono',consolas,'Courier New',monospace\">ComputationFrame with:\n",
       "    <span style=\"color: #008080; text-decoration-color: #008080; font-weight: bold\">5</span> <span style=\"color: #800080; text-decoration-color: #800080; font-weight: bold\">variable</span><span style=\"font-weight: bold\">(</span>s<span style=\"font-weight: bold\">)</span> <span style=\"font-weight: bold\">(</span><span style=\"color: #008080; text-decoration-color: #008080; font-weight: bold\">14</span> unique refs<span style=\"font-weight: bold\">)</span>\n",
       "    <span style=\"color: #008080; text-decoration-color: #008080; font-weight: bold\">1</span> <span style=\"color: #800080; text-decoration-color: #800080; font-weight: bold\">operation</span><span style=\"font-weight: bold\">(</span>s<span style=\"font-weight: bold\">)</span> <span style=\"font-weight: bold\">(</span><span style=\"color: #008080; text-decoration-color: #008080; font-weight: bold\">4</span> unique calls<span style=\"font-weight: bold\">)</span>\n",
       "Computational graph:\n",
       "    output_0@output_0, output_1@output_1 = <span style=\"color: #800080; text-decoration-color: #800080; font-weight: bold\">train_model</span><span style=\"font-weight: bold\">(</span><span style=\"color: #808000; text-decoration-color: #808000\">y_train</span>=<span style=\"color: #800080; text-decoration-color: #800080\">y_train</span>, <span style=\"color: #808000; text-decoration-color: #808000\">X_train</span>=<span style=\"color: #800080; text-decoration-color: #800080\">X_train</span>, <span style=\"color: #808000; text-decoration-color: #808000\">n_estimators</span>=<span style=\"color: #800080; text-decoration-color: #800080\">n_estimators</span><span style=\"font-weight: bold\">)</span>\n",
       "</pre>\n"
      ],
      "text/plain": [
       "ComputationFrame with:\n",
       "    \u001b[1;36m5\u001b[0m \u001b[1;35mvariable\u001b[0m\u001b[1m(\u001b[0ms\u001b[1m)\u001b[0m \u001b[1m(\u001b[0m\u001b[1;36m14\u001b[0m unique refs\u001b[1m)\u001b[0m\n",
       "    \u001b[1;36m1\u001b[0m \u001b[1;35moperation\u001b[0m\u001b[1m(\u001b[0ms\u001b[1m)\u001b[0m \u001b[1m(\u001b[0m\u001b[1;36m4\u001b[0m unique calls\u001b[1m)\u001b[0m\n",
       "Computational graph:\n",
       "    output_0@output_0, output_1@output_1 = \u001b[1;35mtrain_model\u001b[0m\u001b[1m(\u001b[0m\u001b[33my_train\u001b[0m=\u001b[35my_train\u001b[0m, \u001b[33mX_train\u001b[0m=\u001b[35mX_train\u001b[0m, \u001b[33mn_estimators\u001b[0m=\u001b[35mn_estimators\u001b[0m\u001b[1m)\u001b[0m\n"
      ]
     },
     "metadata": {},
     "output_type": "display_data"
    },
    {
     "data": {
      "image/svg+xml": [
       "<?xml version=\"1.0\" encoding=\"UTF-8\" standalone=\"no\"?>\n",
       "<!DOCTYPE svg PUBLIC \"-//W3C//DTD SVG 1.1//EN\"\n",
       " \"http://www.w3.org/Graphics/SVG/1.1/DTD/svg11.dtd\">\n",
       "<!-- Generated by graphviz version 2.50.0 (0)\n",
       " -->\n",
       "<!-- Title: G Pages: 1 -->\n",
       "<svg width=\"362pt\" height=\"236pt\"\n",
       " viewBox=\"0.00 0.00 362.00 236.00\" xmlns=\"http://www.w3.org/2000/svg\" xmlns:xlink=\"http://www.w3.org/1999/xlink\">\n",
       "<g id=\"graph0\" class=\"graph\" transform=\"scale(1 1) rotate(0) translate(4 232)\">\n",
       "<title>G</title>\n",
       "<polygon fill=\"white\" stroke=\"transparent\" points=\"-4,4 -4,-232 358,-232 358,4 -4,4\"/>\n",
       "<!-- y_train -->\n",
       "<g id=\"node1\" class=\"node\">\n",
       "<title>y_train</title>\n",
       "<path fill=\"none\" stroke=\"#268bd2\" d=\"M94,-228C94,-228 12,-228 12,-228 6,-228 0,-222 0,-216 0,-216 0,-204 0,-204 0,-198 6,-192 12,-192 12,-192 94,-192 94,-192 100,-192 106,-198 106,-204 106,-204 106,-216 106,-216 106,-222 100,-228 94,-228\"/>\n",
       "<text text-anchor=\"start\" x=\"31.5\" y=\"-212.4\" font-family=\"RobotoMono\" font-weight=\"bold\" font-size=\"12.00\" fill=\"#002b36\">y_train</text>\n",
       "<text text-anchor=\"start\" x=\"8\" y=\"-202\" font-family=\"RobotoMono\" font-size=\"10.00\" fill=\"#268bd2\">1 values (1 sources)</text>\n",
       "</g>\n",
       "<!-- train_model -->\n",
       "<g id=\"node6\" class=\"node\">\n",
       "<title>train_model</title>\n",
       "<path fill=\"none\" stroke=\"#dc322f\" d=\"M212.5,-134C212.5,-134 141.5,-134 141.5,-134 135.5,-134 129.5,-128 129.5,-122 129.5,-122 129.5,-106 129.5,-106 129.5,-100 135.5,-94 141.5,-94 141.5,-94 212.5,-94 212.5,-94 218.5,-94 224.5,-100 224.5,-106 224.5,-106 224.5,-122 224.5,-122 224.5,-128 218.5,-134 212.5,-134\"/>\n",
       "<text text-anchor=\"start\" x=\"140.5\" y=\"-121.4\" font-family=\"RobotoMono\" font-weight=\"bold\" font-size=\"12.00\" fill=\"#002b36\">train_model</text>\n",
       "<text text-anchor=\"start\" x=\"137.5\" y=\"-111\" font-family=\"RobotoMono\" font-size=\"10.00\" fill=\"#002b36\">@op:train_model</text>\n",
       "<text text-anchor=\"start\" x=\"163\" y=\"-101\" font-family=\"RobotoMono\" font-size=\"10.00\" fill=\"#dc322f\">4 calls</text>\n",
       "</g>\n",
       "<!-- y_train&#45;&gt;train_model -->\n",
       "<g id=\"edge3\" class=\"edge\">\n",
       "<title>y_train&#45;&gt;train_model</title>\n",
       "<path fill=\"none\" stroke=\"#002b36\" d=\"M75.46,-191.98C94.43,-177.59 121.89,-156.78 143.47,-140.42\"/>\n",
       "<polygon fill=\"#002b36\" stroke=\"#002b36\" points=\"145.87,-142.99 151.72,-134.16 141.64,-137.41 145.87,-142.99\"/>\n",
       "<text text-anchor=\"middle\" x=\"149\" y=\"-166\" font-family=\"RobotoMono\" font-size=\"10.00\" fill=\"#002b36\">y_train</text>\n",
       "<text text-anchor=\"middle\" x=\"149\" y=\"-155\" font-family=\"RobotoMono\" font-size=\"10.00\" fill=\"#002b36\">(1 values)</text>\n",
       "</g>\n",
       "<!-- X_train -->\n",
       "<g id=\"node2\" class=\"node\">\n",
       "<title>X_train</title>\n",
       "<path fill=\"none\" stroke=\"#268bd2\" d=\"M218,-228C218,-228 136,-228 136,-228 130,-228 124,-222 124,-216 124,-216 124,-204 124,-204 124,-198 130,-192 136,-192 136,-192 218,-192 218,-192 224,-192 230,-198 230,-204 230,-204 230,-216 230,-216 230,-222 224,-228 218,-228\"/>\n",
       "<text text-anchor=\"start\" x=\"155\" y=\"-212.4\" font-family=\"RobotoMono\" font-weight=\"bold\" font-size=\"12.00\" fill=\"#002b36\">X_train</text>\n",
       "<text text-anchor=\"start\" x=\"132\" y=\"-202\" font-family=\"RobotoMono\" font-size=\"10.00\" fill=\"#268bd2\">1 values (1 sources)</text>\n",
       "</g>\n",
       "<!-- X_train&#45;&gt;train_model -->\n",
       "<g id=\"edge4\" class=\"edge\">\n",
       "<title>X_train&#45;&gt;train_model</title>\n",
       "<path fill=\"none\" stroke=\"#002b36\" d=\"M177,-191.76C177,-178.5 177,-159.86 177,-144.27\"/>\n",
       "<polygon fill=\"#002b36\" stroke=\"#002b36\" points=\"180.5,-144.07 177,-134.07 173.5,-144.07 180.5,-144.07\"/>\n",
       "<text text-anchor=\"middle\" x=\"199\" y=\"-166\" font-family=\"RobotoMono\" font-size=\"10.00\" fill=\"#002b36\">X_train</text>\n",
       "<text text-anchor=\"middle\" x=\"199\" y=\"-155\" font-family=\"RobotoMono\" font-size=\"10.00\" fill=\"#002b36\">(1 values)</text>\n",
       "</g>\n",
       "<!-- output_0 -->\n",
       "<g id=\"node3\" class=\"node\">\n",
       "<title>output_0</title>\n",
       "<path fill=\"none\" stroke=\"#268bd2\" d=\"M156.5,-36C156.5,-36 87.5,-36 87.5,-36 81.5,-36 75.5,-30 75.5,-24 75.5,-24 75.5,-12 75.5,-12 75.5,-6 81.5,0 87.5,0 87.5,0 156.5,0 156.5,0 162.5,0 168.5,-6 168.5,-12 168.5,-12 168.5,-24 168.5,-24 168.5,-30 162.5,-36 156.5,-36\"/>\n",
       "<text text-anchor=\"start\" x=\"94.5\" y=\"-20.4\" font-family=\"RobotoMono\" font-weight=\"bold\" font-size=\"12.00\" fill=\"#002b36\">output_0</text>\n",
       "<text text-anchor=\"start\" x=\"83.5\" y=\"-10\" font-family=\"RobotoMono\" font-size=\"10.00\" fill=\"#268bd2\">4 values (4 sinks)</text>\n",
       "</g>\n",
       "<!-- n_estimators -->\n",
       "<g id=\"node4\" class=\"node\">\n",
       "<title>n_estimators</title>\n",
       "<path fill=\"none\" stroke=\"#268bd2\" d=\"M342,-228C342,-228 260,-228 260,-228 254,-228 248,-222 248,-216 248,-216 248,-204 248,-204 248,-198 254,-192 260,-192 260,-192 342,-192 342,-192 348,-192 354,-198 354,-204 354,-204 354,-216 354,-216 354,-222 348,-228 342,-228\"/>\n",
       "<text text-anchor=\"start\" x=\"261.5\" y=\"-212.4\" font-family=\"RobotoMono\" font-weight=\"bold\" font-size=\"12.00\" fill=\"#002b36\">n_estimators</text>\n",
       "<text text-anchor=\"start\" x=\"256\" y=\"-202\" font-family=\"RobotoMono\" font-size=\"10.00\" fill=\"#268bd2\">4 values (4 sources)</text>\n",
       "</g>\n",
       "<!-- n_estimators&#45;&gt;train_model -->\n",
       "<g id=\"edge5\" class=\"edge\">\n",
       "<title>n_estimators&#45;&gt;train_model</title>\n",
       "<path fill=\"none\" stroke=\"#002b36\" d=\"M278.54,-191.98C259.57,-177.59 232.11,-156.78 210.53,-140.42\"/>\n",
       "<polygon fill=\"#002b36\" stroke=\"#002b36\" points=\"212.36,-137.41 202.28,-134.16 208.13,-142.99 212.36,-137.41\"/>\n",
       "<text text-anchor=\"middle\" x=\"283.5\" y=\"-166\" font-family=\"RobotoMono\" font-size=\"10.00\" fill=\"#002b36\">n_estimators</text>\n",
       "<text text-anchor=\"middle\" x=\"283.5\" y=\"-155\" font-family=\"RobotoMono\" font-size=\"10.00\" fill=\"#002b36\">(4 values)</text>\n",
       "</g>\n",
       "<!-- output_1 -->\n",
       "<g id=\"node5\" class=\"node\">\n",
       "<title>output_1</title>\n",
       "<path fill=\"none\" stroke=\"#268bd2\" d=\"M267.5,-36C267.5,-36 198.5,-36 198.5,-36 192.5,-36 186.5,-30 186.5,-24 186.5,-24 186.5,-12 186.5,-12 186.5,-6 192.5,0 198.5,0 198.5,0 267.5,0 267.5,0 273.5,0 279.5,-6 279.5,-12 279.5,-12 279.5,-24 279.5,-24 279.5,-30 273.5,-36 267.5,-36\"/>\n",
       "<text text-anchor=\"start\" x=\"205.5\" y=\"-20.4\" font-family=\"RobotoMono\" font-weight=\"bold\" font-size=\"12.00\" fill=\"#002b36\">output_1</text>\n",
       "<text text-anchor=\"start\" x=\"194.5\" y=\"-10\" font-family=\"RobotoMono\" font-size=\"10.00\" fill=\"#268bd2\">4 values (4 sinks)</text>\n",
       "</g>\n",
       "<!-- train_model&#45;&gt;output_0 -->\n",
       "<g id=\"edge2\" class=\"edge\">\n",
       "<title>train_model&#45;&gt;output_0</title>\n",
       "<path fill=\"none\" stroke=\"#002b36\" d=\"M165.87,-93.98C157.58,-79.81 146.17,-60.3 137.06,-44.74\"/>\n",
       "<polygon fill=\"#002b36\" stroke=\"#002b36\" points=\"140.08,-42.96 132,-36.1 134.03,-46.5 140.08,-42.96\"/>\n",
       "<text text-anchor=\"middle\" x=\"177\" y=\"-68\" font-family=\"RobotoMono\" font-size=\"10.00\" fill=\"#002b36\">output_0</text>\n",
       "<text text-anchor=\"middle\" x=\"177\" y=\"-57\" font-family=\"RobotoMono\" font-size=\"10.00\" fill=\"#002b36\">(4 values)</text>\n",
       "</g>\n",
       "<!-- train_model&#45;&gt;output_1 -->\n",
       "<g id=\"edge1\" class=\"edge\">\n",
       "<title>train_model&#45;&gt;output_1</title>\n",
       "<path fill=\"none\" stroke=\"#002b36\" d=\"M191.24,-93.73C195.2,-88.11 199.4,-81.9 203,-76 208.95,-66.27 214.92,-55.24 219.95,-45.5\"/>\n",
       "<polygon fill=\"#002b36\" stroke=\"#002b36\" points=\"223.22,-46.78 224.63,-36.28 216.98,-43.61 223.22,-46.78\"/>\n",
       "<text text-anchor=\"middle\" x=\"237\" y=\"-68\" font-family=\"RobotoMono\" font-size=\"10.00\" fill=\"#002b36\">output_1</text>\n",
       "<text text-anchor=\"middle\" x=\"237\" y=\"-57\" font-family=\"RobotoMono\" font-size=\"10.00\" fill=\"#002b36\">(4 values)</text>\n",
       "</g>\n",
       "</g>\n",
       "</svg>\n"
      ],
      "text/plain": [
       "<graphviz.sources.Source at 0x71a56a11d750>"
      ]
     },
     "metadata": {},
     "output_type": "display_data"
    }
   ],
   "source": [
    "cf = storage.cf(train_model)\n",
    "pprint(cf)\n",
    "cf.draw(verbose=True)"
   ]
  },
  {
   "cell_type": "markdown",
   "metadata": {},
   "source": [
    "You can extract a dataframe from any CF (explained more later); in particular,\n",
    "the dataframe for the CF of a single `@op` will be the memoization table for\n",
    "this `@op`:"
   ]
  },
  {
   "cell_type": "code",
   "execution_count": 9,
   "metadata": {
    "execution": {
     "iopub.execute_input": "2024-07-03T12:06:48.216151Z",
     "iopub.status.busy": "2024-07-03T12:06:48.215938Z",
     "iopub.status.idle": "2024-07-03T12:06:48.259868Z",
     "shell.execute_reply": "2024-07-03T12:06:48.259217Z"
    }
   },
   "outputs": [
    {
     "name": "stdout",
     "output_type": "stream",
     "text": [
      "Extracting tuples from the computation graph:\n",
      "    output_0@output_0, output_1@output_1 = train_model(n_estimators=n_estimators, X_train=X_train, y_train=y_train)\n",
      "|    | n_estimators                                         | X_train                                              | y_train                                              | train_model                                   | output_0                                             | output_1                                             |\n",
      "|---:|:-----------------------------------------------------|:-----------------------------------------------------|:-----------------------------------------------------|:----------------------------------------------|:-----------------------------------------------------|:-----------------------------------------------------|\n",
      "|  0 | AtomRef(hid='235...', cid='c04...', in_memory=False) | AtomRef(hid='efa...', cid='a6d...', in_memory=False) | AtomRef(hid='faf...', cid='83f...', in_memory=False) | Call(train_model, cid='204...', hid='c55...') | AtomRef(hid='208...', cid='c75...', in_memory=False) | AtomRef(hid='5b7...', cid='f0a...', in_memory=False) |\n",
      "|  1 | AtomRef(hid='120...', cid='9bc...', in_memory=False) | AtomRef(hid='efa...', cid='a6d...', in_memory=False) | AtomRef(hid='faf...', cid='83f...', in_memory=False) | Call(train_model, cid='3be...', hid='e60...') | AtomRef(hid='522...', cid='d5a...', in_memory=False) | AtomRef(hid='646...', cid='acb...', in_memory=False) |\n",
      "|  2 | AtomRef(hid='98c...', cid='29d...', in_memory=False) | AtomRef(hid='efa...', cid='a6d...', in_memory=False) | AtomRef(hid='faf...', cid='83f...', in_memory=False) | Call(train_model, cid='c4f...', hid='5f7...') | AtomRef(hid='b25...', cid='462...', in_memory=False) | AtomRef(hid='760...', cid='46b...', in_memory=False) |\n",
      "|  3 | AtomRef(hid='9fd...', cid='4ac...', in_memory=False) | AtomRef(hid='efa...', cid='a6d...', in_memory=False) | AtomRef(hid='faf...', cid='83f...', in_memory=False) | Call(train_model, cid='5af...', hid='514...') | AtomRef(hid='331...', cid='e64...', in_memory=False) | AtomRef(hid='784...', cid='238...', in_memory=False) |\n"
     ]
    }
   ],
   "source": [
    "print(cf.df(values='refs').to_markdown())"
   ]
  },
  {
   "cell_type": "markdown",
   "metadata": {},
   "source": [
    "## "
   ]
  },
  {
   "cell_type": "markdown",
   "metadata": {},
   "source": [
    "### From groups of `Ref`s to use as variables\n",
    "You can also manually initialize variables of the CF by passing a dict where\n",
    "values are `Ref` iterables:"
   ]
  },
  {
   "cell_type": "code",
   "execution_count": 10,
   "metadata": {
    "execution": {
     "iopub.execute_input": "2024-07-03T12:06:48.262816Z",
     "iopub.status.busy": "2024-07-03T12:06:48.262242Z",
     "iopub.status.idle": "2024-07-03T12:06:48.323834Z",
     "shell.execute_reply": "2024-07-03T12:06:48.323257Z"
    }
   },
   "outputs": [],
   "source": [
    "with storage: \n",
    "    models, test_accs = [], []\n",
    "    X_train, X_test, y_train, y_test = generate_dataset()\n",
    "    for n_estimators in [10, 20, 40, 80]:\n",
    "        model, train_acc = train_model(X_train, y_train, n_estimators=n_estimators)\n",
    "        models.append(model)\n",
    "        if storage.unwrap(train_acc) > 0.8: # conditional execution\n",
    "            test_acc = eval_model(model, X_test, y_test)\n",
    "            test_accs.append(test_acc)"
   ]
  },
  {
   "cell_type": "code",
   "execution_count": 11,
   "metadata": {
    "execution": {
     "iopub.execute_input": "2024-07-03T12:06:48.326947Z",
     "iopub.status.busy": "2024-07-03T12:06:48.326670Z",
     "iopub.status.idle": "2024-07-03T12:06:48.425934Z",
     "shell.execute_reply": "2024-07-03T12:06:48.425316Z"
    }
   },
   "outputs": [
    {
     "data": {
      "text/html": [
       "<pre style=\"white-space:pre;overflow-x:auto;line-height:normal;font-family:Menlo,'DejaVu Sans Mono',consolas,'Courier New',monospace\">ComputationFrame with:\n",
       "    <span style=\"color: #008080; text-decoration-color: #008080; font-weight: bold\">2</span> <span style=\"color: #800080; text-decoration-color: #800080; font-weight: bold\">variable</span><span style=\"font-weight: bold\">(</span>s<span style=\"font-weight: bold\">)</span> <span style=\"font-weight: bold\">(</span><span style=\"color: #008080; text-decoration-color: #008080; font-weight: bold\">6</span> unique refs<span style=\"font-weight: bold\">)</span>\n",
       "    <span style=\"color: #008080; text-decoration-color: #008080; font-weight: bold\">0</span> <span style=\"color: #800080; text-decoration-color: #800080; font-weight: bold\">operation</span><span style=\"font-weight: bold\">(</span>s<span style=\"font-weight: bold\">)</span> <span style=\"font-weight: bold\">(</span><span style=\"color: #008080; text-decoration-color: #008080; font-weight: bold\">0</span> unique calls<span style=\"font-weight: bold\">)</span>\n",
       "Computational graph:\n",
       "    model, test_acc\n",
       "</pre>\n"
      ],
      "text/plain": [
       "ComputationFrame with:\n",
       "    \u001b[1;36m2\u001b[0m \u001b[1;35mvariable\u001b[0m\u001b[1m(\u001b[0ms\u001b[1m)\u001b[0m \u001b[1m(\u001b[0m\u001b[1;36m6\u001b[0m unique refs\u001b[1m)\u001b[0m\n",
       "    \u001b[1;36m0\u001b[0m \u001b[1;35moperation\u001b[0m\u001b[1m(\u001b[0ms\u001b[1m)\u001b[0m \u001b[1m(\u001b[0m\u001b[1;36m0\u001b[0m unique calls\u001b[1m)\u001b[0m\n",
       "Computational graph:\n",
       "    model, test_acc\n"
      ]
     },
     "metadata": {},
     "output_type": "display_data"
    },
    {
     "data": {
      "image/svg+xml": [
       "<?xml version=\"1.0\" encoding=\"UTF-8\" standalone=\"no\"?>\n",
       "<!DOCTYPE svg PUBLIC \"-//W3C//DTD SVG 1.1//EN\"\n",
       " \"http://www.w3.org/Graphics/SVG/1.1/DTD/svg11.dtd\">\n",
       "<!-- Generated by graphviz version 2.50.0 (0)\n",
       " -->\n",
       "<!-- Title: G Pages: 1 -->\n",
       "<svg width=\"306pt\" height=\"44pt\"\n",
       " viewBox=\"0.00 0.00 306.00 44.00\" xmlns=\"http://www.w3.org/2000/svg\" xmlns:xlink=\"http://www.w3.org/1999/xlink\">\n",
       "<g id=\"graph0\" class=\"graph\" transform=\"scale(1 1) rotate(0) translate(4 40)\">\n",
       "<title>G</title>\n",
       "<polygon fill=\"white\" stroke=\"transparent\" points=\"-4,4 -4,-40 302,-40 302,4 -4,4\"/>\n",
       "<!-- test_acc -->\n",
       "<g id=\"node1\" class=\"node\">\n",
       "<title>test_acc</title>\n",
       "<path fill=\"none\" stroke=\"#268bd2\" d=\"M128,-36C128,-36 12,-36 12,-36 6,-36 0,-30 0,-24 0,-24 0,-12 0,-12 0,-6 6,0 12,0 12,0 128,0 128,0 134,0 140,-6 140,-12 140,-12 140,-24 140,-24 140,-30 134,-36 128,-36\"/>\n",
       "<text text-anchor=\"start\" x=\"45.5\" y=\"-20.4\" font-family=\"RobotoMono\" font-weight=\"bold\" font-size=\"12.00\" fill=\"#002b36\">test_acc</text>\n",
       "<text text-anchor=\"start\" x=\"8\" y=\"-10\" font-family=\"RobotoMono\" font-size=\"10.00\" fill=\"#268bd2\">2 values (2 sources/2 sinks)</text>\n",
       "</g>\n",
       "<!-- model -->\n",
       "<g id=\"node2\" class=\"node\">\n",
       "<title>model</title>\n",
       "<path fill=\"none\" stroke=\"#268bd2\" d=\"M286,-36C286,-36 170,-36 170,-36 164,-36 158,-30 158,-24 158,-24 158,-12 158,-12 158,-6 164,0 170,0 170,0 286,0 286,0 292,0 298,-6 298,-12 298,-12 298,-24 298,-24 298,-30 292,-36 286,-36\"/>\n",
       "<text text-anchor=\"start\" x=\"209\" y=\"-20.4\" font-family=\"RobotoMono\" font-weight=\"bold\" font-size=\"12.00\" fill=\"#002b36\">model</text>\n",
       "<text text-anchor=\"start\" x=\"166\" y=\"-10\" font-family=\"RobotoMono\" font-size=\"10.00\" fill=\"#268bd2\">4 values (4 sources/4 sinks)</text>\n",
       "</g>\n",
       "</g>\n",
       "</svg>\n"
      ],
      "text/plain": [
       "<graphviz.sources.Source at 0x71a56a1534f0>"
      ]
     },
     "metadata": {},
     "output_type": "display_data"
    }
   ],
   "source": [
    "cf = storage.cf({'model': models, 'test_acc': test_accs})\n",
    "pprint(cf)\n",
    "cf.draw(verbose=True)"
   ]
  },
  {
   "cell_type": "markdown",
   "metadata": {},
   "source": [
    "Again, this is not interesting unless you `expand` back and/or forward. We can \n",
    "illustrate by expanding only the `model` variable forward:"
   ]
  },
  {
   "cell_type": "code",
   "execution_count": 12,
   "metadata": {
    "execution": {
     "iopub.execute_input": "2024-07-03T12:06:48.429793Z",
     "iopub.status.busy": "2024-07-03T12:06:48.429338Z",
     "iopub.status.idle": "2024-07-03T12:06:48.536572Z",
     "shell.execute_reply": "2024-07-03T12:06:48.535935Z"
    }
   },
   "outputs": [
    {
     "data": {
      "image/svg+xml": [
       "<?xml version=\"1.0\" encoding=\"UTF-8\" standalone=\"no\"?>\n",
       "<!DOCTYPE svg PUBLIC \"-//W3C//DTD SVG 1.1//EN\"\n",
       " \"http://www.w3.org/Graphics/SVG/1.1/DTD/svg11.dtd\">\n",
       "<!-- Generated by graphviz version 2.50.0 (0)\n",
       " -->\n",
       "<!-- Title: G Pages: 1 -->\n",
       "<svg width=\"148pt\" height=\"236pt\"\n",
       " viewBox=\"0.00 0.00 148.00 236.00\" xmlns=\"http://www.w3.org/2000/svg\" xmlns:xlink=\"http://www.w3.org/1999/xlink\">\n",
       "<g id=\"graph0\" class=\"graph\" transform=\"scale(1 1) rotate(0) translate(4 232)\">\n",
       "<title>G</title>\n",
       "<polygon fill=\"white\" stroke=\"transparent\" points=\"-4,4 -4,-232 144,-232 144,4 -4,4\"/>\n",
       "<!-- test_acc -->\n",
       "<g id=\"node1\" class=\"node\">\n",
       "<title>test_acc</title>\n",
       "<path fill=\"none\" stroke=\"#268bd2\" d=\"M104.5,-36C104.5,-36 35.5,-36 35.5,-36 29.5,-36 23.5,-30 23.5,-24 23.5,-24 23.5,-12 23.5,-12 23.5,-6 29.5,0 35.5,0 35.5,0 104.5,0 104.5,0 110.5,0 116.5,-6 116.5,-12 116.5,-12 116.5,-24 116.5,-24 116.5,-30 110.5,-36 104.5,-36\"/>\n",
       "<text text-anchor=\"start\" x=\"45.5\" y=\"-20.4\" font-family=\"RobotoMono\" font-weight=\"bold\" font-size=\"12.00\" fill=\"#002b36\">test_acc</text>\n",
       "<text text-anchor=\"start\" x=\"31.5\" y=\"-10\" font-family=\"RobotoMono\" font-size=\"10.00\" fill=\"#268bd2\">2 values (2 sinks)</text>\n",
       "</g>\n",
       "<!-- model -->\n",
       "<g id=\"node2\" class=\"node\">\n",
       "<title>model</title>\n",
       "<path fill=\"none\" stroke=\"#268bd2\" d=\"M128,-228C128,-228 12,-228 12,-228 6,-228 0,-222 0,-216 0,-216 0,-204 0,-204 0,-198 6,-192 12,-192 12,-192 128,-192 128,-192 134,-192 140,-198 140,-204 140,-204 140,-216 140,-216 140,-222 134,-228 128,-228\"/>\n",
       "<text text-anchor=\"start\" x=\"51\" y=\"-212.4\" font-family=\"RobotoMono\" font-weight=\"bold\" font-size=\"12.00\" fill=\"#002b36\">model</text>\n",
       "<text text-anchor=\"start\" x=\"8\" y=\"-202\" font-family=\"RobotoMono\" font-size=\"10.00\" fill=\"#268bd2\">4 values (4 sources/2 sinks)</text>\n",
       "</g>\n",
       "<!-- eval_model -->\n",
       "<g id=\"node3\" class=\"node\">\n",
       "<title>eval_model</title>\n",
       "<path fill=\"none\" stroke=\"#dc322f\" d=\"M104,-134C104,-134 36,-134 36,-134 30,-134 24,-128 24,-122 24,-122 24,-106 24,-106 24,-100 30,-94 36,-94 36,-94 104,-94 104,-94 110,-94 116,-100 116,-106 116,-106 116,-122 116,-122 116,-128 110,-134 104,-134\"/>\n",
       "<text text-anchor=\"start\" x=\"36\" y=\"-121.4\" font-family=\"RobotoMono\" font-weight=\"bold\" font-size=\"12.00\" fill=\"#002b36\">eval_model</text>\n",
       "<text text-anchor=\"start\" x=\"32\" y=\"-111\" font-family=\"RobotoMono\" font-size=\"10.00\" fill=\"#002b36\">@op:eval_model</text>\n",
       "<text text-anchor=\"start\" x=\"56\" y=\"-101\" font-family=\"RobotoMono\" font-size=\"10.00\" fill=\"#dc322f\">2 calls</text>\n",
       "</g>\n",
       "<!-- model&#45;&gt;eval_model -->\n",
       "<g id=\"edge1\" class=\"edge\">\n",
       "<title>model&#45;&gt;eval_model</title>\n",
       "<path fill=\"none\" stroke=\"#002b36\" d=\"M70,-191.76C70,-178.5 70,-159.86 70,-144.27\"/>\n",
       "<polygon fill=\"#002b36\" stroke=\"#002b36\" points=\"73.5,-144.07 70,-134.07 66.5,-144.07 73.5,-144.07\"/>\n",
       "<text text-anchor=\"middle\" x=\"92\" y=\"-166\" font-family=\"RobotoMono\" font-size=\"10.00\" fill=\"#002b36\">model</text>\n",
       "<text text-anchor=\"middle\" x=\"92\" y=\"-155\" font-family=\"RobotoMono\" font-size=\"10.00\" fill=\"#002b36\">(2 values)</text>\n",
       "</g>\n",
       "<!-- eval_model&#45;&gt;test_acc -->\n",
       "<g id=\"edge2\" class=\"edge\">\n",
       "<title>eval_model&#45;&gt;test_acc</title>\n",
       "<path fill=\"none\" stroke=\"#002b36\" d=\"M70,-93.98C70,-80.34 70,-61.75 70,-46.5\"/>\n",
       "<polygon fill=\"#002b36\" stroke=\"#002b36\" points=\"73.5,-46.1 70,-36.1 66.5,-46.1 73.5,-46.1\"/>\n",
       "<text text-anchor=\"middle\" x=\"92\" y=\"-68\" font-family=\"RobotoMono\" font-size=\"10.00\" fill=\"#002b36\">output_0</text>\n",
       "<text text-anchor=\"middle\" x=\"92\" y=\"-57\" font-family=\"RobotoMono\" font-size=\"10.00\" fill=\"#002b36\">(2 values)</text>\n",
       "</g>\n",
       "</g>\n",
       "</svg>\n"
      ],
      "text/plain": [
       "<graphviz.sources.Source at 0x71a56a1520b0>"
      ]
     },
     "metadata": {},
     "output_type": "display_data"
    }
   ],
   "source": [
    "cf.expand_forward(varnames=['model'], inplace=True)\n",
    "cf.draw(verbose=True)"
   ]
  },
  {
   "cell_type": "markdown",
   "metadata": {},
   "source": [
    "The expansion algorithm figures out that the calls to `eval_model` we add\n",
    "should connect to the `test_acc` variable."
   ]
  },
  {
   "cell_type": "markdown",
   "metadata": {},
   "source": [
    "### From any collection of calls\n",
    "TODO"
   ]
  },
  {
   "cell_type": "markdown",
   "metadata": {},
   "source": [
    "## Exploring storage by expanding `ComputationFrame`s \n",
    "Once a CF is created, you can add computational context to it by calling one of\n",
    "a few methods:"
   ]
  },
  {
   "cell_type": "code",
   "execution_count": 13,
   "metadata": {
    "execution": {
     "iopub.execute_input": "2024-07-03T12:06:48.540174Z",
     "iopub.status.busy": "2024-07-03T12:06:48.539971Z",
     "iopub.status.idle": "2024-07-03T12:06:48.577568Z",
     "shell.execute_reply": "2024-07-03T12:06:48.576968Z"
    }
   },
   "outputs": [
    {
     "data": {
      "text/html": [
       "<pre style=\"white-space:pre;overflow-x:auto;line-height:normal;font-family:Menlo,'DejaVu Sans Mono',consolas,'Courier New',monospace\">Docstring for `expand_back`:\n",
       "</pre>\n"
      ],
      "text/plain": [
       "Docstring for `expand_back`:\n"
      ]
     },
     "metadata": {},
     "output_type": "display_data"
    },
    {
     "data": {
      "text/html": [
       "<pre style=\"white-space:pre;overflow-x:auto;line-height:normal;font-family:Menlo,'DejaVu Sans Mono',consolas,'Courier New',monospace\">\n",
       "        Join to the CF the calls that created all refs in the given variables\n",
       "        that currently do not have a connected creator call in the CF.\n",
       "\n",
       "        If such refs are found, this will result to the addition of \n",
       "        - new function nodes for the calls that created these refs;\n",
       "        - new variable nodes for the *inputs* of these calls.\n",
       "\n",
       "        The number of these nodes and how they connect to the CF will depend on\n",
       "        the structure of the calls that created the refs. \n",
       "\n",
       "        Arguments:\n",
       "        - `varnames`: the names of the variables to expand; if <span style=\"color: #800080; text-decoration-color: #800080; font-style: italic\">None</span>, expand all\n",
       "        the `Ref`s that don't have a creator call in any function node of the CF\n",
       "        that is connected to the `Ref`'s variable node as an output.\n",
       "        - `recursive`: if <span style=\"color: #00ff00; text-decoration-color: #00ff00; font-style: italic\">True</span>, keep expanding until a fixed point is reached\n",
       "        \n",
       "</pre>\n"
      ],
      "text/plain": [
       "\n",
       "        Join to the CF the calls that created all refs in the given variables\n",
       "        that currently do not have a connected creator call in the CF.\n",
       "\n",
       "        If such refs are found, this will result to the addition of \n",
       "        - new function nodes for the calls that created these refs;\n",
       "        - new variable nodes for the *inputs* of these calls.\n",
       "\n",
       "        The number of these nodes and how they connect to the CF will depend on\n",
       "        the structure of the calls that created the refs. \n",
       "\n",
       "        Arguments:\n",
       "        - `varnames`: the names of the variables to expand; if \u001b[3;35mNone\u001b[0m, expand all\n",
       "        the `Ref`s that don't have a creator call in any function node of the CF\n",
       "        that is connected to the `Ref`'s variable node as an output.\n",
       "        - `recursive`: if \u001b[3;92mTrue\u001b[0m, keep expanding until a fixed point is reached\n",
       "        \n"
      ]
     },
     "metadata": {},
     "output_type": "display_data"
    },
    {
     "data": {
      "text/html": [
       "<pre style=\"white-space:pre;overflow-x:auto;line-height:normal;font-family:Menlo,'DejaVu Sans Mono',consolas,'Courier New',monospace\">Docstring for `expand_forward`:\n",
       "</pre>\n"
      ],
      "text/plain": [
       "Docstring for `expand_forward`:\n"
      ]
     },
     "metadata": {},
     "output_type": "display_data"
    },
    {
     "data": {
      "text/html": [
       "<pre style=\"white-space:pre;overflow-x:auto;line-height:normal;font-family:Menlo,'DejaVu Sans Mono',consolas,'Courier New',monospace\">\n",
       "        Join the calls that consume the given variables; see `expand_back` <span style=\"font-weight: bold\">(</span>the \n",
       "        dual operation<span style=\"font-weight: bold\">)</span> for more details.\n",
       "        \n",
       "</pre>\n"
      ],
      "text/plain": [
       "\n",
       "        Join the calls that consume the given variables; see `expand_back` \u001b[1m(\u001b[0mthe \n",
       "        dual operation\u001b[1m)\u001b[0m for more details.\n",
       "        \n"
      ]
     },
     "metadata": {},
     "output_type": "display_data"
    },
    {
     "data": {
      "text/html": [
       "<pre style=\"white-space:pre;overflow-x:auto;line-height:normal;font-family:Menlo,'DejaVu Sans Mono',consolas,'Courier New',monospace\">Docstring for `expand_all`:\n",
       "</pre>\n"
      ],
      "text/plain": [
       "Docstring for `expand_all`:\n"
      ]
     },
     "metadata": {},
     "output_type": "display_data"
    },
    {
     "data": {
      "text/html": [
       "<pre style=\"white-space:pre;overflow-x:auto;line-height:normal;font-family:Menlo,'DejaVu Sans Mono',consolas,'Courier New',monospace\">\n",
       "        Expand the computation frame by repeatedly applying `expand_back` and\n",
       "        `expand_forward` until a fixed point is reached.\n",
       "        \n",
       "</pre>\n"
      ],
      "text/plain": [
       "\n",
       "        Expand the computation frame by repeatedly applying `expand_back` and\n",
       "        `expand_forward` until a fixed point is reached.\n",
       "        \n"
      ]
     },
     "metadata": {},
     "output_type": "display_data"
    }
   ],
   "source": [
    "pprint('Docstring for `expand_back`:')\n",
    "pprint(cf.expand_back.__doc__)\n",
    "pprint('Docstring for `expand_forward`:')\n",
    "pprint(cf.expand_forward.__doc__)\n",
    "pprint('Docstring for `expand_all`:')\n",
    "pprint(cf.expand_all.__doc__)"
   ]
  },
  {
   "cell_type": "markdown",
   "metadata": {},
   "source": [
    "### Selective expansion with `expand_back`, `expand_forward`\n",
    "You can be very precise about which calls to add to the CF. For example, you can\n",
    "expand variables one by one. **When this results in convergent histories, the CF\n",
    "will detect this and reuse the calls**:  "
   ]
  },
  {
   "cell_type": "code",
   "execution_count": 14,
   "metadata": {
    "execution": {
     "iopub.execute_input": "2024-07-03T12:06:48.580895Z",
     "iopub.status.busy": "2024-07-03T12:06:48.580597Z",
     "iopub.status.idle": "2024-07-03T12:06:48.688621Z",
     "shell.execute_reply": "2024-07-03T12:06:48.688006Z"
    }
   },
   "outputs": [
    {
     "data": {
      "image/svg+xml": [
       "<?xml version=\"1.0\" encoding=\"UTF-8\" standalone=\"no\"?>\n",
       "<!DOCTYPE svg PUBLIC \"-//W3C//DTD SVG 1.1//EN\"\n",
       " \"http://www.w3.org/Graphics/SVG/1.1/DTD/svg11.dtd\">\n",
       "<!-- Generated by graphviz version 2.50.0 (0)\n",
       " -->\n",
       "<!-- Title: G Pages: 1 -->\n",
       "<svg width=\"362pt\" height=\"236pt\"\n",
       " viewBox=\"0.00 0.00 362.00 236.00\" xmlns=\"http://www.w3.org/2000/svg\" xmlns:xlink=\"http://www.w3.org/1999/xlink\">\n",
       "<g id=\"graph0\" class=\"graph\" transform=\"scale(1 1) rotate(0) translate(4 232)\">\n",
       "<title>G</title>\n",
       "<polygon fill=\"white\" stroke=\"transparent\" points=\"-4,4 -4,-232 358,-232 358,4 -4,4\"/>\n",
       "<!-- v -->\n",
       "<g id=\"node1\" class=\"node\">\n",
       "<title>v</title>\n",
       "<path fill=\"none\" stroke=\"#268bd2\" d=\"M211.5,-36C211.5,-36 142.5,-36 142.5,-36 136.5,-36 130.5,-30 130.5,-24 130.5,-24 130.5,-12 130.5,-12 130.5,-6 136.5,0 142.5,0 142.5,0 211.5,0 211.5,0 217.5,0 223.5,-6 223.5,-12 223.5,-12 223.5,-24 223.5,-24 223.5,-30 217.5,-36 211.5,-36\"/>\n",
       "<text text-anchor=\"start\" x=\"173.5\" y=\"-20.4\" font-family=\"RobotoMono\" font-weight=\"bold\" font-size=\"12.00\" fill=\"#002b36\">v</text>\n",
       "<text text-anchor=\"start\" x=\"138.5\" y=\"-10\" font-family=\"RobotoMono\" font-size=\"10.00\" fill=\"#268bd2\">1 values (1 sinks)</text>\n",
       "</g>\n",
       "<!-- y_test -->\n",
       "<g id=\"node2\" class=\"node\">\n",
       "<title>y_test</title>\n",
       "<path fill=\"none\" stroke=\"#268bd2\" d=\"M94,-228C94,-228 12,-228 12,-228 6,-228 0,-222 0,-216 0,-216 0,-204 0,-204 0,-198 6,-192 12,-192 12,-192 94,-192 94,-192 100,-192 106,-198 106,-204 106,-204 106,-216 106,-216 106,-222 100,-228 94,-228\"/>\n",
       "<text text-anchor=\"start\" x=\"35\" y=\"-212.4\" font-family=\"RobotoMono\" font-weight=\"bold\" font-size=\"12.00\" fill=\"#002b36\">y_test</text>\n",
       "<text text-anchor=\"start\" x=\"8\" y=\"-202\" font-family=\"RobotoMono\" font-size=\"10.00\" fill=\"#268bd2\">1 values (1 sources)</text>\n",
       "</g>\n",
       "<!-- eval_model -->\n",
       "<g id=\"node5\" class=\"node\">\n",
       "<title>eval_model</title>\n",
       "<path fill=\"none\" stroke=\"#dc322f\" d=\"M211,-134C211,-134 143,-134 143,-134 137,-134 131,-128 131,-122 131,-122 131,-106 131,-106 131,-100 137,-94 143,-94 143,-94 211,-94 211,-94 217,-94 223,-100 223,-106 223,-106 223,-122 223,-122 223,-128 217,-134 211,-134\"/>\n",
       "<text text-anchor=\"start\" x=\"143\" y=\"-121.4\" font-family=\"RobotoMono\" font-weight=\"bold\" font-size=\"12.00\" fill=\"#002b36\">eval_model</text>\n",
       "<text text-anchor=\"start\" x=\"139\" y=\"-111\" font-family=\"RobotoMono\" font-size=\"10.00\" fill=\"#002b36\">@op:eval_model</text>\n",
       "<text text-anchor=\"start\" x=\"163\" y=\"-101\" font-family=\"RobotoMono\" font-size=\"10.00\" fill=\"#dc322f\">1 calls</text>\n",
       "</g>\n",
       "<!-- y_test&#45;&gt;eval_model -->\n",
       "<g id=\"edge2\" class=\"edge\">\n",
       "<title>y_test&#45;&gt;eval_model</title>\n",
       "<path fill=\"none\" stroke=\"#002b36\" d=\"M75.46,-191.98C94.43,-177.59 121.89,-156.78 143.47,-140.42\"/>\n",
       "<polygon fill=\"#002b36\" stroke=\"#002b36\" points=\"145.87,-142.99 151.72,-134.16 141.64,-137.41 145.87,-142.99\"/>\n",
       "<text text-anchor=\"middle\" x=\"149\" y=\"-166\" font-family=\"RobotoMono\" font-size=\"10.00\" fill=\"#002b36\">y_test</text>\n",
       "<text text-anchor=\"middle\" x=\"149\" y=\"-155\" font-family=\"RobotoMono\" font-size=\"10.00\" fill=\"#002b36\">(1 values)</text>\n",
       "</g>\n",
       "<!-- X_test -->\n",
       "<g id=\"node3\" class=\"node\">\n",
       "<title>X_test</title>\n",
       "<path fill=\"none\" stroke=\"#268bd2\" d=\"M218,-228C218,-228 136,-228 136,-228 130,-228 124,-222 124,-216 124,-216 124,-204 124,-204 124,-198 130,-192 136,-192 136,-192 218,-192 218,-192 224,-192 230,-198 230,-204 230,-204 230,-216 230,-216 230,-222 224,-228 218,-228\"/>\n",
       "<text text-anchor=\"start\" x=\"158.5\" y=\"-212.4\" font-family=\"RobotoMono\" font-weight=\"bold\" font-size=\"12.00\" fill=\"#002b36\">X_test</text>\n",
       "<text text-anchor=\"start\" x=\"132\" y=\"-202\" font-family=\"RobotoMono\" font-size=\"10.00\" fill=\"#268bd2\">1 values (1 sources)</text>\n",
       "</g>\n",
       "<!-- X_test&#45;&gt;eval_model -->\n",
       "<g id=\"edge3\" class=\"edge\">\n",
       "<title>X_test&#45;&gt;eval_model</title>\n",
       "<path fill=\"none\" stroke=\"#002b36\" d=\"M177,-191.76C177,-178.5 177,-159.86 177,-144.27\"/>\n",
       "<polygon fill=\"#002b36\" stroke=\"#002b36\" points=\"180.5,-144.07 177,-134.07 173.5,-144.07 180.5,-144.07\"/>\n",
       "<text text-anchor=\"middle\" x=\"199\" y=\"-166\" font-family=\"RobotoMono\" font-size=\"10.00\" fill=\"#002b36\">X_test</text>\n",
       "<text text-anchor=\"middle\" x=\"199\" y=\"-155\" font-family=\"RobotoMono\" font-size=\"10.00\" fill=\"#002b36\">(1 values)</text>\n",
       "</g>\n",
       "<!-- model -->\n",
       "<g id=\"node4\" class=\"node\">\n",
       "<title>model</title>\n",
       "<path fill=\"none\" stroke=\"#268bd2\" d=\"M342,-228C342,-228 260,-228 260,-228 254,-228 248,-222 248,-216 248,-216 248,-204 248,-204 248,-198 254,-192 260,-192 260,-192 342,-192 342,-192 348,-192 354,-198 354,-204 354,-204 354,-216 354,-216 354,-222 348,-228 342,-228\"/>\n",
       "<text text-anchor=\"start\" x=\"282\" y=\"-212.4\" font-family=\"RobotoMono\" font-weight=\"bold\" font-size=\"12.00\" fill=\"#002b36\">model</text>\n",
       "<text text-anchor=\"start\" x=\"256\" y=\"-202\" font-family=\"RobotoMono\" font-size=\"10.00\" fill=\"#268bd2\">1 values (1 sources)</text>\n",
       "</g>\n",
       "<!-- model&#45;&gt;eval_model -->\n",
       "<g id=\"edge4\" class=\"edge\">\n",
       "<title>model&#45;&gt;eval_model</title>\n",
       "<path fill=\"none\" stroke=\"#002b36\" d=\"M278.54,-191.98C259.57,-177.59 232.11,-156.78 210.53,-140.42\"/>\n",
       "<polygon fill=\"#002b36\" stroke=\"#002b36\" points=\"212.36,-137.41 202.28,-134.16 208.13,-142.99 212.36,-137.41\"/>\n",
       "<text text-anchor=\"middle\" x=\"275\" y=\"-166\" font-family=\"RobotoMono\" font-size=\"10.00\" fill=\"#002b36\">model</text>\n",
       "<text text-anchor=\"middle\" x=\"275\" y=\"-155\" font-family=\"RobotoMono\" font-size=\"10.00\" fill=\"#002b36\">(1 values)</text>\n",
       "</g>\n",
       "<!-- eval_model&#45;&gt;v -->\n",
       "<g id=\"edge1\" class=\"edge\">\n",
       "<title>eval_model&#45;&gt;v</title>\n",
       "<path fill=\"none\" stroke=\"#002b36\" d=\"M177,-93.98C177,-80.34 177,-61.75 177,-46.5\"/>\n",
       "<polygon fill=\"#002b36\" stroke=\"#002b36\" points=\"180.5,-46.1 177,-36.1 173.5,-46.1 180.5,-46.1\"/>\n",
       "<text text-anchor=\"middle\" x=\"199\" y=\"-68\" font-family=\"RobotoMono\" font-size=\"10.00\" fill=\"#002b36\">output_0</text>\n",
       "<text text-anchor=\"middle\" x=\"199\" y=\"-57\" font-family=\"RobotoMono\" font-size=\"10.00\" fill=\"#002b36\">(1 values)</text>\n",
       "</g>\n",
       "</g>\n",
       "</svg>\n"
      ],
      "text/plain": [
       "<graphviz.sources.Source at 0x71a56a1508b0>"
      ]
     },
     "metadata": {},
     "output_type": "display_data"
    }
   ],
   "source": [
    "cf = storage.cf(test_acc)\n",
    "cf = cf.expand_back('v')\n",
    "cf.draw(verbose=True)"
   ]
  },
  {
   "cell_type": "code",
   "execution_count": 15,
   "metadata": {
    "execution": {
     "iopub.execute_input": "2024-07-03T12:06:48.690885Z",
     "iopub.status.busy": "2024-07-03T12:06:48.690671Z",
     "iopub.status.idle": "2024-07-03T12:06:48.801030Z",
     "shell.execute_reply": "2024-07-03T12:06:48.800347Z"
    }
   },
   "outputs": [
    {
     "data": {
      "image/svg+xml": [
       "<?xml version=\"1.0\" encoding=\"UTF-8\" standalone=\"no\"?>\n",
       "<!DOCTYPE svg PUBLIC \"-//W3C//DTD SVG 1.1//EN\"\n",
       " \"http://www.w3.org/Graphics/SVG/1.1/DTD/svg11.dtd\">\n",
       "<!-- Generated by graphviz version 2.50.0 (0)\n",
       " -->\n",
       "<!-- Title: G Pages: 1 -->\n",
       "<svg width=\"310pt\" height=\"428pt\"\n",
       " viewBox=\"0.00 0.00 310.00 428.00\" xmlns=\"http://www.w3.org/2000/svg\" xmlns:xlink=\"http://www.w3.org/1999/xlink\">\n",
       "<g id=\"graph0\" class=\"graph\" transform=\"scale(1 1) rotate(0) translate(4 424)\">\n",
       "<title>G</title>\n",
       "<polygon fill=\"white\" stroke=\"transparent\" points=\"-4,4 -4,-424 306,-424 306,4 -4,4\"/>\n",
       "<!-- y_test -->\n",
       "<g id=\"node1\" class=\"node\">\n",
       "<title>y_test</title>\n",
       "<path fill=\"none\" stroke=\"#268bd2\" d=\"M94,-228C94,-228 12,-228 12,-228 6,-228 0,-222 0,-216 0,-216 0,-204 0,-204 0,-198 6,-192 12,-192 12,-192 94,-192 94,-192 100,-192 106,-198 106,-204 106,-204 106,-216 106,-216 106,-222 100,-228 94,-228\"/>\n",
       "<text text-anchor=\"start\" x=\"35\" y=\"-212.4\" font-family=\"RobotoMono\" font-weight=\"bold\" font-size=\"12.00\" fill=\"#002b36\">y_test</text>\n",
       "<text text-anchor=\"start\" x=\"8\" y=\"-202\" font-family=\"RobotoMono\" font-size=\"10.00\" fill=\"#268bd2\">1 values (1 sources)</text>\n",
       "</g>\n",
       "<!-- eval_model -->\n",
       "<g id=\"node7\" class=\"node\">\n",
       "<title>eval_model</title>\n",
       "<path fill=\"none\" stroke=\"#dc322f\" d=\"M185,-134C185,-134 117,-134 117,-134 111,-134 105,-128 105,-122 105,-122 105,-106 105,-106 105,-100 111,-94 117,-94 117,-94 185,-94 185,-94 191,-94 197,-100 197,-106 197,-106 197,-122 197,-122 197,-128 191,-134 185,-134\"/>\n",
       "<text text-anchor=\"start\" x=\"117\" y=\"-121.4\" font-family=\"RobotoMono\" font-weight=\"bold\" font-size=\"12.00\" fill=\"#002b36\">eval_model</text>\n",
       "<text text-anchor=\"start\" x=\"113\" y=\"-111\" font-family=\"RobotoMono\" font-size=\"10.00\" fill=\"#002b36\">@op:eval_model</text>\n",
       "<text text-anchor=\"start\" x=\"137\" y=\"-101\" font-family=\"RobotoMono\" font-size=\"10.00\" fill=\"#dc322f\">1 calls</text>\n",
       "</g>\n",
       "<!-- y_test&#45;&gt;eval_model -->\n",
       "<g id=\"edge2\" class=\"edge\">\n",
       "<title>y_test&#45;&gt;eval_model</title>\n",
       "<path fill=\"none\" stroke=\"#002b36\" d=\"M66.63,-191.76C76.26,-180.02 89.75,-164.43 103,-152 107.12,-148.13 111.63,-144.25 116.18,-140.54\"/>\n",
       "<polygon fill=\"#002b36\" stroke=\"#002b36\" points=\"118.67,-143.04 124.34,-134.09 114.33,-137.55 118.67,-143.04\"/>\n",
       "<text text-anchor=\"middle\" x=\"125\" y=\"-166\" font-family=\"RobotoMono\" font-size=\"10.00\" fill=\"#002b36\">y_test</text>\n",
       "<text text-anchor=\"middle\" x=\"125\" y=\"-155\" font-family=\"RobotoMono\" font-size=\"10.00\" fill=\"#002b36\">(1 values)</text>\n",
       "</g>\n",
       "<!-- X_test -->\n",
       "<g id=\"node2\" class=\"node\">\n",
       "<title>X_test</title>\n",
       "<path fill=\"none\" stroke=\"#268bd2\" d=\"M166,-228C166,-228 136,-228 136,-228 130,-228 124,-222 124,-216 124,-216 124,-204 124,-204 124,-198 130,-192 136,-192 136,-192 166,-192 166,-192 172,-192 178,-198 178,-204 178,-204 178,-216 178,-216 178,-222 172,-228 166,-228\"/>\n",
       "<text text-anchor=\"start\" x=\"132.5\" y=\"-212.4\" font-family=\"RobotoMono\" font-weight=\"bold\" font-size=\"12.00\" fill=\"#002b36\">X_test</text>\n",
       "<text text-anchor=\"start\" x=\"132\" y=\"-202\" font-family=\"RobotoMono\" font-size=\"10.00\" fill=\"#268bd2\">1 values</text>\n",
       "</g>\n",
       "<!-- X_test&#45;&gt;eval_model -->\n",
       "<g id=\"edge3\" class=\"edge\">\n",
       "<title>X_test&#45;&gt;eval_model</title>\n",
       "<path fill=\"none\" stroke=\"#002b36\" d=\"M151,-191.76C151,-178.5 151,-159.86 151,-144.27\"/>\n",
       "<polygon fill=\"#002b36\" stroke=\"#002b36\" points=\"154.5,-144.07 151,-134.07 147.5,-144.07 154.5,-144.07\"/>\n",
       "<text text-anchor=\"middle\" x=\"173\" y=\"-166\" font-family=\"RobotoMono\" font-size=\"10.00\" fill=\"#002b36\">X_test</text>\n",
       "<text text-anchor=\"middle\" x=\"173\" y=\"-155\" font-family=\"RobotoMono\" font-size=\"10.00\" fill=\"#002b36\">(1 values)</text>\n",
       "</g>\n",
       "<!-- random_seed -->\n",
       "<g id=\"node3\" class=\"node\">\n",
       "<title>random_seed</title>\n",
       "<path fill=\"none\" stroke=\"#268bd2\" d=\"M192,-420C192,-420 110,-420 110,-420 104,-420 98,-414 98,-408 98,-408 98,-396 98,-396 98,-390 104,-384 110,-384 110,-384 192,-384 192,-384 198,-384 204,-390 204,-396 204,-396 204,-408 204,-408 204,-414 198,-420 192,-420\"/>\n",
       "<text text-anchor=\"start\" x=\"110.5\" y=\"-404.4\" font-family=\"RobotoMono\" font-weight=\"bold\" font-size=\"12.00\" fill=\"#002b36\">random_seed</text>\n",
       "<text text-anchor=\"start\" x=\"106\" y=\"-394\" font-family=\"RobotoMono\" font-size=\"10.00\" fill=\"#268bd2\">1 values (1 sources)</text>\n",
       "</g>\n",
       "<!-- generate_dataset -->\n",
       "<g id=\"node6\" class=\"node\">\n",
       "<title>generate_dataset</title>\n",
       "<path fill=\"none\" stroke=\"#dc322f\" d=\"M200,-326C200,-326 102,-326 102,-326 96,-326 90,-320 90,-314 90,-314 90,-298 90,-298 90,-292 96,-286 102,-286 102,-286 200,-286 200,-286 206,-286 212,-292 212,-298 212,-298 212,-314 212,-314 212,-320 206,-326 200,-326\"/>\n",
       "<text text-anchor=\"start\" x=\"98\" y=\"-313.4\" font-family=\"RobotoMono\" font-weight=\"bold\" font-size=\"12.00\" fill=\"#002b36\">generate_dataset</text>\n",
       "<text text-anchor=\"start\" x=\"98\" y=\"-303\" font-family=\"RobotoMono\" font-size=\"10.00\" fill=\"#002b36\">@op:generate_dataset</text>\n",
       "<text text-anchor=\"start\" x=\"137\" y=\"-293\" font-family=\"RobotoMono\" font-size=\"10.00\" fill=\"#dc322f\">1 calls</text>\n",
       "</g>\n",
       "<!-- random_seed&#45;&gt;generate_dataset -->\n",
       "<g id=\"edge6\" class=\"edge\">\n",
       "<title>random_seed&#45;&gt;generate_dataset</title>\n",
       "<path fill=\"none\" stroke=\"#002b36\" d=\"M151,-383.76C151,-370.5 151,-351.86 151,-336.27\"/>\n",
       "<polygon fill=\"#002b36\" stroke=\"#002b36\" points=\"154.5,-336.07 151,-326.07 147.5,-336.07 154.5,-336.07\"/>\n",
       "<text text-anchor=\"middle\" x=\"183\" y=\"-358\" font-family=\"RobotoMono\" font-size=\"10.00\" fill=\"#002b36\">random_seed</text>\n",
       "<text text-anchor=\"middle\" x=\"183\" y=\"-347\" font-family=\"RobotoMono\" font-size=\"10.00\" fill=\"#002b36\">(1 values)</text>\n",
       "</g>\n",
       "<!-- v -->\n",
       "<g id=\"node4\" class=\"node\">\n",
       "<title>v</title>\n",
       "<path fill=\"none\" stroke=\"#268bd2\" d=\"M185.5,-36C185.5,-36 116.5,-36 116.5,-36 110.5,-36 104.5,-30 104.5,-24 104.5,-24 104.5,-12 104.5,-12 104.5,-6 110.5,0 116.5,0 116.5,0 185.5,0 185.5,0 191.5,0 197.5,-6 197.5,-12 197.5,-12 197.5,-24 197.5,-24 197.5,-30 191.5,-36 185.5,-36\"/>\n",
       "<text text-anchor=\"start\" x=\"147.5\" y=\"-20.4\" font-family=\"RobotoMono\" font-weight=\"bold\" font-size=\"12.00\" fill=\"#002b36\">v</text>\n",
       "<text text-anchor=\"start\" x=\"112.5\" y=\"-10\" font-family=\"RobotoMono\" font-size=\"10.00\" fill=\"#268bd2\">1 values (1 sinks)</text>\n",
       "</g>\n",
       "<!-- model -->\n",
       "<g id=\"node5\" class=\"node\">\n",
       "<title>model</title>\n",
       "<path fill=\"none\" stroke=\"#268bd2\" d=\"M290,-228C290,-228 208,-228 208,-228 202,-228 196,-222 196,-216 196,-216 196,-204 196,-204 196,-198 202,-192 208,-192 208,-192 290,-192 290,-192 296,-192 302,-198 302,-204 302,-204 302,-216 302,-216 302,-222 296,-228 290,-228\"/>\n",
       "<text text-anchor=\"start\" x=\"230\" y=\"-212.4\" font-family=\"RobotoMono\" font-weight=\"bold\" font-size=\"12.00\" fill=\"#002b36\">model</text>\n",
       "<text text-anchor=\"start\" x=\"204\" y=\"-202\" font-family=\"RobotoMono\" font-size=\"10.00\" fill=\"#268bd2\">1 values (1 sources)</text>\n",
       "</g>\n",
       "<!-- model&#45;&gt;eval_model -->\n",
       "<g id=\"edge4\" class=\"edge\">\n",
       "<title>model&#45;&gt;eval_model</title>\n",
       "<path fill=\"none\" stroke=\"#002b36\" d=\"M235.37,-191.76C225.74,-180.02 212.25,-164.43 199,-152 194.88,-148.13 190.37,-144.25 185.82,-140.54\"/>\n",
       "<polygon fill=\"#002b36\" stroke=\"#002b36\" points=\"187.67,-137.55 177.66,-134.09 183.33,-143.04 187.67,-137.55\"/>\n",
       "<text text-anchor=\"middle\" x=\"241\" y=\"-166\" font-family=\"RobotoMono\" font-size=\"10.00\" fill=\"#002b36\">model</text>\n",
       "<text text-anchor=\"middle\" x=\"241\" y=\"-155\" font-family=\"RobotoMono\" font-size=\"10.00\" fill=\"#002b36\">(1 values)</text>\n",
       "</g>\n",
       "<!-- generate_dataset&#45;&gt;X_test -->\n",
       "<g id=\"edge5\" class=\"edge\">\n",
       "<title>generate_dataset&#45;&gt;X_test</title>\n",
       "<path fill=\"none\" stroke=\"#002b36\" d=\"M151,-285.98C151,-272.34 151,-253.75 151,-238.5\"/>\n",
       "<polygon fill=\"#002b36\" stroke=\"#002b36\" points=\"154.5,-238.1 151,-228.1 147.5,-238.1 154.5,-238.1\"/>\n",
       "<text text-anchor=\"middle\" x=\"173\" y=\"-260\" font-family=\"RobotoMono\" font-size=\"10.00\" fill=\"#002b36\">output_1</text>\n",
       "<text text-anchor=\"middle\" x=\"173\" y=\"-249\" font-family=\"RobotoMono\" font-size=\"10.00\" fill=\"#002b36\">(1 values)</text>\n",
       "</g>\n",
       "<!-- eval_model&#45;&gt;v -->\n",
       "<g id=\"edge1\" class=\"edge\">\n",
       "<title>eval_model&#45;&gt;v</title>\n",
       "<path fill=\"none\" stroke=\"#002b36\" d=\"M151,-93.98C151,-80.34 151,-61.75 151,-46.5\"/>\n",
       "<polygon fill=\"#002b36\" stroke=\"#002b36\" points=\"154.5,-46.1 151,-36.1 147.5,-46.1 154.5,-46.1\"/>\n",
       "<text text-anchor=\"middle\" x=\"173\" y=\"-68\" font-family=\"RobotoMono\" font-size=\"10.00\" fill=\"#002b36\">output_0</text>\n",
       "<text text-anchor=\"middle\" x=\"173\" y=\"-57\" font-family=\"RobotoMono\" font-size=\"10.00\" fill=\"#002b36\">(1 values)</text>\n",
       "</g>\n",
       "</g>\n",
       "</svg>\n"
      ],
      "text/plain": [
       "<graphviz.sources.Source at 0x71a56a11d5d0>"
      ]
     },
     "metadata": {},
     "output_type": "display_data"
    }
   ],
   "source": [
    "cf = cf.expand_back('X_test')\n",
    "cf.draw(verbose=True)"
   ]
  },
  {
   "cell_type": "code",
   "execution_count": 16,
   "metadata": {
    "execution": {
     "iopub.execute_input": "2024-07-03T12:06:48.803999Z",
     "iopub.status.busy": "2024-07-03T12:06:48.803736Z",
     "iopub.status.idle": "2024-07-03T12:06:48.912978Z",
     "shell.execute_reply": "2024-07-03T12:06:48.912078Z"
    }
   },
   "outputs": [
    {
     "data": {
      "image/svg+xml": [
       "<?xml version=\"1.0\" encoding=\"UTF-8\" standalone=\"no\"?>\n",
       "<!DOCTYPE svg PUBLIC \"-//W3C//DTD SVG 1.1//EN\"\n",
       " \"http://www.w3.org/Graphics/SVG/1.1/DTD/svg11.dtd\">\n",
       "<!-- Generated by graphviz version 2.50.0 (0)\n",
       " -->\n",
       "<!-- Title: G Pages: 1 -->\n",
       "<svg width=\"493pt\" height=\"428pt\"\n",
       " viewBox=\"0.00 0.00 493.00 428.00\" xmlns=\"http://www.w3.org/2000/svg\" xmlns:xlink=\"http://www.w3.org/1999/xlink\">\n",
       "<g id=\"graph0\" class=\"graph\" transform=\"scale(1 1) rotate(0) translate(4 424)\">\n",
       "<title>G</title>\n",
       "<polygon fill=\"white\" stroke=\"transparent\" points=\"-4,4 -4,-424 489,-424 489,4 -4,4\"/>\n",
       "<!-- y_train -->\n",
       "<g id=\"node1\" class=\"node\">\n",
       "<title>y_train</title>\n",
       "<path fill=\"none\" stroke=\"#268bd2\" d=\"M473,-420C473,-420 391,-420 391,-420 385,-420 379,-414 379,-408 379,-408 379,-396 379,-396 379,-390 385,-384 391,-384 391,-384 473,-384 473,-384 479,-384 485,-390 485,-396 485,-396 485,-408 485,-408 485,-414 479,-420 473,-420\"/>\n",
       "<text text-anchor=\"start\" x=\"410.5\" y=\"-404.4\" font-family=\"RobotoMono\" font-weight=\"bold\" font-size=\"12.00\" fill=\"#002b36\">y_train</text>\n",
       "<text text-anchor=\"start\" x=\"387\" y=\"-394\" font-family=\"RobotoMono\" font-size=\"10.00\" fill=\"#268bd2\">1 values (1 sources)</text>\n",
       "</g>\n",
       "<!-- train_model -->\n",
       "<g id=\"node9\" class=\"node\">\n",
       "<title>train_model</title>\n",
       "<path fill=\"none\" stroke=\"#dc322f\" d=\"M342.5,-326C342.5,-326 271.5,-326 271.5,-326 265.5,-326 259.5,-320 259.5,-314 259.5,-314 259.5,-298 259.5,-298 259.5,-292 265.5,-286 271.5,-286 271.5,-286 342.5,-286 342.5,-286 348.5,-286 354.5,-292 354.5,-298 354.5,-298 354.5,-314 354.5,-314 354.5,-320 348.5,-326 342.5,-326\"/>\n",
       "<text text-anchor=\"start\" x=\"270.5\" y=\"-313.4\" font-family=\"RobotoMono\" font-weight=\"bold\" font-size=\"12.00\" fill=\"#002b36\">train_model</text>\n",
       "<text text-anchor=\"start\" x=\"267.5\" y=\"-303\" font-family=\"RobotoMono\" font-size=\"10.00\" fill=\"#002b36\">@op:train_model</text>\n",
       "<text text-anchor=\"start\" x=\"293\" y=\"-293\" font-family=\"RobotoMono\" font-size=\"10.00\" fill=\"#dc322f\">1 calls</text>\n",
       "</g>\n",
       "<!-- y_train&#45;&gt;train_model -->\n",
       "<g id=\"edge8\" class=\"edge\">\n",
       "<title>y_train&#45;&gt;train_model</title>\n",
       "<path fill=\"none\" stroke=\"#002b36\" d=\"M416.15,-383.88C404.58,-371.91 388.15,-355.99 372,-344 366.05,-339.58 359.52,-335.3 352.97,-331.3\"/>\n",
       "<polygon fill=\"#002b36\" stroke=\"#002b36\" points=\"354.47,-328.12 344.08,-326.05 350.91,-334.15 354.47,-328.12\"/>\n",
       "<text text-anchor=\"middle\" x=\"419\" y=\"-358\" font-family=\"RobotoMono\" font-size=\"10.00\" fill=\"#002b36\">y_train</text>\n",
       "<text text-anchor=\"middle\" x=\"419\" y=\"-347\" font-family=\"RobotoMono\" font-size=\"10.00\" fill=\"#002b36\">(1 values)</text>\n",
       "</g>\n",
       "<!-- X_train -->\n",
       "<g id=\"node2\" class=\"node\">\n",
       "<title>X_train</title>\n",
       "<path fill=\"none\" stroke=\"#268bd2\" d=\"M225,-420C225,-420 143,-420 143,-420 137,-420 131,-414 131,-408 131,-408 131,-396 131,-396 131,-390 137,-384 143,-384 143,-384 225,-384 225,-384 231,-384 237,-390 237,-396 237,-396 237,-408 237,-408 237,-414 231,-420 225,-420\"/>\n",
       "<text text-anchor=\"start\" x=\"162\" y=\"-404.4\" font-family=\"RobotoMono\" font-weight=\"bold\" font-size=\"12.00\" fill=\"#002b36\">X_train</text>\n",
       "<text text-anchor=\"start\" x=\"139\" y=\"-394\" font-family=\"RobotoMono\" font-size=\"10.00\" fill=\"#268bd2\">1 values (1 sources)</text>\n",
       "</g>\n",
       "<!-- X_train&#45;&gt;train_model -->\n",
       "<g id=\"edge9\" class=\"edge\">\n",
       "<title>X_train&#45;&gt;train_model</title>\n",
       "<path fill=\"none\" stroke=\"#002b36\" d=\"M206.27,-383.98C225.1,-369.59 252.34,-348.78 273.74,-332.42\"/>\n",
       "<polygon fill=\"#002b36\" stroke=\"#002b36\" points=\"276.11,-335.02 281.93,-326.16 271.86,-329.45 276.11,-335.02\"/>\n",
       "<text text-anchor=\"middle\" x=\"279\" y=\"-358\" font-family=\"RobotoMono\" font-size=\"10.00\" fill=\"#002b36\">X_train</text>\n",
       "<text text-anchor=\"middle\" x=\"279\" y=\"-347\" font-family=\"RobotoMono\" font-size=\"10.00\" fill=\"#002b36\">(1 values)</text>\n",
       "</g>\n",
       "<!-- y_test -->\n",
       "<g id=\"node3\" class=\"node\">\n",
       "<title>y_test</title>\n",
       "<path fill=\"none\" stroke=\"#268bd2\" d=\"M245,-228C245,-228 163,-228 163,-228 157,-228 151,-222 151,-216 151,-216 151,-204 151,-204 151,-198 157,-192 163,-192 163,-192 245,-192 245,-192 251,-192 257,-198 257,-204 257,-204 257,-216 257,-216 257,-222 251,-228 245,-228\"/>\n",
       "<text text-anchor=\"start\" x=\"186\" y=\"-212.4\" font-family=\"RobotoMono\" font-weight=\"bold\" font-size=\"12.00\" fill=\"#002b36\">y_test</text>\n",
       "<text text-anchor=\"start\" x=\"159\" y=\"-202\" font-family=\"RobotoMono\" font-size=\"10.00\" fill=\"#268bd2\">1 values (1 sources)</text>\n",
       "</g>\n",
       "<!-- eval_model -->\n",
       "<g id=\"node11\" class=\"node\">\n",
       "<title>eval_model</title>\n",
       "<path fill=\"none\" stroke=\"#dc322f\" d=\"M238,-134C238,-134 170,-134 170,-134 164,-134 158,-128 158,-122 158,-122 158,-106 158,-106 158,-100 164,-94 170,-94 170,-94 238,-94 238,-94 244,-94 250,-100 250,-106 250,-106 250,-122 250,-122 250,-128 244,-134 238,-134\"/>\n",
       "<text text-anchor=\"start\" x=\"170\" y=\"-121.4\" font-family=\"RobotoMono\" font-weight=\"bold\" font-size=\"12.00\" fill=\"#002b36\">eval_model</text>\n",
       "<text text-anchor=\"start\" x=\"166\" y=\"-111\" font-family=\"RobotoMono\" font-size=\"10.00\" fill=\"#002b36\">@op:eval_model</text>\n",
       "<text text-anchor=\"start\" x=\"190\" y=\"-101\" font-family=\"RobotoMono\" font-size=\"10.00\" fill=\"#dc322f\">1 calls</text>\n",
       "</g>\n",
       "<!-- y_test&#45;&gt;eval_model -->\n",
       "<g id=\"edge2\" class=\"edge\">\n",
       "<title>y_test&#45;&gt;eval_model</title>\n",
       "<path fill=\"none\" stroke=\"#002b36\" d=\"M204,-191.76C204,-178.5 204,-159.86 204,-144.27\"/>\n",
       "<polygon fill=\"#002b36\" stroke=\"#002b36\" points=\"207.5,-144.07 204,-134.07 200.5,-144.07 207.5,-144.07\"/>\n",
       "<text text-anchor=\"middle\" x=\"226\" y=\"-166\" font-family=\"RobotoMono\" font-size=\"10.00\" fill=\"#002b36\">y_test</text>\n",
       "<text text-anchor=\"middle\" x=\"226\" y=\"-155\" font-family=\"RobotoMono\" font-size=\"10.00\" fill=\"#002b36\">(1 values)</text>\n",
       "</g>\n",
       "<!-- X_test -->\n",
       "<g id=\"node4\" class=\"node\">\n",
       "<title>X_test</title>\n",
       "<path fill=\"none\" stroke=\"#268bd2\" d=\"M115,-228C115,-228 85,-228 85,-228 79,-228 73,-222 73,-216 73,-216 73,-204 73,-204 73,-198 79,-192 85,-192 85,-192 115,-192 115,-192 121,-192 127,-198 127,-204 127,-204 127,-216 127,-216 127,-222 121,-228 115,-228\"/>\n",
       "<text text-anchor=\"start\" x=\"81.5\" y=\"-212.4\" font-family=\"RobotoMono\" font-weight=\"bold\" font-size=\"12.00\" fill=\"#002b36\">X_test</text>\n",
       "<text text-anchor=\"start\" x=\"81\" y=\"-202\" font-family=\"RobotoMono\" font-size=\"10.00\" fill=\"#268bd2\">1 values</text>\n",
       "</g>\n",
       "<!-- X_test&#45;&gt;eval_model -->\n",
       "<g id=\"edge3\" class=\"edge\">\n",
       "<title>X_test&#45;&gt;eval_model</title>\n",
       "<path fill=\"none\" stroke=\"#002b36\" d=\"M115.6,-191.93C126.52,-180.27 141.68,-164.7 156,-152 160.39,-148.11 165.14,-144.16 169.89,-140.36\"/>\n",
       "<polygon fill=\"#002b36\" stroke=\"#002b36\" points=\"172.11,-143.07 177.82,-134.14 167.79,-137.56 172.11,-143.07\"/>\n",
       "<text text-anchor=\"middle\" x=\"178\" y=\"-166\" font-family=\"RobotoMono\" font-size=\"10.00\" fill=\"#002b36\">X_test</text>\n",
       "<text text-anchor=\"middle\" x=\"178\" y=\"-155\" font-family=\"RobotoMono\" font-size=\"10.00\" fill=\"#002b36\">(1 values)</text>\n",
       "</g>\n",
       "<!-- random_seed -->\n",
       "<g id=\"node5\" class=\"node\">\n",
       "<title>random_seed</title>\n",
       "<path fill=\"none\" stroke=\"#268bd2\" d=\"M101,-420C101,-420 19,-420 19,-420 13,-420 7,-414 7,-408 7,-408 7,-396 7,-396 7,-390 13,-384 19,-384 19,-384 101,-384 101,-384 107,-384 113,-390 113,-396 113,-396 113,-408 113,-408 113,-414 107,-420 101,-420\"/>\n",
       "<text text-anchor=\"start\" x=\"19.5\" y=\"-404.4\" font-family=\"RobotoMono\" font-weight=\"bold\" font-size=\"12.00\" fill=\"#002b36\">random_seed</text>\n",
       "<text text-anchor=\"start\" x=\"15\" y=\"-394\" font-family=\"RobotoMono\" font-size=\"10.00\" fill=\"#268bd2\">1 values (1 sources)</text>\n",
       "</g>\n",
       "<!-- generate_dataset -->\n",
       "<g id=\"node10\" class=\"node\">\n",
       "<title>generate_dataset</title>\n",
       "<path fill=\"none\" stroke=\"#dc322f\" d=\"M110,-326C110,-326 12,-326 12,-326 6,-326 0,-320 0,-314 0,-314 0,-298 0,-298 0,-292 6,-286 12,-286 12,-286 110,-286 110,-286 116,-286 122,-292 122,-298 122,-298 122,-314 122,-314 122,-320 116,-326 110,-326\"/>\n",
       "<text text-anchor=\"start\" x=\"8\" y=\"-313.4\" font-family=\"RobotoMono\" font-weight=\"bold\" font-size=\"12.00\" fill=\"#002b36\">generate_dataset</text>\n",
       "<text text-anchor=\"start\" x=\"8\" y=\"-303\" font-family=\"RobotoMono\" font-size=\"10.00\" fill=\"#002b36\">@op:generate_dataset</text>\n",
       "<text text-anchor=\"start\" x=\"47\" y=\"-293\" font-family=\"RobotoMono\" font-size=\"10.00\" fill=\"#dc322f\">1 calls</text>\n",
       "</g>\n",
       "<!-- random_seed&#45;&gt;generate_dataset -->\n",
       "<g id=\"edge6\" class=\"edge\">\n",
       "<title>random_seed&#45;&gt;generate_dataset</title>\n",
       "<path fill=\"none\" stroke=\"#002b36\" d=\"M60.18,-383.76C60.32,-370.5 60.52,-351.86 60.69,-336.27\"/>\n",
       "<polygon fill=\"#002b36\" stroke=\"#002b36\" points=\"64.19,-336.11 60.8,-326.07 57.19,-336.03 64.19,-336.11\"/>\n",
       "<text text-anchor=\"middle\" x=\"93\" y=\"-358\" font-family=\"RobotoMono\" font-size=\"10.00\" fill=\"#002b36\">random_seed</text>\n",
       "<text text-anchor=\"middle\" x=\"93\" y=\"-347\" font-family=\"RobotoMono\" font-size=\"10.00\" fill=\"#002b36\">(1 values)</text>\n",
       "</g>\n",
       "<!-- n_estimators -->\n",
       "<g id=\"node6\" class=\"node\">\n",
       "<title>n_estimators</title>\n",
       "<path fill=\"none\" stroke=\"#268bd2\" d=\"M349,-420C349,-420 267,-420 267,-420 261,-420 255,-414 255,-408 255,-408 255,-396 255,-396 255,-390 261,-384 267,-384 267,-384 349,-384 349,-384 355,-384 361,-390 361,-396 361,-396 361,-408 361,-408 361,-414 355,-420 349,-420\"/>\n",
       "<text text-anchor=\"start\" x=\"268.5\" y=\"-404.4\" font-family=\"RobotoMono\" font-weight=\"bold\" font-size=\"12.00\" fill=\"#002b36\">n_estimators</text>\n",
       "<text text-anchor=\"start\" x=\"263\" y=\"-394\" font-family=\"RobotoMono\" font-size=\"10.00\" fill=\"#268bd2\">1 values (1 sources)</text>\n",
       "</g>\n",
       "<!-- n_estimators&#45;&gt;train_model -->\n",
       "<g id=\"edge10\" class=\"edge\">\n",
       "<title>n_estimators&#45;&gt;train_model</title>\n",
       "<path fill=\"none\" stroke=\"#002b36\" d=\"M307.82,-383.76C307.68,-370.5 307.48,-351.86 307.31,-336.27\"/>\n",
       "<polygon fill=\"#002b36\" stroke=\"#002b36\" points=\"310.81,-336.03 307.2,-326.07 303.81,-336.11 310.81,-336.03\"/>\n",
       "<text text-anchor=\"middle\" x=\"337.5\" y=\"-358\" font-family=\"RobotoMono\" font-size=\"10.00\" fill=\"#002b36\">n_estimators</text>\n",
       "<text text-anchor=\"middle\" x=\"337.5\" y=\"-347\" font-family=\"RobotoMono\" font-size=\"10.00\" fill=\"#002b36\">(1 values)</text>\n",
       "</g>\n",
       "<!-- v -->\n",
       "<g id=\"node7\" class=\"node\">\n",
       "<title>v</title>\n",
       "<path fill=\"none\" stroke=\"#268bd2\" d=\"M238.5,-36C238.5,-36 169.5,-36 169.5,-36 163.5,-36 157.5,-30 157.5,-24 157.5,-24 157.5,-12 157.5,-12 157.5,-6 163.5,0 169.5,0 169.5,0 238.5,0 238.5,0 244.5,0 250.5,-6 250.5,-12 250.5,-12 250.5,-24 250.5,-24 250.5,-30 244.5,-36 238.5,-36\"/>\n",
       "<text text-anchor=\"start\" x=\"200.5\" y=\"-20.4\" font-family=\"RobotoMono\" font-weight=\"bold\" font-size=\"12.00\" fill=\"#002b36\">v</text>\n",
       "<text text-anchor=\"start\" x=\"165.5\" y=\"-10\" font-family=\"RobotoMono\" font-size=\"10.00\" fill=\"#268bd2\">1 values (1 sinks)</text>\n",
       "</g>\n",
       "<!-- model -->\n",
       "<g id=\"node8\" class=\"node\">\n",
       "<title>model</title>\n",
       "<path fill=\"none\" stroke=\"#268bd2\" d=\"M320,-228C320,-228 290,-228 290,-228 284,-228 278,-222 278,-216 278,-216 278,-204 278,-204 278,-198 284,-192 290,-192 290,-192 320,-192 320,-192 326,-192 332,-198 332,-204 332,-204 332,-216 332,-216 332,-222 326,-228 320,-228\"/>\n",
       "<text text-anchor=\"start\" x=\"286\" y=\"-212.4\" font-family=\"RobotoMono\" font-weight=\"bold\" font-size=\"12.00\" fill=\"#002b36\">model</text>\n",
       "<text text-anchor=\"start\" x=\"286\" y=\"-202\" font-family=\"RobotoMono\" font-size=\"10.00\" fill=\"#268bd2\">1 values</text>\n",
       "</g>\n",
       "<!-- model&#45;&gt;eval_model -->\n",
       "<g id=\"edge4\" class=\"edge\">\n",
       "<title>model&#45;&gt;eval_model</title>\n",
       "<path fill=\"none\" stroke=\"#002b36\" d=\"M290.38,-191.84C280.1,-180.15 265.78,-164.56 252,-152 247.67,-148.05 242.94,-144.06 238.21,-140.25\"/>\n",
       "<polygon fill=\"#002b36\" stroke=\"#002b36\" points=\"240.32,-137.45 230.29,-134.02 235.99,-142.96 240.32,-137.45\"/>\n",
       "<text text-anchor=\"middle\" x=\"296\" y=\"-166\" font-family=\"RobotoMono\" font-size=\"10.00\" fill=\"#002b36\">model</text>\n",
       "<text text-anchor=\"middle\" x=\"296\" y=\"-155\" font-family=\"RobotoMono\" font-size=\"10.00\" fill=\"#002b36\">(1 values)</text>\n",
       "</g>\n",
       "<!-- train_model&#45;&gt;model -->\n",
       "<g id=\"edge7\" class=\"edge\">\n",
       "<title>train_model&#45;&gt;model</title>\n",
       "<path fill=\"none\" stroke=\"#002b36\" d=\"M306.6,-285.98C306.31,-272.34 305.91,-253.75 305.59,-238.5\"/>\n",
       "<polygon fill=\"#002b36\" stroke=\"#002b36\" points=\"309.08,-238.02 305.36,-228.1 302.08,-238.17 309.08,-238.02\"/>\n",
       "<text text-anchor=\"middle\" x=\"328\" y=\"-260\" font-family=\"RobotoMono\" font-size=\"10.00\" fill=\"#002b36\">output_0</text>\n",
       "<text text-anchor=\"middle\" x=\"328\" y=\"-249\" font-family=\"RobotoMono\" font-size=\"10.00\" fill=\"#002b36\">(1 values)</text>\n",
       "</g>\n",
       "<!-- generate_dataset&#45;&gt;X_test -->\n",
       "<g id=\"edge5\" class=\"edge\">\n",
       "<title>generate_dataset&#45;&gt;X_test</title>\n",
       "<path fill=\"none\" stroke=\"#002b36\" d=\"M68.89,-285.98C74.66,-272.07 82.56,-253.03 88.96,-237.61\"/>\n",
       "<polygon fill=\"#002b36\" stroke=\"#002b36\" points=\"92.31,-238.68 92.91,-228.1 85.84,-235.99 92.31,-238.68\"/>\n",
       "<text text-anchor=\"middle\" x=\"108\" y=\"-260\" font-family=\"RobotoMono\" font-size=\"10.00\" fill=\"#002b36\">output_1</text>\n",
       "<text text-anchor=\"middle\" x=\"108\" y=\"-249\" font-family=\"RobotoMono\" font-size=\"10.00\" fill=\"#002b36\">(1 values)</text>\n",
       "</g>\n",
       "<!-- eval_model&#45;&gt;v -->\n",
       "<g id=\"edge1\" class=\"edge\">\n",
       "<title>eval_model&#45;&gt;v</title>\n",
       "<path fill=\"none\" stroke=\"#002b36\" d=\"M204,-93.98C204,-80.34 204,-61.75 204,-46.5\"/>\n",
       "<polygon fill=\"#002b36\" stroke=\"#002b36\" points=\"207.5,-46.1 204,-36.1 200.5,-46.1 207.5,-46.1\"/>\n",
       "<text text-anchor=\"middle\" x=\"226\" y=\"-68\" font-family=\"RobotoMono\" font-size=\"10.00\" fill=\"#002b36\">output_0</text>\n",
       "<text text-anchor=\"middle\" x=\"226\" y=\"-57\" font-family=\"RobotoMono\" font-size=\"10.00\" fill=\"#002b36\">(1 values)</text>\n",
       "</g>\n",
       "</g>\n",
       "</svg>\n"
      ],
      "text/plain": [
       "<graphviz.sources.Source at 0x71a56a0f2c20>"
      ]
     },
     "metadata": {},
     "output_type": "display_data"
    }
   ],
   "source": [
    "cf = cf.expand_back('model')\n",
    "cf.draw(verbose=True)"
   ]
  },
  {
   "cell_type": "code",
   "execution_count": 17,
   "metadata": {
    "execution": {
     "iopub.execute_input": "2024-07-03T12:06:48.915833Z",
     "iopub.status.busy": "2024-07-03T12:06:48.915641Z",
     "iopub.status.idle": "2024-07-03T12:06:49.019433Z",
     "shell.execute_reply": "2024-07-03T12:06:49.018354Z"
    }
   },
   "outputs": [
    {
     "data": {
      "image/svg+xml": [
       "<?xml version=\"1.0\" encoding=\"UTF-8\" standalone=\"no\"?>\n",
       "<!DOCTYPE svg PUBLIC \"-//W3C//DTD SVG 1.1//EN\"\n",
       " \"http://www.w3.org/Graphics/SVG/1.1/DTD/svg11.dtd\">\n",
       "<!-- Generated by graphviz version 2.50.0 (0)\n",
       " -->\n",
       "<!-- Title: G Pages: 1 -->\n",
       "<svg width=\"389pt\" height=\"634pt\"\n",
       " viewBox=\"0.00 0.00 389.00 634.00\" xmlns=\"http://www.w3.org/2000/svg\" xmlns:xlink=\"http://www.w3.org/1999/xlink\">\n",
       "<g id=\"graph0\" class=\"graph\" transform=\"scale(1 1) rotate(0) translate(4 630)\">\n",
       "<title>G</title>\n",
       "<polygon fill=\"white\" stroke=\"transparent\" points=\"-4,4 -4,-630 385,-630 385,4 -4,4\"/>\n",
       "<!-- y_train -->\n",
       "<g id=\"node1\" class=\"node\">\n",
       "<title>y_train</title>\n",
       "<path fill=\"none\" stroke=\"#268bd2\" d=\"M172,-434C172,-434 90,-434 90,-434 84,-434 78,-428 78,-422 78,-422 78,-410 78,-410 78,-404 84,-398 90,-398 90,-398 172,-398 172,-398 178,-398 184,-404 184,-410 184,-410 184,-422 184,-422 184,-428 178,-434 172,-434\"/>\n",
       "<text text-anchor=\"start\" x=\"109.5\" y=\"-418.4\" font-family=\"RobotoMono\" font-weight=\"bold\" font-size=\"12.00\" fill=\"#002b36\">y_train</text>\n",
       "<text text-anchor=\"start\" x=\"86\" y=\"-408\" font-family=\"RobotoMono\" font-size=\"10.00\" fill=\"#268bd2\">1 values (1 sources)</text>\n",
       "</g>\n",
       "<!-- train_model -->\n",
       "<g id=\"node9\" class=\"node\">\n",
       "<title>train_model</title>\n",
       "<path fill=\"none\" stroke=\"#dc322f\" d=\"M167.5,-326C167.5,-326 96.5,-326 96.5,-326 90.5,-326 84.5,-320 84.5,-314 84.5,-314 84.5,-298 84.5,-298 84.5,-292 90.5,-286 96.5,-286 96.5,-286 167.5,-286 167.5,-286 173.5,-286 179.5,-292 179.5,-298 179.5,-298 179.5,-314 179.5,-314 179.5,-320 173.5,-326 167.5,-326\"/>\n",
       "<text text-anchor=\"start\" x=\"95.5\" y=\"-313.4\" font-family=\"RobotoMono\" font-weight=\"bold\" font-size=\"12.00\" fill=\"#002b36\">train_model</text>\n",
       "<text text-anchor=\"start\" x=\"92.5\" y=\"-303\" font-family=\"RobotoMono\" font-size=\"10.00\" fill=\"#002b36\">@op:train_model</text>\n",
       "<text text-anchor=\"start\" x=\"118\" y=\"-293\" font-family=\"RobotoMono\" font-size=\"10.00\" fill=\"#dc322f\">1 calls</text>\n",
       "</g>\n",
       "<!-- y_train&#45;&gt;train_model -->\n",
       "<g id=\"edge9\" class=\"edge\">\n",
       "<title>y_train&#45;&gt;train_model</title>\n",
       "<path fill=\"none\" stroke=\"#002b36\" d=\"M131.16,-397.65C131.31,-381.15 131.55,-356 131.73,-336.37\"/>\n",
       "<polygon fill=\"#002b36\" stroke=\"#002b36\" points=\"135.23,-336.16 131.82,-326.13 128.23,-336.1 135.23,-336.16\"/>\n",
       "<text text-anchor=\"middle\" x=\"153\" y=\"-365\" font-family=\"RobotoMono\" font-size=\"10.00\" fill=\"#002b36\">y_train</text>\n",
       "<text text-anchor=\"middle\" x=\"153\" y=\"-354\" font-family=\"RobotoMono\" font-size=\"10.00\" fill=\"#002b36\">(1 values)</text>\n",
       "</g>\n",
       "<!-- X_train -->\n",
       "<g id=\"node2\" class=\"node\">\n",
       "<title>X_train</title>\n",
       "<path fill=\"none\" stroke=\"#268bd2\" d=\"M48,-434C48,-434 12,-434 12,-434 6,-434 0,-428 0,-422 0,-422 0,-410 0,-410 0,-404 6,-398 12,-398 12,-398 48,-398 48,-398 54,-398 60,-404 60,-410 60,-410 60,-422 60,-422 60,-428 54,-434 48,-434\"/>\n",
       "<text text-anchor=\"start\" x=\"8\" y=\"-418.4\" font-family=\"RobotoMono\" font-weight=\"bold\" font-size=\"12.00\" fill=\"#002b36\">X_train</text>\n",
       "<text text-anchor=\"start\" x=\"11\" y=\"-408\" font-family=\"RobotoMono\" font-size=\"10.00\" fill=\"#268bd2\">1 values</text>\n",
       "</g>\n",
       "<!-- X_train&#45;&gt;train_model -->\n",
       "<g id=\"edge10\" class=\"edge\">\n",
       "<title>X_train&#45;&gt;train_model</title>\n",
       "<path fill=\"none\" stroke=\"#002b36\" d=\"M40.78,-397.87C50.71,-382.79 66.4,-360.69 83,-344 86.95,-340.03 91.33,-336.14 95.82,-332.45\"/>\n",
       "<polygon fill=\"#002b36\" stroke=\"#002b36\" points=\"98.23,-335 103.92,-326.07 93.9,-329.51 98.23,-335\"/>\n",
       "<text text-anchor=\"middle\" x=\"105\" y=\"-365\" font-family=\"RobotoMono\" font-size=\"10.00\" fill=\"#002b36\">X_train</text>\n",
       "<text text-anchor=\"middle\" x=\"105\" y=\"-354\" font-family=\"RobotoMono\" font-size=\"10.00\" fill=\"#002b36\">(1 values)</text>\n",
       "</g>\n",
       "<!-- y_test -->\n",
       "<g id=\"node3\" class=\"node\">\n",
       "<title>y_test</title>\n",
       "<path fill=\"none\" stroke=\"#268bd2\" d=\"M293,-228C293,-228 211,-228 211,-228 205,-228 199,-222 199,-216 199,-216 199,-204 199,-204 199,-198 205,-192 211,-192 211,-192 293,-192 293,-192 299,-192 305,-198 305,-204 305,-204 305,-216 305,-216 305,-222 299,-228 293,-228\"/>\n",
       "<text text-anchor=\"start\" x=\"234\" y=\"-212.4\" font-family=\"RobotoMono\" font-weight=\"bold\" font-size=\"12.00\" fill=\"#002b36\">y_test</text>\n",
       "<text text-anchor=\"start\" x=\"207\" y=\"-202\" font-family=\"RobotoMono\" font-size=\"10.00\" fill=\"#268bd2\">1 values (1 sources)</text>\n",
       "</g>\n",
       "<!-- eval_model -->\n",
       "<g id=\"node11\" class=\"node\">\n",
       "<title>eval_model</title>\n",
       "<path fill=\"none\" stroke=\"#dc322f\" d=\"M286,-134C286,-134 218,-134 218,-134 212,-134 206,-128 206,-122 206,-122 206,-106 206,-106 206,-100 212,-94 218,-94 218,-94 286,-94 286,-94 292,-94 298,-100 298,-106 298,-106 298,-122 298,-122 298,-128 292,-134 286,-134\"/>\n",
       "<text text-anchor=\"start\" x=\"218\" y=\"-121.4\" font-family=\"RobotoMono\" font-weight=\"bold\" font-size=\"12.00\" fill=\"#002b36\">eval_model</text>\n",
       "<text text-anchor=\"start\" x=\"214\" y=\"-111\" font-family=\"RobotoMono\" font-size=\"10.00\" fill=\"#002b36\">@op:eval_model</text>\n",
       "<text text-anchor=\"start\" x=\"238\" y=\"-101\" font-family=\"RobotoMono\" font-size=\"10.00\" fill=\"#dc322f\">1 calls</text>\n",
       "</g>\n",
       "<!-- y_test&#45;&gt;eval_model -->\n",
       "<g id=\"edge2\" class=\"edge\">\n",
       "<title>y_test&#45;&gt;eval_model</title>\n",
       "<path fill=\"none\" stroke=\"#002b36\" d=\"M252,-191.76C252,-178.5 252,-159.86 252,-144.27\"/>\n",
       "<polygon fill=\"#002b36\" stroke=\"#002b36\" points=\"255.5,-144.07 252,-134.07 248.5,-144.07 255.5,-144.07\"/>\n",
       "<text text-anchor=\"middle\" x=\"274\" y=\"-166\" font-family=\"RobotoMono\" font-size=\"10.00\" fill=\"#002b36\">y_test</text>\n",
       "<text text-anchor=\"middle\" x=\"274\" y=\"-155\" font-family=\"RobotoMono\" font-size=\"10.00\" fill=\"#002b36\">(1 values)</text>\n",
       "</g>\n",
       "<!-- X_test -->\n",
       "<g id=\"node4\" class=\"node\">\n",
       "<title>X_test</title>\n",
       "<path fill=\"none\" stroke=\"#268bd2\" d=\"M351,-380C351,-380 321,-380 321,-380 315,-380 309,-374 309,-368 309,-368 309,-356 309,-356 309,-350 315,-344 321,-344 321,-344 351,-344 351,-344 357,-344 363,-350 363,-356 363,-356 363,-368 363,-368 363,-374 357,-380 351,-380\"/>\n",
       "<text text-anchor=\"start\" x=\"317.5\" y=\"-364.4\" font-family=\"RobotoMono\" font-weight=\"bold\" font-size=\"12.00\" fill=\"#002b36\">X_test</text>\n",
       "<text text-anchor=\"start\" x=\"317\" y=\"-354\" font-family=\"RobotoMono\" font-size=\"10.00\" fill=\"#268bd2\">1 values</text>\n",
       "</g>\n",
       "<!-- X_test&#45;&gt;eval_model -->\n",
       "<g id=\"edge3\" class=\"edge\">\n",
       "<title>X_test&#45;&gt;eval_model</title>\n",
       "<path fill=\"none\" stroke=\"#002b36\" d=\"M337.77,-343.94C340.83,-305.68 343.11,-211.7 300,-152 297.15,-148.05 293.76,-144.32 290.11,-140.85\"/>\n",
       "<polygon fill=\"#002b36\" stroke=\"#002b36\" points=\"292.22,-138.05 282.38,-134.14 287.64,-143.34 292.22,-138.05\"/>\n",
       "<text text-anchor=\"middle\" x=\"359\" y=\"-260\" font-family=\"RobotoMono\" font-size=\"10.00\" fill=\"#002b36\">X_test</text>\n",
       "<text text-anchor=\"middle\" x=\"359\" y=\"-249\" font-family=\"RobotoMono\" font-size=\"10.00\" fill=\"#002b36\">(1 values)</text>\n",
       "</g>\n",
       "<!-- random_seed -->\n",
       "<g id=\"node5\" class=\"node\">\n",
       "<title>random_seed</title>\n",
       "<path fill=\"none\" stroke=\"#268bd2\" d=\"M224,-626C224,-626 142,-626 142,-626 136,-626 130,-620 130,-614 130,-614 130,-602 130,-602 130,-596 136,-590 142,-590 142,-590 224,-590 224,-590 230,-590 236,-596 236,-602 236,-602 236,-614 236,-614 236,-620 230,-626 224,-626\"/>\n",
       "<text text-anchor=\"start\" x=\"142.5\" y=\"-610.4\" font-family=\"RobotoMono\" font-weight=\"bold\" font-size=\"12.00\" fill=\"#002b36\">random_seed</text>\n",
       "<text text-anchor=\"start\" x=\"138\" y=\"-600\" font-family=\"RobotoMono\" font-size=\"10.00\" fill=\"#268bd2\">1 values (1 sources)</text>\n",
       "</g>\n",
       "<!-- generate_dataset -->\n",
       "<g id=\"node10\" class=\"node\">\n",
       "<title>generate_dataset</title>\n",
       "<path fill=\"none\" stroke=\"#dc322f\" d=\"M232,-532C232,-532 134,-532 134,-532 128,-532 122,-526 122,-520 122,-520 122,-504 122,-504 122,-498 128,-492 134,-492 134,-492 232,-492 232,-492 238,-492 244,-498 244,-504 244,-504 244,-520 244,-520 244,-526 238,-532 232,-532\"/>\n",
       "<text text-anchor=\"start\" x=\"130\" y=\"-519.4\" font-family=\"RobotoMono\" font-weight=\"bold\" font-size=\"12.00\" fill=\"#002b36\">generate_dataset</text>\n",
       "<text text-anchor=\"start\" x=\"130\" y=\"-509\" font-family=\"RobotoMono\" font-size=\"10.00\" fill=\"#002b36\">@op:generate_dataset</text>\n",
       "<text text-anchor=\"start\" x=\"169\" y=\"-499\" font-family=\"RobotoMono\" font-size=\"10.00\" fill=\"#dc322f\">1 calls</text>\n",
       "</g>\n",
       "<!-- random_seed&#45;&gt;generate_dataset -->\n",
       "<g id=\"edge7\" class=\"edge\">\n",
       "<title>random_seed&#45;&gt;generate_dataset</title>\n",
       "<path fill=\"none\" stroke=\"#002b36\" d=\"M183,-589.76C183,-576.5 183,-557.86 183,-542.27\"/>\n",
       "<polygon fill=\"#002b36\" stroke=\"#002b36\" points=\"186.5,-542.07 183,-532.07 179.5,-542.07 186.5,-542.07\"/>\n",
       "<text text-anchor=\"middle\" x=\"215\" y=\"-564\" font-family=\"RobotoMono\" font-size=\"10.00\" fill=\"#002b36\">random_seed</text>\n",
       "<text text-anchor=\"middle\" x=\"215\" y=\"-553\" font-family=\"RobotoMono\" font-size=\"10.00\" fill=\"#002b36\">(1 values)</text>\n",
       "</g>\n",
       "<!-- n_estimators -->\n",
       "<g id=\"node6\" class=\"node\">\n",
       "<title>n_estimators</title>\n",
       "<path fill=\"none\" stroke=\"#268bd2\" d=\"M296,-434C296,-434 214,-434 214,-434 208,-434 202,-428 202,-422 202,-422 202,-410 202,-410 202,-404 208,-398 214,-398 214,-398 296,-398 296,-398 302,-398 308,-404 308,-410 308,-410 308,-422 308,-422 308,-428 302,-434 296,-434\"/>\n",
       "<text text-anchor=\"start\" x=\"215.5\" y=\"-418.4\" font-family=\"RobotoMono\" font-weight=\"bold\" font-size=\"12.00\" fill=\"#002b36\">n_estimators</text>\n",
       "<text text-anchor=\"start\" x=\"210\" y=\"-408\" font-family=\"RobotoMono\" font-size=\"10.00\" fill=\"#268bd2\">1 values (1 sources)</text>\n",
       "</g>\n",
       "<!-- n_estimators&#45;&gt;train_model -->\n",
       "<g id=\"edge11\" class=\"edge\">\n",
       "<title>n_estimators&#45;&gt;train_model</title>\n",
       "<path fill=\"none\" stroke=\"#002b36\" d=\"M237.57,-397.93C222.42,-383.27 199.69,-361.75 179,-344 174.56,-340.19 169.79,-336.26 165.06,-332.45\"/>\n",
       "<polygon fill=\"#002b36\" stroke=\"#002b36\" points=\"167.2,-329.68 157.2,-326.2 162.85,-335.16 167.2,-329.68\"/>\n",
       "<text text-anchor=\"middle\" x=\"246.5\" y=\"-365\" font-family=\"RobotoMono\" font-size=\"10.00\" fill=\"#002b36\">n_estimators</text>\n",
       "<text text-anchor=\"middle\" x=\"246.5\" y=\"-354\" font-family=\"RobotoMono\" font-size=\"10.00\" fill=\"#002b36\">(1 values)</text>\n",
       "</g>\n",
       "<!-- v -->\n",
       "<g id=\"node7\" class=\"node\">\n",
       "<title>v</title>\n",
       "<path fill=\"none\" stroke=\"#268bd2\" d=\"M286.5,-36C286.5,-36 217.5,-36 217.5,-36 211.5,-36 205.5,-30 205.5,-24 205.5,-24 205.5,-12 205.5,-12 205.5,-6 211.5,0 217.5,0 217.5,0 286.5,0 286.5,0 292.5,0 298.5,-6 298.5,-12 298.5,-12 298.5,-24 298.5,-24 298.5,-30 292.5,-36 286.5,-36\"/>\n",
       "<text text-anchor=\"start\" x=\"248.5\" y=\"-20.4\" font-family=\"RobotoMono\" font-weight=\"bold\" font-size=\"12.00\" fill=\"#002b36\">v</text>\n",
       "<text text-anchor=\"start\" x=\"213.5\" y=\"-10\" font-family=\"RobotoMono\" font-size=\"10.00\" fill=\"#268bd2\">1 values (1 sinks)</text>\n",
       "</g>\n",
       "<!-- model -->\n",
       "<g id=\"node8\" class=\"node\">\n",
       "<title>model</title>\n",
       "<path fill=\"none\" stroke=\"#268bd2\" d=\"M166,-228C166,-228 136,-228 136,-228 130,-228 124,-222 124,-216 124,-216 124,-204 124,-204 124,-198 130,-192 136,-192 136,-192 166,-192 166,-192 172,-192 178,-198 178,-204 178,-204 178,-216 178,-216 178,-222 172,-228 166,-228\"/>\n",
       "<text text-anchor=\"start\" x=\"132\" y=\"-212.4\" font-family=\"RobotoMono\" font-weight=\"bold\" font-size=\"12.00\" fill=\"#002b36\">model</text>\n",
       "<text text-anchor=\"start\" x=\"132\" y=\"-202\" font-family=\"RobotoMono\" font-size=\"10.00\" fill=\"#268bd2\">1 values</text>\n",
       "</g>\n",
       "<!-- model&#45;&gt;eval_model -->\n",
       "<g id=\"edge4\" class=\"edge\">\n",
       "<title>model&#45;&gt;eval_model</title>\n",
       "<path fill=\"none\" stroke=\"#002b36\" d=\"M165.62,-191.84C175.9,-180.15 190.22,-164.56 204,-152 208.33,-148.05 213.06,-144.06 217.79,-140.25\"/>\n",
       "<polygon fill=\"#002b36\" stroke=\"#002b36\" points=\"220.01,-142.96 225.71,-134.02 215.68,-137.45 220.01,-142.96\"/>\n",
       "<text text-anchor=\"middle\" x=\"226\" y=\"-166\" font-family=\"RobotoMono\" font-size=\"10.00\" fill=\"#002b36\">model</text>\n",
       "<text text-anchor=\"middle\" x=\"226\" y=\"-155\" font-family=\"RobotoMono\" font-size=\"10.00\" fill=\"#002b36\">(1 values)</text>\n",
       "</g>\n",
       "<!-- train_model&#45;&gt;model -->\n",
       "<g id=\"edge8\" class=\"edge\">\n",
       "<title>train_model&#45;&gt;model</title>\n",
       "<path fill=\"none\" stroke=\"#002b36\" d=\"M135.84,-285.98C138.63,-272.2 142.43,-253.39 145.53,-238.05\"/>\n",
       "<polygon fill=\"#002b36\" stroke=\"#002b36\" points=\"148.99,-238.59 147.54,-228.1 142.13,-237.21 148.99,-238.59\"/>\n",
       "<text text-anchor=\"middle\" x=\"165\" y=\"-260\" font-family=\"RobotoMono\" font-size=\"10.00\" fill=\"#002b36\">output_0</text>\n",
       "<text text-anchor=\"middle\" x=\"165\" y=\"-249\" font-family=\"RobotoMono\" font-size=\"10.00\" fill=\"#002b36\">(1 values)</text>\n",
       "</g>\n",
       "<!-- generate_dataset&#45;&gt;X_train -->\n",
       "<g id=\"edge6\" class=\"edge\">\n",
       "<title>generate_dataset&#45;&gt;X_train</title>\n",
       "<path fill=\"none\" stroke=\"#002b36\" d=\"M152.04,-491.98C127.36,-476.81 92.73,-455.54 66.66,-439.52\"/>\n",
       "<polygon fill=\"#002b36\" stroke=\"#002b36\" points=\"68.18,-436.35 57.83,-434.1 64.52,-442.31 68.18,-436.35\"/>\n",
       "<text text-anchor=\"middle\" x=\"142\" y=\"-466\" font-family=\"RobotoMono\" font-size=\"10.00\" fill=\"#002b36\">output_0</text>\n",
       "<text text-anchor=\"middle\" x=\"142\" y=\"-455\" font-family=\"RobotoMono\" font-size=\"10.00\" fill=\"#002b36\">(1 values)</text>\n",
       "</g>\n",
       "<!-- generate_dataset&#45;&gt;X_test -->\n",
       "<g id=\"edge5\" class=\"edge\">\n",
       "<title>generate_dataset&#45;&gt;X_test</title>\n",
       "<path fill=\"none\" stroke=\"#002b36\" d=\"M236.63,-491.89C264.39,-479.42 296.64,-460.48 317,-434 326.61,-421.5 331.36,-404.54 333.72,-390.32\"/>\n",
       "<polygon fill=\"#002b36\" stroke=\"#002b36\" points=\"337.23,-390.49 335.09,-380.11 330.29,-389.56 337.23,-390.49\"/>\n",
       "<text text-anchor=\"middle\" x=\"320\" y=\"-466\" font-family=\"RobotoMono\" font-size=\"10.00\" fill=\"#002b36\">output_1</text>\n",
       "<text text-anchor=\"middle\" x=\"320\" y=\"-455\" font-family=\"RobotoMono\" font-size=\"10.00\" fill=\"#002b36\">(1 values)</text>\n",
       "</g>\n",
       "<!-- eval_model&#45;&gt;v -->\n",
       "<g id=\"edge1\" class=\"edge\">\n",
       "<title>eval_model&#45;&gt;v</title>\n",
       "<path fill=\"none\" stroke=\"#002b36\" d=\"M252,-93.98C252,-80.34 252,-61.75 252,-46.5\"/>\n",
       "<polygon fill=\"#002b36\" stroke=\"#002b36\" points=\"255.5,-46.1 252,-36.1 248.5,-46.1 255.5,-46.1\"/>\n",
       "<text text-anchor=\"middle\" x=\"274\" y=\"-68\" font-family=\"RobotoMono\" font-size=\"10.00\" fill=\"#002b36\">output_0</text>\n",
       "<text text-anchor=\"middle\" x=\"274\" y=\"-57\" font-family=\"RobotoMono\" font-size=\"10.00\" fill=\"#002b36\">(1 values)</text>\n",
       "</g>\n",
       "</g>\n",
       "</svg>\n"
      ],
      "text/plain": [
       "<graphviz.sources.Source at 0x71a56a0f1f60>"
      ]
     },
     "metadata": {},
     "output_type": "display_data"
    }
   ],
   "source": [
    "cf = cf.expand_back('X_train')\n",
    "cf.draw(verbose=True)"
   ]
  },
  {
   "cell_type": "markdown",
   "metadata": {},
   "source": [
    "When we expand `X_train` at the end, the expansion algorithm detects that the\n",
    "`generate_dataset` node should be reused instead of creating a new node."
   ]
  },
  {
   "cell_type": "markdown",
   "metadata": {},
   "source": [
    "### Full expansion with `expand_all`\n",
    "The easiest way to add all the calls that can be reached from a CF by calling\n",
    "`expand_back` or `expand_forward` is using `expand_all`"
   ]
  },
  {
   "cell_type": "code",
   "execution_count": 18,
   "metadata": {
    "execution": {
     "iopub.execute_input": "2024-07-03T12:06:49.024083Z",
     "iopub.status.busy": "2024-07-03T12:06:49.023686Z",
     "iopub.status.idle": "2024-07-03T12:06:49.210711Z",
     "shell.execute_reply": "2024-07-03T12:06:49.210055Z"
    }
   },
   "outputs": [
    {
     "data": {
      "image/svg+xml": [
       "<?xml version=\"1.0\" encoding=\"UTF-8\" standalone=\"no\"?>\n",
       "<!DOCTYPE svg PUBLIC \"-//W3C//DTD SVG 1.1//EN\"\n",
       " \"http://www.w3.org/Graphics/SVG/1.1/DTD/svg11.dtd\">\n",
       "<!-- Generated by graphviz version 2.50.0 (0)\n",
       " -->\n",
       "<!-- Title: G Pages: 1 -->\n",
       "<svg width=\"270pt\" height=\"620pt\"\n",
       " viewBox=\"0.00 0.00 269.50 620.00\" xmlns=\"http://www.w3.org/2000/svg\" xmlns:xlink=\"http://www.w3.org/1999/xlink\">\n",
       "<g id=\"graph0\" class=\"graph\" transform=\"scale(1 1) rotate(0) translate(4 616)\">\n",
       "<title>G</title>\n",
       "<polygon fill=\"white\" stroke=\"transparent\" points=\"-4,4 -4,-616 265.5,-616 265.5,4 -4,4\"/>\n",
       "<!-- y_train -->\n",
       "<g id=\"node1\" class=\"node\">\n",
       "<title>y_train</title>\n",
       "<path fill=\"none\" stroke=\"#268bd2\" d=\"M47,-420C47,-420 12,-420 12,-420 6,-420 0,-414 0,-408 0,-408 0,-396 0,-396 0,-390 6,-384 12,-384 12,-384 47,-384 47,-384 53,-384 59,-390 59,-396 59,-396 59,-408 59,-408 59,-414 53,-420 47,-420\"/>\n",
       "<text text-anchor=\"start\" x=\"8\" y=\"-404.4\" font-family=\"RobotoMono\" font-weight=\"bold\" font-size=\"12.00\" fill=\"#002b36\">y_train</text>\n",
       "<text text-anchor=\"start\" x=\"10.5\" y=\"-394\" font-family=\"RobotoMono\" font-size=\"10.00\" fill=\"#268bd2\">1 values</text>\n",
       "</g>\n",
       "<!-- train_model -->\n",
       "<g id=\"node10\" class=\"node\">\n",
       "<title>train_model</title>\n",
       "<path fill=\"none\" stroke=\"#dc322f\" d=\"M143,-326C143,-326 72,-326 72,-326 66,-326 60,-320 60,-314 60,-314 60,-298 60,-298 60,-292 66,-286 72,-286 72,-286 143,-286 143,-286 149,-286 155,-292 155,-298 155,-298 155,-314 155,-314 155,-320 149,-326 143,-326\"/>\n",
       "<text text-anchor=\"start\" x=\"71\" y=\"-313.4\" font-family=\"RobotoMono\" font-weight=\"bold\" font-size=\"12.00\" fill=\"#002b36\">train_model</text>\n",
       "<text text-anchor=\"start\" x=\"68\" y=\"-303\" font-family=\"RobotoMono\" font-size=\"10.00\" fill=\"#002b36\">@op:train_model</text>\n",
       "<text text-anchor=\"start\" x=\"93.5\" y=\"-293\" font-family=\"RobotoMono\" font-size=\"10.00\" fill=\"#dc322f\">4 calls</text>\n",
       "</g>\n",
       "<!-- y_train&#45;&gt;train_model -->\n",
       "<g id=\"edge3\" class=\"edge\">\n",
       "<title>y_train&#45;&gt;train_model</title>\n",
       "<path fill=\"none\" stroke=\"#002b36\" d=\"M36.19,-383.88C41.4,-371.91 49.42,-355.98 59.5,-344 62.84,-340.03 66.68,-336.21 70.7,-332.63\"/>\n",
       "<polygon fill=\"#002b36\" stroke=\"#002b36\" points=\"73.12,-335.18 78.57,-326.09 68.64,-329.79 73.12,-335.18\"/>\n",
       "<text text-anchor=\"middle\" x=\"81.5\" y=\"-358\" font-family=\"RobotoMono\" font-size=\"10.00\" fill=\"#002b36\">y_train</text>\n",
       "<text text-anchor=\"middle\" x=\"81.5\" y=\"-347\" font-family=\"RobotoMono\" font-size=\"10.00\" fill=\"#002b36\">(1 values)</text>\n",
       "</g>\n",
       "<!-- X_train -->\n",
       "<g id=\"node2\" class=\"node\">\n",
       "<title>X_train</title>\n",
       "<path fill=\"none\" stroke=\"#268bd2\" d=\"M125.5,-420C125.5,-420 89.5,-420 89.5,-420 83.5,-420 77.5,-414 77.5,-408 77.5,-408 77.5,-396 77.5,-396 77.5,-390 83.5,-384 89.5,-384 89.5,-384 125.5,-384 125.5,-384 131.5,-384 137.5,-390 137.5,-396 137.5,-396 137.5,-408 137.5,-408 137.5,-414 131.5,-420 125.5,-420\"/>\n",
       "<text text-anchor=\"start\" x=\"85.5\" y=\"-404.4\" font-family=\"RobotoMono\" font-weight=\"bold\" font-size=\"12.00\" fill=\"#002b36\">X_train</text>\n",
       "<text text-anchor=\"start\" x=\"88.5\" y=\"-394\" font-family=\"RobotoMono\" font-size=\"10.00\" fill=\"#268bd2\">1 values</text>\n",
       "</g>\n",
       "<!-- X_train&#45;&gt;train_model -->\n",
       "<g id=\"edge4\" class=\"edge\">\n",
       "<title>X_train&#45;&gt;train_model</title>\n",
       "<path fill=\"none\" stroke=\"#002b36\" d=\"M107.5,-383.76C107.5,-370.5 107.5,-351.86 107.5,-336.27\"/>\n",
       "<polygon fill=\"#002b36\" stroke=\"#002b36\" points=\"111,-336.07 107.5,-326.07 104,-336.07 111,-336.07\"/>\n",
       "<text text-anchor=\"middle\" x=\"129.5\" y=\"-358\" font-family=\"RobotoMono\" font-size=\"10.00\" fill=\"#002b36\">X_train</text>\n",
       "<text text-anchor=\"middle\" x=\"129.5\" y=\"-347\" font-family=\"RobotoMono\" font-size=\"10.00\" fill=\"#002b36\">(1 values)</text>\n",
       "</g>\n",
       "<!-- output_0 -->\n",
       "<g id=\"node3\" class=\"node\">\n",
       "<title>output_0</title>\n",
       "<path fill=\"none\" stroke=\"#268bd2\" d=\"M87,-228C87,-228 18,-228 18,-228 12,-228 6,-222 6,-216 6,-216 6,-204 6,-204 6,-198 12,-192 18,-192 18,-192 87,-192 87,-192 93,-192 99,-198 99,-204 99,-204 99,-216 99,-216 99,-222 93,-228 87,-228\"/>\n",
       "<text text-anchor=\"start\" x=\"25\" y=\"-212.4\" font-family=\"RobotoMono\" font-weight=\"bold\" font-size=\"12.00\" fill=\"#002b36\">output_0</text>\n",
       "<text text-anchor=\"start\" x=\"14\" y=\"-202\" font-family=\"RobotoMono\" font-size=\"10.00\" fill=\"#268bd2\">4 values (2 sinks)</text>\n",
       "</g>\n",
       "<!-- eval_model -->\n",
       "<g id=\"node9\" class=\"node\">\n",
       "<title>eval_model</title>\n",
       "<path fill=\"none\" stroke=\"#dc322f\" d=\"M86.5,-134C86.5,-134 18.5,-134 18.5,-134 12.5,-134 6.5,-128 6.5,-122 6.5,-122 6.5,-106 6.5,-106 6.5,-100 12.5,-94 18.5,-94 18.5,-94 86.5,-94 86.5,-94 92.5,-94 98.5,-100 98.5,-106 98.5,-106 98.5,-122 98.5,-122 98.5,-128 92.5,-134 86.5,-134\"/>\n",
       "<text text-anchor=\"start\" x=\"18.5\" y=\"-121.4\" font-family=\"RobotoMono\" font-weight=\"bold\" font-size=\"12.00\" fill=\"#002b36\">eval_model</text>\n",
       "<text text-anchor=\"start\" x=\"14.5\" y=\"-111\" font-family=\"RobotoMono\" font-size=\"10.00\" fill=\"#002b36\">@op:eval_model</text>\n",
       "<text text-anchor=\"start\" x=\"38.5\" y=\"-101\" font-family=\"RobotoMono\" font-size=\"10.00\" fill=\"#dc322f\">2 calls</text>\n",
       "</g>\n",
       "<!-- output_0&#45;&gt;eval_model -->\n",
       "<g id=\"edge6\" class=\"edge\">\n",
       "<title>output_0&#45;&gt;eval_model</title>\n",
       "<path fill=\"none\" stroke=\"#002b36\" d=\"M52.5,-191.76C52.5,-178.5 52.5,-159.86 52.5,-144.27\"/>\n",
       "<polygon fill=\"#002b36\" stroke=\"#002b36\" points=\"56,-144.07 52.5,-134.07 49,-144.07 56,-144.07\"/>\n",
       "<text text-anchor=\"middle\" x=\"74.5\" y=\"-166\" font-family=\"RobotoMono\" font-size=\"10.00\" fill=\"#002b36\">model</text>\n",
       "<text text-anchor=\"middle\" x=\"74.5\" y=\"-155\" font-family=\"RobotoMono\" font-size=\"10.00\" fill=\"#002b36\">(2 values)</text>\n",
       "</g>\n",
       "<!-- output_0_0 -->\n",
       "<g id=\"node4\" class=\"node\">\n",
       "<title>output_0_0</title>\n",
       "<path fill=\"none\" stroke=\"#268bd2\" d=\"M87,-36C87,-36 18,-36 18,-36 12,-36 6,-30 6,-24 6,-24 6,-12 6,-12 6,-6 12,0 18,0 18,0 87,0 87,0 93,0 99,-6 99,-12 99,-12 99,-24 99,-24 99,-30 93,-36 87,-36\"/>\n",
       "<text text-anchor=\"start\" x=\"19\" y=\"-20.4\" font-family=\"RobotoMono\" font-weight=\"bold\" font-size=\"12.00\" fill=\"#002b36\">output_0_0</text>\n",
       "<text text-anchor=\"start\" x=\"14\" y=\"-10\" font-family=\"RobotoMono\" font-size=\"10.00\" fill=\"#268bd2\">2 values (2 sinks)</text>\n",
       "</g>\n",
       "<!-- random_seed -->\n",
       "<g id=\"node5\" class=\"node\">\n",
       "<title>random_seed</title>\n",
       "<path fill=\"none\" stroke=\"#268bd2\" d=\"M108.5,-612C108.5,-612 26.5,-612 26.5,-612 20.5,-612 14.5,-606 14.5,-600 14.5,-600 14.5,-588 14.5,-588 14.5,-582 20.5,-576 26.5,-576 26.5,-576 108.5,-576 108.5,-576 114.5,-576 120.5,-582 120.5,-588 120.5,-588 120.5,-600 120.5,-600 120.5,-606 114.5,-612 108.5,-612\"/>\n",
       "<text text-anchor=\"start\" x=\"27\" y=\"-596.4\" font-family=\"RobotoMono\" font-weight=\"bold\" font-size=\"12.00\" fill=\"#002b36\">random_seed</text>\n",
       "<text text-anchor=\"start\" x=\"22.5\" y=\"-586\" font-family=\"RobotoMono\" font-size=\"10.00\" fill=\"#268bd2\">1 values (1 sources)</text>\n",
       "</g>\n",
       "<!-- generate_dataset -->\n",
       "<g id=\"node8\" class=\"node\">\n",
       "<title>generate_dataset</title>\n",
       "<path fill=\"none\" stroke=\"#dc322f\" d=\"M116.5,-518C116.5,-518 18.5,-518 18.5,-518 12.5,-518 6.5,-512 6.5,-506 6.5,-506 6.5,-490 6.5,-490 6.5,-484 12.5,-478 18.5,-478 18.5,-478 116.5,-478 116.5,-478 122.5,-478 128.5,-484 128.5,-490 128.5,-490 128.5,-506 128.5,-506 128.5,-512 122.5,-518 116.5,-518\"/>\n",
       "<text text-anchor=\"start\" x=\"14.5\" y=\"-505.4\" font-family=\"RobotoMono\" font-weight=\"bold\" font-size=\"12.00\" fill=\"#002b36\">generate_dataset</text>\n",
       "<text text-anchor=\"start\" x=\"14.5\" y=\"-495\" font-family=\"RobotoMono\" font-size=\"10.00\" fill=\"#002b36\">@op:generate_dataset</text>\n",
       "<text text-anchor=\"start\" x=\"53.5\" y=\"-485\" font-family=\"RobotoMono\" font-size=\"10.00\" fill=\"#dc322f\">1 calls</text>\n",
       "</g>\n",
       "<!-- random_seed&#45;&gt;generate_dataset -->\n",
       "<g id=\"edge9\" class=\"edge\">\n",
       "<title>random_seed&#45;&gt;generate_dataset</title>\n",
       "<path fill=\"none\" stroke=\"#002b36\" d=\"M67.5,-575.76C67.5,-562.5 67.5,-543.86 67.5,-528.27\"/>\n",
       "<polygon fill=\"#002b36\" stroke=\"#002b36\" points=\"71,-528.07 67.5,-518.07 64,-528.07 71,-528.07\"/>\n",
       "<text text-anchor=\"middle\" x=\"99.5\" y=\"-550\" font-family=\"RobotoMono\" font-size=\"10.00\" fill=\"#002b36\">random_seed</text>\n",
       "<text text-anchor=\"middle\" x=\"99.5\" y=\"-539\" font-family=\"RobotoMono\" font-size=\"10.00\" fill=\"#002b36\">(1 values)</text>\n",
       "</g>\n",
       "<!-- n_estimators -->\n",
       "<g id=\"node6\" class=\"node\">\n",
       "<title>n_estimators</title>\n",
       "<path fill=\"none\" stroke=\"#268bd2\" d=\"M249.5,-420C249.5,-420 167.5,-420 167.5,-420 161.5,-420 155.5,-414 155.5,-408 155.5,-408 155.5,-396 155.5,-396 155.5,-390 161.5,-384 167.5,-384 167.5,-384 249.5,-384 249.5,-384 255.5,-384 261.5,-390 261.5,-396 261.5,-396 261.5,-408 261.5,-408 261.5,-414 255.5,-420 249.5,-420\"/>\n",
       "<text text-anchor=\"start\" x=\"169\" y=\"-404.4\" font-family=\"RobotoMono\" font-weight=\"bold\" font-size=\"12.00\" fill=\"#002b36\">n_estimators</text>\n",
       "<text text-anchor=\"start\" x=\"163.5\" y=\"-394\" font-family=\"RobotoMono\" font-size=\"10.00\" fill=\"#268bd2\">4 values (4 sources)</text>\n",
       "</g>\n",
       "<!-- n_estimators&#45;&gt;train_model -->\n",
       "<g id=\"edge5\" class=\"edge\">\n",
       "<title>n_estimators&#45;&gt;train_model</title>\n",
       "<path fill=\"none\" stroke=\"#002b36\" d=\"M193.88,-383.84C183.6,-372.15 169.28,-356.56 155.5,-344 151.17,-340.05 146.44,-336.06 141.71,-332.25\"/>\n",
       "<polygon fill=\"#002b36\" stroke=\"#002b36\" points=\"143.82,-329.45 133.79,-326.02 139.49,-334.96 143.82,-329.45\"/>\n",
       "<text text-anchor=\"middle\" x=\"207\" y=\"-358\" font-family=\"RobotoMono\" font-size=\"10.00\" fill=\"#002b36\">n_estimators</text>\n",
       "<text text-anchor=\"middle\" x=\"207\" y=\"-347\" font-family=\"RobotoMono\" font-size=\"10.00\" fill=\"#002b36\">(4 values)</text>\n",
       "</g>\n",
       "<!-- output_1 -->\n",
       "<g id=\"node7\" class=\"node\">\n",
       "<title>output_1</title>\n",
       "<path fill=\"none\" stroke=\"#268bd2\" d=\"M198,-228C198,-228 129,-228 129,-228 123,-228 117,-222 117,-216 117,-216 117,-204 117,-204 117,-198 123,-192 129,-192 129,-192 198,-192 198,-192 204,-192 210,-198 210,-204 210,-204 210,-216 210,-216 210,-222 204,-228 198,-228\"/>\n",
       "<text text-anchor=\"start\" x=\"136\" y=\"-212.4\" font-family=\"RobotoMono\" font-weight=\"bold\" font-size=\"12.00\" fill=\"#002b36\">output_1</text>\n",
       "<text text-anchor=\"start\" x=\"125\" y=\"-202\" font-family=\"RobotoMono\" font-size=\"10.00\" fill=\"#268bd2\">4 values (4 sinks)</text>\n",
       "</g>\n",
       "<!-- generate_dataset&#45;&gt;y_train -->\n",
       "<g id=\"edge8\" class=\"edge\">\n",
       "<title>generate_dataset&#45;&gt;y_train</title>\n",
       "<path fill=\"none\" stroke=\"#002b36\" d=\"M49.52,-477.85C45.3,-472.43 41.24,-466.29 38.5,-460 34.45,-450.69 32.19,-439.82 30.95,-430.08\"/>\n",
       "<polygon fill=\"#002b36\" stroke=\"#002b36\" points=\"34.43,-429.69 29.96,-420.09 27.46,-430.38 34.43,-429.69\"/>\n",
       "<text text-anchor=\"middle\" x=\"60.5\" y=\"-452\" font-family=\"RobotoMono\" font-size=\"10.00\" fill=\"#002b36\">output_2</text>\n",
       "<text text-anchor=\"middle\" x=\"60.5\" y=\"-441\" font-family=\"RobotoMono\" font-size=\"10.00\" fill=\"#002b36\">(1 values)</text>\n",
       "</g>\n",
       "<!-- generate_dataset&#45;&gt;X_train -->\n",
       "<g id=\"edge7\" class=\"edge\">\n",
       "<title>generate_dataset&#45;&gt;X_train</title>\n",
       "<path fill=\"none\" stroke=\"#002b36\" d=\"M75.59,-477.98C81.51,-464.07 89.62,-445.03 96.18,-429.61\"/>\n",
       "<polygon fill=\"#002b36\" stroke=\"#002b36\" points=\"99.53,-430.67 100.22,-420.1 93.09,-427.93 99.53,-430.67\"/>\n",
       "<text text-anchor=\"middle\" x=\"113.5\" y=\"-452\" font-family=\"RobotoMono\" font-size=\"10.00\" fill=\"#002b36\">output_0</text>\n",
       "<text text-anchor=\"middle\" x=\"113.5\" y=\"-441\" font-family=\"RobotoMono\" font-size=\"10.00\" fill=\"#002b36\">(1 values)</text>\n",
       "</g>\n",
       "<!-- eval_model&#45;&gt;output_0_0 -->\n",
       "<g id=\"edge10\" class=\"edge\">\n",
       "<title>eval_model&#45;&gt;output_0_0</title>\n",
       "<path fill=\"none\" stroke=\"#002b36\" d=\"M52.5,-93.98C52.5,-80.34 52.5,-61.75 52.5,-46.5\"/>\n",
       "<polygon fill=\"#002b36\" stroke=\"#002b36\" points=\"56,-46.1 52.5,-36.1 49,-46.1 56,-46.1\"/>\n",
       "<text text-anchor=\"middle\" x=\"74.5\" y=\"-68\" font-family=\"RobotoMono\" font-size=\"10.00\" fill=\"#002b36\">output_0</text>\n",
       "<text text-anchor=\"middle\" x=\"74.5\" y=\"-57\" font-family=\"RobotoMono\" font-size=\"10.00\" fill=\"#002b36\">(2 values)</text>\n",
       "</g>\n",
       "<!-- train_model&#45;&gt;output_0 -->\n",
       "<g id=\"edge2\" class=\"edge\">\n",
       "<title>train_model&#45;&gt;output_0</title>\n",
       "<path fill=\"none\" stroke=\"#002b36\" d=\"M96.37,-285.98C88.08,-271.81 76.67,-252.3 67.56,-236.74\"/>\n",
       "<polygon fill=\"#002b36\" stroke=\"#002b36\" points=\"70.58,-234.96 62.5,-228.1 64.53,-238.5 70.58,-234.96\"/>\n",
       "<text text-anchor=\"middle\" x=\"106.5\" y=\"-260\" font-family=\"RobotoMono\" font-size=\"10.00\" fill=\"#002b36\">output_0</text>\n",
       "<text text-anchor=\"middle\" x=\"106.5\" y=\"-249\" font-family=\"RobotoMono\" font-size=\"10.00\" fill=\"#002b36\">(4 values)</text>\n",
       "</g>\n",
       "<!-- train_model&#45;&gt;output_1 -->\n",
       "<g id=\"edge1\" class=\"edge\">\n",
       "<title>train_model&#45;&gt;output_1</title>\n",
       "<path fill=\"none\" stroke=\"#002b36\" d=\"M121.09,-285.64C124.9,-280.02 128.96,-273.83 132.5,-268 138.53,-258.08 144.73,-246.91 149.98,-237.1\"/>\n",
       "<polygon fill=\"#002b36\" stroke=\"#002b36\" points=\"153.11,-238.68 154.7,-228.2 146.92,-235.4 153.11,-238.68\"/>\n",
       "<text text-anchor=\"middle\" x=\"166.5\" y=\"-260\" font-family=\"RobotoMono\" font-size=\"10.00\" fill=\"#002b36\">output_1</text>\n",
       "<text text-anchor=\"middle\" x=\"166.5\" y=\"-249\" font-family=\"RobotoMono\" font-size=\"10.00\" fill=\"#002b36\">(4 values)</text>\n",
       "</g>\n",
       "</g>\n",
       "</svg>\n"
      ],
      "text/plain": [
       "<graphviz.sources.Source at 0x71a56a1535b0>"
      ]
     },
     "metadata": {},
     "output_type": "display_data"
    }
   ],
   "source": [
    "cf = storage.cf(train_model).expand_all()\n",
    "cf.draw(verbose=True)"
   ]
  },
  {
   "cell_type": "markdown",
   "metadata": {},
   "source": [
    "This adds all the calls in the storage, because they're all reachable from some\n",
    "call to `train_model` by following inputs/outputs."
   ]
  },
  {
   "cell_type": "markdown",
   "metadata": {},
   "source": [
    "## Extracting `DataFrame`s from `ComputationFrame`s\n",
    "\n",
    "### `ComputationFrame`s as generalized dataframes\n",
    "You can think of `ComputationFrame`s as a generalization the familiar\n",
    "`pandas.DataFrame` class:\n",
    "\n",
    "- **instead of columns, you have a computational graph**: functions whose\n",
    "input/output edges connect to variables.\n",
    "- **instead of rows, you have computation traces**: variable values and function\n",
    "calls that (possibly partially) follow this graph\n",
    "\n",
    "Conversely, **a dataframe can be extracted from any computation frame** for\n",
    "easier later analysis:\n",
    "\n",
    "- the columns are the nodes in the graph (functions and variables)\n",
    "- each row is a computation trace, possibly padded with `NaN`s where no\n",
    "value/call is present."
   ]
  },
  {
   "cell_type": "markdown",
   "metadata": {},
   "source": [
    "### The `.df()` method\n",
    "All ways to turn a CF into a DF are dispatched through a CF's `.df()` method. We\n",
    "can apply this to the full storage CF we computed last:"
   ]
  },
  {
   "cell_type": "code",
   "execution_count": 19,
   "metadata": {
    "execution": {
     "iopub.execute_input": "2024-07-03T12:06:49.214075Z",
     "iopub.status.busy": "2024-07-03T12:06:49.213552Z",
     "iopub.status.idle": "2024-07-03T12:06:49.365234Z",
     "shell.execute_reply": "2024-07-03T12:06:49.364517Z"
    }
   },
   "outputs": [
    {
     "name": "stdout",
     "output_type": "stream",
     "text": [
      "Extracting tuples from the computation graph:\n",
      "    X_train@output_0, y_train@output_2 = generate_dataset(random_seed=random_seed)\n",
      "    output_0@output_0, output_1@output_1 = train_model(n_estimators=n_estimators, X_train=X_train, y_train=y_train)\n",
      "    output_0_0@output_0 = eval_model(model=output_0)\n",
      "|    |   random_seed | generate_dataset                                   |   n_estimators | train_model                                   | output_0                                             | eval_model                                   |   output_0_0 |   output_1 |\n",
      "|---:|--------------:|:---------------------------------------------------|---------------:|:----------------------------------------------|:-----------------------------------------------------|:---------------------------------------------|-------------:|-----------:|\n",
      "|  0 |            42 | Call(generate_dataset, cid='19a...', hid='c3f...') |             80 | Call(train_model, cid='3be...', hid='e60...') | RandomForestClassifier(max_depth=2, n_estimators=80) | Call(eval_model, cid='137...', hid='d32...') |         0.82 |       0.83 |\n",
      "|  1 |            42 | Call(generate_dataset, cid='19a...', hid='c3f...') |             40 | Call(train_model, cid='5af...', hid='514...') | RandomForestClassifier(max_depth=2, n_estimators=40) | Call(eval_model, cid='38f...', hid='5d3...') |         0.81 |       0.82 |\n",
      "|  2 |            42 | Call(generate_dataset, cid='19a...', hid='c3f...') |             20 | Call(train_model, cid='204...', hid='c55...') |                                                      |                                              |       nan    |       0.8  |\n",
      "|  3 |            42 | Call(generate_dataset, cid='19a...', hid='c3f...') |             10 | Call(train_model, cid='c4f...', hid='5f7...') |                                                      |                                              |       nan    |       0.74 |\n",
      "|  4 |            42 | Call(generate_dataset, cid='19a...', hid='c3f...') |             10 | Call(train_model, cid='c4f...', hid='5f7...') | RandomForestClassifier(max_depth=2, n_estimators=10) |                                              |       nan    |     nan    |\n",
      "|  5 |            42 | Call(generate_dataset, cid='19a...', hid='c3f...') |             20 | Call(train_model, cid='204...', hid='c55...') | RandomForestClassifier(max_depth=2, n_estimators=20) |                                              |       nan    |     nan    |\n"
     ]
    }
   ],
   "source": [
    "cf = storage.cf(train_model).expand_all()\n",
    "print(cf.df().drop(columns=['X_train', 'y_train']).to_markdown())"
   ]
  },
  {
   "cell_type": "markdown",
   "metadata": {},
   "source": [
    "Importantly, we see that some computations only partially follow the full\n",
    "computation graph, because we didn't call `eval_model` on all the `train_model`\n",
    "outputs."
   ]
  },
  {
   "cell_type": "markdown",
   "metadata": {},
   "source": [
    "### What does `.df()` actually compute?\n",
    "The `.df` method does roughly speaking the following:\n",
    "\n",
    "- finds all the sink, i.e. \"final\", `Ref`s in the CF, i.e. the ones that are not\n",
    "used as inputs to any call in a connected function node.\n",
    "- for each variable's sink `Ref`s, it computes a table where \n",
    "    - columns are variables and functions that these `Ref`s depend on\n",
    "    - rows contain the set of `Ref`/`Call` dependencies from each such node\n",
    "- joins these tables over all the variables containing sink `Ref`s along their\n",
    "shared columns"
   ]
  },
  {
   "cell_type": "markdown",
   "metadata": {},
   "source": [
    "## Visualizing and summarizing `ComputationFrame`s\n",
    "CFs are complex data structures, and benefit from several kinds of high-level\n",
    "summaries."
   ]
  },
  {
   "cell_type": "markdown",
   "metadata": {},
   "source": [
    "### The `.draw()` method\n",
    "We've used the `.draw()` method a bunch of times so far. Let's revisit the most\n",
    "recent CF:"
   ]
  },
  {
   "cell_type": "code",
   "execution_count": 20,
   "metadata": {
    "execution": {
     "iopub.execute_input": "2024-07-03T12:06:49.367748Z",
     "iopub.status.busy": "2024-07-03T12:06:49.367515Z",
     "iopub.status.idle": "2024-07-03T12:06:49.458305Z",
     "shell.execute_reply": "2024-07-03T12:06:49.457716Z"
    }
   },
   "outputs": [
    {
     "data": {
      "image/svg+xml": [
       "<?xml version=\"1.0\" encoding=\"UTF-8\" standalone=\"no\"?>\n",
       "<!DOCTYPE svg PUBLIC \"-//W3C//DTD SVG 1.1//EN\"\n",
       " \"http://www.w3.org/Graphics/SVG/1.1/DTD/svg11.dtd\">\n",
       "<!-- Generated by graphviz version 2.50.0 (0)\n",
       " -->\n",
       "<!-- Title: G Pages: 1 -->\n",
       "<svg width=\"270pt\" height=\"620pt\"\n",
       " viewBox=\"0.00 0.00 269.50 620.00\" xmlns=\"http://www.w3.org/2000/svg\" xmlns:xlink=\"http://www.w3.org/1999/xlink\">\n",
       "<g id=\"graph0\" class=\"graph\" transform=\"scale(1 1) rotate(0) translate(4 616)\">\n",
       "<title>G</title>\n",
       "<polygon fill=\"white\" stroke=\"transparent\" points=\"-4,4 -4,-616 265.5,-616 265.5,4 -4,4\"/>\n",
       "<!-- y_train -->\n",
       "<g id=\"node1\" class=\"node\">\n",
       "<title>y_train</title>\n",
       "<path fill=\"none\" stroke=\"#268bd2\" d=\"M47,-420C47,-420 12,-420 12,-420 6,-420 0,-414 0,-408 0,-408 0,-396 0,-396 0,-390 6,-384 12,-384 12,-384 47,-384 47,-384 53,-384 59,-390 59,-396 59,-396 59,-408 59,-408 59,-414 53,-420 47,-420\"/>\n",
       "<text text-anchor=\"start\" x=\"8\" y=\"-404.4\" font-family=\"RobotoMono\" font-weight=\"bold\" font-size=\"12.00\" fill=\"#002b36\">y_train</text>\n",
       "<text text-anchor=\"start\" x=\"10.5\" y=\"-394\" font-family=\"RobotoMono\" font-size=\"10.00\" fill=\"#268bd2\">1 values</text>\n",
       "</g>\n",
       "<!-- train_model -->\n",
       "<g id=\"node10\" class=\"node\">\n",
       "<title>train_model</title>\n",
       "<path fill=\"none\" stroke=\"#dc322f\" d=\"M143,-326C143,-326 72,-326 72,-326 66,-326 60,-320 60,-314 60,-314 60,-298 60,-298 60,-292 66,-286 72,-286 72,-286 143,-286 143,-286 149,-286 155,-292 155,-298 155,-298 155,-314 155,-314 155,-320 149,-326 143,-326\"/>\n",
       "<text text-anchor=\"start\" x=\"71\" y=\"-313.4\" font-family=\"RobotoMono\" font-weight=\"bold\" font-size=\"12.00\" fill=\"#002b36\">train_model</text>\n",
       "<text text-anchor=\"start\" x=\"68\" y=\"-303\" font-family=\"RobotoMono\" font-size=\"10.00\" fill=\"#002b36\">@op:train_model</text>\n",
       "<text text-anchor=\"start\" x=\"93.5\" y=\"-293\" font-family=\"RobotoMono\" font-size=\"10.00\" fill=\"#dc322f\">4 calls</text>\n",
       "</g>\n",
       "<!-- y_train&#45;&gt;train_model -->\n",
       "<g id=\"edge3\" class=\"edge\">\n",
       "<title>y_train&#45;&gt;train_model</title>\n",
       "<path fill=\"none\" stroke=\"#002b36\" d=\"M36.19,-383.88C41.4,-371.91 49.42,-355.98 59.5,-344 62.84,-340.03 66.68,-336.21 70.7,-332.63\"/>\n",
       "<polygon fill=\"#002b36\" stroke=\"#002b36\" points=\"73.12,-335.18 78.57,-326.09 68.64,-329.79 73.12,-335.18\"/>\n",
       "<text text-anchor=\"middle\" x=\"81.5\" y=\"-358\" font-family=\"RobotoMono\" font-size=\"10.00\" fill=\"#002b36\">y_train</text>\n",
       "<text text-anchor=\"middle\" x=\"81.5\" y=\"-347\" font-family=\"RobotoMono\" font-size=\"10.00\" fill=\"#002b36\">(1 values)</text>\n",
       "</g>\n",
       "<!-- X_train -->\n",
       "<g id=\"node2\" class=\"node\">\n",
       "<title>X_train</title>\n",
       "<path fill=\"none\" stroke=\"#268bd2\" d=\"M125.5,-420C125.5,-420 89.5,-420 89.5,-420 83.5,-420 77.5,-414 77.5,-408 77.5,-408 77.5,-396 77.5,-396 77.5,-390 83.5,-384 89.5,-384 89.5,-384 125.5,-384 125.5,-384 131.5,-384 137.5,-390 137.5,-396 137.5,-396 137.5,-408 137.5,-408 137.5,-414 131.5,-420 125.5,-420\"/>\n",
       "<text text-anchor=\"start\" x=\"85.5\" y=\"-404.4\" font-family=\"RobotoMono\" font-weight=\"bold\" font-size=\"12.00\" fill=\"#002b36\">X_train</text>\n",
       "<text text-anchor=\"start\" x=\"88.5\" y=\"-394\" font-family=\"RobotoMono\" font-size=\"10.00\" fill=\"#268bd2\">1 values</text>\n",
       "</g>\n",
       "<!-- X_train&#45;&gt;train_model -->\n",
       "<g id=\"edge4\" class=\"edge\">\n",
       "<title>X_train&#45;&gt;train_model</title>\n",
       "<path fill=\"none\" stroke=\"#002b36\" d=\"M107.5,-383.76C107.5,-370.5 107.5,-351.86 107.5,-336.27\"/>\n",
       "<polygon fill=\"#002b36\" stroke=\"#002b36\" points=\"111,-336.07 107.5,-326.07 104,-336.07 111,-336.07\"/>\n",
       "<text text-anchor=\"middle\" x=\"129.5\" y=\"-358\" font-family=\"RobotoMono\" font-size=\"10.00\" fill=\"#002b36\">X_train</text>\n",
       "<text text-anchor=\"middle\" x=\"129.5\" y=\"-347\" font-family=\"RobotoMono\" font-size=\"10.00\" fill=\"#002b36\">(1 values)</text>\n",
       "</g>\n",
       "<!-- output_0 -->\n",
       "<g id=\"node3\" class=\"node\">\n",
       "<title>output_0</title>\n",
       "<path fill=\"none\" stroke=\"#268bd2\" d=\"M87,-228C87,-228 18,-228 18,-228 12,-228 6,-222 6,-216 6,-216 6,-204 6,-204 6,-198 12,-192 18,-192 18,-192 87,-192 87,-192 93,-192 99,-198 99,-204 99,-204 99,-216 99,-216 99,-222 93,-228 87,-228\"/>\n",
       "<text text-anchor=\"start\" x=\"25\" y=\"-212.4\" font-family=\"RobotoMono\" font-weight=\"bold\" font-size=\"12.00\" fill=\"#002b36\">output_0</text>\n",
       "<text text-anchor=\"start\" x=\"14\" y=\"-202\" font-family=\"RobotoMono\" font-size=\"10.00\" fill=\"#268bd2\">4 values (2 sinks)</text>\n",
       "</g>\n",
       "<!-- eval_model -->\n",
       "<g id=\"node9\" class=\"node\">\n",
       "<title>eval_model</title>\n",
       "<path fill=\"none\" stroke=\"#dc322f\" d=\"M86.5,-134C86.5,-134 18.5,-134 18.5,-134 12.5,-134 6.5,-128 6.5,-122 6.5,-122 6.5,-106 6.5,-106 6.5,-100 12.5,-94 18.5,-94 18.5,-94 86.5,-94 86.5,-94 92.5,-94 98.5,-100 98.5,-106 98.5,-106 98.5,-122 98.5,-122 98.5,-128 92.5,-134 86.5,-134\"/>\n",
       "<text text-anchor=\"start\" x=\"18.5\" y=\"-121.4\" font-family=\"RobotoMono\" font-weight=\"bold\" font-size=\"12.00\" fill=\"#002b36\">eval_model</text>\n",
       "<text text-anchor=\"start\" x=\"14.5\" y=\"-111\" font-family=\"RobotoMono\" font-size=\"10.00\" fill=\"#002b36\">@op:eval_model</text>\n",
       "<text text-anchor=\"start\" x=\"38.5\" y=\"-101\" font-family=\"RobotoMono\" font-size=\"10.00\" fill=\"#dc322f\">2 calls</text>\n",
       "</g>\n",
       "<!-- output_0&#45;&gt;eval_model -->\n",
       "<g id=\"edge6\" class=\"edge\">\n",
       "<title>output_0&#45;&gt;eval_model</title>\n",
       "<path fill=\"none\" stroke=\"#002b36\" d=\"M52.5,-191.76C52.5,-178.5 52.5,-159.86 52.5,-144.27\"/>\n",
       "<polygon fill=\"#002b36\" stroke=\"#002b36\" points=\"56,-144.07 52.5,-134.07 49,-144.07 56,-144.07\"/>\n",
       "<text text-anchor=\"middle\" x=\"74.5\" y=\"-166\" font-family=\"RobotoMono\" font-size=\"10.00\" fill=\"#002b36\">model</text>\n",
       "<text text-anchor=\"middle\" x=\"74.5\" y=\"-155\" font-family=\"RobotoMono\" font-size=\"10.00\" fill=\"#002b36\">(2 values)</text>\n",
       "</g>\n",
       "<!-- output_0_0 -->\n",
       "<g id=\"node4\" class=\"node\">\n",
       "<title>output_0_0</title>\n",
       "<path fill=\"none\" stroke=\"#268bd2\" d=\"M87,-36C87,-36 18,-36 18,-36 12,-36 6,-30 6,-24 6,-24 6,-12 6,-12 6,-6 12,0 18,0 18,0 87,0 87,0 93,0 99,-6 99,-12 99,-12 99,-24 99,-24 99,-30 93,-36 87,-36\"/>\n",
       "<text text-anchor=\"start\" x=\"19\" y=\"-20.4\" font-family=\"RobotoMono\" font-weight=\"bold\" font-size=\"12.00\" fill=\"#002b36\">output_0_0</text>\n",
       "<text text-anchor=\"start\" x=\"14\" y=\"-10\" font-family=\"RobotoMono\" font-size=\"10.00\" fill=\"#268bd2\">2 values (2 sinks)</text>\n",
       "</g>\n",
       "<!-- random_seed -->\n",
       "<g id=\"node5\" class=\"node\">\n",
       "<title>random_seed</title>\n",
       "<path fill=\"none\" stroke=\"#268bd2\" d=\"M108.5,-612C108.5,-612 26.5,-612 26.5,-612 20.5,-612 14.5,-606 14.5,-600 14.5,-600 14.5,-588 14.5,-588 14.5,-582 20.5,-576 26.5,-576 26.5,-576 108.5,-576 108.5,-576 114.5,-576 120.5,-582 120.5,-588 120.5,-588 120.5,-600 120.5,-600 120.5,-606 114.5,-612 108.5,-612\"/>\n",
       "<text text-anchor=\"start\" x=\"27\" y=\"-596.4\" font-family=\"RobotoMono\" font-weight=\"bold\" font-size=\"12.00\" fill=\"#002b36\">random_seed</text>\n",
       "<text text-anchor=\"start\" x=\"22.5\" y=\"-586\" font-family=\"RobotoMono\" font-size=\"10.00\" fill=\"#268bd2\">1 values (1 sources)</text>\n",
       "</g>\n",
       "<!-- generate_dataset -->\n",
       "<g id=\"node8\" class=\"node\">\n",
       "<title>generate_dataset</title>\n",
       "<path fill=\"none\" stroke=\"#dc322f\" d=\"M116.5,-518C116.5,-518 18.5,-518 18.5,-518 12.5,-518 6.5,-512 6.5,-506 6.5,-506 6.5,-490 6.5,-490 6.5,-484 12.5,-478 18.5,-478 18.5,-478 116.5,-478 116.5,-478 122.5,-478 128.5,-484 128.5,-490 128.5,-490 128.5,-506 128.5,-506 128.5,-512 122.5,-518 116.5,-518\"/>\n",
       "<text text-anchor=\"start\" x=\"14.5\" y=\"-505.4\" font-family=\"RobotoMono\" font-weight=\"bold\" font-size=\"12.00\" fill=\"#002b36\">generate_dataset</text>\n",
       "<text text-anchor=\"start\" x=\"14.5\" y=\"-495\" font-family=\"RobotoMono\" font-size=\"10.00\" fill=\"#002b36\">@op:generate_dataset</text>\n",
       "<text text-anchor=\"start\" x=\"53.5\" y=\"-485\" font-family=\"RobotoMono\" font-size=\"10.00\" fill=\"#dc322f\">1 calls</text>\n",
       "</g>\n",
       "<!-- random_seed&#45;&gt;generate_dataset -->\n",
       "<g id=\"edge9\" class=\"edge\">\n",
       "<title>random_seed&#45;&gt;generate_dataset</title>\n",
       "<path fill=\"none\" stroke=\"#002b36\" d=\"M67.5,-575.76C67.5,-562.5 67.5,-543.86 67.5,-528.27\"/>\n",
       "<polygon fill=\"#002b36\" stroke=\"#002b36\" points=\"71,-528.07 67.5,-518.07 64,-528.07 71,-528.07\"/>\n",
       "<text text-anchor=\"middle\" x=\"99.5\" y=\"-550\" font-family=\"RobotoMono\" font-size=\"10.00\" fill=\"#002b36\">random_seed</text>\n",
       "<text text-anchor=\"middle\" x=\"99.5\" y=\"-539\" font-family=\"RobotoMono\" font-size=\"10.00\" fill=\"#002b36\">(1 values)</text>\n",
       "</g>\n",
       "<!-- n_estimators -->\n",
       "<g id=\"node6\" class=\"node\">\n",
       "<title>n_estimators</title>\n",
       "<path fill=\"none\" stroke=\"#268bd2\" d=\"M249.5,-420C249.5,-420 167.5,-420 167.5,-420 161.5,-420 155.5,-414 155.5,-408 155.5,-408 155.5,-396 155.5,-396 155.5,-390 161.5,-384 167.5,-384 167.5,-384 249.5,-384 249.5,-384 255.5,-384 261.5,-390 261.5,-396 261.5,-396 261.5,-408 261.5,-408 261.5,-414 255.5,-420 249.5,-420\"/>\n",
       "<text text-anchor=\"start\" x=\"169\" y=\"-404.4\" font-family=\"RobotoMono\" font-weight=\"bold\" font-size=\"12.00\" fill=\"#002b36\">n_estimators</text>\n",
       "<text text-anchor=\"start\" x=\"163.5\" y=\"-394\" font-family=\"RobotoMono\" font-size=\"10.00\" fill=\"#268bd2\">4 values (4 sources)</text>\n",
       "</g>\n",
       "<!-- n_estimators&#45;&gt;train_model -->\n",
       "<g id=\"edge5\" class=\"edge\">\n",
       "<title>n_estimators&#45;&gt;train_model</title>\n",
       "<path fill=\"none\" stroke=\"#002b36\" d=\"M193.88,-383.84C183.6,-372.15 169.28,-356.56 155.5,-344 151.17,-340.05 146.44,-336.06 141.71,-332.25\"/>\n",
       "<polygon fill=\"#002b36\" stroke=\"#002b36\" points=\"143.82,-329.45 133.79,-326.02 139.49,-334.96 143.82,-329.45\"/>\n",
       "<text text-anchor=\"middle\" x=\"207\" y=\"-358\" font-family=\"RobotoMono\" font-size=\"10.00\" fill=\"#002b36\">n_estimators</text>\n",
       "<text text-anchor=\"middle\" x=\"207\" y=\"-347\" font-family=\"RobotoMono\" font-size=\"10.00\" fill=\"#002b36\">(4 values)</text>\n",
       "</g>\n",
       "<!-- output_1 -->\n",
       "<g id=\"node7\" class=\"node\">\n",
       "<title>output_1</title>\n",
       "<path fill=\"none\" stroke=\"#268bd2\" d=\"M198,-228C198,-228 129,-228 129,-228 123,-228 117,-222 117,-216 117,-216 117,-204 117,-204 117,-198 123,-192 129,-192 129,-192 198,-192 198,-192 204,-192 210,-198 210,-204 210,-204 210,-216 210,-216 210,-222 204,-228 198,-228\"/>\n",
       "<text text-anchor=\"start\" x=\"136\" y=\"-212.4\" font-family=\"RobotoMono\" font-weight=\"bold\" font-size=\"12.00\" fill=\"#002b36\">output_1</text>\n",
       "<text text-anchor=\"start\" x=\"125\" y=\"-202\" font-family=\"RobotoMono\" font-size=\"10.00\" fill=\"#268bd2\">4 values (4 sinks)</text>\n",
       "</g>\n",
       "<!-- generate_dataset&#45;&gt;y_train -->\n",
       "<g id=\"edge8\" class=\"edge\">\n",
       "<title>generate_dataset&#45;&gt;y_train</title>\n",
       "<path fill=\"none\" stroke=\"#002b36\" d=\"M49.52,-477.85C45.3,-472.43 41.24,-466.29 38.5,-460 34.45,-450.69 32.19,-439.82 30.95,-430.08\"/>\n",
       "<polygon fill=\"#002b36\" stroke=\"#002b36\" points=\"34.43,-429.69 29.96,-420.09 27.46,-430.38 34.43,-429.69\"/>\n",
       "<text text-anchor=\"middle\" x=\"60.5\" y=\"-452\" font-family=\"RobotoMono\" font-size=\"10.00\" fill=\"#002b36\">output_2</text>\n",
       "<text text-anchor=\"middle\" x=\"60.5\" y=\"-441\" font-family=\"RobotoMono\" font-size=\"10.00\" fill=\"#002b36\">(1 values)</text>\n",
       "</g>\n",
       "<!-- generate_dataset&#45;&gt;X_train -->\n",
       "<g id=\"edge7\" class=\"edge\">\n",
       "<title>generate_dataset&#45;&gt;X_train</title>\n",
       "<path fill=\"none\" stroke=\"#002b36\" d=\"M75.59,-477.98C81.51,-464.07 89.62,-445.03 96.18,-429.61\"/>\n",
       "<polygon fill=\"#002b36\" stroke=\"#002b36\" points=\"99.53,-430.67 100.22,-420.1 93.09,-427.93 99.53,-430.67\"/>\n",
       "<text text-anchor=\"middle\" x=\"113.5\" y=\"-452\" font-family=\"RobotoMono\" font-size=\"10.00\" fill=\"#002b36\">output_0</text>\n",
       "<text text-anchor=\"middle\" x=\"113.5\" y=\"-441\" font-family=\"RobotoMono\" font-size=\"10.00\" fill=\"#002b36\">(1 values)</text>\n",
       "</g>\n",
       "<!-- eval_model&#45;&gt;output_0_0 -->\n",
       "<g id=\"edge10\" class=\"edge\">\n",
       "<title>eval_model&#45;&gt;output_0_0</title>\n",
       "<path fill=\"none\" stroke=\"#002b36\" d=\"M52.5,-93.98C52.5,-80.34 52.5,-61.75 52.5,-46.5\"/>\n",
       "<polygon fill=\"#002b36\" stroke=\"#002b36\" points=\"56,-46.1 52.5,-36.1 49,-46.1 56,-46.1\"/>\n",
       "<text text-anchor=\"middle\" x=\"74.5\" y=\"-68\" font-family=\"RobotoMono\" font-size=\"10.00\" fill=\"#002b36\">output_0</text>\n",
       "<text text-anchor=\"middle\" x=\"74.5\" y=\"-57\" font-family=\"RobotoMono\" font-size=\"10.00\" fill=\"#002b36\">(2 values)</text>\n",
       "</g>\n",
       "<!-- train_model&#45;&gt;output_0 -->\n",
       "<g id=\"edge2\" class=\"edge\">\n",
       "<title>train_model&#45;&gt;output_0</title>\n",
       "<path fill=\"none\" stroke=\"#002b36\" d=\"M96.37,-285.98C88.08,-271.81 76.67,-252.3 67.56,-236.74\"/>\n",
       "<polygon fill=\"#002b36\" stroke=\"#002b36\" points=\"70.58,-234.96 62.5,-228.1 64.53,-238.5 70.58,-234.96\"/>\n",
       "<text text-anchor=\"middle\" x=\"106.5\" y=\"-260\" font-family=\"RobotoMono\" font-size=\"10.00\" fill=\"#002b36\">output_0</text>\n",
       "<text text-anchor=\"middle\" x=\"106.5\" y=\"-249\" font-family=\"RobotoMono\" font-size=\"10.00\" fill=\"#002b36\">(4 values)</text>\n",
       "</g>\n",
       "<!-- train_model&#45;&gt;output_1 -->\n",
       "<g id=\"edge1\" class=\"edge\">\n",
       "<title>train_model&#45;&gt;output_1</title>\n",
       "<path fill=\"none\" stroke=\"#002b36\" d=\"M121.09,-285.64C124.9,-280.02 128.96,-273.83 132.5,-268 138.53,-258.08 144.73,-246.91 149.98,-237.1\"/>\n",
       "<polygon fill=\"#002b36\" stroke=\"#002b36\" points=\"153.11,-238.68 154.7,-228.2 146.92,-235.4 153.11,-238.68\"/>\n",
       "<text text-anchor=\"middle\" x=\"166.5\" y=\"-260\" font-family=\"RobotoMono\" font-size=\"10.00\" fill=\"#002b36\">output_1</text>\n",
       "<text text-anchor=\"middle\" x=\"166.5\" y=\"-249\" font-family=\"RobotoMono\" font-size=\"10.00\" fill=\"#002b36\">(4 values)</text>\n",
       "</g>\n",
       "</g>\n",
       "</svg>\n"
      ],
      "text/plain": [
       "<graphviz.sources.Source at 0x71a56a0f2ce0>"
      ]
     },
     "metadata": {},
     "output_type": "display_data"
    }
   ],
   "source": [
    "cf.draw(verbose=True)"
   ]
  },
  {
   "cell_type": "markdown",
   "metadata": {},
   "source": [
    "The `.draw()` method shows the computational graph of a CF and how many\n",
    "calls/refs there are in each function/variable. When called with `verbose=True`,\n",
    "this method shows a summary of how the variable values and function calls\n",
    "connect across the CF:\n",
    "\n",
    "- **source (i.e. initial) `Ref`s** in each variable: the `Ref`s in this variable\n",
    "that aren't outputs of any call in a function node using the variable as output.\n",
    "- **sink (i.e. final) `Ref`s** in each variable: dual to source refs, these are\n",
    "the `Ref`s that are not inputs to calls in any function node using the variable\n",
    "as input.\n",
    "- **edge `Ref`s** for each edge: for edges that are inputs to functions, this is\n",
    "the number of refs from the input variable that are used in calls to the\n",
    "function. For edges that are outputs of functions, this is the number of refs in\n",
    "the output variable created by calls in the function node."
   ]
  },
  {
   "cell_type": "markdown",
   "metadata": {},
   "source": [
    "### Printing the computation graph of a `ComputationFrame`\n",
    "The computational graph of a CF is part of its `repr()`, but you can also print\n",
    "just the graph:"
   ]
  },
  {
   "cell_type": "code",
   "execution_count": 21,
   "metadata": {
    "execution": {
     "iopub.execute_input": "2024-07-03T12:06:49.461177Z",
     "iopub.status.busy": "2024-07-03T12:06:49.460995Z",
     "iopub.status.idle": "2024-07-03T12:06:49.484902Z",
     "shell.execute_reply": "2024-07-03T12:06:49.484256Z"
    }
   },
   "outputs": [
    {
     "name": "stdout",
     "output_type": "stream",
     "text": [
      "X_train@output_0, y_train@output_2 = generate_dataset(random_seed=random_seed)\n",
      "output_0@output_0, output_1@output_1 = train_model(y_train=y_train, X_train=X_train, n_estimators=n_estimators)\n",
      "output_0_0@output_0 = eval_model(model=output_0)\n"
     ]
    }
   ],
   "source": [
    "cf.print_graph()"
   ]
  },
  {
   "cell_type": "markdown",
   "metadata": {},
   "source": [
    "Note that outputs are appended with `@output_0`, .... This is to indicate the\n",
    "name each output is bound to, in case some outputs are missing from the graph\n",
    "(which is possible, because CFs can represent partial computations)."
   ]
  }
 ],
 "metadata": {
  "language_info": {
   "codemirror_mode": {
    "name": "ipython",
    "version": 3
   },
   "file_extension": ".py",
   "mimetype": "text/x-python",
   "name": "python",
   "nbconvert_exporter": "python",
   "pygments_lexer": "ipython3",
   "version": "3.10.8"
  }
 },
 "nbformat": 4,
 "nbformat_minor": 2
}
