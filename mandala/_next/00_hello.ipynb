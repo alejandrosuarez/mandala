{
 "cells": [
  {
   "cell_type": "markdown",
   "metadata": {},
   "source": [
    "# What is this? What is `mandala`?\n",
    "`mandala` is a library that makes it radically simpler to manage the data of\n",
    "complex computational projects, e.g. in machine learning and data science. It\n",
    "lets you save the inputs and outputs of Python functions, so that \n",
    "\n",
    "- calling a function on the same inputs again directly looks up the saved\n",
    "outputs;\n",
    "- the saved inputs/outputs across all functions form a connected whole (a kind\n",
    "of [graph database](https://en.wikipedia.org/wiki/Graph_database)) that can be\n",
    "queried and manipulated in high-level ways;\n",
    "- a bunch of extra features (loading values from storage only when needed,\n",
    "transparent integration with Python's data structures, ...) help make it a\n",
    "practical tool for complex workflows.\n",
    "\n",
    "This tutorial is a minimal interesting example of `mandala`, which introduces\n",
    "the main features in the simplest scenario. "
   ]
  },
  {
   "cell_type": "markdown",
   "metadata": {},
   "source": [
    "# Create a storage and functions to save\n",
    "You can save the inputs/outputs of any Python function (also called to\n",
    "*memoize* the function) by applying the `@op` decorator to it. A `Storage`\n",
    "instance stores all calls to `@op`-decorated functions within a project."
   ]
  },
  {
   "cell_type": "code",
   "execution_count": 1,
   "metadata": {},
   "outputs": [],
   "source": [
    "from mandala._next.imports import *\n",
    "\n",
    "### create a storage for results\n",
    "storage = Storage()\n",
    "\n",
    "### create the functions whose results we want to save\n",
    "@op # memoization decorator\n",
    "def inc(x):\n",
    "    print('Hi from inc!')\n",
    "    return x + 1 \n",
    "\n",
    "@op\n",
    "def add(x, y):\n",
    "    print('Hi from add!')\n",
    "    return x + y"
   ]
  },
  {
   "cell_type": "markdown",
   "metadata": {},
   "source": [
    "# Run functions in a `with storage:` block to save their results\n",
    "The `@op` decorator activates only when the function is called inside a `with\n",
    "storage:` block:"
   ]
  },
  {
   "cell_type": "code",
   "execution_count": 2,
   "metadata": {},
   "outputs": [
    {
     "name": "stdout",
     "output_type": "stream",
     "text": [
      "Hi from inc!\n",
      "Hi from add!\n",
      "AtomRef(42, hid='4da...', cid='d92...')\n"
     ]
    }
   ],
   "source": [
    "with storage:\n",
    "    x = inc(20)\n",
    "    y = add(21, x)\n",
    "    print(y) # a *reference* to the result of calling `add(21, inc(20))`"
   ]
  },
  {
   "cell_type": "markdown",
   "metadata": {},
   "source": [
    "# Retrace saved code to load results and add new calls"
   ]
  },
  {
   "cell_type": "markdown",
   "metadata": {},
   "source": [
    "**Running a second time will not re-execute the calls**, only retrieve\n",
    "*references*, or `Ref`s, to the results from the `storage` at each function call\n",
    "along the way:"
   ]
  },
  {
   "cell_type": "code",
   "execution_count": 3,
   "metadata": {},
   "outputs": [
    {
     "name": "stdout",
     "output_type": "stream",
     "text": [
      "AtomRef(hid='4da...', cid='d92...', in_memory=False)\n"
     ]
    }
   ],
   "source": [
    "with storage:\n",
    "    x = inc(20) # `inc` won't be executed again, instead a reference to the previous result will be returned as `x`\n",
    "    y = add(21, x) # the combination of (21, x) is recognized as a previously computed result and `add` won't be executed again\n",
    "    print(y) # now `y` is only a *reference* to the value 42, and the object (42) itself is not loaded from the storage"
   ]
  },
  {
   "cell_type": "markdown",
   "metadata": {},
   "source": [
    "Similarly, **adding more calls will not re-execute the parts that have\n",
    "already been executed**:"
   ]
  },
  {
   "cell_type": "code",
   "execution_count": 4,
   "metadata": {},
   "outputs": [
    {
     "name": "stdout",
     "output_type": "stream",
     "text": [
      "Hi from inc!\n",
      "Hi from add!\n",
      "Hi from inc!\n",
      "Hi from add!\n"
     ]
    }
   ],
   "source": [
    "with storage:\n",
    "    for a in [10, 20, 30]: # when a is 20, we don't re-execute `inc` and `add`\n",
    "        x = inc(a)\n",
    "        y = add(21, x)"
   ]
  },
  {
   "cell_type": "markdown",
   "metadata": {},
   "source": [
    "# Querying the storage with computation frames\n",
    "The `storage` keeps track of how all the `@op`-decorated functions compose with\n",
    "each other. You can explore this interconnected web of calls using\n",
    "`ComputationFrame` objects, which generalize dataframes to operate over\n",
    "computational graphs. \n",
    "\n",
    "For example, we can create a computation frame that holds all the calls to the\n",
    "function `inc`:"
   ]
  },
  {
   "cell_type": "code",
   "execution_count": 5,
   "metadata": {},
   "outputs": [
    {
     "data": {
      "text/plain": [
       "ComputationFrame with 2 variable(s) (6 unique refs), 1 operation(s) (3 unique calls)\n",
       "Computational graph:\n",
       "    output_0 = inc(x=x)"
      ]
     },
     "execution_count": 5,
     "metadata": {},
     "output_type": "execute_result"
    }
   ],
   "source": [
    "cf = storage.cf(inc); cf"
   ]
  },
  {
   "cell_type": "markdown",
   "metadata": {},
   "source": [
    "We see the computational graph represented by this computation frame, the number\n",
    "of **variables** and **operations** in the graph, as well as the number of\n",
    "**references** to values of the variables, and **calls** to the operations. \n",
    "\n",
    "We can make this more interesting by **expanding** the computation frame to\n",
    "include all calls that use `output_0` in the graph:"
   ]
  },
  {
   "cell_type": "code",
   "execution_count": 6,
   "metadata": {},
   "outputs": [
    {
     "data": {
      "text/plain": [
       "ComputationFrame with 3 variable(s) (9 unique refs), 2 operation(s) (6 unique calls)\n",
       "Computational graph:\n",
       "    output_0 = inc(x=x)\n",
       "    output_0_0 = add(y=output_0)"
      ]
     },
     "execution_count": 6,
     "metadata": {},
     "output_type": "execute_result"
    }
   ],
   "source": [
    "cf = cf.expand_forward('output_0'); cf"
   ]
  },
  {
   "cell_type": "markdown",
   "metadata": {},
   "source": [
    "We see that the calls to `add` show up. To convert the computation frame into a\n",
    "form more useful for subsequent analysis, we can convert it into a dataframe:"
   ]
  },
  {
   "cell_type": "code",
   "execution_count": 7,
   "metadata": {},
   "outputs": [
    {
     "name": "stdout",
     "output_type": "stream",
     "text": [
      "Extracting tuples from the computation graph:\n",
      "output_0 = inc(x=x)\n",
      "output_0_0 = add(y=output_0)...\n"
     ]
    },
    {
     "data": {
      "text/html": [
       "<div>\n",
       "<style scoped>\n",
       "    .dataframe tbody tr th:only-of-type {\n",
       "        vertical-align: middle;\n",
       "    }\n",
       "\n",
       "    .dataframe tbody tr th {\n",
       "        vertical-align: top;\n",
       "    }\n",
       "\n",
       "    .dataframe thead th {\n",
       "        text-align: right;\n",
       "    }\n",
       "</style>\n",
       "<table border=\"1\" class=\"dataframe\">\n",
       "  <thead>\n",
       "    <tr style=\"text-align: right;\">\n",
       "      <th></th>\n",
       "      <th>x</th>\n",
       "      <th>inc</th>\n",
       "      <th>output_0</th>\n",
       "      <th>add</th>\n",
       "      <th>output_0_0</th>\n",
       "    </tr>\n",
       "  </thead>\n",
       "  <tbody>\n",
       "    <tr>\n",
       "      <th>0</th>\n",
       "      <td>10</td>\n",
       "      <td>Call(inc, cid='380...', hid='afd...')</td>\n",
       "      <td>11</td>\n",
       "      <td>Call(add, cid='ecc...', hid='172...')</td>\n",
       "      <td>32</td>\n",
       "    </tr>\n",
       "    <tr>\n",
       "      <th>1</th>\n",
       "      <td>30</td>\n",
       "      <td>Call(inc, cid='039...', hid='12e...')</td>\n",
       "      <td>31</td>\n",
       "      <td>Call(add, cid='19b...', hid='302...')</td>\n",
       "      <td>52</td>\n",
       "    </tr>\n",
       "    <tr>\n",
       "      <th>2</th>\n",
       "      <td>20</td>\n",
       "      <td>Call(inc, cid='692...', hid='e8e...')</td>\n",
       "      <td>21</td>\n",
       "      <td>Call(add, cid='b84...', hid='7d9...')</td>\n",
       "      <td>42</td>\n",
       "    </tr>\n",
       "  </tbody>\n",
       "</table>\n",
       "</div>"
      ],
      "text/plain": [
       "    x                                    inc  output_0  \\\n",
       "0  10  Call(inc, cid='380...', hid='afd...')        11   \n",
       "1  30  Call(inc, cid='039...', hid='12e...')        31   \n",
       "2  20  Call(inc, cid='692...', hid='e8e...')        21   \n",
       "\n",
       "                                     add  output_0_0  \n",
       "0  Call(add, cid='ecc...', hid='172...')          32  \n",
       "1  Call(add, cid='19b...', hid='302...')          52  \n",
       "2  Call(add, cid='b84...', hid='7d9...')          42  "
      ]
     },
     "execution_count": 7,
     "metadata": {},
     "output_type": "execute_result"
    }
   ],
   "source": [
    "cf.get_df()"
   ]
  },
  {
   "cell_type": "markdown",
   "metadata": {},
   "source": [
    "The resulting table contains one row for each computation in the storage that \n",
    "follows the given computational graph, with both the values of the variables in\n",
    "the graph, as well as calls connecting them. The computations can also only\n",
    "**partially** follow the computation graph - but more on that later. "
   ]
  },
  {
   "cell_type": "markdown",
   "metadata": {},
   "source": [
    "# Deleting calls\n",
    "Finally, the computation frame object can be used to declaratively delete the\n",
    "calls captured by it:"
   ]
  },
  {
   "cell_type": "code",
   "execution_count": 8,
   "metadata": {},
   "outputs": [
    {
     "data": {
      "text/html": [
       "<pre style=\"white-space:pre;overflow-x:auto;line-height:normal;font-family:Menlo,'DejaVu Sans Mono',consolas,'Courier New',monospace\"><span style=\"color: #7fbfbf; text-decoration-color: #7fbfbf\">[22:06:26] </span><span style=\"color: #000080; text-decoration-color: #000080\">INFO    </span> Dropped <span style=\"color: #008080; text-decoration-color: #008080; font-weight: bold\">6</span> calls <span style=\"font-weight: bold\">(</span>and <span style=\"color: #008080; text-decoration-color: #008080; font-weight: bold\">6</span> from cache<span style=\"font-weight: bold\">)</span>.                                              <span style=\"color: #7f7f7f; text-decoration-color: #7f7f7f\">storage.py:291</span>\n",
       "</pre>\n"
      ],
      "text/plain": [
       "\u001b[2;36m[22:06:26]\u001b[0m\u001b[2;36m \u001b[0m\u001b[34mINFO    \u001b[0m Dropped \u001b[1;36m6\u001b[0m calls \u001b[1m(\u001b[0mand \u001b[1;36m6\u001b[0m from cache\u001b[1m)\u001b[0m.                                              \u001b[2mstorage.py\u001b[0m\u001b[2m:\u001b[0m\u001b[2m291\u001b[0m\n"
      ]
     },
     "metadata": {},
     "output_type": "display_data"
    },
    {
     "data": {
      "text/plain": [
       "ComputationFrame with 0 variable(s) (0 unique refs), 1 operation(s) (0 unique calls)\n",
       "Computational graph:\n",
       "     = inc()"
      ]
     },
     "execution_count": 8,
     "metadata": {},
     "output_type": "execute_result"
    }
   ],
   "source": [
    "cf.delete_calls() # delete all calls made to `inc` and `add` captured by the computation frame (in this case, all calls)\n",
    "# check that the calls have been deleted\n",
    "cf = storage.cf(inc); cf"
   ]
  },
  {
   "cell_type": "markdown",
   "metadata": {},
   "source": [
    "# Conclusion and next steps"
   ]
  },
  {
   "cell_type": "markdown",
   "metadata": {},
   "source": [
    "This covers the most basic ways in which `mandala`'s main functionalities can be\n",
    "used. The next tutorials dive deeper into more practical use cases."
   ]
  }
 ],
 "metadata": {
  "kernelspec": {
   "display_name": "Python 3.10.8",
   "language": "python",
   "name": "python3"
  },
  "language_info": {
   "codemirror_mode": {
    "name": "ipython",
    "version": 3
   },
   "file_extension": ".py",
   "mimetype": "text/x-python",
   "name": "python",
   "nbconvert_exporter": "python",
   "pygments_lexer": "ipython3",
   "version": "3.10.8"
  },
  "orig_nbformat": 4,
  "vscode": {
   "interpreter": {
    "hash": "30c0510467e0bc33a523a84a8acb20ce0730b8eb0ee254a4b0039140f094f217"
   }
  }
 },
 "nbformat": 4,
 "nbformat_minor": 2
}
