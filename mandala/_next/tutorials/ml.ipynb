{
 "cells": [
  {
   "cell_type": "markdown",
   "metadata": {},
   "source": [
    "# Tutorial: Random forest ML project\n",
    "This tutorial will show you how `mandala` works in a small random forest\n",
    "ML project. You'll see how **queriable & composable** memoization is a simple way\n",
    "to achieve the main goals of scientific data management:\n",
    "\n",
    "- **iterate in the simplest way** by just dumping more\n",
    "logic/parameters/experiments on top of the code you already ran. Memoization\n",
    "automatically takes care of loading past results, skipping over past\n",
    "computations, and merging results across compatible versions of your code.\n",
    "\n",
    "- **explore the interdependencies of all saved results incrementally and\n",
    "declaratively** with *computation frames*, generalized dataframes that operate\n",
    "over memoized computation graphs. Expand the computational history of artifacts\n",
    "backward (to what produced them) and/or forward (to experiments that used them),\n",
    "perform high-level operations over slices of storage, and generate dataframes of\n",
    "results for further analysis."
   ]
  },
  {
   "cell_type": "markdown",
   "metadata": {},
   "source": [
    "# Imports & setup"
   ]
  },
  {
   "cell_type": "code",
   "execution_count": 1,
   "metadata": {},
   "outputs": [],
   "source": [
    "from typing import Tuple\n",
    "import numpy as np\n",
    "import pandas as pd\n",
    "from sklearn.datasets import load_digits\n",
    "from sklearn.model_selection import train_test_split\n",
    "from sklearn.ensemble import RandomForestClassifier\n",
    "\n",
    "# recommended way to import mandala functionality\n",
    "from mandala._next.imports import *\n",
    "\n",
    "np.random.seed(0)"
   ]
  },
  {
   "cell_type": "code",
   "execution_count": 2,
   "metadata": {},
   "outputs": [],
   "source": [
    "@op # memoizing decorator\n",
    "def generate_dataset(random_seed=42):\n",
    "    print(f\"Generating dataset...\")\n",
    "    X, y = load_digits(return_X_y=True)\n",
    "    X_train, X_test, y_train, y_test = train_test_split(\n",
    "        X, y, test_size=0.2, random_state=random_seed)\n",
    "    return X_train, X_test, y_train, y_test\n",
    "\n",
    "@op\n",
    "def train_model(X_train, y_train):\n",
    "    print(f\"Training model...\")\n",
    "    model = RandomForestClassifier(n_estimators=1)\n",
    "    model.fit(X_train, y_train)\n",
    "    return model, round(model.score(X_train, y_train), 2)\n",
    "\n",
    "@op\n",
    "def eval_model(model, X_test, y_test):\n",
    "    print(f\"Evaluating model...\")\n",
    "    return round(model.score(X_test, y_test), 2)"
   ]
  },
  {
   "cell_type": "markdown",
   "metadata": {},
   "source": [
    "# Running and iterating on the pipeline"
   ]
  },
  {
   "cell_type": "markdown",
   "metadata": {},
   "source": [
    "## Run the pipeline once with default settings"
   ]
  },
  {
   "cell_type": "code",
   "execution_count": 3,
   "metadata": {},
   "outputs": [
    {
     "name": "stdout",
     "output_type": "stream",
     "text": [
      "Generating dataset...\n",
      "Training model...\n",
      "Evaluating model...\n",
      "Train accuracy: AtomRef(0.91, hid='8f5...', cid='97b...'),\n",
      "Test accuracy: AtomRef(0.76, hid='57f...', cid='9e5...')\n"
     ]
    }
   ],
   "source": [
    "# in-memory storage for all results in this notebook; use `db_path` to persist\n",
    "# to disk\n",
    "storage = Storage() \n",
    "\n",
    "with storage: # block to make all @ops called inside read/write to a given storage\n",
    "    X_train, X_test, y_train, y_test = generate_dataset()\n",
    "    model, train_acc = train_model(X_train, y_train)\n",
    "    test_acc = eval_model(model, X_test, y_test)\n",
    "    print(f\"Train accuracy: {train_acc},\\nTest accuracy: {test_acc}\")"
   ]
  },
  {
   "cell_type": "markdown",
   "metadata": {},
   "source": [
    "Now all three calls are saved to the storage. `@op`s return **value \n",
    "references**, which wrap a Python object with some storage metadata needed to\n",
    "make the memoization **compose**. To get the underlying object, call\n",
    "`storage.unwrap(ref)`.\n",
    "\n",
    "Thanks to that metadata, when we re-run memoized code, the storage recognizes\n",
    "step-by-step that all work has already been done, and only loads *references* to\n",
    "the results (not the Python objects themselves):"
   ]
  },
  {
   "cell_type": "code",
   "execution_count": 4,
   "metadata": {},
   "outputs": [
    {
     "name": "stdout",
     "output_type": "stream",
     "text": [
      "Train accuracy: AtomRef(hid='8f5...', cid='97b...', in_memory=False),\n",
      "Test accuracy: AtomRef(hid='57f...', cid='9e5...', in_memory=False)\n"
     ]
    }
   ],
   "source": [
    "with storage: # same code, but now it only loads pointers to saved results\n",
    "    X_train, X_test, y_train, y_test = generate_dataset()\n",
    "    model, train_acc = train_model(X_train, y_train)\n",
    "    test_acc = eval_model(model, X_test, y_test)\n",
    "    print(f\"Train accuracy: {train_acc},\\nTest accuracy: {test_acc}\")"
   ]
  },
  {
   "cell_type": "markdown",
   "metadata": {},
   "source": [
    "## Iterate directly on top of memoized code and change memoized functions backward-compatibly\n",
    "This also makes it easy to iterate on a project by just adding stuff on top of\n",
    "already memoized code. For example, let's add a new parameter to `train_model`\n",
    "in a way compatible with our current results:"
   ]
  },
  {
   "cell_type": "code",
   "execution_count": 5,
   "metadata": {},
   "outputs": [
    {
     "name": "stdout",
     "output_type": "stream",
     "text": [
      "Running with 1 trees...\n",
      "    Train accuracy=AtomRef(hid='8f5...', cid='97b...', in_memory=False),\n",
      "    Test accuracy=AtomRef(hid='57f...', cid='9e5...', in_memory=False)\n",
      "Running with 10 trees...\n",
      "Training model...\n",
      "Evaluating model...\n",
      "    Train accuracy=AtomRef(1.0, hid='760...', cid='b67...'),\n",
      "    Test accuracy=AtomRef(0.94, hid='600...', cid='c3b...')\n",
      "Running with 100 trees...\n",
      "Training model...\n",
      "Evaluating model...\n",
      "    Train accuracy=AtomRef(1.0, hid='ab0...', cid='b67...'),\n",
      "    Test accuracy=AtomRef(0.98, hid='45f...', cid='d15...')\n"
     ]
    }
   ],
   "source": [
    "@op\n",
    "def train_model(X_train, y_train, n_estimators=NewArgDefault(1)):\n",
    "    print(f\"Training model...\")\n",
    "    model = RandomForestClassifier(n_estimators=n_estimators)\n",
    "    model.fit(X_train, y_train)\n",
    "    return model, round(model.score(X_train, y_train), 2)\n",
    "\n",
    "with storage: \n",
    "    X_train, X_test, y_train, y_test = generate_dataset()\n",
    "    for n_estimators in [1, 10, 100]:\n",
    "        print(f\"Running with {n_estimators} trees...\")\n",
    "        model, train_acc = train_model(X_train, y_train, n_estimators=n_estimators)\n",
    "        test_acc = eval_model(model, X_test, y_test)\n",
    "        print(f\"    Train accuracy={train_acc},\\n    Test accuracy={test_acc}\")"
   ]
  },
  {
   "cell_type": "markdown",
   "metadata": {},
   "source": [
    "When we add a new argument with a default value wrapped as `NewArgDefault(obj)`,\n",
    "this ensures **backward compatibility**. `mandala` will ignore this parameter\n",
    "when its value equals `obj`, and **fall back to memoized calls that don't\n",
    "provide this argument**. \n",
    "\n",
    "This is why `Training model...` got printed **only two times**, and why the\n",
    "results for `n_estimators=1` are not in memory (`in_memory=False`)."
   ]
  },
  {
   "cell_type": "markdown",
   "metadata": {},
   "source": [
    "## Pros and cons of memoization\n",
    "**Composable memoization is a powerful imperative query interface**: *if* you\n",
    "have the memoized code in front of you, **the code becomes its own storage\n",
    "interface**. You can just retrace it and get references to any intermediate\n",
    "results you want to look at. This is very flexible, because you can add control\n",
    "flow logic to restrict the \"query\". Retracing is cheap, because large objects\n",
    "are not loaded from storage, letting you narrow down your \"query\" before\n",
    "high-bandwidth interaction with the backend.\n",
    "\n",
    "However, **the full memoized code may not always be in front of you**!\n",
    "Especially in larger projects, where it's easy to lose track of what has already\n",
    "been computed, there's a need for a complementary storage interface based on\n",
    "**declarative** principles. We discuss this next."
   ]
  },
  {
   "cell_type": "markdown",
   "metadata": {},
   "source": [
    "# Querying the storage with computation frames \n",
    "In cases when memoization-based querying is not enough, `mandala` offers the\n",
    "`ComputationFrame` class. A computation frame is a generalization of the\n",
    "familiar `pandas` dataframe in two main ways:\n",
    "\n",
    "- the \"columns\" of a computation frame represent a **computational graph**, made\n",
    "of variables and operations on them.\n",
    "- the \"rows\" of a computation frame are **computations that (partially) follow\n",
    "the structure of the computational graph**.\n",
    "\n",
    "It's best to illustrate this with some examples:"
   ]
  },
  {
   "cell_type": "code",
   "execution_count": 6,
   "metadata": {},
   "outputs": [
    {
     "data": {
      "text/plain": [
       "ComputationFrame with 5 variable(s) (10 unique refs), 1 operation(s) (3 unique calls)\n",
       "Computational graph:\n",
       "    output_0@output_0, output_1@output_1 = train_model(X_train=X_train, y_train=y_train, n_estimators=n_estimators)"
      ]
     },
     "execution_count": 6,
     "metadata": {},
     "output_type": "execute_result"
    }
   ],
   "source": [
    "cf = storage.cf(train_model); cf"
   ]
  },
  {
   "cell_type": "markdown",
   "metadata": {},
   "source": [
    "We just got a computation frame (CF) corresponding to a very simple computation\n",
    "graph: it only has one operation, `train_model`, with its associated inputs and\n",
    "outputs. **Output variables are appended with the name of the function output\n",
    "they are connected to**, in order to remove ambiguity in cases when not all\n",
    "outputs of an operation are present in the computational graph.\n",
    "\n",
    "The printout also describes the overall number of `Ref`s and `Call`s represented\n",
    "by this CF. Much like in `pandas`, we can rename the \"columns\" of our\n",
    "computation frame for readability:"
   ]
  },
  {
   "cell_type": "code",
   "execution_count": 7,
   "metadata": {},
   "outputs": [
    {
     "data": {
      "text/plain": [
       "ComputationFrame with 5 variable(s) (10 unique refs), 1 operation(s) (3 unique calls)\n",
       "Computational graph:\n",
       "    model@output_0, train_acc@output_1 = train_model(X_train=X_train, y_train=y_train, n_estimators=n_estimators)"
      ]
     },
     "execution_count": 7,
     "metadata": {},
     "output_type": "execute_result"
    }
   ],
   "source": [
    "cf.rename(vars={'output_0': 'model', 'output_1': 'train_acc'}, inplace=True); cf"
   ]
  },
  {
   "cell_type": "markdown",
   "metadata": {},
   "source": [
    "We can directly extract a dataframe from the CF:"
   ]
  },
  {
   "cell_type": "code",
   "execution_count": 8,
   "metadata": {},
   "outputs": [
    {
     "name": "stdout",
     "output_type": "stream",
     "text": [
      "Extracting tuples from the computation graph:\n",
      "    model@output_0, train_acc@output_1 = train_model(y_train=y_train, n_estimators=n_estimators, X_train=X_train)\n"
     ]
    },
    {
     "data": {
      "text/html": [
       "<div>\n",
       "<style scoped>\n",
       "    .dataframe tbody tr th:only-of-type {\n",
       "        vertical-align: middle;\n",
       "    }\n",
       "\n",
       "    .dataframe tbody tr th {\n",
       "        vertical-align: top;\n",
       "    }\n",
       "\n",
       "    .dataframe thead th {\n",
       "        text-align: right;\n",
       "    }\n",
       "</style>\n",
       "<table border=\"1\" class=\"dataframe\">\n",
       "  <thead>\n",
       "    <tr style=\"text-align: right;\">\n",
       "      <th></th>\n",
       "      <th>y_train</th>\n",
       "      <th>n_estimators</th>\n",
       "      <th>X_train</th>\n",
       "      <th>train_model</th>\n",
       "      <th>train_acc</th>\n",
       "      <th>model</th>\n",
       "    </tr>\n",
       "  </thead>\n",
       "  <tbody>\n",
       "    <tr>\n",
       "      <th>0</th>\n",
       "      <td>[6, 0, 0, 3, 0, 5, 0, 0, 4, 1, 2, 8, 4, 5, 9, ...</td>\n",
       "      <td>10.0</td>\n",
       "      <td>[[0.0, 0.0, 3.0, 14.0, 1.0, 0.0, 0.0, 0.0, 0.0...</td>\n",
       "      <td>Call(train_model, cid='c4f...', hid='5f7...')</td>\n",
       "      <td>1.00</td>\n",
       "      <td>(DecisionTreeClassifier(max_features='sqrt', r...</td>\n",
       "    </tr>\n",
       "    <tr>\n",
       "      <th>1</th>\n",
       "      <td>[6, 0, 0, 3, 0, 5, 0, 0, 4, 1, 2, 8, 4, 5, 9, ...</td>\n",
       "      <td>100.0</td>\n",
       "      <td>[[0.0, 0.0, 3.0, 14.0, 1.0, 0.0, 0.0, 0.0, 0.0...</td>\n",
       "      <td>Call(train_model, cid='bb3...', hid='255...')</td>\n",
       "      <td>1.00</td>\n",
       "      <td>(DecisionTreeClassifier(max_features='sqrt', r...</td>\n",
       "    </tr>\n",
       "    <tr>\n",
       "      <th>2</th>\n",
       "      <td>[6, 0, 0, 3, 0, 5, 0, 0, 4, 1, 2, 8, 4, 5, 9, ...</td>\n",
       "      <td>NaN</td>\n",
       "      <td>[[0.0, 0.0, 3.0, 14.0, 1.0, 0.0, 0.0, 0.0, 0.0...</td>\n",
       "      <td>Call(train_model, cid='ca5...', hid='ac0...')</td>\n",
       "      <td>0.91</td>\n",
       "      <td>(DecisionTreeClassifier(max_features='sqrt', r...</td>\n",
       "    </tr>\n",
       "  </tbody>\n",
       "</table>\n",
       "</div>"
      ],
      "text/plain": [
       "                                             y_train  n_estimators  \\\n",
       "0  [6, 0, 0, 3, 0, 5, 0, 0, 4, 1, 2, 8, 4, 5, 9, ...          10.0   \n",
       "1  [6, 0, 0, 3, 0, 5, 0, 0, 4, 1, 2, 8, 4, 5, 9, ...         100.0   \n",
       "2  [6, 0, 0, 3, 0, 5, 0, 0, 4, 1, 2, 8, 4, 5, 9, ...           NaN   \n",
       "\n",
       "                                             X_train  \\\n",
       "0  [[0.0, 0.0, 3.0, 14.0, 1.0, 0.0, 0.0, 0.0, 0.0...   \n",
       "1  [[0.0, 0.0, 3.0, 14.0, 1.0, 0.0, 0.0, 0.0, 0.0...   \n",
       "2  [[0.0, 0.0, 3.0, 14.0, 1.0, 0.0, 0.0, 0.0, 0.0...   \n",
       "\n",
       "                                     train_model  train_acc  \\\n",
       "0  Call(train_model, cid='c4f...', hid='5f7...')       1.00   \n",
       "1  Call(train_model, cid='bb3...', hid='255...')       1.00   \n",
       "2  Call(train_model, cid='ca5...', hid='ac0...')       0.91   \n",
       "\n",
       "                                               model  \n",
       "0  (DecisionTreeClassifier(max_features='sqrt', r...  \n",
       "1  (DecisionTreeClassifier(max_features='sqrt', r...  \n",
       "2  (DecisionTreeClassifier(max_features='sqrt', r...  "
      ]
     },
     "execution_count": 8,
     "metadata": {},
     "output_type": "execute_result"
    }
   ],
   "source": [
    "cf.get_df()"
   ]
  },
  {
   "cell_type": "markdown",
   "metadata": {},
   "source": [
    "We get back a table, where each row corresponds to a call to `train_model`.\n",
    "Furthermore, the `Call` objects themselves (which contain metadata about the\n",
    "call) appear in the column dedicated to the single operation in the graph.\n",
    "\n",
    "We see that in the `n_estimators` column we have the values `[NaN, 10.0, 100.0]`\n",
    "(in some order), reflecting the fact that we made 1 call to `train_model` before\n",
    "introducing the `n_estimators` argument, and 2 afterwards."
   ]
  },
  {
   "cell_type": "markdown",
   "metadata": {},
   "source": [
    "## Exploring storage by expanding the CF\n",
    "This CF gets much more interesting and useful when we can look into where the\n",
    "inputs to `train_model` came from, and what the outputs were used for. We can\n",
    "add the history of particular variables by calling `expand_back` on the CF, and \n",
    "similarly `expand_forward` shows the operations that consume given variables: "
   ]
  },
  {
   "cell_type": "code",
   "execution_count": 9,
   "metadata": {},
   "outputs": [
    {
     "name": "stdout",
     "output_type": "stream",
     "text": [
      "Expanding back the inputs:\n",
      "ComputationFrame with 6 variable(s) (11 unique refs), 2 operation(s) (4 unique calls)\n",
      "Computational graph:\n",
      "    X_train@output_0, y_train@output_2 = generate_dataset(random_seed=random_seed)\n",
      "    model@output_0, train_acc@output_1 = train_model(X_train=X_train, y_train=y_train, n_estimators=n_estimators)\n",
      "\n",
      "Expanding forward the outputs:\n",
      "ComputationFrame with 6 variable(s) (13 unique refs), 2 operation(s) (6 unique calls)\n",
      "Computational graph:\n",
      "    model@output_0, train_acc@output_1 = train_model(X_train=X_train, y_train=y_train, n_estimators=n_estimators)\n",
      "    output_0@output_0 = eval_model(model=model)\n"
     ]
    }
   ],
   "source": [
    "print('Expanding back the inputs:')\n",
    "print(cf.expand_back(varnames=[\"X_train\", \"y_train\"]))\n",
    "print('\\nExpanding forward the outputs:')\n",
    "print(cf.expand_forward(varnames=['model', 'train_acc']))"
   ]
  },
  {
   "cell_type": "markdown",
   "metadata": {},
   "source": [
    "We can perform a full expansion (until we can't go back or forward) with the\n",
    "`.expand()` method:"
   ]
  },
  {
   "cell_type": "code",
   "execution_count": 10,
   "metadata": {},
   "outputs": [
    {
     "data": {
      "text/plain": [
       "ComputationFrame with 7 variable(s) (14 unique refs), 3 operation(s) (7 unique calls)\n",
       "Computational graph:\n",
       "    X_train@output_0, y_train@output_2 = generate_dataset(random_seed=random_seed)\n",
       "    model@output_0, train_acc@output_1 = train_model(X_train=X_train, y_train=y_train, n_estimators=n_estimators)\n",
       "    output_0@output_0 = eval_model(model=model)"
      ]
     },
     "execution_count": 10,
     "metadata": {},
     "output_type": "execute_result"
    }
   ],
   "source": [
    "expanded_cf = cf.expand()\n",
    "expanded_cf"
   ]
  },
  {
   "cell_type": "markdown",
   "metadata": {},
   "source": [
    "Note that the extracted CF represents a \"partial\" computation graph: the\n",
    "variables for `X_test`and `y_test` were not reached during this traversal\n",
    "(though they can be added). Finally, we can (again) extract a dataframe from\n",
    "this CF:"
   ]
  },
  {
   "cell_type": "code",
   "execution_count": 11,
   "metadata": {},
   "outputs": [
    {
     "name": "stdout",
     "output_type": "stream",
     "text": [
      "Extracting tuples from the computation graph:\n",
      "    X_train@output_0, y_train@output_2 = generate_dataset(random_seed=random_seed)\n",
      "    model@output_0, train_acc@output_1 = train_model(y_train=y_train, n_estimators=n_estimators, X_train=X_train)\n",
      "    output_0@output_0 = eval_model(model=model)\n"
     ]
    },
    {
     "data": {
      "text/html": [
       "<div>\n",
       "<style scoped>\n",
       "    .dataframe tbody tr th:only-of-type {\n",
       "        vertical-align: middle;\n",
       "    }\n",
       "\n",
       "    .dataframe tbody tr th {\n",
       "        vertical-align: top;\n",
       "    }\n",
       "\n",
       "    .dataframe thead th {\n",
       "        text-align: right;\n",
       "    }\n",
       "</style>\n",
       "<table border=\"1\" class=\"dataframe\">\n",
       "  <thead>\n",
       "    <tr style=\"text-align: right;\">\n",
       "      <th></th>\n",
       "      <th>n_estimators</th>\n",
       "      <th>random_seed</th>\n",
       "      <th>generate_dataset</th>\n",
       "      <th>train_model</th>\n",
       "      <th>train_acc</th>\n",
       "      <th>model</th>\n",
       "      <th>eval_model</th>\n",
       "      <th>output_0</th>\n",
       "    </tr>\n",
       "  </thead>\n",
       "  <tbody>\n",
       "    <tr>\n",
       "      <th>0</th>\n",
       "      <td>10.0</td>\n",
       "      <td>42</td>\n",
       "      <td>Call(generate_dataset, cid='19a...', hid='c3f....</td>\n",
       "      <td>Call(train_model, cid='c4f...', hid='5f7...')</td>\n",
       "      <td>1.00</td>\n",
       "      <td>(DecisionTreeClassifier(max_features='sqrt', r...</td>\n",
       "      <td>Call(eval_model, cid='898...', hid='ed5...')</td>\n",
       "      <td>0.94</td>\n",
       "    </tr>\n",
       "    <tr>\n",
       "      <th>1</th>\n",
       "      <td>NaN</td>\n",
       "      <td>42</td>\n",
       "      <td>Call(generate_dataset, cid='19a...', hid='c3f....</td>\n",
       "      <td>Call(train_model, cid='ca5...', hid='ac0...')</td>\n",
       "      <td>0.91</td>\n",
       "      <td>(DecisionTreeClassifier(max_features='sqrt', r...</td>\n",
       "      <td>Call(eval_model, cid='e1e...', hid='c5a...')</td>\n",
       "      <td>0.76</td>\n",
       "    </tr>\n",
       "    <tr>\n",
       "      <th>2</th>\n",
       "      <td>100.0</td>\n",
       "      <td>42</td>\n",
       "      <td>Call(generate_dataset, cid='19a...', hid='c3f....</td>\n",
       "      <td>Call(train_model, cid='bb3...', hid='255...')</td>\n",
       "      <td>1.00</td>\n",
       "      <td>(DecisionTreeClassifier(max_features='sqrt', r...</td>\n",
       "      <td>Call(eval_model, cid='5e5...', hid='07b...')</td>\n",
       "      <td>0.98</td>\n",
       "    </tr>\n",
       "  </tbody>\n",
       "</table>\n",
       "</div>"
      ],
      "text/plain": [
       "   n_estimators  random_seed  \\\n",
       "0          10.0           42   \n",
       "1           NaN           42   \n",
       "2         100.0           42   \n",
       "\n",
       "                                    generate_dataset  \\\n",
       "0  Call(generate_dataset, cid='19a...', hid='c3f....   \n",
       "1  Call(generate_dataset, cid='19a...', hid='c3f....   \n",
       "2  Call(generate_dataset, cid='19a...', hid='c3f....   \n",
       "\n",
       "                                     train_model  train_acc  \\\n",
       "0  Call(train_model, cid='c4f...', hid='5f7...')       1.00   \n",
       "1  Call(train_model, cid='ca5...', hid='ac0...')       0.91   \n",
       "2  Call(train_model, cid='bb3...', hid='255...')       1.00   \n",
       "\n",
       "                                               model  \\\n",
       "0  (DecisionTreeClassifier(max_features='sqrt', r...   \n",
       "1  (DecisionTreeClassifier(max_features='sqrt', r...   \n",
       "2  (DecisionTreeClassifier(max_features='sqrt', r...   \n",
       "\n",
       "                                     eval_model  output_0  \n",
       "0  Call(eval_model, cid='898...', hid='ed5...')      0.94  \n",
       "1  Call(eval_model, cid='e1e...', hid='c5a...')      0.76  \n",
       "2  Call(eval_model, cid='5e5...', hid='07b...')      0.98  "
      ]
     },
     "execution_count": 11,
     "metadata": {},
     "output_type": "execute_result"
    }
   ],
   "source": [
    "expanded_cf.get_df().drop(columns=['X_train', 'y_train']) # drop to avoid a bit of clutter"
   ]
  },
  {
   "cell_type": "markdown",
   "metadata": {},
   "source": [
    "## Using computation frames for high-level operations\n",
    "Finally, we can illustrate the use of computation frames for easy declarative\n",
    "operations over the storage, even in the presence of highly heterogeneous\n",
    "experiments. To make this more interesting, let's train some more models:"
   ]
  },
  {
   "cell_type": "code",
   "execution_count": 12,
   "metadata": {},
   "outputs": [
    {
     "name": "stdout",
     "output_type": "stream",
     "text": [
      "Training model...\n",
      "Training model...\n",
      "Training model...\n",
      "Training model...\n"
     ]
    }
   ],
   "source": [
    "@op\n",
    "def train_model(X_train, y_train,\n",
    "                n_estimators=NewArgDefault(1),\n",
    "                max_depth=NewArgDefault(None) # one more backward-compatible argument\n",
    "                ):\n",
    "    print(f\"Training model...\")\n",
    "    model = RandomForestClassifier(n_estimators=n_estimators, max_depth=max_depth)\n",
    "    model.fit(X_train, y_train)\n",
    "    return model, round(model.score(X_train, y_train), 2)\n",
    "\n",
    "with storage: \n",
    "    X_train, X_test, y_train, y_test = generate_dataset()\n",
    "    for n_estimators in [10, 100]:\n",
    "        for max_depth in [1, 2]:\n",
    "            model, train_acc = train_model(X_train, y_train, n_estimators=n_estimators, max_depth=max_depth)"
   ]
  },
  {
   "cell_type": "markdown",
   "metadata": {},
   "source": [
    "We left out the call to `eval_model` on purpose to illustrate how CFs handle\n",
    "heterogeneous and partial computations. \n",
    "\n",
    "As before, we build a big CF by expanding backward and forward from\n",
    "`train_model`, and then extract a dataframe:"
   ]
  },
  {
   "cell_type": "code",
   "execution_count": 13,
   "metadata": {},
   "outputs": [
    {
     "name": "stdout",
     "output_type": "stream",
     "text": [
      "Extracting tuples from the computation graph:\n",
      "    X_train@output_0, y_train@output_2 = generate_dataset(random_seed=random_seed)\n",
      "    model@output_0, train_acc@output_1 = train_model(y_train=y_train, n_estimators=n_estimators, max_depth=max_depth, X_train=X_train)\n",
      "    eval_acc@output_0 = eval_model(model=model)\n"
     ]
    },
    {
     "data": {
      "text/html": [
       "<div>\n",
       "<style scoped>\n",
       "    .dataframe tbody tr th:only-of-type {\n",
       "        vertical-align: middle;\n",
       "    }\n",
       "\n",
       "    .dataframe tbody tr th {\n",
       "        vertical-align: top;\n",
       "    }\n",
       "\n",
       "    .dataframe thead th {\n",
       "        text-align: right;\n",
       "    }\n",
       "</style>\n",
       "<table border=\"1\" class=\"dataframe\">\n",
       "  <thead>\n",
       "    <tr style=\"text-align: right;\">\n",
       "      <th></th>\n",
       "      <th>max_depth</th>\n",
       "      <th>random_seed</th>\n",
       "      <th>generate_dataset</th>\n",
       "      <th>n_estimators</th>\n",
       "      <th>train_model</th>\n",
       "      <th>train_acc</th>\n",
       "      <th>model</th>\n",
       "      <th>eval_model</th>\n",
       "      <th>eval_acc</th>\n",
       "    </tr>\n",
       "  </thead>\n",
       "  <tbody>\n",
       "    <tr>\n",
       "      <th>0</th>\n",
       "      <td>1.0</td>\n",
       "      <td>42</td>\n",
       "      <td>Call(generate_dataset, cid='19a...', hid='c3f....</td>\n",
       "      <td>100.0</td>\n",
       "      <td>Call(train_model, cid='002...', hid='561...')</td>\n",
       "      <td>0.70</td>\n",
       "      <td>(DecisionTreeClassifier(max_depth=1, max_featu...</td>\n",
       "      <td>None</td>\n",
       "      <td>NaN</td>\n",
       "    </tr>\n",
       "    <tr>\n",
       "      <th>1</th>\n",
       "      <td>NaN</td>\n",
       "      <td>42</td>\n",
       "      <td>Call(generate_dataset, cid='19a...', hid='c3f....</td>\n",
       "      <td>NaN</td>\n",
       "      <td>Call(train_model, cid='ca5...', hid='ac0...')</td>\n",
       "      <td>0.91</td>\n",
       "      <td>(DecisionTreeClassifier(max_features='sqrt', r...</td>\n",
       "      <td>Call(eval_model, cid='e1e...', hid='c5a...')</td>\n",
       "      <td>0.76</td>\n",
       "    </tr>\n",
       "    <tr>\n",
       "      <th>2</th>\n",
       "      <td>2.0</td>\n",
       "      <td>42</td>\n",
       "      <td>Call(generate_dataset, cid='19a...', hid='c3f....</td>\n",
       "      <td>100.0</td>\n",
       "      <td>Call(train_model, cid='4f4...', hid='fe1...')</td>\n",
       "      <td>0.84</td>\n",
       "      <td>(DecisionTreeClassifier(max_depth=2, max_featu...</td>\n",
       "      <td>None</td>\n",
       "      <td>NaN</td>\n",
       "    </tr>\n",
       "    <tr>\n",
       "      <th>3</th>\n",
       "      <td>NaN</td>\n",
       "      <td>42</td>\n",
       "      <td>Call(generate_dataset, cid='19a...', hid='c3f....</td>\n",
       "      <td>10.0</td>\n",
       "      <td>Call(train_model, cid='c4f...', hid='5f7...')</td>\n",
       "      <td>1.00</td>\n",
       "      <td>(DecisionTreeClassifier(max_features='sqrt', r...</td>\n",
       "      <td>Call(eval_model, cid='898...', hid='ed5...')</td>\n",
       "      <td>0.94</td>\n",
       "    </tr>\n",
       "    <tr>\n",
       "      <th>4</th>\n",
       "      <td>2.0</td>\n",
       "      <td>42</td>\n",
       "      <td>Call(generate_dataset, cid='19a...', hid='c3f....</td>\n",
       "      <td>10.0</td>\n",
       "      <td>Call(train_model, cid='872...', hid='e61...')</td>\n",
       "      <td>0.71</td>\n",
       "      <td>(DecisionTreeClassifier(max_depth=2, max_featu...</td>\n",
       "      <td>None</td>\n",
       "      <td>NaN</td>\n",
       "    </tr>\n",
       "    <tr>\n",
       "      <th>5</th>\n",
       "      <td>NaN</td>\n",
       "      <td>42</td>\n",
       "      <td>Call(generate_dataset, cid='19a...', hid='c3f....</td>\n",
       "      <td>100.0</td>\n",
       "      <td>Call(train_model, cid='bb3...', hid='255...')</td>\n",
       "      <td>1.00</td>\n",
       "      <td>(DecisionTreeClassifier(max_features='sqrt', r...</td>\n",
       "      <td>Call(eval_model, cid='5e5...', hid='07b...')</td>\n",
       "      <td>0.98</td>\n",
       "    </tr>\n",
       "    <tr>\n",
       "      <th>6</th>\n",
       "      <td>1.0</td>\n",
       "      <td>42</td>\n",
       "      <td>Call(generate_dataset, cid='19a...', hid='c3f....</td>\n",
       "      <td>10.0</td>\n",
       "      <td>Call(train_model, cid='22f...', hid='f56...')</td>\n",
       "      <td>0.59</td>\n",
       "      <td>(DecisionTreeClassifier(max_depth=1, max_featu...</td>\n",
       "      <td>None</td>\n",
       "      <td>NaN</td>\n",
       "    </tr>\n",
       "  </tbody>\n",
       "</table>\n",
       "</div>"
      ],
      "text/plain": [
       "   max_depth  random_seed                                   generate_dataset  \\\n",
       "0        1.0           42  Call(generate_dataset, cid='19a...', hid='c3f....   \n",
       "1        NaN           42  Call(generate_dataset, cid='19a...', hid='c3f....   \n",
       "2        2.0           42  Call(generate_dataset, cid='19a...', hid='c3f....   \n",
       "3        NaN           42  Call(generate_dataset, cid='19a...', hid='c3f....   \n",
       "4        2.0           42  Call(generate_dataset, cid='19a...', hid='c3f....   \n",
       "5        NaN           42  Call(generate_dataset, cid='19a...', hid='c3f....   \n",
       "6        1.0           42  Call(generate_dataset, cid='19a...', hid='c3f....   \n",
       "\n",
       "   n_estimators                                    train_model  train_acc  \\\n",
       "0         100.0  Call(train_model, cid='002...', hid='561...')       0.70   \n",
       "1           NaN  Call(train_model, cid='ca5...', hid='ac0...')       0.91   \n",
       "2         100.0  Call(train_model, cid='4f4...', hid='fe1...')       0.84   \n",
       "3          10.0  Call(train_model, cid='c4f...', hid='5f7...')       1.00   \n",
       "4          10.0  Call(train_model, cid='872...', hid='e61...')       0.71   \n",
       "5         100.0  Call(train_model, cid='bb3...', hid='255...')       1.00   \n",
       "6          10.0  Call(train_model, cid='22f...', hid='f56...')       0.59   \n",
       "\n",
       "                                               model  \\\n",
       "0  (DecisionTreeClassifier(max_depth=1, max_featu...   \n",
       "1  (DecisionTreeClassifier(max_features='sqrt', r...   \n",
       "2  (DecisionTreeClassifier(max_depth=2, max_featu...   \n",
       "3  (DecisionTreeClassifier(max_features='sqrt', r...   \n",
       "4  (DecisionTreeClassifier(max_depth=2, max_featu...   \n",
       "5  (DecisionTreeClassifier(max_features='sqrt', r...   \n",
       "6  (DecisionTreeClassifier(max_depth=1, max_featu...   \n",
       "\n",
       "                                     eval_model  eval_acc  \n",
       "0                                          None       NaN  \n",
       "1  Call(eval_model, cid='e1e...', hid='c5a...')      0.76  \n",
       "2                                          None       NaN  \n",
       "3  Call(eval_model, cid='898...', hid='ed5...')      0.94  \n",
       "4                                          None       NaN  \n",
       "5  Call(eval_model, cid='5e5...', hid='07b...')      0.98  \n",
       "6                                          None       NaN  "
      ]
     },
     "execution_count": 13,
     "metadata": {},
     "output_type": "execute_result"
    }
   ],
   "source": [
    "cf = storage.cf(train_model).expand().rename(vars={'output_0': 'model', 'output_1': 'train_acc', 'output_0_0': 'eval_acc'})\n",
    "# use `lazy_vars` to avoid loading the large arrays which we don't need\n",
    "df = cf.get_df(lazy_vars=['X_train', 'y_train']).drop(columns=['X_train', 'y_train'])\n",
    "df"
   ]
  },
  {
   "cell_type": "markdown",
   "metadata": {},
   "source": [
    "We see that the various missing computational paths show up as `NaN`s in the \n",
    "table, under either variables (e.g. `max_depth`) or operations (e.g.\n",
    "`eval_model`). \n",
    "\n",
    "Suppose we want the models where train accuracy was above 0.8 and max depth was 2. \n",
    "We can do this with familiar dataframe operations:"
   ]
  },
  {
   "cell_type": "code",
   "execution_count": 14,
   "metadata": {},
   "outputs": [
    {
     "data": {
      "text/plain": [
       "[RandomForestClassifier(max_depth=2)]"
      ]
     },
     "execution_count": 14,
     "metadata": {},
     "output_type": "execute_result"
    }
   ],
   "source": [
    "df.query('train_acc > 0.8 and max_depth == 2').model.tolist()"
   ]
  },
  {
   "cell_type": "markdown",
   "metadata": {},
   "source": [
    "Similarly, we can manipulate storage by e.g. deleting calls based on this\n",
    "dataframe. For example, we can delete all calls to `train_model` where \n",
    "`train_acc < 0.8`:"
   ]
  },
  {
   "cell_type": "code",
   "execution_count": 28,
   "metadata": {},
   "outputs": [
    {
     "data": {
      "text/html": [
       "<pre style=\"white-space:pre;overflow-x:auto;line-height:normal;font-family:Menlo,'DejaVu Sans Mono',consolas,'Courier New',monospace\"><span style=\"color: #7fbfbf; text-decoration-color: #7fbfbf\">[00:08:04] </span><span style=\"color: #000080; text-decoration-color: #000080\">INFO    </span> Dropped <span style=\"color: #008080; text-decoration-color: #008080; font-weight: bold\">0</span> calls <span style=\"font-weight: bold\">(</span>and <span style=\"color: #008080; text-decoration-color: #008080; font-weight: bold\">0</span> from cache<span style=\"font-weight: bold\">)</span>.                                              <span style=\"color: #7f7f7f; text-decoration-color: #7f7f7f\">storage.py:346</span>\n",
       "</pre>\n"
      ],
      "text/plain": [
       "\u001b[2;36m[00:08:04]\u001b[0m\u001b[2;36m \u001b[0m\u001b[34mINFO    \u001b[0m Dropped \u001b[1;36m0\u001b[0m calls \u001b[1m(\u001b[0mand \u001b[1;36m0\u001b[0m from cache\u001b[1m)\u001b[0m.                                              \u001b[2mstorage.py\u001b[0m\u001b[2m:\u001b[0m\u001b[2m346\u001b[0m\n"
      ]
     },
     "metadata": {},
     "output_type": "display_data"
    },
    {
     "name": "stdout",
     "output_type": "stream",
     "text": [
      "Extracting tuples from the computation graph:\n",
      "    X_train@output_0, y_train@output_2 = generate_dataset(random_seed=random_seed)\n",
      "    model@output_0, train_acc@output_1 = train_model(y_train=y_train, n_estimators=n_estimators, max_depth=max_depth, X_train=X_train)\n",
      "    eval_acc@output_0 = eval_model(model=model)\n"
     ]
    },
    {
     "data": {
      "text/html": [
       "<div>\n",
       "<style scoped>\n",
       "    .dataframe tbody tr th:only-of-type {\n",
       "        vertical-align: middle;\n",
       "    }\n",
       "\n",
       "    .dataframe tbody tr th {\n",
       "        vertical-align: top;\n",
       "    }\n",
       "\n",
       "    .dataframe thead th {\n",
       "        text-align: right;\n",
       "    }\n",
       "</style>\n",
       "<table border=\"1\" class=\"dataframe\">\n",
       "  <thead>\n",
       "    <tr style=\"text-align: right;\">\n",
       "      <th></th>\n",
       "      <th>max_depth</th>\n",
       "      <th>random_seed</th>\n",
       "      <th>generate_dataset</th>\n",
       "      <th>n_estimators</th>\n",
       "      <th>train_model</th>\n",
       "      <th>train_acc</th>\n",
       "      <th>model</th>\n",
       "      <th>eval_model</th>\n",
       "      <th>eval_acc</th>\n",
       "    </tr>\n",
       "  </thead>\n",
       "  <tbody>\n",
       "    <tr>\n",
       "      <th>0</th>\n",
       "      <td>NaN</td>\n",
       "      <td>42</td>\n",
       "      <td>Call(generate_dataset, cid='19a...', hid='c3f....</td>\n",
       "      <td>10.0</td>\n",
       "      <td>Call(train_model, cid='c4f...', hid='5f7...')</td>\n",
       "      <td>1.00</td>\n",
       "      <td>(DecisionTreeClassifier(max_features='sqrt', r...</td>\n",
       "      <td>Call(eval_model, cid='898...', hid='ed5...')</td>\n",
       "      <td>0.94</td>\n",
       "    </tr>\n",
       "    <tr>\n",
       "      <th>1</th>\n",
       "      <td>2.0</td>\n",
       "      <td>42</td>\n",
       "      <td>Call(generate_dataset, cid='19a...', hid='c3f....</td>\n",
       "      <td>100.0</td>\n",
       "      <td>Call(train_model, cid='4f4...', hid='fe1...')</td>\n",
       "      <td>0.84</td>\n",
       "      <td>(DecisionTreeClassifier(max_depth=2, max_featu...</td>\n",
       "      <td>None</td>\n",
       "      <td>NaN</td>\n",
       "    </tr>\n",
       "    <tr>\n",
       "      <th>2</th>\n",
       "      <td>NaN</td>\n",
       "      <td>42</td>\n",
       "      <td>Call(generate_dataset, cid='19a...', hid='c3f....</td>\n",
       "      <td>100.0</td>\n",
       "      <td>Call(train_model, cid='bb3...', hid='255...')</td>\n",
       "      <td>1.00</td>\n",
       "      <td>(DecisionTreeClassifier(max_features='sqrt', r...</td>\n",
       "      <td>Call(eval_model, cid='5e5...', hid='07b...')</td>\n",
       "      <td>0.98</td>\n",
       "    </tr>\n",
       "    <tr>\n",
       "      <th>3</th>\n",
       "      <td>NaN</td>\n",
       "      <td>42</td>\n",
       "      <td>Call(generate_dataset, cid='19a...', hid='c3f....</td>\n",
       "      <td>NaN</td>\n",
       "      <td>Call(train_model, cid='ca5...', hid='ac0...')</td>\n",
       "      <td>0.91</td>\n",
       "      <td>(DecisionTreeClassifier(max_features='sqrt', r...</td>\n",
       "      <td>Call(eval_model, cid='e1e...', hid='c5a...')</td>\n",
       "      <td>0.76</td>\n",
       "    </tr>\n",
       "  </tbody>\n",
       "</table>\n",
       "</div>"
      ],
      "text/plain": [
       "   max_depth  random_seed                                   generate_dataset  \\\n",
       "0        NaN           42  Call(generate_dataset, cid='19a...', hid='c3f....   \n",
       "1        2.0           42  Call(generate_dataset, cid='19a...', hid='c3f....   \n",
       "2        NaN           42  Call(generate_dataset, cid='19a...', hid='c3f....   \n",
       "3        NaN           42  Call(generate_dataset, cid='19a...', hid='c3f....   \n",
       "\n",
       "   n_estimators                                    train_model  train_acc  \\\n",
       "0          10.0  Call(train_model, cid='c4f...', hid='5f7...')       1.00   \n",
       "1         100.0  Call(train_model, cid='4f4...', hid='fe1...')       0.84   \n",
       "2         100.0  Call(train_model, cid='bb3...', hid='255...')       1.00   \n",
       "3           NaN  Call(train_model, cid='ca5...', hid='ac0...')       0.91   \n",
       "\n",
       "                                               model  \\\n",
       "0  (DecisionTreeClassifier(max_features='sqrt', r...   \n",
       "1  (DecisionTreeClassifier(max_depth=2, max_featu...   \n",
       "2  (DecisionTreeClassifier(max_features='sqrt', r...   \n",
       "3  (DecisionTreeClassifier(max_features='sqrt', r...   \n",
       "\n",
       "                                     eval_model  eval_acc  \n",
       "0  Call(eval_model, cid='898...', hid='ed5...')      0.94  \n",
       "1                                          None       NaN  \n",
       "2  Call(eval_model, cid='5e5...', hid='07b...')      0.98  \n",
       "3  Call(eval_model, cid='e1e...', hid='c5a...')      0.76  "
      ]
     },
     "execution_count": 28,
     "metadata": {},
     "output_type": "execute_result"
    }
   ],
   "source": [
    "storage.drop_calls(df.query('train_acc < 0.8').train_model, delete_dependents=True)\n",
    "# now check that the dropped calls are gone\n",
    "cf = storage.cf(train_model).expand().rename(vars={'output_0': 'model', 'output_1': 'train_acc', 'output_0_0': 'eval_acc'})\n",
    "cf.get_df(lazy_vars=['X_train', 'y_train']).drop(columns=['X_train', 'y_train'])"
   ]
  },
  {
   "cell_type": "code",
   "execution_count": 29,
   "metadata": {},
   "outputs": [
    {
     "name": "stdout",
     "output_type": "stream",
     "text": [
      "\n",
      "    digraph G {\n",
      "        graph [ overlap=\"scale\",rankdir=\"TB\",fontname=\"RobotoMono\",fontsize=\"10\",fontcolor=\"#002b36ff\" ];\n",
      "            node [ style=\"rounded\",shape=\"rect\",fontname=\"RobotoMono\",fontsize=\"10\",fontcolor=\"#002b36ff\" ];\n",
      "            edge [ fontname=\"RobotoMono\",fontsize=\"10\",fontcolor=\"#002b36ff\" ];\n",
      "        \"X_train\" [label=<<B><FONT POINT-SIZE=\"12\">X_train</FONT></B><BR/><FONT color=\"#268bd2ff\" point-size=\"10\">1 refs</FONT><BR/>>, color=\"#268bd2ff\", shape=\"rect\"];\n",
      "            \"model\" [label=<<B><FONT POINT-SIZE=\"12\">model</FONT></B><BR/><FONT color=\"#268bd2ff\" point-size=\"10\">4 refs</FONT><BR/><FONT color=\"#002b36ff\" point-size=\"10\">1 sink refs</FONT><BR/>>, color=\"#268bd2ff\", shape=\"rect\"];\n",
      "            \"n_estimators\" [label=<<B><FONT POINT-SIZE=\"12\">n_estimators</FONT></B><BR/><FONT color=\"#268bd2ff\" point-size=\"10\">2 refs</FONT><BR/><FONT color=\"#002b36ff\" point-size=\"10\">2 source refs</FONT><BR/>>, color=\"#268bd2ff\", shape=\"rect\"];\n",
      "            \"y_train\" [label=<<B><FONT POINT-SIZE=\"12\">y_train</FONT></B><BR/><FONT color=\"#268bd2ff\" point-size=\"10\">1 refs</FONT><BR/>>, color=\"#268bd2ff\", shape=\"rect\"];\n",
      "            \"random_seed\" [label=<<B><FONT POINT-SIZE=\"12\">random_seed</FONT></B><BR/><FONT color=\"#268bd2ff\" point-size=\"10\">1 refs</FONT><BR/><FONT color=\"#002b36ff\" point-size=\"10\">1 source refs</FONT><BR/>>, color=\"#268bd2ff\", shape=\"rect\"];\n",
      "            \"eval_acc\" [label=<<B><FONT POINT-SIZE=\"12\">eval_acc</FONT></B><BR/><FONT color=\"#268bd2ff\" point-size=\"10\">3 refs</FONT><BR/><FONT color=\"#002b36ff\" point-size=\"10\">3 sink refs</FONT><BR/>>, color=\"#268bd2ff\", shape=\"rect\"];\n",
      "            \"train_acc\" [label=<<B><FONT POINT-SIZE=\"12\">train_acc</FONT></B><BR/><FONT color=\"#268bd2ff\" point-size=\"10\">4 refs</FONT><BR/><FONT color=\"#002b36ff\" point-size=\"10\">4 sink refs</FONT><BR/>>, color=\"#268bd2ff\", shape=\"rect\"];\n",
      "            \"max_depth\" [label=<<B><FONT POINT-SIZE=\"12\">max_depth</FONT></B><BR/><FONT color=\"#268bd2ff\" point-size=\"10\">1 refs</FONT><BR/><FONT color=\"#002b36ff\" point-size=\"10\">1 source refs</FONT><BR/>>, color=\"#268bd2ff\", shape=\"rect\"];\n",
      "            \"generate_dataset\" [label=<<B><FONT POINT-SIZE=\"12\">generate_dataset</FONT></B><BR/><FONT color=\"#002b36ff\" point-size=\"10\">@op:generate_dataset</FONT><BR/><FONT color=\"#dc322fff\" point-size=\"10\">1 calls</FONT><BR/>>, color=\"#dc322fff\", shape=\"rect\"];\n",
      "            \"eval_model\" [label=<<B><FONT POINT-SIZE=\"12\">eval_model</FONT></B><BR/><FONT color=\"#002b36ff\" point-size=\"10\">@op:eval_model</FONT><BR/><FONT color=\"#dc322fff\" point-size=\"10\">3 calls</FONT><BR/>>, color=\"#dc322fff\", shape=\"rect\"];\n",
      "            \"train_model\" [label=<<B><FONT POINT-SIZE=\"12\">train_model</FONT></B><BR/><FONT color=\"#002b36ff\" point-size=\"10\">@op:train_model</FONT><BR/><FONT color=\"#dc322fff\" point-size=\"10\">4 calls</FONT><BR/>>, color=\"#dc322fff\", shape=\"rect\"];\n",
      "        \"train_model\" -> \"model\" [label=\"output_0\", color=\"#002b36ff\"];\n",
      "            \"train_model\" -> \"train_acc\" [label=\"output_1\", color=\"#002b36ff\"];\n",
      "            \"X_train\" -> \"train_model\" [label=\"X_train\", color=\"#002b36ff\"];\n",
      "            \"max_depth\" -> \"train_model\" [label=\"max_depth\", color=\"#002b36ff\"];\n",
      "            \"y_train\" -> \"train_model\" [label=\"y_train\", color=\"#002b36ff\"];\n",
      "            \"n_estimators\" -> \"train_model\" [label=\"n_estimators\", color=\"#002b36ff\"];\n",
      "            \"generate_dataset\" -> \"X_train\" [label=\"output_0\", color=\"#002b36ff\"];\n",
      "            \"generate_dataset\" -> \"y_train\" [label=\"output_2\", color=\"#002b36ff\"];\n",
      "            \"random_seed\" -> \"generate_dataset\" [label=\"random_seed\", color=\"#002b36ff\"];\n",
      "            \"eval_model\" -> \"eval_acc\" [label=\"output_0\", color=\"#002b36ff\"];\n",
      "            \"model\" -> \"eval_model\" [label=\"model\", color=\"#002b36ff\"];\n",
      "        \n",
      "        }\n",
      "    \n"
     ]
    },
    {
     "data": {
      "image/svg+xml": [
       "<?xml version=\"1.0\" encoding=\"UTF-8\" standalone=\"no\"?>\n",
       "<!DOCTYPE svg PUBLIC \"-//W3C//DTD SVG 1.1//EN\"\n",
       " \"http://www.w3.org/Graphics/SVG/1.1/DTD/svg11.dtd\">\n",
       "<!-- Generated by graphviz version 2.43.0 (0)\n",
       " -->\n",
       "<!-- Title: G Pages: 1 -->\n",
       "<svg width=\"384pt\" height=\"570pt\"\n",
       " viewBox=\"0.00 0.00 383.50 570.00\" xmlns=\"http://www.w3.org/2000/svg\" xmlns:xlink=\"http://www.w3.org/1999/xlink\">\n",
       "<g id=\"graph0\" class=\"graph\" transform=\"scale(1 1) rotate(0) translate(4 566)\">\n",
       "<title>G</title>\n",
       "<polygon fill=\"white\" stroke=\"transparent\" points=\"-4,4 -4,-566 379.5,-566 379.5,4 -4,4\"/>\n",
       "<!-- X_train -->\n",
       "<g id=\"node1\" class=\"node\">\n",
       "<title>X_train</title>\n",
       "<path fill=\"none\" stroke=\"#268bd2\" d=\"M175.5,-386C175.5,-386 135.5,-386 135.5,-386 129.5,-386 123.5,-380 123.5,-374 123.5,-374 123.5,-362 123.5,-362 123.5,-356 129.5,-350 135.5,-350 135.5,-350 175.5,-350 175.5,-350 181.5,-350 187.5,-356 187.5,-362 187.5,-362 187.5,-374 187.5,-374 187.5,-380 181.5,-386 175.5,-386\"/>\n",
       "<text text-anchor=\"start\" x=\"131.5\" y=\"-370.4\" font-family=\"RobotoMono\" font-weight=\"bold\" font-size=\"12.00\" fill=\"#002b36\">X_train</text>\n",
       "<text text-anchor=\"start\" x=\"141.5\" y=\"-360\" font-family=\"RobotoMono\" font-size=\"10.00\" fill=\"#268bd2\">1 refs</text>\n",
       "</g>\n",
       "<!-- train_model -->\n",
       "<g id=\"node11\" class=\"node\">\n",
       "<title>train_model</title>\n",
       "<path fill=\"none\" stroke=\"#dc322f\" d=\"M239.5,-301C239.5,-301 163.5,-301 163.5,-301 157.5,-301 151.5,-295 151.5,-289 151.5,-289 151.5,-273 151.5,-273 151.5,-267 157.5,-261 163.5,-261 163.5,-261 239.5,-261 239.5,-261 245.5,-261 251.5,-267 251.5,-273 251.5,-273 251.5,-289 251.5,-289 251.5,-295 245.5,-301 239.5,-301\"/>\n",
       "<text text-anchor=\"start\" x=\"161.5\" y=\"-288.4\" font-family=\"RobotoMono\" font-weight=\"bold\" font-size=\"12.00\" fill=\"#002b36\">train_model</text>\n",
       "<text text-anchor=\"start\" x=\"159.5\" y=\"-278\" font-family=\"RobotoMono\" font-size=\"10.00\" fill=\"#002b36\">@op:train_model</text>\n",
       "<text text-anchor=\"start\" x=\"185.5\" y=\"-268\" font-family=\"RobotoMono\" font-size=\"10.00\" fill=\"#dc322f\">4 calls</text>\n",
       "</g>\n",
       "<!-- X_train&#45;&gt;train_model -->\n",
       "<g id=\"edge3\" class=\"edge\">\n",
       "<title>X_train&#45;&gt;train_model</title>\n",
       "<path fill=\"none\" stroke=\"#002b36\" d=\"M162.65,-349.82C166.69,-340.53 172.02,-328.96 177.5,-319 179.17,-315.96 181.01,-312.83 182.89,-309.74\"/>\n",
       "<polygon fill=\"#002b36\" stroke=\"#002b36\" points=\"185.87,-311.58 188.25,-301.26 179.95,-307.85 185.87,-311.58\"/>\n",
       "<text text-anchor=\"middle\" x=\"195\" y=\"-322\" font-family=\"RobotoMono\" font-size=\"10.00\" fill=\"#002b36\">X_train</text>\n",
       "</g>\n",
       "<!-- model -->\n",
       "<g id=\"node2\" class=\"node\">\n",
       "<title>model</title>\n",
       "<path fill=\"none\" stroke=\"#268bd2\" d=\"M177.5,-214C177.5,-214 133.5,-214 133.5,-214 127.5,-214 121.5,-208 121.5,-202 121.5,-202 121.5,-186 121.5,-186 121.5,-180 127.5,-174 133.5,-174 133.5,-174 177.5,-174 177.5,-174 183.5,-174 189.5,-180 189.5,-186 189.5,-186 189.5,-202 189.5,-202 189.5,-208 183.5,-214 177.5,-214\"/>\n",
       "<text text-anchor=\"start\" x=\"134.5\" y=\"-201.4\" font-family=\"RobotoMono\" font-weight=\"bold\" font-size=\"12.00\" fill=\"#002b36\">model</text>\n",
       "<text text-anchor=\"start\" x=\"141.5\" y=\"-191\" font-family=\"RobotoMono\" font-size=\"10.00\" fill=\"#268bd2\">4 refs</text>\n",
       "<text text-anchor=\"start\" x=\"129.5\" y=\"-181\" font-family=\"RobotoMono\" font-size=\"10.00\" fill=\"#002b36\">1 sink refs</text>\n",
       "</g>\n",
       "<!-- eval_model -->\n",
       "<g id=\"node10\" class=\"node\">\n",
       "<title>eval_model</title>\n",
       "<path fill=\"none\" stroke=\"#dc322f\" d=\"M192.5,-127C192.5,-127 118.5,-127 118.5,-127 112.5,-127 106.5,-121 106.5,-115 106.5,-115 106.5,-99 106.5,-99 106.5,-93 112.5,-87 118.5,-87 118.5,-87 192.5,-87 192.5,-87 198.5,-87 204.5,-93 204.5,-99 204.5,-99 204.5,-115 204.5,-115 204.5,-121 198.5,-127 192.5,-127\"/>\n",
       "<text text-anchor=\"start\" x=\"117.5\" y=\"-114.4\" font-family=\"RobotoMono\" font-weight=\"bold\" font-size=\"12.00\" fill=\"#002b36\">eval_model</text>\n",
       "<text text-anchor=\"start\" x=\"114.5\" y=\"-104\" font-family=\"RobotoMono\" font-size=\"10.00\" fill=\"#002b36\">@op:eval_model</text>\n",
       "<text text-anchor=\"start\" x=\"139.5\" y=\"-94\" font-family=\"RobotoMono\" font-size=\"10.00\" fill=\"#dc322f\">3 calls</text>\n",
       "</g>\n",
       "<!-- model&#45;&gt;eval_model -->\n",
       "<g id=\"edge11\" class=\"edge\">\n",
       "<title>model&#45;&gt;eval_model</title>\n",
       "<path fill=\"none\" stroke=\"#002b36\" d=\"M155.5,-173.71C155.5,-162.95 155.5,-149.33 155.5,-137.28\"/>\n",
       "<polygon fill=\"#002b36\" stroke=\"#002b36\" points=\"159,-137.21 155.5,-127.21 152,-137.21 159,-137.21\"/>\n",
       "<text text-anchor=\"middle\" x=\"171\" y=\"-148\" font-family=\"RobotoMono\" font-size=\"10.00\" fill=\"#002b36\">model</text>\n",
       "</g>\n",
       "<!-- n_estimators -->\n",
       "<g id=\"node3\" class=\"node\">\n",
       "<title>n_estimators</title>\n",
       "<path fill=\"none\" stroke=\"#268bd2\" d=\"M93,-388C93,-388 12,-388 12,-388 6,-388 0,-382 0,-376 0,-376 0,-360 0,-360 0,-354 6,-348 12,-348 12,-348 93,-348 93,-348 99,-348 105,-354 105,-360 105,-360 105,-376 105,-376 105,-382 99,-388 93,-388\"/>\n",
       "<text text-anchor=\"start\" x=\"8\" y=\"-375.4\" font-family=\"RobotoMono\" font-weight=\"bold\" font-size=\"12.00\" fill=\"#002b36\">n_estimators</text>\n",
       "<text text-anchor=\"start\" x=\"38.5\" y=\"-365\" font-family=\"RobotoMono\" font-size=\"10.00\" fill=\"#268bd2\">2 refs</text>\n",
       "<text text-anchor=\"start\" x=\"20.5\" y=\"-355\" font-family=\"RobotoMono\" font-size=\"10.00\" fill=\"#002b36\">2 source refs</text>\n",
       "</g>\n",
       "<!-- n_estimators&#45;&gt;train_model -->\n",
       "<g id=\"edge6\" class=\"edge\">\n",
       "<title>n_estimators&#45;&gt;train_model</title>\n",
       "<path fill=\"none\" stroke=\"#002b36\" d=\"M69.45,-347.77C78.74,-338.12 90.92,-326.86 103.5,-319 115.29,-311.64 128.78,-305.37 141.9,-300.21\"/>\n",
       "<polygon fill=\"#002b36\" stroke=\"#002b36\" points=\"143.24,-303.44 151.36,-296.64 140.77,-296.89 143.24,-303.44\"/>\n",
       "<text text-anchor=\"middle\" x=\"135.5\" y=\"-322\" font-family=\"RobotoMono\" font-size=\"10.00\" fill=\"#002b36\">n_estimators</text>\n",
       "</g>\n",
       "<!-- y_train -->\n",
       "<g id=\"node4\" class=\"node\">\n",
       "<title>y_train</title>\n",
       "<path fill=\"none\" stroke=\"#268bd2\" d=\"M255.5,-386C255.5,-386 217.5,-386 217.5,-386 211.5,-386 205.5,-380 205.5,-374 205.5,-374 205.5,-362 205.5,-362 205.5,-356 211.5,-350 217.5,-350 217.5,-350 255.5,-350 255.5,-350 261.5,-350 267.5,-356 267.5,-362 267.5,-362 267.5,-374 267.5,-374 267.5,-380 261.5,-386 255.5,-386\"/>\n",
       "<text text-anchor=\"start\" x=\"213.5\" y=\"-370.4\" font-family=\"RobotoMono\" font-weight=\"bold\" font-size=\"12.00\" fill=\"#002b36\">y_train</text>\n",
       "<text text-anchor=\"start\" x=\"222.5\" y=\"-360\" font-family=\"RobotoMono\" font-size=\"10.00\" fill=\"#268bd2\">1 refs</text>\n",
       "</g>\n",
       "<!-- y_train&#45;&gt;train_model -->\n",
       "<g id=\"edge5\" class=\"edge\">\n",
       "<title>y_train&#45;&gt;train_model</title>\n",
       "<path fill=\"none\" stroke=\"#002b36\" d=\"M229.42,-349.8C224.8,-338.59 218.66,-323.69 213.32,-310.71\"/>\n",
       "<polygon fill=\"#002b36\" stroke=\"#002b36\" points=\"216.47,-309.17 209.43,-301.25 210,-311.83 216.47,-309.17\"/>\n",
       "<text text-anchor=\"middle\" x=\"237.5\" y=\"-322\" font-family=\"RobotoMono\" font-size=\"10.00\" fill=\"#002b36\">y_train</text>\n",
       "</g>\n",
       "<!-- random_seed -->\n",
       "<g id=\"node5\" class=\"node\">\n",
       "<title>random_seed</title>\n",
       "<path fill=\"none\" stroke=\"#268bd2\" d=\"M237,-562C237,-562 154,-562 154,-562 148,-562 142,-556 142,-550 142,-550 142,-534 142,-534 142,-528 148,-522 154,-522 154,-522 237,-522 237,-522 243,-522 249,-528 249,-534 249,-534 249,-550 249,-550 249,-556 243,-562 237,-562\"/>\n",
       "<text text-anchor=\"start\" x=\"150\" y=\"-549.4\" font-family=\"RobotoMono\" font-weight=\"bold\" font-size=\"12.00\" fill=\"#002b36\">random_seed</text>\n",
       "<text text-anchor=\"start\" x=\"181.5\" y=\"-539\" font-family=\"RobotoMono\" font-size=\"10.00\" fill=\"#268bd2\">1 refs</text>\n",
       "<text text-anchor=\"start\" x=\"163.5\" y=\"-529\" font-family=\"RobotoMono\" font-size=\"10.00\" fill=\"#002b36\">1 source refs</text>\n",
       "</g>\n",
       "<!-- generate_dataset -->\n",
       "<g id=\"node9\" class=\"node\">\n",
       "<title>generate_dataset</title>\n",
       "<path fill=\"none\" stroke=\"#dc322f\" d=\"M252,-475C252,-475 139,-475 139,-475 133,-475 127,-469 127,-463 127,-463 127,-447 127,-447 127,-441 133,-435 139,-435 139,-435 252,-435 252,-435 258,-435 264,-441 264,-447 264,-447 264,-463 264,-463 264,-469 258,-475 252,-475\"/>\n",
       "<text text-anchor=\"start\" x=\"135\" y=\"-462.4\" font-family=\"RobotoMono\" font-weight=\"bold\" font-size=\"12.00\" fill=\"#002b36\">generate_dataset</text>\n",
       "<text text-anchor=\"start\" x=\"140\" y=\"-452\" font-family=\"RobotoMono\" font-size=\"10.00\" fill=\"#002b36\">@op:generate_dataset</text>\n",
       "<text text-anchor=\"start\" x=\"179.5\" y=\"-442\" font-family=\"RobotoMono\" font-size=\"10.00\" fill=\"#dc322f\">1 calls</text>\n",
       "</g>\n",
       "<!-- random_seed&#45;&gt;generate_dataset -->\n",
       "<g id=\"edge9\" class=\"edge\">\n",
       "<title>random_seed&#45;&gt;generate_dataset</title>\n",
       "<path fill=\"none\" stroke=\"#002b36\" d=\"M195.5,-521.71C195.5,-510.95 195.5,-497.33 195.5,-485.28\"/>\n",
       "<polygon fill=\"#002b36\" stroke=\"#002b36\" points=\"199,-485.21 195.5,-475.21 192,-485.21 199,-485.21\"/>\n",
       "<text text-anchor=\"middle\" x=\"229\" y=\"-496\" font-family=\"RobotoMono\" font-size=\"10.00\" fill=\"#002b36\">random_seed</text>\n",
       "</g>\n",
       "<!-- eval_acc -->\n",
       "<g id=\"node6\" class=\"node\">\n",
       "<title>eval_acc</title>\n",
       "<path fill=\"none\" stroke=\"#268bd2\" d=\"M179.5,-40C179.5,-40 131.5,-40 131.5,-40 125.5,-40 119.5,-34 119.5,-28 119.5,-28 119.5,-12 119.5,-12 119.5,-6 125.5,0 131.5,0 131.5,0 179.5,0 179.5,0 185.5,0 191.5,-6 191.5,-12 191.5,-12 191.5,-28 191.5,-28 191.5,-34 185.5,-40 179.5,-40\"/>\n",
       "<text text-anchor=\"start\" x=\"127.5\" y=\"-27.4\" font-family=\"RobotoMono\" font-weight=\"bold\" font-size=\"12.00\" fill=\"#002b36\">eval_acc</text>\n",
       "<text text-anchor=\"start\" x=\"141.5\" y=\"-17\" font-family=\"RobotoMono\" font-size=\"10.00\" fill=\"#268bd2\">3 refs</text>\n",
       "<text text-anchor=\"start\" x=\"129.5\" y=\"-7\" font-family=\"RobotoMono\" font-size=\"10.00\" fill=\"#002b36\">3 sink refs</text>\n",
       "</g>\n",
       "<!-- train_acc -->\n",
       "<g id=\"node7\" class=\"node\">\n",
       "<title>train_acc</title>\n",
       "<path fill=\"none\" stroke=\"#268bd2\" d=\"M273,-214C273,-214 220,-214 220,-214 214,-214 208,-208 208,-202 208,-202 208,-186 208,-186 208,-180 214,-174 220,-174 220,-174 273,-174 273,-174 279,-174 285,-180 285,-186 285,-186 285,-202 285,-202 285,-208 279,-214 273,-214\"/>\n",
       "<text text-anchor=\"start\" x=\"216\" y=\"-201.4\" font-family=\"RobotoMono\" font-weight=\"bold\" font-size=\"12.00\" fill=\"#002b36\">train_acc</text>\n",
       "<text text-anchor=\"start\" x=\"232.5\" y=\"-191\" font-family=\"RobotoMono\" font-size=\"10.00\" fill=\"#268bd2\">4 refs</text>\n",
       "<text text-anchor=\"start\" x=\"220.5\" y=\"-181\" font-family=\"RobotoMono\" font-size=\"10.00\" fill=\"#002b36\">4 sink refs</text>\n",
       "</g>\n",
       "<!-- max_depth -->\n",
       "<g id=\"node8\" class=\"node\">\n",
       "<title>max_depth</title>\n",
       "<path fill=\"none\" stroke=\"#268bd2\" d=\"M363.5,-388C363.5,-388 297.5,-388 297.5,-388 291.5,-388 285.5,-382 285.5,-376 285.5,-376 285.5,-360 285.5,-360 285.5,-354 291.5,-348 297.5,-348 297.5,-348 363.5,-348 363.5,-348 369.5,-348 375.5,-354 375.5,-360 375.5,-360 375.5,-376 375.5,-376 375.5,-382 369.5,-388 363.5,-388\"/>\n",
       "<text text-anchor=\"start\" x=\"293.5\" y=\"-375.4\" font-family=\"RobotoMono\" font-weight=\"bold\" font-size=\"12.00\" fill=\"#002b36\">max_depth</text>\n",
       "<text text-anchor=\"start\" x=\"316.5\" y=\"-365\" font-family=\"RobotoMono\" font-size=\"10.00\" fill=\"#268bd2\">1 refs</text>\n",
       "<text text-anchor=\"start\" x=\"298.5\" y=\"-355\" font-family=\"RobotoMono\" font-size=\"10.00\" fill=\"#002b36\">1 source refs</text>\n",
       "</g>\n",
       "<!-- max_depth&#45;&gt;train_model -->\n",
       "<g id=\"edge4\" class=\"edge\">\n",
       "<title>max_depth&#45;&gt;train_model</title>\n",
       "<path fill=\"none\" stroke=\"#002b36\" d=\"M302.17,-348C288.93,-339.15 272.93,-328.5 258.5,-319 252.4,-314.99 245.92,-310.75 239.6,-306.64\"/>\n",
       "<polygon fill=\"#002b36\" stroke=\"#002b36\" points=\"241.42,-303.65 231.13,-301.14 237.61,-309.52 241.42,-303.65\"/>\n",
       "<text text-anchor=\"middle\" x=\"301\" y=\"-322\" font-family=\"RobotoMono\" font-size=\"10.00\" fill=\"#002b36\">max_depth</text>\n",
       "</g>\n",
       "<!-- generate_dataset&#45;&gt;X_train -->\n",
       "<g id=\"edge7\" class=\"edge\">\n",
       "<title>generate_dataset&#45;&gt;X_train</title>\n",
       "<path fill=\"none\" stroke=\"#002b36\" d=\"M178.81,-434.99C174.63,-429.48 170.49,-423.25 167.5,-417 164.36,-410.44 161.99,-402.97 160.21,-395.91\"/>\n",
       "<polygon fill=\"#002b36\" stroke=\"#002b36\" points=\"163.6,-395.02 158.03,-386.01 156.76,-396.53 163.6,-395.02\"/>\n",
       "<text text-anchor=\"middle\" x=\"189\" y=\"-409\" font-family=\"RobotoMono\" font-size=\"10.00\" fill=\"#002b36\">output_0</text>\n",
       "</g>\n",
       "<!-- generate_dataset&#45;&gt;y_train -->\n",
       "<g id=\"edge8\" class=\"edge\">\n",
       "<title>generate_dataset&#45;&gt;y_train</title>\n",
       "<path fill=\"none\" stroke=\"#002b36\" d=\"M204.8,-434.71C210.41,-423.08 217.64,-408.1 223.77,-395.39\"/>\n",
       "<polygon fill=\"#002b36\" stroke=\"#002b36\" points=\"227.01,-396.72 228.21,-386.19 220.71,-393.68 227.01,-396.72\"/>\n",
       "<text text-anchor=\"middle\" x=\"239\" y=\"-409\" font-family=\"RobotoMono\" font-size=\"10.00\" fill=\"#002b36\">output_2</text>\n",
       "</g>\n",
       "<!-- eval_model&#45;&gt;eval_acc -->\n",
       "<g id=\"edge10\" class=\"edge\">\n",
       "<title>eval_model&#45;&gt;eval_acc</title>\n",
       "<path fill=\"none\" stroke=\"#002b36\" d=\"M155.5,-86.71C155.5,-75.95 155.5,-62.33 155.5,-50.28\"/>\n",
       "<polygon fill=\"#002b36\" stroke=\"#002b36\" points=\"159,-50.21 155.5,-40.21 152,-50.21 159,-50.21\"/>\n",
       "<text text-anchor=\"middle\" x=\"177\" y=\"-61\" font-family=\"RobotoMono\" font-size=\"10.00\" fill=\"#002b36\">output_0</text>\n",
       "</g>\n",
       "<!-- train_model&#45;&gt;model -->\n",
       "<g id=\"edge1\" class=\"edge\">\n",
       "<title>train_model&#45;&gt;model</title>\n",
       "<path fill=\"none\" stroke=\"#002b36\" d=\"M185.28,-260.75C181.1,-255.24 176.84,-249.07 173.5,-243 170.23,-237.06 167.32,-230.42 164.83,-224\"/>\n",
       "<polygon fill=\"#002b36\" stroke=\"#002b36\" points=\"168,-222.46 161.29,-214.25 161.41,-224.84 168,-222.46\"/>\n",
       "<text text-anchor=\"middle\" x=\"195\" y=\"-235\" font-family=\"RobotoMono\" font-size=\"10.00\" fill=\"#002b36\">output_0</text>\n",
       "</g>\n",
       "<!-- train_model&#45;&gt;train_acc -->\n",
       "<g id=\"edge2\" class=\"edge\">\n",
       "<title>train_model&#45;&gt;train_acc</title>\n",
       "<path fill=\"none\" stroke=\"#002b36\" d=\"M211.71,-260.71C217.58,-249.63 225.06,-235.5 231.57,-223.19\"/>\n",
       "<polygon fill=\"#002b36\" stroke=\"#002b36\" points=\"234.74,-224.69 236.33,-214.21 228.56,-221.41 234.74,-224.69\"/>\n",
       "<text text-anchor=\"middle\" x=\"248\" y=\"-235\" font-family=\"RobotoMono\" font-size=\"10.00\" fill=\"#002b36\">output_1</text>\n",
       "</g>\n",
       "</g>\n",
       "</svg>\n"
      ],
      "text/plain": [
       "<graphviz.sources.Source at 0x7eef48f79f00>"
      ]
     },
     "metadata": {},
     "output_type": "display_data"
    }
   ],
   "source": [
    "cf.draw(verbose=True, orientation='TB')"
   ]
  }
 ],
 "metadata": {
  "kernelspec": {
   "display_name": "Python 3.10.8",
   "language": "python",
   "name": "python3"
  },
  "language_info": {
   "codemirror_mode": {
    "name": "ipython",
    "version": 3
   },
   "file_extension": ".py",
   "mimetype": "text/x-python",
   "name": "python",
   "nbconvert_exporter": "python",
   "pygments_lexer": "ipython3",
   "version": "3.10.8"
  },
  "orig_nbformat": 4,
  "vscode": {
   "interpreter": {
    "hash": "30c0510467e0bc33a523a84a8acb20ce0730b8eb0ee254a4b0039140f094f217"
   }
  }
 },
 "nbformat": 4,
 "nbformat_minor": 2
}
