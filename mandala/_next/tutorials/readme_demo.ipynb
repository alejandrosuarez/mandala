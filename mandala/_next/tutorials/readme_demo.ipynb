{
 "cells": [
  {
   "cell_type": "code",
   "execution_count": 1,
   "metadata": {},
   "outputs": [],
   "source": [
    "from mandala._next.imports import *\n",
    "from mandala._next.utils import *\n",
    "from sklearn.datasets import load_digits\n",
    "from sklearn.ensemble import RandomForestClassifier\n",
    "\n",
    "storage = Storage(deps_path=\"__main__\")"
   ]
  },
  {
   "cell_type": "code",
   "execution_count": 29,
   "metadata": {},
   "outputs": [],
   "source": [
    "@op\n",
    "def load_data(n_class):\n",
    "    print('loading data')\n",
    "    return load_digits(n_class=n_class, return_X_y=True)\n",
    "\n",
    "@op\n",
    "def train_model(X, y, n_estimators):\n",
    "    print('training model')\n",
    "    return RandomForestClassifier(max_depth=2, n_estimators=n_estimators).fit(X, y)\n",
    "\n",
    "@op\n",
    "def get_acc(model, X, y):\n",
    "    print('computing accuracy')\n",
    "    return round(model.score(X, y), 3)"
   ]
  },
  {
   "cell_type": "code",
   "execution_count": null,
   "metadata": {},
   "outputs": [],
   "source": [
    "with storage:\n",
    "    for n_class in (2, 5):\n",
    "        X, y = load_data(n_class=n_class)\n",
    "        for n_estimators in (10, 20):\n",
    "            model = train_model(X, y, n_estimators)\n",
    "            acc = get_acc(model, X, y)"
   ]
  },
  {
   "cell_type": "markdown",
   "metadata": {},
   "source": [
    "Sounds great. I am now brainstorming the text for a very concise but effective Colab notebook introducing the main ideas of the library in a toy setting (so, the functions being memoized will be simple arithmetic ones to keep things short and not to distract from the main messages). \n",
    "\n",
    "For background: the library is based on two main constructs, an @op decorator, and the ComputationFrame class. The @op decorator is a memoizing decorator that also (optionally) tracks the code and dependencies of the function at the time it is called. Importantly, @op-decorated functions are designed to be composed with each other. The ComputationFrame is then used to navigate the shared storage of the @op functions as we have discussed. "
   ]
  },
  {
   "cell_type": "markdown",
   "metadata": {},
   "source": [
    "# A quick intro to `mandala`\n",
    "\n",
    "# The `@op` decorator: memoization and versioning in a shared storage\n",
    "`@op` tracks the inputs, outputs, code and dependencies of calls to Python\n",
    "functions. The same call is never executed twice:\n",
    "\n",
    "```python\n",
    "from mandala._next.imports import *\n",
    "\n",
    "storage = Storage(deps_path='__main__') # stores all `@op` calls\n",
    "\n",
    "@op\n",
    "def inc(x):\n",
    "    print(\"Hello from inc!\")\n",
    "    return x + 1\n",
    "\n",
    "with storage:\n",
    "    a = inc(1)\n",
    "    b = inc(1) # this will not be executed, but reused\n",
    "```\n",
    "\n",
    "\n",
    "# `ComputationFrame`s: generalized dataframes for program traces\n",
    "\n",
    "`@op`s are designed to be composed with one another like ordinary Python\n",
    "functions. This automatically keeps track of the relationships between all saved\n",
    "objects. To explore these relationships, the `ComputationFrame` class is\n",
    "provided:\n",
    "\n",
    "```python\n",
    "@op\n",
    "def add(x, y):\n",
    "    print(\"Hello from add!\")\n",
    "    return x + y\n",
    "\n",
    "with storage:\n",
    "    for i in range(5):\n",
    "        j = inc(i)\n",
    "        if i % 2 == 0:\n",
    "            k = add(i, j)\n",
    "\n",
    "cf = storage.cf(inc) # get the computation frame for all calls to `inc`\n",
    "cf.draw(verbose=True, orientation='LR') # visualize the computation frame\n",
    "cf.expand(inplace=True) # include all calls connected to the calls of `inc`\n",
    "cf.draw(verbose=True, orientation='LR') # visualize the computation frame\n",
    "```\n",
    "\n",
    "Computation frames generalize the familiar dataframes:\n",
    "- columns are replaced by the topology of a computational graph, consisting of variables and functions \n",
    "- rows are replaced by **computation traces** -- variable values and function calls -- that partially follow this graph\n",
    "\n",
    "**Any computation frame can be converted into a dataframe**, where the columns are all nodes in the graph, and each row is a computation trace, possibly padded with `NaN`s where no value/call is present:\n",
    "\n",
    "```python\n",
    "cf.df()\n",
    "```\n",
    "\n",
    "Extracting tuples from the computation graph:\n",
    "    output_0@output_0 = inc(x=x)\n",
    "    output_0_0@output_0 = add(x=x, y=output_0)\n",
    "\n",
    "+---+---------------------------------------+----------+---------------------------------------+------------+\n",
    "| x |                  inc                  | output_0 |                  add                  | output_0_0 |\n",
    "+---+---------------------------------------+----------+---------------------------------------+------------+\n",
    "| 3 | Call(inc, cid='03d...', hid='2a9...') |    4     |                                       |            |\n",
    "| 0 | Call(inc, cid='ad3...', hid='978...') |    1     | Call(add, cid='83a...', hid='955...') |    1.0     |\n",
    "| 2 | Call(inc, cid='21f...', hid='82d...') |    3     | Call(add, cid='253...', hid='28e...') |    5.0     |\n",
    "| 4 | Call(inc, cid='092...', hid='ea8...') |    5     | Call(add, cid='796...', hid='bb1...') |    9.0     |\n",
    "| 1 | Call(inc, cid='35f...', hid='43a...') |    2     |                                       |            |\n",
    "+---+---------------------------------------+----------+---------------------------------------+------------+"
   ]
  }
 ],
 "metadata": {
  "language_info": {
   "name": "python"
  }
 },
 "nbformat": 4,
 "nbformat_minor": 2
}
