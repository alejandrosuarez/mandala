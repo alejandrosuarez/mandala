{
 "cells": [
  {
   "cell_type": "code",
   "execution_count": 3,
   "metadata": {},
   "outputs": [],
   "source": [
    "from mandala._next.imports import *\n",
    "\n",
    "storage = Storage(\n",
    "    # omit for an in-memory storage\n",
    "    db_path='my_persistent_storage.db', \n",
    "    # omit to disable automatic dependency tracking\n",
    "    # use \"__main__\" to only track functions defined in the current session\n",
    "    deps_path='__main__', \n",
    ")"
   ]
  },
  {
   "cell_type": "code",
   "execution_count": 4,
   "metadata": {},
   "outputs": [
    {
     "name": "stdout",
     "output_type": "stream",
     "text": [
      "AtomRef(array([[ 0.,  0.,  5., ...,  0.,  0.,  0.],\n",
      "       [ 0.,  0.,  0., ..., 10.,  0.,  0.],\n",
      "       [ 0.,  0.,  1., ...,  3.,  0.,  0.],\n",
      "       ...,\n",
      "       [ 0.,  0.,  5., ...,  8.,  1.,  0.],\n",
      "       [ 0.,  0.,  6., ...,  4.,  0.,  0.],\n",
      "       [ 0.,  0.,  6., ...,  6.,  0.,  0.]]), hid='16e...', cid='908...')\n"
     ]
    }
   ],
   "source": [
    "from sklearn.datasets import load_digits\n",
    "\n",
    "@op \n",
    "def load_data(n_class=2):\n",
    "    return load_digits(n_class=n_class, return_X_y=True)\n",
    "\n",
    "with storage:\n",
    "    X, y = load_data()\n",
    "    print(X)"
   ]
  },
  {
   "cell_type": "code",
   "execution_count": 5,
   "metadata": {},
   "outputs": [
    {
     "name": "stdout",
     "output_type": "stream",
     "text": [
      "AtomRef(hid='16e...', cid='908...', in_memory=False)\n"
     ]
    }
   ],
   "source": [
    "with storage:\n",
    "    X, y = load_data()\n",
    "    print(X)"
   ]
  },
  {
   "cell_type": "code",
   "execution_count": 7,
   "metadata": {},
   "outputs": [
    {
     "data": {
      "text/plain": [
       "array([[ 0.,  0.,  5., ...,  0.,  0.,  0.],\n",
       "       [ 0.,  0.,  0., ..., 10.,  0.,  0.],\n",
       "       [ 0.,  0.,  1., ...,  3.,  0.,  0.],\n",
       "       ...,\n",
       "       [ 0.,  0.,  5., ...,  8.,  1.,  0.],\n",
       "       [ 0.,  0.,  6., ...,  4.,  0.,  0.],\n",
       "       [ 0.,  0.,  6., ...,  6.,  0.,  0.]])"
      ]
     },
     "execution_count": 7,
     "metadata": {},
     "output_type": "execute_result"
    }
   ],
   "source": [
    "storage.unwrap(X)"
   ]
  },
  {
   "cell_type": "code",
   "execution_count": 6,
   "metadata": {},
   "outputs": [
    {
     "name": "stdout",
     "output_type": "stream",
     "text": [
      "AtomRef(0.54, hid='430...', cid='ac9...')\n",
      "AtomRef(0.7, hid='9c4...', cid='e2b...')\n",
      "AtomRef(0.74, hid='481...', cid='46b...')\n",
      "AtomRef(0.82, hid='178...', cid='238...')\n",
      "AtomRef(0.86, hid='01e...', cid='70e...')\n",
      "AtomRef(0.94, hid='7b3...', cid='c3b...')\n",
      "AtomRef(0.99, hid='146...', cid='12a...')\n",
      "AtomRef(0.99, hid='60f...', cid='12a...')\n",
      "AtomRef(0.99, hid='ede...', cid='12a...')\n"
     ]
    }
   ],
   "source": [
    "from sklearn.ensemble import RandomForestClassifier\n",
    "from sklearn.metrics import accuracy_score\n",
    "\n",
    "### new ops to train an ML model and evaluate\n",
    "@op\n",
    "def train_model(X, y, n_estimators=5):\n",
    "    return RandomForestClassifier(n_estimators=n_estimators,\n",
    "                                  max_depth=2).fit(X, y)\n",
    "\n",
    "@op\n",
    "def get_acc(model, X, y):\n",
    "    return round(accuracy_score(y_pred=model.predict(X), y_true=y), 2)\n",
    "\n",
    "### iterate on saved results by just dumping more computations on top\n",
    "with storage:\n",
    "    for n_class in (10, 5, 2):\n",
    "        X, y = load_data(n_class) \n",
    "        for n_estimators in (5, 10, 20):\n",
    "            model = train_model(X, y, n_estimators=n_estimators)\n",
    "            acc = get_acc(model, X, y)\n",
    "            print(acc)"
   ]
  }
 ],
 "metadata": {
  "language_info": {
   "name": "python"
  }
 },
 "nbformat": 4,
 "nbformat_minor": 2
}
