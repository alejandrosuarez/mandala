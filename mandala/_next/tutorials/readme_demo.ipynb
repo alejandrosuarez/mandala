{
 "cells": [
  {
   "cell_type": "code",
   "execution_count": 1,
   "metadata": {},
   "outputs": [],
   "source": [
    "from mandala._next.imports import *\n",
    "from mandala._next.utils import *\n",
    "from sklearn.datasets import load_digits\n",
    "from sklearn.ensemble import RandomForestClassifier\n",
    "\n",
    "storage = Storage(deps_path=\"__main__\")"
   ]
  },
  {
   "cell_type": "code",
   "execution_count": 29,
   "metadata": {},
   "outputs": [],
   "source": [
    "@op\n",
    "def load_data(n_class):\n",
    "    print('loading data')\n",
    "    return load_digits(n_class=n_class, return_X_y=True)\n",
    "\n",
    "@op\n",
    "def train_model(X, y, n_estimators):\n",
    "    print('training model')\n",
    "    return RandomForestClassifier(max_depth=2, n_estimators=n_estimators).fit(X, y)\n",
    "\n",
    "@op\n",
    "def get_acc(model, X, y):\n",
    "    print('computing accuracy')\n",
    "    return round(model.score(X, y), 3)"
   ]
  },
  {
   "cell_type": "code",
   "execution_count": null,
   "metadata": {},
   "outputs": [],
   "source": [
    "with storage:\n",
    "    for n_class in (2, 5):\n",
    "        X, y = load_data(n_class=n_class)\n",
    "        for n_estimators in (10, 20):\n",
    "            model = train_model(X, y, n_estimators)\n",
    "            acc = get_acc(model, X, y)"
   ]
  }
 ],
 "metadata": {
  "language_info": {
   "name": "python"
  }
 },
 "nbformat": 4,
 "nbformat_minor": 2
}
