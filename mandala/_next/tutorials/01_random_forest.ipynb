{
 "cells": [
  {
   "cell_type": "markdown",
   "metadata": {},
   "source": [
    "# Tutorial 1: Random forest ML project\n",
    "This tutorial will show you how `mandala` works in a small random forest\n",
    "ML project. You'll see how **queriable & composable** memoization is a simple way\n",
    "to achieve the main goals of scientific data management:\n",
    "\n",
    "- **iterate in the simplest way** by just dumping more\n",
    "logic/parameters/experiments on top of the code you already ran. Memoization\n",
    "automatically takes care of loading past results, skipping over past\n",
    "computations, and merging results across compatible versions of your code.\n",
    "\n",
    "- **explore the interdependencies of all saved results incrementally and\n",
    "declaratively** with *computation frames*, generalized dataframes that operate\n",
    "over memoized computation graphs. Expand the computational history of artifacts\n",
    "backward (to what produced them) and/or forward (to experiments that used them),\n",
    "perform high-level operations over slices of storage, and generate dataframes of\n",
    "results for further analysis."
   ]
  },
  {
   "cell_type": "markdown",
   "metadata": {},
   "source": [
    "# Imports & setup"
   ]
  },
  {
   "cell_type": "code",
   "execution_count": 1,
   "metadata": {},
   "outputs": [],
   "source": [
    "from typing import Tuple\n",
    "import numpy as np\n",
    "import pandas as pd\n",
    "from sklearn.datasets import load_digits\n",
    "from sklearn.model_selection import train_test_split\n",
    "from sklearn.ensemble import RandomForestClassifier\n",
    "\n",
    "# recommended way to import mandala functionality\n",
    "from mandala._next.imports import *\n",
    "\n",
    "np.random.seed(0)"
   ]
  },
  {
   "cell_type": "code",
   "execution_count": 2,
   "metadata": {},
   "outputs": [],
   "source": [
    "@op # memoizing decorator\n",
    "def generate_dataset(random_seed=42):\n",
    "    print(f\"Generating dataset...\")\n",
    "    X, y = load_digits(return_X_y=True)\n",
    "    X_train, X_test, y_train, y_test = train_test_split(\n",
    "        X, y, test_size=0.2, random_state=random_seed)\n",
    "    return X_train, X_test, y_train, y_test\n",
    "\n",
    "@op\n",
    "def train_model(X_train, y_train):\n",
    "    print(f\"Training model...\")\n",
    "    model = RandomForestClassifier(n_estimators=1)\n",
    "    model.fit(X_train, y_train)\n",
    "    return model, round(model.score(X_train, y_train), 2)\n",
    "\n",
    "@op\n",
    "def eval_model(model, X_test, y_test):\n",
    "    print(f\"Evaluating model...\")\n",
    "    return round(model.score(X_test, y_test), 2)"
   ]
  },
  {
   "cell_type": "markdown",
   "metadata": {},
   "source": [
    "# Running and iterating on the pipeline"
   ]
  },
  {
   "cell_type": "markdown",
   "metadata": {},
   "source": [
    "## Run the pipeline once with default settings"
   ]
  },
  {
   "cell_type": "code",
   "execution_count": 3,
   "metadata": {},
   "outputs": [
    {
     "name": "stdout",
     "output_type": "stream",
     "text": [
      "Generating dataset...\n",
      "Training model...\n",
      "Evaluating model...\n",
      "Train accuracy: AtomRef(0.91, hid='8f5...', cid='97b...'),\n",
      "Test accuracy: AtomRef(0.76, hid='57f...', cid='9e5...')\n"
     ]
    }
   ],
   "source": [
    "# in-memory storage for all results in this notebook; use `db_path` to persist\n",
    "# to disk\n",
    "storage = Storage() \n",
    "\n",
    "with storage: # block to make all @ops called inside read/write to a given storage\n",
    "    X_train, X_test, y_train, y_test = generate_dataset()\n",
    "    model, train_acc = train_model(X_train, y_train)\n",
    "    test_acc = eval_model(model, X_test, y_test)\n",
    "    print(f\"Train accuracy: {train_acc},\\nTest accuracy: {test_acc}\")"
   ]
  },
  {
   "cell_type": "markdown",
   "metadata": {},
   "source": [
    "Now all three calls are saved to the storage. `@op`s return **value \n",
    "references**, which wrap a Python object with some storage metadata needed to\n",
    "make the memoization **compose**. To get the underlying object, call\n",
    "`storage.unwrap(ref)`.\n",
    "\n",
    "Thanks to that metadata, when we re-run memoized code, the storage recognizes\n",
    "step-by-step that all work has already been done, and only loads *references* to\n",
    "the results (not the Python objects themselves):"
   ]
  },
  {
   "cell_type": "code",
   "execution_count": 4,
   "metadata": {},
   "outputs": [
    {
     "name": "stdout",
     "output_type": "stream",
     "text": [
      "Train accuracy: AtomRef(hid='8f5...', cid='97b...', in_memory=False),\n",
      "Test accuracy: AtomRef(hid='57f...', cid='9e5...', in_memory=False)\n"
     ]
    }
   ],
   "source": [
    "with storage: # same code, but now it only loads pointers to saved results\n",
    "    X_train, X_test, y_train, y_test = generate_dataset()\n",
    "    model, train_acc = train_model(X_train, y_train)\n",
    "    test_acc = eval_model(model, X_test, y_test)\n",
    "    print(f\"Train accuracy: {train_acc},\\nTest accuracy: {test_acc}\")"
   ]
  },
  {
   "cell_type": "markdown",
   "metadata": {},
   "source": [
    "## Iterate directly on top of memoized code and change memoized functions backward-compatibly\n",
    "This also makes it easy to iterate on a project by just adding stuff on top of\n",
    "already memoized code. For example, let's add a new parameter to `train_model`\n",
    "in a way compatible with our current results:"
   ]
  },
  {
   "cell_type": "code",
   "execution_count": 5,
   "metadata": {},
   "outputs": [
    {
     "name": "stdout",
     "output_type": "stream",
     "text": [
      "Running with 1 trees...\n",
      "    Train accuracy=AtomRef(hid='8f5...', cid='97b...', in_memory=False),\n",
      "    Test accuracy=AtomRef(hid='57f...', cid='9e5...', in_memory=False)\n",
      "Running with 10 trees...\n",
      "Training model...\n",
      "Evaluating model...\n",
      "    Train accuracy=AtomRef(1.0, hid='760...', cid='b67...'),\n",
      "    Test accuracy=AtomRef(0.94, hid='600...', cid='c3b...')\n",
      "Running with 100 trees...\n",
      "Training model...\n",
      "Evaluating model...\n",
      "    Train accuracy=AtomRef(1.0, hid='ab0...', cid='b67...'),\n",
      "    Test accuracy=AtomRef(0.98, hid='45f...', cid='d15...')\n"
     ]
    }
   ],
   "source": [
    "@op\n",
    "def train_model(X_train, y_train, n_estimators=NewArgDefault(1)):\n",
    "    print(f\"Training model...\")\n",
    "    model = RandomForestClassifier(n_estimators=n_estimators)\n",
    "    model.fit(X_train, y_train)\n",
    "    return model, round(model.score(X_train, y_train), 2)\n",
    "\n",
    "with storage: # we make @ops use a given storage with this `with` block \n",
    "    X_train, X_test, y_train, y_test = generate_dataset()\n",
    "    for n_estimators in [1, 10, 100]:\n",
    "        print(f\"Running with {n_estimators} trees...\")\n",
    "        model, train_acc = train_model(X_train, y_train, n_estimators=n_estimators)\n",
    "        test_acc = eval_model(model, X_test, y_test)\n",
    "        print(f\"    Train accuracy={train_acc},\\n    Test accuracy={test_acc}\")"
   ]
  },
  {
   "cell_type": "markdown",
   "metadata": {},
   "source": [
    "When we add a new argument with a default value wrapped as `NewArgDefault(obj)`,\n",
    "this ensures **backward compatibility**. `mandala` will ignore this parameter\n",
    "when its value equals `obj`, and **fall back to memoized calls that don't\n",
    "provide this argument**. \n",
    "\n",
    "This is why `Training model...` got printed **only two times**, and why the\n",
    "results for `n_estimators=1` are not in memory (`in_memory=False`)."
   ]
  },
  {
   "cell_type": "markdown",
   "metadata": {},
   "source": [
    "## Pros and cons of memoization\n",
    "**Composable memoization is a powerful imperative query interface**: *if* you have\n",
    "the memoized code in front of you, you can just retrace it and get references to\n",
    "any intermediate results you want to look at. This is very flexible, because you\n",
    "can add control flow logic to restrict the results to look at. Retracing is\n",
    "cheap, because large objects are not loaded from storage, letting you narrow\n",
    "down your \"query\" before high-bandwidth interaction with the backend.\n",
    "\n",
    "However, **the full memoized code may not always be in front of you**!\n",
    "Especially in larger projects, where it's easy to lose track of what has already\n",
    "been computed, there's a need for a complementary storage interface based on\n",
    "**declarative** principles. We discuss this next."
   ]
  },
  {
   "cell_type": "markdown",
   "metadata": {},
   "source": [
    "# Querying the storage with computation frames \n",
    "In cases when memoization-based querying is not enough, `mandala` offers the\n",
    "`ComputationFrame` class. A computation frame is a generalization of the\n",
    "familiar `pandas` dataframe in two main ways:\n",
    "\n",
    "- the \"columns\" of a computation frame represent a **computational graph**, made\n",
    "of variables and operations on them.\n",
    "- the \"rows\" of a computation frame are **computations that (partially) follow\n",
    "the structure of the computational graph**.\n",
    "\n",
    "It's best to illustrate this with some examples:"
   ]
  },
  {
   "cell_type": "code",
   "execution_count": 6,
   "metadata": {},
   "outputs": [
    {
     "data": {
      "text/plain": [
       "ComputationFrame with 5 variable(s) (10 unique refs), 1 operation(s) (3 unique calls)\n",
       "Computational graph:\n",
       "    output_0@output_0, output_1@output_1 = train_model(n_estimators=n_estimators, y_train=y_train, X_train=X_train)"
      ]
     },
     "execution_count": 6,
     "metadata": {},
     "output_type": "execute_result"
    }
   ],
   "source": [
    "cf = storage.cf(train_model); cf"
   ]
  },
  {
   "cell_type": "markdown",
   "metadata": {},
   "source": [
    "We just got a computation frame (CF) corresponding to a very simple computation\n",
    "graph: it only has one operation, `train_model`, with its associated inputs and\n",
    "outputs. **Output variables are appended with the name of the function output\n",
    "they are connected to**, in order to remove ambiguity in cases when not all\n",
    "outputs of an operation are present in the computational graph.\n",
    "\n",
    "The printout also describes the overall number of `Ref`s and `Call`s represented\n",
    "by this CF. Much like in `pandas`, we can rename the \"columns\" of our\n",
    "computation frame for readability:"
   ]
  },
  {
   "cell_type": "code",
   "execution_count": 7,
   "metadata": {},
   "outputs": [],
   "source": [
    "cf.rename(vars={'output_0': 'model', 'output_1': 'train_acc'}, inplace=True)"
   ]
  },
  {
   "cell_type": "markdown",
   "metadata": {},
   "source": [
    "We can directly extract a dataframe from the CF:"
   ]
  },
  {
   "cell_type": "code",
   "execution_count": 8,
   "metadata": {},
   "outputs": [
    {
     "name": "stdout",
     "output_type": "stream",
     "text": [
      "Extracting tuples from the computation graph:\n",
      "    model@output_0, train_acc@output_1 = train_model(y_train=y_train, n_estimators=n_estimators, X_train=X_train)\n"
     ]
    },
    {
     "data": {
      "text/html": [
       "<div>\n",
       "<style scoped>\n",
       "    .dataframe tbody tr th:only-of-type {\n",
       "        vertical-align: middle;\n",
       "    }\n",
       "\n",
       "    .dataframe tbody tr th {\n",
       "        vertical-align: top;\n",
       "    }\n",
       "\n",
       "    .dataframe thead th {\n",
       "        text-align: right;\n",
       "    }\n",
       "</style>\n",
       "<table border=\"1\" class=\"dataframe\">\n",
       "  <thead>\n",
       "    <tr style=\"text-align: right;\">\n",
       "      <th></th>\n",
       "      <th>n_estimators</th>\n",
       "      <th>y_train</th>\n",
       "      <th>X_train</th>\n",
       "      <th>train_model</th>\n",
       "      <th>model</th>\n",
       "      <th>train_acc</th>\n",
       "    </tr>\n",
       "  </thead>\n",
       "  <tbody>\n",
       "    <tr>\n",
       "      <th>0</th>\n",
       "      <td>NaN</td>\n",
       "      <td>[6, 0, 0, 3, 0, 5, 0, 0, 4, 1, 2, 8, 4, 5, 9, ...</td>\n",
       "      <td>[[0.0, 0.0, 3.0, 14.0, 1.0, 0.0, 0.0, 0.0, 0.0...</td>\n",
       "      <td>Call(train_model, cid='ca5...', hid='ac0...')</td>\n",
       "      <td>(DecisionTreeClassifier(max_features='sqrt', r...</td>\n",
       "      <td>0.91</td>\n",
       "    </tr>\n",
       "    <tr>\n",
       "      <th>1</th>\n",
       "      <td>100.0</td>\n",
       "      <td>[6, 0, 0, 3, 0, 5, 0, 0, 4, 1, 2, 8, 4, 5, 9, ...</td>\n",
       "      <td>[[0.0, 0.0, 3.0, 14.0, 1.0, 0.0, 0.0, 0.0, 0.0...</td>\n",
       "      <td>Call(train_model, cid='bb3...', hid='255...')</td>\n",
       "      <td>(DecisionTreeClassifier(max_features='sqrt', r...</td>\n",
       "      <td>1.00</td>\n",
       "    </tr>\n",
       "    <tr>\n",
       "      <th>2</th>\n",
       "      <td>10.0</td>\n",
       "      <td>[6, 0, 0, 3, 0, 5, 0, 0, 4, 1, 2, 8, 4, 5, 9, ...</td>\n",
       "      <td>[[0.0, 0.0, 3.0, 14.0, 1.0, 0.0, 0.0, 0.0, 0.0...</td>\n",
       "      <td>Call(train_model, cid='c4f...', hid='5f7...')</td>\n",
       "      <td>(DecisionTreeClassifier(max_features='sqrt', r...</td>\n",
       "      <td>1.00</td>\n",
       "    </tr>\n",
       "  </tbody>\n",
       "</table>\n",
       "</div>"
      ],
      "text/plain": [
       "   n_estimators                                            y_train  \\\n",
       "0           NaN  [6, 0, 0, 3, 0, 5, 0, 0, 4, 1, 2, 8, 4, 5, 9, ...   \n",
       "1         100.0  [6, 0, 0, 3, 0, 5, 0, 0, 4, 1, 2, 8, 4, 5, 9, ...   \n",
       "2          10.0  [6, 0, 0, 3, 0, 5, 0, 0, 4, 1, 2, 8, 4, 5, 9, ...   \n",
       "\n",
       "                                             X_train  \\\n",
       "0  [[0.0, 0.0, 3.0, 14.0, 1.0, 0.0, 0.0, 0.0, 0.0...   \n",
       "1  [[0.0, 0.0, 3.0, 14.0, 1.0, 0.0, 0.0, 0.0, 0.0...   \n",
       "2  [[0.0, 0.0, 3.0, 14.0, 1.0, 0.0, 0.0, 0.0, 0.0...   \n",
       "\n",
       "                                     train_model  \\\n",
       "0  Call(train_model, cid='ca5...', hid='ac0...')   \n",
       "1  Call(train_model, cid='bb3...', hid='255...')   \n",
       "2  Call(train_model, cid='c4f...', hid='5f7...')   \n",
       "\n",
       "                                               model  train_acc  \n",
       "0  (DecisionTreeClassifier(max_features='sqrt', r...       0.91  \n",
       "1  (DecisionTreeClassifier(max_features='sqrt', r...       1.00  \n",
       "2  (DecisionTreeClassifier(max_features='sqrt', r...       1.00  "
      ]
     },
     "execution_count": 8,
     "metadata": {},
     "output_type": "execute_result"
    }
   ],
   "source": [
    "cf.get_df()"
   ]
  },
  {
   "cell_type": "markdown",
   "metadata": {},
   "source": [
    "We get back a table, where each row corresponds to a call to `train_model`.\n",
    "Furthermore, the `Call` objects themselves (which contain metadata about the\n",
    "call) appear in the column dedicated to the single operation in the graph.\n",
    "\n",
    "We see that in the `n_estimators` column we have the values `[100.0, NaN, 10.0]`, \n",
    "reflecting the fact that we made 1 call to `train_model` before introducing the\n",
    "`n_estimators` argument, and 2 afterwards."
   ]
  },
  {
   "cell_type": "markdown",
   "metadata": {},
   "source": [
    "## Exploring storage by expanding the CF\n",
    "This CF gets much more interesting and useful when we can look into where the\n",
    "inputs to `train_model` came from, and what the outputs were used for. We can\n",
    "add the history of particular variables by calling `expand_back` on the CF, and \n",
    "similarly `expand_forward` shows the operations that consume given variables: "
   ]
  },
  {
   "cell_type": "code",
   "execution_count": 9,
   "metadata": {},
   "outputs": [
    {
     "name": "stdout",
     "output_type": "stream",
     "text": [
      "Expanding back the inputs:\n",
      "ComputationFrame with 6 variable(s) (11 unique refs), 2 operation(s) (4 unique calls)\n",
      "Computational graph:\n",
      "    X_train@output_0, y_train@output_2 = generate_dataset(random_seed=random_seed)\n",
      "    model@output_0, train_acc@output_1 = train_model(n_estimators=n_estimators, y_train=y_train, X_train=X_train)\n",
      "\n",
      "Expanding forward the outputs:\n",
      "ComputationFrame with 6 variable(s) (13 unique refs), 2 operation(s) (6 unique calls)\n",
      "Computational graph:\n",
      "    model@output_0, train_acc@output_1 = train_model(n_estimators=n_estimators, y_train=y_train, X_train=X_train)\n",
      "    output_0@output_0 = eval_model(model=model)\n"
     ]
    }
   ],
   "source": [
    "print('Expanding back the inputs:')\n",
    "print(cf.expand_back(varnames=[\"X_train\", \"y_train\"]))\n",
    "print('\\nExpanding forward the outputs:')\n",
    "print(cf.expand_forward(varnames=['model', 'train_acc']))"
   ]
  },
  {
   "cell_type": "markdown",
   "metadata": {},
   "source": [
    "We can perform a full expansion (until we can't go back or forward) with the\n",
    "`.expand()` method:"
   ]
  },
  {
   "cell_type": "code",
   "execution_count": 10,
   "metadata": {},
   "outputs": [
    {
     "data": {
      "text/plain": [
       "ComputationFrame with 7 variable(s) (14 unique refs), 3 operation(s) (7 unique calls)\n",
       "Computational graph:\n",
       "    X_train@output_0, y_train@output_2 = generate_dataset(random_seed=random_seed)\n",
       "    model@output_0, train_acc@output_1 = train_model(n_estimators=n_estimators, y_train=y_train, X_train=X_train)\n",
       "    output_0@output_0 = eval_model(model=model)"
      ]
     },
     "execution_count": 10,
     "metadata": {},
     "output_type": "execute_result"
    }
   ],
   "source": [
    "expanded_cf = cf.expand()\n",
    "expanded_cf"
   ]
  },
  {
   "cell_type": "markdown",
   "metadata": {},
   "source": [
    "Note that the extracted CF represents a \"partial\" computation graph: the\n",
    "variables for `X_test`and `y_test` were not reached during this traversal\n",
    "(though they can be added).\n",
    "\n",
    "Finally, we can (again) extract a dataframe from this CF:"
   ]
  },
  {
   "cell_type": "code",
   "execution_count": 11,
   "metadata": {},
   "outputs": [
    {
     "name": "stdout",
     "output_type": "stream",
     "text": [
      "Extracting tuples from the computation graph:\n",
      "    X_train@output_0, y_train@output_2 = generate_dataset(random_seed=random_seed)\n",
      "    model@output_0, train_acc@output_1 = train_model(y_train=y_train, n_estimators=n_estimators, X_train=X_train)\n",
      "    output_0@output_0 = eval_model(model=model)\n"
     ]
    },
    {
     "data": {
      "text/html": [
       "<div>\n",
       "<style scoped>\n",
       "    .dataframe tbody tr th:only-of-type {\n",
       "        vertical-align: middle;\n",
       "    }\n",
       "\n",
       "    .dataframe tbody tr th {\n",
       "        vertical-align: top;\n",
       "    }\n",
       "\n",
       "    .dataframe thead th {\n",
       "        text-align: right;\n",
       "    }\n",
       "</style>\n",
       "<table border=\"1\" class=\"dataframe\">\n",
       "  <thead>\n",
       "    <tr style=\"text-align: right;\">\n",
       "      <th></th>\n",
       "      <th>random_seed</th>\n",
       "      <th>generate_dataset</th>\n",
       "      <th>y_train</th>\n",
       "      <th>X_train</th>\n",
       "      <th>n_estimators</th>\n",
       "      <th>train_model</th>\n",
       "      <th>model</th>\n",
       "      <th>eval_model</th>\n",
       "      <th>output_0</th>\n",
       "      <th>train_acc</th>\n",
       "    </tr>\n",
       "  </thead>\n",
       "  <tbody>\n",
       "    <tr>\n",
       "      <th>0</th>\n",
       "      <td>42</td>\n",
       "      <td>Call(generate_dataset, cid='19a...', hid='c3f....</td>\n",
       "      <td>[6, 0, 0, 3, 0, 5, 0, 0, 4, 1, 2, 8, 4, 5, 9, ...</td>\n",
       "      <td>[[0.0, 0.0, 3.0, 14.0, 1.0, 0.0, 0.0, 0.0, 0.0...</td>\n",
       "      <td>NaN</td>\n",
       "      <td>Call(train_model, cid='ca5...', hid='ac0...')</td>\n",
       "      <td>(DecisionTreeClassifier(max_features='sqrt', r...</td>\n",
       "      <td>Call(eval_model, cid='be0...', hid='c5a...')</td>\n",
       "      <td>0.76</td>\n",
       "      <td>0.91</td>\n",
       "    </tr>\n",
       "    <tr>\n",
       "      <th>1</th>\n",
       "      <td>42</td>\n",
       "      <td>Call(generate_dataset, cid='19a...', hid='c3f....</td>\n",
       "      <td>[6, 0, 0, 3, 0, 5, 0, 0, 4, 1, 2, 8, 4, 5, 9, ...</td>\n",
       "      <td>[[0.0, 0.0, 3.0, 14.0, 1.0, 0.0, 0.0, 0.0, 0.0...</td>\n",
       "      <td>100.0</td>\n",
       "      <td>Call(train_model, cid='bb3...', hid='255...')</td>\n",
       "      <td>(DecisionTreeClassifier(max_features='sqrt', r...</td>\n",
       "      <td>Call(eval_model, cid='ad4...', hid='07b...')</td>\n",
       "      <td>0.98</td>\n",
       "      <td>1.00</td>\n",
       "    </tr>\n",
       "    <tr>\n",
       "      <th>2</th>\n",
       "      <td>42</td>\n",
       "      <td>Call(generate_dataset, cid='19a...', hid='c3f....</td>\n",
       "      <td>[6, 0, 0, 3, 0, 5, 0, 0, 4, 1, 2, 8, 4, 5, 9, ...</td>\n",
       "      <td>[[0.0, 0.0, 3.0, 14.0, 1.0, 0.0, 0.0, 0.0, 0.0...</td>\n",
       "      <td>10.0</td>\n",
       "      <td>Call(train_model, cid='c4f...', hid='5f7...')</td>\n",
       "      <td>(DecisionTreeClassifier(max_features='sqrt', r...</td>\n",
       "      <td>Call(eval_model, cid='e3b...', hid='ed5...')</td>\n",
       "      <td>0.94</td>\n",
       "      <td>1.00</td>\n",
       "    </tr>\n",
       "  </tbody>\n",
       "</table>\n",
       "</div>"
      ],
      "text/plain": [
       "   random_seed                                   generate_dataset  \\\n",
       "0           42  Call(generate_dataset, cid='19a...', hid='c3f....   \n",
       "1           42  Call(generate_dataset, cid='19a...', hid='c3f....   \n",
       "2           42  Call(generate_dataset, cid='19a...', hid='c3f....   \n",
       "\n",
       "                                             y_train  \\\n",
       "0  [6, 0, 0, 3, 0, 5, 0, 0, 4, 1, 2, 8, 4, 5, 9, ...   \n",
       "1  [6, 0, 0, 3, 0, 5, 0, 0, 4, 1, 2, 8, 4, 5, 9, ...   \n",
       "2  [6, 0, 0, 3, 0, 5, 0, 0, 4, 1, 2, 8, 4, 5, 9, ...   \n",
       "\n",
       "                                             X_train  n_estimators  \\\n",
       "0  [[0.0, 0.0, 3.0, 14.0, 1.0, 0.0, 0.0, 0.0, 0.0...           NaN   \n",
       "1  [[0.0, 0.0, 3.0, 14.0, 1.0, 0.0, 0.0, 0.0, 0.0...         100.0   \n",
       "2  [[0.0, 0.0, 3.0, 14.0, 1.0, 0.0, 0.0, 0.0, 0.0...          10.0   \n",
       "\n",
       "                                     train_model  \\\n",
       "0  Call(train_model, cid='ca5...', hid='ac0...')   \n",
       "1  Call(train_model, cid='bb3...', hid='255...')   \n",
       "2  Call(train_model, cid='c4f...', hid='5f7...')   \n",
       "\n",
       "                                               model  \\\n",
       "0  (DecisionTreeClassifier(max_features='sqrt', r...   \n",
       "1  (DecisionTreeClassifier(max_features='sqrt', r...   \n",
       "2  (DecisionTreeClassifier(max_features='sqrt', r...   \n",
       "\n",
       "                                     eval_model  output_0  train_acc  \n",
       "0  Call(eval_model, cid='be0...', hid='c5a...')      0.76       0.91  \n",
       "1  Call(eval_model, cid='ad4...', hid='07b...')      0.98       1.00  \n",
       "2  Call(eval_model, cid='e3b...', hid='ed5...')      0.94       1.00  "
      ]
     },
     "execution_count": 11,
     "metadata": {},
     "output_type": "execute_result"
    }
   ],
   "source": [
    "expanded_cf.get_df()"
   ]
  },
  {
   "cell_type": "markdown",
   "metadata": {},
   "source": [
    "## Using computation frames for high-level operations\n",
    "Finally, we can illustrate the use of computation frames for easy declarative\n",
    "operations over the storage, even in the presence of highly heterogeneous\n",
    "experiments. To make this more interesting, let's train some more models:"
   ]
  },
  {
   "cell_type": "code",
   "execution_count": 12,
   "metadata": {},
   "outputs": [
    {
     "name": "stdout",
     "output_type": "stream",
     "text": [
      "Training model...\n",
      "Training model...\n",
      "Training model...\n",
      "Training model...\n"
     ]
    }
   ],
   "source": [
    "@op\n",
    "def train_model(X_train, y_train,\n",
    "                n_estimators=NewArgDefault(1),\n",
    "                max_depth=NewArgDefault(None) # one more backward-compatible argument\n",
    "                ):\n",
    "    print(f\"Training model...\")\n",
    "    model = RandomForestClassifier(n_estimators=n_estimators, max_depth=max_depth)\n",
    "    model.fit(X_train, y_train)\n",
    "    return model, round(model.score(X_train, y_train), 2)\n",
    "\n",
    "with storage: # we make @ops use a given storage with this `with` block \n",
    "    X_train, X_test, y_train, y_test = generate_dataset()\n",
    "    for n_estimators in [10, 100]:\n",
    "        for max_depth in [1, 2]:\n",
    "            model, train_acc = train_model(X_train, y_train, n_estimators=n_estimators, max_depth=max_depth)"
   ]
  },
  {
   "cell_type": "markdown",
   "metadata": {},
   "source": [
    "We left out the call to `eval_model` on purpose to illustrate how CFs handle\n",
    "heterogeneous and partial computations. \n",
    "\n",
    "As before, we build a big CF by expanding backward and forward from\n",
    "`train_model`, and then extract a dataframe:"
   ]
  },
  {
   "cell_type": "code",
   "execution_count": 13,
   "metadata": {},
   "outputs": [
    {
     "name": "stdout",
     "output_type": "stream",
     "text": [
      "Extracting tuples from the computation graph:\n",
      "    X_train@output_0, y_train@output_2 = generate_dataset(random_seed=random_seed)\n",
      "    model@output_0, train_acc@output_1 = train_model(y_train=y_train, max_depth=max_depth, n_estimators=n_estimators, X_train=X_train)\n",
      "    eval_acc@output_0 = eval_model(model=model)\n"
     ]
    },
    {
     "data": {
      "text/html": [
       "<div>\n",
       "<style scoped>\n",
       "    .dataframe tbody tr th:only-of-type {\n",
       "        vertical-align: middle;\n",
       "    }\n",
       "\n",
       "    .dataframe tbody tr th {\n",
       "        vertical-align: top;\n",
       "    }\n",
       "\n",
       "    .dataframe thead th {\n",
       "        text-align: right;\n",
       "    }\n",
       "</style>\n",
       "<table border=\"1\" class=\"dataframe\">\n",
       "  <thead>\n",
       "    <tr style=\"text-align: right;\">\n",
       "      <th></th>\n",
       "      <th>max_depth</th>\n",
       "      <th>n_estimators</th>\n",
       "      <th>random_seed</th>\n",
       "      <th>generate_dataset</th>\n",
       "      <th>train_model</th>\n",
       "      <th>model</th>\n",
       "      <th>eval_model</th>\n",
       "      <th>eval_acc</th>\n",
       "      <th>train_acc</th>\n",
       "    </tr>\n",
       "  </thead>\n",
       "  <tbody>\n",
       "    <tr>\n",
       "      <th>0</th>\n",
       "      <td>NaN</td>\n",
       "      <td>100.0</td>\n",
       "      <td>42</td>\n",
       "      <td>Call(generate_dataset, cid='19a...', hid='c3f....</td>\n",
       "      <td>Call(train_model, cid='bb3...', hid='255...')</td>\n",
       "      <td>(DecisionTreeClassifier(max_features='sqrt', r...</td>\n",
       "      <td>Call(eval_model, cid='ad4...', hid='07b...')</td>\n",
       "      <td>0.98</td>\n",
       "      <td>1.00</td>\n",
       "    </tr>\n",
       "    <tr>\n",
       "      <th>1</th>\n",
       "      <td>2.0</td>\n",
       "      <td>100.0</td>\n",
       "      <td>42</td>\n",
       "      <td>Call(generate_dataset, cid='19a...', hid='c3f....</td>\n",
       "      <td>Call(train_model, cid='4f4...', hid='fe1...')</td>\n",
       "      <td>(DecisionTreeClassifier(max_depth=2, max_featu...</td>\n",
       "      <td>None</td>\n",
       "      <td>NaN</td>\n",
       "      <td>0.84</td>\n",
       "    </tr>\n",
       "    <tr>\n",
       "      <th>2</th>\n",
       "      <td>1.0</td>\n",
       "      <td>100.0</td>\n",
       "      <td>42</td>\n",
       "      <td>Call(generate_dataset, cid='19a...', hid='c3f....</td>\n",
       "      <td>Call(train_model, cid='002...', hid='561...')</td>\n",
       "      <td>(DecisionTreeClassifier(max_depth=1, max_featu...</td>\n",
       "      <td>None</td>\n",
       "      <td>NaN</td>\n",
       "      <td>0.70</td>\n",
       "    </tr>\n",
       "    <tr>\n",
       "      <th>3</th>\n",
       "      <td>1.0</td>\n",
       "      <td>10.0</td>\n",
       "      <td>42</td>\n",
       "      <td>Call(generate_dataset, cid='19a...', hid='c3f....</td>\n",
       "      <td>Call(train_model, cid='22f...', hid='f56...')</td>\n",
       "      <td>(DecisionTreeClassifier(max_depth=1, max_featu...</td>\n",
       "      <td>None</td>\n",
       "      <td>NaN</td>\n",
       "      <td>0.59</td>\n",
       "    </tr>\n",
       "    <tr>\n",
       "      <th>4</th>\n",
       "      <td>NaN</td>\n",
       "      <td>10.0</td>\n",
       "      <td>42</td>\n",
       "      <td>Call(generate_dataset, cid='19a...', hid='c3f....</td>\n",
       "      <td>Call(train_model, cid='c4f...', hid='5f7...')</td>\n",
       "      <td>(DecisionTreeClassifier(max_features='sqrt', r...</td>\n",
       "      <td>Call(eval_model, cid='e3b...', hid='ed5...')</td>\n",
       "      <td>0.94</td>\n",
       "      <td>1.00</td>\n",
       "    </tr>\n",
       "    <tr>\n",
       "      <th>5</th>\n",
       "      <td>2.0</td>\n",
       "      <td>10.0</td>\n",
       "      <td>42</td>\n",
       "      <td>Call(generate_dataset, cid='19a...', hid='c3f....</td>\n",
       "      <td>Call(train_model, cid='872...', hid='e61...')</td>\n",
       "      <td>(DecisionTreeClassifier(max_depth=2, max_featu...</td>\n",
       "      <td>None</td>\n",
       "      <td>NaN</td>\n",
       "      <td>0.71</td>\n",
       "    </tr>\n",
       "    <tr>\n",
       "      <th>6</th>\n",
       "      <td>NaN</td>\n",
       "      <td>NaN</td>\n",
       "      <td>42</td>\n",
       "      <td>Call(generate_dataset, cid='19a...', hid='c3f....</td>\n",
       "      <td>Call(train_model, cid='ca5...', hid='ac0...')</td>\n",
       "      <td>(DecisionTreeClassifier(max_features='sqrt', r...</td>\n",
       "      <td>Call(eval_model, cid='be0...', hid='c5a...')</td>\n",
       "      <td>0.76</td>\n",
       "      <td>0.91</td>\n",
       "    </tr>\n",
       "  </tbody>\n",
       "</table>\n",
       "</div>"
      ],
      "text/plain": [
       "   max_depth  n_estimators  random_seed  \\\n",
       "0        NaN         100.0           42   \n",
       "1        2.0         100.0           42   \n",
       "2        1.0         100.0           42   \n",
       "3        1.0          10.0           42   \n",
       "4        NaN          10.0           42   \n",
       "5        2.0          10.0           42   \n",
       "6        NaN           NaN           42   \n",
       "\n",
       "                                    generate_dataset  \\\n",
       "0  Call(generate_dataset, cid='19a...', hid='c3f....   \n",
       "1  Call(generate_dataset, cid='19a...', hid='c3f....   \n",
       "2  Call(generate_dataset, cid='19a...', hid='c3f....   \n",
       "3  Call(generate_dataset, cid='19a...', hid='c3f....   \n",
       "4  Call(generate_dataset, cid='19a...', hid='c3f....   \n",
       "5  Call(generate_dataset, cid='19a...', hid='c3f....   \n",
       "6  Call(generate_dataset, cid='19a...', hid='c3f....   \n",
       "\n",
       "                                     train_model  \\\n",
       "0  Call(train_model, cid='bb3...', hid='255...')   \n",
       "1  Call(train_model, cid='4f4...', hid='fe1...')   \n",
       "2  Call(train_model, cid='002...', hid='561...')   \n",
       "3  Call(train_model, cid='22f...', hid='f56...')   \n",
       "4  Call(train_model, cid='c4f...', hid='5f7...')   \n",
       "5  Call(train_model, cid='872...', hid='e61...')   \n",
       "6  Call(train_model, cid='ca5...', hid='ac0...')   \n",
       "\n",
       "                                               model  \\\n",
       "0  (DecisionTreeClassifier(max_features='sqrt', r...   \n",
       "1  (DecisionTreeClassifier(max_depth=2, max_featu...   \n",
       "2  (DecisionTreeClassifier(max_depth=1, max_featu...   \n",
       "3  (DecisionTreeClassifier(max_depth=1, max_featu...   \n",
       "4  (DecisionTreeClassifier(max_features='sqrt', r...   \n",
       "5  (DecisionTreeClassifier(max_depth=2, max_featu...   \n",
       "6  (DecisionTreeClassifier(max_features='sqrt', r...   \n",
       "\n",
       "                                     eval_model  eval_acc  train_acc  \n",
       "0  Call(eval_model, cid='ad4...', hid='07b...')      0.98       1.00  \n",
       "1                                          None       NaN       0.84  \n",
       "2                                          None       NaN       0.70  \n",
       "3                                          None       NaN       0.59  \n",
       "4  Call(eval_model, cid='e3b...', hid='ed5...')      0.94       1.00  \n",
       "5                                          None       NaN       0.71  \n",
       "6  Call(eval_model, cid='be0...', hid='c5a...')      0.76       0.91  "
      ]
     },
     "execution_count": 13,
     "metadata": {},
     "output_type": "execute_result"
    }
   ],
   "source": [
    "cf = storage.cf(train_model).expand().rename(vars={'output_0': 'model', 'output_1': 'train_acc', 'output_0_0': 'eval_acc'})\n",
    "# use `lazy_vars` to avoid loading the large arrays which we don't need\n",
    "df = cf.get_df(lazy_vars=['X_train', 'y_train']).drop(columns=['X_train', 'y_train'])\n",
    "df"
   ]
  },
  {
   "cell_type": "markdown",
   "metadata": {},
   "source": [
    "We see that the various missing computational paths show up as `NaN`s in the \n",
    "table, under either variables (e.g. `max_depth`) or operations (e.g.\n",
    "`eval_model`). \n",
    "\n",
    "Suppose we want the models where train accuracy was above 0.8 and max depth was 2. \n",
    "We can do this with familiar dataframe operations:"
   ]
  },
  {
   "cell_type": "code",
   "execution_count": 14,
   "metadata": {},
   "outputs": [
    {
     "data": {
      "text/plain": [
       "[RandomForestClassifier(max_depth=2)]"
      ]
     },
     "execution_count": 14,
     "metadata": {},
     "output_type": "execute_result"
    }
   ],
   "source": [
    "df.query('train_acc > 0.8 and max_depth == 2').model.tolist()"
   ]
  },
  {
   "cell_type": "markdown",
   "metadata": {},
   "source": [
    "Similarly, we can manipulate storage by e.g. deleting calls based on this\n",
    "dataframe. For example, we can delete all calls to `train_model` where \n",
    "`train_acc < 0.8`:"
   ]
  },
  {
   "cell_type": "code",
   "execution_count": 15,
   "metadata": {},
   "outputs": [
    {
     "data": {
      "text/html": [
       "<pre style=\"white-space:pre;overflow-x:auto;line-height:normal;font-family:Menlo,'DejaVu Sans Mono',consolas,'Courier New',monospace\"><span style=\"color: #7fbfbf; text-decoration-color: #7fbfbf\">[23:01:00] </span><span style=\"color: #000080; text-decoration-color: #000080\">INFO    </span> Dropped <span style=\"color: #008080; text-decoration-color: #008080; font-weight: bold\">3</span> calls <span style=\"font-weight: bold\">(</span>and <span style=\"color: #008080; text-decoration-color: #008080; font-weight: bold\">3</span> from cache<span style=\"font-weight: bold\">)</span>.                                              <span style=\"color: #7f7f7f; text-decoration-color: #7f7f7f\">storage.py:331</span>\n",
       "</pre>\n"
      ],
      "text/plain": [
       "\u001b[2;36m[23:01:00]\u001b[0m\u001b[2;36m \u001b[0m\u001b[34mINFO    \u001b[0m Dropped \u001b[1;36m3\u001b[0m calls \u001b[1m(\u001b[0mand \u001b[1;36m3\u001b[0m from cache\u001b[1m)\u001b[0m.                                              \u001b[2mstorage.py\u001b[0m\u001b[2m:\u001b[0m\u001b[2m331\u001b[0m\n"
      ]
     },
     "metadata": {},
     "output_type": "display_data"
    },
    {
     "name": "stdout",
     "output_type": "stream",
     "text": [
      "Extracting tuples from the computation graph:\n",
      "    X_train@output_0, y_train@output_2 = generate_dataset(random_seed=random_seed)\n",
      "    model@output_0, train_acc@output_1 = train_model(y_train=y_train, max_depth=max_depth, n_estimators=n_estimators, X_train=X_train)\n",
      "    eval_acc@output_0 = eval_model(model=model)\n"
     ]
    },
    {
     "data": {
      "text/html": [
       "<div>\n",
       "<style scoped>\n",
       "    .dataframe tbody tr th:only-of-type {\n",
       "        vertical-align: middle;\n",
       "    }\n",
       "\n",
       "    .dataframe tbody tr th {\n",
       "        vertical-align: top;\n",
       "    }\n",
       "\n",
       "    .dataframe thead th {\n",
       "        text-align: right;\n",
       "    }\n",
       "</style>\n",
       "<table border=\"1\" class=\"dataframe\">\n",
       "  <thead>\n",
       "    <tr style=\"text-align: right;\">\n",
       "      <th></th>\n",
       "      <th>max_depth</th>\n",
       "      <th>n_estimators</th>\n",
       "      <th>random_seed</th>\n",
       "      <th>generate_dataset</th>\n",
       "      <th>train_model</th>\n",
       "      <th>model</th>\n",
       "      <th>eval_model</th>\n",
       "      <th>eval_acc</th>\n",
       "      <th>train_acc</th>\n",
       "    </tr>\n",
       "  </thead>\n",
       "  <tbody>\n",
       "    <tr>\n",
       "      <th>0</th>\n",
       "      <td>NaN</td>\n",
       "      <td>NaN</td>\n",
       "      <td>42</td>\n",
       "      <td>Call(generate_dataset, cid='19a...', hid='c3f....</td>\n",
       "      <td>Call(train_model, cid='ca5...', hid='ac0...')</td>\n",
       "      <td>(DecisionTreeClassifier(max_features='sqrt', r...</td>\n",
       "      <td>Call(eval_model, cid='be0...', hid='c5a...')</td>\n",
       "      <td>0.76</td>\n",
       "      <td>0.91</td>\n",
       "    </tr>\n",
       "    <tr>\n",
       "      <th>1</th>\n",
       "      <td>2.0</td>\n",
       "      <td>100.0</td>\n",
       "      <td>42</td>\n",
       "      <td>Call(generate_dataset, cid='19a...', hid='c3f....</td>\n",
       "      <td>Call(train_model, cid='4f4...', hid='fe1...')</td>\n",
       "      <td>(DecisionTreeClassifier(max_depth=2, max_featu...</td>\n",
       "      <td>None</td>\n",
       "      <td>NaN</td>\n",
       "      <td>0.84</td>\n",
       "    </tr>\n",
       "    <tr>\n",
       "      <th>2</th>\n",
       "      <td>NaN</td>\n",
       "      <td>100.0</td>\n",
       "      <td>42</td>\n",
       "      <td>Call(generate_dataset, cid='19a...', hid='c3f....</td>\n",
       "      <td>Call(train_model, cid='bb3...', hid='255...')</td>\n",
       "      <td>(DecisionTreeClassifier(max_features='sqrt', r...</td>\n",
       "      <td>Call(eval_model, cid='ad4...', hid='07b...')</td>\n",
       "      <td>0.98</td>\n",
       "      <td>1.00</td>\n",
       "    </tr>\n",
       "    <tr>\n",
       "      <th>3</th>\n",
       "      <td>NaN</td>\n",
       "      <td>10.0</td>\n",
       "      <td>42</td>\n",
       "      <td>Call(generate_dataset, cid='19a...', hid='c3f....</td>\n",
       "      <td>Call(train_model, cid='c4f...', hid='5f7...')</td>\n",
       "      <td>(DecisionTreeClassifier(max_features='sqrt', r...</td>\n",
       "      <td>Call(eval_model, cid='e3b...', hid='ed5...')</td>\n",
       "      <td>0.94</td>\n",
       "      <td>1.00</td>\n",
       "    </tr>\n",
       "  </tbody>\n",
       "</table>\n",
       "</div>"
      ],
      "text/plain": [
       "   max_depth  n_estimators  random_seed  \\\n",
       "0        NaN           NaN           42   \n",
       "1        2.0         100.0           42   \n",
       "2        NaN         100.0           42   \n",
       "3        NaN          10.0           42   \n",
       "\n",
       "                                    generate_dataset  \\\n",
       "0  Call(generate_dataset, cid='19a...', hid='c3f....   \n",
       "1  Call(generate_dataset, cid='19a...', hid='c3f....   \n",
       "2  Call(generate_dataset, cid='19a...', hid='c3f....   \n",
       "3  Call(generate_dataset, cid='19a...', hid='c3f....   \n",
       "\n",
       "                                     train_model  \\\n",
       "0  Call(train_model, cid='ca5...', hid='ac0...')   \n",
       "1  Call(train_model, cid='4f4...', hid='fe1...')   \n",
       "2  Call(train_model, cid='bb3...', hid='255...')   \n",
       "3  Call(train_model, cid='c4f...', hid='5f7...')   \n",
       "\n",
       "                                               model  \\\n",
       "0  (DecisionTreeClassifier(max_features='sqrt', r...   \n",
       "1  (DecisionTreeClassifier(max_depth=2, max_featu...   \n",
       "2  (DecisionTreeClassifier(max_features='sqrt', r...   \n",
       "3  (DecisionTreeClassifier(max_features='sqrt', r...   \n",
       "\n",
       "                                     eval_model  eval_acc  train_acc  \n",
       "0  Call(eval_model, cid='be0...', hid='c5a...')      0.76       0.91  \n",
       "1                                          None       NaN       0.84  \n",
       "2  Call(eval_model, cid='ad4...', hid='07b...')      0.98       1.00  \n",
       "3  Call(eval_model, cid='e3b...', hid='ed5...')      0.94       1.00  "
      ]
     },
     "execution_count": 15,
     "metadata": {},
     "output_type": "execute_result"
    }
   ],
   "source": [
    "storage.drop_calls(df.query('train_acc < 0.8').train_model, delete_dependents=True)\n",
    "# now check that the dropped calls are gone\n",
    "cf = storage.cf(train_model).expand().rename(vars={'output_0': 'model', 'output_1': 'train_acc', 'output_0_0': 'eval_acc'})\n",
    "cf.get_df(lazy_vars=['X_train', 'y_train']).drop(columns=['X_train', 'y_train'])"
   ]
  }
 ],
 "metadata": {
  "kernelspec": {
   "display_name": "Python 3.10.8",
   "language": "python",
   "name": "python3"
  },
  "language_info": {
   "codemirror_mode": {
    "name": "ipython",
    "version": 3
   },
   "file_extension": ".py",
   "mimetype": "text/x-python",
   "name": "python",
   "nbconvert_exporter": "python",
   "pygments_lexer": "ipython3",
   "version": "3.10.8"
  },
  "orig_nbformat": 4,
  "vscode": {
   "interpreter": {
    "hash": "30c0510467e0bc33a523a84a8acb20ce0730b8eb0ee254a4b0039140f094f217"
   }
  }
 },
 "nbformat": 4,
 "nbformat_minor": 2
}
