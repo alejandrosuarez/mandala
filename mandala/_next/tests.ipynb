{
 "cells": [
  {
   "cell_type": "code",
   "execution_count": 5,
   "metadata": {},
   "outputs": [],
   "source": [
    "from mandala._next.imports import *\n",
    "from mandala._next.common_imports import *\n",
    "from mandala._next.utils import *"
   ]
  },
  {
   "cell_type": "code",
   "execution_count": null,
   "metadata": {},
   "outputs": [],
   "source": [
    "# set the logging level to DEBUG\n",
    "# get the root logger\n",
    "logger = logging.getLogger()\n",
    "# set the logging level\n",
    "logger.setLevel(logging.INFO)"
   ]
  },
  {
   "cell_type": "code",
   "execution_count": 6,
   "metadata": {},
   "outputs": [],
   "source": [
    "### some example functions\n",
    "@op\n",
    "def inc(x: int) -> int:\n",
    "    return x + 1\n",
    "\n",
    "@op\n",
    "def divmod(x: int, y: int) -> Tuple[int, int]:\n",
    "    return x // y, x % y\n",
    "\n",
    "@op # a function with a wild input signature\n",
    "def add(x, *args, y: int = 1, **kwargs):\n",
    "    # just sum everything\n",
    "    return x + sum(args) + y + sum(kwargs.values())\n",
    "\n",
    "@op # a function with a variable number of outputs\n",
    "def factorize(n: int) -> Tuple[int, ...]:\n",
    "    factors = []\n",
    "    for i in range(2, n + 1):\n",
    "        while n % i == 0:\n",
    "            factors.append(i)\n",
    "            n //= i\n",
    "    return tuple(factors)\n",
    "\n",
    "@op # function with list input and dict output\n",
    "def get_stats(nums: MList[Any]) -> MDict[str, float]:\n",
    "    return {\n",
    "        'avg': float(sum(nums) / len(nums)),\n",
    "        'sum': float(sum(nums)),\n",
    "    }"
   ]
  },
  {
   "cell_type": "markdown",
   "metadata": {},
   "source": [
    "# Examples of interesting CFs"
   ]
  },
  {
   "cell_type": "code",
   "execution_count": 7,
   "metadata": {},
   "outputs": [],
   "source": [
    "### pipeline where some intermediate nodes contain source/sink refs\n",
    "storage = Storage()"
   ]
  },
  {
   "cell_type": "code",
   "execution_count": 8,
   "metadata": {},
   "outputs": [
    {
     "data": {
      "text/html": [
       "<pre style=\"white-space:pre;overflow-x:auto;line-height:normal;font-family:Menlo,'DejaVu Sans Mono',consolas,'Courier New',monospace\"><span style=\"color: #7fbfbf; text-decoration-color: #7fbfbf\">[17:32:15] </span><span style=\"color: #000080; text-decoration-color: #000080\">INFO    </span> Caching new op inc.                                                              <span style=\"color: #7f7f7f; text-decoration-color: #7f7f7f\">storage.py:258</span>\n",
       "</pre>\n"
      ],
      "text/plain": [
       "\u001b[2;36m[17:32:15]\u001b[0m\u001b[2;36m \u001b[0m\u001b[34mINFO    \u001b[0m Caching new op inc.                                                              \u001b[2mstorage.py\u001b[0m\u001b[2m:\u001b[0m\u001b[2m258\u001b[0m\n"
      ]
     },
     "metadata": {},
     "output_type": "display_data"
    },
    {
     "data": {
      "text/html": [
       "<pre style=\"white-space:pre;overflow-x:auto;line-height:normal;font-family:Menlo,'DejaVu Sans Mono',consolas,'Courier New',monospace\"><span style=\"color: #7fbfbf; text-decoration-color: #7fbfbf\">           </span><span style=\"color: #000080; text-decoration-color: #000080\">INFO    </span> Caching new op divmod.                                                           <span style=\"color: #7f7f7f; text-decoration-color: #7f7f7f\">storage.py:258</span>\n",
       "</pre>\n"
      ],
      "text/plain": [
       "\u001b[2;36m          \u001b[0m\u001b[2;36m \u001b[0m\u001b[34mINFO    \u001b[0m Caching new op divmod.                                                           \u001b[2mstorage.py\u001b[0m\u001b[2m:\u001b[0m\u001b[2m258\u001b[0m\n"
      ]
     },
     "metadata": {},
     "output_type": "display_data"
    },
    {
     "name": "stdout",
     "output_type": "stream",
     "text": [
      "{'x': AtomRef(hid='63e...', cid='489...', in_memory=False), 'y': AtomRef(hid='610...', cid='366...', in_memory=False)}\n",
      "{'output_0': AtomRef(hid='249...', cid='489...', in_memory=False), 'output_1': AtomRef(hid='56f...', cid='83a...', in_memory=False)}\n"
     ]
    },
    {
     "data": {
      "text/html": [
       "<pre style=\"white-space:pre;overflow-x:auto;line-height:normal;font-family:Menlo,'DejaVu Sans Mono',consolas,'Courier New',monospace\"><span style=\"color: #7fbfbf; text-decoration-color: #7fbfbf\">           </span><span style=\"color: #000080; text-decoration-color: #000080\">INFO    </span> Caching new op factorize.                                                        <span style=\"color: #7f7f7f; text-decoration-color: #7f7f7f\">storage.py:258</span>\n",
       "</pre>\n"
      ],
      "text/plain": [
       "\u001b[2;36m          \u001b[0m\u001b[2;36m \u001b[0m\u001b[34mINFO    \u001b[0m Caching new op factorize.                                                        \u001b[2mstorage.py\u001b[0m\u001b[2m:\u001b[0m\u001b[2m258\u001b[0m\n"
      ]
     },
     "metadata": {},
     "output_type": "display_data"
    }
   ],
   "source": [
    "with storage:\n",
    "    total_inputs = [1, 2, 3, 4, 5]\n",
    "    intermediate_inputs = [6, 7, 8, 9, 10]\n",
    "\n",
    "    res_1 = [inc(x) for x in total_inputs]\n",
    "    res_2 = [divmod(x, 1)[0] for x in res_1 + intermediate_inputs]\n",
    "    res_3 = [factorize(x) for x in [res_2[i] for i in range(0, len(res_2), 2)]]"
   ]
  },
  {
   "cell_type": "code",
   "execution_count": 9,
   "metadata": {},
   "outputs": [
    {
     "data": {
      "image/svg+xml": [
       "<?xml version=\"1.0\" encoding=\"UTF-8\" standalone=\"no\"?>\n",
       "<!DOCTYPE svg PUBLIC \"-//W3C//DTD SVG 1.1//EN\"\n",
       " \"http://www.w3.org/Graphics/SVG/1.1/DTD/svg11.dtd\">\n",
       "<!-- Generated by graphviz version 2.43.0 (0)\n",
       " -->\n",
       "<!-- Title: G Pages: 1 -->\n",
       "<svg width=\"809pt\" height=\"135pt\"\n",
       " viewBox=\"0.00 0.00 809.00 135.00\" xmlns=\"http://www.w3.org/2000/svg\" xmlns:xlink=\"http://www.w3.org/1999/xlink\">\n",
       "<g id=\"graph0\" class=\"graph\" transform=\"scale(1 1) rotate(0) translate(4 131)\">\n",
       "<title>G</title>\n",
       "<polygon fill=\"white\" stroke=\"transparent\" points=\"-4,4 -4,-131 805,-131 805,4 -4,4\"/>\n",
       "<!-- output_0 -->\n",
       "<g id=\"node1\" class=\"node\">\n",
       "<title>output_0</title>\n",
       "<path fill=\"none\" stroke=\"#268bd2\" d=\"M523,-100C523,-100 482,-100 482,-100 476,-100 470,-94 470,-88 470,-88 470,-76 470,-76 470,-70 476,-64 482,-64 482,-64 523,-64 523,-64 529,-64 535,-70 535,-76 535,-76 535,-88 535,-88 535,-94 529,-100 523,-100\"/>\n",
       "<text text-anchor=\"start\" x=\"478\" y=\"-85\" font-family=\"Helvetica,sans-Serif\" font-weight=\"bold\" font-size=\"10.00\" fill=\"#002b36\">output_0</text>\n",
       "<text text-anchor=\"start\" x=\"481.5\" y=\"-75\" font-family=\"Helvetica,sans-Serif\" font-size=\"10.00\" fill=\"#268bd2\">(10 refs)</text>\n",
       "</g>\n",
       "<!-- factorize -->\n",
       "<g id=\"node10\" class=\"node\">\n",
       "<title>factorize</title>\n",
       "<path fill=\"none\" stroke=\"#dc322f\" d=\"M633,-100C633,-100 590,-100 590,-100 584,-100 578,-94 578,-88 578,-88 578,-76 578,-76 578,-70 584,-64 590,-64 590,-64 633,-64 633,-64 639,-64 645,-70 645,-76 645,-76 645,-88 645,-88 645,-94 639,-100 633,-100\"/>\n",
       "<text text-anchor=\"start\" x=\"586\" y=\"-85\" font-family=\"Helvetica,sans-Serif\" font-weight=\"bold\" font-size=\"10.00\" fill=\"#002b36\">factorize</text>\n",
       "<text text-anchor=\"start\" x=\"591.5\" y=\"-75\" font-family=\"Helvetica,sans-Serif\" font-size=\"10.00\" fill=\"#dc322f\">(5 calls)</text>\n",
       "</g>\n",
       "<!-- output_0&#45;&gt;factorize -->\n",
       "<g id=\"edge5\" class=\"edge\">\n",
       "<title>output_0&#45;&gt;factorize</title>\n",
       "<path fill=\"none\" stroke=\"#002b36\" d=\"M535.02,-82C545.21,-82 556.68,-82 567.54,-82\"/>\n",
       "<polygon fill=\"#002b36\" stroke=\"#002b36\" points=\"567.71,-85.5 577.71,-82 567.71,-78.5 567.71,-85.5\"/>\n",
       "<text text-anchor=\"middle\" x=\"556.5\" y=\"-85\" font-family=\"Helvetica,sans-Serif\" font-size=\"10.00\" fill=\"#002b36\">n</text>\n",
       "</g>\n",
       "<!-- y -->\n",
       "<g id=\"node2\" class=\"node\">\n",
       "<title>y</title>\n",
       "<path fill=\"none\" stroke=\"#268bd2\" d=\"M274,-90C274,-90 244,-90 244,-90 238,-90 232,-84 232,-78 232,-78 232,-66 232,-66 232,-60 238,-54 244,-54 244,-54 274,-54 274,-54 280,-54 286,-60 286,-66 286,-66 286,-78 286,-78 286,-84 280,-90 274,-90\"/>\n",
       "<text text-anchor=\"start\" x=\"255.5\" y=\"-75\" font-family=\"Helvetica,sans-Serif\" font-weight=\"bold\" font-size=\"10.00\" fill=\"#002b36\">y</text>\n",
       "<text text-anchor=\"start\" x=\"241\" y=\"-65\" font-family=\"Helvetica,sans-Serif\" font-size=\"10.00\" fill=\"#268bd2\">(1 refs)</text>\n",
       "</g>\n",
       "<!-- divmod -->\n",
       "<g id=\"node9\" class=\"node\">\n",
       "<title>divmod</title>\n",
       "<path fill=\"none\" stroke=\"#dc322f\" d=\"M379,-63C379,-63 341,-63 341,-63 335,-63 329,-57 329,-51 329,-51 329,-39 329,-39 329,-33 335,-27 341,-27 341,-27 379,-27 379,-27 385,-27 391,-33 391,-39 391,-39 391,-51 391,-51 391,-57 385,-63 379,-63\"/>\n",
       "<text text-anchor=\"start\" x=\"338.5\" y=\"-48\" font-family=\"Helvetica,sans-Serif\" font-weight=\"bold\" font-size=\"10.00\" fill=\"#002b36\">divmod</text>\n",
       "<text text-anchor=\"start\" x=\"337\" y=\"-38\" font-family=\"Helvetica,sans-Serif\" font-size=\"10.00\" fill=\"#dc322f\">(10 calls)</text>\n",
       "</g>\n",
       "<!-- y&#45;&gt;divmod -->\n",
       "<g id=\"edge3\" class=\"edge\">\n",
       "<title>y&#45;&gt;divmod</title>\n",
       "<path fill=\"none\" stroke=\"#002b36\" d=\"M286.01,-64.91C296.1,-62.15 307.88,-58.94 319,-55.91\"/>\n",
       "<polygon fill=\"#002b36\" stroke=\"#002b36\" points=\"320.23,-59.2 328.96,-53.19 318.39,-52.45 320.23,-59.2\"/>\n",
       "<text text-anchor=\"middle\" x=\"307.5\" y=\"-63\" font-family=\"Helvetica,sans-Serif\" font-size=\"10.00\" fill=\"#002b36\">y</text>\n",
       "</g>\n",
       "<!-- output_1_0 -->\n",
       "<g id=\"node3\" class=\"node\">\n",
       "<title>output_1_0</title>\n",
       "<path fill=\"none\" stroke=\"#268bd2\" d=\"M789,-127C789,-127 736,-127 736,-127 730,-127 724,-121 724,-115 724,-115 724,-103 724,-103 724,-97 730,-91 736,-91 736,-91 789,-91 789,-91 795,-91 801,-97 801,-103 801,-103 801,-115 801,-115 801,-121 795,-127 789,-127\"/>\n",
       "<text text-anchor=\"start\" x=\"732\" y=\"-112\" font-family=\"Helvetica,sans-Serif\" font-weight=\"bold\" font-size=\"10.00\" fill=\"#002b36\">output_1_0</text>\n",
       "<text text-anchor=\"start\" x=\"744.5\" y=\"-102\" font-family=\"Helvetica,sans-Serif\" font-size=\"10.00\" fill=\"#268bd2\">(3 refs)</text>\n",
       "</g>\n",
       "<!-- x -->\n",
       "<g id=\"node4\" class=\"node\">\n",
       "<title>x</title>\n",
       "<path fill=\"none\" stroke=\"#268bd2\" d=\"M274,-36C274,-36 244,-36 244,-36 238,-36 232,-30 232,-24 232,-24 232,-12 232,-12 232,-6 238,0 244,0 244,0 274,0 274,0 280,0 286,-6 286,-12 286,-12 286,-24 286,-24 286,-30 280,-36 274,-36\"/>\n",
       "<text text-anchor=\"start\" x=\"255.5\" y=\"-21\" font-family=\"Helvetica,sans-Serif\" font-weight=\"bold\" font-size=\"10.00\" fill=\"#002b36\">x</text>\n",
       "<text text-anchor=\"start\" x=\"241\" y=\"-11\" font-family=\"Helvetica,sans-Serif\" font-size=\"10.00\" fill=\"#268bd2\">(9 refs)</text>\n",
       "</g>\n",
       "<!-- x&#45;&gt;divmod -->\n",
       "<g id=\"edge4\" class=\"edge\">\n",
       "<title>x&#45;&gt;divmod</title>\n",
       "<path fill=\"none\" stroke=\"#002b36\" d=\"M286.01,-25.09C296.1,-27.85 307.88,-31.06 319,-34.09\"/>\n",
       "<polygon fill=\"#002b36\" stroke=\"#002b36\" points=\"318.39,-37.55 328.96,-36.81 320.23,-30.8 318.39,-37.55\"/>\n",
       "<text text-anchor=\"middle\" x=\"307.5\" y=\"-35\" font-family=\"Helvetica,sans-Serif\" font-size=\"10.00\" fill=\"#002b36\">x</text>\n",
       "</g>\n",
       "<!-- output_0_0 -->\n",
       "<g id=\"node5\" class=\"node\">\n",
       "<title>output_0_0</title>\n",
       "<path fill=\"none\" stroke=\"#268bd2\" d=\"M789,-73C789,-73 736,-73 736,-73 730,-73 724,-67 724,-61 724,-61 724,-49 724,-49 724,-43 730,-37 736,-37 736,-37 789,-37 789,-37 795,-37 801,-43 801,-49 801,-49 801,-61 801,-61 801,-67 795,-73 789,-73\"/>\n",
       "<text text-anchor=\"start\" x=\"732\" y=\"-58\" font-family=\"Helvetica,sans-Serif\" font-weight=\"bold\" font-size=\"10.00\" fill=\"#002b36\">output_0_0</text>\n",
       "<text text-anchor=\"start\" x=\"744.5\" y=\"-48\" font-family=\"Helvetica,sans-Serif\" font-size=\"10.00\" fill=\"#268bd2\">(5 refs)</text>\n",
       "</g>\n",
       "<!-- output_1 -->\n",
       "<g id=\"node6\" class=\"node\">\n",
       "<title>output_1</title>\n",
       "<path fill=\"none\" stroke=\"#268bd2\" d=\"M523,-46C523,-46 482,-46 482,-46 476,-46 470,-40 470,-34 470,-34 470,-22 470,-22 470,-16 476,-10 482,-10 482,-10 523,-10 523,-10 529,-10 535,-16 535,-22 535,-22 535,-34 535,-34 535,-40 529,-46 523,-46\"/>\n",
       "<text text-anchor=\"start\" x=\"478\" y=\"-31\" font-family=\"Helvetica,sans-Serif\" font-weight=\"bold\" font-size=\"10.00\" fill=\"#002b36\">output_1</text>\n",
       "<text text-anchor=\"start\" x=\"481.5\" y=\"-21\" font-family=\"Helvetica,sans-Serif\" font-size=\"10.00\" fill=\"#268bd2\">(10 refs)</text>\n",
       "</g>\n",
       "<!-- x_0 -->\n",
       "<g id=\"node7\" class=\"node\">\n",
       "<title>x_0</title>\n",
       "<path fill=\"none\" stroke=\"#268bd2\" d=\"M42,-36C42,-36 12,-36 12,-36 6,-36 0,-30 0,-24 0,-24 0,-12 0,-12 0,-6 6,0 12,0 12,0 42,0 42,0 48,0 54,-6 54,-12 54,-12 54,-24 54,-24 54,-30 48,-36 42,-36\"/>\n",
       "<text text-anchor=\"start\" x=\"17.5\" y=\"-21\" font-family=\"Helvetica,sans-Serif\" font-weight=\"bold\" font-size=\"10.00\" fill=\"#002b36\">x_0</text>\n",
       "<text text-anchor=\"start\" x=\"9\" y=\"-11\" font-family=\"Helvetica,sans-Serif\" font-size=\"10.00\" fill=\"#268bd2\">(5 refs)</text>\n",
       "</g>\n",
       "<!-- inc -->\n",
       "<g id=\"node8\" class=\"node\">\n",
       "<title>inc</title>\n",
       "<path fill=\"none\" stroke=\"#dc322f\" d=\"M141,-36C141,-36 109,-36 109,-36 103,-36 97,-30 97,-24 97,-24 97,-12 97,-12 97,-6 103,0 109,0 109,0 141,0 141,0 147,0 153,-6 153,-12 153,-12 153,-24 153,-24 153,-30 147,-36 141,-36\"/>\n",
       "<text text-anchor=\"start\" x=\"116.5\" y=\"-21\" font-family=\"Helvetica,sans-Serif\" font-weight=\"bold\" font-size=\"10.00\" fill=\"#002b36\">inc</text>\n",
       "<text text-anchor=\"start\" x=\"105\" y=\"-11\" font-family=\"Helvetica,sans-Serif\" font-size=\"10.00\" fill=\"#dc322f\">(5 calls)</text>\n",
       "</g>\n",
       "<!-- x_0&#45;&gt;inc -->\n",
       "<g id=\"edge7\" class=\"edge\">\n",
       "<title>x_0&#45;&gt;inc</title>\n",
       "<path fill=\"none\" stroke=\"#002b36\" d=\"M54.23,-18C64.25,-18 75.86,-18 86.71,-18\"/>\n",
       "<polygon fill=\"#002b36\" stroke=\"#002b36\" points=\"86.8,-21.5 96.8,-18 86.8,-14.5 86.8,-21.5\"/>\n",
       "<text text-anchor=\"middle\" x=\"75.5\" y=\"-21\" font-family=\"Helvetica,sans-Serif\" font-size=\"10.00\" fill=\"#002b36\">x</text>\n",
       "</g>\n",
       "<!-- inc&#45;&gt;x -->\n",
       "<g id=\"edge6\" class=\"edge\">\n",
       "<title>inc&#45;&gt;x</title>\n",
       "<path fill=\"none\" stroke=\"#002b36\" d=\"M153.03,-18C172.87,-18 200.02,-18 221.74,-18\"/>\n",
       "<polygon fill=\"#002b36\" stroke=\"#002b36\" points=\"221.91,-21.5 231.91,-18 221.9,-14.5 221.91,-21.5\"/>\n",
       "<text text-anchor=\"middle\" x=\"192.5\" y=\"-21\" font-family=\"Helvetica,sans-Serif\" font-size=\"10.00\" fill=\"#002b36\">output_0</text>\n",
       "</g>\n",
       "<!-- divmod&#45;&gt;output_0 -->\n",
       "<g id=\"edge1\" class=\"edge\">\n",
       "<title>divmod&#45;&gt;output_0</title>\n",
       "<path fill=\"none\" stroke=\"#002b36\" d=\"M391.14,-52.94C411.28,-58.24 438.03,-65.29 460.15,-71.11\"/>\n",
       "<polygon fill=\"#002b36\" stroke=\"#002b36\" points=\"459.39,-74.53 469.95,-73.69 461.17,-67.76 459.39,-74.53\"/>\n",
       "<text text-anchor=\"middle\" x=\"430.5\" y=\"-71\" font-family=\"Helvetica,sans-Serif\" font-size=\"10.00\" fill=\"#002b36\">output_0</text>\n",
       "</g>\n",
       "<!-- divmod&#45;&gt;output_1 -->\n",
       "<g id=\"edge2\" class=\"edge\">\n",
       "<title>divmod&#45;&gt;output_1</title>\n",
       "<path fill=\"none\" stroke=\"#002b36\" d=\"M391.21,-41.2C397.11,-40.46 403.25,-39.7 409,-39 425.59,-36.98 443.87,-34.79 459.76,-32.91\"/>\n",
       "<polygon fill=\"#002b36\" stroke=\"#002b36\" points=\"460.29,-36.37 469.81,-31.72 459.47,-29.42 460.29,-36.37\"/>\n",
       "<text text-anchor=\"middle\" x=\"430.5\" y=\"-42\" font-family=\"Helvetica,sans-Serif\" font-size=\"10.00\" fill=\"#002b36\">output_1</text>\n",
       "</g>\n",
       "<!-- factorize&#45;&gt;output_1_0 -->\n",
       "<g id=\"edge9\" class=\"edge\">\n",
       "<title>factorize&#45;&gt;output_1_0</title>\n",
       "<path fill=\"none\" stroke=\"#002b36\" d=\"M645.2,-87.93C665.33,-91.57 691.48,-96.31 713.89,-100.37\"/>\n",
       "<polygon fill=\"#002b36\" stroke=\"#002b36\" points=\"713.42,-103.84 723.89,-102.18 714.67,-96.96 713.42,-103.84\"/>\n",
       "<text text-anchor=\"middle\" x=\"684.5\" y=\"-101\" font-family=\"Helvetica,sans-Serif\" font-size=\"10.00\" fill=\"#002b36\">output_1</text>\n",
       "</g>\n",
       "<!-- factorize&#45;&gt;output_0_0 -->\n",
       "<g id=\"edge8\" class=\"edge\">\n",
       "<title>factorize&#45;&gt;output_0_0</title>\n",
       "<path fill=\"none\" stroke=\"#002b36\" d=\"M645.2,-76.07C665.33,-72.43 691.48,-67.69 713.89,-63.63\"/>\n",
       "<polygon fill=\"#002b36\" stroke=\"#002b36\" points=\"714.67,-67.04 723.89,-61.82 713.42,-60.16 714.67,-67.04\"/>\n",
       "<text text-anchor=\"middle\" x=\"684.5\" y=\"-75\" font-family=\"Helvetica,sans-Serif\" font-size=\"10.00\" fill=\"#002b36\">output_0</text>\n",
       "</g>\n",
       "</g>\n",
       "</svg>\n"
      ],
      "text/plain": [
       "<graphviz.sources.Source at 0x7af43a187bb0>"
      ]
     },
     "metadata": {},
     "output_type": "display_data"
    },
    {
     "name": "stdout",
     "output_type": "stream",
     "text": [
      "Extracting tuples from the computation graph:\n",
      "    x@output_0 = inc(x=x_0)\n",
      "    output_0@output_0, output_1@output_1 = divmod(y=y, x=x)\n",
      "    output_0_0@output_0, output_1_0@output_1 = factorize(n=output_0)\n"
     ]
    },
    {
     "data": {
      "text/html": [
       "<div>\n",
       "<style scoped>\n",
       "    .dataframe tbody tr th:only-of-type {\n",
       "        vertical-align: middle;\n",
       "    }\n",
       "\n",
       "    .dataframe tbody tr th {\n",
       "        vertical-align: top;\n",
       "    }\n",
       "\n",
       "    .dataframe thead th {\n",
       "        text-align: right;\n",
       "    }\n",
       "</style>\n",
       "<table border=\"1\" class=\"dataframe\">\n",
       "  <thead>\n",
       "    <tr style=\"text-align: right;\">\n",
       "      <th></th>\n",
       "      <th>x_0</th>\n",
       "      <th>x</th>\n",
       "      <th>y</th>\n",
       "      <th>output_1</th>\n",
       "      <th>output_0</th>\n",
       "      <th>output_1_0</th>\n",
       "      <th>output_0_0</th>\n",
       "    </tr>\n",
       "  </thead>\n",
       "  <tbody>\n",
       "    <tr>\n",
       "      <th>0</th>\n",
       "      <td>NaN</td>\n",
       "      <td>8</td>\n",
       "      <td>1</td>\n",
       "      <td>0</td>\n",
       "      <td>8</td>\n",
       "      <td>NaN</td>\n",
       "      <td>NaN</td>\n",
       "    </tr>\n",
       "    <tr>\n",
       "      <th>1</th>\n",
       "      <td>5.0</td>\n",
       "      <td>6</td>\n",
       "      <td>1</td>\n",
       "      <td>0</td>\n",
       "      <td>6</td>\n",
       "      <td>NaN</td>\n",
       "      <td>NaN</td>\n",
       "    </tr>\n",
       "    <tr>\n",
       "      <th>2</th>\n",
       "      <td>5.0</td>\n",
       "      <td>6</td>\n",
       "      <td>1</td>\n",
       "      <td>0</td>\n",
       "      <td>6</td>\n",
       "      <td>NaN</td>\n",
       "      <td>NaN</td>\n",
       "    </tr>\n",
       "    <tr>\n",
       "      <th>3</th>\n",
       "      <td>5.0</td>\n",
       "      <td>6</td>\n",
       "      <td>1</td>\n",
       "      <td>0</td>\n",
       "      <td>6</td>\n",
       "      <td>3.0</td>\n",
       "      <td>2.0</td>\n",
       "    </tr>\n",
       "    <tr>\n",
       "      <th>4</th>\n",
       "      <td>5.0</td>\n",
       "      <td>6</td>\n",
       "      <td>1</td>\n",
       "      <td>0</td>\n",
       "      <td>6</td>\n",
       "      <td>3.0</td>\n",
       "      <td>2.0</td>\n",
       "    </tr>\n",
       "    <tr>\n",
       "      <th>5</th>\n",
       "      <td>NaN</td>\n",
       "      <td>9</td>\n",
       "      <td>1</td>\n",
       "      <td>0</td>\n",
       "      <td>9</td>\n",
       "      <td>3.0</td>\n",
       "      <td>3.0</td>\n",
       "    </tr>\n",
       "    <tr>\n",
       "      <th>6</th>\n",
       "      <td>NaN</td>\n",
       "      <td>10</td>\n",
       "      <td>1</td>\n",
       "      <td>0</td>\n",
       "      <td>10</td>\n",
       "      <td>NaN</td>\n",
       "      <td>NaN</td>\n",
       "    </tr>\n",
       "    <tr>\n",
       "      <th>7</th>\n",
       "      <td>1.0</td>\n",
       "      <td>2</td>\n",
       "      <td>1</td>\n",
       "      <td>0</td>\n",
       "      <td>2</td>\n",
       "      <td>NaN</td>\n",
       "      <td>2.0</td>\n",
       "    </tr>\n",
       "    <tr>\n",
       "      <th>8</th>\n",
       "      <td>NaN</td>\n",
       "      <td>7</td>\n",
       "      <td>1</td>\n",
       "      <td>0</td>\n",
       "      <td>7</td>\n",
       "      <td>NaN</td>\n",
       "      <td>7.0</td>\n",
       "    </tr>\n",
       "    <tr>\n",
       "      <th>9</th>\n",
       "      <td>4.0</td>\n",
       "      <td>5</td>\n",
       "      <td>1</td>\n",
       "      <td>0</td>\n",
       "      <td>5</td>\n",
       "      <td>NaN</td>\n",
       "      <td>NaN</td>\n",
       "    </tr>\n",
       "    <tr>\n",
       "      <th>10</th>\n",
       "      <td>3.0</td>\n",
       "      <td>4</td>\n",
       "      <td>1</td>\n",
       "      <td>0</td>\n",
       "      <td>4</td>\n",
       "      <td>2.0</td>\n",
       "      <td>2.0</td>\n",
       "    </tr>\n",
       "    <tr>\n",
       "      <th>11</th>\n",
       "      <td>2.0</td>\n",
       "      <td>3</td>\n",
       "      <td>1</td>\n",
       "      <td>0</td>\n",
       "      <td>3</td>\n",
       "      <td>NaN</td>\n",
       "      <td>NaN</td>\n",
       "    </tr>\n",
       "  </tbody>\n",
       "</table>\n",
       "</div>"
      ],
      "text/plain": [
       "    x_0   x  y  output_1  output_0  output_1_0  output_0_0\n",
       "0   NaN   8  1         0         8         NaN         NaN\n",
       "1   5.0   6  1         0         6         NaN         NaN\n",
       "2   5.0   6  1         0         6         NaN         NaN\n",
       "3   5.0   6  1         0         6         3.0         2.0\n",
       "4   5.0   6  1         0         6         3.0         2.0\n",
       "5   NaN   9  1         0         9         3.0         3.0\n",
       "6   NaN  10  1         0        10         NaN         NaN\n",
       "7   1.0   2  1         0         2         NaN         2.0\n",
       "8   NaN   7  1         0         7         NaN         7.0\n",
       "9   4.0   5  1         0         5         NaN         NaN\n",
       "10  3.0   4  1         0         4         2.0         2.0\n",
       "11  2.0   3  1         0         3         NaN         NaN"
      ]
     },
     "metadata": {},
     "output_type": "display_data"
    }
   ],
   "source": [
    "cf = storage.cf(divmod).expand()\n",
    "cf.draw(); display(cf.get_df(include_calls=False))"
   ]
  },
  {
   "cell_type": "code",
   "execution_count": 13,
   "metadata": {},
   "outputs": [
    {
     "data": {
      "text/html": [
       "<pre style=\"white-space:pre;overflow-x:auto;line-height:normal;font-family:Menlo,'DejaVu Sans Mono',consolas,'Courier New',monospace\"><span style=\"color: #7fbfbf; text-decoration-color: #7fbfbf\">[17:33:06] </span><span style=\"color: #000080; text-decoration-color: #000080\">INFO    </span> Caching new op inc.                                                              <span style=\"color: #7f7f7f; text-decoration-color: #7f7f7f\">storage.py:258</span>\n",
       "</pre>\n"
      ],
      "text/plain": [
       "\u001b[2;36m[17:33:06]\u001b[0m\u001b[2;36m \u001b[0m\u001b[34mINFO    \u001b[0m Caching new op inc.                                                              \u001b[2mstorage.py\u001b[0m\u001b[2m:\u001b[0m\u001b[2m258\u001b[0m\n"
      ]
     },
     "metadata": {},
     "output_type": "display_data"
    },
    {
     "data": {
      "text/html": [
       "<pre style=\"white-space:pre;overflow-x:auto;line-height:normal;font-family:Menlo,'DejaVu Sans Mono',consolas,'Courier New',monospace\"><span style=\"color: #7fbfbf; text-decoration-color: #7fbfbf\">           </span><span style=\"color: #000080; text-decoration-color: #000080\">INFO    </span> Caching new op divmod.                                                           <span style=\"color: #7f7f7f; text-decoration-color: #7f7f7f\">storage.py:258</span>\n",
       "</pre>\n"
      ],
      "text/plain": [
       "\u001b[2;36m          \u001b[0m\u001b[2;36m \u001b[0m\u001b[34mINFO    \u001b[0m Caching new op divmod.                                                           \u001b[2mstorage.py\u001b[0m\u001b[2m:\u001b[0m\u001b[2m258\u001b[0m\n"
      ]
     },
     "metadata": {},
     "output_type": "display_data"
    }
   ],
   "source": [
    "### a pipeline where the same function is called in multiple places in the graph\n",
    "storage = Storage()\n",
    "with storage:\n",
    "    inputs = [1, 2, 3, 4, 5]\n",
    "    res_1 = [inc(x) for x in inputs]\n",
    "    res_2 = [divmod(x, 1)[0] for x in res_1]\n",
    "    res_3 = [inc(x) for x in res_2]"
   ]
  },
  {
   "cell_type": "code",
   "execution_count": 16,
   "metadata": {},
   "outputs": [
    {
     "data": {
      "image/svg+xml": [
       "<?xml version=\"1.0\" encoding=\"UTF-8\" standalone=\"no\"?>\n",
       "<!DOCTYPE svg PUBLIC \"-//W3C//DTD SVG 1.1//EN\"\n",
       " \"http://www.w3.org/Graphics/SVG/1.1/DTD/svg11.dtd\">\n",
       "<!-- Generated by graphviz version 2.43.0 (0)\n",
       " -->\n",
       "<!-- Title: G Pages: 1 -->\n",
       "<svg width=\"795pt\" height=\"108pt\"\n",
       " viewBox=\"0.00 0.00 795.00 108.00\" xmlns=\"http://www.w3.org/2000/svg\" xmlns:xlink=\"http://www.w3.org/1999/xlink\">\n",
       "<g id=\"graph0\" class=\"graph\" transform=\"scale(1 1) rotate(0) translate(4 104)\">\n",
       "<title>G</title>\n",
       "<polygon fill=\"white\" stroke=\"transparent\" points=\"-4,4 -4,-104 791,-104 791,4 -4,4\"/>\n",
       "<!-- output_0 -->\n",
       "<g id=\"node1\" class=\"node\">\n",
       "<title>output_0</title>\n",
       "<path fill=\"none\" stroke=\"#268bd2\" d=\"M520,-100C520,-100 479,-100 479,-100 473,-100 467,-94 467,-88 467,-88 467,-76 467,-76 467,-70 473,-64 479,-64 479,-64 520,-64 520,-64 526,-64 532,-70 532,-76 532,-76 532,-88 532,-88 532,-94 526,-100 520,-100\"/>\n",
       "<text text-anchor=\"start\" x=\"475\" y=\"-85\" font-family=\"Helvetica,sans-Serif\" font-weight=\"bold\" font-size=\"10.00\" fill=\"#002b36\">output_0</text>\n",
       "<text text-anchor=\"start\" x=\"481.5\" y=\"-75\" font-family=\"Helvetica,sans-Serif\" font-size=\"10.00\" fill=\"#268bd2\">(5 refs)</text>\n",
       "</g>\n",
       "<!-- inc_0 -->\n",
       "<g id=\"node7\" class=\"node\">\n",
       "<title>inc_0</title>\n",
       "<path fill=\"none\" stroke=\"#dc322f\" d=\"M619,-100C619,-100 587,-100 587,-100 581,-100 575,-94 575,-88 575,-88 575,-76 575,-76 575,-70 581,-64 587,-64 587,-64 619,-64 619,-64 625,-64 631,-70 631,-76 631,-76 631,-88 631,-88 631,-94 625,-100 619,-100\"/>\n",
       "<text text-anchor=\"start\" x=\"588.5\" y=\"-85\" font-family=\"Helvetica,sans-Serif\" font-weight=\"bold\" font-size=\"10.00\" fill=\"#002b36\">inc_0</text>\n",
       "<text text-anchor=\"start\" x=\"583\" y=\"-75\" font-family=\"Helvetica,sans-Serif\" font-size=\"10.00\" fill=\"#dc322f\">(1 calls)</text>\n",
       "</g>\n",
       "<!-- output_0&#45;&gt;inc_0 -->\n",
       "<g id=\"edge5\" class=\"edge\">\n",
       "<title>output_0&#45;&gt;inc_0</title>\n",
       "<path fill=\"none\" stroke=\"#002b36\" d=\"M532.06,-82C542.36,-82 553.9,-82 564.58,-82\"/>\n",
       "<polygon fill=\"#002b36\" stroke=\"#002b36\" points=\"564.91,-85.5 574.91,-82 564.91,-78.5 564.91,-85.5\"/>\n",
       "<text text-anchor=\"middle\" x=\"553.5\" y=\"-85\" font-family=\"Helvetica,sans-Serif\" font-size=\"10.00\" fill=\"#002b36\">x</text>\n",
       "</g>\n",
       "<!-- y -->\n",
       "<g id=\"node2\" class=\"node\">\n",
       "<title>y</title>\n",
       "<path fill=\"none\" stroke=\"#268bd2\" d=\"M274,-90C274,-90 244,-90 244,-90 238,-90 232,-84 232,-78 232,-78 232,-66 232,-66 232,-60 238,-54 244,-54 244,-54 274,-54 274,-54 280,-54 286,-60 286,-66 286,-66 286,-78 286,-78 286,-84 280,-90 274,-90\"/>\n",
       "<text text-anchor=\"start\" x=\"255.5\" y=\"-75\" font-family=\"Helvetica,sans-Serif\" font-weight=\"bold\" font-size=\"10.00\" fill=\"#002b36\">y</text>\n",
       "<text text-anchor=\"start\" x=\"241\" y=\"-65\" font-family=\"Helvetica,sans-Serif\" font-size=\"10.00\" fill=\"#268bd2\">(1 refs)</text>\n",
       "</g>\n",
       "<!-- divmod -->\n",
       "<g id=\"node9\" class=\"node\">\n",
       "<title>divmod</title>\n",
       "<path fill=\"none\" stroke=\"#dc322f\" d=\"M376,-63C376,-63 341,-63 341,-63 335,-63 329,-57 329,-51 329,-51 329,-39 329,-39 329,-33 335,-27 341,-27 341,-27 376,-27 376,-27 382,-27 388,-33 388,-39 388,-39 388,-51 388,-51 388,-57 382,-63 376,-63\"/>\n",
       "<text text-anchor=\"start\" x=\"337\" y=\"-48\" font-family=\"Helvetica,sans-Serif\" font-weight=\"bold\" font-size=\"10.00\" fill=\"#002b36\">divmod</text>\n",
       "<text text-anchor=\"start\" x=\"338.5\" y=\"-38\" font-family=\"Helvetica,sans-Serif\" font-size=\"10.00\" fill=\"#dc322f\">(5 calls)</text>\n",
       "</g>\n",
       "<!-- y&#45;&gt;divmod -->\n",
       "<g id=\"edge3\" class=\"edge\">\n",
       "<title>y&#45;&gt;divmod</title>\n",
       "<path fill=\"none\" stroke=\"#002b36\" d=\"M286.13,-64.76C296.23,-61.97 308.01,-58.71 319.04,-55.65\"/>\n",
       "<polygon fill=\"#002b36\" stroke=\"#002b36\" points=\"320.2,-58.96 328.9,-52.92 318.33,-52.22 320.2,-58.96\"/>\n",
       "<text text-anchor=\"middle\" x=\"307.5\" y=\"-63\" font-family=\"Helvetica,sans-Serif\" font-size=\"10.00\" fill=\"#002b36\">y</text>\n",
       "</g>\n",
       "<!-- x -->\n",
       "<g id=\"node3\" class=\"node\">\n",
       "<title>x</title>\n",
       "<path fill=\"none\" stroke=\"#268bd2\" d=\"M274,-36C274,-36 244,-36 244,-36 238,-36 232,-30 232,-24 232,-24 232,-12 232,-12 232,-6 238,0 244,0 244,0 274,0 274,0 280,0 286,-6 286,-12 286,-12 286,-24 286,-24 286,-30 280,-36 274,-36\"/>\n",
       "<text text-anchor=\"start\" x=\"255.5\" y=\"-21\" font-family=\"Helvetica,sans-Serif\" font-weight=\"bold\" font-size=\"10.00\" fill=\"#002b36\">x</text>\n",
       "<text text-anchor=\"start\" x=\"241\" y=\"-11\" font-family=\"Helvetica,sans-Serif\" font-size=\"10.00\" fill=\"#268bd2\">(5 refs)</text>\n",
       "</g>\n",
       "<!-- x&#45;&gt;divmod -->\n",
       "<g id=\"edge4\" class=\"edge\">\n",
       "<title>x&#45;&gt;divmod</title>\n",
       "<path fill=\"none\" stroke=\"#002b36\" d=\"M286.13,-25.24C296.23,-28.03 308.01,-31.29 319.04,-34.35\"/>\n",
       "<polygon fill=\"#002b36\" stroke=\"#002b36\" points=\"318.33,-37.78 328.9,-37.08 320.2,-31.04 318.33,-37.78\"/>\n",
       "<text text-anchor=\"middle\" x=\"307.5\" y=\"-35\" font-family=\"Helvetica,sans-Serif\" font-size=\"10.00\" fill=\"#002b36\">x</text>\n",
       "</g>\n",
       "<!-- output_0_0 -->\n",
       "<g id=\"node4\" class=\"node\">\n",
       "<title>output_0_0</title>\n",
       "<path fill=\"none\" stroke=\"#268bd2\" d=\"M775,-100C775,-100 722,-100 722,-100 716,-100 710,-94 710,-88 710,-88 710,-76 710,-76 710,-70 716,-64 722,-64 722,-64 775,-64 775,-64 781,-64 787,-70 787,-76 787,-76 787,-88 787,-88 787,-94 781,-100 775,-100\"/>\n",
       "<text text-anchor=\"start\" x=\"718\" y=\"-85\" font-family=\"Helvetica,sans-Serif\" font-weight=\"bold\" font-size=\"10.00\" fill=\"#002b36\">output_0_0</text>\n",
       "<text text-anchor=\"start\" x=\"730.5\" y=\"-75\" font-family=\"Helvetica,sans-Serif\" font-size=\"10.00\" fill=\"#268bd2\">(1 refs)</text>\n",
       "</g>\n",
       "<!-- output_1 -->\n",
       "<g id=\"node5\" class=\"node\">\n",
       "<title>output_1</title>\n",
       "<path fill=\"none\" stroke=\"#268bd2\" d=\"M520,-46C520,-46 479,-46 479,-46 473,-46 467,-40 467,-34 467,-34 467,-22 467,-22 467,-16 473,-10 479,-10 479,-10 520,-10 520,-10 526,-10 532,-16 532,-22 532,-22 532,-34 532,-34 532,-40 526,-46 520,-46\"/>\n",
       "<text text-anchor=\"start\" x=\"475\" y=\"-31\" font-family=\"Helvetica,sans-Serif\" font-weight=\"bold\" font-size=\"10.00\" fill=\"#002b36\">output_1</text>\n",
       "<text text-anchor=\"start\" x=\"481.5\" y=\"-21\" font-family=\"Helvetica,sans-Serif\" font-size=\"10.00\" fill=\"#268bd2\">(5 refs)</text>\n",
       "</g>\n",
       "<!-- x_0 -->\n",
       "<g id=\"node6\" class=\"node\">\n",
       "<title>x_0</title>\n",
       "<path fill=\"none\" stroke=\"#268bd2\" d=\"M42,-36C42,-36 12,-36 12,-36 6,-36 0,-30 0,-24 0,-24 0,-12 0,-12 0,-6 6,0 12,0 12,0 42,0 42,0 48,0 54,-6 54,-12 54,-12 54,-24 54,-24 54,-30 48,-36 42,-36\"/>\n",
       "<text text-anchor=\"start\" x=\"17.5\" y=\"-21\" font-family=\"Helvetica,sans-Serif\" font-weight=\"bold\" font-size=\"10.00\" fill=\"#002b36\">x_0</text>\n",
       "<text text-anchor=\"start\" x=\"9\" y=\"-11\" font-family=\"Helvetica,sans-Serif\" font-size=\"10.00\" fill=\"#268bd2\">(5 refs)</text>\n",
       "</g>\n",
       "<!-- inc -->\n",
       "<g id=\"node8\" class=\"node\">\n",
       "<title>inc</title>\n",
       "<path fill=\"none\" stroke=\"#dc322f\" d=\"M141,-36C141,-36 109,-36 109,-36 103,-36 97,-30 97,-24 97,-24 97,-12 97,-12 97,-6 103,0 109,0 109,0 141,0 141,0 147,0 153,-6 153,-12 153,-12 153,-24 153,-24 153,-30 147,-36 141,-36\"/>\n",
       "<text text-anchor=\"start\" x=\"116.5\" y=\"-21\" font-family=\"Helvetica,sans-Serif\" font-weight=\"bold\" font-size=\"10.00\" fill=\"#002b36\">inc</text>\n",
       "<text text-anchor=\"start\" x=\"105\" y=\"-11\" font-family=\"Helvetica,sans-Serif\" font-size=\"10.00\" fill=\"#dc322f\">(5 calls)</text>\n",
       "</g>\n",
       "<!-- x_0&#45;&gt;inc -->\n",
       "<g id=\"edge7\" class=\"edge\">\n",
       "<title>x_0&#45;&gt;inc</title>\n",
       "<path fill=\"none\" stroke=\"#002b36\" d=\"M54.23,-18C64.25,-18 75.86,-18 86.71,-18\"/>\n",
       "<polygon fill=\"#002b36\" stroke=\"#002b36\" points=\"86.8,-21.5 96.8,-18 86.8,-14.5 86.8,-21.5\"/>\n",
       "<text text-anchor=\"middle\" x=\"75.5\" y=\"-21\" font-family=\"Helvetica,sans-Serif\" font-size=\"10.00\" fill=\"#002b36\">x</text>\n",
       "</g>\n",
       "<!-- inc_0&#45;&gt;output_0_0 -->\n",
       "<g id=\"edge8\" class=\"edge\">\n",
       "<title>inc_0&#45;&gt;output_0_0</title>\n",
       "<path fill=\"none\" stroke=\"#002b36\" d=\"M631.33,-82C650.65,-82 677.06,-82 699.81,-82\"/>\n",
       "<polygon fill=\"#002b36\" stroke=\"#002b36\" points=\"699.97,-85.5 709.97,-82 699.97,-78.5 699.97,-85.5\"/>\n",
       "<text text-anchor=\"middle\" x=\"670.5\" y=\"-85\" font-family=\"Helvetica,sans-Serif\" font-size=\"10.00\" fill=\"#002b36\">output_0</text>\n",
       "</g>\n",
       "<!-- inc&#45;&gt;x -->\n",
       "<g id=\"edge6\" class=\"edge\">\n",
       "<title>inc&#45;&gt;x</title>\n",
       "<path fill=\"none\" stroke=\"#002b36\" d=\"M153.03,-18C172.87,-18 200.02,-18 221.74,-18\"/>\n",
       "<polygon fill=\"#002b36\" stroke=\"#002b36\" points=\"221.91,-21.5 231.91,-18 221.9,-14.5 221.91,-21.5\"/>\n",
       "<text text-anchor=\"middle\" x=\"192.5\" y=\"-21\" font-family=\"Helvetica,sans-Serif\" font-size=\"10.00\" fill=\"#002b36\">output_0</text>\n",
       "</g>\n",
       "<!-- divmod&#45;&gt;output_0 -->\n",
       "<g id=\"edge1\" class=\"edge\">\n",
       "<title>divmod&#45;&gt;output_0</title>\n",
       "<path fill=\"none\" stroke=\"#002b36\" d=\"M388.3,-52.67C408.16,-57.95 434.87,-65.06 457.01,-70.96\"/>\n",
       "<polygon fill=\"#002b36\" stroke=\"#002b36\" points=\"456.26,-74.38 466.83,-73.57 458.07,-67.61 456.26,-74.38\"/>\n",
       "<text text-anchor=\"middle\" x=\"427.5\" y=\"-71\" font-family=\"Helvetica,sans-Serif\" font-size=\"10.00\" fill=\"#002b36\">output_0</text>\n",
       "</g>\n",
       "<!-- divmod&#45;&gt;output_1 -->\n",
       "<g id=\"edge2\" class=\"edge\">\n",
       "<title>divmod&#45;&gt;output_1</title>\n",
       "<path fill=\"none\" stroke=\"#002b36\" d=\"M388.02,-41.27C393.96,-40.51 400.18,-39.72 406,-39 422.59,-36.94 440.86,-34.75 456.75,-32.88\"/>\n",
       "<polygon fill=\"#002b36\" stroke=\"#002b36\" points=\"457.29,-36.34 466.81,-31.69 456.47,-29.38 457.29,-36.34\"/>\n",
       "<text text-anchor=\"middle\" x=\"427.5\" y=\"-42\" font-family=\"Helvetica,sans-Serif\" font-size=\"10.00\" fill=\"#002b36\">output_1</text>\n",
       "</g>\n",
       "</g>\n",
       "</svg>\n"
      ],
      "text/plain": [
       "<graphviz.sources.Source at 0x7af439f41c00>"
      ]
     },
     "metadata": {},
     "output_type": "display_data"
    },
    {
     "name": "stdout",
     "output_type": "stream",
     "text": [
      "Extracting tuples from the computation graph:\n",
      "    x@output_0 = inc(x=x_0)\n",
      "    output_0@output_0, output_1@output_1 = divmod(y=y, x=x)\n",
      "    output_0_0@output_0 = inc_0(x=output_0)\n"
     ]
    },
    {
     "data": {
      "text/html": [
       "<div>\n",
       "<style scoped>\n",
       "    .dataframe tbody tr th:only-of-type {\n",
       "        vertical-align: middle;\n",
       "    }\n",
       "\n",
       "    .dataframe tbody tr th {\n",
       "        vertical-align: top;\n",
       "    }\n",
       "\n",
       "    .dataframe thead th {\n",
       "        text-align: right;\n",
       "    }\n",
       "</style>\n",
       "<table border=\"1\" class=\"dataframe\">\n",
       "  <thead>\n",
       "    <tr style=\"text-align: right;\">\n",
       "      <th></th>\n",
       "      <th>x_0</th>\n",
       "      <th>inc</th>\n",
       "      <th>x</th>\n",
       "      <th>y</th>\n",
       "      <th>divmod</th>\n",
       "      <th>output_1</th>\n",
       "      <th>output_0</th>\n",
       "      <th>inc_0</th>\n",
       "      <th>output_0_0</th>\n",
       "    </tr>\n",
       "  </thead>\n",
       "  <tbody>\n",
       "    <tr>\n",
       "      <th>0</th>\n",
       "      <td>4</td>\n",
       "      <td>Call(inc, cid='dae...', hid='a50...')</td>\n",
       "      <td>5</td>\n",
       "      <td>1</td>\n",
       "      <td>Call(divmod, cid='39e...', hid='00c...')</td>\n",
       "      <td>0</td>\n",
       "      <td>5</td>\n",
       "      <td>None</td>\n",
       "      <td>NaN</td>\n",
       "    </tr>\n",
       "    <tr>\n",
       "      <th>1</th>\n",
       "      <td>3</td>\n",
       "      <td>Call(inc, cid='be7...', hid='807...')</td>\n",
       "      <td>4</td>\n",
       "      <td>1</td>\n",
       "      <td>Call(divmod, cid='185...', hid='034...')</td>\n",
       "      <td>0</td>\n",
       "      <td>4</td>\n",
       "      <td>None</td>\n",
       "      <td>NaN</td>\n",
       "    </tr>\n",
       "    <tr>\n",
       "      <th>2</th>\n",
       "      <td>2</td>\n",
       "      <td>Call(inc, cid='297...', hid='f1a...')</td>\n",
       "      <td>3</td>\n",
       "      <td>1</td>\n",
       "      <td>Call(divmod, cid='83a...', hid='9de...')</td>\n",
       "      <td>0</td>\n",
       "      <td>3</td>\n",
       "      <td>None</td>\n",
       "      <td>NaN</td>\n",
       "    </tr>\n",
       "    <tr>\n",
       "      <th>3</th>\n",
       "      <td>5</td>\n",
       "      <td>Call(inc, cid='8d9...', hid='226...')</td>\n",
       "      <td>6</td>\n",
       "      <td>1</td>\n",
       "      <td>Call(divmod, cid='96a...', hid='128...')</td>\n",
       "      <td>0</td>\n",
       "      <td>6</td>\n",
       "      <td>Call(inc, cid='864...', hid='c00...')</td>\n",
       "      <td>7.0</td>\n",
       "    </tr>\n",
       "    <tr>\n",
       "      <th>4</th>\n",
       "      <td>1</td>\n",
       "      <td>Call(inc, cid='9ee...', hid='7b8...')</td>\n",
       "      <td>2</td>\n",
       "      <td>1</td>\n",
       "      <td>Call(divmod, cid='ac3...', hid='261...')</td>\n",
       "      <td>0</td>\n",
       "      <td>2</td>\n",
       "      <td>None</td>\n",
       "      <td>NaN</td>\n",
       "    </tr>\n",
       "  </tbody>\n",
       "</table>\n",
       "</div>"
      ],
      "text/plain": [
       "   x_0                                    inc  x  y  \\\n",
       "0    4  Call(inc, cid='dae...', hid='a50...')  5  1   \n",
       "1    3  Call(inc, cid='be7...', hid='807...')  4  1   \n",
       "2    2  Call(inc, cid='297...', hid='f1a...')  3  1   \n",
       "3    5  Call(inc, cid='8d9...', hid='226...')  6  1   \n",
       "4    1  Call(inc, cid='9ee...', hid='7b8...')  2  1   \n",
       "\n",
       "                                     divmod  output_1  output_0  \\\n",
       "0  Call(divmod, cid='39e...', hid='00c...')         0         5   \n",
       "1  Call(divmod, cid='185...', hid='034...')         0         4   \n",
       "2  Call(divmod, cid='83a...', hid='9de...')         0         3   \n",
       "3  Call(divmod, cid='96a...', hid='128...')         0         6   \n",
       "4  Call(divmod, cid='ac3...', hid='261...')         0         2   \n",
       "\n",
       "                                   inc_0  output_0_0  \n",
       "0                                   None         NaN  \n",
       "1                                   None         NaN  \n",
       "2                                   None         NaN  \n",
       "3  Call(inc, cid='864...', hid='c00...')         7.0  \n",
       "4                                   None         NaN  "
      ]
     },
     "metadata": {},
     "output_type": "display_data"
    }
   ],
   "source": [
    "cf = storage.cf(divmod).expand()\n",
    "cf.draw(); display(cf.get_df(include_calls=True))"
   ]
  },
  {
   "cell_type": "markdown",
   "metadata": {},
   "source": [
    "# A \"CF-complete\"-ish computation\n",
    "Something that will contain all the things that might happen in a computation\n",
    "frame. "
   ]
  },
  {
   "cell_type": "code",
   "execution_count": null,
   "metadata": {},
   "outputs": [],
   "source": [
    "storage = Storage()"
   ]
  },
  {
   "cell_type": "code",
   "execution_count": null,
   "metadata": {},
   "outputs": [],
   "source": [
    "with storage:\n",
    "    ### run the weird signature func in all the ways\n",
    "    sum_1 = add(1)\n",
    "    sum_2 = add(1, 2, 3, 4, )\n",
    "    sum_3 = add(1, 2, 3, 4, y=5)\n",
    "    sum_4 = add(1, 2, 3, 4, y=5, z=6)\n",
    "\n",
    "    ### create a list where elements have different computational histories\n",
    "    inc_things = [inc(i) for i in range(10)]\n",
    "    divmod_things = [divmod(i, 2) for i in range(10)]\n",
    "    lst = inc_things + [x[0] for x in divmod_things]\n",
    "    stats = get_stats(lst)\n",
    "    stats_divmod = divmod(stats['avg'], stats['sum'])"
   ]
  },
  {
   "cell_type": "code",
   "execution_count": null,
   "metadata": {},
   "outputs": [],
   "source": [
    "cf = storage.cf(divmod).expand()\n",
    "cf.draw()"
   ]
  },
  {
   "cell_type": "code",
   "execution_count": null,
   "metadata": {},
   "outputs": [],
   "source": [
    "sess.dump()"
   ]
  },
  {
   "cell_type": "code",
   "execution_count": null,
   "metadata": {},
   "outputs": [],
   "source": [
    "call_groups"
   ]
  },
  {
   "cell_type": "code",
   "execution_count": null,
   "metadata": {},
   "outputs": [],
   "source": [
    "storage.cf(divmod).get_df()"
   ]
  },
  {
   "cell_type": "markdown",
   "metadata": {},
   "source": [
    "# Testing `Ignore` "
   ]
  },
  {
   "cell_type": "code",
   "execution_count": null,
   "metadata": {},
   "outputs": [],
   "source": [
    "storage = Storage()\n",
    "\n",
    "@op\n",
    "def inc(x: int) -> int:\n",
    "    return x + 1\n",
    "\n",
    "with storage:\n",
    "    y = inc(23)\n",
    "    z = inc(y)"
   ]
  },
  {
   "cell_type": "code",
   "execution_count": null,
   "metadata": {},
   "outputs": [],
   "source": [
    "@op\n",
    "def inc(x: int, y: int = NewArgDefault(1)) -> int:\n",
    "    return x + y\n",
    "\n",
    "with storage:\n",
    "    y = inc(23)\n",
    "    z = inc(23, 1)\n",
    "    w = inc(23, y=1)\n",
    "    t = inc(23, 42)"
   ]
  },
  {
   "cell_type": "code",
   "execution_count": null,
   "metadata": {},
   "outputs": [],
   "source": [
    "storage = Storage()\n",
    "\n",
    "@op\n",
    "def do_stuff(things: list, batch_size : int = Ignore(10)) -> int:\n",
    "    res = 0\n",
    "    for i in range(0, len(things), batch_size):\n",
    "        batch_slice = things[i:i+batch_size]\n",
    "        res += sum(batch_slice)\n",
    "    return res"
   ]
  },
  {
   "cell_type": "code",
   "execution_count": null,
   "metadata": {},
   "outputs": [],
   "source": [
    "with storage:\n",
    "    for i in range(1, 10):\n",
    "        things = list(range(i*50))\n",
    "        batch_size = random.choice([10, 20, 30])\n",
    "        do_stuff(things, Ignore(batch_size))"
   ]
  },
  {
   "cell_type": "code",
   "execution_count": null,
   "metadata": {},
   "outputs": [],
   "source": [
    "cf = storage.cf(do_stuff)\n",
    "\n",
    "val = []\n",
    "df = cf.get_df()\n",
    "\n",
    "cf.delete_calls_from_df(df[df.things.isin([[]])])"
   ]
  },
  {
   "cell_type": "code",
   "execution_count": null,
   "metadata": {},
   "outputs": [],
   "source": []
  },
  {
   "cell_type": "code",
   "execution_count": null,
   "metadata": {},
   "outputs": [],
   "source": [
    "storage = Storage()"
   ]
  },
  {
   "cell_type": "code",
   "execution_count": null,
   "metadata": {},
   "outputs": [],
   "source": [
    "with storage:\n",
    "    sum_1 = add(1)\n",
    "    sum_2 = add(1, 2, 3, 4, )\n",
    "    sum_3 = add(1, 2, 3, 4, y=5)\n",
    "    sum_4 = add(1, 2, 3, 4, y=5, z=6)\n",
    "\n",
    "    factors = factorize(n=42)\n",
    "    stats = get_stats([sum_1, sum_2, sum_3, sum_4])\n",
    "    a = stats['sum']\n",
    "    print(storage.attach(a))"
   ]
  },
  {
   "cell_type": "code",
   "execution_count": null,
   "metadata": {},
   "outputs": [],
   "source": [
    "a"
   ]
  },
  {
   "cell_type": "code",
   "execution_count": null,
   "metadata": {},
   "outputs": [],
   "source": [
    "cf = storage.cf(factorize)\n",
    "cf"
   ]
  },
  {
   "cell_type": "code",
   "execution_count": null,
   "metadata": {},
   "outputs": [],
   "source": [
    "cf_exp = cf.expand()\n",
    "cf_exp.drop_func(fname='__get_list_item__')\n",
    "cf_exp.drop_var(vname='output_0_0')\n",
    "cf_exp"
   ]
  },
  {
   "cell_type": "code",
   "execution_count": null,
   "metadata": {},
   "outputs": [],
   "source": [
    "cf_exp.nodes"
   ]
  },
  {
   "cell_type": "code",
   "execution_count": null,
   "metadata": {},
   "outputs": [],
   "source": [
    "cf_exp.get_df()"
   ]
  },
  {
   "cell_type": "code",
   "execution_count": null,
   "metadata": {},
   "outputs": [],
   "source": [
    "restricted_cf"
   ]
  },
  {
   "cell_type": "code",
   "execution_count": null,
   "metadata": {},
   "outputs": [],
   "source": [
    "df = restricted_cf.get_joint_history_df( vnames=vnames, how=\"outer\", include_calls=include_calls)"
   ]
  },
  {
   "cell_type": "code",
   "execution_count": null,
   "metadata": {},
   "outputs": [],
   "source": [
    "sink_elts = restricted_cf.get_sink_elts()\n",
    "restricted_cf.vnames"
   ]
  },
  {
   "cell_type": "code",
   "execution_count": null,
   "metadata": {},
   "outputs": [],
   "source": [
    "from mandala._next.cf import ComputationFrame\n",
    "restricted_cf: ComputationFrame\n",
    "restricted_cf.vs['output_0']"
   ]
  },
  {
   "cell_type": "code",
   "execution_count": null,
   "metadata": {},
   "outputs": [],
   "source": [
    "restricted_cf.consumers['0ef641fea1ee70c3c31664e9d392cbe5']"
   ]
  },
  {
   "cell_type": "code",
   "execution_count": null,
   "metadata": {},
   "outputs": [],
   "source": [
    "self.midstream(*nodes)\n",
    "vnames"
   ]
  },
  {
   "cell_type": "code",
   "execution_count": null,
   "metadata": {},
   "outputs": [],
   "source": [
    "@op\n",
    "def f(x):\n",
    "    return x ** 2 + 1\n",
    "\n",
    "@op\n",
    "def g(x, y):\n",
    "    return x + y\n",
    "\n",
    "@op\n",
    "def h(x):\n",
    "    return x + 1\n"
   ]
  },
  {
   "cell_type": "code",
   "execution_count": null,
   "metadata": {},
   "outputs": [],
   "source": [
    "\n",
    "storage = Storage(deps_path='__main__')\n",
    "\n",
    "# memoizing context\n",
    "with storage:\n",
    "    for x in range(3):\n",
    "        y = f(x)\n",
    "\n",
    "y"
   ]
  },
  {
   "cell_type": "code",
   "execution_count": null,
   "metadata": {},
   "outputs": [],
   "source": [
    "with storage:\n",
    "    for x in range(5):\n",
    "        y = f(x)\n",
    "        z = g(y, h(x))\n",
    "    \n",
    "    for y in range(15, 20):\n",
    "        z = g(y, h(x))"
   ]
  },
  {
   "cell_type": "code",
   "execution_count": null,
   "metadata": {},
   "outputs": [],
   "source": [
    "cf = storage.cf(g); cf"
   ]
  },
  {
   "cell_type": "code",
   "execution_count": null,
   "metadata": {},
   "outputs": [],
   "source": [
    "exp_cf = cf.expand(); exp_cf"
   ]
  },
  {
   "cell_type": "code",
   "execution_count": null,
   "metadata": {},
   "outputs": [],
   "source": [
    "exp_cf.get_df()"
   ]
  },
  {
   "cell_type": "code",
   "execution_count": null,
   "metadata": {},
   "outputs": [],
   "source": [
    "v = storage.get_versioner()"
   ]
  },
  {
   "cell_type": "code",
   "execution_count": null,
   "metadata": {},
   "outputs": [],
   "source": [
    "with storage:\n",
    "    for x in range(5):\n",
    "        y = f(x)\n",
    "        if storage.unwrap(y) > 5:\n",
    "            z = g(x, y)"
   ]
  },
  {
   "cell_type": "code",
   "execution_count": null,
   "metadata": {},
   "outputs": [],
   "source": [
    "storage.cf(f).\\\n",
    "  expand().\\\n",
    "    eval()"
   ]
  },
  {
   "cell_type": "code",
   "execution_count": null,
   "metadata": {},
   "outputs": [],
   "source": [
    "df.rename(columns={'output_0_0': 'output_1'})"
   ]
  },
  {
   "cell_type": "code",
   "execution_count": null,
   "metadata": {},
   "outputs": [],
   "source": [
    "cf = storage.cf(g)\n",
    "cf.expand(inplace=True)\n",
    "cf.eval()"
   ]
  },
  {
   "cell_type": "code",
   "execution_count": null,
   "metadata": {},
   "outputs": [],
   "source": [
    "cf.delete_calls()"
   ]
  },
  {
   "cell_type": "code",
   "execution_count": null,
   "metadata": {},
   "outputs": [],
   "source": [
    "@op\n",
    "def avg_items(xs: MList[int]) -> float:\n",
    "    return sum(xs) / len(xs)\n",
    "\n",
    "@op\n",
    "def get_xs(n: int) -> MList[int]:\n",
    "    return list(range(n))\n",
    "\n",
    "storage = Storage()\n",
    "\n",
    "with storage:\n",
    "    xs = get_xs(10)\n",
    "    for i in range(2, 10, 2):\n",
    "        avg = avg_items(xs[:i])"
   ]
  },
  {
   "cell_type": "code",
   "execution_count": null,
   "metadata": {},
   "outputs": [],
   "source": [
    "cf = storage.cf(avg_items).expand()\n",
    "cf.eval()"
   ]
  },
  {
   "cell_type": "code",
   "execution_count": null,
   "metadata": {},
   "outputs": [],
   "source": [
    "storage = Storage()\n",
    "\n",
    "@op\n",
    "def inc(eggs):\n",
    "    print(f'Executing inc with eggs={eggs}')\n",
    "    return eggs + 1\n",
    "\n",
    "with storage:\n",
    "    spam = inc(eggs=42)\n",
    "\n",
    "@op\n",
    "def make_breakfast(spam, eggs):\n",
    "    print(f'Executing make_breakfast with spam={spam} and eggs={eggs}')\n",
    "    return spam + eggs\n",
    "\n",
    "with storage:\n",
    "    eggs = 42\n",
    "    spam = inc(eggs=eggs)\n",
    "    more_spam = inc(eggs=spam)\n",
    "    breakfast = make_breakfast(spam=spam, eggs=eggs)\n",
    "    breakfast_2 = make_breakfast(spam=more_spam, eggs=eggs)\n",
    "\n",
    "\n",
    "cf = storage.cf(make_breakfast)\n",
    "cf\n",
    "\n",
    "cf = cf.expand()\n",
    "cf.eval()"
   ]
  },
  {
   "cell_type": "code",
   "execution_count": null,
   "metadata": {},
   "outputs": [],
   "source": [
    "storage = Storage()\n",
    "\n",
    "### a few simple ops covering all cases we care about\n",
    "@op\n",
    "def f(x: int) -> int:\n",
    "    return x + 1\n",
    "\n",
    "@op\n",
    "def g(x: int, y: int) -> Tuple[int, int]: # multiple inputs and outputs\n",
    "    return x + 2, y ** 2\n",
    "\n",
    "@op \n",
    "def inc_list(things: MList[int]) -> MList[int]: # lists as inputs and outputs\n",
    "    return [x + 1 for x in things]\n",
    "\n",
    "@op\n",
    "def inc_dict(things: MDict[str, int]) -> MDict[str, int]: # dicts as inputs and outputs\n",
    "    return {k: v + 1 for k, v in things.items()}\n",
    "\n",
    "@op\n",
    "def fancy_signature(x: int, *args, y: bool = False, **kwargs) -> Tuple[int, List[int], MList[int]]: # fancy signatures\n",
    "    return x, [int(a) for a in args], [int(v) for v in kwargs.values()]"
   ]
  },
  {
   "cell_type": "code",
   "execution_count": null,
   "metadata": {},
   "outputs": [],
   "source": [
    "### simple workflow\n",
    "with storage:\n",
    "    x = f(1)\n",
    "    y, t = g(x, 2)\n",
    "    z = inc_list([1, 2])\n",
    "    z = inc_list([x, y])\n",
    "    z = inc_list([1, x])\n",
    "    w = inc_dict({'x': x, 'y': y})\n",
    "    a = fancy_signature(1, 2, x, y=True, z=4, w=5)"
   ]
  }
 ],
 "metadata": {
  "language_info": {
   "name": "python"
  }
 },
 "nbformat": 4,
 "nbformat_minor": 2
}
