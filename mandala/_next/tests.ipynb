{
 "cells": [
  {
   "cell_type": "code",
   "execution_count": 1,
   "metadata": {},
   "outputs": [],
   "source": [
    "from mandala._next.imports import *"
   ]
  },
  {
   "cell_type": "code",
   "execution_count": 2,
   "metadata": {},
   "outputs": [],
   "source": [
    "storage = Storage()\n",
    "\n",
    "@op\n",
    "def f(x: int) -> int:\n",
    "    return x + 1\n",
    "\n",
    "@op\n",
    "def g(x: int) -> int:\n",
    "    return x + 2\n",
    "\n",
    "@op\n",
    "def inc_list(things: MList[int]) -> MList[int]:\n",
    "    return [x + 1 for x in things]\n",
    "\n",
    "@op\n",
    "def inc_dict(things: MDict[str, int]) -> MDict[str, int]:\n",
    "    return {k: v + 1 for k, v in things.items()}"
   ]
  },
  {
   "cell_type": "code",
   "execution_count": 10,
   "metadata": {},
   "outputs": [],
   "source": [
    "with storage:\n",
    "    x = f(1)\n",
    "    y = g(x)\n",
    "    z = inc_list([x, y])\n",
    "    w = inc_dict({'x': x, 'y': y})"
   ]
  },
  {
   "cell_type": "code",
   "execution_count": 11,
   "metadata": {},
   "outputs": [
    {
     "data": {
      "text/plain": [
       "{'x': 3, 'y': 5}"
      ]
     },
     "execution_count": 11,
     "metadata": {},
     "output_type": "execute_result"
    }
   ],
   "source": [
    "storage.unwrap(w)"
   ]
  }
 ],
 "metadata": {
  "language_info": {
   "name": "python"
  }
 },
 "nbformat": 4,
 "nbformat_minor": 2
}
