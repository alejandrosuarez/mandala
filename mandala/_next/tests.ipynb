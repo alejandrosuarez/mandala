{
 "cells": [
  {
   "cell_type": "code",
   "execution_count": 1,
   "metadata": {},
   "outputs": [],
   "source": [
    "from mandala._next.imports import *\n",
    "from mandala._next.common_imports import *\n",
    "from mandala._next.utils import *"
   ]
  },
  {
   "cell_type": "code",
   "execution_count": null,
   "metadata": {},
   "outputs": [],
   "source": [
    "# set the logging level to DEBUG\n",
    "# get the root logger\n",
    "logger = logging.getLogger()\n",
    "# set the logging level\n",
    "logger.setLevel(logging.DEBUG)"
   ]
  },
  {
   "cell_type": "code",
   "execution_count": 2,
   "metadata": {},
   "outputs": [],
   "source": [
    "### some example functions\n",
    "@op\n",
    "def inc(x: int) -> int:\n",
    "    return x + 1\n",
    "\n",
    "@op\n",
    "def divmod(x: int, y: int) -> Tuple[int, int]:\n",
    "    return x // y, x % y\n",
    "\n",
    "@op # a function with a wild input signature\n",
    "def add(x, *args, y: int = 1, **kwargs):\n",
    "    # just sum everything\n",
    "    return x + sum(args) + y + sum(kwargs.values())\n",
    "\n",
    "@op # a function with a variable number of outputs\n",
    "def factorize(n: int) -> Tuple[int, ...]:\n",
    "    factors = []\n",
    "    for i in range(2, n + 1):\n",
    "        while n % i == 0:\n",
    "            factors.append(i)\n",
    "            n //= i\n",
    "    return tuple(factors)\n",
    "\n",
    "@op # function with list input and dict output\n",
    "def get_stats(nums: MList[Any]) -> MDict[str, float]:\n",
    "    return {\n",
    "        'avg': float(sum(nums) / len(nums)),\n",
    "        'sum': float(sum(nums)),\n",
    "    }"
   ]
  },
  {
   "cell_type": "markdown",
   "metadata": {},
   "source": [
    "# Examples of interesting CFs"
   ]
  },
  {
   "cell_type": "code",
   "execution_count": 3,
   "metadata": {},
   "outputs": [],
   "source": [
    "### pipeline where some intermediate nodes contain source/sink refs\n",
    "storage = Storage()"
   ]
  },
  {
   "cell_type": "code",
   "execution_count": 4,
   "metadata": {},
   "outputs": [
    {
     "data": {
      "text/html": [
       "<pre style=\"white-space:pre;overflow-x:auto;line-height:normal;font-family:Menlo,'DejaVu Sans Mono',consolas,'Courier New',monospace\"><span style=\"color: #7fbfbf; text-decoration-color: #7fbfbf\">[18:29:22] </span><span style=\"color: #000080; text-decoration-color: #000080\">INFO    </span> Caching new op inc.                                                              <span style=\"color: #7f7f7f; text-decoration-color: #7f7f7f\">storage.py:258</span>\n",
       "</pre>\n"
      ],
      "text/plain": [
       "\u001b[2;36m[18:29:22]\u001b[0m\u001b[2;36m \u001b[0m\u001b[34mINFO    \u001b[0m Caching new op inc.                                                              \u001b[2mstorage.py\u001b[0m\u001b[2m:\u001b[0m\u001b[2m258\u001b[0m\n"
      ]
     },
     "metadata": {},
     "output_type": "display_data"
    },
    {
     "data": {
      "text/html": [
       "<pre style=\"white-space:pre;overflow-x:auto;line-height:normal;font-family:Menlo,'DejaVu Sans Mono',consolas,'Courier New',monospace\"><span style=\"color: #7fbfbf; text-decoration-color: #7fbfbf\">           </span><span style=\"color: #000080; text-decoration-color: #000080\">INFO    </span> Caching new op divmod.                                                           <span style=\"color: #7f7f7f; text-decoration-color: #7f7f7f\">storage.py:258</span>\n",
       "</pre>\n"
      ],
      "text/plain": [
       "\u001b[2;36m          \u001b[0m\u001b[2;36m \u001b[0m\u001b[34mINFO    \u001b[0m Caching new op divmod.                                                           \u001b[2mstorage.py\u001b[0m\u001b[2m:\u001b[0m\u001b[2m258\u001b[0m\n"
      ]
     },
     "metadata": {},
     "output_type": "display_data"
    },
    {
     "data": {
      "text/html": [
       "<pre style=\"white-space:pre;overflow-x:auto;line-height:normal;font-family:Menlo,'DejaVu Sans Mono',consolas,'Courier New',monospace\"><span style=\"color: #7fbfbf; text-decoration-color: #7fbfbf\">           </span><span style=\"color: #000080; text-decoration-color: #000080\">INFO    </span> Caching new op factorize.                                                        <span style=\"color: #7f7f7f; text-decoration-color: #7f7f7f\">storage.py:258</span>\n",
       "</pre>\n"
      ],
      "text/plain": [
       "\u001b[2;36m          \u001b[0m\u001b[2;36m \u001b[0m\u001b[34mINFO    \u001b[0m Caching new op factorize.                                                        \u001b[2mstorage.py\u001b[0m\u001b[2m:\u001b[0m\u001b[2m258\u001b[0m\n"
      ]
     },
     "metadata": {},
     "output_type": "display_data"
    }
   ],
   "source": [
    "with storage:\n",
    "    total_inputs = [1, 2, 3, 4, 5]\n",
    "    intermediate_inputs = [6, 7, 8, 9, 10]\n",
    "\n",
    "    res_1 = [inc(x) for x in total_inputs]\n",
    "    res_2 = [divmod(x, 1)[0] for x in res_1 + intermediate_inputs]\n",
    "    res_3 = [factorize(x) for x in [res_2[i] for i in range(0, len(res_2), 2)]]"
   ]
  },
  {
   "cell_type": "code",
   "execution_count": 5,
   "metadata": {},
   "outputs": [
    {
     "name": "stdout",
     "output_type": "stream",
     "text": [
      "Found the following number elements to expand in direction back:\n",
      "  {'output_0': 0, 'output_1': 0, 'x': 10, 'y': 1}\n",
      "Found 5 calls to expand\n",
      "Expanding call group for op 'inc' with 5 calls, connections:\n",
      "  output_0: ('x',)\n",
      "Adding function inc for group ('inc', (('output_0', ('x',)),))\n",
      "Found the following number elements to expand in direction back:\n",
      "  {'output_0': 0, 'output_1': 0, 'x': 5, 'x_0': 5, 'y': 1}\n",
      "Found 0 calls to expand\n",
      "Found the following number elements to expand in direction forward:\n",
      "  {'output_0': 10, 'output_1': 10, 'x': 0, 'x_0': 0, 'y': 0}\n",
      "Found 5 calls to expand\n",
      "Expanding call group for op 'factorize' with 5 calls, connections:\n",
      "  n: ('output_0',)\n",
      "Adding function factorize for group ('factorize', (('n', ('output_0',)),))\n",
      "Found the following number elements to expand in direction forward:\n",
      "  {'output_0': 5,\n",
      "   'output_0_0': 5,\n",
      "   'output_1': 10,\n",
      "   'output_1_0': 3,\n",
      "   'x': 0,\n",
      "   'x_0': 0,\n",
      "   'y': 0}\n",
      "Found 0 calls to expand\n",
      "Found the following number elements to expand in direction back:\n",
      "  {'output_0': 0,\n",
      "   'output_0_0': 0,\n",
      "   'output_1': 0,\n",
      "   'output_1_0': 0,\n",
      "   'x': 5,\n",
      "   'x_0': 5,\n",
      "   'y': 1}\n",
      "Found 0 calls to expand\n",
      "Found the following number elements to expand in direction forward:\n",
      "  {'output_0': 5,\n",
      "   'output_0_0': 5,\n",
      "   'output_1': 10,\n",
      "   'output_1_0': 3,\n",
      "   'x': 0,\n",
      "   'x_0': 0,\n",
      "   'y': 0}\n",
      "Found 0 calls to expand\n"
     ]
    },
    {
     "data": {
      "image/svg+xml": [
       "<?xml version=\"1.0\" encoding=\"UTF-8\" standalone=\"no\"?>\n",
       "<!DOCTYPE svg PUBLIC \"-//W3C//DTD SVG 1.1//EN\"\n",
       " \"http://www.w3.org/Graphics/SVG/1.1/DTD/svg11.dtd\">\n",
       "<!-- Generated by graphviz version 2.43.0 (0)\n",
       " -->\n",
       "<!-- Title: G Pages: 1 -->\n",
       "<svg width=\"813pt\" height=\"135pt\"\n",
       " viewBox=\"0.00 0.00 813.00 135.00\" xmlns=\"http://www.w3.org/2000/svg\" xmlns:xlink=\"http://www.w3.org/1999/xlink\">\n",
       "<g id=\"graph0\" class=\"graph\" transform=\"scale(1 1) rotate(0) translate(4 131)\">\n",
       "<title>G</title>\n",
       "<polygon fill=\"white\" stroke=\"transparent\" points=\"-4,4 -4,-131 809,-131 809,4 -4,4\"/>\n",
       "<!-- x_0 -->\n",
       "<g id=\"node1\" class=\"node\">\n",
       "<title>x_0</title>\n",
       "<path fill=\"none\" stroke=\"#268bd2\" d=\"M42,-127C42,-127 12,-127 12,-127 6,-127 0,-121 0,-115 0,-115 0,-103 0,-103 0,-97 6,-91 12,-91 12,-91 42,-91 42,-91 48,-91 54,-97 54,-103 54,-103 54,-115 54,-115 54,-121 48,-127 42,-127\"/>\n",
       "<text text-anchor=\"start\" x=\"17.5\" y=\"-112\" font-family=\"Helvetica,sans-Serif\" font-weight=\"bold\" font-size=\"10.00\" fill=\"#002b36\">x_0</text>\n",
       "<text text-anchor=\"start\" x=\"9\" y=\"-102\" font-family=\"Helvetica,sans-Serif\" font-size=\"10.00\" fill=\"#268bd2\">(5 refs)</text>\n",
       "</g>\n",
       "<!-- inc -->\n",
       "<g id=\"node9\" class=\"node\">\n",
       "<title>inc</title>\n",
       "<path fill=\"none\" stroke=\"#dc322f\" d=\"M141,-127C141,-127 109,-127 109,-127 103,-127 97,-121 97,-115 97,-115 97,-103 97,-103 97,-97 103,-91 109,-91 109,-91 141,-91 141,-91 147,-91 153,-97 153,-103 153,-103 153,-115 153,-115 153,-121 147,-127 141,-127\"/>\n",
       "<text text-anchor=\"start\" x=\"116.5\" y=\"-112\" font-family=\"Helvetica,sans-Serif\" font-weight=\"bold\" font-size=\"10.00\" fill=\"#002b36\">inc</text>\n",
       "<text text-anchor=\"start\" x=\"105\" y=\"-102\" font-family=\"Helvetica,sans-Serif\" font-size=\"10.00\" fill=\"#dc322f\">(5 calls)</text>\n",
       "</g>\n",
       "<!-- x_0&#45;&gt;inc -->\n",
       "<g id=\"edge7\" class=\"edge\">\n",
       "<title>x_0&#45;&gt;inc</title>\n",
       "<path fill=\"none\" stroke=\"#002b36\" d=\"M54.23,-109C64.25,-109 75.86,-109 86.71,-109\"/>\n",
       "<polygon fill=\"#002b36\" stroke=\"#002b36\" points=\"86.8,-112.5 96.8,-109 86.8,-105.5 86.8,-112.5\"/>\n",
       "<text text-anchor=\"middle\" x=\"75.5\" y=\"-112\" font-family=\"Helvetica,sans-Serif\" font-size=\"10.00\" fill=\"#002b36\">x</text>\n",
       "</g>\n",
       "<!-- output_1 -->\n",
       "<g id=\"node2\" class=\"node\">\n",
       "<title>output_1</title>\n",
       "<path fill=\"none\" stroke=\"#268bd2\" d=\"M527,-117C527,-117 486,-117 486,-117 480,-117 474,-111 474,-105 474,-105 474,-93 474,-93 474,-87 480,-81 486,-81 486,-81 527,-81 527,-81 533,-81 539,-87 539,-93 539,-93 539,-105 539,-105 539,-111 533,-117 527,-117\"/>\n",
       "<text text-anchor=\"start\" x=\"482\" y=\"-102\" font-family=\"Helvetica,sans-Serif\" font-weight=\"bold\" font-size=\"10.00\" fill=\"#002b36\">output_1</text>\n",
       "<text text-anchor=\"start\" x=\"485.5\" y=\"-92\" font-family=\"Helvetica,sans-Serif\" font-size=\"10.00\" fill=\"#268bd2\">(10 refs)</text>\n",
       "</g>\n",
       "<!-- y -->\n",
       "<g id=\"node3\" class=\"node\">\n",
       "<title>y</title>\n",
       "<path fill=\"none\" stroke=\"#268bd2\" d=\"M276,-73C276,-73 246,-73 246,-73 240,-73 234,-67 234,-61 234,-61 234,-49 234,-49 234,-43 240,-37 246,-37 246,-37 276,-37 276,-37 282,-37 288,-43 288,-49 288,-49 288,-61 288,-61 288,-67 282,-73 276,-73\"/>\n",
       "<text text-anchor=\"start\" x=\"257.5\" y=\"-58\" font-family=\"Helvetica,sans-Serif\" font-weight=\"bold\" font-size=\"10.00\" fill=\"#002b36\">y</text>\n",
       "<text text-anchor=\"start\" x=\"243\" y=\"-48\" font-family=\"Helvetica,sans-Serif\" font-size=\"10.00\" fill=\"#268bd2\">(1 refs)</text>\n",
       "</g>\n",
       "<!-- divmod -->\n",
       "<g id=\"node8\" class=\"node\">\n",
       "<title>divmod</title>\n",
       "<path fill=\"none\" stroke=\"#dc322f\" d=\"M383,-90C383,-90 345,-90 345,-90 339,-90 333,-84 333,-78 333,-78 333,-66 333,-66 333,-60 339,-54 345,-54 345,-54 383,-54 383,-54 389,-54 395,-60 395,-66 395,-66 395,-78 395,-78 395,-84 389,-90 383,-90\"/>\n",
       "<text text-anchor=\"start\" x=\"342.5\" y=\"-75\" font-family=\"Helvetica,sans-Serif\" font-weight=\"bold\" font-size=\"10.00\" fill=\"#002b36\">divmod</text>\n",
       "<text text-anchor=\"start\" x=\"341\" y=\"-65\" font-family=\"Helvetica,sans-Serif\" font-size=\"10.00\" fill=\"#dc322f\">(10 calls)</text>\n",
       "</g>\n",
       "<!-- y&#45;&gt;divmod -->\n",
       "<g id=\"edge3\" class=\"edge\">\n",
       "<title>y&#45;&gt;divmod</title>\n",
       "<path fill=\"none\" stroke=\"#002b36\" d=\"M288.01,-59.38C298.59,-61.16 311.06,-63.26 322.76,-65.23\"/>\n",
       "<polygon fill=\"#002b36\" stroke=\"#002b36\" points=\"322.34,-68.71 332.78,-66.91 323.5,-61.8 322.34,-68.71\"/>\n",
       "<text text-anchor=\"middle\" x=\"311.5\" y=\"-67\" font-family=\"Helvetica,sans-Serif\" font-size=\"10.00\" fill=\"#002b36\">y</text>\n",
       "</g>\n",
       "<!-- output_0_0 -->\n",
       "<g id=\"node4\" class=\"node\">\n",
       "<title>output_0_0</title>\n",
       "<path fill=\"none\" stroke=\"#268bd2\" d=\"M793,-90C793,-90 740,-90 740,-90 734,-90 728,-84 728,-78 728,-78 728,-66 728,-66 728,-60 734,-54 740,-54 740,-54 793,-54 793,-54 799,-54 805,-60 805,-66 805,-66 805,-78 805,-78 805,-84 799,-90 793,-90\"/>\n",
       "<text text-anchor=\"start\" x=\"736\" y=\"-75\" font-family=\"Helvetica,sans-Serif\" font-weight=\"bold\" font-size=\"10.00\" fill=\"#002b36\">output_0_0</text>\n",
       "<text text-anchor=\"start\" x=\"748.5\" y=\"-65\" font-family=\"Helvetica,sans-Serif\" font-size=\"10.00\" fill=\"#268bd2\">(5 refs)</text>\n",
       "</g>\n",
       "<!-- output_0 -->\n",
       "<g id=\"node5\" class=\"node\">\n",
       "<title>output_0</title>\n",
       "<path fill=\"none\" stroke=\"#268bd2\" d=\"M527,-63C527,-63 486,-63 486,-63 480,-63 474,-57 474,-51 474,-51 474,-39 474,-39 474,-33 480,-27 486,-27 486,-27 527,-27 527,-27 533,-27 539,-33 539,-39 539,-39 539,-51 539,-51 539,-57 533,-63 527,-63\"/>\n",
       "<text text-anchor=\"start\" x=\"482\" y=\"-48\" font-family=\"Helvetica,sans-Serif\" font-weight=\"bold\" font-size=\"10.00\" fill=\"#002b36\">output_0</text>\n",
       "<text text-anchor=\"start\" x=\"485.5\" y=\"-38\" font-family=\"Helvetica,sans-Serif\" font-size=\"10.00\" fill=\"#268bd2\">(10 refs)</text>\n",
       "</g>\n",
       "<!-- factorize -->\n",
       "<g id=\"node10\" class=\"node\">\n",
       "<title>factorize</title>\n",
       "<path fill=\"none\" stroke=\"#dc322f\" d=\"M637,-63C637,-63 594,-63 594,-63 588,-63 582,-57 582,-51 582,-51 582,-39 582,-39 582,-33 588,-27 594,-27 594,-27 637,-27 637,-27 643,-27 649,-33 649,-39 649,-39 649,-51 649,-51 649,-57 643,-63 637,-63\"/>\n",
       "<text text-anchor=\"start\" x=\"590\" y=\"-48\" font-family=\"Helvetica,sans-Serif\" font-weight=\"bold\" font-size=\"10.00\" fill=\"#002b36\">factorize</text>\n",
       "<text text-anchor=\"start\" x=\"595.5\" y=\"-38\" font-family=\"Helvetica,sans-Serif\" font-size=\"10.00\" fill=\"#dc322f\">(5 calls)</text>\n",
       "</g>\n",
       "<!-- output_0&#45;&gt;factorize -->\n",
       "<g id=\"edge5\" class=\"edge\">\n",
       "<title>output_0&#45;&gt;factorize</title>\n",
       "<path fill=\"none\" stroke=\"#002b36\" d=\"M539.02,-45C549.21,-45 560.68,-45 571.54,-45\"/>\n",
       "<polygon fill=\"#002b36\" stroke=\"#002b36\" points=\"571.71,-48.5 581.71,-45 571.71,-41.5 571.71,-48.5\"/>\n",
       "<text text-anchor=\"middle\" x=\"560.5\" y=\"-48\" font-family=\"Helvetica,sans-Serif\" font-size=\"10.00\" fill=\"#002b36\">n</text>\n",
       "</g>\n",
       "<!-- output_1_0 -->\n",
       "<g id=\"node6\" class=\"node\">\n",
       "<title>output_1_0</title>\n",
       "<path fill=\"none\" stroke=\"#268bd2\" d=\"M793,-36C793,-36 740,-36 740,-36 734,-36 728,-30 728,-24 728,-24 728,-12 728,-12 728,-6 734,0 740,0 740,0 793,0 793,0 799,0 805,-6 805,-12 805,-12 805,-24 805,-24 805,-30 799,-36 793,-36\"/>\n",
       "<text text-anchor=\"start\" x=\"736\" y=\"-21\" font-family=\"Helvetica,sans-Serif\" font-weight=\"bold\" font-size=\"10.00\" fill=\"#002b36\">output_1_0</text>\n",
       "<text text-anchor=\"start\" x=\"748.5\" y=\"-11\" font-family=\"Helvetica,sans-Serif\" font-size=\"10.00\" fill=\"#268bd2\">(3 refs)</text>\n",
       "</g>\n",
       "<!-- x -->\n",
       "<g id=\"node7\" class=\"node\">\n",
       "<title>x</title>\n",
       "<path fill=\"none\" stroke=\"#268bd2\" d=\"M278,-127C278,-127 244,-127 244,-127 238,-127 232,-121 232,-115 232,-115 232,-103 232,-103 232,-97 238,-91 244,-91 244,-91 278,-91 278,-91 284,-91 290,-97 290,-103 290,-103 290,-115 290,-115 290,-121 284,-127 278,-127\"/>\n",
       "<text text-anchor=\"start\" x=\"257.5\" y=\"-112\" font-family=\"Helvetica,sans-Serif\" font-weight=\"bold\" font-size=\"10.00\" fill=\"#002b36\">x</text>\n",
       "<text text-anchor=\"start\" x=\"240\" y=\"-102\" font-family=\"Helvetica,sans-Serif\" font-size=\"10.00\" fill=\"#268bd2\">(10 refs)</text>\n",
       "</g>\n",
       "<!-- x&#45;&gt;divmod -->\n",
       "<g id=\"edge4\" class=\"edge\">\n",
       "<title>x&#45;&gt;divmod</title>\n",
       "<path fill=\"none\" stroke=\"#002b36\" d=\"M290.13,-98.69C300.43,-94.92 312.27,-90.58 323.38,-86.51\"/>\n",
       "<polygon fill=\"#002b36\" stroke=\"#002b36\" points=\"324.71,-89.75 332.9,-83.03 322.3,-83.18 324.71,-89.75\"/>\n",
       "<text text-anchor=\"middle\" x=\"311.5\" y=\"-95\" font-family=\"Helvetica,sans-Serif\" font-size=\"10.00\" fill=\"#002b36\">x</text>\n",
       "</g>\n",
       "<!-- divmod&#45;&gt;output_1 -->\n",
       "<g id=\"edge2\" class=\"edge\">\n",
       "<title>divmod&#45;&gt;output_1</title>\n",
       "<path fill=\"none\" stroke=\"#002b36\" d=\"M395.14,-77.79C415.19,-81.64 441.79,-86.76 463.85,-91\"/>\n",
       "<polygon fill=\"#002b36\" stroke=\"#002b36\" points=\"463.47,-94.49 473.95,-92.94 464.79,-87.61 463.47,-94.49\"/>\n",
       "<text text-anchor=\"middle\" x=\"434.5\" y=\"-92\" font-family=\"Helvetica,sans-Serif\" font-size=\"10.00\" fill=\"#002b36\">output_1</text>\n",
       "</g>\n",
       "<!-- divmod&#45;&gt;output_0 -->\n",
       "<g id=\"edge1\" class=\"edge\">\n",
       "<title>divmod&#45;&gt;output_0</title>\n",
       "<path fill=\"none\" stroke=\"#002b36\" d=\"M395.14,-66.21C415.19,-62.36 441.79,-57.24 463.85,-53\"/>\n",
       "<polygon fill=\"#002b36\" stroke=\"#002b36\" points=\"464.79,-56.39 473.95,-51.06 463.47,-49.51 464.79,-56.39\"/>\n",
       "<text text-anchor=\"middle\" x=\"434.5\" y=\"-66\" font-family=\"Helvetica,sans-Serif\" font-size=\"10.00\" fill=\"#002b36\">output_0</text>\n",
       "</g>\n",
       "<!-- inc&#45;&gt;x -->\n",
       "<g id=\"edge6\" class=\"edge\">\n",
       "<title>inc&#45;&gt;x</title>\n",
       "<path fill=\"none\" stroke=\"#002b36\" d=\"M153.12,-109C172.7,-109 199.43,-109 221.27,-109\"/>\n",
       "<polygon fill=\"#002b36\" stroke=\"#002b36\" points=\"221.54,-112.5 231.54,-109 221.54,-105.5 221.54,-112.5\"/>\n",
       "<text text-anchor=\"middle\" x=\"192.5\" y=\"-112\" font-family=\"Helvetica,sans-Serif\" font-size=\"10.00\" fill=\"#002b36\">output_0</text>\n",
       "</g>\n",
       "<!-- factorize&#45;&gt;output_0_0 -->\n",
       "<g id=\"edge8\" class=\"edge\">\n",
       "<title>factorize&#45;&gt;output_0_0</title>\n",
       "<path fill=\"none\" stroke=\"#002b36\" d=\"M649.2,-50.93C669.33,-54.57 695.48,-59.31 717.89,-63.37\"/>\n",
       "<polygon fill=\"#002b36\" stroke=\"#002b36\" points=\"717.42,-66.84 727.89,-65.18 718.67,-59.96 717.42,-66.84\"/>\n",
       "<text text-anchor=\"middle\" x=\"688.5\" y=\"-65\" font-family=\"Helvetica,sans-Serif\" font-size=\"10.00\" fill=\"#002b36\">output_0</text>\n",
       "</g>\n",
       "<!-- factorize&#45;&gt;output_1_0 -->\n",
       "<g id=\"edge9\" class=\"edge\">\n",
       "<title>factorize&#45;&gt;output_1_0</title>\n",
       "<path fill=\"none\" stroke=\"#002b36\" d=\"M649.2,-39.07C669.33,-35.43 695.48,-30.69 717.89,-26.63\"/>\n",
       "<polygon fill=\"#002b36\" stroke=\"#002b36\" points=\"718.67,-30.04 727.89,-24.82 717.42,-23.16 718.67,-30.04\"/>\n",
       "<text text-anchor=\"middle\" x=\"688.5\" y=\"-39\" font-family=\"Helvetica,sans-Serif\" font-size=\"10.00\" fill=\"#002b36\">output_1</text>\n",
       "</g>\n",
       "</g>\n",
       "</svg>\n"
      ],
      "text/plain": [
       "<graphviz.sources.Source at 0x7c8ef4b5ca60>"
      ]
     },
     "metadata": {},
     "output_type": "display_data"
    },
    {
     "name": "stdout",
     "output_type": "stream",
     "text": [
      "Extracting tuples from the computation graph:\n",
      "    x@output_0 = inc(x=x_0)\n",
      "    output_0@output_0, output_1@output_1 = divmod(x=x, y=y)\n",
      "    output_0_0@output_0, output_1_0@output_1 = factorize(n=output_0)\n"
     ]
    },
    {
     "data": {
      "text/html": [
       "<div>\n",
       "<style scoped>\n",
       "    .dataframe tbody tr th:only-of-type {\n",
       "        vertical-align: middle;\n",
       "    }\n",
       "\n",
       "    .dataframe tbody tr th {\n",
       "        vertical-align: top;\n",
       "    }\n",
       "\n",
       "    .dataframe thead th {\n",
       "        text-align: right;\n",
       "    }\n",
       "</style>\n",
       "<table border=\"1\" class=\"dataframe\">\n",
       "  <thead>\n",
       "    <tr style=\"text-align: right;\">\n",
       "      <th></th>\n",
       "      <th>y</th>\n",
       "      <th>x_0</th>\n",
       "      <th>x</th>\n",
       "      <th>output_1</th>\n",
       "      <th>output_0</th>\n",
       "      <th>output_1_0</th>\n",
       "      <th>output_0_0</th>\n",
       "    </tr>\n",
       "  </thead>\n",
       "  <tbody>\n",
       "    <tr>\n",
       "      <th>0</th>\n",
       "      <td>1</td>\n",
       "      <td>3.0</td>\n",
       "      <td>4</td>\n",
       "      <td>0</td>\n",
       "      <td>4</td>\n",
       "      <td>2.0</td>\n",
       "      <td>2.0</td>\n",
       "    </tr>\n",
       "    <tr>\n",
       "      <th>1</th>\n",
       "      <td>1</td>\n",
       "      <td>5.0</td>\n",
       "      <td>6</td>\n",
       "      <td>0</td>\n",
       "      <td>6</td>\n",
       "      <td>3.0</td>\n",
       "      <td>2.0</td>\n",
       "    </tr>\n",
       "    <tr>\n",
       "      <th>2</th>\n",
       "      <td>1</td>\n",
       "      <td>NaN</td>\n",
       "      <td>9</td>\n",
       "      <td>0</td>\n",
       "      <td>9</td>\n",
       "      <td>3.0</td>\n",
       "      <td>3.0</td>\n",
       "    </tr>\n",
       "    <tr>\n",
       "      <th>3</th>\n",
       "      <td>1</td>\n",
       "      <td>NaN</td>\n",
       "      <td>7</td>\n",
       "      <td>0</td>\n",
       "      <td>7</td>\n",
       "      <td>NaN</td>\n",
       "      <td>7.0</td>\n",
       "    </tr>\n",
       "    <tr>\n",
       "      <th>4</th>\n",
       "      <td>1</td>\n",
       "      <td>1.0</td>\n",
       "      <td>2</td>\n",
       "      <td>0</td>\n",
       "      <td>2</td>\n",
       "      <td>NaN</td>\n",
       "      <td>2.0</td>\n",
       "    </tr>\n",
       "    <tr>\n",
       "      <th>5</th>\n",
       "      <td>1</td>\n",
       "      <td>NaN</td>\n",
       "      <td>8</td>\n",
       "      <td>0</td>\n",
       "      <td>8</td>\n",
       "      <td>NaN</td>\n",
       "      <td>NaN</td>\n",
       "    </tr>\n",
       "    <tr>\n",
       "      <th>6</th>\n",
       "      <td>1</td>\n",
       "      <td>4.0</td>\n",
       "      <td>5</td>\n",
       "      <td>0</td>\n",
       "      <td>5</td>\n",
       "      <td>NaN</td>\n",
       "      <td>NaN</td>\n",
       "    </tr>\n",
       "    <tr>\n",
       "      <th>7</th>\n",
       "      <td>1</td>\n",
       "      <td>NaN</td>\n",
       "      <td>10</td>\n",
       "      <td>0</td>\n",
       "      <td>10</td>\n",
       "      <td>NaN</td>\n",
       "      <td>NaN</td>\n",
       "    </tr>\n",
       "    <tr>\n",
       "      <th>8</th>\n",
       "      <td>1</td>\n",
       "      <td>2.0</td>\n",
       "      <td>3</td>\n",
       "      <td>0</td>\n",
       "      <td>3</td>\n",
       "      <td>NaN</td>\n",
       "      <td>NaN</td>\n",
       "    </tr>\n",
       "    <tr>\n",
       "      <th>9</th>\n",
       "      <td>1</td>\n",
       "      <td>NaN</td>\n",
       "      <td>6</td>\n",
       "      <td>0</td>\n",
       "      <td>6</td>\n",
       "      <td>NaN</td>\n",
       "      <td>NaN</td>\n",
       "    </tr>\n",
       "  </tbody>\n",
       "</table>\n",
       "</div>"
      ],
      "text/plain": [
       "   y  x_0   x  output_1  output_0  output_1_0  output_0_0\n",
       "0  1  3.0   4         0         4         2.0         2.0\n",
       "1  1  5.0   6         0         6         3.0         2.0\n",
       "2  1  NaN   9         0         9         3.0         3.0\n",
       "3  1  NaN   7         0         7         NaN         7.0\n",
       "4  1  1.0   2         0         2         NaN         2.0\n",
       "5  1  NaN   8         0         8         NaN         NaN\n",
       "6  1  4.0   5         0         5         NaN         NaN\n",
       "7  1  NaN  10         0        10         NaN         NaN\n",
       "8  1  2.0   3         0         3         NaN         NaN\n",
       "9  1  NaN   6         0         6         NaN         NaN"
      ]
     },
     "metadata": {},
     "output_type": "display_data"
    }
   ],
   "source": [
    "cf = storage.cf(divmod).expand(verbose=True)\n",
    "cf.draw(); display(cf.get_df(include_calls=False))"
   ]
  },
  {
   "cell_type": "code",
   "execution_count": 6,
   "metadata": {},
   "outputs": [
    {
     "data": {
      "text/html": [
       "<pre style=\"white-space:pre;overflow-x:auto;line-height:normal;font-family:Menlo,'DejaVu Sans Mono',consolas,'Courier New',monospace\"><span style=\"color: #7fbfbf; text-decoration-color: #7fbfbf\">[18:29:28] </span><span style=\"color: #000080; text-decoration-color: #000080\">INFO    </span> Caching new op inc.                                                              <span style=\"color: #7f7f7f; text-decoration-color: #7f7f7f\">storage.py:258</span>\n",
       "</pre>\n"
      ],
      "text/plain": [
       "\u001b[2;36m[18:29:28]\u001b[0m\u001b[2;36m \u001b[0m\u001b[34mINFO    \u001b[0m Caching new op inc.                                                              \u001b[2mstorage.py\u001b[0m\u001b[2m:\u001b[0m\u001b[2m258\u001b[0m\n"
      ]
     },
     "metadata": {},
     "output_type": "display_data"
    },
    {
     "data": {
      "text/html": [
       "<pre style=\"white-space:pre;overflow-x:auto;line-height:normal;font-family:Menlo,'DejaVu Sans Mono',consolas,'Courier New',monospace\"><span style=\"color: #7fbfbf; text-decoration-color: #7fbfbf\">           </span><span style=\"color: #000080; text-decoration-color: #000080\">INFO    </span> Caching new op divmod.                                                           <span style=\"color: #7f7f7f; text-decoration-color: #7f7f7f\">storage.py:258</span>\n",
       "</pre>\n"
      ],
      "text/plain": [
       "\u001b[2;36m          \u001b[0m\u001b[2;36m \u001b[0m\u001b[34mINFO    \u001b[0m Caching new op divmod.                                                           \u001b[2mstorage.py\u001b[0m\u001b[2m:\u001b[0m\u001b[2m258\u001b[0m\n"
      ]
     },
     "metadata": {},
     "output_type": "display_data"
    }
   ],
   "source": [
    "### a pipeline where the same function is called in multiple places in the graph\n",
    "storage = Storage()\n",
    "with storage:\n",
    "    inputs = [1, 2, 3, 4, 5]\n",
    "    res_1 = [inc(x) for x in inputs]\n",
    "    res_2 = [divmod(x, 1)[0] for x in res_1]\n",
    "    res_3 = [inc(x) for x in res_2]"
   ]
  },
  {
   "cell_type": "code",
   "execution_count": 15,
   "metadata": {},
   "outputs": [
    {
     "data": {
      "text/plain": [
       "[3, 4, 5, 6, 7]"
      ]
     },
     "execution_count": 15,
     "metadata": {},
     "output_type": "execute_result"
    }
   ],
   "source": [
    "storage.unwrap(res_3)"
   ]
  },
  {
   "cell_type": "code",
   "execution_count": 20,
   "metadata": {},
   "outputs": [
    {
     "data": {
      "text/plain": [
       "{'c3a3ddc0eb745b3a9c377c9fe8623d4e': AtomRef(hid='c3a...', cid='489...', in_memory=False),\n",
       " 'f1f436378b2872e2ccfeba711af716ec': AtomRef(hid='f1f...', cid='76f...', in_memory=False),\n",
       " 'f774c7bb9eeb18f219920d20ab88009e': AtomRef(hid='f77...', cid='785...', in_memory=False),\n",
       " 'e639b35c92f64629b5a40cc8215fddda': AtomRef(hid='e63...', cid='a82...', in_memory=False),\n",
       " '960515500c92e27fbf646a584ce8edff': AtomRef(hid='960...', cid='566...', in_memory=False)}"
      ]
     },
     "execution_count": 20,
     "metadata": {},
     "output_type": "execute_result"
    }
   ],
   "source": [
    "cf['output_0'].refs"
   ]
  },
  {
   "cell_type": "code",
   "execution_count": 22,
   "metadata": {},
   "outputs": [
    {
     "data": {
      "text/plain": [
       "{'c3a3ddc0eb745b3a9c377c9fe8623d4e': AtomRef(hid='c3a...', cid='489...', in_memory=False),\n",
       " 'f1f436378b2872e2ccfeba711af716ec': AtomRef(hid='f1f...', cid='76f...', in_memory=False),\n",
       " 'f774c7bb9eeb18f219920d20ab88009e': AtomRef(hid='f77...', cid='785...', in_memory=False),\n",
       " 'e639b35c92f64629b5a40cc8215fddda': AtomRef(hid='e63...', cid='a82...', in_memory=False),\n",
       " '960515500c92e27fbf646a584ce8edff': AtomRef(hid='960...', cid='566...', in_memory=False)}"
      ]
     },
     "execution_count": 22,
     "metadata": {},
     "output_type": "execute_result"
    }
   ],
   "source": [
    "cf['output_0'].refs"
   ]
  },
  {
   "cell_type": "code",
   "execution_count": 24,
   "metadata": {},
   "outputs": [
    {
     "name": "stdout",
     "output_type": "stream",
     "text": [
      "{'c00b55f93e75f663d71d4a1bd4e3f34e'}\n"
     ]
    },
    {
     "data": {
      "text/plain": [
       "[Call(inc, cid='864...', hid='c00...')]"
      ]
     },
     "execution_count": 24,
     "metadata": {},
     "output_type": "execute_result"
    }
   ],
   "source": [
    "storage.get_consumers(ref_hids=cf['output_0'].refs.keys())"
   ]
  },
  {
   "cell_type": "code",
   "execution_count": 25,
   "metadata": {},
   "outputs": [],
   "source": [
    "storage.preload()"
   ]
  },
  {
   "cell_type": "code",
   "execution_count": 31,
   "metadata": {},
   "outputs": [
    {
     "data": {
      "text/plain": [
       "10"
      ]
     },
     "execution_count": 31,
     "metadata": {},
     "output_type": "execute_result"
    }
   ],
   "source": [
    "storage.calls.cache.df.query('op == \"inc\"').index.get_level_values(0).nunique()"
   ]
  },
  {
   "cell_type": "code",
   "execution_count": 27,
   "metadata": {},
   "outputs": [
    {
     "data": {
      "text/html": [
       "<div>\n",
       "<style scoped>\n",
       "    .dataframe tbody tr th:only-of-type {\n",
       "        vertical-align: middle;\n",
       "    }\n",
       "\n",
       "    .dataframe tbody tr th {\n",
       "        vertical-align: top;\n",
       "    }\n",
       "\n",
       "    .dataframe thead th {\n",
       "        text-align: right;\n",
       "    }\n",
       "</style>\n",
       "<table border=\"1\" class=\"dataframe\">\n",
       "  <thead>\n",
       "    <tr style=\"text-align: right;\">\n",
       "      <th></th>\n",
       "      <th></th>\n",
       "      <th>direction</th>\n",
       "      <th>call_content_id</th>\n",
       "      <th>ref_content_id</th>\n",
       "      <th>ref_history_id</th>\n",
       "      <th>op</th>\n",
       "      <th>semantic_version</th>\n",
       "      <th>content_version</th>\n",
       "    </tr>\n",
       "    <tr>\n",
       "      <th>call_history_id</th>\n",
       "      <th>name</th>\n",
       "      <th></th>\n",
       "      <th></th>\n",
       "      <th></th>\n",
       "      <th></th>\n",
       "      <th></th>\n",
       "      <th></th>\n",
       "      <th></th>\n",
       "    </tr>\n",
       "  </thead>\n",
       "  <tbody>\n",
       "    <tr>\n",
       "      <th>12847d50eec6c92ee798485240173e12</th>\n",
       "      <th>output_0</th>\n",
       "      <td>out</td>\n",
       "      <td>96a9b22b00cf93f326901f38a6dd2ad8</td>\n",
       "      <td>4896dd6b3bd5bdfcbb5222192e4e2042</td>\n",
       "      <td>c3a3ddc0eb745b3a9c377c9fe8623d4e</td>\n",
       "      <td>divmod</td>\n",
       "      <td>None</td>\n",
       "      <td>None</td>\n",
       "    </tr>\n",
       "    <tr>\n",
       "      <th>261af0862729c08b45ab1f43f2dd1e1d</th>\n",
       "      <th>output_0</th>\n",
       "      <td>out</td>\n",
       "      <td>ac3669bb6da4961581ed2326ad4e697b</td>\n",
       "      <td>76f34d73a1a6753d1243c9ba0afe3457</td>\n",
       "      <td>f1f436378b2872e2ccfeba711af716ec</td>\n",
       "      <td>divmod</td>\n",
       "      <td>None</td>\n",
       "      <td>None</td>\n",
       "    </tr>\n",
       "    <tr>\n",
       "      <th>00c7379594aa48056047abd4c14d72bb</th>\n",
       "      <th>output_0</th>\n",
       "      <td>out</td>\n",
       "      <td>39eacf2eb1b4eaa167981467c9523d90</td>\n",
       "      <td>785ee38e51369f64df4f68af923b3456</td>\n",
       "      <td>f774c7bb9eeb18f219920d20ab88009e</td>\n",
       "      <td>divmod</td>\n",
       "      <td>None</td>\n",
       "      <td>None</td>\n",
       "    </tr>\n",
       "    <tr>\n",
       "      <th>c00b55f93e75f663d71d4a1bd4e3f34e</th>\n",
       "      <th>x</th>\n",
       "      <td>in</td>\n",
       "      <td>864949bca0209a7349cd9b4413f43508</td>\n",
       "      <td>4896dd6b3bd5bdfcbb5222192e4e2042</td>\n",
       "      <td>c3a3ddc0eb745b3a9c377c9fe8623d4e</td>\n",
       "      <td>inc</td>\n",
       "      <td>None</td>\n",
       "      <td>None</td>\n",
       "    </tr>\n",
       "    <tr>\n",
       "      <th>0342fe30e9907992b40d655803612c6a</th>\n",
       "      <th>output_0</th>\n",
       "      <td>out</td>\n",
       "      <td>1855c21ae0e58eb50217836149809a18</td>\n",
       "      <td>a8216e26a2093b48a0b7c57159313c8e</td>\n",
       "      <td>e639b35c92f64629b5a40cc8215fddda</td>\n",
       "      <td>divmod</td>\n",
       "      <td>None</td>\n",
       "      <td>None</td>\n",
       "    </tr>\n",
       "    <tr>\n",
       "      <th>9de4daabea9bbcccd4150b76511d3bac</th>\n",
       "      <th>output_0</th>\n",
       "      <td>out</td>\n",
       "      <td>83a2979b9267088763481afb84b8127a</td>\n",
       "      <td>56615ea01687173ebab08c915ad7e500</td>\n",
       "      <td>960515500c92e27fbf646a584ce8edff</td>\n",
       "      <td>divmod</td>\n",
       "      <td>None</td>\n",
       "      <td>None</td>\n",
       "    </tr>\n",
       "  </tbody>\n",
       "</table>\n",
       "</div>"
      ],
      "text/plain": [
       "                                          direction  \\\n",
       "call_history_id                  name                 \n",
       "12847d50eec6c92ee798485240173e12 output_0       out   \n",
       "261af0862729c08b45ab1f43f2dd1e1d output_0       out   \n",
       "00c7379594aa48056047abd4c14d72bb output_0       out   \n",
       "c00b55f93e75f663d71d4a1bd4e3f34e x               in   \n",
       "0342fe30e9907992b40d655803612c6a output_0       out   \n",
       "9de4daabea9bbcccd4150b76511d3bac output_0       out   \n",
       "\n",
       "                                                            call_content_id  \\\n",
       "call_history_id                  name                                         \n",
       "12847d50eec6c92ee798485240173e12 output_0  96a9b22b00cf93f326901f38a6dd2ad8   \n",
       "261af0862729c08b45ab1f43f2dd1e1d output_0  ac3669bb6da4961581ed2326ad4e697b   \n",
       "00c7379594aa48056047abd4c14d72bb output_0  39eacf2eb1b4eaa167981467c9523d90   \n",
       "c00b55f93e75f663d71d4a1bd4e3f34e x         864949bca0209a7349cd9b4413f43508   \n",
       "0342fe30e9907992b40d655803612c6a output_0  1855c21ae0e58eb50217836149809a18   \n",
       "9de4daabea9bbcccd4150b76511d3bac output_0  83a2979b9267088763481afb84b8127a   \n",
       "\n",
       "                                                             ref_content_id  \\\n",
       "call_history_id                  name                                         \n",
       "12847d50eec6c92ee798485240173e12 output_0  4896dd6b3bd5bdfcbb5222192e4e2042   \n",
       "261af0862729c08b45ab1f43f2dd1e1d output_0  76f34d73a1a6753d1243c9ba0afe3457   \n",
       "00c7379594aa48056047abd4c14d72bb output_0  785ee38e51369f64df4f68af923b3456   \n",
       "c00b55f93e75f663d71d4a1bd4e3f34e x         4896dd6b3bd5bdfcbb5222192e4e2042   \n",
       "0342fe30e9907992b40d655803612c6a output_0  a8216e26a2093b48a0b7c57159313c8e   \n",
       "9de4daabea9bbcccd4150b76511d3bac output_0  56615ea01687173ebab08c915ad7e500   \n",
       "\n",
       "                                                             ref_history_id  \\\n",
       "call_history_id                  name                                         \n",
       "12847d50eec6c92ee798485240173e12 output_0  c3a3ddc0eb745b3a9c377c9fe8623d4e   \n",
       "261af0862729c08b45ab1f43f2dd1e1d output_0  f1f436378b2872e2ccfeba711af716ec   \n",
       "00c7379594aa48056047abd4c14d72bb output_0  f774c7bb9eeb18f219920d20ab88009e   \n",
       "c00b55f93e75f663d71d4a1bd4e3f34e x         c3a3ddc0eb745b3a9c377c9fe8623d4e   \n",
       "0342fe30e9907992b40d655803612c6a output_0  e639b35c92f64629b5a40cc8215fddda   \n",
       "9de4daabea9bbcccd4150b76511d3bac output_0  960515500c92e27fbf646a584ce8edff   \n",
       "\n",
       "                                               op semantic_version  \\\n",
       "call_history_id                  name                                \n",
       "12847d50eec6c92ee798485240173e12 output_0  divmod             None   \n",
       "261af0862729c08b45ab1f43f2dd1e1d output_0  divmod             None   \n",
       "00c7379594aa48056047abd4c14d72bb output_0  divmod             None   \n",
       "c00b55f93e75f663d71d4a1bd4e3f34e x            inc             None   \n",
       "0342fe30e9907992b40d655803612c6a output_0  divmod             None   \n",
       "9de4daabea9bbcccd4150b76511d3bac output_0  divmod             None   \n",
       "\n",
       "                                          content_version  \n",
       "call_history_id                  name                      \n",
       "12847d50eec6c92ee798485240173e12 output_0            None  \n",
       "261af0862729c08b45ab1f43f2dd1e1d output_0            None  \n",
       "00c7379594aa48056047abd4c14d72bb output_0            None  \n",
       "c00b55f93e75f663d71d4a1bd4e3f34e x                   None  \n",
       "0342fe30e9907992b40d655803612c6a output_0            None  \n",
       "9de4daabea9bbcccd4150b76511d3bac output_0            None  "
      ]
     },
     "execution_count": 27,
     "metadata": {},
     "output_type": "execute_result"
    }
   ],
   "source": [
    "ref_hids=cf['output_0'].refs.keys()\n",
    "storage.calls.cache.df.query('ref_history_id in @ref_hids')"
   ]
  },
  {
   "cell_type": "code",
   "execution_count": 7,
   "metadata": {},
   "outputs": [
    {
     "name": "stdout",
     "output_type": "stream",
     "text": [
      "Found the following number elements to expand in direction back:\n",
      "  {'output_0': 0, 'output_1': 0, 'x': 5, 'y': 1}\n",
      "Found 5 calls to expand\n",
      "Expanding call group for op 'inc' with 5 calls, connections:\n",
      "  output_0: ('x',)\n",
      "Adding function inc for group ('inc', (('output_0', ('x',)),))\n",
      "Found the following number elements to expand in direction back:\n",
      "  {'output_0': 0, 'output_1': 0, 'x': 0, 'x_0': 5, 'y': 1}\n",
      "Found 0 calls to expand\n",
      "Found the following number elements to expand in direction forward:\n",
      "  {'output_0': 5, 'output_1': 5, 'x': 0, 'x_0': 0, 'y': 0}\n",
      "Found 5 calls to expand\n",
      "Expanding call group for op 'inc' with 5 calls, connections:\n",
      "  x: ('output_0',)\n",
      "Adding function inc_0 for group ('inc', (('x', ('output_0',)),))\n",
      "Found the following number elements to expand in direction forward:\n",
      "  {'output_0': 0, 'output_0_0': 5, 'output_1': 5, 'x': 0, 'x_0': 0, 'y': 0}\n",
      "Found 0 calls to expand\n",
      "Found the following number elements to expand in direction back:\n",
      "  {'output_0': 0, 'output_0_0': 0, 'output_1': 0, 'x': 0, 'x_0': 5, 'y': 1}\n",
      "Found 0 calls to expand\n",
      "Found the following number elements to expand in direction forward:\n",
      "  {'output_0': 0, 'output_0_0': 5, 'output_1': 5, 'x': 0, 'x_0': 0, 'y': 0}\n",
      "Found 0 calls to expand\n"
     ]
    },
    {
     "data": {
      "image/svg+xml": [
       "<?xml version=\"1.0\" encoding=\"UTF-8\" standalone=\"no\"?>\n",
       "<!DOCTYPE svg PUBLIC \"-//W3C//DTD SVG 1.1//EN\"\n",
       " \"http://www.w3.org/Graphics/SVG/1.1/DTD/svg11.dtd\">\n",
       "<!-- Generated by graphviz version 2.43.0 (0)\n",
       " -->\n",
       "<!-- Title: G Pages: 1 -->\n",
       "<svg width=\"795pt\" height=\"108pt\"\n",
       " viewBox=\"0.00 0.00 795.00 108.00\" xmlns=\"http://www.w3.org/2000/svg\" xmlns:xlink=\"http://www.w3.org/1999/xlink\">\n",
       "<g id=\"graph0\" class=\"graph\" transform=\"scale(1 1) rotate(0) translate(4 104)\">\n",
       "<title>G</title>\n",
       "<polygon fill=\"white\" stroke=\"transparent\" points=\"-4,4 -4,-104 791,-104 791,4 -4,4\"/>\n",
       "<!-- x_0 -->\n",
       "<g id=\"node1\" class=\"node\">\n",
       "<title>x_0</title>\n",
       "<path fill=\"none\" stroke=\"#268bd2\" d=\"M42,-100C42,-100 12,-100 12,-100 6,-100 0,-94 0,-88 0,-88 0,-76 0,-76 0,-70 6,-64 12,-64 12,-64 42,-64 42,-64 48,-64 54,-70 54,-76 54,-76 54,-88 54,-88 54,-94 48,-100 42,-100\"/>\n",
       "<text text-anchor=\"start\" x=\"17.5\" y=\"-85\" font-family=\"Helvetica,sans-Serif\" font-weight=\"bold\" font-size=\"10.00\" fill=\"#002b36\">x_0</text>\n",
       "<text text-anchor=\"start\" x=\"9\" y=\"-75\" font-family=\"Helvetica,sans-Serif\" font-size=\"10.00\" fill=\"#268bd2\">(5 refs)</text>\n",
       "</g>\n",
       "<!-- inc -->\n",
       "<g id=\"node9\" class=\"node\">\n",
       "<title>inc</title>\n",
       "<path fill=\"none\" stroke=\"#dc322f\" d=\"M141,-100C141,-100 109,-100 109,-100 103,-100 97,-94 97,-88 97,-88 97,-76 97,-76 97,-70 103,-64 109,-64 109,-64 141,-64 141,-64 147,-64 153,-70 153,-76 153,-76 153,-88 153,-88 153,-94 147,-100 141,-100\"/>\n",
       "<text text-anchor=\"start\" x=\"116.5\" y=\"-85\" font-family=\"Helvetica,sans-Serif\" font-weight=\"bold\" font-size=\"10.00\" fill=\"#002b36\">inc</text>\n",
       "<text text-anchor=\"start\" x=\"105\" y=\"-75\" font-family=\"Helvetica,sans-Serif\" font-size=\"10.00\" fill=\"#dc322f\">(5 calls)</text>\n",
       "</g>\n",
       "<!-- x_0&#45;&gt;inc -->\n",
       "<g id=\"edge7\" class=\"edge\">\n",
       "<title>x_0&#45;&gt;inc</title>\n",
       "<path fill=\"none\" stroke=\"#002b36\" d=\"M54.23,-82C64.25,-82 75.86,-82 86.71,-82\"/>\n",
       "<polygon fill=\"#002b36\" stroke=\"#002b36\" points=\"86.8,-85.5 96.8,-82 86.8,-78.5 86.8,-85.5\"/>\n",
       "<text text-anchor=\"middle\" x=\"75.5\" y=\"-85\" font-family=\"Helvetica,sans-Serif\" font-size=\"10.00\" fill=\"#002b36\">x</text>\n",
       "</g>\n",
       "<!-- output_1 -->\n",
       "<g id=\"node2\" class=\"node\">\n",
       "<title>output_1</title>\n",
       "<path fill=\"none\" stroke=\"#268bd2\" d=\"M520,-90C520,-90 479,-90 479,-90 473,-90 467,-84 467,-78 467,-78 467,-66 467,-66 467,-60 473,-54 479,-54 479,-54 520,-54 520,-54 526,-54 532,-60 532,-66 532,-66 532,-78 532,-78 532,-84 526,-90 520,-90\"/>\n",
       "<text text-anchor=\"start\" x=\"475\" y=\"-75\" font-family=\"Helvetica,sans-Serif\" font-weight=\"bold\" font-size=\"10.00\" fill=\"#002b36\">output_1</text>\n",
       "<text text-anchor=\"start\" x=\"481.5\" y=\"-65\" font-family=\"Helvetica,sans-Serif\" font-size=\"10.00\" fill=\"#268bd2\">(5 refs)</text>\n",
       "</g>\n",
       "<!-- y -->\n",
       "<g id=\"node3\" class=\"node\">\n",
       "<title>y</title>\n",
       "<path fill=\"none\" stroke=\"#268bd2\" d=\"M274,-46C274,-46 244,-46 244,-46 238,-46 232,-40 232,-34 232,-34 232,-22 232,-22 232,-16 238,-10 244,-10 244,-10 274,-10 274,-10 280,-10 286,-16 286,-22 286,-22 286,-34 286,-34 286,-40 280,-46 274,-46\"/>\n",
       "<text text-anchor=\"start\" x=\"255.5\" y=\"-31\" font-family=\"Helvetica,sans-Serif\" font-weight=\"bold\" font-size=\"10.00\" fill=\"#002b36\">y</text>\n",
       "<text text-anchor=\"start\" x=\"241\" y=\"-21\" font-family=\"Helvetica,sans-Serif\" font-size=\"10.00\" fill=\"#268bd2\">(1 refs)</text>\n",
       "</g>\n",
       "<!-- divmod -->\n",
       "<g id=\"node8\" class=\"node\">\n",
       "<title>divmod</title>\n",
       "<path fill=\"none\" stroke=\"#dc322f\" d=\"M376,-63C376,-63 341,-63 341,-63 335,-63 329,-57 329,-51 329,-51 329,-39 329,-39 329,-33 335,-27 341,-27 341,-27 376,-27 376,-27 382,-27 388,-33 388,-39 388,-39 388,-51 388,-51 388,-57 382,-63 376,-63\"/>\n",
       "<text text-anchor=\"start\" x=\"337\" y=\"-48\" font-family=\"Helvetica,sans-Serif\" font-weight=\"bold\" font-size=\"10.00\" fill=\"#002b36\">divmod</text>\n",
       "<text text-anchor=\"start\" x=\"338.5\" y=\"-38\" font-family=\"Helvetica,sans-Serif\" font-size=\"10.00\" fill=\"#dc322f\">(5 calls)</text>\n",
       "</g>\n",
       "<!-- y&#45;&gt;divmod -->\n",
       "<g id=\"edge3\" class=\"edge\">\n",
       "<title>y&#45;&gt;divmod</title>\n",
       "<path fill=\"none\" stroke=\"#002b36\" d=\"M286.13,-32.56C296.23,-34.32 308.01,-36.37 319.04,-38.29\"/>\n",
       "<polygon fill=\"#002b36\" stroke=\"#002b36\" points=\"318.45,-41.74 328.9,-40.01 319.65,-34.85 318.45,-41.74\"/>\n",
       "<text text-anchor=\"middle\" x=\"307.5\" y=\"-40\" font-family=\"Helvetica,sans-Serif\" font-size=\"10.00\" fill=\"#002b36\">y</text>\n",
       "</g>\n",
       "<!-- output_0_0 -->\n",
       "<g id=\"node4\" class=\"node\">\n",
       "<title>output_0_0</title>\n",
       "<path fill=\"none\" stroke=\"#268bd2\" d=\"M775,-36C775,-36 722,-36 722,-36 716,-36 710,-30 710,-24 710,-24 710,-12 710,-12 710,-6 716,0 722,0 722,0 775,0 775,0 781,0 787,-6 787,-12 787,-12 787,-24 787,-24 787,-30 781,-36 775,-36\"/>\n",
       "<text text-anchor=\"start\" x=\"718\" y=\"-21\" font-family=\"Helvetica,sans-Serif\" font-weight=\"bold\" font-size=\"10.00\" fill=\"#002b36\">output_0_0</text>\n",
       "<text text-anchor=\"start\" x=\"730.5\" y=\"-11\" font-family=\"Helvetica,sans-Serif\" font-size=\"10.00\" fill=\"#268bd2\">(5 refs)</text>\n",
       "</g>\n",
       "<!-- output_0 -->\n",
       "<g id=\"node5\" class=\"node\">\n",
       "<title>output_0</title>\n",
       "<path fill=\"none\" stroke=\"#268bd2\" d=\"M520,-36C520,-36 479,-36 479,-36 473,-36 467,-30 467,-24 467,-24 467,-12 467,-12 467,-6 473,0 479,0 479,0 520,0 520,0 526,0 532,-6 532,-12 532,-12 532,-24 532,-24 532,-30 526,-36 520,-36\"/>\n",
       "<text text-anchor=\"start\" x=\"475\" y=\"-21\" font-family=\"Helvetica,sans-Serif\" font-weight=\"bold\" font-size=\"10.00\" fill=\"#002b36\">output_0</text>\n",
       "<text text-anchor=\"start\" x=\"481.5\" y=\"-11\" font-family=\"Helvetica,sans-Serif\" font-size=\"10.00\" fill=\"#268bd2\">(5 refs)</text>\n",
       "</g>\n",
       "<!-- inc_0 -->\n",
       "<g id=\"node7\" class=\"node\">\n",
       "<title>inc_0</title>\n",
       "<path fill=\"none\" stroke=\"#dc322f\" d=\"M619,-36C619,-36 587,-36 587,-36 581,-36 575,-30 575,-24 575,-24 575,-12 575,-12 575,-6 581,0 587,0 587,0 619,0 619,0 625,0 631,-6 631,-12 631,-12 631,-24 631,-24 631,-30 625,-36 619,-36\"/>\n",
       "<text text-anchor=\"start\" x=\"588.5\" y=\"-21\" font-family=\"Helvetica,sans-Serif\" font-weight=\"bold\" font-size=\"10.00\" fill=\"#002b36\">inc_0</text>\n",
       "<text text-anchor=\"start\" x=\"583\" y=\"-11\" font-family=\"Helvetica,sans-Serif\" font-size=\"10.00\" fill=\"#dc322f\">(5 calls)</text>\n",
       "</g>\n",
       "<!-- output_0&#45;&gt;inc_0 -->\n",
       "<g id=\"edge5\" class=\"edge\">\n",
       "<title>output_0&#45;&gt;inc_0</title>\n",
       "<path fill=\"none\" stroke=\"#002b36\" d=\"M532.06,-18C542.36,-18 553.9,-18 564.58,-18\"/>\n",
       "<polygon fill=\"#002b36\" stroke=\"#002b36\" points=\"564.91,-21.5 574.91,-18 564.91,-14.5 564.91,-21.5\"/>\n",
       "<text text-anchor=\"middle\" x=\"553.5\" y=\"-21\" font-family=\"Helvetica,sans-Serif\" font-size=\"10.00\" fill=\"#002b36\">x</text>\n",
       "</g>\n",
       "<!-- x -->\n",
       "<g id=\"node6\" class=\"node\">\n",
       "<title>x</title>\n",
       "<path fill=\"none\" stroke=\"#268bd2\" d=\"M274,-100C274,-100 244,-100 244,-100 238,-100 232,-94 232,-88 232,-88 232,-76 232,-76 232,-70 238,-64 244,-64 244,-64 274,-64 274,-64 280,-64 286,-70 286,-76 286,-76 286,-88 286,-88 286,-94 280,-100 274,-100\"/>\n",
       "<text text-anchor=\"start\" x=\"255.5\" y=\"-85\" font-family=\"Helvetica,sans-Serif\" font-weight=\"bold\" font-size=\"10.00\" fill=\"#002b36\">x</text>\n",
       "<text text-anchor=\"start\" x=\"241\" y=\"-75\" font-family=\"Helvetica,sans-Serif\" font-size=\"10.00\" fill=\"#268bd2\">(5 refs)</text>\n",
       "</g>\n",
       "<!-- x&#45;&gt;divmod -->\n",
       "<g id=\"edge4\" class=\"edge\">\n",
       "<title>x&#45;&gt;divmod</title>\n",
       "<path fill=\"none\" stroke=\"#002b36\" d=\"M286.13,-72.08C296.34,-68.21 308.25,-63.69 319.38,-59.47\"/>\n",
       "<polygon fill=\"#002b36\" stroke=\"#002b36\" points=\"320.79,-62.67 328.9,-55.85 318.31,-56.13 320.79,-62.67\"/>\n",
       "<text text-anchor=\"middle\" x=\"307.5\" y=\"-68\" font-family=\"Helvetica,sans-Serif\" font-size=\"10.00\" fill=\"#002b36\">x</text>\n",
       "</g>\n",
       "<!-- inc_0&#45;&gt;output_0_0 -->\n",
       "<g id=\"edge8\" class=\"edge\">\n",
       "<title>inc_0&#45;&gt;output_0_0</title>\n",
       "<path fill=\"none\" stroke=\"#002b36\" d=\"M631.33,-18C650.65,-18 677.06,-18 699.81,-18\"/>\n",
       "<polygon fill=\"#002b36\" stroke=\"#002b36\" points=\"699.97,-21.5 709.97,-18 699.97,-14.5 699.97,-21.5\"/>\n",
       "<text text-anchor=\"middle\" x=\"670.5\" y=\"-21\" font-family=\"Helvetica,sans-Serif\" font-size=\"10.00\" fill=\"#002b36\">output_0</text>\n",
       "</g>\n",
       "<!-- divmod&#45;&gt;output_1 -->\n",
       "<g id=\"edge2\" class=\"edge\">\n",
       "<title>divmod&#45;&gt;output_1</title>\n",
       "<path fill=\"none\" stroke=\"#002b36\" d=\"M388.3,-50.59C408.07,-54.43 434.63,-59.59 456.71,-63.88\"/>\n",
       "<polygon fill=\"#002b36\" stroke=\"#002b36\" points=\"456.34,-67.38 466.83,-65.85 457.68,-60.51 456.34,-67.38\"/>\n",
       "<text text-anchor=\"middle\" x=\"427.5\" y=\"-65\" font-family=\"Helvetica,sans-Serif\" font-size=\"10.00\" fill=\"#002b36\">output_1</text>\n",
       "</g>\n",
       "<!-- divmod&#45;&gt;output_0 -->\n",
       "<g id=\"edge1\" class=\"edge\">\n",
       "<title>divmod&#45;&gt;output_0</title>\n",
       "<path fill=\"none\" stroke=\"#002b36\" d=\"M388.3,-39.41C408.07,-35.57 434.63,-30.41 456.71,-26.12\"/>\n",
       "<polygon fill=\"#002b36\" stroke=\"#002b36\" points=\"457.68,-29.49 466.83,-24.15 456.34,-22.62 457.68,-29.49\"/>\n",
       "<text text-anchor=\"middle\" x=\"427.5\" y=\"-39\" font-family=\"Helvetica,sans-Serif\" font-size=\"10.00\" fill=\"#002b36\">output_0</text>\n",
       "</g>\n",
       "<!-- inc&#45;&gt;x -->\n",
       "<g id=\"edge6\" class=\"edge\">\n",
       "<title>inc&#45;&gt;x</title>\n",
       "<path fill=\"none\" stroke=\"#002b36\" d=\"M153.03,-82C172.87,-82 200.02,-82 221.74,-82\"/>\n",
       "<polygon fill=\"#002b36\" stroke=\"#002b36\" points=\"221.91,-85.5 231.91,-82 221.9,-78.5 221.91,-85.5\"/>\n",
       "<text text-anchor=\"middle\" x=\"192.5\" y=\"-85\" font-family=\"Helvetica,sans-Serif\" font-size=\"10.00\" fill=\"#002b36\">output_0</text>\n",
       "</g>\n",
       "</g>\n",
       "</svg>\n"
      ],
      "text/plain": [
       "<graphviz.sources.Source at 0x7c8f02babfa0>"
      ]
     },
     "metadata": {},
     "output_type": "display_data"
    },
    {
     "name": "stdout",
     "output_type": "stream",
     "text": [
      "Extracting tuples from the computation graph:\n",
      "    x@output_0 = inc(x=x_0)\n",
      "    output_0@output_0, output_1@output_1 = divmod(x=x, y=y)\n",
      "    output_0_0@output_0 = inc_0(x=output_0)\n"
     ]
    },
    {
     "data": {
      "text/html": [
       "<div>\n",
       "<style scoped>\n",
       "    .dataframe tbody tr th:only-of-type {\n",
       "        vertical-align: middle;\n",
       "    }\n",
       "\n",
       "    .dataframe tbody tr th {\n",
       "        vertical-align: top;\n",
       "    }\n",
       "\n",
       "    .dataframe thead th {\n",
       "        text-align: right;\n",
       "    }\n",
       "</style>\n",
       "<table border=\"1\" class=\"dataframe\">\n",
       "  <thead>\n",
       "    <tr style=\"text-align: right;\">\n",
       "      <th></th>\n",
       "      <th>y</th>\n",
       "      <th>x_0</th>\n",
       "      <th>inc</th>\n",
       "      <th>x</th>\n",
       "      <th>divmod</th>\n",
       "      <th>output_1</th>\n",
       "      <th>output_0</th>\n",
       "      <th>inc_0</th>\n",
       "      <th>output_0_0</th>\n",
       "    </tr>\n",
       "  </thead>\n",
       "  <tbody>\n",
       "    <tr>\n",
       "      <th>0</th>\n",
       "      <td>1</td>\n",
       "      <td>3</td>\n",
       "      <td>Call(inc, cid='be7...', hid='807...')</td>\n",
       "      <td>4</td>\n",
       "      <td>Call(divmod, cid='185...', hid='034...')</td>\n",
       "      <td>0</td>\n",
       "      <td>4</td>\n",
       "      <td>Call(inc, cid='dae...', hid='90a...')</td>\n",
       "      <td>5</td>\n",
       "    </tr>\n",
       "    <tr>\n",
       "      <th>1</th>\n",
       "      <td>1</td>\n",
       "      <td>1</td>\n",
       "      <td>Call(inc, cid='9ee...', hid='7b8...')</td>\n",
       "      <td>2</td>\n",
       "      <td>Call(divmod, cid='ac3...', hid='261...')</td>\n",
       "      <td>0</td>\n",
       "      <td>2</td>\n",
       "      <td>Call(inc, cid='297...', hid='ee6...')</td>\n",
       "      <td>3</td>\n",
       "    </tr>\n",
       "    <tr>\n",
       "      <th>2</th>\n",
       "      <td>1</td>\n",
       "      <td>5</td>\n",
       "      <td>Call(inc, cid='8d9...', hid='226...')</td>\n",
       "      <td>6</td>\n",
       "      <td>Call(divmod, cid='96a...', hid='128...')</td>\n",
       "      <td>0</td>\n",
       "      <td>6</td>\n",
       "      <td>Call(inc, cid='864...', hid='c00...')</td>\n",
       "      <td>7</td>\n",
       "    </tr>\n",
       "    <tr>\n",
       "      <th>3</th>\n",
       "      <td>1</td>\n",
       "      <td>4</td>\n",
       "      <td>Call(inc, cid='dae...', hid='a50...')</td>\n",
       "      <td>5</td>\n",
       "      <td>Call(divmod, cid='39e...', hid='00c...')</td>\n",
       "      <td>0</td>\n",
       "      <td>5</td>\n",
       "      <td>Call(inc, cid='8d9...', hid='a7d...')</td>\n",
       "      <td>6</td>\n",
       "    </tr>\n",
       "    <tr>\n",
       "      <th>4</th>\n",
       "      <td>1</td>\n",
       "      <td>2</td>\n",
       "      <td>Call(inc, cid='297...', hid='f1a...')</td>\n",
       "      <td>3</td>\n",
       "      <td>Call(divmod, cid='83a...', hid='9de...')</td>\n",
       "      <td>0</td>\n",
       "      <td>3</td>\n",
       "      <td>Call(inc, cid='be7...', hid='ed5...')</td>\n",
       "      <td>4</td>\n",
       "    </tr>\n",
       "  </tbody>\n",
       "</table>\n",
       "</div>"
      ],
      "text/plain": [
       "   y  x_0                                    inc  x  \\\n",
       "0  1    3  Call(inc, cid='be7...', hid='807...')  4   \n",
       "1  1    1  Call(inc, cid='9ee...', hid='7b8...')  2   \n",
       "2  1    5  Call(inc, cid='8d9...', hid='226...')  6   \n",
       "3  1    4  Call(inc, cid='dae...', hid='a50...')  5   \n",
       "4  1    2  Call(inc, cid='297...', hid='f1a...')  3   \n",
       "\n",
       "                                     divmod  output_1  output_0  \\\n",
       "0  Call(divmod, cid='185...', hid='034...')         0         4   \n",
       "1  Call(divmod, cid='ac3...', hid='261...')         0         2   \n",
       "2  Call(divmod, cid='96a...', hid='128...')         0         6   \n",
       "3  Call(divmod, cid='39e...', hid='00c...')         0         5   \n",
       "4  Call(divmod, cid='83a...', hid='9de...')         0         3   \n",
       "\n",
       "                                   inc_0  output_0_0  \n",
       "0  Call(inc, cid='dae...', hid='90a...')           5  \n",
       "1  Call(inc, cid='297...', hid='ee6...')           3  \n",
       "2  Call(inc, cid='864...', hid='c00...')           7  \n",
       "3  Call(inc, cid='8d9...', hid='a7d...')           6  \n",
       "4  Call(inc, cid='be7...', hid='ed5...')           4  "
      ]
     },
     "metadata": {},
     "output_type": "display_data"
    }
   ],
   "source": [
    "cf = storage.cf(divmod).expand(verbose=True)\n",
    "cf.draw(); display(cf.get_df(include_calls=True))"
   ]
  },
  {
   "cell_type": "code",
   "execution_count": 17,
   "metadata": {},
   "outputs": [],
   "source": [
    "import pprint"
   ]
  },
  {
   "cell_type": "markdown",
   "metadata": {},
   "source": [
    "# A \"CF-complete\"-ish computation\n",
    "Something that will contain all the things that might happen in a computation\n",
    "frame. "
   ]
  },
  {
   "cell_type": "code",
   "execution_count": null,
   "metadata": {},
   "outputs": [],
   "source": [
    "storage = Storage()"
   ]
  },
  {
   "cell_type": "code",
   "execution_count": null,
   "metadata": {},
   "outputs": [],
   "source": [
    "with storage:\n",
    "    ### run the weird signature func in all the ways\n",
    "    sum_1 = add(1)\n",
    "    sum_2 = add(1, 2, 3, 4, )\n",
    "    sum_3 = add(1, 2, 3, 4, y=5)\n",
    "    sum_4 = add(1, 2, 3, 4, y=5, z=6)\n",
    "\n",
    "    ### create a list where elements have different computational histories\n",
    "    inc_things = [inc(i) for i in range(10)]\n",
    "    divmod_things = [divmod(i, 2) for i in range(10)]\n",
    "    lst = inc_things + [x[0] for x in divmod_things]\n",
    "    stats = get_stats(lst)\n",
    "    stats_divmod = divmod(stats['avg'], stats['sum'])"
   ]
  },
  {
   "cell_type": "code",
   "execution_count": null,
   "metadata": {},
   "outputs": [],
   "source": [
    "cf = storage.cf(divmod).expand()\n",
    "cf.draw()"
   ]
  },
  {
   "cell_type": "code",
   "execution_count": null,
   "metadata": {},
   "outputs": [],
   "source": [
    "sess.dump()"
   ]
  },
  {
   "cell_type": "code",
   "execution_count": null,
   "metadata": {},
   "outputs": [],
   "source": [
    "call_groups"
   ]
  },
  {
   "cell_type": "code",
   "execution_count": null,
   "metadata": {},
   "outputs": [],
   "source": [
    "storage.cf(divmod).get_df()"
   ]
  },
  {
   "cell_type": "markdown",
   "metadata": {},
   "source": [
    "# Testing `Ignore` "
   ]
  },
  {
   "cell_type": "code",
   "execution_count": null,
   "metadata": {},
   "outputs": [],
   "source": [
    "storage = Storage()\n",
    "\n",
    "@op\n",
    "def inc(x: int) -> int:\n",
    "    return x + 1\n",
    "\n",
    "with storage:\n",
    "    y = inc(23)\n",
    "    z = inc(y)"
   ]
  },
  {
   "cell_type": "code",
   "execution_count": null,
   "metadata": {},
   "outputs": [],
   "source": [
    "@op\n",
    "def inc(x: int, y: int = NewArgDefault(1)) -> int:\n",
    "    return x + y\n",
    "\n",
    "with storage:\n",
    "    y = inc(23)\n",
    "    z = inc(23, 1)\n",
    "    w = inc(23, y=1)\n",
    "    t = inc(23, 42)"
   ]
  },
  {
   "cell_type": "code",
   "execution_count": null,
   "metadata": {},
   "outputs": [],
   "source": [
    "storage = Storage()\n",
    "\n",
    "@op\n",
    "def do_stuff(things: list, batch_size : int = Ignore(10)) -> int:\n",
    "    res = 0\n",
    "    for i in range(0, len(things), batch_size):\n",
    "        batch_slice = things[i:i+batch_size]\n",
    "        res += sum(batch_slice)\n",
    "    return res"
   ]
  },
  {
   "cell_type": "code",
   "execution_count": null,
   "metadata": {},
   "outputs": [],
   "source": [
    "with storage:\n",
    "    for i in range(1, 10):\n",
    "        things = list(range(i*50))\n",
    "        batch_size = random.choice([10, 20, 30])\n",
    "        do_stuff(things, Ignore(batch_size))"
   ]
  },
  {
   "cell_type": "code",
   "execution_count": null,
   "metadata": {},
   "outputs": [],
   "source": [
    "cf = storage.cf(do_stuff)\n",
    "\n",
    "val = []\n",
    "df = cf.get_df()\n",
    "\n",
    "cf.delete_calls_from_df(df[df.things.isin([[]])])"
   ]
  },
  {
   "cell_type": "code",
   "execution_count": null,
   "metadata": {},
   "outputs": [],
   "source": []
  },
  {
   "cell_type": "code",
   "execution_count": null,
   "metadata": {},
   "outputs": [],
   "source": [
    "storage = Storage()"
   ]
  },
  {
   "cell_type": "code",
   "execution_count": null,
   "metadata": {},
   "outputs": [],
   "source": [
    "with storage:\n",
    "    sum_1 = add(1)\n",
    "    sum_2 = add(1, 2, 3, 4, )\n",
    "    sum_3 = add(1, 2, 3, 4, y=5)\n",
    "    sum_4 = add(1, 2, 3, 4, y=5, z=6)\n",
    "\n",
    "    factors = factorize(n=42)\n",
    "    stats = get_stats([sum_1, sum_2, sum_3, sum_4])\n",
    "    a = stats['sum']\n",
    "    print(storage.attach(a))"
   ]
  },
  {
   "cell_type": "code",
   "execution_count": null,
   "metadata": {},
   "outputs": [],
   "source": [
    "a"
   ]
  },
  {
   "cell_type": "code",
   "execution_count": null,
   "metadata": {},
   "outputs": [],
   "source": [
    "cf = storage.cf(factorize)\n",
    "cf"
   ]
  },
  {
   "cell_type": "code",
   "execution_count": null,
   "metadata": {},
   "outputs": [],
   "source": [
    "cf_exp = cf.expand()\n",
    "cf_exp.drop_func(fname='__get_list_item__')\n",
    "cf_exp.drop_var(vname='output_0_0')\n",
    "cf_exp"
   ]
  },
  {
   "cell_type": "code",
   "execution_count": null,
   "metadata": {},
   "outputs": [],
   "source": [
    "cf_exp.nodes"
   ]
  },
  {
   "cell_type": "code",
   "execution_count": null,
   "metadata": {},
   "outputs": [],
   "source": [
    "cf_exp.get_df()"
   ]
  },
  {
   "cell_type": "code",
   "execution_count": null,
   "metadata": {},
   "outputs": [],
   "source": [
    "restricted_cf"
   ]
  },
  {
   "cell_type": "code",
   "execution_count": null,
   "metadata": {},
   "outputs": [],
   "source": [
    "df = restricted_cf.get_joint_history_df( vnames=vnames, how=\"outer\", include_calls=include_calls)"
   ]
  },
  {
   "cell_type": "code",
   "execution_count": null,
   "metadata": {},
   "outputs": [],
   "source": [
    "sink_elts = restricted_cf.get_sink_elts()\n",
    "restricted_cf.vnames"
   ]
  },
  {
   "cell_type": "code",
   "execution_count": null,
   "metadata": {},
   "outputs": [],
   "source": [
    "from mandala._next.cf import ComputationFrame\n",
    "restricted_cf: ComputationFrame\n",
    "restricted_cf.vs['output_0']"
   ]
  },
  {
   "cell_type": "code",
   "execution_count": null,
   "metadata": {},
   "outputs": [],
   "source": [
    "restricted_cf.consumers['0ef641fea1ee70c3c31664e9d392cbe5']"
   ]
  },
  {
   "cell_type": "code",
   "execution_count": null,
   "metadata": {},
   "outputs": [],
   "source": [
    "self.midstream(*nodes)\n",
    "vnames"
   ]
  },
  {
   "cell_type": "code",
   "execution_count": null,
   "metadata": {},
   "outputs": [],
   "source": [
    "@op\n",
    "def f(x):\n",
    "    return x ** 2 + 1\n",
    "\n",
    "@op\n",
    "def g(x, y):\n",
    "    return x + y\n",
    "\n",
    "@op\n",
    "def h(x):\n",
    "    return x + 1\n"
   ]
  },
  {
   "cell_type": "code",
   "execution_count": null,
   "metadata": {},
   "outputs": [],
   "source": [
    "\n",
    "storage = Storage(deps_path='__main__')\n",
    "\n",
    "# memoizing context\n",
    "with storage:\n",
    "    for x in range(3):\n",
    "        y = f(x)\n",
    "\n",
    "y"
   ]
  },
  {
   "cell_type": "code",
   "execution_count": null,
   "metadata": {},
   "outputs": [],
   "source": [
    "with storage:\n",
    "    for x in range(5):\n",
    "        y = f(x)\n",
    "        z = g(y, h(x))\n",
    "    \n",
    "    for y in range(15, 20):\n",
    "        z = g(y, h(x))"
   ]
  },
  {
   "cell_type": "code",
   "execution_count": null,
   "metadata": {},
   "outputs": [],
   "source": [
    "cf = storage.cf(g); cf"
   ]
  },
  {
   "cell_type": "code",
   "execution_count": null,
   "metadata": {},
   "outputs": [],
   "source": [
    "exp_cf = cf.expand(); exp_cf"
   ]
  },
  {
   "cell_type": "code",
   "execution_count": null,
   "metadata": {},
   "outputs": [],
   "source": [
    "exp_cf.get_df()"
   ]
  },
  {
   "cell_type": "code",
   "execution_count": null,
   "metadata": {},
   "outputs": [],
   "source": [
    "v = storage.get_versioner()"
   ]
  },
  {
   "cell_type": "code",
   "execution_count": null,
   "metadata": {},
   "outputs": [],
   "source": [
    "with storage:\n",
    "    for x in range(5):\n",
    "        y = f(x)\n",
    "        if storage.unwrap(y) > 5:\n",
    "            z = g(x, y)"
   ]
  },
  {
   "cell_type": "code",
   "execution_count": null,
   "metadata": {},
   "outputs": [],
   "source": [
    "storage.cf(f).\\\n",
    "  expand().\\\n",
    "    eval()"
   ]
  },
  {
   "cell_type": "code",
   "execution_count": null,
   "metadata": {},
   "outputs": [],
   "source": [
    "df.rename(columns={'output_0_0': 'output_1'})"
   ]
  },
  {
   "cell_type": "code",
   "execution_count": null,
   "metadata": {},
   "outputs": [],
   "source": [
    "cf = storage.cf(g)\n",
    "cf.expand(inplace=True)\n",
    "cf.eval()"
   ]
  },
  {
   "cell_type": "code",
   "execution_count": null,
   "metadata": {},
   "outputs": [],
   "source": [
    "cf.delete_calls()"
   ]
  },
  {
   "cell_type": "code",
   "execution_count": null,
   "metadata": {},
   "outputs": [],
   "source": [
    "@op\n",
    "def avg_items(xs: MList[int]) -> float:\n",
    "    return sum(xs) / len(xs)\n",
    "\n",
    "@op\n",
    "def get_xs(n: int) -> MList[int]:\n",
    "    return list(range(n))\n",
    "\n",
    "storage = Storage()\n",
    "\n",
    "with storage:\n",
    "    xs = get_xs(10)\n",
    "    for i in range(2, 10, 2):\n",
    "        avg = avg_items(xs[:i])"
   ]
  },
  {
   "cell_type": "code",
   "execution_count": null,
   "metadata": {},
   "outputs": [],
   "source": [
    "cf = storage.cf(avg_items).expand()\n",
    "cf.eval()"
   ]
  },
  {
   "cell_type": "code",
   "execution_count": null,
   "metadata": {},
   "outputs": [],
   "source": [
    "storage = Storage()\n",
    "\n",
    "@op\n",
    "def inc(eggs):\n",
    "    print(f'Executing inc with eggs={eggs}')\n",
    "    return eggs + 1\n",
    "\n",
    "with storage:\n",
    "    spam = inc(eggs=42)\n",
    "\n",
    "@op\n",
    "def make_breakfast(spam, eggs):\n",
    "    print(f'Executing make_breakfast with spam={spam} and eggs={eggs}')\n",
    "    return spam + eggs\n",
    "\n",
    "with storage:\n",
    "    eggs = 42\n",
    "    spam = inc(eggs=eggs)\n",
    "    more_spam = inc(eggs=spam)\n",
    "    breakfast = make_breakfast(spam=spam, eggs=eggs)\n",
    "    breakfast_2 = make_breakfast(spam=more_spam, eggs=eggs)\n",
    "\n",
    "\n",
    "cf = storage.cf(make_breakfast)\n",
    "cf\n",
    "\n",
    "cf = cf.expand()\n",
    "cf.eval()"
   ]
  },
  {
   "cell_type": "code",
   "execution_count": null,
   "metadata": {},
   "outputs": [],
   "source": [
    "storage = Storage()\n",
    "\n",
    "### a few simple ops covering all cases we care about\n",
    "@op\n",
    "def f(x: int) -> int:\n",
    "    return x + 1\n",
    "\n",
    "@op\n",
    "def g(x: int, y: int) -> Tuple[int, int]: # multiple inputs and outputs\n",
    "    return x + 2, y ** 2\n",
    "\n",
    "@op \n",
    "def inc_list(things: MList[int]) -> MList[int]: # lists as inputs and outputs\n",
    "    return [x + 1 for x in things]\n",
    "\n",
    "@op\n",
    "def inc_dict(things: MDict[str, int]) -> MDict[str, int]: # dicts as inputs and outputs\n",
    "    return {k: v + 1 for k, v in things.items()}\n",
    "\n",
    "@op\n",
    "def fancy_signature(x: int, *args, y: bool = False, **kwargs) -> Tuple[int, List[int], MList[int]]: # fancy signatures\n",
    "    return x, [int(a) for a in args], [int(v) for v in kwargs.values()]"
   ]
  },
  {
   "cell_type": "code",
   "execution_count": null,
   "metadata": {},
   "outputs": [],
   "source": [
    "### simple workflow\n",
    "with storage:\n",
    "    x = f(1)\n",
    "    y, t = g(x, 2)\n",
    "    z = inc_list([1, 2])\n",
    "    z = inc_list([x, y])\n",
    "    z = inc_list([1, x])\n",
    "    w = inc_dict({'x': x, 'y': y})\n",
    "    a = fancy_signature(1, 2, x, y=True, z=4, w=5)"
   ]
  }
 ],
 "metadata": {
  "language_info": {
   "name": "python"
  }
 },
 "nbformat": 4,
 "nbformat_minor": 2
}
