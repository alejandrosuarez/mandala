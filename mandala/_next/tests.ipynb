{
 "cells": [
  {
   "cell_type": "code",
   "execution_count": 1,
   "metadata": {},
   "outputs": [],
   "source": [
    "from mandala._next.imports import *\n",
    "from mandala._next.common_imports import *"
   ]
  },
  {
   "cell_type": "code",
   "execution_count": 2,
   "metadata": {},
   "outputs": [],
   "source": [
    "storage = Storage()\n",
    "\n",
    "### a few simple ops covering all cases we care about\n",
    "@op\n",
    "def f(x: int) -> int:\n",
    "    return x + 1\n",
    "\n",
    "@op\n",
    "def g(x: int, y: int) -> Tuple[int, int]: # multiple inputs and outputs\n",
    "    return x + 2, y ** 2\n",
    "\n",
    "@op \n",
    "def inc_list(things: MList[int]) -> MList[int]: # lists as inputs and outputs\n",
    "    return [x + 1 for x in things]\n",
    "\n",
    "@op\n",
    "def inc_dict(things: MDict[str, int]) -> MDict[str, int]: # dicts as inputs and outputs\n",
    "    return {k: v + 1 for k, v in things.items()}\n",
    "\n",
    "@op\n",
    "def fancy_signature(x: int, *args, y: bool = False, **kwargs) -> Tuple[int, List[int], MList[int]]: # fancy signatures\n",
    "    return x, [int(a) for a in args], [int(v) for v in kwargs.values()]"
   ]
  },
  {
   "cell_type": "code",
   "execution_count": 3,
   "metadata": {},
   "outputs": [],
   "source": [
    "### simple workflow\n",
    "with storage:\n",
    "    x = f(1)\n",
    "    y, t = g(x, 2)\n",
    "    z = inc_list([1, 2])\n",
    "    z = inc_list([x, y])\n",
    "    z = inc_list([1, x])\n",
    "    w = inc_dict({'x': x, 'y': y})\n",
    "    a = fancy_signature(1, 2, x, y=True, z=4, w=5)"
   ]
  }
 ],
 "metadata": {
  "language_info": {
   "name": "python"
  }
 },
 "nbformat": 4,
 "nbformat_minor": 2
}
