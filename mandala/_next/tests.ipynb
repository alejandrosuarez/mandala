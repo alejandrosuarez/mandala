{
 "cells": [
  {
   "cell_type": "code",
   "execution_count": 13,
   "metadata": {},
   "outputs": [],
   "source": [
    "from mandala._next.imports import *\n",
    "from mandala._next.common_imports import *"
   ]
  },
  {
   "cell_type": "code",
   "execution_count": 14,
   "metadata": {},
   "outputs": [],
   "source": [
    "@op # a function with a wild input signature\n",
    "def add(x, *args, y: int = 1, **kwargs):\n",
    "    # just sum everything\n",
    "    return x + sum(args) + y + sum(kwargs.values())\n",
    "\n",
    "@op # a function with variable number of outputs\n",
    "def factorize(n: int) -> Tuple[int, ...]:\n",
    "    factors = []\n",
    "    for i in range(2, n + 1):\n",
    "        while n % i == 0:\n",
    "            factors.append(i)\n",
    "            n //= i\n",
    "    return tuple(factors)\n",
    "\n",
    "@op # function with list input and dict output\n",
    "def get_stats(nums: MList[int]) -> MDict[str, float]:\n",
    "    return {\n",
    "        'avg': float(sum(nums) / len(nums)),\n",
    "        'sum': float(sum(nums)),\n",
    "    }"
   ]
  },
  {
   "cell_type": "code",
   "execution_count": 15,
   "metadata": {},
   "outputs": [],
   "source": [
    "storage = Storage()"
   ]
  },
  {
   "cell_type": "code",
   "execution_count": 17,
   "metadata": {},
   "outputs": [],
   "source": [
    "with storage:\n",
    "    add(1)\n",
    "    add(1, 2, 3, 4, )\n",
    "    add(1, 2, 3, 4, y=5)\n",
    "    add(1, 2, 3, 4, y=5, z=6)\n"
   ]
  },
  {
   "cell_type": "code",
   "execution_count": 18,
   "metadata": {},
   "outputs": [
    {
     "data": {
      "text/plain": [
       "ComputationFrame with 7 variable(s) (10 unique refs), 1 operation(s) (4 unique calls)\n",
       "Computational graph:\n",
       "    output_0 = add(args_1=args_1, z=z, x=x, args_2=args_2, y=y, args_0=args_0)"
      ]
     },
     "execution_count": 18,
     "metadata": {},
     "output_type": "execute_result"
    }
   ],
   "source": [
    "cf = storage.cf(add)\n",
    "cf"
   ]
  },
  {
   "cell_type": "code",
   "execution_count": null,
   "metadata": {},
   "outputs": [],
   "source": [
    "@op\n",
    "def f(x):\n",
    "    return x ** 2 + 1\n",
    "\n",
    "@op\n",
    "def g(x, y):\n",
    "    return x + y\n",
    "\n",
    "@op\n",
    "def h(x):\n",
    "    return x + 1\n"
   ]
  },
  {
   "cell_type": "code",
   "execution_count": null,
   "metadata": {},
   "outputs": [],
   "source": [
    "\n",
    "storage = Storage(deps_path='__main__')\n",
    "\n",
    "# memoizing context\n",
    "with storage:\n",
    "    for x in range(3):\n",
    "        y = f(x)\n",
    "\n",
    "y"
   ]
  },
  {
   "cell_type": "code",
   "execution_count": null,
   "metadata": {},
   "outputs": [],
   "source": [
    "with storage:\n",
    "    for x in range(5):\n",
    "        y = f(x)\n",
    "        z = g(y, h(x))\n",
    "    \n",
    "    for y in range(15, 20):\n",
    "        z = g(y, h(x))"
   ]
  },
  {
   "cell_type": "code",
   "execution_count": null,
   "metadata": {},
   "outputs": [],
   "source": [
    "cf = storage.cf(g); cf"
   ]
  },
  {
   "cell_type": "code",
   "execution_count": null,
   "metadata": {},
   "outputs": [],
   "source": [
    "exp_cf = cf.expand(); exp_cf"
   ]
  },
  {
   "cell_type": "code",
   "execution_count": null,
   "metadata": {},
   "outputs": [],
   "source": [
    "exp_cf.get_df()"
   ]
  },
  {
   "cell_type": "code",
   "execution_count": null,
   "metadata": {},
   "outputs": [],
   "source": [
    "v = storage.get_versioner()"
   ]
  },
  {
   "cell_type": "code",
   "execution_count": null,
   "metadata": {},
   "outputs": [],
   "source": [
    "with storage:\n",
    "    for x in range(5):\n",
    "        y = f(x)\n",
    "        if storage.unwrap(y) > 5:\n",
    "            z = g(x, y)"
   ]
  },
  {
   "cell_type": "code",
   "execution_count": null,
   "metadata": {},
   "outputs": [],
   "source": [
    "storage.cf(f).\\\n",
    "  expand().\\\n",
    "    eval()"
   ]
  },
  {
   "cell_type": "code",
   "execution_count": null,
   "metadata": {},
   "outputs": [],
   "source": [
    "df.rename(columns={'output_0_0': 'output_1'})"
   ]
  },
  {
   "cell_type": "code",
   "execution_count": null,
   "metadata": {},
   "outputs": [],
   "source": [
    "cf = storage.cf(g)\n",
    "cf.expand(inplace=True)\n",
    "cf.eval()"
   ]
  },
  {
   "cell_type": "code",
   "execution_count": null,
   "metadata": {},
   "outputs": [],
   "source": [
    "cf.delete_calls()"
   ]
  },
  {
   "cell_type": "code",
   "execution_count": null,
   "metadata": {},
   "outputs": [],
   "source": [
    "@op\n",
    "def avg_items(xs: MList[int]) -> float:\n",
    "    return sum(xs) / len(xs)\n",
    "\n",
    "@op\n",
    "def get_xs(n: int) -> MList[int]:\n",
    "    return list(range(n))\n",
    "\n",
    "storage = Storage()\n",
    "\n",
    "with storage:\n",
    "    xs = get_xs(10)\n",
    "    for i in range(2, 10, 2):\n",
    "        avg = avg_items(xs[:i])"
   ]
  },
  {
   "cell_type": "code",
   "execution_count": null,
   "metadata": {},
   "outputs": [],
   "source": [
    "cf = storage.cf(avg_items).expand()\n",
    "cf.eval()"
   ]
  },
  {
   "cell_type": "code",
   "execution_count": null,
   "metadata": {},
   "outputs": [],
   "source": [
    "storage = Storage()\n",
    "\n",
    "@op\n",
    "def inc(eggs):\n",
    "    print(f'Executing inc with eggs={eggs}')\n",
    "    return eggs + 1\n",
    "\n",
    "with storage:\n",
    "    spam = inc(eggs=42)\n",
    "\n",
    "@op\n",
    "def make_breakfast(spam, eggs):\n",
    "    print(f'Executing make_breakfast with spam={spam} and eggs={eggs}')\n",
    "    return spam + eggs\n",
    "\n",
    "with storage:\n",
    "    eggs = 42\n",
    "    spam = inc(eggs=eggs)\n",
    "    more_spam = inc(eggs=spam)\n",
    "    breakfast = make_breakfast(spam=spam, eggs=eggs)\n",
    "    breakfast_2 = make_breakfast(spam=more_spam, eggs=eggs)\n",
    "\n",
    "\n",
    "cf = storage.cf(make_breakfast)\n",
    "cf\n",
    "\n",
    "cf = cf.expand()\n",
    "cf.eval()"
   ]
  },
  {
   "cell_type": "code",
   "execution_count": null,
   "metadata": {},
   "outputs": [],
   "source": [
    "storage = Storage()\n",
    "\n",
    "### a few simple ops covering all cases we care about\n",
    "@op\n",
    "def f(x: int) -> int:\n",
    "    return x + 1\n",
    "\n",
    "@op\n",
    "def g(x: int, y: int) -> Tuple[int, int]: # multiple inputs and outputs\n",
    "    return x + 2, y ** 2\n",
    "\n",
    "@op \n",
    "def inc_list(things: MList[int]) -> MList[int]: # lists as inputs and outputs\n",
    "    return [x + 1 for x in things]\n",
    "\n",
    "@op\n",
    "def inc_dict(things: MDict[str, int]) -> MDict[str, int]: # dicts as inputs and outputs\n",
    "    return {k: v + 1 for k, v in things.items()}\n",
    "\n",
    "@op\n",
    "def fancy_signature(x: int, *args, y: bool = False, **kwargs) -> Tuple[int, List[int], MList[int]]: # fancy signatures\n",
    "    return x, [int(a) for a in args], [int(v) for v in kwargs.values()]"
   ]
  },
  {
   "cell_type": "code",
   "execution_count": null,
   "metadata": {},
   "outputs": [],
   "source": [
    "### simple workflow\n",
    "with storage:\n",
    "    x = f(1)\n",
    "    y, t = g(x, 2)\n",
    "    z = inc_list([1, 2])\n",
    "    z = inc_list([x, y])\n",
    "    z = inc_list([1, x])\n",
    "    w = inc_dict({'x': x, 'y': y})\n",
    "    a = fancy_signature(1, 2, x, y=True, z=4, w=5)"
   ]
  }
 ],
 "metadata": {
  "language_info": {
   "name": "python"
  }
 },
 "nbformat": 4,
 "nbformat_minor": 2
}
