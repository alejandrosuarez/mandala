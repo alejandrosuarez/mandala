{
 "cells": [
  {
   "cell_type": "code",
   "execution_count": 1,
   "metadata": {},
   "outputs": [],
   "source": [
    "from mandala._next.imports import *\n",
    "from mandala._next.common_imports import *\n",
    "from mandala._next.utils import *"
   ]
  },
  {
   "cell_type": "markdown",
   "metadata": {},
   "source": [
    "# Testing `Ignore` "
   ]
  },
  {
   "cell_type": "code",
   "execution_count": 2,
   "metadata": {},
   "outputs": [],
   "source": [
    "storage = Storage()\n",
    "\n",
    "@op\n",
    "def inc(x: int) -> int:\n",
    "    return x + 1\n",
    "\n",
    "with storage:\n",
    "    y = inc(23)"
   ]
  },
  {
   "cell_type": "code",
   "execution_count": 7,
   "metadata": {},
   "outputs": [],
   "source": [
    "@op\n",
    "def inc(x: int, y: int = NewArgDefault(1)) -> int:\n",
    "    return x + y\n",
    "\n",
    "with storage:\n",
    "    y = inc(23)\n",
    "    z = inc(23, 1)\n",
    "    w = inc(23, y=1)\n",
    "    t = inc(23, 42)"
   ]
  },
  {
   "cell_type": "code",
   "execution_count": 8,
   "metadata": {},
   "outputs": [
    {
     "name": "stdout",
     "output_type": "stream",
     "text": [
      "Extracting tuples from the computation graph:\n",
      "output_0 = inc(x=x, y=y)...\n"
     ]
    },
    {
     "data": {
      "text/html": [
       "<div>\n",
       "<style scoped>\n",
       "    .dataframe tbody tr th:only-of-type {\n",
       "        vertical-align: middle;\n",
       "    }\n",
       "\n",
       "    .dataframe tbody tr th {\n",
       "        vertical-align: top;\n",
       "    }\n",
       "\n",
       "    .dataframe thead th {\n",
       "        text-align: right;\n",
       "    }\n",
       "</style>\n",
       "<table border=\"1\" class=\"dataframe\">\n",
       "  <thead>\n",
       "    <tr style=\"text-align: right;\">\n",
       "      <th></th>\n",
       "      <th>y</th>\n",
       "      <th>x</th>\n",
       "      <th>inc</th>\n",
       "      <th>output_0</th>\n",
       "    </tr>\n",
       "  </thead>\n",
       "  <tbody>\n",
       "    <tr>\n",
       "      <th>0</th>\n",
       "      <td>NaN</td>\n",
       "      <td>23</td>\n",
       "      <td>Call(inc, cid='308...', hid='04b...')</td>\n",
       "      <td>24</td>\n",
       "    </tr>\n",
       "    <tr>\n",
       "      <th>1</th>\n",
       "      <td>42.0</td>\n",
       "      <td>23</td>\n",
       "      <td>Call(inc, cid='55a...', hid='f70...')</td>\n",
       "      <td>65</td>\n",
       "    </tr>\n",
       "  </tbody>\n",
       "</table>\n",
       "</div>"
      ],
      "text/plain": [
       "      y   x                                    inc  output_0\n",
       "0   NaN  23  Call(inc, cid='308...', hid='04b...')        24\n",
       "1  42.0  23  Call(inc, cid='55a...', hid='f70...')        65"
      ]
     },
     "execution_count": 8,
     "metadata": {},
     "output_type": "execute_result"
    }
   ],
   "source": [
    "storage.cf(inc).get_df()"
   ]
  },
  {
   "cell_type": "code",
   "execution_count": null,
   "metadata": {},
   "outputs": [],
   "source": [
    "storage = Storage()\n",
    "\n",
    "@op\n",
    "def do_stuff(things: list, batch_size : int = Ignore(10)) -> int:\n",
    "    res = 0\n",
    "    for i in range(0, len(things), batch_size):\n",
    "        batch_slice = things[i:i+batch_size]\n",
    "        res += sum(batch_slice)\n",
    "    return res"
   ]
  },
  {
   "cell_type": "code",
   "execution_count": null,
   "metadata": {},
   "outputs": [],
   "source": [
    "with storage:\n",
    "    for i in range(1, 10):\n",
    "        things = list(range(i*50))\n",
    "        batch_size = random.choice([10, 20, 30])\n",
    "        do_stuff(things, Ignore(batch_size))"
   ]
  },
  {
   "cell_type": "code",
   "execution_count": null,
   "metadata": {},
   "outputs": [],
   "source": [
    "cf = storage.cf(do_stuff)\n",
    "\n",
    "val = []\n",
    "df = cf.get_df()\n",
    "\n",
    "cf.delete_calls_from_df(df[df.things.isin([[]])])"
   ]
  },
  {
   "cell_type": "code",
   "execution_count": null,
   "metadata": {},
   "outputs": [],
   "source": [
    "@op # a function with a wild input signature\n",
    "def add(x, *args, y: int = 1, **kwargs):\n",
    "    # just sum everything\n",
    "    return x + sum(args) + y + sum(kwargs.values())\n",
    "\n",
    "@op # a function with variable number of outputs\n",
    "def factorize(n: int) -> Tuple[int, ...]:\n",
    "    factors = []\n",
    "    for i in range(2, n + 1):\n",
    "        while n % i == 0:\n",
    "            factors.append(i)\n",
    "            n //= i\n",
    "    return tuple(factors)\n",
    "\n",
    "@op # function with list input and dict output\n",
    "def get_stats(nums: MList[int]) -> MDict[str, float]:\n",
    "    return {\n",
    "        'avg': float(sum(nums) / len(nums)),\n",
    "        'sum': float(sum(nums)),\n",
    "    }"
   ]
  },
  {
   "cell_type": "code",
   "execution_count": null,
   "metadata": {},
   "outputs": [],
   "source": [
    "storage = Storage()"
   ]
  },
  {
   "cell_type": "code",
   "execution_count": null,
   "metadata": {},
   "outputs": [],
   "source": [
    "with storage:\n",
    "    sum_1 = add(1)\n",
    "    sum_2 = add(1, 2, 3, 4, )\n",
    "    sum_3 = add(1, 2, 3, 4, y=5)\n",
    "    sum_4 = add(1, 2, 3, 4, y=5, z=6)\n",
    "\n",
    "    factors = factorize(n=42)\n",
    "    stats = get_stats([sum_1, sum_2, sum_3, sum_4])\n",
    "    a = stats['sum']\n",
    "    print(storage.attach(a))"
   ]
  },
  {
   "cell_type": "code",
   "execution_count": null,
   "metadata": {},
   "outputs": [],
   "source": [
    "a"
   ]
  },
  {
   "cell_type": "code",
   "execution_count": null,
   "metadata": {},
   "outputs": [],
   "source": [
    "cf = storage.cf(factorize)\n",
    "cf"
   ]
  },
  {
   "cell_type": "code",
   "execution_count": null,
   "metadata": {},
   "outputs": [],
   "source": [
    "cf_exp = cf.expand()\n",
    "cf_exp.drop_func(fname='__get_list_item__')\n",
    "cf_exp.drop_var(vname='output_0_0')\n",
    "cf_exp"
   ]
  },
  {
   "cell_type": "code",
   "execution_count": null,
   "metadata": {},
   "outputs": [],
   "source": [
    "cf_exp.nodes"
   ]
  },
  {
   "cell_type": "code",
   "execution_count": null,
   "metadata": {},
   "outputs": [],
   "source": [
    "cf_exp.get_df()"
   ]
  },
  {
   "cell_type": "code",
   "execution_count": null,
   "metadata": {},
   "outputs": [],
   "source": [
    "restricted_cf"
   ]
  },
  {
   "cell_type": "code",
   "execution_count": null,
   "metadata": {},
   "outputs": [],
   "source": [
    "df = restricted_cf.get_joint_history_df( vnames=vnames, how=\"outer\", include_calls=include_calls)"
   ]
  },
  {
   "cell_type": "code",
   "execution_count": null,
   "metadata": {},
   "outputs": [],
   "source": [
    "sink_elts = restricted_cf.get_sink_elts()\n",
    "restricted_cf.vnames"
   ]
  },
  {
   "cell_type": "code",
   "execution_count": null,
   "metadata": {},
   "outputs": [],
   "source": [
    "from mandala._next.cf import ComputationFrame\n",
    "restricted_cf: ComputationFrame\n",
    "restricted_cf.vs['output_0']"
   ]
  },
  {
   "cell_type": "code",
   "execution_count": null,
   "metadata": {},
   "outputs": [],
   "source": [
    "restricted_cf.consumers['0ef641fea1ee70c3c31664e9d392cbe5']"
   ]
  },
  {
   "cell_type": "code",
   "execution_count": null,
   "metadata": {},
   "outputs": [],
   "source": [
    "self.midstream(*nodes)\n",
    "vnames"
   ]
  },
  {
   "cell_type": "code",
   "execution_count": null,
   "metadata": {},
   "outputs": [],
   "source": [
    "@op\n",
    "def f(x):\n",
    "    return x ** 2 + 1\n",
    "\n",
    "@op\n",
    "def g(x, y):\n",
    "    return x + y\n",
    "\n",
    "@op\n",
    "def h(x):\n",
    "    return x + 1\n"
   ]
  },
  {
   "cell_type": "code",
   "execution_count": null,
   "metadata": {},
   "outputs": [],
   "source": [
    "\n",
    "storage = Storage(deps_path='__main__')\n",
    "\n",
    "# memoizing context\n",
    "with storage:\n",
    "    for x in range(3):\n",
    "        y = f(x)\n",
    "\n",
    "y"
   ]
  },
  {
   "cell_type": "code",
   "execution_count": null,
   "metadata": {},
   "outputs": [],
   "source": [
    "with storage:\n",
    "    for x in range(5):\n",
    "        y = f(x)\n",
    "        z = g(y, h(x))\n",
    "    \n",
    "    for y in range(15, 20):\n",
    "        z = g(y, h(x))"
   ]
  },
  {
   "cell_type": "code",
   "execution_count": null,
   "metadata": {},
   "outputs": [],
   "source": [
    "cf = storage.cf(g); cf"
   ]
  },
  {
   "cell_type": "code",
   "execution_count": null,
   "metadata": {},
   "outputs": [],
   "source": [
    "exp_cf = cf.expand(); exp_cf"
   ]
  },
  {
   "cell_type": "code",
   "execution_count": null,
   "metadata": {},
   "outputs": [],
   "source": [
    "exp_cf.get_df()"
   ]
  },
  {
   "cell_type": "code",
   "execution_count": null,
   "metadata": {},
   "outputs": [],
   "source": [
    "v = storage.get_versioner()"
   ]
  },
  {
   "cell_type": "code",
   "execution_count": null,
   "metadata": {},
   "outputs": [],
   "source": [
    "with storage:\n",
    "    for x in range(5):\n",
    "        y = f(x)\n",
    "        if storage.unwrap(y) > 5:\n",
    "            z = g(x, y)"
   ]
  },
  {
   "cell_type": "code",
   "execution_count": null,
   "metadata": {},
   "outputs": [],
   "source": [
    "storage.cf(f).\\\n",
    "  expand().\\\n",
    "    eval()"
   ]
  },
  {
   "cell_type": "code",
   "execution_count": null,
   "metadata": {},
   "outputs": [],
   "source": [
    "df.rename(columns={'output_0_0': 'output_1'})"
   ]
  },
  {
   "cell_type": "code",
   "execution_count": null,
   "metadata": {},
   "outputs": [],
   "source": [
    "cf = storage.cf(g)\n",
    "cf.expand(inplace=True)\n",
    "cf.eval()"
   ]
  },
  {
   "cell_type": "code",
   "execution_count": null,
   "metadata": {},
   "outputs": [],
   "source": [
    "cf.delete_calls()"
   ]
  },
  {
   "cell_type": "code",
   "execution_count": null,
   "metadata": {},
   "outputs": [],
   "source": [
    "@op\n",
    "def avg_items(xs: MList[int]) -> float:\n",
    "    return sum(xs) / len(xs)\n",
    "\n",
    "@op\n",
    "def get_xs(n: int) -> MList[int]:\n",
    "    return list(range(n))\n",
    "\n",
    "storage = Storage()\n",
    "\n",
    "with storage:\n",
    "    xs = get_xs(10)\n",
    "    for i in range(2, 10, 2):\n",
    "        avg = avg_items(xs[:i])"
   ]
  },
  {
   "cell_type": "code",
   "execution_count": null,
   "metadata": {},
   "outputs": [],
   "source": [
    "cf = storage.cf(avg_items).expand()\n",
    "cf.eval()"
   ]
  },
  {
   "cell_type": "code",
   "execution_count": null,
   "metadata": {},
   "outputs": [],
   "source": [
    "storage = Storage()\n",
    "\n",
    "@op\n",
    "def inc(eggs):\n",
    "    print(f'Executing inc with eggs={eggs}')\n",
    "    return eggs + 1\n",
    "\n",
    "with storage:\n",
    "    spam = inc(eggs=42)\n",
    "\n",
    "@op\n",
    "def make_breakfast(spam, eggs):\n",
    "    print(f'Executing make_breakfast with spam={spam} and eggs={eggs}')\n",
    "    return spam + eggs\n",
    "\n",
    "with storage:\n",
    "    eggs = 42\n",
    "    spam = inc(eggs=eggs)\n",
    "    more_spam = inc(eggs=spam)\n",
    "    breakfast = make_breakfast(spam=spam, eggs=eggs)\n",
    "    breakfast_2 = make_breakfast(spam=more_spam, eggs=eggs)\n",
    "\n",
    "\n",
    "cf = storage.cf(make_breakfast)\n",
    "cf\n",
    "\n",
    "cf = cf.expand()\n",
    "cf.eval()"
   ]
  },
  {
   "cell_type": "code",
   "execution_count": null,
   "metadata": {},
   "outputs": [],
   "source": [
    "storage = Storage()\n",
    "\n",
    "### a few simple ops covering all cases we care about\n",
    "@op\n",
    "def f(x: int) -> int:\n",
    "    return x + 1\n",
    "\n",
    "@op\n",
    "def g(x: int, y: int) -> Tuple[int, int]: # multiple inputs and outputs\n",
    "    return x + 2, y ** 2\n",
    "\n",
    "@op \n",
    "def inc_list(things: MList[int]) -> MList[int]: # lists as inputs and outputs\n",
    "    return [x + 1 for x in things]\n",
    "\n",
    "@op\n",
    "def inc_dict(things: MDict[str, int]) -> MDict[str, int]: # dicts as inputs and outputs\n",
    "    return {k: v + 1 for k, v in things.items()}\n",
    "\n",
    "@op\n",
    "def fancy_signature(x: int, *args, y: bool = False, **kwargs) -> Tuple[int, List[int], MList[int]]: # fancy signatures\n",
    "    return x, [int(a) for a in args], [int(v) for v in kwargs.values()]"
   ]
  },
  {
   "cell_type": "code",
   "execution_count": null,
   "metadata": {},
   "outputs": [],
   "source": [
    "### simple workflow\n",
    "with storage:\n",
    "    x = f(1)\n",
    "    y, t = g(x, 2)\n",
    "    z = inc_list([1, 2])\n",
    "    z = inc_list([x, y])\n",
    "    z = inc_list([1, x])\n",
    "    w = inc_dict({'x': x, 'y': y})\n",
    "    a = fancy_signature(1, 2, x, y=True, z=4, w=5)"
   ]
  }
 ],
 "metadata": {
  "language_info": {
   "name": "python"
  }
 },
 "nbformat": 4,
 "nbformat_minor": 2
}
