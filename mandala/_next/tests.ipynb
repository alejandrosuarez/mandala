{
 "cells": [
  {
   "cell_type": "code",
   "execution_count": 28,
   "metadata": {},
   "outputs": [],
   "source": [
    "from mandala._next.imports import *\n",
    "from mandala._next.common_imports import *"
   ]
  },
  {
   "cell_type": "code",
   "execution_count": 29,
   "metadata": {},
   "outputs": [
    {
     "data": {
      "text/plain": [
       "AtomRef(4, hid='628...', cid='a82...')"
      ]
     },
     "execution_count": 29,
     "metadata": {},
     "output_type": "execute_result"
    }
   ],
   "source": [
    "@op\n",
    "def f(x):\n",
    "    return x ** 2\n",
    "\n",
    "@op\n",
    "def g(x, y):\n",
    "    return x + y\n",
    "\n",
    "@op\n",
    "def h(x):\n",
    "    return x + 1\n",
    "\n",
    "storage = Storage()\n",
    "\n",
    "# memoizing context\n",
    "with storage:\n",
    "    for x in range(3):\n",
    "        y = f(x)\n",
    "\n",
    "y"
   ]
  },
  {
   "cell_type": "code",
   "execution_count": 30,
   "metadata": {},
   "outputs": [],
   "source": [
    "with storage:\n",
    "    for x in range(5):\n",
    "        y = f(x)\n",
    "        z = g(y, h(x))\n",
    "    \n",
    "    for y in range(15, 20):\n",
    "        z = g(y, h(x))"
   ]
  },
  {
   "cell_type": "code",
   "execution_count": 31,
   "metadata": {},
   "outputs": [
    {
     "data": {
      "text/plain": [
       "ComputationFrame with 3 variable(s) (25 unique refs), 1 operation(s) (10 unique calls)\n",
       "Computational graph:\n",
       "    output_0 = g(y=y, x=x)"
      ]
     },
     "execution_count": 31,
     "metadata": {},
     "output_type": "execute_result"
    }
   ],
   "source": [
    "cf = storage.cf(g); cf"
   ]
  },
  {
   "cell_type": "code",
   "execution_count": 33,
   "metadata": {},
   "outputs": [
    {
     "data": {
      "text/plain": [
       "ComputationFrame with 5 variable(s) (30 unique refs), 3 operation(s) (20 unique calls)\n",
       "Computational graph:\n",
       "    y = h(x=x_1)\n",
       "    x = f(x=x_0)\n",
       "    output_0 = g(y=y, x=x)"
      ]
     },
     "execution_count": 33,
     "metadata": {},
     "output_type": "execute_result"
    }
   ],
   "source": [
    "exp_cf = cf.expand(); exp_cf"
   ]
  },
  {
   "cell_type": "code",
   "execution_count": 34,
   "metadata": {},
   "outputs": [
    {
     "name": "stdout",
     "output_type": "stream",
     "text": [
      "Extracting tuples from the computation graph:\n",
      "y = h(x=x_1)\n",
      "x = f(x=x_0)\n",
      "output_0 = g(x=x, y=y)...\n"
     ]
    },
    {
     "data": {
      "text/html": [
       "<div>\n",
       "<style scoped>\n",
       "    .dataframe tbody tr th:only-of-type {\n",
       "        vertical-align: middle;\n",
       "    }\n",
       "\n",
       "    .dataframe tbody tr th {\n",
       "        vertical-align: top;\n",
       "    }\n",
       "\n",
       "    .dataframe thead th {\n",
       "        text-align: right;\n",
       "    }\n",
       "</style>\n",
       "<table border=\"1\" class=\"dataframe\">\n",
       "  <thead>\n",
       "    <tr style=\"text-align: right;\">\n",
       "      <th></th>\n",
       "      <th>x_1</th>\n",
       "      <th>h</th>\n",
       "      <th>y</th>\n",
       "      <th>x_0</th>\n",
       "      <th>f</th>\n",
       "      <th>x</th>\n",
       "      <th>g</th>\n",
       "      <th>output_0</th>\n",
       "    </tr>\n",
       "  </thead>\n",
       "  <tbody>\n",
       "    <tr>\n",
       "      <th>0</th>\n",
       "      <td>1</td>\n",
       "      <td>Call(h, cid='568...', hid='239...')</td>\n",
       "      <td>2</td>\n",
       "      <td>1.0</td>\n",
       "      <td>Call(f, cid='845...', hid='a55...')</td>\n",
       "      <td>1</td>\n",
       "      <td>Call(g, cid='033...', hid='8e7...')</td>\n",
       "      <td>3</td>\n",
       "    </tr>\n",
       "    <tr>\n",
       "      <th>1</th>\n",
       "      <td>4</td>\n",
       "      <td>Call(h, cid='b7d...', hid='b30...')</td>\n",
       "      <td>5</td>\n",
       "      <td>NaN</td>\n",
       "      <td>None</td>\n",
       "      <td>15</td>\n",
       "      <td>Call(g, cid='19e...', hid='290...')</td>\n",
       "      <td>20</td>\n",
       "    </tr>\n",
       "    <tr>\n",
       "      <th>2</th>\n",
       "      <td>0</td>\n",
       "      <td>Call(h, cid='9f2...', hid='dae...')</td>\n",
       "      <td>1</td>\n",
       "      <td>0.0</td>\n",
       "      <td>Call(f, cid='82f...', hid='b98...')</td>\n",
       "      <td>0</td>\n",
       "      <td>Call(g, cid='65a...', hid='ec6...')</td>\n",
       "      <td>1</td>\n",
       "    </tr>\n",
       "    <tr>\n",
       "      <th>3</th>\n",
       "      <td>4</td>\n",
       "      <td>Call(h, cid='b7d...', hid='b30...')</td>\n",
       "      <td>5</td>\n",
       "      <td>NaN</td>\n",
       "      <td>None</td>\n",
       "      <td>16</td>\n",
       "      <td>Call(g, cid='0a8...', hid='701...')</td>\n",
       "      <td>21</td>\n",
       "    </tr>\n",
       "    <tr>\n",
       "      <th>4</th>\n",
       "      <td>4</td>\n",
       "      <td>Call(h, cid='b7d...', hid='b30...')</td>\n",
       "      <td>5</td>\n",
       "      <td>NaN</td>\n",
       "      <td>None</td>\n",
       "      <td>19</td>\n",
       "      <td>Call(g, cid='fc9...', hid='74f...')</td>\n",
       "      <td>24</td>\n",
       "    </tr>\n",
       "    <tr>\n",
       "      <th>5</th>\n",
       "      <td>4</td>\n",
       "      <td>Call(h, cid='b7d...', hid='b30...')</td>\n",
       "      <td>5</td>\n",
       "      <td>4.0</td>\n",
       "      <td>Call(f, cid='05e...', hid='f87...')</td>\n",
       "      <td>16</td>\n",
       "      <td>Call(g, cid='0a8...', hid='52a...')</td>\n",
       "      <td>21</td>\n",
       "    </tr>\n",
       "    <tr>\n",
       "      <th>6</th>\n",
       "      <td>2</td>\n",
       "      <td>Call(h, cid='b03...', hid='d83...')</td>\n",
       "      <td>3</td>\n",
       "      <td>2.0</td>\n",
       "      <td>Call(f, cid='77b...', hid='1cb...')</td>\n",
       "      <td>4</td>\n",
       "      <td>Call(g, cid='cdb...', hid='c95...')</td>\n",
       "      <td>7</td>\n",
       "    </tr>\n",
       "    <tr>\n",
       "      <th>7</th>\n",
       "      <td>4</td>\n",
       "      <td>Call(h, cid='b7d...', hid='b30...')</td>\n",
       "      <td>5</td>\n",
       "      <td>NaN</td>\n",
       "      <td>None</td>\n",
       "      <td>18</td>\n",
       "      <td>Call(g, cid='17e...', hid='6a5...')</td>\n",
       "      <td>23</td>\n",
       "    </tr>\n",
       "    <tr>\n",
       "      <th>8</th>\n",
       "      <td>3</td>\n",
       "      <td>Call(h, cid='148...', hid='d1d...')</td>\n",
       "      <td>4</td>\n",
       "      <td>3.0</td>\n",
       "      <td>Call(f, cid='f41...', hid='dab...')</td>\n",
       "      <td>9</td>\n",
       "      <td>Call(g, cid='602...', hid='d68...')</td>\n",
       "      <td>13</td>\n",
       "    </tr>\n",
       "    <tr>\n",
       "      <th>9</th>\n",
       "      <td>4</td>\n",
       "      <td>Call(h, cid='b7d...', hid='b30...')</td>\n",
       "      <td>5</td>\n",
       "      <td>NaN</td>\n",
       "      <td>None</td>\n",
       "      <td>17</td>\n",
       "      <td>Call(g, cid='ae0...', hid='2ad...')</td>\n",
       "      <td>22</td>\n",
       "    </tr>\n",
       "  </tbody>\n",
       "</table>\n",
       "</div>"
      ],
      "text/plain": [
       "   x_1                                    h  y  x_0  \\\n",
       "0    1  Call(h, cid='568...', hid='239...')  2  1.0   \n",
       "1    4  Call(h, cid='b7d...', hid='b30...')  5  NaN   \n",
       "2    0  Call(h, cid='9f2...', hid='dae...')  1  0.0   \n",
       "3    4  Call(h, cid='b7d...', hid='b30...')  5  NaN   \n",
       "4    4  Call(h, cid='b7d...', hid='b30...')  5  NaN   \n",
       "5    4  Call(h, cid='b7d...', hid='b30...')  5  4.0   \n",
       "6    2  Call(h, cid='b03...', hid='d83...')  3  2.0   \n",
       "7    4  Call(h, cid='b7d...', hid='b30...')  5  NaN   \n",
       "8    3  Call(h, cid='148...', hid='d1d...')  4  3.0   \n",
       "9    4  Call(h, cid='b7d...', hid='b30...')  5  NaN   \n",
       "\n",
       "                                     f   x  \\\n",
       "0  Call(f, cid='845...', hid='a55...')   1   \n",
       "1                                 None  15   \n",
       "2  Call(f, cid='82f...', hid='b98...')   0   \n",
       "3                                 None  16   \n",
       "4                                 None  19   \n",
       "5  Call(f, cid='05e...', hid='f87...')  16   \n",
       "6  Call(f, cid='77b...', hid='1cb...')   4   \n",
       "7                                 None  18   \n",
       "8  Call(f, cid='f41...', hid='dab...')   9   \n",
       "9                                 None  17   \n",
       "\n",
       "                                     g  output_0  \n",
       "0  Call(g, cid='033...', hid='8e7...')         3  \n",
       "1  Call(g, cid='19e...', hid='290...')        20  \n",
       "2  Call(g, cid='65a...', hid='ec6...')         1  \n",
       "3  Call(g, cid='0a8...', hid='701...')        21  \n",
       "4  Call(g, cid='fc9...', hid='74f...')        24  \n",
       "5  Call(g, cid='0a8...', hid='52a...')        21  \n",
       "6  Call(g, cid='cdb...', hid='c95...')         7  \n",
       "7  Call(g, cid='17e...', hid='6a5...')        23  \n",
       "8  Call(g, cid='602...', hid='d68...')        13  \n",
       "9  Call(g, cid='ae0...', hid='2ad...')        22  "
      ]
     },
     "execution_count": 34,
     "metadata": {},
     "output_type": "execute_result"
    }
   ],
   "source": [
    "exp_cf.get_df()"
   ]
  },
  {
   "cell_type": "code",
   "execution_count": null,
   "metadata": {},
   "outputs": [],
   "source": [
    "sess.dump()"
   ]
  },
  {
   "cell_type": "code",
   "execution_count": null,
   "metadata": {},
   "outputs": [],
   "source": [
    "restricted_cf['x'].refs"
   ]
  },
  {
   "cell_type": "code",
   "execution_count": null,
   "metadata": {},
   "outputs": [],
   "source": [
    "with storage:\n",
    "    for x in range(5):\n",
    "        y = f(x)\n",
    "        if storage.unwrap(y) > 5:\n",
    "            z = g(x, y)"
   ]
  },
  {
   "cell_type": "code",
   "execution_count": null,
   "metadata": {},
   "outputs": [],
   "source": [
    "storage.cf(f).\\\n",
    "  expand().\\\n",
    "    eval()"
   ]
  },
  {
   "cell_type": "code",
   "execution_count": null,
   "metadata": {},
   "outputs": [],
   "source": [
    "df.rename(columns={'output_0_0': 'output_1'})"
   ]
  },
  {
   "cell_type": "code",
   "execution_count": null,
   "metadata": {},
   "outputs": [],
   "source": [
    "cf = storage.cf(g)\n",
    "cf.expand(inplace=True)\n",
    "cf.eval()"
   ]
  },
  {
   "cell_type": "code",
   "execution_count": null,
   "metadata": {},
   "outputs": [],
   "source": [
    "cf.delete_calls()"
   ]
  },
  {
   "cell_type": "code",
   "execution_count": null,
   "metadata": {},
   "outputs": [],
   "source": [
    "@op\n",
    "def avg_items(xs: MList[int]) -> float:\n",
    "    return sum(xs) / len(xs)\n",
    "\n",
    "@op\n",
    "def get_xs(n: int) -> MList[int]:\n",
    "    return list(range(n))\n",
    "\n",
    "storage = Storage()\n",
    "\n",
    "with storage:\n",
    "    xs = get_xs(10)\n",
    "    for i in range(2, 10, 2):\n",
    "        avg = avg_items(xs[:i])"
   ]
  },
  {
   "cell_type": "code",
   "execution_count": null,
   "metadata": {},
   "outputs": [],
   "source": [
    "cf = storage.cf(avg_items).expand()\n",
    "cf.eval()"
   ]
  },
  {
   "cell_type": "code",
   "execution_count": null,
   "metadata": {},
   "outputs": [],
   "source": [
    "storage = Storage()\n",
    "\n",
    "@op\n",
    "def inc(eggs):\n",
    "    print(f'Executing inc with eggs={eggs}')\n",
    "    return eggs + 1\n",
    "\n",
    "with storage:\n",
    "    spam = inc(eggs=42)\n",
    "\n",
    "@op\n",
    "def make_breakfast(spam, eggs):\n",
    "    print(f'Executing make_breakfast with spam={spam} and eggs={eggs}')\n",
    "    return spam + eggs\n",
    "\n",
    "with storage:\n",
    "    eggs = 42\n",
    "    spam = inc(eggs=eggs)\n",
    "    more_spam = inc(eggs=spam)\n",
    "    breakfast = make_breakfast(spam=spam, eggs=eggs)\n",
    "    breakfast_2 = make_breakfast(spam=more_spam, eggs=eggs)\n",
    "\n",
    "\n",
    "cf = storage.cf(make_breakfast)\n",
    "cf\n",
    "\n",
    "cf = cf.expand()\n",
    "cf.eval()"
   ]
  },
  {
   "cell_type": "code",
   "execution_count": null,
   "metadata": {},
   "outputs": [],
   "source": [
    "storage = Storage()\n",
    "\n",
    "### a few simple ops covering all cases we care about\n",
    "@op\n",
    "def f(x: int) -> int:\n",
    "    return x + 1\n",
    "\n",
    "@op\n",
    "def g(x: int, y: int) -> Tuple[int, int]: # multiple inputs and outputs\n",
    "    return x + 2, y ** 2\n",
    "\n",
    "@op \n",
    "def inc_list(things: MList[int]) -> MList[int]: # lists as inputs and outputs\n",
    "    return [x + 1 for x in things]\n",
    "\n",
    "@op\n",
    "def inc_dict(things: MDict[str, int]) -> MDict[str, int]: # dicts as inputs and outputs\n",
    "    return {k: v + 1 for k, v in things.items()}\n",
    "\n",
    "@op\n",
    "def fancy_signature(x: int, *args, y: bool = False, **kwargs) -> Tuple[int, List[int], MList[int]]: # fancy signatures\n",
    "    return x, [int(a) for a in args], [int(v) for v in kwargs.values()]"
   ]
  },
  {
   "cell_type": "code",
   "execution_count": null,
   "metadata": {},
   "outputs": [],
   "source": [
    "### simple workflow\n",
    "with storage:\n",
    "    x = f(1)\n",
    "    y, t = g(x, 2)\n",
    "    z = inc_list([1, 2])\n",
    "    z = inc_list([x, y])\n",
    "    z = inc_list([1, x])\n",
    "    w = inc_dict({'x': x, 'y': y})\n",
    "    a = fancy_signature(1, 2, x, y=True, z=4, w=5)"
   ]
  }
 ],
 "metadata": {
  "language_info": {
   "name": "python"
  }
 },
 "nbformat": 4,
 "nbformat_minor": 2
}
