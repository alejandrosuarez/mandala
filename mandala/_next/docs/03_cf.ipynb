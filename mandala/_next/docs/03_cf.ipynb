{
 "cells": [
  {
   "cell_type": "markdown",
   "metadata": {},
   "source": [
    "# Query the Storage with `ComputationFrame`s\n",
    "## Why `ComputationFrame`s?\n",
    "The `ComputationFrame` data structure **formalizes the natural/intuitive way you\n",
    "think of the \"web\" of saved `@op` calls**. It gives you a \"grammar\" in which\n",
    "operations over persisted computation graphs that are easy to think of are also\n",
    "easy to implement.\n",
    "\n",
    "In computational projects, all queries boil down to how some variables depend on\n",
    "other variables: e.g., in ML you often care about what input parameters lead to\n",
    "final results with certain metrics. The `mandala` storage can automatically\n",
    "answer such questions when all operations along the way were `@op`s, because it\n",
    "represents the \"web\" of saved `@op` calls, linked by how the outputs of one\n",
    "`@op` are used as inputs to other `@op`s.\n",
    "\n",
    "The `ComputationFrame` (CF) is the data structure used to explore and query this\n",
    "web of calls. It's a high-level view of a collection of `@op` calls, so that\n",
    "calls that serve the same role are grouped together. **The groups of calls form a\n",
    "computational graph of variables and functions, which enables effective &\n",
    "natural high-level operations over storage**. \n",
    "\n",
    "This section covers basic tools to get up to speed with CFs. For more advanced\n",
    "usage, see [Advanced `ComputationFrame` tools](06_advanced_cf.md) "
   ]
  },
  {
   "cell_type": "markdown",
   "metadata": {},
   "source": [
    "## Typical workflow\n",
    "Using CFs typically goes through the following stages:\n",
    "\n",
    "- **[creation](#creating-computationframes)**: initialize a CF in various ways,\n",
    "e.g. from some `Ref`s, from all calls to an `@op`, .... This CF will have a\n",
    "limited view of storage because it will involve few (0 or 1) `@op`s\n",
    "- **[expansion](#exploring-storage-by-expanding-computationframes)**: add more\n",
    "context to the CF by adding new function nodes containing the calls that\n",
    "produced/used some variable(s). The goal of this stage is to incorporate in the\n",
    "CF all variables whose relationships you're interested in.\n",
    "- **combination & restriction**: merge multiple CFs, restrict to subgraphs or \n",
    "specific values of the variables along some predicates. This lets you focus on\n",
    "the computations you want before making expensive calls to the storage.\n",
    "- **[conversion to a `pandas.DataFrame`](#extracting-dataframes-from-computationframes)**: finally,\n",
    "extract a table representing the relationships between the variables in the CF\n",
    "for downstream analysis.\n",
    "\n",
    "### Toy ML pipeline\n",
    "In this section, we'll work with the following toy experiment on a small ML\n",
    "pipeline:"
   ]
  },
  {
   "cell_type": "code",
   "execution_count": 1,
   "metadata": {
    "execution": {
     "iopub.execute_input": "2024-07-02T20:33:56.731292Z",
     "iopub.status.busy": "2024-07-02T20:33:56.729810Z",
     "iopub.status.idle": "2024-07-02T20:33:58.911232Z",
     "shell.execute_reply": "2024-07-02T20:33:58.910615Z"
    }
   },
   "outputs": [],
   "source": [
    "### define ops to train & eval a random forest model on digits dataset\n",
    "import numpy as np\n",
    "from sklearn.datasets import load_digits\n",
    "from sklearn.model_selection import train_test_split\n",
    "from sklearn.ensemble import RandomForestClassifier\n",
    "\n",
    "from mandala._next.imports import *\n",
    "try:\n",
    "    import rich\n",
    "    from rich import print as pprint\n",
    "except ImportError:\n",
    "    print(\"rich not installed, using default print\")\n",
    "    pprint = print\n",
    "\n",
    "storage = Storage()\n",
    "\n",
    "np.random.seed(0)\n",
    "\n",
    "@op \n",
    "def generate_dataset(random_seed=42):\n",
    "    X, y = load_digits(return_X_y=True)\n",
    "    X_train, X_test, y_train, y_test = train_test_split(\n",
    "        X, y, test_size=0.2, random_state=random_seed)\n",
    "    return X_train, X_test, y_train, y_test\n",
    "\n",
    "@op\n",
    "def train_model(X_train, y_train, n_estimators):\n",
    "    model = RandomForestClassifier(n_estimators=n_estimators, max_depth=2)\n",
    "    model.fit(X_train, y_train)\n",
    "    return model, round(model.score(X_train, y_train), 2)\n",
    "\n",
    "@op\n",
    "def eval_model(model, X_test, y_test):\n",
    "    return round(model.score(X_test, y_test), 2)"
   ]
  },
  {
   "cell_type": "code",
   "execution_count": 2,
   "metadata": {
    "execution": {
     "iopub.execute_input": "2024-07-02T20:33:58.913708Z",
     "iopub.status.busy": "2024-07-02T20:33:58.913462Z",
     "iopub.status.idle": "2024-07-02T20:33:59.438669Z",
     "shell.execute_reply": "2024-07-02T20:33:59.438048Z"
    }
   },
   "outputs": [],
   "source": [
    "with storage: \n",
    "    X_train, X_test, y_train, y_test = generate_dataset()\n",
    "    for n_estimators in [10, 20, 40, 80]:\n",
    "        model, train_acc = train_model(X_train, y_train, n_estimators=n_estimators)\n",
    "        if storage.unwrap(train_acc) > 0.8: # conditional execution\n",
    "            test_acc = eval_model(model, X_test, y_test)"
   ]
  },
  {
   "cell_type": "markdown",
   "metadata": {},
   "source": [
    "## Creating `ComputationFrame`s\n",
    "There are several ways to create a CF, all dispatched through the `storage.cf()`\n",
    "method.\n",
    "\n",
    "### From a single `Ref`\n",
    "The simplest example of a CF is to create one from a `Ref`:"
   ]
  },
  {
   "cell_type": "code",
   "execution_count": 3,
   "metadata": {
    "execution": {
     "iopub.execute_input": "2024-07-02T20:33:59.441627Z",
     "iopub.status.busy": "2024-07-02T20:33:59.441386Z",
     "iopub.status.idle": "2024-07-02T20:33:59.547879Z",
     "shell.execute_reply": "2024-07-02T20:33:59.547259Z"
    }
   },
   "outputs": [
    {
     "data": {
      "text/html": [
       "<pre style=\"white-space:pre;overflow-x:auto;line-height:normal;font-family:Menlo,'DejaVu Sans Mono',consolas,'Courier New',monospace\">ComputationFrame with:\n",
       "    <span style=\"color: #008080; text-decoration-color: #008080; font-weight: bold\">1</span> <span style=\"color: #800080; text-decoration-color: #800080; font-weight: bold\">variable</span><span style=\"font-weight: bold\">(</span>s<span style=\"font-weight: bold\">)</span> <span style=\"font-weight: bold\">(</span><span style=\"color: #008080; text-decoration-color: #008080; font-weight: bold\">1</span> unique refs<span style=\"font-weight: bold\">)</span>\n",
       "    <span style=\"color: #008080; text-decoration-color: #008080; font-weight: bold\">0</span> <span style=\"color: #800080; text-decoration-color: #800080; font-weight: bold\">operation</span><span style=\"font-weight: bold\">(</span>s<span style=\"font-weight: bold\">)</span> <span style=\"font-weight: bold\">(</span><span style=\"color: #008080; text-decoration-color: #008080; font-weight: bold\">0</span> unique calls<span style=\"font-weight: bold\">)</span>\n",
       "Computational graph:\n",
       "    v\n",
       "</pre>\n"
      ],
      "text/plain": [
       "ComputationFrame with:\n",
       "    \u001b[1;36m1\u001b[0m \u001b[1;35mvariable\u001b[0m\u001b[1m(\u001b[0ms\u001b[1m)\u001b[0m \u001b[1m(\u001b[0m\u001b[1;36m1\u001b[0m unique refs\u001b[1m)\u001b[0m\n",
       "    \u001b[1;36m0\u001b[0m \u001b[1;35moperation\u001b[0m\u001b[1m(\u001b[0ms\u001b[1m)\u001b[0m \u001b[1m(\u001b[0m\u001b[1;36m0\u001b[0m unique calls\u001b[1m)\u001b[0m\n",
       "Computational graph:\n",
       "    v\n"
      ]
     },
     "metadata": {},
     "output_type": "display_data"
    },
    {
     "data": {
      "image/svg+xml": [
       "<?xml version=\"1.0\" encoding=\"UTF-8\" standalone=\"no\"?>\n",
       "<!DOCTYPE svg PUBLIC \"-//W3C//DTD SVG 1.1//EN\"\n",
       " \"http://www.w3.org/Graphics/SVG/1.1/DTD/svg11.dtd\">\n",
       "<!-- Generated by graphviz version 2.50.0 (0)\n",
       " -->\n",
       "<!-- Title: G Pages: 1 -->\n",
       "<svg width=\"148pt\" height=\"44pt\"\n",
       " viewBox=\"0.00 0.00 148.00 44.00\" xmlns=\"http://www.w3.org/2000/svg\" xmlns:xlink=\"http://www.w3.org/1999/xlink\">\n",
       "<g id=\"graph0\" class=\"graph\" transform=\"scale(1 1) rotate(0) translate(4 40)\">\n",
       "<title>G</title>\n",
       "<polygon fill=\"white\" stroke=\"transparent\" points=\"-4,4 -4,-40 144,-40 144,4 -4,4\"/>\n",
       "<!-- v -->\n",
       "<g id=\"node1\" class=\"node\">\n",
       "<title>v</title>\n",
       "<path fill=\"none\" stroke=\"#268bd2\" d=\"M128,-36C128,-36 12,-36 12,-36 6,-36 0,-30 0,-24 0,-24 0,-12 0,-12 0,-6 6,0 12,0 12,0 128,0 128,0 134,0 140,-6 140,-12 140,-12 140,-24 140,-24 140,-30 134,-36 128,-36\"/>\n",
       "<text text-anchor=\"start\" x=\"66.5\" y=\"-20.4\" font-family=\"RobotoMono\" font-weight=\"bold\" font-size=\"12.00\" fill=\"#002b36\">v</text>\n",
       "<text text-anchor=\"start\" x=\"8\" y=\"-10\" font-family=\"RobotoMono\" font-size=\"10.00\" fill=\"#268bd2\">1 values (1 sources/1 sinks)</text>\n",
       "</g>\n",
       "</g>\n",
       "</svg>\n"
      ],
      "text/plain": [
       "<graphviz.sources.Source at 0x7429afe35210>"
      ]
     },
     "metadata": {},
     "output_type": "display_data"
    }
   ],
   "source": [
    "cf = storage.cf(test_acc)\n",
    "pprint(cf) # text description of the CF \n",
    "cf.draw(verbose=True) # pictorial representation of the CF"
   ]
  },
  {
   "cell_type": "markdown",
   "metadata": {},
   "source": [
    "As the description says, this is a CF with 1 variable (called `v`) and 0\n",
    "operations. The variable contains 1 `Ref`, i.e. 1 value. We can examine the refs\n",
    "in the variables and the calls in the operations:"
   ]
  },
  {
   "cell_type": "code",
   "execution_count": 4,
   "metadata": {
    "execution": {
     "iopub.execute_input": "2024-07-02T20:33:59.552266Z",
     "iopub.status.busy": "2024-07-02T20:33:59.551993Z",
     "iopub.status.idle": "2024-07-02T20:33:59.581570Z",
     "shell.execute_reply": "2024-07-02T20:33:59.580882Z"
    }
   },
   "outputs": [
    {
     "data": {
      "text/html": [
       "<pre style=\"white-space:pre;overflow-x:auto;line-height:normal;font-family:Menlo,'DejaVu Sans Mono',consolas,'Courier New',monospace\">Refs by variable:\n",
       "<span style=\"font-weight: bold\">{</span><span style=\"color: #008000; text-decoration-color: #008000\">'v'</span>: <span style=\"font-weight: bold\">{</span><span style=\"color: #800080; text-decoration-color: #800080; font-weight: bold\">AtomRef</span><span style=\"font-weight: bold\">(</span><span style=\"color: #008080; text-decoration-color: #008080; font-weight: bold\">0.82</span>, <span style=\"color: #808000; text-decoration-color: #808000\">hid</span>=<span style=\"color: #008000; text-decoration-color: #008000\">'11a...'</span>, <span style=\"color: #808000; text-decoration-color: #808000\">cid</span>=<span style=\"color: #008000; text-decoration-color: #008000\">'238...'</span><span style=\"font-weight: bold\">)}}</span>\n",
       "</pre>\n"
      ],
      "text/plain": [
       "Refs by variable:\n",
       "\u001b[1m{\u001b[0m\u001b[32m'v'\u001b[0m: \u001b[1m{\u001b[0m\u001b[1;35mAtomRef\u001b[0m\u001b[1m(\u001b[0m\u001b[1;36m0.82\u001b[0m, \u001b[33mhid\u001b[0m=\u001b[32m'11a...'\u001b[0m, \u001b[33mcid\u001b[0m=\u001b[32m'238...'\u001b[0m\u001b[1m)\u001b[0m\u001b[1m}\u001b[0m\u001b[1m}\u001b[0m\n"
      ]
     },
     "metadata": {},
     "output_type": "display_data"
    },
    {
     "data": {
      "text/html": [
       "<pre style=\"white-space:pre;overflow-x:auto;line-height:normal;font-family:Menlo,'DejaVu Sans Mono',consolas,'Courier New',monospace\">Calls by operation:\n",
       "<span style=\"font-weight: bold\">{}</span>\n",
       "</pre>\n"
      ],
      "text/plain": [
       "Calls by operation:\n",
       "\u001b[1m{\u001b[0m\u001b[1m}\u001b[0m\n"
      ]
     },
     "metadata": {},
     "output_type": "display_data"
    }
   ],
   "source": [
    "pprint(f'Refs by variable:\\n{cf.refs_by_var()}')\n",
    "pprint(f'Calls by operation:\\n{cf.calls_by_func()}')"
   ]
  },
  {
   "cell_type": "markdown",
   "metadata": {},
   "source": [
    "To make this more interesting, we can call `expand_back()` (explained in more\n",
    "detail later) on the CF to add the full computational history of all values in\n",
    "all variables:"
   ]
  },
  {
   "cell_type": "code",
   "execution_count": 5,
   "metadata": {
    "execution": {
     "iopub.execute_input": "2024-07-02T20:33:59.585502Z",
     "iopub.status.busy": "2024-07-02T20:33:59.585227Z",
     "iopub.status.idle": "2024-07-02T20:34:00.102812Z",
     "shell.execute_reply": "2024-07-02T20:34:00.100777Z"
    }
   },
   "outputs": [
    {
     "data": {
      "text/html": [
       "<pre style=\"white-space:pre;overflow-x:auto;line-height:normal;font-family:Menlo,'DejaVu Sans Mono',consolas,'Courier New',monospace\">ComputationFrame with:\n",
       "    <span style=\"color: #008080; text-decoration-color: #008080; font-weight: bold\">8</span> <span style=\"color: #800080; text-decoration-color: #800080; font-weight: bold\">variable</span><span style=\"font-weight: bold\">(</span>s<span style=\"font-weight: bold\">)</span> <span style=\"font-weight: bold\">(</span><span style=\"color: #008080; text-decoration-color: #008080; font-weight: bold\">8</span> unique refs<span style=\"font-weight: bold\">)</span>\n",
       "    <span style=\"color: #008080; text-decoration-color: #008080; font-weight: bold\">3</span> <span style=\"color: #800080; text-decoration-color: #800080; font-weight: bold\">operation</span><span style=\"font-weight: bold\">(</span>s<span style=\"font-weight: bold\">)</span> <span style=\"font-weight: bold\">(</span><span style=\"color: #008080; text-decoration-color: #008080; font-weight: bold\">3</span> unique calls<span style=\"font-weight: bold\">)</span>\n",
       "Computational graph:\n",
       "    X_train@output_0, X_test@output_1, y_train@output_2, y_test@output_3 = \n",
       "<span style=\"color: #800080; text-decoration-color: #800080; font-weight: bold\">generate_dataset</span><span style=\"font-weight: bold\">(</span><span style=\"color: #808000; text-decoration-color: #808000\">random_seed</span>=<span style=\"color: #800080; text-decoration-color: #800080\">random_seed</span><span style=\"font-weight: bold\">)</span>\n",
       "    model@output_0 = <span style=\"color: #800080; text-decoration-color: #800080; font-weight: bold\">train_model</span><span style=\"font-weight: bold\">(</span><span style=\"color: #808000; text-decoration-color: #808000\">X_train</span>=<span style=\"color: #800080; text-decoration-color: #800080\">X_train</span>, <span style=\"color: #808000; text-decoration-color: #808000\">n_estimators</span>=<span style=\"color: #800080; text-decoration-color: #800080\">n_estimators</span>, <span style=\"color: #808000; text-decoration-color: #808000\">y_train</span>=<span style=\"color: #800080; text-decoration-color: #800080\">y_train</span><span style=\"font-weight: bold\">)</span>\n",
       "    v@output_0 = <span style=\"color: #800080; text-decoration-color: #800080; font-weight: bold\">eval_model</span><span style=\"font-weight: bold\">(</span><span style=\"color: #808000; text-decoration-color: #808000\">y_test</span>=<span style=\"color: #800080; text-decoration-color: #800080\">y_test</span>, <span style=\"color: #808000; text-decoration-color: #808000\">X_test</span>=<span style=\"color: #800080; text-decoration-color: #800080\">X_test</span>, <span style=\"color: #808000; text-decoration-color: #808000\">model</span>=<span style=\"color: #800080; text-decoration-color: #800080\">model</span><span style=\"font-weight: bold\">)</span>\n",
       "</pre>\n"
      ],
      "text/plain": [
       "ComputationFrame with:\n",
       "    \u001b[1;36m8\u001b[0m \u001b[1;35mvariable\u001b[0m\u001b[1m(\u001b[0ms\u001b[1m)\u001b[0m \u001b[1m(\u001b[0m\u001b[1;36m8\u001b[0m unique refs\u001b[1m)\u001b[0m\n",
       "    \u001b[1;36m3\u001b[0m \u001b[1;35moperation\u001b[0m\u001b[1m(\u001b[0ms\u001b[1m)\u001b[0m \u001b[1m(\u001b[0m\u001b[1;36m3\u001b[0m unique calls\u001b[1m)\u001b[0m\n",
       "Computational graph:\n",
       "    X_train@output_0, X_test@output_1, y_train@output_2, y_test@output_3 = \n",
       "\u001b[1;35mgenerate_dataset\u001b[0m\u001b[1m(\u001b[0m\u001b[33mrandom_seed\u001b[0m=\u001b[35mrandom_seed\u001b[0m\u001b[1m)\u001b[0m\n",
       "    model@output_0 = \u001b[1;35mtrain_model\u001b[0m\u001b[1m(\u001b[0m\u001b[33mX_train\u001b[0m=\u001b[35mX_train\u001b[0m, \u001b[33mn_estimators\u001b[0m=\u001b[35mn_estimators\u001b[0m, \u001b[33my_train\u001b[0m=\u001b[35my_train\u001b[0m\u001b[1m)\u001b[0m\n",
       "    v@output_0 = \u001b[1;35meval_model\u001b[0m\u001b[1m(\u001b[0m\u001b[33my_test\u001b[0m=\u001b[35my_test\u001b[0m, \u001b[33mX_test\u001b[0m=\u001b[35mX_test\u001b[0m, \u001b[33mmodel\u001b[0m=\u001b[35mmodel\u001b[0m\u001b[1m)\u001b[0m\n"
      ]
     },
     "metadata": {},
     "output_type": "display_data"
    },
    {
     "data": {
      "image/svg+xml": [
       "<?xml version=\"1.0\" encoding=\"UTF-8\" standalone=\"no\"?>\n",
       "<!DOCTYPE svg PUBLIC \"-//W3C//DTD SVG 1.1//EN\"\n",
       " \"http://www.w3.org/Graphics/SVG/1.1/DTD/svg11.dtd\">\n",
       "<!-- Generated by graphviz version 2.50.0 (0)\n",
       " -->\n",
       "<!-- Title: G Pages: 1 -->\n",
       "<svg width=\"396pt\" height=\"648pt\"\n",
       " viewBox=\"0.00 0.00 396.00 648.00\" xmlns=\"http://www.w3.org/2000/svg\" xmlns:xlink=\"http://www.w3.org/1999/xlink\">\n",
       "<g id=\"graph0\" class=\"graph\" transform=\"scale(1 1) rotate(0) translate(4 644)\">\n",
       "<title>G</title>\n",
       "<polygon fill=\"white\" stroke=\"transparent\" points=\"-4,4 -4,-644 392,-644 392,4 -4,4\"/>\n",
       "<!-- X_train -->\n",
       "<g id=\"node1\" class=\"node\">\n",
       "<title>X_train</title>\n",
       "<path fill=\"none\" stroke=\"#268bd2\" d=\"M48,-448C48,-448 12,-448 12,-448 6,-448 0,-442 0,-436 0,-436 0,-424 0,-424 0,-418 6,-412 12,-412 12,-412 48,-412 48,-412 54,-412 60,-418 60,-424 60,-424 60,-436 60,-436 60,-442 54,-448 48,-448\"/>\n",
       "<text text-anchor=\"start\" x=\"8\" y=\"-432.4\" font-family=\"RobotoMono\" font-weight=\"bold\" font-size=\"12.00\" fill=\"#002b36\">X_train</text>\n",
       "<text text-anchor=\"start\" x=\"11\" y=\"-422\" font-family=\"RobotoMono\" font-size=\"10.00\" fill=\"#268bd2\">1 values</text>\n",
       "</g>\n",
       "<!-- train_model -->\n",
       "<g id=\"node10\" class=\"node\">\n",
       "<title>train_model</title>\n",
       "<path fill=\"none\" stroke=\"#dc322f\" d=\"M195.5,-340C195.5,-340 124.5,-340 124.5,-340 118.5,-340 112.5,-334 112.5,-328 112.5,-328 112.5,-312 112.5,-312 112.5,-306 118.5,-300 124.5,-300 124.5,-300 195.5,-300 195.5,-300 201.5,-300 207.5,-306 207.5,-312 207.5,-312 207.5,-328 207.5,-328 207.5,-334 201.5,-340 195.5,-340\"/>\n",
       "<text text-anchor=\"start\" x=\"123.5\" y=\"-327.4\" font-family=\"RobotoMono\" font-weight=\"bold\" font-size=\"12.00\" fill=\"#002b36\">train_model</text>\n",
       "<text text-anchor=\"start\" x=\"120.5\" y=\"-317\" font-family=\"RobotoMono\" font-size=\"10.00\" fill=\"#002b36\">@op:train_model</text>\n",
       "<text text-anchor=\"start\" x=\"146\" y=\"-307\" font-family=\"RobotoMono\" font-size=\"10.00\" fill=\"#dc322f\">1 calls</text>\n",
       "</g>\n",
       "<!-- X_train&#45;&gt;train_model -->\n",
       "<g id=\"edge11\" class=\"edge\">\n",
       "<title>X_train&#45;&gt;train_model</title>\n",
       "<path fill=\"none\" stroke=\"#002b36\" d=\"M34.79,-411.91C40.05,-396 49.95,-372.6 66,-358 76.44,-348.5 89.6,-341.32 102.75,-335.93\"/>\n",
       "<polygon fill=\"#002b36\" stroke=\"#002b36\" points=\"104.16,-339.14 112.28,-332.32 101.68,-332.59 104.16,-339.14\"/>\n",
       "<text text-anchor=\"middle\" x=\"88\" y=\"-379\" font-family=\"RobotoMono\" font-size=\"10.00\" fill=\"#002b36\">X_train</text>\n",
       "<text text-anchor=\"middle\" x=\"88\" y=\"-368\" font-family=\"RobotoMono\" font-size=\"10.00\" fill=\"#002b36\">(1 values)</text>\n",
       "</g>\n",
       "<!-- y_train -->\n",
       "<g id=\"node2\" class=\"node\">\n",
       "<title>y_train</title>\n",
       "<path fill=\"none\" stroke=\"#268bd2\" d=\"M125.5,-448C125.5,-448 90.5,-448 90.5,-448 84.5,-448 78.5,-442 78.5,-436 78.5,-436 78.5,-424 78.5,-424 78.5,-418 84.5,-412 90.5,-412 90.5,-412 125.5,-412 125.5,-412 131.5,-412 137.5,-418 137.5,-424 137.5,-424 137.5,-436 137.5,-436 137.5,-442 131.5,-448 125.5,-448\"/>\n",
       "<text text-anchor=\"start\" x=\"86.5\" y=\"-432.4\" font-family=\"RobotoMono\" font-weight=\"bold\" font-size=\"12.00\" fill=\"#002b36\">y_train</text>\n",
       "<text text-anchor=\"start\" x=\"89\" y=\"-422\" font-family=\"RobotoMono\" font-size=\"10.00\" fill=\"#268bd2\">1 values</text>\n",
       "</g>\n",
       "<!-- y_train&#45;&gt;train_model -->\n",
       "<g id=\"edge13\" class=\"edge\">\n",
       "<title>y_train&#45;&gt;train_model</title>\n",
       "<path fill=\"none\" stroke=\"#002b36\" d=\"M110.65,-411.85C113.45,-396.96 118.77,-375.14 128,-358 129.8,-354.66 131.94,-351.36 134.25,-348.19\"/>\n",
       "<polygon fill=\"#002b36\" stroke=\"#002b36\" points=\"137.16,-350.16 140.65,-340.16 131.69,-345.8 137.16,-350.16\"/>\n",
       "<text text-anchor=\"middle\" x=\"150\" y=\"-379\" font-family=\"RobotoMono\" font-size=\"10.00\" fill=\"#002b36\">y_train</text>\n",
       "<text text-anchor=\"middle\" x=\"150\" y=\"-368\" font-family=\"RobotoMono\" font-size=\"10.00\" fill=\"#002b36\">(1 values)</text>\n",
       "</g>\n",
       "<!-- y_test -->\n",
       "<g id=\"node3\" class=\"node\">\n",
       "<title>y_test</title>\n",
       "<path fill=\"none\" stroke=\"#268bd2\" d=\"M305,-394C305,-394 275,-394 275,-394 269,-394 263,-388 263,-382 263,-382 263,-370 263,-370 263,-364 269,-358 275,-358 275,-358 305,-358 305,-358 311,-358 317,-364 317,-370 317,-370 317,-382 317,-382 317,-388 311,-394 305,-394\"/>\n",
       "<text text-anchor=\"start\" x=\"272\" y=\"-378.4\" font-family=\"RobotoMono\" font-weight=\"bold\" font-size=\"12.00\" fill=\"#002b36\">y_test</text>\n",
       "<text text-anchor=\"start\" x=\"271\" y=\"-368\" font-family=\"RobotoMono\" font-size=\"10.00\" fill=\"#268bd2\">1 values</text>\n",
       "</g>\n",
       "<!-- eval_model -->\n",
       "<g id=\"node11\" class=\"node\">\n",
       "<title>eval_model</title>\n",
       "<path fill=\"none\" stroke=\"#dc322f\" d=\"M307,-134C307,-134 239,-134 239,-134 233,-134 227,-128 227,-122 227,-122 227,-106 227,-106 227,-100 233,-94 239,-94 239,-94 307,-94 307,-94 313,-94 319,-100 319,-106 319,-106 319,-122 319,-122 319,-128 313,-134 307,-134\"/>\n",
       "<text text-anchor=\"start\" x=\"239\" y=\"-121.4\" font-family=\"RobotoMono\" font-weight=\"bold\" font-size=\"12.00\" fill=\"#002b36\">eval_model</text>\n",
       "<text text-anchor=\"start\" x=\"235\" y=\"-111\" font-family=\"RobotoMono\" font-size=\"10.00\" fill=\"#002b36\">@op:eval_model</text>\n",
       "<text text-anchor=\"start\" x=\"259\" y=\"-101\" font-family=\"RobotoMono\" font-size=\"10.00\" fill=\"#dc322f\">1 calls</text>\n",
       "</g>\n",
       "<!-- y_test&#45;&gt;eval_model -->\n",
       "<g id=\"edge2\" class=\"edge\">\n",
       "<title>y_test&#45;&gt;eval_model</title>\n",
       "<path fill=\"none\" stroke=\"#002b36\" d=\"M284.88,-357.71C279.69,-339.19 271.99,-308.81 269,-282 263.64,-233.89 266.97,-177.51 269.94,-144.11\"/>\n",
       "<polygon fill=\"#002b36\" stroke=\"#002b36\" points=\"273.42,-144.39 270.88,-134.11 266.46,-143.74 273.42,-144.39\"/>\n",
       "<text text-anchor=\"middle\" x=\"291\" y=\"-267\" font-family=\"RobotoMono\" font-size=\"10.00\" fill=\"#002b36\">y_test</text>\n",
       "<text text-anchor=\"middle\" x=\"291\" y=\"-256\" font-family=\"RobotoMono\" font-size=\"10.00\" fill=\"#002b36\">(1 values)</text>\n",
       "</g>\n",
       "<!-- random_seed -->\n",
       "<g id=\"node4\" class=\"node\">\n",
       "<title>random_seed</title>\n",
       "<path fill=\"none\" stroke=\"#268bd2\" d=\"M285,-640C285,-640 203,-640 203,-640 197,-640 191,-634 191,-628 191,-628 191,-616 191,-616 191,-610 197,-604 203,-604 203,-604 285,-604 285,-604 291,-604 297,-610 297,-616 297,-616 297,-628 297,-628 297,-634 291,-640 285,-640\"/>\n",
       "<text text-anchor=\"start\" x=\"203.5\" y=\"-624.4\" font-family=\"RobotoMono\" font-weight=\"bold\" font-size=\"12.00\" fill=\"#002b36\">random_seed</text>\n",
       "<text text-anchor=\"start\" x=\"199\" y=\"-614\" font-family=\"RobotoMono\" font-size=\"10.00\" fill=\"#268bd2\">1 values (1 sources)</text>\n",
       "</g>\n",
       "<!-- generate_dataset -->\n",
       "<g id=\"node9\" class=\"node\">\n",
       "<title>generate_dataset</title>\n",
       "<path fill=\"none\" stroke=\"#dc322f\" d=\"M293,-546C293,-546 195,-546 195,-546 189,-546 183,-540 183,-534 183,-534 183,-518 183,-518 183,-512 189,-506 195,-506 195,-506 293,-506 293,-506 299,-506 305,-512 305,-518 305,-518 305,-534 305,-534 305,-540 299,-546 293,-546\"/>\n",
       "<text text-anchor=\"start\" x=\"191\" y=\"-533.4\" font-family=\"RobotoMono\" font-weight=\"bold\" font-size=\"12.00\" fill=\"#002b36\">generate_dataset</text>\n",
       "<text text-anchor=\"start\" x=\"191\" y=\"-523\" font-family=\"RobotoMono\" font-size=\"10.00\" fill=\"#002b36\">@op:generate_dataset</text>\n",
       "<text text-anchor=\"start\" x=\"230\" y=\"-513\" font-family=\"RobotoMono\" font-size=\"10.00\" fill=\"#dc322f\">1 calls</text>\n",
       "</g>\n",
       "<!-- random_seed&#45;&gt;generate_dataset -->\n",
       "<g id=\"edge9\" class=\"edge\">\n",
       "<title>random_seed&#45;&gt;generate_dataset</title>\n",
       "<path fill=\"none\" stroke=\"#002b36\" d=\"M244,-603.76C244,-590.5 244,-571.86 244,-556.27\"/>\n",
       "<polygon fill=\"#002b36\" stroke=\"#002b36\" points=\"247.5,-556.07 244,-546.07 240.5,-556.07 247.5,-556.07\"/>\n",
       "<text text-anchor=\"middle\" x=\"276\" y=\"-578\" font-family=\"RobotoMono\" font-size=\"10.00\" fill=\"#002b36\">random_seed</text>\n",
       "<text text-anchor=\"middle\" x=\"276\" y=\"-567\" font-family=\"RobotoMono\" font-size=\"10.00\" fill=\"#002b36\">(1 values)</text>\n",
       "</g>\n",
       "<!-- v -->\n",
       "<g id=\"node5\" class=\"node\">\n",
       "<title>v</title>\n",
       "<path fill=\"none\" stroke=\"#268bd2\" d=\"M307.5,-36C307.5,-36 238.5,-36 238.5,-36 232.5,-36 226.5,-30 226.5,-24 226.5,-24 226.5,-12 226.5,-12 226.5,-6 232.5,0 238.5,0 238.5,0 307.5,0 307.5,0 313.5,0 319.5,-6 319.5,-12 319.5,-12 319.5,-24 319.5,-24 319.5,-30 313.5,-36 307.5,-36\"/>\n",
       "<text text-anchor=\"start\" x=\"269.5\" y=\"-20.4\" font-family=\"RobotoMono\" font-weight=\"bold\" font-size=\"12.00\" fill=\"#002b36\">v</text>\n",
       "<text text-anchor=\"start\" x=\"234.5\" y=\"-10\" font-family=\"RobotoMono\" font-size=\"10.00\" fill=\"#268bd2\">1 values (1 sinks)</text>\n",
       "</g>\n",
       "<!-- model -->\n",
       "<g id=\"node6\" class=\"node\">\n",
       "<title>model</title>\n",
       "<path fill=\"none\" stroke=\"#268bd2\" d=\"M223,-228C223,-228 193,-228 193,-228 187,-228 181,-222 181,-216 181,-216 181,-204 181,-204 181,-198 187,-192 193,-192 193,-192 223,-192 223,-192 229,-192 235,-198 235,-204 235,-204 235,-216 235,-216 235,-222 229,-228 223,-228\"/>\n",
       "<text text-anchor=\"start\" x=\"189\" y=\"-212.4\" font-family=\"RobotoMono\" font-weight=\"bold\" font-size=\"12.00\" fill=\"#002b36\">model</text>\n",
       "<text text-anchor=\"start\" x=\"189\" y=\"-202\" font-family=\"RobotoMono\" font-size=\"10.00\" fill=\"#268bd2\">1 values</text>\n",
       "</g>\n",
       "<!-- model&#45;&gt;eval_model -->\n",
       "<g id=\"edge4\" class=\"edge\">\n",
       "<title>model&#45;&gt;eval_model</title>\n",
       "<path fill=\"none\" stroke=\"#002b36\" d=\"M206.42,-191.77C206.16,-179.75 207.56,-163.81 215,-152 217.65,-147.8 220.96,-143.99 224.66,-140.55\"/>\n",
       "<polygon fill=\"#002b36\" stroke=\"#002b36\" points=\"227.15,-143.04 232.7,-134.01 222.73,-137.61 227.15,-143.04\"/>\n",
       "<text text-anchor=\"middle\" x=\"237\" y=\"-166\" font-family=\"RobotoMono\" font-size=\"10.00\" fill=\"#002b36\">model</text>\n",
       "<text text-anchor=\"middle\" x=\"237\" y=\"-155\" font-family=\"RobotoMono\" font-size=\"10.00\" fill=\"#002b36\">(1 values)</text>\n",
       "</g>\n",
       "<!-- n_estimators -->\n",
       "<g id=\"node7\" class=\"node\">\n",
       "<title>n_estimators</title>\n",
       "<path fill=\"none\" stroke=\"#268bd2\" d=\"M250,-448C250,-448 168,-448 168,-448 162,-448 156,-442 156,-436 156,-436 156,-424 156,-424 156,-418 162,-412 168,-412 168,-412 250,-412 250,-412 256,-412 262,-418 262,-424 262,-424 262,-436 262,-436 262,-442 256,-448 250,-448\"/>\n",
       "<text text-anchor=\"start\" x=\"169.5\" y=\"-432.4\" font-family=\"RobotoMono\" font-weight=\"bold\" font-size=\"12.00\" fill=\"#002b36\">n_estimators</text>\n",
       "<text text-anchor=\"start\" x=\"164\" y=\"-422\" font-family=\"RobotoMono\" font-size=\"10.00\" fill=\"#268bd2\">1 values (1 sources)</text>\n",
       "</g>\n",
       "<!-- n_estimators&#45;&gt;train_model -->\n",
       "<g id=\"edge12\" class=\"edge\">\n",
       "<title>n_estimators&#45;&gt;train_model</title>\n",
       "<path fill=\"none\" stroke=\"#002b36\" d=\"M201.17,-411.92C198.57,-406.22 195.65,-399.84 193,-394 186.33,-379.33 178.94,-362.98 172.84,-349.48\"/>\n",
       "<polygon fill=\"#002b36\" stroke=\"#002b36\" points=\"175.97,-347.9 168.66,-340.22 169.59,-350.78 175.97,-347.9\"/>\n",
       "<text text-anchor=\"middle\" x=\"223.5\" y=\"-379\" font-family=\"RobotoMono\" font-size=\"10.00\" fill=\"#002b36\">n_estimators</text>\n",
       "<text text-anchor=\"middle\" x=\"223.5\" y=\"-368\" font-family=\"RobotoMono\" font-size=\"10.00\" fill=\"#002b36\">(1 values)</text>\n",
       "</g>\n",
       "<!-- X_test -->\n",
       "<g id=\"node8\" class=\"node\">\n",
       "<title>X_test</title>\n",
       "<path fill=\"none\" stroke=\"#268bd2\" d=\"M364,-282C364,-282 334,-282 334,-282 328,-282 322,-276 322,-270 322,-270 322,-258 322,-258 322,-252 328,-246 334,-246 334,-246 364,-246 364,-246 370,-246 376,-252 376,-258 376,-258 376,-270 376,-270 376,-276 370,-282 364,-282\"/>\n",
       "<text text-anchor=\"start\" x=\"330.5\" y=\"-266.4\" font-family=\"RobotoMono\" font-weight=\"bold\" font-size=\"12.00\" fill=\"#002b36\">X_test</text>\n",
       "<text text-anchor=\"start\" x=\"330\" y=\"-256\" font-family=\"RobotoMono\" font-size=\"10.00\" fill=\"#268bd2\">1 values</text>\n",
       "</g>\n",
       "<!-- X_test&#45;&gt;eval_model -->\n",
       "<g id=\"edge3\" class=\"edge\">\n",
       "<title>X_test&#45;&gt;eval_model</title>\n",
       "<path fill=\"none\" stroke=\"#002b36\" d=\"M340.13,-245.73C327.2,-220.55 303.02,-173.46 287.48,-143.2\"/>\n",
       "<polygon fill=\"#002b36\" stroke=\"#002b36\" points=\"290.45,-141.32 282.77,-134.02 284.22,-144.52 290.45,-141.32\"/>\n",
       "<text text-anchor=\"middle\" x=\"351\" y=\"-213\" font-family=\"RobotoMono\" font-size=\"10.00\" fill=\"#002b36\">X_test</text>\n",
       "<text text-anchor=\"middle\" x=\"351\" y=\"-202\" font-family=\"RobotoMono\" font-size=\"10.00\" fill=\"#002b36\">(1 values)</text>\n",
       "</g>\n",
       "<!-- generate_dataset&#45;&gt;X_train -->\n",
       "<g id=\"edge7\" class=\"edge\">\n",
       "<title>generate_dataset&#45;&gt;X_train</title>\n",
       "<path fill=\"none\" stroke=\"#002b36\" d=\"M182.84,-512.64C159.7,-506.77 133.53,-498.67 111,-488 92.29,-479.14 73.27,-466.01 58.36,-454.58\"/>\n",
       "<polygon fill=\"#002b36\" stroke=\"#002b36\" points=\"60.12,-451.52 50.1,-448.1 55.8,-457.02 60.12,-451.52\"/>\n",
       "<text text-anchor=\"middle\" x=\"133\" y=\"-480\" font-family=\"RobotoMono\" font-size=\"10.00\" fill=\"#002b36\">output_0</text>\n",
       "<text text-anchor=\"middle\" x=\"133\" y=\"-469\" font-family=\"RobotoMono\" font-size=\"10.00\" fill=\"#002b36\">(1 values)</text>\n",
       "</g>\n",
       "<!-- generate_dataset&#45;&gt;y_train -->\n",
       "<g id=\"edge8\" class=\"edge\">\n",
       "<title>generate_dataset&#45;&gt;y_train</title>\n",
       "<path fill=\"none\" stroke=\"#002b36\" d=\"M216.48,-505.98C194.73,-490.95 164.3,-469.91 141.2,-453.95\"/>\n",
       "<polygon fill=\"#002b36\" stroke=\"#002b36\" points=\"142.95,-450.9 132.74,-448.1 138.97,-456.66 142.95,-450.9\"/>\n",
       "<text text-anchor=\"middle\" x=\"210\" y=\"-480\" font-family=\"RobotoMono\" font-size=\"10.00\" fill=\"#002b36\">output_2</text>\n",
       "<text text-anchor=\"middle\" x=\"210\" y=\"-469\" font-family=\"RobotoMono\" font-size=\"10.00\" fill=\"#002b36\">(1 values)</text>\n",
       "</g>\n",
       "<!-- generate_dataset&#45;&gt;y_test -->\n",
       "<g id=\"edge6\" class=\"edge\">\n",
       "<title>generate_dataset&#45;&gt;y_test</title>\n",
       "<path fill=\"none\" stroke=\"#002b36\" d=\"M251.18,-505.83C256.87,-490.33 264.86,-467.9 271,-448 275.45,-433.57 279.85,-417.31 283.29,-403.99\"/>\n",
       "<polygon fill=\"#002b36\" stroke=\"#002b36\" points=\"286.75,-404.59 285.83,-394.03 279.97,-402.86 286.75,-404.59\"/>\n",
       "<text text-anchor=\"middle\" x=\"287\" y=\"-480\" font-family=\"RobotoMono\" font-size=\"10.00\" fill=\"#002b36\">output_3</text>\n",
       "<text text-anchor=\"middle\" x=\"287\" y=\"-469\" font-family=\"RobotoMono\" font-size=\"10.00\" fill=\"#002b36\">(1 values)</text>\n",
       "</g>\n",
       "<!-- generate_dataset&#45;&gt;X_test -->\n",
       "<g id=\"edge5\" class=\"edge\">\n",
       "<title>generate_dataset&#45;&gt;X_test</title>\n",
       "<path fill=\"none\" stroke=\"#002b36\" d=\"M293.35,-505.96C300.9,-501.12 307.87,-495.19 313,-488 355.38,-428.56 355.16,-337.65 351.89,-292.47\"/>\n",
       "<polygon fill=\"#002b36\" stroke=\"#002b36\" points=\"355.35,-291.94 351.04,-282.27 348.38,-292.52 355.35,-291.94\"/>\n",
       "<text text-anchor=\"middle\" x=\"366\" y=\"-433\" font-family=\"RobotoMono\" font-size=\"10.00\" fill=\"#002b36\">output_1</text>\n",
       "<text text-anchor=\"middle\" x=\"366\" y=\"-422\" font-family=\"RobotoMono\" font-size=\"10.00\" fill=\"#002b36\">(1 values)</text>\n",
       "</g>\n",
       "<!-- train_model&#45;&gt;model -->\n",
       "<g id=\"edge10\" class=\"edge\">\n",
       "<title>train_model&#45;&gt;model</title>\n",
       "<path fill=\"none\" stroke=\"#002b36\" d=\"M168.47,-299.94C176.21,-282.53 187.72,-256.64 196.32,-237.27\"/>\n",
       "<polygon fill=\"#002b36\" stroke=\"#002b36\" points=\"199.54,-238.65 200.4,-228.09 193.14,-235.81 199.54,-238.65\"/>\n",
       "<text text-anchor=\"middle\" x=\"213\" y=\"-267\" font-family=\"RobotoMono\" font-size=\"10.00\" fill=\"#002b36\">output_0</text>\n",
       "<text text-anchor=\"middle\" x=\"213\" y=\"-256\" font-family=\"RobotoMono\" font-size=\"10.00\" fill=\"#002b36\">(1 values)</text>\n",
       "</g>\n",
       "<!-- eval_model&#45;&gt;v -->\n",
       "<g id=\"edge1\" class=\"edge\">\n",
       "<title>eval_model&#45;&gt;v</title>\n",
       "<path fill=\"none\" stroke=\"#002b36\" d=\"M273,-93.98C273,-80.34 273,-61.75 273,-46.5\"/>\n",
       "<polygon fill=\"#002b36\" stroke=\"#002b36\" points=\"276.5,-46.1 273,-36.1 269.5,-46.1 276.5,-46.1\"/>\n",
       "<text text-anchor=\"middle\" x=\"295\" y=\"-68\" font-family=\"RobotoMono\" font-size=\"10.00\" fill=\"#002b36\">output_0</text>\n",
       "<text text-anchor=\"middle\" x=\"295\" y=\"-57\" font-family=\"RobotoMono\" font-size=\"10.00\" fill=\"#002b36\">(1 values)</text>\n",
       "</g>\n",
       "</g>\n",
       "</svg>\n"
      ],
      "text/plain": [
       "<graphviz.sources.Source at 0x7429afe35ea0>"
      ]
     },
     "metadata": {},
     "output_type": "display_data"
    }
   ],
   "source": [
    "cf.expand_back(inplace=True, recursive=True)\n",
    "pprint(cf)\n",
    "cf.draw(verbose=True)"
   ]
  },
  {
   "cell_type": "markdown",
   "metadata": {},
   "source": [
    "The variables added to the CF during expansion are given informative names based\n",
    "on input names of functions called on these variables. The result of expansion\n",
    "tells us the precise way `test_acc` was computed. We can get the values of each\n",
    "variable and the calls of each function:"
   ]
  },
  {
   "cell_type": "code",
   "execution_count": 6,
   "metadata": {
    "execution": {
     "iopub.execute_input": "2024-07-02T20:34:00.117034Z",
     "iopub.status.busy": "2024-07-02T20:34:00.116433Z",
     "iopub.status.idle": "2024-07-02T20:34:00.220426Z",
     "shell.execute_reply": "2024-07-02T20:34:00.219140Z"
    }
   },
   "outputs": [
    {
     "data": {
      "text/html": [
       "<pre style=\"white-space:pre;overflow-x:auto;line-height:normal;font-family:Menlo,'DejaVu Sans Mono',consolas,'Courier New',monospace\"><span style=\"font-weight: bold\">{</span>\n",
       "    <span style=\"color: #008000; text-decoration-color: #008000\">'v'</span>: <span style=\"font-weight: bold\">{</span><span style=\"color: #008080; text-decoration-color: #008080; font-weight: bold\">0.82</span><span style=\"font-weight: bold\">}</span>,\n",
       "    <span style=\"color: #008000; text-decoration-color: #008000\">'model'</span>: <span style=\"font-weight: bold\">{</span><span style=\"color: #800080; text-decoration-color: #800080; font-weight: bold\">RandomForestClassifier</span><span style=\"font-weight: bold\">(</span><span style=\"color: #808000; text-decoration-color: #808000\">max_depth</span>=<span style=\"color: #008080; text-decoration-color: #008080; font-weight: bold\">2</span>, <span style=\"color: #808000; text-decoration-color: #808000\">n_estimators</span>=<span style=\"color: #008080; text-decoration-color: #008080; font-weight: bold\">80</span><span style=\"font-weight: bold\">)}</span>,\n",
       "    <span style=\"color: #008000; text-decoration-color: #008000\">'random_seed'</span>: <span style=\"font-weight: bold\">{</span><span style=\"color: #008080; text-decoration-color: #008080; font-weight: bold\">42</span><span style=\"font-weight: bold\">}</span>,\n",
       "    <span style=\"color: #008000; text-decoration-color: #008000\">'n_estimators'</span>: <span style=\"font-weight: bold\">{</span><span style=\"color: #008080; text-decoration-color: #008080; font-weight: bold\">80</span><span style=\"font-weight: bold\">}</span>\n",
       "<span style=\"font-weight: bold\">}</span>\n",
       "</pre>\n"
      ],
      "text/plain": [
       "\u001b[1m{\u001b[0m\n",
       "    \u001b[32m'v'\u001b[0m: \u001b[1m{\u001b[0m\u001b[1;36m0.82\u001b[0m\u001b[1m}\u001b[0m,\n",
       "    \u001b[32m'model'\u001b[0m: \u001b[1m{\u001b[0m\u001b[1;35mRandomForestClassifier\u001b[0m\u001b[1m(\u001b[0m\u001b[33mmax_depth\u001b[0m=\u001b[1;36m2\u001b[0m, \u001b[33mn_estimators\u001b[0m=\u001b[1;36m80\u001b[0m\u001b[1m)\u001b[0m\u001b[1m}\u001b[0m,\n",
       "    \u001b[32m'random_seed'\u001b[0m: \u001b[1m{\u001b[0m\u001b[1;36m42\u001b[0m\u001b[1m}\u001b[0m,\n",
       "    \u001b[32m'n_estimators'\u001b[0m: \u001b[1m{\u001b[0m\u001b[1;36m80\u001b[0m\u001b[1m}\u001b[0m\n",
       "\u001b[1m}\u001b[0m\n"
      ]
     },
     "metadata": {},
     "output_type": "display_data"
    },
    {
     "data": {
      "text/html": [
       "<pre style=\"white-space:pre;overflow-x:auto;line-height:normal;font-family:Menlo,'DejaVu Sans Mono',consolas,'Courier New',monospace\"><span style=\"font-weight: bold\">{</span>\n",
       "    <span style=\"color: #008000; text-decoration-color: #008000\">'eval_model'</span>: <span style=\"font-weight: bold\">{</span><span style=\"color: #800080; text-decoration-color: #800080; font-weight: bold\">Call</span><span style=\"font-weight: bold\">(</span>eval_model, <span style=\"color: #808000; text-decoration-color: #808000\">cid</span>=<span style=\"color: #008000; text-decoration-color: #008000\">'137...'</span>, <span style=\"color: #808000; text-decoration-color: #808000\">hid</span>=<span style=\"color: #008000; text-decoration-color: #008000\">'d32...'</span><span style=\"font-weight: bold\">)}</span>,\n",
       "    <span style=\"color: #008000; text-decoration-color: #008000\">'generate_dataset'</span>: <span style=\"font-weight: bold\">{</span><span style=\"color: #800080; text-decoration-color: #800080; font-weight: bold\">Call</span><span style=\"font-weight: bold\">(</span>generate_dataset, <span style=\"color: #808000; text-decoration-color: #808000\">cid</span>=<span style=\"color: #008000; text-decoration-color: #008000\">'19a...'</span>, <span style=\"color: #808000; text-decoration-color: #808000\">hid</span>=<span style=\"color: #008000; text-decoration-color: #008000\">'c3f...'</span><span style=\"font-weight: bold\">)}</span>,\n",
       "    <span style=\"color: #008000; text-decoration-color: #008000\">'train_model'</span>: <span style=\"font-weight: bold\">{</span><span style=\"color: #800080; text-decoration-color: #800080; font-weight: bold\">Call</span><span style=\"font-weight: bold\">(</span>train_model, <span style=\"color: #808000; text-decoration-color: #808000\">cid</span>=<span style=\"color: #008000; text-decoration-color: #008000\">'3be...'</span>, <span style=\"color: #808000; text-decoration-color: #808000\">hid</span>=<span style=\"color: #008000; text-decoration-color: #008000\">'e60...'</span><span style=\"font-weight: bold\">)}</span>\n",
       "<span style=\"font-weight: bold\">}</span>\n",
       "</pre>\n"
      ],
      "text/plain": [
       "\u001b[1m{\u001b[0m\n",
       "    \u001b[32m'eval_model'\u001b[0m: \u001b[1m{\u001b[0m\u001b[1;35mCall\u001b[0m\u001b[1m(\u001b[0meval_model, \u001b[33mcid\u001b[0m=\u001b[32m'137...'\u001b[0m, \u001b[33mhid\u001b[0m=\u001b[32m'd32...'\u001b[0m\u001b[1m)\u001b[0m\u001b[1m}\u001b[0m,\n",
       "    \u001b[32m'generate_dataset'\u001b[0m: \u001b[1m{\u001b[0m\u001b[1;35mCall\u001b[0m\u001b[1m(\u001b[0mgenerate_dataset, \u001b[33mcid\u001b[0m=\u001b[32m'19a...'\u001b[0m, \u001b[33mhid\u001b[0m=\u001b[32m'c3f...'\u001b[0m\u001b[1m)\u001b[0m\u001b[1m}\u001b[0m,\n",
       "    \u001b[32m'train_model'\u001b[0m: \u001b[1m{\u001b[0m\u001b[1;35mCall\u001b[0m\u001b[1m(\u001b[0mtrain_model, \u001b[33mcid\u001b[0m=\u001b[32m'3be...'\u001b[0m, \u001b[33mhid\u001b[0m=\u001b[32m'e60...'\u001b[0m\u001b[1m)\u001b[0m\u001b[1m}\u001b[0m\n",
       "\u001b[1m}\u001b[0m\n"
      ]
     },
     "metadata": {},
     "output_type": "display_data"
    }
   ],
   "source": [
    "pprint({vname: storage.unwrap(refs) \n",
    " for vname, refs in cf.refs_by_var().items()\n",
    " if vname not in ['X_train', 'X_test', 'y_train', 'y_test'] # to save space\n",
    " })\n",
    "\n",
    "pprint(cf.calls_by_func())"
   ]
  },
  {
   "cell_type": "markdown",
   "metadata": {},
   "source": [
    "### From all calls to an `@op`\n",
    "Another way to create a CF is to initialize is with all calls to a given `@op`:"
   ]
  },
  {
   "cell_type": "code",
   "execution_count": 7,
   "metadata": {
    "execution": {
     "iopub.execute_input": "2024-07-02T20:34:00.230086Z",
     "iopub.status.busy": "2024-07-02T20:34:00.228830Z",
     "iopub.status.idle": "2024-07-02T20:34:00.414690Z",
     "shell.execute_reply": "2024-07-02T20:34:00.413663Z"
    }
   },
   "outputs": [
    {
     "data": {
      "text/html": [
       "<pre style=\"white-space:pre;overflow-x:auto;line-height:normal;font-family:Menlo,'DejaVu Sans Mono',consolas,'Courier New',monospace\">ComputationFrame with:\n",
       "    <span style=\"color: #008080; text-decoration-color: #008080; font-weight: bold\">5</span> <span style=\"color: #800080; text-decoration-color: #800080; font-weight: bold\">variable</span><span style=\"font-weight: bold\">(</span>s<span style=\"font-weight: bold\">)</span> <span style=\"font-weight: bold\">(</span><span style=\"color: #008080; text-decoration-color: #008080; font-weight: bold\">14</span> unique refs<span style=\"font-weight: bold\">)</span>\n",
       "    <span style=\"color: #008080; text-decoration-color: #008080; font-weight: bold\">1</span> <span style=\"color: #800080; text-decoration-color: #800080; font-weight: bold\">operation</span><span style=\"font-weight: bold\">(</span>s<span style=\"font-weight: bold\">)</span> <span style=\"font-weight: bold\">(</span><span style=\"color: #008080; text-decoration-color: #008080; font-weight: bold\">4</span> unique calls<span style=\"font-weight: bold\">)</span>\n",
       "Computational graph:\n",
       "    output_0@output_0, output_1@output_1 = <span style=\"color: #800080; text-decoration-color: #800080; font-weight: bold\">train_model</span><span style=\"font-weight: bold\">(</span><span style=\"color: #808000; text-decoration-color: #808000\">X_train</span>=<span style=\"color: #800080; text-decoration-color: #800080\">X_train</span>, <span style=\"color: #808000; text-decoration-color: #808000\">n_estimators</span>=<span style=\"color: #800080; text-decoration-color: #800080\">n_estimators</span>, <span style=\"color: #808000; text-decoration-color: #808000\">y_train</span>=<span style=\"color: #800080; text-decoration-color: #800080\">y_train</span><span style=\"font-weight: bold\">)</span>\n",
       "</pre>\n"
      ],
      "text/plain": [
       "ComputationFrame with:\n",
       "    \u001b[1;36m5\u001b[0m \u001b[1;35mvariable\u001b[0m\u001b[1m(\u001b[0ms\u001b[1m)\u001b[0m \u001b[1m(\u001b[0m\u001b[1;36m14\u001b[0m unique refs\u001b[1m)\u001b[0m\n",
       "    \u001b[1;36m1\u001b[0m \u001b[1;35moperation\u001b[0m\u001b[1m(\u001b[0ms\u001b[1m)\u001b[0m \u001b[1m(\u001b[0m\u001b[1;36m4\u001b[0m unique calls\u001b[1m)\u001b[0m\n",
       "Computational graph:\n",
       "    output_0@output_0, output_1@output_1 = \u001b[1;35mtrain_model\u001b[0m\u001b[1m(\u001b[0m\u001b[33mX_train\u001b[0m=\u001b[35mX_train\u001b[0m, \u001b[33mn_estimators\u001b[0m=\u001b[35mn_estimators\u001b[0m, \u001b[33my_train\u001b[0m=\u001b[35my_train\u001b[0m\u001b[1m)\u001b[0m\n"
      ]
     },
     "metadata": {},
     "output_type": "display_data"
    },
    {
     "data": {
      "image/svg+xml": [
       "<?xml version=\"1.0\" encoding=\"UTF-8\" standalone=\"no\"?>\n",
       "<!DOCTYPE svg PUBLIC \"-//W3C//DTD SVG 1.1//EN\"\n",
       " \"http://www.w3.org/Graphics/SVG/1.1/DTD/svg11.dtd\">\n",
       "<!-- Generated by graphviz version 2.50.0 (0)\n",
       " -->\n",
       "<!-- Title: G Pages: 1 -->\n",
       "<svg width=\"362pt\" height=\"236pt\"\n",
       " viewBox=\"0.00 0.00 362.00 236.00\" xmlns=\"http://www.w3.org/2000/svg\" xmlns:xlink=\"http://www.w3.org/1999/xlink\">\n",
       "<g id=\"graph0\" class=\"graph\" transform=\"scale(1 1) rotate(0) translate(4 232)\">\n",
       "<title>G</title>\n",
       "<polygon fill=\"white\" stroke=\"transparent\" points=\"-4,4 -4,-232 358,-232 358,4 -4,4\"/>\n",
       "<!-- X_train -->\n",
       "<g id=\"node1\" class=\"node\">\n",
       "<title>X_train</title>\n",
       "<path fill=\"none\" stroke=\"#268bd2\" d=\"M94,-228C94,-228 12,-228 12,-228 6,-228 0,-222 0,-216 0,-216 0,-204 0,-204 0,-198 6,-192 12,-192 12,-192 94,-192 94,-192 100,-192 106,-198 106,-204 106,-204 106,-216 106,-216 106,-222 100,-228 94,-228\"/>\n",
       "<text text-anchor=\"start\" x=\"31\" y=\"-212.4\" font-family=\"RobotoMono\" font-weight=\"bold\" font-size=\"12.00\" fill=\"#002b36\">X_train</text>\n",
       "<text text-anchor=\"start\" x=\"8\" y=\"-202\" font-family=\"RobotoMono\" font-size=\"10.00\" fill=\"#268bd2\">1 values (1 sources)</text>\n",
       "</g>\n",
       "<!-- train_model -->\n",
       "<g id=\"node6\" class=\"node\">\n",
       "<title>train_model</title>\n",
       "<path fill=\"none\" stroke=\"#dc322f\" d=\"M212.5,-134C212.5,-134 141.5,-134 141.5,-134 135.5,-134 129.5,-128 129.5,-122 129.5,-122 129.5,-106 129.5,-106 129.5,-100 135.5,-94 141.5,-94 141.5,-94 212.5,-94 212.5,-94 218.5,-94 224.5,-100 224.5,-106 224.5,-106 224.5,-122 224.5,-122 224.5,-128 218.5,-134 212.5,-134\"/>\n",
       "<text text-anchor=\"start\" x=\"140.5\" y=\"-121.4\" font-family=\"RobotoMono\" font-weight=\"bold\" font-size=\"12.00\" fill=\"#002b36\">train_model</text>\n",
       "<text text-anchor=\"start\" x=\"137.5\" y=\"-111\" font-family=\"RobotoMono\" font-size=\"10.00\" fill=\"#002b36\">@op:train_model</text>\n",
       "<text text-anchor=\"start\" x=\"163\" y=\"-101\" font-family=\"RobotoMono\" font-size=\"10.00\" fill=\"#dc322f\">4 calls</text>\n",
       "</g>\n",
       "<!-- X_train&#45;&gt;train_model -->\n",
       "<g id=\"edge3\" class=\"edge\">\n",
       "<title>X_train&#45;&gt;train_model</title>\n",
       "<path fill=\"none\" stroke=\"#002b36\" d=\"M75.46,-191.98C94.43,-177.59 121.89,-156.78 143.47,-140.42\"/>\n",
       "<polygon fill=\"#002b36\" stroke=\"#002b36\" points=\"145.87,-142.99 151.72,-134.16 141.64,-137.41 145.87,-142.99\"/>\n",
       "<text text-anchor=\"middle\" x=\"149\" y=\"-166\" font-family=\"RobotoMono\" font-size=\"10.00\" fill=\"#002b36\">X_train</text>\n",
       "<text text-anchor=\"middle\" x=\"149\" y=\"-155\" font-family=\"RobotoMono\" font-size=\"10.00\" fill=\"#002b36\">(1 values)</text>\n",
       "</g>\n",
       "<!-- y_train -->\n",
       "<g id=\"node2\" class=\"node\">\n",
       "<title>y_train</title>\n",
       "<path fill=\"none\" stroke=\"#268bd2\" d=\"M218,-228C218,-228 136,-228 136,-228 130,-228 124,-222 124,-216 124,-216 124,-204 124,-204 124,-198 130,-192 136,-192 136,-192 218,-192 218,-192 224,-192 230,-198 230,-204 230,-204 230,-216 230,-216 230,-222 224,-228 218,-228\"/>\n",
       "<text text-anchor=\"start\" x=\"155.5\" y=\"-212.4\" font-family=\"RobotoMono\" font-weight=\"bold\" font-size=\"12.00\" fill=\"#002b36\">y_train</text>\n",
       "<text text-anchor=\"start\" x=\"132\" y=\"-202\" font-family=\"RobotoMono\" font-size=\"10.00\" fill=\"#268bd2\">1 values (1 sources)</text>\n",
       "</g>\n",
       "<!-- y_train&#45;&gt;train_model -->\n",
       "<g id=\"edge5\" class=\"edge\">\n",
       "<title>y_train&#45;&gt;train_model</title>\n",
       "<path fill=\"none\" stroke=\"#002b36\" d=\"M177,-191.76C177,-178.5 177,-159.86 177,-144.27\"/>\n",
       "<polygon fill=\"#002b36\" stroke=\"#002b36\" points=\"180.5,-144.07 177,-134.07 173.5,-144.07 180.5,-144.07\"/>\n",
       "<text text-anchor=\"middle\" x=\"199\" y=\"-166\" font-family=\"RobotoMono\" font-size=\"10.00\" fill=\"#002b36\">y_train</text>\n",
       "<text text-anchor=\"middle\" x=\"199\" y=\"-155\" font-family=\"RobotoMono\" font-size=\"10.00\" fill=\"#002b36\">(1 values)</text>\n",
       "</g>\n",
       "<!-- output_0 -->\n",
       "<g id=\"node3\" class=\"node\">\n",
       "<title>output_0</title>\n",
       "<path fill=\"none\" stroke=\"#268bd2\" d=\"M156.5,-36C156.5,-36 87.5,-36 87.5,-36 81.5,-36 75.5,-30 75.5,-24 75.5,-24 75.5,-12 75.5,-12 75.5,-6 81.5,0 87.5,0 87.5,0 156.5,0 156.5,0 162.5,0 168.5,-6 168.5,-12 168.5,-12 168.5,-24 168.5,-24 168.5,-30 162.5,-36 156.5,-36\"/>\n",
       "<text text-anchor=\"start\" x=\"94.5\" y=\"-20.4\" font-family=\"RobotoMono\" font-weight=\"bold\" font-size=\"12.00\" fill=\"#002b36\">output_0</text>\n",
       "<text text-anchor=\"start\" x=\"83.5\" y=\"-10\" font-family=\"RobotoMono\" font-size=\"10.00\" fill=\"#268bd2\">4 values (4 sinks)</text>\n",
       "</g>\n",
       "<!-- output_1 -->\n",
       "<g id=\"node4\" class=\"node\">\n",
       "<title>output_1</title>\n",
       "<path fill=\"none\" stroke=\"#268bd2\" d=\"M267.5,-36C267.5,-36 198.5,-36 198.5,-36 192.5,-36 186.5,-30 186.5,-24 186.5,-24 186.5,-12 186.5,-12 186.5,-6 192.5,0 198.5,0 198.5,0 267.5,0 267.5,0 273.5,0 279.5,-6 279.5,-12 279.5,-12 279.5,-24 279.5,-24 279.5,-30 273.5,-36 267.5,-36\"/>\n",
       "<text text-anchor=\"start\" x=\"205.5\" y=\"-20.4\" font-family=\"RobotoMono\" font-weight=\"bold\" font-size=\"12.00\" fill=\"#002b36\">output_1</text>\n",
       "<text text-anchor=\"start\" x=\"194.5\" y=\"-10\" font-family=\"RobotoMono\" font-size=\"10.00\" fill=\"#268bd2\">4 values (4 sinks)</text>\n",
       "</g>\n",
       "<!-- n_estimators -->\n",
       "<g id=\"node5\" class=\"node\">\n",
       "<title>n_estimators</title>\n",
       "<path fill=\"none\" stroke=\"#268bd2\" d=\"M342,-228C342,-228 260,-228 260,-228 254,-228 248,-222 248,-216 248,-216 248,-204 248,-204 248,-198 254,-192 260,-192 260,-192 342,-192 342,-192 348,-192 354,-198 354,-204 354,-204 354,-216 354,-216 354,-222 348,-228 342,-228\"/>\n",
       "<text text-anchor=\"start\" x=\"261.5\" y=\"-212.4\" font-family=\"RobotoMono\" font-weight=\"bold\" font-size=\"12.00\" fill=\"#002b36\">n_estimators</text>\n",
       "<text text-anchor=\"start\" x=\"256\" y=\"-202\" font-family=\"RobotoMono\" font-size=\"10.00\" fill=\"#268bd2\">4 values (4 sources)</text>\n",
       "</g>\n",
       "<!-- n_estimators&#45;&gt;train_model -->\n",
       "<g id=\"edge4\" class=\"edge\">\n",
       "<title>n_estimators&#45;&gt;train_model</title>\n",
       "<path fill=\"none\" stroke=\"#002b36\" d=\"M278.54,-191.98C259.57,-177.59 232.11,-156.78 210.53,-140.42\"/>\n",
       "<polygon fill=\"#002b36\" stroke=\"#002b36\" points=\"212.36,-137.41 202.28,-134.16 208.13,-142.99 212.36,-137.41\"/>\n",
       "<text text-anchor=\"middle\" x=\"283.5\" y=\"-166\" font-family=\"RobotoMono\" font-size=\"10.00\" fill=\"#002b36\">n_estimators</text>\n",
       "<text text-anchor=\"middle\" x=\"283.5\" y=\"-155\" font-family=\"RobotoMono\" font-size=\"10.00\" fill=\"#002b36\">(4 values)</text>\n",
       "</g>\n",
       "<!-- train_model&#45;&gt;output_0 -->\n",
       "<g id=\"edge2\" class=\"edge\">\n",
       "<title>train_model&#45;&gt;output_0</title>\n",
       "<path fill=\"none\" stroke=\"#002b36\" d=\"M165.87,-93.98C157.58,-79.81 146.17,-60.3 137.06,-44.74\"/>\n",
       "<polygon fill=\"#002b36\" stroke=\"#002b36\" points=\"140.08,-42.96 132,-36.1 134.03,-46.5 140.08,-42.96\"/>\n",
       "<text text-anchor=\"middle\" x=\"177\" y=\"-68\" font-family=\"RobotoMono\" font-size=\"10.00\" fill=\"#002b36\">output_0</text>\n",
       "<text text-anchor=\"middle\" x=\"177\" y=\"-57\" font-family=\"RobotoMono\" font-size=\"10.00\" fill=\"#002b36\">(4 values)</text>\n",
       "</g>\n",
       "<!-- train_model&#45;&gt;output_1 -->\n",
       "<g id=\"edge1\" class=\"edge\">\n",
       "<title>train_model&#45;&gt;output_1</title>\n",
       "<path fill=\"none\" stroke=\"#002b36\" d=\"M191.24,-93.73C195.2,-88.11 199.4,-81.9 203,-76 208.95,-66.27 214.92,-55.24 219.95,-45.5\"/>\n",
       "<polygon fill=\"#002b36\" stroke=\"#002b36\" points=\"223.22,-46.78 224.63,-36.28 216.98,-43.61 223.22,-46.78\"/>\n",
       "<text text-anchor=\"middle\" x=\"237\" y=\"-68\" font-family=\"RobotoMono\" font-size=\"10.00\" fill=\"#002b36\">output_1</text>\n",
       "<text text-anchor=\"middle\" x=\"237\" y=\"-57\" font-family=\"RobotoMono\" font-size=\"10.00\" fill=\"#002b36\">(4 values)</text>\n",
       "</g>\n",
       "</g>\n",
       "</svg>\n"
      ],
      "text/plain": [
       "<graphviz.sources.Source at 0x7429afe6a8f0>"
      ]
     },
     "metadata": {},
     "output_type": "display_data"
    }
   ],
   "source": [
    "cf = storage.cf(train_model)\n",
    "pprint(cf)\n",
    "cf.draw(verbose=True)"
   ]
  },
  {
   "cell_type": "markdown",
   "metadata": {},
   "source": [
    "You can extract a dataframe from any CF (explained more later); in particular,\n",
    "the dataframe for the CF of a single `@op` will be the memoization table for\n",
    "this `@op`:"
   ]
  },
  {
   "cell_type": "code",
   "execution_count": 8,
   "metadata": {
    "execution": {
     "iopub.execute_input": "2024-07-02T20:34:00.422935Z",
     "iopub.status.busy": "2024-07-02T20:34:00.420174Z",
     "iopub.status.idle": "2024-07-02T20:34:00.479044Z",
     "shell.execute_reply": "2024-07-02T20:34:00.478240Z"
    }
   },
   "outputs": [
    {
     "name": "stdout",
     "output_type": "stream",
     "text": [
      "Extracting tuples from the computation graph:\n",
      "    output_0@output_0, output_1@output_1 = train_model(n_estimators=n_estimators, X_train=X_train, y_train=y_train)\n",
      "|    | n_estimators                                         | y_train                                              | X_train                                              | train_model                                   | output_0                                             | output_1                                             |\n",
      "|---:|:-----------------------------------------------------|:-----------------------------------------------------|:-----------------------------------------------------|:----------------------------------------------|:-----------------------------------------------------|:-----------------------------------------------------|\n",
      "|  0 | AtomRef(hid='98c...', cid='29d...', in_memory=False) | AtomRef(hid='faf...', cid='83f...', in_memory=False) | AtomRef(hid='efa...', cid='a6d...', in_memory=False) | Call(train_model, cid='c4f...', hid='5f7...') | AtomRef(hid='b25...', cid='462...', in_memory=False) | AtomRef(hid='760...', cid='46b...', in_memory=False) |\n",
      "|  1 | AtomRef(hid='120...', cid='9bc...', in_memory=False) | AtomRef(hid='faf...', cid='83f...', in_memory=False) | AtomRef(hid='efa...', cid='a6d...', in_memory=False) | Call(train_model, cid='3be...', hid='e60...') | AtomRef(hid='522...', cid='d5a...', in_memory=False) | AtomRef(hid='646...', cid='acb...', in_memory=False) |\n",
      "|  2 | AtomRef(hid='235...', cid='c04...', in_memory=False) | AtomRef(hid='faf...', cid='83f...', in_memory=False) | AtomRef(hid='efa...', cid='a6d...', in_memory=False) | Call(train_model, cid='204...', hid='c55...') | AtomRef(hid='208...', cid='c75...', in_memory=False) | AtomRef(hid='5b7...', cid='f0a...', in_memory=False) |\n",
      "|  3 | AtomRef(hid='9fd...', cid='4ac...', in_memory=False) | AtomRef(hid='faf...', cid='83f...', in_memory=False) | AtomRef(hid='efa...', cid='a6d...', in_memory=False) | Call(train_model, cid='5af...', hid='514...') | AtomRef(hid='331...', cid='e64...', in_memory=False) | AtomRef(hid='784...', cid='238...', in_memory=False) |\n"
     ]
    }
   ],
   "source": [
    "print(cf.df(values='refs').to_markdown())"
   ]
  },
  {
   "cell_type": "markdown",
   "metadata": {},
   "source": [
    "## "
   ]
  },
  {
   "cell_type": "markdown",
   "metadata": {},
   "source": [
    "### From groups of `Ref`s to use as variables\n",
    "You can also manually initialize variables of the CF by passing a dict where\n",
    "values are `Ref` iterables:"
   ]
  },
  {
   "cell_type": "code",
   "execution_count": 9,
   "metadata": {
    "execution": {
     "iopub.execute_input": "2024-07-02T20:34:00.482509Z",
     "iopub.status.busy": "2024-07-02T20:34:00.481759Z",
     "iopub.status.idle": "2024-07-02T20:34:00.555341Z",
     "shell.execute_reply": "2024-07-02T20:34:00.554329Z"
    }
   },
   "outputs": [],
   "source": [
    "with storage: \n",
    "    models, test_accs = [], []\n",
    "    X_train, X_test, y_train, y_test = generate_dataset()\n",
    "    for n_estimators in [10, 20, 40, 80]:\n",
    "        model, train_acc = train_model(X_train, y_train, n_estimators=n_estimators)\n",
    "        models.append(model)\n",
    "        if storage.unwrap(train_acc) > 0.8: # conditional execution\n",
    "            test_acc = eval_model(model, X_test, y_test)\n",
    "            test_accs.append(test_acc)"
   ]
  },
  {
   "cell_type": "code",
   "execution_count": 10,
   "metadata": {
    "execution": {
     "iopub.execute_input": "2024-07-02T20:34:00.558781Z",
     "iopub.status.busy": "2024-07-02T20:34:00.558065Z",
     "iopub.status.idle": "2024-07-02T20:34:00.655867Z",
     "shell.execute_reply": "2024-07-02T20:34:00.655208Z"
    }
   },
   "outputs": [
    {
     "data": {
      "text/html": [
       "<pre style=\"white-space:pre;overflow-x:auto;line-height:normal;font-family:Menlo,'DejaVu Sans Mono',consolas,'Courier New',monospace\">ComputationFrame with:\n",
       "    <span style=\"color: #008080; text-decoration-color: #008080; font-weight: bold\">2</span> <span style=\"color: #800080; text-decoration-color: #800080; font-weight: bold\">variable</span><span style=\"font-weight: bold\">(</span>s<span style=\"font-weight: bold\">)</span> <span style=\"font-weight: bold\">(</span><span style=\"color: #008080; text-decoration-color: #008080; font-weight: bold\">6</span> unique refs<span style=\"font-weight: bold\">)</span>\n",
       "    <span style=\"color: #008080; text-decoration-color: #008080; font-weight: bold\">0</span> <span style=\"color: #800080; text-decoration-color: #800080; font-weight: bold\">operation</span><span style=\"font-weight: bold\">(</span>s<span style=\"font-weight: bold\">)</span> <span style=\"font-weight: bold\">(</span><span style=\"color: #008080; text-decoration-color: #008080; font-weight: bold\">0</span> unique calls<span style=\"font-weight: bold\">)</span>\n",
       "Computational graph:\n",
       "    model, test_acc\n",
       "</pre>\n"
      ],
      "text/plain": [
       "ComputationFrame with:\n",
       "    \u001b[1;36m2\u001b[0m \u001b[1;35mvariable\u001b[0m\u001b[1m(\u001b[0ms\u001b[1m)\u001b[0m \u001b[1m(\u001b[0m\u001b[1;36m6\u001b[0m unique refs\u001b[1m)\u001b[0m\n",
       "    \u001b[1;36m0\u001b[0m \u001b[1;35moperation\u001b[0m\u001b[1m(\u001b[0ms\u001b[1m)\u001b[0m \u001b[1m(\u001b[0m\u001b[1;36m0\u001b[0m unique calls\u001b[1m)\u001b[0m\n",
       "Computational graph:\n",
       "    model, test_acc\n"
      ]
     },
     "metadata": {},
     "output_type": "display_data"
    },
    {
     "data": {
      "image/svg+xml": [
       "<?xml version=\"1.0\" encoding=\"UTF-8\" standalone=\"no\"?>\n",
       "<!DOCTYPE svg PUBLIC \"-//W3C//DTD SVG 1.1//EN\"\n",
       " \"http://www.w3.org/Graphics/SVG/1.1/DTD/svg11.dtd\">\n",
       "<!-- Generated by graphviz version 2.50.0 (0)\n",
       " -->\n",
       "<!-- Title: G Pages: 1 -->\n",
       "<svg width=\"306pt\" height=\"44pt\"\n",
       " viewBox=\"0.00 0.00 306.00 44.00\" xmlns=\"http://www.w3.org/2000/svg\" xmlns:xlink=\"http://www.w3.org/1999/xlink\">\n",
       "<g id=\"graph0\" class=\"graph\" transform=\"scale(1 1) rotate(0) translate(4 40)\">\n",
       "<title>G</title>\n",
       "<polygon fill=\"white\" stroke=\"transparent\" points=\"-4,4 -4,-40 302,-40 302,4 -4,4\"/>\n",
       "<!-- test_acc -->\n",
       "<g id=\"node1\" class=\"node\">\n",
       "<title>test_acc</title>\n",
       "<path fill=\"none\" stroke=\"#268bd2\" d=\"M128,-36C128,-36 12,-36 12,-36 6,-36 0,-30 0,-24 0,-24 0,-12 0,-12 0,-6 6,0 12,0 12,0 128,0 128,0 134,0 140,-6 140,-12 140,-12 140,-24 140,-24 140,-30 134,-36 128,-36\"/>\n",
       "<text text-anchor=\"start\" x=\"45.5\" y=\"-20.4\" font-family=\"RobotoMono\" font-weight=\"bold\" font-size=\"12.00\" fill=\"#002b36\">test_acc</text>\n",
       "<text text-anchor=\"start\" x=\"8\" y=\"-10\" font-family=\"RobotoMono\" font-size=\"10.00\" fill=\"#268bd2\">2 values (2 sources/2 sinks)</text>\n",
       "</g>\n",
       "<!-- model -->\n",
       "<g id=\"node2\" class=\"node\">\n",
       "<title>model</title>\n",
       "<path fill=\"none\" stroke=\"#268bd2\" d=\"M286,-36C286,-36 170,-36 170,-36 164,-36 158,-30 158,-24 158,-24 158,-12 158,-12 158,-6 164,0 170,0 170,0 286,0 286,0 292,0 298,-6 298,-12 298,-12 298,-24 298,-24 298,-30 292,-36 286,-36\"/>\n",
       "<text text-anchor=\"start\" x=\"209\" y=\"-20.4\" font-family=\"RobotoMono\" font-weight=\"bold\" font-size=\"12.00\" fill=\"#002b36\">model</text>\n",
       "<text text-anchor=\"start\" x=\"166\" y=\"-10\" font-family=\"RobotoMono\" font-size=\"10.00\" fill=\"#268bd2\">4 values (4 sources/4 sinks)</text>\n",
       "</g>\n",
       "</g>\n",
       "</svg>\n"
      ],
      "text/plain": [
       "<graphviz.sources.Source at 0x7429afe34970>"
      ]
     },
     "metadata": {},
     "output_type": "display_data"
    }
   ],
   "source": [
    "cf = storage.cf({'model': models, 'test_acc': test_accs})\n",
    "pprint(cf)\n",
    "cf.draw(verbose=True)"
   ]
  },
  {
   "cell_type": "markdown",
   "metadata": {},
   "source": [
    "Again, this is not interesting unless you `expand` back and/or forward. We can \n",
    "illustrate by expanding only the `model` variable forward:"
   ]
  },
  {
   "cell_type": "code",
   "execution_count": 11,
   "metadata": {
    "execution": {
     "iopub.execute_input": "2024-07-02T20:34:00.658842Z",
     "iopub.status.busy": "2024-07-02T20:34:00.658184Z",
     "iopub.status.idle": "2024-07-02T20:34:00.775912Z",
     "shell.execute_reply": "2024-07-02T20:34:00.775250Z"
    }
   },
   "outputs": [
    {
     "data": {
      "image/svg+xml": [
       "<?xml version=\"1.0\" encoding=\"UTF-8\" standalone=\"no\"?>\n",
       "<!DOCTYPE svg PUBLIC \"-//W3C//DTD SVG 1.1//EN\"\n",
       " \"http://www.w3.org/Graphics/SVG/1.1/DTD/svg11.dtd\">\n",
       "<!-- Generated by graphviz version 2.50.0 (0)\n",
       " -->\n",
       "<!-- Title: G Pages: 1 -->\n",
       "<svg width=\"148pt\" height=\"236pt\"\n",
       " viewBox=\"0.00 0.00 148.00 236.00\" xmlns=\"http://www.w3.org/2000/svg\" xmlns:xlink=\"http://www.w3.org/1999/xlink\">\n",
       "<g id=\"graph0\" class=\"graph\" transform=\"scale(1 1) rotate(0) translate(4 232)\">\n",
       "<title>G</title>\n",
       "<polygon fill=\"white\" stroke=\"transparent\" points=\"-4,4 -4,-232 144,-232 144,4 -4,4\"/>\n",
       "<!-- test_acc -->\n",
       "<g id=\"node1\" class=\"node\">\n",
       "<title>test_acc</title>\n",
       "<path fill=\"none\" stroke=\"#268bd2\" d=\"M104.5,-36C104.5,-36 35.5,-36 35.5,-36 29.5,-36 23.5,-30 23.5,-24 23.5,-24 23.5,-12 23.5,-12 23.5,-6 29.5,0 35.5,0 35.5,0 104.5,0 104.5,0 110.5,0 116.5,-6 116.5,-12 116.5,-12 116.5,-24 116.5,-24 116.5,-30 110.5,-36 104.5,-36\"/>\n",
       "<text text-anchor=\"start\" x=\"45.5\" y=\"-20.4\" font-family=\"RobotoMono\" font-weight=\"bold\" font-size=\"12.00\" fill=\"#002b36\">test_acc</text>\n",
       "<text text-anchor=\"start\" x=\"31.5\" y=\"-10\" font-family=\"RobotoMono\" font-size=\"10.00\" fill=\"#268bd2\">2 values (2 sinks)</text>\n",
       "</g>\n",
       "<!-- model -->\n",
       "<g id=\"node2\" class=\"node\">\n",
       "<title>model</title>\n",
       "<path fill=\"none\" stroke=\"#268bd2\" d=\"M128,-228C128,-228 12,-228 12,-228 6,-228 0,-222 0,-216 0,-216 0,-204 0,-204 0,-198 6,-192 12,-192 12,-192 128,-192 128,-192 134,-192 140,-198 140,-204 140,-204 140,-216 140,-216 140,-222 134,-228 128,-228\"/>\n",
       "<text text-anchor=\"start\" x=\"51\" y=\"-212.4\" font-family=\"RobotoMono\" font-weight=\"bold\" font-size=\"12.00\" fill=\"#002b36\">model</text>\n",
       "<text text-anchor=\"start\" x=\"8\" y=\"-202\" font-family=\"RobotoMono\" font-size=\"10.00\" fill=\"#268bd2\">4 values (4 sources/2 sinks)</text>\n",
       "</g>\n",
       "<!-- eval_model -->\n",
       "<g id=\"node3\" class=\"node\">\n",
       "<title>eval_model</title>\n",
       "<path fill=\"none\" stroke=\"#dc322f\" d=\"M104,-134C104,-134 36,-134 36,-134 30,-134 24,-128 24,-122 24,-122 24,-106 24,-106 24,-100 30,-94 36,-94 36,-94 104,-94 104,-94 110,-94 116,-100 116,-106 116,-106 116,-122 116,-122 116,-128 110,-134 104,-134\"/>\n",
       "<text text-anchor=\"start\" x=\"36\" y=\"-121.4\" font-family=\"RobotoMono\" font-weight=\"bold\" font-size=\"12.00\" fill=\"#002b36\">eval_model</text>\n",
       "<text text-anchor=\"start\" x=\"32\" y=\"-111\" font-family=\"RobotoMono\" font-size=\"10.00\" fill=\"#002b36\">@op:eval_model</text>\n",
       "<text text-anchor=\"start\" x=\"56\" y=\"-101\" font-family=\"RobotoMono\" font-size=\"10.00\" fill=\"#dc322f\">2 calls</text>\n",
       "</g>\n",
       "<!-- model&#45;&gt;eval_model -->\n",
       "<g id=\"edge1\" class=\"edge\">\n",
       "<title>model&#45;&gt;eval_model</title>\n",
       "<path fill=\"none\" stroke=\"#002b36\" d=\"M70,-191.76C70,-178.5 70,-159.86 70,-144.27\"/>\n",
       "<polygon fill=\"#002b36\" stroke=\"#002b36\" points=\"73.5,-144.07 70,-134.07 66.5,-144.07 73.5,-144.07\"/>\n",
       "<text text-anchor=\"middle\" x=\"92\" y=\"-166\" font-family=\"RobotoMono\" font-size=\"10.00\" fill=\"#002b36\">model</text>\n",
       "<text text-anchor=\"middle\" x=\"92\" y=\"-155\" font-family=\"RobotoMono\" font-size=\"10.00\" fill=\"#002b36\">(2 values)</text>\n",
       "</g>\n",
       "<!-- eval_model&#45;&gt;test_acc -->\n",
       "<g id=\"edge2\" class=\"edge\">\n",
       "<title>eval_model&#45;&gt;test_acc</title>\n",
       "<path fill=\"none\" stroke=\"#002b36\" d=\"M70,-93.98C70,-80.34 70,-61.75 70,-46.5\"/>\n",
       "<polygon fill=\"#002b36\" stroke=\"#002b36\" points=\"73.5,-46.1 70,-36.1 66.5,-46.1 73.5,-46.1\"/>\n",
       "<text text-anchor=\"middle\" x=\"92\" y=\"-68\" font-family=\"RobotoMono\" font-size=\"10.00\" fill=\"#002b36\">output_0</text>\n",
       "<text text-anchor=\"middle\" x=\"92\" y=\"-57\" font-family=\"RobotoMono\" font-size=\"10.00\" fill=\"#002b36\">(2 values)</text>\n",
       "</g>\n",
       "</g>\n",
       "</svg>\n"
      ],
      "text/plain": [
       "<graphviz.sources.Source at 0x7429afe6a9e0>"
      ]
     },
     "metadata": {},
     "output_type": "display_data"
    }
   ],
   "source": [
    "cf.expand_forward(varnames=['model'], inplace=True)\n",
    "cf.draw(verbose=True)"
   ]
  },
  {
   "cell_type": "markdown",
   "metadata": {},
   "source": [
    "The expansion algorithm figures out that the calls to `eval_model` we add\n",
    "should connect to the `test_acc` variable."
   ]
  },
  {
   "cell_type": "markdown",
   "metadata": {},
   "source": [
    "### From any collection of calls\n",
    "TODO"
   ]
  },
  {
   "cell_type": "markdown",
   "metadata": {},
   "source": [
    "## Exploring storage by expanding `ComputationFrame`s \n",
    "Once a CF is created, you can add computational context to it by calling one of\n",
    "a few methods:"
   ]
  },
  {
   "cell_type": "code",
   "execution_count": 12,
   "metadata": {
    "execution": {
     "iopub.execute_input": "2024-07-02T20:34:00.778931Z",
     "iopub.status.busy": "2024-07-02T20:34:00.778712Z",
     "iopub.status.idle": "2024-07-02T20:34:00.814075Z",
     "shell.execute_reply": "2024-07-02T20:34:00.813220Z"
    }
   },
   "outputs": [
    {
     "data": {
      "text/html": [
       "<pre style=\"white-space:pre;overflow-x:auto;line-height:normal;font-family:Menlo,'DejaVu Sans Mono',consolas,'Courier New',monospace\">Docstring for `expand_back`:\n",
       "</pre>\n"
      ],
      "text/plain": [
       "Docstring for `expand_back`:\n"
      ]
     },
     "metadata": {},
     "output_type": "display_data"
    },
    {
     "data": {
      "text/html": [
       "<pre style=\"white-space:pre;overflow-x:auto;line-height:normal;font-family:Menlo,'DejaVu Sans Mono',consolas,'Courier New',monospace\">\n",
       "        Join to the CF the calls that created all refs in the given variables\n",
       "        that currently do not have a connected creator call in the CF.\n",
       "\n",
       "        If such refs are found, this will result to the addition of \n",
       "        - new function nodes for the calls that created these refs;\n",
       "        - new variable nodes for the *inputs* of these calls.\n",
       "\n",
       "        The number of these nodes and how they connect to the CF will depend on\n",
       "        the structure of the calls that created the refs. \n",
       "\n",
       "        Arguments:\n",
       "        - `varnames`: the names of the variables to expand; if <span style=\"color: #800080; text-decoration-color: #800080; font-style: italic\">None</span>, expand all\n",
       "        the `Ref`s that don't have a creator call in any function node of the CF\n",
       "        that is connected to the `Ref`'s variable node as an output.\n",
       "        - `recursive`: if <span style=\"color: #00ff00; text-decoration-color: #00ff00; font-style: italic\">True</span>, keep expanding until a fixed point is reached\n",
       "        \n",
       "</pre>\n"
      ],
      "text/plain": [
       "\n",
       "        Join to the CF the calls that created all refs in the given variables\n",
       "        that currently do not have a connected creator call in the CF.\n",
       "\n",
       "        If such refs are found, this will result to the addition of \n",
       "        - new function nodes for the calls that created these refs;\n",
       "        - new variable nodes for the *inputs* of these calls.\n",
       "\n",
       "        The number of these nodes and how they connect to the CF will depend on\n",
       "        the structure of the calls that created the refs. \n",
       "\n",
       "        Arguments:\n",
       "        - `varnames`: the names of the variables to expand; if \u001b[3;35mNone\u001b[0m, expand all\n",
       "        the `Ref`s that don't have a creator call in any function node of the CF\n",
       "        that is connected to the `Ref`'s variable node as an output.\n",
       "        - `recursive`: if \u001b[3;92mTrue\u001b[0m, keep expanding until a fixed point is reached\n",
       "        \n"
      ]
     },
     "metadata": {},
     "output_type": "display_data"
    },
    {
     "data": {
      "text/html": [
       "<pre style=\"white-space:pre;overflow-x:auto;line-height:normal;font-family:Menlo,'DejaVu Sans Mono',consolas,'Courier New',monospace\">Docstring for `expand_forward`:\n",
       "</pre>\n"
      ],
      "text/plain": [
       "Docstring for `expand_forward`:\n"
      ]
     },
     "metadata": {},
     "output_type": "display_data"
    },
    {
     "data": {
      "text/html": [
       "<pre style=\"white-space:pre;overflow-x:auto;line-height:normal;font-family:Menlo,'DejaVu Sans Mono',consolas,'Courier New',monospace\">\n",
       "        Join the calls that consume the given variables; see `expand_back` <span style=\"font-weight: bold\">(</span>the \n",
       "        dual operation<span style=\"font-weight: bold\">)</span> for more details.\n",
       "        \n",
       "</pre>\n"
      ],
      "text/plain": [
       "\n",
       "        Join the calls that consume the given variables; see `expand_back` \u001b[1m(\u001b[0mthe \n",
       "        dual operation\u001b[1m)\u001b[0m for more details.\n",
       "        \n"
      ]
     },
     "metadata": {},
     "output_type": "display_data"
    },
    {
     "data": {
      "text/html": [
       "<pre style=\"white-space:pre;overflow-x:auto;line-height:normal;font-family:Menlo,'DejaVu Sans Mono',consolas,'Courier New',monospace\">Docstring for `expand_all`:\n",
       "</pre>\n"
      ],
      "text/plain": [
       "Docstring for `expand_all`:\n"
      ]
     },
     "metadata": {},
     "output_type": "display_data"
    },
    {
     "data": {
      "text/html": [
       "<pre style=\"white-space:pre;overflow-x:auto;line-height:normal;font-family:Menlo,'DejaVu Sans Mono',consolas,'Courier New',monospace\">\n",
       "        Expand the computation frame by repeatedly applying `expand_back` and\n",
       "        `expand_forward` until a fixed point is reached.\n",
       "        \n",
       "</pre>\n"
      ],
      "text/plain": [
       "\n",
       "        Expand the computation frame by repeatedly applying `expand_back` and\n",
       "        `expand_forward` until a fixed point is reached.\n",
       "        \n"
      ]
     },
     "metadata": {},
     "output_type": "display_data"
    }
   ],
   "source": [
    "pprint('Docstring for `expand_back`:')\n",
    "pprint(cf.expand_back.__doc__)\n",
    "pprint('Docstring for `expand_forward`:')\n",
    "pprint(cf.expand_forward.__doc__)\n",
    "pprint('Docstring for `expand_all`:')\n",
    "pprint(cf.expand_all.__doc__)"
   ]
  },
  {
   "cell_type": "markdown",
   "metadata": {},
   "source": [
    "### Selective expansion with `expand_back`, `expand_forward`\n",
    "You can be very precise about which calls to add to the CF. For example, you can\n",
    "expand variables one by one. **When this results in convergent histories, the CF\n",
    "will detect this and reuse the calls**:  "
   ]
  },
  {
   "cell_type": "code",
   "execution_count": 13,
   "metadata": {
    "execution": {
     "iopub.execute_input": "2024-07-02T20:34:00.818941Z",
     "iopub.status.busy": "2024-07-02T20:34:00.818252Z",
     "iopub.status.idle": "2024-07-02T20:34:00.998615Z",
     "shell.execute_reply": "2024-07-02T20:34:00.997341Z"
    }
   },
   "outputs": [
    {
     "data": {
      "image/svg+xml": [
       "<?xml version=\"1.0\" encoding=\"UTF-8\" standalone=\"no\"?>\n",
       "<!DOCTYPE svg PUBLIC \"-//W3C//DTD SVG 1.1//EN\"\n",
       " \"http://www.w3.org/Graphics/SVG/1.1/DTD/svg11.dtd\">\n",
       "<!-- Generated by graphviz version 2.50.0 (0)\n",
       " -->\n",
       "<!-- Title: G Pages: 1 -->\n",
       "<svg width=\"362pt\" height=\"236pt\"\n",
       " viewBox=\"0.00 0.00 362.00 236.00\" xmlns=\"http://www.w3.org/2000/svg\" xmlns:xlink=\"http://www.w3.org/1999/xlink\">\n",
       "<g id=\"graph0\" class=\"graph\" transform=\"scale(1 1) rotate(0) translate(4 232)\">\n",
       "<title>G</title>\n",
       "<polygon fill=\"white\" stroke=\"transparent\" points=\"-4,4 -4,-232 358,-232 358,4 -4,4\"/>\n",
       "<!-- y_test -->\n",
       "<g id=\"node1\" class=\"node\">\n",
       "<title>y_test</title>\n",
       "<path fill=\"none\" stroke=\"#268bd2\" d=\"M94,-228C94,-228 12,-228 12,-228 6,-228 0,-222 0,-216 0,-216 0,-204 0,-204 0,-198 6,-192 12,-192 12,-192 94,-192 94,-192 100,-192 106,-198 106,-204 106,-204 106,-216 106,-216 106,-222 100,-228 94,-228\"/>\n",
       "<text text-anchor=\"start\" x=\"35\" y=\"-212.4\" font-family=\"RobotoMono\" font-weight=\"bold\" font-size=\"12.00\" fill=\"#002b36\">y_test</text>\n",
       "<text text-anchor=\"start\" x=\"8\" y=\"-202\" font-family=\"RobotoMono\" font-size=\"10.00\" fill=\"#268bd2\">1 values (1 sources)</text>\n",
       "</g>\n",
       "<!-- eval_model -->\n",
       "<g id=\"node5\" class=\"node\">\n",
       "<title>eval_model</title>\n",
       "<path fill=\"none\" stroke=\"#dc322f\" d=\"M211,-134C211,-134 143,-134 143,-134 137,-134 131,-128 131,-122 131,-122 131,-106 131,-106 131,-100 137,-94 143,-94 143,-94 211,-94 211,-94 217,-94 223,-100 223,-106 223,-106 223,-122 223,-122 223,-128 217,-134 211,-134\"/>\n",
       "<text text-anchor=\"start\" x=\"143\" y=\"-121.4\" font-family=\"RobotoMono\" font-weight=\"bold\" font-size=\"12.00\" fill=\"#002b36\">eval_model</text>\n",
       "<text text-anchor=\"start\" x=\"139\" y=\"-111\" font-family=\"RobotoMono\" font-size=\"10.00\" fill=\"#002b36\">@op:eval_model</text>\n",
       "<text text-anchor=\"start\" x=\"163\" y=\"-101\" font-family=\"RobotoMono\" font-size=\"10.00\" fill=\"#dc322f\">1 calls</text>\n",
       "</g>\n",
       "<!-- y_test&#45;&gt;eval_model -->\n",
       "<g id=\"edge2\" class=\"edge\">\n",
       "<title>y_test&#45;&gt;eval_model</title>\n",
       "<path fill=\"none\" stroke=\"#002b36\" d=\"M75.46,-191.98C94.43,-177.59 121.89,-156.78 143.47,-140.42\"/>\n",
       "<polygon fill=\"#002b36\" stroke=\"#002b36\" points=\"145.87,-142.99 151.72,-134.16 141.64,-137.41 145.87,-142.99\"/>\n",
       "<text text-anchor=\"middle\" x=\"149\" y=\"-166\" font-family=\"RobotoMono\" font-size=\"10.00\" fill=\"#002b36\">y_test</text>\n",
       "<text text-anchor=\"middle\" x=\"149\" y=\"-155\" font-family=\"RobotoMono\" font-size=\"10.00\" fill=\"#002b36\">(1 values)</text>\n",
       "</g>\n",
       "<!-- X_test -->\n",
       "<g id=\"node2\" class=\"node\">\n",
       "<title>X_test</title>\n",
       "<path fill=\"none\" stroke=\"#268bd2\" d=\"M218,-228C218,-228 136,-228 136,-228 130,-228 124,-222 124,-216 124,-216 124,-204 124,-204 124,-198 130,-192 136,-192 136,-192 218,-192 218,-192 224,-192 230,-198 230,-204 230,-204 230,-216 230,-216 230,-222 224,-228 218,-228\"/>\n",
       "<text text-anchor=\"start\" x=\"158.5\" y=\"-212.4\" font-family=\"RobotoMono\" font-weight=\"bold\" font-size=\"12.00\" fill=\"#002b36\">X_test</text>\n",
       "<text text-anchor=\"start\" x=\"132\" y=\"-202\" font-family=\"RobotoMono\" font-size=\"10.00\" fill=\"#268bd2\">1 values (1 sources)</text>\n",
       "</g>\n",
       "<!-- X_test&#45;&gt;eval_model -->\n",
       "<g id=\"edge3\" class=\"edge\">\n",
       "<title>X_test&#45;&gt;eval_model</title>\n",
       "<path fill=\"none\" stroke=\"#002b36\" d=\"M177,-191.76C177,-178.5 177,-159.86 177,-144.27\"/>\n",
       "<polygon fill=\"#002b36\" stroke=\"#002b36\" points=\"180.5,-144.07 177,-134.07 173.5,-144.07 180.5,-144.07\"/>\n",
       "<text text-anchor=\"middle\" x=\"199\" y=\"-166\" font-family=\"RobotoMono\" font-size=\"10.00\" fill=\"#002b36\">X_test</text>\n",
       "<text text-anchor=\"middle\" x=\"199\" y=\"-155\" font-family=\"RobotoMono\" font-size=\"10.00\" fill=\"#002b36\">(1 values)</text>\n",
       "</g>\n",
       "<!-- model -->\n",
       "<g id=\"node3\" class=\"node\">\n",
       "<title>model</title>\n",
       "<path fill=\"none\" stroke=\"#268bd2\" d=\"M342,-228C342,-228 260,-228 260,-228 254,-228 248,-222 248,-216 248,-216 248,-204 248,-204 248,-198 254,-192 260,-192 260,-192 342,-192 342,-192 348,-192 354,-198 354,-204 354,-204 354,-216 354,-216 354,-222 348,-228 342,-228\"/>\n",
       "<text text-anchor=\"start\" x=\"282\" y=\"-212.4\" font-family=\"RobotoMono\" font-weight=\"bold\" font-size=\"12.00\" fill=\"#002b36\">model</text>\n",
       "<text text-anchor=\"start\" x=\"256\" y=\"-202\" font-family=\"RobotoMono\" font-size=\"10.00\" fill=\"#268bd2\">1 values (1 sources)</text>\n",
       "</g>\n",
       "<!-- model&#45;&gt;eval_model -->\n",
       "<g id=\"edge4\" class=\"edge\">\n",
       "<title>model&#45;&gt;eval_model</title>\n",
       "<path fill=\"none\" stroke=\"#002b36\" d=\"M278.54,-191.98C259.57,-177.59 232.11,-156.78 210.53,-140.42\"/>\n",
       "<polygon fill=\"#002b36\" stroke=\"#002b36\" points=\"212.36,-137.41 202.28,-134.16 208.13,-142.99 212.36,-137.41\"/>\n",
       "<text text-anchor=\"middle\" x=\"275\" y=\"-166\" font-family=\"RobotoMono\" font-size=\"10.00\" fill=\"#002b36\">model</text>\n",
       "<text text-anchor=\"middle\" x=\"275\" y=\"-155\" font-family=\"RobotoMono\" font-size=\"10.00\" fill=\"#002b36\">(1 values)</text>\n",
       "</g>\n",
       "<!-- v -->\n",
       "<g id=\"node4\" class=\"node\">\n",
       "<title>v</title>\n",
       "<path fill=\"none\" stroke=\"#268bd2\" d=\"M211.5,-36C211.5,-36 142.5,-36 142.5,-36 136.5,-36 130.5,-30 130.5,-24 130.5,-24 130.5,-12 130.5,-12 130.5,-6 136.5,0 142.5,0 142.5,0 211.5,0 211.5,0 217.5,0 223.5,-6 223.5,-12 223.5,-12 223.5,-24 223.5,-24 223.5,-30 217.5,-36 211.5,-36\"/>\n",
       "<text text-anchor=\"start\" x=\"173.5\" y=\"-20.4\" font-family=\"RobotoMono\" font-weight=\"bold\" font-size=\"12.00\" fill=\"#002b36\">v</text>\n",
       "<text text-anchor=\"start\" x=\"138.5\" y=\"-10\" font-family=\"RobotoMono\" font-size=\"10.00\" fill=\"#268bd2\">1 values (1 sinks)</text>\n",
       "</g>\n",
       "<!-- eval_model&#45;&gt;v -->\n",
       "<g id=\"edge1\" class=\"edge\">\n",
       "<title>eval_model&#45;&gt;v</title>\n",
       "<path fill=\"none\" stroke=\"#002b36\" d=\"M177,-93.98C177,-80.34 177,-61.75 177,-46.5\"/>\n",
       "<polygon fill=\"#002b36\" stroke=\"#002b36\" points=\"180.5,-46.1 177,-36.1 173.5,-46.1 180.5,-46.1\"/>\n",
       "<text text-anchor=\"middle\" x=\"199\" y=\"-68\" font-family=\"RobotoMono\" font-size=\"10.00\" fill=\"#002b36\">output_0</text>\n",
       "<text text-anchor=\"middle\" x=\"199\" y=\"-57\" font-family=\"RobotoMono\" font-size=\"10.00\" fill=\"#002b36\">(1 values)</text>\n",
       "</g>\n",
       "</g>\n",
       "</svg>\n"
      ],
      "text/plain": [
       "<graphviz.sources.Source at 0x7429afe6a8c0>"
      ]
     },
     "metadata": {},
     "output_type": "display_data"
    }
   ],
   "source": [
    "cf = storage.cf(test_acc)\n",
    "cf = cf.expand_back('v')\n",
    "cf.draw(verbose=True)"
   ]
  },
  {
   "cell_type": "code",
   "execution_count": 14,
   "metadata": {
    "execution": {
     "iopub.execute_input": "2024-07-02T20:34:01.005698Z",
     "iopub.status.busy": "2024-07-02T20:34:01.004505Z",
     "iopub.status.idle": "2024-07-02T20:34:01.182020Z",
     "shell.execute_reply": "2024-07-02T20:34:01.181353Z"
    }
   },
   "outputs": [
    {
     "data": {
      "image/svg+xml": [
       "<?xml version=\"1.0\" encoding=\"UTF-8\" standalone=\"no\"?>\n",
       "<!DOCTYPE svg PUBLIC \"-//W3C//DTD SVG 1.1//EN\"\n",
       " \"http://www.w3.org/Graphics/SVG/1.1/DTD/svg11.dtd\">\n",
       "<!-- Generated by graphviz version 2.50.0 (0)\n",
       " -->\n",
       "<!-- Title: G Pages: 1 -->\n",
       "<svg width=\"347pt\" height=\"428pt\"\n",
       " viewBox=\"0.00 0.00 347.00 428.00\" xmlns=\"http://www.w3.org/2000/svg\" xmlns:xlink=\"http://www.w3.org/1999/xlink\">\n",
       "<g id=\"graph0\" class=\"graph\" transform=\"scale(1 1) rotate(0) translate(4 424)\">\n",
       "<title>G</title>\n",
       "<polygon fill=\"white\" stroke=\"transparent\" points=\"-4,4 -4,-424 343,-424 343,4 -4,4\"/>\n",
       "<!-- y_test -->\n",
       "<g id=\"node1\" class=\"node\">\n",
       "<title>y_test</title>\n",
       "<path fill=\"none\" stroke=\"#268bd2\" d=\"M94,-228C94,-228 12,-228 12,-228 6,-228 0,-222 0,-216 0,-216 0,-204 0,-204 0,-198 6,-192 12,-192 12,-192 94,-192 94,-192 100,-192 106,-198 106,-204 106,-204 106,-216 106,-216 106,-222 100,-228 94,-228\"/>\n",
       "<text text-anchor=\"start\" x=\"35\" y=\"-212.4\" font-family=\"RobotoMono\" font-weight=\"bold\" font-size=\"12.00\" fill=\"#002b36\">y_test</text>\n",
       "<text text-anchor=\"start\" x=\"8\" y=\"-202\" font-family=\"RobotoMono\" font-size=\"10.00\" fill=\"#268bd2\">1 values (1 sources)</text>\n",
       "</g>\n",
       "<!-- eval_model -->\n",
       "<g id=\"node7\" class=\"node\">\n",
       "<title>eval_model</title>\n",
       "<path fill=\"none\" stroke=\"#dc322f\" d=\"M211,-134C211,-134 143,-134 143,-134 137,-134 131,-128 131,-122 131,-122 131,-106 131,-106 131,-100 137,-94 143,-94 143,-94 211,-94 211,-94 217,-94 223,-100 223,-106 223,-106 223,-122 223,-122 223,-128 217,-134 211,-134\"/>\n",
       "<text text-anchor=\"start\" x=\"143\" y=\"-121.4\" font-family=\"RobotoMono\" font-weight=\"bold\" font-size=\"12.00\" fill=\"#002b36\">eval_model</text>\n",
       "<text text-anchor=\"start\" x=\"139\" y=\"-111\" font-family=\"RobotoMono\" font-size=\"10.00\" fill=\"#002b36\">@op:eval_model</text>\n",
       "<text text-anchor=\"start\" x=\"163\" y=\"-101\" font-family=\"RobotoMono\" font-size=\"10.00\" fill=\"#dc322f\">1 calls</text>\n",
       "</g>\n",
       "<!-- y_test&#45;&gt;eval_model -->\n",
       "<g id=\"edge2\" class=\"edge\">\n",
       "<title>y_test&#45;&gt;eval_model</title>\n",
       "<path fill=\"none\" stroke=\"#002b36\" d=\"M75.46,-191.98C94.43,-177.59 121.89,-156.78 143.47,-140.42\"/>\n",
       "<polygon fill=\"#002b36\" stroke=\"#002b36\" points=\"145.87,-142.99 151.72,-134.16 141.64,-137.41 145.87,-142.99\"/>\n",
       "<text text-anchor=\"middle\" x=\"148\" y=\"-166\" font-family=\"RobotoMono\" font-size=\"10.00\" fill=\"#002b36\">y_test</text>\n",
       "<text text-anchor=\"middle\" x=\"148\" y=\"-155\" font-family=\"RobotoMono\" font-size=\"10.00\" fill=\"#002b36\">(1 values)</text>\n",
       "</g>\n",
       "<!-- random_seed -->\n",
       "<g id=\"node2\" class=\"node\">\n",
       "<title>random_seed</title>\n",
       "<path fill=\"none\" stroke=\"#268bd2\" d=\"M316,-420C316,-420 234,-420 234,-420 228,-420 222,-414 222,-408 222,-408 222,-396 222,-396 222,-390 228,-384 234,-384 234,-384 316,-384 316,-384 322,-384 328,-390 328,-396 328,-396 328,-408 328,-408 328,-414 322,-420 316,-420\"/>\n",
       "<text text-anchor=\"start\" x=\"234.5\" y=\"-404.4\" font-family=\"RobotoMono\" font-weight=\"bold\" font-size=\"12.00\" fill=\"#002b36\">random_seed</text>\n",
       "<text text-anchor=\"start\" x=\"230\" y=\"-394\" font-family=\"RobotoMono\" font-size=\"10.00\" fill=\"#268bd2\">1 values (1 sources)</text>\n",
       "</g>\n",
       "<!-- generate_dataset -->\n",
       "<g id=\"node6\" class=\"node\">\n",
       "<title>generate_dataset</title>\n",
       "<path fill=\"none\" stroke=\"#dc322f\" d=\"M324,-326C324,-326 226,-326 226,-326 220,-326 214,-320 214,-314 214,-314 214,-298 214,-298 214,-292 220,-286 226,-286 226,-286 324,-286 324,-286 330,-286 336,-292 336,-298 336,-298 336,-314 336,-314 336,-320 330,-326 324,-326\"/>\n",
       "<text text-anchor=\"start\" x=\"222\" y=\"-313.4\" font-family=\"RobotoMono\" font-weight=\"bold\" font-size=\"12.00\" fill=\"#002b36\">generate_dataset</text>\n",
       "<text text-anchor=\"start\" x=\"222\" y=\"-303\" font-family=\"RobotoMono\" font-size=\"10.00\" fill=\"#002b36\">@op:generate_dataset</text>\n",
       "<text text-anchor=\"start\" x=\"261\" y=\"-293\" font-family=\"RobotoMono\" font-size=\"10.00\" fill=\"#dc322f\">1 calls</text>\n",
       "</g>\n",
       "<!-- random_seed&#45;&gt;generate_dataset -->\n",
       "<g id=\"edge6\" class=\"edge\">\n",
       "<title>random_seed&#45;&gt;generate_dataset</title>\n",
       "<path fill=\"none\" stroke=\"#002b36\" d=\"M275,-383.76C275,-370.5 275,-351.86 275,-336.27\"/>\n",
       "<polygon fill=\"#002b36\" stroke=\"#002b36\" points=\"278.5,-336.07 275,-326.07 271.5,-336.07 278.5,-336.07\"/>\n",
       "<text text-anchor=\"middle\" x=\"307\" y=\"-358\" font-family=\"RobotoMono\" font-size=\"10.00\" fill=\"#002b36\">random_seed</text>\n",
       "<text text-anchor=\"middle\" x=\"307\" y=\"-347\" font-family=\"RobotoMono\" font-size=\"10.00\" fill=\"#002b36\">(1 values)</text>\n",
       "</g>\n",
       "<!-- v -->\n",
       "<g id=\"node3\" class=\"node\">\n",
       "<title>v</title>\n",
       "<path fill=\"none\" stroke=\"#268bd2\" d=\"M211.5,-36C211.5,-36 142.5,-36 142.5,-36 136.5,-36 130.5,-30 130.5,-24 130.5,-24 130.5,-12 130.5,-12 130.5,-6 136.5,0 142.5,0 142.5,0 211.5,0 211.5,0 217.5,0 223.5,-6 223.5,-12 223.5,-12 223.5,-24 223.5,-24 223.5,-30 217.5,-36 211.5,-36\"/>\n",
       "<text text-anchor=\"start\" x=\"173.5\" y=\"-20.4\" font-family=\"RobotoMono\" font-weight=\"bold\" font-size=\"12.00\" fill=\"#002b36\">v</text>\n",
       "<text text-anchor=\"start\" x=\"138.5\" y=\"-10\" font-family=\"RobotoMono\" font-size=\"10.00\" fill=\"#268bd2\">1 values (1 sinks)</text>\n",
       "</g>\n",
       "<!-- model -->\n",
       "<g id=\"node4\" class=\"node\">\n",
       "<title>model</title>\n",
       "<path fill=\"none\" stroke=\"#268bd2\" d=\"M218,-228C218,-228 136,-228 136,-228 130,-228 124,-222 124,-216 124,-216 124,-204 124,-204 124,-198 130,-192 136,-192 136,-192 218,-192 218,-192 224,-192 230,-198 230,-204 230,-204 230,-216 230,-216 230,-222 224,-228 218,-228\"/>\n",
       "<text text-anchor=\"start\" x=\"158\" y=\"-212.4\" font-family=\"RobotoMono\" font-weight=\"bold\" font-size=\"12.00\" fill=\"#002b36\">model</text>\n",
       "<text text-anchor=\"start\" x=\"132\" y=\"-202\" font-family=\"RobotoMono\" font-size=\"10.00\" fill=\"#268bd2\">1 values (1 sources)</text>\n",
       "</g>\n",
       "<!-- model&#45;&gt;eval_model -->\n",
       "<g id=\"edge4\" class=\"edge\">\n",
       "<title>model&#45;&gt;eval_model</title>\n",
       "<path fill=\"none\" stroke=\"#002b36\" d=\"M177,-191.76C177,-178.5 177,-159.86 177,-144.27\"/>\n",
       "<polygon fill=\"#002b36\" stroke=\"#002b36\" points=\"180.5,-144.07 177,-134.07 173.5,-144.07 180.5,-144.07\"/>\n",
       "<text text-anchor=\"middle\" x=\"199\" y=\"-166\" font-family=\"RobotoMono\" font-size=\"10.00\" fill=\"#002b36\">model</text>\n",
       "<text text-anchor=\"middle\" x=\"199\" y=\"-155\" font-family=\"RobotoMono\" font-size=\"10.00\" fill=\"#002b36\">(1 values)</text>\n",
       "</g>\n",
       "<!-- X_test -->\n",
       "<g id=\"node5\" class=\"node\">\n",
       "<title>X_test</title>\n",
       "<path fill=\"none\" stroke=\"#268bd2\" d=\"M290,-228C290,-228 260,-228 260,-228 254,-228 248,-222 248,-216 248,-216 248,-204 248,-204 248,-198 254,-192 260,-192 260,-192 290,-192 290,-192 296,-192 302,-198 302,-204 302,-204 302,-216 302,-216 302,-222 296,-228 290,-228\"/>\n",
       "<text text-anchor=\"start\" x=\"256.5\" y=\"-212.4\" font-family=\"RobotoMono\" font-weight=\"bold\" font-size=\"12.00\" fill=\"#002b36\">X_test</text>\n",
       "<text text-anchor=\"start\" x=\"256\" y=\"-202\" font-family=\"RobotoMono\" font-size=\"10.00\" fill=\"#268bd2\">1 values</text>\n",
       "</g>\n",
       "<!-- X_test&#45;&gt;eval_model -->\n",
       "<g id=\"edge3\" class=\"edge\">\n",
       "<title>X_test&#45;&gt;eval_model</title>\n",
       "<path fill=\"none\" stroke=\"#002b36\" d=\"M261.37,-191.76C251.74,-180.02 238.25,-164.43 225,-152 220.88,-148.13 216.37,-144.25 211.82,-140.54\"/>\n",
       "<polygon fill=\"#002b36\" stroke=\"#002b36\" points=\"213.67,-137.55 203.66,-134.09 209.33,-143.04 213.67,-137.55\"/>\n",
       "<text text-anchor=\"middle\" x=\"267\" y=\"-166\" font-family=\"RobotoMono\" font-size=\"10.00\" fill=\"#002b36\">X_test</text>\n",
       "<text text-anchor=\"middle\" x=\"267\" y=\"-155\" font-family=\"RobotoMono\" font-size=\"10.00\" fill=\"#002b36\">(1 values)</text>\n",
       "</g>\n",
       "<!-- generate_dataset&#45;&gt;X_test -->\n",
       "<g id=\"edge5\" class=\"edge\">\n",
       "<title>generate_dataset&#45;&gt;X_test</title>\n",
       "<path fill=\"none\" stroke=\"#002b36\" d=\"M275,-285.98C275,-272.34 275,-253.75 275,-238.5\"/>\n",
       "<polygon fill=\"#002b36\" stroke=\"#002b36\" points=\"278.5,-238.1 275,-228.1 271.5,-238.1 278.5,-238.1\"/>\n",
       "<text text-anchor=\"middle\" x=\"297\" y=\"-260\" font-family=\"RobotoMono\" font-size=\"10.00\" fill=\"#002b36\">output_1</text>\n",
       "<text text-anchor=\"middle\" x=\"297\" y=\"-249\" font-family=\"RobotoMono\" font-size=\"10.00\" fill=\"#002b36\">(1 values)</text>\n",
       "</g>\n",
       "<!-- eval_model&#45;&gt;v -->\n",
       "<g id=\"edge1\" class=\"edge\">\n",
       "<title>eval_model&#45;&gt;v</title>\n",
       "<path fill=\"none\" stroke=\"#002b36\" d=\"M177,-93.98C177,-80.34 177,-61.75 177,-46.5\"/>\n",
       "<polygon fill=\"#002b36\" stroke=\"#002b36\" points=\"180.5,-46.1 177,-36.1 173.5,-46.1 180.5,-46.1\"/>\n",
       "<text text-anchor=\"middle\" x=\"199\" y=\"-68\" font-family=\"RobotoMono\" font-size=\"10.00\" fill=\"#002b36\">output_0</text>\n",
       "<text text-anchor=\"middle\" x=\"199\" y=\"-57\" font-family=\"RobotoMono\" font-size=\"10.00\" fill=\"#002b36\">(1 values)</text>\n",
       "</g>\n",
       "</g>\n",
       "</svg>\n"
      ],
      "text/plain": [
       "<graphviz.sources.Source at 0x7429afe6ba90>"
      ]
     },
     "metadata": {},
     "output_type": "display_data"
    }
   ],
   "source": [
    "cf = cf.expand_back('X_test')\n",
    "cf.draw(verbose=True)"
   ]
  },
  {
   "cell_type": "code",
   "execution_count": 15,
   "metadata": {
    "execution": {
     "iopub.execute_input": "2024-07-02T20:34:01.186761Z",
     "iopub.status.busy": "2024-07-02T20:34:01.186110Z",
     "iopub.status.idle": "2024-07-02T20:34:01.315534Z",
     "shell.execute_reply": "2024-07-02T20:34:01.314569Z"
    }
   },
   "outputs": [
    {
     "data": {
      "image/svg+xml": [
       "<?xml version=\"1.0\" encoding=\"UTF-8\" standalone=\"no\"?>\n",
       "<!DOCTYPE svg PUBLIC \"-//W3C//DTD SVG 1.1//EN\"\n",
       " \"http://www.w3.org/Graphics/SVG/1.1/DTD/svg11.dtd\">\n",
       "<!-- Generated by graphviz version 2.50.0 (0)\n",
       " -->\n",
       "<!-- Title: G Pages: 1 -->\n",
       "<svg width=\"493pt\" height=\"428pt\"\n",
       " viewBox=\"0.00 0.00 493.00 428.00\" xmlns=\"http://www.w3.org/2000/svg\" xmlns:xlink=\"http://www.w3.org/1999/xlink\">\n",
       "<g id=\"graph0\" class=\"graph\" transform=\"scale(1 1) rotate(0) translate(4 424)\">\n",
       "<title>G</title>\n",
       "<polygon fill=\"white\" stroke=\"transparent\" points=\"-4,4 -4,-424 489,-424 489,4 -4,4\"/>\n",
       "<!-- X_train -->\n",
       "<g id=\"node1\" class=\"node\">\n",
       "<title>X_train</title>\n",
       "<path fill=\"none\" stroke=\"#268bd2\" d=\"M473,-420C473,-420 391,-420 391,-420 385,-420 379,-414 379,-408 379,-408 379,-396 379,-396 379,-390 385,-384 391,-384 391,-384 473,-384 473,-384 479,-384 485,-390 485,-396 485,-396 485,-408 485,-408 485,-414 479,-420 473,-420\"/>\n",
       "<text text-anchor=\"start\" x=\"410\" y=\"-404.4\" font-family=\"RobotoMono\" font-weight=\"bold\" font-size=\"12.00\" fill=\"#002b36\">X_train</text>\n",
       "<text text-anchor=\"start\" x=\"387\" y=\"-394\" font-family=\"RobotoMono\" font-size=\"10.00\" fill=\"#268bd2\">1 values (1 sources)</text>\n",
       "</g>\n",
       "<!-- train_model -->\n",
       "<g id=\"node10\" class=\"node\">\n",
       "<title>train_model</title>\n",
       "<path fill=\"none\" stroke=\"#dc322f\" d=\"M342.5,-326C342.5,-326 271.5,-326 271.5,-326 265.5,-326 259.5,-320 259.5,-314 259.5,-314 259.5,-298 259.5,-298 259.5,-292 265.5,-286 271.5,-286 271.5,-286 342.5,-286 342.5,-286 348.5,-286 354.5,-292 354.5,-298 354.5,-298 354.5,-314 354.5,-314 354.5,-320 348.5,-326 342.5,-326\"/>\n",
       "<text text-anchor=\"start\" x=\"270.5\" y=\"-313.4\" font-family=\"RobotoMono\" font-weight=\"bold\" font-size=\"12.00\" fill=\"#002b36\">train_model</text>\n",
       "<text text-anchor=\"start\" x=\"267.5\" y=\"-303\" font-family=\"RobotoMono\" font-size=\"10.00\" fill=\"#002b36\">@op:train_model</text>\n",
       "<text text-anchor=\"start\" x=\"293\" y=\"-293\" font-family=\"RobotoMono\" font-size=\"10.00\" fill=\"#dc322f\">1 calls</text>\n",
       "</g>\n",
       "<!-- X_train&#45;&gt;train_model -->\n",
       "<g id=\"edge8\" class=\"edge\">\n",
       "<title>X_train&#45;&gt;train_model</title>\n",
       "<path fill=\"none\" stroke=\"#002b36\" d=\"M416.15,-383.88C404.58,-371.91 388.15,-355.99 372,-344 366.05,-339.58 359.52,-335.3 352.97,-331.3\"/>\n",
       "<polygon fill=\"#002b36\" stroke=\"#002b36\" points=\"354.47,-328.12 344.08,-326.05 350.91,-334.15 354.47,-328.12\"/>\n",
       "<text text-anchor=\"middle\" x=\"419\" y=\"-358\" font-family=\"RobotoMono\" font-size=\"10.00\" fill=\"#002b36\">X_train</text>\n",
       "<text text-anchor=\"middle\" x=\"419\" y=\"-347\" font-family=\"RobotoMono\" font-size=\"10.00\" fill=\"#002b36\">(1 values)</text>\n",
       "</g>\n",
       "<!-- y_train -->\n",
       "<g id=\"node2\" class=\"node\">\n",
       "<title>y_train</title>\n",
       "<path fill=\"none\" stroke=\"#268bd2\" d=\"M225,-420C225,-420 143,-420 143,-420 137,-420 131,-414 131,-408 131,-408 131,-396 131,-396 131,-390 137,-384 143,-384 143,-384 225,-384 225,-384 231,-384 237,-390 237,-396 237,-396 237,-408 237,-408 237,-414 231,-420 225,-420\"/>\n",
       "<text text-anchor=\"start\" x=\"162.5\" y=\"-404.4\" font-family=\"RobotoMono\" font-weight=\"bold\" font-size=\"12.00\" fill=\"#002b36\">y_train</text>\n",
       "<text text-anchor=\"start\" x=\"139\" y=\"-394\" font-family=\"RobotoMono\" font-size=\"10.00\" fill=\"#268bd2\">1 values (1 sources)</text>\n",
       "</g>\n",
       "<!-- y_train&#45;&gt;train_model -->\n",
       "<g id=\"edge10\" class=\"edge\">\n",
       "<title>y_train&#45;&gt;train_model</title>\n",
       "<path fill=\"none\" stroke=\"#002b36\" d=\"M206.27,-383.98C225.1,-369.59 252.34,-348.78 273.74,-332.42\"/>\n",
       "<polygon fill=\"#002b36\" stroke=\"#002b36\" points=\"276.11,-335.02 281.93,-326.16 271.86,-329.45 276.11,-335.02\"/>\n",
       "<text text-anchor=\"middle\" x=\"279\" y=\"-358\" font-family=\"RobotoMono\" font-size=\"10.00\" fill=\"#002b36\">y_train</text>\n",
       "<text text-anchor=\"middle\" x=\"279\" y=\"-347\" font-family=\"RobotoMono\" font-size=\"10.00\" fill=\"#002b36\">(1 values)</text>\n",
       "</g>\n",
       "<!-- y_test -->\n",
       "<g id=\"node3\" class=\"node\">\n",
       "<title>y_test</title>\n",
       "<path fill=\"none\" stroke=\"#268bd2\" d=\"M245,-228C245,-228 163,-228 163,-228 157,-228 151,-222 151,-216 151,-216 151,-204 151,-204 151,-198 157,-192 163,-192 163,-192 245,-192 245,-192 251,-192 257,-198 257,-204 257,-204 257,-216 257,-216 257,-222 251,-228 245,-228\"/>\n",
       "<text text-anchor=\"start\" x=\"186\" y=\"-212.4\" font-family=\"RobotoMono\" font-weight=\"bold\" font-size=\"12.00\" fill=\"#002b36\">y_test</text>\n",
       "<text text-anchor=\"start\" x=\"159\" y=\"-202\" font-family=\"RobotoMono\" font-size=\"10.00\" fill=\"#268bd2\">1 values (1 sources)</text>\n",
       "</g>\n",
       "<!-- eval_model -->\n",
       "<g id=\"node11\" class=\"node\">\n",
       "<title>eval_model</title>\n",
       "<path fill=\"none\" stroke=\"#dc322f\" d=\"M238,-134C238,-134 170,-134 170,-134 164,-134 158,-128 158,-122 158,-122 158,-106 158,-106 158,-100 164,-94 170,-94 170,-94 238,-94 238,-94 244,-94 250,-100 250,-106 250,-106 250,-122 250,-122 250,-128 244,-134 238,-134\"/>\n",
       "<text text-anchor=\"start\" x=\"170\" y=\"-121.4\" font-family=\"RobotoMono\" font-weight=\"bold\" font-size=\"12.00\" fill=\"#002b36\">eval_model</text>\n",
       "<text text-anchor=\"start\" x=\"166\" y=\"-111\" font-family=\"RobotoMono\" font-size=\"10.00\" fill=\"#002b36\">@op:eval_model</text>\n",
       "<text text-anchor=\"start\" x=\"190\" y=\"-101\" font-family=\"RobotoMono\" font-size=\"10.00\" fill=\"#dc322f\">1 calls</text>\n",
       "</g>\n",
       "<!-- y_test&#45;&gt;eval_model -->\n",
       "<g id=\"edge2\" class=\"edge\">\n",
       "<title>y_test&#45;&gt;eval_model</title>\n",
       "<path fill=\"none\" stroke=\"#002b36\" d=\"M204,-191.76C204,-178.5 204,-159.86 204,-144.27\"/>\n",
       "<polygon fill=\"#002b36\" stroke=\"#002b36\" points=\"207.5,-144.07 204,-134.07 200.5,-144.07 207.5,-144.07\"/>\n",
       "<text text-anchor=\"middle\" x=\"226\" y=\"-166\" font-family=\"RobotoMono\" font-size=\"10.00\" fill=\"#002b36\">y_test</text>\n",
       "<text text-anchor=\"middle\" x=\"226\" y=\"-155\" font-family=\"RobotoMono\" font-size=\"10.00\" fill=\"#002b36\">(1 values)</text>\n",
       "</g>\n",
       "<!-- random_seed -->\n",
       "<g id=\"node4\" class=\"node\">\n",
       "<title>random_seed</title>\n",
       "<path fill=\"none\" stroke=\"#268bd2\" d=\"M101,-420C101,-420 19,-420 19,-420 13,-420 7,-414 7,-408 7,-408 7,-396 7,-396 7,-390 13,-384 19,-384 19,-384 101,-384 101,-384 107,-384 113,-390 113,-396 113,-396 113,-408 113,-408 113,-414 107,-420 101,-420\"/>\n",
       "<text text-anchor=\"start\" x=\"19.5\" y=\"-404.4\" font-family=\"RobotoMono\" font-weight=\"bold\" font-size=\"12.00\" fill=\"#002b36\">random_seed</text>\n",
       "<text text-anchor=\"start\" x=\"15\" y=\"-394\" font-family=\"RobotoMono\" font-size=\"10.00\" fill=\"#268bd2\">1 values (1 sources)</text>\n",
       "</g>\n",
       "<!-- generate_dataset -->\n",
       "<g id=\"node9\" class=\"node\">\n",
       "<title>generate_dataset</title>\n",
       "<path fill=\"none\" stroke=\"#dc322f\" d=\"M110,-326C110,-326 12,-326 12,-326 6,-326 0,-320 0,-314 0,-314 0,-298 0,-298 0,-292 6,-286 12,-286 12,-286 110,-286 110,-286 116,-286 122,-292 122,-298 122,-298 122,-314 122,-314 122,-320 116,-326 110,-326\"/>\n",
       "<text text-anchor=\"start\" x=\"8\" y=\"-313.4\" font-family=\"RobotoMono\" font-weight=\"bold\" font-size=\"12.00\" fill=\"#002b36\">generate_dataset</text>\n",
       "<text text-anchor=\"start\" x=\"8\" y=\"-303\" font-family=\"RobotoMono\" font-size=\"10.00\" fill=\"#002b36\">@op:generate_dataset</text>\n",
       "<text text-anchor=\"start\" x=\"47\" y=\"-293\" font-family=\"RobotoMono\" font-size=\"10.00\" fill=\"#dc322f\">1 calls</text>\n",
       "</g>\n",
       "<!-- random_seed&#45;&gt;generate_dataset -->\n",
       "<g id=\"edge6\" class=\"edge\">\n",
       "<title>random_seed&#45;&gt;generate_dataset</title>\n",
       "<path fill=\"none\" stroke=\"#002b36\" d=\"M60.18,-383.76C60.32,-370.5 60.52,-351.86 60.69,-336.27\"/>\n",
       "<polygon fill=\"#002b36\" stroke=\"#002b36\" points=\"64.19,-336.11 60.8,-326.07 57.19,-336.03 64.19,-336.11\"/>\n",
       "<text text-anchor=\"middle\" x=\"93\" y=\"-358\" font-family=\"RobotoMono\" font-size=\"10.00\" fill=\"#002b36\">random_seed</text>\n",
       "<text text-anchor=\"middle\" x=\"93\" y=\"-347\" font-family=\"RobotoMono\" font-size=\"10.00\" fill=\"#002b36\">(1 values)</text>\n",
       "</g>\n",
       "<!-- v -->\n",
       "<g id=\"node5\" class=\"node\">\n",
       "<title>v</title>\n",
       "<path fill=\"none\" stroke=\"#268bd2\" d=\"M238.5,-36C238.5,-36 169.5,-36 169.5,-36 163.5,-36 157.5,-30 157.5,-24 157.5,-24 157.5,-12 157.5,-12 157.5,-6 163.5,0 169.5,0 169.5,0 238.5,0 238.5,0 244.5,0 250.5,-6 250.5,-12 250.5,-12 250.5,-24 250.5,-24 250.5,-30 244.5,-36 238.5,-36\"/>\n",
       "<text text-anchor=\"start\" x=\"200.5\" y=\"-20.4\" font-family=\"RobotoMono\" font-weight=\"bold\" font-size=\"12.00\" fill=\"#002b36\">v</text>\n",
       "<text text-anchor=\"start\" x=\"165.5\" y=\"-10\" font-family=\"RobotoMono\" font-size=\"10.00\" fill=\"#268bd2\">1 values (1 sinks)</text>\n",
       "</g>\n",
       "<!-- model -->\n",
       "<g id=\"node6\" class=\"node\">\n",
       "<title>model</title>\n",
       "<path fill=\"none\" stroke=\"#268bd2\" d=\"M320,-228C320,-228 290,-228 290,-228 284,-228 278,-222 278,-216 278,-216 278,-204 278,-204 278,-198 284,-192 290,-192 290,-192 320,-192 320,-192 326,-192 332,-198 332,-204 332,-204 332,-216 332,-216 332,-222 326,-228 320,-228\"/>\n",
       "<text text-anchor=\"start\" x=\"286\" y=\"-212.4\" font-family=\"RobotoMono\" font-weight=\"bold\" font-size=\"12.00\" fill=\"#002b36\">model</text>\n",
       "<text text-anchor=\"start\" x=\"286\" y=\"-202\" font-family=\"RobotoMono\" font-size=\"10.00\" fill=\"#268bd2\">1 values</text>\n",
       "</g>\n",
       "<!-- model&#45;&gt;eval_model -->\n",
       "<g id=\"edge4\" class=\"edge\">\n",
       "<title>model&#45;&gt;eval_model</title>\n",
       "<path fill=\"none\" stroke=\"#002b36\" d=\"M290.38,-191.84C280.1,-180.15 265.78,-164.56 252,-152 247.67,-148.05 242.94,-144.06 238.21,-140.25\"/>\n",
       "<polygon fill=\"#002b36\" stroke=\"#002b36\" points=\"240.32,-137.45 230.29,-134.02 235.99,-142.96 240.32,-137.45\"/>\n",
       "<text text-anchor=\"middle\" x=\"296\" y=\"-166\" font-family=\"RobotoMono\" font-size=\"10.00\" fill=\"#002b36\">model</text>\n",
       "<text text-anchor=\"middle\" x=\"296\" y=\"-155\" font-family=\"RobotoMono\" font-size=\"10.00\" fill=\"#002b36\">(1 values)</text>\n",
       "</g>\n",
       "<!-- n_estimators -->\n",
       "<g id=\"node7\" class=\"node\">\n",
       "<title>n_estimators</title>\n",
       "<path fill=\"none\" stroke=\"#268bd2\" d=\"M349,-420C349,-420 267,-420 267,-420 261,-420 255,-414 255,-408 255,-408 255,-396 255,-396 255,-390 261,-384 267,-384 267,-384 349,-384 349,-384 355,-384 361,-390 361,-396 361,-396 361,-408 361,-408 361,-414 355,-420 349,-420\"/>\n",
       "<text text-anchor=\"start\" x=\"268.5\" y=\"-404.4\" font-family=\"RobotoMono\" font-weight=\"bold\" font-size=\"12.00\" fill=\"#002b36\">n_estimators</text>\n",
       "<text text-anchor=\"start\" x=\"263\" y=\"-394\" font-family=\"RobotoMono\" font-size=\"10.00\" fill=\"#268bd2\">1 values (1 sources)</text>\n",
       "</g>\n",
       "<!-- n_estimators&#45;&gt;train_model -->\n",
       "<g id=\"edge9\" class=\"edge\">\n",
       "<title>n_estimators&#45;&gt;train_model</title>\n",
       "<path fill=\"none\" stroke=\"#002b36\" d=\"M307.82,-383.76C307.68,-370.5 307.48,-351.86 307.31,-336.27\"/>\n",
       "<polygon fill=\"#002b36\" stroke=\"#002b36\" points=\"310.81,-336.03 307.2,-326.07 303.81,-336.11 310.81,-336.03\"/>\n",
       "<text text-anchor=\"middle\" x=\"337.5\" y=\"-358\" font-family=\"RobotoMono\" font-size=\"10.00\" fill=\"#002b36\">n_estimators</text>\n",
       "<text text-anchor=\"middle\" x=\"337.5\" y=\"-347\" font-family=\"RobotoMono\" font-size=\"10.00\" fill=\"#002b36\">(1 values)</text>\n",
       "</g>\n",
       "<!-- X_test -->\n",
       "<g id=\"node8\" class=\"node\">\n",
       "<title>X_test</title>\n",
       "<path fill=\"none\" stroke=\"#268bd2\" d=\"M115,-228C115,-228 85,-228 85,-228 79,-228 73,-222 73,-216 73,-216 73,-204 73,-204 73,-198 79,-192 85,-192 85,-192 115,-192 115,-192 121,-192 127,-198 127,-204 127,-204 127,-216 127,-216 127,-222 121,-228 115,-228\"/>\n",
       "<text text-anchor=\"start\" x=\"81.5\" y=\"-212.4\" font-family=\"RobotoMono\" font-weight=\"bold\" font-size=\"12.00\" fill=\"#002b36\">X_test</text>\n",
       "<text text-anchor=\"start\" x=\"81\" y=\"-202\" font-family=\"RobotoMono\" font-size=\"10.00\" fill=\"#268bd2\">1 values</text>\n",
       "</g>\n",
       "<!-- X_test&#45;&gt;eval_model -->\n",
       "<g id=\"edge3\" class=\"edge\">\n",
       "<title>X_test&#45;&gt;eval_model</title>\n",
       "<path fill=\"none\" stroke=\"#002b36\" d=\"M115.6,-191.93C126.52,-180.27 141.68,-164.7 156,-152 160.39,-148.11 165.14,-144.16 169.89,-140.36\"/>\n",
       "<polygon fill=\"#002b36\" stroke=\"#002b36\" points=\"172.11,-143.07 177.82,-134.14 167.79,-137.56 172.11,-143.07\"/>\n",
       "<text text-anchor=\"middle\" x=\"178\" y=\"-166\" font-family=\"RobotoMono\" font-size=\"10.00\" fill=\"#002b36\">X_test</text>\n",
       "<text text-anchor=\"middle\" x=\"178\" y=\"-155\" font-family=\"RobotoMono\" font-size=\"10.00\" fill=\"#002b36\">(1 values)</text>\n",
       "</g>\n",
       "<!-- generate_dataset&#45;&gt;X_test -->\n",
       "<g id=\"edge5\" class=\"edge\">\n",
       "<title>generate_dataset&#45;&gt;X_test</title>\n",
       "<path fill=\"none\" stroke=\"#002b36\" d=\"M68.89,-285.98C74.66,-272.07 82.56,-253.03 88.96,-237.61\"/>\n",
       "<polygon fill=\"#002b36\" stroke=\"#002b36\" points=\"92.31,-238.68 92.91,-228.1 85.84,-235.99 92.31,-238.68\"/>\n",
       "<text text-anchor=\"middle\" x=\"108\" y=\"-260\" font-family=\"RobotoMono\" font-size=\"10.00\" fill=\"#002b36\">output_1</text>\n",
       "<text text-anchor=\"middle\" x=\"108\" y=\"-249\" font-family=\"RobotoMono\" font-size=\"10.00\" fill=\"#002b36\">(1 values)</text>\n",
       "</g>\n",
       "<!-- train_model&#45;&gt;model -->\n",
       "<g id=\"edge7\" class=\"edge\">\n",
       "<title>train_model&#45;&gt;model</title>\n",
       "<path fill=\"none\" stroke=\"#002b36\" d=\"M306.6,-285.98C306.31,-272.34 305.91,-253.75 305.59,-238.5\"/>\n",
       "<polygon fill=\"#002b36\" stroke=\"#002b36\" points=\"309.08,-238.02 305.36,-228.1 302.08,-238.17 309.08,-238.02\"/>\n",
       "<text text-anchor=\"middle\" x=\"328\" y=\"-260\" font-family=\"RobotoMono\" font-size=\"10.00\" fill=\"#002b36\">output_0</text>\n",
       "<text text-anchor=\"middle\" x=\"328\" y=\"-249\" font-family=\"RobotoMono\" font-size=\"10.00\" fill=\"#002b36\">(1 values)</text>\n",
       "</g>\n",
       "<!-- eval_model&#45;&gt;v -->\n",
       "<g id=\"edge1\" class=\"edge\">\n",
       "<title>eval_model&#45;&gt;v</title>\n",
       "<path fill=\"none\" stroke=\"#002b36\" d=\"M204,-93.98C204,-80.34 204,-61.75 204,-46.5\"/>\n",
       "<polygon fill=\"#002b36\" stroke=\"#002b36\" points=\"207.5,-46.1 204,-36.1 200.5,-46.1 207.5,-46.1\"/>\n",
       "<text text-anchor=\"middle\" x=\"226\" y=\"-68\" font-family=\"RobotoMono\" font-size=\"10.00\" fill=\"#002b36\">output_0</text>\n",
       "<text text-anchor=\"middle\" x=\"226\" y=\"-57\" font-family=\"RobotoMono\" font-size=\"10.00\" fill=\"#002b36\">(1 values)</text>\n",
       "</g>\n",
       "</g>\n",
       "</svg>\n"
      ],
      "text/plain": [
       "<graphviz.sources.Source at 0x7429afdfcb20>"
      ]
     },
     "metadata": {},
     "output_type": "display_data"
    }
   ],
   "source": [
    "cf = cf.expand_back('model')\n",
    "cf.draw(verbose=True)"
   ]
  },
  {
   "cell_type": "code",
   "execution_count": 16,
   "metadata": {
    "execution": {
     "iopub.execute_input": "2024-07-02T20:34:01.319453Z",
     "iopub.status.busy": "2024-07-02T20:34:01.319108Z",
     "iopub.status.idle": "2024-07-02T20:34:01.427847Z",
     "shell.execute_reply": "2024-07-02T20:34:01.427200Z"
    }
   },
   "outputs": [
    {
     "data": {
      "image/svg+xml": [
       "<?xml version=\"1.0\" encoding=\"UTF-8\" standalone=\"no\"?>\n",
       "<!DOCTYPE svg PUBLIC \"-//W3C//DTD SVG 1.1//EN\"\n",
       " \"http://www.w3.org/Graphics/SVG/1.1/DTD/svg11.dtd\">\n",
       "<!-- Generated by graphviz version 2.50.0 (0)\n",
       " -->\n",
       "<!-- Title: G Pages: 1 -->\n",
       "<svg width=\"413pt\" height=\"634pt\"\n",
       " viewBox=\"0.00 0.00 413.00 634.00\" xmlns=\"http://www.w3.org/2000/svg\" xmlns:xlink=\"http://www.w3.org/1999/xlink\">\n",
       "<g id=\"graph0\" class=\"graph\" transform=\"scale(1 1) rotate(0) translate(4 630)\">\n",
       "<title>G</title>\n",
       "<polygon fill=\"white\" stroke=\"transparent\" points=\"-4,4 -4,-630 409,-630 409,4 -4,4\"/>\n",
       "<!-- X_train -->\n",
       "<g id=\"node1\" class=\"node\">\n",
       "<title>X_train</title>\n",
       "<path fill=\"none\" stroke=\"#268bd2\" d=\"M393,-434C393,-434 357,-434 357,-434 351,-434 345,-428 345,-422 345,-422 345,-410 345,-410 345,-404 351,-398 357,-398 357,-398 393,-398 393,-398 399,-398 405,-404 405,-410 405,-410 405,-422 405,-422 405,-428 399,-434 393,-434\"/>\n",
       "<text text-anchor=\"start\" x=\"353\" y=\"-418.4\" font-family=\"RobotoMono\" font-weight=\"bold\" font-size=\"12.00\" fill=\"#002b36\">X_train</text>\n",
       "<text text-anchor=\"start\" x=\"356\" y=\"-408\" font-family=\"RobotoMono\" font-size=\"10.00\" fill=\"#268bd2\">1 values</text>\n",
       "</g>\n",
       "<!-- train_model -->\n",
       "<g id=\"node10\" class=\"node\">\n",
       "<title>train_model</title>\n",
       "<path fill=\"none\" stroke=\"#dc322f\" d=\"M269.5,-326C269.5,-326 198.5,-326 198.5,-326 192.5,-326 186.5,-320 186.5,-314 186.5,-314 186.5,-298 186.5,-298 186.5,-292 192.5,-286 198.5,-286 198.5,-286 269.5,-286 269.5,-286 275.5,-286 281.5,-292 281.5,-298 281.5,-298 281.5,-314 281.5,-314 281.5,-320 275.5,-326 269.5,-326\"/>\n",
       "<text text-anchor=\"start\" x=\"197.5\" y=\"-313.4\" font-family=\"RobotoMono\" font-weight=\"bold\" font-size=\"12.00\" fill=\"#002b36\">train_model</text>\n",
       "<text text-anchor=\"start\" x=\"194.5\" y=\"-303\" font-family=\"RobotoMono\" font-size=\"10.00\" fill=\"#002b36\">@op:train_model</text>\n",
       "<text text-anchor=\"start\" x=\"220\" y=\"-293\" font-family=\"RobotoMono\" font-size=\"10.00\" fill=\"#dc322f\">1 calls</text>\n",
       "</g>\n",
       "<!-- X_train&#45;&gt;train_model -->\n",
       "<g id=\"edge9\" class=\"edge\">\n",
       "<title>X_train&#45;&gt;train_model</title>\n",
       "<path fill=\"none\" stroke=\"#002b36\" d=\"M366.4,-397.99C357.64,-382.13 342.69,-358.78 324,-344 314.17,-336.23 302.48,-329.85 290.84,-324.72\"/>\n",
       "<polygon fill=\"#002b36\" stroke=\"#002b36\" points=\"292.12,-321.46 281.54,-320.87 289.44,-327.93 292.12,-321.46\"/>\n",
       "<text text-anchor=\"middle\" x=\"377\" y=\"-365\" font-family=\"RobotoMono\" font-size=\"10.00\" fill=\"#002b36\">X_train</text>\n",
       "<text text-anchor=\"middle\" x=\"377\" y=\"-354\" font-family=\"RobotoMono\" font-size=\"10.00\" fill=\"#002b36\">(1 values)</text>\n",
       "</g>\n",
       "<!-- y_train -->\n",
       "<g id=\"node2\" class=\"node\">\n",
       "<title>y_train</title>\n",
       "<path fill=\"none\" stroke=\"#268bd2\" d=\"M191,-434C191,-434 109,-434 109,-434 103,-434 97,-428 97,-422 97,-422 97,-410 97,-410 97,-404 103,-398 109,-398 109,-398 191,-398 191,-398 197,-398 203,-404 203,-410 203,-410 203,-422 203,-422 203,-428 197,-434 191,-434\"/>\n",
       "<text text-anchor=\"start\" x=\"128.5\" y=\"-418.4\" font-family=\"RobotoMono\" font-weight=\"bold\" font-size=\"12.00\" fill=\"#002b36\">y_train</text>\n",
       "<text text-anchor=\"start\" x=\"105\" y=\"-408\" font-family=\"RobotoMono\" font-size=\"10.00\" fill=\"#268bd2\">1 values (1 sources)</text>\n",
       "</g>\n",
       "<!-- y_train&#45;&gt;train_model -->\n",
       "<g id=\"edge11\" class=\"edge\">\n",
       "<title>y_train&#45;&gt;train_model</title>\n",
       "<path fill=\"none\" stroke=\"#002b36\" d=\"M161.12,-397.91C170.89,-383.24 185.71,-361.72 200,-344 202.71,-340.64 205.64,-337.19 208.61,-333.82\"/>\n",
       "<polygon fill=\"#002b36\" stroke=\"#002b36\" points=\"211.42,-335.94 215.51,-326.17 206.22,-331.25 211.42,-335.94\"/>\n",
       "<text text-anchor=\"middle\" x=\"222\" y=\"-365\" font-family=\"RobotoMono\" font-size=\"10.00\" fill=\"#002b36\">y_train</text>\n",
       "<text text-anchor=\"middle\" x=\"222\" y=\"-354\" font-family=\"RobotoMono\" font-size=\"10.00\" fill=\"#002b36\">(1 values)</text>\n",
       "</g>\n",
       "<!-- y_test -->\n",
       "<g id=\"node3\" class=\"node\">\n",
       "<title>y_test</title>\n",
       "<path fill=\"none\" stroke=\"#268bd2\" d=\"M94,-228C94,-228 12,-228 12,-228 6,-228 0,-222 0,-216 0,-216 0,-204 0,-204 0,-198 6,-192 12,-192 12,-192 94,-192 94,-192 100,-192 106,-198 106,-204 106,-204 106,-216 106,-216 106,-222 100,-228 94,-228\"/>\n",
       "<text text-anchor=\"start\" x=\"35\" y=\"-212.4\" font-family=\"RobotoMono\" font-weight=\"bold\" font-size=\"12.00\" fill=\"#002b36\">y_test</text>\n",
       "<text text-anchor=\"start\" x=\"8\" y=\"-202\" font-family=\"RobotoMono\" font-size=\"10.00\" fill=\"#268bd2\">1 values (1 sources)</text>\n",
       "</g>\n",
       "<!-- eval_model -->\n",
       "<g id=\"node11\" class=\"node\">\n",
       "<title>eval_model</title>\n",
       "<path fill=\"none\" stroke=\"#dc322f\" d=\"M168,-134C168,-134 100,-134 100,-134 94,-134 88,-128 88,-122 88,-122 88,-106 88,-106 88,-100 94,-94 100,-94 100,-94 168,-94 168,-94 174,-94 180,-100 180,-106 180,-106 180,-122 180,-122 180,-128 174,-134 168,-134\"/>\n",
       "<text text-anchor=\"start\" x=\"100\" y=\"-121.4\" font-family=\"RobotoMono\" font-weight=\"bold\" font-size=\"12.00\" fill=\"#002b36\">eval_model</text>\n",
       "<text text-anchor=\"start\" x=\"96\" y=\"-111\" font-family=\"RobotoMono\" font-size=\"10.00\" fill=\"#002b36\">@op:eval_model</text>\n",
       "<text text-anchor=\"start\" x=\"120\" y=\"-101\" font-family=\"RobotoMono\" font-size=\"10.00\" fill=\"#dc322f\">1 calls</text>\n",
       "</g>\n",
       "<!-- y_test&#45;&gt;eval_model -->\n",
       "<g id=\"edge2\" class=\"edge\">\n",
       "<title>y_test&#45;&gt;eval_model</title>\n",
       "<path fill=\"none\" stroke=\"#002b36\" d=\"M56.93,-191.83C60.38,-179.69 66.38,-163.57 76,-152 79.58,-147.69 83.79,-143.72 88.28,-140.11\"/>\n",
       "<polygon fill=\"#002b36\" stroke=\"#002b36\" points=\"90.62,-142.74 96.6,-134 86.47,-137.1 90.62,-142.74\"/>\n",
       "<text text-anchor=\"middle\" x=\"98\" y=\"-166\" font-family=\"RobotoMono\" font-size=\"10.00\" fill=\"#002b36\">y_test</text>\n",
       "<text text-anchor=\"middle\" x=\"98\" y=\"-155\" font-family=\"RobotoMono\" font-size=\"10.00\" fill=\"#002b36\">(1 values)</text>\n",
       "</g>\n",
       "<!-- random_seed -->\n",
       "<g id=\"node4\" class=\"node\">\n",
       "<title>random_seed</title>\n",
       "<path fill=\"none\" stroke=\"#268bd2\" d=\"M143,-626C143,-626 61,-626 61,-626 55,-626 49,-620 49,-614 49,-614 49,-602 49,-602 49,-596 55,-590 61,-590 61,-590 143,-590 143,-590 149,-590 155,-596 155,-602 155,-602 155,-614 155,-614 155,-620 149,-626 143,-626\"/>\n",
       "<text text-anchor=\"start\" x=\"61.5\" y=\"-610.4\" font-family=\"RobotoMono\" font-weight=\"bold\" font-size=\"12.00\" fill=\"#002b36\">random_seed</text>\n",
       "<text text-anchor=\"start\" x=\"57\" y=\"-600\" font-family=\"RobotoMono\" font-size=\"10.00\" fill=\"#268bd2\">1 values (1 sources)</text>\n",
       "</g>\n",
       "<!-- generate_dataset -->\n",
       "<g id=\"node9\" class=\"node\">\n",
       "<title>generate_dataset</title>\n",
       "<path fill=\"none\" stroke=\"#dc322f\" d=\"M151,-532C151,-532 53,-532 53,-532 47,-532 41,-526 41,-520 41,-520 41,-504 41,-504 41,-498 47,-492 53,-492 53,-492 151,-492 151,-492 157,-492 163,-498 163,-504 163,-504 163,-520 163,-520 163,-526 157,-532 151,-532\"/>\n",
       "<text text-anchor=\"start\" x=\"49\" y=\"-519.4\" font-family=\"RobotoMono\" font-weight=\"bold\" font-size=\"12.00\" fill=\"#002b36\">generate_dataset</text>\n",
       "<text text-anchor=\"start\" x=\"49\" y=\"-509\" font-family=\"RobotoMono\" font-size=\"10.00\" fill=\"#002b36\">@op:generate_dataset</text>\n",
       "<text text-anchor=\"start\" x=\"88\" y=\"-499\" font-family=\"RobotoMono\" font-size=\"10.00\" fill=\"#dc322f\">1 calls</text>\n",
       "</g>\n",
       "<!-- random_seed&#45;&gt;generate_dataset -->\n",
       "<g id=\"edge7\" class=\"edge\">\n",
       "<title>random_seed&#45;&gt;generate_dataset</title>\n",
       "<path fill=\"none\" stroke=\"#002b36\" d=\"M102,-589.76C102,-576.5 102,-557.86 102,-542.27\"/>\n",
       "<polygon fill=\"#002b36\" stroke=\"#002b36\" points=\"105.5,-542.07 102,-532.07 98.5,-542.07 105.5,-542.07\"/>\n",
       "<text text-anchor=\"middle\" x=\"134\" y=\"-564\" font-family=\"RobotoMono\" font-size=\"10.00\" fill=\"#002b36\">random_seed</text>\n",
       "<text text-anchor=\"middle\" x=\"134\" y=\"-553\" font-family=\"RobotoMono\" font-size=\"10.00\" fill=\"#002b36\">(1 values)</text>\n",
       "</g>\n",
       "<!-- v -->\n",
       "<g id=\"node5\" class=\"node\">\n",
       "<title>v</title>\n",
       "<path fill=\"none\" stroke=\"#268bd2\" d=\"M168.5,-36C168.5,-36 99.5,-36 99.5,-36 93.5,-36 87.5,-30 87.5,-24 87.5,-24 87.5,-12 87.5,-12 87.5,-6 93.5,0 99.5,0 99.5,0 168.5,0 168.5,0 174.5,0 180.5,-6 180.5,-12 180.5,-12 180.5,-24 180.5,-24 180.5,-30 174.5,-36 168.5,-36\"/>\n",
       "<text text-anchor=\"start\" x=\"130.5\" y=\"-20.4\" font-family=\"RobotoMono\" font-weight=\"bold\" font-size=\"12.00\" fill=\"#002b36\">v</text>\n",
       "<text text-anchor=\"start\" x=\"95.5\" y=\"-10\" font-family=\"RobotoMono\" font-size=\"10.00\" fill=\"#268bd2\">1 values (1 sinks)</text>\n",
       "</g>\n",
       "<!-- model -->\n",
       "<g id=\"node6\" class=\"node\">\n",
       "<title>model</title>\n",
       "<path fill=\"none\" stroke=\"#268bd2\" d=\"M212,-228C212,-228 182,-228 182,-228 176,-228 170,-222 170,-216 170,-216 170,-204 170,-204 170,-198 176,-192 182,-192 182,-192 212,-192 212,-192 218,-192 224,-198 224,-204 224,-204 224,-216 224,-216 224,-222 218,-228 212,-228\"/>\n",
       "<text text-anchor=\"start\" x=\"178\" y=\"-212.4\" font-family=\"RobotoMono\" font-weight=\"bold\" font-size=\"12.00\" fill=\"#002b36\">model</text>\n",
       "<text text-anchor=\"start\" x=\"178\" y=\"-202\" font-family=\"RobotoMono\" font-size=\"10.00\" fill=\"#268bd2\">1 values</text>\n",
       "</g>\n",
       "<!-- model&#45;&gt;eval_model -->\n",
       "<g id=\"edge4\" class=\"edge\">\n",
       "<title>model&#45;&gt;eval_model</title>\n",
       "<path fill=\"none\" stroke=\"#002b36\" d=\"M185.44,-191.76C176.21,-177.99 163.1,-158.42 152.42,-142.49\"/>\n",
       "<polygon fill=\"#002b36\" stroke=\"#002b36\" points=\"155.26,-140.43 146.78,-134.07 149.44,-144.33 155.26,-140.43\"/>\n",
       "<text text-anchor=\"middle\" x=\"195\" y=\"-166\" font-family=\"RobotoMono\" font-size=\"10.00\" fill=\"#002b36\">model</text>\n",
       "<text text-anchor=\"middle\" x=\"195\" y=\"-155\" font-family=\"RobotoMono\" font-size=\"10.00\" fill=\"#002b36\">(1 values)</text>\n",
       "</g>\n",
       "<!-- n_estimators -->\n",
       "<g id=\"node7\" class=\"node\">\n",
       "<title>n_estimators</title>\n",
       "<path fill=\"none\" stroke=\"#268bd2\" d=\"M315,-434C315,-434 233,-434 233,-434 227,-434 221,-428 221,-422 221,-422 221,-410 221,-410 221,-404 227,-398 233,-398 233,-398 315,-398 315,-398 321,-398 327,-404 327,-410 327,-410 327,-422 327,-422 327,-428 321,-434 315,-434\"/>\n",
       "<text text-anchor=\"start\" x=\"234.5\" y=\"-418.4\" font-family=\"RobotoMono\" font-weight=\"bold\" font-size=\"12.00\" fill=\"#002b36\">n_estimators</text>\n",
       "<text text-anchor=\"start\" x=\"229\" y=\"-408\" font-family=\"RobotoMono\" font-size=\"10.00\" fill=\"#268bd2\">1 values (1 sources)</text>\n",
       "</g>\n",
       "<!-- n_estimators&#45;&gt;train_model -->\n",
       "<g id=\"edge10\" class=\"edge\">\n",
       "<title>n_estimators&#45;&gt;train_model</title>\n",
       "<path fill=\"none\" stroke=\"#002b36\" d=\"M267.57,-397.65C261.38,-380.92 251.89,-355.3 244.58,-335.56\"/>\n",
       "<polygon fill=\"#002b36\" stroke=\"#002b36\" points=\"247.84,-334.29 241.08,-326.13 241.28,-336.72 247.84,-334.29\"/>\n",
       "<text text-anchor=\"middle\" x=\"289.5\" y=\"-365\" font-family=\"RobotoMono\" font-size=\"10.00\" fill=\"#002b36\">n_estimators</text>\n",
       "<text text-anchor=\"middle\" x=\"289.5\" y=\"-354\" font-family=\"RobotoMono\" font-size=\"10.00\" fill=\"#002b36\">(1 values)</text>\n",
       "</g>\n",
       "<!-- X_test -->\n",
       "<g id=\"node8\" class=\"node\">\n",
       "<title>X_test</title>\n",
       "<path fill=\"none\" stroke=\"#268bd2\" d=\"M100,-380C100,-380 70,-380 70,-380 64,-380 58,-374 58,-368 58,-368 58,-356 58,-356 58,-350 64,-344 70,-344 70,-344 100,-344 100,-344 106,-344 112,-350 112,-356 112,-356 112,-368 112,-368 112,-374 106,-380 100,-380\"/>\n",
       "<text text-anchor=\"start\" x=\"66.5\" y=\"-364.4\" font-family=\"RobotoMono\" font-weight=\"bold\" font-size=\"12.00\" fill=\"#002b36\">X_test</text>\n",
       "<text text-anchor=\"start\" x=\"66\" y=\"-354\" font-family=\"RobotoMono\" font-size=\"10.00\" fill=\"#268bd2\">1 values</text>\n",
       "</g>\n",
       "<!-- X_test&#45;&gt;eval_model -->\n",
       "<g id=\"edge3\" class=\"edge\">\n",
       "<title>X_test&#45;&gt;eval_model</title>\n",
       "<path fill=\"none\" stroke=\"#002b36\" d=\"M89.19,-343.85C95.29,-318.58 106.78,-269.81 115,-228 120.57,-199.69 125.93,-167.19 129.52,-144.33\"/>\n",
       "<polygon fill=\"#002b36\" stroke=\"#002b36\" points=\"133.01,-144.67 131.09,-134.25 126.1,-143.59 133.01,-144.67\"/>\n",
       "<text text-anchor=\"middle\" x=\"134\" y=\"-260\" font-family=\"RobotoMono\" font-size=\"10.00\" fill=\"#002b36\">X_test</text>\n",
       "<text text-anchor=\"middle\" x=\"134\" y=\"-249\" font-family=\"RobotoMono\" font-size=\"10.00\" fill=\"#002b36\">(1 values)</text>\n",
       "</g>\n",
       "<!-- generate_dataset&#45;&gt;X_train -->\n",
       "<g id=\"edge6\" class=\"edge\">\n",
       "<title>generate_dataset&#45;&gt;X_train</title>\n",
       "<path fill=\"none\" stroke=\"#002b36\" d=\"M163.15,-492.59C208.46,-478.56 271.79,-458.13 335.48,-434.04\"/>\n",
       "<polygon fill=\"#002b36\" stroke=\"#002b36\" points=\"336.78,-437.29 344.88,-430.46 334.29,-430.75 336.78,-437.29\"/>\n",
       "<text text-anchor=\"middle\" x=\"307\" y=\"-466\" font-family=\"RobotoMono\" font-size=\"10.00\" fill=\"#002b36\">output_0</text>\n",
       "<text text-anchor=\"middle\" x=\"307\" y=\"-455\" font-family=\"RobotoMono\" font-size=\"10.00\" fill=\"#002b36\">(1 values)</text>\n",
       "</g>\n",
       "<!-- generate_dataset&#45;&gt;X_test -->\n",
       "<g id=\"edge5\" class=\"edge\">\n",
       "<title>generate_dataset&#45;&gt;X_test</title>\n",
       "<path fill=\"none\" stroke=\"#002b36\" d=\"M97.75,-491.81C94.5,-476.29 90.21,-453.85 88,-434 86.41,-419.73 85.64,-403.75 85.28,-390.58\"/>\n",
       "<polygon fill=\"#002b36\" stroke=\"#002b36\" points=\"88.78,-390.19 85.07,-380.27 81.78,-390.34 88.78,-390.19\"/>\n",
       "<text text-anchor=\"middle\" x=\"117\" y=\"-466\" font-family=\"RobotoMono\" font-size=\"10.00\" fill=\"#002b36\">output_1</text>\n",
       "<text text-anchor=\"middle\" x=\"117\" y=\"-455\" font-family=\"RobotoMono\" font-size=\"10.00\" fill=\"#002b36\">(1 values)</text>\n",
       "</g>\n",
       "<!-- train_model&#45;&gt;model -->\n",
       "<g id=\"edge8\" class=\"edge\">\n",
       "<title>train_model&#45;&gt;model</title>\n",
       "<path fill=\"none\" stroke=\"#002b36\" d=\"M226.51,-285.98C221.04,-272.07 213.54,-253.03 207.48,-237.61\"/>\n",
       "<polygon fill=\"#002b36\" stroke=\"#002b36\" points=\"210.65,-236.12 203.73,-228.1 204.14,-238.68 210.65,-236.12\"/>\n",
       "<text text-anchor=\"middle\" x=\"241\" y=\"-260\" font-family=\"RobotoMono\" font-size=\"10.00\" fill=\"#002b36\">output_0</text>\n",
       "<text text-anchor=\"middle\" x=\"241\" y=\"-249\" font-family=\"RobotoMono\" font-size=\"10.00\" fill=\"#002b36\">(1 values)</text>\n",
       "</g>\n",
       "<!-- eval_model&#45;&gt;v -->\n",
       "<g id=\"edge1\" class=\"edge\">\n",
       "<title>eval_model&#45;&gt;v</title>\n",
       "<path fill=\"none\" stroke=\"#002b36\" d=\"M134,-93.98C134,-80.34 134,-61.75 134,-46.5\"/>\n",
       "<polygon fill=\"#002b36\" stroke=\"#002b36\" points=\"137.5,-46.1 134,-36.1 130.5,-46.1 137.5,-46.1\"/>\n",
       "<text text-anchor=\"middle\" x=\"156\" y=\"-68\" font-family=\"RobotoMono\" font-size=\"10.00\" fill=\"#002b36\">output_0</text>\n",
       "<text text-anchor=\"middle\" x=\"156\" y=\"-57\" font-family=\"RobotoMono\" font-size=\"10.00\" fill=\"#002b36\">(1 values)</text>\n",
       "</g>\n",
       "</g>\n",
       "</svg>\n"
      ],
      "text/plain": [
       "<graphviz.sources.Source at 0x7429afdfca00>"
      ]
     },
     "metadata": {},
     "output_type": "display_data"
    }
   ],
   "source": [
    "cf = cf.expand_back('X_train')\n",
    "cf.draw(verbose=True)"
   ]
  },
  {
   "cell_type": "markdown",
   "metadata": {},
   "source": [
    "When we expand `X_train` at the end, the expansion algorithm detects that the\n",
    "`generate_dataset` node should be reused instead of creating a new node."
   ]
  },
  {
   "cell_type": "markdown",
   "metadata": {},
   "source": [
    "### Full expansion with `expand_all`\n",
    "The easiest way to add all the calls that can be reached from a CF by calling\n",
    "`expand_back` or `expand_forward` is using `expand_all`"
   ]
  },
  {
   "cell_type": "code",
   "execution_count": 17,
   "metadata": {
    "execution": {
     "iopub.execute_input": "2024-07-02T20:34:01.431239Z",
     "iopub.status.busy": "2024-07-02T20:34:01.430741Z",
     "iopub.status.idle": "2024-07-02T20:34:01.599234Z",
     "shell.execute_reply": "2024-07-02T20:34:01.598349Z"
    }
   },
   "outputs": [
    {
     "data": {
      "image/svg+xml": [
       "<?xml version=\"1.0\" encoding=\"UTF-8\" standalone=\"no\"?>\n",
       "<!DOCTYPE svg PUBLIC \"-//W3C//DTD SVG 1.1//EN\"\n",
       " \"http://www.w3.org/Graphics/SVG/1.1/DTD/svg11.dtd\">\n",
       "<!-- Generated by graphviz version 2.50.0 (0)\n",
       " -->\n",
       "<!-- Title: G Pages: 1 -->\n",
       "<svg width=\"270pt\" height=\"620pt\"\n",
       " viewBox=\"0.00 0.00 270.00 620.00\" xmlns=\"http://www.w3.org/2000/svg\" xmlns:xlink=\"http://www.w3.org/1999/xlink\">\n",
       "<g id=\"graph0\" class=\"graph\" transform=\"scale(1 1) rotate(0) translate(4 616)\">\n",
       "<title>G</title>\n",
       "<polygon fill=\"white\" stroke=\"transparent\" points=\"-4,4 -4,-616 266,-616 266,4 -4,4\"/>\n",
       "<!-- X_train -->\n",
       "<g id=\"node1\" class=\"node\">\n",
       "<title>X_train</title>\n",
       "<path fill=\"none\" stroke=\"#268bd2\" d=\"M48,-420C48,-420 12,-420 12,-420 6,-420 0,-414 0,-408 0,-408 0,-396 0,-396 0,-390 6,-384 12,-384 12,-384 48,-384 48,-384 54,-384 60,-390 60,-396 60,-396 60,-408 60,-408 60,-414 54,-420 48,-420\"/>\n",
       "<text text-anchor=\"start\" x=\"8\" y=\"-404.4\" font-family=\"RobotoMono\" font-weight=\"bold\" font-size=\"12.00\" fill=\"#002b36\">X_train</text>\n",
       "<text text-anchor=\"start\" x=\"11\" y=\"-394\" font-family=\"RobotoMono\" font-size=\"10.00\" fill=\"#268bd2\">1 values</text>\n",
       "</g>\n",
       "<!-- train_model -->\n",
       "<g id=\"node10\" class=\"node\">\n",
       "<title>train_model</title>\n",
       "<path fill=\"none\" stroke=\"#dc322f\" d=\"M143.5,-326C143.5,-326 72.5,-326 72.5,-326 66.5,-326 60.5,-320 60.5,-314 60.5,-314 60.5,-298 60.5,-298 60.5,-292 66.5,-286 72.5,-286 72.5,-286 143.5,-286 143.5,-286 149.5,-286 155.5,-292 155.5,-298 155.5,-298 155.5,-314 155.5,-314 155.5,-320 149.5,-326 143.5,-326\"/>\n",
       "<text text-anchor=\"start\" x=\"71.5\" y=\"-313.4\" font-family=\"RobotoMono\" font-weight=\"bold\" font-size=\"12.00\" fill=\"#002b36\">train_model</text>\n",
       "<text text-anchor=\"start\" x=\"68.5\" y=\"-303\" font-family=\"RobotoMono\" font-size=\"10.00\" fill=\"#002b36\">@op:train_model</text>\n",
       "<text text-anchor=\"start\" x=\"94\" y=\"-293\" font-family=\"RobotoMono\" font-size=\"10.00\" fill=\"#dc322f\">4 calls</text>\n",
       "</g>\n",
       "<!-- X_train&#45;&gt;train_model -->\n",
       "<g id=\"edge3\" class=\"edge\">\n",
       "<title>X_train&#45;&gt;train_model</title>\n",
       "<path fill=\"none\" stroke=\"#002b36\" d=\"M36.69,-383.88C41.9,-371.91 49.92,-355.98 60,-344 63.34,-340.03 67.18,-336.21 71.2,-332.63\"/>\n",
       "<polygon fill=\"#002b36\" stroke=\"#002b36\" points=\"73.62,-335.18 79.07,-326.09 69.14,-329.79 73.62,-335.18\"/>\n",
       "<text text-anchor=\"middle\" x=\"82\" y=\"-358\" font-family=\"RobotoMono\" font-size=\"10.00\" fill=\"#002b36\">X_train</text>\n",
       "<text text-anchor=\"middle\" x=\"82\" y=\"-347\" font-family=\"RobotoMono\" font-size=\"10.00\" fill=\"#002b36\">(1 values)</text>\n",
       "</g>\n",
       "<!-- output_0_0 -->\n",
       "<g id=\"node2\" class=\"node\">\n",
       "<title>output_0_0</title>\n",
       "<path fill=\"none\" stroke=\"#268bd2\" d=\"M87.5,-36C87.5,-36 18.5,-36 18.5,-36 12.5,-36 6.5,-30 6.5,-24 6.5,-24 6.5,-12 6.5,-12 6.5,-6 12.5,0 18.5,0 18.5,0 87.5,0 87.5,0 93.5,0 99.5,-6 99.5,-12 99.5,-12 99.5,-24 99.5,-24 99.5,-30 93.5,-36 87.5,-36\"/>\n",
       "<text text-anchor=\"start\" x=\"19.5\" y=\"-20.4\" font-family=\"RobotoMono\" font-weight=\"bold\" font-size=\"12.00\" fill=\"#002b36\">output_0_0</text>\n",
       "<text text-anchor=\"start\" x=\"14.5\" y=\"-10\" font-family=\"RobotoMono\" font-size=\"10.00\" fill=\"#268bd2\">2 values (2 sinks)</text>\n",
       "</g>\n",
       "<!-- y_train -->\n",
       "<g id=\"node3\" class=\"node\">\n",
       "<title>y_train</title>\n",
       "<path fill=\"none\" stroke=\"#268bd2\" d=\"M125.5,-420C125.5,-420 90.5,-420 90.5,-420 84.5,-420 78.5,-414 78.5,-408 78.5,-408 78.5,-396 78.5,-396 78.5,-390 84.5,-384 90.5,-384 90.5,-384 125.5,-384 125.5,-384 131.5,-384 137.5,-390 137.5,-396 137.5,-396 137.5,-408 137.5,-408 137.5,-414 131.5,-420 125.5,-420\"/>\n",
       "<text text-anchor=\"start\" x=\"86.5\" y=\"-404.4\" font-family=\"RobotoMono\" font-weight=\"bold\" font-size=\"12.00\" fill=\"#002b36\">y_train</text>\n",
       "<text text-anchor=\"start\" x=\"89\" y=\"-394\" font-family=\"RobotoMono\" font-size=\"10.00\" fill=\"#268bd2\">1 values</text>\n",
       "</g>\n",
       "<!-- y_train&#45;&gt;train_model -->\n",
       "<g id=\"edge5\" class=\"edge\">\n",
       "<title>y_train&#45;&gt;train_model</title>\n",
       "<path fill=\"none\" stroke=\"#002b36\" d=\"M108,-383.76C108,-370.5 108,-351.86 108,-336.27\"/>\n",
       "<polygon fill=\"#002b36\" stroke=\"#002b36\" points=\"111.5,-336.07 108,-326.07 104.5,-336.07 111.5,-336.07\"/>\n",
       "<text text-anchor=\"middle\" x=\"130\" y=\"-358\" font-family=\"RobotoMono\" font-size=\"10.00\" fill=\"#002b36\">y_train</text>\n",
       "<text text-anchor=\"middle\" x=\"130\" y=\"-347\" font-family=\"RobotoMono\" font-size=\"10.00\" fill=\"#002b36\">(1 values)</text>\n",
       "</g>\n",
       "<!-- output_0 -->\n",
       "<g id=\"node4\" class=\"node\">\n",
       "<title>output_0</title>\n",
       "<path fill=\"none\" stroke=\"#268bd2\" d=\"M87.5,-228C87.5,-228 18.5,-228 18.5,-228 12.5,-228 6.5,-222 6.5,-216 6.5,-216 6.5,-204 6.5,-204 6.5,-198 12.5,-192 18.5,-192 18.5,-192 87.5,-192 87.5,-192 93.5,-192 99.5,-198 99.5,-204 99.5,-204 99.5,-216 99.5,-216 99.5,-222 93.5,-228 87.5,-228\"/>\n",
       "<text text-anchor=\"start\" x=\"25.5\" y=\"-212.4\" font-family=\"RobotoMono\" font-weight=\"bold\" font-size=\"12.00\" fill=\"#002b36\">output_0</text>\n",
       "<text text-anchor=\"start\" x=\"14.5\" y=\"-202\" font-family=\"RobotoMono\" font-size=\"10.00\" fill=\"#268bd2\">4 values (2 sinks)</text>\n",
       "</g>\n",
       "<!-- eval_model -->\n",
       "<g id=\"node9\" class=\"node\">\n",
       "<title>eval_model</title>\n",
       "<path fill=\"none\" stroke=\"#dc322f\" d=\"M87,-134C87,-134 19,-134 19,-134 13,-134 7,-128 7,-122 7,-122 7,-106 7,-106 7,-100 13,-94 19,-94 19,-94 87,-94 87,-94 93,-94 99,-100 99,-106 99,-106 99,-122 99,-122 99,-128 93,-134 87,-134\"/>\n",
       "<text text-anchor=\"start\" x=\"19\" y=\"-121.4\" font-family=\"RobotoMono\" font-weight=\"bold\" font-size=\"12.00\" fill=\"#002b36\">eval_model</text>\n",
       "<text text-anchor=\"start\" x=\"15\" y=\"-111\" font-family=\"RobotoMono\" font-size=\"10.00\" fill=\"#002b36\">@op:eval_model</text>\n",
       "<text text-anchor=\"start\" x=\"39\" y=\"-101\" font-family=\"RobotoMono\" font-size=\"10.00\" fill=\"#dc322f\">2 calls</text>\n",
       "</g>\n",
       "<!-- output_0&#45;&gt;eval_model -->\n",
       "<g id=\"edge6\" class=\"edge\">\n",
       "<title>output_0&#45;&gt;eval_model</title>\n",
       "<path fill=\"none\" stroke=\"#002b36\" d=\"M53,-191.76C53,-178.5 53,-159.86 53,-144.27\"/>\n",
       "<polygon fill=\"#002b36\" stroke=\"#002b36\" points=\"56.5,-144.07 53,-134.07 49.5,-144.07 56.5,-144.07\"/>\n",
       "<text text-anchor=\"middle\" x=\"75\" y=\"-166\" font-family=\"RobotoMono\" font-size=\"10.00\" fill=\"#002b36\">model</text>\n",
       "<text text-anchor=\"middle\" x=\"75\" y=\"-155\" font-family=\"RobotoMono\" font-size=\"10.00\" fill=\"#002b36\">(2 values)</text>\n",
       "</g>\n",
       "<!-- output_1 -->\n",
       "<g id=\"node5\" class=\"node\">\n",
       "<title>output_1</title>\n",
       "<path fill=\"none\" stroke=\"#268bd2\" d=\"M198.5,-228C198.5,-228 129.5,-228 129.5,-228 123.5,-228 117.5,-222 117.5,-216 117.5,-216 117.5,-204 117.5,-204 117.5,-198 123.5,-192 129.5,-192 129.5,-192 198.5,-192 198.5,-192 204.5,-192 210.5,-198 210.5,-204 210.5,-204 210.5,-216 210.5,-216 210.5,-222 204.5,-228 198.5,-228\"/>\n",
       "<text text-anchor=\"start\" x=\"136.5\" y=\"-212.4\" font-family=\"RobotoMono\" font-weight=\"bold\" font-size=\"12.00\" fill=\"#002b36\">output_1</text>\n",
       "<text text-anchor=\"start\" x=\"125.5\" y=\"-202\" font-family=\"RobotoMono\" font-size=\"10.00\" fill=\"#268bd2\">4 values (4 sinks)</text>\n",
       "</g>\n",
       "<!-- random_seed -->\n",
       "<g id=\"node6\" class=\"node\">\n",
       "<title>random_seed</title>\n",
       "<path fill=\"none\" stroke=\"#268bd2\" d=\"M109,-612C109,-612 27,-612 27,-612 21,-612 15,-606 15,-600 15,-600 15,-588 15,-588 15,-582 21,-576 27,-576 27,-576 109,-576 109,-576 115,-576 121,-582 121,-588 121,-588 121,-600 121,-600 121,-606 115,-612 109,-612\"/>\n",
       "<text text-anchor=\"start\" x=\"27.5\" y=\"-596.4\" font-family=\"RobotoMono\" font-weight=\"bold\" font-size=\"12.00\" fill=\"#002b36\">random_seed</text>\n",
       "<text text-anchor=\"start\" x=\"23\" y=\"-586\" font-family=\"RobotoMono\" font-size=\"10.00\" fill=\"#268bd2\">1 values (1 sources)</text>\n",
       "</g>\n",
       "<!-- generate_dataset -->\n",
       "<g id=\"node8\" class=\"node\">\n",
       "<title>generate_dataset</title>\n",
       "<path fill=\"none\" stroke=\"#dc322f\" d=\"M117,-518C117,-518 19,-518 19,-518 13,-518 7,-512 7,-506 7,-506 7,-490 7,-490 7,-484 13,-478 19,-478 19,-478 117,-478 117,-478 123,-478 129,-484 129,-490 129,-490 129,-506 129,-506 129,-512 123,-518 117,-518\"/>\n",
       "<text text-anchor=\"start\" x=\"15\" y=\"-505.4\" font-family=\"RobotoMono\" font-weight=\"bold\" font-size=\"12.00\" fill=\"#002b36\">generate_dataset</text>\n",
       "<text text-anchor=\"start\" x=\"15\" y=\"-495\" font-family=\"RobotoMono\" font-size=\"10.00\" fill=\"#002b36\">@op:generate_dataset</text>\n",
       "<text text-anchor=\"start\" x=\"54\" y=\"-485\" font-family=\"RobotoMono\" font-size=\"10.00\" fill=\"#dc322f\">1 calls</text>\n",
       "</g>\n",
       "<!-- random_seed&#45;&gt;generate_dataset -->\n",
       "<g id=\"edge9\" class=\"edge\">\n",
       "<title>random_seed&#45;&gt;generate_dataset</title>\n",
       "<path fill=\"none\" stroke=\"#002b36\" d=\"M68,-575.76C68,-562.5 68,-543.86 68,-528.27\"/>\n",
       "<polygon fill=\"#002b36\" stroke=\"#002b36\" points=\"71.5,-528.07 68,-518.07 64.5,-528.07 71.5,-528.07\"/>\n",
       "<text text-anchor=\"middle\" x=\"100\" y=\"-550\" font-family=\"RobotoMono\" font-size=\"10.00\" fill=\"#002b36\">random_seed</text>\n",
       "<text text-anchor=\"middle\" x=\"100\" y=\"-539\" font-family=\"RobotoMono\" font-size=\"10.00\" fill=\"#002b36\">(1 values)</text>\n",
       "</g>\n",
       "<!-- n_estimators -->\n",
       "<g id=\"node7\" class=\"node\">\n",
       "<title>n_estimators</title>\n",
       "<path fill=\"none\" stroke=\"#268bd2\" d=\"M250,-420C250,-420 168,-420 168,-420 162,-420 156,-414 156,-408 156,-408 156,-396 156,-396 156,-390 162,-384 168,-384 168,-384 250,-384 250,-384 256,-384 262,-390 262,-396 262,-396 262,-408 262,-408 262,-414 256,-420 250,-420\"/>\n",
       "<text text-anchor=\"start\" x=\"169.5\" y=\"-404.4\" font-family=\"RobotoMono\" font-weight=\"bold\" font-size=\"12.00\" fill=\"#002b36\">n_estimators</text>\n",
       "<text text-anchor=\"start\" x=\"164\" y=\"-394\" font-family=\"RobotoMono\" font-size=\"10.00\" fill=\"#268bd2\">4 values (4 sources)</text>\n",
       "</g>\n",
       "<!-- n_estimators&#45;&gt;train_model -->\n",
       "<g id=\"edge4\" class=\"edge\">\n",
       "<title>n_estimators&#45;&gt;train_model</title>\n",
       "<path fill=\"none\" stroke=\"#002b36\" d=\"M194.38,-383.84C184.1,-372.15 169.78,-356.56 156,-344 151.67,-340.05 146.94,-336.06 142.21,-332.25\"/>\n",
       "<polygon fill=\"#002b36\" stroke=\"#002b36\" points=\"144.32,-329.45 134.29,-326.02 139.99,-334.96 144.32,-329.45\"/>\n",
       "<text text-anchor=\"middle\" x=\"207.5\" y=\"-358\" font-family=\"RobotoMono\" font-size=\"10.00\" fill=\"#002b36\">n_estimators</text>\n",
       "<text text-anchor=\"middle\" x=\"207.5\" y=\"-347\" font-family=\"RobotoMono\" font-size=\"10.00\" fill=\"#002b36\">(4 values)</text>\n",
       "</g>\n",
       "<!-- generate_dataset&#45;&gt;X_train -->\n",
       "<g id=\"edge7\" class=\"edge\">\n",
       "<title>generate_dataset&#45;&gt;X_train</title>\n",
       "<path fill=\"none\" stroke=\"#002b36\" d=\"M50.02,-477.85C45.8,-472.43 41.74,-466.29 39,-460 34.95,-450.69 32.69,-439.82 31.45,-430.08\"/>\n",
       "<polygon fill=\"#002b36\" stroke=\"#002b36\" points=\"34.93,-429.69 30.46,-420.09 27.96,-430.38 34.93,-429.69\"/>\n",
       "<text text-anchor=\"middle\" x=\"61\" y=\"-452\" font-family=\"RobotoMono\" font-size=\"10.00\" fill=\"#002b36\">output_0</text>\n",
       "<text text-anchor=\"middle\" x=\"61\" y=\"-441\" font-family=\"RobotoMono\" font-size=\"10.00\" fill=\"#002b36\">(1 values)</text>\n",
       "</g>\n",
       "<!-- generate_dataset&#45;&gt;y_train -->\n",
       "<g id=\"edge8\" class=\"edge\">\n",
       "<title>generate_dataset&#45;&gt;y_train</title>\n",
       "<path fill=\"none\" stroke=\"#002b36\" d=\"M76.09,-477.98C82.01,-464.07 90.12,-445.03 96.68,-429.61\"/>\n",
       "<polygon fill=\"#002b36\" stroke=\"#002b36\" points=\"100.03,-430.67 100.72,-420.1 93.59,-427.93 100.03,-430.67\"/>\n",
       "<text text-anchor=\"middle\" x=\"114\" y=\"-452\" font-family=\"RobotoMono\" font-size=\"10.00\" fill=\"#002b36\">output_2</text>\n",
       "<text text-anchor=\"middle\" x=\"114\" y=\"-441\" font-family=\"RobotoMono\" font-size=\"10.00\" fill=\"#002b36\">(1 values)</text>\n",
       "</g>\n",
       "<!-- eval_model&#45;&gt;output_0_0 -->\n",
       "<g id=\"edge10\" class=\"edge\">\n",
       "<title>eval_model&#45;&gt;output_0_0</title>\n",
       "<path fill=\"none\" stroke=\"#002b36\" d=\"M53,-93.98C53,-80.34 53,-61.75 53,-46.5\"/>\n",
       "<polygon fill=\"#002b36\" stroke=\"#002b36\" points=\"56.5,-46.1 53,-36.1 49.5,-46.1 56.5,-46.1\"/>\n",
       "<text text-anchor=\"middle\" x=\"75\" y=\"-68\" font-family=\"RobotoMono\" font-size=\"10.00\" fill=\"#002b36\">output_0</text>\n",
       "<text text-anchor=\"middle\" x=\"75\" y=\"-57\" font-family=\"RobotoMono\" font-size=\"10.00\" fill=\"#002b36\">(2 values)</text>\n",
       "</g>\n",
       "<!-- train_model&#45;&gt;output_0 -->\n",
       "<g id=\"edge2\" class=\"edge\">\n",
       "<title>train_model&#45;&gt;output_0</title>\n",
       "<path fill=\"none\" stroke=\"#002b36\" d=\"M96.87,-285.98C88.58,-271.81 77.17,-252.3 68.06,-236.74\"/>\n",
       "<polygon fill=\"#002b36\" stroke=\"#002b36\" points=\"71.08,-234.96 63,-228.1 65.03,-238.5 71.08,-234.96\"/>\n",
       "<text text-anchor=\"middle\" x=\"107\" y=\"-260\" font-family=\"RobotoMono\" font-size=\"10.00\" fill=\"#002b36\">output_0</text>\n",
       "<text text-anchor=\"middle\" x=\"107\" y=\"-249\" font-family=\"RobotoMono\" font-size=\"10.00\" fill=\"#002b36\">(4 values)</text>\n",
       "</g>\n",
       "<!-- train_model&#45;&gt;output_1 -->\n",
       "<g id=\"edge1\" class=\"edge\">\n",
       "<title>train_model&#45;&gt;output_1</title>\n",
       "<path fill=\"none\" stroke=\"#002b36\" d=\"M121.59,-285.64C125.4,-280.02 129.46,-273.83 133,-268 139.03,-258.08 145.23,-246.91 150.48,-237.1\"/>\n",
       "<polygon fill=\"#002b36\" stroke=\"#002b36\" points=\"153.61,-238.68 155.2,-228.2 147.42,-235.4 153.61,-238.68\"/>\n",
       "<text text-anchor=\"middle\" x=\"167\" y=\"-260\" font-family=\"RobotoMono\" font-size=\"10.00\" fill=\"#002b36\">output_1</text>\n",
       "<text text-anchor=\"middle\" x=\"167\" y=\"-249\" font-family=\"RobotoMono\" font-size=\"10.00\" fill=\"#002b36\">(4 values)</text>\n",
       "</g>\n",
       "</g>\n",
       "</svg>\n"
      ],
      "text/plain": [
       "<graphviz.sources.Source at 0x7429afe35120>"
      ]
     },
     "metadata": {},
     "output_type": "display_data"
    }
   ],
   "source": [
    "cf = storage.cf(train_model).expand_all()\n",
    "cf.draw(verbose=True)"
   ]
  },
  {
   "cell_type": "markdown",
   "metadata": {},
   "source": [
    "This adds all the calls in the storage, because they're all reachable from some\n",
    "call to `train_model` by following inputs/outputs."
   ]
  },
  {
   "cell_type": "markdown",
   "metadata": {},
   "source": [
    "## Extracting `DataFrame`s from `ComputationFrame`s\n",
    "\n",
    "### `ComputationFrame`s as generalized dataframes\n",
    "You can think of `ComputationFrame`s as a generalization the familiar\n",
    "`pandas.DataFrame` class:\n",
    "\n",
    "- **instead of columns, you have a computational graph**: functions whose\n",
    "input/output edges connect to variables.\n",
    "- **instead of rows, you have computation traces**: variable values and function\n",
    "calls that (possibly partially) follow this graph\n",
    "\n",
    "Conversely, **a dataframe can be extracted from any computation frame** for\n",
    "easier later analysis:\n",
    "\n",
    "- the columns are the nodes in the graph (functions and variables)\n",
    "- each row is a computation trace, possibly padded with `NaN`s where no\n",
    "value/call is present."
   ]
  },
  {
   "cell_type": "markdown",
   "metadata": {},
   "source": [
    "### The `.df()` method\n",
    "All ways to turn a CF into a DF are dispatched through a CF's `.df()` method. We\n",
    "can apply this to the full storage CF we computed last:"
   ]
  },
  {
   "cell_type": "code",
   "execution_count": 18,
   "metadata": {
    "execution": {
     "iopub.execute_input": "2024-07-02T20:34:01.604289Z",
     "iopub.status.busy": "2024-07-02T20:34:01.603926Z",
     "iopub.status.idle": "2024-07-02T20:34:01.764717Z",
     "shell.execute_reply": "2024-07-02T20:34:01.764032Z"
    }
   },
   "outputs": [
    {
     "name": "stdout",
     "output_type": "stream",
     "text": [
      "Extracting tuples from the computation graph:\n",
      "    X_train@output_0, y_train@output_2 = generate_dataset(random_seed=random_seed)\n",
      "    output_0@output_0, output_1@output_1 = train_model(n_estimators=n_estimators, X_train=X_train, y_train=y_train)\n",
      "    output_0_0@output_0 = eval_model(model=output_0)\n",
      "|    |   n_estimators |   random_seed | generate_dataset                                   | train_model                                   | output_0                                             | eval_model                                   |   output_0_0 |   output_1 |\n",
      "|---:|---------------:|--------------:|:---------------------------------------------------|:----------------------------------------------|:-----------------------------------------------------|:---------------------------------------------|-------------:|-----------:|\n",
      "|  0 |             10 |            42 | Call(generate_dataset, cid='19a...', hid='c3f...') | Call(train_model, cid='c4f...', hid='5f7...') |                                                      |                                              |       nan    |       0.74 |\n",
      "|  1 |             80 |            42 | Call(generate_dataset, cid='19a...', hid='c3f...') | Call(train_model, cid='3be...', hid='e60...') | RandomForestClassifier(max_depth=2, n_estimators=80) | Call(eval_model, cid='137...', hid='d32...') |         0.82 |       0.83 |\n",
      "|  2 |             20 |            42 | Call(generate_dataset, cid='19a...', hid='c3f...') | Call(train_model, cid='204...', hid='c55...') |                                                      |                                              |       nan    |       0.8  |\n",
      "|  3 |             40 |            42 | Call(generate_dataset, cid='19a...', hid='c3f...') | Call(train_model, cid='5af...', hid='514...') | RandomForestClassifier(max_depth=2, n_estimators=40) | Call(eval_model, cid='38f...', hid='5d3...') |         0.81 |       0.82 |\n",
      "|  4 |             20 |            42 | Call(generate_dataset, cid='19a...', hid='c3f...') | Call(train_model, cid='204...', hid='c55...') | RandomForestClassifier(max_depth=2, n_estimators=20) |                                              |       nan    |     nan    |\n",
      "|  5 |             10 |            42 | Call(generate_dataset, cid='19a...', hid='c3f...') | Call(train_model, cid='c4f...', hid='5f7...') | RandomForestClassifier(max_depth=2, n_estimators=10) |                                              |       nan    |     nan    |\n"
     ]
    }
   ],
   "source": [
    "cf = storage.cf(train_model).expand_all()\n",
    "print(cf.df().drop(columns=['X_train', 'y_train']).to_markdown())"
   ]
  },
  {
   "cell_type": "markdown",
   "metadata": {},
   "source": [
    "Importantly, we see that some computations only partially follow the full\n",
    "computation graph, because we didn't call `eval_model` on all the `train_model`\n",
    "outputs."
   ]
  },
  {
   "cell_type": "markdown",
   "metadata": {},
   "source": [
    "## Visualizing and summarizing `ComputationFrame`s\n",
    "CFs are complex data structures, and benefit from several kinds of high-level\n",
    "summaries."
   ]
  },
  {
   "cell_type": "markdown",
   "metadata": {},
   "source": [
    "### The `.draw()` method\n",
    "We've used the `.draw()` method a bunch of times so far. Let's revisit the most\n",
    "recent CF:"
   ]
  },
  {
   "cell_type": "code",
   "execution_count": 19,
   "metadata": {
    "execution": {
     "iopub.execute_input": "2024-07-02T20:34:01.767207Z",
     "iopub.status.busy": "2024-07-02T20:34:01.766991Z",
     "iopub.status.idle": "2024-07-02T20:34:01.860119Z",
     "shell.execute_reply": "2024-07-02T20:34:01.859523Z"
    }
   },
   "outputs": [
    {
     "data": {
      "image/svg+xml": [
       "<?xml version=\"1.0\" encoding=\"UTF-8\" standalone=\"no\"?>\n",
       "<!DOCTYPE svg PUBLIC \"-//W3C//DTD SVG 1.1//EN\"\n",
       " \"http://www.w3.org/Graphics/SVG/1.1/DTD/svg11.dtd\">\n",
       "<!-- Generated by graphviz version 2.50.0 (0)\n",
       " -->\n",
       "<!-- Title: G Pages: 1 -->\n",
       "<svg width=\"270pt\" height=\"620pt\"\n",
       " viewBox=\"0.00 0.00 270.00 620.00\" xmlns=\"http://www.w3.org/2000/svg\" xmlns:xlink=\"http://www.w3.org/1999/xlink\">\n",
       "<g id=\"graph0\" class=\"graph\" transform=\"scale(1 1) rotate(0) translate(4 616)\">\n",
       "<title>G</title>\n",
       "<polygon fill=\"white\" stroke=\"transparent\" points=\"-4,4 -4,-616 266,-616 266,4 -4,4\"/>\n",
       "<!-- X_train -->\n",
       "<g id=\"node1\" class=\"node\">\n",
       "<title>X_train</title>\n",
       "<path fill=\"none\" stroke=\"#268bd2\" d=\"M48,-420C48,-420 12,-420 12,-420 6,-420 0,-414 0,-408 0,-408 0,-396 0,-396 0,-390 6,-384 12,-384 12,-384 48,-384 48,-384 54,-384 60,-390 60,-396 60,-396 60,-408 60,-408 60,-414 54,-420 48,-420\"/>\n",
       "<text text-anchor=\"start\" x=\"8\" y=\"-404.4\" font-family=\"RobotoMono\" font-weight=\"bold\" font-size=\"12.00\" fill=\"#002b36\">X_train</text>\n",
       "<text text-anchor=\"start\" x=\"11\" y=\"-394\" font-family=\"RobotoMono\" font-size=\"10.00\" fill=\"#268bd2\">1 values</text>\n",
       "</g>\n",
       "<!-- train_model -->\n",
       "<g id=\"node10\" class=\"node\">\n",
       "<title>train_model</title>\n",
       "<path fill=\"none\" stroke=\"#dc322f\" d=\"M143.5,-326C143.5,-326 72.5,-326 72.5,-326 66.5,-326 60.5,-320 60.5,-314 60.5,-314 60.5,-298 60.5,-298 60.5,-292 66.5,-286 72.5,-286 72.5,-286 143.5,-286 143.5,-286 149.5,-286 155.5,-292 155.5,-298 155.5,-298 155.5,-314 155.5,-314 155.5,-320 149.5,-326 143.5,-326\"/>\n",
       "<text text-anchor=\"start\" x=\"71.5\" y=\"-313.4\" font-family=\"RobotoMono\" font-weight=\"bold\" font-size=\"12.00\" fill=\"#002b36\">train_model</text>\n",
       "<text text-anchor=\"start\" x=\"68.5\" y=\"-303\" font-family=\"RobotoMono\" font-size=\"10.00\" fill=\"#002b36\">@op:train_model</text>\n",
       "<text text-anchor=\"start\" x=\"94\" y=\"-293\" font-family=\"RobotoMono\" font-size=\"10.00\" fill=\"#dc322f\">4 calls</text>\n",
       "</g>\n",
       "<!-- X_train&#45;&gt;train_model -->\n",
       "<g id=\"edge3\" class=\"edge\">\n",
       "<title>X_train&#45;&gt;train_model</title>\n",
       "<path fill=\"none\" stroke=\"#002b36\" d=\"M36.69,-383.88C41.9,-371.91 49.92,-355.98 60,-344 63.34,-340.03 67.18,-336.21 71.2,-332.63\"/>\n",
       "<polygon fill=\"#002b36\" stroke=\"#002b36\" points=\"73.62,-335.18 79.07,-326.09 69.14,-329.79 73.62,-335.18\"/>\n",
       "<text text-anchor=\"middle\" x=\"82\" y=\"-358\" font-family=\"RobotoMono\" font-size=\"10.00\" fill=\"#002b36\">X_train</text>\n",
       "<text text-anchor=\"middle\" x=\"82\" y=\"-347\" font-family=\"RobotoMono\" font-size=\"10.00\" fill=\"#002b36\">(1 values)</text>\n",
       "</g>\n",
       "<!-- output_0_0 -->\n",
       "<g id=\"node2\" class=\"node\">\n",
       "<title>output_0_0</title>\n",
       "<path fill=\"none\" stroke=\"#268bd2\" d=\"M87.5,-36C87.5,-36 18.5,-36 18.5,-36 12.5,-36 6.5,-30 6.5,-24 6.5,-24 6.5,-12 6.5,-12 6.5,-6 12.5,0 18.5,0 18.5,0 87.5,0 87.5,0 93.5,0 99.5,-6 99.5,-12 99.5,-12 99.5,-24 99.5,-24 99.5,-30 93.5,-36 87.5,-36\"/>\n",
       "<text text-anchor=\"start\" x=\"19.5\" y=\"-20.4\" font-family=\"RobotoMono\" font-weight=\"bold\" font-size=\"12.00\" fill=\"#002b36\">output_0_0</text>\n",
       "<text text-anchor=\"start\" x=\"14.5\" y=\"-10\" font-family=\"RobotoMono\" font-size=\"10.00\" fill=\"#268bd2\">2 values (2 sinks)</text>\n",
       "</g>\n",
       "<!-- y_train -->\n",
       "<g id=\"node3\" class=\"node\">\n",
       "<title>y_train</title>\n",
       "<path fill=\"none\" stroke=\"#268bd2\" d=\"M125.5,-420C125.5,-420 90.5,-420 90.5,-420 84.5,-420 78.5,-414 78.5,-408 78.5,-408 78.5,-396 78.5,-396 78.5,-390 84.5,-384 90.5,-384 90.5,-384 125.5,-384 125.5,-384 131.5,-384 137.5,-390 137.5,-396 137.5,-396 137.5,-408 137.5,-408 137.5,-414 131.5,-420 125.5,-420\"/>\n",
       "<text text-anchor=\"start\" x=\"86.5\" y=\"-404.4\" font-family=\"RobotoMono\" font-weight=\"bold\" font-size=\"12.00\" fill=\"#002b36\">y_train</text>\n",
       "<text text-anchor=\"start\" x=\"89\" y=\"-394\" font-family=\"RobotoMono\" font-size=\"10.00\" fill=\"#268bd2\">1 values</text>\n",
       "</g>\n",
       "<!-- y_train&#45;&gt;train_model -->\n",
       "<g id=\"edge5\" class=\"edge\">\n",
       "<title>y_train&#45;&gt;train_model</title>\n",
       "<path fill=\"none\" stroke=\"#002b36\" d=\"M108,-383.76C108,-370.5 108,-351.86 108,-336.27\"/>\n",
       "<polygon fill=\"#002b36\" stroke=\"#002b36\" points=\"111.5,-336.07 108,-326.07 104.5,-336.07 111.5,-336.07\"/>\n",
       "<text text-anchor=\"middle\" x=\"130\" y=\"-358\" font-family=\"RobotoMono\" font-size=\"10.00\" fill=\"#002b36\">y_train</text>\n",
       "<text text-anchor=\"middle\" x=\"130\" y=\"-347\" font-family=\"RobotoMono\" font-size=\"10.00\" fill=\"#002b36\">(1 values)</text>\n",
       "</g>\n",
       "<!-- output_0 -->\n",
       "<g id=\"node4\" class=\"node\">\n",
       "<title>output_0</title>\n",
       "<path fill=\"none\" stroke=\"#268bd2\" d=\"M87.5,-228C87.5,-228 18.5,-228 18.5,-228 12.5,-228 6.5,-222 6.5,-216 6.5,-216 6.5,-204 6.5,-204 6.5,-198 12.5,-192 18.5,-192 18.5,-192 87.5,-192 87.5,-192 93.5,-192 99.5,-198 99.5,-204 99.5,-204 99.5,-216 99.5,-216 99.5,-222 93.5,-228 87.5,-228\"/>\n",
       "<text text-anchor=\"start\" x=\"25.5\" y=\"-212.4\" font-family=\"RobotoMono\" font-weight=\"bold\" font-size=\"12.00\" fill=\"#002b36\">output_0</text>\n",
       "<text text-anchor=\"start\" x=\"14.5\" y=\"-202\" font-family=\"RobotoMono\" font-size=\"10.00\" fill=\"#268bd2\">4 values (2 sinks)</text>\n",
       "</g>\n",
       "<!-- eval_model -->\n",
       "<g id=\"node9\" class=\"node\">\n",
       "<title>eval_model</title>\n",
       "<path fill=\"none\" stroke=\"#dc322f\" d=\"M87,-134C87,-134 19,-134 19,-134 13,-134 7,-128 7,-122 7,-122 7,-106 7,-106 7,-100 13,-94 19,-94 19,-94 87,-94 87,-94 93,-94 99,-100 99,-106 99,-106 99,-122 99,-122 99,-128 93,-134 87,-134\"/>\n",
       "<text text-anchor=\"start\" x=\"19\" y=\"-121.4\" font-family=\"RobotoMono\" font-weight=\"bold\" font-size=\"12.00\" fill=\"#002b36\">eval_model</text>\n",
       "<text text-anchor=\"start\" x=\"15\" y=\"-111\" font-family=\"RobotoMono\" font-size=\"10.00\" fill=\"#002b36\">@op:eval_model</text>\n",
       "<text text-anchor=\"start\" x=\"39\" y=\"-101\" font-family=\"RobotoMono\" font-size=\"10.00\" fill=\"#dc322f\">2 calls</text>\n",
       "</g>\n",
       "<!-- output_0&#45;&gt;eval_model -->\n",
       "<g id=\"edge6\" class=\"edge\">\n",
       "<title>output_0&#45;&gt;eval_model</title>\n",
       "<path fill=\"none\" stroke=\"#002b36\" d=\"M53,-191.76C53,-178.5 53,-159.86 53,-144.27\"/>\n",
       "<polygon fill=\"#002b36\" stroke=\"#002b36\" points=\"56.5,-144.07 53,-134.07 49.5,-144.07 56.5,-144.07\"/>\n",
       "<text text-anchor=\"middle\" x=\"75\" y=\"-166\" font-family=\"RobotoMono\" font-size=\"10.00\" fill=\"#002b36\">model</text>\n",
       "<text text-anchor=\"middle\" x=\"75\" y=\"-155\" font-family=\"RobotoMono\" font-size=\"10.00\" fill=\"#002b36\">(2 values)</text>\n",
       "</g>\n",
       "<!-- output_1 -->\n",
       "<g id=\"node5\" class=\"node\">\n",
       "<title>output_1</title>\n",
       "<path fill=\"none\" stroke=\"#268bd2\" d=\"M198.5,-228C198.5,-228 129.5,-228 129.5,-228 123.5,-228 117.5,-222 117.5,-216 117.5,-216 117.5,-204 117.5,-204 117.5,-198 123.5,-192 129.5,-192 129.5,-192 198.5,-192 198.5,-192 204.5,-192 210.5,-198 210.5,-204 210.5,-204 210.5,-216 210.5,-216 210.5,-222 204.5,-228 198.5,-228\"/>\n",
       "<text text-anchor=\"start\" x=\"136.5\" y=\"-212.4\" font-family=\"RobotoMono\" font-weight=\"bold\" font-size=\"12.00\" fill=\"#002b36\">output_1</text>\n",
       "<text text-anchor=\"start\" x=\"125.5\" y=\"-202\" font-family=\"RobotoMono\" font-size=\"10.00\" fill=\"#268bd2\">4 values (4 sinks)</text>\n",
       "</g>\n",
       "<!-- random_seed -->\n",
       "<g id=\"node6\" class=\"node\">\n",
       "<title>random_seed</title>\n",
       "<path fill=\"none\" stroke=\"#268bd2\" d=\"M109,-612C109,-612 27,-612 27,-612 21,-612 15,-606 15,-600 15,-600 15,-588 15,-588 15,-582 21,-576 27,-576 27,-576 109,-576 109,-576 115,-576 121,-582 121,-588 121,-588 121,-600 121,-600 121,-606 115,-612 109,-612\"/>\n",
       "<text text-anchor=\"start\" x=\"27.5\" y=\"-596.4\" font-family=\"RobotoMono\" font-weight=\"bold\" font-size=\"12.00\" fill=\"#002b36\">random_seed</text>\n",
       "<text text-anchor=\"start\" x=\"23\" y=\"-586\" font-family=\"RobotoMono\" font-size=\"10.00\" fill=\"#268bd2\">1 values (1 sources)</text>\n",
       "</g>\n",
       "<!-- generate_dataset -->\n",
       "<g id=\"node8\" class=\"node\">\n",
       "<title>generate_dataset</title>\n",
       "<path fill=\"none\" stroke=\"#dc322f\" d=\"M117,-518C117,-518 19,-518 19,-518 13,-518 7,-512 7,-506 7,-506 7,-490 7,-490 7,-484 13,-478 19,-478 19,-478 117,-478 117,-478 123,-478 129,-484 129,-490 129,-490 129,-506 129,-506 129,-512 123,-518 117,-518\"/>\n",
       "<text text-anchor=\"start\" x=\"15\" y=\"-505.4\" font-family=\"RobotoMono\" font-weight=\"bold\" font-size=\"12.00\" fill=\"#002b36\">generate_dataset</text>\n",
       "<text text-anchor=\"start\" x=\"15\" y=\"-495\" font-family=\"RobotoMono\" font-size=\"10.00\" fill=\"#002b36\">@op:generate_dataset</text>\n",
       "<text text-anchor=\"start\" x=\"54\" y=\"-485\" font-family=\"RobotoMono\" font-size=\"10.00\" fill=\"#dc322f\">1 calls</text>\n",
       "</g>\n",
       "<!-- random_seed&#45;&gt;generate_dataset -->\n",
       "<g id=\"edge9\" class=\"edge\">\n",
       "<title>random_seed&#45;&gt;generate_dataset</title>\n",
       "<path fill=\"none\" stroke=\"#002b36\" d=\"M68,-575.76C68,-562.5 68,-543.86 68,-528.27\"/>\n",
       "<polygon fill=\"#002b36\" stroke=\"#002b36\" points=\"71.5,-528.07 68,-518.07 64.5,-528.07 71.5,-528.07\"/>\n",
       "<text text-anchor=\"middle\" x=\"100\" y=\"-550\" font-family=\"RobotoMono\" font-size=\"10.00\" fill=\"#002b36\">random_seed</text>\n",
       "<text text-anchor=\"middle\" x=\"100\" y=\"-539\" font-family=\"RobotoMono\" font-size=\"10.00\" fill=\"#002b36\">(1 values)</text>\n",
       "</g>\n",
       "<!-- n_estimators -->\n",
       "<g id=\"node7\" class=\"node\">\n",
       "<title>n_estimators</title>\n",
       "<path fill=\"none\" stroke=\"#268bd2\" d=\"M250,-420C250,-420 168,-420 168,-420 162,-420 156,-414 156,-408 156,-408 156,-396 156,-396 156,-390 162,-384 168,-384 168,-384 250,-384 250,-384 256,-384 262,-390 262,-396 262,-396 262,-408 262,-408 262,-414 256,-420 250,-420\"/>\n",
       "<text text-anchor=\"start\" x=\"169.5\" y=\"-404.4\" font-family=\"RobotoMono\" font-weight=\"bold\" font-size=\"12.00\" fill=\"#002b36\">n_estimators</text>\n",
       "<text text-anchor=\"start\" x=\"164\" y=\"-394\" font-family=\"RobotoMono\" font-size=\"10.00\" fill=\"#268bd2\">4 values (4 sources)</text>\n",
       "</g>\n",
       "<!-- n_estimators&#45;&gt;train_model -->\n",
       "<g id=\"edge4\" class=\"edge\">\n",
       "<title>n_estimators&#45;&gt;train_model</title>\n",
       "<path fill=\"none\" stroke=\"#002b36\" d=\"M194.38,-383.84C184.1,-372.15 169.78,-356.56 156,-344 151.67,-340.05 146.94,-336.06 142.21,-332.25\"/>\n",
       "<polygon fill=\"#002b36\" stroke=\"#002b36\" points=\"144.32,-329.45 134.29,-326.02 139.99,-334.96 144.32,-329.45\"/>\n",
       "<text text-anchor=\"middle\" x=\"207.5\" y=\"-358\" font-family=\"RobotoMono\" font-size=\"10.00\" fill=\"#002b36\">n_estimators</text>\n",
       "<text text-anchor=\"middle\" x=\"207.5\" y=\"-347\" font-family=\"RobotoMono\" font-size=\"10.00\" fill=\"#002b36\">(4 values)</text>\n",
       "</g>\n",
       "<!-- generate_dataset&#45;&gt;X_train -->\n",
       "<g id=\"edge7\" class=\"edge\">\n",
       "<title>generate_dataset&#45;&gt;X_train</title>\n",
       "<path fill=\"none\" stroke=\"#002b36\" d=\"M50.02,-477.85C45.8,-472.43 41.74,-466.29 39,-460 34.95,-450.69 32.69,-439.82 31.45,-430.08\"/>\n",
       "<polygon fill=\"#002b36\" stroke=\"#002b36\" points=\"34.93,-429.69 30.46,-420.09 27.96,-430.38 34.93,-429.69\"/>\n",
       "<text text-anchor=\"middle\" x=\"61\" y=\"-452\" font-family=\"RobotoMono\" font-size=\"10.00\" fill=\"#002b36\">output_0</text>\n",
       "<text text-anchor=\"middle\" x=\"61\" y=\"-441\" font-family=\"RobotoMono\" font-size=\"10.00\" fill=\"#002b36\">(1 values)</text>\n",
       "</g>\n",
       "<!-- generate_dataset&#45;&gt;y_train -->\n",
       "<g id=\"edge8\" class=\"edge\">\n",
       "<title>generate_dataset&#45;&gt;y_train</title>\n",
       "<path fill=\"none\" stroke=\"#002b36\" d=\"M76.09,-477.98C82.01,-464.07 90.12,-445.03 96.68,-429.61\"/>\n",
       "<polygon fill=\"#002b36\" stroke=\"#002b36\" points=\"100.03,-430.67 100.72,-420.1 93.59,-427.93 100.03,-430.67\"/>\n",
       "<text text-anchor=\"middle\" x=\"114\" y=\"-452\" font-family=\"RobotoMono\" font-size=\"10.00\" fill=\"#002b36\">output_2</text>\n",
       "<text text-anchor=\"middle\" x=\"114\" y=\"-441\" font-family=\"RobotoMono\" font-size=\"10.00\" fill=\"#002b36\">(1 values)</text>\n",
       "</g>\n",
       "<!-- eval_model&#45;&gt;output_0_0 -->\n",
       "<g id=\"edge10\" class=\"edge\">\n",
       "<title>eval_model&#45;&gt;output_0_0</title>\n",
       "<path fill=\"none\" stroke=\"#002b36\" d=\"M53,-93.98C53,-80.34 53,-61.75 53,-46.5\"/>\n",
       "<polygon fill=\"#002b36\" stroke=\"#002b36\" points=\"56.5,-46.1 53,-36.1 49.5,-46.1 56.5,-46.1\"/>\n",
       "<text text-anchor=\"middle\" x=\"75\" y=\"-68\" font-family=\"RobotoMono\" font-size=\"10.00\" fill=\"#002b36\">output_0</text>\n",
       "<text text-anchor=\"middle\" x=\"75\" y=\"-57\" font-family=\"RobotoMono\" font-size=\"10.00\" fill=\"#002b36\">(2 values)</text>\n",
       "</g>\n",
       "<!-- train_model&#45;&gt;output_0 -->\n",
       "<g id=\"edge2\" class=\"edge\">\n",
       "<title>train_model&#45;&gt;output_0</title>\n",
       "<path fill=\"none\" stroke=\"#002b36\" d=\"M96.87,-285.98C88.58,-271.81 77.17,-252.3 68.06,-236.74\"/>\n",
       "<polygon fill=\"#002b36\" stroke=\"#002b36\" points=\"71.08,-234.96 63,-228.1 65.03,-238.5 71.08,-234.96\"/>\n",
       "<text text-anchor=\"middle\" x=\"107\" y=\"-260\" font-family=\"RobotoMono\" font-size=\"10.00\" fill=\"#002b36\">output_0</text>\n",
       "<text text-anchor=\"middle\" x=\"107\" y=\"-249\" font-family=\"RobotoMono\" font-size=\"10.00\" fill=\"#002b36\">(4 values)</text>\n",
       "</g>\n",
       "<!-- train_model&#45;&gt;output_1 -->\n",
       "<g id=\"edge1\" class=\"edge\">\n",
       "<title>train_model&#45;&gt;output_1</title>\n",
       "<path fill=\"none\" stroke=\"#002b36\" d=\"M121.59,-285.64C125.4,-280.02 129.46,-273.83 133,-268 139.03,-258.08 145.23,-246.91 150.48,-237.1\"/>\n",
       "<polygon fill=\"#002b36\" stroke=\"#002b36\" points=\"153.61,-238.68 155.2,-228.2 147.42,-235.4 153.61,-238.68\"/>\n",
       "<text text-anchor=\"middle\" x=\"167\" y=\"-260\" font-family=\"RobotoMono\" font-size=\"10.00\" fill=\"#002b36\">output_1</text>\n",
       "<text text-anchor=\"middle\" x=\"167\" y=\"-249\" font-family=\"RobotoMono\" font-size=\"10.00\" fill=\"#002b36\">(4 values)</text>\n",
       "</g>\n",
       "</g>\n",
       "</svg>\n"
      ],
      "text/plain": [
       "<graphviz.sources.Source at 0x7429afdfe320>"
      ]
     },
     "metadata": {},
     "output_type": "display_data"
    }
   ],
   "source": [
    "cf.draw(verbose=True)"
   ]
  },
  {
   "cell_type": "markdown",
   "metadata": {},
   "source": [
    "The `.draw()` method shows the computational graph of a CF and how many\n",
    "calls/refs there are in each function/variable. When called with `verbose=True`,\n",
    "this method shows a summary of how the variable values and function calls\n",
    "connect across the CF:\n",
    "\n",
    "- **source (i.e. initial) `Ref`s** in each variable: the `Ref`s in this variable\n",
    "that aren't outputs of any call in a function node using the variable as output.\n",
    "- **sink (i.e. final) `Ref`s** in each variable: dual to source refs, these are\n",
    "the `Ref`s that are not inputs to calls in any function node using the variable\n",
    "as input.\n",
    "- **edge `Ref`s** for each edge: for edges that are inputs to functions, this is\n",
    "the number of refs from the input variable that are used in calls to the\n",
    "function. For edges that are outputs of functions, this is the number of refs in\n",
    "the output variable created by calls in the function node."
   ]
  },
  {
   "cell_type": "markdown",
   "metadata": {},
   "source": [
    "### Printing the computation graph of a `ComputationFrame`\n",
    "The computational graph of a CF is part of its `repr()`, but you can also print\n",
    "just the graph:"
   ]
  },
  {
   "cell_type": "code",
   "execution_count": 20,
   "metadata": {
    "execution": {
     "iopub.execute_input": "2024-07-02T20:34:01.862904Z",
     "iopub.status.busy": "2024-07-02T20:34:01.862360Z",
     "iopub.status.idle": "2024-07-02T20:34:01.888061Z",
     "shell.execute_reply": "2024-07-02T20:34:01.887415Z"
    }
   },
   "outputs": [
    {
     "name": "stdout",
     "output_type": "stream",
     "text": [
      "X_train@output_0, y_train@output_2 = generate_dataset(random_seed=random_seed)\n",
      "output_0@output_0, output_1@output_1 = train_model(X_train=X_train, n_estimators=n_estimators, y_train=y_train)\n",
      "output_0_0@output_0 = eval_model(model=output_0)\n"
     ]
    }
   ],
   "source": [
    "cf.print_graph()"
   ]
  },
  {
   "cell_type": "markdown",
   "metadata": {},
   "source": [
    "Note that outputs are appended with `@output_0`, .... This is to indicate the\n",
    "name each output is bound to, in case some outputs are missing from the graph\n",
    "(which is possible, because CFs can represent partial computations)."
   ]
  }
 ],
 "metadata": {
  "language_info": {
   "codemirror_mode": {
    "name": "ipython",
    "version": 3
   },
   "file_extension": ".py",
   "mimetype": "text/x-python",
   "name": "python",
   "nbconvert_exporter": "python",
   "pygments_lexer": "ipython3",
   "version": "3.10.8"
  }
 },
 "nbformat": 4,
 "nbformat_minor": 2
}
