{
 "cells": [
  {
   "cell_type": "markdown",
   "metadata": {},
   "source": [
    "# Query the Storage with `ComputationFrame`s\n",
    "## Why `ComputationFrame`s?\n",
    "The `ComputationFrame` data structure **formalizes the natural/intuitive way you\n",
    "think of the \"web\" of saved `@op` calls**. It gives you a \"grammar\" in which\n",
    "operations over persisted computation graphs that are easy to think of are also\n",
    "easy to implement.\n",
    "\n",
    "In computational projects, all queries boil down to how some variables depend on\n",
    "other variables: e.g., in ML you often care about what input parameters lead to\n",
    "final results with certain metrics. The `mandala` storage can automatically\n",
    "answer such questions when all operations along the way were `@op`s, because it\n",
    "represents the \"web\" of saved `@op` calls, linked by how the outputs of one\n",
    "`@op` are used as inputs to other `@op`s.\n",
    "\n",
    "The `ComputationFrame` (CF) is the data structure used to explore and query this\n",
    "web of calls. It's a high-level view of a collection of `@op` calls, so that\n",
    "calls that serve the same role are grouped together. **The groups of calls form a\n",
    "computational graph of variables and functions, which enables effective &\n",
    "natural high-level operations over storage**. \n",
    "\n",
    "This section covers basic tools to get up to speed with CFs. For more advanced\n",
    "usage, see [Advanced `ComputationFrame` tools](06_advanced_cf.md) "
   ]
  },
  {
   "cell_type": "markdown",
   "metadata": {},
   "source": [
    "## Typical workflow\n",
    "Using CFs typically goes through the following stages:\n",
    "\n",
    "- **[creation](#creating-computationframes)**: initialize a CF in various ways,\n",
    "e.g. from some `Ref`s, from all calls to an `@op`, .... This CF will have a\n",
    "limited view of storage because it will involve few (0 or 1) `@op`s\n",
    "- **[expansion](#exploring-storage-by-expanding-computationframes)**: add more\n",
    "context to the CF by adding new function nodes containing the calls that\n",
    "produced/used some variable(s). The goal of this stage is to incorporate in the\n",
    "CF all variables whose relationships you're interested in.\n",
    "- **combination & restriction**: merge multiple CFs, restrict to subgraphs or \n",
    "specific values of the variables along some predicates. This lets you focus on\n",
    "the computations you want before making expensive calls to the storage.\n",
    "- **[conversion to a `pandas.DataFrame`](#extracting-dataframes-from-computationframes)**: finally,\n",
    "extract a table representing the relationships between the variables in the CF\n",
    "for downstream analysis.\n",
    "\n",
    "### Toy ML pipeline\n",
    "In this section, we'll work with the following toy experiment on a small ML\n",
    "pipeline:"
   ]
  },
  {
   "cell_type": "code",
   "execution_count": 1,
   "metadata": {
    "execution": {
     "iopub.execute_input": "2024-07-02T21:04:54.709855Z",
     "iopub.status.busy": "2024-07-02T21:04:54.709340Z",
     "iopub.status.idle": "2024-07-02T21:04:56.573182Z",
     "shell.execute_reply": "2024-07-02T21:04:56.572547Z"
    }
   },
   "outputs": [],
   "source": [
    "### define ops to train & eval a random forest model on digits dataset\n",
    "import numpy as np\n",
    "from sklearn.datasets import load_digits\n",
    "from sklearn.model_selection import train_test_split\n",
    "from sklearn.ensemble import RandomForestClassifier\n",
    "\n",
    "from mandala._next.imports import *\n",
    "try:\n",
    "    import rich\n",
    "    from rich import print as pprint\n",
    "except ImportError:\n",
    "    print(\"rich not installed, using default print\")\n",
    "    pprint = print\n",
    "\n",
    "storage = Storage()\n",
    "\n",
    "np.random.seed(0)\n",
    "\n",
    "@op \n",
    "def generate_dataset(random_seed=42):\n",
    "    X, y = load_digits(return_X_y=True)\n",
    "    X_train, X_test, y_train, y_test = train_test_split(\n",
    "        X, y, test_size=0.2, random_state=random_seed)\n",
    "    return X_train, X_test, y_train, y_test\n",
    "\n",
    "@op\n",
    "def train_model(X_train, y_train, n_estimators):\n",
    "    model = RandomForestClassifier(n_estimators=n_estimators, max_depth=2)\n",
    "    model.fit(X_train, y_train)\n",
    "    return model, round(model.score(X_train, y_train), 2)\n",
    "\n",
    "@op\n",
    "def eval_model(model, X_test, y_test):\n",
    "    return round(model.score(X_test, y_test), 2)"
   ]
  },
  {
   "cell_type": "code",
   "execution_count": 2,
   "metadata": {
    "execution": {
     "iopub.execute_input": "2024-07-02T21:04:56.575986Z",
     "iopub.status.busy": "2024-07-02T21:04:56.575508Z",
     "iopub.status.idle": "2024-07-02T21:04:57.007319Z",
     "shell.execute_reply": "2024-07-02T21:04:57.006781Z"
    }
   },
   "outputs": [],
   "source": [
    "with storage: \n",
    "    X_train, X_test, y_train, y_test = generate_dataset()\n",
    "    for n_estimators in [10, 20, 40, 80]:\n",
    "        model, train_acc = train_model(X_train, y_train, n_estimators=n_estimators)\n",
    "        if storage.unwrap(train_acc) > 0.8: # conditional execution\n",
    "            test_acc = eval_model(model, X_test, y_test)"
   ]
  },
  {
   "cell_type": "markdown",
   "metadata": {},
   "source": [
    "## Creating `ComputationFrame`s\n",
    "There are several ways to create a CF, all dispatched through the `storage.cf()`\n",
    "method.\n",
    "\n",
    "### From a single `Ref`\n",
    "The simplest example of a CF is to create one from a `Ref`:"
   ]
  },
  {
   "cell_type": "code",
   "execution_count": 3,
   "metadata": {
    "execution": {
     "iopub.execute_input": "2024-07-02T21:04:57.009901Z",
     "iopub.status.busy": "2024-07-02T21:04:57.009655Z",
     "iopub.status.idle": "2024-07-02T21:04:57.100589Z",
     "shell.execute_reply": "2024-07-02T21:04:57.100002Z"
    }
   },
   "outputs": [
    {
     "data": {
      "text/html": [
       "<pre style=\"white-space:pre;overflow-x:auto;line-height:normal;font-family:Menlo,'DejaVu Sans Mono',consolas,'Courier New',monospace\">ComputationFrame with:\n",
       "    <span style=\"color: #008080; text-decoration-color: #008080; font-weight: bold\">1</span> <span style=\"color: #800080; text-decoration-color: #800080; font-weight: bold\">variable</span><span style=\"font-weight: bold\">(</span>s<span style=\"font-weight: bold\">)</span> <span style=\"font-weight: bold\">(</span><span style=\"color: #008080; text-decoration-color: #008080; font-weight: bold\">1</span> unique refs<span style=\"font-weight: bold\">)</span>\n",
       "    <span style=\"color: #008080; text-decoration-color: #008080; font-weight: bold\">0</span> <span style=\"color: #800080; text-decoration-color: #800080; font-weight: bold\">operation</span><span style=\"font-weight: bold\">(</span>s<span style=\"font-weight: bold\">)</span> <span style=\"font-weight: bold\">(</span><span style=\"color: #008080; text-decoration-color: #008080; font-weight: bold\">0</span> unique calls<span style=\"font-weight: bold\">)</span>\n",
       "Computational graph:\n",
       "    v\n",
       "</pre>\n"
      ],
      "text/plain": [
       "ComputationFrame with:\n",
       "    \u001b[1;36m1\u001b[0m \u001b[1;35mvariable\u001b[0m\u001b[1m(\u001b[0ms\u001b[1m)\u001b[0m \u001b[1m(\u001b[0m\u001b[1;36m1\u001b[0m unique refs\u001b[1m)\u001b[0m\n",
       "    \u001b[1;36m0\u001b[0m \u001b[1;35moperation\u001b[0m\u001b[1m(\u001b[0ms\u001b[1m)\u001b[0m \u001b[1m(\u001b[0m\u001b[1;36m0\u001b[0m unique calls\u001b[1m)\u001b[0m\n",
       "Computational graph:\n",
       "    v\n"
      ]
     },
     "metadata": {},
     "output_type": "display_data"
    },
    {
     "data": {
      "image/svg+xml": [
       "<?xml version=\"1.0\" encoding=\"UTF-8\" standalone=\"no\"?>\n",
       "<!DOCTYPE svg PUBLIC \"-//W3C//DTD SVG 1.1//EN\"\n",
       " \"http://www.w3.org/Graphics/SVG/1.1/DTD/svg11.dtd\">\n",
       "<!-- Generated by graphviz version 2.50.0 (0)\n",
       " -->\n",
       "<!-- Title: G Pages: 1 -->\n",
       "<svg width=\"148pt\" height=\"44pt\"\n",
       " viewBox=\"0.00 0.00 148.00 44.00\" xmlns=\"http://www.w3.org/2000/svg\" xmlns:xlink=\"http://www.w3.org/1999/xlink\">\n",
       "<g id=\"graph0\" class=\"graph\" transform=\"scale(1 1) rotate(0) translate(4 40)\">\n",
       "<title>G</title>\n",
       "<polygon fill=\"white\" stroke=\"transparent\" points=\"-4,4 -4,-40 144,-40 144,4 -4,4\"/>\n",
       "<!-- v -->\n",
       "<g id=\"node1\" class=\"node\">\n",
       "<title>v</title>\n",
       "<path fill=\"none\" stroke=\"#268bd2\" d=\"M128,-36C128,-36 12,-36 12,-36 6,-36 0,-30 0,-24 0,-24 0,-12 0,-12 0,-6 6,0 12,0 12,0 128,0 128,0 134,0 140,-6 140,-12 140,-12 140,-24 140,-24 140,-30 134,-36 128,-36\"/>\n",
       "<text text-anchor=\"start\" x=\"66.5\" y=\"-20.4\" font-family=\"RobotoMono\" font-weight=\"bold\" font-size=\"12.00\" fill=\"#002b36\">v</text>\n",
       "<text text-anchor=\"start\" x=\"8\" y=\"-10\" font-family=\"RobotoMono\" font-size=\"10.00\" fill=\"#268bd2\">1 values (1 sources/1 sinks)</text>\n",
       "</g>\n",
       "</g>\n",
       "</svg>\n"
      ],
      "text/plain": [
       "<graphviz.sources.Source at 0x7956391f4d90>"
      ]
     },
     "metadata": {},
     "output_type": "display_data"
    }
   ],
   "source": [
    "cf = storage.cf(test_acc)\n",
    "pprint(cf) # text description of the CF \n",
    "cf.draw(verbose=True) # pictorial representation of the CF"
   ]
  },
  {
   "cell_type": "markdown",
   "metadata": {},
   "source": [
    "As the description says, this is a CF with 1 variable (called `v`) and 0\n",
    "operations. The variable contains 1 `Ref`, i.e. 1 value. We can examine the refs\n",
    "in the variables and the calls in the operations:"
   ]
  },
  {
   "cell_type": "code",
   "execution_count": 4,
   "metadata": {
    "execution": {
     "iopub.execute_input": "2024-07-02T21:04:57.102965Z",
     "iopub.status.busy": "2024-07-02T21:04:57.102763Z",
     "iopub.status.idle": "2024-07-02T21:04:57.129813Z",
     "shell.execute_reply": "2024-07-02T21:04:57.129231Z"
    }
   },
   "outputs": [
    {
     "data": {
      "text/html": [
       "<pre style=\"white-space:pre;overflow-x:auto;line-height:normal;font-family:Menlo,'DejaVu Sans Mono',consolas,'Courier New',monospace\">Refs by variable:\n",
       "<span style=\"font-weight: bold\">{</span><span style=\"color: #008000; text-decoration-color: #008000\">'v'</span>: <span style=\"font-weight: bold\">{</span><span style=\"color: #800080; text-decoration-color: #800080; font-weight: bold\">AtomRef</span><span style=\"font-weight: bold\">(</span><span style=\"color: #008080; text-decoration-color: #008080; font-weight: bold\">0.82</span>, <span style=\"color: #808000; text-decoration-color: #808000\">hid</span>=<span style=\"color: #008000; text-decoration-color: #008000\">'11a...'</span>, <span style=\"color: #808000; text-decoration-color: #808000\">cid</span>=<span style=\"color: #008000; text-decoration-color: #008000\">'238...'</span><span style=\"font-weight: bold\">)}}</span>\n",
       "</pre>\n"
      ],
      "text/plain": [
       "Refs by variable:\n",
       "\u001b[1m{\u001b[0m\u001b[32m'v'\u001b[0m: \u001b[1m{\u001b[0m\u001b[1;35mAtomRef\u001b[0m\u001b[1m(\u001b[0m\u001b[1;36m0.82\u001b[0m, \u001b[33mhid\u001b[0m=\u001b[32m'11a...'\u001b[0m, \u001b[33mcid\u001b[0m=\u001b[32m'238...'\u001b[0m\u001b[1m)\u001b[0m\u001b[1m}\u001b[0m\u001b[1m}\u001b[0m\n"
      ]
     },
     "metadata": {},
     "output_type": "display_data"
    },
    {
     "data": {
      "text/html": [
       "<pre style=\"white-space:pre;overflow-x:auto;line-height:normal;font-family:Menlo,'DejaVu Sans Mono',consolas,'Courier New',monospace\">Calls by operation:\n",
       "<span style=\"font-weight: bold\">{}</span>\n",
       "</pre>\n"
      ],
      "text/plain": [
       "Calls by operation:\n",
       "\u001b[1m{\u001b[0m\u001b[1m}\u001b[0m\n"
      ]
     },
     "metadata": {},
     "output_type": "display_data"
    }
   ],
   "source": [
    "pprint(f'Refs by variable:\\n{cf.refs_by_var()}')\n",
    "pprint(f'Calls by operation:\\n{cf.calls_by_func()}')"
   ]
  },
  {
   "cell_type": "markdown",
   "metadata": {},
   "source": [
    "To make this more interesting, we can call `expand_back()` (explained in more\n",
    "detail later) on the CF to add the full computational history of all values in\n",
    "all variables:"
   ]
  },
  {
   "cell_type": "code",
   "execution_count": 5,
   "metadata": {
    "execution": {
     "iopub.execute_input": "2024-07-02T21:04:57.132100Z",
     "iopub.status.busy": "2024-07-02T21:04:57.131910Z",
     "iopub.status.idle": "2024-07-02T21:04:57.488385Z",
     "shell.execute_reply": "2024-07-02T21:04:57.487619Z"
    }
   },
   "outputs": [
    {
     "data": {
      "text/html": [
       "<pre style=\"white-space:pre;overflow-x:auto;line-height:normal;font-family:Menlo,'DejaVu Sans Mono',consolas,'Courier New',monospace\">ComputationFrame with:\n",
       "    <span style=\"color: #008080; text-decoration-color: #008080; font-weight: bold\">8</span> <span style=\"color: #800080; text-decoration-color: #800080; font-weight: bold\">variable</span><span style=\"font-weight: bold\">(</span>s<span style=\"font-weight: bold\">)</span> <span style=\"font-weight: bold\">(</span><span style=\"color: #008080; text-decoration-color: #008080; font-weight: bold\">8</span> unique refs<span style=\"font-weight: bold\">)</span>\n",
       "    <span style=\"color: #008080; text-decoration-color: #008080; font-weight: bold\">3</span> <span style=\"color: #800080; text-decoration-color: #800080; font-weight: bold\">operation</span><span style=\"font-weight: bold\">(</span>s<span style=\"font-weight: bold\">)</span> <span style=\"font-weight: bold\">(</span><span style=\"color: #008080; text-decoration-color: #008080; font-weight: bold\">3</span> unique calls<span style=\"font-weight: bold\">)</span>\n",
       "Computational graph:\n",
       "    X_train@output_0, X_test@output_1, y_train@output_2, y_test@output_3 = \n",
       "<span style=\"color: #800080; text-decoration-color: #800080; font-weight: bold\">generate_dataset</span><span style=\"font-weight: bold\">(</span><span style=\"color: #808000; text-decoration-color: #808000\">random_seed</span>=<span style=\"color: #800080; text-decoration-color: #800080\">random_seed</span><span style=\"font-weight: bold\">)</span>\n",
       "    model@output_0 = <span style=\"color: #800080; text-decoration-color: #800080; font-weight: bold\">train_model</span><span style=\"font-weight: bold\">(</span><span style=\"color: #808000; text-decoration-color: #808000\">X_train</span>=<span style=\"color: #800080; text-decoration-color: #800080\">X_train</span>, <span style=\"color: #808000; text-decoration-color: #808000\">n_estimators</span>=<span style=\"color: #800080; text-decoration-color: #800080\">n_estimators</span>, <span style=\"color: #808000; text-decoration-color: #808000\">y_train</span>=<span style=\"color: #800080; text-decoration-color: #800080\">y_train</span><span style=\"font-weight: bold\">)</span>\n",
       "    v@output_0 = <span style=\"color: #800080; text-decoration-color: #800080; font-weight: bold\">eval_model</span><span style=\"font-weight: bold\">(</span><span style=\"color: #808000; text-decoration-color: #808000\">y_test</span>=<span style=\"color: #800080; text-decoration-color: #800080\">y_test</span>, <span style=\"color: #808000; text-decoration-color: #808000\">X_test</span>=<span style=\"color: #800080; text-decoration-color: #800080\">X_test</span>, <span style=\"color: #808000; text-decoration-color: #808000\">model</span>=<span style=\"color: #800080; text-decoration-color: #800080\">model</span><span style=\"font-weight: bold\">)</span>\n",
       "</pre>\n"
      ],
      "text/plain": [
       "ComputationFrame with:\n",
       "    \u001b[1;36m8\u001b[0m \u001b[1;35mvariable\u001b[0m\u001b[1m(\u001b[0ms\u001b[1m)\u001b[0m \u001b[1m(\u001b[0m\u001b[1;36m8\u001b[0m unique refs\u001b[1m)\u001b[0m\n",
       "    \u001b[1;36m3\u001b[0m \u001b[1;35moperation\u001b[0m\u001b[1m(\u001b[0ms\u001b[1m)\u001b[0m \u001b[1m(\u001b[0m\u001b[1;36m3\u001b[0m unique calls\u001b[1m)\u001b[0m\n",
       "Computational graph:\n",
       "    X_train@output_0, X_test@output_1, y_train@output_2, y_test@output_3 = \n",
       "\u001b[1;35mgenerate_dataset\u001b[0m\u001b[1m(\u001b[0m\u001b[33mrandom_seed\u001b[0m=\u001b[35mrandom_seed\u001b[0m\u001b[1m)\u001b[0m\n",
       "    model@output_0 = \u001b[1;35mtrain_model\u001b[0m\u001b[1m(\u001b[0m\u001b[33mX_train\u001b[0m=\u001b[35mX_train\u001b[0m, \u001b[33mn_estimators\u001b[0m=\u001b[35mn_estimators\u001b[0m, \u001b[33my_train\u001b[0m=\u001b[35my_train\u001b[0m\u001b[1m)\u001b[0m\n",
       "    v@output_0 = \u001b[1;35meval_model\u001b[0m\u001b[1m(\u001b[0m\u001b[33my_test\u001b[0m=\u001b[35my_test\u001b[0m, \u001b[33mX_test\u001b[0m=\u001b[35mX_test\u001b[0m, \u001b[33mmodel\u001b[0m=\u001b[35mmodel\u001b[0m\u001b[1m)\u001b[0m\n"
      ]
     },
     "metadata": {},
     "output_type": "display_data"
    },
    {
     "data": {
      "image/svg+xml": [
       "<?xml version=\"1.0\" encoding=\"UTF-8\" standalone=\"no\"?>\n",
       "<!DOCTYPE svg PUBLIC \"-//W3C//DTD SVG 1.1//EN\"\n",
       " \"http://www.w3.org/Graphics/SVG/1.1/DTD/svg11.dtd\">\n",
       "<!-- Generated by graphviz version 2.50.0 (0)\n",
       " -->\n",
       "<!-- Title: G Pages: 1 -->\n",
       "<svg width=\"408pt\" height=\"648pt\"\n",
       " viewBox=\"0.00 0.00 408.00 648.00\" xmlns=\"http://www.w3.org/2000/svg\" xmlns:xlink=\"http://www.w3.org/1999/xlink\">\n",
       "<g id=\"graph0\" class=\"graph\" transform=\"scale(1 1) rotate(0) translate(4 644)\">\n",
       "<title>G</title>\n",
       "<polygon fill=\"white\" stroke=\"transparent\" points=\"-4,4 -4,-644 404,-644 404,4 -4,4\"/>\n",
       "<!-- n_estimators -->\n",
       "<g id=\"node1\" class=\"node\">\n",
       "<title>n_estimators</title>\n",
       "<path fill=\"none\" stroke=\"#268bd2\" d=\"M94,-448C94,-448 12,-448 12,-448 6,-448 0,-442 0,-436 0,-436 0,-424 0,-424 0,-418 6,-412 12,-412 12,-412 94,-412 94,-412 100,-412 106,-418 106,-424 106,-424 106,-436 106,-436 106,-442 100,-448 94,-448\"/>\n",
       "<text text-anchor=\"start\" x=\"13.5\" y=\"-432.4\" font-family=\"RobotoMono\" font-weight=\"bold\" font-size=\"12.00\" fill=\"#002b36\">n_estimators</text>\n",
       "<text text-anchor=\"start\" x=\"8\" y=\"-422\" font-family=\"RobotoMono\" font-size=\"10.00\" fill=\"#268bd2\">1 values (1 sources)</text>\n",
       "</g>\n",
       "<!-- train_model -->\n",
       "<g id=\"node9\" class=\"node\">\n",
       "<title>train_model</title>\n",
       "<path fill=\"none\" stroke=\"#dc322f\" d=\"M214.5,-340C214.5,-340 143.5,-340 143.5,-340 137.5,-340 131.5,-334 131.5,-328 131.5,-328 131.5,-312 131.5,-312 131.5,-306 137.5,-300 143.5,-300 143.5,-300 214.5,-300 214.5,-300 220.5,-300 226.5,-306 226.5,-312 226.5,-312 226.5,-328 226.5,-328 226.5,-334 220.5,-340 214.5,-340\"/>\n",
       "<text text-anchor=\"start\" x=\"142.5\" y=\"-327.4\" font-family=\"RobotoMono\" font-weight=\"bold\" font-size=\"12.00\" fill=\"#002b36\">train_model</text>\n",
       "<text text-anchor=\"start\" x=\"139.5\" y=\"-317\" font-family=\"RobotoMono\" font-size=\"10.00\" fill=\"#002b36\">@op:train_model</text>\n",
       "<text text-anchor=\"start\" x=\"165\" y=\"-307\" font-family=\"RobotoMono\" font-size=\"10.00\" fill=\"#dc322f\">1 calls</text>\n",
       "</g>\n",
       "<!-- n_estimators&#45;&gt;train_model -->\n",
       "<g id=\"edge12\" class=\"edge\">\n",
       "<title>n_estimators&#45;&gt;train_model</title>\n",
       "<path fill=\"none\" stroke=\"#002b36\" d=\"M57.03,-411.93C61.59,-396.04 70.49,-372.66 86,-358 96.06,-348.49 108.87,-341.32 121.73,-335.95\"/>\n",
       "<polygon fill=\"#002b36\" stroke=\"#002b36\" points=\"123,-339.21 131.07,-332.35 120.49,-332.68 123,-339.21\"/>\n",
       "<text text-anchor=\"middle\" x=\"116.5\" y=\"-379\" font-family=\"RobotoMono\" font-size=\"10.00\" fill=\"#002b36\">n_estimators</text>\n",
       "<text text-anchor=\"middle\" x=\"116.5\" y=\"-368\" font-family=\"RobotoMono\" font-size=\"10.00\" fill=\"#002b36\">(1 values)</text>\n",
       "</g>\n",
       "<!-- X_train -->\n",
       "<g id=\"node2\" class=\"node\">\n",
       "<title>X_train</title>\n",
       "<path fill=\"none\" stroke=\"#268bd2\" d=\"M172,-448C172,-448 136,-448 136,-448 130,-448 124,-442 124,-436 124,-436 124,-424 124,-424 124,-418 130,-412 136,-412 136,-412 172,-412 172,-412 178,-412 184,-418 184,-424 184,-424 184,-436 184,-436 184,-442 178,-448 172,-448\"/>\n",
       "<text text-anchor=\"start\" x=\"132\" y=\"-432.4\" font-family=\"RobotoMono\" font-weight=\"bold\" font-size=\"12.00\" fill=\"#002b36\">X_train</text>\n",
       "<text text-anchor=\"start\" x=\"135\" y=\"-422\" font-family=\"RobotoMono\" font-size=\"10.00\" fill=\"#268bd2\">1 values</text>\n",
       "</g>\n",
       "<!-- X_train&#45;&gt;train_model -->\n",
       "<g id=\"edge11\" class=\"edge\">\n",
       "<title>X_train&#45;&gt;train_model</title>\n",
       "<path fill=\"none\" stroke=\"#002b36\" d=\"M151.64,-411.95C150.22,-397.31 149.59,-375.81 155,-358 155.91,-355.02 157.13,-352.05 158.55,-349.17\"/>\n",
       "<polygon fill=\"#002b36\" stroke=\"#002b36\" points=\"161.67,-350.75 163.59,-340.33 155.59,-347.28 161.67,-350.75\"/>\n",
       "<text text-anchor=\"middle\" x=\"177\" y=\"-379\" font-family=\"RobotoMono\" font-size=\"10.00\" fill=\"#002b36\">X_train</text>\n",
       "<text text-anchor=\"middle\" x=\"177\" y=\"-368\" font-family=\"RobotoMono\" font-size=\"10.00\" fill=\"#002b36\">(1 values)</text>\n",
       "</g>\n",
       "<!-- random_seed -->\n",
       "<g id=\"node3\" class=\"node\">\n",
       "<title>random_seed</title>\n",
       "<path fill=\"none\" stroke=\"#268bd2\" d=\"M304,-640C304,-640 222,-640 222,-640 216,-640 210,-634 210,-628 210,-628 210,-616 210,-616 210,-610 216,-604 222,-604 222,-604 304,-604 304,-604 310,-604 316,-610 316,-616 316,-616 316,-628 316,-628 316,-634 310,-640 304,-640\"/>\n",
       "<text text-anchor=\"start\" x=\"222.5\" y=\"-624.4\" font-family=\"RobotoMono\" font-weight=\"bold\" font-size=\"12.00\" fill=\"#002b36\">random_seed</text>\n",
       "<text text-anchor=\"start\" x=\"218\" y=\"-614\" font-family=\"RobotoMono\" font-size=\"10.00\" fill=\"#268bd2\">1 values (1 sources)</text>\n",
       "</g>\n",
       "<!-- generate_dataset -->\n",
       "<g id=\"node10\" class=\"node\">\n",
       "<title>generate_dataset</title>\n",
       "<path fill=\"none\" stroke=\"#dc322f\" d=\"M312,-546C312,-546 214,-546 214,-546 208,-546 202,-540 202,-534 202,-534 202,-518 202,-518 202,-512 208,-506 214,-506 214,-506 312,-506 312,-506 318,-506 324,-512 324,-518 324,-518 324,-534 324,-534 324,-540 318,-546 312,-546\"/>\n",
       "<text text-anchor=\"start\" x=\"210\" y=\"-533.4\" font-family=\"RobotoMono\" font-weight=\"bold\" font-size=\"12.00\" fill=\"#002b36\">generate_dataset</text>\n",
       "<text text-anchor=\"start\" x=\"210\" y=\"-523\" font-family=\"RobotoMono\" font-size=\"10.00\" fill=\"#002b36\">@op:generate_dataset</text>\n",
       "<text text-anchor=\"start\" x=\"249\" y=\"-513\" font-family=\"RobotoMono\" font-size=\"10.00\" fill=\"#dc322f\">1 calls</text>\n",
       "</g>\n",
       "<!-- random_seed&#45;&gt;generate_dataset -->\n",
       "<g id=\"edge9\" class=\"edge\">\n",
       "<title>random_seed&#45;&gt;generate_dataset</title>\n",
       "<path fill=\"none\" stroke=\"#002b36\" d=\"M263,-603.76C263,-590.5 263,-571.86 263,-556.27\"/>\n",
       "<polygon fill=\"#002b36\" stroke=\"#002b36\" points=\"266.5,-556.07 263,-546.07 259.5,-556.07 266.5,-556.07\"/>\n",
       "<text text-anchor=\"middle\" x=\"295\" y=\"-578\" font-family=\"RobotoMono\" font-size=\"10.00\" fill=\"#002b36\">random_seed</text>\n",
       "<text text-anchor=\"middle\" x=\"295\" y=\"-567\" font-family=\"RobotoMono\" font-size=\"10.00\" fill=\"#002b36\">(1 values)</text>\n",
       "</g>\n",
       "<!-- v -->\n",
       "<g id=\"node4\" class=\"node\">\n",
       "<title>v</title>\n",
       "<path fill=\"none\" stroke=\"#268bd2\" d=\"M314.5,-36C314.5,-36 245.5,-36 245.5,-36 239.5,-36 233.5,-30 233.5,-24 233.5,-24 233.5,-12 233.5,-12 233.5,-6 239.5,0 245.5,0 245.5,0 314.5,0 314.5,0 320.5,0 326.5,-6 326.5,-12 326.5,-12 326.5,-24 326.5,-24 326.5,-30 320.5,-36 314.5,-36\"/>\n",
       "<text text-anchor=\"start\" x=\"276.5\" y=\"-20.4\" font-family=\"RobotoMono\" font-weight=\"bold\" font-size=\"12.00\" fill=\"#002b36\">v</text>\n",
       "<text text-anchor=\"start\" x=\"241.5\" y=\"-10\" font-family=\"RobotoMono\" font-size=\"10.00\" fill=\"#268bd2\">1 values (1 sinks)</text>\n",
       "</g>\n",
       "<!-- model -->\n",
       "<g id=\"node5\" class=\"node\">\n",
       "<title>model</title>\n",
       "<path fill=\"none\" stroke=\"#268bd2\" d=\"M230,-228C230,-228 200,-228 200,-228 194,-228 188,-222 188,-216 188,-216 188,-204 188,-204 188,-198 194,-192 200,-192 200,-192 230,-192 230,-192 236,-192 242,-198 242,-204 242,-204 242,-216 242,-216 242,-222 236,-228 230,-228\"/>\n",
       "<text text-anchor=\"start\" x=\"196\" y=\"-212.4\" font-family=\"RobotoMono\" font-weight=\"bold\" font-size=\"12.00\" fill=\"#002b36\">model</text>\n",
       "<text text-anchor=\"start\" x=\"196\" y=\"-202\" font-family=\"RobotoMono\" font-size=\"10.00\" fill=\"#268bd2\">1 values</text>\n",
       "</g>\n",
       "<!-- eval_model -->\n",
       "<g id=\"node11\" class=\"node\">\n",
       "<title>eval_model</title>\n",
       "<path fill=\"none\" stroke=\"#dc322f\" d=\"M314,-134C314,-134 246,-134 246,-134 240,-134 234,-128 234,-122 234,-122 234,-106 234,-106 234,-100 240,-94 246,-94 246,-94 314,-94 314,-94 320,-94 326,-100 326,-106 326,-106 326,-122 326,-122 326,-128 320,-134 314,-134\"/>\n",
       "<text text-anchor=\"start\" x=\"246\" y=\"-121.4\" font-family=\"RobotoMono\" font-weight=\"bold\" font-size=\"12.00\" fill=\"#002b36\">eval_model</text>\n",
       "<text text-anchor=\"start\" x=\"242\" y=\"-111\" font-family=\"RobotoMono\" font-size=\"10.00\" fill=\"#002b36\">@op:eval_model</text>\n",
       "<text text-anchor=\"start\" x=\"266\" y=\"-101\" font-family=\"RobotoMono\" font-size=\"10.00\" fill=\"#dc322f\">1 calls</text>\n",
       "</g>\n",
       "<!-- model&#45;&gt;eval_model -->\n",
       "<g id=\"edge4\" class=\"edge\">\n",
       "<title>model&#45;&gt;eval_model</title>\n",
       "<path fill=\"none\" stroke=\"#002b36\" d=\"M213.42,-191.77C213.16,-179.75 214.56,-163.81 222,-152 224.65,-147.8 227.96,-143.99 231.66,-140.55\"/>\n",
       "<polygon fill=\"#002b36\" stroke=\"#002b36\" points=\"234.15,-143.04 239.7,-134.01 229.73,-137.61 234.15,-143.04\"/>\n",
       "<text text-anchor=\"middle\" x=\"244\" y=\"-166\" font-family=\"RobotoMono\" font-size=\"10.00\" fill=\"#002b36\">model</text>\n",
       "<text text-anchor=\"middle\" x=\"244\" y=\"-155\" font-family=\"RobotoMono\" font-size=\"10.00\" fill=\"#002b36\">(1 values)</text>\n",
       "</g>\n",
       "<!-- y_test -->\n",
       "<g id=\"node6\" class=\"node\">\n",
       "<title>y_test</title>\n",
       "<path fill=\"none\" stroke=\"#268bd2\" d=\"M312,-394C312,-394 282,-394 282,-394 276,-394 270,-388 270,-382 270,-382 270,-370 270,-370 270,-364 276,-358 282,-358 282,-358 312,-358 312,-358 318,-358 324,-364 324,-370 324,-370 324,-382 324,-382 324,-388 318,-394 312,-394\"/>\n",
       "<text text-anchor=\"start\" x=\"279\" y=\"-378.4\" font-family=\"RobotoMono\" font-weight=\"bold\" font-size=\"12.00\" fill=\"#002b36\">y_test</text>\n",
       "<text text-anchor=\"start\" x=\"278\" y=\"-368\" font-family=\"RobotoMono\" font-size=\"10.00\" fill=\"#268bd2\">1 values</text>\n",
       "</g>\n",
       "<!-- y_test&#45;&gt;eval_model -->\n",
       "<g id=\"edge2\" class=\"edge\">\n",
       "<title>y_test&#45;&gt;eval_model</title>\n",
       "<path fill=\"none\" stroke=\"#002b36\" d=\"M291.88,-357.71C286.69,-339.19 278.99,-308.81 276,-282 270.64,-233.89 273.97,-177.51 276.94,-144.11\"/>\n",
       "<polygon fill=\"#002b36\" stroke=\"#002b36\" points=\"280.42,-144.39 277.88,-134.11 273.46,-143.74 280.42,-144.39\"/>\n",
       "<text text-anchor=\"middle\" x=\"298\" y=\"-267\" font-family=\"RobotoMono\" font-size=\"10.00\" fill=\"#002b36\">y_test</text>\n",
       "<text text-anchor=\"middle\" x=\"298\" y=\"-256\" font-family=\"RobotoMono\" font-size=\"10.00\" fill=\"#002b36\">(1 values)</text>\n",
       "</g>\n",
       "<!-- X_test -->\n",
       "<g id=\"node7\" class=\"node\">\n",
       "<title>X_test</title>\n",
       "<path fill=\"none\" stroke=\"#268bd2\" d=\"M371,-282C371,-282 341,-282 341,-282 335,-282 329,-276 329,-270 329,-270 329,-258 329,-258 329,-252 335,-246 341,-246 341,-246 371,-246 371,-246 377,-246 383,-252 383,-258 383,-258 383,-270 383,-270 383,-276 377,-282 371,-282\"/>\n",
       "<text text-anchor=\"start\" x=\"337.5\" y=\"-266.4\" font-family=\"RobotoMono\" font-weight=\"bold\" font-size=\"12.00\" fill=\"#002b36\">X_test</text>\n",
       "<text text-anchor=\"start\" x=\"337\" y=\"-256\" font-family=\"RobotoMono\" font-size=\"10.00\" fill=\"#268bd2\">1 values</text>\n",
       "</g>\n",
       "<!-- X_test&#45;&gt;eval_model -->\n",
       "<g id=\"edge3\" class=\"edge\">\n",
       "<title>X_test&#45;&gt;eval_model</title>\n",
       "<path fill=\"none\" stroke=\"#002b36\" d=\"M347.13,-245.73C334.2,-220.55 310.02,-173.46 294.48,-143.2\"/>\n",
       "<polygon fill=\"#002b36\" stroke=\"#002b36\" points=\"297.45,-141.32 289.77,-134.02 291.22,-144.52 297.45,-141.32\"/>\n",
       "<text text-anchor=\"middle\" x=\"358\" y=\"-213\" font-family=\"RobotoMono\" font-size=\"10.00\" fill=\"#002b36\">X_test</text>\n",
       "<text text-anchor=\"middle\" x=\"358\" y=\"-202\" font-family=\"RobotoMono\" font-size=\"10.00\" fill=\"#002b36\">(1 values)</text>\n",
       "</g>\n",
       "<!-- y_train -->\n",
       "<g id=\"node8\" class=\"node\">\n",
       "<title>y_train</title>\n",
       "<path fill=\"none\" stroke=\"#268bd2\" d=\"M249.5,-448C249.5,-448 214.5,-448 214.5,-448 208.5,-448 202.5,-442 202.5,-436 202.5,-436 202.5,-424 202.5,-424 202.5,-418 208.5,-412 214.5,-412 214.5,-412 249.5,-412 249.5,-412 255.5,-412 261.5,-418 261.5,-424 261.5,-424 261.5,-436 261.5,-436 261.5,-442 255.5,-448 249.5,-448\"/>\n",
       "<text text-anchor=\"start\" x=\"210.5\" y=\"-432.4\" font-family=\"RobotoMono\" font-weight=\"bold\" font-size=\"12.00\" fill=\"#002b36\">y_train</text>\n",
       "<text text-anchor=\"start\" x=\"213\" y=\"-422\" font-family=\"RobotoMono\" font-size=\"10.00\" fill=\"#268bd2\">1 values</text>\n",
       "</g>\n",
       "<!-- y_train&#45;&gt;train_model -->\n",
       "<g id=\"edge13\" class=\"edge\">\n",
       "<title>y_train&#45;&gt;train_model</title>\n",
       "<path fill=\"none\" stroke=\"#002b36\" d=\"M224.42,-411.93C217.91,-397.47 208.15,-376.22 199,-358 197.53,-355.06 195.95,-352.02 194.36,-348.99\"/>\n",
       "<polygon fill=\"#002b36\" stroke=\"#002b36\" points=\"197.4,-347.26 189.6,-340.09 191.23,-350.56 197.4,-347.26\"/>\n",
       "<text text-anchor=\"middle\" x=\"237\" y=\"-379\" font-family=\"RobotoMono\" font-size=\"10.00\" fill=\"#002b36\">y_train</text>\n",
       "<text text-anchor=\"middle\" x=\"237\" y=\"-368\" font-family=\"RobotoMono\" font-size=\"10.00\" fill=\"#002b36\">(1 values)</text>\n",
       "</g>\n",
       "<!-- train_model&#45;&gt;model -->\n",
       "<g id=\"edge10\" class=\"edge\">\n",
       "<title>train_model&#45;&gt;model</title>\n",
       "<path fill=\"none\" stroke=\"#002b36\" d=\"M185.35,-299.94C191.1,-282.69 199.63,-257.11 206.06,-237.81\"/>\n",
       "<polygon fill=\"#002b36\" stroke=\"#002b36\" points=\"209.46,-238.68 209.3,-228.09 202.82,-236.47 209.46,-238.68\"/>\n",
       "<text text-anchor=\"middle\" x=\"224\" y=\"-267\" font-family=\"RobotoMono\" font-size=\"10.00\" fill=\"#002b36\">output_0</text>\n",
       "<text text-anchor=\"middle\" x=\"224\" y=\"-256\" font-family=\"RobotoMono\" font-size=\"10.00\" fill=\"#002b36\">(1 values)</text>\n",
       "</g>\n",
       "<!-- generate_dataset&#45;&gt;X_train -->\n",
       "<g id=\"edge7\" class=\"edge\">\n",
       "<title>generate_dataset&#45;&gt;X_train</title>\n",
       "<path fill=\"none\" stroke=\"#002b36\" d=\"M204.28,-505.96C195.06,-501.14 186.21,-495.22 179,-488 170.73,-479.71 164.98,-468.23 161.1,-457.74\"/>\n",
       "<polygon fill=\"#002b36\" stroke=\"#002b36\" points=\"164.38,-456.52 157.93,-448.12 157.74,-458.71 164.38,-456.52\"/>\n",
       "<text text-anchor=\"middle\" x=\"201\" y=\"-480\" font-family=\"RobotoMono\" font-size=\"10.00\" fill=\"#002b36\">output_0</text>\n",
       "<text text-anchor=\"middle\" x=\"201\" y=\"-469\" font-family=\"RobotoMono\" font-size=\"10.00\" fill=\"#002b36\">(1 values)</text>\n",
       "</g>\n",
       "<!-- generate_dataset&#45;&gt;y_test -->\n",
       "<g id=\"edge6\" class=\"edge\">\n",
       "<title>generate_dataset&#45;&gt;y_test</title>\n",
       "<path fill=\"none\" stroke=\"#002b36\" d=\"M269.66,-505.92C271.53,-500.2 273.47,-493.88 275,-488 282.39,-459.61 288.65,-426.56 292.57,-403.96\"/>\n",
       "<polygon fill=\"#002b36\" stroke=\"#002b36\" points=\"296.03,-404.51 294.26,-394.07 289.13,-403.34 296.03,-404.51\"/>\n",
       "<text text-anchor=\"middle\" x=\"302\" y=\"-480\" font-family=\"RobotoMono\" font-size=\"10.00\" fill=\"#002b36\">output_3</text>\n",
       "<text text-anchor=\"middle\" x=\"302\" y=\"-469\" font-family=\"RobotoMono\" font-size=\"10.00\" fill=\"#002b36\">(1 values)</text>\n",
       "</g>\n",
       "<!-- generate_dataset&#45;&gt;X_test -->\n",
       "<g id=\"edge5\" class=\"edge\">\n",
       "<title>generate_dataset&#45;&gt;X_test</title>\n",
       "<path fill=\"none\" stroke=\"#002b36\" d=\"M309.4,-505.88C316.61,-501.04 323.24,-495.13 328,-488 368.36,-427.61 364.83,-337.13 359.9,-292.26\"/>\n",
       "<polygon fill=\"#002b36\" stroke=\"#002b36\" points=\"363.35,-291.64 358.67,-282.13 356.4,-292.48 363.35,-291.64\"/>\n",
       "<text text-anchor=\"middle\" x=\"378\" y=\"-433\" font-family=\"RobotoMono\" font-size=\"10.00\" fill=\"#002b36\">output_1</text>\n",
       "<text text-anchor=\"middle\" x=\"378\" y=\"-422\" font-family=\"RobotoMono\" font-size=\"10.00\" fill=\"#002b36\">(1 values)</text>\n",
       "</g>\n",
       "<!-- generate_dataset&#45;&gt;y_train -->\n",
       "<g id=\"edge8\" class=\"edge\">\n",
       "<title>generate_dataset&#45;&gt;y_train</title>\n",
       "<path fill=\"none\" stroke=\"#002b36\" d=\"M241.78,-505.61C237.39,-500.37 233.37,-494.37 231,-488 227.5,-478.6 226.93,-467.71 227.51,-457.98\"/>\n",
       "<polygon fill=\"#002b36\" stroke=\"#002b36\" points=\"231,-458.31 228.52,-448.01 224.03,-457.61 231,-458.31\"/>\n",
       "<text text-anchor=\"middle\" x=\"253\" y=\"-480\" font-family=\"RobotoMono\" font-size=\"10.00\" fill=\"#002b36\">output_2</text>\n",
       "<text text-anchor=\"middle\" x=\"253\" y=\"-469\" font-family=\"RobotoMono\" font-size=\"10.00\" fill=\"#002b36\">(1 values)</text>\n",
       "</g>\n",
       "<!-- eval_model&#45;&gt;v -->\n",
       "<g id=\"edge1\" class=\"edge\">\n",
       "<title>eval_model&#45;&gt;v</title>\n",
       "<path fill=\"none\" stroke=\"#002b36\" d=\"M280,-93.98C280,-80.34 280,-61.75 280,-46.5\"/>\n",
       "<polygon fill=\"#002b36\" stroke=\"#002b36\" points=\"283.5,-46.1 280,-36.1 276.5,-46.1 283.5,-46.1\"/>\n",
       "<text text-anchor=\"middle\" x=\"302\" y=\"-68\" font-family=\"RobotoMono\" font-size=\"10.00\" fill=\"#002b36\">output_0</text>\n",
       "<text text-anchor=\"middle\" x=\"302\" y=\"-57\" font-family=\"RobotoMono\" font-size=\"10.00\" fill=\"#002b36\">(1 values)</text>\n",
       "</g>\n",
       "</g>\n",
       "</svg>\n"
      ],
      "text/plain": [
       "<graphviz.sources.Source at 0x7956391f6920>"
      ]
     },
     "metadata": {},
     "output_type": "display_data"
    }
   ],
   "source": [
    "cf.expand_back(inplace=True, recursive=True)\n",
    "pprint(cf)\n",
    "cf.draw(verbose=True)"
   ]
  },
  {
   "cell_type": "markdown",
   "metadata": {},
   "source": [
    "The variables added to the CF during expansion are given informative names based\n",
    "on input names of functions called on these variables. The result of expansion\n",
    "tells us the precise way `test_acc` was computed. We can get the values of each\n",
    "variable and the calls of each function:"
   ]
  },
  {
   "cell_type": "code",
   "execution_count": 6,
   "metadata": {
    "execution": {
     "iopub.execute_input": "2024-07-02T21:04:57.491065Z",
     "iopub.status.busy": "2024-07-02T21:04:57.490765Z",
     "iopub.status.idle": "2024-07-02T21:04:57.544187Z",
     "shell.execute_reply": "2024-07-02T21:04:57.543383Z"
    }
   },
   "outputs": [
    {
     "data": {
      "text/html": [
       "<pre style=\"white-space:pre;overflow-x:auto;line-height:normal;font-family:Menlo,'DejaVu Sans Mono',consolas,'Courier New',monospace\"><span style=\"font-weight: bold\">{</span>\n",
       "    <span style=\"color: #008000; text-decoration-color: #008000\">'v'</span>: <span style=\"font-weight: bold\">{</span><span style=\"color: #008080; text-decoration-color: #008080; font-weight: bold\">0.82</span><span style=\"font-weight: bold\">}</span>,\n",
       "    <span style=\"color: #008000; text-decoration-color: #008000\">'model'</span>: <span style=\"font-weight: bold\">{</span><span style=\"color: #800080; text-decoration-color: #800080; font-weight: bold\">RandomForestClassifier</span><span style=\"font-weight: bold\">(</span><span style=\"color: #808000; text-decoration-color: #808000\">max_depth</span>=<span style=\"color: #008080; text-decoration-color: #008080; font-weight: bold\">2</span>, <span style=\"color: #808000; text-decoration-color: #808000\">n_estimators</span>=<span style=\"color: #008080; text-decoration-color: #008080; font-weight: bold\">80</span><span style=\"font-weight: bold\">)}</span>,\n",
       "    <span style=\"color: #008000; text-decoration-color: #008000\">'random_seed'</span>: <span style=\"font-weight: bold\">{</span><span style=\"color: #008080; text-decoration-color: #008080; font-weight: bold\">42</span><span style=\"font-weight: bold\">}</span>,\n",
       "    <span style=\"color: #008000; text-decoration-color: #008000\">'n_estimators'</span>: <span style=\"font-weight: bold\">{</span><span style=\"color: #008080; text-decoration-color: #008080; font-weight: bold\">80</span><span style=\"font-weight: bold\">}</span>\n",
       "<span style=\"font-weight: bold\">}</span>\n",
       "</pre>\n"
      ],
      "text/plain": [
       "\u001b[1m{\u001b[0m\n",
       "    \u001b[32m'v'\u001b[0m: \u001b[1m{\u001b[0m\u001b[1;36m0.82\u001b[0m\u001b[1m}\u001b[0m,\n",
       "    \u001b[32m'model'\u001b[0m: \u001b[1m{\u001b[0m\u001b[1;35mRandomForestClassifier\u001b[0m\u001b[1m(\u001b[0m\u001b[33mmax_depth\u001b[0m=\u001b[1;36m2\u001b[0m, \u001b[33mn_estimators\u001b[0m=\u001b[1;36m80\u001b[0m\u001b[1m)\u001b[0m\u001b[1m}\u001b[0m,\n",
       "    \u001b[32m'random_seed'\u001b[0m: \u001b[1m{\u001b[0m\u001b[1;36m42\u001b[0m\u001b[1m}\u001b[0m,\n",
       "    \u001b[32m'n_estimators'\u001b[0m: \u001b[1m{\u001b[0m\u001b[1;36m80\u001b[0m\u001b[1m}\u001b[0m\n",
       "\u001b[1m}\u001b[0m\n"
      ]
     },
     "metadata": {},
     "output_type": "display_data"
    },
    {
     "data": {
      "text/html": [
       "<pre style=\"white-space:pre;overflow-x:auto;line-height:normal;font-family:Menlo,'DejaVu Sans Mono',consolas,'Courier New',monospace\"><span style=\"font-weight: bold\">{</span>\n",
       "    <span style=\"color: #008000; text-decoration-color: #008000\">'eval_model'</span>: <span style=\"font-weight: bold\">{</span><span style=\"color: #800080; text-decoration-color: #800080; font-weight: bold\">Call</span><span style=\"font-weight: bold\">(</span>eval_model, <span style=\"color: #808000; text-decoration-color: #808000\">cid</span>=<span style=\"color: #008000; text-decoration-color: #008000\">'137...'</span>, <span style=\"color: #808000; text-decoration-color: #808000\">hid</span>=<span style=\"color: #008000; text-decoration-color: #008000\">'d32...'</span><span style=\"font-weight: bold\">)}</span>,\n",
       "    <span style=\"color: #008000; text-decoration-color: #008000\">'generate_dataset'</span>: <span style=\"font-weight: bold\">{</span><span style=\"color: #800080; text-decoration-color: #800080; font-weight: bold\">Call</span><span style=\"font-weight: bold\">(</span>generate_dataset, <span style=\"color: #808000; text-decoration-color: #808000\">cid</span>=<span style=\"color: #008000; text-decoration-color: #008000\">'19a...'</span>, <span style=\"color: #808000; text-decoration-color: #808000\">hid</span>=<span style=\"color: #008000; text-decoration-color: #008000\">'c3f...'</span><span style=\"font-weight: bold\">)}</span>,\n",
       "    <span style=\"color: #008000; text-decoration-color: #008000\">'train_model'</span>: <span style=\"font-weight: bold\">{</span><span style=\"color: #800080; text-decoration-color: #800080; font-weight: bold\">Call</span><span style=\"font-weight: bold\">(</span>train_model, <span style=\"color: #808000; text-decoration-color: #808000\">cid</span>=<span style=\"color: #008000; text-decoration-color: #008000\">'3be...'</span>, <span style=\"color: #808000; text-decoration-color: #808000\">hid</span>=<span style=\"color: #008000; text-decoration-color: #008000\">'e60...'</span><span style=\"font-weight: bold\">)}</span>\n",
       "<span style=\"font-weight: bold\">}</span>\n",
       "</pre>\n"
      ],
      "text/plain": [
       "\u001b[1m{\u001b[0m\n",
       "    \u001b[32m'eval_model'\u001b[0m: \u001b[1m{\u001b[0m\u001b[1;35mCall\u001b[0m\u001b[1m(\u001b[0meval_model, \u001b[33mcid\u001b[0m=\u001b[32m'137...'\u001b[0m, \u001b[33mhid\u001b[0m=\u001b[32m'd32...'\u001b[0m\u001b[1m)\u001b[0m\u001b[1m}\u001b[0m,\n",
       "    \u001b[32m'generate_dataset'\u001b[0m: \u001b[1m{\u001b[0m\u001b[1;35mCall\u001b[0m\u001b[1m(\u001b[0mgenerate_dataset, \u001b[33mcid\u001b[0m=\u001b[32m'19a...'\u001b[0m, \u001b[33mhid\u001b[0m=\u001b[32m'c3f...'\u001b[0m\u001b[1m)\u001b[0m\u001b[1m}\u001b[0m,\n",
       "    \u001b[32m'train_model'\u001b[0m: \u001b[1m{\u001b[0m\u001b[1;35mCall\u001b[0m\u001b[1m(\u001b[0mtrain_model, \u001b[33mcid\u001b[0m=\u001b[32m'3be...'\u001b[0m, \u001b[33mhid\u001b[0m=\u001b[32m'e60...'\u001b[0m\u001b[1m)\u001b[0m\u001b[1m}\u001b[0m\n",
       "\u001b[1m}\u001b[0m\n"
      ]
     },
     "metadata": {},
     "output_type": "display_data"
    }
   ],
   "source": [
    "pprint({vname: storage.unwrap(refs) \n",
    " for vname, refs in cf.refs_by_var().items()\n",
    " if vname not in ['X_train', 'X_test', 'y_train', 'y_test'] # to save space\n",
    " })\n",
    "\n",
    "pprint(cf.calls_by_func())"
   ]
  },
  {
   "cell_type": "markdown",
   "metadata": {},
   "source": [
    "### From all calls to an `@op`\n",
    "Another way to create a CF is to initialize is with all calls to a given `@op`:"
   ]
  },
  {
   "cell_type": "code",
   "execution_count": 7,
   "metadata": {
    "execution": {
     "iopub.execute_input": "2024-07-02T21:04:57.546889Z",
     "iopub.status.busy": "2024-07-02T21:04:57.546615Z",
     "iopub.status.idle": "2024-07-02T21:04:57.658041Z",
     "shell.execute_reply": "2024-07-02T21:04:57.657359Z"
    }
   },
   "outputs": [
    {
     "data": {
      "text/html": [
       "<pre style=\"white-space:pre;overflow-x:auto;line-height:normal;font-family:Menlo,'DejaVu Sans Mono',consolas,'Courier New',monospace\">ComputationFrame with:\n",
       "    <span style=\"color: #008080; text-decoration-color: #008080; font-weight: bold\">5</span> <span style=\"color: #800080; text-decoration-color: #800080; font-weight: bold\">variable</span><span style=\"font-weight: bold\">(</span>s<span style=\"font-weight: bold\">)</span> <span style=\"font-weight: bold\">(</span><span style=\"color: #008080; text-decoration-color: #008080; font-weight: bold\">14</span> unique refs<span style=\"font-weight: bold\">)</span>\n",
       "    <span style=\"color: #008080; text-decoration-color: #008080; font-weight: bold\">1</span> <span style=\"color: #800080; text-decoration-color: #800080; font-weight: bold\">operation</span><span style=\"font-weight: bold\">(</span>s<span style=\"font-weight: bold\">)</span> <span style=\"font-weight: bold\">(</span><span style=\"color: #008080; text-decoration-color: #008080; font-weight: bold\">4</span> unique calls<span style=\"font-weight: bold\">)</span>\n",
       "Computational graph:\n",
       "    output_0@output_0, output_1@output_1 = <span style=\"color: #800080; text-decoration-color: #800080; font-weight: bold\">train_model</span><span style=\"font-weight: bold\">(</span><span style=\"color: #808000; text-decoration-color: #808000\">X_train</span>=<span style=\"color: #800080; text-decoration-color: #800080\">X_train</span>, <span style=\"color: #808000; text-decoration-color: #808000\">n_estimators</span>=<span style=\"color: #800080; text-decoration-color: #800080\">n_estimators</span>, <span style=\"color: #808000; text-decoration-color: #808000\">y_train</span>=<span style=\"color: #800080; text-decoration-color: #800080\">y_train</span><span style=\"font-weight: bold\">)</span>\n",
       "</pre>\n"
      ],
      "text/plain": [
       "ComputationFrame with:\n",
       "    \u001b[1;36m5\u001b[0m \u001b[1;35mvariable\u001b[0m\u001b[1m(\u001b[0ms\u001b[1m)\u001b[0m \u001b[1m(\u001b[0m\u001b[1;36m14\u001b[0m unique refs\u001b[1m)\u001b[0m\n",
       "    \u001b[1;36m1\u001b[0m \u001b[1;35moperation\u001b[0m\u001b[1m(\u001b[0ms\u001b[1m)\u001b[0m \u001b[1m(\u001b[0m\u001b[1;36m4\u001b[0m unique calls\u001b[1m)\u001b[0m\n",
       "Computational graph:\n",
       "    output_0@output_0, output_1@output_1 = \u001b[1;35mtrain_model\u001b[0m\u001b[1m(\u001b[0m\u001b[33mX_train\u001b[0m=\u001b[35mX_train\u001b[0m, \u001b[33mn_estimators\u001b[0m=\u001b[35mn_estimators\u001b[0m, \u001b[33my_train\u001b[0m=\u001b[35my_train\u001b[0m\u001b[1m)\u001b[0m\n"
      ]
     },
     "metadata": {},
     "output_type": "display_data"
    },
    {
     "data": {
      "image/svg+xml": [
       "<?xml version=\"1.0\" encoding=\"UTF-8\" standalone=\"no\"?>\n",
       "<!DOCTYPE svg PUBLIC \"-//W3C//DTD SVG 1.1//EN\"\n",
       " \"http://www.w3.org/Graphics/SVG/1.1/DTD/svg11.dtd\">\n",
       "<!-- Generated by graphviz version 2.50.0 (0)\n",
       " -->\n",
       "<!-- Title: G Pages: 1 -->\n",
       "<svg width=\"362pt\" height=\"236pt\"\n",
       " viewBox=\"0.00 0.00 362.00 236.00\" xmlns=\"http://www.w3.org/2000/svg\" xmlns:xlink=\"http://www.w3.org/1999/xlink\">\n",
       "<g id=\"graph0\" class=\"graph\" transform=\"scale(1 1) rotate(0) translate(4 232)\">\n",
       "<title>G</title>\n",
       "<polygon fill=\"white\" stroke=\"transparent\" points=\"-4,4 -4,-232 358,-232 358,4 -4,4\"/>\n",
       "<!-- n_estimators -->\n",
       "<g id=\"node1\" class=\"node\">\n",
       "<title>n_estimators</title>\n",
       "<path fill=\"none\" stroke=\"#268bd2\" d=\"M94,-228C94,-228 12,-228 12,-228 6,-228 0,-222 0,-216 0,-216 0,-204 0,-204 0,-198 6,-192 12,-192 12,-192 94,-192 94,-192 100,-192 106,-198 106,-204 106,-204 106,-216 106,-216 106,-222 100,-228 94,-228\"/>\n",
       "<text text-anchor=\"start\" x=\"13.5\" y=\"-212.4\" font-family=\"RobotoMono\" font-weight=\"bold\" font-size=\"12.00\" fill=\"#002b36\">n_estimators</text>\n",
       "<text text-anchor=\"start\" x=\"8\" y=\"-202\" font-family=\"RobotoMono\" font-size=\"10.00\" fill=\"#268bd2\">4 values (4 sources)</text>\n",
       "</g>\n",
       "<!-- train_model -->\n",
       "<g id=\"node6\" class=\"node\">\n",
       "<title>train_model</title>\n",
       "<path fill=\"none\" stroke=\"#dc322f\" d=\"M212.5,-134C212.5,-134 141.5,-134 141.5,-134 135.5,-134 129.5,-128 129.5,-122 129.5,-122 129.5,-106 129.5,-106 129.5,-100 135.5,-94 141.5,-94 141.5,-94 212.5,-94 212.5,-94 218.5,-94 224.5,-100 224.5,-106 224.5,-106 224.5,-122 224.5,-122 224.5,-128 218.5,-134 212.5,-134\"/>\n",
       "<text text-anchor=\"start\" x=\"140.5\" y=\"-121.4\" font-family=\"RobotoMono\" font-weight=\"bold\" font-size=\"12.00\" fill=\"#002b36\">train_model</text>\n",
       "<text text-anchor=\"start\" x=\"137.5\" y=\"-111\" font-family=\"RobotoMono\" font-size=\"10.00\" fill=\"#002b36\">@op:train_model</text>\n",
       "<text text-anchor=\"start\" x=\"163\" y=\"-101\" font-family=\"RobotoMono\" font-size=\"10.00\" fill=\"#dc322f\">4 calls</text>\n",
       "</g>\n",
       "<!-- n_estimators&#45;&gt;train_model -->\n",
       "<g id=\"edge4\" class=\"edge\">\n",
       "<title>n_estimators&#45;&gt;train_model</title>\n",
       "<path fill=\"none\" stroke=\"#002b36\" d=\"M68.53,-191.86C79.89,-179.88 96.04,-163.95 112,-152 117.93,-147.56 124.45,-143.26 130.99,-139.26\"/>\n",
       "<polygon fill=\"#002b36\" stroke=\"#002b36\" points=\"133.06,-142.1 139.89,-134 129.5,-136.08 133.06,-142.1\"/>\n",
       "<text text-anchor=\"middle\" x=\"142.5\" y=\"-166\" font-family=\"RobotoMono\" font-size=\"10.00\" fill=\"#002b36\">n_estimators</text>\n",
       "<text text-anchor=\"middle\" x=\"142.5\" y=\"-155\" font-family=\"RobotoMono\" font-size=\"10.00\" fill=\"#002b36\">(4 values)</text>\n",
       "</g>\n",
       "<!-- output_0 -->\n",
       "<g id=\"node2\" class=\"node\">\n",
       "<title>output_0</title>\n",
       "<path fill=\"none\" stroke=\"#268bd2\" d=\"M156.5,-36C156.5,-36 87.5,-36 87.5,-36 81.5,-36 75.5,-30 75.5,-24 75.5,-24 75.5,-12 75.5,-12 75.5,-6 81.5,0 87.5,0 87.5,0 156.5,0 156.5,0 162.5,0 168.5,-6 168.5,-12 168.5,-12 168.5,-24 168.5,-24 168.5,-30 162.5,-36 156.5,-36\"/>\n",
       "<text text-anchor=\"start\" x=\"94.5\" y=\"-20.4\" font-family=\"RobotoMono\" font-weight=\"bold\" font-size=\"12.00\" fill=\"#002b36\">output_0</text>\n",
       "<text text-anchor=\"start\" x=\"83.5\" y=\"-10\" font-family=\"RobotoMono\" font-size=\"10.00\" fill=\"#268bd2\">4 values (4 sinks)</text>\n",
       "</g>\n",
       "<!-- X_train -->\n",
       "<g id=\"node3\" class=\"node\">\n",
       "<title>X_train</title>\n",
       "<path fill=\"none\" stroke=\"#268bd2\" d=\"M218,-228C218,-228 136,-228 136,-228 130,-228 124,-222 124,-216 124,-216 124,-204 124,-204 124,-198 130,-192 136,-192 136,-192 218,-192 218,-192 224,-192 230,-198 230,-204 230,-204 230,-216 230,-216 230,-222 224,-228 218,-228\"/>\n",
       "<text text-anchor=\"start\" x=\"155\" y=\"-212.4\" font-family=\"RobotoMono\" font-weight=\"bold\" font-size=\"12.00\" fill=\"#002b36\">X_train</text>\n",
       "<text text-anchor=\"start\" x=\"132\" y=\"-202\" font-family=\"RobotoMono\" font-size=\"10.00\" fill=\"#268bd2\">1 values (1 sources)</text>\n",
       "</g>\n",
       "<!-- X_train&#45;&gt;train_model -->\n",
       "<g id=\"edge3\" class=\"edge\">\n",
       "<title>X_train&#45;&gt;train_model</title>\n",
       "<path fill=\"none\" stroke=\"#002b36\" d=\"M177,-191.76C177,-178.5 177,-159.86 177,-144.27\"/>\n",
       "<polygon fill=\"#002b36\" stroke=\"#002b36\" points=\"180.5,-144.07 177,-134.07 173.5,-144.07 180.5,-144.07\"/>\n",
       "<text text-anchor=\"middle\" x=\"199\" y=\"-166\" font-family=\"RobotoMono\" font-size=\"10.00\" fill=\"#002b36\">X_train</text>\n",
       "<text text-anchor=\"middle\" x=\"199\" y=\"-155\" font-family=\"RobotoMono\" font-size=\"10.00\" fill=\"#002b36\">(1 values)</text>\n",
       "</g>\n",
       "<!-- output_1 -->\n",
       "<g id=\"node4\" class=\"node\">\n",
       "<title>output_1</title>\n",
       "<path fill=\"none\" stroke=\"#268bd2\" d=\"M267.5,-36C267.5,-36 198.5,-36 198.5,-36 192.5,-36 186.5,-30 186.5,-24 186.5,-24 186.5,-12 186.5,-12 186.5,-6 192.5,0 198.5,0 198.5,0 267.5,0 267.5,0 273.5,0 279.5,-6 279.5,-12 279.5,-12 279.5,-24 279.5,-24 279.5,-30 273.5,-36 267.5,-36\"/>\n",
       "<text text-anchor=\"start\" x=\"205.5\" y=\"-20.4\" font-family=\"RobotoMono\" font-weight=\"bold\" font-size=\"12.00\" fill=\"#002b36\">output_1</text>\n",
       "<text text-anchor=\"start\" x=\"194.5\" y=\"-10\" font-family=\"RobotoMono\" font-size=\"10.00\" fill=\"#268bd2\">4 values (4 sinks)</text>\n",
       "</g>\n",
       "<!-- y_train -->\n",
       "<g id=\"node5\" class=\"node\">\n",
       "<title>y_train</title>\n",
       "<path fill=\"none\" stroke=\"#268bd2\" d=\"M342,-228C342,-228 260,-228 260,-228 254,-228 248,-222 248,-216 248,-216 248,-204 248,-204 248,-198 254,-192 260,-192 260,-192 342,-192 342,-192 348,-192 354,-198 354,-204 354,-204 354,-216 354,-216 354,-222 348,-228 342,-228\"/>\n",
       "<text text-anchor=\"start\" x=\"279.5\" y=\"-212.4\" font-family=\"RobotoMono\" font-weight=\"bold\" font-size=\"12.00\" fill=\"#002b36\">y_train</text>\n",
       "<text text-anchor=\"start\" x=\"256\" y=\"-202\" font-family=\"RobotoMono\" font-size=\"10.00\" fill=\"#268bd2\">1 values (1 sources)</text>\n",
       "</g>\n",
       "<!-- y_train&#45;&gt;train_model -->\n",
       "<g id=\"edge5\" class=\"edge\">\n",
       "<title>y_train&#45;&gt;train_model</title>\n",
       "<path fill=\"none\" stroke=\"#002b36\" d=\"M278.54,-191.98C259.57,-177.59 232.11,-156.78 210.53,-140.42\"/>\n",
       "<polygon fill=\"#002b36\" stroke=\"#002b36\" points=\"212.36,-137.41 202.28,-134.16 208.13,-142.99 212.36,-137.41\"/>\n",
       "<text text-anchor=\"middle\" x=\"275\" y=\"-166\" font-family=\"RobotoMono\" font-size=\"10.00\" fill=\"#002b36\">y_train</text>\n",
       "<text text-anchor=\"middle\" x=\"275\" y=\"-155\" font-family=\"RobotoMono\" font-size=\"10.00\" fill=\"#002b36\">(1 values)</text>\n",
       "</g>\n",
       "<!-- train_model&#45;&gt;output_0 -->\n",
       "<g id=\"edge1\" class=\"edge\">\n",
       "<title>train_model&#45;&gt;output_0</title>\n",
       "<path fill=\"none\" stroke=\"#002b36\" d=\"M165.87,-93.98C157.58,-79.81 146.17,-60.3 137.06,-44.74\"/>\n",
       "<polygon fill=\"#002b36\" stroke=\"#002b36\" points=\"140.08,-42.96 132,-36.1 134.03,-46.5 140.08,-42.96\"/>\n",
       "<text text-anchor=\"middle\" x=\"176\" y=\"-68\" font-family=\"RobotoMono\" font-size=\"10.00\" fill=\"#002b36\">output_0</text>\n",
       "<text text-anchor=\"middle\" x=\"176\" y=\"-57\" font-family=\"RobotoMono\" font-size=\"10.00\" fill=\"#002b36\">(4 values)</text>\n",
       "</g>\n",
       "<!-- train_model&#45;&gt;output_1 -->\n",
       "<g id=\"edge2\" class=\"edge\">\n",
       "<title>train_model&#45;&gt;output_1</title>\n",
       "<path fill=\"none\" stroke=\"#002b36\" d=\"M190.59,-93.64C194.4,-88.02 198.46,-81.83 202,-76 208.03,-66.08 214.23,-54.91 219.48,-45.1\"/>\n",
       "<polygon fill=\"#002b36\" stroke=\"#002b36\" points=\"222.61,-46.68 224.2,-36.2 216.42,-43.4 222.61,-46.68\"/>\n",
       "<text text-anchor=\"middle\" x=\"236\" y=\"-68\" font-family=\"RobotoMono\" font-size=\"10.00\" fill=\"#002b36\">output_1</text>\n",
       "<text text-anchor=\"middle\" x=\"236\" y=\"-57\" font-family=\"RobotoMono\" font-size=\"10.00\" fill=\"#002b36\">(4 values)</text>\n",
       "</g>\n",
       "</g>\n",
       "</svg>\n"
      ],
      "text/plain": [
       "<graphviz.sources.Source at 0x79563922b6d0>"
      ]
     },
     "metadata": {},
     "output_type": "display_data"
    }
   ],
   "source": [
    "cf = storage.cf(train_model)\n",
    "pprint(cf)\n",
    "cf.draw(verbose=True)"
   ]
  },
  {
   "cell_type": "markdown",
   "metadata": {},
   "source": [
    "You can extract a dataframe from any CF (explained more later); in particular,\n",
    "the dataframe for the CF of a single `@op` will be the memoization table for\n",
    "this `@op`:"
   ]
  },
  {
   "cell_type": "code",
   "execution_count": 8,
   "metadata": {
    "execution": {
     "iopub.execute_input": "2024-07-02T21:04:57.660997Z",
     "iopub.status.busy": "2024-07-02T21:04:57.660763Z",
     "iopub.status.idle": "2024-07-02T21:04:57.698413Z",
     "shell.execute_reply": "2024-07-02T21:04:57.697736Z"
    }
   },
   "outputs": [
    {
     "name": "stdout",
     "output_type": "stream",
     "text": [
      "Extracting tuples from the computation graph:\n",
      "    output_0@output_0, output_1@output_1 = train_model(n_estimators=n_estimators, y_train=y_train, X_train=X_train)\n",
      "|    | y_train                                              | X_train                                              | n_estimators                                         | train_model                                   | output_1                                             | output_0                                             |\n",
      "|---:|:-----------------------------------------------------|:-----------------------------------------------------|:-----------------------------------------------------|:----------------------------------------------|:-----------------------------------------------------|:-----------------------------------------------------|\n",
      "|  0 | AtomRef(hid='faf...', cid='83f...', in_memory=False) | AtomRef(hid='efa...', cid='a6d...', in_memory=False) | AtomRef(hid='9fd...', cid='4ac...', in_memory=False) | Call(train_model, cid='5af...', hid='514...') | AtomRef(hid='784...', cid='238...', in_memory=False) | AtomRef(hid='331...', cid='e64...', in_memory=False) |\n",
      "|  1 | AtomRef(hid='faf...', cid='83f...', in_memory=False) | AtomRef(hid='efa...', cid='a6d...', in_memory=False) | AtomRef(hid='235...', cid='c04...', in_memory=False) | Call(train_model, cid='204...', hid='c55...') | AtomRef(hid='5b7...', cid='f0a...', in_memory=False) | AtomRef(hid='208...', cid='c75...', in_memory=False) |\n",
      "|  2 | AtomRef(hid='faf...', cid='83f...', in_memory=False) | AtomRef(hid='efa...', cid='a6d...', in_memory=False) | AtomRef(hid='120...', cid='9bc...', in_memory=False) | Call(train_model, cid='3be...', hid='e60...') | AtomRef(hid='646...', cid='acb...', in_memory=False) | AtomRef(hid='522...', cid='d5a...', in_memory=False) |\n",
      "|  3 | AtomRef(hid='faf...', cid='83f...', in_memory=False) | AtomRef(hid='efa...', cid='a6d...', in_memory=False) | AtomRef(hid='98c...', cid='29d...', in_memory=False) | Call(train_model, cid='c4f...', hid='5f7...') | AtomRef(hid='760...', cid='46b...', in_memory=False) | AtomRef(hid='b25...', cid='462...', in_memory=False) |\n"
     ]
    }
   ],
   "source": [
    "print(cf.df(values='refs').to_markdown())"
   ]
  },
  {
   "cell_type": "markdown",
   "metadata": {},
   "source": [
    "## "
   ]
  },
  {
   "cell_type": "markdown",
   "metadata": {},
   "source": [
    "### From groups of `Ref`s to use as variables\n",
    "You can also manually initialize variables of the CF by passing a dict where\n",
    "values are `Ref` iterables:"
   ]
  },
  {
   "cell_type": "code",
   "execution_count": 9,
   "metadata": {
    "execution": {
     "iopub.execute_input": "2024-07-02T21:04:57.701386Z",
     "iopub.status.busy": "2024-07-02T21:04:57.701173Z",
     "iopub.status.idle": "2024-07-02T21:04:57.761489Z",
     "shell.execute_reply": "2024-07-02T21:04:57.760878Z"
    }
   },
   "outputs": [],
   "source": [
    "with storage: \n",
    "    models, test_accs = [], []\n",
    "    X_train, X_test, y_train, y_test = generate_dataset()\n",
    "    for n_estimators in [10, 20, 40, 80]:\n",
    "        model, train_acc = train_model(X_train, y_train, n_estimators=n_estimators)\n",
    "        models.append(model)\n",
    "        if storage.unwrap(train_acc) > 0.8: # conditional execution\n",
    "            test_acc = eval_model(model, X_test, y_test)\n",
    "            test_accs.append(test_acc)"
   ]
  },
  {
   "cell_type": "code",
   "execution_count": 10,
   "metadata": {
    "execution": {
     "iopub.execute_input": "2024-07-02T21:04:57.764447Z",
     "iopub.status.busy": "2024-07-02T21:04:57.764226Z",
     "iopub.status.idle": "2024-07-02T21:04:57.860658Z",
     "shell.execute_reply": "2024-07-02T21:04:57.859882Z"
    }
   },
   "outputs": [
    {
     "data": {
      "text/html": [
       "<pre style=\"white-space:pre;overflow-x:auto;line-height:normal;font-family:Menlo,'DejaVu Sans Mono',consolas,'Courier New',monospace\">ComputationFrame with:\n",
       "    <span style=\"color: #008080; text-decoration-color: #008080; font-weight: bold\">2</span> <span style=\"color: #800080; text-decoration-color: #800080; font-weight: bold\">variable</span><span style=\"font-weight: bold\">(</span>s<span style=\"font-weight: bold\">)</span> <span style=\"font-weight: bold\">(</span><span style=\"color: #008080; text-decoration-color: #008080; font-weight: bold\">6</span> unique refs<span style=\"font-weight: bold\">)</span>\n",
       "    <span style=\"color: #008080; text-decoration-color: #008080; font-weight: bold\">0</span> <span style=\"color: #800080; text-decoration-color: #800080; font-weight: bold\">operation</span><span style=\"font-weight: bold\">(</span>s<span style=\"font-weight: bold\">)</span> <span style=\"font-weight: bold\">(</span><span style=\"color: #008080; text-decoration-color: #008080; font-weight: bold\">0</span> unique calls<span style=\"font-weight: bold\">)</span>\n",
       "Computational graph:\n",
       "    model, test_acc\n",
       "</pre>\n"
      ],
      "text/plain": [
       "ComputationFrame with:\n",
       "    \u001b[1;36m2\u001b[0m \u001b[1;35mvariable\u001b[0m\u001b[1m(\u001b[0ms\u001b[1m)\u001b[0m \u001b[1m(\u001b[0m\u001b[1;36m6\u001b[0m unique refs\u001b[1m)\u001b[0m\n",
       "    \u001b[1;36m0\u001b[0m \u001b[1;35moperation\u001b[0m\u001b[1m(\u001b[0ms\u001b[1m)\u001b[0m \u001b[1m(\u001b[0m\u001b[1;36m0\u001b[0m unique calls\u001b[1m)\u001b[0m\n",
       "Computational graph:\n",
       "    model, test_acc\n"
      ]
     },
     "metadata": {},
     "output_type": "display_data"
    },
    {
     "data": {
      "image/svg+xml": [
       "<?xml version=\"1.0\" encoding=\"UTF-8\" standalone=\"no\"?>\n",
       "<!DOCTYPE svg PUBLIC \"-//W3C//DTD SVG 1.1//EN\"\n",
       " \"http://www.w3.org/Graphics/SVG/1.1/DTD/svg11.dtd\">\n",
       "<!-- Generated by graphviz version 2.50.0 (0)\n",
       " -->\n",
       "<!-- Title: G Pages: 1 -->\n",
       "<svg width=\"306pt\" height=\"44pt\"\n",
       " viewBox=\"0.00 0.00 306.00 44.00\" xmlns=\"http://www.w3.org/2000/svg\" xmlns:xlink=\"http://www.w3.org/1999/xlink\">\n",
       "<g id=\"graph0\" class=\"graph\" transform=\"scale(1 1) rotate(0) translate(4 40)\">\n",
       "<title>G</title>\n",
       "<polygon fill=\"white\" stroke=\"transparent\" points=\"-4,4 -4,-40 302,-40 302,4 -4,4\"/>\n",
       "<!-- test_acc -->\n",
       "<g id=\"node1\" class=\"node\">\n",
       "<title>test_acc</title>\n",
       "<path fill=\"none\" stroke=\"#268bd2\" d=\"M128,-36C128,-36 12,-36 12,-36 6,-36 0,-30 0,-24 0,-24 0,-12 0,-12 0,-6 6,0 12,0 12,0 128,0 128,0 134,0 140,-6 140,-12 140,-12 140,-24 140,-24 140,-30 134,-36 128,-36\"/>\n",
       "<text text-anchor=\"start\" x=\"45.5\" y=\"-20.4\" font-family=\"RobotoMono\" font-weight=\"bold\" font-size=\"12.00\" fill=\"#002b36\">test_acc</text>\n",
       "<text text-anchor=\"start\" x=\"8\" y=\"-10\" font-family=\"RobotoMono\" font-size=\"10.00\" fill=\"#268bd2\">2 values (2 sources/2 sinks)</text>\n",
       "</g>\n",
       "<!-- model -->\n",
       "<g id=\"node2\" class=\"node\">\n",
       "<title>model</title>\n",
       "<path fill=\"none\" stroke=\"#268bd2\" d=\"M286,-36C286,-36 170,-36 170,-36 164,-36 158,-30 158,-24 158,-24 158,-12 158,-12 158,-6 164,0 170,0 170,0 286,0 286,0 292,0 298,-6 298,-12 298,-12 298,-24 298,-24 298,-30 292,-36 286,-36\"/>\n",
       "<text text-anchor=\"start\" x=\"209\" y=\"-20.4\" font-family=\"RobotoMono\" font-weight=\"bold\" font-size=\"12.00\" fill=\"#002b36\">model</text>\n",
       "<text text-anchor=\"start\" x=\"166\" y=\"-10\" font-family=\"RobotoMono\" font-size=\"10.00\" fill=\"#268bd2\">4 values (4 sources/4 sinks)</text>\n",
       "</g>\n",
       "</g>\n",
       "</svg>\n"
      ],
      "text/plain": [
       "<graphviz.sources.Source at 0x79563922afe0>"
      ]
     },
     "metadata": {},
     "output_type": "display_data"
    }
   ],
   "source": [
    "cf = storage.cf({'model': models, 'test_acc': test_accs})\n",
    "pprint(cf)\n",
    "cf.draw(verbose=True)"
   ]
  },
  {
   "cell_type": "markdown",
   "metadata": {},
   "source": [
    "Again, this is not interesting unless you `expand` back and/or forward. We can \n",
    "illustrate by expanding only the `model` variable forward:"
   ]
  },
  {
   "cell_type": "code",
   "execution_count": 11,
   "metadata": {
    "execution": {
     "iopub.execute_input": "2024-07-02T21:04:57.864018Z",
     "iopub.status.busy": "2024-07-02T21:04:57.863529Z",
     "iopub.status.idle": "2024-07-02T21:04:57.968455Z",
     "shell.execute_reply": "2024-07-02T21:04:57.967808Z"
    }
   },
   "outputs": [
    {
     "data": {
      "image/svg+xml": [
       "<?xml version=\"1.0\" encoding=\"UTF-8\" standalone=\"no\"?>\n",
       "<!DOCTYPE svg PUBLIC \"-//W3C//DTD SVG 1.1//EN\"\n",
       " \"http://www.w3.org/Graphics/SVG/1.1/DTD/svg11.dtd\">\n",
       "<!-- Generated by graphviz version 2.50.0 (0)\n",
       " -->\n",
       "<!-- Title: G Pages: 1 -->\n",
       "<svg width=\"148pt\" height=\"236pt\"\n",
       " viewBox=\"0.00 0.00 148.00 236.00\" xmlns=\"http://www.w3.org/2000/svg\" xmlns:xlink=\"http://www.w3.org/1999/xlink\">\n",
       "<g id=\"graph0\" class=\"graph\" transform=\"scale(1 1) rotate(0) translate(4 232)\">\n",
       "<title>G</title>\n",
       "<polygon fill=\"white\" stroke=\"transparent\" points=\"-4,4 -4,-232 144,-232 144,4 -4,4\"/>\n",
       "<!-- test_acc -->\n",
       "<g id=\"node1\" class=\"node\">\n",
       "<title>test_acc</title>\n",
       "<path fill=\"none\" stroke=\"#268bd2\" d=\"M104.5,-36C104.5,-36 35.5,-36 35.5,-36 29.5,-36 23.5,-30 23.5,-24 23.5,-24 23.5,-12 23.5,-12 23.5,-6 29.5,0 35.5,0 35.5,0 104.5,0 104.5,0 110.5,0 116.5,-6 116.5,-12 116.5,-12 116.5,-24 116.5,-24 116.5,-30 110.5,-36 104.5,-36\"/>\n",
       "<text text-anchor=\"start\" x=\"45.5\" y=\"-20.4\" font-family=\"RobotoMono\" font-weight=\"bold\" font-size=\"12.00\" fill=\"#002b36\">test_acc</text>\n",
       "<text text-anchor=\"start\" x=\"31.5\" y=\"-10\" font-family=\"RobotoMono\" font-size=\"10.00\" fill=\"#268bd2\">2 values (2 sinks)</text>\n",
       "</g>\n",
       "<!-- model -->\n",
       "<g id=\"node2\" class=\"node\">\n",
       "<title>model</title>\n",
       "<path fill=\"none\" stroke=\"#268bd2\" d=\"M128,-228C128,-228 12,-228 12,-228 6,-228 0,-222 0,-216 0,-216 0,-204 0,-204 0,-198 6,-192 12,-192 12,-192 128,-192 128,-192 134,-192 140,-198 140,-204 140,-204 140,-216 140,-216 140,-222 134,-228 128,-228\"/>\n",
       "<text text-anchor=\"start\" x=\"51\" y=\"-212.4\" font-family=\"RobotoMono\" font-weight=\"bold\" font-size=\"12.00\" fill=\"#002b36\">model</text>\n",
       "<text text-anchor=\"start\" x=\"8\" y=\"-202\" font-family=\"RobotoMono\" font-size=\"10.00\" fill=\"#268bd2\">4 values (4 sources/2 sinks)</text>\n",
       "</g>\n",
       "<!-- eval_model -->\n",
       "<g id=\"node3\" class=\"node\">\n",
       "<title>eval_model</title>\n",
       "<path fill=\"none\" stroke=\"#dc322f\" d=\"M104,-134C104,-134 36,-134 36,-134 30,-134 24,-128 24,-122 24,-122 24,-106 24,-106 24,-100 30,-94 36,-94 36,-94 104,-94 104,-94 110,-94 116,-100 116,-106 116,-106 116,-122 116,-122 116,-128 110,-134 104,-134\"/>\n",
       "<text text-anchor=\"start\" x=\"36\" y=\"-121.4\" font-family=\"RobotoMono\" font-weight=\"bold\" font-size=\"12.00\" fill=\"#002b36\">eval_model</text>\n",
       "<text text-anchor=\"start\" x=\"32\" y=\"-111\" font-family=\"RobotoMono\" font-size=\"10.00\" fill=\"#002b36\">@op:eval_model</text>\n",
       "<text text-anchor=\"start\" x=\"56\" y=\"-101\" font-family=\"RobotoMono\" font-size=\"10.00\" fill=\"#dc322f\">2 calls</text>\n",
       "</g>\n",
       "<!-- model&#45;&gt;eval_model -->\n",
       "<g id=\"edge1\" class=\"edge\">\n",
       "<title>model&#45;&gt;eval_model</title>\n",
       "<path fill=\"none\" stroke=\"#002b36\" d=\"M70,-191.76C70,-178.5 70,-159.86 70,-144.27\"/>\n",
       "<polygon fill=\"#002b36\" stroke=\"#002b36\" points=\"73.5,-144.07 70,-134.07 66.5,-144.07 73.5,-144.07\"/>\n",
       "<text text-anchor=\"middle\" x=\"92\" y=\"-166\" font-family=\"RobotoMono\" font-size=\"10.00\" fill=\"#002b36\">model</text>\n",
       "<text text-anchor=\"middle\" x=\"92\" y=\"-155\" font-family=\"RobotoMono\" font-size=\"10.00\" fill=\"#002b36\">(2 values)</text>\n",
       "</g>\n",
       "<!-- eval_model&#45;&gt;test_acc -->\n",
       "<g id=\"edge2\" class=\"edge\">\n",
       "<title>eval_model&#45;&gt;test_acc</title>\n",
       "<path fill=\"none\" stroke=\"#002b36\" d=\"M70,-93.98C70,-80.34 70,-61.75 70,-46.5\"/>\n",
       "<polygon fill=\"#002b36\" stroke=\"#002b36\" points=\"73.5,-46.1 70,-36.1 66.5,-46.1 73.5,-46.1\"/>\n",
       "<text text-anchor=\"middle\" x=\"92\" y=\"-68\" font-family=\"RobotoMono\" font-size=\"10.00\" fill=\"#002b36\">output_0</text>\n",
       "<text text-anchor=\"middle\" x=\"92\" y=\"-57\" font-family=\"RobotoMono\" font-size=\"10.00\" fill=\"#002b36\">(2 values)</text>\n",
       "</g>\n",
       "</g>\n",
       "</svg>\n"
      ],
      "text/plain": [
       "<graphviz.sources.Source at 0x79563922aec0>"
      ]
     },
     "metadata": {},
     "output_type": "display_data"
    }
   ],
   "source": [
    "cf.expand_forward(varnames=['model'], inplace=True)\n",
    "cf.draw(verbose=True)"
   ]
  },
  {
   "cell_type": "markdown",
   "metadata": {},
   "source": [
    "The expansion algorithm figures out that the calls to `eval_model` we add\n",
    "should connect to the `test_acc` variable."
   ]
  },
  {
   "cell_type": "markdown",
   "metadata": {},
   "source": [
    "### From any collection of calls\n",
    "TODO"
   ]
  },
  {
   "cell_type": "markdown",
   "metadata": {},
   "source": [
    "## Exploring storage by expanding `ComputationFrame`s \n",
    "Once a CF is created, you can add computational context to it by calling one of\n",
    "a few methods:"
   ]
  },
  {
   "cell_type": "code",
   "execution_count": 12,
   "metadata": {
    "execution": {
     "iopub.execute_input": "2024-07-02T21:04:57.972045Z",
     "iopub.status.busy": "2024-07-02T21:04:57.971414Z",
     "iopub.status.idle": "2024-07-02T21:04:58.009579Z",
     "shell.execute_reply": "2024-07-02T21:04:58.007458Z"
    }
   },
   "outputs": [
    {
     "data": {
      "text/html": [
       "<pre style=\"white-space:pre;overflow-x:auto;line-height:normal;font-family:Menlo,'DejaVu Sans Mono',consolas,'Courier New',monospace\">Docstring for `expand_back`:\n",
       "</pre>\n"
      ],
      "text/plain": [
       "Docstring for `expand_back`:\n"
      ]
     },
     "metadata": {},
     "output_type": "display_data"
    },
    {
     "data": {
      "text/html": [
       "<pre style=\"white-space:pre;overflow-x:auto;line-height:normal;font-family:Menlo,'DejaVu Sans Mono',consolas,'Courier New',monospace\">\n",
       "        Join to the CF the calls that created all refs in the given variables\n",
       "        that currently do not have a connected creator call in the CF.\n",
       "\n",
       "        If such refs are found, this will result to the addition of \n",
       "        - new function nodes for the calls that created these refs;\n",
       "        - new variable nodes for the *inputs* of these calls.\n",
       "\n",
       "        The number of these nodes and how they connect to the CF will depend on\n",
       "        the structure of the calls that created the refs. \n",
       "\n",
       "        Arguments:\n",
       "        - `varnames`: the names of the variables to expand; if <span style=\"color: #800080; text-decoration-color: #800080; font-style: italic\">None</span>, expand all\n",
       "        the `Ref`s that don't have a creator call in any function node of the CF\n",
       "        that is connected to the `Ref`'s variable node as an output.\n",
       "        - `recursive`: if <span style=\"color: #00ff00; text-decoration-color: #00ff00; font-style: italic\">True</span>, keep expanding until a fixed point is reached\n",
       "        \n",
       "</pre>\n"
      ],
      "text/plain": [
       "\n",
       "        Join to the CF the calls that created all refs in the given variables\n",
       "        that currently do not have a connected creator call in the CF.\n",
       "\n",
       "        If such refs are found, this will result to the addition of \n",
       "        - new function nodes for the calls that created these refs;\n",
       "        - new variable nodes for the *inputs* of these calls.\n",
       "\n",
       "        The number of these nodes and how they connect to the CF will depend on\n",
       "        the structure of the calls that created the refs. \n",
       "\n",
       "        Arguments:\n",
       "        - `varnames`: the names of the variables to expand; if \u001b[3;35mNone\u001b[0m, expand all\n",
       "        the `Ref`s that don't have a creator call in any function node of the CF\n",
       "        that is connected to the `Ref`'s variable node as an output.\n",
       "        - `recursive`: if \u001b[3;92mTrue\u001b[0m, keep expanding until a fixed point is reached\n",
       "        \n"
      ]
     },
     "metadata": {},
     "output_type": "display_data"
    },
    {
     "data": {
      "text/html": [
       "<pre style=\"white-space:pre;overflow-x:auto;line-height:normal;font-family:Menlo,'DejaVu Sans Mono',consolas,'Courier New',monospace\">Docstring for `expand_forward`:\n",
       "</pre>\n"
      ],
      "text/plain": [
       "Docstring for `expand_forward`:\n"
      ]
     },
     "metadata": {},
     "output_type": "display_data"
    },
    {
     "data": {
      "text/html": [
       "<pre style=\"white-space:pre;overflow-x:auto;line-height:normal;font-family:Menlo,'DejaVu Sans Mono',consolas,'Courier New',monospace\">\n",
       "        Join the calls that consume the given variables; see `expand_back` <span style=\"font-weight: bold\">(</span>the \n",
       "        dual operation<span style=\"font-weight: bold\">)</span> for more details.\n",
       "        \n",
       "</pre>\n"
      ],
      "text/plain": [
       "\n",
       "        Join the calls that consume the given variables; see `expand_back` \u001b[1m(\u001b[0mthe \n",
       "        dual operation\u001b[1m)\u001b[0m for more details.\n",
       "        \n"
      ]
     },
     "metadata": {},
     "output_type": "display_data"
    },
    {
     "data": {
      "text/html": [
       "<pre style=\"white-space:pre;overflow-x:auto;line-height:normal;font-family:Menlo,'DejaVu Sans Mono',consolas,'Courier New',monospace\">Docstring for `expand_all`:\n",
       "</pre>\n"
      ],
      "text/plain": [
       "Docstring for `expand_all`:\n"
      ]
     },
     "metadata": {},
     "output_type": "display_data"
    },
    {
     "data": {
      "text/html": [
       "<pre style=\"white-space:pre;overflow-x:auto;line-height:normal;font-family:Menlo,'DejaVu Sans Mono',consolas,'Courier New',monospace\">\n",
       "        Expand the computation frame by repeatedly applying `expand_back` and\n",
       "        `expand_forward` until a fixed point is reached.\n",
       "        \n",
       "</pre>\n"
      ],
      "text/plain": [
       "\n",
       "        Expand the computation frame by repeatedly applying `expand_back` and\n",
       "        `expand_forward` until a fixed point is reached.\n",
       "        \n"
      ]
     },
     "metadata": {},
     "output_type": "display_data"
    }
   ],
   "source": [
    "pprint('Docstring for `expand_back`:')\n",
    "pprint(cf.expand_back.__doc__)\n",
    "pprint('Docstring for `expand_forward`:')\n",
    "pprint(cf.expand_forward.__doc__)\n",
    "pprint('Docstring for `expand_all`:')\n",
    "pprint(cf.expand_all.__doc__)"
   ]
  },
  {
   "cell_type": "markdown",
   "metadata": {},
   "source": [
    "### Selective expansion with `expand_back`, `expand_forward`\n",
    "You can be very precise about which calls to add to the CF. For example, you can\n",
    "expand variables one by one. **When this results in convergent histories, the CF\n",
    "will detect this and reuse the calls**:  "
   ]
  },
  {
   "cell_type": "code",
   "execution_count": 13,
   "metadata": {
    "execution": {
     "iopub.execute_input": "2024-07-02T21:04:58.015712Z",
     "iopub.status.busy": "2024-07-02T21:04:58.015082Z",
     "iopub.status.idle": "2024-07-02T21:04:58.179529Z",
     "shell.execute_reply": "2024-07-02T21:04:58.178374Z"
    }
   },
   "outputs": [
    {
     "data": {
      "image/svg+xml": [
       "<?xml version=\"1.0\" encoding=\"UTF-8\" standalone=\"no\"?>\n",
       "<!DOCTYPE svg PUBLIC \"-//W3C//DTD SVG 1.1//EN\"\n",
       " \"http://www.w3.org/Graphics/SVG/1.1/DTD/svg11.dtd\">\n",
       "<!-- Generated by graphviz version 2.50.0 (0)\n",
       " -->\n",
       "<!-- Title: G Pages: 1 -->\n",
       "<svg width=\"362pt\" height=\"236pt\"\n",
       " viewBox=\"0.00 0.00 362.00 236.00\" xmlns=\"http://www.w3.org/2000/svg\" xmlns:xlink=\"http://www.w3.org/1999/xlink\">\n",
       "<g id=\"graph0\" class=\"graph\" transform=\"scale(1 1) rotate(0) translate(4 232)\">\n",
       "<title>G</title>\n",
       "<polygon fill=\"white\" stroke=\"transparent\" points=\"-4,4 -4,-232 358,-232 358,4 -4,4\"/>\n",
       "<!-- v -->\n",
       "<g id=\"node1\" class=\"node\">\n",
       "<title>v</title>\n",
       "<path fill=\"none\" stroke=\"#268bd2\" d=\"M211.5,-36C211.5,-36 142.5,-36 142.5,-36 136.5,-36 130.5,-30 130.5,-24 130.5,-24 130.5,-12 130.5,-12 130.5,-6 136.5,0 142.5,0 142.5,0 211.5,0 211.5,0 217.5,0 223.5,-6 223.5,-12 223.5,-12 223.5,-24 223.5,-24 223.5,-30 217.5,-36 211.5,-36\"/>\n",
       "<text text-anchor=\"start\" x=\"173.5\" y=\"-20.4\" font-family=\"RobotoMono\" font-weight=\"bold\" font-size=\"12.00\" fill=\"#002b36\">v</text>\n",
       "<text text-anchor=\"start\" x=\"138.5\" y=\"-10\" font-family=\"RobotoMono\" font-size=\"10.00\" fill=\"#268bd2\">1 values (1 sinks)</text>\n",
       "</g>\n",
       "<!-- y_test -->\n",
       "<g id=\"node2\" class=\"node\">\n",
       "<title>y_test</title>\n",
       "<path fill=\"none\" stroke=\"#268bd2\" d=\"M94,-228C94,-228 12,-228 12,-228 6,-228 0,-222 0,-216 0,-216 0,-204 0,-204 0,-198 6,-192 12,-192 12,-192 94,-192 94,-192 100,-192 106,-198 106,-204 106,-204 106,-216 106,-216 106,-222 100,-228 94,-228\"/>\n",
       "<text text-anchor=\"start\" x=\"35\" y=\"-212.4\" font-family=\"RobotoMono\" font-weight=\"bold\" font-size=\"12.00\" fill=\"#002b36\">y_test</text>\n",
       "<text text-anchor=\"start\" x=\"8\" y=\"-202\" font-family=\"RobotoMono\" font-size=\"10.00\" fill=\"#268bd2\">1 values (1 sources)</text>\n",
       "</g>\n",
       "<!-- eval_model -->\n",
       "<g id=\"node5\" class=\"node\">\n",
       "<title>eval_model</title>\n",
       "<path fill=\"none\" stroke=\"#dc322f\" d=\"M211,-134C211,-134 143,-134 143,-134 137,-134 131,-128 131,-122 131,-122 131,-106 131,-106 131,-100 137,-94 143,-94 143,-94 211,-94 211,-94 217,-94 223,-100 223,-106 223,-106 223,-122 223,-122 223,-128 217,-134 211,-134\"/>\n",
       "<text text-anchor=\"start\" x=\"143\" y=\"-121.4\" font-family=\"RobotoMono\" font-weight=\"bold\" font-size=\"12.00\" fill=\"#002b36\">eval_model</text>\n",
       "<text text-anchor=\"start\" x=\"139\" y=\"-111\" font-family=\"RobotoMono\" font-size=\"10.00\" fill=\"#002b36\">@op:eval_model</text>\n",
       "<text text-anchor=\"start\" x=\"163\" y=\"-101\" font-family=\"RobotoMono\" font-size=\"10.00\" fill=\"#dc322f\">1 calls</text>\n",
       "</g>\n",
       "<!-- y_test&#45;&gt;eval_model -->\n",
       "<g id=\"edge2\" class=\"edge\">\n",
       "<title>y_test&#45;&gt;eval_model</title>\n",
       "<path fill=\"none\" stroke=\"#002b36\" d=\"M75.46,-191.98C94.43,-177.59 121.89,-156.78 143.47,-140.42\"/>\n",
       "<polygon fill=\"#002b36\" stroke=\"#002b36\" points=\"145.87,-142.99 151.72,-134.16 141.64,-137.41 145.87,-142.99\"/>\n",
       "<text text-anchor=\"middle\" x=\"149\" y=\"-166\" font-family=\"RobotoMono\" font-size=\"10.00\" fill=\"#002b36\">y_test</text>\n",
       "<text text-anchor=\"middle\" x=\"149\" y=\"-155\" font-family=\"RobotoMono\" font-size=\"10.00\" fill=\"#002b36\">(1 values)</text>\n",
       "</g>\n",
       "<!-- model -->\n",
       "<g id=\"node3\" class=\"node\">\n",
       "<title>model</title>\n",
       "<path fill=\"none\" stroke=\"#268bd2\" d=\"M218,-228C218,-228 136,-228 136,-228 130,-228 124,-222 124,-216 124,-216 124,-204 124,-204 124,-198 130,-192 136,-192 136,-192 218,-192 218,-192 224,-192 230,-198 230,-204 230,-204 230,-216 230,-216 230,-222 224,-228 218,-228\"/>\n",
       "<text text-anchor=\"start\" x=\"158\" y=\"-212.4\" font-family=\"RobotoMono\" font-weight=\"bold\" font-size=\"12.00\" fill=\"#002b36\">model</text>\n",
       "<text text-anchor=\"start\" x=\"132\" y=\"-202\" font-family=\"RobotoMono\" font-size=\"10.00\" fill=\"#268bd2\">1 values (1 sources)</text>\n",
       "</g>\n",
       "<!-- model&#45;&gt;eval_model -->\n",
       "<g id=\"edge4\" class=\"edge\">\n",
       "<title>model&#45;&gt;eval_model</title>\n",
       "<path fill=\"none\" stroke=\"#002b36\" d=\"M177,-191.76C177,-178.5 177,-159.86 177,-144.27\"/>\n",
       "<polygon fill=\"#002b36\" stroke=\"#002b36\" points=\"180.5,-144.07 177,-134.07 173.5,-144.07 180.5,-144.07\"/>\n",
       "<text text-anchor=\"middle\" x=\"199\" y=\"-166\" font-family=\"RobotoMono\" font-size=\"10.00\" fill=\"#002b36\">model</text>\n",
       "<text text-anchor=\"middle\" x=\"199\" y=\"-155\" font-family=\"RobotoMono\" font-size=\"10.00\" fill=\"#002b36\">(1 values)</text>\n",
       "</g>\n",
       "<!-- X_test -->\n",
       "<g id=\"node4\" class=\"node\">\n",
       "<title>X_test</title>\n",
       "<path fill=\"none\" stroke=\"#268bd2\" d=\"M342,-228C342,-228 260,-228 260,-228 254,-228 248,-222 248,-216 248,-216 248,-204 248,-204 248,-198 254,-192 260,-192 260,-192 342,-192 342,-192 348,-192 354,-198 354,-204 354,-204 354,-216 354,-216 354,-222 348,-228 342,-228\"/>\n",
       "<text text-anchor=\"start\" x=\"282.5\" y=\"-212.4\" font-family=\"RobotoMono\" font-weight=\"bold\" font-size=\"12.00\" fill=\"#002b36\">X_test</text>\n",
       "<text text-anchor=\"start\" x=\"256\" y=\"-202\" font-family=\"RobotoMono\" font-size=\"10.00\" fill=\"#268bd2\">1 values (1 sources)</text>\n",
       "</g>\n",
       "<!-- X_test&#45;&gt;eval_model -->\n",
       "<g id=\"edge3\" class=\"edge\">\n",
       "<title>X_test&#45;&gt;eval_model</title>\n",
       "<path fill=\"none\" stroke=\"#002b36\" d=\"M278.54,-191.98C259.57,-177.59 232.11,-156.78 210.53,-140.42\"/>\n",
       "<polygon fill=\"#002b36\" stroke=\"#002b36\" points=\"212.36,-137.41 202.28,-134.16 208.13,-142.99 212.36,-137.41\"/>\n",
       "<text text-anchor=\"middle\" x=\"275\" y=\"-166\" font-family=\"RobotoMono\" font-size=\"10.00\" fill=\"#002b36\">X_test</text>\n",
       "<text text-anchor=\"middle\" x=\"275\" y=\"-155\" font-family=\"RobotoMono\" font-size=\"10.00\" fill=\"#002b36\">(1 values)</text>\n",
       "</g>\n",
       "<!-- eval_model&#45;&gt;v -->\n",
       "<g id=\"edge1\" class=\"edge\">\n",
       "<title>eval_model&#45;&gt;v</title>\n",
       "<path fill=\"none\" stroke=\"#002b36\" d=\"M177,-93.98C177,-80.34 177,-61.75 177,-46.5\"/>\n",
       "<polygon fill=\"#002b36\" stroke=\"#002b36\" points=\"180.5,-46.1 177,-36.1 173.5,-46.1 180.5,-46.1\"/>\n",
       "<text text-anchor=\"middle\" x=\"199\" y=\"-68\" font-family=\"RobotoMono\" font-size=\"10.00\" fill=\"#002b36\">output_0</text>\n",
       "<text text-anchor=\"middle\" x=\"199\" y=\"-57\" font-family=\"RobotoMono\" font-size=\"10.00\" fill=\"#002b36\">(1 values)</text>\n",
       "</g>\n",
       "</g>\n",
       "</svg>\n"
      ],
      "text/plain": [
       "<graphviz.sources.Source at 0x79563922ac20>"
      ]
     },
     "metadata": {},
     "output_type": "display_data"
    }
   ],
   "source": [
    "cf = storage.cf(test_acc)\n",
    "cf = cf.expand_back('v')\n",
    "cf.draw(verbose=True)"
   ]
  },
  {
   "cell_type": "code",
   "execution_count": 14,
   "metadata": {
    "execution": {
     "iopub.execute_input": "2024-07-02T21:04:58.184307Z",
     "iopub.status.busy": "2024-07-02T21:04:58.183560Z",
     "iopub.status.idle": "2024-07-02T21:04:58.324288Z",
     "shell.execute_reply": "2024-07-02T21:04:58.323526Z"
    }
   },
   "outputs": [
    {
     "data": {
      "image/svg+xml": [
       "<?xml version=\"1.0\" encoding=\"UTF-8\" standalone=\"no\"?>\n",
       "<!DOCTYPE svg PUBLIC \"-//W3C//DTD SVG 1.1//EN\"\n",
       " \"http://www.w3.org/Graphics/SVG/1.1/DTD/svg11.dtd\">\n",
       "<!-- Generated by graphviz version 2.50.0 (0)\n",
       " -->\n",
       "<!-- Title: G Pages: 1 -->\n",
       "<svg width=\"344pt\" height=\"428pt\"\n",
       " viewBox=\"0.00 0.00 344.00 428.00\" xmlns=\"http://www.w3.org/2000/svg\" xmlns:xlink=\"http://www.w3.org/1999/xlink\">\n",
       "<g id=\"graph0\" class=\"graph\" transform=\"scale(1 1) rotate(0) translate(4 424)\">\n",
       "<title>G</title>\n",
       "<polygon fill=\"white\" stroke=\"transparent\" points=\"-4,4 -4,-424 340,-424 340,4 -4,4\"/>\n",
       "<!-- random_seed -->\n",
       "<g id=\"node1\" class=\"node\">\n",
       "<title>random_seed</title>\n",
       "<path fill=\"none\" stroke=\"#268bd2\" d=\"M102,-420C102,-420 20,-420 20,-420 14,-420 8,-414 8,-408 8,-408 8,-396 8,-396 8,-390 14,-384 20,-384 20,-384 102,-384 102,-384 108,-384 114,-390 114,-396 114,-396 114,-408 114,-408 114,-414 108,-420 102,-420\"/>\n",
       "<text text-anchor=\"start\" x=\"20.5\" y=\"-404.4\" font-family=\"RobotoMono\" font-weight=\"bold\" font-size=\"12.00\" fill=\"#002b36\">random_seed</text>\n",
       "<text text-anchor=\"start\" x=\"16\" y=\"-394\" font-family=\"RobotoMono\" font-size=\"10.00\" fill=\"#268bd2\">1 values (1 sources)</text>\n",
       "</g>\n",
       "<!-- generate_dataset -->\n",
       "<g id=\"node6\" class=\"node\">\n",
       "<title>generate_dataset</title>\n",
       "<path fill=\"none\" stroke=\"#dc322f\" d=\"M110,-326C110,-326 12,-326 12,-326 6,-326 0,-320 0,-314 0,-314 0,-298 0,-298 0,-292 6,-286 12,-286 12,-286 110,-286 110,-286 116,-286 122,-292 122,-298 122,-298 122,-314 122,-314 122,-320 116,-326 110,-326\"/>\n",
       "<text text-anchor=\"start\" x=\"8\" y=\"-313.4\" font-family=\"RobotoMono\" font-weight=\"bold\" font-size=\"12.00\" fill=\"#002b36\">generate_dataset</text>\n",
       "<text text-anchor=\"start\" x=\"8\" y=\"-303\" font-family=\"RobotoMono\" font-size=\"10.00\" fill=\"#002b36\">@op:generate_dataset</text>\n",
       "<text text-anchor=\"start\" x=\"47\" y=\"-293\" font-family=\"RobotoMono\" font-size=\"10.00\" fill=\"#dc322f\">1 calls</text>\n",
       "</g>\n",
       "<!-- random_seed&#45;&gt;generate_dataset -->\n",
       "<g id=\"edge6\" class=\"edge\">\n",
       "<title>random_seed&#45;&gt;generate_dataset</title>\n",
       "<path fill=\"none\" stroke=\"#002b36\" d=\"M61,-383.76C61,-370.5 61,-351.86 61,-336.27\"/>\n",
       "<polygon fill=\"#002b36\" stroke=\"#002b36\" points=\"64.5,-336.07 61,-326.07 57.5,-336.07 64.5,-336.07\"/>\n",
       "<text text-anchor=\"middle\" x=\"93\" y=\"-358\" font-family=\"RobotoMono\" font-size=\"10.00\" fill=\"#002b36\">random_seed</text>\n",
       "<text text-anchor=\"middle\" x=\"93\" y=\"-347\" font-family=\"RobotoMono\" font-size=\"10.00\" fill=\"#002b36\">(1 values)</text>\n",
       "</g>\n",
       "<!-- v -->\n",
       "<g id=\"node2\" class=\"node\">\n",
       "<title>v</title>\n",
       "<path fill=\"none\" stroke=\"#268bd2\" d=\"M193.5,-36C193.5,-36 124.5,-36 124.5,-36 118.5,-36 112.5,-30 112.5,-24 112.5,-24 112.5,-12 112.5,-12 112.5,-6 118.5,0 124.5,0 124.5,0 193.5,0 193.5,0 199.5,0 205.5,-6 205.5,-12 205.5,-12 205.5,-24 205.5,-24 205.5,-30 199.5,-36 193.5,-36\"/>\n",
       "<text text-anchor=\"start\" x=\"155.5\" y=\"-20.4\" font-family=\"RobotoMono\" font-weight=\"bold\" font-size=\"12.00\" fill=\"#002b36\">v</text>\n",
       "<text text-anchor=\"start\" x=\"120.5\" y=\"-10\" font-family=\"RobotoMono\" font-size=\"10.00\" fill=\"#268bd2\">1 values (1 sinks)</text>\n",
       "</g>\n",
       "<!-- model -->\n",
       "<g id=\"node3\" class=\"node\">\n",
       "<title>model</title>\n",
       "<path fill=\"none\" stroke=\"#268bd2\" d=\"M200,-228C200,-228 118,-228 118,-228 112,-228 106,-222 106,-216 106,-216 106,-204 106,-204 106,-198 112,-192 118,-192 118,-192 200,-192 200,-192 206,-192 212,-198 212,-204 212,-204 212,-216 212,-216 212,-222 206,-228 200,-228\"/>\n",
       "<text text-anchor=\"start\" x=\"140\" y=\"-212.4\" font-family=\"RobotoMono\" font-weight=\"bold\" font-size=\"12.00\" fill=\"#002b36\">model</text>\n",
       "<text text-anchor=\"start\" x=\"114\" y=\"-202\" font-family=\"RobotoMono\" font-size=\"10.00\" fill=\"#268bd2\">1 values (1 sources)</text>\n",
       "</g>\n",
       "<!-- eval_model -->\n",
       "<g id=\"node7\" class=\"node\">\n",
       "<title>eval_model</title>\n",
       "<path fill=\"none\" stroke=\"#dc322f\" d=\"M193,-134C193,-134 125,-134 125,-134 119,-134 113,-128 113,-122 113,-122 113,-106 113,-106 113,-100 119,-94 125,-94 125,-94 193,-94 193,-94 199,-94 205,-100 205,-106 205,-106 205,-122 205,-122 205,-128 199,-134 193,-134\"/>\n",
       "<text text-anchor=\"start\" x=\"125\" y=\"-121.4\" font-family=\"RobotoMono\" font-weight=\"bold\" font-size=\"12.00\" fill=\"#002b36\">eval_model</text>\n",
       "<text text-anchor=\"start\" x=\"121\" y=\"-111\" font-family=\"RobotoMono\" font-size=\"10.00\" fill=\"#002b36\">@op:eval_model</text>\n",
       "<text text-anchor=\"start\" x=\"145\" y=\"-101\" font-family=\"RobotoMono\" font-size=\"10.00\" fill=\"#dc322f\">1 calls</text>\n",
       "</g>\n",
       "<!-- model&#45;&gt;eval_model -->\n",
       "<g id=\"edge4\" class=\"edge\">\n",
       "<title>model&#45;&gt;eval_model</title>\n",
       "<path fill=\"none\" stroke=\"#002b36\" d=\"M159,-191.76C159,-178.5 159,-159.86 159,-144.27\"/>\n",
       "<polygon fill=\"#002b36\" stroke=\"#002b36\" points=\"162.5,-144.07 159,-134.07 155.5,-144.07 162.5,-144.07\"/>\n",
       "<text text-anchor=\"middle\" x=\"181\" y=\"-166\" font-family=\"RobotoMono\" font-size=\"10.00\" fill=\"#002b36\">model</text>\n",
       "<text text-anchor=\"middle\" x=\"181\" y=\"-155\" font-family=\"RobotoMono\" font-size=\"10.00\" fill=\"#002b36\">(1 values)</text>\n",
       "</g>\n",
       "<!-- y_test -->\n",
       "<g id=\"node4\" class=\"node\">\n",
       "<title>y_test</title>\n",
       "<path fill=\"none\" stroke=\"#268bd2\" d=\"M324,-228C324,-228 242,-228 242,-228 236,-228 230,-222 230,-216 230,-216 230,-204 230,-204 230,-198 236,-192 242,-192 242,-192 324,-192 324,-192 330,-192 336,-198 336,-204 336,-204 336,-216 336,-216 336,-222 330,-228 324,-228\"/>\n",
       "<text text-anchor=\"start\" x=\"265\" y=\"-212.4\" font-family=\"RobotoMono\" font-weight=\"bold\" font-size=\"12.00\" fill=\"#002b36\">y_test</text>\n",
       "<text text-anchor=\"start\" x=\"238\" y=\"-202\" font-family=\"RobotoMono\" font-size=\"10.00\" fill=\"#268bd2\">1 values (1 sources)</text>\n",
       "</g>\n",
       "<!-- y_test&#45;&gt;eval_model -->\n",
       "<g id=\"edge2\" class=\"edge\">\n",
       "<title>y_test&#45;&gt;eval_model</title>\n",
       "<path fill=\"none\" stroke=\"#002b36\" d=\"M260.54,-191.98C241.57,-177.59 214.11,-156.78 192.53,-140.42\"/>\n",
       "<polygon fill=\"#002b36\" stroke=\"#002b36\" points=\"194.36,-137.41 184.28,-134.16 190.13,-142.99 194.36,-137.41\"/>\n",
       "<text text-anchor=\"middle\" x=\"257\" y=\"-166\" font-family=\"RobotoMono\" font-size=\"10.00\" fill=\"#002b36\">y_test</text>\n",
       "<text text-anchor=\"middle\" x=\"257\" y=\"-155\" font-family=\"RobotoMono\" font-size=\"10.00\" fill=\"#002b36\">(1 values)</text>\n",
       "</g>\n",
       "<!-- X_test -->\n",
       "<g id=\"node5\" class=\"node\">\n",
       "<title>X_test</title>\n",
       "<path fill=\"none\" stroke=\"#268bd2\" d=\"M76,-228C76,-228 46,-228 46,-228 40,-228 34,-222 34,-216 34,-216 34,-204 34,-204 34,-198 40,-192 46,-192 46,-192 76,-192 76,-192 82,-192 88,-198 88,-204 88,-204 88,-216 88,-216 88,-222 82,-228 76,-228\"/>\n",
       "<text text-anchor=\"start\" x=\"42.5\" y=\"-212.4\" font-family=\"RobotoMono\" font-weight=\"bold\" font-size=\"12.00\" fill=\"#002b36\">X_test</text>\n",
       "<text text-anchor=\"start\" x=\"42\" y=\"-202\" font-family=\"RobotoMono\" font-size=\"10.00\" fill=\"#268bd2\">1 values</text>\n",
       "</g>\n",
       "<!-- X_test&#45;&gt;eval_model -->\n",
       "<g id=\"edge3\" class=\"edge\">\n",
       "<title>X_test&#45;&gt;eval_model</title>\n",
       "<path fill=\"none\" stroke=\"#002b36\" d=\"M74.63,-191.76C84.26,-180.02 97.75,-164.43 111,-152 115.12,-148.13 119.63,-144.25 124.18,-140.54\"/>\n",
       "<polygon fill=\"#002b36\" stroke=\"#002b36\" points=\"126.67,-143.04 132.34,-134.09 122.33,-137.55 126.67,-143.04\"/>\n",
       "<text text-anchor=\"middle\" x=\"133\" y=\"-166\" font-family=\"RobotoMono\" font-size=\"10.00\" fill=\"#002b36\">X_test</text>\n",
       "<text text-anchor=\"middle\" x=\"133\" y=\"-155\" font-family=\"RobotoMono\" font-size=\"10.00\" fill=\"#002b36\">(1 values)</text>\n",
       "</g>\n",
       "<!-- generate_dataset&#45;&gt;X_test -->\n",
       "<g id=\"edge5\" class=\"edge\">\n",
       "<title>generate_dataset&#45;&gt;X_test</title>\n",
       "<path fill=\"none\" stroke=\"#002b36\" d=\"M61,-285.98C61,-272.34 61,-253.75 61,-238.5\"/>\n",
       "<polygon fill=\"#002b36\" stroke=\"#002b36\" points=\"64.5,-238.1 61,-228.1 57.5,-238.1 64.5,-238.1\"/>\n",
       "<text text-anchor=\"middle\" x=\"83\" y=\"-260\" font-family=\"RobotoMono\" font-size=\"10.00\" fill=\"#002b36\">output_1</text>\n",
       "<text text-anchor=\"middle\" x=\"83\" y=\"-249\" font-family=\"RobotoMono\" font-size=\"10.00\" fill=\"#002b36\">(1 values)</text>\n",
       "</g>\n",
       "<!-- eval_model&#45;&gt;v -->\n",
       "<g id=\"edge1\" class=\"edge\">\n",
       "<title>eval_model&#45;&gt;v</title>\n",
       "<path fill=\"none\" stroke=\"#002b36\" d=\"M159,-93.98C159,-80.34 159,-61.75 159,-46.5\"/>\n",
       "<polygon fill=\"#002b36\" stroke=\"#002b36\" points=\"162.5,-46.1 159,-36.1 155.5,-46.1 162.5,-46.1\"/>\n",
       "<text text-anchor=\"middle\" x=\"181\" y=\"-68\" font-family=\"RobotoMono\" font-size=\"10.00\" fill=\"#002b36\">output_0</text>\n",
       "<text text-anchor=\"middle\" x=\"181\" y=\"-57\" font-family=\"RobotoMono\" font-size=\"10.00\" fill=\"#002b36\">(1 values)</text>\n",
       "</g>\n",
       "</g>\n",
       "</svg>\n"
      ],
      "text/plain": [
       "<graphviz.sources.Source at 0x7956391f6f80>"
      ]
     },
     "metadata": {},
     "output_type": "display_data"
    }
   ],
   "source": [
    "cf = cf.expand_back('X_test')\n",
    "cf.draw(verbose=True)"
   ]
  },
  {
   "cell_type": "code",
   "execution_count": 15,
   "metadata": {
    "execution": {
     "iopub.execute_input": "2024-07-02T21:04:58.327346Z",
     "iopub.status.busy": "2024-07-02T21:04:58.326866Z",
     "iopub.status.idle": "2024-07-02T21:04:58.465033Z",
     "shell.execute_reply": "2024-07-02T21:04:58.464317Z"
    }
   },
   "outputs": [
    {
     "data": {
      "image/svg+xml": [
       "<?xml version=\"1.0\" encoding=\"UTF-8\" standalone=\"no\"?>\n",
       "<!DOCTYPE svg PUBLIC \"-//W3C//DTD SVG 1.1//EN\"\n",
       " \"http://www.w3.org/Graphics/SVG/1.1/DTD/svg11.dtd\">\n",
       "<!-- Generated by graphviz version 2.50.0 (0)\n",
       " -->\n",
       "<!-- Title: G Pages: 1 -->\n",
       "<svg width=\"493pt\" height=\"428pt\"\n",
       " viewBox=\"0.00 0.00 493.00 428.00\" xmlns=\"http://www.w3.org/2000/svg\" xmlns:xlink=\"http://www.w3.org/1999/xlink\">\n",
       "<g id=\"graph0\" class=\"graph\" transform=\"scale(1 1) rotate(0) translate(4 424)\">\n",
       "<title>G</title>\n",
       "<polygon fill=\"white\" stroke=\"transparent\" points=\"-4,4 -4,-424 489,-424 489,4 -4,4\"/>\n",
       "<!-- n_estimators -->\n",
       "<g id=\"node1\" class=\"node\">\n",
       "<title>n_estimators</title>\n",
       "<path fill=\"none\" stroke=\"#268bd2\" d=\"M473,-420C473,-420 391,-420 391,-420 385,-420 379,-414 379,-408 379,-408 379,-396 379,-396 379,-390 385,-384 391,-384 391,-384 473,-384 473,-384 479,-384 485,-390 485,-396 485,-396 485,-408 485,-408 485,-414 479,-420 473,-420\"/>\n",
       "<text text-anchor=\"start\" x=\"392.5\" y=\"-404.4\" font-family=\"RobotoMono\" font-weight=\"bold\" font-size=\"12.00\" fill=\"#002b36\">n_estimators</text>\n",
       "<text text-anchor=\"start\" x=\"387\" y=\"-394\" font-family=\"RobotoMono\" font-size=\"10.00\" fill=\"#268bd2\">1 values (1 sources)</text>\n",
       "</g>\n",
       "<!-- train_model -->\n",
       "<g id=\"node9\" class=\"node\">\n",
       "<title>train_model</title>\n",
       "<path fill=\"none\" stroke=\"#dc322f\" d=\"M342.5,-326C342.5,-326 271.5,-326 271.5,-326 265.5,-326 259.5,-320 259.5,-314 259.5,-314 259.5,-298 259.5,-298 259.5,-292 265.5,-286 271.5,-286 271.5,-286 342.5,-286 342.5,-286 348.5,-286 354.5,-292 354.5,-298 354.5,-298 354.5,-314 354.5,-314 354.5,-320 348.5,-326 342.5,-326\"/>\n",
       "<text text-anchor=\"start\" x=\"270.5\" y=\"-313.4\" font-family=\"RobotoMono\" font-weight=\"bold\" font-size=\"12.00\" fill=\"#002b36\">train_model</text>\n",
       "<text text-anchor=\"start\" x=\"267.5\" y=\"-303\" font-family=\"RobotoMono\" font-size=\"10.00\" fill=\"#002b36\">@op:train_model</text>\n",
       "<text text-anchor=\"start\" x=\"293\" y=\"-293\" font-family=\"RobotoMono\" font-size=\"10.00\" fill=\"#dc322f\">1 calls</text>\n",
       "</g>\n",
       "<!-- n_estimators&#45;&gt;train_model -->\n",
       "<g id=\"edge9\" class=\"edge\">\n",
       "<title>n_estimators&#45;&gt;train_model</title>\n",
       "<path fill=\"none\" stroke=\"#002b36\" d=\"M409.36,-383.98C390.15,-369.53 362.31,-348.59 340.51,-332.2\"/>\n",
       "<polygon fill=\"#002b36\" stroke=\"#002b36\" points=\"342.58,-329.38 332.48,-326.16 338.37,-334.97 342.58,-329.38\"/>\n",
       "<text text-anchor=\"middle\" x=\"414.5\" y=\"-358\" font-family=\"RobotoMono\" font-size=\"10.00\" fill=\"#002b36\">n_estimators</text>\n",
       "<text text-anchor=\"middle\" x=\"414.5\" y=\"-347\" font-family=\"RobotoMono\" font-size=\"10.00\" fill=\"#002b36\">(1 values)</text>\n",
       "</g>\n",
       "<!-- X_train -->\n",
       "<g id=\"node2\" class=\"node\">\n",
       "<title>X_train</title>\n",
       "<path fill=\"none\" stroke=\"#268bd2\" d=\"M225,-420C225,-420 143,-420 143,-420 137,-420 131,-414 131,-408 131,-408 131,-396 131,-396 131,-390 137,-384 143,-384 143,-384 225,-384 225,-384 231,-384 237,-390 237,-396 237,-396 237,-408 237,-408 237,-414 231,-420 225,-420\"/>\n",
       "<text text-anchor=\"start\" x=\"162\" y=\"-404.4\" font-family=\"RobotoMono\" font-weight=\"bold\" font-size=\"12.00\" fill=\"#002b36\">X_train</text>\n",
       "<text text-anchor=\"start\" x=\"139\" y=\"-394\" font-family=\"RobotoMono\" font-size=\"10.00\" fill=\"#268bd2\">1 values (1 sources)</text>\n",
       "</g>\n",
       "<!-- X_train&#45;&gt;train_model -->\n",
       "<g id=\"edge8\" class=\"edge\">\n",
       "<title>X_train&#45;&gt;train_model</title>\n",
       "<path fill=\"none\" stroke=\"#002b36\" d=\"M206.27,-383.98C225.1,-369.59 252.34,-348.78 273.74,-332.42\"/>\n",
       "<polygon fill=\"#002b36\" stroke=\"#002b36\" points=\"276.11,-335.02 281.93,-326.16 271.86,-329.45 276.11,-335.02\"/>\n",
       "<text text-anchor=\"middle\" x=\"279\" y=\"-358\" font-family=\"RobotoMono\" font-size=\"10.00\" fill=\"#002b36\">X_train</text>\n",
       "<text text-anchor=\"middle\" x=\"279\" y=\"-347\" font-family=\"RobotoMono\" font-size=\"10.00\" fill=\"#002b36\">(1 values)</text>\n",
       "</g>\n",
       "<!-- random_seed -->\n",
       "<g id=\"node3\" class=\"node\">\n",
       "<title>random_seed</title>\n",
       "<path fill=\"none\" stroke=\"#268bd2\" d=\"M101,-420C101,-420 19,-420 19,-420 13,-420 7,-414 7,-408 7,-408 7,-396 7,-396 7,-390 13,-384 19,-384 19,-384 101,-384 101,-384 107,-384 113,-390 113,-396 113,-396 113,-408 113,-408 113,-414 107,-420 101,-420\"/>\n",
       "<text text-anchor=\"start\" x=\"19.5\" y=\"-404.4\" font-family=\"RobotoMono\" font-weight=\"bold\" font-size=\"12.00\" fill=\"#002b36\">random_seed</text>\n",
       "<text text-anchor=\"start\" x=\"15\" y=\"-394\" font-family=\"RobotoMono\" font-size=\"10.00\" fill=\"#268bd2\">1 values (1 sources)</text>\n",
       "</g>\n",
       "<!-- generate_dataset -->\n",
       "<g id=\"node10\" class=\"node\">\n",
       "<title>generate_dataset</title>\n",
       "<path fill=\"none\" stroke=\"#dc322f\" d=\"M110,-326C110,-326 12,-326 12,-326 6,-326 0,-320 0,-314 0,-314 0,-298 0,-298 0,-292 6,-286 12,-286 12,-286 110,-286 110,-286 116,-286 122,-292 122,-298 122,-298 122,-314 122,-314 122,-320 116,-326 110,-326\"/>\n",
       "<text text-anchor=\"start\" x=\"8\" y=\"-313.4\" font-family=\"RobotoMono\" font-weight=\"bold\" font-size=\"12.00\" fill=\"#002b36\">generate_dataset</text>\n",
       "<text text-anchor=\"start\" x=\"8\" y=\"-303\" font-family=\"RobotoMono\" font-size=\"10.00\" fill=\"#002b36\">@op:generate_dataset</text>\n",
       "<text text-anchor=\"start\" x=\"47\" y=\"-293\" font-family=\"RobotoMono\" font-size=\"10.00\" fill=\"#dc322f\">1 calls</text>\n",
       "</g>\n",
       "<!-- random_seed&#45;&gt;generate_dataset -->\n",
       "<g id=\"edge6\" class=\"edge\">\n",
       "<title>random_seed&#45;&gt;generate_dataset</title>\n",
       "<path fill=\"none\" stroke=\"#002b36\" d=\"M60.18,-383.76C60.32,-370.5 60.52,-351.86 60.69,-336.27\"/>\n",
       "<polygon fill=\"#002b36\" stroke=\"#002b36\" points=\"64.19,-336.11 60.8,-326.07 57.19,-336.03 64.19,-336.11\"/>\n",
       "<text text-anchor=\"middle\" x=\"93\" y=\"-358\" font-family=\"RobotoMono\" font-size=\"10.00\" fill=\"#002b36\">random_seed</text>\n",
       "<text text-anchor=\"middle\" x=\"93\" y=\"-347\" font-family=\"RobotoMono\" font-size=\"10.00\" fill=\"#002b36\">(1 values)</text>\n",
       "</g>\n",
       "<!-- v -->\n",
       "<g id=\"node4\" class=\"node\">\n",
       "<title>v</title>\n",
       "<path fill=\"none\" stroke=\"#268bd2\" d=\"M238.5,-36C238.5,-36 169.5,-36 169.5,-36 163.5,-36 157.5,-30 157.5,-24 157.5,-24 157.5,-12 157.5,-12 157.5,-6 163.5,0 169.5,0 169.5,0 238.5,0 238.5,0 244.5,0 250.5,-6 250.5,-12 250.5,-12 250.5,-24 250.5,-24 250.5,-30 244.5,-36 238.5,-36\"/>\n",
       "<text text-anchor=\"start\" x=\"200.5\" y=\"-20.4\" font-family=\"RobotoMono\" font-weight=\"bold\" font-size=\"12.00\" fill=\"#002b36\">v</text>\n",
       "<text text-anchor=\"start\" x=\"165.5\" y=\"-10\" font-family=\"RobotoMono\" font-size=\"10.00\" fill=\"#268bd2\">1 values (1 sinks)</text>\n",
       "</g>\n",
       "<!-- model -->\n",
       "<g id=\"node5\" class=\"node\">\n",
       "<title>model</title>\n",
       "<path fill=\"none\" stroke=\"#268bd2\" d=\"M320,-228C320,-228 290,-228 290,-228 284,-228 278,-222 278,-216 278,-216 278,-204 278,-204 278,-198 284,-192 290,-192 290,-192 320,-192 320,-192 326,-192 332,-198 332,-204 332,-204 332,-216 332,-216 332,-222 326,-228 320,-228\"/>\n",
       "<text text-anchor=\"start\" x=\"286\" y=\"-212.4\" font-family=\"RobotoMono\" font-weight=\"bold\" font-size=\"12.00\" fill=\"#002b36\">model</text>\n",
       "<text text-anchor=\"start\" x=\"286\" y=\"-202\" font-family=\"RobotoMono\" font-size=\"10.00\" fill=\"#268bd2\">1 values</text>\n",
       "</g>\n",
       "<!-- eval_model -->\n",
       "<g id=\"node11\" class=\"node\">\n",
       "<title>eval_model</title>\n",
       "<path fill=\"none\" stroke=\"#dc322f\" d=\"M238,-134C238,-134 170,-134 170,-134 164,-134 158,-128 158,-122 158,-122 158,-106 158,-106 158,-100 164,-94 170,-94 170,-94 238,-94 238,-94 244,-94 250,-100 250,-106 250,-106 250,-122 250,-122 250,-128 244,-134 238,-134\"/>\n",
       "<text text-anchor=\"start\" x=\"170\" y=\"-121.4\" font-family=\"RobotoMono\" font-weight=\"bold\" font-size=\"12.00\" fill=\"#002b36\">eval_model</text>\n",
       "<text text-anchor=\"start\" x=\"166\" y=\"-111\" font-family=\"RobotoMono\" font-size=\"10.00\" fill=\"#002b36\">@op:eval_model</text>\n",
       "<text text-anchor=\"start\" x=\"190\" y=\"-101\" font-family=\"RobotoMono\" font-size=\"10.00\" fill=\"#dc322f\">1 calls</text>\n",
       "</g>\n",
       "<!-- model&#45;&gt;eval_model -->\n",
       "<g id=\"edge4\" class=\"edge\">\n",
       "<title>model&#45;&gt;eval_model</title>\n",
       "<path fill=\"none\" stroke=\"#002b36\" d=\"M290.38,-191.84C280.1,-180.15 265.78,-164.56 252,-152 247.67,-148.05 242.94,-144.06 238.21,-140.25\"/>\n",
       "<polygon fill=\"#002b36\" stroke=\"#002b36\" points=\"240.32,-137.45 230.29,-134.02 235.99,-142.96 240.32,-137.45\"/>\n",
       "<text text-anchor=\"middle\" x=\"296\" y=\"-166\" font-family=\"RobotoMono\" font-size=\"10.00\" fill=\"#002b36\">model</text>\n",
       "<text text-anchor=\"middle\" x=\"296\" y=\"-155\" font-family=\"RobotoMono\" font-size=\"10.00\" fill=\"#002b36\">(1 values)</text>\n",
       "</g>\n",
       "<!-- y_test -->\n",
       "<g id=\"node6\" class=\"node\">\n",
       "<title>y_test</title>\n",
       "<path fill=\"none\" stroke=\"#268bd2\" d=\"M245,-228C245,-228 163,-228 163,-228 157,-228 151,-222 151,-216 151,-216 151,-204 151,-204 151,-198 157,-192 163,-192 163,-192 245,-192 245,-192 251,-192 257,-198 257,-204 257,-204 257,-216 257,-216 257,-222 251,-228 245,-228\"/>\n",
       "<text text-anchor=\"start\" x=\"186\" y=\"-212.4\" font-family=\"RobotoMono\" font-weight=\"bold\" font-size=\"12.00\" fill=\"#002b36\">y_test</text>\n",
       "<text text-anchor=\"start\" x=\"159\" y=\"-202\" font-family=\"RobotoMono\" font-size=\"10.00\" fill=\"#268bd2\">1 values (1 sources)</text>\n",
       "</g>\n",
       "<!-- y_test&#45;&gt;eval_model -->\n",
       "<g id=\"edge2\" class=\"edge\">\n",
       "<title>y_test&#45;&gt;eval_model</title>\n",
       "<path fill=\"none\" stroke=\"#002b36\" d=\"M204,-191.76C204,-178.5 204,-159.86 204,-144.27\"/>\n",
       "<polygon fill=\"#002b36\" stroke=\"#002b36\" points=\"207.5,-144.07 204,-134.07 200.5,-144.07 207.5,-144.07\"/>\n",
       "<text text-anchor=\"middle\" x=\"226\" y=\"-166\" font-family=\"RobotoMono\" font-size=\"10.00\" fill=\"#002b36\">y_test</text>\n",
       "<text text-anchor=\"middle\" x=\"226\" y=\"-155\" font-family=\"RobotoMono\" font-size=\"10.00\" fill=\"#002b36\">(1 values)</text>\n",
       "</g>\n",
       "<!-- X_test -->\n",
       "<g id=\"node7\" class=\"node\">\n",
       "<title>X_test</title>\n",
       "<path fill=\"none\" stroke=\"#268bd2\" d=\"M115,-228C115,-228 85,-228 85,-228 79,-228 73,-222 73,-216 73,-216 73,-204 73,-204 73,-198 79,-192 85,-192 85,-192 115,-192 115,-192 121,-192 127,-198 127,-204 127,-204 127,-216 127,-216 127,-222 121,-228 115,-228\"/>\n",
       "<text text-anchor=\"start\" x=\"81.5\" y=\"-212.4\" font-family=\"RobotoMono\" font-weight=\"bold\" font-size=\"12.00\" fill=\"#002b36\">X_test</text>\n",
       "<text text-anchor=\"start\" x=\"81\" y=\"-202\" font-family=\"RobotoMono\" font-size=\"10.00\" fill=\"#268bd2\">1 values</text>\n",
       "</g>\n",
       "<!-- X_test&#45;&gt;eval_model -->\n",
       "<g id=\"edge3\" class=\"edge\">\n",
       "<title>X_test&#45;&gt;eval_model</title>\n",
       "<path fill=\"none\" stroke=\"#002b36\" d=\"M115.6,-191.93C126.52,-180.27 141.68,-164.7 156,-152 160.39,-148.11 165.14,-144.16 169.89,-140.36\"/>\n",
       "<polygon fill=\"#002b36\" stroke=\"#002b36\" points=\"172.11,-143.07 177.82,-134.14 167.79,-137.56 172.11,-143.07\"/>\n",
       "<text text-anchor=\"middle\" x=\"178\" y=\"-166\" font-family=\"RobotoMono\" font-size=\"10.00\" fill=\"#002b36\">X_test</text>\n",
       "<text text-anchor=\"middle\" x=\"178\" y=\"-155\" font-family=\"RobotoMono\" font-size=\"10.00\" fill=\"#002b36\">(1 values)</text>\n",
       "</g>\n",
       "<!-- y_train -->\n",
       "<g id=\"node8\" class=\"node\">\n",
       "<title>y_train</title>\n",
       "<path fill=\"none\" stroke=\"#268bd2\" d=\"M349,-420C349,-420 267,-420 267,-420 261,-420 255,-414 255,-408 255,-408 255,-396 255,-396 255,-390 261,-384 267,-384 267,-384 349,-384 349,-384 355,-384 361,-390 361,-396 361,-396 361,-408 361,-408 361,-414 355,-420 349,-420\"/>\n",
       "<text text-anchor=\"start\" x=\"286.5\" y=\"-404.4\" font-family=\"RobotoMono\" font-weight=\"bold\" font-size=\"12.00\" fill=\"#002b36\">y_train</text>\n",
       "<text text-anchor=\"start\" x=\"263\" y=\"-394\" font-family=\"RobotoMono\" font-size=\"10.00\" fill=\"#268bd2\">1 values (1 sources)</text>\n",
       "</g>\n",
       "<!-- y_train&#45;&gt;train_model -->\n",
       "<g id=\"edge10\" class=\"edge\">\n",
       "<title>y_train&#45;&gt;train_model</title>\n",
       "<path fill=\"none\" stroke=\"#002b36\" d=\"M307.82,-383.76C307.68,-370.5 307.48,-351.86 307.31,-336.27\"/>\n",
       "<polygon fill=\"#002b36\" stroke=\"#002b36\" points=\"310.81,-336.03 307.2,-326.07 303.81,-336.11 310.81,-336.03\"/>\n",
       "<text text-anchor=\"middle\" x=\"329\" y=\"-358\" font-family=\"RobotoMono\" font-size=\"10.00\" fill=\"#002b36\">y_train</text>\n",
       "<text text-anchor=\"middle\" x=\"329\" y=\"-347\" font-family=\"RobotoMono\" font-size=\"10.00\" fill=\"#002b36\">(1 values)</text>\n",
       "</g>\n",
       "<!-- train_model&#45;&gt;model -->\n",
       "<g id=\"edge7\" class=\"edge\">\n",
       "<title>train_model&#45;&gt;model</title>\n",
       "<path fill=\"none\" stroke=\"#002b36\" d=\"M306.6,-285.98C306.31,-272.34 305.91,-253.75 305.59,-238.5\"/>\n",
       "<polygon fill=\"#002b36\" stroke=\"#002b36\" points=\"309.08,-238.02 305.36,-228.1 302.08,-238.17 309.08,-238.02\"/>\n",
       "<text text-anchor=\"middle\" x=\"328\" y=\"-260\" font-family=\"RobotoMono\" font-size=\"10.00\" fill=\"#002b36\">output_0</text>\n",
       "<text text-anchor=\"middle\" x=\"328\" y=\"-249\" font-family=\"RobotoMono\" font-size=\"10.00\" fill=\"#002b36\">(1 values)</text>\n",
       "</g>\n",
       "<!-- generate_dataset&#45;&gt;X_test -->\n",
       "<g id=\"edge5\" class=\"edge\">\n",
       "<title>generate_dataset&#45;&gt;X_test</title>\n",
       "<path fill=\"none\" stroke=\"#002b36\" d=\"M68.89,-285.98C74.66,-272.07 82.56,-253.03 88.96,-237.61\"/>\n",
       "<polygon fill=\"#002b36\" stroke=\"#002b36\" points=\"92.31,-238.68 92.91,-228.1 85.84,-235.99 92.31,-238.68\"/>\n",
       "<text text-anchor=\"middle\" x=\"108\" y=\"-260\" font-family=\"RobotoMono\" font-size=\"10.00\" fill=\"#002b36\">output_1</text>\n",
       "<text text-anchor=\"middle\" x=\"108\" y=\"-249\" font-family=\"RobotoMono\" font-size=\"10.00\" fill=\"#002b36\">(1 values)</text>\n",
       "</g>\n",
       "<!-- eval_model&#45;&gt;v -->\n",
       "<g id=\"edge1\" class=\"edge\">\n",
       "<title>eval_model&#45;&gt;v</title>\n",
       "<path fill=\"none\" stroke=\"#002b36\" d=\"M204,-93.98C204,-80.34 204,-61.75 204,-46.5\"/>\n",
       "<polygon fill=\"#002b36\" stroke=\"#002b36\" points=\"207.5,-46.1 204,-36.1 200.5,-46.1 207.5,-46.1\"/>\n",
       "<text text-anchor=\"middle\" x=\"226\" y=\"-68\" font-family=\"RobotoMono\" font-size=\"10.00\" fill=\"#002b36\">output_0</text>\n",
       "<text text-anchor=\"middle\" x=\"226\" y=\"-57\" font-family=\"RobotoMono\" font-size=\"10.00\" fill=\"#002b36\">(1 values)</text>\n",
       "</g>\n",
       "</g>\n",
       "</svg>\n"
      ],
      "text/plain": [
       "<graphviz.sources.Source at 0x7956393bca00>"
      ]
     },
     "metadata": {},
     "output_type": "display_data"
    }
   ],
   "source": [
    "cf = cf.expand_back('model')\n",
    "cf.draw(verbose=True)"
   ]
  },
  {
   "cell_type": "code",
   "execution_count": 16,
   "metadata": {
    "execution": {
     "iopub.execute_input": "2024-07-02T21:04:58.467824Z",
     "iopub.status.busy": "2024-07-02T21:04:58.467541Z",
     "iopub.status.idle": "2024-07-02T21:04:58.579399Z",
     "shell.execute_reply": "2024-07-02T21:04:58.578790Z"
    }
   },
   "outputs": [
    {
     "data": {
      "image/svg+xml": [
       "<?xml version=\"1.0\" encoding=\"UTF-8\" standalone=\"no\"?>\n",
       "<!DOCTYPE svg PUBLIC \"-//W3C//DTD SVG 1.1//EN\"\n",
       " \"http://www.w3.org/Graphics/SVG/1.1/DTD/svg11.dtd\">\n",
       "<!-- Generated by graphviz version 2.50.0 (0)\n",
       " -->\n",
       "<!-- Title: G Pages: 1 -->\n",
       "<svg width=\"386pt\" height=\"634pt\"\n",
       " viewBox=\"0.00 0.00 386.00 634.00\" xmlns=\"http://www.w3.org/2000/svg\" xmlns:xlink=\"http://www.w3.org/1999/xlink\">\n",
       "<g id=\"graph0\" class=\"graph\" transform=\"scale(1 1) rotate(0) translate(4 630)\">\n",
       "<title>G</title>\n",
       "<polygon fill=\"white\" stroke=\"transparent\" points=\"-4,4 -4,-630 382,-630 382,4 -4,4\"/>\n",
       "<!-- n_estimators -->\n",
       "<g id=\"node1\" class=\"node\">\n",
       "<title>n_estimators</title>\n",
       "<path fill=\"none\" stroke=\"#268bd2\" d=\"M172,-434C172,-434 90,-434 90,-434 84,-434 78,-428 78,-422 78,-422 78,-410 78,-410 78,-404 84,-398 90,-398 90,-398 172,-398 172,-398 178,-398 184,-404 184,-410 184,-410 184,-422 184,-422 184,-428 178,-434 172,-434\"/>\n",
       "<text text-anchor=\"start\" x=\"91.5\" y=\"-418.4\" font-family=\"RobotoMono\" font-weight=\"bold\" font-size=\"12.00\" fill=\"#002b36\">n_estimators</text>\n",
       "<text text-anchor=\"start\" x=\"86\" y=\"-408\" font-family=\"RobotoMono\" font-size=\"10.00\" fill=\"#268bd2\">1 values (1 sources)</text>\n",
       "</g>\n",
       "<!-- train_model -->\n",
       "<g id=\"node9\" class=\"node\">\n",
       "<title>train_model</title>\n",
       "<path fill=\"none\" stroke=\"#dc322f\" d=\"M169.5,-326C169.5,-326 98.5,-326 98.5,-326 92.5,-326 86.5,-320 86.5,-314 86.5,-314 86.5,-298 86.5,-298 86.5,-292 92.5,-286 98.5,-286 98.5,-286 169.5,-286 169.5,-286 175.5,-286 181.5,-292 181.5,-298 181.5,-298 181.5,-314 181.5,-314 181.5,-320 175.5,-326 169.5,-326\"/>\n",
       "<text text-anchor=\"start\" x=\"97.5\" y=\"-313.4\" font-family=\"RobotoMono\" font-weight=\"bold\" font-size=\"12.00\" fill=\"#002b36\">train_model</text>\n",
       "<text text-anchor=\"start\" x=\"94.5\" y=\"-303\" font-family=\"RobotoMono\" font-size=\"10.00\" fill=\"#002b36\">@op:train_model</text>\n",
       "<text text-anchor=\"start\" x=\"120\" y=\"-293\" font-family=\"RobotoMono\" font-size=\"10.00\" fill=\"#dc322f\">1 calls</text>\n",
       "</g>\n",
       "<!-- n_estimators&#45;&gt;train_model -->\n",
       "<g id=\"edge10\" class=\"edge\">\n",
       "<title>n_estimators&#45;&gt;train_model</title>\n",
       "<path fill=\"none\" stroke=\"#002b36\" d=\"M131.48,-397.65C131.94,-381.15 132.64,-356 133.18,-336.37\"/>\n",
       "<polygon fill=\"#002b36\" stroke=\"#002b36\" points=\"136.69,-336.22 133.47,-326.13 129.69,-336.03 136.69,-336.22\"/>\n",
       "<text text-anchor=\"middle\" x=\"162.5\" y=\"-365\" font-family=\"RobotoMono\" font-size=\"10.00\" fill=\"#002b36\">n_estimators</text>\n",
       "<text text-anchor=\"middle\" x=\"162.5\" y=\"-354\" font-family=\"RobotoMono\" font-size=\"10.00\" fill=\"#002b36\">(1 values)</text>\n",
       "</g>\n",
       "<!-- X_train -->\n",
       "<g id=\"node2\" class=\"node\">\n",
       "<title>X_train</title>\n",
       "<path fill=\"none\" stroke=\"#268bd2\" d=\"M48,-434C48,-434 12,-434 12,-434 6,-434 0,-428 0,-422 0,-422 0,-410 0,-410 0,-404 6,-398 12,-398 12,-398 48,-398 48,-398 54,-398 60,-404 60,-410 60,-410 60,-422 60,-422 60,-428 54,-434 48,-434\"/>\n",
       "<text text-anchor=\"start\" x=\"8\" y=\"-418.4\" font-family=\"RobotoMono\" font-weight=\"bold\" font-size=\"12.00\" fill=\"#002b36\">X_train</text>\n",
       "<text text-anchor=\"start\" x=\"11\" y=\"-408\" font-family=\"RobotoMono\" font-size=\"10.00\" fill=\"#268bd2\">1 values</text>\n",
       "</g>\n",
       "<!-- X_train&#45;&gt;train_model -->\n",
       "<g id=\"edge9\" class=\"edge\">\n",
       "<title>X_train&#45;&gt;train_model</title>\n",
       "<path fill=\"none\" stroke=\"#002b36\" d=\"M41,-397.85C51.14,-382.75 67.14,-360.64 84,-344 88.14,-339.92 92.74,-335.92 97.44,-332.14\"/>\n",
       "<polygon fill=\"#002b36\" stroke=\"#002b36\" points=\"99.58,-334.91 105.36,-326.03 95.3,-329.37 99.58,-334.91\"/>\n",
       "<text text-anchor=\"middle\" x=\"106\" y=\"-365\" font-family=\"RobotoMono\" font-size=\"10.00\" fill=\"#002b36\">X_train</text>\n",
       "<text text-anchor=\"middle\" x=\"106\" y=\"-354\" font-family=\"RobotoMono\" font-size=\"10.00\" fill=\"#002b36\">(1 values)</text>\n",
       "</g>\n",
       "<!-- random_seed -->\n",
       "<g id=\"node3\" class=\"node\">\n",
       "<title>random_seed</title>\n",
       "<path fill=\"none\" stroke=\"#268bd2\" d=\"M224,-626C224,-626 142,-626 142,-626 136,-626 130,-620 130,-614 130,-614 130,-602 130,-602 130,-596 136,-590 142,-590 142,-590 224,-590 224,-590 230,-590 236,-596 236,-602 236,-602 236,-614 236,-614 236,-620 230,-626 224,-626\"/>\n",
       "<text text-anchor=\"start\" x=\"142.5\" y=\"-610.4\" font-family=\"RobotoMono\" font-weight=\"bold\" font-size=\"12.00\" fill=\"#002b36\">random_seed</text>\n",
       "<text text-anchor=\"start\" x=\"138\" y=\"-600\" font-family=\"RobotoMono\" font-size=\"10.00\" fill=\"#268bd2\">1 values (1 sources)</text>\n",
       "</g>\n",
       "<!-- generate_dataset -->\n",
       "<g id=\"node10\" class=\"node\">\n",
       "<title>generate_dataset</title>\n",
       "<path fill=\"none\" stroke=\"#dc322f\" d=\"M232,-532C232,-532 134,-532 134,-532 128,-532 122,-526 122,-520 122,-520 122,-504 122,-504 122,-498 128,-492 134,-492 134,-492 232,-492 232,-492 238,-492 244,-498 244,-504 244,-504 244,-520 244,-520 244,-526 238,-532 232,-532\"/>\n",
       "<text text-anchor=\"start\" x=\"130\" y=\"-519.4\" font-family=\"RobotoMono\" font-weight=\"bold\" font-size=\"12.00\" fill=\"#002b36\">generate_dataset</text>\n",
       "<text text-anchor=\"start\" x=\"130\" y=\"-509\" font-family=\"RobotoMono\" font-size=\"10.00\" fill=\"#002b36\">@op:generate_dataset</text>\n",
       "<text text-anchor=\"start\" x=\"169\" y=\"-499\" font-family=\"RobotoMono\" font-size=\"10.00\" fill=\"#dc322f\">1 calls</text>\n",
       "</g>\n",
       "<!-- random_seed&#45;&gt;generate_dataset -->\n",
       "<g id=\"edge7\" class=\"edge\">\n",
       "<title>random_seed&#45;&gt;generate_dataset</title>\n",
       "<path fill=\"none\" stroke=\"#002b36\" d=\"M183,-589.76C183,-576.5 183,-557.86 183,-542.27\"/>\n",
       "<polygon fill=\"#002b36\" stroke=\"#002b36\" points=\"186.5,-542.07 183,-532.07 179.5,-542.07 186.5,-542.07\"/>\n",
       "<text text-anchor=\"middle\" x=\"215\" y=\"-564\" font-family=\"RobotoMono\" font-size=\"10.00\" fill=\"#002b36\">random_seed</text>\n",
       "<text text-anchor=\"middle\" x=\"215\" y=\"-553\" font-family=\"RobotoMono\" font-size=\"10.00\" fill=\"#002b36\">(1 values)</text>\n",
       "</g>\n",
       "<!-- v -->\n",
       "<g id=\"node4\" class=\"node\">\n",
       "<title>v</title>\n",
       "<path fill=\"none\" stroke=\"#268bd2\" d=\"M284.5,-36C284.5,-36 215.5,-36 215.5,-36 209.5,-36 203.5,-30 203.5,-24 203.5,-24 203.5,-12 203.5,-12 203.5,-6 209.5,0 215.5,0 215.5,0 284.5,0 284.5,0 290.5,0 296.5,-6 296.5,-12 296.5,-12 296.5,-24 296.5,-24 296.5,-30 290.5,-36 284.5,-36\"/>\n",
       "<text text-anchor=\"start\" x=\"246.5\" y=\"-20.4\" font-family=\"RobotoMono\" font-weight=\"bold\" font-size=\"12.00\" fill=\"#002b36\">v</text>\n",
       "<text text-anchor=\"start\" x=\"211.5\" y=\"-10\" font-family=\"RobotoMono\" font-size=\"10.00\" fill=\"#268bd2\">1 values (1 sinks)</text>\n",
       "</g>\n",
       "<!-- model -->\n",
       "<g id=\"node5\" class=\"node\">\n",
       "<title>model</title>\n",
       "<path fill=\"none\" stroke=\"#268bd2\" d=\"M164,-228C164,-228 134,-228 134,-228 128,-228 122,-222 122,-216 122,-216 122,-204 122,-204 122,-198 128,-192 134,-192 134,-192 164,-192 164,-192 170,-192 176,-198 176,-204 176,-204 176,-216 176,-216 176,-222 170,-228 164,-228\"/>\n",
       "<text text-anchor=\"start\" x=\"130\" y=\"-212.4\" font-family=\"RobotoMono\" font-weight=\"bold\" font-size=\"12.00\" fill=\"#002b36\">model</text>\n",
       "<text text-anchor=\"start\" x=\"130\" y=\"-202\" font-family=\"RobotoMono\" font-size=\"10.00\" fill=\"#268bd2\">1 values</text>\n",
       "</g>\n",
       "<!-- eval_model -->\n",
       "<g id=\"node11\" class=\"node\">\n",
       "<title>eval_model</title>\n",
       "<path fill=\"none\" stroke=\"#dc322f\" d=\"M284,-134C284,-134 216,-134 216,-134 210,-134 204,-128 204,-122 204,-122 204,-106 204,-106 204,-100 210,-94 216,-94 216,-94 284,-94 284,-94 290,-94 296,-100 296,-106 296,-106 296,-122 296,-122 296,-128 290,-134 284,-134\"/>\n",
       "<text text-anchor=\"start\" x=\"216\" y=\"-121.4\" font-family=\"RobotoMono\" font-weight=\"bold\" font-size=\"12.00\" fill=\"#002b36\">eval_model</text>\n",
       "<text text-anchor=\"start\" x=\"212\" y=\"-111\" font-family=\"RobotoMono\" font-size=\"10.00\" fill=\"#002b36\">@op:eval_model</text>\n",
       "<text text-anchor=\"start\" x=\"236\" y=\"-101\" font-family=\"RobotoMono\" font-size=\"10.00\" fill=\"#dc322f\">1 calls</text>\n",
       "</g>\n",
       "<!-- model&#45;&gt;eval_model -->\n",
       "<g id=\"edge4\" class=\"edge\">\n",
       "<title>model&#45;&gt;eval_model</title>\n",
       "<path fill=\"none\" stroke=\"#002b36\" d=\"M163.62,-191.84C173.9,-180.15 188.22,-164.56 202,-152 206.33,-148.05 211.06,-144.06 215.79,-140.25\"/>\n",
       "<polygon fill=\"#002b36\" stroke=\"#002b36\" points=\"218.01,-142.96 223.71,-134.02 213.68,-137.45 218.01,-142.96\"/>\n",
       "<text text-anchor=\"middle\" x=\"224\" y=\"-166\" font-family=\"RobotoMono\" font-size=\"10.00\" fill=\"#002b36\">model</text>\n",
       "<text text-anchor=\"middle\" x=\"224\" y=\"-155\" font-family=\"RobotoMono\" font-size=\"10.00\" fill=\"#002b36\">(1 values)</text>\n",
       "</g>\n",
       "<!-- y_test -->\n",
       "<g id=\"node6\" class=\"node\">\n",
       "<title>y_test</title>\n",
       "<path fill=\"none\" stroke=\"#268bd2\" d=\"M291,-228C291,-228 209,-228 209,-228 203,-228 197,-222 197,-216 197,-216 197,-204 197,-204 197,-198 203,-192 209,-192 209,-192 291,-192 291,-192 297,-192 303,-198 303,-204 303,-204 303,-216 303,-216 303,-222 297,-228 291,-228\"/>\n",
       "<text text-anchor=\"start\" x=\"232\" y=\"-212.4\" font-family=\"RobotoMono\" font-weight=\"bold\" font-size=\"12.00\" fill=\"#002b36\">y_test</text>\n",
       "<text text-anchor=\"start\" x=\"205\" y=\"-202\" font-family=\"RobotoMono\" font-size=\"10.00\" fill=\"#268bd2\">1 values (1 sources)</text>\n",
       "</g>\n",
       "<!-- y_test&#45;&gt;eval_model -->\n",
       "<g id=\"edge2\" class=\"edge\">\n",
       "<title>y_test&#45;&gt;eval_model</title>\n",
       "<path fill=\"none\" stroke=\"#002b36\" d=\"M250,-191.76C250,-178.5 250,-159.86 250,-144.27\"/>\n",
       "<polygon fill=\"#002b36\" stroke=\"#002b36\" points=\"253.5,-144.07 250,-134.07 246.5,-144.07 253.5,-144.07\"/>\n",
       "<text text-anchor=\"middle\" x=\"272\" y=\"-166\" font-family=\"RobotoMono\" font-size=\"10.00\" fill=\"#002b36\">y_test</text>\n",
       "<text text-anchor=\"middle\" x=\"272\" y=\"-155\" font-family=\"RobotoMono\" font-size=\"10.00\" fill=\"#002b36\">(1 values)</text>\n",
       "</g>\n",
       "<!-- X_test -->\n",
       "<g id=\"node7\" class=\"node\">\n",
       "<title>X_test</title>\n",
       "<path fill=\"none\" stroke=\"#268bd2\" d=\"M348,-380C348,-380 318,-380 318,-380 312,-380 306,-374 306,-368 306,-368 306,-356 306,-356 306,-350 312,-344 318,-344 318,-344 348,-344 348,-344 354,-344 360,-350 360,-356 360,-356 360,-368 360,-368 360,-374 354,-380 348,-380\"/>\n",
       "<text text-anchor=\"start\" x=\"314.5\" y=\"-364.4\" font-family=\"RobotoMono\" font-weight=\"bold\" font-size=\"12.00\" fill=\"#002b36\">X_test</text>\n",
       "<text text-anchor=\"start\" x=\"314\" y=\"-354\" font-family=\"RobotoMono\" font-size=\"10.00\" fill=\"#268bd2\">1 values</text>\n",
       "</g>\n",
       "<!-- X_test&#45;&gt;eval_model -->\n",
       "<g id=\"edge3\" class=\"edge\">\n",
       "<title>X_test&#45;&gt;eval_model</title>\n",
       "<path fill=\"none\" stroke=\"#002b36\" d=\"M334.89,-343.94C338.21,-305.66 341.07,-211.65 298,-152 295.15,-148.05 291.76,-144.32 288.11,-140.85\"/>\n",
       "<polygon fill=\"#002b36\" stroke=\"#002b36\" points=\"290.22,-138.05 280.38,-134.14 285.64,-143.34 290.22,-138.05\"/>\n",
       "<text text-anchor=\"middle\" x=\"356\" y=\"-260\" font-family=\"RobotoMono\" font-size=\"10.00\" fill=\"#002b36\">X_test</text>\n",
       "<text text-anchor=\"middle\" x=\"356\" y=\"-249\" font-family=\"RobotoMono\" font-size=\"10.00\" fill=\"#002b36\">(1 values)</text>\n",
       "</g>\n",
       "<!-- y_train -->\n",
       "<g id=\"node8\" class=\"node\">\n",
       "<title>y_train</title>\n",
       "<path fill=\"none\" stroke=\"#268bd2\" d=\"M296,-434C296,-434 214,-434 214,-434 208,-434 202,-428 202,-422 202,-422 202,-410 202,-410 202,-404 208,-398 214,-398 214,-398 296,-398 296,-398 302,-398 308,-404 308,-410 308,-410 308,-422 308,-422 308,-428 302,-434 296,-434\"/>\n",
       "<text text-anchor=\"start\" x=\"233.5\" y=\"-418.4\" font-family=\"RobotoMono\" font-weight=\"bold\" font-size=\"12.00\" fill=\"#002b36\">y_train</text>\n",
       "<text text-anchor=\"start\" x=\"210\" y=\"-408\" font-family=\"RobotoMono\" font-size=\"10.00\" fill=\"#268bd2\">1 values (1 sources)</text>\n",
       "</g>\n",
       "<!-- y_train&#45;&gt;train_model -->\n",
       "<g id=\"edge11\" class=\"edge\">\n",
       "<title>y_train&#45;&gt;train_model</title>\n",
       "<path fill=\"none\" stroke=\"#002b36\" d=\"M243.58,-397.76C232.82,-382.4 215.61,-359.95 197,-344 191.82,-339.56 186.04,-335.36 180.14,-331.49\"/>\n",
       "<polygon fill=\"#002b36\" stroke=\"#002b36\" points=\"181.8,-328.39 171.46,-326.06 178.08,-334.33 181.8,-328.39\"/>\n",
       "<text text-anchor=\"middle\" x=\"251\" y=\"-365\" font-family=\"RobotoMono\" font-size=\"10.00\" fill=\"#002b36\">y_train</text>\n",
       "<text text-anchor=\"middle\" x=\"251\" y=\"-354\" font-family=\"RobotoMono\" font-size=\"10.00\" fill=\"#002b36\">(1 values)</text>\n",
       "</g>\n",
       "<!-- train_model&#45;&gt;model -->\n",
       "<g id=\"edge8\" class=\"edge\">\n",
       "<title>train_model&#45;&gt;model</title>\n",
       "<path fill=\"none\" stroke=\"#002b36\" d=\"M137.04,-285.98C139.23,-272.2 142.24,-253.39 144.68,-238.05\"/>\n",
       "<polygon fill=\"#002b36\" stroke=\"#002b36\" points=\"148.15,-238.52 146.27,-228.1 141.24,-237.42 148.15,-238.52\"/>\n",
       "<text text-anchor=\"middle\" x=\"165\" y=\"-260\" font-family=\"RobotoMono\" font-size=\"10.00\" fill=\"#002b36\">output_0</text>\n",
       "<text text-anchor=\"middle\" x=\"165\" y=\"-249\" font-family=\"RobotoMono\" font-size=\"10.00\" fill=\"#002b36\">(1 values)</text>\n",
       "</g>\n",
       "<!-- generate_dataset&#45;&gt;X_train -->\n",
       "<g id=\"edge6\" class=\"edge\">\n",
       "<title>generate_dataset&#45;&gt;X_train</title>\n",
       "<path fill=\"none\" stroke=\"#002b36\" d=\"M152.04,-491.98C127.36,-476.81 92.73,-455.54 66.66,-439.52\"/>\n",
       "<polygon fill=\"#002b36\" stroke=\"#002b36\" points=\"68.18,-436.35 57.83,-434.1 64.52,-442.31 68.18,-436.35\"/>\n",
       "<text text-anchor=\"middle\" x=\"142\" y=\"-466\" font-family=\"RobotoMono\" font-size=\"10.00\" fill=\"#002b36\">output_0</text>\n",
       "<text text-anchor=\"middle\" x=\"142\" y=\"-455\" font-family=\"RobotoMono\" font-size=\"10.00\" fill=\"#002b36\">(1 values)</text>\n",
       "</g>\n",
       "<!-- generate_dataset&#45;&gt;X_test -->\n",
       "<g id=\"edge5\" class=\"edge\">\n",
       "<title>generate_dataset&#45;&gt;X_test</title>\n",
       "<path fill=\"none\" stroke=\"#002b36\" d=\"M237.73,-491.9C265.45,-479.53 297.33,-460.67 317,-434 326.26,-421.44 330.31,-404.47 332.02,-390.27\"/>\n",
       "<polygon fill=\"#002b36\" stroke=\"#002b36\" points=\"335.53,-390.34 332.92,-380.07 328.56,-389.73 335.53,-390.34\"/>\n",
       "<text text-anchor=\"middle\" x=\"320\" y=\"-466\" font-family=\"RobotoMono\" font-size=\"10.00\" fill=\"#002b36\">output_1</text>\n",
       "<text text-anchor=\"middle\" x=\"320\" y=\"-455\" font-family=\"RobotoMono\" font-size=\"10.00\" fill=\"#002b36\">(1 values)</text>\n",
       "</g>\n",
       "<!-- eval_model&#45;&gt;v -->\n",
       "<g id=\"edge1\" class=\"edge\">\n",
       "<title>eval_model&#45;&gt;v</title>\n",
       "<path fill=\"none\" stroke=\"#002b36\" d=\"M250,-93.98C250,-80.34 250,-61.75 250,-46.5\"/>\n",
       "<polygon fill=\"#002b36\" stroke=\"#002b36\" points=\"253.5,-46.1 250,-36.1 246.5,-46.1 253.5,-46.1\"/>\n",
       "<text text-anchor=\"middle\" x=\"272\" y=\"-68\" font-family=\"RobotoMono\" font-size=\"10.00\" fill=\"#002b36\">output_0</text>\n",
       "<text text-anchor=\"middle\" x=\"272\" y=\"-57\" font-family=\"RobotoMono\" font-size=\"10.00\" fill=\"#002b36\">(1 values)</text>\n",
       "</g>\n",
       "</g>\n",
       "</svg>\n"
      ],
      "text/plain": [
       "<graphviz.sources.Source at 0x7956393be260>"
      ]
     },
     "metadata": {},
     "output_type": "display_data"
    }
   ],
   "source": [
    "cf = cf.expand_back('X_train')\n",
    "cf.draw(verbose=True)"
   ]
  },
  {
   "cell_type": "markdown",
   "metadata": {},
   "source": [
    "When we expand `X_train` at the end, the expansion algorithm detects that the\n",
    "`generate_dataset` node should be reused instead of creating a new node."
   ]
  },
  {
   "cell_type": "markdown",
   "metadata": {},
   "source": [
    "### Full expansion with `expand_all`\n",
    "The easiest way to add all the calls that can be reached from a CF by calling\n",
    "`expand_back` or `expand_forward` is using `expand_all`"
   ]
  },
  {
   "cell_type": "code",
   "execution_count": 17,
   "metadata": {
    "execution": {
     "iopub.execute_input": "2024-07-02T21:04:58.582483Z",
     "iopub.status.busy": "2024-07-02T21:04:58.582287Z",
     "iopub.status.idle": "2024-07-02T21:04:58.728949Z",
     "shell.execute_reply": "2024-07-02T21:04:58.728291Z"
    }
   },
   "outputs": [
    {
     "data": {
      "image/svg+xml": [
       "<?xml version=\"1.0\" encoding=\"UTF-8\" standalone=\"no\"?>\n",
       "<!DOCTYPE svg PUBLIC \"-//W3C//DTD SVG 1.1//EN\"\n",
       " \"http://www.w3.org/Graphics/SVG/1.1/DTD/svg11.dtd\">\n",
       "<!-- Generated by graphviz version 2.50.0 (0)\n",
       " -->\n",
       "<!-- Title: G Pages: 1 -->\n",
       "<svg width=\"270pt\" height=\"620pt\"\n",
       " viewBox=\"0.00 0.00 269.50 620.00\" xmlns=\"http://www.w3.org/2000/svg\" xmlns:xlink=\"http://www.w3.org/1999/xlink\">\n",
       "<g id=\"graph0\" class=\"graph\" transform=\"scale(1 1) rotate(0) translate(4 616)\">\n",
       "<title>G</title>\n",
       "<polygon fill=\"white\" stroke=\"transparent\" points=\"-4,4 -4,-616 265.5,-616 265.5,4 -4,4\"/>\n",
       "<!-- n_estimators -->\n",
       "<g id=\"node1\" class=\"node\">\n",
       "<title>n_estimators</title>\n",
       "<path fill=\"none\" stroke=\"#268bd2\" d=\"M94,-420C94,-420 12,-420 12,-420 6,-420 0,-414 0,-408 0,-408 0,-396 0,-396 0,-390 6,-384 12,-384 12,-384 94,-384 94,-384 100,-384 106,-390 106,-396 106,-396 106,-408 106,-408 106,-414 100,-420 94,-420\"/>\n",
       "<text text-anchor=\"start\" x=\"13.5\" y=\"-404.4\" font-family=\"RobotoMono\" font-weight=\"bold\" font-size=\"12.00\" fill=\"#002b36\">n_estimators</text>\n",
       "<text text-anchor=\"start\" x=\"8\" y=\"-394\" font-family=\"RobotoMono\" font-size=\"10.00\" fill=\"#268bd2\">4 values (4 sources)</text>\n",
       "</g>\n",
       "<!-- train_model -->\n",
       "<g id=\"node10\" class=\"node\">\n",
       "<title>train_model</title>\n",
       "<path fill=\"none\" stroke=\"#dc322f\" d=\"M189.5,-326C189.5,-326 118.5,-326 118.5,-326 112.5,-326 106.5,-320 106.5,-314 106.5,-314 106.5,-298 106.5,-298 106.5,-292 112.5,-286 118.5,-286 118.5,-286 189.5,-286 189.5,-286 195.5,-286 201.5,-292 201.5,-298 201.5,-298 201.5,-314 201.5,-314 201.5,-320 195.5,-326 189.5,-326\"/>\n",
       "<text text-anchor=\"start\" x=\"117.5\" y=\"-313.4\" font-family=\"RobotoMono\" font-weight=\"bold\" font-size=\"12.00\" fill=\"#002b36\">train_model</text>\n",
       "<text text-anchor=\"start\" x=\"114.5\" y=\"-303\" font-family=\"RobotoMono\" font-size=\"10.00\" fill=\"#002b36\">@op:train_model</text>\n",
       "<text text-anchor=\"start\" x=\"140\" y=\"-293\" font-family=\"RobotoMono\" font-size=\"10.00\" fill=\"#dc322f\">4 calls</text>\n",
       "</g>\n",
       "<!-- n_estimators&#45;&gt;train_model -->\n",
       "<g id=\"edge4\" class=\"edge\">\n",
       "<title>n_estimators&#45;&gt;train_model</title>\n",
       "<path fill=\"none\" stroke=\"#002b36\" d=\"M60.91,-383.99C67.22,-371.76 76.98,-355.48 89,-344 93.68,-339.53 99.01,-335.39 104.55,-331.63\"/>\n",
       "<polygon fill=\"#002b36\" stroke=\"#002b36\" points=\"106.8,-334.35 113.37,-326.04 103.05,-328.44 106.8,-334.35\"/>\n",
       "<text text-anchor=\"middle\" x=\"119.5\" y=\"-358\" font-family=\"RobotoMono\" font-size=\"10.00\" fill=\"#002b36\">n_estimators</text>\n",
       "<text text-anchor=\"middle\" x=\"119.5\" y=\"-347\" font-family=\"RobotoMono\" font-size=\"10.00\" fill=\"#002b36\">(4 values)</text>\n",
       "</g>\n",
       "<!-- output_0 -->\n",
       "<g id=\"node2\" class=\"node\">\n",
       "<title>output_0</title>\n",
       "<path fill=\"none\" stroke=\"#268bd2\" d=\"M133.5,-228C133.5,-228 64.5,-228 64.5,-228 58.5,-228 52.5,-222 52.5,-216 52.5,-216 52.5,-204 52.5,-204 52.5,-198 58.5,-192 64.5,-192 64.5,-192 133.5,-192 133.5,-192 139.5,-192 145.5,-198 145.5,-204 145.5,-204 145.5,-216 145.5,-216 145.5,-222 139.5,-228 133.5,-228\"/>\n",
       "<text text-anchor=\"start\" x=\"71.5\" y=\"-212.4\" font-family=\"RobotoMono\" font-weight=\"bold\" font-size=\"12.00\" fill=\"#002b36\">output_0</text>\n",
       "<text text-anchor=\"start\" x=\"60.5\" y=\"-202\" font-family=\"RobotoMono\" font-size=\"10.00\" fill=\"#268bd2\">4 values (2 sinks)</text>\n",
       "</g>\n",
       "<!-- eval_model -->\n",
       "<g id=\"node9\" class=\"node\">\n",
       "<title>eval_model</title>\n",
       "<path fill=\"none\" stroke=\"#dc322f\" d=\"M133,-134C133,-134 65,-134 65,-134 59,-134 53,-128 53,-122 53,-122 53,-106 53,-106 53,-100 59,-94 65,-94 65,-94 133,-94 133,-94 139,-94 145,-100 145,-106 145,-106 145,-122 145,-122 145,-128 139,-134 133,-134\"/>\n",
       "<text text-anchor=\"start\" x=\"65\" y=\"-121.4\" font-family=\"RobotoMono\" font-weight=\"bold\" font-size=\"12.00\" fill=\"#002b36\">eval_model</text>\n",
       "<text text-anchor=\"start\" x=\"61\" y=\"-111\" font-family=\"RobotoMono\" font-size=\"10.00\" fill=\"#002b36\">@op:eval_model</text>\n",
       "<text text-anchor=\"start\" x=\"85\" y=\"-101\" font-family=\"RobotoMono\" font-size=\"10.00\" fill=\"#dc322f\">2 calls</text>\n",
       "</g>\n",
       "<!-- output_0&#45;&gt;eval_model -->\n",
       "<g id=\"edge6\" class=\"edge\">\n",
       "<title>output_0&#45;&gt;eval_model</title>\n",
       "<path fill=\"none\" stroke=\"#002b36\" d=\"M99,-191.76C99,-178.5 99,-159.86 99,-144.27\"/>\n",
       "<polygon fill=\"#002b36\" stroke=\"#002b36\" points=\"102.5,-144.07 99,-134.07 95.5,-144.07 102.5,-144.07\"/>\n",
       "<text text-anchor=\"middle\" x=\"121\" y=\"-166\" font-family=\"RobotoMono\" font-size=\"10.00\" fill=\"#002b36\">model</text>\n",
       "<text text-anchor=\"middle\" x=\"121\" y=\"-155\" font-family=\"RobotoMono\" font-size=\"10.00\" fill=\"#002b36\">(2 values)</text>\n",
       "</g>\n",
       "<!-- output_0_0 -->\n",
       "<g id=\"node3\" class=\"node\">\n",
       "<title>output_0_0</title>\n",
       "<path fill=\"none\" stroke=\"#268bd2\" d=\"M133.5,-36C133.5,-36 64.5,-36 64.5,-36 58.5,-36 52.5,-30 52.5,-24 52.5,-24 52.5,-12 52.5,-12 52.5,-6 58.5,0 64.5,0 64.5,0 133.5,0 133.5,0 139.5,0 145.5,-6 145.5,-12 145.5,-12 145.5,-24 145.5,-24 145.5,-30 139.5,-36 133.5,-36\"/>\n",
       "<text text-anchor=\"start\" x=\"65.5\" y=\"-20.4\" font-family=\"RobotoMono\" font-weight=\"bold\" font-size=\"12.00\" fill=\"#002b36\">output_0_0</text>\n",
       "<text text-anchor=\"start\" x=\"60.5\" y=\"-10\" font-family=\"RobotoMono\" font-size=\"10.00\" fill=\"#268bd2\">2 values (2 sinks)</text>\n",
       "</g>\n",
       "<!-- X_train -->\n",
       "<g id=\"node4\" class=\"node\">\n",
       "<title>X_train</title>\n",
       "<path fill=\"none\" stroke=\"#268bd2\" d=\"M172,-420C172,-420 136,-420 136,-420 130,-420 124,-414 124,-408 124,-408 124,-396 124,-396 124,-390 130,-384 136,-384 136,-384 172,-384 172,-384 178,-384 184,-390 184,-396 184,-396 184,-408 184,-408 184,-414 178,-420 172,-420\"/>\n",
       "<text text-anchor=\"start\" x=\"132\" y=\"-404.4\" font-family=\"RobotoMono\" font-weight=\"bold\" font-size=\"12.00\" fill=\"#002b36\">X_train</text>\n",
       "<text text-anchor=\"start\" x=\"135\" y=\"-394\" font-family=\"RobotoMono\" font-size=\"10.00\" fill=\"#268bd2\">1 values</text>\n",
       "</g>\n",
       "<!-- X_train&#45;&gt;train_model -->\n",
       "<g id=\"edge3\" class=\"edge\">\n",
       "<title>X_train&#45;&gt;train_model</title>\n",
       "<path fill=\"none\" stroke=\"#002b36\" d=\"M154,-383.76C154,-370.5 154,-351.86 154,-336.27\"/>\n",
       "<polygon fill=\"#002b36\" stroke=\"#002b36\" points=\"157.5,-336.07 154,-326.07 150.5,-336.07 157.5,-336.07\"/>\n",
       "<text text-anchor=\"middle\" x=\"176\" y=\"-358\" font-family=\"RobotoMono\" font-size=\"10.00\" fill=\"#002b36\">X_train</text>\n",
       "<text text-anchor=\"middle\" x=\"176\" y=\"-347\" font-family=\"RobotoMono\" font-size=\"10.00\" fill=\"#002b36\">(1 values)</text>\n",
       "</g>\n",
       "<!-- output_1 -->\n",
       "<g id=\"node5\" class=\"node\">\n",
       "<title>output_1</title>\n",
       "<path fill=\"none\" stroke=\"#268bd2\" d=\"M244.5,-228C244.5,-228 175.5,-228 175.5,-228 169.5,-228 163.5,-222 163.5,-216 163.5,-216 163.5,-204 163.5,-204 163.5,-198 169.5,-192 175.5,-192 175.5,-192 244.5,-192 244.5,-192 250.5,-192 256.5,-198 256.5,-204 256.5,-204 256.5,-216 256.5,-216 256.5,-222 250.5,-228 244.5,-228\"/>\n",
       "<text text-anchor=\"start\" x=\"182.5\" y=\"-212.4\" font-family=\"RobotoMono\" font-weight=\"bold\" font-size=\"12.00\" fill=\"#002b36\">output_1</text>\n",
       "<text text-anchor=\"start\" x=\"171.5\" y=\"-202\" font-family=\"RobotoMono\" font-size=\"10.00\" fill=\"#268bd2\">4 values (4 sinks)</text>\n",
       "</g>\n",
       "<!-- random_seed -->\n",
       "<g id=\"node6\" class=\"node\">\n",
       "<title>random_seed</title>\n",
       "<path fill=\"none\" stroke=\"#268bd2\" d=\"M233,-612C233,-612 151,-612 151,-612 145,-612 139,-606 139,-600 139,-600 139,-588 139,-588 139,-582 145,-576 151,-576 151,-576 233,-576 233,-576 239,-576 245,-582 245,-588 245,-588 245,-600 245,-600 245,-606 239,-612 233,-612\"/>\n",
       "<text text-anchor=\"start\" x=\"151.5\" y=\"-596.4\" font-family=\"RobotoMono\" font-weight=\"bold\" font-size=\"12.00\" fill=\"#002b36\">random_seed</text>\n",
       "<text text-anchor=\"start\" x=\"147\" y=\"-586\" font-family=\"RobotoMono\" font-size=\"10.00\" fill=\"#268bd2\">1 values (1 sources)</text>\n",
       "</g>\n",
       "<!-- generate_dataset -->\n",
       "<g id=\"node8\" class=\"node\">\n",
       "<title>generate_dataset</title>\n",
       "<path fill=\"none\" stroke=\"#dc322f\" d=\"M241,-518C241,-518 143,-518 143,-518 137,-518 131,-512 131,-506 131,-506 131,-490 131,-490 131,-484 137,-478 143,-478 143,-478 241,-478 241,-478 247,-478 253,-484 253,-490 253,-490 253,-506 253,-506 253,-512 247,-518 241,-518\"/>\n",
       "<text text-anchor=\"start\" x=\"139\" y=\"-505.4\" font-family=\"RobotoMono\" font-weight=\"bold\" font-size=\"12.00\" fill=\"#002b36\">generate_dataset</text>\n",
       "<text text-anchor=\"start\" x=\"139\" y=\"-495\" font-family=\"RobotoMono\" font-size=\"10.00\" fill=\"#002b36\">@op:generate_dataset</text>\n",
       "<text text-anchor=\"start\" x=\"178\" y=\"-485\" font-family=\"RobotoMono\" font-size=\"10.00\" fill=\"#dc322f\">1 calls</text>\n",
       "</g>\n",
       "<!-- random_seed&#45;&gt;generate_dataset -->\n",
       "<g id=\"edge9\" class=\"edge\">\n",
       "<title>random_seed&#45;&gt;generate_dataset</title>\n",
       "<path fill=\"none\" stroke=\"#002b36\" d=\"M192,-575.76C192,-562.5 192,-543.86 192,-528.27\"/>\n",
       "<polygon fill=\"#002b36\" stroke=\"#002b36\" points=\"195.5,-528.07 192,-518.07 188.5,-528.07 195.5,-528.07\"/>\n",
       "<text text-anchor=\"middle\" x=\"224\" y=\"-550\" font-family=\"RobotoMono\" font-size=\"10.00\" fill=\"#002b36\">random_seed</text>\n",
       "<text text-anchor=\"middle\" x=\"224\" y=\"-539\" font-family=\"RobotoMono\" font-size=\"10.00\" fill=\"#002b36\">(1 values)</text>\n",
       "</g>\n",
       "<!-- y_train -->\n",
       "<g id=\"node7\" class=\"node\">\n",
       "<title>y_train</title>\n",
       "<path fill=\"none\" stroke=\"#268bd2\" d=\"M249.5,-420C249.5,-420 214.5,-420 214.5,-420 208.5,-420 202.5,-414 202.5,-408 202.5,-408 202.5,-396 202.5,-396 202.5,-390 208.5,-384 214.5,-384 214.5,-384 249.5,-384 249.5,-384 255.5,-384 261.5,-390 261.5,-396 261.5,-396 261.5,-408 261.5,-408 261.5,-414 255.5,-420 249.5,-420\"/>\n",
       "<text text-anchor=\"start\" x=\"210.5\" y=\"-404.4\" font-family=\"RobotoMono\" font-weight=\"bold\" font-size=\"12.00\" fill=\"#002b36\">y_train</text>\n",
       "<text text-anchor=\"start\" x=\"213\" y=\"-394\" font-family=\"RobotoMono\" font-size=\"10.00\" fill=\"#268bd2\">1 values</text>\n",
       "</g>\n",
       "<!-- y_train&#45;&gt;train_model -->\n",
       "<g id=\"edge5\" class=\"edge\">\n",
       "<title>y_train&#45;&gt;train_model</title>\n",
       "<path fill=\"none\" stroke=\"#002b36\" d=\"M225.31,-383.88C220.1,-371.91 212.08,-355.98 202,-344 198.66,-340.03 194.82,-336.21 190.8,-332.63\"/>\n",
       "<polygon fill=\"#002b36\" stroke=\"#002b36\" points=\"192.86,-329.79 182.93,-326.09 188.38,-335.18 192.86,-329.79\"/>\n",
       "<text text-anchor=\"middle\" x=\"238\" y=\"-358\" font-family=\"RobotoMono\" font-size=\"10.00\" fill=\"#002b36\">y_train</text>\n",
       "<text text-anchor=\"middle\" x=\"238\" y=\"-347\" font-family=\"RobotoMono\" font-size=\"10.00\" fill=\"#002b36\">(1 values)</text>\n",
       "</g>\n",
       "<!-- generate_dataset&#45;&gt;X_train -->\n",
       "<g id=\"edge7\" class=\"edge\">\n",
       "<title>generate_dataset&#45;&gt;X_train</title>\n",
       "<path fill=\"none\" stroke=\"#002b36\" d=\"M174.02,-477.85C169.8,-472.43 165.74,-466.29 163,-460 158.95,-450.69 156.69,-439.82 155.45,-430.08\"/>\n",
       "<polygon fill=\"#002b36\" stroke=\"#002b36\" points=\"158.93,-429.69 154.46,-420.09 151.96,-430.38 158.93,-429.69\"/>\n",
       "<text text-anchor=\"middle\" x=\"185\" y=\"-452\" font-family=\"RobotoMono\" font-size=\"10.00\" fill=\"#002b36\">output_0</text>\n",
       "<text text-anchor=\"middle\" x=\"185\" y=\"-441\" font-family=\"RobotoMono\" font-size=\"10.00\" fill=\"#002b36\">(1 values)</text>\n",
       "</g>\n",
       "<!-- generate_dataset&#45;&gt;y_train -->\n",
       "<g id=\"edge8\" class=\"edge\">\n",
       "<title>generate_dataset&#45;&gt;y_train</title>\n",
       "<path fill=\"none\" stroke=\"#002b36\" d=\"M200.09,-477.98C206.01,-464.07 214.12,-445.03 220.68,-429.61\"/>\n",
       "<polygon fill=\"#002b36\" stroke=\"#002b36\" points=\"224.03,-430.67 224.72,-420.1 217.59,-427.93 224.03,-430.67\"/>\n",
       "<text text-anchor=\"middle\" x=\"238\" y=\"-452\" font-family=\"RobotoMono\" font-size=\"10.00\" fill=\"#002b36\">output_2</text>\n",
       "<text text-anchor=\"middle\" x=\"238\" y=\"-441\" font-family=\"RobotoMono\" font-size=\"10.00\" fill=\"#002b36\">(1 values)</text>\n",
       "</g>\n",
       "<!-- eval_model&#45;&gt;output_0_0 -->\n",
       "<g id=\"edge10\" class=\"edge\">\n",
       "<title>eval_model&#45;&gt;output_0_0</title>\n",
       "<path fill=\"none\" stroke=\"#002b36\" d=\"M99,-93.98C99,-80.34 99,-61.75 99,-46.5\"/>\n",
       "<polygon fill=\"#002b36\" stroke=\"#002b36\" points=\"102.5,-46.1 99,-36.1 95.5,-46.1 102.5,-46.1\"/>\n",
       "<text text-anchor=\"middle\" x=\"121\" y=\"-68\" font-family=\"RobotoMono\" font-size=\"10.00\" fill=\"#002b36\">output_0</text>\n",
       "<text text-anchor=\"middle\" x=\"121\" y=\"-57\" font-family=\"RobotoMono\" font-size=\"10.00\" fill=\"#002b36\">(2 values)</text>\n",
       "</g>\n",
       "<!-- train_model&#45;&gt;output_0 -->\n",
       "<g id=\"edge1\" class=\"edge\">\n",
       "<title>train_model&#45;&gt;output_0</title>\n",
       "<path fill=\"none\" stroke=\"#002b36\" d=\"M142.87,-285.98C134.58,-271.81 123.17,-252.3 114.06,-236.74\"/>\n",
       "<polygon fill=\"#002b36\" stroke=\"#002b36\" points=\"117.08,-234.96 109,-228.1 111.03,-238.5 117.08,-234.96\"/>\n",
       "<text text-anchor=\"middle\" x=\"153\" y=\"-260\" font-family=\"RobotoMono\" font-size=\"10.00\" fill=\"#002b36\">output_0</text>\n",
       "<text text-anchor=\"middle\" x=\"153\" y=\"-249\" font-family=\"RobotoMono\" font-size=\"10.00\" fill=\"#002b36\">(4 values)</text>\n",
       "</g>\n",
       "<!-- train_model&#45;&gt;output_1 -->\n",
       "<g id=\"edge2\" class=\"edge\">\n",
       "<title>train_model&#45;&gt;output_1</title>\n",
       "<path fill=\"none\" stroke=\"#002b36\" d=\"M167.59,-285.64C171.4,-280.02 175.46,-273.83 179,-268 185.03,-258.08 191.23,-246.91 196.48,-237.1\"/>\n",
       "<polygon fill=\"#002b36\" stroke=\"#002b36\" points=\"199.61,-238.68 201.2,-228.2 193.42,-235.4 199.61,-238.68\"/>\n",
       "<text text-anchor=\"middle\" x=\"213\" y=\"-260\" font-family=\"RobotoMono\" font-size=\"10.00\" fill=\"#002b36\">output_1</text>\n",
       "<text text-anchor=\"middle\" x=\"213\" y=\"-249\" font-family=\"RobotoMono\" font-size=\"10.00\" fill=\"#002b36\">(4 values)</text>\n",
       "</g>\n",
       "</g>\n",
       "</svg>\n"
      ],
      "text/plain": [
       "<graphviz.sources.Source at 0x79563922a440>"
      ]
     },
     "metadata": {},
     "output_type": "display_data"
    }
   ],
   "source": [
    "cf = storage.cf(train_model).expand_all()\n",
    "cf.draw(verbose=True)"
   ]
  },
  {
   "cell_type": "markdown",
   "metadata": {},
   "source": [
    "This adds all the calls in the storage, because they're all reachable from some\n",
    "call to `train_model` by following inputs/outputs."
   ]
  },
  {
   "cell_type": "markdown",
   "metadata": {},
   "source": [
    "## Extracting `DataFrame`s from `ComputationFrame`s\n",
    "\n",
    "### `ComputationFrame`s as generalized dataframes\n",
    "You can think of `ComputationFrame`s as a generalization the familiar\n",
    "`pandas.DataFrame` class:\n",
    "\n",
    "- **instead of columns, you have a computational graph**: functions whose\n",
    "input/output edges connect to variables.\n",
    "- **instead of rows, you have computation traces**: variable values and function\n",
    "calls that (possibly partially) follow this graph\n",
    "\n",
    "Conversely, **a dataframe can be extracted from any computation frame** for\n",
    "easier later analysis:\n",
    "\n",
    "- the columns are the nodes in the graph (functions and variables)\n",
    "- each row is a computation trace, possibly padded with `NaN`s where no\n",
    "value/call is present."
   ]
  },
  {
   "cell_type": "markdown",
   "metadata": {},
   "source": [
    "### The `.df()` method\n",
    "All ways to turn a CF into a DF are dispatched through a CF's `.df()` method. We\n",
    "can apply this to the full storage CF we computed last:"
   ]
  },
  {
   "cell_type": "code",
   "execution_count": 18,
   "metadata": {
    "execution": {
     "iopub.execute_input": "2024-07-02T21:04:58.732221Z",
     "iopub.status.busy": "2024-07-02T21:04:58.731930Z",
     "iopub.status.idle": "2024-07-02T21:04:58.899697Z",
     "shell.execute_reply": "2024-07-02T21:04:58.898910Z"
    }
   },
   "outputs": [
    {
     "name": "stdout",
     "output_type": "stream",
     "text": [
      "Extracting tuples from the computation graph:\n",
      "    X_train@output_0, y_train@output_2 = generate_dataset(random_seed=random_seed)\n",
      "    output_0@output_0, output_1@output_1 = train_model(n_estimators=n_estimators, y_train=y_train, X_train=X_train)\n",
      "    output_0_0@output_0 = eval_model(model=output_0)\n",
      "|    |   random_seed | generate_dataset                                   |   n_estimators | train_model                                   |   output_1 | output_0                                             | eval_model                                   |   output_0_0 |\n",
      "|---:|--------------:|:---------------------------------------------------|---------------:|:----------------------------------------------|-----------:|:-----------------------------------------------------|:---------------------------------------------|-------------:|\n",
      "|  0 |            42 | Call(generate_dataset, cid='19a...', hid='c3f...') |             80 | Call(train_model, cid='3be...', hid='e60...') |       0.83 | RandomForestClassifier(max_depth=2, n_estimators=80) | Call(eval_model, cid='137...', hid='d32...') |         0.82 |\n",
      "|  1 |            42 | Call(generate_dataset, cid='19a...', hid='c3f...') |             20 | Call(train_model, cid='204...', hid='c55...') |       0.8  | RandomForestClassifier(max_depth=2, n_estimators=20) |                                              |       nan    |\n",
      "|  2 |            42 | Call(generate_dataset, cid='19a...', hid='c3f...') |             40 | Call(train_model, cid='5af...', hid='514...') |       0.82 | RandomForestClassifier(max_depth=2, n_estimators=40) | Call(eval_model, cid='38f...', hid='5d3...') |         0.81 |\n",
      "|  3 |            42 | Call(generate_dataset, cid='19a...', hid='c3f...') |             10 | Call(train_model, cid='c4f...', hid='5f7...') |       0.74 | RandomForestClassifier(max_depth=2, n_estimators=10) |                                              |       nan    |\n"
     ]
    }
   ],
   "source": [
    "cf = storage.cf(train_model).expand_all()\n",
    "print(cf.df().drop(columns=['X_train', 'y_train']).to_markdown())"
   ]
  },
  {
   "cell_type": "markdown",
   "metadata": {},
   "source": [
    "Importantly, we see that some computations only partially follow the full\n",
    "computation graph, because we didn't call `eval_model` on all the `train_model`\n",
    "outputs."
   ]
  },
  {
   "cell_type": "markdown",
   "metadata": {},
   "source": [
    "## Visualizing and summarizing `ComputationFrame`s\n",
    "CFs are complex data structures, and benefit from several kinds of high-level\n",
    "summaries."
   ]
  },
  {
   "cell_type": "markdown",
   "metadata": {},
   "source": [
    "### The `.draw()` method\n",
    "We've used the `.draw()` method a bunch of times so far. Let's revisit the most\n",
    "recent CF:"
   ]
  },
  {
   "cell_type": "code",
   "execution_count": 19,
   "metadata": {
    "execution": {
     "iopub.execute_input": "2024-07-02T21:04:58.902521Z",
     "iopub.status.busy": "2024-07-02T21:04:58.902294Z",
     "iopub.status.idle": "2024-07-02T21:04:58.996032Z",
     "shell.execute_reply": "2024-07-02T21:04:58.995384Z"
    }
   },
   "outputs": [
    {
     "data": {
      "image/svg+xml": [
       "<?xml version=\"1.0\" encoding=\"UTF-8\" standalone=\"no\"?>\n",
       "<!DOCTYPE svg PUBLIC \"-//W3C//DTD SVG 1.1//EN\"\n",
       " \"http://www.w3.org/Graphics/SVG/1.1/DTD/svg11.dtd\">\n",
       "<!-- Generated by graphviz version 2.50.0 (0)\n",
       " -->\n",
       "<!-- Title: G Pages: 1 -->\n",
       "<svg width=\"270pt\" height=\"620pt\"\n",
       " viewBox=\"0.00 0.00 269.50 620.00\" xmlns=\"http://www.w3.org/2000/svg\" xmlns:xlink=\"http://www.w3.org/1999/xlink\">\n",
       "<g id=\"graph0\" class=\"graph\" transform=\"scale(1 1) rotate(0) translate(4 616)\">\n",
       "<title>G</title>\n",
       "<polygon fill=\"white\" stroke=\"transparent\" points=\"-4,4 -4,-616 265.5,-616 265.5,4 -4,4\"/>\n",
       "<!-- n_estimators -->\n",
       "<g id=\"node1\" class=\"node\">\n",
       "<title>n_estimators</title>\n",
       "<path fill=\"none\" stroke=\"#268bd2\" d=\"M94,-420C94,-420 12,-420 12,-420 6,-420 0,-414 0,-408 0,-408 0,-396 0,-396 0,-390 6,-384 12,-384 12,-384 94,-384 94,-384 100,-384 106,-390 106,-396 106,-396 106,-408 106,-408 106,-414 100,-420 94,-420\"/>\n",
       "<text text-anchor=\"start\" x=\"13.5\" y=\"-404.4\" font-family=\"RobotoMono\" font-weight=\"bold\" font-size=\"12.00\" fill=\"#002b36\">n_estimators</text>\n",
       "<text text-anchor=\"start\" x=\"8\" y=\"-394\" font-family=\"RobotoMono\" font-size=\"10.00\" fill=\"#268bd2\">4 values (4 sources)</text>\n",
       "</g>\n",
       "<!-- train_model -->\n",
       "<g id=\"node10\" class=\"node\">\n",
       "<title>train_model</title>\n",
       "<path fill=\"none\" stroke=\"#dc322f\" d=\"M189.5,-326C189.5,-326 118.5,-326 118.5,-326 112.5,-326 106.5,-320 106.5,-314 106.5,-314 106.5,-298 106.5,-298 106.5,-292 112.5,-286 118.5,-286 118.5,-286 189.5,-286 189.5,-286 195.5,-286 201.5,-292 201.5,-298 201.5,-298 201.5,-314 201.5,-314 201.5,-320 195.5,-326 189.5,-326\"/>\n",
       "<text text-anchor=\"start\" x=\"117.5\" y=\"-313.4\" font-family=\"RobotoMono\" font-weight=\"bold\" font-size=\"12.00\" fill=\"#002b36\">train_model</text>\n",
       "<text text-anchor=\"start\" x=\"114.5\" y=\"-303\" font-family=\"RobotoMono\" font-size=\"10.00\" fill=\"#002b36\">@op:train_model</text>\n",
       "<text text-anchor=\"start\" x=\"140\" y=\"-293\" font-family=\"RobotoMono\" font-size=\"10.00\" fill=\"#dc322f\">4 calls</text>\n",
       "</g>\n",
       "<!-- n_estimators&#45;&gt;train_model -->\n",
       "<g id=\"edge4\" class=\"edge\">\n",
       "<title>n_estimators&#45;&gt;train_model</title>\n",
       "<path fill=\"none\" stroke=\"#002b36\" d=\"M60.91,-383.99C67.22,-371.76 76.98,-355.48 89,-344 93.68,-339.53 99.01,-335.39 104.55,-331.63\"/>\n",
       "<polygon fill=\"#002b36\" stroke=\"#002b36\" points=\"106.8,-334.35 113.37,-326.04 103.05,-328.44 106.8,-334.35\"/>\n",
       "<text text-anchor=\"middle\" x=\"119.5\" y=\"-358\" font-family=\"RobotoMono\" font-size=\"10.00\" fill=\"#002b36\">n_estimators</text>\n",
       "<text text-anchor=\"middle\" x=\"119.5\" y=\"-347\" font-family=\"RobotoMono\" font-size=\"10.00\" fill=\"#002b36\">(4 values)</text>\n",
       "</g>\n",
       "<!-- output_0 -->\n",
       "<g id=\"node2\" class=\"node\">\n",
       "<title>output_0</title>\n",
       "<path fill=\"none\" stroke=\"#268bd2\" d=\"M133.5,-228C133.5,-228 64.5,-228 64.5,-228 58.5,-228 52.5,-222 52.5,-216 52.5,-216 52.5,-204 52.5,-204 52.5,-198 58.5,-192 64.5,-192 64.5,-192 133.5,-192 133.5,-192 139.5,-192 145.5,-198 145.5,-204 145.5,-204 145.5,-216 145.5,-216 145.5,-222 139.5,-228 133.5,-228\"/>\n",
       "<text text-anchor=\"start\" x=\"71.5\" y=\"-212.4\" font-family=\"RobotoMono\" font-weight=\"bold\" font-size=\"12.00\" fill=\"#002b36\">output_0</text>\n",
       "<text text-anchor=\"start\" x=\"60.5\" y=\"-202\" font-family=\"RobotoMono\" font-size=\"10.00\" fill=\"#268bd2\">4 values (2 sinks)</text>\n",
       "</g>\n",
       "<!-- eval_model -->\n",
       "<g id=\"node9\" class=\"node\">\n",
       "<title>eval_model</title>\n",
       "<path fill=\"none\" stroke=\"#dc322f\" d=\"M133,-134C133,-134 65,-134 65,-134 59,-134 53,-128 53,-122 53,-122 53,-106 53,-106 53,-100 59,-94 65,-94 65,-94 133,-94 133,-94 139,-94 145,-100 145,-106 145,-106 145,-122 145,-122 145,-128 139,-134 133,-134\"/>\n",
       "<text text-anchor=\"start\" x=\"65\" y=\"-121.4\" font-family=\"RobotoMono\" font-weight=\"bold\" font-size=\"12.00\" fill=\"#002b36\">eval_model</text>\n",
       "<text text-anchor=\"start\" x=\"61\" y=\"-111\" font-family=\"RobotoMono\" font-size=\"10.00\" fill=\"#002b36\">@op:eval_model</text>\n",
       "<text text-anchor=\"start\" x=\"85\" y=\"-101\" font-family=\"RobotoMono\" font-size=\"10.00\" fill=\"#dc322f\">2 calls</text>\n",
       "</g>\n",
       "<!-- output_0&#45;&gt;eval_model -->\n",
       "<g id=\"edge6\" class=\"edge\">\n",
       "<title>output_0&#45;&gt;eval_model</title>\n",
       "<path fill=\"none\" stroke=\"#002b36\" d=\"M99,-191.76C99,-178.5 99,-159.86 99,-144.27\"/>\n",
       "<polygon fill=\"#002b36\" stroke=\"#002b36\" points=\"102.5,-144.07 99,-134.07 95.5,-144.07 102.5,-144.07\"/>\n",
       "<text text-anchor=\"middle\" x=\"121\" y=\"-166\" font-family=\"RobotoMono\" font-size=\"10.00\" fill=\"#002b36\">model</text>\n",
       "<text text-anchor=\"middle\" x=\"121\" y=\"-155\" font-family=\"RobotoMono\" font-size=\"10.00\" fill=\"#002b36\">(2 values)</text>\n",
       "</g>\n",
       "<!-- output_0_0 -->\n",
       "<g id=\"node3\" class=\"node\">\n",
       "<title>output_0_0</title>\n",
       "<path fill=\"none\" stroke=\"#268bd2\" d=\"M133.5,-36C133.5,-36 64.5,-36 64.5,-36 58.5,-36 52.5,-30 52.5,-24 52.5,-24 52.5,-12 52.5,-12 52.5,-6 58.5,0 64.5,0 64.5,0 133.5,0 133.5,0 139.5,0 145.5,-6 145.5,-12 145.5,-12 145.5,-24 145.5,-24 145.5,-30 139.5,-36 133.5,-36\"/>\n",
       "<text text-anchor=\"start\" x=\"65.5\" y=\"-20.4\" font-family=\"RobotoMono\" font-weight=\"bold\" font-size=\"12.00\" fill=\"#002b36\">output_0_0</text>\n",
       "<text text-anchor=\"start\" x=\"60.5\" y=\"-10\" font-family=\"RobotoMono\" font-size=\"10.00\" fill=\"#268bd2\">2 values (2 sinks)</text>\n",
       "</g>\n",
       "<!-- X_train -->\n",
       "<g id=\"node4\" class=\"node\">\n",
       "<title>X_train</title>\n",
       "<path fill=\"none\" stroke=\"#268bd2\" d=\"M172,-420C172,-420 136,-420 136,-420 130,-420 124,-414 124,-408 124,-408 124,-396 124,-396 124,-390 130,-384 136,-384 136,-384 172,-384 172,-384 178,-384 184,-390 184,-396 184,-396 184,-408 184,-408 184,-414 178,-420 172,-420\"/>\n",
       "<text text-anchor=\"start\" x=\"132\" y=\"-404.4\" font-family=\"RobotoMono\" font-weight=\"bold\" font-size=\"12.00\" fill=\"#002b36\">X_train</text>\n",
       "<text text-anchor=\"start\" x=\"135\" y=\"-394\" font-family=\"RobotoMono\" font-size=\"10.00\" fill=\"#268bd2\">1 values</text>\n",
       "</g>\n",
       "<!-- X_train&#45;&gt;train_model -->\n",
       "<g id=\"edge3\" class=\"edge\">\n",
       "<title>X_train&#45;&gt;train_model</title>\n",
       "<path fill=\"none\" stroke=\"#002b36\" d=\"M154,-383.76C154,-370.5 154,-351.86 154,-336.27\"/>\n",
       "<polygon fill=\"#002b36\" stroke=\"#002b36\" points=\"157.5,-336.07 154,-326.07 150.5,-336.07 157.5,-336.07\"/>\n",
       "<text text-anchor=\"middle\" x=\"176\" y=\"-358\" font-family=\"RobotoMono\" font-size=\"10.00\" fill=\"#002b36\">X_train</text>\n",
       "<text text-anchor=\"middle\" x=\"176\" y=\"-347\" font-family=\"RobotoMono\" font-size=\"10.00\" fill=\"#002b36\">(1 values)</text>\n",
       "</g>\n",
       "<!-- output_1 -->\n",
       "<g id=\"node5\" class=\"node\">\n",
       "<title>output_1</title>\n",
       "<path fill=\"none\" stroke=\"#268bd2\" d=\"M244.5,-228C244.5,-228 175.5,-228 175.5,-228 169.5,-228 163.5,-222 163.5,-216 163.5,-216 163.5,-204 163.5,-204 163.5,-198 169.5,-192 175.5,-192 175.5,-192 244.5,-192 244.5,-192 250.5,-192 256.5,-198 256.5,-204 256.5,-204 256.5,-216 256.5,-216 256.5,-222 250.5,-228 244.5,-228\"/>\n",
       "<text text-anchor=\"start\" x=\"182.5\" y=\"-212.4\" font-family=\"RobotoMono\" font-weight=\"bold\" font-size=\"12.00\" fill=\"#002b36\">output_1</text>\n",
       "<text text-anchor=\"start\" x=\"171.5\" y=\"-202\" font-family=\"RobotoMono\" font-size=\"10.00\" fill=\"#268bd2\">4 values (4 sinks)</text>\n",
       "</g>\n",
       "<!-- random_seed -->\n",
       "<g id=\"node6\" class=\"node\">\n",
       "<title>random_seed</title>\n",
       "<path fill=\"none\" stroke=\"#268bd2\" d=\"M233,-612C233,-612 151,-612 151,-612 145,-612 139,-606 139,-600 139,-600 139,-588 139,-588 139,-582 145,-576 151,-576 151,-576 233,-576 233,-576 239,-576 245,-582 245,-588 245,-588 245,-600 245,-600 245,-606 239,-612 233,-612\"/>\n",
       "<text text-anchor=\"start\" x=\"151.5\" y=\"-596.4\" font-family=\"RobotoMono\" font-weight=\"bold\" font-size=\"12.00\" fill=\"#002b36\">random_seed</text>\n",
       "<text text-anchor=\"start\" x=\"147\" y=\"-586\" font-family=\"RobotoMono\" font-size=\"10.00\" fill=\"#268bd2\">1 values (1 sources)</text>\n",
       "</g>\n",
       "<!-- generate_dataset -->\n",
       "<g id=\"node8\" class=\"node\">\n",
       "<title>generate_dataset</title>\n",
       "<path fill=\"none\" stroke=\"#dc322f\" d=\"M241,-518C241,-518 143,-518 143,-518 137,-518 131,-512 131,-506 131,-506 131,-490 131,-490 131,-484 137,-478 143,-478 143,-478 241,-478 241,-478 247,-478 253,-484 253,-490 253,-490 253,-506 253,-506 253,-512 247,-518 241,-518\"/>\n",
       "<text text-anchor=\"start\" x=\"139\" y=\"-505.4\" font-family=\"RobotoMono\" font-weight=\"bold\" font-size=\"12.00\" fill=\"#002b36\">generate_dataset</text>\n",
       "<text text-anchor=\"start\" x=\"139\" y=\"-495\" font-family=\"RobotoMono\" font-size=\"10.00\" fill=\"#002b36\">@op:generate_dataset</text>\n",
       "<text text-anchor=\"start\" x=\"178\" y=\"-485\" font-family=\"RobotoMono\" font-size=\"10.00\" fill=\"#dc322f\">1 calls</text>\n",
       "</g>\n",
       "<!-- random_seed&#45;&gt;generate_dataset -->\n",
       "<g id=\"edge9\" class=\"edge\">\n",
       "<title>random_seed&#45;&gt;generate_dataset</title>\n",
       "<path fill=\"none\" stroke=\"#002b36\" d=\"M192,-575.76C192,-562.5 192,-543.86 192,-528.27\"/>\n",
       "<polygon fill=\"#002b36\" stroke=\"#002b36\" points=\"195.5,-528.07 192,-518.07 188.5,-528.07 195.5,-528.07\"/>\n",
       "<text text-anchor=\"middle\" x=\"224\" y=\"-550\" font-family=\"RobotoMono\" font-size=\"10.00\" fill=\"#002b36\">random_seed</text>\n",
       "<text text-anchor=\"middle\" x=\"224\" y=\"-539\" font-family=\"RobotoMono\" font-size=\"10.00\" fill=\"#002b36\">(1 values)</text>\n",
       "</g>\n",
       "<!-- y_train -->\n",
       "<g id=\"node7\" class=\"node\">\n",
       "<title>y_train</title>\n",
       "<path fill=\"none\" stroke=\"#268bd2\" d=\"M249.5,-420C249.5,-420 214.5,-420 214.5,-420 208.5,-420 202.5,-414 202.5,-408 202.5,-408 202.5,-396 202.5,-396 202.5,-390 208.5,-384 214.5,-384 214.5,-384 249.5,-384 249.5,-384 255.5,-384 261.5,-390 261.5,-396 261.5,-396 261.5,-408 261.5,-408 261.5,-414 255.5,-420 249.5,-420\"/>\n",
       "<text text-anchor=\"start\" x=\"210.5\" y=\"-404.4\" font-family=\"RobotoMono\" font-weight=\"bold\" font-size=\"12.00\" fill=\"#002b36\">y_train</text>\n",
       "<text text-anchor=\"start\" x=\"213\" y=\"-394\" font-family=\"RobotoMono\" font-size=\"10.00\" fill=\"#268bd2\">1 values</text>\n",
       "</g>\n",
       "<!-- y_train&#45;&gt;train_model -->\n",
       "<g id=\"edge5\" class=\"edge\">\n",
       "<title>y_train&#45;&gt;train_model</title>\n",
       "<path fill=\"none\" stroke=\"#002b36\" d=\"M225.31,-383.88C220.1,-371.91 212.08,-355.98 202,-344 198.66,-340.03 194.82,-336.21 190.8,-332.63\"/>\n",
       "<polygon fill=\"#002b36\" stroke=\"#002b36\" points=\"192.86,-329.79 182.93,-326.09 188.38,-335.18 192.86,-329.79\"/>\n",
       "<text text-anchor=\"middle\" x=\"238\" y=\"-358\" font-family=\"RobotoMono\" font-size=\"10.00\" fill=\"#002b36\">y_train</text>\n",
       "<text text-anchor=\"middle\" x=\"238\" y=\"-347\" font-family=\"RobotoMono\" font-size=\"10.00\" fill=\"#002b36\">(1 values)</text>\n",
       "</g>\n",
       "<!-- generate_dataset&#45;&gt;X_train -->\n",
       "<g id=\"edge7\" class=\"edge\">\n",
       "<title>generate_dataset&#45;&gt;X_train</title>\n",
       "<path fill=\"none\" stroke=\"#002b36\" d=\"M174.02,-477.85C169.8,-472.43 165.74,-466.29 163,-460 158.95,-450.69 156.69,-439.82 155.45,-430.08\"/>\n",
       "<polygon fill=\"#002b36\" stroke=\"#002b36\" points=\"158.93,-429.69 154.46,-420.09 151.96,-430.38 158.93,-429.69\"/>\n",
       "<text text-anchor=\"middle\" x=\"185\" y=\"-452\" font-family=\"RobotoMono\" font-size=\"10.00\" fill=\"#002b36\">output_0</text>\n",
       "<text text-anchor=\"middle\" x=\"185\" y=\"-441\" font-family=\"RobotoMono\" font-size=\"10.00\" fill=\"#002b36\">(1 values)</text>\n",
       "</g>\n",
       "<!-- generate_dataset&#45;&gt;y_train -->\n",
       "<g id=\"edge8\" class=\"edge\">\n",
       "<title>generate_dataset&#45;&gt;y_train</title>\n",
       "<path fill=\"none\" stroke=\"#002b36\" d=\"M200.09,-477.98C206.01,-464.07 214.12,-445.03 220.68,-429.61\"/>\n",
       "<polygon fill=\"#002b36\" stroke=\"#002b36\" points=\"224.03,-430.67 224.72,-420.1 217.59,-427.93 224.03,-430.67\"/>\n",
       "<text text-anchor=\"middle\" x=\"238\" y=\"-452\" font-family=\"RobotoMono\" font-size=\"10.00\" fill=\"#002b36\">output_2</text>\n",
       "<text text-anchor=\"middle\" x=\"238\" y=\"-441\" font-family=\"RobotoMono\" font-size=\"10.00\" fill=\"#002b36\">(1 values)</text>\n",
       "</g>\n",
       "<!-- eval_model&#45;&gt;output_0_0 -->\n",
       "<g id=\"edge10\" class=\"edge\">\n",
       "<title>eval_model&#45;&gt;output_0_0</title>\n",
       "<path fill=\"none\" stroke=\"#002b36\" d=\"M99,-93.98C99,-80.34 99,-61.75 99,-46.5\"/>\n",
       "<polygon fill=\"#002b36\" stroke=\"#002b36\" points=\"102.5,-46.1 99,-36.1 95.5,-46.1 102.5,-46.1\"/>\n",
       "<text text-anchor=\"middle\" x=\"121\" y=\"-68\" font-family=\"RobotoMono\" font-size=\"10.00\" fill=\"#002b36\">output_0</text>\n",
       "<text text-anchor=\"middle\" x=\"121\" y=\"-57\" font-family=\"RobotoMono\" font-size=\"10.00\" fill=\"#002b36\">(2 values)</text>\n",
       "</g>\n",
       "<!-- train_model&#45;&gt;output_0 -->\n",
       "<g id=\"edge1\" class=\"edge\">\n",
       "<title>train_model&#45;&gt;output_0</title>\n",
       "<path fill=\"none\" stroke=\"#002b36\" d=\"M142.87,-285.98C134.58,-271.81 123.17,-252.3 114.06,-236.74\"/>\n",
       "<polygon fill=\"#002b36\" stroke=\"#002b36\" points=\"117.08,-234.96 109,-228.1 111.03,-238.5 117.08,-234.96\"/>\n",
       "<text text-anchor=\"middle\" x=\"153\" y=\"-260\" font-family=\"RobotoMono\" font-size=\"10.00\" fill=\"#002b36\">output_0</text>\n",
       "<text text-anchor=\"middle\" x=\"153\" y=\"-249\" font-family=\"RobotoMono\" font-size=\"10.00\" fill=\"#002b36\">(4 values)</text>\n",
       "</g>\n",
       "<!-- train_model&#45;&gt;output_1 -->\n",
       "<g id=\"edge2\" class=\"edge\">\n",
       "<title>train_model&#45;&gt;output_1</title>\n",
       "<path fill=\"none\" stroke=\"#002b36\" d=\"M167.59,-285.64C171.4,-280.02 175.46,-273.83 179,-268 185.03,-258.08 191.23,-246.91 196.48,-237.1\"/>\n",
       "<polygon fill=\"#002b36\" stroke=\"#002b36\" points=\"199.61,-238.68 201.2,-228.2 193.42,-235.4 199.61,-238.68\"/>\n",
       "<text text-anchor=\"middle\" x=\"213\" y=\"-260\" font-family=\"RobotoMono\" font-size=\"10.00\" fill=\"#002b36\">output_1</text>\n",
       "<text text-anchor=\"middle\" x=\"213\" y=\"-249\" font-family=\"RobotoMono\" font-size=\"10.00\" fill=\"#002b36\">(4 values)</text>\n",
       "</g>\n",
       "</g>\n",
       "</svg>\n"
      ],
      "text/plain": [
       "<graphviz.sources.Source at 0x7956393bd900>"
      ]
     },
     "metadata": {},
     "output_type": "display_data"
    }
   ],
   "source": [
    "cf.draw(verbose=True)"
   ]
  },
  {
   "cell_type": "markdown",
   "metadata": {},
   "source": [
    "The `.draw()` method shows the computational graph of a CF and how many\n",
    "calls/refs there are in each function/variable. When called with `verbose=True`,\n",
    "this method shows a summary of how the variable values and function calls\n",
    "connect across the CF:\n",
    "\n",
    "- **source (i.e. initial) `Ref`s** in each variable: the `Ref`s in this variable\n",
    "that aren't outputs of any call in a function node using the variable as output.\n",
    "- **sink (i.e. final) `Ref`s** in each variable: dual to source refs, these are\n",
    "the `Ref`s that are not inputs to calls in any function node using the variable\n",
    "as input.\n",
    "- **edge `Ref`s** for each edge: for edges that are inputs to functions, this is\n",
    "the number of refs from the input variable that are used in calls to the\n",
    "function. For edges that are outputs of functions, this is the number of refs in\n",
    "the output variable created by calls in the function node."
   ]
  },
  {
   "cell_type": "markdown",
   "metadata": {},
   "source": [
    "### Printing the computation graph of a `ComputationFrame`\n",
    "The computational graph of a CF is part of its `repr()`, but you can also print\n",
    "just the graph:"
   ]
  },
  {
   "cell_type": "code",
   "execution_count": 20,
   "metadata": {
    "execution": {
     "iopub.execute_input": "2024-07-02T21:04:58.998473Z",
     "iopub.status.busy": "2024-07-02T21:04:58.998230Z",
     "iopub.status.idle": "2024-07-02T21:04:59.025692Z",
     "shell.execute_reply": "2024-07-02T21:04:59.024969Z"
    }
   },
   "outputs": [
    {
     "name": "stdout",
     "output_type": "stream",
     "text": [
      "X_train@output_0, y_train@output_2 = generate_dataset(random_seed=random_seed)\n",
      "output_0@output_0, output_1@output_1 = train_model(X_train=X_train, n_estimators=n_estimators, y_train=y_train)\n",
      "output_0_0@output_0 = eval_model(model=output_0)\n"
     ]
    }
   ],
   "source": [
    "cf.print_graph()"
   ]
  },
  {
   "cell_type": "markdown",
   "metadata": {},
   "source": [
    "Note that outputs are appended with `@output_0`, .... This is to indicate the\n",
    "name each output is bound to, in case some outputs are missing from the graph\n",
    "(which is possible, because CFs can represent partial computations)."
   ]
  }
 ],
 "metadata": {
  "language_info": {
   "codemirror_mode": {
    "name": "ipython",
    "version": 3
   },
   "file_extension": ".py",
   "mimetype": "text/x-python",
   "name": "python",
   "nbconvert_exporter": "python",
   "pygments_lexer": "ipython3",
   "version": "3.10.8"
  }
 },
 "nbformat": 4,
 "nbformat_minor": 2
}
