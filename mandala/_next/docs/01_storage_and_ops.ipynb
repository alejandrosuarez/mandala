{
 "cells": [
  {
   "cell_type": "markdown",
   "metadata": {},
   "source": [
    "# `Storage` & the `@op` Decorator\n",
    "A `Storage` object holds all data (saved calls, code and dependencies) for a\n",
    "collection of memoized functions. In a given project, you should have just one\n",
    "`Storage` and many `@op`s connected to it. This way, the calls to memoized\n",
    "functions create a queriable web of interlinked objects. "
   ]
  },
  {
   "cell_type": "markdown",
   "metadata": {},
   "source": [
    "## Creating a `Storage`\n",
    "\n",
    "When creating a storage, you must decide if it will be in-memory or persisted on\n",
    "disk, and whether the storage will automatically version the `@op`s used with\n",
    "it:"
   ]
  },
  {
   "cell_type": "code",
   "execution_count": 1,
   "metadata": {
    "execution": {
     "iopub.execute_input": "2024-07-01T20:25:18.639306Z",
     "iopub.status.busy": "2024-07-01T20:25:18.637866Z",
     "iopub.status.idle": "2024-07-01T20:25:21.737709Z",
     "shell.execute_reply": "2024-07-01T20:25:21.737130Z"
    }
   },
   "outputs": [],
   "source": [
    "from mandala._next.imports import Storage\n",
    "\n",
    "storage = Storage(\n",
    "    # omit for an in-memory storage\n",
    "    db_path='my_persistent_storage.db', \n",
    "    # omit to disable automatic dependency tracking & versioning\n",
    "    # use \"__main__\" to only track functions defined in the current session\n",
    "    deps_path='__main__', \n",
    ")"
   ]
  },
  {
   "cell_type": "markdown",
   "metadata": {},
   "source": [
    "## Creating `@op`s and saving calls to them\n",
    "**Any Python function can be decorated with `@op`**:"
   ]
  },
  {
   "cell_type": "code",
   "execution_count": 2,
   "metadata": {
    "execution": {
     "iopub.execute_input": "2024-07-01T20:25:21.740745Z",
     "iopub.status.busy": "2024-07-01T20:25:21.740218Z",
     "iopub.status.idle": "2024-07-01T20:25:21.760827Z",
     "shell.execute_reply": "2024-07-01T20:25:21.760250Z"
    }
   },
   "outputs": [],
   "source": [
    "from mandala._next.imports import op\n",
    "\n",
    "@op \n",
    "def sum_args(a, *args, b=1, **kwargs):\n",
    "    return a + sum(args) + b + sum(kwargs.values())"
   ]
  },
  {
   "cell_type": "markdown",
   "metadata": {},
   "source": [
    "In general, calling `sum_args` will behave as if the `@op` decorator is not\n",
    "there. `@op`-decorated functions will interact with a `Storage` instance **only\n",
    "when** called inside a `with storage:` block:"
   ]
  },
  {
   "cell_type": "code",
   "execution_count": 3,
   "metadata": {
    "execution": {
     "iopub.execute_input": "2024-07-01T20:25:21.763881Z",
     "iopub.status.busy": "2024-07-01T20:25:21.763660Z",
     "iopub.status.idle": "2024-07-01T20:25:21.786850Z",
     "shell.execute_reply": "2024-07-01T20:25:21.786223Z"
    }
   },
   "outputs": [
    {
     "name": "stdout",
     "output_type": "stream",
     "text": [
      "AtomRef(17, hid='43b...', cid='89c...')\n"
     ]
    }
   ],
   "source": [
    "with storage: # all `@op` calls inside this block use `storage`\n",
    "    s = sum_args(1, 2, 3, 4, c=6,)\n",
    "    print(s)"
   ]
  },
  {
   "cell_type": "markdown",
   "metadata": {},
   "source": [
    "This code runs the call to `sum_args`, and saves the inputs and outputs in the\n",
    "`storage` object, so that doing the same call later will directly load the saved\n",
    "outputs."
   ]
  },
  {
   "cell_type": "markdown",
   "metadata": {},
   "source": [
    "## Working with `@op` outputs (`Ref`s)\n",
    "The objects (e.g. `s`) returned by `@op`s are always instances of a subclass of\n",
    "`Ref` (e.g., `AtomRef`), i.e.  **references to objects in the storage**. Every\n",
    "`Ref` contains two metadata fields:\n",
    "\n",
    "- `cid`: a hash of the **content** of the object\n",
    "- `hid`: a hash of the **computational history** of the object, which is the precise\n",
    "composition of `@op`s that created this ref.  \n",
    "\n",
    "Two `Ref`s with the same `cid` may have different `hid`s, and `hid` is the\n",
    "unique identifier of `Ref`s in the storage. However, only 1 copy per unique\n",
    "`cid` is stored to avoid duplication in the storage.\n",
    "\n",
    "### `Ref`s can be in memory or not\n",
    "Additionally, `Ref`s have the `in_memory` property, which indicates if the\n",
    "underlying object is present in the `Ref` or if this is a \"lazy\" `Ref` which\n",
    "only contains metadata. **`Ref`s are only loaded in memory when needed for a new\n",
    "call to an `@op`**. For example, re-running the last code block:"
   ]
  },
  {
   "cell_type": "code",
   "execution_count": 4,
   "metadata": {
    "execution": {
     "iopub.execute_input": "2024-07-01T20:25:21.821176Z",
     "iopub.status.busy": "2024-07-01T20:25:21.820931Z",
     "iopub.status.idle": "2024-07-01T20:25:21.853095Z",
     "shell.execute_reply": "2024-07-01T20:25:21.852406Z"
    }
   },
   "outputs": [
    {
     "name": "stdout",
     "output_type": "stream",
     "text": [
      "AtomRef(hid='43b...', cid='89c...', in_memory=False)\n"
     ]
    }
   ],
   "source": [
    "with storage:\n",
    "    s = sum_args(1, 2, 3, 4, c=6,)\n",
    "    print(s)"
   ]
  },
  {
   "cell_type": "markdown",
   "metadata": {},
   "source": [
    "To get the object wrapped by a `Ref`, call `storage.unwrap`:"
   ]
  },
  {
   "cell_type": "code",
   "execution_count": 5,
   "metadata": {
    "execution": {
     "iopub.execute_input": "2024-07-01T20:25:21.855363Z",
     "iopub.status.busy": "2024-07-01T20:25:21.855124Z",
     "iopub.status.idle": "2024-07-01T20:25:21.878699Z",
     "shell.execute_reply": "2024-07-01T20:25:21.878017Z"
    }
   },
   "outputs": [
    {
     "data": {
      "text/plain": [
       "17"
      ]
     },
     "execution_count": 5,
     "metadata": {},
     "output_type": "execute_result"
    }
   ],
   "source": [
    "storage.unwrap(s) # loads from storage only if necessary"
   ]
  },
  {
   "cell_type": "markdown",
   "metadata": {},
   "source": [
    "### Other useful `Storage` methods\n",
    "\n",
    "- `Storage.attach(inplace: bool)`: like `unwrap`, but puts the objects in the\n",
    "`Ref`s if they are not in-memory.\n",
    "- `Storage.load_ref(hid: str, in_memory: bool)`: load a `Ref` by its history ID,\n",
    "optionally also loading the underlying object."
   ]
  },
  {
   "cell_type": "code",
   "execution_count": 6,
   "metadata": {
    "execution": {
     "iopub.execute_input": "2024-07-01T20:25:21.881263Z",
     "iopub.status.busy": "2024-07-01T20:25:21.880981Z",
     "iopub.status.idle": "2024-07-01T20:25:21.901370Z",
     "shell.execute_reply": "2024-07-01T20:25:21.900785Z"
    }
   },
   "outputs": [
    {
     "name": "stdout",
     "output_type": "stream",
     "text": [
      "AtomRef(17, hid='43b...', cid='89c...')\n",
      "AtomRef(17, hid='43b...', cid='89c...')\n"
     ]
    }
   ],
   "source": [
    "print(storage.attach(obj=s, inplace=False))\n",
    "print(storage.load_ref(s.hid))"
   ]
  },
  {
   "cell_type": "markdown",
   "metadata": {},
   "source": [
    "## Working with `Call` objects\n",
    "Besides `Ref`s, the other kind of object in the storage is the `Call`, which\n",
    "stores references to the inputs and outputs of a call to an `@op`, together with\n",
    "metadata that mirrors the `Ref` metadata:\n",
    "\n",
    "- `Call.cid`: a content ID for the call, based on the `@op`'s identity, its\n",
    "version at the time of the call, and the `cid`s of the inputs\n",
    "- `Call.hid`: a history ID for the call, the same as `Call.cid`, but using the \n",
    "`hid`s of the inputs.\n",
    "\n",
    "**For every `Ref` history ID, there's at most one `Call` that has an output with\n",
    "this history ID**, and if it exists, this call can be found by calling\n",
    "`storage.get_ref_creator()`: "
   ]
  },
  {
   "cell_type": "code",
   "execution_count": 7,
   "metadata": {
    "execution": {
     "iopub.execute_input": "2024-07-01T20:25:21.903814Z",
     "iopub.status.busy": "2024-07-01T20:25:21.903612Z",
     "iopub.status.idle": "2024-07-01T20:25:21.940121Z",
     "shell.execute_reply": "2024-07-01T20:25:21.939390Z"
    }
   },
   "outputs": [
    {
     "name": "stdout",
     "output_type": "stream",
     "text": [
      "Call(sum_args, cid='25b...', hid='290...')\n"
     ]
    },
    {
     "data": {
      "text/plain": [
       "{'a': AtomRef(hid='610...', cid='366...', in_memory=False),\n",
       " 'args_0': AtomRef(hid='245...', cid='76f...', in_memory=False),\n",
       " 'args_1': AtomRef(hid='878...', cid='566...', in_memory=False),\n",
       " 'args_2': AtomRef(hid='309...', cid='a82...', in_memory=False),\n",
       " 'b': AtomRef(hid='610...', cid='366...', in_memory=False),\n",
       " 'c': AtomRef(hid='c6a...', cid='489...', in_memory=False)}"
      ]
     },
     "metadata": {},
     "output_type": "display_data"
    },
    {
     "data": {
      "text/plain": [
       "{'output_0': AtomRef(hid='43b...', cid='89c...', in_memory=False)}"
      ]
     },
     "metadata": {},
     "output_type": "display_data"
    }
   ],
   "source": [
    "call = storage.get_ref_creator(ref=s)\n",
    "print(call)\n",
    "display(call.inputs)\n",
    "display(call.outputs)"
   ]
  }
 ],
 "metadata": {
  "language_info": {
   "codemirror_mode": {
    "name": "ipython",
    "version": 3
   },
   "file_extension": ".py",
   "mimetype": "text/x-python",
   "name": "python",
   "nbconvert_exporter": "python",
   "pygments_lexer": "ipython3",
   "version": "3.10.8"
  }
 },
 "nbformat": 4,
 "nbformat_minor": 2
}
