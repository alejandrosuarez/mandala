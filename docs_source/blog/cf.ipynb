{
 "cells": [
  {
   "cell_type": "markdown",
   "metadata": {},
   "source": [
    "# Tidy computations\n",
    "In data-driven fields like machine learning, a lot of effort is spent organizing\n",
    "*computational data* &mdash; results of running programs &mdash; so that it can be analyzed\n",
    "and manipulated. This blog post introduces the `ComputationFrame` (CF) data\n",
    "structure, which provides a natural and simple grammar of operations to automate\n",
    "this. It is implemented as [part of](https://amakelov.github.io/mandala/03_cf/)\n",
    "[mandala](https://github.com/amakelov/mandala), a Python library for experiment\n",
    "tracking and incremental computation.\n",
    "\n",
    "A `ComputationFrame` is a \"generalized dataframe\", where the set of columns is\n",
    "replaced by a computation graph of variables and operations, and rows are\n",
    "(possibly partial) executions of the graph. Any computation frame can be turned\n",
    "into a dataframe by \"forgetting\" the graph structure:\n",
    "\n",
    "![ComputationFrame](output.svg)"
   ]
  },
  {
   "cell_type": "markdown",
   "metadata": {},
   "source": [
    "Computation frames share properties with both computation graphs and relational \n",
    "databases, enabling operations combining the structure of both, such as:\n",
    "\n",
    "- **expansion**: explore computations by adding to the CF the calls that\n",
    "produced/used the values in some variables. These calls and their inputs/outputs\n",
    "are automatically organized into operations and variables, creating new ones if\n",
    "necessary.\n",
    "- **filtering** the CF along graph topology and/or properties of individual\n",
    "values or calls.\n",
    "- **flattening** the CF into a dataframe, where each row corresponds to an\n",
    "execution of the computation graph. In database terms, this is a materialized \n",
    "view of the CF computed by joining the implicit tables of the operations and\n",
    "variables.\n",
    "\n",
    "Much of the exposition here is a re-imagining of the ideas in the [Tidy\n",
    "Data](https://www.jstatsoft.org/article/view/v059i10) paper in the context of\n",
    "computational data. The focus is on handling computations involving repeated\n",
    "calls to the same set of functions, which is a common pattern in machine\n",
    "learning and scientific computing.\n",
    "\n",
    "## So what's a `ComputationFrame`?\n",
    "\n",
    "### Expansion: adding more computations to the CF\n",
    "\n",
    "### Filtering: restricting to a subset of computations\n",
    "There are no nulls in a `ComputationFrame`, which makes it easy to filter\n",
    "operations and variables based on their properties. \n",
    "\n",
    "### Flattening: turning the CF into a dataframe for downstream analysis\n",
    "\n",
    "## Case studies\n",
    "\n",
    "### Heterogeneous computations\n",
    "\n",
    "### Pipelines that branch and/or merge\n",
    "\n",
    "### Aggregation and/or indexing into data\n"
   ]
  }
 ],
 "metadata": {
  "language_info": {
   "codemirror_mode": {
    "name": "ipython",
    "version": 3
   },
   "file_extension": ".py",
   "mimetype": "text/x-python",
   "name": "python",
   "nbconvert_exporter": "python",
   "pygments_lexer": "ipython3",
   "version": "3.10.8"
  }
 },
 "nbformat": 4,
 "nbformat_minor": 2
}
