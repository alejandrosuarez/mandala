{
 "cells": [
  {
   "cell_type": "markdown",
   "metadata": {},
   "source": [
    "# Query the Storage with `ComputationFrame`s\n",
    "<a href=\"https://colab.research.google.com/github/amakelov/mandala/blob/master/docs_source/topics/03_cf.ipynb\"> \n",
    "  <img src=\"https://colab.research.google.com/assets/colab-badge.svg\" alt=\"Open In Colab\"/> </a>\n",
    "\n",
    "## Why `ComputationFrame`s?\n",
    "The `ComputationFrame` data structure **formalizes the natural/intuitive way you\n",
    "think of the \"web\" of saved `@op` calls**. It gives you a \"grammar\" in which\n",
    "operations over persisted computation graphs that are easy to think of are also\n",
    "easy to implement.\n",
    "\n",
    "In computational projects, all queries boil down to how some variables depend on\n",
    "other variables: e.g., in ML you often care about what input parameters lead to\n",
    "final results with certain metrics. The `mandala` storage can automatically\n",
    "answer such questions when all operations along the way were `@op`s, because it\n",
    "represents the \"web\" of saved `@op` calls, linked by how the outputs of one\n",
    "`@op` are used as inputs to other `@op`s.\n",
    "\n",
    "The `ComputationFrame` (CF) is the data structure used to explore and query this\n",
    "web of calls. It's a high-level view of a collection of `@op` calls, so that\n",
    "calls that serve the same role are grouped together. **The groups of calls form a\n",
    "computational graph of variables and functions, which enables effective &\n",
    "natural high-level operations over storage**. \n",
    "\n",
    "This section covers basic tools to get up to speed with CFs. For more advanced\n",
    "usage, see [Advanced `ComputationFrame` tools](06_advanced_cf.md) "
   ]
  },
  {
   "cell_type": "markdown",
   "metadata": {},
   "source": [
    "## Typical workflow\n",
    "Using CFs typically goes through the following stages:\n",
    "\n",
    "- **[creation](#creating-computationframes)**: initialize a CF in various ways,\n",
    "e.g. from some `Ref`s, from all calls to an `@op`, .... This CF will have a\n",
    "limited view of storage because it will involve few (0 or 1) `@op`s\n",
    "- **[expansion](#exploring-storage-by-expanding-computationframes)**: add more\n",
    "context to the CF by adding new function nodes containing the calls that\n",
    "produced/used some variable(s). The goal of this stage is to incorporate in the\n",
    "CF all variables whose relationships you're interested in.\n",
    "- **combination & restriction**: merge multiple CFs, restrict to subgraphs or \n",
    "specific values of the variables along some predicates. This lets you focus on\n",
    "the computations you want before making expensive calls to the storage.\n",
    "- **[conversion to a `pandas.DataFrame`](#extracting-dataframes-from-computationframes)**: finally,\n",
    "extract a table representing the relationships between the variables in the CF\n",
    "for downstream analysis.\n",
    "\n",
    "### Toy ML pipeline\n",
    "In this section, we'll work with the following toy experiment on a small ML\n",
    "pipeline:"
   ]
  },
  {
   "cell_type": "code",
   "execution_count": 1,
   "metadata": {
    "execution": {
     "iopub.execute_input": "2024-07-07T15:08:08.095016Z",
     "iopub.status.busy": "2024-07-07T15:08:08.094411Z",
     "iopub.status.idle": "2024-07-07T15:08:08.107413Z",
     "shell.execute_reply": "2024-07-07T15:08:08.106525Z"
    }
   },
   "outputs": [],
   "source": [
    "# for Google Colab\n",
    "try:\n",
    "    import google.colab\n",
    "    !pip install git+https://github.com/amakelov/mandala\n",
    "except:\n",
    "    pass"
   ]
  },
  {
   "cell_type": "code",
   "execution_count": 2,
   "metadata": {
    "execution": {
     "iopub.execute_input": "2024-07-07T15:08:08.111340Z",
     "iopub.status.busy": "2024-07-07T15:08:08.110611Z",
     "iopub.status.idle": "2024-07-07T15:08:10.074555Z",
     "shell.execute_reply": "2024-07-07T15:08:10.073928Z"
    }
   },
   "outputs": [],
   "source": [
    "### define ops to train & eval a random forest model on digits dataset\n",
    "import numpy as np\n",
    "from sklearn.datasets import load_digits\n",
    "from sklearn.model_selection import train_test_split\n",
    "from sklearn.ensemble import RandomForestClassifier\n",
    "\n",
    "from mandala.imports import *\n",
    "try:\n",
    "    import rich\n",
    "    from rich import print as pprint\n",
    "except ImportError:\n",
    "    print(\"rich not installed, using default print\")\n",
    "    pprint = print\n",
    "\n",
    "storage = Storage()\n",
    "\n",
    "np.random.seed(0)\n",
    "\n",
    "@op \n",
    "def generate_dataset(random_seed=42):\n",
    "    X, y = load_digits(return_X_y=True)\n",
    "    X_train, X_test, y_train, y_test = train_test_split(\n",
    "        X, y, test_size=0.2, random_state=random_seed)\n",
    "    return X_train, X_test, y_train, y_test\n",
    "\n",
    "@op\n",
    "def train_model(X_train, y_train, n_estimators):\n",
    "    model = RandomForestClassifier(n_estimators=n_estimators, max_depth=2)\n",
    "    model.fit(X_train, y_train)\n",
    "    return model, round(model.score(X_train, y_train), 2)\n",
    "\n",
    "@op\n",
    "def eval_model(model, X_test, y_test):\n",
    "    return round(model.score(X_test, y_test), 2)"
   ]
  },
  {
   "cell_type": "code",
   "execution_count": 3,
   "metadata": {
    "execution": {
     "iopub.execute_input": "2024-07-07T15:08:10.077984Z",
     "iopub.status.busy": "2024-07-07T15:08:10.077693Z",
     "iopub.status.idle": "2024-07-07T15:08:10.600280Z",
     "shell.execute_reply": "2024-07-07T15:08:10.599584Z"
    }
   },
   "outputs": [],
   "source": [
    "with storage: \n",
    "    X_train, X_test, y_train, y_test = generate_dataset()\n",
    "    for n_estimators in [10, 20, 40, 80]:\n",
    "        model, train_acc = train_model(X_train, y_train, n_estimators=n_estimators)\n",
    "        if storage.unwrap(train_acc) > 0.8: # conditional execution\n",
    "            test_acc = eval_model(model, X_test, y_test)"
   ]
  },
  {
   "cell_type": "markdown",
   "metadata": {},
   "source": [
    "## Creating `ComputationFrame`s\n",
    "There are several ways to create a CF, all dispatched through the `storage.cf()`\n",
    "method.\n",
    "\n",
    "### From a single `Ref`\n",
    "The simplest example of a CF is to create one from a `Ref`:"
   ]
  },
  {
   "cell_type": "code",
   "execution_count": 4,
   "metadata": {
    "execution": {
     "iopub.execute_input": "2024-07-07T15:08:10.603396Z",
     "iopub.status.busy": "2024-07-07T15:08:10.603191Z",
     "iopub.status.idle": "2024-07-07T15:08:10.718560Z",
     "shell.execute_reply": "2024-07-07T15:08:10.717895Z"
    }
   },
   "outputs": [
    {
     "data": {
      "text/html": [
       "<pre style=\"white-space:pre;overflow-x:auto;line-height:normal;font-family:Menlo,'DejaVu Sans Mono',consolas,'Courier New',monospace\">ComputationFrame with:\n",
       "    <span style=\"color: #008080; text-decoration-color: #008080; font-weight: bold\">1</span> <span style=\"color: #800080; text-decoration-color: #800080; font-weight: bold\">variable</span><span style=\"font-weight: bold\">(</span>s<span style=\"font-weight: bold\">)</span> <span style=\"font-weight: bold\">(</span><span style=\"color: #008080; text-decoration-color: #008080; font-weight: bold\">1</span> unique refs<span style=\"font-weight: bold\">)</span>\n",
       "    <span style=\"color: #008080; text-decoration-color: #008080; font-weight: bold\">0</span> <span style=\"color: #800080; text-decoration-color: #800080; font-weight: bold\">operation</span><span style=\"font-weight: bold\">(</span>s<span style=\"font-weight: bold\">)</span> <span style=\"font-weight: bold\">(</span><span style=\"color: #008080; text-decoration-color: #008080; font-weight: bold\">0</span> unique calls<span style=\"font-weight: bold\">)</span>\n",
       "Computational graph:\n",
       "    v\n",
       "</pre>\n"
      ],
      "text/plain": [
       "ComputationFrame with:\n",
       "    \u001b[1;36m1\u001b[0m \u001b[1;35mvariable\u001b[0m\u001b[1m(\u001b[0ms\u001b[1m)\u001b[0m \u001b[1m(\u001b[0m\u001b[1;36m1\u001b[0m unique refs\u001b[1m)\u001b[0m\n",
       "    \u001b[1;36m0\u001b[0m \u001b[1;35moperation\u001b[0m\u001b[1m(\u001b[0ms\u001b[1m)\u001b[0m \u001b[1m(\u001b[0m\u001b[1;36m0\u001b[0m unique calls\u001b[1m)\u001b[0m\n",
       "Computational graph:\n",
       "    v\n"
      ]
     },
     "metadata": {},
     "output_type": "display_data"
    },
    {
     "data": {
      "image/svg+xml": [
       "<?xml version=\"1.0\" encoding=\"UTF-8\" standalone=\"no\"?>\n",
       "<!DOCTYPE svg PUBLIC \"-//W3C//DTD SVG 1.1//EN\"\n",
       " \"http://www.w3.org/Graphics/SVG/1.1/DTD/svg11.dtd\">\n",
       "<!-- Generated by graphviz version 2.50.0 (0)\n",
       " -->\n",
       "<!-- Title: G Pages: 1 -->\n",
       "<svg width=\"148pt\" height=\"44pt\"\n",
       " viewBox=\"0.00 0.00 148.00 44.00\" xmlns=\"http://www.w3.org/2000/svg\" xmlns:xlink=\"http://www.w3.org/1999/xlink\">\n",
       "<g id=\"graph0\" class=\"graph\" transform=\"scale(1 1) rotate(0) translate(4 40)\">\n",
       "<title>G</title>\n",
       "<polygon fill=\"white\" stroke=\"transparent\" points=\"-4,4 -4,-40 144,-40 144,4 -4,4\"/>\n",
       "<!-- v -->\n",
       "<g id=\"node1\" class=\"node\">\n",
       "<title>v</title>\n",
       "<path fill=\"none\" stroke=\"#268bd2\" stroke-width=\"1.5\" d=\"M128,-36C128,-36 12,-36 12,-36 6,-36 0,-30 0,-24 0,-24 0,-12 0,-12 0,-6 6,0 12,0 12,0 128,0 128,0 134,0 140,-6 140,-12 140,-12 140,-24 140,-24 140,-30 134,-36 128,-36\"/>\n",
       "<text text-anchor=\"start\" x=\"66.5\" y=\"-20.4\" font-family=\"Liberation Sans,Helvetica,Arial,sans-serif\" font-weight=\"bold\" font-size=\"12.00\" fill=\"#002b36\">v</text>\n",
       "<text text-anchor=\"start\" x=\"8\" y=\"-10\" font-family=\"Liberation Sans,Helvetica,Arial,sans-serif\" font-size=\"10.00\" fill=\"#268bd2\">1 values (1 sources/1 sinks)</text>\n",
       "</g>\n",
       "</g>\n",
       "</svg>\n"
      ],
      "text/plain": [
       "<graphviz.sources.Source at 0x704a0e23b010>"
      ]
     },
     "metadata": {},
     "output_type": "display_data"
    }
   ],
   "source": [
    "cf = storage.cf(test_acc)\n",
    "pprint(cf) # text description of the CF \n",
    "cf.draw(verbose=True) # pictorial representation of the CF"
   ]
  },
  {
   "cell_type": "markdown",
   "metadata": {},
   "source": [
    "As the description says, this is a CF with 1 variable (called `v`) and 0\n",
    "operations. The variable contains 1 `Ref`, i.e. 1 value. We can examine the refs\n",
    "in the variables and the calls in the operations:"
   ]
  },
  {
   "cell_type": "code",
   "execution_count": 5,
   "metadata": {
    "execution": {
     "iopub.execute_input": "2024-07-07T15:08:10.721411Z",
     "iopub.status.busy": "2024-07-07T15:08:10.721187Z",
     "iopub.status.idle": "2024-07-07T15:08:10.756848Z",
     "shell.execute_reply": "2024-07-07T15:08:10.756247Z"
    }
   },
   "outputs": [
    {
     "data": {
      "text/html": [
       "<pre style=\"white-space:pre;overflow-x:auto;line-height:normal;font-family:Menlo,'DejaVu Sans Mono',consolas,'Courier New',monospace\">Refs by variable:\n",
       "<span style=\"font-weight: bold\">{</span><span style=\"color: #008000; text-decoration-color: #008000\">'v'</span>: <span style=\"font-weight: bold\">{</span><span style=\"color: #800080; text-decoration-color: #800080; font-weight: bold\">AtomRef</span><span style=\"font-weight: bold\">(</span><span style=\"color: #008080; text-decoration-color: #008080; font-weight: bold\">0.82</span>, <span style=\"color: #808000; text-decoration-color: #808000\">hid</span>=<span style=\"color: #008000; text-decoration-color: #008000\">'11a...'</span>, <span style=\"color: #808000; text-decoration-color: #808000\">cid</span>=<span style=\"color: #008000; text-decoration-color: #008000\">'238...'</span><span style=\"font-weight: bold\">)}}</span>\n",
       "</pre>\n"
      ],
      "text/plain": [
       "Refs by variable:\n",
       "\u001b[1m{\u001b[0m\u001b[32m'v'\u001b[0m: \u001b[1m{\u001b[0m\u001b[1;35mAtomRef\u001b[0m\u001b[1m(\u001b[0m\u001b[1;36m0.82\u001b[0m, \u001b[33mhid\u001b[0m=\u001b[32m'11a...'\u001b[0m, \u001b[33mcid\u001b[0m=\u001b[32m'238...'\u001b[0m\u001b[1m)\u001b[0m\u001b[1m}\u001b[0m\u001b[1m}\u001b[0m\n"
      ]
     },
     "metadata": {},
     "output_type": "display_data"
    },
    {
     "data": {
      "text/html": [
       "<pre style=\"white-space:pre;overflow-x:auto;line-height:normal;font-family:Menlo,'DejaVu Sans Mono',consolas,'Courier New',monospace\">Calls by operation:\n",
       "<span style=\"font-weight: bold\">{}</span>\n",
       "</pre>\n"
      ],
      "text/plain": [
       "Calls by operation:\n",
       "\u001b[1m{\u001b[0m\u001b[1m}\u001b[0m\n"
      ]
     },
     "metadata": {},
     "output_type": "display_data"
    }
   ],
   "source": [
    "pprint(f'Refs by variable:\\n{cf.refs_by_var()}')\n",
    "pprint(f'Calls by operation:\\n{cf.calls_by_func()}')"
   ]
  },
  {
   "cell_type": "markdown",
   "metadata": {},
   "source": [
    "To make this more interesting, we can call `expand_back()` (explained in more\n",
    "detail later) on the CF to add the full computational history of all values in\n",
    "all variables:"
   ]
  },
  {
   "cell_type": "code",
   "execution_count": 6,
   "metadata": {
    "execution": {
     "iopub.execute_input": "2024-07-07T15:08:10.759133Z",
     "iopub.status.busy": "2024-07-07T15:08:10.758928Z",
     "iopub.status.idle": "2024-07-07T15:08:11.311052Z",
     "shell.execute_reply": "2024-07-07T15:08:11.310307Z"
    }
   },
   "outputs": [
    {
     "data": {
      "text/html": [
       "<pre style=\"white-space:pre;overflow-x:auto;line-height:normal;font-family:Menlo,'DejaVu Sans Mono',consolas,'Courier New',monospace\">ComputationFrame with:\n",
       "    <span style=\"color: #008080; text-decoration-color: #008080; font-weight: bold\">8</span> <span style=\"color: #800080; text-decoration-color: #800080; font-weight: bold\">variable</span><span style=\"font-weight: bold\">(</span>s<span style=\"font-weight: bold\">)</span> <span style=\"font-weight: bold\">(</span><span style=\"color: #008080; text-decoration-color: #008080; font-weight: bold\">8</span> unique refs<span style=\"font-weight: bold\">)</span>\n",
       "    <span style=\"color: #008080; text-decoration-color: #008080; font-weight: bold\">3</span> <span style=\"color: #800080; text-decoration-color: #800080; font-weight: bold\">operation</span><span style=\"font-weight: bold\">(</span>s<span style=\"font-weight: bold\">)</span> <span style=\"font-weight: bold\">(</span><span style=\"color: #008080; text-decoration-color: #008080; font-weight: bold\">3</span> unique calls<span style=\"font-weight: bold\">)</span>\n",
       "Computational graph:\n",
       "    X_train@output_0, X_test@output_1, y_train@output_2, y_test@output_3 = \n",
       "<span style=\"color: #800080; text-decoration-color: #800080; font-weight: bold\">generate_dataset</span><span style=\"font-weight: bold\">(</span><span style=\"color: #808000; text-decoration-color: #808000\">random_seed</span>=<span style=\"color: #800080; text-decoration-color: #800080\">random_seed</span><span style=\"font-weight: bold\">)</span>\n",
       "    model@output_0 = <span style=\"color: #800080; text-decoration-color: #800080; font-weight: bold\">train_model</span><span style=\"font-weight: bold\">(</span><span style=\"color: #808000; text-decoration-color: #808000\">X_train</span>=<span style=\"color: #800080; text-decoration-color: #800080\">X_train</span>, <span style=\"color: #808000; text-decoration-color: #808000\">n_estimators</span>=<span style=\"color: #800080; text-decoration-color: #800080\">n_estimators</span>, <span style=\"color: #808000; text-decoration-color: #808000\">y_train</span>=<span style=\"color: #800080; text-decoration-color: #800080\">y_train</span><span style=\"font-weight: bold\">)</span>\n",
       "    v@output_0 = <span style=\"color: #800080; text-decoration-color: #800080; font-weight: bold\">eval_model</span><span style=\"font-weight: bold\">(</span><span style=\"color: #808000; text-decoration-color: #808000\">X_test</span>=<span style=\"color: #800080; text-decoration-color: #800080\">X_test</span>, <span style=\"color: #808000; text-decoration-color: #808000\">model</span>=<span style=\"color: #800080; text-decoration-color: #800080\">model</span>, <span style=\"color: #808000; text-decoration-color: #808000\">y_test</span>=<span style=\"color: #800080; text-decoration-color: #800080\">y_test</span><span style=\"font-weight: bold\">)</span>\n",
       "</pre>\n"
      ],
      "text/plain": [
       "ComputationFrame with:\n",
       "    \u001b[1;36m8\u001b[0m \u001b[1;35mvariable\u001b[0m\u001b[1m(\u001b[0ms\u001b[1m)\u001b[0m \u001b[1m(\u001b[0m\u001b[1;36m8\u001b[0m unique refs\u001b[1m)\u001b[0m\n",
       "    \u001b[1;36m3\u001b[0m \u001b[1;35moperation\u001b[0m\u001b[1m(\u001b[0ms\u001b[1m)\u001b[0m \u001b[1m(\u001b[0m\u001b[1;36m3\u001b[0m unique calls\u001b[1m)\u001b[0m\n",
       "Computational graph:\n",
       "    X_train@output_0, X_test@output_1, y_train@output_2, y_test@output_3 = \n",
       "\u001b[1;35mgenerate_dataset\u001b[0m\u001b[1m(\u001b[0m\u001b[33mrandom_seed\u001b[0m=\u001b[35mrandom_seed\u001b[0m\u001b[1m)\u001b[0m\n",
       "    model@output_0 = \u001b[1;35mtrain_model\u001b[0m\u001b[1m(\u001b[0m\u001b[33mX_train\u001b[0m=\u001b[35mX_train\u001b[0m, \u001b[33mn_estimators\u001b[0m=\u001b[35mn_estimators\u001b[0m, \u001b[33my_train\u001b[0m=\u001b[35my_train\u001b[0m\u001b[1m)\u001b[0m\n",
       "    v@output_0 = \u001b[1;35meval_model\u001b[0m\u001b[1m(\u001b[0m\u001b[33mX_test\u001b[0m=\u001b[35mX_test\u001b[0m, \u001b[33mmodel\u001b[0m=\u001b[35mmodel\u001b[0m, \u001b[33my_test\u001b[0m=\u001b[35my_test\u001b[0m\u001b[1m)\u001b[0m\n"
      ]
     },
     "metadata": {},
     "output_type": "display_data"
    },
    {
     "data": {
      "image/svg+xml": [
       "<?xml version=\"1.0\" encoding=\"UTF-8\" standalone=\"no\"?>\n",
       "<!DOCTYPE svg PUBLIC \"-//W3C//DTD SVG 1.1//EN\"\n",
       " \"http://www.w3.org/Graphics/SVG/1.1/DTD/svg11.dtd\">\n",
       "<!-- Generated by graphviz version 2.50.0 (0)\n",
       " -->\n",
       "<!-- Title: G Pages: 1 -->\n",
       "<svg width=\"365pt\" height=\"648pt\"\n",
       " viewBox=\"0.00 0.00 365.00 648.00\" xmlns=\"http://www.w3.org/2000/svg\" xmlns:xlink=\"http://www.w3.org/1999/xlink\">\n",
       "<g id=\"graph0\" class=\"graph\" transform=\"scale(1 1) rotate(0) translate(4 644)\">\n",
       "<title>G</title>\n",
       "<polygon fill=\"white\" stroke=\"transparent\" points=\"-4,4 -4,-644 361,-644 361,4 -4,4\"/>\n",
       "<!-- X_test -->\n",
       "<g id=\"node1\" class=\"node\">\n",
       "<title>X_test</title>\n",
       "<path fill=\"none\" stroke=\"#268bd2\" stroke-width=\"1.5\" d=\"M42,-394C42,-394 12,-394 12,-394 6,-394 0,-388 0,-382 0,-382 0,-370 0,-370 0,-364 6,-358 12,-358 12,-358 42,-358 42,-358 48,-358 54,-364 54,-370 54,-370 54,-382 54,-382 54,-388 48,-394 42,-394\"/>\n",
       "<text text-anchor=\"start\" x=\"8.5\" y=\"-378.4\" font-family=\"Liberation Sans,Helvetica,Arial,sans-serif\" font-weight=\"bold\" font-size=\"12.00\" fill=\"#002b36\">X_test</text>\n",
       "<text text-anchor=\"start\" x=\"8.5\" y=\"-368\" font-family=\"Liberation Sans,Helvetica,Arial,sans-serif\" font-size=\"10.00\" fill=\"#268bd2\">1 values</text>\n",
       "</g>\n",
       "<!-- eval_model -->\n",
       "<g id=\"node10\" class=\"node\">\n",
       "<title>eval_model</title>\n",
       "<path fill=\"none\" stroke=\"#dc322f\" stroke-width=\"1.5\" d=\"M205,-134C205,-134 139,-134 139,-134 133,-134 127,-128 127,-122 127,-122 127,-106 127,-106 127,-100 133,-94 139,-94 139,-94 205,-94 205,-94 211,-94 217,-100 217,-106 217,-106 217,-122 217,-122 217,-128 211,-134 205,-134\"/>\n",
       "<text text-anchor=\"start\" x=\"139\" y=\"-121.4\" font-family=\"Liberation Sans,Helvetica,Arial,sans-serif\" font-weight=\"bold\" font-size=\"12.00\" fill=\"#002b36\">eval_model</text>\n",
       "<text text-anchor=\"start\" x=\"135\" y=\"-111\" font-family=\"Liberation Sans,Helvetica,Arial,sans-serif\" font-size=\"10.00\" fill=\"#002b36\">@op:eval_model</text>\n",
       "<text text-anchor=\"start\" x=\"157.5\" y=\"-101\" font-family=\"Liberation Sans,Helvetica,Arial,sans-serif\" font-size=\"10.00\" fill=\"#dc322f\">1 calls</text>\n",
       "</g>\n",
       "<!-- X_test&#45;&gt;eval_model -->\n",
       "<g id=\"edge2\" class=\"edge\">\n",
       "<title>X_test&#45;&gt;eval_model</title>\n",
       "<path fill=\"none\" stroke=\"#002b36\" d=\"M36.51,-357.94C60.94,-314.14 126.07,-197.36 156.25,-143.25\"/>\n",
       "<polygon fill=\"#002b36\" stroke=\"#002b36\" points=\"159.47,-144.65 161.29,-134.21 153.36,-141.24 159.47,-144.65\"/>\n",
       "<text text-anchor=\"middle\" x=\"119.5\" y=\"-267\" font-family=\"Liberation Sans,Helvetica,Arial,sans-serif\" font-size=\"10.00\" fill=\"#002b36\">X_test</text>\n",
       "<text text-anchor=\"middle\" x=\"119.5\" y=\"-256\" font-family=\"Liberation Sans,Helvetica,Arial,sans-serif\" font-size=\"10.00\" fill=\"#002b36\">(1 values)</text>\n",
       "</g>\n",
       "<!-- v -->\n",
       "<g id=\"node2\" class=\"node\">\n",
       "<title>v</title>\n",
       "<path fill=\"none\" stroke=\"#268bd2\" stroke-width=\"1.5\" d=\"M207,-36C207,-36 137,-36 137,-36 131,-36 125,-30 125,-24 125,-24 125,-12 125,-12 125,-6 131,0 137,0 137,0 207,0 207,0 213,0 219,-6 219,-12 219,-12 219,-24 219,-24 219,-30 213,-36 207,-36\"/>\n",
       "<text text-anchor=\"start\" x=\"168.5\" y=\"-20.4\" font-family=\"Liberation Sans,Helvetica,Arial,sans-serif\" font-weight=\"bold\" font-size=\"12.00\" fill=\"#002b36\">v</text>\n",
       "<text text-anchor=\"start\" x=\"133\" y=\"-10\" font-family=\"Liberation Sans,Helvetica,Arial,sans-serif\" font-size=\"10.00\" fill=\"#268bd2\">1 values (1 sinks)</text>\n",
       "</g>\n",
       "<!-- y_train -->\n",
       "<g id=\"node3\" class=\"node\">\n",
       "<title>y_train</title>\n",
       "<path fill=\"none\" stroke=\"#268bd2\" stroke-width=\"1.5\" d=\"M89,-448C89,-448 57,-448 57,-448 51,-448 45,-442 45,-436 45,-436 45,-424 45,-424 45,-418 51,-412 57,-412 57,-412 89,-412 89,-412 95,-412 101,-418 101,-424 101,-424 101,-436 101,-436 101,-442 95,-448 89,-448\"/>\n",
       "<text text-anchor=\"start\" x=\"53\" y=\"-432.4\" font-family=\"Liberation Sans,Helvetica,Arial,sans-serif\" font-weight=\"bold\" font-size=\"12.00\" fill=\"#002b36\">y_train</text>\n",
       "<text text-anchor=\"start\" x=\"54.5\" y=\"-422\" font-family=\"Liberation Sans,Helvetica,Arial,sans-serif\" font-size=\"10.00\" fill=\"#268bd2\">1 values</text>\n",
       "</g>\n",
       "<!-- train_model -->\n",
       "<g id=\"node11\" class=\"node\">\n",
       "<title>train_model</title>\n",
       "<path fill=\"none\" stroke=\"#dc322f\" stroke-width=\"1.5\" d=\"M205.5,-340C205.5,-340 138.5,-340 138.5,-340 132.5,-340 126.5,-334 126.5,-328 126.5,-328 126.5,-312 126.5,-312 126.5,-306 132.5,-300 138.5,-300 138.5,-300 205.5,-300 205.5,-300 211.5,-300 217.5,-306 217.5,-312 217.5,-312 217.5,-328 217.5,-328 217.5,-334 211.5,-340 205.5,-340\"/>\n",
       "<text text-anchor=\"start\" x=\"138\" y=\"-327.4\" font-family=\"Liberation Sans,Helvetica,Arial,sans-serif\" font-weight=\"bold\" font-size=\"12.00\" fill=\"#002b36\">train_model</text>\n",
       "<text text-anchor=\"start\" x=\"134.5\" y=\"-317\" font-family=\"Liberation Sans,Helvetica,Arial,sans-serif\" font-size=\"10.00\" fill=\"#002b36\">@op:train_model</text>\n",
       "<text text-anchor=\"start\" x=\"157.5\" y=\"-307\" font-family=\"Liberation Sans,Helvetica,Arial,sans-serif\" font-size=\"10.00\" fill=\"#dc322f\">1 calls</text>\n",
       "</g>\n",
       "<!-- y_train&#45;&gt;train_model -->\n",
       "<g id=\"edge13\" class=\"edge\">\n",
       "<title>y_train&#45;&gt;train_model</title>\n",
       "<path fill=\"none\" stroke=\"#002b36\" d=\"M83.59,-411.93C93.36,-396.89 108.76,-374.81 125,-358 128.79,-354.08 133,-350.21 137.3,-346.54\"/>\n",
       "<polygon fill=\"#002b36\" stroke=\"#002b36\" points=\"139.55,-349.21 145.07,-340.17 135.12,-343.8 139.55,-349.21\"/>\n",
       "<text text-anchor=\"middle\" x=\"146.5\" y=\"-379\" font-family=\"Liberation Sans,Helvetica,Arial,sans-serif\" font-size=\"10.00\" fill=\"#002b36\">y_train</text>\n",
       "<text text-anchor=\"middle\" x=\"146.5\" y=\"-368\" font-family=\"Liberation Sans,Helvetica,Arial,sans-serif\" font-size=\"10.00\" fill=\"#002b36\">(1 values)</text>\n",
       "</g>\n",
       "<!-- random_seed -->\n",
       "<g id=\"node4\" class=\"node\">\n",
       "<title>random_seed</title>\n",
       "<path fill=\"none\" stroke=\"#268bd2\" stroke-width=\"1.5\" d=\"M232.5,-640C232.5,-640 151.5,-640 151.5,-640 145.5,-640 139.5,-634 139.5,-628 139.5,-628 139.5,-616 139.5,-616 139.5,-610 145.5,-604 151.5,-604 151.5,-604 232.5,-604 232.5,-604 238.5,-604 244.5,-610 244.5,-616 244.5,-616 244.5,-628 244.5,-628 244.5,-634 238.5,-640 232.5,-640\"/>\n",
       "<text text-anchor=\"start\" x=\"152.5\" y=\"-624.4\" font-family=\"Liberation Sans,Helvetica,Arial,sans-serif\" font-weight=\"bold\" font-size=\"12.00\" fill=\"#002b36\">random_seed</text>\n",
       "<text text-anchor=\"start\" x=\"147.5\" y=\"-614\" font-family=\"Liberation Sans,Helvetica,Arial,sans-serif\" font-size=\"10.00\" fill=\"#268bd2\">1 values (1 sources)</text>\n",
       "</g>\n",
       "<!-- generate_dataset -->\n",
       "<g id=\"node9\" class=\"node\">\n",
       "<title>generate_dataset</title>\n",
       "<path fill=\"none\" stroke=\"#dc322f\" stroke-width=\"1.5\" d=\"M238,-546C238,-546 146,-546 146,-546 140,-546 134,-540 134,-534 134,-534 134,-518 134,-518 134,-512 140,-506 146,-506 146,-506 238,-506 238,-506 244,-506 250,-512 250,-518 250,-518 250,-534 250,-534 250,-540 244,-546 238,-546\"/>\n",
       "<text text-anchor=\"start\" x=\"142\" y=\"-533.4\" font-family=\"Liberation Sans,Helvetica,Arial,sans-serif\" font-weight=\"bold\" font-size=\"12.00\" fill=\"#002b36\">generate_dataset</text>\n",
       "<text text-anchor=\"start\" x=\"142\" y=\"-523\" font-family=\"Liberation Sans,Helvetica,Arial,sans-serif\" font-size=\"10.00\" fill=\"#002b36\">@op:generate_dataset</text>\n",
       "<text text-anchor=\"start\" x=\"177.5\" y=\"-513\" font-family=\"Liberation Sans,Helvetica,Arial,sans-serif\" font-size=\"10.00\" fill=\"#dc322f\">1 calls</text>\n",
       "</g>\n",
       "<!-- random_seed&#45;&gt;generate_dataset -->\n",
       "<g id=\"edge9\" class=\"edge\">\n",
       "<title>random_seed&#45;&gt;generate_dataset</title>\n",
       "<path fill=\"none\" stroke=\"#002b36\" d=\"M192,-603.76C192,-590.5 192,-571.86 192,-556.27\"/>\n",
       "<polygon fill=\"#002b36\" stroke=\"#002b36\" points=\"195.5,-556.07 192,-546.07 188.5,-556.07 195.5,-556.07\"/>\n",
       "<text text-anchor=\"middle\" x=\"221.5\" y=\"-578\" font-family=\"Liberation Sans,Helvetica,Arial,sans-serif\" font-size=\"10.00\" fill=\"#002b36\">random_seed</text>\n",
       "<text text-anchor=\"middle\" x=\"221.5\" y=\"-567\" font-family=\"Liberation Sans,Helvetica,Arial,sans-serif\" font-size=\"10.00\" fill=\"#002b36\">(1 values)</text>\n",
       "</g>\n",
       "<!-- X_train -->\n",
       "<g id=\"node5\" class=\"node\">\n",
       "<title>X_train</title>\n",
       "<path fill=\"none\" stroke=\"#268bd2\" stroke-width=\"1.5\" d=\"M287.5,-448C287.5,-448 254.5,-448 254.5,-448 248.5,-448 242.5,-442 242.5,-436 242.5,-436 242.5,-424 242.5,-424 242.5,-418 248.5,-412 254.5,-412 254.5,-412 287.5,-412 287.5,-412 293.5,-412 299.5,-418 299.5,-424 299.5,-424 299.5,-436 299.5,-436 299.5,-442 293.5,-448 287.5,-448\"/>\n",
       "<text text-anchor=\"start\" x=\"250.5\" y=\"-432.4\" font-family=\"Liberation Sans,Helvetica,Arial,sans-serif\" font-weight=\"bold\" font-size=\"12.00\" fill=\"#002b36\">X_train</text>\n",
       "<text text-anchor=\"start\" x=\"252.5\" y=\"-422\" font-family=\"Liberation Sans,Helvetica,Arial,sans-serif\" font-size=\"10.00\" fill=\"#268bd2\">1 values</text>\n",
       "</g>\n",
       "<!-- X_train&#45;&gt;train_model -->\n",
       "<g id=\"edge11\" class=\"edge\">\n",
       "<title>X_train&#45;&gt;train_model</title>\n",
       "<path fill=\"none\" stroke=\"#002b36\" d=\"M264.88,-411.91C258.69,-396.44 247.91,-373.73 233,-358 228.85,-353.62 224.08,-349.57 219.06,-345.88\"/>\n",
       "<polygon fill=\"#002b36\" stroke=\"#002b36\" points=\"220.69,-342.76 210.46,-340.02 216.75,-348.54 220.69,-342.76\"/>\n",
       "<text text-anchor=\"middle\" x=\"277.5\" y=\"-379\" font-family=\"Liberation Sans,Helvetica,Arial,sans-serif\" font-size=\"10.00\" fill=\"#002b36\">X_train</text>\n",
       "<text text-anchor=\"middle\" x=\"277.5\" y=\"-368\" font-family=\"Liberation Sans,Helvetica,Arial,sans-serif\" font-size=\"10.00\" fill=\"#002b36\">(1 values)</text>\n",
       "</g>\n",
       "<!-- n_estimators -->\n",
       "<g id=\"node6\" class=\"node\">\n",
       "<title>n_estimators</title>\n",
       "<path fill=\"none\" stroke=\"#268bd2\" stroke-width=\"1.5\" d=\"M212.5,-448C212.5,-448 131.5,-448 131.5,-448 125.5,-448 119.5,-442 119.5,-436 119.5,-436 119.5,-424 119.5,-424 119.5,-418 125.5,-412 131.5,-412 131.5,-412 212.5,-412 212.5,-412 218.5,-412 224.5,-418 224.5,-424 224.5,-424 224.5,-436 224.5,-436 224.5,-442 218.5,-448 212.5,-448\"/>\n",
       "<text text-anchor=\"start\" x=\"134.5\" y=\"-432.4\" font-family=\"Liberation Sans,Helvetica,Arial,sans-serif\" font-weight=\"bold\" font-size=\"12.00\" fill=\"#002b36\">n_estimators</text>\n",
       "<text text-anchor=\"start\" x=\"127.5\" y=\"-422\" font-family=\"Liberation Sans,Helvetica,Arial,sans-serif\" font-size=\"10.00\" fill=\"#268bd2\">1 values (1 sources)</text>\n",
       "</g>\n",
       "<!-- n_estimators&#45;&gt;train_model -->\n",
       "<g id=\"edge12\" class=\"edge\">\n",
       "<title>n_estimators&#45;&gt;train_model</title>\n",
       "<path fill=\"none\" stroke=\"#002b36\" d=\"M172,-411.65C172,-395.15 172,-370 172,-350.37\"/>\n",
       "<polygon fill=\"#002b36\" stroke=\"#002b36\" points=\"175.5,-350.13 172,-340.13 168.5,-350.13 175.5,-350.13\"/>\n",
       "<text text-anchor=\"middle\" x=\"200.5\" y=\"-379\" font-family=\"Liberation Sans,Helvetica,Arial,sans-serif\" font-size=\"10.00\" fill=\"#002b36\">n_estimators</text>\n",
       "<text text-anchor=\"middle\" x=\"200.5\" y=\"-368\" font-family=\"Liberation Sans,Helvetica,Arial,sans-serif\" font-size=\"10.00\" fill=\"#002b36\">(1 values)</text>\n",
       "</g>\n",
       "<!-- model -->\n",
       "<g id=\"node7\" class=\"node\">\n",
       "<title>model</title>\n",
       "<path fill=\"none\" stroke=\"#268bd2\" stroke-width=\"1.5\" d=\"M187,-228C187,-228 157,-228 157,-228 151,-228 145,-222 145,-216 145,-216 145,-204 145,-204 145,-198 151,-192 157,-192 157,-192 187,-192 187,-192 193,-192 199,-198 199,-204 199,-204 199,-216 199,-216 199,-222 193,-228 187,-228\"/>\n",
       "<text text-anchor=\"start\" x=\"154\" y=\"-212.4\" font-family=\"Liberation Sans,Helvetica,Arial,sans-serif\" font-weight=\"bold\" font-size=\"12.00\" fill=\"#002b36\">model</text>\n",
       "<text text-anchor=\"start\" x=\"153.5\" y=\"-202\" font-family=\"Liberation Sans,Helvetica,Arial,sans-serif\" font-size=\"10.00\" fill=\"#268bd2\">1 values</text>\n",
       "</g>\n",
       "<!-- model&#45;&gt;eval_model -->\n",
       "<g id=\"edge3\" class=\"edge\">\n",
       "<title>model&#45;&gt;eval_model</title>\n",
       "<path fill=\"none\" stroke=\"#002b36\" d=\"M172,-191.76C172,-178.5 172,-159.86 172,-144.27\"/>\n",
       "<polygon fill=\"#002b36\" stroke=\"#002b36\" points=\"175.5,-144.07 172,-134.07 168.5,-144.07 175.5,-144.07\"/>\n",
       "<text text-anchor=\"middle\" x=\"193.5\" y=\"-166\" font-family=\"Liberation Sans,Helvetica,Arial,sans-serif\" font-size=\"10.00\" fill=\"#002b36\">model</text>\n",
       "<text text-anchor=\"middle\" x=\"193.5\" y=\"-155\" font-family=\"Liberation Sans,Helvetica,Arial,sans-serif\" font-size=\"10.00\" fill=\"#002b36\">(1 values)</text>\n",
       "</g>\n",
       "<!-- y_test -->\n",
       "<g id=\"node8\" class=\"node\">\n",
       "<title>y_test</title>\n",
       "<path fill=\"none\" stroke=\"#268bd2\" stroke-width=\"1.5\" d=\"M306,-282C306,-282 276,-282 276,-282 270,-282 264,-276 264,-270 264,-270 264,-258 264,-258 264,-252 270,-246 276,-246 276,-246 306,-246 306,-246 312,-246 318,-252 318,-258 318,-258 318,-270 318,-270 318,-276 312,-282 306,-282\"/>\n",
       "<text text-anchor=\"start\" x=\"273.5\" y=\"-266.4\" font-family=\"Liberation Sans,Helvetica,Arial,sans-serif\" font-weight=\"bold\" font-size=\"12.00\" fill=\"#002b36\">y_test</text>\n",
       "<text text-anchor=\"start\" x=\"272.5\" y=\"-256\" font-family=\"Liberation Sans,Helvetica,Arial,sans-serif\" font-size=\"10.00\" fill=\"#268bd2\">1 values</text>\n",
       "</g>\n",
       "<!-- y_test&#45;&gt;eval_model -->\n",
       "<g id=\"edge4\" class=\"edge\">\n",
       "<title>y_test&#45;&gt;eval_model</title>\n",
       "<path fill=\"none\" stroke=\"#002b36\" d=\"M282.07,-245.61C269.79,-222.66 246.09,-181.69 219,-152 215.5,-148.17 211.58,-144.42 207.53,-140.87\"/>\n",
       "<polygon fill=\"#002b36\" stroke=\"#002b36\" points=\"209.59,-138.03 199.67,-134.33 205.11,-143.41 209.59,-138.03\"/>\n",
       "<text text-anchor=\"middle\" x=\"293.5\" y=\"-213\" font-family=\"Liberation Sans,Helvetica,Arial,sans-serif\" font-size=\"10.00\" fill=\"#002b36\">y_test</text>\n",
       "<text text-anchor=\"middle\" x=\"293.5\" y=\"-202\" font-family=\"Liberation Sans,Helvetica,Arial,sans-serif\" font-size=\"10.00\" fill=\"#002b36\">(1 values)</text>\n",
       "</g>\n",
       "<!-- generate_dataset&#45;&gt;X_test -->\n",
       "<g id=\"edge5\" class=\"edge\">\n",
       "<title>generate_dataset&#45;&gt;X_test</title>\n",
       "<path fill=\"none\" stroke=\"#002b36\" d=\"M133.7,-513.77C113.15,-508.11 90.56,-499.86 72,-488 51.84,-475.12 45.96,-469.75 36,-448 29.8,-434.45 27.43,-418.01 26.67,-404.37\"/>\n",
       "<polygon fill=\"#002b36\" stroke=\"#002b36\" points=\"30.16,-404.02 26.36,-394.13 23.16,-404.23 30.16,-404.02\"/>\n",
       "<text text-anchor=\"middle\" x=\"93.5\" y=\"-480\" font-family=\"Liberation Sans,Helvetica,Arial,sans-serif\" font-size=\"10.00\" fill=\"#002b36\">output_1</text>\n",
       "<text text-anchor=\"middle\" x=\"93.5\" y=\"-469\" font-family=\"Liberation Sans,Helvetica,Arial,sans-serif\" font-size=\"10.00\" fill=\"#002b36\">(1 values)</text>\n",
       "</g>\n",
       "<!-- generate_dataset&#45;&gt;y_train -->\n",
       "<g id=\"edge8\" class=\"edge\">\n",
       "<title>generate_dataset&#45;&gt;y_train</title>\n",
       "<path fill=\"none\" stroke=\"#002b36\" d=\"M167.92,-505.98C149.06,-491.08 122.73,-470.28 102.58,-454.37\"/>\n",
       "<polygon fill=\"#002b36\" stroke=\"#002b36\" points=\"104.66,-451.55 94.64,-448.1 100.32,-457.04 104.66,-451.55\"/>\n",
       "<text text-anchor=\"middle\" x=\"164.5\" y=\"-480\" font-family=\"Liberation Sans,Helvetica,Arial,sans-serif\" font-size=\"10.00\" fill=\"#002b36\">output_2</text>\n",
       "<text text-anchor=\"middle\" x=\"164.5\" y=\"-469\" font-family=\"Liberation Sans,Helvetica,Arial,sans-serif\" font-size=\"10.00\" fill=\"#002b36\">(1 values)</text>\n",
       "</g>\n",
       "<!-- generate_dataset&#45;&gt;X_train -->\n",
       "<g id=\"edge7\" class=\"edge\">\n",
       "<title>generate_dataset&#45;&gt;X_train</title>\n",
       "<path fill=\"none\" stroke=\"#002b36\" d=\"M207.99,-505.98C220.12,-491.54 236.9,-471.57 250.1,-455.87\"/>\n",
       "<polygon fill=\"#002b36\" stroke=\"#002b36\" points=\"252.88,-458 256.63,-448.1 247.52,-453.5 252.88,-458\"/>\n",
       "<text text-anchor=\"middle\" x=\"261.5\" y=\"-480\" font-family=\"Liberation Sans,Helvetica,Arial,sans-serif\" font-size=\"10.00\" fill=\"#002b36\">output_0</text>\n",
       "<text text-anchor=\"middle\" x=\"261.5\" y=\"-469\" font-family=\"Liberation Sans,Helvetica,Arial,sans-serif\" font-size=\"10.00\" fill=\"#002b36\">(1 values)</text>\n",
       "</g>\n",
       "<!-- generate_dataset&#45;&gt;y_test -->\n",
       "<g id=\"edge6\" class=\"edge\">\n",
       "<title>generate_dataset&#45;&gt;y_test</title>\n",
       "<path fill=\"none\" stroke=\"#002b36\" d=\"M250.36,-509.61C263.41,-504.27 276.48,-497.22 287,-488 302.26,-474.63 303.95,-467.65 309,-448 322.92,-393.83 309.35,-328.09 299.41,-291.99\"/>\n",
       "<polygon fill=\"#002b36\" stroke=\"#002b36\" points=\"302.72,-290.85 296.6,-282.21 295.99,-292.78 302.72,-290.85\"/>\n",
       "<text text-anchor=\"middle\" x=\"335.5\" y=\"-433\" font-family=\"Liberation Sans,Helvetica,Arial,sans-serif\" font-size=\"10.00\" fill=\"#002b36\">output_3</text>\n",
       "<text text-anchor=\"middle\" x=\"335.5\" y=\"-422\" font-family=\"Liberation Sans,Helvetica,Arial,sans-serif\" font-size=\"10.00\" fill=\"#002b36\">(1 values)</text>\n",
       "</g>\n",
       "<!-- eval_model&#45;&gt;v -->\n",
       "<g id=\"edge1\" class=\"edge\">\n",
       "<title>eval_model&#45;&gt;v</title>\n",
       "<path fill=\"none\" stroke=\"#002b36\" d=\"M172,-93.98C172,-80.34 172,-61.75 172,-46.5\"/>\n",
       "<polygon fill=\"#002b36\" stroke=\"#002b36\" points=\"175.5,-46.1 172,-36.1 168.5,-46.1 175.5,-46.1\"/>\n",
       "<text text-anchor=\"middle\" x=\"193.5\" y=\"-68\" font-family=\"Liberation Sans,Helvetica,Arial,sans-serif\" font-size=\"10.00\" fill=\"#002b36\">output_0</text>\n",
       "<text text-anchor=\"middle\" x=\"193.5\" y=\"-57\" font-family=\"Liberation Sans,Helvetica,Arial,sans-serif\" font-size=\"10.00\" fill=\"#002b36\">(1 values)</text>\n",
       "</g>\n",
       "<!-- train_model&#45;&gt;model -->\n",
       "<g id=\"edge10\" class=\"edge\">\n",
       "<title>train_model&#45;&gt;model</title>\n",
       "<path fill=\"none\" stroke=\"#002b36\" d=\"M172,-299.94C172,-282.85 172,-257.58 172,-238.34\"/>\n",
       "<polygon fill=\"#002b36\" stroke=\"#002b36\" points=\"175.5,-238.09 172,-228.09 168.5,-238.09 175.5,-238.09\"/>\n",
       "<text text-anchor=\"middle\" x=\"193.5\" y=\"-267\" font-family=\"Liberation Sans,Helvetica,Arial,sans-serif\" font-size=\"10.00\" fill=\"#002b36\">output_0</text>\n",
       "<text text-anchor=\"middle\" x=\"193.5\" y=\"-256\" font-family=\"Liberation Sans,Helvetica,Arial,sans-serif\" font-size=\"10.00\" fill=\"#002b36\">(1 values)</text>\n",
       "</g>\n",
       "</g>\n",
       "</svg>\n"
      ],
      "text/plain": [
       "<graphviz.sources.Source at 0x704a0e23aec0>"
      ]
     },
     "metadata": {},
     "output_type": "display_data"
    }
   ],
   "source": [
    "cf.expand_back(inplace=True, recursive=True)\n",
    "pprint(cf)\n",
    "cf.draw(verbose=True)"
   ]
  },
  {
   "cell_type": "markdown",
   "metadata": {},
   "source": [
    "The variables added to the CF during expansion are given informative names based\n",
    "on input names of functions called on these variables. The result of expansion\n",
    "tells us the precise way `test_acc` was computed. We can get the values of each\n",
    "variable and the calls of each function:"
   ]
  },
  {
   "cell_type": "code",
   "execution_count": 7,
   "metadata": {
    "execution": {
     "iopub.execute_input": "2024-07-07T15:08:11.313834Z",
     "iopub.status.busy": "2024-07-07T15:08:11.313628Z",
     "iopub.status.idle": "2024-07-07T15:08:11.375785Z",
     "shell.execute_reply": "2024-07-07T15:08:11.375055Z"
    }
   },
   "outputs": [
    {
     "data": {
      "text/html": [
       "<pre style=\"white-space:pre;overflow-x:auto;line-height:normal;font-family:Menlo,'DejaVu Sans Mono',consolas,'Courier New',monospace\"><span style=\"font-weight: bold\">{</span>\n",
       "    <span style=\"color: #008000; text-decoration-color: #008000\">'v'</span>: <span style=\"font-weight: bold\">{</span><span style=\"color: #008080; text-decoration-color: #008080; font-weight: bold\">0.82</span><span style=\"font-weight: bold\">}</span>,\n",
       "    <span style=\"color: #008000; text-decoration-color: #008000\">'model'</span>: <span style=\"font-weight: bold\">{</span><span style=\"color: #800080; text-decoration-color: #800080; font-weight: bold\">RandomForestClassifier</span><span style=\"font-weight: bold\">(</span><span style=\"color: #808000; text-decoration-color: #808000\">max_depth</span>=<span style=\"color: #008080; text-decoration-color: #008080; font-weight: bold\">2</span>, <span style=\"color: #808000; text-decoration-color: #808000\">n_estimators</span>=<span style=\"color: #008080; text-decoration-color: #008080; font-weight: bold\">80</span><span style=\"font-weight: bold\">)}</span>,\n",
       "    <span style=\"color: #008000; text-decoration-color: #008000\">'random_seed'</span>: <span style=\"font-weight: bold\">{</span><span style=\"color: #008080; text-decoration-color: #008080; font-weight: bold\">42</span><span style=\"font-weight: bold\">}</span>,\n",
       "    <span style=\"color: #008000; text-decoration-color: #008000\">'n_estimators'</span>: <span style=\"font-weight: bold\">{</span><span style=\"color: #008080; text-decoration-color: #008080; font-weight: bold\">80</span><span style=\"font-weight: bold\">}</span>\n",
       "<span style=\"font-weight: bold\">}</span>\n",
       "</pre>\n"
      ],
      "text/plain": [
       "\u001b[1m{\u001b[0m\n",
       "    \u001b[32m'v'\u001b[0m: \u001b[1m{\u001b[0m\u001b[1;36m0.82\u001b[0m\u001b[1m}\u001b[0m,\n",
       "    \u001b[32m'model'\u001b[0m: \u001b[1m{\u001b[0m\u001b[1;35mRandomForestClassifier\u001b[0m\u001b[1m(\u001b[0m\u001b[33mmax_depth\u001b[0m=\u001b[1;36m2\u001b[0m, \u001b[33mn_estimators\u001b[0m=\u001b[1;36m80\u001b[0m\u001b[1m)\u001b[0m\u001b[1m}\u001b[0m,\n",
       "    \u001b[32m'random_seed'\u001b[0m: \u001b[1m{\u001b[0m\u001b[1;36m42\u001b[0m\u001b[1m}\u001b[0m,\n",
       "    \u001b[32m'n_estimators'\u001b[0m: \u001b[1m{\u001b[0m\u001b[1;36m80\u001b[0m\u001b[1m}\u001b[0m\n",
       "\u001b[1m}\u001b[0m\n"
      ]
     },
     "metadata": {},
     "output_type": "display_data"
    },
    {
     "data": {
      "text/html": [
       "<pre style=\"white-space:pre;overflow-x:auto;line-height:normal;font-family:Menlo,'DejaVu Sans Mono',consolas,'Courier New',monospace\"><span style=\"font-weight: bold\">{</span>\n",
       "    <span style=\"color: #008000; text-decoration-color: #008000\">'eval_model'</span>: <span style=\"font-weight: bold\">{</span><span style=\"color: #800080; text-decoration-color: #800080; font-weight: bold\">Call</span><span style=\"font-weight: bold\">(</span>eval_model, <span style=\"color: #808000; text-decoration-color: #808000\">cid</span>=<span style=\"color: #008000; text-decoration-color: #008000\">'137...'</span>, <span style=\"color: #808000; text-decoration-color: #808000\">hid</span>=<span style=\"color: #008000; text-decoration-color: #008000\">'d32...'</span><span style=\"font-weight: bold\">)}</span>,\n",
       "    <span style=\"color: #008000; text-decoration-color: #008000\">'generate_dataset'</span>: <span style=\"font-weight: bold\">{</span><span style=\"color: #800080; text-decoration-color: #800080; font-weight: bold\">Call</span><span style=\"font-weight: bold\">(</span>generate_dataset, <span style=\"color: #808000; text-decoration-color: #808000\">cid</span>=<span style=\"color: #008000; text-decoration-color: #008000\">'19a...'</span>, <span style=\"color: #808000; text-decoration-color: #808000\">hid</span>=<span style=\"color: #008000; text-decoration-color: #008000\">'c3f...'</span><span style=\"font-weight: bold\">)}</span>,\n",
       "    <span style=\"color: #008000; text-decoration-color: #008000\">'train_model'</span>: <span style=\"font-weight: bold\">{</span><span style=\"color: #800080; text-decoration-color: #800080; font-weight: bold\">Call</span><span style=\"font-weight: bold\">(</span>train_model, <span style=\"color: #808000; text-decoration-color: #808000\">cid</span>=<span style=\"color: #008000; text-decoration-color: #008000\">'3be...'</span>, <span style=\"color: #808000; text-decoration-color: #808000\">hid</span>=<span style=\"color: #008000; text-decoration-color: #008000\">'e60...'</span><span style=\"font-weight: bold\">)}</span>\n",
       "<span style=\"font-weight: bold\">}</span>\n",
       "</pre>\n"
      ],
      "text/plain": [
       "\u001b[1m{\u001b[0m\n",
       "    \u001b[32m'eval_model'\u001b[0m: \u001b[1m{\u001b[0m\u001b[1;35mCall\u001b[0m\u001b[1m(\u001b[0meval_model, \u001b[33mcid\u001b[0m=\u001b[32m'137...'\u001b[0m, \u001b[33mhid\u001b[0m=\u001b[32m'd32...'\u001b[0m\u001b[1m)\u001b[0m\u001b[1m}\u001b[0m,\n",
       "    \u001b[32m'generate_dataset'\u001b[0m: \u001b[1m{\u001b[0m\u001b[1;35mCall\u001b[0m\u001b[1m(\u001b[0mgenerate_dataset, \u001b[33mcid\u001b[0m=\u001b[32m'19a...'\u001b[0m, \u001b[33mhid\u001b[0m=\u001b[32m'c3f...'\u001b[0m\u001b[1m)\u001b[0m\u001b[1m}\u001b[0m,\n",
       "    \u001b[32m'train_model'\u001b[0m: \u001b[1m{\u001b[0m\u001b[1;35mCall\u001b[0m\u001b[1m(\u001b[0mtrain_model, \u001b[33mcid\u001b[0m=\u001b[32m'3be...'\u001b[0m, \u001b[33mhid\u001b[0m=\u001b[32m'e60...'\u001b[0m\u001b[1m)\u001b[0m\u001b[1m}\u001b[0m\n",
       "\u001b[1m}\u001b[0m\n"
      ]
     },
     "metadata": {},
     "output_type": "display_data"
    }
   ],
   "source": [
    "pprint({vname: storage.unwrap(refs) \n",
    " for vname, refs in cf.refs_by_var().items()\n",
    " if vname not in ['X_train', 'X_test', 'y_train', 'y_test'] # to save space\n",
    " })\n",
    "\n",
    "pprint(cf.calls_by_func())"
   ]
  },
  {
   "cell_type": "markdown",
   "metadata": {},
   "source": [
    "### From all calls to an `@op`\n",
    "Another way to create a CF is to initialize is with all calls to a given `@op`:"
   ]
  },
  {
   "cell_type": "code",
   "execution_count": 8,
   "metadata": {
    "execution": {
     "iopub.execute_input": "2024-07-07T15:08:11.378741Z",
     "iopub.status.busy": "2024-07-07T15:08:11.378441Z",
     "iopub.status.idle": "2024-07-07T15:08:11.485677Z",
     "shell.execute_reply": "2024-07-07T15:08:11.484971Z"
    }
   },
   "outputs": [
    {
     "data": {
      "text/html": [
       "<pre style=\"white-space:pre;overflow-x:auto;line-height:normal;font-family:Menlo,'DejaVu Sans Mono',consolas,'Courier New',monospace\">ComputationFrame with:\n",
       "    <span style=\"color: #008080; text-decoration-color: #008080; font-weight: bold\">5</span> <span style=\"color: #800080; text-decoration-color: #800080; font-weight: bold\">variable</span><span style=\"font-weight: bold\">(</span>s<span style=\"font-weight: bold\">)</span> <span style=\"font-weight: bold\">(</span><span style=\"color: #008080; text-decoration-color: #008080; font-weight: bold\">14</span> unique refs<span style=\"font-weight: bold\">)</span>\n",
       "    <span style=\"color: #008080; text-decoration-color: #008080; font-weight: bold\">1</span> <span style=\"color: #800080; text-decoration-color: #800080; font-weight: bold\">operation</span><span style=\"font-weight: bold\">(</span>s<span style=\"font-weight: bold\">)</span> <span style=\"font-weight: bold\">(</span><span style=\"color: #008080; text-decoration-color: #008080; font-weight: bold\">4</span> unique calls<span style=\"font-weight: bold\">)</span>\n",
       "Computational graph:\n",
       "    var_0@output_0, var_1@output_1 = <span style=\"color: #800080; text-decoration-color: #800080; font-weight: bold\">train_model</span><span style=\"font-weight: bold\">(</span><span style=\"color: #808000; text-decoration-color: #808000\">X_train</span>=<span style=\"color: #800080; text-decoration-color: #800080\">X_train</span>, <span style=\"color: #808000; text-decoration-color: #808000\">n_estimators</span>=<span style=\"color: #800080; text-decoration-color: #800080\">n_estimators</span>, <span style=\"color: #808000; text-decoration-color: #808000\">y_train</span>=<span style=\"color: #800080; text-decoration-color: #800080\">y_train</span><span style=\"font-weight: bold\">)</span>\n",
       "</pre>\n"
      ],
      "text/plain": [
       "ComputationFrame with:\n",
       "    \u001b[1;36m5\u001b[0m \u001b[1;35mvariable\u001b[0m\u001b[1m(\u001b[0ms\u001b[1m)\u001b[0m \u001b[1m(\u001b[0m\u001b[1;36m14\u001b[0m unique refs\u001b[1m)\u001b[0m\n",
       "    \u001b[1;36m1\u001b[0m \u001b[1;35moperation\u001b[0m\u001b[1m(\u001b[0ms\u001b[1m)\u001b[0m \u001b[1m(\u001b[0m\u001b[1;36m4\u001b[0m unique calls\u001b[1m)\u001b[0m\n",
       "Computational graph:\n",
       "    var_0@output_0, var_1@output_1 = \u001b[1;35mtrain_model\u001b[0m\u001b[1m(\u001b[0m\u001b[33mX_train\u001b[0m=\u001b[35mX_train\u001b[0m, \u001b[33mn_estimators\u001b[0m=\u001b[35mn_estimators\u001b[0m, \u001b[33my_train\u001b[0m=\u001b[35my_train\u001b[0m\u001b[1m)\u001b[0m\n"
      ]
     },
     "metadata": {},
     "output_type": "display_data"
    },
    {
     "data": {
      "image/svg+xml": [
       "<?xml version=\"1.0\" encoding=\"UTF-8\" standalone=\"no\"?>\n",
       "<!DOCTYPE svg PUBLIC \"-//W3C//DTD SVG 1.1//EN\"\n",
       " \"http://www.w3.org/Graphics/SVG/1.1/DTD/svg11.dtd\">\n",
       "<!-- Generated by graphviz version 2.50.0 (0)\n",
       " -->\n",
       "<!-- Title: G Pages: 1 -->\n",
       "<svg width=\"359pt\" height=\"236pt\"\n",
       " viewBox=\"0.00 0.00 359.00 236.00\" xmlns=\"http://www.w3.org/2000/svg\" xmlns:xlink=\"http://www.w3.org/1999/xlink\">\n",
       "<g id=\"graph0\" class=\"graph\" transform=\"scale(1 1) rotate(0) translate(4 232)\">\n",
       "<title>G</title>\n",
       "<polygon fill=\"white\" stroke=\"transparent\" points=\"-4,4 -4,-232 355,-232 355,4 -4,4\"/>\n",
       "<!-- var_0 -->\n",
       "<g id=\"node1\" class=\"node\">\n",
       "<title>var_0</title>\n",
       "<path fill=\"none\" stroke=\"#268bd2\" stroke-width=\"1.5\" d=\"M154.5,-36C154.5,-36 84.5,-36 84.5,-36 78.5,-36 72.5,-30 72.5,-24 72.5,-24 72.5,-12 72.5,-12 72.5,-6 78.5,0 84.5,0 84.5,0 154.5,0 154.5,0 160.5,0 166.5,-6 166.5,-12 166.5,-12 166.5,-24 166.5,-24 166.5,-30 160.5,-36 154.5,-36\"/>\n",
       "<text text-anchor=\"start\" x=\"103.5\" y=\"-20.4\" font-family=\"Liberation Sans,Helvetica,Arial,sans-serif\" font-weight=\"bold\" font-size=\"12.00\" fill=\"#002b36\">var_0</text>\n",
       "<text text-anchor=\"start\" x=\"80.5\" y=\"-10\" font-family=\"Liberation Sans,Helvetica,Arial,sans-serif\" font-size=\"10.00\" fill=\"#268bd2\">4 values (4 sinks)</text>\n",
       "</g>\n",
       "<!-- y_train -->\n",
       "<g id=\"node2\" class=\"node\">\n",
       "<title>y_train</title>\n",
       "<path fill=\"none\" stroke=\"#268bd2\" stroke-width=\"1.5\" d=\"M93,-228C93,-228 12,-228 12,-228 6,-228 0,-222 0,-216 0,-216 0,-204 0,-204 0,-198 6,-192 12,-192 12,-192 93,-192 93,-192 99,-192 105,-198 105,-204 105,-204 105,-216 105,-216 105,-222 99,-228 93,-228\"/>\n",
       "<text text-anchor=\"start\" x=\"32.5\" y=\"-212.4\" font-family=\"Liberation Sans,Helvetica,Arial,sans-serif\" font-weight=\"bold\" font-size=\"12.00\" fill=\"#002b36\">y_train</text>\n",
       "<text text-anchor=\"start\" x=\"8\" y=\"-202\" font-family=\"Liberation Sans,Helvetica,Arial,sans-serif\" font-size=\"10.00\" fill=\"#268bd2\">1 values (1 sources)</text>\n",
       "</g>\n",
       "<!-- train_model -->\n",
       "<g id=\"node6\" class=\"node\">\n",
       "<title>train_model</title>\n",
       "<path fill=\"none\" stroke=\"#dc322f\" stroke-width=\"1.5\" d=\"M209,-134C209,-134 142,-134 142,-134 136,-134 130,-128 130,-122 130,-122 130,-106 130,-106 130,-100 136,-94 142,-94 142,-94 209,-94 209,-94 215,-94 221,-100 221,-106 221,-106 221,-122 221,-122 221,-128 215,-134 209,-134\"/>\n",
       "<text text-anchor=\"start\" x=\"141.5\" y=\"-121.4\" font-family=\"Liberation Sans,Helvetica,Arial,sans-serif\" font-weight=\"bold\" font-size=\"12.00\" fill=\"#002b36\">train_model</text>\n",
       "<text text-anchor=\"start\" x=\"138\" y=\"-111\" font-family=\"Liberation Sans,Helvetica,Arial,sans-serif\" font-size=\"10.00\" fill=\"#002b36\">@op:train_model</text>\n",
       "<text text-anchor=\"start\" x=\"161\" y=\"-101\" font-family=\"Liberation Sans,Helvetica,Arial,sans-serif\" font-size=\"10.00\" fill=\"#dc322f\">4 calls</text>\n",
       "</g>\n",
       "<!-- y_train&#45;&gt;train_model -->\n",
       "<g id=\"edge5\" class=\"edge\">\n",
       "<title>y_train&#45;&gt;train_model</title>\n",
       "<path fill=\"none\" stroke=\"#002b36\" d=\"M74.77,-191.98C93.6,-177.59 120.84,-156.78 142.24,-140.42\"/>\n",
       "<polygon fill=\"#002b36\" stroke=\"#002b36\" points=\"144.61,-143.02 150.43,-134.16 140.36,-137.45 144.61,-143.02\"/>\n",
       "<text text-anchor=\"middle\" x=\"147\" y=\"-166\" font-family=\"Liberation Sans,Helvetica,Arial,sans-serif\" font-size=\"10.00\" fill=\"#002b36\">y_train</text>\n",
       "<text text-anchor=\"middle\" x=\"147\" y=\"-155\" font-family=\"Liberation Sans,Helvetica,Arial,sans-serif\" font-size=\"10.00\" fill=\"#002b36\">(1 values)</text>\n",
       "</g>\n",
       "<!-- X_train -->\n",
       "<g id=\"node3\" class=\"node\">\n",
       "<title>X_train</title>\n",
       "<path fill=\"none\" stroke=\"#268bd2\" stroke-width=\"1.5\" d=\"M216,-228C216,-228 135,-228 135,-228 129,-228 123,-222 123,-216 123,-216 123,-204 123,-204 123,-198 129,-192 135,-192 135,-192 216,-192 216,-192 222,-192 228,-198 228,-204 228,-204 228,-216 228,-216 228,-222 222,-228 216,-228\"/>\n",
       "<text text-anchor=\"start\" x=\"155\" y=\"-212.4\" font-family=\"Liberation Sans,Helvetica,Arial,sans-serif\" font-weight=\"bold\" font-size=\"12.00\" fill=\"#002b36\">X_train</text>\n",
       "<text text-anchor=\"start\" x=\"131\" y=\"-202\" font-family=\"Liberation Sans,Helvetica,Arial,sans-serif\" font-size=\"10.00\" fill=\"#268bd2\">1 values (1 sources)</text>\n",
       "</g>\n",
       "<!-- X_train&#45;&gt;train_model -->\n",
       "<g id=\"edge3\" class=\"edge\">\n",
       "<title>X_train&#45;&gt;train_model</title>\n",
       "<path fill=\"none\" stroke=\"#002b36\" d=\"M175.5,-191.76C175.5,-178.5 175.5,-159.86 175.5,-144.27\"/>\n",
       "<polygon fill=\"#002b36\" stroke=\"#002b36\" points=\"179,-144.07 175.5,-134.07 172,-144.07 179,-144.07\"/>\n",
       "<text text-anchor=\"middle\" x=\"197\" y=\"-166\" font-family=\"Liberation Sans,Helvetica,Arial,sans-serif\" font-size=\"10.00\" fill=\"#002b36\">X_train</text>\n",
       "<text text-anchor=\"middle\" x=\"197\" y=\"-155\" font-family=\"Liberation Sans,Helvetica,Arial,sans-serif\" font-size=\"10.00\" fill=\"#002b36\">(1 values)</text>\n",
       "</g>\n",
       "<!-- n_estimators -->\n",
       "<g id=\"node4\" class=\"node\">\n",
       "<title>n_estimators</title>\n",
       "<path fill=\"none\" stroke=\"#268bd2\" stroke-width=\"1.5\" d=\"M339,-228C339,-228 258,-228 258,-228 252,-228 246,-222 246,-216 246,-216 246,-204 246,-204 246,-198 252,-192 258,-192 258,-192 339,-192 339,-192 345,-192 351,-198 351,-204 351,-204 351,-216 351,-216 351,-222 345,-228 339,-228\"/>\n",
       "<text text-anchor=\"start\" x=\"261\" y=\"-212.4\" font-family=\"Liberation Sans,Helvetica,Arial,sans-serif\" font-weight=\"bold\" font-size=\"12.00\" fill=\"#002b36\">n_estimators</text>\n",
       "<text text-anchor=\"start\" x=\"254\" y=\"-202\" font-family=\"Liberation Sans,Helvetica,Arial,sans-serif\" font-size=\"10.00\" fill=\"#268bd2\">4 values (4 sources)</text>\n",
       "</g>\n",
       "<!-- n_estimators&#45;&gt;train_model -->\n",
       "<g id=\"edge4\" class=\"edge\">\n",
       "<title>n_estimators&#45;&gt;train_model</title>\n",
       "<path fill=\"none\" stroke=\"#002b36\" d=\"M276.23,-191.98C257.4,-177.59 230.16,-156.78 208.76,-140.42\"/>\n",
       "<polygon fill=\"#002b36\" stroke=\"#002b36\" points=\"210.64,-137.45 200.57,-134.16 206.39,-143.02 210.64,-137.45\"/>\n",
       "<text text-anchor=\"middle\" x=\"280\" y=\"-166\" font-family=\"Liberation Sans,Helvetica,Arial,sans-serif\" font-size=\"10.00\" fill=\"#002b36\">n_estimators</text>\n",
       "<text text-anchor=\"middle\" x=\"280\" y=\"-155\" font-family=\"Liberation Sans,Helvetica,Arial,sans-serif\" font-size=\"10.00\" fill=\"#002b36\">(4 values)</text>\n",
       "</g>\n",
       "<!-- var_1 -->\n",
       "<g id=\"node5\" class=\"node\">\n",
       "<title>var_1</title>\n",
       "<path fill=\"none\" stroke=\"#268bd2\" stroke-width=\"1.5\" d=\"M266.5,-36C266.5,-36 196.5,-36 196.5,-36 190.5,-36 184.5,-30 184.5,-24 184.5,-24 184.5,-12 184.5,-12 184.5,-6 190.5,0 196.5,0 196.5,0 266.5,0 266.5,0 272.5,0 278.5,-6 278.5,-12 278.5,-12 278.5,-24 278.5,-24 278.5,-30 272.5,-36 266.5,-36\"/>\n",
       "<text text-anchor=\"start\" x=\"215.5\" y=\"-20.4\" font-family=\"Liberation Sans,Helvetica,Arial,sans-serif\" font-weight=\"bold\" font-size=\"12.00\" fill=\"#002b36\">var_1</text>\n",
       "<text text-anchor=\"start\" x=\"192.5\" y=\"-10\" font-family=\"Liberation Sans,Helvetica,Arial,sans-serif\" font-size=\"10.00\" fill=\"#268bd2\">4 values (4 sinks)</text>\n",
       "</g>\n",
       "<!-- train_model&#45;&gt;var_0 -->\n",
       "<g id=\"edge1\" class=\"edge\">\n",
       "<title>train_model&#45;&gt;var_0</title>\n",
       "<path fill=\"none\" stroke=\"#002b36\" d=\"M164.17,-93.98C155.73,-79.81 144.1,-60.3 134.83,-44.74\"/>\n",
       "<polygon fill=\"#002b36\" stroke=\"#002b36\" points=\"137.81,-42.9 129.69,-36.1 131.8,-46.48 137.81,-42.9\"/>\n",
       "<text text-anchor=\"middle\" x=\"175\" y=\"-68\" font-family=\"Liberation Sans,Helvetica,Arial,sans-serif\" font-size=\"10.00\" fill=\"#002b36\">output_0</text>\n",
       "<text text-anchor=\"middle\" x=\"175\" y=\"-57\" font-family=\"Liberation Sans,Helvetica,Arial,sans-serif\" font-size=\"10.00\" fill=\"#002b36\">(4 values)</text>\n",
       "</g>\n",
       "<!-- train_model&#45;&gt;var_1 -->\n",
       "<g id=\"edge2\" class=\"edge\">\n",
       "<title>train_model&#45;&gt;var_1</title>\n",
       "<path fill=\"none\" stroke=\"#002b36\" d=\"M189.09,-93.64C192.9,-88.02 196.96,-81.83 200.5,-76 206.53,-66.08 212.73,-54.91 217.98,-45.1\"/>\n",
       "<polygon fill=\"#002b36\" stroke=\"#002b36\" points=\"221.11,-46.68 222.7,-36.2 214.92,-43.4 221.11,-46.68\"/>\n",
       "<text text-anchor=\"middle\" x=\"234\" y=\"-68\" font-family=\"Liberation Sans,Helvetica,Arial,sans-serif\" font-size=\"10.00\" fill=\"#002b36\">output_1</text>\n",
       "<text text-anchor=\"middle\" x=\"234\" y=\"-57\" font-family=\"Liberation Sans,Helvetica,Arial,sans-serif\" font-size=\"10.00\" fill=\"#002b36\">(4 values)</text>\n",
       "</g>\n",
       "</g>\n",
       "</svg>\n"
      ],
      "text/plain": [
       "<graphviz.sources.Source at 0x704a0e205ed0>"
      ]
     },
     "metadata": {},
     "output_type": "display_data"
    }
   ],
   "source": [
    "cf = storage.cf(train_model)\n",
    "pprint(cf)\n",
    "cf.draw(verbose=True)"
   ]
  },
  {
   "cell_type": "markdown",
   "metadata": {},
   "source": [
    "You can extract a dataframe from any CF (explained more later); in particular,\n",
    "the dataframe for the CF of a single `@op` will be the memoization table for\n",
    "this `@op`:"
   ]
  },
  {
   "cell_type": "code",
   "execution_count": 9,
   "metadata": {
    "execution": {
     "iopub.execute_input": "2024-07-07T15:08:11.488956Z",
     "iopub.status.busy": "2024-07-07T15:08:11.488436Z",
     "iopub.status.idle": "2024-07-07T15:08:11.526357Z",
     "shell.execute_reply": "2024-07-07T15:08:11.525680Z"
    }
   },
   "outputs": [
    {
     "name": "stdout",
     "output_type": "stream",
     "text": [
      "|    | n_estimators                                         | X_train                                              | y_train                                              | train_model                                   | var_1                                                | var_0                                                |\n",
      "|---:|:-----------------------------------------------------|:-----------------------------------------------------|:-----------------------------------------------------|:----------------------------------------------|:-----------------------------------------------------|:-----------------------------------------------------|\n",
      "|  0 | AtomRef(hid='120...', cid='9bc...', in_memory=False) | AtomRef(hid='efa...', cid='a6d...', in_memory=False) | AtomRef(hid='faf...', cid='83f...', in_memory=False) | Call(train_model, cid='3be...', hid='e60...') | AtomRef(hid='646...', cid='acb...', in_memory=False) | AtomRef(hid='522...', cid='d5a...', in_memory=False) |\n",
      "|  1 | AtomRef(hid='9fd...', cid='4ac...', in_memory=False) | AtomRef(hid='efa...', cid='a6d...', in_memory=False) | AtomRef(hid='faf...', cid='83f...', in_memory=False) | Call(train_model, cid='5af...', hid='514...') | AtomRef(hid='784...', cid='238...', in_memory=False) | AtomRef(hid='331...', cid='e64...', in_memory=False) |\n",
      "|  2 | AtomRef(hid='98c...', cid='29d...', in_memory=False) | AtomRef(hid='efa...', cid='a6d...', in_memory=False) | AtomRef(hid='faf...', cid='83f...', in_memory=False) | Call(train_model, cid='c4f...', hid='5f7...') | AtomRef(hid='760...', cid='46b...', in_memory=False) | AtomRef(hid='b25...', cid='462...', in_memory=False) |\n",
      "|  3 | AtomRef(hid='235...', cid='c04...', in_memory=False) | AtomRef(hid='efa...', cid='a6d...', in_memory=False) | AtomRef(hid='faf...', cid='83f...', in_memory=False) | Call(train_model, cid='204...', hid='c55...') | AtomRef(hid='5b7...', cid='f0a...', in_memory=False) | AtomRef(hid='208...', cid='c75...', in_memory=False) |\n"
     ]
    }
   ],
   "source": [
    "print(cf.df(values='refs').to_markdown())"
   ]
  },
  {
   "cell_type": "markdown",
   "metadata": {},
   "source": [
    "## "
   ]
  },
  {
   "cell_type": "markdown",
   "metadata": {},
   "source": [
    "### From groups of `Ref`s to use as variables\n",
    "You can also manually initialize variables of the CF by passing a dict where\n",
    "values are `Ref` iterables:"
   ]
  },
  {
   "cell_type": "code",
   "execution_count": 10,
   "metadata": {
    "execution": {
     "iopub.execute_input": "2024-07-07T15:08:11.529926Z",
     "iopub.status.busy": "2024-07-07T15:08:11.529516Z",
     "iopub.status.idle": "2024-07-07T15:08:11.577773Z",
     "shell.execute_reply": "2024-07-07T15:08:11.577150Z"
    }
   },
   "outputs": [],
   "source": [
    "with storage: \n",
    "    models, test_accs = [], []\n",
    "    X_train, X_test, y_train, y_test = generate_dataset()\n",
    "    for n_estimators in [10, 20, 40, 80]:\n",
    "        model, train_acc = train_model(X_train, y_train, n_estimators=n_estimators)\n",
    "        models.append(model)\n",
    "        if storage.unwrap(train_acc) > 0.8: # conditional execution\n",
    "            test_acc = eval_model(model, X_test, y_test)\n",
    "            test_accs.append(test_acc)"
   ]
  },
  {
   "cell_type": "code",
   "execution_count": 11,
   "metadata": {
    "execution": {
     "iopub.execute_input": "2024-07-07T15:08:11.580816Z",
     "iopub.status.busy": "2024-07-07T15:08:11.580611Z",
     "iopub.status.idle": "2024-07-07T15:08:11.664890Z",
     "shell.execute_reply": "2024-07-07T15:08:11.664197Z"
    }
   },
   "outputs": [
    {
     "data": {
      "text/html": [
       "<pre style=\"white-space:pre;overflow-x:auto;line-height:normal;font-family:Menlo,'DejaVu Sans Mono',consolas,'Courier New',monospace\">ComputationFrame with:\n",
       "    <span style=\"color: #008080; text-decoration-color: #008080; font-weight: bold\">2</span> <span style=\"color: #800080; text-decoration-color: #800080; font-weight: bold\">variable</span><span style=\"font-weight: bold\">(</span>s<span style=\"font-weight: bold\">)</span> <span style=\"font-weight: bold\">(</span><span style=\"color: #008080; text-decoration-color: #008080; font-weight: bold\">6</span> unique refs<span style=\"font-weight: bold\">)</span>\n",
       "    <span style=\"color: #008080; text-decoration-color: #008080; font-weight: bold\">0</span> <span style=\"color: #800080; text-decoration-color: #800080; font-weight: bold\">operation</span><span style=\"font-weight: bold\">(</span>s<span style=\"font-weight: bold\">)</span> <span style=\"font-weight: bold\">(</span><span style=\"color: #008080; text-decoration-color: #008080; font-weight: bold\">0</span> unique calls<span style=\"font-weight: bold\">)</span>\n",
       "Computational graph:\n",
       "    model, test_acc\n",
       "</pre>\n"
      ],
      "text/plain": [
       "ComputationFrame with:\n",
       "    \u001b[1;36m2\u001b[0m \u001b[1;35mvariable\u001b[0m\u001b[1m(\u001b[0ms\u001b[1m)\u001b[0m \u001b[1m(\u001b[0m\u001b[1;36m6\u001b[0m unique refs\u001b[1m)\u001b[0m\n",
       "    \u001b[1;36m0\u001b[0m \u001b[1;35moperation\u001b[0m\u001b[1m(\u001b[0ms\u001b[1m)\u001b[0m \u001b[1m(\u001b[0m\u001b[1;36m0\u001b[0m unique calls\u001b[1m)\u001b[0m\n",
       "Computational graph:\n",
       "    model, test_acc\n"
      ]
     },
     "metadata": {},
     "output_type": "display_data"
    },
    {
     "data": {
      "image/svg+xml": [
       "<?xml version=\"1.0\" encoding=\"UTF-8\" standalone=\"no\"?>\n",
       "<!DOCTYPE svg PUBLIC \"-//W3C//DTD SVG 1.1//EN\"\n",
       " \"http://www.w3.org/Graphics/SVG/1.1/DTD/svg11.dtd\">\n",
       "<!-- Generated by graphviz version 2.50.0 (0)\n",
       " -->\n",
       "<!-- Title: G Pages: 1 -->\n",
       "<svg width=\"306pt\" height=\"44pt\"\n",
       " viewBox=\"0.00 0.00 306.00 44.00\" xmlns=\"http://www.w3.org/2000/svg\" xmlns:xlink=\"http://www.w3.org/1999/xlink\">\n",
       "<g id=\"graph0\" class=\"graph\" transform=\"scale(1 1) rotate(0) translate(4 40)\">\n",
       "<title>G</title>\n",
       "<polygon fill=\"white\" stroke=\"transparent\" points=\"-4,4 -4,-40 302,-40 302,4 -4,4\"/>\n",
       "<!-- model -->\n",
       "<g id=\"node1\" class=\"node\">\n",
       "<title>model</title>\n",
       "<path fill=\"none\" stroke=\"#268bd2\" stroke-width=\"1.5\" d=\"M128,-36C128,-36 12,-36 12,-36 6,-36 0,-30 0,-24 0,-24 0,-12 0,-12 0,-6 6,0 12,0 12,0 128,0 128,0 134,0 140,-6 140,-12 140,-12 140,-24 140,-24 140,-30 134,-36 128,-36\"/>\n",
       "<text text-anchor=\"start\" x=\"52\" y=\"-20.4\" font-family=\"Liberation Sans,Helvetica,Arial,sans-serif\" font-weight=\"bold\" font-size=\"12.00\" fill=\"#002b36\">model</text>\n",
       "<text text-anchor=\"start\" x=\"8\" y=\"-10\" font-family=\"Liberation Sans,Helvetica,Arial,sans-serif\" font-size=\"10.00\" fill=\"#268bd2\">4 values (4 sources/4 sinks)</text>\n",
       "</g>\n",
       "<!-- test_acc -->\n",
       "<g id=\"node2\" class=\"node\">\n",
       "<title>test_acc</title>\n",
       "<path fill=\"none\" stroke=\"#268bd2\" stroke-width=\"1.5\" d=\"M286,-36C286,-36 170,-36 170,-36 164,-36 158,-30 158,-24 158,-24 158,-12 158,-12 158,-6 164,0 170,0 170,0 286,0 286,0 292,0 298,-6 298,-12 298,-12 298,-24 298,-24 298,-30 292,-36 286,-36\"/>\n",
       "<text text-anchor=\"start\" x=\"203.5\" y=\"-20.4\" font-family=\"Liberation Sans,Helvetica,Arial,sans-serif\" font-weight=\"bold\" font-size=\"12.00\" fill=\"#002b36\">test_acc</text>\n",
       "<text text-anchor=\"start\" x=\"166\" y=\"-10\" font-family=\"Liberation Sans,Helvetica,Arial,sans-serif\" font-size=\"10.00\" fill=\"#268bd2\">2 values (2 sources/2 sinks)</text>\n",
       "</g>\n",
       "</g>\n",
       "</svg>\n"
      ],
      "text/plain": [
       "<graphviz.sources.Source at 0x704aed340430>"
      ]
     },
     "metadata": {},
     "output_type": "display_data"
    }
   ],
   "source": [
    "cf = storage.cf({'model': models, 'test_acc': test_accs})\n",
    "pprint(cf)\n",
    "cf.draw(verbose=True)"
   ]
  },
  {
   "cell_type": "markdown",
   "metadata": {},
   "source": [
    "Again, this is not interesting unless you `expand` back and/or forward. We can \n",
    "illustrate by expanding only the `model` variable forward:"
   ]
  },
  {
   "cell_type": "code",
   "execution_count": 12,
   "metadata": {
    "execution": {
     "iopub.execute_input": "2024-07-07T15:08:11.667922Z",
     "iopub.status.busy": "2024-07-07T15:08:11.667721Z",
     "iopub.status.idle": "2024-07-07T15:08:11.774046Z",
     "shell.execute_reply": "2024-07-07T15:08:11.773209Z"
    }
   },
   "outputs": [
    {
     "data": {
      "image/svg+xml": [
       "<?xml version=\"1.0\" encoding=\"UTF-8\" standalone=\"no\"?>\n",
       "<!DOCTYPE svg PUBLIC \"-//W3C//DTD SVG 1.1//EN\"\n",
       " \"http://www.w3.org/Graphics/SVG/1.1/DTD/svg11.dtd\">\n",
       "<!-- Generated by graphviz version 2.50.0 (0)\n",
       " -->\n",
       "<!-- Title: G Pages: 1 -->\n",
       "<svg width=\"148pt\" height=\"236pt\"\n",
       " viewBox=\"0.00 0.00 148.00 236.00\" xmlns=\"http://www.w3.org/2000/svg\" xmlns:xlink=\"http://www.w3.org/1999/xlink\">\n",
       "<g id=\"graph0\" class=\"graph\" transform=\"scale(1 1) rotate(0) translate(4 232)\">\n",
       "<title>G</title>\n",
       "<polygon fill=\"white\" stroke=\"transparent\" points=\"-4,4 -4,-232 144,-232 144,4 -4,4\"/>\n",
       "<!-- model -->\n",
       "<g id=\"node1\" class=\"node\">\n",
       "<title>model</title>\n",
       "<path fill=\"none\" stroke=\"#268bd2\" stroke-width=\"1.5\" d=\"M128,-228C128,-228 12,-228 12,-228 6,-228 0,-222 0,-216 0,-216 0,-204 0,-204 0,-198 6,-192 12,-192 12,-192 128,-192 128,-192 134,-192 140,-198 140,-204 140,-204 140,-216 140,-216 140,-222 134,-228 128,-228\"/>\n",
       "<text text-anchor=\"start\" x=\"52\" y=\"-212.4\" font-family=\"Liberation Sans,Helvetica,Arial,sans-serif\" font-weight=\"bold\" font-size=\"12.00\" fill=\"#002b36\">model</text>\n",
       "<text text-anchor=\"start\" x=\"8\" y=\"-202\" font-family=\"Liberation Sans,Helvetica,Arial,sans-serif\" font-size=\"10.00\" fill=\"#268bd2\">4 values (4 sources/2 sinks)</text>\n",
       "</g>\n",
       "<!-- eval_model -->\n",
       "<g id=\"node3\" class=\"node\">\n",
       "<title>eval_model</title>\n",
       "<path fill=\"none\" stroke=\"#dc322f\" stroke-width=\"1.5\" d=\"M103,-134C103,-134 37,-134 37,-134 31,-134 25,-128 25,-122 25,-122 25,-106 25,-106 25,-100 31,-94 37,-94 37,-94 103,-94 103,-94 109,-94 115,-100 115,-106 115,-106 115,-122 115,-122 115,-128 109,-134 103,-134\"/>\n",
       "<text text-anchor=\"start\" x=\"37\" y=\"-121.4\" font-family=\"Liberation Sans,Helvetica,Arial,sans-serif\" font-weight=\"bold\" font-size=\"12.00\" fill=\"#002b36\">eval_model</text>\n",
       "<text text-anchor=\"start\" x=\"33\" y=\"-111\" font-family=\"Liberation Sans,Helvetica,Arial,sans-serif\" font-size=\"10.00\" fill=\"#002b36\">@op:eval_model</text>\n",
       "<text text-anchor=\"start\" x=\"55.5\" y=\"-101\" font-family=\"Liberation Sans,Helvetica,Arial,sans-serif\" font-size=\"10.00\" fill=\"#dc322f\">2 calls</text>\n",
       "</g>\n",
       "<!-- model&#45;&gt;eval_model -->\n",
       "<g id=\"edge1\" class=\"edge\">\n",
       "<title>model&#45;&gt;eval_model</title>\n",
       "<path fill=\"none\" stroke=\"#002b36\" d=\"M70,-191.76C70,-178.5 70,-159.86 70,-144.27\"/>\n",
       "<polygon fill=\"#002b36\" stroke=\"#002b36\" points=\"73.5,-144.07 70,-134.07 66.5,-144.07 73.5,-144.07\"/>\n",
       "<text text-anchor=\"middle\" x=\"91.5\" y=\"-166\" font-family=\"Liberation Sans,Helvetica,Arial,sans-serif\" font-size=\"10.00\" fill=\"#002b36\">model</text>\n",
       "<text text-anchor=\"middle\" x=\"91.5\" y=\"-155\" font-family=\"Liberation Sans,Helvetica,Arial,sans-serif\" font-size=\"10.00\" fill=\"#002b36\">(2 values)</text>\n",
       "</g>\n",
       "<!-- test_acc -->\n",
       "<g id=\"node2\" class=\"node\">\n",
       "<title>test_acc</title>\n",
       "<path fill=\"none\" stroke=\"#268bd2\" stroke-width=\"1.5\" d=\"M105,-36C105,-36 35,-36 35,-36 29,-36 23,-30 23,-24 23,-24 23,-12 23,-12 23,-6 29,0 35,0 35,0 105,0 105,0 111,0 117,-6 117,-12 117,-12 117,-24 117,-24 117,-30 111,-36 105,-36\"/>\n",
       "<text text-anchor=\"start\" x=\"45.5\" y=\"-20.4\" font-family=\"Liberation Sans,Helvetica,Arial,sans-serif\" font-weight=\"bold\" font-size=\"12.00\" fill=\"#002b36\">test_acc</text>\n",
       "<text text-anchor=\"start\" x=\"31\" y=\"-10\" font-family=\"Liberation Sans,Helvetica,Arial,sans-serif\" font-size=\"10.00\" fill=\"#268bd2\">2 values (2 sinks)</text>\n",
       "</g>\n",
       "<!-- eval_model&#45;&gt;test_acc -->\n",
       "<g id=\"edge2\" class=\"edge\">\n",
       "<title>eval_model&#45;&gt;test_acc</title>\n",
       "<path fill=\"none\" stroke=\"#002b36\" d=\"M70,-93.98C70,-80.34 70,-61.75 70,-46.5\"/>\n",
       "<polygon fill=\"#002b36\" stroke=\"#002b36\" points=\"73.5,-46.1 70,-36.1 66.5,-46.1 73.5,-46.1\"/>\n",
       "<text text-anchor=\"middle\" x=\"91.5\" y=\"-68\" font-family=\"Liberation Sans,Helvetica,Arial,sans-serif\" font-size=\"10.00\" fill=\"#002b36\">output_0</text>\n",
       "<text text-anchor=\"middle\" x=\"91.5\" y=\"-57\" font-family=\"Liberation Sans,Helvetica,Arial,sans-serif\" font-size=\"10.00\" fill=\"#002b36\">(2 values)</text>\n",
       "</g>\n",
       "</g>\n",
       "</svg>\n"
      ],
      "text/plain": [
       "<graphviz.sources.Source at 0x704a0e354ca0>"
      ]
     },
     "metadata": {},
     "output_type": "display_data"
    }
   ],
   "source": [
    "cf.expand_forward(varnames=['model'], inplace=True)\n",
    "cf.draw(verbose=True)"
   ]
  },
  {
   "cell_type": "markdown",
   "metadata": {},
   "source": [
    "The expansion algorithm figures out that the calls to `eval_model` we add\n",
    "should connect to the `test_acc` variable."
   ]
  },
  {
   "cell_type": "markdown",
   "metadata": {},
   "source": [
    "### From any collection of calls\n",
    "TODO"
   ]
  },
  {
   "cell_type": "markdown",
   "metadata": {},
   "source": [
    "## Exploring storage by expanding `ComputationFrame`s \n",
    "Once a CF is created, you can add computational context to it by calling one of\n",
    "a few methods:"
   ]
  },
  {
   "cell_type": "code",
   "execution_count": 13,
   "metadata": {
    "execution": {
     "iopub.execute_input": "2024-07-07T15:08:11.779839Z",
     "iopub.status.busy": "2024-07-07T15:08:11.779287Z",
     "iopub.status.idle": "2024-07-07T15:08:11.823946Z",
     "shell.execute_reply": "2024-07-07T15:08:11.823292Z"
    }
   },
   "outputs": [
    {
     "data": {
      "text/html": [
       "<pre style=\"white-space:pre;overflow-x:auto;line-height:normal;font-family:Menlo,'DejaVu Sans Mono',consolas,'Courier New',monospace\">Docstring for `expand_back`:\n",
       "</pre>\n"
      ],
      "text/plain": [
       "Docstring for `expand_back`:\n"
      ]
     },
     "metadata": {},
     "output_type": "display_data"
    },
    {
     "data": {
      "text/html": [
       "<pre style=\"white-space:pre;overflow-x:auto;line-height:normal;font-family:Menlo,'DejaVu Sans Mono',consolas,'Courier New',monospace\">\n",
       "        Join to the CF the calls that created all refs in the given variables\n",
       "        that currently do not have a connected creator call in the CF.\n",
       "\n",
       "        If such refs are found, this will result to the addition of \n",
       "        - new function nodes for the calls that created these refs;\n",
       "        - new variable nodes for the *inputs* of these calls.\n",
       "\n",
       "        The number of these nodes and how they connect to the CF will depend on\n",
       "        the structure of the calls that created the refs. \n",
       "\n",
       "        Arguments:\n",
       "        - `varnames`: the names of the variables to expand; if <span style=\"color: #800080; text-decoration-color: #800080; font-style: italic\">None</span>, expand all\n",
       "        the `Ref`s that don't have a creator call in any function node of the CF\n",
       "        that is connected to the `Ref`'s variable node as an output.\n",
       "        - `recursive`: if <span style=\"color: #00ff00; text-decoration-color: #00ff00; font-style: italic\">True</span>, keep expanding until a fixed point is reached\n",
       "        \n",
       "</pre>\n"
      ],
      "text/plain": [
       "\n",
       "        Join to the CF the calls that created all refs in the given variables\n",
       "        that currently do not have a connected creator call in the CF.\n",
       "\n",
       "        If such refs are found, this will result to the addition of \n",
       "        - new function nodes for the calls that created these refs;\n",
       "        - new variable nodes for the *inputs* of these calls.\n",
       "\n",
       "        The number of these nodes and how they connect to the CF will depend on\n",
       "        the structure of the calls that created the refs. \n",
       "\n",
       "        Arguments:\n",
       "        - `varnames`: the names of the variables to expand; if \u001b[3;35mNone\u001b[0m, expand all\n",
       "        the `Ref`s that don't have a creator call in any function node of the CF\n",
       "        that is connected to the `Ref`'s variable node as an output.\n",
       "        - `recursive`: if \u001b[3;92mTrue\u001b[0m, keep expanding until a fixed point is reached\n",
       "        \n"
      ]
     },
     "metadata": {},
     "output_type": "display_data"
    },
    {
     "data": {
      "text/html": [
       "<pre style=\"white-space:pre;overflow-x:auto;line-height:normal;font-family:Menlo,'DejaVu Sans Mono',consolas,'Courier New',monospace\">Docstring for `expand_forward`:\n",
       "</pre>\n"
      ],
      "text/plain": [
       "Docstring for `expand_forward`:\n"
      ]
     },
     "metadata": {},
     "output_type": "display_data"
    },
    {
     "data": {
      "text/html": [
       "<pre style=\"white-space:pre;overflow-x:auto;line-height:normal;font-family:Menlo,'DejaVu Sans Mono',consolas,'Courier New',monospace\">\n",
       "        Join the calls that consume the given variables; see `expand_back` <span style=\"font-weight: bold\">(</span>the \n",
       "        dual operation<span style=\"font-weight: bold\">)</span> for more details.\n",
       "        \n",
       "</pre>\n"
      ],
      "text/plain": [
       "\n",
       "        Join the calls that consume the given variables; see `expand_back` \u001b[1m(\u001b[0mthe \n",
       "        dual operation\u001b[1m)\u001b[0m for more details.\n",
       "        \n"
      ]
     },
     "metadata": {},
     "output_type": "display_data"
    },
    {
     "data": {
      "text/html": [
       "<pre style=\"white-space:pre;overflow-x:auto;line-height:normal;font-family:Menlo,'DejaVu Sans Mono',consolas,'Courier New',monospace\">Docstring for `expand_all`:\n",
       "</pre>\n"
      ],
      "text/plain": [
       "Docstring for `expand_all`:\n"
      ]
     },
     "metadata": {},
     "output_type": "display_data"
    },
    {
     "data": {
      "text/html": [
       "<pre style=\"white-space:pre;overflow-x:auto;line-height:normal;font-family:Menlo,'DejaVu Sans Mono',consolas,'Courier New',monospace\">\n",
       "        Expand the computation frame by repeatedly applying `expand_back` and\n",
       "        `expand_forward` until a fixed point is reached.\n",
       "        \n",
       "</pre>\n"
      ],
      "text/plain": [
       "\n",
       "        Expand the computation frame by repeatedly applying `expand_back` and\n",
       "        `expand_forward` until a fixed point is reached.\n",
       "        \n"
      ]
     },
     "metadata": {},
     "output_type": "display_data"
    }
   ],
   "source": [
    "pprint('Docstring for `expand_back`:')\n",
    "pprint(cf.expand_back.__doc__)\n",
    "pprint('Docstring for `expand_forward`:')\n",
    "pprint(cf.expand_forward.__doc__)\n",
    "pprint('Docstring for `expand_all`:')\n",
    "pprint(cf.expand_all.__doc__)"
   ]
  },
  {
   "cell_type": "markdown",
   "metadata": {},
   "source": [
    "### Selective expansion with `expand_back`, `expand_forward`\n",
    "You can be very precise about which calls to add to the CF. For example, you can\n",
    "expand variables one by one. **When this results in convergent histories, the CF\n",
    "will detect this and reuse the calls**:  "
   ]
  },
  {
   "cell_type": "code",
   "execution_count": 14,
   "metadata": {
    "execution": {
     "iopub.execute_input": "2024-07-07T15:08:11.827247Z",
     "iopub.status.busy": "2024-07-07T15:08:11.826941Z",
     "iopub.status.idle": "2024-07-07T15:08:11.921206Z",
     "shell.execute_reply": "2024-07-07T15:08:11.920622Z"
    }
   },
   "outputs": [
    {
     "data": {
      "image/svg+xml": [
       "<?xml version=\"1.0\" encoding=\"UTF-8\" standalone=\"no\"?>\n",
       "<!DOCTYPE svg PUBLIC \"-//W3C//DTD SVG 1.1//EN\"\n",
       " \"http://www.w3.org/Graphics/SVG/1.1/DTD/svg11.dtd\">\n",
       "<!-- Generated by graphviz version 2.50.0 (0)\n",
       " -->\n",
       "<!-- Title: G Pages: 1 -->\n",
       "<svg width=\"359pt\" height=\"236pt\"\n",
       " viewBox=\"0.00 0.00 359.00 236.00\" xmlns=\"http://www.w3.org/2000/svg\" xmlns:xlink=\"http://www.w3.org/1999/xlink\">\n",
       "<g id=\"graph0\" class=\"graph\" transform=\"scale(1 1) rotate(0) translate(4 232)\">\n",
       "<title>G</title>\n",
       "<polygon fill=\"white\" stroke=\"transparent\" points=\"-4,4 -4,-232 355,-232 355,4 -4,4\"/>\n",
       "<!-- X_test -->\n",
       "<g id=\"node1\" class=\"node\">\n",
       "<title>X_test</title>\n",
       "<path fill=\"none\" stroke=\"#268bd2\" stroke-width=\"1.5\" d=\"M93,-228C93,-228 12,-228 12,-228 6,-228 0,-222 0,-216 0,-216 0,-204 0,-204 0,-198 6,-192 12,-192 12,-192 93,-192 93,-192 99,-192 105,-198 105,-204 105,-204 105,-216 105,-216 105,-222 99,-228 93,-228\"/>\n",
       "<text text-anchor=\"start\" x=\"34\" y=\"-212.4\" font-family=\"Liberation Sans,Helvetica,Arial,sans-serif\" font-weight=\"bold\" font-size=\"12.00\" fill=\"#002b36\">X_test</text>\n",
       "<text text-anchor=\"start\" x=\"8\" y=\"-202\" font-family=\"Liberation Sans,Helvetica,Arial,sans-serif\" font-size=\"10.00\" fill=\"#268bd2\">1 values (1 sources)</text>\n",
       "</g>\n",
       "<!-- eval_model -->\n",
       "<g id=\"node5\" class=\"node\">\n",
       "<title>eval_model</title>\n",
       "<path fill=\"none\" stroke=\"#dc322f\" stroke-width=\"1.5\" d=\"M208.5,-134C208.5,-134 142.5,-134 142.5,-134 136.5,-134 130.5,-128 130.5,-122 130.5,-122 130.5,-106 130.5,-106 130.5,-100 136.5,-94 142.5,-94 142.5,-94 208.5,-94 208.5,-94 214.5,-94 220.5,-100 220.5,-106 220.5,-106 220.5,-122 220.5,-122 220.5,-128 214.5,-134 208.5,-134\"/>\n",
       "<text text-anchor=\"start\" x=\"142.5\" y=\"-121.4\" font-family=\"Liberation Sans,Helvetica,Arial,sans-serif\" font-weight=\"bold\" font-size=\"12.00\" fill=\"#002b36\">eval_model</text>\n",
       "<text text-anchor=\"start\" x=\"138.5\" y=\"-111\" font-family=\"Liberation Sans,Helvetica,Arial,sans-serif\" font-size=\"10.00\" fill=\"#002b36\">@op:eval_model</text>\n",
       "<text text-anchor=\"start\" x=\"161\" y=\"-101\" font-family=\"Liberation Sans,Helvetica,Arial,sans-serif\" font-size=\"10.00\" fill=\"#dc322f\">1 calls</text>\n",
       "</g>\n",
       "<!-- X_test&#45;&gt;eval_model -->\n",
       "<g id=\"edge2\" class=\"edge\">\n",
       "<title>X_test&#45;&gt;eval_model</title>\n",
       "<path fill=\"none\" stroke=\"#002b36\" d=\"M74.77,-191.98C93.6,-177.59 120.84,-156.78 142.24,-140.42\"/>\n",
       "<polygon fill=\"#002b36\" stroke=\"#002b36\" points=\"144.61,-143.02 150.43,-134.16 140.36,-137.45 144.61,-143.02\"/>\n",
       "<text text-anchor=\"middle\" x=\"147\" y=\"-166\" font-family=\"Liberation Sans,Helvetica,Arial,sans-serif\" font-size=\"10.00\" fill=\"#002b36\">X_test</text>\n",
       "<text text-anchor=\"middle\" x=\"147\" y=\"-155\" font-family=\"Liberation Sans,Helvetica,Arial,sans-serif\" font-size=\"10.00\" fill=\"#002b36\">(1 values)</text>\n",
       "</g>\n",
       "<!-- v -->\n",
       "<g id=\"node2\" class=\"node\">\n",
       "<title>v</title>\n",
       "<path fill=\"none\" stroke=\"#268bd2\" stroke-width=\"1.5\" d=\"M210.5,-36C210.5,-36 140.5,-36 140.5,-36 134.5,-36 128.5,-30 128.5,-24 128.5,-24 128.5,-12 128.5,-12 128.5,-6 134.5,0 140.5,0 140.5,0 210.5,0 210.5,0 216.5,0 222.5,-6 222.5,-12 222.5,-12 222.5,-24 222.5,-24 222.5,-30 216.5,-36 210.5,-36\"/>\n",
       "<text text-anchor=\"start\" x=\"172\" y=\"-20.4\" font-family=\"Liberation Sans,Helvetica,Arial,sans-serif\" font-weight=\"bold\" font-size=\"12.00\" fill=\"#002b36\">v</text>\n",
       "<text text-anchor=\"start\" x=\"136.5\" y=\"-10\" font-family=\"Liberation Sans,Helvetica,Arial,sans-serif\" font-size=\"10.00\" fill=\"#268bd2\">1 values (1 sinks)</text>\n",
       "</g>\n",
       "<!-- model -->\n",
       "<g id=\"node3\" class=\"node\">\n",
       "<title>model</title>\n",
       "<path fill=\"none\" stroke=\"#268bd2\" stroke-width=\"1.5\" d=\"M216,-228C216,-228 135,-228 135,-228 129,-228 123,-222 123,-216 123,-216 123,-204 123,-204 123,-198 129,-192 135,-192 135,-192 216,-192 216,-192 222,-192 228,-198 228,-204 228,-204 228,-216 228,-216 228,-222 222,-228 216,-228\"/>\n",
       "<text text-anchor=\"start\" x=\"157.5\" y=\"-212.4\" font-family=\"Liberation Sans,Helvetica,Arial,sans-serif\" font-weight=\"bold\" font-size=\"12.00\" fill=\"#002b36\">model</text>\n",
       "<text text-anchor=\"start\" x=\"131\" y=\"-202\" font-family=\"Liberation Sans,Helvetica,Arial,sans-serif\" font-size=\"10.00\" fill=\"#268bd2\">1 values (1 sources)</text>\n",
       "</g>\n",
       "<!-- model&#45;&gt;eval_model -->\n",
       "<g id=\"edge3\" class=\"edge\">\n",
       "<title>model&#45;&gt;eval_model</title>\n",
       "<path fill=\"none\" stroke=\"#002b36\" d=\"M175.5,-191.76C175.5,-178.5 175.5,-159.86 175.5,-144.27\"/>\n",
       "<polygon fill=\"#002b36\" stroke=\"#002b36\" points=\"179,-144.07 175.5,-134.07 172,-144.07 179,-144.07\"/>\n",
       "<text text-anchor=\"middle\" x=\"197\" y=\"-166\" font-family=\"Liberation Sans,Helvetica,Arial,sans-serif\" font-size=\"10.00\" fill=\"#002b36\">model</text>\n",
       "<text text-anchor=\"middle\" x=\"197\" y=\"-155\" font-family=\"Liberation Sans,Helvetica,Arial,sans-serif\" font-size=\"10.00\" fill=\"#002b36\">(1 values)</text>\n",
       "</g>\n",
       "<!-- y_test -->\n",
       "<g id=\"node4\" class=\"node\">\n",
       "<title>y_test</title>\n",
       "<path fill=\"none\" stroke=\"#268bd2\" stroke-width=\"1.5\" d=\"M339,-228C339,-228 258,-228 258,-228 252,-228 246,-222 246,-216 246,-216 246,-204 246,-204 246,-198 252,-192 258,-192 258,-192 339,-192 339,-192 345,-192 351,-198 351,-204 351,-204 351,-216 351,-216 351,-222 345,-228 339,-228\"/>\n",
       "<text text-anchor=\"start\" x=\"281\" y=\"-212.4\" font-family=\"Liberation Sans,Helvetica,Arial,sans-serif\" font-weight=\"bold\" font-size=\"12.00\" fill=\"#002b36\">y_test</text>\n",
       "<text text-anchor=\"start\" x=\"254\" y=\"-202\" font-family=\"Liberation Sans,Helvetica,Arial,sans-serif\" font-size=\"10.00\" fill=\"#268bd2\">1 values (1 sources)</text>\n",
       "</g>\n",
       "<!-- y_test&#45;&gt;eval_model -->\n",
       "<g id=\"edge4\" class=\"edge\">\n",
       "<title>y_test&#45;&gt;eval_model</title>\n",
       "<path fill=\"none\" stroke=\"#002b36\" d=\"M276.23,-191.98C257.4,-177.59 230.16,-156.78 208.76,-140.42\"/>\n",
       "<polygon fill=\"#002b36\" stroke=\"#002b36\" points=\"210.64,-137.45 200.57,-134.16 206.39,-143.02 210.64,-137.45\"/>\n",
       "<text text-anchor=\"middle\" x=\"273\" y=\"-166\" font-family=\"Liberation Sans,Helvetica,Arial,sans-serif\" font-size=\"10.00\" fill=\"#002b36\">y_test</text>\n",
       "<text text-anchor=\"middle\" x=\"273\" y=\"-155\" font-family=\"Liberation Sans,Helvetica,Arial,sans-serif\" font-size=\"10.00\" fill=\"#002b36\">(1 values)</text>\n",
       "</g>\n",
       "<!-- eval_model&#45;&gt;v -->\n",
       "<g id=\"edge1\" class=\"edge\">\n",
       "<title>eval_model&#45;&gt;v</title>\n",
       "<path fill=\"none\" stroke=\"#002b36\" d=\"M175.5,-93.98C175.5,-80.34 175.5,-61.75 175.5,-46.5\"/>\n",
       "<polygon fill=\"#002b36\" stroke=\"#002b36\" points=\"179,-46.1 175.5,-36.1 172,-46.1 179,-46.1\"/>\n",
       "<text text-anchor=\"middle\" x=\"197\" y=\"-68\" font-family=\"Liberation Sans,Helvetica,Arial,sans-serif\" font-size=\"10.00\" fill=\"#002b36\">output_0</text>\n",
       "<text text-anchor=\"middle\" x=\"197\" y=\"-57\" font-family=\"Liberation Sans,Helvetica,Arial,sans-serif\" font-size=\"10.00\" fill=\"#002b36\">(1 values)</text>\n",
       "</g>\n",
       "</g>\n",
       "</svg>\n"
      ],
      "text/plain": [
       "<graphviz.sources.Source at 0x704a0e205990>"
      ]
     },
     "metadata": {},
     "output_type": "display_data"
    }
   ],
   "source": [
    "cf = storage.cf(test_acc)\n",
    "cf = cf.expand_back('v')\n",
    "cf.draw(verbose=True)"
   ]
  },
  {
   "cell_type": "code",
   "execution_count": 15,
   "metadata": {
    "execution": {
     "iopub.execute_input": "2024-07-07T15:08:11.924158Z",
     "iopub.status.busy": "2024-07-07T15:08:11.923882Z",
     "iopub.status.idle": "2024-07-07T15:08:12.020643Z",
     "shell.execute_reply": "2024-07-07T15:08:12.019945Z"
    }
   },
   "outputs": [
    {
     "data": {
      "image/svg+xml": [
       "<?xml version=\"1.0\" encoding=\"UTF-8\" standalone=\"no\"?>\n",
       "<!DOCTYPE svg PUBLIC \"-//W3C//DTD SVG 1.1//EN\"\n",
       " \"http://www.w3.org/Graphics/SVG/1.1/DTD/svg11.dtd\">\n",
       "<!-- Generated by graphviz version 2.50.0 (0)\n",
       " -->\n",
       "<!-- Title: G Pages: 1 -->\n",
       "<svg width=\"341pt\" height=\"428pt\"\n",
       " viewBox=\"0.00 0.00 340.50 428.00\" xmlns=\"http://www.w3.org/2000/svg\" xmlns:xlink=\"http://www.w3.org/1999/xlink\">\n",
       "<g id=\"graph0\" class=\"graph\" transform=\"scale(1 1) rotate(0) translate(4 424)\">\n",
       "<title>G</title>\n",
       "<polygon fill=\"white\" stroke=\"transparent\" points=\"-4,4 -4,-424 336.5,-424 336.5,4 -4,4\"/>\n",
       "<!-- X_test -->\n",
       "<g id=\"node1\" class=\"node\">\n",
       "<title>X_test</title>\n",
       "<path fill=\"none\" stroke=\"#268bd2\" stroke-width=\"1.5\" d=\"M288.5,-228C288.5,-228 258.5,-228 258.5,-228 252.5,-228 246.5,-222 246.5,-216 246.5,-216 246.5,-204 246.5,-204 246.5,-198 252.5,-192 258.5,-192 258.5,-192 288.5,-192 288.5,-192 294.5,-192 300.5,-198 300.5,-204 300.5,-204 300.5,-216 300.5,-216 300.5,-222 294.5,-228 288.5,-228\"/>\n",
       "<text text-anchor=\"start\" x=\"255\" y=\"-212.4\" font-family=\"Liberation Sans,Helvetica,Arial,sans-serif\" font-weight=\"bold\" font-size=\"12.00\" fill=\"#002b36\">X_test</text>\n",
       "<text text-anchor=\"start\" x=\"255\" y=\"-202\" font-family=\"Liberation Sans,Helvetica,Arial,sans-serif\" font-size=\"10.00\" fill=\"#268bd2\">1 values</text>\n",
       "</g>\n",
       "<!-- eval_model -->\n",
       "<g id=\"node7\" class=\"node\">\n",
       "<title>eval_model</title>\n",
       "<path fill=\"none\" stroke=\"#dc322f\" stroke-width=\"1.5\" d=\"M208.5,-134C208.5,-134 142.5,-134 142.5,-134 136.5,-134 130.5,-128 130.5,-122 130.5,-122 130.5,-106 130.5,-106 130.5,-100 136.5,-94 142.5,-94 142.5,-94 208.5,-94 208.5,-94 214.5,-94 220.5,-100 220.5,-106 220.5,-106 220.5,-122 220.5,-122 220.5,-128 214.5,-134 208.5,-134\"/>\n",
       "<text text-anchor=\"start\" x=\"142.5\" y=\"-121.4\" font-family=\"Liberation Sans,Helvetica,Arial,sans-serif\" font-weight=\"bold\" font-size=\"12.00\" fill=\"#002b36\">eval_model</text>\n",
       "<text text-anchor=\"start\" x=\"138.5\" y=\"-111\" font-family=\"Liberation Sans,Helvetica,Arial,sans-serif\" font-size=\"10.00\" fill=\"#002b36\">@op:eval_model</text>\n",
       "<text text-anchor=\"start\" x=\"161\" y=\"-101\" font-family=\"Liberation Sans,Helvetica,Arial,sans-serif\" font-size=\"10.00\" fill=\"#dc322f\">1 calls</text>\n",
       "</g>\n",
       "<!-- X_test&#45;&gt;eval_model -->\n",
       "<g id=\"edge2\" class=\"edge\">\n",
       "<title>X_test&#45;&gt;eval_model</title>\n",
       "<path fill=\"none\" stroke=\"#002b36\" d=\"M259.5,-191.83C249.64,-180.13 235.86,-164.54 222.5,-152 218.43,-148.18 214,-144.33 209.53,-140.64\"/>\n",
       "<polygon fill=\"#002b36\" stroke=\"#002b36\" points=\"211.52,-137.74 201.54,-134.19 207.13,-143.19 211.52,-137.74\"/>\n",
       "<text text-anchor=\"middle\" x=\"264\" y=\"-166\" font-family=\"Liberation Sans,Helvetica,Arial,sans-serif\" font-size=\"10.00\" fill=\"#002b36\">X_test</text>\n",
       "<text text-anchor=\"middle\" x=\"264\" y=\"-155\" font-family=\"Liberation Sans,Helvetica,Arial,sans-serif\" font-size=\"10.00\" fill=\"#002b36\">(1 values)</text>\n",
       "</g>\n",
       "<!-- v -->\n",
       "<g id=\"node2\" class=\"node\">\n",
       "<title>v</title>\n",
       "<path fill=\"none\" stroke=\"#268bd2\" stroke-width=\"1.5\" d=\"M210.5,-36C210.5,-36 140.5,-36 140.5,-36 134.5,-36 128.5,-30 128.5,-24 128.5,-24 128.5,-12 128.5,-12 128.5,-6 134.5,0 140.5,0 140.5,0 210.5,0 210.5,0 216.5,0 222.5,-6 222.5,-12 222.5,-12 222.5,-24 222.5,-24 222.5,-30 216.5,-36 210.5,-36\"/>\n",
       "<text text-anchor=\"start\" x=\"172\" y=\"-20.4\" font-family=\"Liberation Sans,Helvetica,Arial,sans-serif\" font-weight=\"bold\" font-size=\"12.00\" fill=\"#002b36\">v</text>\n",
       "<text text-anchor=\"start\" x=\"136.5\" y=\"-10\" font-family=\"Liberation Sans,Helvetica,Arial,sans-serif\" font-size=\"10.00\" fill=\"#268bd2\">1 values (1 sinks)</text>\n",
       "</g>\n",
       "<!-- random_seed -->\n",
       "<g id=\"node3\" class=\"node\">\n",
       "<title>random_seed</title>\n",
       "<path fill=\"none\" stroke=\"#268bd2\" stroke-width=\"1.5\" d=\"M314,-420C314,-420 233,-420 233,-420 227,-420 221,-414 221,-408 221,-408 221,-396 221,-396 221,-390 227,-384 233,-384 233,-384 314,-384 314,-384 320,-384 326,-390 326,-396 326,-396 326,-408 326,-408 326,-414 320,-420 314,-420\"/>\n",
       "<text text-anchor=\"start\" x=\"234\" y=\"-404.4\" font-family=\"Liberation Sans,Helvetica,Arial,sans-serif\" font-weight=\"bold\" font-size=\"12.00\" fill=\"#002b36\">random_seed</text>\n",
       "<text text-anchor=\"start\" x=\"229\" y=\"-394\" font-family=\"Liberation Sans,Helvetica,Arial,sans-serif\" font-size=\"10.00\" fill=\"#268bd2\">1 values (1 sources)</text>\n",
       "</g>\n",
       "<!-- generate_dataset -->\n",
       "<g id=\"node6\" class=\"node\">\n",
       "<title>generate_dataset</title>\n",
       "<path fill=\"none\" stroke=\"#dc322f\" stroke-width=\"1.5\" d=\"M319.5,-326C319.5,-326 227.5,-326 227.5,-326 221.5,-326 215.5,-320 215.5,-314 215.5,-314 215.5,-298 215.5,-298 215.5,-292 221.5,-286 227.5,-286 227.5,-286 319.5,-286 319.5,-286 325.5,-286 331.5,-292 331.5,-298 331.5,-298 331.5,-314 331.5,-314 331.5,-320 325.5,-326 319.5,-326\"/>\n",
       "<text text-anchor=\"start\" x=\"223.5\" y=\"-313.4\" font-family=\"Liberation Sans,Helvetica,Arial,sans-serif\" font-weight=\"bold\" font-size=\"12.00\" fill=\"#002b36\">generate_dataset</text>\n",
       "<text text-anchor=\"start\" x=\"223.5\" y=\"-303\" font-family=\"Liberation Sans,Helvetica,Arial,sans-serif\" font-size=\"10.00\" fill=\"#002b36\">@op:generate_dataset</text>\n",
       "<text text-anchor=\"start\" x=\"259\" y=\"-293\" font-family=\"Liberation Sans,Helvetica,Arial,sans-serif\" font-size=\"10.00\" fill=\"#dc322f\">1 calls</text>\n",
       "</g>\n",
       "<!-- random_seed&#45;&gt;generate_dataset -->\n",
       "<g id=\"edge6\" class=\"edge\">\n",
       "<title>random_seed&#45;&gt;generate_dataset</title>\n",
       "<path fill=\"none\" stroke=\"#002b36\" d=\"M273.5,-383.76C273.5,-370.5 273.5,-351.86 273.5,-336.27\"/>\n",
       "<polygon fill=\"#002b36\" stroke=\"#002b36\" points=\"277,-336.07 273.5,-326.07 270,-336.07 277,-336.07\"/>\n",
       "<text text-anchor=\"middle\" x=\"303\" y=\"-358\" font-family=\"Liberation Sans,Helvetica,Arial,sans-serif\" font-size=\"10.00\" fill=\"#002b36\">random_seed</text>\n",
       "<text text-anchor=\"middle\" x=\"303\" y=\"-347\" font-family=\"Liberation Sans,Helvetica,Arial,sans-serif\" font-size=\"10.00\" fill=\"#002b36\">(1 values)</text>\n",
       "</g>\n",
       "<!-- model -->\n",
       "<g id=\"node4\" class=\"node\">\n",
       "<title>model</title>\n",
       "<path fill=\"none\" stroke=\"#268bd2\" stroke-width=\"1.5\" d=\"M93,-228C93,-228 12,-228 12,-228 6,-228 0,-222 0,-216 0,-216 0,-204 0,-204 0,-198 6,-192 12,-192 12,-192 93,-192 93,-192 99,-192 105,-198 105,-204 105,-204 105,-216 105,-216 105,-222 99,-228 93,-228\"/>\n",
       "<text text-anchor=\"start\" x=\"34.5\" y=\"-212.4\" font-family=\"Liberation Sans,Helvetica,Arial,sans-serif\" font-weight=\"bold\" font-size=\"12.00\" fill=\"#002b36\">model</text>\n",
       "<text text-anchor=\"start\" x=\"8\" y=\"-202\" font-family=\"Liberation Sans,Helvetica,Arial,sans-serif\" font-size=\"10.00\" fill=\"#268bd2\">1 values (1 sources)</text>\n",
       "</g>\n",
       "<!-- model&#45;&gt;eval_model -->\n",
       "<g id=\"edge3\" class=\"edge\">\n",
       "<title>model&#45;&gt;eval_model</title>\n",
       "<path fill=\"none\" stroke=\"#002b36\" d=\"M74.77,-191.98C93.6,-177.59 120.84,-156.78 142.24,-140.42\"/>\n",
       "<polygon fill=\"#002b36\" stroke=\"#002b36\" points=\"144.61,-143.02 150.43,-134.16 140.36,-137.45 144.61,-143.02\"/>\n",
       "<text text-anchor=\"middle\" x=\"146\" y=\"-166\" font-family=\"Liberation Sans,Helvetica,Arial,sans-serif\" font-size=\"10.00\" fill=\"#002b36\">model</text>\n",
       "<text text-anchor=\"middle\" x=\"146\" y=\"-155\" font-family=\"Liberation Sans,Helvetica,Arial,sans-serif\" font-size=\"10.00\" fill=\"#002b36\">(1 values)</text>\n",
       "</g>\n",
       "<!-- y_test -->\n",
       "<g id=\"node5\" class=\"node\">\n",
       "<title>y_test</title>\n",
       "<path fill=\"none\" stroke=\"#268bd2\" stroke-width=\"1.5\" d=\"M216,-228C216,-228 135,-228 135,-228 129,-228 123,-222 123,-216 123,-216 123,-204 123,-204 123,-198 129,-192 135,-192 135,-192 216,-192 216,-192 222,-192 228,-198 228,-204 228,-204 228,-216 228,-216 228,-222 222,-228 216,-228\"/>\n",
       "<text text-anchor=\"start\" x=\"158\" y=\"-212.4\" font-family=\"Liberation Sans,Helvetica,Arial,sans-serif\" font-weight=\"bold\" font-size=\"12.00\" fill=\"#002b36\">y_test</text>\n",
       "<text text-anchor=\"start\" x=\"131\" y=\"-202\" font-family=\"Liberation Sans,Helvetica,Arial,sans-serif\" font-size=\"10.00\" fill=\"#268bd2\">1 values (1 sources)</text>\n",
       "</g>\n",
       "<!-- y_test&#45;&gt;eval_model -->\n",
       "<g id=\"edge4\" class=\"edge\">\n",
       "<title>y_test&#45;&gt;eval_model</title>\n",
       "<path fill=\"none\" stroke=\"#002b36\" d=\"M175.5,-191.76C175.5,-178.5 175.5,-159.86 175.5,-144.27\"/>\n",
       "<polygon fill=\"#002b36\" stroke=\"#002b36\" points=\"179,-144.07 175.5,-134.07 172,-144.07 179,-144.07\"/>\n",
       "<text text-anchor=\"middle\" x=\"197\" y=\"-166\" font-family=\"Liberation Sans,Helvetica,Arial,sans-serif\" font-size=\"10.00\" fill=\"#002b36\">y_test</text>\n",
       "<text text-anchor=\"middle\" x=\"197\" y=\"-155\" font-family=\"Liberation Sans,Helvetica,Arial,sans-serif\" font-size=\"10.00\" fill=\"#002b36\">(1 values)</text>\n",
       "</g>\n",
       "<!-- generate_dataset&#45;&gt;X_test -->\n",
       "<g id=\"edge5\" class=\"edge\">\n",
       "<title>generate_dataset&#45;&gt;X_test</title>\n",
       "<path fill=\"none\" stroke=\"#002b36\" d=\"M273.5,-285.98C273.5,-272.34 273.5,-253.75 273.5,-238.5\"/>\n",
       "<polygon fill=\"#002b36\" stroke=\"#002b36\" points=\"277,-238.1 273.5,-228.1 270,-238.1 277,-238.1\"/>\n",
       "<text text-anchor=\"middle\" x=\"295\" y=\"-260\" font-family=\"Liberation Sans,Helvetica,Arial,sans-serif\" font-size=\"10.00\" fill=\"#002b36\">output_1</text>\n",
       "<text text-anchor=\"middle\" x=\"295\" y=\"-249\" font-family=\"Liberation Sans,Helvetica,Arial,sans-serif\" font-size=\"10.00\" fill=\"#002b36\">(1 values)</text>\n",
       "</g>\n",
       "<!-- eval_model&#45;&gt;v -->\n",
       "<g id=\"edge1\" class=\"edge\">\n",
       "<title>eval_model&#45;&gt;v</title>\n",
       "<path fill=\"none\" stroke=\"#002b36\" d=\"M175.5,-93.98C175.5,-80.34 175.5,-61.75 175.5,-46.5\"/>\n",
       "<polygon fill=\"#002b36\" stroke=\"#002b36\" points=\"179,-46.1 175.5,-36.1 172,-46.1 179,-46.1\"/>\n",
       "<text text-anchor=\"middle\" x=\"197\" y=\"-68\" font-family=\"Liberation Sans,Helvetica,Arial,sans-serif\" font-size=\"10.00\" fill=\"#002b36\">output_0</text>\n",
       "<text text-anchor=\"middle\" x=\"197\" y=\"-57\" font-family=\"Liberation Sans,Helvetica,Arial,sans-serif\" font-size=\"10.00\" fill=\"#002b36\">(1 values)</text>\n",
       "</g>\n",
       "</g>\n",
       "</svg>\n"
      ],
      "text/plain": [
       "<graphviz.sources.Source at 0x704a0e2050c0>"
      ]
     },
     "metadata": {},
     "output_type": "display_data"
    }
   ],
   "source": [
    "cf = cf.expand_back('X_test')\n",
    "cf.draw(verbose=True)"
   ]
  },
  {
   "cell_type": "code",
   "execution_count": 16,
   "metadata": {
    "execution": {
     "iopub.execute_input": "2024-07-07T15:08:12.024006Z",
     "iopub.status.busy": "2024-07-07T15:08:12.023742Z",
     "iopub.status.idle": "2024-07-07T15:08:12.120603Z",
     "shell.execute_reply": "2024-07-07T15:08:12.119869Z"
    }
   },
   "outputs": [
    {
     "data": {
      "image/svg+xml": [
       "<?xml version=\"1.0\" encoding=\"UTF-8\" standalone=\"no\"?>\n",
       "<!DOCTYPE svg PUBLIC \"-//W3C//DTD SVG 1.1//EN\"\n",
       " \"http://www.w3.org/Graphics/SVG/1.1/DTD/svg11.dtd\">\n",
       "<!-- Generated by graphviz version 2.50.0 (0)\n",
       " -->\n",
       "<!-- Title: G Pages: 1 -->\n",
       "<svg width=\"488pt\" height=\"428pt\"\n",
       " viewBox=\"0.00 0.00 487.50 428.00\" xmlns=\"http://www.w3.org/2000/svg\" xmlns:xlink=\"http://www.w3.org/1999/xlink\">\n",
       "<g id=\"graph0\" class=\"graph\" transform=\"scale(1 1) rotate(0) translate(4 424)\">\n",
       "<title>G</title>\n",
       "<polygon fill=\"white\" stroke=\"transparent\" points=\"-4,4 -4,-424 483.5,-424 483.5,4 -4,4\"/>\n",
       "<!-- X_test -->\n",
       "<g id=\"node1\" class=\"node\">\n",
       "<title>X_test</title>\n",
       "<path fill=\"none\" stroke=\"#268bd2\" stroke-width=\"1.5\" d=\"M432.5,-228C432.5,-228 402.5,-228 402.5,-228 396.5,-228 390.5,-222 390.5,-216 390.5,-216 390.5,-204 390.5,-204 390.5,-198 396.5,-192 402.5,-192 402.5,-192 432.5,-192 432.5,-192 438.5,-192 444.5,-198 444.5,-204 444.5,-204 444.5,-216 444.5,-216 444.5,-222 438.5,-228 432.5,-228\"/>\n",
       "<text text-anchor=\"start\" x=\"399\" y=\"-212.4\" font-family=\"Liberation Sans,Helvetica,Arial,sans-serif\" font-weight=\"bold\" font-size=\"12.00\" fill=\"#002b36\">X_test</text>\n",
       "<text text-anchor=\"start\" x=\"399\" y=\"-202\" font-family=\"Liberation Sans,Helvetica,Arial,sans-serif\" font-size=\"10.00\" fill=\"#268bd2\">1 values</text>\n",
       "</g>\n",
       "<!-- eval_model -->\n",
       "<g id=\"node10\" class=\"node\">\n",
       "<title>eval_model</title>\n",
       "<path fill=\"none\" stroke=\"#dc322f\" stroke-width=\"1.5\" d=\"M351.5,-134C351.5,-134 285.5,-134 285.5,-134 279.5,-134 273.5,-128 273.5,-122 273.5,-122 273.5,-106 273.5,-106 273.5,-100 279.5,-94 285.5,-94 285.5,-94 351.5,-94 351.5,-94 357.5,-94 363.5,-100 363.5,-106 363.5,-106 363.5,-122 363.5,-122 363.5,-128 357.5,-134 351.5,-134\"/>\n",
       "<text text-anchor=\"start\" x=\"285.5\" y=\"-121.4\" font-family=\"Liberation Sans,Helvetica,Arial,sans-serif\" font-weight=\"bold\" font-size=\"12.00\" fill=\"#002b36\">eval_model</text>\n",
       "<text text-anchor=\"start\" x=\"281.5\" y=\"-111\" font-family=\"Liberation Sans,Helvetica,Arial,sans-serif\" font-size=\"10.00\" fill=\"#002b36\">@op:eval_model</text>\n",
       "<text text-anchor=\"start\" x=\"304\" y=\"-101\" font-family=\"Liberation Sans,Helvetica,Arial,sans-serif\" font-size=\"10.00\" fill=\"#dc322f\">1 calls</text>\n",
       "</g>\n",
       "<!-- X_test&#45;&gt;eval_model -->\n",
       "<g id=\"edge2\" class=\"edge\">\n",
       "<title>X_test&#45;&gt;eval_model</title>\n",
       "<path fill=\"none\" stroke=\"#002b36\" d=\"M403.17,-191.86C393.09,-180.17 379.04,-164.59 365.5,-152 361.41,-148.2 356.97,-144.36 352.5,-140.67\"/>\n",
       "<polygon fill=\"#002b36\" stroke=\"#002b36\" points=\"354.48,-137.78 344.5,-134.23 350.09,-143.23 354.48,-137.78\"/>\n",
       "<text text-anchor=\"middle\" x=\"407\" y=\"-166\" font-family=\"Liberation Sans,Helvetica,Arial,sans-serif\" font-size=\"10.00\" fill=\"#002b36\">X_test</text>\n",
       "<text text-anchor=\"middle\" x=\"407\" y=\"-155\" font-family=\"Liberation Sans,Helvetica,Arial,sans-serif\" font-size=\"10.00\" fill=\"#002b36\">(1 values)</text>\n",
       "</g>\n",
       "<!-- v -->\n",
       "<g id=\"node2\" class=\"node\">\n",
       "<title>v</title>\n",
       "<path fill=\"none\" stroke=\"#268bd2\" stroke-width=\"1.5\" d=\"M353.5,-36C353.5,-36 283.5,-36 283.5,-36 277.5,-36 271.5,-30 271.5,-24 271.5,-24 271.5,-12 271.5,-12 271.5,-6 277.5,0 283.5,0 283.5,0 353.5,0 353.5,0 359.5,0 365.5,-6 365.5,-12 365.5,-12 365.5,-24 365.5,-24 365.5,-30 359.5,-36 353.5,-36\"/>\n",
       "<text text-anchor=\"start\" x=\"315\" y=\"-20.4\" font-family=\"Liberation Sans,Helvetica,Arial,sans-serif\" font-weight=\"bold\" font-size=\"12.00\" fill=\"#002b36\">v</text>\n",
       "<text text-anchor=\"start\" x=\"279.5\" y=\"-10\" font-family=\"Liberation Sans,Helvetica,Arial,sans-serif\" font-size=\"10.00\" fill=\"#268bd2\">1 values (1 sinks)</text>\n",
       "</g>\n",
       "<!-- y_train -->\n",
       "<g id=\"node3\" class=\"node\">\n",
       "<title>y_train</title>\n",
       "<path fill=\"none\" stroke=\"#268bd2\" stroke-width=\"1.5\" d=\"M93,-420C93,-420 12,-420 12,-420 6,-420 0,-414 0,-408 0,-408 0,-396 0,-396 0,-390 6,-384 12,-384 12,-384 93,-384 93,-384 99,-384 105,-390 105,-396 105,-396 105,-408 105,-408 105,-414 99,-420 93,-420\"/>\n",
       "<text text-anchor=\"start\" x=\"32.5\" y=\"-404.4\" font-family=\"Liberation Sans,Helvetica,Arial,sans-serif\" font-weight=\"bold\" font-size=\"12.00\" fill=\"#002b36\">y_train</text>\n",
       "<text text-anchor=\"start\" x=\"8\" y=\"-394\" font-family=\"Liberation Sans,Helvetica,Arial,sans-serif\" font-size=\"10.00\" fill=\"#268bd2\">1 values (1 sources)</text>\n",
       "</g>\n",
       "<!-- train_model -->\n",
       "<g id=\"node11\" class=\"node\">\n",
       "<title>train_model</title>\n",
       "<path fill=\"none\" stroke=\"#dc322f\" stroke-width=\"1.5\" d=\"M215,-326C215,-326 148,-326 148,-326 142,-326 136,-320 136,-314 136,-314 136,-298 136,-298 136,-292 142,-286 148,-286 148,-286 215,-286 215,-286 221,-286 227,-292 227,-298 227,-298 227,-314 227,-314 227,-320 221,-326 215,-326\"/>\n",
       "<text text-anchor=\"start\" x=\"147.5\" y=\"-313.4\" font-family=\"Liberation Sans,Helvetica,Arial,sans-serif\" font-weight=\"bold\" font-size=\"12.00\" fill=\"#002b36\">train_model</text>\n",
       "<text text-anchor=\"start\" x=\"144\" y=\"-303\" font-family=\"Liberation Sans,Helvetica,Arial,sans-serif\" font-size=\"10.00\" fill=\"#002b36\">@op:train_model</text>\n",
       "<text text-anchor=\"start\" x=\"167\" y=\"-293\" font-family=\"Liberation Sans,Helvetica,Arial,sans-serif\" font-size=\"10.00\" fill=\"#dc322f\">1 calls</text>\n",
       "</g>\n",
       "<!-- y_train&#45;&gt;train_model -->\n",
       "<g id=\"edge10\" class=\"edge\">\n",
       "<title>y_train&#45;&gt;train_model</title>\n",
       "<path fill=\"none\" stroke=\"#002b36\" d=\"M75.86,-383.98C95.69,-369.53 124.42,-348.59 146.92,-332.2\"/>\n",
       "<polygon fill=\"#002b36\" stroke=\"#002b36\" points=\"149.18,-334.88 155.2,-326.16 145.06,-329.22 149.18,-334.88\"/>\n",
       "<text text-anchor=\"middle\" x=\"151\" y=\"-358\" font-family=\"Liberation Sans,Helvetica,Arial,sans-serif\" font-size=\"10.00\" fill=\"#002b36\">y_train</text>\n",
       "<text text-anchor=\"middle\" x=\"151\" y=\"-347\" font-family=\"Liberation Sans,Helvetica,Arial,sans-serif\" font-size=\"10.00\" fill=\"#002b36\">(1 values)</text>\n",
       "</g>\n",
       "<!-- random_seed -->\n",
       "<g id=\"node4\" class=\"node\">\n",
       "<title>random_seed</title>\n",
       "<path fill=\"none\" stroke=\"#268bd2\" stroke-width=\"1.5\" d=\"M462,-420C462,-420 381,-420 381,-420 375,-420 369,-414 369,-408 369,-408 369,-396 369,-396 369,-390 375,-384 381,-384 381,-384 462,-384 462,-384 468,-384 474,-390 474,-396 474,-396 474,-408 474,-408 474,-414 468,-420 462,-420\"/>\n",
       "<text text-anchor=\"start\" x=\"382\" y=\"-404.4\" font-family=\"Liberation Sans,Helvetica,Arial,sans-serif\" font-weight=\"bold\" font-size=\"12.00\" fill=\"#002b36\">random_seed</text>\n",
       "<text text-anchor=\"start\" x=\"377\" y=\"-394\" font-family=\"Liberation Sans,Helvetica,Arial,sans-serif\" font-size=\"10.00\" fill=\"#268bd2\">1 values (1 sources)</text>\n",
       "</g>\n",
       "<!-- generate_dataset -->\n",
       "<g id=\"node9\" class=\"node\">\n",
       "<title>generate_dataset</title>\n",
       "<path fill=\"none\" stroke=\"#dc322f\" stroke-width=\"1.5\" d=\"M466.5,-326C466.5,-326 374.5,-326 374.5,-326 368.5,-326 362.5,-320 362.5,-314 362.5,-314 362.5,-298 362.5,-298 362.5,-292 368.5,-286 374.5,-286 374.5,-286 466.5,-286 466.5,-286 472.5,-286 478.5,-292 478.5,-298 478.5,-298 478.5,-314 478.5,-314 478.5,-320 472.5,-326 466.5,-326\"/>\n",
       "<text text-anchor=\"start\" x=\"370.5\" y=\"-313.4\" font-family=\"Liberation Sans,Helvetica,Arial,sans-serif\" font-weight=\"bold\" font-size=\"12.00\" fill=\"#002b36\">generate_dataset</text>\n",
       "<text text-anchor=\"start\" x=\"370.5\" y=\"-303\" font-family=\"Liberation Sans,Helvetica,Arial,sans-serif\" font-size=\"10.00\" fill=\"#002b36\">@op:generate_dataset</text>\n",
       "<text text-anchor=\"start\" x=\"406\" y=\"-293\" font-family=\"Liberation Sans,Helvetica,Arial,sans-serif\" font-size=\"10.00\" fill=\"#dc322f\">1 calls</text>\n",
       "</g>\n",
       "<!-- random_seed&#45;&gt;generate_dataset -->\n",
       "<g id=\"edge6\" class=\"edge\">\n",
       "<title>random_seed&#45;&gt;generate_dataset</title>\n",
       "<path fill=\"none\" stroke=\"#002b36\" d=\"M421.32,-383.76C421.18,-370.5 420.98,-351.86 420.81,-336.27\"/>\n",
       "<polygon fill=\"#002b36\" stroke=\"#002b36\" points=\"424.31,-336.03 420.7,-326.07 417.31,-336.11 424.31,-336.03\"/>\n",
       "<text text-anchor=\"middle\" x=\"450\" y=\"-358\" font-family=\"Liberation Sans,Helvetica,Arial,sans-serif\" font-size=\"10.00\" fill=\"#002b36\">random_seed</text>\n",
       "<text text-anchor=\"middle\" x=\"450\" y=\"-347\" font-family=\"Liberation Sans,Helvetica,Arial,sans-serif\" font-size=\"10.00\" fill=\"#002b36\">(1 values)</text>\n",
       "</g>\n",
       "<!-- X_train -->\n",
       "<g id=\"node5\" class=\"node\">\n",
       "<title>X_train</title>\n",
       "<path fill=\"none\" stroke=\"#268bd2\" stroke-width=\"1.5\" d=\"M216,-420C216,-420 135,-420 135,-420 129,-420 123,-414 123,-408 123,-408 123,-396 123,-396 123,-390 129,-384 135,-384 135,-384 216,-384 216,-384 222,-384 228,-390 228,-396 228,-396 228,-408 228,-408 228,-414 222,-420 216,-420\"/>\n",
       "<text text-anchor=\"start\" x=\"155\" y=\"-404.4\" font-family=\"Liberation Sans,Helvetica,Arial,sans-serif\" font-weight=\"bold\" font-size=\"12.00\" fill=\"#002b36\">X_train</text>\n",
       "<text text-anchor=\"start\" x=\"131\" y=\"-394\" font-family=\"Liberation Sans,Helvetica,Arial,sans-serif\" font-size=\"10.00\" fill=\"#268bd2\">1 values (1 sources)</text>\n",
       "</g>\n",
       "<!-- X_train&#45;&gt;train_model -->\n",
       "<g id=\"edge8\" class=\"edge\">\n",
       "<title>X_train&#45;&gt;train_model</title>\n",
       "<path fill=\"none\" stroke=\"#002b36\" d=\"M176.6,-383.76C177.45,-370.5 178.64,-351.86 179.63,-336.27\"/>\n",
       "<polygon fill=\"#002b36\" stroke=\"#002b36\" points=\"183.14,-336.27 180.28,-326.07 176.15,-335.83 183.14,-336.27\"/>\n",
       "<text text-anchor=\"middle\" x=\"201\" y=\"-358\" font-family=\"Liberation Sans,Helvetica,Arial,sans-serif\" font-size=\"10.00\" fill=\"#002b36\">X_train</text>\n",
       "<text text-anchor=\"middle\" x=\"201\" y=\"-347\" font-family=\"Liberation Sans,Helvetica,Arial,sans-serif\" font-size=\"10.00\" fill=\"#002b36\">(1 values)</text>\n",
       "</g>\n",
       "<!-- n_estimators -->\n",
       "<g id=\"node6\" class=\"node\">\n",
       "<title>n_estimators</title>\n",
       "<path fill=\"none\" stroke=\"#268bd2\" stroke-width=\"1.5\" d=\"M339,-420C339,-420 258,-420 258,-420 252,-420 246,-414 246,-408 246,-408 246,-396 246,-396 246,-390 252,-384 258,-384 258,-384 339,-384 339,-384 345,-384 351,-390 351,-396 351,-396 351,-408 351,-408 351,-414 345,-420 339,-420\"/>\n",
       "<text text-anchor=\"start\" x=\"261\" y=\"-404.4\" font-family=\"Liberation Sans,Helvetica,Arial,sans-serif\" font-weight=\"bold\" font-size=\"12.00\" fill=\"#002b36\">n_estimators</text>\n",
       "<text text-anchor=\"start\" x=\"254\" y=\"-394\" font-family=\"Liberation Sans,Helvetica,Arial,sans-serif\" font-size=\"10.00\" fill=\"#268bd2\">1 values (1 sources)</text>\n",
       "</g>\n",
       "<!-- n_estimators&#45;&gt;train_model -->\n",
       "<g id=\"edge9\" class=\"edge\">\n",
       "<title>n_estimators&#45;&gt;train_model</title>\n",
       "<path fill=\"none\" stroke=\"#002b36\" d=\"M277.31,-383.98C259.49,-369.66 233.73,-348.96 213.41,-332.63\"/>\n",
       "<polygon fill=\"#002b36\" stroke=\"#002b36\" points=\"215.34,-329.7 205.35,-326.16 210.95,-335.15 215.34,-329.7\"/>\n",
       "<text text-anchor=\"middle\" x=\"283\" y=\"-358\" font-family=\"Liberation Sans,Helvetica,Arial,sans-serif\" font-size=\"10.00\" fill=\"#002b36\">n_estimators</text>\n",
       "<text text-anchor=\"middle\" x=\"283\" y=\"-347\" font-family=\"Liberation Sans,Helvetica,Arial,sans-serif\" font-size=\"10.00\" fill=\"#002b36\">(1 values)</text>\n",
       "</g>\n",
       "<!-- model -->\n",
       "<g id=\"node7\" class=\"node\">\n",
       "<title>model</title>\n",
       "<path fill=\"none\" stroke=\"#268bd2\" stroke-width=\"1.5\" d=\"M233.5,-228C233.5,-228 203.5,-228 203.5,-228 197.5,-228 191.5,-222 191.5,-216 191.5,-216 191.5,-204 191.5,-204 191.5,-198 197.5,-192 203.5,-192 203.5,-192 233.5,-192 233.5,-192 239.5,-192 245.5,-198 245.5,-204 245.5,-204 245.5,-216 245.5,-216 245.5,-222 239.5,-228 233.5,-228\"/>\n",
       "<text text-anchor=\"start\" x=\"200.5\" y=\"-212.4\" font-family=\"Liberation Sans,Helvetica,Arial,sans-serif\" font-weight=\"bold\" font-size=\"12.00\" fill=\"#002b36\">model</text>\n",
       "<text text-anchor=\"start\" x=\"200\" y=\"-202\" font-family=\"Liberation Sans,Helvetica,Arial,sans-serif\" font-size=\"10.00\" fill=\"#268bd2\">1 values</text>\n",
       "</g>\n",
       "<!-- model&#45;&gt;eval_model -->\n",
       "<g id=\"edge3\" class=\"edge\">\n",
       "<title>model&#45;&gt;eval_model</title>\n",
       "<path fill=\"none\" stroke=\"#002b36\" d=\"M233.16,-191.89C243.45,-180.21 257.78,-164.63 271.5,-152 275.61,-148.22 280.06,-144.39 284.53,-140.71\"/>\n",
       "<polygon fill=\"#002b36\" stroke=\"#002b36\" points=\"286.94,-143.27 292.54,-134.27 282.55,-137.81 286.94,-143.27\"/>\n",
       "<text text-anchor=\"middle\" x=\"293\" y=\"-166\" font-family=\"Liberation Sans,Helvetica,Arial,sans-serif\" font-size=\"10.00\" fill=\"#002b36\">model</text>\n",
       "<text text-anchor=\"middle\" x=\"293\" y=\"-155\" font-family=\"Liberation Sans,Helvetica,Arial,sans-serif\" font-size=\"10.00\" fill=\"#002b36\">(1 values)</text>\n",
       "</g>\n",
       "<!-- y_test -->\n",
       "<g id=\"node8\" class=\"node\">\n",
       "<title>y_test</title>\n",
       "<path fill=\"none\" stroke=\"#268bd2\" stroke-width=\"1.5\" d=\"M359,-228C359,-228 278,-228 278,-228 272,-228 266,-222 266,-216 266,-216 266,-204 266,-204 266,-198 272,-192 278,-192 278,-192 359,-192 359,-192 365,-192 371,-198 371,-204 371,-204 371,-216 371,-216 371,-222 365,-228 359,-228\"/>\n",
       "<text text-anchor=\"start\" x=\"301\" y=\"-212.4\" font-family=\"Liberation Sans,Helvetica,Arial,sans-serif\" font-weight=\"bold\" font-size=\"12.00\" fill=\"#002b36\">y_test</text>\n",
       "<text text-anchor=\"start\" x=\"274\" y=\"-202\" font-family=\"Liberation Sans,Helvetica,Arial,sans-serif\" font-size=\"10.00\" fill=\"#268bd2\">1 values (1 sources)</text>\n",
       "</g>\n",
       "<!-- y_test&#45;&gt;eval_model -->\n",
       "<g id=\"edge4\" class=\"edge\">\n",
       "<title>y_test&#45;&gt;eval_model</title>\n",
       "<path fill=\"none\" stroke=\"#002b36\" d=\"M318.5,-191.76C318.5,-178.5 318.5,-159.86 318.5,-144.27\"/>\n",
       "<polygon fill=\"#002b36\" stroke=\"#002b36\" points=\"322,-144.07 318.5,-134.07 315,-144.07 322,-144.07\"/>\n",
       "<text text-anchor=\"middle\" x=\"340\" y=\"-166\" font-family=\"Liberation Sans,Helvetica,Arial,sans-serif\" font-size=\"10.00\" fill=\"#002b36\">y_test</text>\n",
       "<text text-anchor=\"middle\" x=\"340\" y=\"-155\" font-family=\"Liberation Sans,Helvetica,Arial,sans-serif\" font-size=\"10.00\" fill=\"#002b36\">(1 values)</text>\n",
       "</g>\n",
       "<!-- generate_dataset&#45;&gt;X_test -->\n",
       "<g id=\"edge5\" class=\"edge\">\n",
       "<title>generate_dataset&#45;&gt;X_test</title>\n",
       "<path fill=\"none\" stroke=\"#002b36\" d=\"M419.89,-285.98C419.46,-272.34 418.86,-253.75 418.38,-238.5\"/>\n",
       "<polygon fill=\"#002b36\" stroke=\"#002b36\" points=\"421.86,-237.98 418.05,-228.1 414.87,-238.2 421.86,-237.98\"/>\n",
       "<text text-anchor=\"middle\" x=\"440\" y=\"-260\" font-family=\"Liberation Sans,Helvetica,Arial,sans-serif\" font-size=\"10.00\" fill=\"#002b36\">output_1</text>\n",
       "<text text-anchor=\"middle\" x=\"440\" y=\"-249\" font-family=\"Liberation Sans,Helvetica,Arial,sans-serif\" font-size=\"10.00\" fill=\"#002b36\">(1 values)</text>\n",
       "</g>\n",
       "<!-- eval_model&#45;&gt;v -->\n",
       "<g id=\"edge1\" class=\"edge\">\n",
       "<title>eval_model&#45;&gt;v</title>\n",
       "<path fill=\"none\" stroke=\"#002b36\" d=\"M318.5,-93.98C318.5,-80.34 318.5,-61.75 318.5,-46.5\"/>\n",
       "<polygon fill=\"#002b36\" stroke=\"#002b36\" points=\"322,-46.1 318.5,-36.1 315,-46.1 322,-46.1\"/>\n",
       "<text text-anchor=\"middle\" x=\"340\" y=\"-68\" font-family=\"Liberation Sans,Helvetica,Arial,sans-serif\" font-size=\"10.00\" fill=\"#002b36\">output_0</text>\n",
       "<text text-anchor=\"middle\" x=\"340\" y=\"-57\" font-family=\"Liberation Sans,Helvetica,Arial,sans-serif\" font-size=\"10.00\" fill=\"#002b36\">(1 values)</text>\n",
       "</g>\n",
       "<!-- train_model&#45;&gt;model -->\n",
       "<g id=\"edge7\" class=\"edge\">\n",
       "<title>train_model&#45;&gt;model</title>\n",
       "<path fill=\"none\" stroke=\"#002b36\" d=\"M188.99,-285.98C194.46,-272.07 201.96,-253.03 208.02,-237.61\"/>\n",
       "<polygon fill=\"#002b36\" stroke=\"#002b36\" points=\"211.36,-238.68 211.77,-228.1 204.85,-236.12 211.36,-238.68\"/>\n",
       "<text text-anchor=\"middle\" x=\"226\" y=\"-260\" font-family=\"Liberation Sans,Helvetica,Arial,sans-serif\" font-size=\"10.00\" fill=\"#002b36\">output_0</text>\n",
       "<text text-anchor=\"middle\" x=\"226\" y=\"-249\" font-family=\"Liberation Sans,Helvetica,Arial,sans-serif\" font-size=\"10.00\" fill=\"#002b36\">(1 values)</text>\n",
       "</g>\n",
       "</g>\n",
       "</svg>\n"
      ],
      "text/plain": [
       "<graphviz.sources.Source at 0x704a0e3de290>"
      ]
     },
     "metadata": {},
     "output_type": "display_data"
    }
   ],
   "source": [
    "cf = cf.expand_back('model')\n",
    "cf.draw(verbose=True)"
   ]
  },
  {
   "cell_type": "code",
   "execution_count": 17,
   "metadata": {
    "execution": {
     "iopub.execute_input": "2024-07-07T15:08:12.123635Z",
     "iopub.status.busy": "2024-07-07T15:08:12.123337Z",
     "iopub.status.idle": "2024-07-07T15:08:12.211224Z",
     "shell.execute_reply": "2024-07-07T15:08:12.210529Z"
    }
   },
   "outputs": [
    {
     "data": {
      "image/svg+xml": [
       "<?xml version=\"1.0\" encoding=\"UTF-8\" standalone=\"no\"?>\n",
       "<!DOCTYPE svg PUBLIC \"-//W3C//DTD SVG 1.1//EN\"\n",
       " \"http://www.w3.org/Graphics/SVG/1.1/DTD/svg11.dtd\">\n",
       "<!-- Generated by graphviz version 2.50.0 (0)\n",
       " -->\n",
       "<!-- Title: G Pages: 1 -->\n",
       "<svg width=\"369pt\" height=\"634pt\"\n",
       " viewBox=\"0.00 0.00 368.50 634.00\" xmlns=\"http://www.w3.org/2000/svg\" xmlns:xlink=\"http://www.w3.org/1999/xlink\">\n",
       "<g id=\"graph0\" class=\"graph\" transform=\"scale(1 1) rotate(0) translate(4 630)\">\n",
       "<title>G</title>\n",
       "<polygon fill=\"white\" stroke=\"transparent\" points=\"-4,4 -4,-630 364.5,-630 364.5,4 -4,4\"/>\n",
       "<!-- X_test -->\n",
       "<g id=\"node1\" class=\"node\">\n",
       "<title>X_test</title>\n",
       "<path fill=\"none\" stroke=\"#268bd2\" stroke-width=\"1.5\" d=\"M57,-380C57,-380 27,-380 27,-380 21,-380 15,-374 15,-368 15,-368 15,-356 15,-356 15,-350 21,-344 27,-344 27,-344 57,-344 57,-344 63,-344 69,-350 69,-356 69,-356 69,-368 69,-368 69,-374 63,-380 57,-380\"/>\n",
       "<text text-anchor=\"start\" x=\"23.5\" y=\"-364.4\" font-family=\"Liberation Sans,Helvetica,Arial,sans-serif\" font-weight=\"bold\" font-size=\"12.00\" fill=\"#002b36\">X_test</text>\n",
       "<text text-anchor=\"start\" x=\"23.5\" y=\"-354\" font-family=\"Liberation Sans,Helvetica,Arial,sans-serif\" font-size=\"10.00\" fill=\"#268bd2\">1 values</text>\n",
       "</g>\n",
       "<!-- eval_model -->\n",
       "<g id=\"node10\" class=\"node\">\n",
       "<title>eval_model</title>\n",
       "<path fill=\"none\" stroke=\"#dc322f\" stroke-width=\"1.5\" d=\"M179,-134C179,-134 113,-134 113,-134 107,-134 101,-128 101,-122 101,-122 101,-106 101,-106 101,-100 107,-94 113,-94 113,-94 179,-94 179,-94 185,-94 191,-100 191,-106 191,-106 191,-122 191,-122 191,-128 185,-134 179,-134\"/>\n",
       "<text text-anchor=\"start\" x=\"113\" y=\"-121.4\" font-family=\"Liberation Sans,Helvetica,Arial,sans-serif\" font-weight=\"bold\" font-size=\"12.00\" fill=\"#002b36\">eval_model</text>\n",
       "<text text-anchor=\"start\" x=\"109\" y=\"-111\" font-family=\"Liberation Sans,Helvetica,Arial,sans-serif\" font-size=\"10.00\" fill=\"#002b36\">@op:eval_model</text>\n",
       "<text text-anchor=\"start\" x=\"131.5\" y=\"-101\" font-family=\"Liberation Sans,Helvetica,Arial,sans-serif\" font-size=\"10.00\" fill=\"#dc322f\">1 calls</text>\n",
       "</g>\n",
       "<!-- X_test&#45;&gt;eval_model -->\n",
       "<g id=\"edge2\" class=\"edge\">\n",
       "<title>X_test&#45;&gt;eval_model</title>\n",
       "<path fill=\"none\" stroke=\"#002b36\" d=\"M48.64,-343.6C60.47,-312.81 86.18,-246.82 110,-192 117.02,-175.84 125.33,-157.99 132.19,-143.56\"/>\n",
       "<polygon fill=\"#002b36\" stroke=\"#002b36\" points=\"135.53,-144.7 136.68,-134.17 129.21,-141.68 135.53,-144.7\"/>\n",
       "<text text-anchor=\"middle\" x=\"109.5\" y=\"-260\" font-family=\"Liberation Sans,Helvetica,Arial,sans-serif\" font-size=\"10.00\" fill=\"#002b36\">X_test</text>\n",
       "<text text-anchor=\"middle\" x=\"109.5\" y=\"-249\" font-family=\"Liberation Sans,Helvetica,Arial,sans-serif\" font-size=\"10.00\" fill=\"#002b36\">(1 values)</text>\n",
       "</g>\n",
       "<!-- v -->\n",
       "<g id=\"node2\" class=\"node\">\n",
       "<title>v</title>\n",
       "<path fill=\"none\" stroke=\"#268bd2\" stroke-width=\"1.5\" d=\"M181,-36C181,-36 111,-36 111,-36 105,-36 99,-30 99,-24 99,-24 99,-12 99,-12 99,-6 105,0 111,0 111,0 181,0 181,0 187,0 193,-6 193,-12 193,-12 193,-24 193,-24 193,-30 187,-36 181,-36\"/>\n",
       "<text text-anchor=\"start\" x=\"142.5\" y=\"-20.4\" font-family=\"Liberation Sans,Helvetica,Arial,sans-serif\" font-weight=\"bold\" font-size=\"12.00\" fill=\"#002b36\">v</text>\n",
       "<text text-anchor=\"start\" x=\"107\" y=\"-10\" font-family=\"Liberation Sans,Helvetica,Arial,sans-serif\" font-size=\"10.00\" fill=\"#268bd2\">1 values (1 sinks)</text>\n",
       "</g>\n",
       "<!-- y_train -->\n",
       "<g id=\"node3\" class=\"node\">\n",
       "<title>y_train</title>\n",
       "<path fill=\"none\" stroke=\"#268bd2\" stroke-width=\"1.5\" d=\"M348.5,-434C348.5,-434 267.5,-434 267.5,-434 261.5,-434 255.5,-428 255.5,-422 255.5,-422 255.5,-410 255.5,-410 255.5,-404 261.5,-398 267.5,-398 267.5,-398 348.5,-398 348.5,-398 354.5,-398 360.5,-404 360.5,-410 360.5,-410 360.5,-422 360.5,-422 360.5,-428 354.5,-434 348.5,-434\"/>\n",
       "<text text-anchor=\"start\" x=\"288\" y=\"-418.4\" font-family=\"Liberation Sans,Helvetica,Arial,sans-serif\" font-weight=\"bold\" font-size=\"12.00\" fill=\"#002b36\">y_train</text>\n",
       "<text text-anchor=\"start\" x=\"263.5\" y=\"-408\" font-family=\"Liberation Sans,Helvetica,Arial,sans-serif\" font-size=\"10.00\" fill=\"#268bd2\">1 values (1 sources)</text>\n",
       "</g>\n",
       "<!-- train_model -->\n",
       "<g id=\"node11\" class=\"node\">\n",
       "<title>train_model</title>\n",
       "<path fill=\"none\" stroke=\"#dc322f\" stroke-width=\"1.5\" d=\"M207.5,-326C207.5,-326 140.5,-326 140.5,-326 134.5,-326 128.5,-320 128.5,-314 128.5,-314 128.5,-298 128.5,-298 128.5,-292 134.5,-286 140.5,-286 140.5,-286 207.5,-286 207.5,-286 213.5,-286 219.5,-292 219.5,-298 219.5,-298 219.5,-314 219.5,-314 219.5,-320 213.5,-326 207.5,-326\"/>\n",
       "<text text-anchor=\"start\" x=\"140\" y=\"-313.4\" font-family=\"Liberation Sans,Helvetica,Arial,sans-serif\" font-weight=\"bold\" font-size=\"12.00\" fill=\"#002b36\">train_model</text>\n",
       "<text text-anchor=\"start\" x=\"136.5\" y=\"-303\" font-family=\"Liberation Sans,Helvetica,Arial,sans-serif\" font-size=\"10.00\" fill=\"#002b36\">@op:train_model</text>\n",
       "<text text-anchor=\"start\" x=\"159.5\" y=\"-293\" font-family=\"Liberation Sans,Helvetica,Arial,sans-serif\" font-size=\"10.00\" fill=\"#dc322f\">1 calls</text>\n",
       "</g>\n",
       "<!-- y_train&#45;&gt;train_model -->\n",
       "<g id=\"edge11\" class=\"edge\">\n",
       "<title>y_train&#45;&gt;train_model</title>\n",
       "<path fill=\"none\" stroke=\"#002b36\" d=\"M294.67,-397.74C282.2,-382.36 262.47,-359.89 242,-344 236.16,-339.47 229.69,-335.17 223.13,-331.23\"/>\n",
       "<polygon fill=\"#002b36\" stroke=\"#002b36\" points=\"224.6,-328.03 214.19,-326.07 221.1,-334.1 224.6,-328.03\"/>\n",
       "<text text-anchor=\"middle\" x=\"299.5\" y=\"-365\" font-family=\"Liberation Sans,Helvetica,Arial,sans-serif\" font-size=\"10.00\" fill=\"#002b36\">y_train</text>\n",
       "<text text-anchor=\"middle\" x=\"299.5\" y=\"-354\" font-family=\"Liberation Sans,Helvetica,Arial,sans-serif\" font-size=\"10.00\" fill=\"#002b36\">(1 values)</text>\n",
       "</g>\n",
       "<!-- random_seed -->\n",
       "<g id=\"node4\" class=\"node\">\n",
       "<title>random_seed</title>\n",
       "<path fill=\"none\" stroke=\"#268bd2\" stroke-width=\"1.5\" d=\"M98.5,-626C98.5,-626 17.5,-626 17.5,-626 11.5,-626 5.5,-620 5.5,-614 5.5,-614 5.5,-602 5.5,-602 5.5,-596 11.5,-590 17.5,-590 17.5,-590 98.5,-590 98.5,-590 104.5,-590 110.5,-596 110.5,-602 110.5,-602 110.5,-614 110.5,-614 110.5,-620 104.5,-626 98.5,-626\"/>\n",
       "<text text-anchor=\"start\" x=\"18.5\" y=\"-610.4\" font-family=\"Liberation Sans,Helvetica,Arial,sans-serif\" font-weight=\"bold\" font-size=\"12.00\" fill=\"#002b36\">random_seed</text>\n",
       "<text text-anchor=\"start\" x=\"13.5\" y=\"-600\" font-family=\"Liberation Sans,Helvetica,Arial,sans-serif\" font-size=\"10.00\" fill=\"#268bd2\">1 values (1 sources)</text>\n",
       "</g>\n",
       "<!-- generate_dataset -->\n",
       "<g id=\"node9\" class=\"node\">\n",
       "<title>generate_dataset</title>\n",
       "<path fill=\"none\" stroke=\"#dc322f\" stroke-width=\"1.5\" d=\"M104,-532C104,-532 12,-532 12,-532 6,-532 0,-526 0,-520 0,-520 0,-504 0,-504 0,-498 6,-492 12,-492 12,-492 104,-492 104,-492 110,-492 116,-498 116,-504 116,-504 116,-520 116,-520 116,-526 110,-532 104,-532\"/>\n",
       "<text text-anchor=\"start\" x=\"8\" y=\"-519.4\" font-family=\"Liberation Sans,Helvetica,Arial,sans-serif\" font-weight=\"bold\" font-size=\"12.00\" fill=\"#002b36\">generate_dataset</text>\n",
       "<text text-anchor=\"start\" x=\"8\" y=\"-509\" font-family=\"Liberation Sans,Helvetica,Arial,sans-serif\" font-size=\"10.00\" fill=\"#002b36\">@op:generate_dataset</text>\n",
       "<text text-anchor=\"start\" x=\"43.5\" y=\"-499\" font-family=\"Liberation Sans,Helvetica,Arial,sans-serif\" font-size=\"10.00\" fill=\"#dc322f\">1 calls</text>\n",
       "</g>\n",
       "<!-- random_seed&#45;&gt;generate_dataset -->\n",
       "<g id=\"edge7\" class=\"edge\">\n",
       "<title>random_seed&#45;&gt;generate_dataset</title>\n",
       "<path fill=\"none\" stroke=\"#002b36\" d=\"M58,-589.76C58,-576.5 58,-557.86 58,-542.27\"/>\n",
       "<polygon fill=\"#002b36\" stroke=\"#002b36\" points=\"61.5,-542.07 58,-532.07 54.5,-542.07 61.5,-542.07\"/>\n",
       "<text text-anchor=\"middle\" x=\"87.5\" y=\"-564\" font-family=\"Liberation Sans,Helvetica,Arial,sans-serif\" font-size=\"10.00\" fill=\"#002b36\">random_seed</text>\n",
       "<text text-anchor=\"middle\" x=\"87.5\" y=\"-553\" font-family=\"Liberation Sans,Helvetica,Arial,sans-serif\" font-size=\"10.00\" fill=\"#002b36\">(1 values)</text>\n",
       "</g>\n",
       "<!-- X_train -->\n",
       "<g id=\"node5\" class=\"node\">\n",
       "<title>X_train</title>\n",
       "<path fill=\"none\" stroke=\"#268bd2\" stroke-width=\"1.5\" d=\"M102.5,-434C102.5,-434 69.5,-434 69.5,-434 63.5,-434 57.5,-428 57.5,-422 57.5,-422 57.5,-410 57.5,-410 57.5,-404 63.5,-398 69.5,-398 69.5,-398 102.5,-398 102.5,-398 108.5,-398 114.5,-404 114.5,-410 114.5,-410 114.5,-422 114.5,-422 114.5,-428 108.5,-434 102.5,-434\"/>\n",
       "<text text-anchor=\"start\" x=\"65.5\" y=\"-418.4\" font-family=\"Liberation Sans,Helvetica,Arial,sans-serif\" font-weight=\"bold\" font-size=\"12.00\" fill=\"#002b36\">X_train</text>\n",
       "<text text-anchor=\"start\" x=\"67.5\" y=\"-408\" font-family=\"Liberation Sans,Helvetica,Arial,sans-serif\" font-size=\"10.00\" fill=\"#268bd2\">1 values</text>\n",
       "</g>\n",
       "<!-- X_train&#45;&gt;train_model -->\n",
       "<g id=\"edge9\" class=\"edge\">\n",
       "<title>X_train&#45;&gt;train_model</title>\n",
       "<path fill=\"none\" stroke=\"#002b36\" d=\"M94.59,-397.92C102.6,-382.86 115.48,-360.78 130,-344 133.34,-340.14 137.11,-336.34 140.99,-332.73\"/>\n",
       "<polygon fill=\"#002b36\" stroke=\"#002b36\" points=\"143.35,-335.32 148.53,-326.08 138.72,-330.07 143.35,-335.32\"/>\n",
       "<text text-anchor=\"middle\" x=\"151.5\" y=\"-365\" font-family=\"Liberation Sans,Helvetica,Arial,sans-serif\" font-size=\"10.00\" fill=\"#002b36\">X_train</text>\n",
       "<text text-anchor=\"middle\" x=\"151.5\" y=\"-354\" font-family=\"Liberation Sans,Helvetica,Arial,sans-serif\" font-size=\"10.00\" fill=\"#002b36\">(1 values)</text>\n",
       "</g>\n",
       "<!-- n_estimators -->\n",
       "<g id=\"node6\" class=\"node\">\n",
       "<title>n_estimators</title>\n",
       "<path fill=\"none\" stroke=\"#268bd2\" stroke-width=\"1.5\" d=\"M225.5,-434C225.5,-434 144.5,-434 144.5,-434 138.5,-434 132.5,-428 132.5,-422 132.5,-422 132.5,-410 132.5,-410 132.5,-404 138.5,-398 144.5,-398 144.5,-398 225.5,-398 225.5,-398 231.5,-398 237.5,-404 237.5,-410 237.5,-410 237.5,-422 237.5,-422 237.5,-428 231.5,-434 225.5,-434\"/>\n",
       "<text text-anchor=\"start\" x=\"147.5\" y=\"-418.4\" font-family=\"Liberation Sans,Helvetica,Arial,sans-serif\" font-weight=\"bold\" font-size=\"12.00\" fill=\"#002b36\">n_estimators</text>\n",
       "<text text-anchor=\"start\" x=\"140.5\" y=\"-408\" font-family=\"Liberation Sans,Helvetica,Arial,sans-serif\" font-size=\"10.00\" fill=\"#268bd2\">1 values (1 sources)</text>\n",
       "</g>\n",
       "<!-- n_estimators&#45;&gt;train_model -->\n",
       "<g id=\"edge10\" class=\"edge\">\n",
       "<title>n_estimators&#45;&gt;train_model</title>\n",
       "<path fill=\"none\" stroke=\"#002b36\" d=\"M183.23,-397.65C181.54,-381.07 178.97,-355.77 176.96,-336.1\"/>\n",
       "<polygon fill=\"#002b36\" stroke=\"#002b36\" points=\"180.44,-335.72 175.95,-326.13 173.48,-336.43 180.44,-335.72\"/>\n",
       "<text text-anchor=\"middle\" x=\"209.5\" y=\"-365\" font-family=\"Liberation Sans,Helvetica,Arial,sans-serif\" font-size=\"10.00\" fill=\"#002b36\">n_estimators</text>\n",
       "<text text-anchor=\"middle\" x=\"209.5\" y=\"-354\" font-family=\"Liberation Sans,Helvetica,Arial,sans-serif\" font-size=\"10.00\" fill=\"#002b36\">(1 values)</text>\n",
       "</g>\n",
       "<!-- model -->\n",
       "<g id=\"node7\" class=\"node\">\n",
       "<title>model</title>\n",
       "<path fill=\"none\" stroke=\"#268bd2\" stroke-width=\"1.5\" d=\"M161,-228C161,-228 131,-228 131,-228 125,-228 119,-222 119,-216 119,-216 119,-204 119,-204 119,-198 125,-192 131,-192 131,-192 161,-192 161,-192 167,-192 173,-198 173,-204 173,-204 173,-216 173,-216 173,-222 167,-228 161,-228\"/>\n",
       "<text text-anchor=\"start\" x=\"128\" y=\"-212.4\" font-family=\"Liberation Sans,Helvetica,Arial,sans-serif\" font-weight=\"bold\" font-size=\"12.00\" fill=\"#002b36\">model</text>\n",
       "<text text-anchor=\"start\" x=\"127.5\" y=\"-202\" font-family=\"Liberation Sans,Helvetica,Arial,sans-serif\" font-size=\"10.00\" fill=\"#268bd2\">1 values</text>\n",
       "</g>\n",
       "<!-- model&#45;&gt;eval_model -->\n",
       "<g id=\"edge3\" class=\"edge\">\n",
       "<title>model&#45;&gt;eval_model</title>\n",
       "<path fill=\"none\" stroke=\"#002b36\" d=\"M146,-191.76C146,-178.5 146,-159.86 146,-144.27\"/>\n",
       "<polygon fill=\"#002b36\" stroke=\"#002b36\" points=\"149.5,-144.07 146,-134.07 142.5,-144.07 149.5,-144.07\"/>\n",
       "<text text-anchor=\"middle\" x=\"167.5\" y=\"-166\" font-family=\"Liberation Sans,Helvetica,Arial,sans-serif\" font-size=\"10.00\" fill=\"#002b36\">model</text>\n",
       "<text text-anchor=\"middle\" x=\"167.5\" y=\"-155\" font-family=\"Liberation Sans,Helvetica,Arial,sans-serif\" font-size=\"10.00\" fill=\"#002b36\">(1 values)</text>\n",
       "</g>\n",
       "<!-- y_test -->\n",
       "<g id=\"node8\" class=\"node\">\n",
       "<title>y_test</title>\n",
       "<path fill=\"none\" stroke=\"#268bd2\" stroke-width=\"1.5\" d=\"M284.5,-228C284.5,-228 203.5,-228 203.5,-228 197.5,-228 191.5,-222 191.5,-216 191.5,-216 191.5,-204 191.5,-204 191.5,-198 197.5,-192 203.5,-192 203.5,-192 284.5,-192 284.5,-192 290.5,-192 296.5,-198 296.5,-204 296.5,-204 296.5,-216 296.5,-216 296.5,-222 290.5,-228 284.5,-228\"/>\n",
       "<text text-anchor=\"start\" x=\"226.5\" y=\"-212.4\" font-family=\"Liberation Sans,Helvetica,Arial,sans-serif\" font-weight=\"bold\" font-size=\"12.00\" fill=\"#002b36\">y_test</text>\n",
       "<text text-anchor=\"start\" x=\"199.5\" y=\"-202\" font-family=\"Liberation Sans,Helvetica,Arial,sans-serif\" font-size=\"10.00\" fill=\"#268bd2\">1 values (1 sources)</text>\n",
       "</g>\n",
       "<!-- y_test&#45;&gt;eval_model -->\n",
       "<g id=\"edge4\" class=\"edge\">\n",
       "<title>y_test&#45;&gt;eval_model</title>\n",
       "<path fill=\"none\" stroke=\"#002b36\" d=\"M230,-191.83C220.14,-180.13 206.36,-164.54 193,-152 188.93,-148.18 184.5,-144.33 180.03,-140.64\"/>\n",
       "<polygon fill=\"#002b36\" stroke=\"#002b36\" points=\"182.02,-137.74 172.04,-134.19 177.63,-143.19 182.02,-137.74\"/>\n",
       "<text text-anchor=\"middle\" x=\"234.5\" y=\"-166\" font-family=\"Liberation Sans,Helvetica,Arial,sans-serif\" font-size=\"10.00\" fill=\"#002b36\">y_test</text>\n",
       "<text text-anchor=\"middle\" x=\"234.5\" y=\"-155\" font-family=\"Liberation Sans,Helvetica,Arial,sans-serif\" font-size=\"10.00\" fill=\"#002b36\">(1 values)</text>\n",
       "</g>\n",
       "<!-- generate_dataset&#45;&gt;X_test -->\n",
       "<g id=\"edge5\" class=\"edge\">\n",
       "<title>generate_dataset&#45;&gt;X_test</title>\n",
       "<path fill=\"none\" stroke=\"#002b36\" d=\"M34.83,-491.9C30.01,-486.65 25.62,-480.57 23,-474 12.04,-446.47 20.72,-412.63 29.62,-389.6\"/>\n",
       "<polygon fill=\"#002b36\" stroke=\"#002b36\" points=\"32.95,-390.72 33.53,-380.14 26.48,-388.05 32.95,-390.72\"/>\n",
       "<text text-anchor=\"middle\" x=\"44.5\" y=\"-466\" font-family=\"Liberation Sans,Helvetica,Arial,sans-serif\" font-size=\"10.00\" fill=\"#002b36\">output_1</text>\n",
       "<text text-anchor=\"middle\" x=\"44.5\" y=\"-455\" font-family=\"Liberation Sans,Helvetica,Arial,sans-serif\" font-size=\"10.00\" fill=\"#002b36\">(1 values)</text>\n",
       "</g>\n",
       "<!-- generate_dataset&#45;&gt;X_train -->\n",
       "<g id=\"edge6\" class=\"edge\">\n",
       "<title>generate_dataset&#45;&gt;X_train</title>\n",
       "<path fill=\"none\" stroke=\"#002b36\" d=\"M63.67,-491.98C67.77,-478.2 73.37,-459.39 77.94,-444.05\"/>\n",
       "<polygon fill=\"#002b36\" stroke=\"#002b36\" points=\"81.41,-444.68 80.91,-434.1 74.7,-442.68 81.41,-444.68\"/>\n",
       "<text text-anchor=\"middle\" x=\"97.5\" y=\"-466\" font-family=\"Liberation Sans,Helvetica,Arial,sans-serif\" font-size=\"10.00\" fill=\"#002b36\">output_0</text>\n",
       "<text text-anchor=\"middle\" x=\"97.5\" y=\"-455\" font-family=\"Liberation Sans,Helvetica,Arial,sans-serif\" font-size=\"10.00\" fill=\"#002b36\">(1 values)</text>\n",
       "</g>\n",
       "<!-- eval_model&#45;&gt;v -->\n",
       "<g id=\"edge1\" class=\"edge\">\n",
       "<title>eval_model&#45;&gt;v</title>\n",
       "<path fill=\"none\" stroke=\"#002b36\" d=\"M146,-93.98C146,-80.34 146,-61.75 146,-46.5\"/>\n",
       "<polygon fill=\"#002b36\" stroke=\"#002b36\" points=\"149.5,-46.1 146,-36.1 142.5,-46.1 149.5,-46.1\"/>\n",
       "<text text-anchor=\"middle\" x=\"167.5\" y=\"-68\" font-family=\"Liberation Sans,Helvetica,Arial,sans-serif\" font-size=\"10.00\" fill=\"#002b36\">output_0</text>\n",
       "<text text-anchor=\"middle\" x=\"167.5\" y=\"-57\" font-family=\"Liberation Sans,Helvetica,Arial,sans-serif\" font-size=\"10.00\" fill=\"#002b36\">(1 values)</text>\n",
       "</g>\n",
       "<!-- train_model&#45;&gt;model -->\n",
       "<g id=\"edge8\" class=\"edge\">\n",
       "<title>train_model&#45;&gt;model</title>\n",
       "<path fill=\"none\" stroke=\"#002b36\" d=\"M168.33,-285.98C164.23,-272.2 158.63,-253.39 154.06,-238.05\"/>\n",
       "<polygon fill=\"#002b36\" stroke=\"#002b36\" points=\"157.3,-236.68 151.09,-228.1 150.59,-238.68 157.3,-236.68\"/>\n",
       "<text text-anchor=\"middle\" x=\"183.5\" y=\"-260\" font-family=\"Liberation Sans,Helvetica,Arial,sans-serif\" font-size=\"10.00\" fill=\"#002b36\">output_0</text>\n",
       "<text text-anchor=\"middle\" x=\"183.5\" y=\"-249\" font-family=\"Liberation Sans,Helvetica,Arial,sans-serif\" font-size=\"10.00\" fill=\"#002b36\">(1 values)</text>\n",
       "</g>\n",
       "</g>\n",
       "</svg>\n"
      ],
      "text/plain": [
       "<graphviz.sources.Source at 0x704a0e1ac9a0>"
      ]
     },
     "metadata": {},
     "output_type": "display_data"
    }
   ],
   "source": [
    "cf = cf.expand_back('X_train')\n",
    "cf.draw(verbose=True)"
   ]
  },
  {
   "cell_type": "markdown",
   "metadata": {},
   "source": [
    "When we expand `X_train` at the end, the expansion algorithm detects that the\n",
    "`generate_dataset` node should be reused instead of creating a new node."
   ]
  },
  {
   "cell_type": "markdown",
   "metadata": {},
   "source": [
    "### Full expansion with `expand_all`\n",
    "The easiest way to add all the calls that can be reached from a CF by calling\n",
    "`expand_back` or `expand_forward` is using `expand_all`"
   ]
  },
  {
   "cell_type": "code",
   "execution_count": 18,
   "metadata": {
    "execution": {
     "iopub.execute_input": "2024-07-07T15:08:12.214330Z",
     "iopub.status.busy": "2024-07-07T15:08:12.214106Z",
     "iopub.status.idle": "2024-07-07T15:08:12.375480Z",
     "shell.execute_reply": "2024-07-07T15:08:12.374775Z"
    }
   },
   "outputs": [
    {
     "data": {
      "image/svg+xml": [
       "<?xml version=\"1.0\" encoding=\"UTF-8\" standalone=\"no\"?>\n",
       "<!DOCTYPE svg PUBLIC \"-//W3C//DTD SVG 1.1//EN\"\n",
       " \"http://www.w3.org/Graphics/SVG/1.1/DTD/svg11.dtd\">\n",
       "<!-- Generated by graphviz version 2.50.0 (0)\n",
       " -->\n",
       "<!-- Title: G Pages: 1 -->\n",
       "<svg width=\"263pt\" height=\"620pt\"\n",
       " viewBox=\"0.00 0.00 262.50 620.00\" xmlns=\"http://www.w3.org/2000/svg\" xmlns:xlink=\"http://www.w3.org/1999/xlink\">\n",
       "<g id=\"graph0\" class=\"graph\" transform=\"scale(1 1) rotate(0) translate(4 616)\">\n",
       "<title>G</title>\n",
       "<polygon fill=\"white\" stroke=\"transparent\" points=\"-4,4 -4,-616 258.5,-616 258.5,4 -4,4\"/>\n",
       "<!-- var_2 -->\n",
       "<g id=\"node1\" class=\"node\">\n",
       "<title>var_2</title>\n",
       "<path fill=\"none\" stroke=\"#268bd2\" stroke-width=\"1.5\" d=\"M82,-36C82,-36 12,-36 12,-36 6,-36 0,-30 0,-24 0,-24 0,-12 0,-12 0,-6 6,0 12,0 12,0 82,0 82,0 88,0 94,-6 94,-12 94,-12 94,-24 94,-24 94,-30 88,-36 82,-36\"/>\n",
       "<text text-anchor=\"start\" x=\"31\" y=\"-20.4\" font-family=\"Liberation Sans,Helvetica,Arial,sans-serif\" font-weight=\"bold\" font-size=\"12.00\" fill=\"#002b36\">var_2</text>\n",
       "<text text-anchor=\"start\" x=\"8\" y=\"-10\" font-family=\"Liberation Sans,Helvetica,Arial,sans-serif\" font-size=\"10.00\" fill=\"#268bd2\">2 values (2 sinks)</text>\n",
       "</g>\n",
       "<!-- var_0 -->\n",
       "<g id=\"node2\" class=\"node\">\n",
       "<title>var_0</title>\n",
       "<path fill=\"none\" stroke=\"#268bd2\" stroke-width=\"1.5\" d=\"M82,-228C82,-228 12,-228 12,-228 6,-228 0,-222 0,-216 0,-216 0,-204 0,-204 0,-198 6,-192 12,-192 12,-192 82,-192 82,-192 88,-192 94,-198 94,-204 94,-204 94,-216 94,-216 94,-222 88,-228 82,-228\"/>\n",
       "<text text-anchor=\"start\" x=\"31\" y=\"-212.4\" font-family=\"Liberation Sans,Helvetica,Arial,sans-serif\" font-weight=\"bold\" font-size=\"12.00\" fill=\"#002b36\">var_0</text>\n",
       "<text text-anchor=\"start\" x=\"8\" y=\"-202\" font-family=\"Liberation Sans,Helvetica,Arial,sans-serif\" font-size=\"10.00\" fill=\"#268bd2\">4 values (2 sinks)</text>\n",
       "</g>\n",
       "<!-- eval_model -->\n",
       "<g id=\"node9\" class=\"node\">\n",
       "<title>eval_model</title>\n",
       "<path fill=\"none\" stroke=\"#dc322f\" stroke-width=\"1.5\" d=\"M80,-134C80,-134 14,-134 14,-134 8,-134 2,-128 2,-122 2,-122 2,-106 2,-106 2,-100 8,-94 14,-94 14,-94 80,-94 80,-94 86,-94 92,-100 92,-106 92,-106 92,-122 92,-122 92,-128 86,-134 80,-134\"/>\n",
       "<text text-anchor=\"start\" x=\"14\" y=\"-121.4\" font-family=\"Liberation Sans,Helvetica,Arial,sans-serif\" font-weight=\"bold\" font-size=\"12.00\" fill=\"#002b36\">eval_model</text>\n",
       "<text text-anchor=\"start\" x=\"10\" y=\"-111\" font-family=\"Liberation Sans,Helvetica,Arial,sans-serif\" font-size=\"10.00\" fill=\"#002b36\">@op:eval_model</text>\n",
       "<text text-anchor=\"start\" x=\"32.5\" y=\"-101\" font-family=\"Liberation Sans,Helvetica,Arial,sans-serif\" font-size=\"10.00\" fill=\"#dc322f\">2 calls</text>\n",
       "</g>\n",
       "<!-- var_0&#45;&gt;eval_model -->\n",
       "<g id=\"edge6\" class=\"edge\">\n",
       "<title>var_0&#45;&gt;eval_model</title>\n",
       "<path fill=\"none\" stroke=\"#002b36\" d=\"M47,-191.76C47,-178.5 47,-159.86 47,-144.27\"/>\n",
       "<polygon fill=\"#002b36\" stroke=\"#002b36\" points=\"50.5,-144.07 47,-134.07 43.5,-144.07 50.5,-144.07\"/>\n",
       "<text text-anchor=\"middle\" x=\"68.5\" y=\"-166\" font-family=\"Liberation Sans,Helvetica,Arial,sans-serif\" font-size=\"10.00\" fill=\"#002b36\">model</text>\n",
       "<text text-anchor=\"middle\" x=\"68.5\" y=\"-155\" font-family=\"Liberation Sans,Helvetica,Arial,sans-serif\" font-size=\"10.00\" fill=\"#002b36\">(2 values)</text>\n",
       "</g>\n",
       "<!-- y_train -->\n",
       "<g id=\"node3\" class=\"node\">\n",
       "<title>y_train</title>\n",
       "<path fill=\"none\" stroke=\"#268bd2\" stroke-width=\"1.5\" d=\"M44,-420C44,-420 12,-420 12,-420 6,-420 0,-414 0,-408 0,-408 0,-396 0,-396 0,-390 6,-384 12,-384 12,-384 44,-384 44,-384 50,-384 56,-390 56,-396 56,-396 56,-408 56,-408 56,-414 50,-420 44,-420\"/>\n",
       "<text text-anchor=\"start\" x=\"8\" y=\"-404.4\" font-family=\"Liberation Sans,Helvetica,Arial,sans-serif\" font-weight=\"bold\" font-size=\"12.00\" fill=\"#002b36\">y_train</text>\n",
       "<text text-anchor=\"start\" x=\"9.5\" y=\"-394\" font-family=\"Liberation Sans,Helvetica,Arial,sans-serif\" font-size=\"10.00\" fill=\"#268bd2\">1 values</text>\n",
       "</g>\n",
       "<!-- train_model -->\n",
       "<g id=\"node10\" class=\"node\">\n",
       "<title>train_model</title>\n",
       "<path fill=\"none\" stroke=\"#dc322f\" stroke-width=\"1.5\" d=\"M136.5,-326C136.5,-326 69.5,-326 69.5,-326 63.5,-326 57.5,-320 57.5,-314 57.5,-314 57.5,-298 57.5,-298 57.5,-292 63.5,-286 69.5,-286 69.5,-286 136.5,-286 136.5,-286 142.5,-286 148.5,-292 148.5,-298 148.5,-298 148.5,-314 148.5,-314 148.5,-320 142.5,-326 136.5,-326\"/>\n",
       "<text text-anchor=\"start\" x=\"69\" y=\"-313.4\" font-family=\"Liberation Sans,Helvetica,Arial,sans-serif\" font-weight=\"bold\" font-size=\"12.00\" fill=\"#002b36\">train_model</text>\n",
       "<text text-anchor=\"start\" x=\"65.5\" y=\"-303\" font-family=\"Liberation Sans,Helvetica,Arial,sans-serif\" font-size=\"10.00\" fill=\"#002b36\">@op:train_model</text>\n",
       "<text text-anchor=\"start\" x=\"88.5\" y=\"-293\" font-family=\"Liberation Sans,Helvetica,Arial,sans-serif\" font-size=\"10.00\" fill=\"#dc322f\">4 calls</text>\n",
       "</g>\n",
       "<!-- y_train&#45;&gt;train_model -->\n",
       "<g id=\"edge5\" class=\"edge\">\n",
       "<title>y_train&#45;&gt;train_model</title>\n",
       "<path fill=\"none\" stroke=\"#002b36\" d=\"M34.06,-383.89C38.83,-371.92 46.29,-356 56,-344 59.1,-340.17 62.67,-336.48 66.43,-333.02\"/>\n",
       "<polygon fill=\"#002b36\" stroke=\"#002b36\" points=\"69,-335.43 74.31,-326.26 64.44,-330.11 69,-335.43\"/>\n",
       "<text text-anchor=\"middle\" x=\"77.5\" y=\"-358\" font-family=\"Liberation Sans,Helvetica,Arial,sans-serif\" font-size=\"10.00\" fill=\"#002b36\">y_train</text>\n",
       "<text text-anchor=\"middle\" x=\"77.5\" y=\"-347\" font-family=\"Liberation Sans,Helvetica,Arial,sans-serif\" font-size=\"10.00\" fill=\"#002b36\">(1 values)</text>\n",
       "</g>\n",
       "<!-- X_train -->\n",
       "<g id=\"node4\" class=\"node\">\n",
       "<title>X_train</title>\n",
       "<path fill=\"none\" stroke=\"#268bd2\" stroke-width=\"1.5\" d=\"M119.5,-420C119.5,-420 86.5,-420 86.5,-420 80.5,-420 74.5,-414 74.5,-408 74.5,-408 74.5,-396 74.5,-396 74.5,-390 80.5,-384 86.5,-384 86.5,-384 119.5,-384 119.5,-384 125.5,-384 131.5,-390 131.5,-396 131.5,-396 131.5,-408 131.5,-408 131.5,-414 125.5,-420 119.5,-420\"/>\n",
       "<text text-anchor=\"start\" x=\"82.5\" y=\"-404.4\" font-family=\"Liberation Sans,Helvetica,Arial,sans-serif\" font-weight=\"bold\" font-size=\"12.00\" fill=\"#002b36\">X_train</text>\n",
       "<text text-anchor=\"start\" x=\"84.5\" y=\"-394\" font-family=\"Liberation Sans,Helvetica,Arial,sans-serif\" font-size=\"10.00\" fill=\"#268bd2\">1 values</text>\n",
       "</g>\n",
       "<!-- X_train&#45;&gt;train_model -->\n",
       "<g id=\"edge3\" class=\"edge\">\n",
       "<title>X_train&#45;&gt;train_model</title>\n",
       "<path fill=\"none\" stroke=\"#002b36\" d=\"M103,-383.76C103,-370.5 103,-351.86 103,-336.27\"/>\n",
       "<polygon fill=\"#002b36\" stroke=\"#002b36\" points=\"106.5,-336.07 103,-326.07 99.5,-336.07 106.5,-336.07\"/>\n",
       "<text text-anchor=\"middle\" x=\"124.5\" y=\"-358\" font-family=\"Liberation Sans,Helvetica,Arial,sans-serif\" font-size=\"10.00\" fill=\"#002b36\">X_train</text>\n",
       "<text text-anchor=\"middle\" x=\"124.5\" y=\"-347\" font-family=\"Liberation Sans,Helvetica,Arial,sans-serif\" font-size=\"10.00\" fill=\"#002b36\">(1 values)</text>\n",
       "</g>\n",
       "<!-- random_seed -->\n",
       "<g id=\"node5\" class=\"node\">\n",
       "<title>random_seed</title>\n",
       "<path fill=\"none\" stroke=\"#268bd2\" stroke-width=\"1.5\" d=\"M105.5,-612C105.5,-612 24.5,-612 24.5,-612 18.5,-612 12.5,-606 12.5,-600 12.5,-600 12.5,-588 12.5,-588 12.5,-582 18.5,-576 24.5,-576 24.5,-576 105.5,-576 105.5,-576 111.5,-576 117.5,-582 117.5,-588 117.5,-588 117.5,-600 117.5,-600 117.5,-606 111.5,-612 105.5,-612\"/>\n",
       "<text text-anchor=\"start\" x=\"25.5\" y=\"-596.4\" font-family=\"Liberation Sans,Helvetica,Arial,sans-serif\" font-weight=\"bold\" font-size=\"12.00\" fill=\"#002b36\">random_seed</text>\n",
       "<text text-anchor=\"start\" x=\"20.5\" y=\"-586\" font-family=\"Liberation Sans,Helvetica,Arial,sans-serif\" font-size=\"10.00\" fill=\"#268bd2\">1 values (1 sources)</text>\n",
       "</g>\n",
       "<!-- generate_dataset -->\n",
       "<g id=\"node8\" class=\"node\">\n",
       "<title>generate_dataset</title>\n",
       "<path fill=\"none\" stroke=\"#dc322f\" stroke-width=\"1.5\" d=\"M111,-518C111,-518 19,-518 19,-518 13,-518 7,-512 7,-506 7,-506 7,-490 7,-490 7,-484 13,-478 19,-478 19,-478 111,-478 111,-478 117,-478 123,-484 123,-490 123,-490 123,-506 123,-506 123,-512 117,-518 111,-518\"/>\n",
       "<text text-anchor=\"start\" x=\"15\" y=\"-505.4\" font-family=\"Liberation Sans,Helvetica,Arial,sans-serif\" font-weight=\"bold\" font-size=\"12.00\" fill=\"#002b36\">generate_dataset</text>\n",
       "<text text-anchor=\"start\" x=\"15\" y=\"-495\" font-family=\"Liberation Sans,Helvetica,Arial,sans-serif\" font-size=\"10.00\" fill=\"#002b36\">@op:generate_dataset</text>\n",
       "<text text-anchor=\"start\" x=\"50.5\" y=\"-485\" font-family=\"Liberation Sans,Helvetica,Arial,sans-serif\" font-size=\"10.00\" fill=\"#dc322f\">1 calls</text>\n",
       "</g>\n",
       "<!-- random_seed&#45;&gt;generate_dataset -->\n",
       "<g id=\"edge9\" class=\"edge\">\n",
       "<title>random_seed&#45;&gt;generate_dataset</title>\n",
       "<path fill=\"none\" stroke=\"#002b36\" d=\"M65,-575.76C65,-562.5 65,-543.86 65,-528.27\"/>\n",
       "<polygon fill=\"#002b36\" stroke=\"#002b36\" points=\"68.5,-528.07 65,-518.07 61.5,-528.07 68.5,-528.07\"/>\n",
       "<text text-anchor=\"middle\" x=\"94.5\" y=\"-550\" font-family=\"Liberation Sans,Helvetica,Arial,sans-serif\" font-size=\"10.00\" fill=\"#002b36\">random_seed</text>\n",
       "<text text-anchor=\"middle\" x=\"94.5\" y=\"-539\" font-family=\"Liberation Sans,Helvetica,Arial,sans-serif\" font-size=\"10.00\" fill=\"#002b36\">(1 values)</text>\n",
       "</g>\n",
       "<!-- n_estimators -->\n",
       "<g id=\"node6\" class=\"node\">\n",
       "<title>n_estimators</title>\n",
       "<path fill=\"none\" stroke=\"#268bd2\" stroke-width=\"1.5\" d=\"M242.5,-420C242.5,-420 161.5,-420 161.5,-420 155.5,-420 149.5,-414 149.5,-408 149.5,-408 149.5,-396 149.5,-396 149.5,-390 155.5,-384 161.5,-384 161.5,-384 242.5,-384 242.5,-384 248.5,-384 254.5,-390 254.5,-396 254.5,-396 254.5,-408 254.5,-408 254.5,-414 248.5,-420 242.5,-420\"/>\n",
       "<text text-anchor=\"start\" x=\"164.5\" y=\"-404.4\" font-family=\"Liberation Sans,Helvetica,Arial,sans-serif\" font-weight=\"bold\" font-size=\"12.00\" fill=\"#002b36\">n_estimators</text>\n",
       "<text text-anchor=\"start\" x=\"157.5\" y=\"-394\" font-family=\"Liberation Sans,Helvetica,Arial,sans-serif\" font-size=\"10.00\" fill=\"#268bd2\">4 values (4 sources)</text>\n",
       "</g>\n",
       "<!-- n_estimators&#45;&gt;train_model -->\n",
       "<g id=\"edge4\" class=\"edge\">\n",
       "<title>n_estimators&#45;&gt;train_model</title>\n",
       "<path fill=\"none\" stroke=\"#002b36\" d=\"M187.67,-383.86C177.59,-372.17 163.54,-356.59 150,-344 145.91,-340.2 141.47,-336.36 137,-332.67\"/>\n",
       "<polygon fill=\"#002b36\" stroke=\"#002b36\" points=\"138.98,-329.78 129,-326.23 134.59,-335.23 138.98,-329.78\"/>\n",
       "<text text-anchor=\"middle\" x=\"198.5\" y=\"-358\" font-family=\"Liberation Sans,Helvetica,Arial,sans-serif\" font-size=\"10.00\" fill=\"#002b36\">n_estimators</text>\n",
       "<text text-anchor=\"middle\" x=\"198.5\" y=\"-347\" font-family=\"Liberation Sans,Helvetica,Arial,sans-serif\" font-size=\"10.00\" fill=\"#002b36\">(4 values)</text>\n",
       "</g>\n",
       "<!-- var_1 -->\n",
       "<g id=\"node7\" class=\"node\">\n",
       "<title>var_1</title>\n",
       "<path fill=\"none\" stroke=\"#268bd2\" stroke-width=\"1.5\" d=\"M194,-228C194,-228 124,-228 124,-228 118,-228 112,-222 112,-216 112,-216 112,-204 112,-204 112,-198 118,-192 124,-192 124,-192 194,-192 194,-192 200,-192 206,-198 206,-204 206,-204 206,-216 206,-216 206,-222 200,-228 194,-228\"/>\n",
       "<text text-anchor=\"start\" x=\"143\" y=\"-212.4\" font-family=\"Liberation Sans,Helvetica,Arial,sans-serif\" font-weight=\"bold\" font-size=\"12.00\" fill=\"#002b36\">var_1</text>\n",
       "<text text-anchor=\"start\" x=\"120\" y=\"-202\" font-family=\"Liberation Sans,Helvetica,Arial,sans-serif\" font-size=\"10.00\" fill=\"#268bd2\">4 values (4 sinks)</text>\n",
       "</g>\n",
       "<!-- generate_dataset&#45;&gt;y_train -->\n",
       "<g id=\"edge8\" class=\"edge\">\n",
       "<title>generate_dataset&#45;&gt;y_train</title>\n",
       "<path fill=\"none\" stroke=\"#002b36\" d=\"M46.25,-478C41.88,-472.57 37.72,-466.39 35,-460 31.05,-450.7 29.13,-439.83 28.25,-430.09\"/>\n",
       "<polygon fill=\"#002b36\" stroke=\"#002b36\" points=\"31.74,-429.87 27.66,-420.1 24.76,-430.28 31.74,-429.87\"/>\n",
       "<text text-anchor=\"middle\" x=\"56.5\" y=\"-452\" font-family=\"Liberation Sans,Helvetica,Arial,sans-serif\" font-size=\"10.00\" fill=\"#002b36\">output_2</text>\n",
       "<text text-anchor=\"middle\" x=\"56.5\" y=\"-441\" font-family=\"Liberation Sans,Helvetica,Arial,sans-serif\" font-size=\"10.00\" fill=\"#002b36\">(1 values)</text>\n",
       "</g>\n",
       "<!-- generate_dataset&#45;&gt;X_train -->\n",
       "<g id=\"edge7\" class=\"edge\">\n",
       "<title>generate_dataset&#45;&gt;X_train</title>\n",
       "<path fill=\"none\" stroke=\"#002b36\" d=\"M72.69,-477.98C78.31,-464.07 86.01,-445.03 92.24,-429.61\"/>\n",
       "<polygon fill=\"#002b36\" stroke=\"#002b36\" points=\"95.59,-430.68 96.09,-420.1 89.1,-428.06 95.59,-430.68\"/>\n",
       "<text text-anchor=\"middle\" x=\"109.5\" y=\"-452\" font-family=\"Liberation Sans,Helvetica,Arial,sans-serif\" font-size=\"10.00\" fill=\"#002b36\">output_0</text>\n",
       "<text text-anchor=\"middle\" x=\"109.5\" y=\"-441\" font-family=\"Liberation Sans,Helvetica,Arial,sans-serif\" font-size=\"10.00\" fill=\"#002b36\">(1 values)</text>\n",
       "</g>\n",
       "<!-- eval_model&#45;&gt;var_2 -->\n",
       "<g id=\"edge10\" class=\"edge\">\n",
       "<title>eval_model&#45;&gt;var_2</title>\n",
       "<path fill=\"none\" stroke=\"#002b36\" d=\"M47,-93.98C47,-80.34 47,-61.75 47,-46.5\"/>\n",
       "<polygon fill=\"#002b36\" stroke=\"#002b36\" points=\"50.5,-46.1 47,-36.1 43.5,-46.1 50.5,-46.1\"/>\n",
       "<text text-anchor=\"middle\" x=\"68.5\" y=\"-68\" font-family=\"Liberation Sans,Helvetica,Arial,sans-serif\" font-size=\"10.00\" fill=\"#002b36\">output_0</text>\n",
       "<text text-anchor=\"middle\" x=\"68.5\" y=\"-57\" font-family=\"Liberation Sans,Helvetica,Arial,sans-serif\" font-size=\"10.00\" fill=\"#002b36\">(2 values)</text>\n",
       "</g>\n",
       "<!-- train_model&#45;&gt;var_0 -->\n",
       "<g id=\"edge1\" class=\"edge\">\n",
       "<title>train_model&#45;&gt;var_0</title>\n",
       "<path fill=\"none\" stroke=\"#002b36\" d=\"M91.67,-285.98C83.23,-271.81 71.6,-252.3 62.33,-236.74\"/>\n",
       "<polygon fill=\"#002b36\" stroke=\"#002b36\" points=\"65.31,-234.9 57.19,-228.1 59.3,-238.48 65.31,-234.9\"/>\n",
       "<text text-anchor=\"middle\" x=\"101.5\" y=\"-260\" font-family=\"Liberation Sans,Helvetica,Arial,sans-serif\" font-size=\"10.00\" fill=\"#002b36\">output_0</text>\n",
       "<text text-anchor=\"middle\" x=\"101.5\" y=\"-249\" font-family=\"Liberation Sans,Helvetica,Arial,sans-serif\" font-size=\"10.00\" fill=\"#002b36\">(4 values)</text>\n",
       "</g>\n",
       "<!-- train_model&#45;&gt;var_1 -->\n",
       "<g id=\"edge2\" class=\"edge\">\n",
       "<title>train_model&#45;&gt;var_1</title>\n",
       "<path fill=\"none\" stroke=\"#002b36\" d=\"M115.69,-285.94C119.41,-280.22 123.44,-273.9 127,-268 133.05,-257.99 139.41,-246.8 144.86,-237\"/>\n",
       "<polygon fill=\"#002b36\" stroke=\"#002b36\" points=\"147.99,-238.57 149.76,-228.12 141.86,-235.19 147.99,-238.57\"/>\n",
       "<text text-anchor=\"middle\" x=\"160.5\" y=\"-260\" font-family=\"Liberation Sans,Helvetica,Arial,sans-serif\" font-size=\"10.00\" fill=\"#002b36\">output_1</text>\n",
       "<text text-anchor=\"middle\" x=\"160.5\" y=\"-249\" font-family=\"Liberation Sans,Helvetica,Arial,sans-serif\" font-size=\"10.00\" fill=\"#002b36\">(4 values)</text>\n",
       "</g>\n",
       "</g>\n",
       "</svg>\n"
      ],
      "text/plain": [
       "<graphviz.sources.Source at 0x704a0e206080>"
      ]
     },
     "metadata": {},
     "output_type": "display_data"
    }
   ],
   "source": [
    "cf = storage.cf(train_model).expand_all()\n",
    "cf.draw(verbose=True)"
   ]
  },
  {
   "cell_type": "markdown",
   "metadata": {},
   "source": [
    "This adds all the calls in the storage, because they're all reachable from some\n",
    "call to `train_model` by following inputs/outputs."
   ]
  },
  {
   "cell_type": "markdown",
   "metadata": {},
   "source": [
    "## Extracting `DataFrame`s from `ComputationFrame`s\n",
    "\n",
    "### `ComputationFrame`s as generalized dataframes\n",
    "You can think of `ComputationFrame`s as a generalization the familiar\n",
    "`pandas.DataFrame` class:\n",
    "\n",
    "- **instead of columns, you have a computational graph**: functions whose\n",
    "input/output edges connect to variables.\n",
    "- **instead of rows, you have computation traces**: variable values and function\n",
    "calls that (possibly partially) follow this graph\n",
    "\n",
    "Conversely, **a dataframe can be extracted from any computation frame** for\n",
    "easier later analysis:\n",
    "\n",
    "- the columns are the nodes in the graph (functions and variables)\n",
    "- each row is a computation trace, possibly padded with `NaN`s where no\n",
    "value/call is present."
   ]
  },
  {
   "cell_type": "markdown",
   "metadata": {},
   "source": [
    "### The `.df()` method\n",
    "All ways to turn a CF into a DF are dispatched through a CF's `.df()` method. We\n",
    "can apply this to the full storage CF we computed last:"
   ]
  },
  {
   "cell_type": "code",
   "execution_count": 19,
   "metadata": {
    "execution": {
     "iopub.execute_input": "2024-07-07T15:08:12.378205Z",
     "iopub.status.busy": "2024-07-07T15:08:12.377945Z",
     "iopub.status.idle": "2024-07-07T15:08:12.530939Z",
     "shell.execute_reply": "2024-07-07T15:08:12.530284Z"
    }
   },
   "outputs": [
    {
     "name": "stdout",
     "output_type": "stream",
     "text": [
      "|    |   n_estimators |   random_seed | generate_dataset                                   | train_model                                   |   var_1 | var_0                                                | eval_model                                   |   var_2 |\n",
      "|---:|---------------:|--------------:|:---------------------------------------------------|:----------------------------------------------|--------:|:-----------------------------------------------------|:---------------------------------------------|--------:|\n",
      "|  0 |             80 |            42 | Call(generate_dataset, cid='19a...', hid='c3f...') | Call(train_model, cid='3be...', hid='e60...') |    0.83 | RandomForestClassifier(max_depth=2, n_estimators=80) | Call(eval_model, cid='137...', hid='d32...') |    0.82 |\n",
      "|  1 |             10 |            42 | Call(generate_dataset, cid='19a...', hid='c3f...') | Call(train_model, cid='c4f...', hid='5f7...') |    0.74 | RandomForestClassifier(max_depth=2, n_estimators=10) |                                              |  nan    |\n",
      "|  2 |             40 |            42 | Call(generate_dataset, cid='19a...', hid='c3f...') | Call(train_model, cid='5af...', hid='514...') |    0.82 | RandomForestClassifier(max_depth=2, n_estimators=40) | Call(eval_model, cid='38f...', hid='5d3...') |    0.81 |\n",
      "|  3 |             20 |            42 | Call(generate_dataset, cid='19a...', hid='c3f...') | Call(train_model, cid='204...', hid='c55...') |    0.8  | RandomForestClassifier(max_depth=2, n_estimators=20) |                                              |  nan    |\n"
     ]
    }
   ],
   "source": [
    "cf = storage.cf(train_model).expand_all()\n",
    "print(cf.df().drop(columns=['X_train', 'y_train']).to_markdown())"
   ]
  },
  {
   "cell_type": "markdown",
   "metadata": {},
   "source": [
    "Importantly, we see that some computations only partially follow the full\n",
    "computation graph, because we didn't call `eval_model` on all the `train_model`\n",
    "outputs."
   ]
  },
  {
   "cell_type": "markdown",
   "metadata": {},
   "source": [
    "### What does `.df()` actually compute?\n",
    "The `.df` method does roughly speaking the following:\n",
    "\n",
    "- finds all the sink, i.e. \"final\", `Ref`s in the CF, i.e. the ones that are not\n",
    "used as inputs to any call in a connected function node.\n",
    "- for each variable's sink `Ref`s, it computes a table where \n",
    "    - columns are variables and functions that these `Ref`s depend on\n",
    "    - rows contain the set of `Ref`/`Call` dependencies from each such node\n",
    "- joins these tables over all the variables containing sink `Ref`s along their\n",
    "shared columns"
   ]
  },
  {
   "cell_type": "markdown",
   "metadata": {},
   "source": [
    "## Visualizing and summarizing `ComputationFrame`s\n",
    "CFs are complex data structures, and benefit from several kinds of high-level\n",
    "summaries."
   ]
  },
  {
   "cell_type": "markdown",
   "metadata": {},
   "source": [
    "### The `.draw()` method\n",
    "We've used the `.draw()` method a bunch of times so far. Let's revisit the most\n",
    "recent CF:"
   ]
  },
  {
   "cell_type": "code",
   "execution_count": 20,
   "metadata": {
    "execution": {
     "iopub.execute_input": "2024-07-07T15:08:12.534374Z",
     "iopub.status.busy": "2024-07-07T15:08:12.534141Z",
     "iopub.status.idle": "2024-07-07T15:08:12.631479Z",
     "shell.execute_reply": "2024-07-07T15:08:12.630909Z"
    }
   },
   "outputs": [
    {
     "data": {
      "image/svg+xml": [
       "<?xml version=\"1.0\" encoding=\"UTF-8\" standalone=\"no\"?>\n",
       "<!DOCTYPE svg PUBLIC \"-//W3C//DTD SVG 1.1//EN\"\n",
       " \"http://www.w3.org/Graphics/SVG/1.1/DTD/svg11.dtd\">\n",
       "<!-- Generated by graphviz version 2.50.0 (0)\n",
       " -->\n",
       "<!-- Title: G Pages: 1 -->\n",
       "<svg width=\"263pt\" height=\"620pt\"\n",
       " viewBox=\"0.00 0.00 262.50 620.00\" xmlns=\"http://www.w3.org/2000/svg\" xmlns:xlink=\"http://www.w3.org/1999/xlink\">\n",
       "<g id=\"graph0\" class=\"graph\" transform=\"scale(1 1) rotate(0) translate(4 616)\">\n",
       "<title>G</title>\n",
       "<polygon fill=\"white\" stroke=\"transparent\" points=\"-4,4 -4,-616 258.5,-616 258.5,4 -4,4\"/>\n",
       "<!-- var_2 -->\n",
       "<g id=\"node1\" class=\"node\">\n",
       "<title>var_2</title>\n",
       "<path fill=\"none\" stroke=\"#268bd2\" stroke-width=\"1.5\" d=\"M82,-36C82,-36 12,-36 12,-36 6,-36 0,-30 0,-24 0,-24 0,-12 0,-12 0,-6 6,0 12,0 12,0 82,0 82,0 88,0 94,-6 94,-12 94,-12 94,-24 94,-24 94,-30 88,-36 82,-36\"/>\n",
       "<text text-anchor=\"start\" x=\"31\" y=\"-20.4\" font-family=\"Liberation Sans,Helvetica,Arial,sans-serif\" font-weight=\"bold\" font-size=\"12.00\" fill=\"#002b36\">var_2</text>\n",
       "<text text-anchor=\"start\" x=\"8\" y=\"-10\" font-family=\"Liberation Sans,Helvetica,Arial,sans-serif\" font-size=\"10.00\" fill=\"#268bd2\">2 values (2 sinks)</text>\n",
       "</g>\n",
       "<!-- var_0 -->\n",
       "<g id=\"node2\" class=\"node\">\n",
       "<title>var_0</title>\n",
       "<path fill=\"none\" stroke=\"#268bd2\" stroke-width=\"1.5\" d=\"M82,-228C82,-228 12,-228 12,-228 6,-228 0,-222 0,-216 0,-216 0,-204 0,-204 0,-198 6,-192 12,-192 12,-192 82,-192 82,-192 88,-192 94,-198 94,-204 94,-204 94,-216 94,-216 94,-222 88,-228 82,-228\"/>\n",
       "<text text-anchor=\"start\" x=\"31\" y=\"-212.4\" font-family=\"Liberation Sans,Helvetica,Arial,sans-serif\" font-weight=\"bold\" font-size=\"12.00\" fill=\"#002b36\">var_0</text>\n",
       "<text text-anchor=\"start\" x=\"8\" y=\"-202\" font-family=\"Liberation Sans,Helvetica,Arial,sans-serif\" font-size=\"10.00\" fill=\"#268bd2\">4 values (2 sinks)</text>\n",
       "</g>\n",
       "<!-- eval_model -->\n",
       "<g id=\"node9\" class=\"node\">\n",
       "<title>eval_model</title>\n",
       "<path fill=\"none\" stroke=\"#dc322f\" stroke-width=\"1.5\" d=\"M80,-134C80,-134 14,-134 14,-134 8,-134 2,-128 2,-122 2,-122 2,-106 2,-106 2,-100 8,-94 14,-94 14,-94 80,-94 80,-94 86,-94 92,-100 92,-106 92,-106 92,-122 92,-122 92,-128 86,-134 80,-134\"/>\n",
       "<text text-anchor=\"start\" x=\"14\" y=\"-121.4\" font-family=\"Liberation Sans,Helvetica,Arial,sans-serif\" font-weight=\"bold\" font-size=\"12.00\" fill=\"#002b36\">eval_model</text>\n",
       "<text text-anchor=\"start\" x=\"10\" y=\"-111\" font-family=\"Liberation Sans,Helvetica,Arial,sans-serif\" font-size=\"10.00\" fill=\"#002b36\">@op:eval_model</text>\n",
       "<text text-anchor=\"start\" x=\"32.5\" y=\"-101\" font-family=\"Liberation Sans,Helvetica,Arial,sans-serif\" font-size=\"10.00\" fill=\"#dc322f\">2 calls</text>\n",
       "</g>\n",
       "<!-- var_0&#45;&gt;eval_model -->\n",
       "<g id=\"edge6\" class=\"edge\">\n",
       "<title>var_0&#45;&gt;eval_model</title>\n",
       "<path fill=\"none\" stroke=\"#002b36\" d=\"M47,-191.76C47,-178.5 47,-159.86 47,-144.27\"/>\n",
       "<polygon fill=\"#002b36\" stroke=\"#002b36\" points=\"50.5,-144.07 47,-134.07 43.5,-144.07 50.5,-144.07\"/>\n",
       "<text text-anchor=\"middle\" x=\"68.5\" y=\"-166\" font-family=\"Liberation Sans,Helvetica,Arial,sans-serif\" font-size=\"10.00\" fill=\"#002b36\">model</text>\n",
       "<text text-anchor=\"middle\" x=\"68.5\" y=\"-155\" font-family=\"Liberation Sans,Helvetica,Arial,sans-serif\" font-size=\"10.00\" fill=\"#002b36\">(2 values)</text>\n",
       "</g>\n",
       "<!-- y_train -->\n",
       "<g id=\"node3\" class=\"node\">\n",
       "<title>y_train</title>\n",
       "<path fill=\"none\" stroke=\"#268bd2\" stroke-width=\"1.5\" d=\"M44,-420C44,-420 12,-420 12,-420 6,-420 0,-414 0,-408 0,-408 0,-396 0,-396 0,-390 6,-384 12,-384 12,-384 44,-384 44,-384 50,-384 56,-390 56,-396 56,-396 56,-408 56,-408 56,-414 50,-420 44,-420\"/>\n",
       "<text text-anchor=\"start\" x=\"8\" y=\"-404.4\" font-family=\"Liberation Sans,Helvetica,Arial,sans-serif\" font-weight=\"bold\" font-size=\"12.00\" fill=\"#002b36\">y_train</text>\n",
       "<text text-anchor=\"start\" x=\"9.5\" y=\"-394\" font-family=\"Liberation Sans,Helvetica,Arial,sans-serif\" font-size=\"10.00\" fill=\"#268bd2\">1 values</text>\n",
       "</g>\n",
       "<!-- train_model -->\n",
       "<g id=\"node10\" class=\"node\">\n",
       "<title>train_model</title>\n",
       "<path fill=\"none\" stroke=\"#dc322f\" stroke-width=\"1.5\" d=\"M136.5,-326C136.5,-326 69.5,-326 69.5,-326 63.5,-326 57.5,-320 57.5,-314 57.5,-314 57.5,-298 57.5,-298 57.5,-292 63.5,-286 69.5,-286 69.5,-286 136.5,-286 136.5,-286 142.5,-286 148.5,-292 148.5,-298 148.5,-298 148.5,-314 148.5,-314 148.5,-320 142.5,-326 136.5,-326\"/>\n",
       "<text text-anchor=\"start\" x=\"69\" y=\"-313.4\" font-family=\"Liberation Sans,Helvetica,Arial,sans-serif\" font-weight=\"bold\" font-size=\"12.00\" fill=\"#002b36\">train_model</text>\n",
       "<text text-anchor=\"start\" x=\"65.5\" y=\"-303\" font-family=\"Liberation Sans,Helvetica,Arial,sans-serif\" font-size=\"10.00\" fill=\"#002b36\">@op:train_model</text>\n",
       "<text text-anchor=\"start\" x=\"88.5\" y=\"-293\" font-family=\"Liberation Sans,Helvetica,Arial,sans-serif\" font-size=\"10.00\" fill=\"#dc322f\">4 calls</text>\n",
       "</g>\n",
       "<!-- y_train&#45;&gt;train_model -->\n",
       "<g id=\"edge5\" class=\"edge\">\n",
       "<title>y_train&#45;&gt;train_model</title>\n",
       "<path fill=\"none\" stroke=\"#002b36\" d=\"M34.06,-383.89C38.83,-371.92 46.29,-356 56,-344 59.1,-340.17 62.67,-336.48 66.43,-333.02\"/>\n",
       "<polygon fill=\"#002b36\" stroke=\"#002b36\" points=\"69,-335.43 74.31,-326.26 64.44,-330.11 69,-335.43\"/>\n",
       "<text text-anchor=\"middle\" x=\"77.5\" y=\"-358\" font-family=\"Liberation Sans,Helvetica,Arial,sans-serif\" font-size=\"10.00\" fill=\"#002b36\">y_train</text>\n",
       "<text text-anchor=\"middle\" x=\"77.5\" y=\"-347\" font-family=\"Liberation Sans,Helvetica,Arial,sans-serif\" font-size=\"10.00\" fill=\"#002b36\">(1 values)</text>\n",
       "</g>\n",
       "<!-- X_train -->\n",
       "<g id=\"node4\" class=\"node\">\n",
       "<title>X_train</title>\n",
       "<path fill=\"none\" stroke=\"#268bd2\" stroke-width=\"1.5\" d=\"M119.5,-420C119.5,-420 86.5,-420 86.5,-420 80.5,-420 74.5,-414 74.5,-408 74.5,-408 74.5,-396 74.5,-396 74.5,-390 80.5,-384 86.5,-384 86.5,-384 119.5,-384 119.5,-384 125.5,-384 131.5,-390 131.5,-396 131.5,-396 131.5,-408 131.5,-408 131.5,-414 125.5,-420 119.5,-420\"/>\n",
       "<text text-anchor=\"start\" x=\"82.5\" y=\"-404.4\" font-family=\"Liberation Sans,Helvetica,Arial,sans-serif\" font-weight=\"bold\" font-size=\"12.00\" fill=\"#002b36\">X_train</text>\n",
       "<text text-anchor=\"start\" x=\"84.5\" y=\"-394\" font-family=\"Liberation Sans,Helvetica,Arial,sans-serif\" font-size=\"10.00\" fill=\"#268bd2\">1 values</text>\n",
       "</g>\n",
       "<!-- X_train&#45;&gt;train_model -->\n",
       "<g id=\"edge3\" class=\"edge\">\n",
       "<title>X_train&#45;&gt;train_model</title>\n",
       "<path fill=\"none\" stroke=\"#002b36\" d=\"M103,-383.76C103,-370.5 103,-351.86 103,-336.27\"/>\n",
       "<polygon fill=\"#002b36\" stroke=\"#002b36\" points=\"106.5,-336.07 103,-326.07 99.5,-336.07 106.5,-336.07\"/>\n",
       "<text text-anchor=\"middle\" x=\"124.5\" y=\"-358\" font-family=\"Liberation Sans,Helvetica,Arial,sans-serif\" font-size=\"10.00\" fill=\"#002b36\">X_train</text>\n",
       "<text text-anchor=\"middle\" x=\"124.5\" y=\"-347\" font-family=\"Liberation Sans,Helvetica,Arial,sans-serif\" font-size=\"10.00\" fill=\"#002b36\">(1 values)</text>\n",
       "</g>\n",
       "<!-- random_seed -->\n",
       "<g id=\"node5\" class=\"node\">\n",
       "<title>random_seed</title>\n",
       "<path fill=\"none\" stroke=\"#268bd2\" stroke-width=\"1.5\" d=\"M105.5,-612C105.5,-612 24.5,-612 24.5,-612 18.5,-612 12.5,-606 12.5,-600 12.5,-600 12.5,-588 12.5,-588 12.5,-582 18.5,-576 24.5,-576 24.5,-576 105.5,-576 105.5,-576 111.5,-576 117.5,-582 117.5,-588 117.5,-588 117.5,-600 117.5,-600 117.5,-606 111.5,-612 105.5,-612\"/>\n",
       "<text text-anchor=\"start\" x=\"25.5\" y=\"-596.4\" font-family=\"Liberation Sans,Helvetica,Arial,sans-serif\" font-weight=\"bold\" font-size=\"12.00\" fill=\"#002b36\">random_seed</text>\n",
       "<text text-anchor=\"start\" x=\"20.5\" y=\"-586\" font-family=\"Liberation Sans,Helvetica,Arial,sans-serif\" font-size=\"10.00\" fill=\"#268bd2\">1 values (1 sources)</text>\n",
       "</g>\n",
       "<!-- generate_dataset -->\n",
       "<g id=\"node8\" class=\"node\">\n",
       "<title>generate_dataset</title>\n",
       "<path fill=\"none\" stroke=\"#dc322f\" stroke-width=\"1.5\" d=\"M111,-518C111,-518 19,-518 19,-518 13,-518 7,-512 7,-506 7,-506 7,-490 7,-490 7,-484 13,-478 19,-478 19,-478 111,-478 111,-478 117,-478 123,-484 123,-490 123,-490 123,-506 123,-506 123,-512 117,-518 111,-518\"/>\n",
       "<text text-anchor=\"start\" x=\"15\" y=\"-505.4\" font-family=\"Liberation Sans,Helvetica,Arial,sans-serif\" font-weight=\"bold\" font-size=\"12.00\" fill=\"#002b36\">generate_dataset</text>\n",
       "<text text-anchor=\"start\" x=\"15\" y=\"-495\" font-family=\"Liberation Sans,Helvetica,Arial,sans-serif\" font-size=\"10.00\" fill=\"#002b36\">@op:generate_dataset</text>\n",
       "<text text-anchor=\"start\" x=\"50.5\" y=\"-485\" font-family=\"Liberation Sans,Helvetica,Arial,sans-serif\" font-size=\"10.00\" fill=\"#dc322f\">1 calls</text>\n",
       "</g>\n",
       "<!-- random_seed&#45;&gt;generate_dataset -->\n",
       "<g id=\"edge9\" class=\"edge\">\n",
       "<title>random_seed&#45;&gt;generate_dataset</title>\n",
       "<path fill=\"none\" stroke=\"#002b36\" d=\"M65,-575.76C65,-562.5 65,-543.86 65,-528.27\"/>\n",
       "<polygon fill=\"#002b36\" stroke=\"#002b36\" points=\"68.5,-528.07 65,-518.07 61.5,-528.07 68.5,-528.07\"/>\n",
       "<text text-anchor=\"middle\" x=\"94.5\" y=\"-550\" font-family=\"Liberation Sans,Helvetica,Arial,sans-serif\" font-size=\"10.00\" fill=\"#002b36\">random_seed</text>\n",
       "<text text-anchor=\"middle\" x=\"94.5\" y=\"-539\" font-family=\"Liberation Sans,Helvetica,Arial,sans-serif\" font-size=\"10.00\" fill=\"#002b36\">(1 values)</text>\n",
       "</g>\n",
       "<!-- n_estimators -->\n",
       "<g id=\"node6\" class=\"node\">\n",
       "<title>n_estimators</title>\n",
       "<path fill=\"none\" stroke=\"#268bd2\" stroke-width=\"1.5\" d=\"M242.5,-420C242.5,-420 161.5,-420 161.5,-420 155.5,-420 149.5,-414 149.5,-408 149.5,-408 149.5,-396 149.5,-396 149.5,-390 155.5,-384 161.5,-384 161.5,-384 242.5,-384 242.5,-384 248.5,-384 254.5,-390 254.5,-396 254.5,-396 254.5,-408 254.5,-408 254.5,-414 248.5,-420 242.5,-420\"/>\n",
       "<text text-anchor=\"start\" x=\"164.5\" y=\"-404.4\" font-family=\"Liberation Sans,Helvetica,Arial,sans-serif\" font-weight=\"bold\" font-size=\"12.00\" fill=\"#002b36\">n_estimators</text>\n",
       "<text text-anchor=\"start\" x=\"157.5\" y=\"-394\" font-family=\"Liberation Sans,Helvetica,Arial,sans-serif\" font-size=\"10.00\" fill=\"#268bd2\">4 values (4 sources)</text>\n",
       "</g>\n",
       "<!-- n_estimators&#45;&gt;train_model -->\n",
       "<g id=\"edge4\" class=\"edge\">\n",
       "<title>n_estimators&#45;&gt;train_model</title>\n",
       "<path fill=\"none\" stroke=\"#002b36\" d=\"M187.67,-383.86C177.59,-372.17 163.54,-356.59 150,-344 145.91,-340.2 141.47,-336.36 137,-332.67\"/>\n",
       "<polygon fill=\"#002b36\" stroke=\"#002b36\" points=\"138.98,-329.78 129,-326.23 134.59,-335.23 138.98,-329.78\"/>\n",
       "<text text-anchor=\"middle\" x=\"198.5\" y=\"-358\" font-family=\"Liberation Sans,Helvetica,Arial,sans-serif\" font-size=\"10.00\" fill=\"#002b36\">n_estimators</text>\n",
       "<text text-anchor=\"middle\" x=\"198.5\" y=\"-347\" font-family=\"Liberation Sans,Helvetica,Arial,sans-serif\" font-size=\"10.00\" fill=\"#002b36\">(4 values)</text>\n",
       "</g>\n",
       "<!-- var_1 -->\n",
       "<g id=\"node7\" class=\"node\">\n",
       "<title>var_1</title>\n",
       "<path fill=\"none\" stroke=\"#268bd2\" stroke-width=\"1.5\" d=\"M194,-228C194,-228 124,-228 124,-228 118,-228 112,-222 112,-216 112,-216 112,-204 112,-204 112,-198 118,-192 124,-192 124,-192 194,-192 194,-192 200,-192 206,-198 206,-204 206,-204 206,-216 206,-216 206,-222 200,-228 194,-228\"/>\n",
       "<text text-anchor=\"start\" x=\"143\" y=\"-212.4\" font-family=\"Liberation Sans,Helvetica,Arial,sans-serif\" font-weight=\"bold\" font-size=\"12.00\" fill=\"#002b36\">var_1</text>\n",
       "<text text-anchor=\"start\" x=\"120\" y=\"-202\" font-family=\"Liberation Sans,Helvetica,Arial,sans-serif\" font-size=\"10.00\" fill=\"#268bd2\">4 values (4 sinks)</text>\n",
       "</g>\n",
       "<!-- generate_dataset&#45;&gt;y_train -->\n",
       "<g id=\"edge8\" class=\"edge\">\n",
       "<title>generate_dataset&#45;&gt;y_train</title>\n",
       "<path fill=\"none\" stroke=\"#002b36\" d=\"M46.25,-478C41.88,-472.57 37.72,-466.39 35,-460 31.05,-450.7 29.13,-439.83 28.25,-430.09\"/>\n",
       "<polygon fill=\"#002b36\" stroke=\"#002b36\" points=\"31.74,-429.87 27.66,-420.1 24.76,-430.28 31.74,-429.87\"/>\n",
       "<text text-anchor=\"middle\" x=\"56.5\" y=\"-452\" font-family=\"Liberation Sans,Helvetica,Arial,sans-serif\" font-size=\"10.00\" fill=\"#002b36\">output_2</text>\n",
       "<text text-anchor=\"middle\" x=\"56.5\" y=\"-441\" font-family=\"Liberation Sans,Helvetica,Arial,sans-serif\" font-size=\"10.00\" fill=\"#002b36\">(1 values)</text>\n",
       "</g>\n",
       "<!-- generate_dataset&#45;&gt;X_train -->\n",
       "<g id=\"edge7\" class=\"edge\">\n",
       "<title>generate_dataset&#45;&gt;X_train</title>\n",
       "<path fill=\"none\" stroke=\"#002b36\" d=\"M72.69,-477.98C78.31,-464.07 86.01,-445.03 92.24,-429.61\"/>\n",
       "<polygon fill=\"#002b36\" stroke=\"#002b36\" points=\"95.59,-430.68 96.09,-420.1 89.1,-428.06 95.59,-430.68\"/>\n",
       "<text text-anchor=\"middle\" x=\"109.5\" y=\"-452\" font-family=\"Liberation Sans,Helvetica,Arial,sans-serif\" font-size=\"10.00\" fill=\"#002b36\">output_0</text>\n",
       "<text text-anchor=\"middle\" x=\"109.5\" y=\"-441\" font-family=\"Liberation Sans,Helvetica,Arial,sans-serif\" font-size=\"10.00\" fill=\"#002b36\">(1 values)</text>\n",
       "</g>\n",
       "<!-- eval_model&#45;&gt;var_2 -->\n",
       "<g id=\"edge10\" class=\"edge\">\n",
       "<title>eval_model&#45;&gt;var_2</title>\n",
       "<path fill=\"none\" stroke=\"#002b36\" d=\"M47,-93.98C47,-80.34 47,-61.75 47,-46.5\"/>\n",
       "<polygon fill=\"#002b36\" stroke=\"#002b36\" points=\"50.5,-46.1 47,-36.1 43.5,-46.1 50.5,-46.1\"/>\n",
       "<text text-anchor=\"middle\" x=\"68.5\" y=\"-68\" font-family=\"Liberation Sans,Helvetica,Arial,sans-serif\" font-size=\"10.00\" fill=\"#002b36\">output_0</text>\n",
       "<text text-anchor=\"middle\" x=\"68.5\" y=\"-57\" font-family=\"Liberation Sans,Helvetica,Arial,sans-serif\" font-size=\"10.00\" fill=\"#002b36\">(2 values)</text>\n",
       "</g>\n",
       "<!-- train_model&#45;&gt;var_0 -->\n",
       "<g id=\"edge1\" class=\"edge\">\n",
       "<title>train_model&#45;&gt;var_0</title>\n",
       "<path fill=\"none\" stroke=\"#002b36\" d=\"M91.67,-285.98C83.23,-271.81 71.6,-252.3 62.33,-236.74\"/>\n",
       "<polygon fill=\"#002b36\" stroke=\"#002b36\" points=\"65.31,-234.9 57.19,-228.1 59.3,-238.48 65.31,-234.9\"/>\n",
       "<text text-anchor=\"middle\" x=\"101.5\" y=\"-260\" font-family=\"Liberation Sans,Helvetica,Arial,sans-serif\" font-size=\"10.00\" fill=\"#002b36\">output_0</text>\n",
       "<text text-anchor=\"middle\" x=\"101.5\" y=\"-249\" font-family=\"Liberation Sans,Helvetica,Arial,sans-serif\" font-size=\"10.00\" fill=\"#002b36\">(4 values)</text>\n",
       "</g>\n",
       "<!-- train_model&#45;&gt;var_1 -->\n",
       "<g id=\"edge2\" class=\"edge\">\n",
       "<title>train_model&#45;&gt;var_1</title>\n",
       "<path fill=\"none\" stroke=\"#002b36\" d=\"M115.69,-285.94C119.41,-280.22 123.44,-273.9 127,-268 133.05,-257.99 139.41,-246.8 144.86,-237\"/>\n",
       "<polygon fill=\"#002b36\" stroke=\"#002b36\" points=\"147.99,-238.57 149.76,-228.12 141.86,-235.19 147.99,-238.57\"/>\n",
       "<text text-anchor=\"middle\" x=\"160.5\" y=\"-260\" font-family=\"Liberation Sans,Helvetica,Arial,sans-serif\" font-size=\"10.00\" fill=\"#002b36\">output_1</text>\n",
       "<text text-anchor=\"middle\" x=\"160.5\" y=\"-249\" font-family=\"Liberation Sans,Helvetica,Arial,sans-serif\" font-size=\"10.00\" fill=\"#002b36\">(4 values)</text>\n",
       "</g>\n",
       "</g>\n",
       "</svg>\n"
      ],
      "text/plain": [
       "<graphviz.sources.Source at 0x704a0e1c9d20>"
      ]
     },
     "metadata": {},
     "output_type": "display_data"
    }
   ],
   "source": [
    "cf.draw(verbose=True)"
   ]
  },
  {
   "cell_type": "markdown",
   "metadata": {},
   "source": [
    "The `.draw()` method shows the computational graph of a CF and how many\n",
    "calls/refs there are in each function/variable. When called with `verbose=True`,\n",
    "this method shows a summary of how the variable values and function calls\n",
    "connect across the CF:\n",
    "\n",
    "- **source (i.e. initial) `Ref`s** in each variable: the `Ref`s in this variable\n",
    "that aren't outputs of any call in a function node using the variable as output.\n",
    "- **sink (i.e. final) `Ref`s** in each variable: dual to source refs, these are\n",
    "the `Ref`s that are not inputs to calls in any function node using the variable\n",
    "as input.\n",
    "- **edge `Ref`s** for each edge: for edges that are inputs to functions, this is\n",
    "the number of refs from the input variable that are used in calls to the\n",
    "function. For edges that are outputs of functions, this is the number of refs in\n",
    "the output variable created by calls in the function node."
   ]
  },
  {
   "cell_type": "markdown",
   "metadata": {},
   "source": [
    "### Printing the computation graph of a `ComputationFrame`\n",
    "The computational graph of a CF is part of its `repr()`, but you can also print\n",
    "just the graph:"
   ]
  },
  {
   "cell_type": "code",
   "execution_count": 21,
   "metadata": {
    "execution": {
     "iopub.execute_input": "2024-07-07T15:08:12.635165Z",
     "iopub.status.busy": "2024-07-07T15:08:12.634751Z",
     "iopub.status.idle": "2024-07-07T15:08:12.660158Z",
     "shell.execute_reply": "2024-07-07T15:08:12.659521Z"
    }
   },
   "outputs": [
    {
     "name": "stdout",
     "output_type": "stream",
     "text": [
      "X_train@output_0, y_train@output_2 = generate_dataset(random_seed=random_seed)\n",
      "var_0@output_0, var_1@output_1 = train_model(X_train=X_train, n_estimators=n_estimators, y_train=y_train)\n",
      "var_2@output_0 = eval_model(model=var_0)\n"
     ]
    }
   ],
   "source": [
    "cf.print_graph()"
   ]
  },
  {
   "cell_type": "markdown",
   "metadata": {},
   "source": [
    "Note that outputs are appended with `@output_0`, .... This is to indicate the\n",
    "name each output is bound to, in case some outputs are missing from the graph\n",
    "(which is possible, because CFs can represent partial computations)."
   ]
  }
 ],
 "metadata": {
  "language_info": {
   "codemirror_mode": {
    "name": "ipython",
    "version": 3
   },
   "file_extension": ".py",
   "mimetype": "text/x-python",
   "name": "python",
   "nbconvert_exporter": "python",
   "pygments_lexer": "ipython3",
   "version": "3.10.8"
  }
 },
 "nbformat": 4,
 "nbformat_minor": 2
}
