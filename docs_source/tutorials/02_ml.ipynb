{
 "cells": [
  {
   "cell_type": "markdown",
   "metadata": {},
   "source": [
    "# Random forest ML project\n",
    "<a href=\"https://colab.research.google.com/github/amakelov/mandala/blob/master/docs_source/tutorials/02_ml.ipynb\"> \n",
    "  <img src=\"https://colab.research.google.com/assets/colab-badge.svg\" alt=\"Open In Colab\"/> </a>\n",
    "\n",
    "This tutorial will show you how `mandala` works in a small random forest\n",
    "ML project. You'll see how **queriable & composable** memoization is a simple way\n",
    "to achieve the main goals of scientific data management:\n",
    "\n",
    "- **iterate in the simplest way** by just dumping more\n",
    "logic/parameters/experiments on top of the code you already ran. Memoization\n",
    "automatically takes care of loading past results, skipping over past\n",
    "computations, and merging results across compatible versions of your code.\n",
    "\n",
    "- **explore the interdependencies of all saved results incrementally and\n",
    "declaratively** with *computation frames*, generalized dataframes that operate\n",
    "over memoized computation graphs. Expand the computational history of artifacts\n",
    "backward (to what produced them) and/or forward (to experiments that used them),\n",
    "perform high-level operations over slices of storage, and generate dataframes of\n",
    "results for further analysis."
   ]
  },
  {
   "cell_type": "markdown",
   "metadata": {},
   "source": [
    "## Imports & setup"
   ]
  },
  {
   "cell_type": "code",
   "execution_count": 1,
   "metadata": {
    "execution": {
     "iopub.execute_input": "2024-07-05T18:53:51.141848Z",
     "iopub.status.busy": "2024-07-05T18:53:51.141549Z",
     "iopub.status.idle": "2024-07-05T18:53:51.157003Z",
     "shell.execute_reply": "2024-07-05T18:53:51.156166Z"
    }
   },
   "outputs": [],
   "source": [
    "# for Google Colab\n",
    "try:\n",
    "    import google.colab\n",
    "    !pip install git+https://github.com/amakelov/mandala\n",
    "except:\n",
    "    pass"
   ]
  },
  {
   "cell_type": "code",
   "execution_count": 2,
   "metadata": {
    "execution": {
     "iopub.execute_input": "2024-07-05T18:53:51.161023Z",
     "iopub.status.busy": "2024-07-05T18:53:51.160787Z",
     "iopub.status.idle": "2024-07-05T18:53:53.200666Z",
     "shell.execute_reply": "2024-07-05T18:53:53.200063Z"
    }
   },
   "outputs": [],
   "source": [
    "from typing import Tuple\n",
    "import numpy as np\n",
    "import pandas as pd\n",
    "from sklearn.datasets import load_digits\n",
    "from sklearn.model_selection import train_test_split\n",
    "from sklearn.ensemble import RandomForestClassifier\n",
    "\n",
    "# recommended way to import mandala functionality\n",
    "from mandala.imports import *\n",
    "\n",
    "np.random.seed(0)"
   ]
  },
  {
   "cell_type": "code",
   "execution_count": 3,
   "metadata": {
    "execution": {
     "iopub.execute_input": "2024-07-05T18:53:53.203117Z",
     "iopub.status.busy": "2024-07-05T18:53:53.202826Z",
     "iopub.status.idle": "2024-07-05T18:53:53.228619Z",
     "shell.execute_reply": "2024-07-05T18:53:53.227679Z"
    }
   },
   "outputs": [],
   "source": [
    "@op # memoizing decorator\n",
    "def generate_dataset(random_seed=42):\n",
    "    print(f\"Generating dataset...\")\n",
    "    X, y = load_digits(return_X_y=True)\n",
    "    X_train, X_test, y_train, y_test = train_test_split(\n",
    "        X, y, test_size=0.2, random_state=random_seed)\n",
    "    return X_train, X_test, y_train, y_test\n",
    "\n",
    "@op\n",
    "def train_model(X_train, y_train):\n",
    "    print(f\"Training model...\")\n",
    "    model = RandomForestClassifier(n_estimators=1)\n",
    "    model.fit(X_train, y_train)\n",
    "    return model, round(model.score(X_train, y_train), 2)\n",
    "\n",
    "@op\n",
    "def eval_model(model, X_test, y_test):\n",
    "    print(f\"Evaluating model...\")\n",
    "    return round(model.score(X_test, y_test), 2)"
   ]
  },
  {
   "cell_type": "markdown",
   "metadata": {},
   "source": [
    "## Running and iterating on the pipeline"
   ]
  },
  {
   "cell_type": "markdown",
   "metadata": {},
   "source": [
    "### Run the pipeline once with default settings"
   ]
  },
  {
   "cell_type": "code",
   "execution_count": 4,
   "metadata": {
    "execution": {
     "iopub.execute_input": "2024-07-05T18:53:53.231895Z",
     "iopub.status.busy": "2024-07-05T18:53:53.231253Z",
     "iopub.status.idle": "2024-07-05T18:53:53.309517Z",
     "shell.execute_reply": "2024-07-05T18:53:53.308988Z"
    }
   },
   "outputs": [
    {
     "name": "stdout",
     "output_type": "stream",
     "text": [
      "Generating dataset...\n",
      "Training model...\n",
      "Evaluating model...\n",
      "Train accuracy: AtomRef(0.91, hid='8f5...', cid='97b...'),\n",
      "Test accuracy: AtomRef(0.76, hid='57f...', cid='9e5...')\n"
     ]
    }
   ],
   "source": [
    "# in-memory storage for all results in this notebook; use `db_path` to persist\n",
    "# to disk\n",
    "storage = Storage() \n",
    "\n",
    "with storage: # block to make all @ops called inside read/write to a given storage\n",
    "    X_train, X_test, y_train, y_test = generate_dataset()\n",
    "    model, train_acc = train_model(X_train, y_train)\n",
    "    test_acc = eval_model(model, X_test, y_test)\n",
    "    print(f\"Train accuracy: {train_acc},\\nTest accuracy: {test_acc}\")"
   ]
  },
  {
   "cell_type": "markdown",
   "metadata": {},
   "source": [
    "Now all three calls are saved to the storage. `@op`s return **value \n",
    "references**, which wrap a Python object with some storage metadata needed to\n",
    "make the memoization **compose**. To get the underlying object, call\n",
    "`storage.unwrap(ref)`.\n",
    "\n",
    "Thanks to that metadata, when we re-run memoized code, the storage recognizes\n",
    "step-by-step that all work has already been done, and only loads *references* to\n",
    "the results (not the Python objects themselves):"
   ]
  },
  {
   "cell_type": "code",
   "execution_count": 5,
   "metadata": {
    "execution": {
     "iopub.execute_input": "2024-07-05T18:53:53.342410Z",
     "iopub.status.busy": "2024-07-05T18:53:53.342162Z",
     "iopub.status.idle": "2024-07-05T18:53:53.380338Z",
     "shell.execute_reply": "2024-07-05T18:53:53.379306Z"
    }
   },
   "outputs": [
    {
     "name": "stdout",
     "output_type": "stream",
     "text": [
      "Train accuracy: AtomRef(hid='8f5...', cid='97b...', in_memory=False),\n",
      "Test accuracy: AtomRef(hid='57f...', cid='9e5...', in_memory=False)\n"
     ]
    }
   ],
   "source": [
    "with storage: # same code, but now it only loads pointers to saved results\n",
    "    X_train, X_test, y_train, y_test = generate_dataset()\n",
    "    model, train_acc = train_model(X_train, y_train)\n",
    "    test_acc = eval_model(model, X_test, y_test)\n",
    "    print(f\"Train accuracy: {train_acc},\\nTest accuracy: {test_acc}\")"
   ]
  },
  {
   "cell_type": "markdown",
   "metadata": {},
   "source": [
    "### Iterate directly on top of memoized code and change memoized functions backward-compatibly\n",
    "This also makes it easy to iterate on a project by just adding stuff on top of\n",
    "already memoized code. For example, let's add a new parameter to `train_model`\n",
    "in a way compatible with our current results:"
   ]
  },
  {
   "cell_type": "code",
   "execution_count": 6,
   "metadata": {
    "execution": {
     "iopub.execute_input": "2024-07-05T18:53:53.383821Z",
     "iopub.status.busy": "2024-07-05T18:53:53.383582Z",
     "iopub.status.idle": "2024-07-05T18:53:53.915392Z",
     "shell.execute_reply": "2024-07-05T18:53:53.914804Z"
    }
   },
   "outputs": [
    {
     "name": "stdout",
     "output_type": "stream",
     "text": [
      "Running with 1 trees...\n",
      "    Train accuracy=AtomRef(hid='8f5...', cid='97b...', in_memory=False),\n",
      "    Test accuracy=AtomRef(hid='57f...', cid='9e5...', in_memory=False)\n",
      "Running with 10 trees...\n",
      "Training model...\n",
      "Evaluating model...\n",
      "    Train accuracy=AtomRef(1.0, hid='760...', cid='b67...'),\n",
      "    Test accuracy=AtomRef(0.94, hid='600...', cid='c3b...')\n",
      "Running with 100 trees...\n",
      "Training model...\n",
      "Evaluating model...\n",
      "    Train accuracy=AtomRef(1.0, hid='ab0...', cid='b67...'),\n",
      "    Test accuracy=AtomRef(0.98, hid='45f...', cid='d15...')\n"
     ]
    }
   ],
   "source": [
    "@op\n",
    "def train_model(X_train, y_train, n_estimators=NewArgDefault(1)):\n",
    "    print(f\"Training model...\")\n",
    "    model = RandomForestClassifier(n_estimators=n_estimators)\n",
    "    model.fit(X_train, y_train)\n",
    "    return model, round(model.score(X_train, y_train), 2)\n",
    "\n",
    "with storage: \n",
    "    X_train, X_test, y_train, y_test = generate_dataset()\n",
    "    for n_estimators in [1, 10, 100]:\n",
    "        print(f\"Running with {n_estimators} trees...\")\n",
    "        model, train_acc = train_model(X_train, y_train, n_estimators=n_estimators)\n",
    "        test_acc = eval_model(model, X_test, y_test)\n",
    "        print(f\"    Train accuracy={train_acc},\\n    Test accuracy={test_acc}\")"
   ]
  },
  {
   "cell_type": "markdown",
   "metadata": {},
   "source": [
    "When we add a new argument with a default value wrapped as `NewArgDefault(obj)`,\n",
    "this ensures **backward compatibility**. `mandala` will ignore this parameter\n",
    "when its value equals `obj`, and **fall back to memoized calls that don't\n",
    "provide this argument**. \n",
    "\n",
    "This is why `Training model...` got printed **only two times**, and why the\n",
    "results for `n_estimators=1` are not in memory (`in_memory=False`)."
   ]
  },
  {
   "cell_type": "markdown",
   "metadata": {},
   "source": [
    "### Pros and cons of memoization\n",
    "**Composable memoization is a powerful imperative query interface**: *if* you\n",
    "have the memoized code in front of you, **the code becomes its own storage\n",
    "interface**. You can just retrace it and get references to any intermediate\n",
    "results you want to look at. This is very flexible, because you can add control\n",
    "flow logic to restrict the \"query\". Retracing is cheap, because large objects\n",
    "are not loaded from storage, letting you narrow down your \"query\" before\n",
    "high-bandwidth interaction with the backend.\n",
    "\n",
    "However, **the full memoized code may not always be in front of you**!\n",
    "Especially in larger projects, where it's easy to lose track of what has already\n",
    "been computed, there's a need for a complementary storage interface based on\n",
    "**declarative** principles. We discuss this next."
   ]
  },
  {
   "cell_type": "markdown",
   "metadata": {},
   "source": [
    "## Querying the storage with computation frames \n",
    "In cases when memoization-based querying is not enough, `mandala` offers the\n",
    "`ComputationFrame` class. A computation frame is a generalization of the\n",
    "familiar `pandas` dataframe in two main ways:\n",
    "\n",
    "- the \"columns\" of a computation frame represent a **computational graph**, made\n",
    "of variables and operations on them.\n",
    "- the \"rows\" of a computation frame are **computations that (partially) follow\n",
    "the structure of the computational graph**.\n",
    "\n",
    "It's best to illustrate this with some examples:"
   ]
  },
  {
   "cell_type": "code",
   "execution_count": 7,
   "metadata": {
    "execution": {
     "iopub.execute_input": "2024-07-05T18:53:53.918214Z",
     "iopub.status.busy": "2024-07-05T18:53:53.917954Z",
     "iopub.status.idle": "2024-07-05T18:53:54.185571Z",
     "shell.execute_reply": "2024-07-05T18:53:54.184955Z"
    }
   },
   "outputs": [
    {
     "data": {
      "text/plain": [
       "ComputationFrame with:\n",
       "    5 variable(s) (10 unique refs)\n",
       "    1 operation(s) (3 unique calls)\n",
       "Computational graph:\n",
       "    var_0@output_0, var_1@output_1 = train_model(X_train=X_train, n_estimators=n_estimators, y_train=y_train)"
      ]
     },
     "execution_count": 7,
     "metadata": {},
     "output_type": "execute_result"
    }
   ],
   "source": [
    "cf = storage.cf(train_model); cf"
   ]
  },
  {
   "cell_type": "markdown",
   "metadata": {},
   "source": [
    "We just got a computation frame (CF) corresponding to a very simple computation\n",
    "graph: it only has one operation, `train_model`, with its associated inputs and\n",
    "outputs. **Output variables are appended with the name of the function output\n",
    "they are connected to**, in order to remove ambiguity in cases when not all\n",
    "outputs of an operation are present in the computational graph.\n",
    "\n",
    "The printout also describes the overall number of `Ref`s and `Call`s represented\n",
    "by this CF. Much like in `pandas`, we can rename the \"columns\" of our\n",
    "computation frame for readability:"
   ]
  },
  {
   "cell_type": "code",
   "execution_count": 8,
   "metadata": {
    "execution": {
     "iopub.execute_input": "2024-07-05T18:53:54.188380Z",
     "iopub.status.busy": "2024-07-05T18:53:54.188028Z",
     "iopub.status.idle": "2024-07-05T18:53:54.215453Z",
     "shell.execute_reply": "2024-07-05T18:53:54.214706Z"
    }
   },
   "outputs": [
    {
     "data": {
      "text/plain": [
       "ComputationFrame with:\n",
       "    5 variable(s) (10 unique refs)\n",
       "    1 operation(s) (3 unique calls)\n",
       "Computational graph:\n",
       "    train_acc@output_0, model@output_1 = train_model(X_train=X_train, n_estimators=n_estimators, y_train=y_train)"
      ]
     },
     "execution_count": 8,
     "metadata": {},
     "output_type": "execute_result"
    }
   ],
   "source": [
    "cf.rename(vars={'var_1': 'model', 'var_0': 'train_acc'}, inplace=True); cf"
   ]
  },
  {
   "cell_type": "markdown",
   "metadata": {},
   "source": [
    "We can directly extract a dataframe from the CF:"
   ]
  },
  {
   "cell_type": "code",
   "execution_count": 9,
   "metadata": {
    "execution": {
     "iopub.execute_input": "2024-07-05T18:53:54.218051Z",
     "iopub.status.busy": "2024-07-05T18:53:54.217819Z",
     "iopub.status.idle": "2024-07-05T18:53:54.314018Z",
     "shell.execute_reply": "2024-07-05T18:53:54.313313Z"
    }
   },
   "outputs": [
    {
     "name": "stdout",
     "output_type": "stream",
     "text": [
      "Extracting tuples from the computation graph:\n",
      "    train_acc@output_0, model@output_1 = train_model(X_train=X_train, y_train=y_train, n_estimators=n_estimators)\n",
      "Found variables {'train_acc', 'model'} containing final elements\n",
      "    For variable train_acc, found dependencies in nodes Index(['X_train', 'n_estimators', 'y_train', 'train_acc', 'train_model'], dtype='object')\n",
      "    For variable model, found dependencies in nodes Index(['X_train', 'n_estimators', 'y_train', 'model', 'train_model'], dtype='object')\n",
      "   Merging history for the variable model on columns: {'train_model', 'n_estimators', 'y_train', 'X_train'}\n",
      "|    | y_train           |   n_estimators | X_train                         | train_model                                   |   model | train_acc                               |\n",
      "|---:|:------------------|---------------:|:--------------------------------|:----------------------------------------------|--------:|:----------------------------------------|\n",
      "|  0 | [6 0 0 ... 2 7 1] |             10 | [[ 0.  0.  3. ... 13.  4.  0.]  | Call(train_model, cid='c4f...', hid='5f7...') |    1    | RandomForestClassifier(n_estimators=10) |\n",
      "|    |                   |                |  [ 0.  0.  9. ...  3.  0.  0.]  |                                               |         |                                         |\n",
      "|    |                   |                |  [ 0.  0.  0. ...  6.  0.  0.]  |                                               |         |                                         |\n",
      "|    |                   |                |  ...                            |                                               |         |                                         |\n",
      "|    |                   |                |  [ 0.  0.  9. ... 16.  2.  0.]  |                                               |         |                                         |\n",
      "|    |                   |                |  [ 0.  0.  1. ...  0.  0.  0.]  |                                               |         |                                         |\n",
      "|    |                   |                |  [ 0.  0.  1. ...  1.  0.  0.]] |                                               |         |                                         |\n",
      "|  1 | [6 0 0 ... 2 7 1] |            100 | [[ 0.  0.  3. ... 13.  4.  0.]  | Call(train_model, cid='bb3...', hid='255...') |    1    | RandomForestClassifier()                |\n",
      "|    |                   |                |  [ 0.  0.  9. ...  3.  0.  0.]  |                                               |         |                                         |\n",
      "|    |                   |                |  [ 0.  0.  0. ...  6.  0.  0.]  |                                               |         |                                         |\n",
      "|    |                   |                |  ...                            |                                               |         |                                         |\n",
      "|    |                   |                |  [ 0.  0.  9. ... 16.  2.  0.]  |                                               |         |                                         |\n",
      "|    |                   |                |  [ 0.  0.  1. ...  0.  0.  0.]  |                                               |         |                                         |\n",
      "|    |                   |                |  [ 0.  0.  1. ...  1.  0.  0.]] |                                               |         |                                         |\n",
      "|  2 | [6 0 0 ... 2 7 1] |            nan | [[ 0.  0.  3. ... 13.  4.  0.]  | Call(train_model, cid='ca5...', hid='ac0...') |    0.91 | RandomForestClassifier(n_estimators=1)  |\n",
      "|    |                   |                |  [ 0.  0.  9. ...  3.  0.  0.]  |                                               |         |                                         |\n",
      "|    |                   |                |  [ 0.  0.  0. ...  6.  0.  0.]  |                                               |         |                                         |\n",
      "|    |                   |                |  ...                            |                                               |         |                                         |\n",
      "|    |                   |                |  [ 0.  0.  9. ... 16.  2.  0.]  |                                               |         |                                         |\n",
      "|    |                   |                |  [ 0.  0.  1. ...  0.  0.  0.]  |                                               |         |                                         |\n",
      "|    |                   |                |  [ 0.  0.  1. ...  1.  0.  0.]] |                                               |         |                                         |\n"
     ]
    },
    {
     "name": "stderr",
     "output_type": "stream",
     "text": [
      "/home/amakelov/workspace/current/conda_envs/mandala_3.10/lib/python3.10/site-packages/tabulate/__init__.py:107: FutureWarning: elementwise comparison failed; returning scalar instead, but in the future will perform elementwise comparison\n",
      "  (len(row) >= 1 and row[0] == SEPARATING_LINE)\n",
      "/home/amakelov/workspace/current/conda_envs/mandala_3.10/lib/python3.10/site-packages/tabulate/__init__.py:108: FutureWarning: elementwise comparison failed; returning scalar instead, but in the future will perform elementwise comparison\n",
      "  or (len(row) >= 2 and row[1] == SEPARATING_LINE)\n"
     ]
    }
   ],
   "source": [
    "print(cf.df().to_markdown())"
   ]
  },
  {
   "cell_type": "markdown",
   "metadata": {},
   "source": [
    "We get back a table, where each row corresponds to a call to `train_model`.\n",
    "Furthermore, the `Call` objects themselves (which contain metadata about the\n",
    "call) appear in the column dedicated to the single operation in the graph.\n",
    "\n",
    "We see that in the `n_estimators` column we have the values `[NaN, 10.0, 100.0]`\n",
    "(in some order), reflecting the fact that we made 1 call to `train_model` before\n",
    "introducing the `n_estimators` argument, and 2 afterwards."
   ]
  },
  {
   "cell_type": "markdown",
   "metadata": {},
   "source": [
    "### Exploring storage by expanding the CF\n",
    "This CF gets much more interesting and useful when we can look into where the\n",
    "inputs to `train_model` came from, and what the outputs were used for. We can\n",
    "add the history of particular variables by calling `expand_back` on the CF, and \n",
    "similarly `expand_forward` shows the operations that consume given variables: "
   ]
  },
  {
   "cell_type": "code",
   "execution_count": 10,
   "metadata": {
    "execution": {
     "iopub.execute_input": "2024-07-05T18:53:54.317355Z",
     "iopub.status.busy": "2024-07-05T18:53:54.316836Z",
     "iopub.status.idle": "2024-07-05T18:53:54.506239Z",
     "shell.execute_reply": "2024-07-05T18:53:54.505520Z"
    }
   },
   "outputs": [
    {
     "name": "stdout",
     "output_type": "stream",
     "text": [
      "Expanding back the inputs:\n"
     ]
    },
    {
     "data": {
      "image/svg+xml": [
       "<?xml version=\"1.0\" encoding=\"UTF-8\" standalone=\"no\"?>\n",
       "<!DOCTYPE svg PUBLIC \"-//W3C//DTD SVG 1.1//EN\"\n",
       " \"http://www.w3.org/Graphics/SVG/1.1/DTD/svg11.dtd\">\n",
       "<!-- Generated by graphviz version 2.50.0 (0)\n",
       " -->\n",
       "<!-- Title: G Pages: 1 -->\n",
       "<svg width=\"263pt\" height=\"428pt\"\n",
       " viewBox=\"0.00 0.00 262.50 428.00\" xmlns=\"http://www.w3.org/2000/svg\" xmlns:xlink=\"http://www.w3.org/1999/xlink\">\n",
       "<g id=\"graph0\" class=\"graph\" transform=\"scale(1 1) rotate(0) translate(4 424)\">\n",
       "<title>G</title>\n",
       "<polygon fill=\"white\" stroke=\"transparent\" points=\"-4,4 -4,-424 258.5,-424 258.5,4 -4,4\"/>\n",
       "<!-- n_estimators -->\n",
       "<g id=\"node1\" class=\"node\">\n",
       "<title>n_estimators</title>\n",
       "<path fill=\"none\" stroke=\"#268bd2\" stroke-width=\"2\" d=\"M93,-228C93,-228 12,-228 12,-228 6,-228 0,-222 0,-216 0,-216 0,-204 0,-204 0,-198 6,-192 12,-192 12,-192 93,-192 93,-192 99,-192 105,-198 105,-204 105,-204 105,-216 105,-216 105,-222 99,-228 93,-228\"/>\n",
       "<text text-anchor=\"start\" x=\"15\" y=\"-212.4\" font-family=\"Liberation Sans,Helvetica,Arial,sans-serif\" font-weight=\"bold\" font-size=\"12.00\" fill=\"#002b36\">n_estimators</text>\n",
       "<text text-anchor=\"start\" x=\"8\" y=\"-202\" font-family=\"Liberation Sans,Helvetica,Arial,sans-serif\" font-size=\"10.00\" fill=\"#268bd2\">2 values (2 sources)</text>\n",
       "</g>\n",
       "<!-- train_model -->\n",
       "<g id=\"node7\" class=\"node\">\n",
       "<title>train_model</title>\n",
       "<path fill=\"none\" stroke=\"#dc322f\" stroke-width=\"2\" d=\"M185,-134C185,-134 118,-134 118,-134 112,-134 106,-128 106,-122 106,-122 106,-106 106,-106 106,-100 112,-94 118,-94 118,-94 185,-94 185,-94 191,-94 197,-100 197,-106 197,-106 197,-122 197,-122 197,-128 191,-134 185,-134\"/>\n",
       "<text text-anchor=\"start\" x=\"117.5\" y=\"-121.4\" font-family=\"Liberation Sans,Helvetica,Arial,sans-serif\" font-weight=\"bold\" font-size=\"12.00\" fill=\"#002b36\">train_model</text>\n",
       "<text text-anchor=\"start\" x=\"114\" y=\"-111\" font-family=\"Liberation Sans,Helvetica,Arial,sans-serif\" font-size=\"10.00\" fill=\"#002b36\">@op:train_model</text>\n",
       "<text text-anchor=\"start\" x=\"137\" y=\"-101\" font-family=\"Liberation Sans,Helvetica,Arial,sans-serif\" font-size=\"10.00\" fill=\"#dc322f\">3 calls</text>\n",
       "</g>\n",
       "<!-- n_estimators&#45;&gt;train_model -->\n",
       "<g id=\"edge4\" class=\"edge\">\n",
       "<title>n_estimators&#45;&gt;train_model</title>\n",
       "<path fill=\"none\" stroke=\"#002b36\" d=\"M61.28,-191.85C68.09,-179.71 78.39,-163.6 90.5,-152 95.08,-147.61 100.26,-143.5 105.63,-139.73\"/>\n",
       "<polygon fill=\"#002b36\" stroke=\"#002b36\" points=\"107.75,-142.53 114.16,-134.09 103.88,-136.69 107.75,-142.53\"/>\n",
       "<text text-anchor=\"middle\" x=\"119\" y=\"-166\" font-family=\"Liberation Sans,Helvetica,Arial,sans-serif\" font-size=\"10.00\" fill=\"#002b36\">n_estimators</text>\n",
       "<text text-anchor=\"middle\" x=\"119\" y=\"-155\" font-family=\"Liberation Sans,Helvetica,Arial,sans-serif\" font-size=\"10.00\" fill=\"#002b36\">(2 values)</text>\n",
       "</g>\n",
       "<!-- X_train -->\n",
       "<g id=\"node2\" class=\"node\">\n",
       "<title>X_train</title>\n",
       "<path fill=\"none\" stroke=\"#268bd2\" stroke-width=\"2\" d=\"M168,-228C168,-228 135,-228 135,-228 129,-228 123,-222 123,-216 123,-216 123,-204 123,-204 123,-198 129,-192 135,-192 135,-192 168,-192 168,-192 174,-192 180,-198 180,-204 180,-204 180,-216 180,-216 180,-222 174,-228 168,-228\"/>\n",
       "<text text-anchor=\"start\" x=\"131\" y=\"-212.4\" font-family=\"Liberation Sans,Helvetica,Arial,sans-serif\" font-weight=\"bold\" font-size=\"12.00\" fill=\"#002b36\">X_train</text>\n",
       "<text text-anchor=\"start\" x=\"133\" y=\"-202\" font-family=\"Liberation Sans,Helvetica,Arial,sans-serif\" font-size=\"10.00\" fill=\"#268bd2\">1 values</text>\n",
       "</g>\n",
       "<!-- X_train&#45;&gt;train_model -->\n",
       "<g id=\"edge3\" class=\"edge\">\n",
       "<title>X_train&#45;&gt;train_model</title>\n",
       "<path fill=\"none\" stroke=\"#002b36\" d=\"M151.5,-191.76C151.5,-178.5 151.5,-159.86 151.5,-144.27\"/>\n",
       "<polygon fill=\"#002b36\" stroke=\"#002b36\" points=\"155,-144.07 151.5,-134.07 148,-144.07 155,-144.07\"/>\n",
       "<text text-anchor=\"middle\" x=\"173\" y=\"-166\" font-family=\"Liberation Sans,Helvetica,Arial,sans-serif\" font-size=\"10.00\" fill=\"#002b36\">X_train</text>\n",
       "<text text-anchor=\"middle\" x=\"173\" y=\"-155\" font-family=\"Liberation Sans,Helvetica,Arial,sans-serif\" font-size=\"10.00\" fill=\"#002b36\">(1 values)</text>\n",
       "</g>\n",
       "<!-- random_seed -->\n",
       "<g id=\"node3\" class=\"node\">\n",
       "<title>random_seed</title>\n",
       "<path fill=\"none\" stroke=\"#268bd2\" stroke-width=\"2\" d=\"M229,-420C229,-420 148,-420 148,-420 142,-420 136,-414 136,-408 136,-408 136,-396 136,-396 136,-390 142,-384 148,-384 148,-384 229,-384 229,-384 235,-384 241,-390 241,-396 241,-396 241,-408 241,-408 241,-414 235,-420 229,-420\"/>\n",
       "<text text-anchor=\"start\" x=\"149\" y=\"-404.4\" font-family=\"Liberation Sans,Helvetica,Arial,sans-serif\" font-weight=\"bold\" font-size=\"12.00\" fill=\"#002b36\">random_seed</text>\n",
       "<text text-anchor=\"start\" x=\"144\" y=\"-394\" font-family=\"Liberation Sans,Helvetica,Arial,sans-serif\" font-size=\"10.00\" fill=\"#268bd2\">1 values (1 sources)</text>\n",
       "</g>\n",
       "<!-- generate_dataset -->\n",
       "<g id=\"node8\" class=\"node\">\n",
       "<title>generate_dataset</title>\n",
       "<path fill=\"none\" stroke=\"#dc322f\" stroke-width=\"2\" d=\"M234.5,-326C234.5,-326 142.5,-326 142.5,-326 136.5,-326 130.5,-320 130.5,-314 130.5,-314 130.5,-298 130.5,-298 130.5,-292 136.5,-286 142.5,-286 142.5,-286 234.5,-286 234.5,-286 240.5,-286 246.5,-292 246.5,-298 246.5,-298 246.5,-314 246.5,-314 246.5,-320 240.5,-326 234.5,-326\"/>\n",
       "<text text-anchor=\"start\" x=\"138.5\" y=\"-313.4\" font-family=\"Liberation Sans,Helvetica,Arial,sans-serif\" font-weight=\"bold\" font-size=\"12.00\" fill=\"#002b36\">generate_dataset</text>\n",
       "<text text-anchor=\"start\" x=\"138.5\" y=\"-303\" font-family=\"Liberation Sans,Helvetica,Arial,sans-serif\" font-size=\"10.00\" fill=\"#002b36\">@op:generate_dataset</text>\n",
       "<text text-anchor=\"start\" x=\"174\" y=\"-293\" font-family=\"Liberation Sans,Helvetica,Arial,sans-serif\" font-size=\"10.00\" fill=\"#dc322f\">1 calls</text>\n",
       "</g>\n",
       "<!-- random_seed&#45;&gt;generate_dataset -->\n",
       "<g id=\"edge8\" class=\"edge\">\n",
       "<title>random_seed&#45;&gt;generate_dataset</title>\n",
       "<path fill=\"none\" stroke=\"#002b36\" d=\"M188.5,-383.76C188.5,-370.5 188.5,-351.86 188.5,-336.27\"/>\n",
       "<polygon fill=\"#002b36\" stroke=\"#002b36\" points=\"192,-336.07 188.5,-326.07 185,-336.07 192,-336.07\"/>\n",
       "<text text-anchor=\"middle\" x=\"218\" y=\"-358\" font-family=\"Liberation Sans,Helvetica,Arial,sans-serif\" font-size=\"10.00\" fill=\"#002b36\">random_seed</text>\n",
       "<text text-anchor=\"middle\" x=\"218\" y=\"-347\" font-family=\"Liberation Sans,Helvetica,Arial,sans-serif\" font-size=\"10.00\" fill=\"#002b36\">(1 values)</text>\n",
       "</g>\n",
       "<!-- y_train -->\n",
       "<g id=\"node4\" class=\"node\">\n",
       "<title>y_train</title>\n",
       "<path fill=\"none\" stroke=\"#268bd2\" stroke-width=\"2\" d=\"M242.5,-228C242.5,-228 210.5,-228 210.5,-228 204.5,-228 198.5,-222 198.5,-216 198.5,-216 198.5,-204 198.5,-204 198.5,-198 204.5,-192 210.5,-192 210.5,-192 242.5,-192 242.5,-192 248.5,-192 254.5,-198 254.5,-204 254.5,-204 254.5,-216 254.5,-216 254.5,-222 248.5,-228 242.5,-228\"/>\n",
       "<text text-anchor=\"start\" x=\"206.5\" y=\"-212.4\" font-family=\"Liberation Sans,Helvetica,Arial,sans-serif\" font-weight=\"bold\" font-size=\"12.00\" fill=\"#002b36\">y_train</text>\n",
       "<text text-anchor=\"start\" x=\"208\" y=\"-202\" font-family=\"Liberation Sans,Helvetica,Arial,sans-serif\" font-size=\"10.00\" fill=\"#268bd2\">1 values</text>\n",
       "</g>\n",
       "<!-- y_train&#45;&gt;train_model -->\n",
       "<g id=\"edge5\" class=\"edge\">\n",
       "<title>y_train&#45;&gt;train_model</title>\n",
       "<path fill=\"none\" stroke=\"#002b36\" d=\"M220.44,-191.89C215.67,-179.92 208.21,-164 198.5,-152 195.4,-148.17 191.83,-144.48 188.07,-141.02\"/>\n",
       "<polygon fill=\"#002b36\" stroke=\"#002b36\" points=\"190.06,-138.11 180.19,-134.26 185.5,-143.43 190.06,-138.11\"/>\n",
       "<text text-anchor=\"middle\" x=\"233\" y=\"-166\" font-family=\"Liberation Sans,Helvetica,Arial,sans-serif\" font-size=\"10.00\" fill=\"#002b36\">y_train</text>\n",
       "<text text-anchor=\"middle\" x=\"233\" y=\"-155\" font-family=\"Liberation Sans,Helvetica,Arial,sans-serif\" font-size=\"10.00\" fill=\"#002b36\">(1 values)</text>\n",
       "</g>\n",
       "<!-- train_acc -->\n",
       "<g id=\"node5\" class=\"node\">\n",
       "<title>train_acc</title>\n",
       "<path fill=\"none\" stroke=\"#268bd2\" stroke-width=\"2\" d=\"M130.5,-36C130.5,-36 60.5,-36 60.5,-36 54.5,-36 48.5,-30 48.5,-24 48.5,-24 48.5,-12 48.5,-12 48.5,-6 54.5,0 60.5,0 60.5,0 130.5,0 130.5,0 136.5,0 142.5,-6 142.5,-12 142.5,-12 142.5,-24 142.5,-24 142.5,-30 136.5,-36 130.5,-36\"/>\n",
       "<text text-anchor=\"start\" x=\"69\" y=\"-20.4\" font-family=\"Liberation Sans,Helvetica,Arial,sans-serif\" font-weight=\"bold\" font-size=\"12.00\" fill=\"#002b36\">train_acc</text>\n",
       "<text text-anchor=\"start\" x=\"56.5\" y=\"-10\" font-family=\"Liberation Sans,Helvetica,Arial,sans-serif\" font-size=\"10.00\" fill=\"#268bd2\">3 values (3 sinks)</text>\n",
       "</g>\n",
       "<!-- model -->\n",
       "<g id=\"node6\" class=\"node\">\n",
       "<title>model</title>\n",
       "<path fill=\"none\" stroke=\"#268bd2\" stroke-width=\"2\" d=\"M242.5,-36C242.5,-36 172.5,-36 172.5,-36 166.5,-36 160.5,-30 160.5,-24 160.5,-24 160.5,-12 160.5,-12 160.5,-6 166.5,0 172.5,0 172.5,0 242.5,0 242.5,0 248.5,0 254.5,-6 254.5,-12 254.5,-12 254.5,-24 254.5,-24 254.5,-30 248.5,-36 242.5,-36\"/>\n",
       "<text text-anchor=\"start\" x=\"189.5\" y=\"-20.4\" font-family=\"Liberation Sans,Helvetica,Arial,sans-serif\" font-weight=\"bold\" font-size=\"12.00\" fill=\"#002b36\">model</text>\n",
       "<text text-anchor=\"start\" x=\"168.5\" y=\"-10\" font-family=\"Liberation Sans,Helvetica,Arial,sans-serif\" font-size=\"10.00\" fill=\"#268bd2\">3 values (3 sinks)</text>\n",
       "</g>\n",
       "<!-- train_model&#45;&gt;train_acc -->\n",
       "<g id=\"edge1\" class=\"edge\">\n",
       "<title>train_model&#45;&gt;train_acc</title>\n",
       "<path fill=\"none\" stroke=\"#002b36\" d=\"M140.17,-93.98C131.73,-79.81 120.1,-60.3 110.83,-44.74\"/>\n",
       "<polygon fill=\"#002b36\" stroke=\"#002b36\" points=\"113.81,-42.9 105.69,-36.1 107.8,-46.48 113.81,-42.9\"/>\n",
       "<text text-anchor=\"middle\" x=\"150\" y=\"-68\" font-family=\"Liberation Sans,Helvetica,Arial,sans-serif\" font-size=\"10.00\" fill=\"#002b36\">output_0</text>\n",
       "<text text-anchor=\"middle\" x=\"150\" y=\"-57\" font-family=\"Liberation Sans,Helvetica,Arial,sans-serif\" font-size=\"10.00\" fill=\"#002b36\">(3 values)</text>\n",
       "</g>\n",
       "<!-- train_model&#45;&gt;model -->\n",
       "<g id=\"edge2\" class=\"edge\">\n",
       "<title>train_model&#45;&gt;model</title>\n",
       "<path fill=\"none\" stroke=\"#002b36\" d=\"M164.19,-93.94C167.91,-88.22 171.94,-81.9 175.5,-76 181.55,-65.99 187.91,-54.8 193.36,-45\"/>\n",
       "<polygon fill=\"#002b36\" stroke=\"#002b36\" points=\"196.49,-46.57 198.26,-36.12 190.36,-43.19 196.49,-46.57\"/>\n",
       "<text text-anchor=\"middle\" x=\"209\" y=\"-68\" font-family=\"Liberation Sans,Helvetica,Arial,sans-serif\" font-size=\"10.00\" fill=\"#002b36\">output_1</text>\n",
       "<text text-anchor=\"middle\" x=\"209\" y=\"-57\" font-family=\"Liberation Sans,Helvetica,Arial,sans-serif\" font-size=\"10.00\" fill=\"#002b36\">(3 values)</text>\n",
       "</g>\n",
       "<!-- generate_dataset&#45;&gt;X_train -->\n",
       "<g id=\"edge6\" class=\"edge\">\n",
       "<title>generate_dataset&#45;&gt;X_train</title>\n",
       "<path fill=\"none\" stroke=\"#002b36\" d=\"M169.75,-286C165.38,-280.57 161.22,-274.39 158.5,-268 154.55,-258.7 152.63,-247.83 151.75,-238.09\"/>\n",
       "<polygon fill=\"#002b36\" stroke=\"#002b36\" points=\"155.24,-237.87 151.16,-228.1 148.26,-238.28 155.24,-237.87\"/>\n",
       "<text text-anchor=\"middle\" x=\"180\" y=\"-260\" font-family=\"Liberation Sans,Helvetica,Arial,sans-serif\" font-size=\"10.00\" fill=\"#002b36\">output_0</text>\n",
       "<text text-anchor=\"middle\" x=\"180\" y=\"-249\" font-family=\"Liberation Sans,Helvetica,Arial,sans-serif\" font-size=\"10.00\" fill=\"#002b36\">(1 values)</text>\n",
       "</g>\n",
       "<!-- generate_dataset&#45;&gt;y_train -->\n",
       "<g id=\"edge7\" class=\"edge\">\n",
       "<title>generate_dataset&#45;&gt;y_train</title>\n",
       "<path fill=\"none\" stroke=\"#002b36\" d=\"M196.19,-285.98C201.81,-272.07 209.51,-253.03 215.74,-237.61\"/>\n",
       "<polygon fill=\"#002b36\" stroke=\"#002b36\" points=\"219.09,-238.68 219.59,-228.1 212.6,-236.06 219.09,-238.68\"/>\n",
       "<text text-anchor=\"middle\" x=\"233\" y=\"-260\" font-family=\"Liberation Sans,Helvetica,Arial,sans-serif\" font-size=\"10.00\" fill=\"#002b36\">output_2</text>\n",
       "<text text-anchor=\"middle\" x=\"233\" y=\"-249\" font-family=\"Liberation Sans,Helvetica,Arial,sans-serif\" font-size=\"10.00\" fill=\"#002b36\">(1 values)</text>\n",
       "</g>\n",
       "</g>\n",
       "</svg>\n"
      ],
      "text/plain": [
       "<graphviz.sources.Source at 0x71680d7b2a70>"
      ]
     },
     "metadata": {},
     "output_type": "display_data"
    },
    {
     "name": "stdout",
     "output_type": "stream",
     "text": [
      "\n",
      "Expanding forward the outputs:\n"
     ]
    },
    {
     "data": {
      "image/svg+xml": [
       "<?xml version=\"1.0\" encoding=\"UTF-8\" standalone=\"no\"?>\n",
       "<!DOCTYPE svg PUBLIC \"-//W3C//DTD SVG 1.1//EN\"\n",
       " \"http://www.w3.org/Graphics/SVG/1.1/DTD/svg11.dtd\">\n",
       "<!-- Generated by graphviz version 2.50.0 (0)\n",
       " -->\n",
       "<!-- Title: G Pages: 1 -->\n",
       "<svg width=\"359pt\" height=\"428pt\"\n",
       " viewBox=\"0.00 0.00 359.00 428.00\" xmlns=\"http://www.w3.org/2000/svg\" xmlns:xlink=\"http://www.w3.org/1999/xlink\">\n",
       "<g id=\"graph0\" class=\"graph\" transform=\"scale(1 1) rotate(0) translate(4 424)\">\n",
       "<title>G</title>\n",
       "<polygon fill=\"white\" stroke=\"transparent\" points=\"-4,4 -4,-424 355,-424 355,4 -4,4\"/>\n",
       "<!-- n_estimators -->\n",
       "<g id=\"node1\" class=\"node\">\n",
       "<title>n_estimators</title>\n",
       "<path fill=\"none\" stroke=\"#268bd2\" stroke-width=\"2\" d=\"M93,-420C93,-420 12,-420 12,-420 6,-420 0,-414 0,-408 0,-408 0,-396 0,-396 0,-390 6,-384 12,-384 12,-384 93,-384 93,-384 99,-384 105,-390 105,-396 105,-396 105,-408 105,-408 105,-414 99,-420 93,-420\"/>\n",
       "<text text-anchor=\"start\" x=\"15\" y=\"-404.4\" font-family=\"Liberation Sans,Helvetica,Arial,sans-serif\" font-weight=\"bold\" font-size=\"12.00\" fill=\"#002b36\">n_estimators</text>\n",
       "<text text-anchor=\"start\" x=\"8\" y=\"-394\" font-family=\"Liberation Sans,Helvetica,Arial,sans-serif\" font-size=\"10.00\" fill=\"#268bd2\">2 values (2 sources)</text>\n",
       "</g>\n",
       "<!-- train_model -->\n",
       "<g id=\"node7\" class=\"node\">\n",
       "<title>train_model</title>\n",
       "<path fill=\"none\" stroke=\"#dc322f\" stroke-width=\"2\" d=\"M209,-326C209,-326 142,-326 142,-326 136,-326 130,-320 130,-314 130,-314 130,-298 130,-298 130,-292 136,-286 142,-286 142,-286 209,-286 209,-286 215,-286 221,-292 221,-298 221,-298 221,-314 221,-314 221,-320 215,-326 209,-326\"/>\n",
       "<text text-anchor=\"start\" x=\"141.5\" y=\"-313.4\" font-family=\"Liberation Sans,Helvetica,Arial,sans-serif\" font-weight=\"bold\" font-size=\"12.00\" fill=\"#002b36\">train_model</text>\n",
       "<text text-anchor=\"start\" x=\"138\" y=\"-303\" font-family=\"Liberation Sans,Helvetica,Arial,sans-serif\" font-size=\"10.00\" fill=\"#002b36\">@op:train_model</text>\n",
       "<text text-anchor=\"start\" x=\"161\" y=\"-293\" font-family=\"Liberation Sans,Helvetica,Arial,sans-serif\" font-size=\"10.00\" fill=\"#dc322f\">3 calls</text>\n",
       "</g>\n",
       "<!-- n_estimators&#45;&gt;train_model -->\n",
       "<g id=\"edge4\" class=\"edge\">\n",
       "<title>n_estimators&#45;&gt;train_model</title>\n",
       "<path fill=\"none\" stroke=\"#002b36\" d=\"M69.33,-383.81C81.37,-371.96 98.25,-356.21 114.5,-344 120.29,-339.65 126.61,-335.36 132.92,-331.33\"/>\n",
       "<polygon fill=\"#002b36\" stroke=\"#002b36\" points=\"134.83,-334.26 141.48,-326.01 131.14,-328.32 134.83,-334.26\"/>\n",
       "<text text-anchor=\"middle\" x=\"143\" y=\"-358\" font-family=\"Liberation Sans,Helvetica,Arial,sans-serif\" font-size=\"10.00\" fill=\"#002b36\">n_estimators</text>\n",
       "<text text-anchor=\"middle\" x=\"143\" y=\"-347\" font-family=\"Liberation Sans,Helvetica,Arial,sans-serif\" font-size=\"10.00\" fill=\"#002b36\">(2 values)</text>\n",
       "</g>\n",
       "<!-- X_train -->\n",
       "<g id=\"node2\" class=\"node\">\n",
       "<title>X_train</title>\n",
       "<path fill=\"none\" stroke=\"#268bd2\" stroke-width=\"2\" d=\"M216,-420C216,-420 135,-420 135,-420 129,-420 123,-414 123,-408 123,-408 123,-396 123,-396 123,-390 129,-384 135,-384 135,-384 216,-384 216,-384 222,-384 228,-390 228,-396 228,-396 228,-408 228,-408 228,-414 222,-420 216,-420\"/>\n",
       "<text text-anchor=\"start\" x=\"155\" y=\"-404.4\" font-family=\"Liberation Sans,Helvetica,Arial,sans-serif\" font-weight=\"bold\" font-size=\"12.00\" fill=\"#002b36\">X_train</text>\n",
       "<text text-anchor=\"start\" x=\"131\" y=\"-394\" font-family=\"Liberation Sans,Helvetica,Arial,sans-serif\" font-size=\"10.00\" fill=\"#268bd2\">1 values (1 sources)</text>\n",
       "</g>\n",
       "<!-- X_train&#45;&gt;train_model -->\n",
       "<g id=\"edge3\" class=\"edge\">\n",
       "<title>X_train&#45;&gt;train_model</title>\n",
       "<path fill=\"none\" stroke=\"#002b36\" d=\"M175.5,-383.76C175.5,-370.5 175.5,-351.86 175.5,-336.27\"/>\n",
       "<polygon fill=\"#002b36\" stroke=\"#002b36\" points=\"179,-336.07 175.5,-326.07 172,-336.07 179,-336.07\"/>\n",
       "<text text-anchor=\"middle\" x=\"197\" y=\"-358\" font-family=\"Liberation Sans,Helvetica,Arial,sans-serif\" font-size=\"10.00\" fill=\"#002b36\">X_train</text>\n",
       "<text text-anchor=\"middle\" x=\"197\" y=\"-347\" font-family=\"Liberation Sans,Helvetica,Arial,sans-serif\" font-size=\"10.00\" fill=\"#002b36\">(1 values)</text>\n",
       "</g>\n",
       "<!-- y_train -->\n",
       "<g id=\"node3\" class=\"node\">\n",
       "<title>y_train</title>\n",
       "<path fill=\"none\" stroke=\"#268bd2\" stroke-width=\"2\" d=\"M339,-420C339,-420 258,-420 258,-420 252,-420 246,-414 246,-408 246,-408 246,-396 246,-396 246,-390 252,-384 258,-384 258,-384 339,-384 339,-384 345,-384 351,-390 351,-396 351,-396 351,-408 351,-408 351,-414 345,-420 339,-420\"/>\n",
       "<text text-anchor=\"start\" x=\"278.5\" y=\"-404.4\" font-family=\"Liberation Sans,Helvetica,Arial,sans-serif\" font-weight=\"bold\" font-size=\"12.00\" fill=\"#002b36\">y_train</text>\n",
       "<text text-anchor=\"start\" x=\"254\" y=\"-394\" font-family=\"Liberation Sans,Helvetica,Arial,sans-serif\" font-size=\"10.00\" fill=\"#268bd2\">1 values (1 sources)</text>\n",
       "</g>\n",
       "<!-- y_train&#45;&gt;train_model -->\n",
       "<g id=\"edge5\" class=\"edge\">\n",
       "<title>y_train&#45;&gt;train_model</title>\n",
       "<path fill=\"none\" stroke=\"#002b36\" d=\"M276.23,-383.98C257.4,-369.59 230.16,-348.78 208.76,-332.42\"/>\n",
       "<polygon fill=\"#002b36\" stroke=\"#002b36\" points=\"210.64,-329.45 200.57,-326.16 206.39,-335.02 210.64,-329.45\"/>\n",
       "<text text-anchor=\"middle\" x=\"273\" y=\"-358\" font-family=\"Liberation Sans,Helvetica,Arial,sans-serif\" font-size=\"10.00\" fill=\"#002b36\">y_train</text>\n",
       "<text text-anchor=\"middle\" x=\"273\" y=\"-347\" font-family=\"Liberation Sans,Helvetica,Arial,sans-serif\" font-size=\"10.00\" fill=\"#002b36\">(1 values)</text>\n",
       "</g>\n",
       "<!-- var_0 -->\n",
       "<g id=\"node4\" class=\"node\">\n",
       "<title>var_0</title>\n",
       "<path fill=\"none\" stroke=\"#268bd2\" stroke-width=\"2\" d=\"M160.5,-36C160.5,-36 90.5,-36 90.5,-36 84.5,-36 78.5,-30 78.5,-24 78.5,-24 78.5,-12 78.5,-12 78.5,-6 84.5,0 90.5,0 90.5,0 160.5,0 160.5,0 166.5,0 172.5,-6 172.5,-12 172.5,-12 172.5,-24 172.5,-24 172.5,-30 166.5,-36 160.5,-36\"/>\n",
       "<text text-anchor=\"start\" x=\"109.5\" y=\"-20.4\" font-family=\"Liberation Sans,Helvetica,Arial,sans-serif\" font-weight=\"bold\" font-size=\"12.00\" fill=\"#002b36\">var_0</text>\n",
       "<text text-anchor=\"start\" x=\"86.5\" y=\"-10\" font-family=\"Liberation Sans,Helvetica,Arial,sans-serif\" font-size=\"10.00\" fill=\"#268bd2\">3 values (3 sinks)</text>\n",
       "</g>\n",
       "<!-- train_acc -->\n",
       "<g id=\"node5\" class=\"node\">\n",
       "<title>train_acc</title>\n",
       "<path fill=\"none\" stroke=\"#268bd2\" stroke-width=\"2\" d=\"M148,-228C148,-228 103,-228 103,-228 97,-228 91,-222 91,-216 91,-216 91,-204 91,-204 91,-198 97,-192 103,-192 103,-192 148,-192 148,-192 154,-192 160,-198 160,-204 160,-204 160,-216 160,-216 160,-222 154,-228 148,-228\"/>\n",
       "<text text-anchor=\"start\" x=\"99\" y=\"-212.4\" font-family=\"Liberation Sans,Helvetica,Arial,sans-serif\" font-weight=\"bold\" font-size=\"12.00\" fill=\"#002b36\">train_acc</text>\n",
       "<text text-anchor=\"start\" x=\"107\" y=\"-202\" font-family=\"Liberation Sans,Helvetica,Arial,sans-serif\" font-size=\"10.00\" fill=\"#268bd2\">3 values</text>\n",
       "</g>\n",
       "<!-- eval_model -->\n",
       "<g id=\"node8\" class=\"node\">\n",
       "<title>eval_model</title>\n",
       "<path fill=\"none\" stroke=\"#dc322f\" stroke-width=\"2\" d=\"M158.5,-134C158.5,-134 92.5,-134 92.5,-134 86.5,-134 80.5,-128 80.5,-122 80.5,-122 80.5,-106 80.5,-106 80.5,-100 86.5,-94 92.5,-94 92.5,-94 158.5,-94 158.5,-94 164.5,-94 170.5,-100 170.5,-106 170.5,-106 170.5,-122 170.5,-122 170.5,-128 164.5,-134 158.5,-134\"/>\n",
       "<text text-anchor=\"start\" x=\"92.5\" y=\"-121.4\" font-family=\"Liberation Sans,Helvetica,Arial,sans-serif\" font-weight=\"bold\" font-size=\"12.00\" fill=\"#002b36\">eval_model</text>\n",
       "<text text-anchor=\"start\" x=\"88.5\" y=\"-111\" font-family=\"Liberation Sans,Helvetica,Arial,sans-serif\" font-size=\"10.00\" fill=\"#002b36\">@op:eval_model</text>\n",
       "<text text-anchor=\"start\" x=\"111\" y=\"-101\" font-family=\"Liberation Sans,Helvetica,Arial,sans-serif\" font-size=\"10.00\" fill=\"#dc322f\">3 calls</text>\n",
       "</g>\n",
       "<!-- train_acc&#45;&gt;eval_model -->\n",
       "<g id=\"edge6\" class=\"edge\">\n",
       "<title>train_acc&#45;&gt;eval_model</title>\n",
       "<path fill=\"none\" stroke=\"#002b36\" d=\"M125.5,-191.76C125.5,-178.5 125.5,-159.86 125.5,-144.27\"/>\n",
       "<polygon fill=\"#002b36\" stroke=\"#002b36\" points=\"129,-144.07 125.5,-134.07 122,-144.07 129,-144.07\"/>\n",
       "<text text-anchor=\"middle\" x=\"147\" y=\"-166\" font-family=\"Liberation Sans,Helvetica,Arial,sans-serif\" font-size=\"10.00\" fill=\"#002b36\">model</text>\n",
       "<text text-anchor=\"middle\" x=\"147\" y=\"-155\" font-family=\"Liberation Sans,Helvetica,Arial,sans-serif\" font-size=\"10.00\" fill=\"#002b36\">(3 values)</text>\n",
       "</g>\n",
       "<!-- model -->\n",
       "<g id=\"node6\" class=\"node\">\n",
       "<title>model</title>\n",
       "<path fill=\"none\" stroke=\"#268bd2\" stroke-width=\"2\" d=\"M260.5,-228C260.5,-228 190.5,-228 190.5,-228 184.5,-228 178.5,-222 178.5,-216 178.5,-216 178.5,-204 178.5,-204 178.5,-198 184.5,-192 190.5,-192 190.5,-192 260.5,-192 260.5,-192 266.5,-192 272.5,-198 272.5,-204 272.5,-204 272.5,-216 272.5,-216 272.5,-222 266.5,-228 260.5,-228\"/>\n",
       "<text text-anchor=\"start\" x=\"207.5\" y=\"-212.4\" font-family=\"Liberation Sans,Helvetica,Arial,sans-serif\" font-weight=\"bold\" font-size=\"12.00\" fill=\"#002b36\">model</text>\n",
       "<text text-anchor=\"start\" x=\"186.5\" y=\"-202\" font-family=\"Liberation Sans,Helvetica,Arial,sans-serif\" font-size=\"10.00\" fill=\"#268bd2\">3 values (3 sinks)</text>\n",
       "</g>\n",
       "<!-- train_model&#45;&gt;train_acc -->\n",
       "<g id=\"edge1\" class=\"edge\">\n",
       "<title>train_model&#45;&gt;train_acc</title>\n",
       "<path fill=\"none\" stroke=\"#002b36\" d=\"M165.38,-285.98C157.91,-271.94 147.66,-252.66 139.42,-237.17\"/>\n",
       "<polygon fill=\"#002b36\" stroke=\"#002b36\" points=\"142.38,-235.28 134.59,-228.1 136.2,-238.57 142.38,-235.28\"/>\n",
       "<text text-anchor=\"middle\" x=\"176\" y=\"-260\" font-family=\"Liberation Sans,Helvetica,Arial,sans-serif\" font-size=\"10.00\" fill=\"#002b36\">output_0</text>\n",
       "<text text-anchor=\"middle\" x=\"176\" y=\"-249\" font-family=\"Liberation Sans,Helvetica,Arial,sans-serif\" font-size=\"10.00\" fill=\"#002b36\">(3 values)</text>\n",
       "</g>\n",
       "<!-- train_model&#45;&gt;model -->\n",
       "<g id=\"edge2\" class=\"edge\">\n",
       "<title>train_model&#45;&gt;model</title>\n",
       "<path fill=\"none\" stroke=\"#002b36\" d=\"M190.07,-285.92C194.04,-280.31 198.15,-274.04 201.5,-268 206.79,-258.45 211.66,-247.49 215.61,-237.75\"/>\n",
       "<polygon fill=\"#002b36\" stroke=\"#002b36\" points=\"218.99,-238.74 219.38,-228.16 212.47,-236.19 218.99,-238.74\"/>\n",
       "<text text-anchor=\"middle\" x=\"233\" y=\"-260\" font-family=\"Liberation Sans,Helvetica,Arial,sans-serif\" font-size=\"10.00\" fill=\"#002b36\">output_1</text>\n",
       "<text text-anchor=\"middle\" x=\"233\" y=\"-249\" font-family=\"Liberation Sans,Helvetica,Arial,sans-serif\" font-size=\"10.00\" fill=\"#002b36\">(3 values)</text>\n",
       "</g>\n",
       "<!-- eval_model&#45;&gt;var_0 -->\n",
       "<g id=\"edge7\" class=\"edge\">\n",
       "<title>eval_model&#45;&gt;var_0</title>\n",
       "<path fill=\"none\" stroke=\"#002b36\" d=\"M125.5,-93.98C125.5,-80.34 125.5,-61.75 125.5,-46.5\"/>\n",
       "<polygon fill=\"#002b36\" stroke=\"#002b36\" points=\"129,-46.1 125.5,-36.1 122,-46.1 129,-46.1\"/>\n",
       "<text text-anchor=\"middle\" x=\"147\" y=\"-68\" font-family=\"Liberation Sans,Helvetica,Arial,sans-serif\" font-size=\"10.00\" fill=\"#002b36\">output_0</text>\n",
       "<text text-anchor=\"middle\" x=\"147\" y=\"-57\" font-family=\"Liberation Sans,Helvetica,Arial,sans-serif\" font-size=\"10.00\" fill=\"#002b36\">(3 values)</text>\n",
       "</g>\n",
       "</g>\n",
       "</svg>\n"
      ],
      "text/plain": [
       "<graphviz.sources.Source at 0x71680d7b17b0>"
      ]
     },
     "metadata": {},
     "output_type": "display_data"
    }
   ],
   "source": [
    "print('Expanding back the inputs:')\n",
    "cf.expand_back(varnames=[\"X_train\", \"y_train\"]).draw(verbose=True)\n",
    "print('\\nExpanding forward the outputs:')\n",
    "cf.expand_forward(varnames=['model', 'train_acc']).draw(verbose=True)"
   ]
  },
  {
   "cell_type": "markdown",
   "metadata": {},
   "source": [
    "We can perform a full expansion (until we can't go back or forward) with the\n",
    "`.expand()` method:"
   ]
  },
  {
   "cell_type": "code",
   "execution_count": 11,
   "metadata": {
    "execution": {
     "iopub.execute_input": "2024-07-05T18:53:54.508727Z",
     "iopub.status.busy": "2024-07-05T18:53:54.508508Z",
     "iopub.status.idle": "2024-07-05T18:53:54.574240Z",
     "shell.execute_reply": "2024-07-05T18:53:54.573703Z"
    }
   },
   "outputs": [
    {
     "data": {
      "text/plain": [
       "ComputationFrame with:\n",
       "    7 variable(s) (14 unique refs)\n",
       "    3 operation(s) (7 unique calls)\n",
       "Computational graph:\n",
       "    X_train@output_0, y_train@output_2 = generate_dataset(random_seed=random_seed)\n",
       "    train_acc@output_0, model@output_1 = train_model(X_train=X_train, n_estimators=n_estimators, y_train=y_train)\n",
       "    var_0@output_0 = eval_model(model=train_acc)"
      ]
     },
     "execution_count": 11,
     "metadata": {},
     "output_type": "execute_result"
    }
   ],
   "source": [
    "expanded_cf = cf.expand_all()\n",
    "expanded_cf"
   ]
  },
  {
   "cell_type": "markdown",
   "metadata": {},
   "source": [
    "Note that the extracted CF represents a \"partial\" computation graph: the\n",
    "variables for `X_test`and `y_test` were not reached during this traversal\n",
    "(though they can be added). Finally, we can (again) extract a dataframe from\n",
    "this CF:"
   ]
  },
  {
   "cell_type": "code",
   "execution_count": 12,
   "metadata": {
    "execution": {
     "iopub.execute_input": "2024-07-05T18:53:54.576670Z",
     "iopub.status.busy": "2024-07-05T18:53:54.576434Z",
     "iopub.status.idle": "2024-07-05T18:53:54.657577Z",
     "shell.execute_reply": "2024-07-05T18:53:54.656886Z"
    }
   },
   "outputs": [
    {
     "name": "stdout",
     "output_type": "stream",
     "text": [
      "Extracting tuples from the computation graph:\n",
      "    X_train@output_0, y_train@output_2 = generate_dataset(random_seed=random_seed)\n",
      "    train_acc@output_0, model@output_1 = train_model(X_train=X_train, y_train=y_train, n_estimators=n_estimators)\n",
      "    var_0@output_0 = eval_model(model=train_acc)\n",
      "Found variables {'var_0', 'model'} containing final elements\n",
      "    For variable var_0, found dependencies in nodes Index(['X_train', 'random_seed', 'y_train', 'var_0', 'train_acc',\n",
      "       'train_model', 'eval_model', 'generate_dataset', 'n_estimators'],\n",
      "      dtype='object')\n",
      "    For variable model, found dependencies in nodes Index(['X_train', 'n_estimators', 'random_seed', 'y_train', 'model',\n",
      "       'train_model', 'generate_dataset'],\n",
      "      dtype='object')\n",
      "   Merging history for the variable model on columns: {'train_model', 'n_estimators', 'generate_dataset', 'X_train', 'random_seed', 'y_train'}\n",
      "|    |   random_seed | generate_dataset                                   |   n_estimators | train_model                                   |   model | train_acc                               | eval_model                                   |   var_0 |\n",
      "|---:|--------------:|:---------------------------------------------------|---------------:|:----------------------------------------------|--------:|:----------------------------------------|:---------------------------------------------|--------:|\n",
      "|  0 |            42 | Call(generate_dataset, cid='19a...', hid='c3f...') |            nan | Call(train_model, cid='ca5...', hid='ac0...') |    0.91 | RandomForestClassifier(n_estimators=1)  | Call(eval_model, cid='fa7...', hid='c5a...') |    0.76 |\n",
      "|  1 |            42 | Call(generate_dataset, cid='19a...', hid='c3f...') |             10 | Call(train_model, cid='c4f...', hid='5f7...') |    1    | RandomForestClassifier(n_estimators=10) | Call(eval_model, cid='490...', hid='ed5...') |    0.94 |\n",
      "|  2 |            42 | Call(generate_dataset, cid='19a...', hid='c3f...') |            100 | Call(train_model, cid='bb3...', hid='255...') |    1    | RandomForestClassifier()                | Call(eval_model, cid='7f4...', hid='07b...') |    0.98 |\n"
     ]
    }
   ],
   "source": [
    "df = expanded_cf.df().drop(columns=['X_train', 'y_train']) # drop to avoid a bit of clutter\n",
    "print(df.to_markdown())"
   ]
  },
  {
   "cell_type": "markdown",
   "metadata": {},
   "source": [
    "### Using computation frames for high-level operations\n",
    "Finally, we can illustrate the use of computation frames for easy declarative\n",
    "operations over the storage, even in the presence of highly heterogeneous\n",
    "experiments. To make this more interesting, let's train some more models:"
   ]
  },
  {
   "cell_type": "code",
   "execution_count": 13,
   "metadata": {
    "execution": {
     "iopub.execute_input": "2024-07-05T18:53:54.660101Z",
     "iopub.status.busy": "2024-07-05T18:53:54.659857Z",
     "iopub.status.idle": "2024-07-05T18:53:55.252403Z",
     "shell.execute_reply": "2024-07-05T18:53:55.251771Z"
    }
   },
   "outputs": [
    {
     "name": "stdout",
     "output_type": "stream",
     "text": [
      "Training model...\n",
      "Training model...\n",
      "Training model...\n",
      "Training model...\n"
     ]
    }
   ],
   "source": [
    "@op\n",
    "def train_model(X_train, y_train,\n",
    "                n_estimators=NewArgDefault(1),\n",
    "                max_depth=NewArgDefault(None) # one more backward-compatible argument\n",
    "                ):\n",
    "    print(f\"Training model...\")\n",
    "    model = RandomForestClassifier(n_estimators=n_estimators, max_depth=max_depth)\n",
    "    model.fit(X_train, y_train)\n",
    "    return model, round(model.score(X_train, y_train), 2)\n",
    "\n",
    "with storage: \n",
    "    X_train, X_test, y_train, y_test = generate_dataset()\n",
    "    for n_estimators in [10, 100]:\n",
    "        for max_depth in [1, 2]:\n",
    "            model, train_acc = train_model(X_train, y_train, n_estimators=n_estimators, max_depth=max_depth)"
   ]
  },
  {
   "cell_type": "markdown",
   "metadata": {},
   "source": [
    "We left out the call to `eval_model` on purpose to illustrate how CFs handle\n",
    "heterogeneous and partial computations. \n",
    "\n",
    "As before, we build a big CF by expanding backward and forward from\n",
    "`train_model`, and then extract a dataframe:"
   ]
  },
  {
   "cell_type": "code",
   "execution_count": 14,
   "metadata": {
    "execution": {
     "iopub.execute_input": "2024-07-05T18:53:55.254962Z",
     "iopub.status.busy": "2024-07-05T18:53:55.254702Z",
     "iopub.status.idle": "2024-07-05T18:53:55.470891Z",
     "shell.execute_reply": "2024-07-05T18:53:55.470248Z"
    }
   },
   "outputs": [
    {
     "name": "stdout",
     "output_type": "stream",
     "text": [
      "Extracting tuples from the computation graph:\n",
      "    X_train@output_0, y_train@output_2 = generate_dataset(random_seed=random_seed)\n",
      "    model@output_0, train_acc@output_1 = train_model(X_train=X_train, max_depth=max_depth, y_train=y_train, n_estimators=n_estimators)\n",
      "    eval_acc@output_0 = eval_model(model=model)\n",
      "Found variables {'train_acc', 'eval_acc', 'model'} containing final elements\n",
      "    For variable train_acc, found dependencies in nodes Index(['n_estimators', 'max_depth', 'X_train', 'random_seed', 'y_train',\n",
      "       'train_acc', 'train_model', 'generate_dataset'],\n",
      "      dtype='object')\n",
      "    For variable model, found dependencies in nodes Index(['X_train', 'n_estimators', 'random_seed', 'y_train', 'model',\n",
      "       'train_model', 'generate_dataset', 'max_depth'],\n",
      "      dtype='object')\n",
      "    For variable eval_acc, found dependencies in nodes Index(['n_estimators', 'eval_acc', 'X_train', 'random_seed', 'y_train',\n",
      "       'model', 'train_model', 'eval_model', 'generate_dataset'],\n",
      "      dtype='object')\n",
      "   Merging history for the variable model on columns: {'train_model', 'n_estimators', 'generate_dataset', 'max_depth', 'X_train', 'random_seed', 'y_train'}\n",
      "   Merging history for the variable eval_acc on columns: {'train_model', 'n_estimators', 'generate_dataset', 'X_train', 'random_seed', 'y_train', 'model'}\n",
      "|    |   random_seed | generate_dataset                                   |   max_depth |   n_estimators | train_model                                   |   train_acc | model                                                | eval_model                                   |   eval_acc |\n",
      "|---:|--------------:|:---------------------------------------------------|------------:|---------------:|:----------------------------------------------|------------:|:-----------------------------------------------------|:---------------------------------------------|-----------:|\n",
      "|  0 |            42 | Call(generate_dataset, cid='19a...', hid='c3f...') |           2 |             10 | Call(train_model, cid='872...', hid='e61...') |        0.71 | RandomForestClassifier(max_depth=2, n_estimators=10) |                                              |     nan    |\n",
      "|  1 |            42 | Call(generate_dataset, cid='19a...', hid='c3f...') |           1 |            100 | Call(train_model, cid='002...', hid='561...') |        0.7  | RandomForestClassifier(max_depth=1)                  |                                              |     nan    |\n",
      "|  2 |            42 | Call(generate_dataset, cid='19a...', hid='c3f...') |         nan |            nan | Call(train_model, cid='ca5...', hid='ac0...') |        0.91 | RandomForestClassifier(n_estimators=1)               | Call(eval_model, cid='fa7...', hid='c5a...') |       0.76 |\n",
      "|  3 |            42 | Call(generate_dataset, cid='19a...', hid='c3f...') |         nan |            100 | Call(train_model, cid='bb3...', hid='255...') |        1    | RandomForestClassifier()                             | Call(eval_model, cid='7f4...', hid='07b...') |       0.98 |\n",
      "|  4 |            42 | Call(generate_dataset, cid='19a...', hid='c3f...') |           1 |             10 | Call(train_model, cid='22f...', hid='f56...') |        0.59 | RandomForestClassifier(max_depth=1, n_estimators=10) |                                              |     nan    |\n",
      "|  5 |            42 | Call(generate_dataset, cid='19a...', hid='c3f...') |         nan |             10 | Call(train_model, cid='c4f...', hid='5f7...') |        1    | RandomForestClassifier(n_estimators=10)              | Call(eval_model, cid='490...', hid='ed5...') |       0.94 |\n",
      "|  6 |            42 | Call(generate_dataset, cid='19a...', hid='c3f...') |           2 |            100 | Call(train_model, cid='4f4...', hid='fe1...') |        0.84 | RandomForestClassifier(max_depth=2)                  |                                              |     nan    |\n"
     ]
    }
   ],
   "source": [
    "cf = storage.cf(train_model).expand_all().rename(vars={'var_0': 'model', 'var_1': 'train_acc', 'var_2': 'eval_acc'})\n",
    "# use `lazy_vars` to avoid loading the large arrays which we don't need\n",
    "df = cf.df(lazy_vars=['X_train', 'y_train'], join_how='outer').drop(columns=['X_train', 'y_train'])\n",
    "print(df.to_markdown())"
   ]
  },
  {
   "cell_type": "markdown",
   "metadata": {},
   "source": [
    "We see that the various missing computational paths show up as `NaN`s in the \n",
    "table, under either variables (e.g. `max_depth`) or operations (e.g.\n",
    "`eval_model`). \n",
    "\n",
    "Suppose we want the models where train accuracy was above 0.8 and max depth was 2. \n",
    "We can do this with familiar dataframe operations:"
   ]
  },
  {
   "cell_type": "code",
   "execution_count": 15,
   "metadata": {
    "execution": {
     "iopub.execute_input": "2024-07-05T18:53:55.473490Z",
     "iopub.status.busy": "2024-07-05T18:53:55.473234Z",
     "iopub.status.idle": "2024-07-05T18:53:55.503514Z",
     "shell.execute_reply": "2024-07-05T18:53:55.502825Z"
    }
   },
   "outputs": [
    {
     "data": {
      "text/plain": [
       "[RandomForestClassifier(max_depth=2)]"
      ]
     },
     "execution_count": 15,
     "metadata": {},
     "output_type": "execute_result"
    }
   ],
   "source": [
    "df.query('train_acc > 0.8 and max_depth == 2').model.tolist()"
   ]
  },
  {
   "cell_type": "markdown",
   "metadata": {},
   "source": [
    "Similarly, we can manipulate storage by e.g. deleting calls based on this\n",
    "dataframe. For example, we can delete all calls to `train_model` where \n",
    "`train_acc < 0.8`:"
   ]
  },
  {
   "cell_type": "code",
   "execution_count": 16,
   "metadata": {
    "execution": {
     "iopub.execute_input": "2024-07-05T18:53:55.506578Z",
     "iopub.status.busy": "2024-07-05T18:53:55.506338Z",
     "iopub.status.idle": "2024-07-05T18:53:55.706352Z",
     "shell.execute_reply": "2024-07-05T18:53:55.705709Z"
    }
   },
   "outputs": [
    {
     "data": {
      "text/html": [
       "<pre style=\"white-space:pre;overflow-x:auto;line-height:normal;font-family:Menlo,'DejaVu Sans Mono',consolas,'Courier New',monospace\"><span style=\"color: #7fbfbf; text-decoration-color: #7fbfbf\">[21:53:55] </span><span style=\"color: #000080; text-decoration-color: #000080\">INFO    </span> Dropped <span style=\"color: #008080; text-decoration-color: #008080; font-weight: bold\">3</span> calls <span style=\"font-weight: bold\">(</span>and <span style=\"color: #008080; text-decoration-color: #008080; font-weight: bold\">3</span> from cache<span style=\"font-weight: bold\">)</span>.                                              <span style=\"color: #7f7f7f; text-decoration-color: #7f7f7f\">storage.py:346</span>\n",
       "</pre>\n"
      ],
      "text/plain": [
       "\u001b[2;36m[21:53:55]\u001b[0m\u001b[2;36m \u001b[0m\u001b[34mINFO    \u001b[0m Dropped \u001b[1;36m3\u001b[0m calls \u001b[1m(\u001b[0mand \u001b[1;36m3\u001b[0m from cache\u001b[1m)\u001b[0m.                                              \u001b[2mstorage.py\u001b[0m\u001b[2m:\u001b[0m\u001b[2m346\u001b[0m\n"
      ]
     },
     "metadata": {},
     "output_type": "display_data"
    },
    {
     "name": "stdout",
     "output_type": "stream",
     "text": [
      "Extracting tuples from the computation graph:\n",
      "    X_train@output_0, y_train@output_2 = generate_dataset(random_seed=random_seed)\n",
      "    train_acc@output_0, model@output_1 = train_model(X_train=X_train, max_depth=max_depth, y_train=y_train, n_estimators=n_estimators)\n",
      "    eval_acc@output_0 = eval_model(model=train_acc)\n",
      "Found variables {'train_acc', 'eval_acc', 'model'} containing final elements\n",
      "    For variable train_acc, found dependencies in nodes Index(['X_train', 'n_estimators', 'random_seed', 'y_train', 'train_acc',\n",
      "       'train_model', 'generate_dataset', 'max_depth'],\n",
      "      dtype='object')\n",
      "    For variable eval_acc, found dependencies in nodes Index(['n_estimators', 'eval_acc', 'X_train', 'random_seed', 'y_train',\n",
      "       'train_acc', 'train_model', 'eval_model', 'generate_dataset'],\n",
      "      dtype='object')\n",
      "    For variable model, found dependencies in nodes Index(['X_train', 'random_seed', 'y_train', 'model', 'train_model',\n",
      "       'generate_dataset', 'n_estimators', 'max_depth'],\n",
      "      dtype='object')\n",
      "   Merging history for the variable eval_acc on columns: {'train_model', 'n_estimators', 'generate_dataset', 'X_train', 'random_seed', 'y_train', 'train_acc'}\n",
      "   Merging history for the variable model on columns: {'train_model', 'n_estimators', 'generate_dataset', 'max_depth', 'X_train', 'random_seed', 'y_train'}\n",
      "|    |   random_seed | generate_dataset                                   |   max_depth |   n_estimators | train_model                                   |   model | train_acc                               | eval_model                                   |   eval_acc |\n",
      "|---:|--------------:|:---------------------------------------------------|------------:|---------------:|:----------------------------------------------|--------:|:----------------------------------------|:---------------------------------------------|-----------:|\n",
      "|  0 |            42 | Call(generate_dataset, cid='19a...', hid='c3f...') |         nan |             10 | Call(train_model, cid='c4f...', hid='5f7...') |    1    | RandomForestClassifier(n_estimators=10) | Call(eval_model, cid='490...', hid='ed5...') |       0.94 |\n",
      "|  1 |            42 | Call(generate_dataset, cid='19a...', hid='c3f...') |           2 |            100 | Call(train_model, cid='4f4...', hid='fe1...') |    0.84 | RandomForestClassifier(max_depth=2)     |                                              |     nan    |\n",
      "|  2 |            42 | Call(generate_dataset, cid='19a...', hid='c3f...') |         nan |            100 | Call(train_model, cid='bb3...', hid='255...') |    1    | RandomForestClassifier()                | Call(eval_model, cid='7f4...', hid='07b...') |       0.98 |\n",
      "|  3 |            42 | Call(generate_dataset, cid='19a...', hid='c3f...') |         nan |            nan | Call(train_model, cid='ca5...', hid='ac0...') |    0.91 | RandomForestClassifier(n_estimators=1)  | Call(eval_model, cid='fa7...', hid='c5a...') |       0.76 |\n"
     ]
    }
   ],
   "source": [
    "storage.drop_calls(df.query('train_acc < 0.8').train_model, delete_dependents=True)\n",
    "# now check that the dropped calls are gone\n",
    "cf = storage.cf(train_model).expand_all().rename(vars={'var_1': 'model', 'var_0': 'train_acc', 'var_2': 'eval_acc'})\n",
    "df = cf.df(lazy_vars=['X_train', 'y_train']).drop(columns=['X_train', 'y_train'])\n",
    "print(df.to_markdown())"
   ]
  },
  {
   "cell_type": "code",
   "execution_count": 17,
   "metadata": {
    "execution": {
     "iopub.execute_input": "2024-07-05T18:53:55.708941Z",
     "iopub.status.busy": "2024-07-05T18:53:55.708681Z",
     "iopub.status.idle": "2024-07-05T18:53:55.809975Z",
     "shell.execute_reply": "2024-07-05T18:53:55.809374Z"
    }
   },
   "outputs": [
    {
     "data": {
      "image/svg+xml": [
       "<?xml version=\"1.0\" encoding=\"UTF-8\" standalone=\"no\"?>\n",
       "<!DOCTYPE svg PUBLIC \"-//W3C//DTD SVG 1.1//EN\"\n",
       " \"http://www.w3.org/Graphics/SVG/1.1/DTD/svg11.dtd\">\n",
       "<!-- Generated by graphviz version 2.50.0 (0)\n",
       " -->\n",
       "<!-- Title: G Pages: 1 -->\n",
       "<svg width=\"386pt\" height=\"620pt\"\n",
       " viewBox=\"0.00 0.00 385.50 620.00\" xmlns=\"http://www.w3.org/2000/svg\" xmlns:xlink=\"http://www.w3.org/1999/xlink\">\n",
       "<g id=\"graph0\" class=\"graph\" transform=\"scale(1 1) rotate(0) translate(4 616)\">\n",
       "<title>G</title>\n",
       "<polygon fill=\"white\" stroke=\"transparent\" points=\"-4,4 -4,-616 381.5,-616 381.5,4 -4,4\"/>\n",
       "<!-- n_estimators -->\n",
       "<g id=\"node1\" class=\"node\">\n",
       "<title>n_estimators</title>\n",
       "<path fill=\"none\" stroke=\"#268bd2\" stroke-width=\"2\" d=\"M93,-420C93,-420 12,-420 12,-420 6,-420 0,-414 0,-408 0,-408 0,-396 0,-396 0,-390 6,-384 12,-384 12,-384 93,-384 93,-384 99,-384 105,-390 105,-396 105,-396 105,-408 105,-408 105,-414 99,-420 93,-420\"/>\n",
       "<text text-anchor=\"start\" x=\"15\" y=\"-404.4\" font-family=\"Liberation Sans,Helvetica,Arial,sans-serif\" font-weight=\"bold\" font-size=\"12.00\" fill=\"#002b36\">n_estimators</text>\n",
       "<text text-anchor=\"start\" x=\"8\" y=\"-394\" font-family=\"Liberation Sans,Helvetica,Arial,sans-serif\" font-size=\"10.00\" fill=\"#268bd2\">2 values (2 sources)</text>\n",
       "</g>\n",
       "<!-- train_model -->\n",
       "<g id=\"node9\" class=\"node\">\n",
       "<title>train_model</title>\n",
       "<path fill=\"none\" stroke=\"#dc322f\" stroke-width=\"2\" d=\"M251,-326C251,-326 184,-326 184,-326 178,-326 172,-320 172,-314 172,-314 172,-298 172,-298 172,-292 178,-286 184,-286 184,-286 251,-286 251,-286 257,-286 263,-292 263,-298 263,-298 263,-314 263,-314 263,-320 257,-326 251,-326\"/>\n",
       "<text text-anchor=\"start\" x=\"183.5\" y=\"-313.4\" font-family=\"Liberation Sans,Helvetica,Arial,sans-serif\" font-weight=\"bold\" font-size=\"12.00\" fill=\"#002b36\">train_model</text>\n",
       "<text text-anchor=\"start\" x=\"180\" y=\"-303\" font-family=\"Liberation Sans,Helvetica,Arial,sans-serif\" font-size=\"10.00\" fill=\"#002b36\">@op:train_model</text>\n",
       "<text text-anchor=\"start\" x=\"203\" y=\"-293\" font-family=\"Liberation Sans,Helvetica,Arial,sans-serif\" font-size=\"10.00\" fill=\"#dc322f\">4 calls</text>\n",
       "</g>\n",
       "<!-- n_estimators&#45;&gt;train_model -->\n",
       "<g id=\"edge5\" class=\"edge\">\n",
       "<title>n_estimators&#45;&gt;train_model</title>\n",
       "<path fill=\"none\" stroke=\"#002b36\" d=\"M69.72,-383.75C82.78,-371.4 101.64,-355.08 120.5,-344 133.38,-336.44 148.09,-329.89 162.09,-324.5\"/>\n",
       "<polygon fill=\"#002b36\" stroke=\"#002b36\" points=\"163.48,-327.72 171.64,-320.95 161.04,-321.15 163.48,-327.72\"/>\n",
       "<text text-anchor=\"middle\" x=\"149\" y=\"-358\" font-family=\"Liberation Sans,Helvetica,Arial,sans-serif\" font-size=\"10.00\" fill=\"#002b36\">n_estimators</text>\n",
       "<text text-anchor=\"middle\" x=\"149\" y=\"-347\" font-family=\"Liberation Sans,Helvetica,Arial,sans-serif\" font-size=\"10.00\" fill=\"#002b36\">(2 values)</text>\n",
       "</g>\n",
       "<!-- eval_acc -->\n",
       "<g id=\"node2\" class=\"node\">\n",
       "<title>eval_acc</title>\n",
       "<path fill=\"none\" stroke=\"#268bd2\" stroke-width=\"2\" d=\"M196.5,-36C196.5,-36 126.5,-36 126.5,-36 120.5,-36 114.5,-30 114.5,-24 114.5,-24 114.5,-12 114.5,-12 114.5,-6 120.5,0 126.5,0 126.5,0 196.5,0 196.5,0 202.5,0 208.5,-6 208.5,-12 208.5,-12 208.5,-24 208.5,-24 208.5,-30 202.5,-36 196.5,-36\"/>\n",
       "<text text-anchor=\"start\" x=\"136\" y=\"-20.4\" font-family=\"Liberation Sans,Helvetica,Arial,sans-serif\" font-weight=\"bold\" font-size=\"12.00\" fill=\"#002b36\">eval_acc</text>\n",
       "<text text-anchor=\"start\" x=\"122.5\" y=\"-10\" font-family=\"Liberation Sans,Helvetica,Arial,sans-serif\" font-size=\"10.00\" fill=\"#268bd2\">3 values (3 sinks)</text>\n",
       "</g>\n",
       "<!-- max_depth -->\n",
       "<g id=\"node3\" class=\"node\">\n",
       "<title>max_depth</title>\n",
       "<path fill=\"none\" stroke=\"#268bd2\" stroke-width=\"2\" d=\"M216,-420C216,-420 135,-420 135,-420 129,-420 123,-414 123,-408 123,-408 123,-396 123,-396 123,-390 129,-384 135,-384 135,-384 216,-384 216,-384 222,-384 228,-390 228,-396 228,-396 228,-408 228,-408 228,-414 222,-420 216,-420\"/>\n",
       "<text text-anchor=\"start\" x=\"143.5\" y=\"-404.4\" font-family=\"Liberation Sans,Helvetica,Arial,sans-serif\" font-weight=\"bold\" font-size=\"12.00\" fill=\"#002b36\">max_depth</text>\n",
       "<text text-anchor=\"start\" x=\"131\" y=\"-394\" font-family=\"Liberation Sans,Helvetica,Arial,sans-serif\" font-size=\"10.00\" fill=\"#268bd2\">1 values (1 sources)</text>\n",
       "</g>\n",
       "<!-- max_depth&#45;&gt;train_model -->\n",
       "<g id=\"edge4\" class=\"edge\">\n",
       "<title>max_depth&#45;&gt;train_model</title>\n",
       "<path fill=\"none\" stroke=\"#002b36\" d=\"M177.83,-383.93C179.86,-372.27 183.46,-356.7 189.5,-344 191.04,-340.77 192.88,-337.56 194.88,-334.44\"/>\n",
       "<polygon fill=\"#002b36\" stroke=\"#002b36\" points=\"197.92,-336.2 200.8,-326 192.19,-332.18 197.92,-336.2\"/>\n",
       "<text text-anchor=\"middle\" x=\"214\" y=\"-358\" font-family=\"Liberation Sans,Helvetica,Arial,sans-serif\" font-size=\"10.00\" fill=\"#002b36\">max_depth</text>\n",
       "<text text-anchor=\"middle\" x=\"214\" y=\"-347\" font-family=\"Liberation Sans,Helvetica,Arial,sans-serif\" font-size=\"10.00\" fill=\"#002b36\">(1 values)</text>\n",
       "</g>\n",
       "<!-- X_train -->\n",
       "<g id=\"node4\" class=\"node\">\n",
       "<title>X_train</title>\n",
       "<path fill=\"none\" stroke=\"#268bd2\" stroke-width=\"2\" d=\"M291,-420C291,-420 258,-420 258,-420 252,-420 246,-414 246,-408 246,-408 246,-396 246,-396 246,-390 252,-384 258,-384 258,-384 291,-384 291,-384 297,-384 303,-390 303,-396 303,-396 303,-408 303,-408 303,-414 297,-420 291,-420\"/>\n",
       "<text text-anchor=\"start\" x=\"254\" y=\"-404.4\" font-family=\"Liberation Sans,Helvetica,Arial,sans-serif\" font-weight=\"bold\" font-size=\"12.00\" fill=\"#002b36\">X_train</text>\n",
       "<text text-anchor=\"start\" x=\"256\" y=\"-394\" font-family=\"Liberation Sans,Helvetica,Arial,sans-serif\" font-size=\"10.00\" fill=\"#268bd2\">1 values</text>\n",
       "</g>\n",
       "<!-- X_train&#45;&gt;train_model -->\n",
       "<g id=\"edge3\" class=\"edge\">\n",
       "<title>X_train&#45;&gt;train_model</title>\n",
       "<path fill=\"none\" stroke=\"#002b36\" d=\"M264.05,-383.76C255.77,-370.11 244.05,-350.78 234.44,-334.93\"/>\n",
       "<polygon fill=\"#002b36\" stroke=\"#002b36\" points=\"237.24,-332.81 229.06,-326.07 231.26,-336.44 237.24,-332.81\"/>\n",
       "<text text-anchor=\"middle\" x=\"274\" y=\"-358\" font-family=\"Liberation Sans,Helvetica,Arial,sans-serif\" font-size=\"10.00\" fill=\"#002b36\">X_train</text>\n",
       "<text text-anchor=\"middle\" x=\"274\" y=\"-347\" font-family=\"Liberation Sans,Helvetica,Arial,sans-serif\" font-size=\"10.00\" fill=\"#002b36\">(1 values)</text>\n",
       "</g>\n",
       "<!-- random_seed -->\n",
       "<g id=\"node5\" class=\"node\">\n",
       "<title>random_seed</title>\n",
       "<path fill=\"none\" stroke=\"#268bd2\" stroke-width=\"2\" d=\"M352,-612C352,-612 271,-612 271,-612 265,-612 259,-606 259,-600 259,-600 259,-588 259,-588 259,-582 265,-576 271,-576 271,-576 352,-576 352,-576 358,-576 364,-582 364,-588 364,-588 364,-600 364,-600 364,-606 358,-612 352,-612\"/>\n",
       "<text text-anchor=\"start\" x=\"272\" y=\"-596.4\" font-family=\"Liberation Sans,Helvetica,Arial,sans-serif\" font-weight=\"bold\" font-size=\"12.00\" fill=\"#002b36\">random_seed</text>\n",
       "<text text-anchor=\"start\" x=\"267\" y=\"-586\" font-family=\"Liberation Sans,Helvetica,Arial,sans-serif\" font-size=\"10.00\" fill=\"#268bd2\">1 values (1 sources)</text>\n",
       "</g>\n",
       "<!-- generate_dataset -->\n",
       "<g id=\"node11\" class=\"node\">\n",
       "<title>generate_dataset</title>\n",
       "<path fill=\"none\" stroke=\"#dc322f\" stroke-width=\"2\" d=\"M357.5,-518C357.5,-518 265.5,-518 265.5,-518 259.5,-518 253.5,-512 253.5,-506 253.5,-506 253.5,-490 253.5,-490 253.5,-484 259.5,-478 265.5,-478 265.5,-478 357.5,-478 357.5,-478 363.5,-478 369.5,-484 369.5,-490 369.5,-490 369.5,-506 369.5,-506 369.5,-512 363.5,-518 357.5,-518\"/>\n",
       "<text text-anchor=\"start\" x=\"261.5\" y=\"-505.4\" font-family=\"Liberation Sans,Helvetica,Arial,sans-serif\" font-weight=\"bold\" font-size=\"12.00\" fill=\"#002b36\">generate_dataset</text>\n",
       "<text text-anchor=\"start\" x=\"261.5\" y=\"-495\" font-family=\"Liberation Sans,Helvetica,Arial,sans-serif\" font-size=\"10.00\" fill=\"#002b36\">@op:generate_dataset</text>\n",
       "<text text-anchor=\"start\" x=\"297\" y=\"-485\" font-family=\"Liberation Sans,Helvetica,Arial,sans-serif\" font-size=\"10.00\" fill=\"#dc322f\">1 calls</text>\n",
       "</g>\n",
       "<!-- random_seed&#45;&gt;generate_dataset -->\n",
       "<g id=\"edge9\" class=\"edge\">\n",
       "<title>random_seed&#45;&gt;generate_dataset</title>\n",
       "<path fill=\"none\" stroke=\"#002b36\" d=\"M311.5,-575.76C311.5,-562.5 311.5,-543.86 311.5,-528.27\"/>\n",
       "<polygon fill=\"#002b36\" stroke=\"#002b36\" points=\"315,-528.07 311.5,-518.07 308,-528.07 315,-528.07\"/>\n",
       "<text text-anchor=\"middle\" x=\"341\" y=\"-550\" font-family=\"Liberation Sans,Helvetica,Arial,sans-serif\" font-size=\"10.00\" fill=\"#002b36\">random_seed</text>\n",
       "<text text-anchor=\"middle\" x=\"341\" y=\"-539\" font-family=\"Liberation Sans,Helvetica,Arial,sans-serif\" font-size=\"10.00\" fill=\"#002b36\">(1 values)</text>\n",
       "</g>\n",
       "<!-- y_train -->\n",
       "<g id=\"node6\" class=\"node\">\n",
       "<title>y_train</title>\n",
       "<path fill=\"none\" stroke=\"#268bd2\" stroke-width=\"2\" d=\"M365.5,-420C365.5,-420 333.5,-420 333.5,-420 327.5,-420 321.5,-414 321.5,-408 321.5,-408 321.5,-396 321.5,-396 321.5,-390 327.5,-384 333.5,-384 333.5,-384 365.5,-384 365.5,-384 371.5,-384 377.5,-390 377.5,-396 377.5,-396 377.5,-408 377.5,-408 377.5,-414 371.5,-420 365.5,-420\"/>\n",
       "<text text-anchor=\"start\" x=\"329.5\" y=\"-404.4\" font-family=\"Liberation Sans,Helvetica,Arial,sans-serif\" font-weight=\"bold\" font-size=\"12.00\" fill=\"#002b36\">y_train</text>\n",
       "<text text-anchor=\"start\" x=\"331\" y=\"-394\" font-family=\"Liberation Sans,Helvetica,Arial,sans-serif\" font-size=\"10.00\" fill=\"#268bd2\">1 values</text>\n",
       "</g>\n",
       "<!-- y_train&#45;&gt;train_model -->\n",
       "<g id=\"edge6\" class=\"edge\">\n",
       "<title>y_train&#45;&gt;train_model</title>\n",
       "<path fill=\"none\" stroke=\"#002b36\" d=\"M337.52,-383.77C328.26,-371.44 314.52,-355.12 299.5,-344 291.22,-337.87 281.77,-332.45 272.3,-327.77\"/>\n",
       "<polygon fill=\"#002b36\" stroke=\"#002b36\" points=\"273.79,-324.6 263.25,-323.51 270.81,-330.94 273.79,-324.6\"/>\n",
       "<text text-anchor=\"middle\" x=\"343\" y=\"-358\" font-family=\"Liberation Sans,Helvetica,Arial,sans-serif\" font-size=\"10.00\" fill=\"#002b36\">y_train</text>\n",
       "<text text-anchor=\"middle\" x=\"343\" y=\"-347\" font-family=\"Liberation Sans,Helvetica,Arial,sans-serif\" font-size=\"10.00\" fill=\"#002b36\">(1 values)</text>\n",
       "</g>\n",
       "<!-- train_acc -->\n",
       "<g id=\"node7\" class=\"node\">\n",
       "<title>train_acc</title>\n",
       "<path fill=\"none\" stroke=\"#268bd2\" stroke-width=\"2\" d=\"M196.5,-228C196.5,-228 126.5,-228 126.5,-228 120.5,-228 114.5,-222 114.5,-216 114.5,-216 114.5,-204 114.5,-204 114.5,-198 120.5,-192 126.5,-192 126.5,-192 196.5,-192 196.5,-192 202.5,-192 208.5,-198 208.5,-204 208.5,-204 208.5,-216 208.5,-216 208.5,-222 202.5,-228 196.5,-228\"/>\n",
       "<text text-anchor=\"start\" x=\"135\" y=\"-212.4\" font-family=\"Liberation Sans,Helvetica,Arial,sans-serif\" font-weight=\"bold\" font-size=\"12.00\" fill=\"#002b36\">train_acc</text>\n",
       "<text text-anchor=\"start\" x=\"122.5\" y=\"-202\" font-family=\"Liberation Sans,Helvetica,Arial,sans-serif\" font-size=\"10.00\" fill=\"#268bd2\">4 values (1 sinks)</text>\n",
       "</g>\n",
       "<!-- eval_model -->\n",
       "<g id=\"node10\" class=\"node\">\n",
       "<title>eval_model</title>\n",
       "<path fill=\"none\" stroke=\"#dc322f\" stroke-width=\"2\" d=\"M194.5,-134C194.5,-134 128.5,-134 128.5,-134 122.5,-134 116.5,-128 116.5,-122 116.5,-122 116.5,-106 116.5,-106 116.5,-100 122.5,-94 128.5,-94 128.5,-94 194.5,-94 194.5,-94 200.5,-94 206.5,-100 206.5,-106 206.5,-106 206.5,-122 206.5,-122 206.5,-128 200.5,-134 194.5,-134\"/>\n",
       "<text text-anchor=\"start\" x=\"128.5\" y=\"-121.4\" font-family=\"Liberation Sans,Helvetica,Arial,sans-serif\" font-weight=\"bold\" font-size=\"12.00\" fill=\"#002b36\">eval_model</text>\n",
       "<text text-anchor=\"start\" x=\"124.5\" y=\"-111\" font-family=\"Liberation Sans,Helvetica,Arial,sans-serif\" font-size=\"10.00\" fill=\"#002b36\">@op:eval_model</text>\n",
       "<text text-anchor=\"start\" x=\"147\" y=\"-101\" font-family=\"Liberation Sans,Helvetica,Arial,sans-serif\" font-size=\"10.00\" fill=\"#dc322f\">3 calls</text>\n",
       "</g>\n",
       "<!-- train_acc&#45;&gt;eval_model -->\n",
       "<g id=\"edge11\" class=\"edge\">\n",
       "<title>train_acc&#45;&gt;eval_model</title>\n",
       "<path fill=\"none\" stroke=\"#002b36\" d=\"M161.5,-191.76C161.5,-178.5 161.5,-159.86 161.5,-144.27\"/>\n",
       "<polygon fill=\"#002b36\" stroke=\"#002b36\" points=\"165,-144.07 161.5,-134.07 158,-144.07 165,-144.07\"/>\n",
       "<text text-anchor=\"middle\" x=\"183\" y=\"-166\" font-family=\"Liberation Sans,Helvetica,Arial,sans-serif\" font-size=\"10.00\" fill=\"#002b36\">model</text>\n",
       "<text text-anchor=\"middle\" x=\"183\" y=\"-155\" font-family=\"Liberation Sans,Helvetica,Arial,sans-serif\" font-size=\"10.00\" fill=\"#002b36\">(3 values)</text>\n",
       "</g>\n",
       "<!-- model -->\n",
       "<g id=\"node8\" class=\"node\">\n",
       "<title>model</title>\n",
       "<path fill=\"none\" stroke=\"#268bd2\" stroke-width=\"2\" d=\"M308.5,-228C308.5,-228 238.5,-228 238.5,-228 232.5,-228 226.5,-222 226.5,-216 226.5,-216 226.5,-204 226.5,-204 226.5,-198 232.5,-192 238.5,-192 238.5,-192 308.5,-192 308.5,-192 314.5,-192 320.5,-198 320.5,-204 320.5,-204 320.5,-216 320.5,-216 320.5,-222 314.5,-228 308.5,-228\"/>\n",
       "<text text-anchor=\"start\" x=\"255.5\" y=\"-212.4\" font-family=\"Liberation Sans,Helvetica,Arial,sans-serif\" font-weight=\"bold\" font-size=\"12.00\" fill=\"#002b36\">model</text>\n",
       "<text text-anchor=\"start\" x=\"234.5\" y=\"-202\" font-family=\"Liberation Sans,Helvetica,Arial,sans-serif\" font-size=\"10.00\" fill=\"#268bd2\">4 values (4 sinks)</text>\n",
       "</g>\n",
       "<!-- train_model&#45;&gt;train_acc -->\n",
       "<g id=\"edge1\" class=\"edge\">\n",
       "<title>train_model&#45;&gt;train_acc</title>\n",
       "<path fill=\"none\" stroke=\"#002b36\" d=\"M206.17,-285.98C197.73,-271.81 186.1,-252.3 176.83,-236.74\"/>\n",
       "<polygon fill=\"#002b36\" stroke=\"#002b36\" points=\"179.81,-234.9 171.69,-228.1 173.8,-238.48 179.81,-234.9\"/>\n",
       "<text text-anchor=\"middle\" x=\"216\" y=\"-260\" font-family=\"Liberation Sans,Helvetica,Arial,sans-serif\" font-size=\"10.00\" fill=\"#002b36\">output_0</text>\n",
       "<text text-anchor=\"middle\" x=\"216\" y=\"-249\" font-family=\"Liberation Sans,Helvetica,Arial,sans-serif\" font-size=\"10.00\" fill=\"#002b36\">(4 values)</text>\n",
       "</g>\n",
       "<!-- train_model&#45;&gt;model -->\n",
       "<g id=\"edge2\" class=\"edge\">\n",
       "<title>train_model&#45;&gt;model</title>\n",
       "<path fill=\"none\" stroke=\"#002b36\" d=\"M230.19,-285.94C233.91,-280.22 237.94,-273.9 241.5,-268 247.55,-257.99 253.91,-246.8 259.36,-237\"/>\n",
       "<polygon fill=\"#002b36\" stroke=\"#002b36\" points=\"262.49,-238.57 264.26,-228.12 256.36,-235.19 262.49,-238.57\"/>\n",
       "<text text-anchor=\"middle\" x=\"275\" y=\"-260\" font-family=\"Liberation Sans,Helvetica,Arial,sans-serif\" font-size=\"10.00\" fill=\"#002b36\">output_1</text>\n",
       "<text text-anchor=\"middle\" x=\"275\" y=\"-249\" font-family=\"Liberation Sans,Helvetica,Arial,sans-serif\" font-size=\"10.00\" fill=\"#002b36\">(4 values)</text>\n",
       "</g>\n",
       "<!-- eval_model&#45;&gt;eval_acc -->\n",
       "<g id=\"edge10\" class=\"edge\">\n",
       "<title>eval_model&#45;&gt;eval_acc</title>\n",
       "<path fill=\"none\" stroke=\"#002b36\" d=\"M161.5,-93.98C161.5,-80.34 161.5,-61.75 161.5,-46.5\"/>\n",
       "<polygon fill=\"#002b36\" stroke=\"#002b36\" points=\"165,-46.1 161.5,-36.1 158,-46.1 165,-46.1\"/>\n",
       "<text text-anchor=\"middle\" x=\"183\" y=\"-68\" font-family=\"Liberation Sans,Helvetica,Arial,sans-serif\" font-size=\"10.00\" fill=\"#002b36\">output_0</text>\n",
       "<text text-anchor=\"middle\" x=\"183\" y=\"-57\" font-family=\"Liberation Sans,Helvetica,Arial,sans-serif\" font-size=\"10.00\" fill=\"#002b36\">(3 values)</text>\n",
       "</g>\n",
       "<!-- generate_dataset&#45;&gt;X_train -->\n",
       "<g id=\"edge7\" class=\"edge\">\n",
       "<title>generate_dataset&#45;&gt;X_train</title>\n",
       "<path fill=\"none\" stroke=\"#002b36\" d=\"M292.75,-478C288.38,-472.57 284.22,-466.39 281.5,-460 277.55,-450.7 275.63,-439.83 274.75,-430.09\"/>\n",
       "<polygon fill=\"#002b36\" stroke=\"#002b36\" points=\"278.24,-429.87 274.16,-420.1 271.26,-430.28 278.24,-429.87\"/>\n",
       "<text text-anchor=\"middle\" x=\"303\" y=\"-452\" font-family=\"Liberation Sans,Helvetica,Arial,sans-serif\" font-size=\"10.00\" fill=\"#002b36\">output_0</text>\n",
       "<text text-anchor=\"middle\" x=\"303\" y=\"-441\" font-family=\"Liberation Sans,Helvetica,Arial,sans-serif\" font-size=\"10.00\" fill=\"#002b36\">(1 values)</text>\n",
       "</g>\n",
       "<!-- generate_dataset&#45;&gt;y_train -->\n",
       "<g id=\"edge8\" class=\"edge\">\n",
       "<title>generate_dataset&#45;&gt;y_train</title>\n",
       "<path fill=\"none\" stroke=\"#002b36\" d=\"M319.19,-477.98C324.81,-464.07 332.51,-445.03 338.74,-429.61\"/>\n",
       "<polygon fill=\"#002b36\" stroke=\"#002b36\" points=\"342.09,-430.68 342.59,-420.1 335.6,-428.06 342.09,-430.68\"/>\n",
       "<text text-anchor=\"middle\" x=\"356\" y=\"-452\" font-family=\"Liberation Sans,Helvetica,Arial,sans-serif\" font-size=\"10.00\" fill=\"#002b36\">output_2</text>\n",
       "<text text-anchor=\"middle\" x=\"356\" y=\"-441\" font-family=\"Liberation Sans,Helvetica,Arial,sans-serif\" font-size=\"10.00\" fill=\"#002b36\">(1 values)</text>\n",
       "</g>\n",
       "</g>\n",
       "</svg>\n"
      ],
      "text/plain": [
       "<graphviz.sources.Source at 0x7168ee49f640>"
      ]
     },
     "metadata": {},
     "output_type": "display_data"
    }
   ],
   "source": [
    "cf.draw(verbose=True)"
   ]
  }
 ],
 "metadata": {
  "kernelspec": {
   "display_name": "Python 3.10.8",
   "language": "python",
   "name": "python3"
  },
  "language_info": {
   "codemirror_mode": {
    "name": "ipython",
    "version": 3
   },
   "file_extension": ".py",
   "mimetype": "text/x-python",
   "name": "python",
   "nbconvert_exporter": "python",
   "pygments_lexer": "ipython3",
   "version": "3.10.8"
  },
  "vscode": {
   "interpreter": {
    "hash": "30c0510467e0bc33a523a84a8acb20ce0730b8eb0ee254a4b0039140f094f217"
   }
  }
 },
 "nbformat": 4,
 "nbformat_minor": 2
}
