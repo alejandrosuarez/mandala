{
 "cells": [
  {
   "cell_type": "markdown",
   "metadata": {},
   "source": [
    "# Random forest ML project\n",
    "<a href=\"https://colab.research.google.com/github/amakelov/mandala/blob/master/docs_notebooks/tutorials/02_ml.ipynb\"> \n",
    "  <img src=\"https://colab.research.google.com/assets/colab-badge.svg\" alt=\"Open In Colab\"/> </a>\n",
    "\n",
    "This tutorial will show you how `mandala` works in a small random forest\n",
    "ML project. You'll see how **queriable & composable** memoization is a simple way\n",
    "to achieve the main goals of scientific data management:\n",
    "\n",
    "- **iterate in the simplest way** by just dumping more\n",
    "logic/parameters/experiments on top of the code you already ran. Memoization\n",
    "automatically takes care of loading past results, skipping over past\n",
    "computations, and merging results across compatible versions of your code.\n",
    "\n",
    "- **explore the interdependencies of all saved results incrementally and\n",
    "declaratively** with *computation frames*, generalized dataframes that operate\n",
    "over memoized computation graphs. Expand the computational history of artifacts\n",
    "backward (to what produced them) and/or forward (to experiments that used them),\n",
    "perform high-level operations over slices of storage, and generate dataframes of\n",
    "results for further analysis."
   ]
  },
  {
   "cell_type": "markdown",
   "metadata": {},
   "source": [
    "## Imports & setup"
   ]
  },
  {
   "cell_type": "code",
   "execution_count": 1,
   "metadata": {
    "execution": {
     "iopub.execute_input": "2024-07-05T13:04:20.174849Z",
     "iopub.status.busy": "2024-07-05T13:04:20.173064Z",
     "iopub.status.idle": "2024-07-05T13:04:20.192489Z",
     "shell.execute_reply": "2024-07-05T13:04:20.191643Z"
    }
   },
   "outputs": [],
   "source": [
    "# for Google Colab\n",
    "try:\n",
    "    import google.colab\n",
    "    !pip install git+https://github.com/amakelov/mandala\n",
    "except:\n",
    "    pass"
   ]
  },
  {
   "cell_type": "code",
   "execution_count": 2,
   "metadata": {
    "execution": {
     "iopub.execute_input": "2024-07-05T13:04:20.197074Z",
     "iopub.status.busy": "2024-07-05T13:04:20.196189Z",
     "iopub.status.idle": "2024-07-05T13:04:22.521175Z",
     "shell.execute_reply": "2024-07-05T13:04:22.520406Z"
    }
   },
   "outputs": [],
   "source": [
    "from typing import Tuple\n",
    "import numpy as np\n",
    "import pandas as pd\n",
    "from sklearn.datasets import load_digits\n",
    "from sklearn.model_selection import train_test_split\n",
    "from sklearn.ensemble import RandomForestClassifier\n",
    "\n",
    "# recommended way to import mandala functionality\n",
    "from mandala.imports import *\n",
    "\n",
    "np.random.seed(0)"
   ]
  },
  {
   "cell_type": "code",
   "execution_count": 3,
   "metadata": {
    "execution": {
     "iopub.execute_input": "2024-07-05T13:04:22.524557Z",
     "iopub.status.busy": "2024-07-05T13:04:22.524255Z",
     "iopub.status.idle": "2024-07-05T13:04:22.556327Z",
     "shell.execute_reply": "2024-07-05T13:04:22.555706Z"
    }
   },
   "outputs": [],
   "source": [
    "@op # memoizing decorator\n",
    "def generate_dataset(random_seed=42):\n",
    "    print(f\"Generating dataset...\")\n",
    "    X, y = load_digits(return_X_y=True)\n",
    "    X_train, X_test, y_train, y_test = train_test_split(\n",
    "        X, y, test_size=0.2, random_state=random_seed)\n",
    "    return X_train, X_test, y_train, y_test\n",
    "\n",
    "@op\n",
    "def train_model(X_train, y_train):\n",
    "    print(f\"Training model...\")\n",
    "    model = RandomForestClassifier(n_estimators=1)\n",
    "    model.fit(X_train, y_train)\n",
    "    return model, round(model.score(X_train, y_train), 2)\n",
    "\n",
    "@op\n",
    "def eval_model(model, X_test, y_test):\n",
    "    print(f\"Evaluating model...\")\n",
    "    return round(model.score(X_test, y_test), 2)"
   ]
  },
  {
   "cell_type": "markdown",
   "metadata": {},
   "source": [
    "## Running and iterating on the pipeline"
   ]
  },
  {
   "cell_type": "markdown",
   "metadata": {},
   "source": [
    "### Run the pipeline once with default settings"
   ]
  },
  {
   "cell_type": "code",
   "execution_count": 4,
   "metadata": {
    "execution": {
     "iopub.execute_input": "2024-07-05T13:04:22.558868Z",
     "iopub.status.busy": "2024-07-05T13:04:22.558654Z",
     "iopub.status.idle": "2024-07-05T13:04:22.651067Z",
     "shell.execute_reply": "2024-07-05T13:04:22.649079Z"
    }
   },
   "outputs": [
    {
     "name": "stdout",
     "output_type": "stream",
     "text": [
      "Generating dataset...\n",
      "Training model...\n",
      "Evaluating model...\n",
      "Train accuracy: AtomRef(0.91, hid='8f5...', cid='97b...'),\n",
      "Test accuracy: AtomRef(0.76, hid='57f...', cid='9e5...')\n"
     ]
    }
   ],
   "source": [
    "# in-memory storage for all results in this notebook; use `db_path` to persist\n",
    "# to disk\n",
    "storage = Storage() \n",
    "\n",
    "with storage: # block to make all @ops called inside read/write to a given storage\n",
    "    X_train, X_test, y_train, y_test = generate_dataset()\n",
    "    model, train_acc = train_model(X_train, y_train)\n",
    "    test_acc = eval_model(model, X_test, y_test)\n",
    "    print(f\"Train accuracy: {train_acc},\\nTest accuracy: {test_acc}\")"
   ]
  },
  {
   "cell_type": "markdown",
   "metadata": {},
   "source": [
    "Now all three calls are saved to the storage. `@op`s return **value \n",
    "references**, which wrap a Python object with some storage metadata needed to\n",
    "make the memoization **compose**. To get the underlying object, call\n",
    "`storage.unwrap(ref)`.\n",
    "\n",
    "Thanks to that metadata, when we re-run memoized code, the storage recognizes\n",
    "step-by-step that all work has already been done, and only loads *references* to\n",
    "the results (not the Python objects themselves):"
   ]
  },
  {
   "cell_type": "code",
   "execution_count": 5,
   "metadata": {
    "execution": {
     "iopub.execute_input": "2024-07-05T13:04:22.685935Z",
     "iopub.status.busy": "2024-07-05T13:04:22.685587Z",
     "iopub.status.idle": "2024-07-05T13:04:22.727970Z",
     "shell.execute_reply": "2024-07-05T13:04:22.727250Z"
    }
   },
   "outputs": [
    {
     "name": "stdout",
     "output_type": "stream",
     "text": [
      "Train accuracy: AtomRef(hid='8f5...', cid='97b...', in_memory=False),\n",
      "Test accuracy: AtomRef(hid='57f...', cid='9e5...', in_memory=False)\n"
     ]
    }
   ],
   "source": [
    "with storage: # same code, but now it only loads pointers to saved results\n",
    "    X_train, X_test, y_train, y_test = generate_dataset()\n",
    "    model, train_acc = train_model(X_train, y_train)\n",
    "    test_acc = eval_model(model, X_test, y_test)\n",
    "    print(f\"Train accuracy: {train_acc},\\nTest accuracy: {test_acc}\")"
   ]
  },
  {
   "cell_type": "markdown",
   "metadata": {},
   "source": [
    "### Iterate directly on top of memoized code and change memoized functions backward-compatibly\n",
    "This also makes it easy to iterate on a project by just adding stuff on top of\n",
    "already memoized code. For example, let's add a new parameter to `train_model`\n",
    "in a way compatible with our current results:"
   ]
  },
  {
   "cell_type": "code",
   "execution_count": 6,
   "metadata": {
    "execution": {
     "iopub.execute_input": "2024-07-05T13:04:22.731499Z",
     "iopub.status.busy": "2024-07-05T13:04:22.731176Z",
     "iopub.status.idle": "2024-07-05T13:04:23.272286Z",
     "shell.execute_reply": "2024-07-05T13:04:23.271708Z"
    }
   },
   "outputs": [
    {
     "name": "stdout",
     "output_type": "stream",
     "text": [
      "Running with 1 trees...\n",
      "    Train accuracy=AtomRef(hid='8f5...', cid='97b...', in_memory=False),\n",
      "    Test accuracy=AtomRef(hid='57f...', cid='9e5...', in_memory=False)\n",
      "Running with 10 trees...\n",
      "Training model...\n",
      "Evaluating model...\n",
      "    Train accuracy=AtomRef(1.0, hid='760...', cid='b67...'),\n",
      "    Test accuracy=AtomRef(0.94, hid='600...', cid='c3b...')\n",
      "Running with 100 trees...\n",
      "Training model...\n",
      "Evaluating model...\n",
      "    Train accuracy=AtomRef(1.0, hid='ab0...', cid='b67...'),\n",
      "    Test accuracy=AtomRef(0.98, hid='45f...', cid='d15...')\n"
     ]
    }
   ],
   "source": [
    "@op\n",
    "def train_model(X_train, y_train, n_estimators=NewArgDefault(1)):\n",
    "    print(f\"Training model...\")\n",
    "    model = RandomForestClassifier(n_estimators=n_estimators)\n",
    "    model.fit(X_train, y_train)\n",
    "    return model, round(model.score(X_train, y_train), 2)\n",
    "\n",
    "with storage: \n",
    "    X_train, X_test, y_train, y_test = generate_dataset()\n",
    "    for n_estimators in [1, 10, 100]:\n",
    "        print(f\"Running with {n_estimators} trees...\")\n",
    "        model, train_acc = train_model(X_train, y_train, n_estimators=n_estimators)\n",
    "        test_acc = eval_model(model, X_test, y_test)\n",
    "        print(f\"    Train accuracy={train_acc},\\n    Test accuracy={test_acc}\")"
   ]
  },
  {
   "cell_type": "markdown",
   "metadata": {},
   "source": [
    "When we add a new argument with a default value wrapped as `NewArgDefault(obj)`,\n",
    "this ensures **backward compatibility**. `mandala` will ignore this parameter\n",
    "when its value equals `obj`, and **fall back to memoized calls that don't\n",
    "provide this argument**. \n",
    "\n",
    "This is why `Training model...` got printed **only two times**, and why the\n",
    "results for `n_estimators=1` are not in memory (`in_memory=False`)."
   ]
  },
  {
   "cell_type": "markdown",
   "metadata": {},
   "source": [
    "### Pros and cons of memoization\n",
    "**Composable memoization is a powerful imperative query interface**: *if* you\n",
    "have the memoized code in front of you, **the code becomes its own storage\n",
    "interface**. You can just retrace it and get references to any intermediate\n",
    "results you want to look at. This is very flexible, because you can add control\n",
    "flow logic to restrict the \"query\". Retracing is cheap, because large objects\n",
    "are not loaded from storage, letting you narrow down your \"query\" before\n",
    "high-bandwidth interaction with the backend.\n",
    "\n",
    "However, **the full memoized code may not always be in front of you**!\n",
    "Especially in larger projects, where it's easy to lose track of what has already\n",
    "been computed, there's a need for a complementary storage interface based on\n",
    "**declarative** principles. We discuss this next."
   ]
  },
  {
   "cell_type": "markdown",
   "metadata": {},
   "source": [
    "## Querying the storage with computation frames \n",
    "In cases when memoization-based querying is not enough, `mandala` offers the\n",
    "`ComputationFrame` class. A computation frame is a generalization of the\n",
    "familiar `pandas` dataframe in two main ways:\n",
    "\n",
    "- the \"columns\" of a computation frame represent a **computational graph**, made\n",
    "of variables and operations on them.\n",
    "- the \"rows\" of a computation frame are **computations that (partially) follow\n",
    "the structure of the computational graph**.\n",
    "\n",
    "It's best to illustrate this with some examples:"
   ]
  },
  {
   "cell_type": "code",
   "execution_count": 7,
   "metadata": {
    "execution": {
     "iopub.execute_input": "2024-07-05T13:04:23.274909Z",
     "iopub.status.busy": "2024-07-05T13:04:23.274667Z",
     "iopub.status.idle": "2024-07-05T13:04:23.598226Z",
     "shell.execute_reply": "2024-07-05T13:04:23.597150Z"
    }
   },
   "outputs": [
    {
     "data": {
      "text/plain": [
       "ComputationFrame with:\n",
       "    5 variable(s) (10 unique refs)\n",
       "    1 operation(s) (3 unique calls)\n",
       "Computational graph:\n",
       "    var_0@output_0, var_1@output_1 = train_model(X_train=X_train, n_estimators=n_estimators, y_train=y_train)"
      ]
     },
     "execution_count": 7,
     "metadata": {},
     "output_type": "execute_result"
    }
   ],
   "source": [
    "cf = storage.cf(train_model); cf"
   ]
  },
  {
   "cell_type": "markdown",
   "metadata": {},
   "source": [
    "We just got a computation frame (CF) corresponding to a very simple computation\n",
    "graph: it only has one operation, `train_model`, with its associated inputs and\n",
    "outputs. **Output variables are appended with the name of the function output\n",
    "they are connected to**, in order to remove ambiguity in cases when not all\n",
    "outputs of an operation are present in the computational graph.\n",
    "\n",
    "The printout also describes the overall number of `Ref`s and `Call`s represented\n",
    "by this CF. Much like in `pandas`, we can rename the \"columns\" of our\n",
    "computation frame for readability:"
   ]
  },
  {
   "cell_type": "code",
   "execution_count": 8,
   "metadata": {
    "execution": {
     "iopub.execute_input": "2024-07-05T13:04:23.603945Z",
     "iopub.status.busy": "2024-07-05T13:04:23.603484Z",
     "iopub.status.idle": "2024-07-05T13:04:23.648036Z",
     "shell.execute_reply": "2024-07-05T13:04:23.647250Z"
    }
   },
   "outputs": [
    {
     "data": {
      "text/plain": [
       "ComputationFrame with:\n",
       "    5 variable(s) (10 unique refs)\n",
       "    1 operation(s) (3 unique calls)\n",
       "Computational graph:\n",
       "    train_acc@output_0, model@output_1 = train_model(X_train=X_train, n_estimators=n_estimators, y_train=y_train)"
      ]
     },
     "execution_count": 8,
     "metadata": {},
     "output_type": "execute_result"
    }
   ],
   "source": [
    "cf.rename(vars={'var_1': 'model', 'var_0': 'train_acc'}, inplace=True); cf"
   ]
  },
  {
   "cell_type": "markdown",
   "metadata": {},
   "source": [
    "We can directly extract a dataframe from the CF:"
   ]
  },
  {
   "cell_type": "code",
   "execution_count": 9,
   "metadata": {
    "execution": {
     "iopub.execute_input": "2024-07-05T13:04:23.651966Z",
     "iopub.status.busy": "2024-07-05T13:04:23.651712Z",
     "iopub.status.idle": "2024-07-05T13:04:23.751087Z",
     "shell.execute_reply": "2024-07-05T13:04:23.749765Z"
    }
   },
   "outputs": [
    {
     "name": "stdout",
     "output_type": "stream",
     "text": [
      "Extracting tuples from the computation graph:\n",
      "    train_acc@output_0, model@output_1 = train_model(n_estimators=n_estimators, X_train=X_train, y_train=y_train)\n",
      "Joining on columns: {'train_model', 'y_train', 'X_train', 'n_estimators'}\n",
      "|    |   n_estimators | X_train                         | y_train           | train_model                                   |   model | train_acc                               |\n",
      "|---:|---------------:|:--------------------------------|:------------------|:----------------------------------------------|--------:|:----------------------------------------|\n",
      "|  0 |            nan | [[ 0.  0.  3. ... 13.  4.  0.]  | [6 0 0 ... 2 7 1] | Call(train_model, cid='ca5...', hid='ac0...') |    0.91 | RandomForestClassifier(n_estimators=1)  |\n",
      "|    |                |  [ 0.  0.  9. ...  3.  0.  0.]  |                   |                                               |         |                                         |\n",
      "|    |                |  [ 0.  0.  0. ...  6.  0.  0.]  |                   |                                               |         |                                         |\n",
      "|    |                |  ...                            |                   |                                               |         |                                         |\n",
      "|    |                |  [ 0.  0.  9. ... 16.  2.  0.]  |                   |                                               |         |                                         |\n",
      "|    |                |  [ 0.  0.  1. ...  0.  0.  0.]  |                   |                                               |         |                                         |\n",
      "|    |                |  [ 0.  0.  1. ...  1.  0.  0.]] |                   |                                               |         |                                         |\n",
      "|  1 |             10 | [[ 0.  0.  3. ... 13.  4.  0.]  | [6 0 0 ... 2 7 1] | Call(train_model, cid='c4f...', hid='5f7...') |    1    | RandomForestClassifier(n_estimators=10) |\n",
      "|    |                |  [ 0.  0.  9. ...  3.  0.  0.]  |                   |                                               |         |                                         |\n",
      "|    |                |  [ 0.  0.  0. ...  6.  0.  0.]  |                   |                                               |         |                                         |\n",
      "|    |                |  ...                            |                   |                                               |         |                                         |\n",
      "|    |                |  [ 0.  0.  9. ... 16.  2.  0.]  |                   |                                               |         |                                         |\n",
      "|    |                |  [ 0.  0.  1. ...  0.  0.  0.]  |                   |                                               |         |                                         |\n",
      "|    |                |  [ 0.  0.  1. ...  1.  0.  0.]] |                   |                                               |         |                                         |\n",
      "|  2 |            100 | [[ 0.  0.  3. ... 13.  4.  0.]  | [6 0 0 ... 2 7 1] | Call(train_model, cid='bb3...', hid='255...') |    1    | RandomForestClassifier()                |\n",
      "|    |                |  [ 0.  0.  9. ...  3.  0.  0.]  |                   |                                               |         |                                         |\n",
      "|    |                |  [ 0.  0.  0. ...  6.  0.  0.]  |                   |                                               |         |                                         |\n",
      "|    |                |  ...                            |                   |                                               |         |                                         |\n",
      "|    |                |  [ 0.  0.  9. ... 16.  2.  0.]  |                   |                                               |         |                                         |\n",
      "|    |                |  [ 0.  0.  1. ...  0.  0.  0.]  |                   |                                               |         |                                         |\n",
      "|    |                |  [ 0.  0.  1. ...  1.  0.  0.]] |                   |                                               |         |                                         |\n"
     ]
    },
    {
     "name": "stderr",
     "output_type": "stream",
     "text": [
      "/home/amakelov/workspace/current/conda_envs/mandala_3.10/lib/python3.10/site-packages/tabulate/__init__.py:108: FutureWarning: elementwise comparison failed; returning scalar instead, but in the future will perform elementwise comparison\n",
      "  or (len(row) >= 2 and row[1] == SEPARATING_LINE)\n"
     ]
    }
   ],
   "source": [
    "print(cf.df().to_markdown())"
   ]
  },
  {
   "cell_type": "markdown",
   "metadata": {},
   "source": [
    "We get back a table, where each row corresponds to a call to `train_model`.\n",
    "Furthermore, the `Call` objects themselves (which contain metadata about the\n",
    "call) appear in the column dedicated to the single operation in the graph.\n",
    "\n",
    "We see that in the `n_estimators` column we have the values `[NaN, 10.0, 100.0]`\n",
    "(in some order), reflecting the fact that we made 1 call to `train_model` before\n",
    "introducing the `n_estimators` argument, and 2 afterwards."
   ]
  },
  {
   "cell_type": "markdown",
   "metadata": {},
   "source": [
    "### Exploring storage by expanding the CF\n",
    "This CF gets much more interesting and useful when we can look into where the\n",
    "inputs to `train_model` came from, and what the outputs were used for. We can\n",
    "add the history of particular variables by calling `expand_back` on the CF, and \n",
    "similarly `expand_forward` shows the operations that consume given variables: "
   ]
  },
  {
   "cell_type": "code",
   "execution_count": 10,
   "metadata": {
    "execution": {
     "iopub.execute_input": "2024-07-05T13:04:23.755139Z",
     "iopub.status.busy": "2024-07-05T13:04:23.754839Z",
     "iopub.status.idle": "2024-07-05T13:04:23.959903Z",
     "shell.execute_reply": "2024-07-05T13:04:23.959191Z"
    }
   },
   "outputs": [
    {
     "name": "stdout",
     "output_type": "stream",
     "text": [
      "Expanding back the inputs:\n"
     ]
    },
    {
     "data": {
      "image/svg+xml": [
       "<?xml version=\"1.0\" encoding=\"UTF-8\" standalone=\"no\"?>\n",
       "<!DOCTYPE svg PUBLIC \"-//W3C//DTD SVG 1.1//EN\"\n",
       " \"http://www.w3.org/Graphics/SVG/1.1/DTD/svg11.dtd\">\n",
       "<!-- Generated by graphviz version 2.50.0 (0)\n",
       " -->\n",
       "<!-- Title: G Pages: 1 -->\n",
       "<svg width=\"263pt\" height=\"428pt\"\n",
       " viewBox=\"0.00 0.00 262.50 428.00\" xmlns=\"http://www.w3.org/2000/svg\" xmlns:xlink=\"http://www.w3.org/1999/xlink\">\n",
       "<g id=\"graph0\" class=\"graph\" transform=\"scale(1 1) rotate(0) translate(4 424)\">\n",
       "<title>G</title>\n",
       "<polygon fill=\"white\" stroke=\"transparent\" points=\"-4,4 -4,-424 258.5,-424 258.5,4 -4,4\"/>\n",
       "<!-- model -->\n",
       "<g id=\"node1\" class=\"node\">\n",
       "<title>model</title>\n",
       "<path fill=\"none\" stroke=\"#268bd2\" d=\"M82,-36C82,-36 12,-36 12,-36 6,-36 0,-30 0,-24 0,-24 0,-12 0,-12 0,-6 6,0 12,0 12,0 82,0 82,0 88,0 94,-6 94,-12 94,-12 94,-24 94,-24 94,-30 88,-36 82,-36\"/>\n",
       "<text text-anchor=\"start\" x=\"29\" y=\"-20.4\" font-family=\"Liberation Sans,Helvetica,Arial,sans-serif\" font-weight=\"bold\" font-size=\"12.00\" fill=\"#002b36\">model</text>\n",
       "<text text-anchor=\"start\" x=\"8\" y=\"-10\" font-family=\"Liberation Sans,Helvetica,Arial,sans-serif\" font-size=\"10.00\" fill=\"#268bd2\">3 values (3 sinks)</text>\n",
       "</g>\n",
       "<!-- y_train -->\n",
       "<g id=\"node2\" class=\"node\">\n",
       "<title>y_train</title>\n",
       "<path fill=\"none\" stroke=\"#268bd2\" d=\"M44,-228C44,-228 12,-228 12,-228 6,-228 0,-222 0,-216 0,-216 0,-204 0,-204 0,-198 6,-192 12,-192 12,-192 44,-192 44,-192 50,-192 56,-198 56,-204 56,-204 56,-216 56,-216 56,-222 50,-228 44,-228\"/>\n",
       "<text text-anchor=\"start\" x=\"8\" y=\"-212.4\" font-family=\"Liberation Sans,Helvetica,Arial,sans-serif\" font-weight=\"bold\" font-size=\"12.00\" fill=\"#002b36\">y_train</text>\n",
       "<text text-anchor=\"start\" x=\"9.5\" y=\"-202\" font-family=\"Liberation Sans,Helvetica,Arial,sans-serif\" font-size=\"10.00\" fill=\"#268bd2\">1 values</text>\n",
       "</g>\n",
       "<!-- train_model -->\n",
       "<g id=\"node7\" class=\"node\">\n",
       "<title>train_model</title>\n",
       "<path fill=\"none\" stroke=\"#dc322f\" d=\"M136.5,-134C136.5,-134 69.5,-134 69.5,-134 63.5,-134 57.5,-128 57.5,-122 57.5,-122 57.5,-106 57.5,-106 57.5,-100 63.5,-94 69.5,-94 69.5,-94 136.5,-94 136.5,-94 142.5,-94 148.5,-100 148.5,-106 148.5,-106 148.5,-122 148.5,-122 148.5,-128 142.5,-134 136.5,-134\"/>\n",
       "<text text-anchor=\"start\" x=\"69\" y=\"-121.4\" font-family=\"Liberation Sans,Helvetica,Arial,sans-serif\" font-weight=\"bold\" font-size=\"12.00\" fill=\"#002b36\">train_model</text>\n",
       "<text text-anchor=\"start\" x=\"65.5\" y=\"-111\" font-family=\"Liberation Sans,Helvetica,Arial,sans-serif\" font-size=\"10.00\" fill=\"#002b36\">@op:train_model</text>\n",
       "<text text-anchor=\"start\" x=\"88.5\" y=\"-101\" font-family=\"Liberation Sans,Helvetica,Arial,sans-serif\" font-size=\"10.00\" fill=\"#dc322f\">3 calls</text>\n",
       "</g>\n",
       "<!-- y_train&#45;&gt;train_model -->\n",
       "<g id=\"edge5\" class=\"edge\">\n",
       "<title>y_train&#45;&gt;train_model</title>\n",
       "<path fill=\"none\" stroke=\"#002b36\" d=\"M34.06,-191.89C38.83,-179.92 46.29,-164 56,-152 59.1,-148.17 62.67,-144.48 66.43,-141.02\"/>\n",
       "<polygon fill=\"#002b36\" stroke=\"#002b36\" points=\"69,-143.43 74.31,-134.26 64.44,-138.11 69,-143.43\"/>\n",
       "<text text-anchor=\"middle\" x=\"77.5\" y=\"-166\" font-family=\"Liberation Sans,Helvetica,Arial,sans-serif\" font-size=\"10.00\" fill=\"#002b36\">y_train</text>\n",
       "<text text-anchor=\"middle\" x=\"77.5\" y=\"-155\" font-family=\"Liberation Sans,Helvetica,Arial,sans-serif\" font-size=\"10.00\" fill=\"#002b36\">(1 values)</text>\n",
       "</g>\n",
       "<!-- X_train -->\n",
       "<g id=\"node3\" class=\"node\">\n",
       "<title>X_train</title>\n",
       "<path fill=\"none\" stroke=\"#268bd2\" d=\"M119.5,-228C119.5,-228 86.5,-228 86.5,-228 80.5,-228 74.5,-222 74.5,-216 74.5,-216 74.5,-204 74.5,-204 74.5,-198 80.5,-192 86.5,-192 86.5,-192 119.5,-192 119.5,-192 125.5,-192 131.5,-198 131.5,-204 131.5,-204 131.5,-216 131.5,-216 131.5,-222 125.5,-228 119.5,-228\"/>\n",
       "<text text-anchor=\"start\" x=\"82.5\" y=\"-212.4\" font-family=\"Liberation Sans,Helvetica,Arial,sans-serif\" font-weight=\"bold\" font-size=\"12.00\" fill=\"#002b36\">X_train</text>\n",
       "<text text-anchor=\"start\" x=\"84.5\" y=\"-202\" font-family=\"Liberation Sans,Helvetica,Arial,sans-serif\" font-size=\"10.00\" fill=\"#268bd2\">1 values</text>\n",
       "</g>\n",
       "<!-- X_train&#45;&gt;train_model -->\n",
       "<g id=\"edge3\" class=\"edge\">\n",
       "<title>X_train&#45;&gt;train_model</title>\n",
       "<path fill=\"none\" stroke=\"#002b36\" d=\"M103,-191.76C103,-178.5 103,-159.86 103,-144.27\"/>\n",
       "<polygon fill=\"#002b36\" stroke=\"#002b36\" points=\"106.5,-144.07 103,-134.07 99.5,-144.07 106.5,-144.07\"/>\n",
       "<text text-anchor=\"middle\" x=\"124.5\" y=\"-166\" font-family=\"Liberation Sans,Helvetica,Arial,sans-serif\" font-size=\"10.00\" fill=\"#002b36\">X_train</text>\n",
       "<text text-anchor=\"middle\" x=\"124.5\" y=\"-155\" font-family=\"Liberation Sans,Helvetica,Arial,sans-serif\" font-size=\"10.00\" fill=\"#002b36\">(1 values)</text>\n",
       "</g>\n",
       "<!-- n_estimators -->\n",
       "<g id=\"node4\" class=\"node\">\n",
       "<title>n_estimators</title>\n",
       "<path fill=\"none\" stroke=\"#268bd2\" d=\"M242.5,-228C242.5,-228 161.5,-228 161.5,-228 155.5,-228 149.5,-222 149.5,-216 149.5,-216 149.5,-204 149.5,-204 149.5,-198 155.5,-192 161.5,-192 161.5,-192 242.5,-192 242.5,-192 248.5,-192 254.5,-198 254.5,-204 254.5,-204 254.5,-216 254.5,-216 254.5,-222 248.5,-228 242.5,-228\"/>\n",
       "<text text-anchor=\"start\" x=\"164.5\" y=\"-212.4\" font-family=\"Liberation Sans,Helvetica,Arial,sans-serif\" font-weight=\"bold\" font-size=\"12.00\" fill=\"#002b36\">n_estimators</text>\n",
       "<text text-anchor=\"start\" x=\"157.5\" y=\"-202\" font-family=\"Liberation Sans,Helvetica,Arial,sans-serif\" font-size=\"10.00\" fill=\"#268bd2\">2 values (2 sources)</text>\n",
       "</g>\n",
       "<!-- n_estimators&#45;&gt;train_model -->\n",
       "<g id=\"edge4\" class=\"edge\">\n",
       "<title>n_estimators&#45;&gt;train_model</title>\n",
       "<path fill=\"none\" stroke=\"#002b36\" d=\"M187.67,-191.86C177.59,-180.17 163.54,-164.59 150,-152 145.91,-148.2 141.47,-144.36 137,-140.67\"/>\n",
       "<polygon fill=\"#002b36\" stroke=\"#002b36\" points=\"138.98,-137.78 129,-134.23 134.59,-143.23 138.98,-137.78\"/>\n",
       "<text text-anchor=\"middle\" x=\"198.5\" y=\"-166\" font-family=\"Liberation Sans,Helvetica,Arial,sans-serif\" font-size=\"10.00\" fill=\"#002b36\">n_estimators</text>\n",
       "<text text-anchor=\"middle\" x=\"198.5\" y=\"-155\" font-family=\"Liberation Sans,Helvetica,Arial,sans-serif\" font-size=\"10.00\" fill=\"#002b36\">(2 values)</text>\n",
       "</g>\n",
       "<!-- train_acc -->\n",
       "<g id=\"node5\" class=\"node\">\n",
       "<title>train_acc</title>\n",
       "<path fill=\"none\" stroke=\"#268bd2\" d=\"M194,-36C194,-36 124,-36 124,-36 118,-36 112,-30 112,-24 112,-24 112,-12 112,-12 112,-6 118,0 124,0 124,0 194,0 194,0 200,0 206,-6 206,-12 206,-12 206,-24 206,-24 206,-30 200,-36 194,-36\"/>\n",
       "<text text-anchor=\"start\" x=\"132.5\" y=\"-20.4\" font-family=\"Liberation Sans,Helvetica,Arial,sans-serif\" font-weight=\"bold\" font-size=\"12.00\" fill=\"#002b36\">train_acc</text>\n",
       "<text text-anchor=\"start\" x=\"120\" y=\"-10\" font-family=\"Liberation Sans,Helvetica,Arial,sans-serif\" font-size=\"10.00\" fill=\"#268bd2\">3 values (3 sinks)</text>\n",
       "</g>\n",
       "<!-- random_seed -->\n",
       "<g id=\"node6\" class=\"node\">\n",
       "<title>random_seed</title>\n",
       "<path fill=\"none\" stroke=\"#268bd2\" d=\"M105.5,-420C105.5,-420 24.5,-420 24.5,-420 18.5,-420 12.5,-414 12.5,-408 12.5,-408 12.5,-396 12.5,-396 12.5,-390 18.5,-384 24.5,-384 24.5,-384 105.5,-384 105.5,-384 111.5,-384 117.5,-390 117.5,-396 117.5,-396 117.5,-408 117.5,-408 117.5,-414 111.5,-420 105.5,-420\"/>\n",
       "<text text-anchor=\"start\" x=\"25.5\" y=\"-404.4\" font-family=\"Liberation Sans,Helvetica,Arial,sans-serif\" font-weight=\"bold\" font-size=\"12.00\" fill=\"#002b36\">random_seed</text>\n",
       "<text text-anchor=\"start\" x=\"20.5\" y=\"-394\" font-family=\"Liberation Sans,Helvetica,Arial,sans-serif\" font-size=\"10.00\" fill=\"#268bd2\">1 values (1 sources)</text>\n",
       "</g>\n",
       "<!-- generate_dataset -->\n",
       "<g id=\"node8\" class=\"node\">\n",
       "<title>generate_dataset</title>\n",
       "<path fill=\"none\" stroke=\"#dc322f\" d=\"M111,-326C111,-326 19,-326 19,-326 13,-326 7,-320 7,-314 7,-314 7,-298 7,-298 7,-292 13,-286 19,-286 19,-286 111,-286 111,-286 117,-286 123,-292 123,-298 123,-298 123,-314 123,-314 123,-320 117,-326 111,-326\"/>\n",
       "<text text-anchor=\"start\" x=\"15\" y=\"-313.4\" font-family=\"Liberation Sans,Helvetica,Arial,sans-serif\" font-weight=\"bold\" font-size=\"12.00\" fill=\"#002b36\">generate_dataset</text>\n",
       "<text text-anchor=\"start\" x=\"15\" y=\"-303\" font-family=\"Liberation Sans,Helvetica,Arial,sans-serif\" font-size=\"10.00\" fill=\"#002b36\">@op:generate_dataset</text>\n",
       "<text text-anchor=\"start\" x=\"50.5\" y=\"-293\" font-family=\"Liberation Sans,Helvetica,Arial,sans-serif\" font-size=\"10.00\" fill=\"#dc322f\">1 calls</text>\n",
       "</g>\n",
       "<!-- random_seed&#45;&gt;generate_dataset -->\n",
       "<g id=\"edge8\" class=\"edge\">\n",
       "<title>random_seed&#45;&gt;generate_dataset</title>\n",
       "<path fill=\"none\" stroke=\"#002b36\" d=\"M65,-383.76C65,-370.5 65,-351.86 65,-336.27\"/>\n",
       "<polygon fill=\"#002b36\" stroke=\"#002b36\" points=\"68.5,-336.07 65,-326.07 61.5,-336.07 68.5,-336.07\"/>\n",
       "<text text-anchor=\"middle\" x=\"94.5\" y=\"-358\" font-family=\"Liberation Sans,Helvetica,Arial,sans-serif\" font-size=\"10.00\" fill=\"#002b36\">random_seed</text>\n",
       "<text text-anchor=\"middle\" x=\"94.5\" y=\"-347\" font-family=\"Liberation Sans,Helvetica,Arial,sans-serif\" font-size=\"10.00\" fill=\"#002b36\">(1 values)</text>\n",
       "</g>\n",
       "<!-- train_model&#45;&gt;model -->\n",
       "<g id=\"edge2\" class=\"edge\">\n",
       "<title>train_model&#45;&gt;model</title>\n",
       "<path fill=\"none\" stroke=\"#002b36\" d=\"M89.41,-93.64C85.6,-88.02 81.54,-81.83 78,-76 71.97,-66.08 65.77,-54.91 60.52,-45.1\"/>\n",
       "<polygon fill=\"#002b36\" stroke=\"#002b36\" points=\"63.58,-43.4 55.8,-36.2 57.39,-46.68 63.58,-43.4\"/>\n",
       "<text text-anchor=\"middle\" x=\"99.5\" y=\"-68\" font-family=\"Liberation Sans,Helvetica,Arial,sans-serif\" font-size=\"10.00\" fill=\"#002b36\">output_1</text>\n",
       "<text text-anchor=\"middle\" x=\"99.5\" y=\"-57\" font-family=\"Liberation Sans,Helvetica,Arial,sans-serif\" font-size=\"10.00\" fill=\"#002b36\">(3 values)</text>\n",
       "</g>\n",
       "<!-- train_model&#45;&gt;train_acc -->\n",
       "<g id=\"edge1\" class=\"edge\">\n",
       "<title>train_model&#45;&gt;train_acc</title>\n",
       "<path fill=\"none\" stroke=\"#002b36\" d=\"M114.33,-93.98C122.77,-79.81 134.4,-60.3 143.67,-44.74\"/>\n",
       "<polygon fill=\"#002b36\" stroke=\"#002b36\" points=\"146.7,-46.48 148.81,-36.1 140.69,-42.9 146.7,-46.48\"/>\n",
       "<text text-anchor=\"middle\" x=\"158.5\" y=\"-68\" font-family=\"Liberation Sans,Helvetica,Arial,sans-serif\" font-size=\"10.00\" fill=\"#002b36\">output_0</text>\n",
       "<text text-anchor=\"middle\" x=\"158.5\" y=\"-57\" font-family=\"Liberation Sans,Helvetica,Arial,sans-serif\" font-size=\"10.00\" fill=\"#002b36\">(3 values)</text>\n",
       "</g>\n",
       "<!-- generate_dataset&#45;&gt;y_train -->\n",
       "<g id=\"edge7\" class=\"edge\">\n",
       "<title>generate_dataset&#45;&gt;y_train</title>\n",
       "<path fill=\"none\" stroke=\"#002b36\" d=\"M46.25,-286C41.88,-280.57 37.72,-274.39 35,-268 31.05,-258.7 29.13,-247.83 28.25,-238.09\"/>\n",
       "<polygon fill=\"#002b36\" stroke=\"#002b36\" points=\"31.74,-237.87 27.66,-228.1 24.76,-238.28 31.74,-237.87\"/>\n",
       "<text text-anchor=\"middle\" x=\"56.5\" y=\"-260\" font-family=\"Liberation Sans,Helvetica,Arial,sans-serif\" font-size=\"10.00\" fill=\"#002b36\">output_2</text>\n",
       "<text text-anchor=\"middle\" x=\"56.5\" y=\"-249\" font-family=\"Liberation Sans,Helvetica,Arial,sans-serif\" font-size=\"10.00\" fill=\"#002b36\">(1 values)</text>\n",
       "</g>\n",
       "<!-- generate_dataset&#45;&gt;X_train -->\n",
       "<g id=\"edge6\" class=\"edge\">\n",
       "<title>generate_dataset&#45;&gt;X_train</title>\n",
       "<path fill=\"none\" stroke=\"#002b36\" d=\"M72.69,-285.98C78.31,-272.07 86.01,-253.03 92.24,-237.61\"/>\n",
       "<polygon fill=\"#002b36\" stroke=\"#002b36\" points=\"95.59,-238.68 96.09,-228.1 89.1,-236.06 95.59,-238.68\"/>\n",
       "<text text-anchor=\"middle\" x=\"109.5\" y=\"-260\" font-family=\"Liberation Sans,Helvetica,Arial,sans-serif\" font-size=\"10.00\" fill=\"#002b36\">output_0</text>\n",
       "<text text-anchor=\"middle\" x=\"109.5\" y=\"-249\" font-family=\"Liberation Sans,Helvetica,Arial,sans-serif\" font-size=\"10.00\" fill=\"#002b36\">(1 values)</text>\n",
       "</g>\n",
       "</g>\n",
       "</svg>\n"
      ],
      "text/plain": [
       "<graphviz.sources.Source at 0x7e8ad398e470>"
      ]
     },
     "metadata": {},
     "output_type": "display_data"
    },
    {
     "name": "stdout",
     "output_type": "stream",
     "text": [
      "\n",
      "Expanding forward the outputs:\n"
     ]
    },
    {
     "data": {
      "image/svg+xml": [
       "<?xml version=\"1.0\" encoding=\"UTF-8\" standalone=\"no\"?>\n",
       "<!DOCTYPE svg PUBLIC \"-//W3C//DTD SVG 1.1//EN\"\n",
       " \"http://www.w3.org/Graphics/SVG/1.1/DTD/svg11.dtd\">\n",
       "<!-- Generated by graphviz version 2.50.0 (0)\n",
       " -->\n",
       "<!-- Title: G Pages: 1 -->\n",
       "<svg width=\"359pt\" height=\"428pt\"\n",
       " viewBox=\"0.00 0.00 359.00 428.00\" xmlns=\"http://www.w3.org/2000/svg\" xmlns:xlink=\"http://www.w3.org/1999/xlink\">\n",
       "<g id=\"graph0\" class=\"graph\" transform=\"scale(1 1) rotate(0) translate(4 424)\">\n",
       "<title>G</title>\n",
       "<polygon fill=\"white\" stroke=\"transparent\" points=\"-4,4 -4,-424 355,-424 355,4 -4,4\"/>\n",
       "<!-- model -->\n",
       "<g id=\"node1\" class=\"node\">\n",
       "<title>model</title>\n",
       "<path fill=\"none\" stroke=\"#268bd2\" d=\"M177.5,-228C177.5,-228 107.5,-228 107.5,-228 101.5,-228 95.5,-222 95.5,-216 95.5,-216 95.5,-204 95.5,-204 95.5,-198 101.5,-192 107.5,-192 107.5,-192 177.5,-192 177.5,-192 183.5,-192 189.5,-198 189.5,-204 189.5,-204 189.5,-216 189.5,-216 189.5,-222 183.5,-228 177.5,-228\"/>\n",
       "<text text-anchor=\"start\" x=\"124.5\" y=\"-212.4\" font-family=\"Liberation Sans,Helvetica,Arial,sans-serif\" font-weight=\"bold\" font-size=\"12.00\" fill=\"#002b36\">model</text>\n",
       "<text text-anchor=\"start\" x=\"103.5\" y=\"-202\" font-family=\"Liberation Sans,Helvetica,Arial,sans-serif\" font-size=\"10.00\" fill=\"#268bd2\">3 values (3 sinks)</text>\n",
       "</g>\n",
       "<!-- y_train -->\n",
       "<g id=\"node2\" class=\"node\">\n",
       "<title>y_train</title>\n",
       "<path fill=\"none\" stroke=\"#268bd2\" d=\"M93,-420C93,-420 12,-420 12,-420 6,-420 0,-414 0,-408 0,-408 0,-396 0,-396 0,-390 6,-384 12,-384 12,-384 93,-384 93,-384 99,-384 105,-390 105,-396 105,-396 105,-408 105,-408 105,-414 99,-420 93,-420\"/>\n",
       "<text text-anchor=\"start\" x=\"32.5\" y=\"-404.4\" font-family=\"Liberation Sans,Helvetica,Arial,sans-serif\" font-weight=\"bold\" font-size=\"12.00\" fill=\"#002b36\">y_train</text>\n",
       "<text text-anchor=\"start\" x=\"8\" y=\"-394\" font-family=\"Liberation Sans,Helvetica,Arial,sans-serif\" font-size=\"10.00\" fill=\"#268bd2\">1 values (1 sources)</text>\n",
       "</g>\n",
       "<!-- train_model -->\n",
       "<g id=\"node8\" class=\"node\">\n",
       "<title>train_model</title>\n",
       "<path fill=\"none\" stroke=\"#dc322f\" d=\"M209,-326C209,-326 142,-326 142,-326 136,-326 130,-320 130,-314 130,-314 130,-298 130,-298 130,-292 136,-286 142,-286 142,-286 209,-286 209,-286 215,-286 221,-292 221,-298 221,-298 221,-314 221,-314 221,-320 215,-326 209,-326\"/>\n",
       "<text text-anchor=\"start\" x=\"141.5\" y=\"-313.4\" font-family=\"Liberation Sans,Helvetica,Arial,sans-serif\" font-weight=\"bold\" font-size=\"12.00\" fill=\"#002b36\">train_model</text>\n",
       "<text text-anchor=\"start\" x=\"138\" y=\"-303\" font-family=\"Liberation Sans,Helvetica,Arial,sans-serif\" font-size=\"10.00\" fill=\"#002b36\">@op:train_model</text>\n",
       "<text text-anchor=\"start\" x=\"161\" y=\"-293\" font-family=\"Liberation Sans,Helvetica,Arial,sans-serif\" font-size=\"10.00\" fill=\"#dc322f\">3 calls</text>\n",
       "</g>\n",
       "<!-- y_train&#45;&gt;train_model -->\n",
       "<g id=\"edge5\" class=\"edge\">\n",
       "<title>y_train&#45;&gt;train_model</title>\n",
       "<path fill=\"none\" stroke=\"#002b36\" d=\"M74.77,-383.98C93.6,-369.59 120.84,-348.78 142.24,-332.42\"/>\n",
       "<polygon fill=\"#002b36\" stroke=\"#002b36\" points=\"144.61,-335.02 150.43,-326.16 140.36,-329.45 144.61,-335.02\"/>\n",
       "<text text-anchor=\"middle\" x=\"147\" y=\"-358\" font-family=\"Liberation Sans,Helvetica,Arial,sans-serif\" font-size=\"10.00\" fill=\"#002b36\">y_train</text>\n",
       "<text text-anchor=\"middle\" x=\"147\" y=\"-347\" font-family=\"Liberation Sans,Helvetica,Arial,sans-serif\" font-size=\"10.00\" fill=\"#002b36\">(1 values)</text>\n",
       "</g>\n",
       "<!-- X_train -->\n",
       "<g id=\"node3\" class=\"node\">\n",
       "<title>X_train</title>\n",
       "<path fill=\"none\" stroke=\"#268bd2\" d=\"M216,-420C216,-420 135,-420 135,-420 129,-420 123,-414 123,-408 123,-408 123,-396 123,-396 123,-390 129,-384 135,-384 135,-384 216,-384 216,-384 222,-384 228,-390 228,-396 228,-396 228,-408 228,-408 228,-414 222,-420 216,-420\"/>\n",
       "<text text-anchor=\"start\" x=\"155\" y=\"-404.4\" font-family=\"Liberation Sans,Helvetica,Arial,sans-serif\" font-weight=\"bold\" font-size=\"12.00\" fill=\"#002b36\">X_train</text>\n",
       "<text text-anchor=\"start\" x=\"131\" y=\"-394\" font-family=\"Liberation Sans,Helvetica,Arial,sans-serif\" font-size=\"10.00\" fill=\"#268bd2\">1 values (1 sources)</text>\n",
       "</g>\n",
       "<!-- X_train&#45;&gt;train_model -->\n",
       "<g id=\"edge3\" class=\"edge\">\n",
       "<title>X_train&#45;&gt;train_model</title>\n",
       "<path fill=\"none\" stroke=\"#002b36\" d=\"M175.5,-383.76C175.5,-370.5 175.5,-351.86 175.5,-336.27\"/>\n",
       "<polygon fill=\"#002b36\" stroke=\"#002b36\" points=\"179,-336.07 175.5,-326.07 172,-336.07 179,-336.07\"/>\n",
       "<text text-anchor=\"middle\" x=\"197\" y=\"-358\" font-family=\"Liberation Sans,Helvetica,Arial,sans-serif\" font-size=\"10.00\" fill=\"#002b36\">X_train</text>\n",
       "<text text-anchor=\"middle\" x=\"197\" y=\"-347\" font-family=\"Liberation Sans,Helvetica,Arial,sans-serif\" font-size=\"10.00\" fill=\"#002b36\">(1 values)</text>\n",
       "</g>\n",
       "<!-- n_estimators -->\n",
       "<g id=\"node4\" class=\"node\">\n",
       "<title>n_estimators</title>\n",
       "<path fill=\"none\" stroke=\"#268bd2\" d=\"M339,-420C339,-420 258,-420 258,-420 252,-420 246,-414 246,-408 246,-408 246,-396 246,-396 246,-390 252,-384 258,-384 258,-384 339,-384 339,-384 345,-384 351,-390 351,-396 351,-396 351,-408 351,-408 351,-414 345,-420 339,-420\"/>\n",
       "<text text-anchor=\"start\" x=\"261\" y=\"-404.4\" font-family=\"Liberation Sans,Helvetica,Arial,sans-serif\" font-weight=\"bold\" font-size=\"12.00\" fill=\"#002b36\">n_estimators</text>\n",
       "<text text-anchor=\"start\" x=\"254\" y=\"-394\" font-family=\"Liberation Sans,Helvetica,Arial,sans-serif\" font-size=\"10.00\" fill=\"#268bd2\">2 values (2 sources)</text>\n",
       "</g>\n",
       "<!-- n_estimators&#45;&gt;train_model -->\n",
       "<g id=\"edge4\" class=\"edge\">\n",
       "<title>n_estimators&#45;&gt;train_model</title>\n",
       "<path fill=\"none\" stroke=\"#002b36\" d=\"M276.23,-383.98C257.4,-369.59 230.16,-348.78 208.76,-332.42\"/>\n",
       "<polygon fill=\"#002b36\" stroke=\"#002b36\" points=\"210.64,-329.45 200.57,-326.16 206.39,-335.02 210.64,-329.45\"/>\n",
       "<text text-anchor=\"middle\" x=\"280\" y=\"-358\" font-family=\"Liberation Sans,Helvetica,Arial,sans-serif\" font-size=\"10.00\" fill=\"#002b36\">n_estimators</text>\n",
       "<text text-anchor=\"middle\" x=\"280\" y=\"-347\" font-family=\"Liberation Sans,Helvetica,Arial,sans-serif\" font-size=\"10.00\" fill=\"#002b36\">(2 values)</text>\n",
       "</g>\n",
       "<!-- train_acc -->\n",
       "<g id=\"node5\" class=\"node\">\n",
       "<title>train_acc</title>\n",
       "<path fill=\"none\" stroke=\"#268bd2\" d=\"M265,-228C265,-228 220,-228 220,-228 214,-228 208,-222 208,-216 208,-216 208,-204 208,-204 208,-198 214,-192 220,-192 220,-192 265,-192 265,-192 271,-192 277,-198 277,-204 277,-204 277,-216 277,-216 277,-222 271,-228 265,-228\"/>\n",
       "<text text-anchor=\"start\" x=\"216\" y=\"-212.4\" font-family=\"Liberation Sans,Helvetica,Arial,sans-serif\" font-weight=\"bold\" font-size=\"12.00\" fill=\"#002b36\">train_acc</text>\n",
       "<text text-anchor=\"start\" x=\"224\" y=\"-202\" font-family=\"Liberation Sans,Helvetica,Arial,sans-serif\" font-size=\"10.00\" fill=\"#268bd2\">3 values</text>\n",
       "</g>\n",
       "<!-- eval_model -->\n",
       "<g id=\"node7\" class=\"node\">\n",
       "<title>eval_model</title>\n",
       "<path fill=\"none\" stroke=\"#dc322f\" d=\"M275.5,-134C275.5,-134 209.5,-134 209.5,-134 203.5,-134 197.5,-128 197.5,-122 197.5,-122 197.5,-106 197.5,-106 197.5,-100 203.5,-94 209.5,-94 209.5,-94 275.5,-94 275.5,-94 281.5,-94 287.5,-100 287.5,-106 287.5,-106 287.5,-122 287.5,-122 287.5,-128 281.5,-134 275.5,-134\"/>\n",
       "<text text-anchor=\"start\" x=\"209.5\" y=\"-121.4\" font-family=\"Liberation Sans,Helvetica,Arial,sans-serif\" font-weight=\"bold\" font-size=\"12.00\" fill=\"#002b36\">eval_model</text>\n",
       "<text text-anchor=\"start\" x=\"205.5\" y=\"-111\" font-family=\"Liberation Sans,Helvetica,Arial,sans-serif\" font-size=\"10.00\" fill=\"#002b36\">@op:eval_model</text>\n",
       "<text text-anchor=\"start\" x=\"228\" y=\"-101\" font-family=\"Liberation Sans,Helvetica,Arial,sans-serif\" font-size=\"10.00\" fill=\"#dc322f\">3 calls</text>\n",
       "</g>\n",
       "<!-- train_acc&#45;&gt;eval_model -->\n",
       "<g id=\"edge6\" class=\"edge\">\n",
       "<title>train_acc&#45;&gt;eval_model</title>\n",
       "<path fill=\"none\" stroke=\"#002b36\" d=\"M242.5,-191.76C242.5,-178.5 242.5,-159.86 242.5,-144.27\"/>\n",
       "<polygon fill=\"#002b36\" stroke=\"#002b36\" points=\"246,-144.07 242.5,-134.07 239,-144.07 246,-144.07\"/>\n",
       "<text text-anchor=\"middle\" x=\"264\" y=\"-166\" font-family=\"Liberation Sans,Helvetica,Arial,sans-serif\" font-size=\"10.00\" fill=\"#002b36\">model</text>\n",
       "<text text-anchor=\"middle\" x=\"264\" y=\"-155\" font-family=\"Liberation Sans,Helvetica,Arial,sans-serif\" font-size=\"10.00\" fill=\"#002b36\">(3 values)</text>\n",
       "</g>\n",
       "<!-- var_0 -->\n",
       "<g id=\"node6\" class=\"node\">\n",
       "<title>var_0</title>\n",
       "<path fill=\"none\" stroke=\"#268bd2\" d=\"M277.5,-36C277.5,-36 207.5,-36 207.5,-36 201.5,-36 195.5,-30 195.5,-24 195.5,-24 195.5,-12 195.5,-12 195.5,-6 201.5,0 207.5,0 207.5,0 277.5,0 277.5,0 283.5,0 289.5,-6 289.5,-12 289.5,-12 289.5,-24 289.5,-24 289.5,-30 283.5,-36 277.5,-36\"/>\n",
       "<text text-anchor=\"start\" x=\"226.5\" y=\"-20.4\" font-family=\"Liberation Sans,Helvetica,Arial,sans-serif\" font-weight=\"bold\" font-size=\"12.00\" fill=\"#002b36\">var_0</text>\n",
       "<text text-anchor=\"start\" x=\"203.5\" y=\"-10\" font-family=\"Liberation Sans,Helvetica,Arial,sans-serif\" font-size=\"10.00\" fill=\"#268bd2\">3 values (3 sinks)</text>\n",
       "</g>\n",
       "<!-- eval_model&#45;&gt;var_0 -->\n",
       "<g id=\"edge7\" class=\"edge\">\n",
       "<title>eval_model&#45;&gt;var_0</title>\n",
       "<path fill=\"none\" stroke=\"#002b36\" d=\"M242.5,-93.98C242.5,-80.34 242.5,-61.75 242.5,-46.5\"/>\n",
       "<polygon fill=\"#002b36\" stroke=\"#002b36\" points=\"246,-46.1 242.5,-36.1 239,-46.1 246,-46.1\"/>\n",
       "<text text-anchor=\"middle\" x=\"264\" y=\"-68\" font-family=\"Liberation Sans,Helvetica,Arial,sans-serif\" font-size=\"10.00\" fill=\"#002b36\">output_0</text>\n",
       "<text text-anchor=\"middle\" x=\"264\" y=\"-57\" font-family=\"Liberation Sans,Helvetica,Arial,sans-serif\" font-size=\"10.00\" fill=\"#002b36\">(3 values)</text>\n",
       "</g>\n",
       "<!-- train_model&#45;&gt;model -->\n",
       "<g id=\"edge2\" class=\"edge\">\n",
       "<title>train_model&#45;&gt;model</title>\n",
       "<path fill=\"none\" stroke=\"#002b36\" d=\"M167.42,-285.91C165.09,-280.19 162.61,-273.87 160.5,-268 156.99,-258.25 153.48,-247.43 150.5,-237.86\"/>\n",
       "<polygon fill=\"#002b36\" stroke=\"#002b36\" points=\"153.78,-236.62 147.51,-228.08 147.09,-238.66 153.78,-236.62\"/>\n",
       "<text text-anchor=\"middle\" x=\"182\" y=\"-260\" font-family=\"Liberation Sans,Helvetica,Arial,sans-serif\" font-size=\"10.00\" fill=\"#002b36\">output_1</text>\n",
       "<text text-anchor=\"middle\" x=\"182\" y=\"-249\" font-family=\"Liberation Sans,Helvetica,Arial,sans-serif\" font-size=\"10.00\" fill=\"#002b36\">(3 values)</text>\n",
       "</g>\n",
       "<!-- train_model&#45;&gt;train_acc -->\n",
       "<g id=\"edge1\" class=\"edge\">\n",
       "<title>train_model&#45;&gt;train_acc</title>\n",
       "<path fill=\"none\" stroke=\"#002b36\" d=\"M190.21,-285.93C194.55,-280.2 199.26,-273.88 203.5,-268 210.79,-257.87 218.61,-246.55 225.31,-236.68\"/>\n",
       "<polygon fill=\"#002b36\" stroke=\"#002b36\" points=\"228.4,-238.35 231.11,-228.11 222.61,-234.43 228.4,-238.35\"/>\n",
       "<text text-anchor=\"middle\" x=\"241\" y=\"-260\" font-family=\"Liberation Sans,Helvetica,Arial,sans-serif\" font-size=\"10.00\" fill=\"#002b36\">output_0</text>\n",
       "<text text-anchor=\"middle\" x=\"241\" y=\"-249\" font-family=\"Liberation Sans,Helvetica,Arial,sans-serif\" font-size=\"10.00\" fill=\"#002b36\">(3 values)</text>\n",
       "</g>\n",
       "</g>\n",
       "</svg>\n"
      ],
      "text/plain": [
       "<graphviz.sources.Source at 0x7e8ad398f2e0>"
      ]
     },
     "metadata": {},
     "output_type": "display_data"
    }
   ],
   "source": [
    "print('Expanding back the inputs:')\n",
    "cf.expand_back(varnames=[\"X_train\", \"y_train\"]).draw(verbose=True)\n",
    "print('\\nExpanding forward the outputs:')\n",
    "cf.expand_forward(varnames=['model', 'train_acc']).draw(verbose=True)"
   ]
  },
  {
   "cell_type": "markdown",
   "metadata": {},
   "source": [
    "We can perform a full expansion (until we can't go back or forward) with the\n",
    "`.expand()` method:"
   ]
  },
  {
   "cell_type": "code",
   "execution_count": 11,
   "metadata": {
    "execution": {
     "iopub.execute_input": "2024-07-05T13:04:23.962515Z",
     "iopub.status.busy": "2024-07-05T13:04:23.962273Z",
     "iopub.status.idle": "2024-07-05T13:04:24.045461Z",
     "shell.execute_reply": "2024-07-05T13:04:24.044720Z"
    }
   },
   "outputs": [
    {
     "data": {
      "text/plain": [
       "ComputationFrame with:\n",
       "    7 variable(s) (14 unique refs)\n",
       "    3 operation(s) (7 unique calls)\n",
       "Computational graph:\n",
       "    X_train@output_0, y_train@output_2 = generate_dataset(random_seed=random_seed)\n",
       "    train_acc@output_0, model@output_1 = train_model(X_train=X_train, n_estimators=n_estimators, y_train=y_train)\n",
       "    var_0@output_0 = eval_model(model=train_acc)"
      ]
     },
     "execution_count": 11,
     "metadata": {},
     "output_type": "execute_result"
    }
   ],
   "source": [
    "expanded_cf = cf.expand_all()\n",
    "expanded_cf"
   ]
  },
  {
   "cell_type": "markdown",
   "metadata": {},
   "source": [
    "Note that the extracted CF represents a \"partial\" computation graph: the\n",
    "variables for `X_test`and `y_test` were not reached during this traversal\n",
    "(though they can be added). Finally, we can (again) extract a dataframe from\n",
    "this CF:"
   ]
  },
  {
   "cell_type": "code",
   "execution_count": 12,
   "metadata": {
    "execution": {
     "iopub.execute_input": "2024-07-05T13:04:24.049138Z",
     "iopub.status.busy": "2024-07-05T13:04:24.048707Z",
     "iopub.status.idle": "2024-07-05T13:04:24.131617Z",
     "shell.execute_reply": "2024-07-05T13:04:24.130835Z"
    }
   },
   "outputs": [
    {
     "name": "stdout",
     "output_type": "stream",
     "text": [
      "Extracting tuples from the computation graph:\n",
      "    X_train@output_0, y_train@output_2 = generate_dataset(random_seed=random_seed)\n",
      "    train_acc@output_0, model@output_1 = train_model(n_estimators=n_estimators, X_train=X_train, y_train=y_train)\n",
      "    var_0@output_0 = eval_model(model=train_acc)\n",
      "Joining on columns: {'y_train', 'generate_dataset', 'X_train', 'n_estimators', 'random_seed', 'train_model'}\n",
      "|    |   n_estimators |   random_seed | generate_dataset                                   | train_model                                   |   model | train_acc                               | eval_model                                   |   var_0 |\n",
      "|---:|---------------:|--------------:|:---------------------------------------------------|:----------------------------------------------|--------:|:----------------------------------------|:---------------------------------------------|--------:|\n",
      "|  0 |            nan |            42 | Call(generate_dataset, cid='19a...', hid='c3f...') | Call(train_model, cid='ca5...', hid='ac0...') |    0.91 | RandomForestClassifier(n_estimators=1)  | Call(eval_model, cid='fa7...', hid='c5a...') |    0.76 |\n",
      "|  1 |             10 |            42 | Call(generate_dataset, cid='19a...', hid='c3f...') | Call(train_model, cid='c4f...', hid='5f7...') |    1    | RandomForestClassifier(n_estimators=10) | Call(eval_model, cid='490...', hid='ed5...') |    0.94 |\n",
      "|  2 |            100 |            42 | Call(generate_dataset, cid='19a...', hid='c3f...') | Call(train_model, cid='bb3...', hid='255...') |    1    | RandomForestClassifier()                | Call(eval_model, cid='7f4...', hid='07b...') |    0.98 |\n"
     ]
    }
   ],
   "source": [
    "df = expanded_cf.df().drop(columns=['X_train', 'y_train']) # drop to avoid a bit of clutter\n",
    "print(df.to_markdown())"
   ]
  },
  {
   "cell_type": "markdown",
   "metadata": {},
   "source": [
    "### Using computation frames for high-level operations\n",
    "Finally, we can illustrate the use of computation frames for easy declarative\n",
    "operations over the storage, even in the presence of highly heterogeneous\n",
    "experiments. To make this more interesting, let's train some more models:"
   ]
  },
  {
   "cell_type": "code",
   "execution_count": 13,
   "metadata": {
    "execution": {
     "iopub.execute_input": "2024-07-05T13:04:24.136614Z",
     "iopub.status.busy": "2024-07-05T13:04:24.135858Z",
     "iopub.status.idle": "2024-07-05T13:04:24.785338Z",
     "shell.execute_reply": "2024-07-05T13:04:24.784221Z"
    }
   },
   "outputs": [
    {
     "name": "stdout",
     "output_type": "stream",
     "text": [
      "Training model...\n",
      "Training model...\n",
      "Training model...\n",
      "Training model...\n"
     ]
    }
   ],
   "source": [
    "@op\n",
    "def train_model(X_train, y_train,\n",
    "                n_estimators=NewArgDefault(1),\n",
    "                max_depth=NewArgDefault(None) # one more backward-compatible argument\n",
    "                ):\n",
    "    print(f\"Training model...\")\n",
    "    model = RandomForestClassifier(n_estimators=n_estimators, max_depth=max_depth)\n",
    "    model.fit(X_train, y_train)\n",
    "    return model, round(model.score(X_train, y_train), 2)\n",
    "\n",
    "with storage: \n",
    "    X_train, X_test, y_train, y_test = generate_dataset()\n",
    "    for n_estimators in [10, 100]:\n",
    "        for max_depth in [1, 2]:\n",
    "            model, train_acc = train_model(X_train, y_train, n_estimators=n_estimators, max_depth=max_depth)"
   ]
  },
  {
   "cell_type": "markdown",
   "metadata": {},
   "source": [
    "We left out the call to `eval_model` on purpose to illustrate how CFs handle\n",
    "heterogeneous and partial computations. \n",
    "\n",
    "As before, we build a big CF by expanding backward and forward from\n",
    "`train_model`, and then extract a dataframe:"
   ]
  },
  {
   "cell_type": "code",
   "execution_count": 14,
   "metadata": {
    "execution": {
     "iopub.execute_input": "2024-07-05T13:04:24.788083Z",
     "iopub.status.busy": "2024-07-05T13:04:24.787830Z",
     "iopub.status.idle": "2024-07-05T13:04:25.000621Z",
     "shell.execute_reply": "2024-07-05T13:04:24.999709Z"
    }
   },
   "outputs": [
    {
     "name": "stdout",
     "output_type": "stream",
     "text": [
      "Extracting tuples from the computation graph:\n",
      "    X_train@output_0, y_train@output_2 = generate_dataset(random_seed=random_seed)\n",
      "    model@output_0, train_acc@output_1 = train_model(max_depth=max_depth, n_estimators=n_estimators, X_train=X_train, y_train=y_train)\n",
      "    eval_acc@output_0 = eval_model(model=model)\n",
      "Joining on columns: {'model', 'y_train', 'generate_dataset', 'X_train', 'n_estimators', 'random_seed', 'train_model'}\n",
      "Joining on columns: {'max_depth', 'y_train', 'generate_dataset', 'X_train', 'n_estimators', 'random_seed', 'train_model'}\n",
      "|    |   random_seed | generate_dataset                                   |   n_estimators |   max_depth | train_model                                   |   train_acc | model                                                | eval_model                                   |   eval_acc |\n",
      "|---:|--------------:|:---------------------------------------------------|---------------:|------------:|:----------------------------------------------|------------:|:-----------------------------------------------------|:---------------------------------------------|-----------:|\n",
      "|  0 |            42 | Call(generate_dataset, cid='19a...', hid='c3f...') |            nan |         nan | Call(train_model, cid='ca5...', hid='ac0...') |        0.91 | RandomForestClassifier(n_estimators=1)               | Call(eval_model, cid='fa7...', hid='c5a...') |       0.76 |\n",
      "|  1 |            42 | Call(generate_dataset, cid='19a...', hid='c3f...') |            100 |         nan | Call(train_model, cid='bb3...', hid='255...') |        1    | RandomForestClassifier()                             | Call(eval_model, cid='7f4...', hid='07b...') |       0.98 |\n",
      "|  2 |            42 | Call(generate_dataset, cid='19a...', hid='c3f...') |             10 |         nan | Call(train_model, cid='c4f...', hid='5f7...') |        1    | RandomForestClassifier(n_estimators=10)              | Call(eval_model, cid='490...', hid='ed5...') |       0.94 |\n",
      "|  3 |            42 | Call(generate_dataset, cid='19a...', hid='c3f...') |            100 |           1 | Call(train_model, cid='002...', hid='561...') |        0.7  | RandomForestClassifier(max_depth=1)                  |                                              |     nan    |\n",
      "|  4 |            42 | Call(generate_dataset, cid='19a...', hid='c3f...') |             10 |           1 | Call(train_model, cid='22f...', hid='f56...') |        0.59 | RandomForestClassifier(max_depth=1, n_estimators=10) |                                              |     nan    |\n",
      "|  5 |            42 | Call(generate_dataset, cid='19a...', hid='c3f...') |             10 |           2 | Call(train_model, cid='872...', hid='e61...') |        0.71 | RandomForestClassifier(max_depth=2, n_estimators=10) |                                              |     nan    |\n",
      "|  6 |            42 | Call(generate_dataset, cid='19a...', hid='c3f...') |            100 |           2 | Call(train_model, cid='4f4...', hid='fe1...') |        0.84 | RandomForestClassifier(max_depth=2)                  |                                              |     nan    |\n"
     ]
    }
   ],
   "source": [
    "cf = storage.cf(train_model).expand_all().rename(vars={'var_0': 'model', 'var_1': 'train_acc', 'var_2': 'eval_acc'})\n",
    "# use `lazy_vars` to avoid loading the large arrays which we don't need\n",
    "df = cf.df(lazy_vars=['X_train', 'y_train'], join_how='outer').drop(columns=['X_train', 'y_train'])\n",
    "print(df.to_markdown())"
   ]
  },
  {
   "cell_type": "markdown",
   "metadata": {},
   "source": [
    "We see that the various missing computational paths show up as `NaN`s in the \n",
    "table, under either variables (e.g. `max_depth`) or operations (e.g.\n",
    "`eval_model`). \n",
    "\n",
    "Suppose we want the models where train accuracy was above 0.8 and max depth was 2. \n",
    "We can do this with familiar dataframe operations:"
   ]
  },
  {
   "cell_type": "code",
   "execution_count": 15,
   "metadata": {
    "execution": {
     "iopub.execute_input": "2024-07-05T13:04:25.004987Z",
     "iopub.status.busy": "2024-07-05T13:04:25.004659Z",
     "iopub.status.idle": "2024-07-05T13:04:25.033499Z",
     "shell.execute_reply": "2024-07-05T13:04:25.032842Z"
    }
   },
   "outputs": [
    {
     "data": {
      "text/plain": [
       "[RandomForestClassifier(max_depth=2)]"
      ]
     },
     "execution_count": 15,
     "metadata": {},
     "output_type": "execute_result"
    }
   ],
   "source": [
    "df.query('train_acc > 0.8 and max_depth == 2').model.tolist()"
   ]
  },
  {
   "cell_type": "markdown",
   "metadata": {},
   "source": [
    "Similarly, we can manipulate storage by e.g. deleting calls based on this\n",
    "dataframe. For example, we can delete all calls to `train_model` where \n",
    "`train_acc < 0.8`:"
   ]
  },
  {
   "cell_type": "code",
   "execution_count": 16,
   "metadata": {
    "execution": {
     "iopub.execute_input": "2024-07-05T13:04:25.037518Z",
     "iopub.status.busy": "2024-07-05T13:04:25.037244Z",
     "iopub.status.idle": "2024-07-05T13:04:25.241872Z",
     "shell.execute_reply": "2024-07-05T13:04:25.241031Z"
    }
   },
   "outputs": [
    {
     "data": {
      "text/html": [
       "<pre style=\"white-space:pre;overflow-x:auto;line-height:normal;font-family:Menlo,'DejaVu Sans Mono',consolas,'Courier New',monospace\"><span style=\"color: #7fbfbf; text-decoration-color: #7fbfbf\">[16:04:25] </span><span style=\"color: #000080; text-decoration-color: #000080\">INFO    </span> Dropped <span style=\"color: #008080; text-decoration-color: #008080; font-weight: bold\">3</span> calls <span style=\"font-weight: bold\">(</span>and <span style=\"color: #008080; text-decoration-color: #008080; font-weight: bold\">3</span> from cache<span style=\"font-weight: bold\">)</span>.                                              <span style=\"color: #7f7f7f; text-decoration-color: #7f7f7f\">storage.py:346</span>\n",
       "</pre>\n"
      ],
      "text/plain": [
       "\u001b[2;36m[16:04:25]\u001b[0m\u001b[2;36m \u001b[0m\u001b[34mINFO    \u001b[0m Dropped \u001b[1;36m3\u001b[0m calls \u001b[1m(\u001b[0mand \u001b[1;36m3\u001b[0m from cache\u001b[1m)\u001b[0m.                                              \u001b[2mstorage.py\u001b[0m\u001b[2m:\u001b[0m\u001b[2m346\u001b[0m\n"
      ]
     },
     "metadata": {},
     "output_type": "display_data"
    },
    {
     "name": "stdout",
     "output_type": "stream",
     "text": [
      "Extracting tuples from the computation graph:\n",
      "    X_train@output_0, y_train@output_2 = generate_dataset(random_seed=random_seed)\n",
      "    train_acc@output_0, model@output_1 = train_model(max_depth=max_depth, n_estimators=n_estimators, X_train=X_train, y_train=y_train)\n",
      "    eval_acc@output_0 = eval_model(model=train_acc)\n",
      "Joining on columns: {'max_depth', 'y_train', 'generate_dataset', 'X_train', 'n_estimators', 'random_seed', 'train_model'}\n",
      "Joining on columns: {'y_train', 'generate_dataset', 'X_train', 'n_estimators', 'train_acc', 'random_seed', 'train_model'}\n",
      "|    |   random_seed | generate_dataset                                   |   n_estimators |   max_depth | train_model                                   |   model | train_acc                               | eval_model                                   |   eval_acc |\n",
      "|---:|--------------:|:---------------------------------------------------|---------------:|------------:|:----------------------------------------------|--------:|:----------------------------------------|:---------------------------------------------|-----------:|\n",
      "|  0 |            42 | Call(generate_dataset, cid='19a...', hid='c3f...') |            100 |           2 | Call(train_model, cid='4f4...', hid='fe1...') |    0.84 | RandomForestClassifier(max_depth=2)     |                                              |     nan    |\n",
      "|  1 |            42 | Call(generate_dataset, cid='19a...', hid='c3f...') |            nan |         nan | Call(train_model, cid='ca5...', hid='ac0...') |    0.91 | RandomForestClassifier(n_estimators=1)  | Call(eval_model, cid='fa7...', hid='c5a...') |       0.76 |\n",
      "|  2 |            42 | Call(generate_dataset, cid='19a...', hid='c3f...') |             10 |         nan | Call(train_model, cid='c4f...', hid='5f7...') |    1    | RandomForestClassifier(n_estimators=10) | Call(eval_model, cid='490...', hid='ed5...') |       0.94 |\n",
      "|  3 |            42 | Call(generate_dataset, cid='19a...', hid='c3f...') |            100 |         nan | Call(train_model, cid='bb3...', hid='255...') |    1    | RandomForestClassifier()                | Call(eval_model, cid='7f4...', hid='07b...') |       0.98 |\n"
     ]
    }
   ],
   "source": [
    "storage.drop_calls(df.query('train_acc < 0.8').train_model, delete_dependents=True)\n",
    "# now check that the dropped calls are gone\n",
    "cf = storage.cf(train_model).expand_all().rename(vars={'var_1': 'model', 'var_0': 'train_acc', 'var_2': 'eval_acc'})\n",
    "df = cf.df(lazy_vars=['X_train', 'y_train']).drop(columns=['X_train', 'y_train'])\n",
    "print(df.to_markdown())"
   ]
  },
  {
   "cell_type": "code",
   "execution_count": 17,
   "metadata": {
    "execution": {
     "iopub.execute_input": "2024-07-05T13:04:25.244584Z",
     "iopub.status.busy": "2024-07-05T13:04:25.244354Z",
     "iopub.status.idle": "2024-07-05T13:04:25.340579Z",
     "shell.execute_reply": "2024-07-05T13:04:25.339948Z"
    }
   },
   "outputs": [
    {
     "data": {
      "image/svg+xml": [
       "<?xml version=\"1.0\" encoding=\"UTF-8\" standalone=\"no\"?>\n",
       "<!DOCTYPE svg PUBLIC \"-//W3C//DTD SVG 1.1//EN\"\n",
       " \"http://www.w3.org/Graphics/SVG/1.1/DTD/svg11.dtd\">\n",
       "<!-- Generated by graphviz version 2.50.0 (0)\n",
       " -->\n",
       "<!-- Title: G Pages: 1 -->\n",
       "<svg width=\"386pt\" height=\"620pt\"\n",
       " viewBox=\"0.00 0.00 386.00 620.00\" xmlns=\"http://www.w3.org/2000/svg\" xmlns:xlink=\"http://www.w3.org/1999/xlink\">\n",
       "<g id=\"graph0\" class=\"graph\" transform=\"scale(1 1) rotate(0) translate(4 616)\">\n",
       "<title>G</title>\n",
       "<polygon fill=\"white\" stroke=\"transparent\" points=\"-4,4 -4,-616 382,-616 382,4 -4,4\"/>\n",
       "<!-- max_depth -->\n",
       "<g id=\"node1\" class=\"node\">\n",
       "<title>max_depth</title>\n",
       "<path fill=\"none\" stroke=\"#268bd2\" d=\"M93,-420C93,-420 12,-420 12,-420 6,-420 0,-414 0,-408 0,-408 0,-396 0,-396 0,-390 6,-384 12,-384 12,-384 93,-384 93,-384 99,-384 105,-390 105,-396 105,-396 105,-408 105,-408 105,-414 99,-420 93,-420\"/>\n",
       "<text text-anchor=\"start\" x=\"20.5\" y=\"-404.4\" font-family=\"Liberation Sans,Helvetica,Arial,sans-serif\" font-weight=\"bold\" font-size=\"12.00\" fill=\"#002b36\">max_depth</text>\n",
       "<text text-anchor=\"start\" x=\"8\" y=\"-394\" font-family=\"Liberation Sans,Helvetica,Arial,sans-serif\" font-size=\"10.00\" fill=\"#268bd2\">1 values (1 sources)</text>\n",
       "</g>\n",
       "<!-- train_model -->\n",
       "<g id=\"node10\" class=\"node\">\n",
       "<title>train_model</title>\n",
       "<path fill=\"none\" stroke=\"#dc322f\" d=\"M222,-326C222,-326 155,-326 155,-326 149,-326 143,-320 143,-314 143,-314 143,-298 143,-298 143,-292 149,-286 155,-286 155,-286 222,-286 222,-286 228,-286 234,-292 234,-298 234,-298 234,-314 234,-314 234,-320 228,-326 222,-326\"/>\n",
       "<text text-anchor=\"start\" x=\"154.5\" y=\"-313.4\" font-family=\"Liberation Sans,Helvetica,Arial,sans-serif\" font-weight=\"bold\" font-size=\"12.00\" fill=\"#002b36\">train_model</text>\n",
       "<text text-anchor=\"start\" x=\"151\" y=\"-303\" font-family=\"Liberation Sans,Helvetica,Arial,sans-serif\" font-size=\"10.00\" fill=\"#002b36\">@op:train_model</text>\n",
       "<text text-anchor=\"start\" x=\"174\" y=\"-293\" font-family=\"Liberation Sans,Helvetica,Arial,sans-serif\" font-size=\"10.00\" fill=\"#dc322f\">4 calls</text>\n",
       "</g>\n",
       "<!-- max_depth&#45;&gt;train_model -->\n",
       "<g id=\"edge4\" class=\"edge\">\n",
       "<title>max_depth&#45;&gt;train_model</title>\n",
       "<path fill=\"none\" stroke=\"#002b36\" d=\"M62.96,-383.84C71.28,-371.38 83.92,-354.87 98.5,-344 108.86,-336.27 121.08,-329.85 133.1,-324.66\"/>\n",
       "<polygon fill=\"#002b36\" stroke=\"#002b36\" points=\"134.74,-327.77 142.67,-320.75 132.09,-321.29 134.74,-327.77\"/>\n",
       "<text text-anchor=\"middle\" x=\"123\" y=\"-358\" font-family=\"Liberation Sans,Helvetica,Arial,sans-serif\" font-size=\"10.00\" fill=\"#002b36\">max_depth</text>\n",
       "<text text-anchor=\"middle\" x=\"123\" y=\"-347\" font-family=\"Liberation Sans,Helvetica,Arial,sans-serif\" font-size=\"10.00\" fill=\"#002b36\">(1 values)</text>\n",
       "</g>\n",
       "<!-- model -->\n",
       "<g id=\"node2\" class=\"node\">\n",
       "<title>model</title>\n",
       "<path fill=\"none\" stroke=\"#268bd2\" d=\"M190.5,-228C190.5,-228 120.5,-228 120.5,-228 114.5,-228 108.5,-222 108.5,-216 108.5,-216 108.5,-204 108.5,-204 108.5,-198 114.5,-192 120.5,-192 120.5,-192 190.5,-192 190.5,-192 196.5,-192 202.5,-198 202.5,-204 202.5,-204 202.5,-216 202.5,-216 202.5,-222 196.5,-228 190.5,-228\"/>\n",
       "<text text-anchor=\"start\" x=\"137.5\" y=\"-212.4\" font-family=\"Liberation Sans,Helvetica,Arial,sans-serif\" font-weight=\"bold\" font-size=\"12.00\" fill=\"#002b36\">model</text>\n",
       "<text text-anchor=\"start\" x=\"116.5\" y=\"-202\" font-family=\"Liberation Sans,Helvetica,Arial,sans-serif\" font-size=\"10.00\" fill=\"#268bd2\">4 values (4 sinks)</text>\n",
       "</g>\n",
       "<!-- y_train -->\n",
       "<g id=\"node3\" class=\"node\">\n",
       "<title>y_train</title>\n",
       "<path fill=\"none\" stroke=\"#268bd2\" d=\"M167.5,-420C167.5,-420 135.5,-420 135.5,-420 129.5,-420 123.5,-414 123.5,-408 123.5,-408 123.5,-396 123.5,-396 123.5,-390 129.5,-384 135.5,-384 135.5,-384 167.5,-384 167.5,-384 173.5,-384 179.5,-390 179.5,-396 179.5,-396 179.5,-408 179.5,-408 179.5,-414 173.5,-420 167.5,-420\"/>\n",
       "<text text-anchor=\"start\" x=\"131.5\" y=\"-404.4\" font-family=\"Liberation Sans,Helvetica,Arial,sans-serif\" font-weight=\"bold\" font-size=\"12.00\" fill=\"#002b36\">y_train</text>\n",
       "<text text-anchor=\"start\" x=\"133\" y=\"-394\" font-family=\"Liberation Sans,Helvetica,Arial,sans-serif\" font-size=\"10.00\" fill=\"#268bd2\">1 values</text>\n",
       "</g>\n",
       "<!-- y_train&#45;&gt;train_model -->\n",
       "<g id=\"edge6\" class=\"edge\">\n",
       "<title>y_train&#45;&gt;train_model</title>\n",
       "<path fill=\"none\" stroke=\"#002b36\" d=\"M150.73,-383.89C150.81,-372.22 152.14,-356.64 157.5,-344 158.88,-340.74 160.66,-337.54 162.65,-334.49\"/>\n",
       "<polygon fill=\"#002b36\" stroke=\"#002b36\" points=\"165.59,-336.4 168.72,-326.28 159.96,-332.23 165.59,-336.4\"/>\n",
       "<text text-anchor=\"middle\" x=\"179\" y=\"-358\" font-family=\"Liberation Sans,Helvetica,Arial,sans-serif\" font-size=\"10.00\" fill=\"#002b36\">y_train</text>\n",
       "<text text-anchor=\"middle\" x=\"179\" y=\"-347\" font-family=\"Liberation Sans,Helvetica,Arial,sans-serif\" font-size=\"10.00\" fill=\"#002b36\">(1 values)</text>\n",
       "</g>\n",
       "<!-- X_train -->\n",
       "<g id=\"node4\" class=\"node\">\n",
       "<title>X_train</title>\n",
       "<path fill=\"none\" stroke=\"#268bd2\" d=\"M243,-420C243,-420 210,-420 210,-420 204,-420 198,-414 198,-408 198,-408 198,-396 198,-396 198,-390 204,-384 210,-384 210,-384 243,-384 243,-384 249,-384 255,-390 255,-396 255,-396 255,-408 255,-408 255,-414 249,-420 243,-420\"/>\n",
       "<text text-anchor=\"start\" x=\"206\" y=\"-404.4\" font-family=\"Liberation Sans,Helvetica,Arial,sans-serif\" font-weight=\"bold\" font-size=\"12.00\" fill=\"#002b36\">X_train</text>\n",
       "<text text-anchor=\"start\" x=\"208\" y=\"-394\" font-family=\"Liberation Sans,Helvetica,Arial,sans-serif\" font-size=\"10.00\" fill=\"#268bd2\">1 values</text>\n",
       "</g>\n",
       "<!-- X_train&#45;&gt;train_model -->\n",
       "<g id=\"edge3\" class=\"edge\">\n",
       "<title>X_train&#45;&gt;train_model</title>\n",
       "<path fill=\"none\" stroke=\"#002b36\" d=\"M219.53,-383.76C214.07,-370.24 206.34,-351.14 199.97,-335.38\"/>\n",
       "<polygon fill=\"#002b36\" stroke=\"#002b36\" points=\"203.2,-334.03 196.21,-326.07 196.71,-336.65 203.2,-334.03\"/>\n",
       "<text text-anchor=\"middle\" x=\"233\" y=\"-358\" font-family=\"Liberation Sans,Helvetica,Arial,sans-serif\" font-size=\"10.00\" fill=\"#002b36\">X_train</text>\n",
       "<text text-anchor=\"middle\" x=\"233\" y=\"-347\" font-family=\"Liberation Sans,Helvetica,Arial,sans-serif\" font-size=\"10.00\" fill=\"#002b36\">(1 values)</text>\n",
       "</g>\n",
       "<!-- n_estimators -->\n",
       "<g id=\"node5\" class=\"node\">\n",
       "<title>n_estimators</title>\n",
       "<path fill=\"none\" stroke=\"#268bd2\" d=\"M366,-420C366,-420 285,-420 285,-420 279,-420 273,-414 273,-408 273,-408 273,-396 273,-396 273,-390 279,-384 285,-384 285,-384 366,-384 366,-384 372,-384 378,-390 378,-396 378,-396 378,-408 378,-408 378,-414 372,-420 366,-420\"/>\n",
       "<text text-anchor=\"start\" x=\"288\" y=\"-404.4\" font-family=\"Liberation Sans,Helvetica,Arial,sans-serif\" font-weight=\"bold\" font-size=\"12.00\" fill=\"#002b36\">n_estimators</text>\n",
       "<text text-anchor=\"start\" x=\"281\" y=\"-394\" font-family=\"Liberation Sans,Helvetica,Arial,sans-serif\" font-size=\"10.00\" fill=\"#268bd2\">2 values (2 sources)</text>\n",
       "</g>\n",
       "<!-- n_estimators&#45;&gt;train_model -->\n",
       "<g id=\"edge5\" class=\"edge\">\n",
       "<title>n_estimators&#45;&gt;train_model</title>\n",
       "<path fill=\"none\" stroke=\"#002b36\" d=\"M307.6,-383.88C294.58,-371.92 276.2,-355.99 258.5,-344 251.86,-339.5 244.61,-335.13 237.37,-331.06\"/>\n",
       "<polygon fill=\"#002b36\" stroke=\"#002b36\" points=\"238.71,-327.81 228.26,-326.09 235.36,-333.95 238.71,-327.81\"/>\n",
       "<text text-anchor=\"middle\" x=\"315\" y=\"-358\" font-family=\"Liberation Sans,Helvetica,Arial,sans-serif\" font-size=\"10.00\" fill=\"#002b36\">n_estimators</text>\n",
       "<text text-anchor=\"middle\" x=\"315\" y=\"-347\" font-family=\"Liberation Sans,Helvetica,Arial,sans-serif\" font-size=\"10.00\" fill=\"#002b36\">(2 values)</text>\n",
       "</g>\n",
       "<!-- train_acc -->\n",
       "<g id=\"node6\" class=\"node\">\n",
       "<title>train_acc</title>\n",
       "<path fill=\"none\" stroke=\"#268bd2\" d=\"M302.5,-228C302.5,-228 232.5,-228 232.5,-228 226.5,-228 220.5,-222 220.5,-216 220.5,-216 220.5,-204 220.5,-204 220.5,-198 226.5,-192 232.5,-192 232.5,-192 302.5,-192 302.5,-192 308.5,-192 314.5,-198 314.5,-204 314.5,-204 314.5,-216 314.5,-216 314.5,-222 308.5,-228 302.5,-228\"/>\n",
       "<text text-anchor=\"start\" x=\"241\" y=\"-212.4\" font-family=\"Liberation Sans,Helvetica,Arial,sans-serif\" font-weight=\"bold\" font-size=\"12.00\" fill=\"#002b36\">train_acc</text>\n",
       "<text text-anchor=\"start\" x=\"228.5\" y=\"-202\" font-family=\"Liberation Sans,Helvetica,Arial,sans-serif\" font-size=\"10.00\" fill=\"#268bd2\">4 values (1 sinks)</text>\n",
       "</g>\n",
       "<!-- eval_model -->\n",
       "<g id=\"node9\" class=\"node\">\n",
       "<title>eval_model</title>\n",
       "<path fill=\"none\" stroke=\"#dc322f\" d=\"M300.5,-134C300.5,-134 234.5,-134 234.5,-134 228.5,-134 222.5,-128 222.5,-122 222.5,-122 222.5,-106 222.5,-106 222.5,-100 228.5,-94 234.5,-94 234.5,-94 300.5,-94 300.5,-94 306.5,-94 312.5,-100 312.5,-106 312.5,-106 312.5,-122 312.5,-122 312.5,-128 306.5,-134 300.5,-134\"/>\n",
       "<text text-anchor=\"start\" x=\"234.5\" y=\"-121.4\" font-family=\"Liberation Sans,Helvetica,Arial,sans-serif\" font-weight=\"bold\" font-size=\"12.00\" fill=\"#002b36\">eval_model</text>\n",
       "<text text-anchor=\"start\" x=\"230.5\" y=\"-111\" font-family=\"Liberation Sans,Helvetica,Arial,sans-serif\" font-size=\"10.00\" fill=\"#002b36\">@op:eval_model</text>\n",
       "<text text-anchor=\"start\" x=\"253\" y=\"-101\" font-family=\"Liberation Sans,Helvetica,Arial,sans-serif\" font-size=\"10.00\" fill=\"#dc322f\">3 calls</text>\n",
       "</g>\n",
       "<!-- train_acc&#45;&gt;eval_model -->\n",
       "<g id=\"edge11\" class=\"edge\">\n",
       "<title>train_acc&#45;&gt;eval_model</title>\n",
       "<path fill=\"none\" stroke=\"#002b36\" d=\"M267.5,-191.76C267.5,-178.5 267.5,-159.86 267.5,-144.27\"/>\n",
       "<polygon fill=\"#002b36\" stroke=\"#002b36\" points=\"271,-144.07 267.5,-134.07 264,-144.07 271,-144.07\"/>\n",
       "<text text-anchor=\"middle\" x=\"289\" y=\"-166\" font-family=\"Liberation Sans,Helvetica,Arial,sans-serif\" font-size=\"10.00\" fill=\"#002b36\">model</text>\n",
       "<text text-anchor=\"middle\" x=\"289\" y=\"-155\" font-family=\"Liberation Sans,Helvetica,Arial,sans-serif\" font-size=\"10.00\" fill=\"#002b36\">(3 values)</text>\n",
       "</g>\n",
       "<!-- random_seed -->\n",
       "<g id=\"node7\" class=\"node\">\n",
       "<title>random_seed</title>\n",
       "<path fill=\"none\" stroke=\"#268bd2\" d=\"M229,-612C229,-612 148,-612 148,-612 142,-612 136,-606 136,-600 136,-600 136,-588 136,-588 136,-582 142,-576 148,-576 148,-576 229,-576 229,-576 235,-576 241,-582 241,-588 241,-588 241,-600 241,-600 241,-606 235,-612 229,-612\"/>\n",
       "<text text-anchor=\"start\" x=\"149\" y=\"-596.4\" font-family=\"Liberation Sans,Helvetica,Arial,sans-serif\" font-weight=\"bold\" font-size=\"12.00\" fill=\"#002b36\">random_seed</text>\n",
       "<text text-anchor=\"start\" x=\"144\" y=\"-586\" font-family=\"Liberation Sans,Helvetica,Arial,sans-serif\" font-size=\"10.00\" fill=\"#268bd2\">1 values (1 sources)</text>\n",
       "</g>\n",
       "<!-- generate_dataset -->\n",
       "<g id=\"node11\" class=\"node\">\n",
       "<title>generate_dataset</title>\n",
       "<path fill=\"none\" stroke=\"#dc322f\" d=\"M234.5,-518C234.5,-518 142.5,-518 142.5,-518 136.5,-518 130.5,-512 130.5,-506 130.5,-506 130.5,-490 130.5,-490 130.5,-484 136.5,-478 142.5,-478 142.5,-478 234.5,-478 234.5,-478 240.5,-478 246.5,-484 246.5,-490 246.5,-490 246.5,-506 246.5,-506 246.5,-512 240.5,-518 234.5,-518\"/>\n",
       "<text text-anchor=\"start\" x=\"138.5\" y=\"-505.4\" font-family=\"Liberation Sans,Helvetica,Arial,sans-serif\" font-weight=\"bold\" font-size=\"12.00\" fill=\"#002b36\">generate_dataset</text>\n",
       "<text text-anchor=\"start\" x=\"138.5\" y=\"-495\" font-family=\"Liberation Sans,Helvetica,Arial,sans-serif\" font-size=\"10.00\" fill=\"#002b36\">@op:generate_dataset</text>\n",
       "<text text-anchor=\"start\" x=\"174\" y=\"-485\" font-family=\"Liberation Sans,Helvetica,Arial,sans-serif\" font-size=\"10.00\" fill=\"#dc322f\">1 calls</text>\n",
       "</g>\n",
       "<!-- random_seed&#45;&gt;generate_dataset -->\n",
       "<g id=\"edge9\" class=\"edge\">\n",
       "<title>random_seed&#45;&gt;generate_dataset</title>\n",
       "<path fill=\"none\" stroke=\"#002b36\" d=\"M188.5,-575.76C188.5,-562.5 188.5,-543.86 188.5,-528.27\"/>\n",
       "<polygon fill=\"#002b36\" stroke=\"#002b36\" points=\"192,-528.07 188.5,-518.07 185,-528.07 192,-528.07\"/>\n",
       "<text text-anchor=\"middle\" x=\"218\" y=\"-550\" font-family=\"Liberation Sans,Helvetica,Arial,sans-serif\" font-size=\"10.00\" fill=\"#002b36\">random_seed</text>\n",
       "<text text-anchor=\"middle\" x=\"218\" y=\"-539\" font-family=\"Liberation Sans,Helvetica,Arial,sans-serif\" font-size=\"10.00\" fill=\"#002b36\">(1 values)</text>\n",
       "</g>\n",
       "<!-- eval_acc -->\n",
       "<g id=\"node8\" class=\"node\">\n",
       "<title>eval_acc</title>\n",
       "<path fill=\"none\" stroke=\"#268bd2\" d=\"M302.5,-36C302.5,-36 232.5,-36 232.5,-36 226.5,-36 220.5,-30 220.5,-24 220.5,-24 220.5,-12 220.5,-12 220.5,-6 226.5,0 232.5,0 232.5,0 302.5,0 302.5,0 308.5,0 314.5,-6 314.5,-12 314.5,-12 314.5,-24 314.5,-24 314.5,-30 308.5,-36 302.5,-36\"/>\n",
       "<text text-anchor=\"start\" x=\"242\" y=\"-20.4\" font-family=\"Liberation Sans,Helvetica,Arial,sans-serif\" font-weight=\"bold\" font-size=\"12.00\" fill=\"#002b36\">eval_acc</text>\n",
       "<text text-anchor=\"start\" x=\"228.5\" y=\"-10\" font-family=\"Liberation Sans,Helvetica,Arial,sans-serif\" font-size=\"10.00\" fill=\"#268bd2\">3 values (3 sinks)</text>\n",
       "</g>\n",
       "<!-- eval_model&#45;&gt;eval_acc -->\n",
       "<g id=\"edge10\" class=\"edge\">\n",
       "<title>eval_model&#45;&gt;eval_acc</title>\n",
       "<path fill=\"none\" stroke=\"#002b36\" d=\"M267.5,-93.98C267.5,-80.34 267.5,-61.75 267.5,-46.5\"/>\n",
       "<polygon fill=\"#002b36\" stroke=\"#002b36\" points=\"271,-46.1 267.5,-36.1 264,-46.1 271,-46.1\"/>\n",
       "<text text-anchor=\"middle\" x=\"289\" y=\"-68\" font-family=\"Liberation Sans,Helvetica,Arial,sans-serif\" font-size=\"10.00\" fill=\"#002b36\">output_0</text>\n",
       "<text text-anchor=\"middle\" x=\"289\" y=\"-57\" font-family=\"Liberation Sans,Helvetica,Arial,sans-serif\" font-size=\"10.00\" fill=\"#002b36\">(3 values)</text>\n",
       "</g>\n",
       "<!-- train_model&#45;&gt;model -->\n",
       "<g id=\"edge2\" class=\"edge\">\n",
       "<title>train_model&#45;&gt;model</title>\n",
       "<path fill=\"none\" stroke=\"#002b36\" d=\"M181.82,-285.98C176.94,-272.07 170.25,-253.03 164.84,-237.61\"/>\n",
       "<polygon fill=\"#002b36\" stroke=\"#002b36\" points=\"168.12,-236.37 161.5,-228.1 161.51,-238.69 168.12,-236.37\"/>\n",
       "<text text-anchor=\"middle\" x=\"196\" y=\"-260\" font-family=\"Liberation Sans,Helvetica,Arial,sans-serif\" font-size=\"10.00\" fill=\"#002b36\">output_1</text>\n",
       "<text text-anchor=\"middle\" x=\"196\" y=\"-249\" font-family=\"Liberation Sans,Helvetica,Arial,sans-serif\" font-size=\"10.00\" fill=\"#002b36\">(4 values)</text>\n",
       "</g>\n",
       "<!-- train_model&#45;&gt;train_acc -->\n",
       "<g id=\"edge1\" class=\"edge\">\n",
       "<title>train_model&#45;&gt;train_acc</title>\n",
       "<path fill=\"none\" stroke=\"#002b36\" d=\"M205.81,-285.95C210.92,-280.23 216.49,-273.91 221.5,-268 230.24,-257.7 239.65,-246.13 247.67,-236.12\"/>\n",
       "<polygon fill=\"#002b36\" stroke=\"#002b36\" points=\"250.53,-238.14 254.03,-228.14 245.06,-233.78 250.53,-238.14\"/>\n",
       "<text text-anchor=\"middle\" x=\"260\" y=\"-260\" font-family=\"Liberation Sans,Helvetica,Arial,sans-serif\" font-size=\"10.00\" fill=\"#002b36\">output_0</text>\n",
       "<text text-anchor=\"middle\" x=\"260\" y=\"-249\" font-family=\"Liberation Sans,Helvetica,Arial,sans-serif\" font-size=\"10.00\" fill=\"#002b36\">(4 values)</text>\n",
       "</g>\n",
       "<!-- generate_dataset&#45;&gt;y_train -->\n",
       "<g id=\"edge8\" class=\"edge\">\n",
       "<title>generate_dataset&#45;&gt;y_train</title>\n",
       "<path fill=\"none\" stroke=\"#002b36\" d=\"M169.75,-478C165.38,-472.57 161.22,-466.39 158.5,-460 154.55,-450.7 152.63,-439.83 151.75,-430.09\"/>\n",
       "<polygon fill=\"#002b36\" stroke=\"#002b36\" points=\"155.24,-429.87 151.16,-420.1 148.26,-430.28 155.24,-429.87\"/>\n",
       "<text text-anchor=\"middle\" x=\"180\" y=\"-452\" font-family=\"Liberation Sans,Helvetica,Arial,sans-serif\" font-size=\"10.00\" fill=\"#002b36\">output_2</text>\n",
       "<text text-anchor=\"middle\" x=\"180\" y=\"-441\" font-family=\"Liberation Sans,Helvetica,Arial,sans-serif\" font-size=\"10.00\" fill=\"#002b36\">(1 values)</text>\n",
       "</g>\n",
       "<!-- generate_dataset&#45;&gt;X_train -->\n",
       "<g id=\"edge7\" class=\"edge\">\n",
       "<title>generate_dataset&#45;&gt;X_train</title>\n",
       "<path fill=\"none\" stroke=\"#002b36\" d=\"M196.19,-477.98C201.81,-464.07 209.51,-445.03 215.74,-429.61\"/>\n",
       "<polygon fill=\"#002b36\" stroke=\"#002b36\" points=\"219.09,-430.68 219.59,-420.1 212.6,-428.06 219.09,-430.68\"/>\n",
       "<text text-anchor=\"middle\" x=\"233\" y=\"-452\" font-family=\"Liberation Sans,Helvetica,Arial,sans-serif\" font-size=\"10.00\" fill=\"#002b36\">output_0</text>\n",
       "<text text-anchor=\"middle\" x=\"233\" y=\"-441\" font-family=\"Liberation Sans,Helvetica,Arial,sans-serif\" font-size=\"10.00\" fill=\"#002b36\">(1 values)</text>\n",
       "</g>\n",
       "</g>\n",
       "</svg>\n"
      ],
      "text/plain": [
       "<graphviz.sources.Source at 0x7e8ad2927160>"
      ]
     },
     "metadata": {},
     "output_type": "display_data"
    }
   ],
   "source": [
    "cf.draw(verbose=True)"
   ]
  }
 ],
 "metadata": {
  "kernelspec": {
   "display_name": "Python 3.10.8",
   "language": "python",
   "name": "python3"
  },
  "language_info": {
   "codemirror_mode": {
    "name": "ipython",
    "version": 3
   },
   "file_extension": ".py",
   "mimetype": "text/x-python",
   "name": "python",
   "nbconvert_exporter": "python",
   "pygments_lexer": "ipython3",
   "version": "3.10.8"
  },
  "vscode": {
   "interpreter": {
    "hash": "30c0510467e0bc33a523a84a8acb20ce0730b8eb0ee254a4b0039140f094f217"
   }
  }
 },
 "nbformat": 4,
 "nbformat_minor": 2
}
